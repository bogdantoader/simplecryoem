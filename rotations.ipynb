{
 "cells": [
  {
   "cell_type": "code",
   "execution_count": 3,
   "id": "2213da2c-0b81-4709-b0f0-49d47c734927",
   "metadata": {},
   "outputs": [],
   "source": [
    "import numpy as np\n",
    "import jax\n",
    "import jax.numpy as jnp\n",
    "from  matplotlib import pyplot as plt\n",
    "\n",
    "\n",
    "\n"
   ]
  },
  {
   "cell_type": "code",
   "execution_count": 118,
   "id": "423d8e19-e060-45bd-a29f-f9689a36b1f0",
   "metadata": {},
   "outputs": [],
   "source": [
    "#TODO: think properly about inputs-outputs.\n",
    "\n",
    "def rand_volume(shape, dimensions, radius):\n",
    "    \"\"\"Gets and prints the spreadsheet's header columns\n",
    "\n",
    "    Parameters\n",
    "    ----------\n",
    "    shape : 3 x 1 array\n",
    "        Dimensions of the volume, in number of elements\n",
    "    dimensions: 3 x 1 array\n",
    "        Dimensions of the volume, in units (e.g. Angst?)\n",
    "    radius: float\n",
    "        Radius of spherical object\n",
    "\n",
    "    Returns\n",
    "    -------\n",
    "    vol\n",
    "        the volume\n",
    "    \"\"\"\n",
    "    \n",
    "    Nx, Ny, Nz = shape\n",
    "    vol = np.random.randn(Nx, Ny, Nz)\n",
    "    \n",
    "    Lx, Ly, Lz = dimensions\n",
    "    coords_x = np.linspace(-Lx/2, Lx/2, Nx)\n",
    "    coords_y = np.linspace(-Ly/2, Ly/2, Ny)\n",
    "    coords_z = np.linspace(-Lz/2, Lz/2, Nz) \n",
    "    X, Y, Z = np.meshgrid(coords_x, coords_y, coords_z)\n",
    "    \n",
    "    print(\"AA\")\n",
    "    print(X.shape)\n",
    "    \n",
    "    mask = create_mask(X, Y, Z, radius)   \n",
    "    \n",
    "    return vol * mask"
   ]
  },
  {
   "cell_type": "code",
   "execution_count": 119,
   "id": "bf0bf1c1-511e-46b6-b0a4-6f5641ca4fd9",
   "metadata": {},
   "outputs": [],
   "source": [
    "def create_mask(X,Y,Z, radius):    \n",
    "    mask = np.ones(shape)\n",
    "    r = np.sqrt(X**2 + Y**2 + Z**2)\n",
    "    print(X.shape)\n",
    "    print(radius)\n",
    "    mask[r > radius] = 0\n",
    "    return mask"
   ]
  },
  {
   "cell_type": "code",
   "execution_count": 120,
   "id": "d746a528-7c41-45c9-960c-91bec776742c",
   "metadata": {},
   "outputs": [
    {
     "name": "stdout",
     "output_type": "stream",
     "text": [
      "AA\n",
      "(11, 11, 11)\n",
      "(11, 11, 11)\n",
      "2\n"
     ]
    }
   ],
   "source": [
    "#TODO: debug all this stuff\n",
    "\n",
    "nx = 11\n",
    "shape = nx * np.ones(3, dtype=np.int32)\n",
    "length = 5\n",
    "dimensions = 5 * np.ones(3)\n",
    "radius = 2\n",
    "\n",
    "\n",
    "v = rand_volume(shape, dimensions, radius)"
   ]
  },
  {
   "cell_type": "code",
   "execution_count": 121,
   "id": "50de1a49-000f-4536-8b0f-155aafa03d5e",
   "metadata": {},
   "outputs": [
    {
     "data": {
      "text/plain": [
       "<matplotlib.image.AxesImage at 0x1376ea130>"
      ]
     },
     "execution_count": 121,
     "metadata": {},
     "output_type": "execute_result"
    },
    {
     "data": {
      "image/png": "[encoded data removed]",
      "text/plain": [
       "<Figure size 432x288 with 1 Axes>"
      ]
     },
     "metadata": {
      "needs_background": "light"
     },
     "output_type": "display_data"
    }
   ],
   "source": [
    "plt.imshow(v[:,:,5])"
   ]
  },
  {
   "cell_type": "code",
   "execution_count": 53,
   "id": "fcb9dc57-9098-43d5-9e3d-f32d9d645785",
   "metadata": {},
   "outputs": [],
   "source": [
    "xx = 5 * np.ones(3)"
   ]
  },
  {
   "cell_type": "code",
   "execution_count": 55,
   "id": "5f5f1827-3c46-4e6f-84de-55c42c87b871",
   "metadata": {},
   "outputs": [],
   "source": [
    "x,y,z = xx"
   ]
  },
  {
   "cell_type": "code",
   "execution_count": 63,
   "id": "1a26da42-fa4b-4b14-ae7a-a7ecdb8a8b8f",
   "metadata": {},
   "outputs": [],
   "source": [
    "cx = np.linspace(-2,2,5)\n",
    "cy = np.linspace(-10,10,6)"
   ]
  },
  {
   "cell_type": "code",
   "execution_count": 70,
   "id": "966fef05-d407-4f4b-86ea-ed052998245f",
   "metadata": {},
   "outputs": [],
   "source": [
    "X,Y, Z = np.meshgrid(cx,cy,cy)"
   ]
  },
  {
   "cell_type": "code",
   "execution_count": 102,
   "id": "8f65f0ce-de12-407c-939e-c4ba8d96b1aa",
   "metadata": {},
   "outputs": [],
   "source": [
    "X = np.random.randn(4,4)"
   ]
  },
  {
   "cell_type": "code",
   "execution_count": 107,
   "id": "860f6fd1-d532-4d7f-a898-8a5bad75bfa0",
   "metadata": {},
   "outputs": [],
   "source": [
    "X[X < 0.5] = 100"
   ]
  },
  {
   "cell_type": "code",
   "execution_count": 108,
   "id": "6bbbd533-a918-4fd3-8b33-14cca7b10b68",
   "metadata": {},
   "outputs": [
    {
     "data": {
      "text/plain": [
       "array([[  1.54962035, 100.        , 100.        , 100.        ],\n",
       "       [100.        , 100.        ,   0.80309254, 100.        ],\n",
       "       [100.        , 100.        , 100.        , 100.        ],\n",
       "       [100.        ,   1.01420095, 100.        , 100.        ]])"
      ]
     },
     "execution_count": 108,
     "metadata": {},
     "output_type": "execute_result"
    }
   ],
   "source": [
    "X"
   ]
  },
  {
   "cell_type": "code",
   "execution_count": null,
   "id": "68720539-83d5-449d-b677-0816bac25c18",
   "metadata": {},
   "outputs": [],
   "source": []
  }
 ],
 "metadata": {
  "kernelspec": {
   "display_name": "Python 3 (ipykernel)",
   "language": "python",
   "name": "python3"
  },
  "language_info": {
   "codemirror_mode": {
    "name": "ipython",
    "version": 3
   },
   "file_extension": ".py",
   "mimetype": "text/x-python",
   "name": "python",
   "nbconvert_exporter": "python",
   "pygments_lexer": "ipython3",
   "version": "3.9.7"
  }
 },
 "nbformat": 4,
 "nbformat_minor": 5
}
