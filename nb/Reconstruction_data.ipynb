{
 "cells": [
  {
   "cell_type": "markdown",
   "id": "2159f1b6-0294-4f90-90a3-179163a7696b",
   "metadata": {},
   "source": [
    "# Reconstruction with real data"
   ]
  },
  {
   "cell_type": "code",
   "execution_count": 1,
   "id": "249cb249-f43e-4cc4-88c0-fa2ec6131c81",
   "metadata": {},
   "outputs": [],
   "source": [
    "%load_ext autoreload\n",
    "%autoreload 2\n",
    "import site\n",
    "import sys\n",
    "import time\n",
    "import pickle\n",
    "site.addsitedir('..')\n",
    "from jax.config import config\n",
    "\n",
    "config.update(\"jax_enable_x64\", True)"
   ]
  },
  {
   "cell_type": "code",
   "execution_count": 2,
   "id": "ef60f1df-7cc5-42bc-afbd-23704b6ad46c",
   "metadata": {},
   "outputs": [],
   "source": [
    "import numpy as np\n",
    "import jax.numpy as jnp\n",
    "from  matplotlib import pyplot as plt\n",
    "from src.utils import *\n",
    "from src.projection import *\n",
    "from src.interpolate import *\n",
    "from src.jaxops import *\n",
    "from src.proposals import CryoProposals\n",
    "from src.fsc import *\n",
    "from src.algorithm import *\n",
    "from src.ab_initio import *\n",
    "from src.datasets import *\n",
    "from src.residual import get_volume_residual\n",
    "from src.noise import estimate_noise, average_radially, estimate_noise_radial\n",
    "from src.preprocess import *\n",
    "\n",
    "import jax\n",
    "import mrcfile\n",
    "from jax.scipy.special import gammaln\n",
    "\n",
    "plt.rcParams[\"figure.figsize\"]=6,6"
   ]
  },
  {
   "cell_type": "markdown",
   "id": "df9a7930-a14d-44b0-a010-1aa34701159b",
   "metadata": {},
   "source": [
    "### Read the data"
   ]
  },
  {
   "cell_type": "code",
   "execution_count": 1,
   "id": "1a2477a6-bdf0-4cbf-a05f-0a40507f67fe",
   "metadata": {},
   "outputs": [],
   "source": [
    "# Out directory to save outputs\n",
    "out_dir = '../data/out_dev/'"
   ]
  },
  {
   "cell_type": "code",
   "execution_count": 4,
   "id": "0148b4e0-c03b-42c9-969d-329e330149d1",
   "metadata": {},
   "outputs": [
    {
     "name": "stderr",
     "output_type": "stream",
     "text": [
      "/home/bt387/project/2021_CryoEMSolver7/external/pyem/pyem/star.py:531: FutureWarning: Columnar iteration over characters will be deprecated in future releases.\n",
      "  df[UCSF.IMAGE_INDEX], df[UCSF.IMAGE_PATH] = \\\n",
      "/home/bt387/project/2021_CryoEMSolver7/external/pyem/pyem/star.py:539: FutureWarning: Columnar iteration over characters will be deprecated in future releases.\n",
      "  df[UCSF.IMAGE_ORIGINAL_INDEX], df[UCSF.IMAGE_ORIGINAL_PATH] = \\\n"
     ]
    },
    {
     "name": "stdout",
     "output_type": "stream",
     "text": [
      "load_data: number of partcles:  105519\n",
      "load_data: data loaded, time:  69.83234739303589\n"
     ]
    }
   ],
   "source": [
    "#data_dir = \"/project/lederman/rrl28/share/cryoem_data/v3/CaltechWeaver/\"\n",
    "#star_file = \"job550_particles_subsamp5_10000_30_40_2.star\"\n",
    "#star_file = \"job550_particles_roy40k.star\"\n",
    "#star_file = \"job550_particles.star\"\n",
    "\n",
    "\n",
    "#data_dir = \"/project/lederman/rrl28/share/cryoem_data/v3/Frost/eIF2B/job042/\"\n",
    "#star_file = \"AUG11_99Kparticles_updatedGCTF.star\"\n",
    "\n",
    "#data_dir = \"/project/lederman/rrl28/share/CryoEMDataSmall/RelionSample/relion30_tutorial_precalculated_results/\"\n",
    "#star_file = \"Extract/job020/particles.star\"\n",
    "\n",
    "#data_dir = \"/gpfs/gibbs/pi/lederman/dge5/RELION_TUTORIAL_SET/PrecalculatedResults/\"\n",
    "#star_file = \"/Extract/job018/particles.star\"\n",
    "\n",
    "#data_dir = \"/gpfs/gibbs/pi/lederman/3DFSC_data/untilted/Particle-Stack/\"\n",
    "#star_file = \"T40_HA_130K-Equalized_run-data.star\"\n",
    "#star_file = \"T00_HA_130K-Equalized_run-data.star\"\n",
    "\n",
    "#data_dir = \"/gpfs/gibbs/pi/lederman/EMPIAR-10028/\"\n",
    "#star_file = \"shiny_2sets.star\"\n",
    "\n",
    "\n",
    "data_dir = \"/gpfs/gibbs/pi/lederman/dge5/CrossValidationCryodrgnSet/\"\n",
    "star_file = \"particles_crossvalidation_train_1.star\"\n",
    "#star_file = \"particles_subset_5k.star\"\n",
    "\n",
    "#data_dir = \"/gpfs/gibbs/pi/lederman/dge5/CrossValidationCryodrgnSet/\"\n",
    "#star_file = \"Projections/crossvalidation1_sub/crossvalidation1_sub.star\"\n",
    "\n",
    "#data_dir = \"/gpfs/gibbs/pi/lederman/dge5/SimulatedData/\"\n",
    "#star_file = \"random_particles_128.star\"\n",
    "\n",
    "\n",
    "#data_dir = \"/gpfs/gibbs/pi/lederman/EMPIAR-10028/\"\n",
    "#star_file = \"shiny_2sets.star\"\n",
    "#star_file = \"particles2.star\"\n",
    "\n",
    "#dataset_name = \"exp_data\"\n",
    "#data_dir = \"/gpfs/gibbs/pi/lederman/bt387/exp_data/\"\n",
    "#star_file = \"particles1.star\"\n",
    "\n",
    "#dataset_name = \"cryodrgn_noisy\"\n",
    "#data_dir = f\"/gpfs/loomis/project/lederman/bt387/simple_cryoem/simulated_dataset20k/{dataset_name}/\"\n",
    "#star_file = \"particles.star\"\n",
    "\n",
    "params0, imgs0 = load_data(data_dir, star_file, load_imgs = True, fourier = False)"
   ]
  },
  {
   "cell_type": "markdown",
   "id": "7222ba64-b775-48ea-87ad-167d54920dfe",
   "metadata": {},
   "source": [
    "### Preprocess the images\n",
    "\n",
    "i.e. downsample, shuffle, compute grid, mask, estimate noise."
   ]
  },
  {
   "cell_type": "code",
   "execution_count": 5,
   "id": "a001a6eb-1637-467c-9a4a-551744530e90",
   "metadata": {},
   "outputs": [
    {
     "name": "stdout",
     "output_type": "stream",
     "text": [
      "imgs0.shape = (105519, 320, 320)\n",
      "pixel_size0.shape = (105519,)\n",
      "angles0.shape = (105519, 3)\n",
      "shifts0.shape = (105519, 2)\n",
      "ctf_params0.shape = (105519, 9)\n",
      "Shuffle = False\n",
      "N = 20000\n",
      "Taking FFT of the images...done. Time: 53.967307567596436 seconds.\n",
      "x_grid = [2.38549618e-03 3.20000000e+02]\n",
      "new x_grid = [2.38549618e-03 6.40000000e+01]\n",
      "Vectorised imgs_f.shape = (20000, 4096)\n",
      "Mask radius = 0.0739503816793893\n",
      "Estimating the noise using the 48 x 48 corners of the first 1000 images.\n",
      "Estimating pixel-wise noise...done.\n",
      "Averaging radially...done.\n",
      "Noise estimation done. Time: 10.584393978118896 seconds.\n"
     ]
    }
   ],
   "source": [
    "nx0 = imgs0.shape[1]\n",
    "nx_crop = 64\n",
    "N = 20000\n",
    "N_px_noise = 48\n",
    "N_imgs_noise=1000\n",
    "\n",
    "processed_data = preprocess(imgs0, params0, out_dir, nx_crop = nx_crop, N = N, N_px_noise = N_px_noise, N_imgs_noise = N_imgs_noise)\n",
    "\n",
    "imgs_f = processed_data[\"imgs_f\"]\n",
    "pixel_size = processed_data[\"pixel_size\"]\n",
    "angles = processed_data[\"angles\"]\n",
    "shifts = processed_data[\"shifts\"]\n",
    "ctf_params = processed_data[\"ctf_params\"]\n",
    "idxrand = processed_data[\"idxrand\"]\n",
    "nx = processed_data[\"nx\"]\n",
    "x_grid = processed_data[\"x_grid\"]\n",
    "mask = processed_data[\"mask\"]\n",
    "sigma_noise = processed_data[\"sigma_noise\"]\n",
    "N = imgs_f.shape[0]"
   ]
  },
  {
   "cell_type": "markdown",
   "id": "20ab9a00-5fac-427d-b73c-818217ac8ad4",
   "metadata": {},
   "source": [
    "### Plot a few things"
   ]
  },
  {
   "cell_type": "code",
   "execution_count": 6,
   "id": "fe92c2f2-6cb9-413f-a9a8-9f15b5cd6b08",
   "metadata": {},
   "outputs": [
    {
     "data": {
      "text/plain": [
       "<matplotlib.colorbar.Colorbar at 0x2ba300264910>"
      ]
     },
     "execution_count": 6,
     "metadata": {},
     "output_type": "execute_result"
    },
    {
     "data": {
      "image/png": "[encoded data removed]",
      "text/plain": [
       "<Figure size 432x432 with 2 Axes>"
      ]
     },
     "metadata": {
      "needs_background": "light"
     },
     "output_type": "display_data"
    }
   ],
   "source": [
    "plt.imshow(imgs0[1]); plt.colorbar()"
   ]
  },
  {
   "cell_type": "code",
   "execution_count": 7,
   "id": "6024c176-65c5-43e3-85d4-bb5da7ddff5c",
   "metadata": {},
   "outputs": [
    {
     "data": {
      "image/png": "[encoded data removed]",
      "text/plain": [
       "<Figure size 432x432 with 1 Axes>"
      ]
     },
     "metadata": {
      "needs_background": "light"
     },
     "output_type": "display_data"
    }
   ],
   "source": [
    "plot_angles(angles[np.random.permutation(imgs_f.shape[0]-1)[:1000]])"
   ]
  },
  {
   "cell_type": "code",
   "execution_count": 8,
   "id": "fedb8752-858d-4cdc-9646-3d5806df9937",
   "metadata": {},
   "outputs": [
    {
     "data": {
      "text/plain": [
       "<matplotlib.colorbar.Colorbar at 0x2ba300422920>"
      ]
     },
     "execution_count": 8,
     "metadata": {},
     "output_type": "execute_result"
    },
    {
     "data": {
      "image/png": "[encoded data removed]",
      "text/plain": [
       "<Figure size 432x432 with 2 Axes>"
      ]
     },
     "metadata": {
      "needs_background": "light"
     },
     "output_type": "display_data"
    }
   ],
   "source": [
    "plt.imshow(np.abs(jnp.fft.fftshift(imgs_f[103].reshape([nx,nx])))); plt.colorbar()"
   ]
  },
  {
   "cell_type": "code",
   "execution_count": 9,
   "id": "8932c0fd-1bfb-4935-b7b1-086fddb5b4d3",
   "metadata": {},
   "outputs": [
    {
     "data": {
      "text/plain": [
       "<matplotlib.colorbar.Colorbar at 0x2ba301e44a30>"
      ]
     },
     "execution_count": 9,
     "metadata": {},
     "output_type": "execute_result"
    },
    {
     "data": {
      "image/png": "[encoded data removed]",
      "text/plain": [
       "<Figure size 432x432 with 2 Axes>"
      ]
     },
     "metadata": {
      "needs_background": "light"
     },
     "output_type": "display_data"
    }
   ],
   "source": [
    "mip_z(jnp.fft.fftshift(mask)); plt.colorbar()"
   ]
  },
  {
   "cell_type": "code",
   "execution_count": 10,
   "id": "c4b46e10-590d-42d0-8a83-b3e247a64e94",
   "metadata": {},
   "outputs": [
    {
     "data": {
      "text/plain": [
       "Text(0.5, 1.0, 'Estimated noise')"
      ]
     },
     "execution_count": 10,
     "metadata": {},
     "output_type": "execute_result"
    },
    {
     "data": {
      "image/png": "[encoded data removed]",
      "text/plain": [
       "<Figure size 432x432 with 2 Axes>"
      ]
     },
     "metadata": {
      "needs_background": "light"
     },
     "output_type": "display_data"
    }
   ],
   "source": [
    "plt.imshow(jnp.fft.fftshift(sigma_noise.reshape([nx,nx]))); plt.colorbar()\n",
    "plt.title('Estimated noise')"
   ]
  },
  {
   "cell_type": "markdown",
   "id": "33d11514-07e4-4a41-b53f-e269e9110af0",
   "metadata": {},
   "source": [
    "#### Delete the real images\n",
    "Since we only work with the Fourier ones from now on."
   ]
  },
  {
   "cell_type": "code",
   "execution_count": 11,
   "id": "e189f7d3-5e47-4d5c-8bb3-069edcfde086",
   "metadata": {},
   "outputs": [],
   "source": [
    "del(imgs0)\n",
    "#del(imgs)"
   ]
  },
  {
   "cell_type": "markdown",
   "id": "b8a77554-0897-48b5-abcd-75ec96ed3fa4",
   "metadata": {},
   "source": [
    "### Ab initio"
   ]
  },
  {
   "cell_type": "code",
   "execution_count": 13,
   "id": "b0cff4dc-f587-408e-84cb-3f880835dfaa",
   "metadata": {},
   "outputs": [],
   "source": [
    "# Split in batches, note that imgs_batch stays on the CPU (i.e. np not jnp)\n",
    "N_batch = 1\n",
    "imgs_batch = np.array(np.array_split(imgs_f, N_batch))\n",
    "angles_batch = jnp.array(np.array_split(angles, N_batch))\n",
    "shifts_batch = jnp.array(np.array_split(shifts, N_batch))\n",
    "ctf_params_batch = jnp.array(np.array_split(ctf_params, N_batch))"
   ]
  },
  {
   "cell_type": "code",
   "execution_count": 14,
   "id": "d42811b5-42e0-4b3e-be81-a9d89e5540f1",
   "metadata": {},
   "outputs": [
    {
     "name": "stdout",
     "output_type": "stream",
     "text": [
      "Fourier radius: 0.07633587786259541\n",
      "Minibatch factor: 100\n",
      "Starting radius: 0.01\n",
      "Frequency marching step size: 0.004131800590574611\n",
      "Number of frequency marching steps: 17\n",
      "Number of iterations: 136\n",
      "B = 0\n",
      "B_list = [0. 0. 0. 0.]\n",
      "------------------------------------\n",
      "\n",
      "Initialitsing volume\n",
      "  sgd epoch 0: mean gradient = 6.621174807134438e-08\n",
      "  sgd epoch 10: mean gradient = 1.010263698376152e-07\n",
      "  sgd epoch 20: mean gradient = 3.736540220745977e-08\n",
      "  sgd epoch 30: mean gradient = 1.0146054231794809e-07\n",
      "  sgd epoch 40: mean gradient = 7.890536508313523e-08\n",
      "  sgd epoch 50: mean gradient = 3.783889980309881e-08\n",
      "  sgd epoch 60: mean gradient = 8.657673272442591e-08\n",
      "  sgd epoch 70: mean gradient = 7.663693677512115e-08\n",
      "  sgd epoch 80: mean gradient = 8.505470549531411e-08\n",
      "  sgd epoch 90: mean gradient = 4.973634183560681e-08\n",
      "  sgd epoch 100: mean gradient = 8.766141497319195e-08\n",
      "  sgd epoch 110: mean gradient = 9.399506692669027e-08\n",
      "  sgd epoch 120: mean gradient = 1.0999845095968134e-07\n",
      "  sgd epoch 130: mean gradient = 6.892204683760176e-08\n"
     ]
    },
    {
     "ename": "KeyboardInterrupt",
     "evalue": "",
     "output_type": "error",
     "traceback": [
      "\u001b[0;31m---------------------------------------------------------------------------\u001b[0m",
      "\u001b[0;31mKeyboardInterrupt\u001b[0m                         Traceback (most recent call last)",
      "Input \u001b[0;32mIn [14]\u001b[0m, in \u001b[0;36m<module>\u001b[0;34m\u001b[0m\n\u001b[1;32m     36\u001b[0m shifts0 \u001b[38;5;241m=\u001b[39m shifts_batch\n\u001b[1;32m     37\u001b[0m \u001b[38;5;66;03m#sigma_noise = jnp.ones(sigma_noise.shape)\u001b[39;00m\n\u001b[0;32m---> 40\u001b[0m v_rec, angles_rec, shifts_recz \u001b[38;5;241m=\u001b[39m \u001b[43mab_initio_mcmc\u001b[49m\u001b[43m(\u001b[49m\u001b[43mkey\u001b[49m\u001b[43m,\u001b[49m\u001b[43m \u001b[49m\n\u001b[1;32m     41\u001b[0m \u001b[43m                                                \u001b[49m\u001b[43mproject\u001b[49m\u001b[43m,\u001b[49m\u001b[43m \u001b[49m\n\u001b[1;32m     42\u001b[0m \u001b[43m                                                \u001b[49m\u001b[43mrotate_and_interpolate\u001b[49m\u001b[43m,\u001b[49m\n\u001b[1;32m     43\u001b[0m \u001b[43m                                                \u001b[49m\u001b[43mapply_shifts_and_ctf\u001b[49m\u001b[43m,\u001b[49m\n\u001b[1;32m     44\u001b[0m \u001b[43m                                                \u001b[49m\u001b[43mimgs_batch\u001b[49m\u001b[43m,\u001b[49m\u001b[43m \u001b[49m\n\u001b[1;32m     45\u001b[0m \u001b[43m                                                \u001b[49m\u001b[43msigma_noise\u001b[49m\u001b[43m,\u001b[49m\u001b[43m \u001b[49m\n\u001b[1;32m     46\u001b[0m \u001b[43m                                                \u001b[49m\u001b[43mctf_params_batch\u001b[49m\u001b[43m,\u001b[49m\u001b[43m \u001b[49m\n\u001b[1;32m     47\u001b[0m \u001b[43m                                                \u001b[49m\u001b[43mx_grid\u001b[49m\u001b[43m,\u001b[49m\u001b[43m \u001b[49m\n\u001b[1;32m     48\u001b[0m \u001b[43m                                                \u001b[49m\u001b[43mvol0\u001b[49m\u001b[43m,\u001b[49m\n\u001b[1;32m     49\u001b[0m \u001b[43m                                                \u001b[49m\u001b[43mangles0\u001b[49m\u001b[43m,\u001b[49m\n\u001b[1;32m     50\u001b[0m \u001b[43m                                                \u001b[49m\u001b[43mshifts0\u001b[49m\u001b[43m,\u001b[49m\n\u001b[1;32m     51\u001b[0m \u001b[43m                                                \u001b[49m\u001b[43mN_iter\u001b[49m\u001b[43m,\u001b[49m\u001b[43m \u001b[49m\n\u001b[1;32m     52\u001b[0m \u001b[43m                                                \u001b[49m\u001b[43msgd_learning_rate\u001b[49m\u001b[43m,\u001b[49m\u001b[43m \u001b[49m\n\u001b[1;32m     53\u001b[0m \u001b[43m                                                \u001b[49m\u001b[43msgd_batch_size\u001b[49m\u001b[43m,\u001b[49m\u001b[43m \u001b[49m\n\u001b[1;32m     54\u001b[0m \u001b[43m                                                \u001b[49m\u001b[43mN_samples_vol\u001b[49m\u001b[43m,\u001b[49m\n\u001b[1;32m     55\u001b[0m \u001b[43m                                                \u001b[49m\u001b[43mN_samples_angles_global\u001b[49m\u001b[43m,\u001b[49m\n\u001b[1;32m     56\u001b[0m \u001b[43m                                                \u001b[49m\u001b[43mN_samples_angles_local\u001b[49m\u001b[43m,\u001b[49m\u001b[43m \u001b[49m\n\u001b[1;32m     57\u001b[0m \u001b[43m                                                \u001b[49m\u001b[43mN_samples_shifts_global\u001b[49m\u001b[43m,\u001b[49m\n\u001b[1;32m     58\u001b[0m \u001b[43m                                                \u001b[49m\u001b[43mN_samples_shifts_local\u001b[49m\u001b[43m,\u001b[49m\n\u001b[1;32m     59\u001b[0m \u001b[43m                                                \u001b[49m\u001b[43mdt_list_hmc\u001b[49m\u001b[43m,\u001b[49m\n\u001b[1;32m     60\u001b[0m \u001b[43m                                                \u001b[49m\u001b[43msigma_perturb_list\u001b[49m\u001b[43m,\u001b[49m\n\u001b[1;32m     61\u001b[0m \u001b[43m                                                \u001b[49m\u001b[43mL_hmc\u001b[49m\u001b[43m,\u001b[49m\u001b[43m \u001b[49m\n\u001b[1;32m     62\u001b[0m \u001b[43m                                                \u001b[49m\u001b[43mradius0\u001b[49m\u001b[43m,\u001b[49m\u001b[43m \u001b[49m\n\u001b[1;32m     63\u001b[0m \u001b[43m                                                \u001b[49m\u001b[38;5;28;43;01mNone\u001b[39;49;00m\u001b[43m,\u001b[49m\u001b[43m \u001b[49m\n\u001b[1;32m     64\u001b[0m \u001b[43m                                                \u001b[49m\u001b[43malpha\u001b[49m\u001b[43m,\u001b[49m\u001b[43m \u001b[49m\n\u001b[1;32m     65\u001b[0m \u001b[43m                                                \u001b[49m\u001b[43meps_init\u001b[49m\u001b[43m,\u001b[49m\n\u001b[1;32m     66\u001b[0m \u001b[43m                                                \u001b[49m\u001b[43mB\u001b[49m\u001b[43m,\u001b[49m\n\u001b[1;32m     67\u001b[0m \u001b[43m                                                \u001b[49m\u001b[43mB_list\u001b[49m\u001b[43m,\u001b[49m\n\u001b[1;32m     68\u001b[0m \u001b[43m                                                \u001b[49m\u001b[43mminibatch_factor\u001b[49m\u001b[43m,\u001b[49m\n\u001b[1;32m     69\u001b[0m \u001b[43m                                                \u001b[49m\u001b[43mfreq_marching_step_iters\u001b[49m\u001b[43m,\u001b[49m\n\u001b[1;32m     70\u001b[0m \u001b[43m                                                \u001b[49m\u001b[38;5;124;43m'\u001b[39;49m\u001b[38;5;124;43mtri\u001b[39;49m\u001b[38;5;124;43m'\u001b[39;49m\u001b[43m,\u001b[49m\u001b[43m \u001b[49m\n\u001b[1;32m     71\u001b[0m \u001b[43m                                                \u001b[49m\u001b[38;5;28;43;01mTrue\u001b[39;49;00m\u001b[43m,\u001b[49m\u001b[43m \u001b[49m\u001b[38;5;28;43;01mTrue\u001b[39;49;00m\u001b[43m,\u001b[49m\u001b[43m \u001b[49m\u001b[38;5;28;43;01mTrue\u001b[39;49;00m\u001b[43m,\u001b[49m\u001b[43m \u001b[49m\u001b[38;5;28;43;01mTrue\u001b[39;49;00m\u001b[43m,\u001b[49m\u001b[43m \u001b[49m\u001b[43mout_dir\u001b[49m\u001b[43m)\u001b[49m\n",
      "File \u001b[0;32m/gpfs/loomis/project/lederman/bt387/simple_cryoem/src/ab_initio.py:110\u001b[0m, in \u001b[0;36mab_initio_mcmc\u001b[0;34m(key, project_func, rotate_and_interpolate_func, apply_shifts_and_ctf_func, imgs, sigma_noise, ctf_params, x_grid, vol0, angles0, shifts0, N_iter, learning_rate, sgd_batch_size, N_samples_vol, N_samples_angles_global, N_samples_angles_local, N_samples_shifts_global, N_samples_shifts_local, dt_list_hmc, sigma_perturb_list, L_hmc, radius0, dr, alpha, eps_vol, B, B_list, minibatch_factor, freq_marching_step_iters, interp_method, opt_vol_first, verbose, diagnostics, save_to_file, out_dir)\u001b[0m\n\u001b[1;32m    108\u001b[0m loss_full \u001b[38;5;241m=\u001b[39m Loss(slice_full, alpha \u001b[38;5;241m=\u001b[39m alpha)\n\u001b[1;32m    109\u001b[0m gradv_full \u001b[38;5;241m=\u001b[39m GradV(loss_full)\n\u001b[0;32m--> 110\u001b[0m v, angles, shifts \u001b[38;5;241m=\u001b[39m \u001b[43minitialize_ab_initio_vol\u001b[49m\u001b[43m(\u001b[49m\u001b[43msubkey\u001b[49m\u001b[43m,\u001b[49m\u001b[43m \u001b[49m\u001b[43mimgs\u001b[49m\u001b[43m,\u001b[49m\u001b[43m \u001b[49m\u001b[43mctf_params\u001b[49m\u001b[43m,\u001b[49m\u001b[43m \u001b[49m\u001b[43mgradv_full\u001b[49m\u001b[43m,\u001b[49m\u001b[43m \u001b[49m\u001b[43mN_vol_iter\u001b[49m\u001b[43m,\u001b[49m\u001b[43m \u001b[49m\u001b[43meps_vol\u001b[49m\u001b[43m,\u001b[49m\u001b[43m \u001b[49m\u001b[43msigma_noise\u001b[49m\u001b[43m,\u001b[49m\u001b[43m \u001b[49m\u001b[43mlearning_rate\u001b[49m\u001b[43m,\u001b[49m\u001b[43m \u001b[49m\u001b[43msgd_batch_size\u001b[49m\u001b[43m,\u001b[49m\u001b[43m \u001b[49m\u001b[43mshifts0\u001b[49m\u001b[43m,\u001b[49m\u001b[43m \u001b[49m\u001b[43mverbose\u001b[49m\u001b[43m)\u001b[49m\n\u001b[1;32m    112\u001b[0m \u001b[38;5;28;01mif\u001b[39;00m diagnostics:\n\u001b[1;32m    113\u001b[0m     plt\u001b[38;5;241m.\u001b[39mimshow(jnp\u001b[38;5;241m.\u001b[39mabs(jnp\u001b[38;5;241m.\u001b[39mfft\u001b[38;5;241m.\u001b[39mfftshift(v[:,:,\u001b[38;5;241m0\u001b[39m])))\n",
      "File \u001b[0;32m/gpfs/loomis/project/lederman/bt387/simple_cryoem/src/ab_initio.py:374\u001b[0m, in \u001b[0;36minitialize_ab_initio_vol\u001b[0;34m(key, imgs, ctf_params, gradv_obj, N_vol_iter, eps_vol, sigma_noise, learning_rate, batch_size, shifts, verbose)\u001b[0m\n\u001b[1;32m    371\u001b[0m     shifts \u001b[38;5;241m=\u001b[39m jnp\u001b[38;5;241m.\u001b[39mzeros([N1, N2, \u001b[38;5;241m2\u001b[39m]) \n\u001b[1;32m    373\u001b[0m sgd_grad_func \u001b[38;5;241m=\u001b[39m get_sgd_vol_ops(gradv_obj, angles[\u001b[38;5;241m0\u001b[39m], shifts[\u001b[38;5;241m0\u001b[39m], ctf_params[\u001b[38;5;241m0\u001b[39m], imgs[\u001b[38;5;241m0\u001b[39m], sigma_noise)\n\u001b[0;32m--> 374\u001b[0m v \u001b[38;5;241m=\u001b[39m \u001b[43msgd\u001b[49m\u001b[43m(\u001b[49m\u001b[43msgd_grad_func\u001b[49m\u001b[43m,\u001b[49m\u001b[43m \u001b[49m\u001b[43mN2\u001b[49m\u001b[43m,\u001b[49m\u001b[43m \u001b[49m\u001b[43mv0\u001b[49m\u001b[43m,\u001b[49m\u001b[43m \u001b[49m\u001b[43mlearning_rate\u001b[49m\u001b[43m,\u001b[49m\u001b[43m \u001b[49m\u001b[43mN_vol_iter\u001b[49m\u001b[43m,\u001b[49m\u001b[43m \u001b[49m\u001b[43mbatch_size\u001b[49m\u001b[43m,\u001b[49m\u001b[43m \u001b[49m\u001b[38;5;28;43;01mNone\u001b[39;49;00m\u001b[43m,\u001b[49m\u001b[43m \u001b[49m\u001b[43meps_vol\u001b[49m\u001b[43m,\u001b[49m\u001b[43m \u001b[49m\u001b[43mverbose\u001b[49m\u001b[43m \u001b[49m\u001b[38;5;241;43m=\u001b[39;49m\u001b[43m \u001b[49m\u001b[43mverbose\u001b[49m\u001b[43m)\u001b[49m\n\u001b[1;32m    376\u001b[0m \u001b[38;5;28;01mreturn\u001b[39;00m v, angles, shifts\n",
      "File \u001b[0;32m/gpfs/loomis/project/lederman/bt387/simple_cryoem/src/algorithm.py:129\u001b[0m, in \u001b[0;36msgd\u001b[0;34m(grad_func, N, x0, alpha, N_epoch, batch_size, P, eps, verbose, loss_func)\u001b[0m\n\u001b[1;32m    126\u001b[0m idx_batches \u001b[38;5;241m=\u001b[39m np\u001b[38;5;241m.\u001b[39marray_split(rng\u001b[38;5;241m.\u001b[39mpermutation(N), number_of_batches)\n\u001b[1;32m    128\u001b[0m \u001b[38;5;28;01mfor\u001b[39;00m i, idx \u001b[38;5;129;01min\u001b[39;00m \u001b[38;5;28menumerate\u001b[39m(idx_batches):\n\u001b[0;32m--> 129\u001b[0m     gradx \u001b[38;5;241m=\u001b[39m \u001b[43mgrad_func\u001b[49m\u001b[43m(\u001b[49m\u001b[43mx\u001b[49m\u001b[43m,\u001b[49m\u001b[43m \u001b[49m\u001b[43midx\u001b[49m\u001b[43m)\u001b[49m\n\u001b[1;32m    130\u001b[0m     x \u001b[38;5;241m=\u001b[39m x \u001b[38;5;241m-\u001b[39m alpha \u001b[38;5;241m*\u001b[39m P \u001b[38;5;241m*\u001b[39m jnp\u001b[38;5;241m.\u001b[39mconj(gradx)\n\u001b[1;32m    132\u001b[0m     \u001b[38;5;28;01mif\u001b[39;00m jnp\u001b[38;5;241m.\u001b[39mmod(epoch, \u001b[38;5;241m10\u001b[39m) \u001b[38;5;241m==\u001b[39m \u001b[38;5;241m0\u001b[39m \u001b[38;5;129;01mand\u001b[39;00m i \u001b[38;5;241m==\u001b[39m \u001b[38;5;28mlen\u001b[39m(idx_batches)\u001b[38;5;241m-\u001b[39m\u001b[38;5;241m1\u001b[39m:\n\u001b[1;32m    133\u001b[0m         \u001b[38;5;66;03m#full_grad = jnp.abs(jnp.mean(grad_func(x, jnp.arange(N))))\u001b[39;00m\n\u001b[1;32m    134\u001b[0m         \u001b[38;5;66;03m# OOM here, obvs\u001b[39;00m\n",
      "File \u001b[0;32m/gpfs/loomis/project/lederman/bt387/simple_cryoem/src/algorithm.py:149\u001b[0m, in \u001b[0;36mget_sgd_vol_ops.<locals>.<lambda>\u001b[0;34m(v, idx)\u001b[0m\n\u001b[1;32m    146\u001b[0m \u001b[38;5;28;01mdef\u001b[39;00m \u001b[38;5;21mget_sgd_vol_ops\u001b[39m(gradv: GradV, angles, shifts, ctf_params, imgs, sigma \u001b[38;5;241m=\u001b[39m \u001b[38;5;241m1\u001b[39m):\n\u001b[1;32m    147\u001b[0m     \u001b[38;5;66;03m#loss_func = lambda v, idx : loss_func_sum(v, angles[idx], shifts[idx], ctf_params[idx], imgs[idx]) \u001b[39;00m\n\u001b[1;32m    148\u001b[0m     \u001b[38;5;66;03m#grad_func = lambda v, idx : grad_loss_volume(v, angles[idx], shifts[idx], ctf_params[idx], imgs[idx], z[idx], sigma) \u001b[39;00m\n\u001b[0;32m--> 149\u001b[0m     grad_func \u001b[38;5;241m=\u001b[39m \u001b[38;5;28;01mlambda\u001b[39;00m v, idx : \u001b[43mgradv\u001b[49m\u001b[38;5;241;43m.\u001b[39;49m\u001b[43mgrad_loss_volume_sum\u001b[49m\u001b[43m(\u001b[49m\u001b[43mv\u001b[49m\u001b[43m,\u001b[49m\u001b[43m \u001b[49m\u001b[43mangles\u001b[49m\u001b[43m[\u001b[49m\u001b[43midx\u001b[49m\u001b[43m]\u001b[49m\u001b[43m,\u001b[49m\u001b[43m \u001b[49m\u001b[43mshifts\u001b[49m\u001b[43m[\u001b[49m\u001b[43midx\u001b[49m\u001b[43m]\u001b[49m\u001b[43m,\u001b[49m\u001b[43m \u001b[49m\u001b[43mctf_params\u001b[49m\u001b[43m[\u001b[49m\u001b[43midx\u001b[49m\u001b[43m]\u001b[49m\u001b[43m,\u001b[49m\u001b[43m \u001b[49m\u001b[43mimgs\u001b[49m\u001b[43m[\u001b[49m\u001b[43midx\u001b[49m\u001b[43m]\u001b[49m\u001b[43m,\u001b[49m\u001b[43m  \u001b[49m\u001b[43msigma\u001b[49m\u001b[43m)\u001b[49m \n\u001b[1;32m    151\u001b[0m     \u001b[38;5;28;01mreturn\u001b[39;00m grad_func\n",
      "File \u001b[0;32m/gpfs/loomis/project/lederman/bt387/conda_envs/j_lab/lib/python3.10/site-packages/jax/core.py:649\u001b[0m, in \u001b[0;36mMainTrace.__eq__\u001b[0;34m(self, other)\u001b[0m\n\u001b[1;32m    646\u001b[0m \u001b[38;5;28;01mdef\u001b[39;00m \u001b[38;5;21m__hash__\u001b[39m(\u001b[38;5;28mself\u001b[39m) \u001b[38;5;241m-\u001b[39m\u001b[38;5;241m>\u001b[39m \u001b[38;5;28mint\u001b[39m:\n\u001b[1;32m    647\u001b[0m   \u001b[38;5;28;01mreturn\u001b[39;00m \u001b[38;5;28mhash\u001b[39m((\u001b[38;5;28mself\u001b[39m\u001b[38;5;241m.\u001b[39mlevel, \u001b[38;5;28mself\u001b[39m\u001b[38;5;241m.\u001b[39mtrace_type))\n\u001b[0;32m--> 649\u001b[0m \u001b[38;5;28;01mdef\u001b[39;00m \u001b[38;5;21m__eq__\u001b[39m(\u001b[38;5;28mself\u001b[39m, other: \u001b[38;5;28mobject\u001b[39m) \u001b[38;5;241m-\u001b[39m\u001b[38;5;241m>\u001b[39m \u001b[38;5;28mbool\u001b[39m:\n\u001b[1;32m    650\u001b[0m   \u001b[38;5;28;01mreturn\u001b[39;00m (\u001b[38;5;28misinstance\u001b[39m(other, MainTrace) \u001b[38;5;129;01mand\u001b[39;00m\n\u001b[1;32m    651\u001b[0m           \u001b[38;5;28mself\u001b[39m\u001b[38;5;241m.\u001b[39mlevel \u001b[38;5;241m==\u001b[39m other\u001b[38;5;241m.\u001b[39mlevel \u001b[38;5;129;01mand\u001b[39;00m\n\u001b[1;32m    652\u001b[0m           \u001b[38;5;28mself\u001b[39m\u001b[38;5;241m.\u001b[39mtrace_type \u001b[38;5;241m==\u001b[39m other\u001b[38;5;241m.\u001b[39mtrace_type \u001b[38;5;129;01mand\u001b[39;00m\n\u001b[1;32m    653\u001b[0m           \u001b[38;5;28mself\u001b[39m\u001b[38;5;241m.\u001b[39mpayload \u001b[38;5;241m==\u001b[39m other\u001b[38;5;241m.\u001b[39mpayload)\n\u001b[1;32m    655\u001b[0m \u001b[38;5;28;01mdef\u001b[39;00m \u001b[38;5;21mwith_cur_sublevel\u001b[39m(\u001b[38;5;28mself\u001b[39m):\n",
      "\u001b[0;31mKeyboardInterrupt\u001b[0m: "
     ]
    }
   ],
   "source": [
    "key = random.PRNGKey(int(jnp.floor(np.random.rand()*1000)))\n",
    "\n",
    "# The number of iterations desn't matter, \n",
    "# since it stops when the volume is nx x nx x nx.\n",
    "N_iter = 100000000000\n",
    "\n",
    "radius0 = 0.01\n",
    "alpha = 1e-9 \n",
    "\n",
    "sgd_batch_size = 300\n",
    "sgd_learning_rate = 10 #1e5 #1e6\n",
    "eps_init = 2e-8 #1e-8 \n",
    "\n",
    "N_samples_vol = 201   \n",
    "N_samples_angles_global = 1001\n",
    "N_samples_angles_local = 201\n",
    "N_samples_shifts_global = 2 #500\n",
    "N_samples_shifts_local = 2 #201\n",
    "\n",
    "# HMC params\n",
    "dt_list_hmc = jnp.array([0.1, 0.5, 1, 5, 10])\n",
    "L_hmc = 5\n",
    "\n",
    "sigma_perturb_list = jnp.array([1, 0.1, 0.01, 0.001])\n",
    "\n",
    "pixel_size_nx = pixel_size[0] # * nx0/nx\n",
    "\n",
    "B = 0 #pixel_size[0] * 320/8\n",
    "B_list = jnp.array([B/2, B/4, B/8, B/16])\n",
    "\n",
    "minibatch_factor = 100\n",
    "freq_marching_step_iters = 8\n",
    "\n",
    "vol0 = None\n",
    "angles0 = None #angles_batch\n",
    "shifts0 = shifts_batch\n",
    "#sigma_noise = jnp.ones(sigma_noise.shape)\n",
    "\n",
    "    \n",
    "v_rec, angles_rec, shifts_recz = ab_initio_mcmc(key, \n",
    "                                                project, \n",
    "                                                rotate_and_interpolate,\n",
    "                                                apply_shifts_and_ctf,\n",
    "                                                imgs_batch, \n",
    "                                                sigma_noise, \n",
    "                                                ctf_params_batch, \n",
    "                                                x_grid, \n",
    "                                                vol0,\n",
    "                                                angles0,\n",
    "                                                shifts0,\n",
    "                                                N_iter, \n",
    "                                                sgd_learning_rate, \n",
    "                                                sgd_batch_size, \n",
    "                                                N_samples_vol,\n",
    "                                                N_samples_angles_global,\n",
    "                                                N_samples_angles_local, \n",
    "                                                N_samples_shifts_global,\n",
    "                                                N_samples_shifts_local,\n",
    "                                                dt_list_hmc,\n",
    "                                                sigma_perturb_list,\n",
    "                                                L_hmc, \n",
    "                                                radius0, \n",
    "                                                None, \n",
    "                                                alpha, \n",
    "                                                eps_init,\n",
    "                                                B,\n",
    "                                                B_list,\n",
    "                                                minibatch_factor,\n",
    "                                                freq_marching_step_iters,\n",
    "                                                'tri', \n",
    "                                                True, True, True, True, out_dir)"
   ]
  },
  {
   "cell_type": "code",
   "execution_count": 18,
   "id": "6fa9ef7b-f665-4145-bdf6-ab01986ac91d",
   "metadata": {},
   "outputs": [
    {
     "data": {
      "text/plain": [
       "'../data/out_dev/'"
      ]
     },
     "execution_count": 18,
     "metadata": {},
     "output_type": "execute_result"
    }
   ],
   "source": [
    "out_dir"
   ]
  },
  {
   "cell_type": "code",
   "execution_count": 28,
   "id": "ed340ec9-1438-4d16-ba26-97e9cc51cf1f",
   "metadata": {},
   "outputs": [],
   "source": [
    "#v_final = mrcfile.open(f\"{out_dir}/rec_final.mrc\").data\n",
    "#v_rec,_,_ = volume_fourier(v_final, pixel_size[0])"
   ]
  },
  {
   "cell_type": "code",
   "execution_count": 30,
   "id": "8cbcf258-97ea-43c3-b444-6d5fb932426e",
   "metadata": {},
   "outputs": [],
   "source": [
    "v_rec_l, x_grid_l = rescale_larger_grid(v_rec, x_grid, nx0)\n",
    "v_rec_rl = jnp.real(jnp.fft.fftshift(jnp.fft.ifftn(v_rec_l)))\n",
    "with mrcfile.new(out_dir + '/rec_final_nx0.mrc', overwrite=True) as mrc:\n",
    "    mrc.set_data(v_rec_rl.astype(np.float32))"
   ]
  },
  {
   "cell_type": "code",
   "execution_count": null,
   "id": "49ac438f-9bac-4aba-9e48-c64a1eb48f2d",
   "metadata": {},
   "outputs": [],
   "source": [
    "plot_angles(angles_rec[:2000])"
   ]
  },
  {
   "cell_type": "code",
   "execution_count": null,
   "id": "c5fd0626-3627-4260-8b0c-bb0a9a2c156c",
   "metadata": {},
   "outputs": [],
   "source": [
    "v_final = mrcfile.open(f\"{out_dir}/rec_final.mrc\").data\n",
    "v_rec, _, _ = volume_fourier(v_final, pixel_size[0])\n",
    "plt.imshow(jnp.fft.fftshift(jnp.abs(v_rec[:,:,0])))"
   ]
  },
  {
   "cell_type": "code",
   "execution_count": null,
   "id": "a55f004f-b048-43e2-956f-a3f5ddd3dfef",
   "metadata": {},
   "outputs": [],
   "source": [
    "with open(f\"{out_dir}/rec_iter_53_angles\", 'rb') as file:\n",
    "    # Call load method to deserialze\n",
    "    angles_rec = pickle.load(file)\n",
    "    angles_rec = angles_rec[0]"
   ]
  },
  {
   "cell_type": "code",
   "execution_count": null,
   "id": "ab2ee0e6-08df-4942-9b92-9a4cf408ae5a",
   "metadata": {},
   "outputs": [],
   "source": []
  },
  {
   "cell_type": "code",
   "execution_count": null,
   "id": "cdda53d2-6740-47bc-95ef-a845289a1c30",
   "metadata": {},
   "outputs": [],
   "source": [
    "plot_angles(angles_rec)"
   ]
  },
  {
   "cell_type": "code",
   "execution_count": null,
   "id": "5c66a272-5dbd-4721-92ca-d79f2beaf7b7",
   "metadata": {},
   "outputs": [],
   "source": [
    "theta, cord_distance = err_orientations(angles, angles_rec)\n",
    "\n",
    "nbins=100\n",
    "counts, bins = np.histogram(theta, bins=nbins)\n",
    "_ = plt.hist(bins[:-1], bins, weights=counts)"
   ]
  },
  {
   "cell_type": "code",
   "execution_count": null,
   "id": "e97de727-6b14-4169-8cbe-107500c35da6",
   "metadata": {},
   "outputs": [],
   "source": [
    "v_rec_l, x_grid_l = rescale_larger_grid(v_rec, x_grid, 256)\n",
    "v_rec_rl = jnp.real(jnp.fft.fftshift(jnp.fft.ifftn(v_rec_l)))\n",
    "mip_z(v_rec_rl)\n",
    "plt.colorbar()\n"
   ]
  },
  {
   "cell_type": "code",
   "execution_count": null,
   "id": "b196b02c-1393-4790-9df0-c94ea442e73c",
   "metadata": {},
   "outputs": [],
   "source": [
    "with mrcfile.new(f\"{out_dir}/v_rec_alpha1e-9_nx0_ab_initio.mrc\", overwrite=True) as mrc:\n",
    "    mrc.set_data(v_rec_rl.astype(np.float32))"
   ]
  },
  {
   "cell_type": "code",
   "execution_count": null,
   "id": "7a0ae668-bbb7-4261-9bad-7534ab1154ad",
   "metadata": {},
   "outputs": [],
   "source": [
    "out_dir"
   ]
  },
  {
   "cell_type": "code",
   "execution_count": null,
   "id": "545e19da-a354-40eb-85ea-565e2d6eb902",
   "metadata": {},
   "outputs": [],
   "source": [
    "with open(f\"{out_dir}/idxrand\", 'rb') as file:\n",
    "    # Call load method to deserialze\n",
    "    idxrand = pickle.load(file)\n",
    "    #z_rec = angles_rec[0]"
   ]
  },
  {
   "cell_type": "code",
   "execution_count": null,
   "id": "fbbcd2bd-d6e6-45a8-840c-c86cf0150a98",
   "metadata": {},
   "outputs": [],
   "source": [
    "angles_rec.shape"
   ]
  },
  {
   "cell_type": "code",
   "execution_count": null,
   "id": "fa8686f9-e0da-4428-a37c-9e47cf2514be",
   "metadata": {},
   "outputs": [],
   "source": [
    "a1prev"
   ]
  },
  {
   "cell_type": "code",
   "execution_count": null,
   "id": "f1507557-ff17-4093-8fa5-bebf2c84e44c",
   "metadata": {},
   "outputs": [],
   "source": [
    "plt.rcParams[\"figure.figsize\"]=12,6\n",
    "\n",
    "a1prev = a1\n",
    "\n",
    "\n",
    "with open(f\"{out_dir}/rec_iter_45_angles\", 'rb') as file:\n",
    "    # Call load method to deserialze\n",
    "    #z_rec = pickle.load(file)\n",
    "    angles_rec = pickle.load(file)[0]\n",
    "    a1 = angles_rec[:,0]\n",
    "    \n",
    "    \n",
    "diff= a1-a1prev\n",
    "\n",
    "plt.plot(diff[:100])\n",
    "\n",
    "\n",
    "\n",
    "\n",
    "\n",
    "#prevdiff = diff\n",
    "#diff = z[idxrand]-z_rec\n",
    "#plt.plot(diff[:100])\n",
    "#plt.plot(prevdiff[:100])\n",
    "\n",
    "\n",
    "#print(jnp.sum(diff-prevdiff != 0))"
   ]
  },
  {
   "cell_type": "code",
   "execution_count": null,
   "id": "400d813e-3604-4777-8b06-832d9d36906d",
   "metadata": {},
   "outputs": [],
   "source": []
  },
  {
   "cell_type": "code",
   "execution_count": null,
   "id": "fd69e2a7-20f7-46c7-b5fa-26a564a26889",
   "metadata": {},
   "outputs": [],
   "source": [
    "jnp.sum(z[idxrand[:N]]-z_rec != 0)"
   ]
  },
  {
   "cell_type": "code",
   "execution_count": null,
   "id": "f240a7ea-2414-496d-9709-3975a8cd0f8a",
   "metadata": {},
   "outputs": [],
   "source": [
    "nbins=100\n",
    "counts, bins = np.histogram(z_rec, bins=nbins)\n",
    "_ = plt.hist(bins[:-1], bins, weights=counts)"
   ]
  },
  {
   "cell_type": "code",
   "execution_count": null,
   "id": "661851cf-7a5d-4e93-899f-3a3e5605ac45",
   "metadata": {},
   "outputs": [],
   "source": [
    "idxrand"
   ]
  },
  {
   "cell_type": "markdown",
   "id": "0fcadbff-f3fd-4f47-8645-8186401b5844",
   "metadata": {},
   "source": [
    "## Sample individual variables"
   ]
  },
  {
   "cell_type": "code",
   "execution_count": null,
   "id": "4a55d494-1c7a-4fed-b77c-19ac8162299f",
   "metadata": {},
   "outputs": [],
   "source": [
    "angles_rec = angles"
   ]
  },
  {
   "cell_type": "code",
   "execution_count": null,
   "id": "5a613bef-0508-45ee-96f5-162ca06e9905",
   "metadata": {},
   "outputs": [],
   "source": [
    "plot_angles(angles[:1000])"
   ]
  },
  {
   "cell_type": "markdown",
   "id": "a9db8a3f-fabf-4a3a-aa30-5da6228a22eb",
   "metadata": {},
   "source": [
    "Read some angles and shifts from files if needed."
   ]
  },
  {
   "cell_type": "code",
   "execution_count": null,
   "id": "78d6ccd8-174f-401b-a54d-24ba580e7817",
   "metadata": {},
   "outputs": [],
   "source": [
    "#with open(\"/gpfs/gibbs/pi/lederman/bt387/exp_data/output_simple_cryoem1_shifts_32_latest/rec_iter_704_angles\", 'rb') as file:\n",
    "#    # Call load method to deserialze\n",
    "#    #z_rec = pickle.load(file)\n",
    "#    angles = pickle.load(file)[0]\n",
    "#   \n",
    "#with open(\"/gpfs/gibbs/pi/lederman/bt387/exp_data/output_simple_cryoem1_shifts_32_latest/rec_iter_704_shifts\", 'rb') as file:\n",
    "#    # Call load method to deserialze\n",
    "#    #z_rec = pickle.load(file)\n",
    "#    shifts = pickle.load(file)[0]"
   ]
  },
  {
   "cell_type": "code",
   "execution_count": null,
   "id": "10ca0a75-680a-4a14-bc97-7b0d41a2f621",
   "metadata": {},
   "outputs": [],
   "source": [
    "#with mrcfile.open(\"/gpfs/gibbs/pi/lederman/bt387/exp_data/output_simple_cryoem1_shifts_32_latest/rec_iter_704.mrc\") as file:\n",
    "#    vol0 = file.data\n",
    "#   \n",
    "#vol0, _, _= volume_fourier(vol0, 1)\n",
    "#vol0 = vol0.astype(jnp.complex128)\n",
    "#\n",
    "#print(f\"vol.shape = {vol0.shape}\")\n",
    "#plt.imshow(np.abs(jnp.fft.fftshift(vol0[0]))); plt.colorbar()"
   ]
  },
  {
   "cell_type": "markdown",
   "id": "938ffaac-5670-4e4a-936e-ccdd8d0c8cc7",
   "metadata": {},
   "source": [
    "Find a good value for B when sampling shifts"
   ]
  },
  {
   "cell_type": "code",
   "execution_count": null,
   "id": "eaa0cee9-3fbd-4e36-b5f1-96c21228f607",
   "metadata": {},
   "outputs": [],
   "source": [
    "key = random.PRNGKey(int(jnp.floor(np.random.rand()*1000)))\n",
    "pixel_size_nx = pixel_size[0] * 320/nx\n",
    "\n",
    "B = pixel_size[0] * 320/8\n",
    "\n",
    "sh = random.uniform(key, (N, 2)) * 2*B - B\n",
    "\n",
    "plt.plot(sh[:,0], sh[:,1], '.')\n",
    "plt.plot(shifts[:,0], shifts[:,1],'.')\n",
    "lgd = plt.legend(['sampled shifts', 'true shifts'], fontsize=14)"
   ]
  },
  {
   "cell_type": "code",
   "execution_count": null,
   "id": "61c4237e-e10c-4916-b19b-1f70e0bf078f",
   "metadata": {},
   "outputs": [],
   "source": [
    "nbins=100\n",
    "counts, bins = np.histogram(shifts, bins=nbins)\n",
    "\n",
    "nbins=100\n",
    "counts2, bins2 = np.histogram(sh, bins=nbins)\n",
    "\n",
    "_ = plt.hist(bins2[:-1], bins2, weights=counts2)\n",
    "_ = plt.hist(bins[:-1], bins, weights=counts)\n",
    "lgd = plt.legend(['sampled shifts', 'true shifts'], fontsize=14)"
   ]
  },
  {
   "cell_type": "code",
   "execution_count": null,
   "id": "4a533e26-ca1a-473c-9aa2-64c5de7acee9",
   "metadata": {},
   "outputs": [],
   "source": [
    "plt.rcParams[\"figure.figsize\"]=12,6\n",
    "\n",
    "plt.subplot(1,2,1)\n",
    "\n",
    "nbins=1000\n",
    "counts, bins = np.histogram(shifts[:,0], bins=nbins)\n",
    "_ = plt.hist(bins[:-1], bins, weights=counts)\n",
    "plt.title(\"True hifts: x\")\n",
    "\n",
    "\n",
    "plt.subplot(1,2,2)\n",
    "nbins=1000\n",
    "counts, bins = np.histogram(shifts[:,1], bins=nbins)\n",
    "_ = plt.hist(bins[:-1], bins, weights=counts)\n",
    "plt.title(\"True shifts: y\")\n",
    "\n",
    "plt.rcParams[\"figure.figsize\"]=6,6"
   ]
  },
  {
   "cell_type": "markdown",
   "id": "da1e7199-bc90-46cb-8685-cda99546190f",
   "metadata": {},
   "source": [
    "#### Define the actual JAX objects used for sampling"
   ]
  },
  {
   "cell_type": "code",
   "execution_count": null,
   "id": "8b4b0f84-09b3-4993-ad52-6ec22c682f88",
   "metadata": {},
   "outputs": [],
   "source": [
    "alpha = 1e-9\n",
    "\n",
    "radius = nx/2-1\n",
    "mask = create_3d_mask(np.array([1.0,64.0]), (0,0,0),radius)\n",
    "#mip_z(jnp.fft.fftshift(mask)); plt.colorbar()\n",
    "M = 1/jnp.max(sigma_noise)**2 * jnp.ones([nx, nx, nx])\n",
    "dt_list = jnp.array([0.1, 0.5, 1, 5, 10])\n",
    "L = 5\n",
    "\n",
    "B_list = jnp.array([B/16])\n",
    "\n",
    "slice_obj = Slice(x_grid)\n",
    "loss_obj = Loss(slice_obj, alpha = alpha)\n",
    "gradv_obj = GradV(loss_obj)\n",
    "proposals = CryoProposals(sigma_noise, B, B_list, dt_list, L, M, slice_obj, loss_obj, gradv_obj)"
   ]
  },
  {
   "cell_type": "code",
   "execution_count": null,
   "id": "0eace9b5-b983-40d5-87c7-00feb64cfa9e",
   "metadata": {},
   "outputs": [],
   "source": [
    "N_batch = 1\n",
    "imgs_batch = np.array(np.array_split(imgs_f, N_batch))\n",
    "angles_batch = np.array(np.array_split(angles, N_batch))\n",
    "shifts_batch = np.array(np.array_split(shifts, N_batch))\n",
    "ctf_params_batch = np.array(np.array_split(ctf_params, N_batch))"
   ]
  },
  {
   "cell_type": "markdown",
   "id": "e9e3f5af-36f8-474b-868a-dc9ecdc13004",
   "metadata": {},
   "source": [
    "### 1. Volume"
   ]
  },
  {
   "cell_type": "code",
   "execution_count": null,
   "id": "4617d589-4141-4742-817d-3c2b252c7a4d",
   "metadata": {},
   "outputs": [],
   "source": [
    "# If working with a subset:\n",
    "\n",
    "#N = 1000\n",
    "\n",
    "#imgs_f_full = imgs_f\n",
    "#angles_full = angles\n",
    "#shifts_full = shifts\n",
    "#ctf_params_full = ctf_params\n",
    "\n",
    "#imgs_f = imgs_f_full[:N]\n",
    "#angles = angles_full[:N]\n",
    "#shifts = shifts_full[:N]\n",
    "#ctf_params = ctf_params_full[:N]"
   ]
  },
  {
   "cell_type": "code",
   "execution_count": null,
   "id": "ea8d9b0f-ab31-406a-be15-caaba310fc87",
   "metadata": {},
   "outputs": [],
   "source": [
    "print(f\"angles.shape = {angles.shape}\")\n",
    "print(f\"imgs_f.shape = {imgs_f.shape}\")"
   ]
  },
  {
   "cell_type": "code",
   "execution_count": null,
   "id": "06320f3c-85ed-4c03-b012-f68395f49d66",
   "metadata": {},
   "outputs": [],
   "source": [
    "N_mc_samples = 10\n",
    "key = random.PRNGKey(int(jnp.floor(np.random.rand()*1000)))\n",
    "\n",
    "#v0 = (jnp.array(np.random.randn(nx,nx,nx) + 1j * np.random.randn(nx,nx,nx)) )\n",
    "v0 = jnp.zeros([nx,nx,nx])*1j\n",
    "#v0 = v_rec\n",
    "#v0 = v_hmc_mean\n",
    "\n",
    "params_vol = {'angles': angles_batch, \n",
    "              'shifts': shifts_batch, \n",
    "              'ctf_params': ctf_params_batch, \n",
    "            'imgs': imgs_batch}\n",
    "\n",
    "t0 = time.time()\n",
    "v_hmc_mean, r_hmc, v_hmc_samples = mcmc(key, proposals.proposal_vol_batch, v0, N_mc_samples, params_vol, save_samples=-1, iter_display=1)\n",
    "print(time.time()-t0)"
   ]
  },
  {
   "cell_type": "code",
   "execution_count": null,
   "id": "79835c79-f38b-4c5d-9f10-10d41bc36418",
   "metadata": {},
   "outputs": [],
   "source": [
    "print(jnp.mean(r_hmc))\n",
    "plt.plot(r_hmc)"
   ]
  },
  {
   "cell_type": "code",
   "execution_count": null,
   "id": "a04c27e5-59c2-42ff-a0b6-2a3b4e63c7ce",
   "metadata": {},
   "outputs": [],
   "source": [
    "plt.imshow(jnp.abs(jnp.fft.fftshift(v_hmc_samples[0,:,:,0]))); plt.colorbar()"
   ]
  },
  {
   "cell_type": "code",
   "execution_count": null,
   "id": "3d5514b5-1bd7-42fe-ae58-d8cccbc8dbe3",
   "metadata": {},
   "outputs": [],
   "source": [
    "plt.imshow(jnp.abs(jnp.fft.fftshift(v_hmc_mean[:,:,0]))); plt.colorbar()"
   ]
  },
  {
   "cell_type": "code",
   "execution_count": null,
   "id": "1a284821-ae63-4b4b-86fd-b074c5dd5586",
   "metadata": {},
   "outputs": [],
   "source": [
    "v_hmc_r = jnp.real(jnp.fft.fftshift(jnp.fft.ifftn(v_hmc_mean)))\n",
    "\n",
    "mip_z(v_hmc_r)\n",
    "plt.colorbar()"
   ]
  },
  {
   "cell_type": "code",
   "execution_count": null,
   "id": "e6688af6-2dc1-4aa3-a28c-a4dcd8308dc7",
   "metadata": {},
   "outputs": [],
   "source": [
    "with mrcfile.new(f\"{out_dir}/v_hmc_mean.mrc\", overwrite=True) as mrc:\n",
    "    mrc.set_data(v_hmc_r.astype(np.float32))"
   ]
  },
  {
   "cell_type": "code",
   "execution_count": null,
   "id": "4e101b68-0fb7-4f5b-b9df-7dc623992943",
   "metadata": {},
   "outputs": [],
   "source": [
    "v_hmc_mean_l, x_grid_l = rescale_larger_grid(v_hmc_mean, x_grid, 320)\n",
    "v_hmc_rl = jnp.real(jnp.fft.fftshift(jnp.fft.ifftn(v_hmc_mean_l)))\n",
    "mip_z(v_hmc_rl)\n",
    "plt.colorbar()"
   ]
  },
  {
   "cell_type": "code",
   "execution_count": null,
   "id": "cae976fc-d334-47aa-96c4-50a07809291a",
   "metadata": {},
   "outputs": [],
   "source": [
    "with mrcfile.new(f\"{out_dir}/v_hmc_mean_nx0.mrc\", overwrite=True) as mrc:\n",
    "    mrc.set_data(v_hmc_rl.astype(np.float32))"
   ]
  },
  {
   "cell_type": "code",
   "execution_count": null,
   "id": "4034ed23-cda7-4d2f-9c5c-2266884219d4",
   "metadata": {},
   "outputs": [],
   "source": [
    "file = open(f\"{out_dir}/angles_rec\", 'wb')\n",
    "pickle.dump(angles_rec, file)\n",
    "file.close()\n",
    "\n",
    "file3 = open(f\"{out_dir}/shifts_rec\",'wb')\n",
    "pickle.dump(shifts_rec, file3)\n",
    "file3.close()"
   ]
  },
  {
   "cell_type": "code",
   "execution_count": null,
   "id": "10b51e6e-8ea7-4cea-812c-9e8d42b4b961",
   "metadata": {},
   "outputs": [],
   "source": [
    "with open(f\"{out_dir}/angles_rec\", 'rb') as file:\n",
    "    # Call load method to deserialze\n",
    "    angles_rec2 = pickle.load(file)\n",
    "    \n",
    "with open(f\"{out_dir}/shifts_rec\", 'rb') as file:\n",
    "    # Call load method to deserialze\n",
    "    shifts_rec2 = pickle.load(file)\n",
    "    \n",
    "with open(f\"{out_dir}/idxrand\", 'rb') as file:\n",
    "    # Call load method to deserialze\n",
    "    idxrand2 = pickle.load(file)    \n",
    "\n",
    "# Sanity check\n",
    "assert(jnp.sum(jnp.abs(angles_rec2 - angles_rec)) == 0)\n",
    "assert(jnp.sum(jnp.abs(shifts_rec2 - shifts_rec)) == 0)\n",
    "assert(jnp.sum(jnp.abs(idxrand2 - idxrand)) == 0)"
   ]
  },
  {
   "cell_type": "markdown",
   "id": "29d8fd51-9b23-481f-8257-ef973bc0ed80",
   "metadata": {
    "tags": []
   },
   "source": [
    "### 2. Global orientations + shifts (multiple-try Metropolis)"
   ]
  },
  {
   "cell_type": "code",
   "execution_count": null,
   "id": "3b0cb173-e92c-4e65-b750-24d7dcff47e5",
   "metadata": {},
   "outputs": [],
   "source": [
    "# Volume obtained form sampling in the previous section\n",
    "\n",
    "angles_true = angles\n",
    "shifts_true = shifts\n",
    "vol = v_hmc_mean"
   ]
  },
  {
   "cell_type": "code",
   "execution_count": null,
   "id": "c13257a4-1e30-43e7-aef3-194c72f7bc7f",
   "metadata": {},
   "outputs": [],
   "source": [
    "NN = 40\n",
    "\n",
    "N_mc_samples = 1000\n",
    "key, subkey = random.split(key)\n",
    "\n",
    "params = {'v': vol, \n",
    "        'ctf_params': ctf_params[:NN], \n",
    "        'imgs': imgs_f[:NN], \n",
    "         'N_samples_shifts' : 1000}\n",
    "          \n",
    "#as0 = jnp.array(np.random.randn(NN,5))\n",
    "as0 = jnp.zeros([NN,5])\n",
    "#as0 = jnp.concatenate([angles_true[:NN], shifts_true[:NN]], axis=1)\n",
    "\n",
    "t0 = time.time()\n",
    "_, angles_shifts_r, angles_shifts_samples = mcmc(subkey, proposals.proposal_mtm_orientations_shifts, as0, N_mc_samples, params, NN, save_samples=-1, iter_display=50)\n",
    "print(f\"{time.time()-t0} seconds\")\n",
    "\n",
    "angles_rec = angles_shifts_samples[0, :, :3]\n",
    "shifts_rec = angles_shifts_samples[0, :, 3:]"
   ]
  },
  {
   "cell_type": "code",
   "execution_count": null,
   "id": "8f839f9e-62fe-4f32-b3a3-5c746b8cf852",
   "metadata": {},
   "outputs": [],
   "source": [
    "print(shifts_rec[0])\n",
    "print(shifts_true[0])"
   ]
  },
  {
   "cell_type": "code",
   "execution_count": null,
   "id": "16f5c9a8-6d36-41fe-8c52-027a623a191a",
   "metadata": {},
   "outputs": [],
   "source": [
    "print(shifts_rec[1])\n",
    "print(shifts_true[1])"
   ]
  },
  {
   "cell_type": "code",
   "execution_count": null,
   "id": "5ed9ef08-4698-435a-9395-d279204f87fb",
   "metadata": {},
   "outputs": [],
   "source": [
    "plt.rcParams[\"figure.figsize\"]=12,6\n",
    "\n",
    "plt.subplot(1,2,1)\n",
    "plt.plot(angles_shifts_r[:,0])\n",
    "\n",
    "plt.subplot(1,2,2)\n",
    "plt.plot(angles_shifts_r[:,1])\n",
    "\n",
    "plt.rcParams[\"figure.figsize\"]=6,6"
   ]
  },
  {
   "cell_type": "code",
   "execution_count": null,
   "id": "09011541-c7d2-4fb2-8c66-7735fc837209",
   "metadata": {},
   "outputs": [],
   "source": [
    "theta, cord_distance = err_orientations(angles[:NN], angles_rec)\n",
    "\n",
    "nbins=100\n",
    "counts, bins = np.histogram((theta), bins=nbins)\n",
    "_ = plt.hist(bins[:-1], bins, weights=counts)"
   ]
  },
  {
   "cell_type": "code",
   "execution_count": null,
   "id": "ea524cbd-6a74-4798-9560-7e56d36adb15",
   "metadata": {},
   "outputs": [],
   "source": [
    "plt.plot(jnp.sort(cord_distance))"
   ]
  },
  {
   "cell_type": "code",
   "execution_count": null,
   "id": "fdc4900b-1803-4e78-9540-0ec615e1c2a6",
   "metadata": {},
   "outputs": [],
   "source": [
    "theta, cord_distance = err_orientations(angles[:NN], as0[:,:3])\n",
    "\n",
    "nbins=100\n",
    "counts, bins = np.histogram((theta), bins=nbins)\n",
    "_ = plt.hist(bins[:-1], bins, weights=counts)"
   ]
  },
  {
   "cell_type": "code",
   "execution_count": null,
   "id": "dd1ebd21-5d15-438c-b2b8-c837f29669c7",
   "metadata": {},
   "outputs": [],
   "source": [
    "plt.plot(jnp.sort(cord_distance))"
   ]
  },
  {
   "cell_type": "markdown",
   "id": "89f56364-5c8d-4779-8e54-f5ed5d39f141",
   "metadata": {},
   "source": [
    "### MCMC local shifts"
   ]
  },
  {
   "cell_type": "code",
   "execution_count": null,
   "id": "89d55897-61b4-4a6f-a716-c7c9f2e2cf16",
   "metadata": {},
   "outputs": [],
   "source": [
    "sh0 = shifts_batch"
   ]
  },
  {
   "cell_type": "code",
   "execution_count": null,
   "id": "4ab612a2-c27a-41d2-b804-f0530333639a",
   "metadata": {},
   "outputs": [],
   "source": [
    "N_mc_samples = 100\n",
    "key = random.PRNGKey(int(jnp.floor(np.random.rand()*1000)))\n",
    "key, subkey = random.split(key)\n",
    "\n",
    "vol0 = v_hmc_mean\n",
    "\n",
    "proj = jnp.array([slice_obj.rotate_and_interpolate_vmap(vol0, angles_batch[i]) for i in jnp.arange(angles_batch.shape[0])])\n",
    "\n",
    "#sh0 = shifts_new\n",
    "\n",
    "shifts_new = []\n",
    "N_batch = shifts_batch.shape[1]\n",
    "\n",
    "\n",
    "for i in jnp.arange(shifts_batch.shape[0]):\n",
    "    print(f\"Batch {i}\")\n",
    "    \n",
    "    params_shifts = {'v': vol0, \n",
    "                  'proj': proj[i], \n",
    "                  'ctf_params': ctf_params_batch[i], \n",
    "                  'imgs': imgs_batch[i]}\n",
    "\n",
    "    t0 = time.time()\n",
    "    _, shifts_r, shifts_samples = mcmc(key, proposals.proposal_shifts_local, sh0[i], N_mc_samples, params_shifts, N_batch, save_samples=1, iter_display=10)\n",
    "    print(time.time()-t0)\n",
    "\n",
    "    shifts_new.append(shifts_samples[N_mc_samples-2])\n",
    "    \n",
    "shifts_new = jnp.array(shifts_new)"
   ]
  },
  {
   "cell_type": "code",
   "execution_count": null,
   "id": "e625dc4d-24c7-40e2-bb5b-b84f79c1a621",
   "metadata": {},
   "outputs": [],
   "source": [
    "plt.plot(shifts_r[:,34])"
   ]
  },
  {
   "cell_type": "code",
   "execution_count": null,
   "id": "5345e047-9d8a-4981-8b87-7fcc1cbbe155",
   "metadata": {},
   "outputs": [],
   "source": [
    "plt.plot(shifts_samples[:,0,1])"
   ]
  },
  {
   "cell_type": "code",
   "execution_count": null,
   "id": "6faf06b3-0ce8-4972-8f0b-d5a12b196768",
   "metadata": {},
   "outputs": [],
   "source": [
    "shifts_samples[98,0,1]"
   ]
  },
  {
   "cell_type": "code",
   "execution_count": null,
   "id": "63a6b6fb-0124-45eb-ad69-46b21f474ea4",
   "metadata": {},
   "outputs": [],
   "source": [
    "shifts[0]"
   ]
  },
  {
   "cell_type": "markdown",
   "id": "bca279ad-c87f-40bd-bbf3-e338894d443c",
   "metadata": {},
   "source": [
    "### MCMC local perturbations for orientations"
   ]
  },
  {
   "cell_type": "code",
   "execution_count": null,
   "id": "086559f1-e8f5-4348-adb1-3741932e8471",
   "metadata": {},
   "outputs": [],
   "source": [
    "#Load a volume\n",
    "#vol_file = \"/gpfs/gibbs/pi/lederman/dge5/CrossValidationCryodrgnSet/Refine3D/crossvalidation1/run_class001.mrc\"\n",
    "#\n",
    "#with mrcfile.open(vol_file) as file:\n",
    "#    v_r = file.data\n",
    "#    \n",
    "#v, _, _ = volume_fourier(v_r, 1)\n",
    "#mip_z(jnp.fft.fftshift(jnp.abs(v))); plt.colorbar()"
   ]
  },
  {
   "cell_type": "code",
   "execution_count": null,
   "id": "0516f62f-7dc9-4115-bac1-a53530f3647c",
   "metadata": {},
   "outputs": [],
   "source": [
    "#a0 = jnp.array([generate_uniform_orientations_jax(subkey, angles_batch[0])])\n",
    "a0 = angles_batch #+ np.random.randn(*angles_batch.shape) *0.1\n",
    "v = vol0"
   ]
  },
  {
   "cell_type": "code",
   "execution_count": null,
   "id": "8ab24e56-9e96-436d-a0c0-65acb5fb7d2a",
   "metadata": {},
   "outputs": [],
   "source": [
    "print(a0[0])\n",
    "idx_batch = 0\n",
    "\n",
    "key, subkey = random.split(key)\n",
    "a1, _, _, _= proposals.proposal_orientations_perturb(subkey, a0[idx_batch], jnp.inf*jnp.ones(shifts_batch.shape[1]), v, shifts_batch[idx_batch], ctf_params_batch[idx_batch], imgs_batch[idx_batch], jnp.array([0.01]))\n",
    "print(a1[0])"
   ]
  },
  {
   "cell_type": "code",
   "execution_count": null,
   "id": "6ace551c-c0a4-4cd1-894a-31fb4ab278d6",
   "metadata": {},
   "outputs": [],
   "source": [
    "N_mc_samples = 400\n",
    "key = random.PRNGKey(int(jnp.floor(np.random.rand()*1000)))\n",
    "key, subkey = random.split(key)\n",
    "\n",
    "sigma_perturb_list = jnp.array([1, 0.1, 0.01, 0.001, 0.00001])\n",
    "\n",
    "angles_new = []\n",
    "N_batch = shifts_batch.shape[1]\n",
    "\n",
    "for i in jnp.arange(shifts_batch.shape[0]):\n",
    "    print(f\"Batch {i}\")\n",
    "    \n",
    "    params_angles = {'v': v, \n",
    "                    'shifts': shifts_new[i], \n",
    "                    'ctf_params': ctf_params_batch[i], \n",
    "                    'imgs': imgs_batch[i],\n",
    "                    'sigma_perturb' : sigma_perturb_list}\n",
    "\n",
    "    t0 = time.time()\n",
    "    _, angles_r, angles_samples = mcmc(key, proposals.proposal_orientations_perturb, a0[i], N_mc_samples, params_angles, N_batch, save_samples=1, iter_display=10)\n",
    "    print(time.time()-t0)\n",
    "\n",
    "    angles_new.append(angles_samples[N_mc_samples-2])\n",
    "    \n",
    "angles_new = jnp.array(angles_new)\n"
   ]
  },
  {
   "cell_type": "code",
   "execution_count": null,
   "id": "4a8011a5-973d-4507-88cf-e4d44794b537",
   "metadata": {},
   "outputs": [],
   "source": [
    "img_idx = 101\n",
    "ang_idx = 2\n",
    "\n",
    "fig = plt.figure()\n",
    "ax = fig.add_subplot(projection='3d')\n",
    "ax.scatter(angles_samples[:, img_idx, 0], angles_samples[:, img_idx, 1], angles_samples[:, img_idx, 2] )\n",
    "plt.show()"
   ]
  },
  {
   "cell_type": "code",
   "execution_count": null,
   "id": "b6590540-4c7b-465c-8bd5-a50a672742b4",
   "metadata": {},
   "outputs": [],
   "source": [
    "angles_samples.shape"
   ]
  },
  {
   "cell_type": "code",
   "execution_count": null,
   "id": "49627efd-47a6-4f04-9326-be7c5027277d",
   "metadata": {},
   "outputs": [],
   "source": [
    "nbins=30\n",
    "counts0, bins0 = np.histogram(angles_samples[:, img_idx, 0], bins=nbins)\n",
    "_ =plt.hist(bins0[:-1], bins0, weights=counts0)\n",
    "\n",
    "counts1, bins1 = np.histogram(angles_samples[:, img_idx, 1], bins=nbins)\n",
    "_ =plt.hist(bins1[:-1], bins1, weights=counts1)\n",
    "\n",
    "counts2, bins2 = np.histogram(angles_samples[:, img_idx, 2], bins=nbins)\n",
    "_ =plt.hist(bins2[:-1], bins2, weights=counts2)\n"
   ]
  },
  {
   "cell_type": "code",
   "execution_count": null,
   "id": "20a30f74-4a1e-47b9-bfc1-013a0640ad4a",
   "metadata": {},
   "outputs": [],
   "source": [
    "plt.plot(jnp.mod(jnp.abs(angles_samples[:,img_idx,ang_idx] - angles[img_idx,ang_idx]), 2*jnp.pi))"
   ]
  },
  {
   "cell_type": "code",
   "execution_count": null,
   "id": "e8590a49-4d5d-4643-b951-d4923432d272",
   "metadata": {},
   "outputs": [],
   "source": [
    "theta0, cord_distance0 = err_orientations(angles_batch[0], a0[0])\n",
    "theta_rec, cord_distance_rec = err_orientations(angles_batch[0], angles_new[0])"
   ]
  },
  {
   "cell_type": "code",
   "execution_count": null,
   "id": "59a91a23-bfcb-44c9-bd2a-fcf14cc13527",
   "metadata": {},
   "outputs": [],
   "source": [
    "plt.rcParams[\"figure.figsize\"]=12,6\n",
    "\n",
    "plt.subplot(1,2,1)\n",
    "nbins=100\n",
    "counts, bins = np.histogram(theta0, bins=nbins)\n",
    "_ = plt.hist(bins[:-1], bins, weights=counts)\n",
    "plt.title(\"Theta: a_0\")\n",
    "\n",
    "plt.subplot(1,2,2)\n",
    "nbins=100\n",
    "counts, bins = np.histogram(theta_rec, bins=nbins)\n",
    "_ = plt.hist(bins[:-1], bins, weights=counts)\n",
    "plt.title(\"Theta: a_rec\")\n",
    "\n",
    "plt.rcParams[\"figure.figsize\"]=6,6"
   ]
  },
  {
   "cell_type": "code",
   "execution_count": null,
   "id": "90ffc1e4-8236-4fe2-8723-5f05bded7229",
   "metadata": {},
   "outputs": [],
   "source": [
    "plt.rcParams[\"figure.figsize\"]=12,6\n",
    "\n",
    "plt.subplot(1,2,1)\n",
    "nbins=100\n",
    "counts, bins = np.histogram(cord_distance0, bins=nbins)\n",
    "_ = plt.hist(bins[:-1], bins, weights=counts)\n",
    "plt.title(\"Cord distance: a_0\")\n",
    "\n",
    "plt.subplot(1,2,2)\n",
    "nbins=100\n",
    "counts, bins = np.histogram(cord_distance_rec, bins=nbins)\n",
    "_ = plt.hist(bins[:-1], bins, weights=counts)\n",
    "plt.title(\"Cord distance: a_rec\")\n",
    "\n",
    "plt.rcParams[\"figure.figsize\"]=6,6"
   ]
  },
  {
   "cell_type": "code",
   "execution_count": null,
   "id": "5fd1fd11-09b8-4668-9a77-0ce05f133a7e",
   "metadata": {},
   "outputs": [],
   "source": [
    "cd_sorted0 = jnp.sort(cord_distance0)\n",
    "cd_sorted_rec = jnp.sort(cord_distance_rec)\n",
    "\n",
    "plt.plot(cd_sorted0)\n",
    "plt.plot(cd_sorted_rec)\n",
    "plt.legend([\"0\", \"rec\"])"
   ]
  },
  {
   "cell_type": "markdown",
   "id": "d2dfcaaa-808e-46f2-9119-621dc90c1db0",
   "metadata": {},
   "source": [
    "### CG - choosing $\\alpha$"
   ]
  },
  {
   "cell_type": "code",
   "execution_count": null,
   "id": "56f2dc50-bdfd-40ee-82f4-9de5ef72c44d",
   "metadata": {},
   "outputs": [],
   "source": [
    "centre = (0,0,0)\n",
    "#radius = 0.045\n",
    "radius = 0.093\n",
    "mask = create_3d_mask(x_grid, centre, radius)\n",
    "mask2d = mask[:,:,0]\n",
    "\n",
    "plt.imshow(jnp.fft.fftshift(mask2d)); plt.colorbar()"
   ]
  },
  {
   "cell_type": "markdown",
   "id": "5608b4e1-01ed-4468-acce-5932578bdaa9",
   "metadata": {},
   "source": [
    "First, the slice function and the data fidelity function (i.e. the loss function with $\\alpha=0$):"
   ]
  },
  {
   "cell_type": "code",
   "execution_count": null,
   "id": "2e4dde53-3913-4a4d-93b2-45241183622e",
   "metadata": {},
   "outputs": [],
   "source": [
    "slice_func,slice_func_array, slice_func_array_angles = get_slice_funcs(project, x_grid, mask, \"tri\")\n",
    "fid_func, fid_func_batched, fid_func_sum, _ = get_loss_funcs(slice_func, alpha = 0)"
   ]
  },
  {
   "cell_type": "markdown",
   "id": "fd70032f-a25f-4d4a-8550-cda8944374db",
   "metadata": {},
   "source": [
    "The noise"
   ]
  },
  {
   "cell_type": "code",
   "execution_count": null,
   "id": "6043916c-e4e7-4aa3-ac88-970705ab6590",
   "metadata": {},
   "outputs": [],
   "source": [
    "print(\"sigma noise min =\", jnp.min(sigma_noise))\n",
    "print(\"sigma noise max =\", jnp.max(sigma_noise))\n",
    "print(\"sigma noise mean =\", jnp.mean(sigma_noise))\n",
    "\n",
    "#sigma_noise = jnp.max(sigma_noise)*jnp.ones(sigma_noise.shape)\n",
    "plt.imshow(jnp.fft.fftshift(sigma_noise.reshape([nx,nx]))); plt.colorbar()"
   ]
  },
  {
   "cell_type": "code",
   "execution_count": null,
   "id": "e67b5adc-fbb3-49a1-b54e-9b1b52690f1e",
   "metadata": {},
   "outputs": [],
   "source": [
    "imgs_f_m = imgs_f * mask2d.reshape(-1)"
   ]
  },
  {
   "cell_type": "code",
   "execution_count": null,
   "id": "83358361-ec88-49fc-8f41-8d3fc33aade1",
   "metadata": {},
   "outputs": [],
   "source": [
    "N_iter = 50100\n",
    "eps = 1e-4\n",
    "#eps = 1e-5\n",
    "#eps = 1e-3\n",
    "#eps = 1e-6\n",
    "v0 = jnp.zeros([nx,nx,nx])* 1j\n",
    "#alphas = [1.1e-6, 1e-5, 1e-4, 1e-3, 1e-2, 1e-1, 1e0, 1e1, 1e2, 1e3]\n",
    "#alphas = [1e-10, 1e-9, 1e-8]\n",
    "alphas = [1e-8]\n",
    "vcgs = []\n",
    "fids = []\n",
    "regs = []\n",
    "losss = []\n",
    "angles_cg = angles"
   ]
  },
  {
   "cell_type": "code",
   "execution_count": null,
   "id": "d3bfd6ef-e55e-4aa2-b744-92999fcc46d5",
   "metadata": {},
   "outputs": [],
   "source": [
    "N_alpha = len(alphas)\n",
    "for alpha in alphas[:N_alpha]:\n",
    "    t0 = time.time()\n",
    "    print('alpha =', alpha)\n",
    "    \n",
    "    loss_func, loss_func_batched, loss_func_sum, _ = get_loss_funcs(slice_func, alpha = alpha)\n",
    "    grad_loss_volume, grad_loss_volume_sum = get_grad_v_funcs(loss_func, loss_func_sum)\n",
    "    \n",
    "    AA, Ab = get_cg_vol_ops(grad_loss_volume_sum, angles_cg, shifts, ctf_params, imgs_f_m, v0.shape, sigma_noise)\n",
    "    vcg, _ = conjugate_gradient(AA, Ab, v0, N_iter, eps, verbose = True)\n",
    "    \n",
    "    fid = 2*fid_func_sum(vcg, angles_cg, shifts, ctf_params, imgs_f_m, sigma_noise)/(nx*nx)\n",
    "    reg = l2sq(vcg)/(nx*nx*nx)\n",
    "    loss = loss_func_sum(vcg, angles_cg, shifts, ctf_params, imgs_f_m, sigma_noise)/(nx*nx)\n",
    "    \n",
    "    vcgs.append(vcg)\n",
    "    fids.append(fid)\n",
    "    regs.append(reg)\n",
    "    losss.append(loss)\n",
    "    \n",
    "    print(\"  fid =\", fid)\n",
    "    print(\"  reg =\", reg)\n",
    "    print(\"  loss =\", loss)\n",
    "    \n",
    "    print(\"  Time =\", time.time() - t0)\n",
    "    \n",
    "vcgs = jnp.array(vcgs)\n",
    "fids = jnp.array(fids)\n",
    "regs = jnp.array(regs)\n",
    "losss = jnp.array(losss)\n",
    "alphas = jnp.array(alphas)\n",
    "\n",
    "alpha_idx = jnp.argmin(fids)"
   ]
  },
  {
   "cell_type": "code",
   "execution_count": null,
   "id": "76ee0514-318a-401a-90d1-6a167d29a183",
   "metadata": {},
   "outputs": [],
   "source": [
    "plt.semilogx(alphas, fids)\n",
    "plt.semilogx(alphas, regs)\n",
    "plt.semilogx(alphas, losss)\n",
    "plt.legend(['fid', 'reg', 'fid+reg'])"
   ]
  },
  {
   "cell_type": "code",
   "execution_count": null,
   "id": "3167989d-d69f-4772-9ae1-665ef800b503",
   "metadata": {},
   "outputs": [],
   "source": [
    "plt.plot(fids)"
   ]
  },
  {
   "cell_type": "code",
   "execution_count": null,
   "id": "16bd534d-ea4d-4718-99bb-961761029617",
   "metadata": {},
   "outputs": [],
   "source": [
    "plt.semilogy(regs)"
   ]
  },
  {
   "cell_type": "markdown",
   "id": "8a87faf4-a561-4e74-8ece-041b634e532c",
   "metadata": {},
   "source": [
    "Pixel-wise loss for the best reconstruction:"
   ]
  },
  {
   "cell_type": "code",
   "execution_count": null,
   "id": "5d719829-944c-434a-a44c-ce415a4c83c4",
   "metadata": {},
   "outputs": [],
   "source": [
    "mask.shape"
   ]
  },
  {
   "cell_type": "code",
   "execution_count": null,
   "id": "fcbe112e-2caa-42a9-a84d-fc3862fd6b25",
   "metadata": {},
   "outputs": [],
   "source": [
    "def pixel_wise_fid_fun(v, slice_func_array, angles, shifts, ctf_params, imgs, sigma):\n",
    "    err = slice_func_array(v, angles, shifts, ctf_params) - imgs\n",
    "    return jnp.mean(jnp.real(jnp.conj(err)*err), axis = 0)/(2*sigma**2)\n",
    "    #return jnp.mean(jnp.real(jnp.conj(err)*err), axis = 0)/2"
   ]
  },
  {
   "cell_type": "code",
   "execution_count": null,
   "id": "67a6d9ca-9014-41bd-8818-f404b64cc91f",
   "metadata": {},
   "outputs": [],
   "source": [
    "alphas[alpha_idx]"
   ]
  },
  {
   "cell_type": "code",
   "execution_count": null,
   "id": "2b4fc776-943d-4cfb-96c8-2408ef921eeb",
   "metadata": {},
   "outputs": [],
   "source": [
    "sigma_noise1 = jnp.ones(sigma_noise.shape)"
   ]
  },
  {
   "cell_type": "code",
   "execution_count": null,
   "id": "be6fe317-0988-4e6b-a2da-aa5eec094fdf",
   "metadata": {},
   "outputs": [],
   "source": [
    "pw_fid = pixel_wise_fid_fun(vcgs[0], slice_func_array, angles, shifts, ctf_params, imgs_f_m, sigma_noise1)\n",
    "plt.imshow(jnp.fft.fftshift(pw_fid.reshape([nx,nx]))); plt.colorbar()"
   ]
  },
  {
   "cell_type": "markdown",
   "id": "6036fa4d-db57-43c5-aaaf-4e58a1a18452",
   "metadata": {},
   "source": [
    "Pixel-wise loss for the ZERO volume:"
   ]
  },
  {
   "cell_type": "code",
   "execution_count": null,
   "id": "739ad76f-ebee-4890-8d65-d84c36ffbbd7",
   "metadata": {},
   "outputs": [],
   "source": [
    "pw_fid0 = pixel_wise_fid_fun(jnp.zeros(v0.shape), slice_func_array, angles_rec, shifts, ctf_params, imgs_f_m, sigma_noise1)\n",
    "plt.imshow(jnp.fft.fftshift(pw_fid0.reshape([nx,nx]))); plt.colorbar()"
   ]
  },
  {
   "cell_type": "code",
   "execution_count": null,
   "id": "d8556022-d53c-44b6-b86f-b849373a8d48",
   "metadata": {},
   "outputs": [],
   "source": [
    "alpha_idx = jnp.argmin(fids)\n",
    "print(alpha_idx)"
   ]
  },
  {
   "cell_type": "code",
   "execution_count": null,
   "id": "a655641b-efbf-4332-80ae-07db98b309e3",
   "metadata": {},
   "outputs": [],
   "source": [
    "#alpha_idx = 2"
   ]
  },
  {
   "cell_type": "code",
   "execution_count": null,
   "id": "6a9898c6-0e22-47c6-9036-091e98187d82",
   "metadata": {},
   "outputs": [],
   "source": [
    "print(alphas[alpha_idx])\n",
    "plt.imshow(jnp.abs(jnp.fft.fftshift(vcgs[alpha_idx][:,0,:]))); plt.colorbar()"
   ]
  },
  {
   "cell_type": "code",
   "execution_count": null,
   "id": "5ab7640e-7f0e-4967-8097-171718e99f9d",
   "metadata": {},
   "outputs": [],
   "source": [
    "img_idx = 100\n",
    "s0 = slice_func(vcgs[alpha_idx], angles_cg[img_idx], shifts[img_idx], ctf_params[img_idx])\n",
    "plt.imshow(jnp.fft.fftshift(jnp.abs(s0).reshape(nx,nx))); plt.colorbar()"
   ]
  },
  {
   "cell_type": "code",
   "execution_count": null,
   "id": "aaf9f6f9-543e-462b-b895-2238d08a4c1d",
   "metadata": {},
   "outputs": [],
   "source": [
    "plt.imshow(jnp.fft.fftshift(jnp.abs(imgs_f[img_idx]).reshape(nx,nx))); plt.colorbar()"
   ]
  },
  {
   "cell_type": "code",
   "execution_count": null,
   "id": "6a2afe7a-0e19-4961-931c-4bd8246df8a4",
   "metadata": {},
   "outputs": [],
   "source": [
    "plt.imshow(jnp.fft.fftshift(jnp.abs(s0 - imgs_f[img_idx]).reshape(nx,nx))); plt.colorbar()"
   ]
  },
  {
   "cell_type": "code",
   "execution_count": null,
   "id": "1e077aad-e12a-49cc-8ebf-e28b032b7f5b",
   "metadata": {},
   "outputs": [],
   "source": [
    "vr_rec = jnp.real(jnp.fft.fftshift(jnp.fft.ifftn(v_rec)))\n",
    "mip_z(vr_rec)\n",
    "plt.colorbar()\n",
    "plt.title('Reconstruction MIP')"
   ]
  },
  {
   "cell_type": "code",
   "execution_count": null,
   "id": "26858cf7-2389-4aa7-9de7-744f6591bd60",
   "metadata": {},
   "outputs": [],
   "source": [
    "vcg_r = jnp.real(jnp.fft.fftshift(jnp.fft.ifftn(vcgs[alpha_idx])))\n",
    "mip_z(vcg_r)\n",
    "plt.colorbar()\n",
    "plt.title('Reconstruction MIP')\n"
   ]
  },
  {
   "cell_type": "code",
   "execution_count": null,
   "id": "1ff82d68-f69b-4273-88f0-df50ffa376ac",
   "metadata": {},
   "outputs": [],
   "source": [
    "with mrcfile.new('../data/reconstruction_data_32_cg_alpha.mrc', overwrite=True) as mrc:\n",
    "    mrc.set_data(vcg_r.astype(np.float32))"
   ]
  },
  {
   "cell_type": "markdown",
   "id": "b653e42f-ee51-4e2a-8550-89ba39074caa",
   "metadata": {},
   "source": [
    "### FSC, orientations, standard deviation for each voxel etc"
   ]
  },
  {
   "cell_type": "code",
   "execution_count": null,
   "id": "b3023626-4344-4cc3-8eef-4698a410b17e",
   "metadata": {},
   "outputs": [],
   "source": [
    "vcg1 = vcgs[0]\n",
    "vcg2 = vcgs[6]"
   ]
  },
  {
   "cell_type": "code",
   "execution_count": null,
   "id": "74ebdf61-c0f8-47bb-94e9-0d1d5fcfada7",
   "metadata": {},
   "outputs": [],
   "source": [
    "res, fsc, shell_points = calc_fsc(vcg1, vcg2, x_grid)"
   ]
  },
  {
   "cell_type": "code",
   "execution_count": null,
   "id": "10b0b78f-b87f-417d-a943-02fb1c6ac351",
   "metadata": {},
   "outputs": [],
   "source": [
    "points_v_tri = points_orientations_tri(angles, x_grid[1].astype(jnp.int64), number_of_batches = 1000)\n",
    "#points_v_nn = points_orientations_nn(angles[:1000], x_grid[1])"
   ]
  },
  {
   "cell_type": "code",
   "execution_count": null,
   "id": "968e4598-0813-4bf0-acac-d06f82e1c01b",
   "metadata": {},
   "outputs": [],
   "source": [
    "plt.imshow(jnp.fft.fftshift(points_v_tri[:,:,0])); plt.colorbar()"
   ]
  },
  {
   "cell_type": "code",
   "execution_count": null,
   "id": "3872bce6-0669-4919-b565-a26ec47da87c",
   "metadata": {},
   "outputs": [],
   "source": [
    "res_spu, spu_tri = shell_points_used(points_v_tri, x_grid)"
   ]
  },
  {
   "cell_type": "code",
   "execution_count": null,
   "id": "686771d8-585d-4ef5-b2c2-3ff54cc1fe53",
   "metadata": {},
   "outputs": [],
   "source": [
    "plt.plot(res, fsc)\n",
    "plt.plot(res_spu, spu_tri)\n",
    "plt.hlines([0.143, 0.5], xmin=min(res), xmax=max(res), colors = ['gray'], linestyles=['dashed'])\n",
    "plt.legend(['FSC', 'fraction shell points used', '0.143, 0.5'])\n",
    "#plt.title('Clustered angles')"
   ]
  },
  {
   "cell_type": "code",
   "execution_count": null,
   "id": "0dd23093-9459-4557-bf7f-ad96e33ae3b8",
   "metadata": {},
   "outputs": [],
   "source": [
    "plt.imshow((jnp.sqrt(jnp.abs(jnp.fft.fftshift(points_v_tri[0,:,:]*mask[0,:,:]))))); plt.colorbar()"
   ]
  },
  {
   "cell_type": "code",
   "execution_count": null,
   "id": "921cfd97-8491-4343-b850-ff9ad2edb4a0",
   "metadata": {},
   "outputs": [],
   "source": [
    "plt.imshow((jnp.sqrt(jnp.abs(jnp.fft.fftshift(points_v_tri[:,0,:]*mask[:,0,:]))))); plt.colorbar()"
   ]
  },
  {
   "cell_type": "code",
   "execution_count": null,
   "id": "5ff30552-3b7d-4296-a0be-9d363ce7a52b",
   "metadata": {},
   "outputs": [],
   "source": [
    "plt.imshow((jnp.sqrt(jnp.abs(jnp.fft.fftshift(points_v_tri[:,:,0]*mask[:,:,0]))))); plt.colorbar()"
   ]
  },
  {
   "cell_type": "code",
   "execution_count": null,
   "id": "303963a2-0e0f-4f99-8b5c-ea7eca8988aa",
   "metadata": {},
   "outputs": [],
   "source": [
    "vones = jnp.ones(vcg1.shape)\n",
    "omega = AA(vones)\n",
    "omega = 1/omega"
   ]
  },
  {
   "cell_type": "code",
   "execution_count": null,
   "id": "4ae0ec7d-e67d-4d63-8b80-5d762754a4ea",
   "metadata": {},
   "outputs": [],
   "source": [
    "jnp.min(jnp.abs(omega))"
   ]
  },
  {
   "cell_type": "code",
   "execution_count": null,
   "id": "651b69ae-9392-4bbd-b161-ea76ebba88a7",
   "metadata": {},
   "outputs": [],
   "source": [
    "plt.title(\"Standard deviation\")\n",
    "plt.imshow(jnp.abs(jnp.fft.fftshift(omega[0,:,:]))); plt.colorbar()"
   ]
  },
  {
   "cell_type": "code",
   "execution_count": null,
   "id": "e1dade3d-f251-4a09-8f0e-fbff944ddc01",
   "metadata": {},
   "outputs": [],
   "source": [
    "plt.imshow(jnp.abs(jnp.fft.fftshift(omega[:,0,:]))); plt.colorbar()"
   ]
  },
  {
   "cell_type": "code",
   "execution_count": null,
   "id": "b0bbdc7a-5449-4b69-b965-ec033ff5f56c",
   "metadata": {},
   "outputs": [],
   "source": [
    "plt.imshow(jnp.abs(jnp.fft.fftshift(omega[:,:,0]))); plt.colorbar()"
   ]
  },
  {
   "cell_type": "markdown",
   "id": "4c35c276-7388-4850-b5c3-7e99d32b62e3",
   "metadata": {},
   "source": [
    "### SGD"
   ]
  },
  {
   "cell_type": "markdown",
   "id": "b9aea732-7d83-4cf1-b5da-26a3eb90996f",
   "metadata": {},
   "source": [
    "### Preconditioner"
   ]
  },
  {
   "cell_type": "code",
   "execution_count": null,
   "id": "d5483136-f3e1-4731-b9f7-e70aaa8edda4",
   "metadata": {},
   "outputs": [],
   "source": [
    "P = get_preconditioner(x_grid) * mask\n",
    "#P = jnp.sqrt(P) /jnp.max(P) + 1e-6\n",
    "#P = jnp.sqrt(P)\n",
    "P = P**0.15\n",
    "P = P /jnp.max(P)+ 1e-6\n",
    "plt.imshow(jnp.fft.fftshift(P[:,:,0]));plt.colorbar()\n",
    "print(P[0,0,0])\n",
    "print(jnp.max(P))\n",
    "print(jnp.min(P))"
   ]
  },
  {
   "cell_type": "markdown",
   "id": "c11dc228-2154-4ca5-a1c9-6d1bd477335e",
   "metadata": {},
   "source": [
    "### Points/orientations preconditioner"
   ]
  },
  {
   "cell_type": "code",
   "execution_count": null,
   "id": "579ca5a9-ce93-41b6-a533-b4305403f4d9",
   "metadata": {},
   "outputs": [],
   "source": [
    "P = points_v_tri +1\n",
    "P = 1/P * mask + 1e-12\n",
    "P = P/jnp.max(P) * mask\n",
    "plt.imshow(jnp.fft.fftshift(P[:,:,0]));plt.colorbar()\n",
    "print(P[0,0,0])\n",
    "print(jnp.max(P))\n",
    "print(jnp.min(P))"
   ]
  },
  {
   "cell_type": "markdown",
   "id": "cf884677-9d3f-476b-9e38-9f7eeebc6d07",
   "metadata": {},
   "source": [
    "### $\\alpha$ tuning"
   ]
  },
  {
   "cell_type": "code",
   "execution_count": null,
   "id": "bd2cf7ef-f772-4d65-8507-6a4a9bddfebe",
   "metadata": {},
   "outputs": [],
   "source": [
    "mask2d = mask[:,:,0]\n",
    "imgs_f_m = imgs_f * mask2d.reshape(-1)"
   ]
  },
  {
   "cell_type": "code",
   "execution_count": null,
   "id": "48294e95-d1e6-4bcc-8b24-20ab96657410",
   "metadata": {},
   "outputs": [],
   "source": [
    "N_epoch = 501000\n",
    "batch_size = 300\n",
    "#learning_rate = 100000\n",
    "learning_rate = 10000 * 100\n",
    "#learning_rate = 10000 # for \"large\" alpha\n",
    "\n",
    "P = None\n",
    "\n",
    "#eps = 3e-5\n",
    "#eps = 1e-3\n",
    "#eps = 1e-9\n",
    "eps = 1e-8\n",
    "v0 = jnp.zeros([nx,nx,nx])* 1j\n",
    "#alphas = 1/100 * jnp.array([1e-9, 1e-8, 1e-7, 1.1e-6, 1e-5, 1e-4, 1e-3, 1e-2, 1e-1]) #, 1e0, 1e1, 1e2, 1e3]\n",
    "#alphas = [1e-10, 1e-9, 1e-8, 1e-7]\n",
    "alphas = [1e-9]\n",
    "\n",
    "angles_gd = angles"
   ]
  },
  {
   "cell_type": "code",
   "execution_count": null,
   "id": "a48a7ed8-6bf1-4afa-948b-ee8a73780ff3",
   "metadata": {},
   "outputs": [],
   "source": [
    "vgds = []\n",
    "fids = []\n",
    "regs = []\n",
    "losss = []\n",
    "\n",
    "#N_alpha = 4\n",
    "for alpha in alphas:\n",
    "    t0 = time.time()\n",
    "    print('alpha =', alpha)\n",
    "    \n",
    "    slice_func,slice_func_array, slice_func_array_angles = get_slice_funcs(project, x_grid, mask, \"tri\")\n",
    "    loss_func, loss_func_batched, loss_func_sum, _ = get_loss_funcs(slice_func, alpha = alpha)\n",
    "\n",
    "    grad_loss_volume, grad_loss_volume_sum = get_grad_v_funcs(loss_func, loss_func_sum)\n",
    "\n",
    "    sgd_grad_func = get_sgd_vol_ops(grad_loss_volume_sum, angles_gd, shifts, ctf_params, imgs_f_m, sigma_noise)\n",
    "    \n",
    "    vgd = sgd(sgd_grad_func, N, v0, learning_rate, N_epoch, batch_size, P, eps, verbose = True)\n",
    "    \n",
    "    fid = 2*fid_func_sum(vgd, angles_gd, shifts, ctf_params, imgs_f_m, sigma_noise)/(nx*nx)\n",
    "    reg = l2sq(vgd)/(nx*nx*nx)\n",
    "    loss = loss_func_sum(vgd, angles_gd, shifts, ctf_params, imgs_f_m, sigma_noise)/(nx*nx)\n",
    "    \n",
    "    vgds.append(vgd)\n",
    "    fids.append(fid)\n",
    "    regs.append(reg)\n",
    "    losss.append(loss)\n",
    "    \n",
    "    print(\"  fid =\", fid)\n",
    "    print(\"  reg =\", reg)\n",
    "    print(\"  loss =\", loss)\n",
    "    \n",
    "    print(\"  Time =\", time.time() - t0)\n",
    "    \n",
    "vgds = jnp.array(vgds)\n",
    "fids = jnp.array(fids)\n",
    "regs = jnp.array(regs)\n",
    "losss = jnp.array(losss)\n",
    "alphas = jnp.array(alphas)\n",
    "\n",
    "alpha_idx = jnp.argmin(fids)"
   ]
  },
  {
   "cell_type": "code",
   "execution_count": null,
   "id": "73b4b216-861e-48bb-b70d-8bdeab9eaccf",
   "metadata": {},
   "outputs": [],
   "source": [
    "vgds = jnp.array(vgds)\n",
    "fids = jnp.array(fids)\n",
    "regs = jnp.array(regs)\n",
    "losss = jnp.array(losss)\n",
    "alphas = jnp.array(alphas)\n",
    "\n",
    "alpha_idx = jnp.argmin(fids)\n",
    "\n",
    "N_alpha= len(fids)"
   ]
  },
  {
   "cell_type": "code",
   "execution_count": null,
   "id": "ee200b41-2dd7-43dd-8a4d-0958e3c89325",
   "metadata": {},
   "outputs": [],
   "source": [
    "plt.semilogx(alphas[:N_alpha], fids)\n",
    "plt.semilogx(alphas[:N_alpha], regs)\n",
    "plt.semilogx(alphas[:N_alpha], losss)\n",
    "plt.legend(['fid', 'reg', 'fid+reg'])"
   ]
  },
  {
   "cell_type": "code",
   "execution_count": null,
   "id": "63272519-7915-4fce-ab3d-0c66115c010f",
   "metadata": {},
   "outputs": [],
   "source": [
    "plt.plot(fids)"
   ]
  },
  {
   "cell_type": "code",
   "execution_count": null,
   "id": "9485f2c0-ac8c-440a-99e4-4b0b700d5358",
   "metadata": {},
   "outputs": [],
   "source": [
    "plt.semilogy(regs)"
   ]
  },
  {
   "cell_type": "code",
   "execution_count": null,
   "id": "71209414-fdb8-464d-a847-61b735a44ebb",
   "metadata": {},
   "outputs": [],
   "source": [
    "alphas[2]"
   ]
  },
  {
   "cell_type": "code",
   "execution_count": null,
   "id": "1307609d-8f7d-40ad-99d6-2154e10a76f7",
   "metadata": {},
   "outputs": [],
   "source": [
    "#alpha_idx= 3\n",
    "#alpha_idx=5\n",
    "#alpha_idx=0"
   ]
  },
  {
   "cell_type": "code",
   "execution_count": null,
   "id": "6b3f0cec-6169-4535-b2ed-94b67dc4e30a",
   "metadata": {},
   "outputs": [],
   "source": [
    "pw_fid = pixel_wise_fid_fun(vgds[alpha_idx], slice_func_array, angles_gd, shifts, ctf_params, imgs_f_m, sigma_noise)\n",
    "plt.imshow(jnp.fft.fftshift(pw_fid.reshape([nx,nx]))); plt.colorbar()\n",
    "print(jnp.max(pw_fid))"
   ]
  },
  {
   "cell_type": "code",
   "execution_count": null,
   "id": "a04862fc-6e44-4ba8-a569-1400bc259db9",
   "metadata": {},
   "outputs": [],
   "source": [
    "pw_fid0 = pixel_wise_fid_fun(jnp.zeros(vgd.shape), slice_func_array, angles_gd, shifts, ctf_params, imgs_f_m, sigma_noise)\n",
    "plt.imshow(jnp.fft.fftshift(pw_fid0.reshape([nx,nx]))); plt.colorbar()\n",
    "print(jnp.max(pw_fid))"
   ]
  },
  {
   "cell_type": "code",
   "execution_count": null,
   "id": "2fea2c71-daa6-4675-ab19-53e7196f3259",
   "metadata": {},
   "outputs": [],
   "source": [
    "plt.imshow(jnp.fft.fftshift(jnp.abs(vgds[alpha_idx,:,0,:]))); plt.colorbar()"
   ]
  },
  {
   "cell_type": "code",
   "execution_count": null,
   "id": "fd903912-7cd6-4db6-ba3f-992ed65268c6",
   "metadata": {},
   "outputs": [],
   "source": [
    "#plt.imshow(jnp.fft.fftshift(jnp.abs(v_rec[:,0,:]))); plt.colorbar()"
   ]
  },
  {
   "cell_type": "code",
   "execution_count": null,
   "id": "47048d3f-f9ae-438e-97f6-969dce8181ce",
   "metadata": {},
   "outputs": [],
   "source": [
    "#err = vgds[1] - v_rec\n",
    "#plt.imshow(jnp.fft.fftshift((jnp.abs(err[:,0,:]))*mask[:,0,:])); plt.colorbar()"
   ]
  },
  {
   "cell_type": "code",
   "execution_count": null,
   "id": "ba16436e-da15-4efa-b0e2-1b92884d0697",
   "metadata": {},
   "outputs": [],
   "source": [
    "vgds_s = vgds[:,:,0,0]\n",
    "vgds_s.shape\n",
    "\n",
    "plt.plot(jnp.abs(vgds_s[0]))\n",
    "plt.plot(jnp.abs(vgds_s[1])*1.1)\n",
    "plt.plot(jnp.abs(vgds_s[2])*2)\n",
    "plt.plot(jnp.abs(vgds_s[3])*7)\n"
   ]
  },
  {
   "cell_type": "code",
   "execution_count": null,
   "id": "74a34d92-aed0-41fa-a6d4-93116e66969e",
   "metadata": {},
   "outputs": [],
   "source": [
    "vr_sgd = jnp.real(jnp.fft.fftshift(jnp.fft.ifftn(vgds[alpha_idx])))\n",
    "mip_z(vr_sgd)\n",
    "plt.colorbar()\n",
    "plt.title('Reconstruction MIP')"
   ]
  },
  {
   "cell_type": "code",
   "execution_count": null,
   "id": "a5ab9704-c98b-4c50-a29e-bfd66a4ecd6f",
   "metadata": {},
   "outputs": [],
   "source": [
    "vr_rec = jnp.real(jnp.fft.fftshift(jnp.fft.ifftn(v_rec)))\n",
    "mip_z(vr_rec)\n",
    "plt.colorbar()\n",
    "plt.title('Reconstruction MIP')"
   ]
  },
  {
   "cell_type": "code",
   "execution_count": null,
   "id": "4427a131-cec4-4e68-94cc-07b7b0ba85a4",
   "metadata": {},
   "outputs": [],
   "source": [
    "with mrcfile.new('../data/reconstruction_data_32_sgd_alpha.mrc', overwrite=True) as mrc:\n",
    "    mrc.set_data(vr_sgd.astype(np.float32))"
   ]
  },
  {
   "cell_type": "code",
   "execution_count": null,
   "id": "a5b871bb-9c0a-41cd-a077-94a75fa16b04",
   "metadata": {},
   "outputs": [],
   "source": [
    "idx = 100"
   ]
  },
  {
   "cell_type": "code",
   "execution_count": null,
   "id": "c2d6cffb-403f-449b-ab12-55124f797da5",
   "metadata": {},
   "outputs": [],
   "source": [
    "slicegd = slice_func(vgds[alpha_idx], angles_gd[idx], shifts[idx], ctf_params[idx])\n",
    "#slicerec = slice_func(v_rec, angles_gd[idx], shifts[idx], ctf_params[idx])"
   ]
  },
  {
   "cell_type": "code",
   "execution_count": null,
   "id": "7c52a12a-5b43-44d8-ade7-3a215588c440",
   "metadata": {},
   "outputs": [],
   "source": [
    "plt.imshow(jnp.abs(jnp.fft.fftshift(slicegd.reshape([nx,nx])))); plt.colorbar()"
   ]
  },
  {
   "cell_type": "code",
   "execution_count": null,
   "id": "322eb689-8112-4891-8508-86768604ae87",
   "metadata": {},
   "outputs": [],
   "source": [
    "#plt.imshow(jnp.abs(jnp.fft.fftshift(slicerec.reshape([32,32])))); plt.colorbar()"
   ]
  },
  {
   "cell_type": "code",
   "execution_count": null,
   "id": "c5c483bc-c8b4-465a-8e7c-804565988ccc",
   "metadata": {},
   "outputs": [],
   "source": [
    "plt.imshow(jnp.abs(jnp.fft.fftshift(imgs_f[idx].reshape([nx,nx])))); plt.colorbar()"
   ]
  },
  {
   "cell_type": "code",
   "execution_count": null,
   "id": "297ae91b-3799-4dd1-a1a6-d68fa85ab7a3",
   "metadata": {},
   "outputs": [],
   "source": [
    "def split(arr):\n",
    "    N = arr.shape[0]\n",
    "    N2 = jnp.floor(N/2).astype(jnp.int32)\n",
    "\n",
    "    arr_train = arr[:N2]\n",
    "    arr_test  = arr[N2:]\n",
    "    \n",
    "    return arr_train, arr_test\n",
    "\n",
    "def split_and_triple(arr):\n",
    "    N = arr.shape[0]\n",
    "    N2 = jnp.floor(N/2).astype(jnp.int32)\n",
    "\n",
    "    arr_train = jnp.tile(arr[:N2], reps=(3,1))\n",
    "    arr_test  = jnp.tile(arr[N2:], reps=(3,1))\n",
    "    \n",
    "    return arr_train, arr_test\n",
    "\n",
    "def split_and_triple_angles(a):\n",
    "    N = a.shape[0]\n",
    "    N2 = jnp.floor(N/2).astype(jnp.int32)\n",
    "\n",
    "    a_train1 = a[:N2]\n",
    "    a_train2 = a_train1.copy()\n",
    "    a_train3 = a_train1.copy()\n",
    "\n",
    "    a_train2[:,2] += 2*jnp.pi/3\n",
    "    a_train3[:,2] += 4*jnp.pi/3\n",
    "   \n",
    "    a_train = jnp.concatenate([a_train1, a_train2, a_train3], axis=0)\n",
    "    \n",
    "    a_test1  = a[N2:]\n",
    "    a_test2 = a_test1.copy()\n",
    "    a_test3 = a_test1.copy()\n",
    "\n",
    "    a_test2[:,2] += 2*jnp.pi/3\n",
    "    a_test3[:,2] += 4*jnp.pi/3\n",
    "    \n",
    "    a_test = jnp.concatenate([a_test1, a_test2, a_test3], axis=0)\n",
    "\n",
    "\n",
    "    return a_train, a_test"
   ]
  },
  {
   "cell_type": "code",
   "execution_count": null,
   "id": "a9b08a62-3656-4618-ad44-ea089d8f9ca0",
   "metadata": {},
   "outputs": [],
   "source": [
    "imgs_train, imgs_test = split_and_triple(imgs_f)\n",
    "shifts_train, shifts_test = split_and_triple(shifts)\n",
    "ctf_params_train, ctf_params_test = split_and_triple(ctf_params)\n",
    "angles_train, angles_test = split_and_triple_angles(angles)\n",
    "N = imgs_train.shape[0]\n",
    "\n",
    "#plot_angles(angles[:1000])"
   ]
  },
  {
   "cell_type": "code",
   "execution_count": null,
   "id": "35d6719a-3865-4067-88ea-c42a544d8455",
   "metadata": {},
   "outputs": [],
   "source": [
    "#imgs_train, imgs_test = split(imgs_f)\n",
    "#shifts_train, shifts_test = split(shifts)\n",
    "#ctf_params_train, ctf_params_test = split(ctf_params)\n",
    "#angles_train, angles_test = split(angles)\n",
    "#N = imgs_train.shape[0]\n",
    "#plot_angles(angles_train)"
   ]
  }
 ],
 "metadata": {
  "kernelspec": {
   "display_name": "Python 3 (ipykernel)",
   "language": "python",
   "name": "python3"
  },
  "language_info": {
   "codemirror_mode": {
    "name": "ipython",
    "version": 3
   },
   "file_extension": ".py",
   "mimetype": "text/x-python",
   "name": "python",
   "nbconvert_exporter": "python",
   "pygments_lexer": "ipython3",
   "version": "3.10.2"
  }
 },
 "nbformat": 4,
 "nbformat_minor": 5
}
