{
 "cells": [
  {
   "cell_type": "markdown",
   "id": "2159f1b6-0294-4f90-90a3-179163a7696b",
   "metadata": {},
   "source": [
    "# Reconstruction with real data"
   ]
  },
  {
   "cell_type": "code",
   "execution_count": 1,
   "id": "249cb249-f43e-4cc4-88c0-fa2ec6131c81",
   "metadata": {},
   "outputs": [],
   "source": [
    "%load_ext autoreload\n",
    "%autoreload 2\n",
    "import site\n",
    "import sys\n",
    "import time\n",
    "import pickle\n",
    "site.addsitedir('..')\n",
    "from jax.config import config\n",
    "\n",
    "#config.update(\"jax_enable_x64\", True)"
   ]
  },
  {
   "cell_type": "code",
   "execution_count": 2,
   "id": "ef60f1df-7cc5-42bc-afbd-23704b6ad46c",
   "metadata": {},
   "outputs": [],
   "source": [
    "import numpy as np\n",
    "import jax.numpy as jnp\n",
    "from  matplotlib import pyplot as plt\n",
    "from src.utils import *\n",
    "from src.projection import *\n",
    "from src.interpolate import *\n",
    "from src.jaxops import *\n",
    "from src.fsc import *\n",
    "from src.algorithm import *\n",
    "from src.ab_initio import *\n",
    "from src.datasets import *\n",
    "from src.residual import get_volume_residual\n",
    "\n",
    "import jax\n",
    "import mrcfile\n",
    "from jax.scipy.special import gammaln\n",
    "\n",
    "plt.rcParams[\"figure.figsize\"]=6,6"
   ]
  },
  {
   "cell_type": "markdown",
   "id": "e1712e1e-a6c7-4a60-9fd6-92658ea003b6",
   "metadata": {},
   "source": [
    "### TODO: maybe all the reading and pre-processing data should all be done in one function.\n",
    "Then we can use this function in the run_ab_initio script and other notebooks (e.g. Volume residual)\n",
    "\n",
    "See how it's done in the ```datasets.py``` file for the heterogeneous dataset. Move everything there."
   ]
  },
  {
   "cell_type": "markdown",
   "id": "df9a7930-a14d-44b0-a010-1aa34701159b",
   "metadata": {},
   "source": [
    "### Read the data"
   ]
  },
  {
   "cell_type": "code",
   "execution_count": 3,
   "id": "1a2477a6-bdf0-4cbf-a05f-0a40507f67fe",
   "metadata": {},
   "outputs": [],
   "source": [
    "# Out directory to save outputs\n",
    "out_dir = '../data/out_dev/'"
   ]
  },
  {
   "cell_type": "markdown",
   "id": "91d91317-1dd2-4f86-886b-bfea2fd58fa0",
   "metadata": {},
   "source": [
    "#### One real dataset"
   ]
  },
  {
   "cell_type": "code",
   "execution_count": 4,
   "id": "0148b4e0-c03b-42c9-969d-329e330149d1",
   "metadata": {},
   "outputs": [
    {
     "name": "stderr",
     "output_type": "stream",
     "text": [
      "/home/bt387/project/2021_CryoEMSolver7/external/pyem/pyem/star.py:531: FutureWarning: Columnar iteration over characters will be deprecated in future releases.\n",
      "  df[UCSF.IMAGE_INDEX], df[UCSF.IMAGE_PATH] = \\\n",
      "/home/bt387/project/2021_CryoEMSolver7/external/pyem/pyem/star.py:539: FutureWarning: Columnar iteration over characters will be deprecated in future releases.\n",
      "  df[UCSF.IMAGE_ORIGINAL_INDEX], df[UCSF.IMAGE_ORIGINAL_PATH] = \\\n"
     ]
    },
    {
     "name": "stdout",
     "output_type": "stream",
     "text": [
      "load_data: number of partcles:  5000\n",
      "load_data: data loaded, time:  31.855889320373535\n"
     ]
    }
   ],
   "source": [
    "#data_dir = \"/project/lederman/rrl28/share/cryoem_data/v3/CaltechWeaver/\"\n",
    "#star_file = \"job550_particles_subsamp5_10000_30_40_2.star\"\n",
    "#star_file = \"job550_particles_roy40k.star\"\n",
    "#star_file = \"job550_particles.star\"\n",
    "\n",
    "\n",
    "#data_dir = \"/project/lederman/rrl28/share/cryoem_data/v3/Frost/eIF2B/job042/\"\n",
    "#star_file = \"AUG11_99Kparticles_updatedGCTF.star\"\n",
    "\n",
    "#data_dir = \"/project/lederman/rrl28/share/CryoEMDataSmall/RelionSample/relion30_tutorial_precalculated_results/\"\n",
    "#star_file = \"Extract/job020/particles.star\"\n",
    "\n",
    "#data_dir = \"/gpfs/gibbs/pi/lederman/dge5/RELION_TUTORIAL_SET/PrecalculatedResults/\"\n",
    "#star_file = \"/Extract/job018/particles.star\"\n",
    "\n",
    "#data_dir = \"/gpfs/gibbs/pi/lederman/3DFSC_data/untilted/Particle-Stack/\"\n",
    "#star_file = \"T40_HA_130K-Equalized_run-data.star\"\n",
    "#star_file = \"T00_HA_130K-Equalized_run-data.star\"\n",
    "\n",
    "#data_dir = \"/gpfs/gibbs/pi/lederman/EMPIAR-10028/\"\n",
    "#star_file = \"shiny_2sets.star\"\n",
    "\n",
    "data_dir = \"/gpfs/gibbs/pi/lederman/dge5/CrossValidationCryodrgnSet/\"\n",
    "#star_file = \"particles_crossvalidation_train_1.star\"\n",
    "star_file = \"particles_subset_5k.star\"\n",
    "\n",
    "#data_dir = \"/gpfs/gibbs/pi/lederman/dge5/CrossValidationCryodrgnSet/\"\n",
    "#star_file = \"Projections/crossvalidation1_sub/crossvalidation1_sub.star\"\n",
    "\n",
    "#data_dir = \"/gpfs/gibbs/pi/lederman/dge5/SimulatedData/\"\n",
    "#star_file = \"random_particles_128.star\"\n",
    "\n",
    "#data_dir = \"/gpfs/loomis/project/lederman/bt387/simple_cryoem/simulated_dataset40k/mixed_noisy/\"\n",
    "#star_file = \"particles.star\"\n",
    "\n",
    "#data_dir = \"/gpfs/gibbs/pi/lederman/EMPIAR-10028/\"\n",
    "#star_file = \"shiny_2sets.star\"\n",
    "#star_file = \"particles2.star\"\n",
    "\n",
    "#dataset_name = \"exp_data\"\n",
    "#data_dir = \"/gpfs/gibbs/pi/lederman/bt387/exp_data/\"\n",
    "#star_file = \"particles2.star\"\n",
    "\n",
    "#dataset_name = \"cryodrgn_noisy\"\n",
    "#data_dir = f\"/gpfs/loomis/project/lederman/bt387/simple_cryoem/simulated_dataset20k/{dataset_name}/\"\n",
    "#star_file = \"particles.star\"\n",
    "\n",
    "params0, imgs0 = load_data(data_dir, star_file, load_imgs = True, fourier = False)\n",
    "ctf_params0 = params0[\"ctf_params\"]\n",
    "pixel_size0 = params0[\"pixel_size\"]\n",
    "angles0 = params0[\"angles\"]\n",
    "shifts0 = params0[\"shifts\"]"
   ]
  },
  {
   "cell_type": "code",
   "execution_count": null,
   "id": "0c0c2b11-61d7-4954-ac06-86c7b9f32613",
   "metadata": {},
   "outputs": [],
   "source": [
    "with open(f\"{data_dir}/z.pkl\", 'rb') as file:\n",
    "    # Call load method to deserialze\n",
    "    z = pickle.load(file)"
   ]
  },
  {
   "cell_type": "markdown",
   "id": "2cc0a780-8a94-4091-93ee-c8b6849336e9",
   "metadata": {},
   "source": [
    "#### Or a custom heterogeneous dataset with 2 classes"
   ]
  },
  {
   "cell_type": "code",
   "execution_count": null,
   "id": "9913f097-5f00-4102-929b-be19ffab3868",
   "metadata": {},
   "outputs": [],
   "source": [
    "nx = 64\n",
    "N_set = [5000, 5000]\n",
    "\n",
    "data_dir1 = \"/project/lederman/rrl28/share/CryoEMDataSmall/RelionSample/relion30_tutorial_precalculated_results/\"\n",
    "star_file1 = \"Extract/job020/particles.star\"\n",
    "\n",
    "data_dir2 = \"/gpfs/gibbs/pi/lederman/dge5/CrossValidationCryodrgnSet/\"\n",
    "star_file2 = \"particles_subset_5k.star\"\n",
    "\n",
    "data_dirs = [data_dir1, data_dir2]\n",
    "star_files = [star_file1, star_file2]\n",
    "\n",
    "imgs0, imgs_f, ctf_params, pixel_size, angles, shifts, z, x_grid = create_het_dataset(data_dirs, star_files, N_set, nx)\n",
    "\n",
    "N = imgs_f.shape[0]"
   ]
  },
  {
   "cell_type": "code",
   "execution_count": null,
   "id": "de64a888-6496-423c-a9f7-01d7c1d03497",
   "metadata": {},
   "outputs": [],
   "source": [
    "#plt.plot(z, '.')\n",
    "nbins = 100\n",
    "counts, bins = np.histogram(z, bins=nbins)\n",
    "_ = plt.hist(bins[:-1], bins, weights=counts)"
   ]
  },
  {
   "cell_type": "code",
   "execution_count": null,
   "id": "0e1aa26a-f36b-4cf4-83bc-9981092f90f0",
   "metadata": {},
   "outputs": [],
   "source": [
    "plt.imshow(imgs0[1][3]); plt.colorbar()"
   ]
  },
  {
   "cell_type": "code",
   "execution_count": null,
   "id": "2235ccf5-a127-42bc-ae95-973c55422f9e",
   "metadata": {},
   "outputs": [],
   "source": [
    "plot_angles(angles[np.random.permutation(imgs_f.shape[0])[:2000]])"
   ]
  },
  {
   "cell_type": "code",
   "execution_count": null,
   "id": "116f30aa-9d0a-43f2-a0a6-2b63575737ef",
   "metadata": {},
   "outputs": [],
   "source": []
  },
  {
   "cell_type": "code",
   "execution_count": null,
   "id": "b257d269-b1c4-4dc6-b472-2ff6d3963798",
   "metadata": {},
   "outputs": [],
   "source": [
    "idx = 2\n",
    "plt.imshow(np.abs(jnp.fft.fftshift(imgs_f[idx].reshape([nx,nx])))); plt.colorbar()\n",
    "print(f\"z[{idx}] = {z[idx]}\")"
   ]
  },
  {
   "cell_type": "code",
   "execution_count": null,
   "id": "7ae61eee-3d5d-4a3e-b1a8-240df8e46397",
   "metadata": {},
   "outputs": [],
   "source": [
    "idx = 1037\n",
    "plt.imshow(np.abs(jnp.fft.fftshift(imgs_f[idx].reshape([nx,nx])))); plt.colorbar()\n",
    "print(f\"z[{idx}] = {z[idx]}\")"
   ]
  },
  {
   "cell_type": "markdown",
   "id": "7cc6d3e6-6874-435a-815d-9911f0d93bf0",
   "metadata": {},
   "source": [
    "#### Or read 3 classes from Daniel's simulated data (TODO: move this to the ```datasets.py``` file)"
   ]
  },
  {
   "cell_type": "code",
   "execution_count": null,
   "id": "d858f2ba-9e34-4944-bab1-842ffa1eccbe",
   "metadata": {},
   "outputs": [],
   "source": [
    "classes = [0, 4, 9]\n",
    "\n",
    "data_dir = \"/gpfs/gibbs/pi/lederman/dge5/SimulatedData/\"\n",
    "star_file = f\"projections/volume{classes[0]}.star\"\n",
    "\n",
    "params0, imgs0 = load_data(data_dir, star_file, load_imgs = True, fourier = False)\n",
    "\n",
    "\n",
    "data_dir = \"/gpfs/gibbs/pi/lederman/dge5/SimulatedData/\"\n",
    "star_file = f\"projections/volume{classes[1]}.star\"\n",
    "\n",
    "params1, imgs1 = load_data(data_dir, star_file, load_imgs = True, fourier = False)\n",
    "\n",
    "data_dir = \"/gpfs/gibbs/pi/lederman/dge5/SimulatedData/\"\n",
    "star_file = f\"projections/volume{classes[2]}.star\"\n",
    "\n",
    "params2, imgs2 = load_data(data_dir, star_file, load_imgs = True, fourier = False)\n",
    "\n",
    "imgs0 = np.concatenate([imgs0, imgs1, imgs2], axis=0)\n",
    "\n",
    "ctf_params0 = np.concatenate([params0[\"ctf_params\"], params1[\"ctf_params\"], params2[\"ctf_params\"]], axis=0)\n",
    "pixel_size0 = np.concatenate([params0[\"pixel_size\"], params1[\"pixel_size\"], params2[\"pixel_size\"]], axis=0)\n",
    "angles0 = np.concatenate([params0[\"angles\"], params1[\"angles\"], params2[\"angles\"]], axis=0)\n",
    "shifts0 = np.concatenate([params0[\"shifts\"], params1[\"shifts\"], params2[\"shifts\"]], axis=0)\n",
    "\n",
    "# Assuming all classes have the same number of images\n",
    "Nk = imgs1.shape[0]\n",
    "z_true0 = jnp.zeros((Nk,))\n",
    "z_true1 = jnp.ones((Nk,))\n",
    "z_true2 = 2*jnp.ones((Nk,))\n",
    "\n",
    "z_true = jnp.concatenate([z_true0, z_true1, z_true2])\n",
    "\n",
    "del(imgs1, imgs2, params0, params1, params2)"
   ]
  },
  {
   "cell_type": "code",
   "execution_count": null,
   "id": "5cd80002-e2a5-49bc-8c1a-86140c0e7a30",
   "metadata": {},
   "outputs": [],
   "source": [
    "print(imgs0.shape)\n",
    "print(pixel_size0.shape)\n",
    "print(angles0.shape)\n",
    "print(shifts0.shape)\n",
    "print(ctf_params0.shape)\n",
    "nx0 = imgs0.shape[-1]\n",
    "#plt.imshow(np.abs(jnp.fft.fftshift(imgs_f0[101]))); plt.colorbar()"
   ]
  },
  {
   "cell_type": "code",
   "execution_count": null,
   "id": "fe92c2f2-6cb9-413f-a9a8-9f15b5cd6b08",
   "metadata": {},
   "outputs": [],
   "source": [
    "plt.imshow(imgs0[1]); plt.colorbar()"
   ]
  },
  {
   "cell_type": "code",
   "execution_count": null,
   "id": "6024c176-65c5-43e3-85d4-bb5da7ddff5c",
   "metadata": {},
   "outputs": [],
   "source": [
    "plot_angles(-angles0[np.random.permutation(imgs0.shape[0]-1)[:2000]])"
   ]
  },
  {
   "cell_type": "markdown",
   "id": "4824f1cf-bdc8-4978-a222-2b18bfbb982a",
   "metadata": {},
   "source": [
    "#### Only keep N points at random (to avoid out of memory error)"
   ]
  },
  {
   "cell_type": "code",
   "execution_count": 5,
   "id": "38b090ae-2ff4-4eb5-9116-5b7ed872b212",
   "metadata": {},
   "outputs": [],
   "source": [
    "N = imgs0.shape[0]\n",
    "\n",
    "if N < imgs0.shape[0]:\n",
    "    idxrand = np.random.permutation(imgs0.shape[0]-1)[:N]\n",
    "else:\n",
    "    idxrand = jnp.arange(N)\n",
    "    \n",
    "imgs0 = imgs0[idxrand]\n",
    "pixel_size = pixel_size0[idxrand]\n",
    "angles = angles0[idxrand]\n",
    "shifts = shifts0[idxrand]\n",
    "ctf_params = ctf_params0[idxrand]\n",
    "\n"
   ]
  },
  {
   "cell_type": "code",
   "execution_count": null,
   "id": "de98571d-6678-49a0-8b41-c0aeee90edf9",
   "metadata": {},
   "outputs": [],
   "source": [
    "z_true = z"
   ]
  },
  {
   "cell_type": "code",
   "execution_count": null,
   "id": "4b6689df-7da5-4c03-a6c0-05b2b3ca59a2",
   "metadata": {},
   "outputs": [],
   "source": [
    "z_true = z_true[idxrand]\n",
    "\n",
    "file2 = open(out_dir + '/idxrand','wb')\n",
    "pickle.dump(idxrand, file2)\n",
    "file2.close()"
   ]
  },
  {
   "cell_type": "code",
   "execution_count": null,
   "id": "215efee3-5f17-40da-a71f-b55aea008d24",
   "metadata": {},
   "outputs": [],
   "source": [
    "nbins = 100\n",
    "counts, bins = np.histogram(z_true, bins=nbins)\n",
    "_ = plt.hist(bins[:-1], bins, weights=counts)"
   ]
  },
  {
   "cell_type": "markdown",
   "id": "60d987de-dcb4-46f6-80e2-ccc2531d2d25",
   "metadata": {},
   "source": [
    "#### Take the FFT of the images"
   ]
  },
  {
   "cell_type": "code",
   "execution_count": 6,
   "id": "34c7c2de-ad13-4655-b4f6-5677d20d946f",
   "metadata": {},
   "outputs": [
    {
     "name": "stdout",
     "output_type": "stream",
     "text": [
      "13.75911545753479\n"
     ]
    }
   ],
   "source": [
    "t0 = time.time()\n",
    "imgs_f = np.array([np.fft.fft2(np.fft.ifftshift(img)) for img in imgs0])\n",
    "print(time.time()-t0)"
   ]
  },
  {
   "cell_type": "markdown",
   "id": "d87107d0-c791-4cf3-8029-7bfe91cff39a",
   "metadata": {},
   "source": [
    "#### Create the grids"
   ]
  },
  {
   "cell_type": "code",
   "execution_count": 7,
   "id": "7c9e3707-c21a-4cb0-bd76-d7f67cf72bea",
   "metadata": {},
   "outputs": [
    {
     "name": "stdout",
     "output_type": "stream",
     "text": [
      "[2.38549618e-03 3.20000000e+02]\n"
     ]
    }
   ],
   "source": [
    "# Assume the pixel size is the same for all images\n",
    "nx = imgs_f.shape[-1]\n",
    "px = pixel_size[0]\n",
    "N = imgs_f.shape[0]\n",
    "\n",
    "x_grid = create_grid(nx, px)\n",
    "y_grid = x_grid\n",
    "z_grid = x_grid\n",
    "print(x_grid)"
   ]
  },
  {
   "cell_type": "code",
   "execution_count": 8,
   "id": "8303bf35-9226-4133-9242-9bfe3847befd",
   "metadata": {},
   "outputs": [
    {
     "data": {
      "text/plain": [
       "<matplotlib.colorbar.Colorbar at 0x2afe1beea4d0>"
      ]
     },
     "execution_count": 8,
     "metadata": {},
     "output_type": "execute_result"
    },
    {
     "data": {
      "image/png": "[encoded data removed]",
      "text/plain": [
       "<Figure size 432x432 with 2 Axes>"
      ]
     },
     "metadata": {
      "needs_background": "light"
     },
     "output_type": "display_data"
    }
   ],
   "source": [
    "plt.imshow(np.abs(jnp.fft.fftshift(imgs_f[206]))); plt.colorbar()"
   ]
  },
  {
   "cell_type": "markdown",
   "id": "7f835e79-1419-48a3-97b2-26ba82fb54c1",
   "metadata": {},
   "source": [
    "#### Crop images to 32 x 32 "
   ]
  },
  {
   "cell_type": "code",
   "execution_count": 9,
   "id": "ac27beb0-6f28-4b24-b7bf-7fb3bbf232ac",
   "metadata": {},
   "outputs": [
    {
     "name": "stdout",
     "output_type": "stream",
     "text": [
      "[2.38549618e-03 6.40000000e+01]\n"
     ]
    }
   ],
   "source": [
    "crop_imgs = True\n",
    "\n",
    "if crop_imgs:\n",
    "    nx = 64\n",
    "    imgs_f, x_grid = crop_fourier_images(imgs_f, x_grid, nx)\n",
    "\n",
    "y_grid = x_grid\n",
    "z_grid = x_grid\n",
    "print(x_grid)"
   ]
  },
  {
   "cell_type": "code",
   "execution_count": 10,
   "id": "fedb8752-858d-4cdc-9646-3d5806df9937",
   "metadata": {},
   "outputs": [
    {
     "data": {
      "text/plain": [
       "<matplotlib.colorbar.Colorbar at 0x2afe63d6dc60>"
      ]
     },
     "execution_count": 10,
     "metadata": {},
     "output_type": "execute_result"
    },
    {
     "data": {
      "image/png": "[encoded data removed]",
      "text/plain": [
       "<Figure size 432x432 with 2 Axes>"
      ]
     },
     "metadata": {
      "needs_background": "light"
     },
     "output_type": "display_data"
    }
   ],
   "source": [
    "plt.imshow(np.abs(jnp.fft.fftshift(imgs_f[103].reshape([nx,nx])))); plt.colorbar()"
   ]
  },
  {
   "cell_type": "markdown",
   "id": "67d8ee78-feab-47c4-a1dc-8448f2aa1f51",
   "metadata": {},
   "source": [
    "#### Before further processing, vectorize the images, create mask etc"
   ]
  },
  {
   "cell_type": "code",
   "execution_count": 11,
   "id": "2b6ae8e6-094e-4a8e-8c0b-0b2bd35bfd3a",
   "metadata": {},
   "outputs": [
    {
     "name": "stdout",
     "output_type": "stream",
     "text": [
      "(5000, 4096)\n"
     ]
    }
   ],
   "source": [
    "imgs_f = imgs_f.reshape(N, -1)\n",
    "print(imgs_f.shape)"
   ]
  },
  {
   "cell_type": "code",
   "execution_count": 12,
   "id": "ec03caac-121f-4bc7-acbb-5e86295ef9a1",
   "metadata": {},
   "outputs": [],
   "source": [
    "#plt.imshow(np.abs(jnp.fft.fftshift(imgs_f2[103].reshape(nx,nx)))); plt.colorbar()"
   ]
  },
  {
   "cell_type": "code",
   "execution_count": 13,
   "id": "8932c0fd-1bfb-4935-b7b1-086fddb5b4d3",
   "metadata": {},
   "outputs": [
    {
     "data": {
      "text/plain": [
       "<matplotlib.colorbar.Colorbar at 0x2afe638a66e0>"
      ]
     },
     "execution_count": 13,
     "metadata": {},
     "output_type": "execute_result"
    },
    {
     "data": {
      "image/png": "[encoded data removed]",
      "text/plain": [
       "<Figure size 432x432 with 2 Axes>"
      ]
     },
     "metadata": {
      "needs_background": "light"
     },
     "output_type": "display_data"
    }
   ],
   "source": [
    "centre = (0,0,0)\n",
    "#radius = 0.09 # for nx=32\n",
    "radius = 0.185 *2\n",
    "#radius = 0.093 # nx-64\n",
    "#radius = 0.074 *2\n",
    "#radius = 0.07 # for nx=64\n",
    "#radius = 0.198 # for nx=128\n",
    "#radius = 0.28 # for nx=256\n",
    "\n",
    "mask = create_3d_mask(x_grid, centre, radius)\n",
    "\n",
    "mip_z(jnp.fft.fftshift(mask)); plt.colorbar()"
   ]
  },
  {
   "cell_type": "markdown",
   "id": "623ae365-578d-4183-9270-767e9731118d",
   "metadata": {},
   "source": [
    "### Estimate the noise"
   ]
  },
  {
   "cell_type": "markdown",
   "id": "0ed7ab42-2e89-4e43-b535-15fb44943f34",
   "metadata": {},
   "source": [
    "First, decide on the dimensions of the empty corners to use for noise estimation:"
   ]
  },
  {
   "cell_type": "code",
   "execution_count": 14,
   "id": "cd69fd62-7b79-4be2-9922-86dc26fa643f",
   "metadata": {},
   "outputs": [
    {
     "data": {
      "text/plain": [
       "(5000, 320, 320)"
      ]
     },
     "execution_count": 14,
     "metadata": {},
     "output_type": "execute_result"
    }
   ],
   "source": [
    "imgs0.shape"
   ]
  },
  {
   "cell_type": "code",
   "execution_count": 15,
   "id": "c4b46e10-590d-42d0-8a83-b3e247a64e94",
   "metadata": {},
   "outputs": [
    {
     "data": {
      "text/plain": [
       "<matplotlib.image.AxesImage at 0x2afe63a02530>"
      ]
     },
     "execution_count": 15,
     "metadata": {},
     "output_type": "execute_result"
    },
    {
     "data": {
      "image/png": "[encoded data removed]",
      "text/plain": [
       "<Figure size 432x432 with 1 Axes>"
      ]
     },
     "metadata": {
      "needs_background": "light"
     },
     "output_type": "display_data"
    }
   ],
   "source": [
    "N_noise = 48\n",
    "plt.imshow(jnp.mean(imgs0[:,:N_noise,:N_noise], axis=0))"
   ]
  },
  {
   "cell_type": "code",
   "execution_count": 16,
   "id": "c67334ad-8a7f-4af2-9421-a8ee66aa394c",
   "metadata": {},
   "outputs": [
    {
     "data": {
      "text/plain": [
       "(5000, 320, 320)"
      ]
     },
     "execution_count": 16,
     "metadata": {},
     "output_type": "execute_result"
    }
   ],
   "source": [
    "imgs0.shape"
   ]
  },
  {
   "cell_type": "code",
   "execution_count": 17,
   "id": "af337c63-61f3-4058-afd6-9a742cbbc046",
   "metadata": {},
   "outputs": [],
   "source": [
    "# Do this if imgs0 is a list of datasets\n",
    "#imgs0 = np.concatenate([imgs[:, :N_noise, :N_noise] for imgs in imgs0], axis=0)\n",
    "\n",
    "\n",
    "# And shuffle in case we don't use the full dataset for noise estimation\n",
    "#imgs0 = imgs0[np.random.permutation(imgs0.shape[0])]\n",
    "\n",
    "#imgs0.shape"
   ]
  },
  {
   "cell_type": "code",
   "execution_count": 18,
   "id": "5818f456-9d03-4508-afc8-f120a7498c06",
   "metadata": {},
   "outputs": [
    {
     "data": {
      "text/plain": [
       "Text(0.5, 1.0, 'Estimated noise')"
      ]
     },
     "execution_count": 18,
     "metadata": {},
     "output_type": "execute_result"
    },
    {
     "data": {
      "image/png": "[encoded data removed]",
      "text/plain": [
       "<Figure size 432x432 with 2 Axes>"
      ]
     },
     "metadata": {
      "needs_background": "light"
     },
     "output_type": "display_data"
    }
   ],
   "source": [
    "# Only use 1000 images for estimating noise - only while developing, for speet, otherwise use full dataset\n",
    "sigma_noise_estimated = estimate_noise_imgs(imgs0[:1000], nx_empty = N_noise, nx_final = nx).reshape([nx,nx])\n",
    "plt.imshow(jnp.fft.fftshift(sigma_noise_estimated)); plt.colorbar()\n",
    "plt.title('Estimated noise')"
   ]
  },
  {
   "cell_type": "markdown",
   "id": "840e86cd-af2e-44de-9b36-2957ac4e3ab2",
   "metadata": {},
   "source": [
    "#### Average radially"
   ]
  },
  {
   "cell_type": "code",
   "execution_count": 19,
   "id": "75dd93f5-49bc-4506-99a8-09c27c61bea6",
   "metadata": {},
   "outputs": [
    {
     "data": {
      "text/plain": [
       "<matplotlib.colorbar.Colorbar at 0x2b0b40398af0>"
      ]
     },
     "execution_count": 19,
     "metadata": {},
     "output_type": "execute_result"
    },
    {
     "data": {
      "image/png": "[encoded data removed]",
      "text/plain": [
       "<Figure size 432x432 with 2 Axes>"
      ]
     },
     "metadata": {
      "needs_background": "light"
     },
     "output_type": "display_data"
    }
   ],
   "source": [
    "sigma_noise_avg = average_radially(sigma_noise_estimated, x_grid)\n",
    "\n",
    "plt.imshow(jnp.fft.fftshift(sigma_noise_avg)); plt.colorbar()"
   ]
  },
  {
   "cell_type": "code",
   "execution_count": 20,
   "id": "e21f2a91-4e68-4b16-98f1-8f7475d7a964",
   "metadata": {},
   "outputs": [
    {
     "data": {
      "text/plain": [
       "<matplotlib.colorbar.Colorbar at 0x2afe639d7c10>"
      ]
     },
     "execution_count": 20,
     "metadata": {},
     "output_type": "execute_result"
    },
    {
     "data": {
      "image/png": "[encoded data removed]",
      "text/plain": [
       "<Figure size 432x432 with 2 Axes>"
      ]
     },
     "metadata": {
      "needs_background": "light"
     },
     "output_type": "display_data"
    }
   ],
   "source": [
    "plt.imshow(jnp.fft.fftshift(jnp.abs(sigma_noise_avg-sigma_noise_estimated))); plt.colorbar()"
   ]
  },
  {
   "cell_type": "code",
   "execution_count": 21,
   "id": "6ce66bf6-8e9b-4f64-aead-6d9754af213e",
   "metadata": {},
   "outputs": [
    {
     "data": {
      "text/plain": [
       "<matplotlib.legend.Legend at 0x2afdafa1d9f0>"
      ]
     },
     "execution_count": 21,
     "metadata": {},
     "output_type": "execute_result"
    },
    {
     "data": {
      "image/png": "[encoded data removed]",
      "text/plain": [
       "<Figure size 432x432 with 1 Axes>"
      ]
     },
     "metadata": {
      "needs_background": "light"
     },
     "output_type": "display_data"
    }
   ],
   "source": [
    "plt.plot(jnp.fft.fftshift(sigma_noise_estimated[:,0]))\n",
    "plt.plot(jnp.fft.fftshift(sigma_noise_estimated[0,:]))\n",
    "plt.plot(jnp.fft.fftshift(sigma_noise_avg[:,0]))\n",
    "plt.legend(['estimated - x', 'estimated - y', 'radially averaged estimated'])"
   ]
  },
  {
   "cell_type": "code",
   "execution_count": 22,
   "id": "8983e6ca-d5e7-479f-af42-22081bbb9d57",
   "metadata": {},
   "outputs": [],
   "source": [
    "sigma_noise = sigma_noise_avg.reshape(-1)"
   ]
  },
  {
   "cell_type": "code",
   "execution_count": 23,
   "id": "5e569d65-c118-4f02-88e9-c50ed2703619",
   "metadata": {},
   "outputs": [],
   "source": [
    "# No noise:\n",
    "#sigma_noise = jnp.ones(sigma_noise.shape)"
   ]
  },
  {
   "cell_type": "markdown",
   "id": "33d11514-07e4-4a41-b53f-e269e9110af0",
   "metadata": {},
   "source": [
    "#### Delete the real images\n",
    "Since we only work with the Fourier ones from now on."
   ]
  },
  {
   "cell_type": "code",
   "execution_count": 24,
   "id": "e189f7d3-5e47-4d5c-8bb3-069edcfde086",
   "metadata": {},
   "outputs": [],
   "source": [
    "del(imgs0)\n",
    "#del(imgs)"
   ]
  },
  {
   "cell_type": "markdown",
   "id": "b8a77554-0897-48b5-abcd-75ec96ed3fa4",
   "metadata": {},
   "source": [
    "### Ab initio"
   ]
  },
  {
   "cell_type": "markdown",
   "id": "c034a771-38fa-4cd8-85e4-4e33ae4d4bab",
   "metadata": {},
   "source": [
    "Actual pixel size for 32 x 32 images is:"
   ]
  },
  {
   "cell_type": "code",
   "execution_count": 25,
   "id": "edb87e50-aec6-47db-8b9c-aa5bf754d45d",
   "metadata": {},
   "outputs": [
    {
     "data": {
      "text/plain": [
       "6.550000000000001"
      ]
     },
     "execution_count": 25,
     "metadata": {},
     "output_type": "execute_result"
    }
   ],
   "source": [
    "pixel_size[0]*(320/nx)"
   ]
  },
  {
   "cell_type": "code",
   "execution_count": 26,
   "id": "5b18faaf-c96c-4b3d-a204-471d115aa7da",
   "metadata": {},
   "outputs": [],
   "source": [
    "key = random.PRNGKey(int(jnp.floor(np.random.rand()*1000)))\n"
   ]
  },
  {
   "cell_type": "code",
   "execution_count": 28,
   "id": "eaa0cee9-3fbd-4e36-b5f1-96c21228f607",
   "metadata": {},
   "outputs": [
    {
     "ename": "NameError",
     "evalue": "name 'B_list' is not defined",
     "output_type": "error",
     "traceback": [
      "\u001b[0;31m---------------------------------------------------------------------------\u001b[0m",
      "\u001b[0;31mNameError\u001b[0m                                 Traceback (most recent call last)",
      "Input \u001b[0;32mIn [28]\u001b[0m, in \u001b[0;36m<module>\u001b[0;34m\u001b[0m\n\u001b[1;32m      2\u001b[0m pixel_size_nx \u001b[38;5;241m=\u001b[39m pixel_size[\u001b[38;5;241m0\u001b[39m] \u001b[38;5;241m*\u001b[39m \u001b[38;5;241m320\u001b[39m\u001b[38;5;241m/\u001b[39mnx\n\u001b[1;32m      3\u001b[0m B \u001b[38;5;241m=\u001b[39m pixel_size_nx\u001b[38;5;241m*\u001b[39mnx\u001b[38;5;241m/\u001b[39m\u001b[38;5;241m15\u001b[39m\n\u001b[0;32m----> 5\u001b[0m sh \u001b[38;5;241m=\u001b[39m generate_gaussian_shifts(key, N, \u001b[43mB_list\u001b[49m[\u001b[38;5;241m4\u001b[39m])\n\u001b[1;32m      6\u001b[0m plt\u001b[38;5;241m.\u001b[39mplot(sh[:,\u001b[38;5;241m0\u001b[39m], sh[:,\u001b[38;5;241m1\u001b[39m], \u001b[38;5;124m'\u001b[39m\u001b[38;5;124m.\u001b[39m\u001b[38;5;124m'\u001b[39m)\n",
      "\u001b[0;31mNameError\u001b[0m: name 'B_list' is not defined"
     ]
    }
   ],
   "source": [
    "key = random.PRNGKey(int(jnp.floor(np.random.rand()*1000)))\n",
    "pixel_size_nx = pixel_size[0] * 320/nx\n",
    "B = pixel_size_nx*nx/15\n",
    "\n",
    "sh = generate_gaussian_shifts(key, N, B_list[4])\n",
    "plt.plot(sh[:,0], sh[:,1], '.')"
   ]
  },
  {
   "cell_type": "code",
   "execution_count": 29,
   "id": "04e470cb-afb5-4af7-a076-7d8e4bfa0c65",
   "metadata": {},
   "outputs": [
    {
     "data": {
      "text/plain": [
       "[<matplotlib.lines.Line2D at 0x2afdaff6e1a0>]"
      ]
     },
     "execution_count": 29,
     "metadata": {},
     "output_type": "execute_result"
    },
    {
     "data": {
      "image/png": "[encoded data removed]",
      "text/plain": [
       "<Figure size 432x432 with 1 Axes>"
      ]
     },
     "metadata": {
      "needs_background": "light"
     },
     "output_type": "display_data"
    }
   ],
   "source": [
    "plt.plot(shifts[:,0], shifts[:,1],'.')"
   ]
  },
  {
   "cell_type": "code",
   "execution_count": 30,
   "id": "395ac543-e883-489e-b79c-025875e31e95",
   "metadata": {},
   "outputs": [],
   "source": [
    "#old_stdout = sys.stdout\n",
    "#sys.stdout = open('../data/relion/output.txt', 'w')"
   ]
  },
  {
   "cell_type": "code",
   "execution_count": 31,
   "id": "4a8b2c75-47da-4346-bc31-f3570f876459",
   "metadata": {},
   "outputs": [],
   "source": [
    "#sys.stdout = sys.__stdout__"
   ]
  },
  {
   "cell_type": "code",
   "execution_count": 32,
   "id": "50a01789-f04d-4684-936c-253d37d346ca",
   "metadata": {},
   "outputs": [],
   "source": [
    "#v_rec_int = v_rec\n",
    "#angles_rec_int = angles_rec"
   ]
  },
  {
   "cell_type": "code",
   "execution_count": 33,
   "id": "b0cff4dc-f587-408e-84cb-3f880835dfaa",
   "metadata": {},
   "outputs": [],
   "source": [
    "# Split in batches, note that imgs_batch stays on the CPU (i.e. np not jnp)\n",
    "N_batch = 1\n",
    "imgs_batch = np.array(np.array_split(imgs_f, N_batch))\n",
    "angles_batch = jnp.array(np.array_split(angles, N_batch))\n",
    "shifts_batch = jnp.array(np.array_split(shifts, N_batch))\n",
    "ctf_params_batch = jnp.array(np.array_split(ctf_params, N_batch))"
   ]
  },
  {
   "cell_type": "code",
   "execution_count": 34,
   "id": "c67b55c9-e5f6-4f25-8408-d3e65a77843f",
   "metadata": {},
   "outputs": [],
   "source": [
    "keys = random.split(key, 4)"
   ]
  },
  {
   "cell_type": "code",
   "execution_count": 35,
   "id": "a76ec7a8-0d68-4abd-b1f5-4c6d58407bd7",
   "metadata": {},
   "outputs": [
    {
     "data": {
      "text/plain": [
       "DeviceArray([[3240235789,  386922650],\n",
       "             [ 875946663, 3399559735],\n",
       "             [1405115907, 2654248729],\n",
       "             [3450201756, 2246144233]], dtype=uint32)"
      ]
     },
     "execution_count": 35,
     "metadata": {},
     "output_type": "execute_result"
    }
   ],
   "source": [
    "keys"
   ]
  },
  {
   "cell_type": "code",
   "execution_count": null,
   "id": "d42811b5-42e0-4b3e-be81-a9d89e5540f1",
   "metadata": {},
   "outputs": [
    {
     "name": "stdout",
     "output_type": "stream",
     "text": [
      "Fourier radius: 0.07633587786259541\n",
      "Minibatch size: 1000\n",
      "Starting radius: 0.01\n",
      "Frequency marching step size: 0.004131800590574611\n",
      "Number of frequency marching steps: 17\n",
      "------------------------------------\n",
      "\n",
      "Initialitsing volume\n"
     ]
    }
   ],
   "source": [
    "key = random.PRNGKey(int(jnp.floor(np.random.rand()*1000)))\n",
    "\n",
    "# The number of iterations desn't matter, \n",
    "# since it stops when the volume is nx x nx x nx.\n",
    "N_iter = 100000000000\n",
    "\n",
    "#radius0 =  0.15 #0.15  #0.06\n",
    "#radius0 = 0.010\n",
    "radius0 = 0.01\n",
    "#radius0 = 0.04 #0.05\n",
    "alpha = 1e-9  # <--- this is the working one\n",
    "#alpha = 1e-6\n",
    "\n",
    "sgd_batch_size = 300\n",
    "sgd_learning_rate = 10 #1e5 #1e6\n",
    "eps_init = 1e-8 #2e-7\n",
    "\n",
    "N_samples_vol = 201   \n",
    "N_samples_angles_global = 1001\n",
    "N_samples_angles_local = 201\n",
    "N_samples_shifts = 101\n",
    "N_samples_z = 201\n",
    "\n",
    "# HMC params\n",
    "#dt = 5\n",
    "dt_list_hmc = jnp.array([0.1, 0.5, 1, 5, 10])\n",
    "L_hmc = 5\n",
    "\n",
    "sigma_perturb_list = jnp.array([1, 0.1, 0.01, 0.001])\n",
    "\n",
    "pixel_size_nx = pixel_size[0] # * nx0/nx\n",
    "\n",
    "B = pixel_size[0] * 320/8\n",
    "B_list = jnp.array([B/2, B/4, B/8, B/16])\n",
    "\n",
    "minibatch_size = 1000\n",
    "freq_marching_step_iters = 8\n",
    "\n",
    "vol0 = None\n",
    "angles0 = None #angles_batch\n",
    "shifts0 = None #shifts_batch\n",
    "z0 = None\n",
    "#sigma_noise = jnp.ones(sigma_noise.shape)\n",
    "\n",
    "    \n",
    "v_rec, angles_rec, shifts_recz = ab_initio_mcmc(key, \n",
    "                                                project, \n",
    "                                                rotate_and_interpolate,\n",
    "                                                apply_shifts_and_ctf,\n",
    "                                                imgs_batch, \n",
    "                                                sigma_noise, \n",
    "                                                ctf_params_batch, \n",
    "                                                x_grid, \n",
    "                                                vol0,\n",
    "                                                angles0,\n",
    "                                                shifts0,\n",
    "                                                N_iter, \n",
    "                                                sgd_learning_rate, \n",
    "                                                sgd_batch_size, \n",
    "                                                N_samples_vol,\n",
    "                                                N_samples_angles_global,\n",
    "                                                N_samples_angles_local, \n",
    "                                                N_samples_shifts,\n",
    "                                                dt_list_hmc,\n",
    "                                                sigma_perturb_list,\n",
    "                                                L_hmc, \n",
    "                                                radius0, \n",
    "                                                None, \n",
    "                                                alpha, \n",
    "                                                eps_init,\n",
    "                                                B,\n",
    "                                                B_list,\n",
    "                                                minibatch_size,\n",
    "                                                freq_marching_step_iters,\n",
    "                                                'tri', \n",
    "                                                True, True, True, True, out_dir)"
   ]
  },
  {
   "cell_type": "code",
   "execution_count": null,
   "id": "49ac438f-9bac-4aba-9e48-c64a1eb48f2d",
   "metadata": {},
   "outputs": [],
   "source": [
    "plot_angles(angles_rec[:2000])"
   ]
  },
  {
   "cell_type": "code",
   "execution_count": null,
   "id": "c5fd0626-3627-4260-8b0c-bb0a9a2c156c",
   "metadata": {},
   "outputs": [],
   "source": [
    "v_final = mrcfile.open(f\"{out_dir}/rec_final.mrc\").data\n",
    "v_rec, _, _ = volume_fourier(v_final, pixel_size[0])\n",
    "plt.imshow(jnp.fft.fftshift(jnp.abs(v_rec[:,:,0])))"
   ]
  },
  {
   "cell_type": "code",
   "execution_count": null,
   "id": "a55f004f-b048-43e2-956f-a3f5ddd3dfef",
   "metadata": {},
   "outputs": [],
   "source": [
    "with open(f\"{out_dir}/rec_iter_53_angles\", 'rb') as file:\n",
    "    # Call load method to deserialze\n",
    "    angles_rec = pickle.load(file)\n",
    "    angles_rec = angles_rec[0]"
   ]
  },
  {
   "cell_type": "code",
   "execution_count": null,
   "id": "ab2ee0e6-08df-4942-9b92-9a4cf408ae5a",
   "metadata": {},
   "outputs": [],
   "source": []
  },
  {
   "cell_type": "code",
   "execution_count": null,
   "id": "cdda53d2-6740-47bc-95ef-a845289a1c30",
   "metadata": {},
   "outputs": [],
   "source": [
    "plot_angles(angles_rec)"
   ]
  },
  {
   "cell_type": "code",
   "execution_count": null,
   "id": "5c66a272-5dbd-4721-92ca-d79f2beaf7b7",
   "metadata": {},
   "outputs": [],
   "source": [
    "theta, cord_distance = err_orientations(angles, angles_rec)\n",
    "\n",
    "nbins=100\n",
    "counts, bins = np.histogram(theta, bins=nbins)\n",
    "_ = plt.hist(bins[:-1], bins, weights=counts)"
   ]
  },
  {
   "cell_type": "code",
   "execution_count": null,
   "id": "e97de727-6b14-4169-8cbe-107500c35da6",
   "metadata": {},
   "outputs": [],
   "source": [
    "v_rec_l, x_grid_l = rescale_larger_grid(v_rec, x_grid, 256)\n",
    "v_rec_rl = jnp.real(jnp.fft.fftshift(jnp.fft.ifftn(v_rec_l)))\n",
    "mip_z(v_rec_rl)\n",
    "plt.colorbar()\n"
   ]
  },
  {
   "cell_type": "code",
   "execution_count": null,
   "id": "b196b02c-1393-4790-9df0-c94ea442e73c",
   "metadata": {},
   "outputs": [],
   "source": [
    "with mrcfile.new(f\"{out_dir}/v_rec_alpha1e-9_nx0_ab_initio.mrc\", overwrite=True) as mrc:\n",
    "    mrc.set_data(v_rec_rl.astype(np.float32))"
   ]
  },
  {
   "cell_type": "code",
   "execution_count": null,
   "id": "7a0ae668-bbb7-4261-9bad-7534ab1154ad",
   "metadata": {},
   "outputs": [],
   "source": [
    "out_dir"
   ]
  },
  {
   "cell_type": "code",
   "execution_count": null,
   "id": "545e19da-a354-40eb-85ea-565e2d6eb902",
   "metadata": {},
   "outputs": [],
   "source": [
    "with open(f\"{out_dir}/idxrand\", 'rb') as file:\n",
    "    # Call load method to deserialze\n",
    "    idxrand = pickle.load(file)\n",
    "    #z_rec = angles_rec[0]"
   ]
  },
  {
   "cell_type": "code",
   "execution_count": null,
   "id": "fbbcd2bd-d6e6-45a8-840c-c86cf0150a98",
   "metadata": {},
   "outputs": [],
   "source": [
    "angles_rec.shape"
   ]
  },
  {
   "cell_type": "code",
   "execution_count": null,
   "id": "fa8686f9-e0da-4428-a37c-9e47cf2514be",
   "metadata": {},
   "outputs": [],
   "source": [
    "a1prev"
   ]
  },
  {
   "cell_type": "code",
   "execution_count": null,
   "id": "f1507557-ff17-4093-8fa5-bebf2c84e44c",
   "metadata": {},
   "outputs": [],
   "source": [
    "plt.rcParams[\"figure.figsize\"]=12,6\n",
    "\n",
    "a1prev = a1\n",
    "\n",
    "\n",
    "with open(f\"{out_dir}/rec_iter_45_angles\", 'rb') as file:\n",
    "    # Call load method to deserialze\n",
    "    #z_rec = pickle.load(file)\n",
    "    angles_rec = pickle.load(file)[0]\n",
    "    a1 = angles_rec[:,0]\n",
    "    \n",
    "    \n",
    "diff= a1-a1prev\n",
    "\n",
    "plt.plot(diff[:100])\n",
    "\n",
    "\n",
    "\n",
    "\n",
    "\n",
    "#prevdiff = diff\n",
    "#diff = z[idxrand]-z_rec\n",
    "#plt.plot(diff[:100])\n",
    "#plt.plot(prevdiff[:100])\n",
    "\n",
    "\n",
    "#print(jnp.sum(diff-prevdiff != 0))"
   ]
  },
  {
   "cell_type": "code",
   "execution_count": null,
   "id": "400d813e-3604-4777-8b06-832d9d36906d",
   "metadata": {},
   "outputs": [],
   "source": []
  },
  {
   "cell_type": "code",
   "execution_count": null,
   "id": "fd69e2a7-20f7-46c7-b5fa-26a564a26889",
   "metadata": {},
   "outputs": [],
   "source": [
    "jnp.sum(z[idxrand[:N]]-z_rec != 0)"
   ]
  },
  {
   "cell_type": "code",
   "execution_count": null,
   "id": "f240a7ea-2414-496d-9709-3975a8cd0f8a",
   "metadata": {},
   "outputs": [],
   "source": [
    "nbins=100\n",
    "counts, bins = np.histogram(z_rec, bins=nbins)\n",
    "_ = plt.hist(bins[:-1], bins, weights=counts)"
   ]
  },
  {
   "cell_type": "code",
   "execution_count": null,
   "id": "661851cf-7a5d-4e93-899f-3a3e5605ac45",
   "metadata": {},
   "outputs": [],
   "source": [
    "idxrand"
   ]
  },
  {
   "cell_type": "markdown",
   "id": "e9e3f5af-36f8-474b-868a-dc9ecdc13004",
   "metadata": {},
   "source": [
    "### MCMC vol"
   ]
  },
  {
   "cell_type": "code",
   "execution_count": null,
   "id": "78d6ccd8-174f-401b-a54d-24ba580e7817",
   "metadata": {},
   "outputs": [],
   "source": [
    "#with open(\"/gpfs/gibbs/pi/lederman/bt387/exp_data/output_simple_cryoem2_switch/rec_iter_176_angles\", 'rb') as file:\n",
    "#    # Call load method to deserialze\n",
    "#    #z_rec = pickle.load(file)\n",
    "#    angles = pickle.load(file)[0]"
   ]
  },
  {
   "cell_type": "code",
   "execution_count": null,
   "id": "10ca0a75-680a-4a14-bc97-7b0d41a2f621",
   "metadata": {},
   "outputs": [],
   "source": [
    "#with mrcfile.open(\"/gpfs/gibbs/pi/lederman/bt387/exp_data/output_simple_cryoem2_switch/rec_iter_176.mrc\") as file:\n",
    "#    vol0 = file.data\n",
    "#   \n",
    "#v0, _, _= volume_fourier(vol0, 1)"
   ]
  },
  {
   "cell_type": "code",
   "execution_count": null,
   "id": "054907ec-689b-481a-953e-9cf7f350a1fe",
   "metadata": {},
   "outputs": [],
   "source": [
    "#plt.imshow(np.abs(jnp.fft.fftshift(v0[0]))); plt.colorbar()"
   ]
  },
  {
   "cell_type": "code",
   "execution_count": null,
   "id": "4a55d494-1c7a-4fed-b77c-19ac8162299f",
   "metadata": {},
   "outputs": [],
   "source": [
    "angles_rec = angles\n",
    "#sigma_noise = jnp.ones(4096)"
   ]
  },
  {
   "cell_type": "code",
   "execution_count": null,
   "id": "5a613bef-0508-45ee-96f5-162ca06e9905",
   "metadata": {},
   "outputs": [],
   "source": [
    "plot_angles(angles[:1000])"
   ]
  },
  {
   "cell_type": "code",
   "execution_count": null,
   "id": "90f02b31-1247-4650-bcfd-d6fa00819251",
   "metadata": {},
   "outputs": [],
   "source": [
    "#ctf_nones = []\n",
    "#for i in range(N):\n",
    "#    ctf_nones.append(None)\n",
    "#ctf_params = jnp.array(ctf_nones)  \n"
   ]
  },
  {
   "cell_type": "code",
   "execution_count": null,
   "id": "9cc6a7cd-9f43-46e7-8ba1-b3b4b4de2a24",
   "metadata": {},
   "outputs": [],
   "source": [
    "#import gc\n",
    "#gc.collect()"
   ]
  },
  {
   "cell_type": "code",
   "execution_count": null,
   "id": "60573d06-2f52-43a8-89f3-d31cf99c769b",
   "metadata": {},
   "outputs": [],
   "source": [
    "imgs_f_full = imgs_f\n",
    "angles_full = angles\n",
    "shifts_full = shifts\n",
    "ctf_params_full = ctf_params"
   ]
  },
  {
   "cell_type": "code",
   "execution_count": null,
   "id": "4617d589-4141-4742-817d-3c2b252c7a4d",
   "metadata": {},
   "outputs": [],
   "source": [
    "#N = 1000\n",
    "#imgs_f = imgs_f_full[:N]\n",
    "#angles = angles_full[:N]\n",
    "#shifts = shifts_full[:N]\n",
    "#ctf_params = ctf_params_full[:N]"
   ]
  },
  {
   "cell_type": "code",
   "execution_count": null,
   "id": "ea8d9b0f-ab31-406a-be15-caaba310fc87",
   "metadata": {},
   "outputs": [],
   "source": [
    "angles.shape"
   ]
  },
  {
   "cell_type": "code",
   "execution_count": null,
   "id": "0eace9b5-b983-40d5-87c7-00feb64cfa9e",
   "metadata": {},
   "outputs": [],
   "source": [
    "N_batch = 1\n",
    "imgs_batch = np.array(np.array_split(imgs_f, N_batch))\n",
    "angles_batch = np.array(np.array_split(angles, N_batch))\n",
    "shifts_batch = np.array(np.array_split(shifts, N_batch))\n",
    "ctf_params_batch = np.array(np.array_split(ctf_params, N_batch))"
   ]
  },
  {
   "cell_type": "code",
   "execution_count": null,
   "id": "8b4b0f84-09b3-4993-ad52-6ec22c682f88",
   "metadata": {},
   "outputs": [],
   "source": [
    "alpha = 1e-9\n",
    "#alpha = 1e-6\n",
    "#alpha=1e-7\n",
    "\n",
    "#radius = 0.048# for nx=32\n",
    "radius = 0.075\n",
    "#radius = 0.185\n",
    "#radius = 1.6 # for nx=64\n",
    "#radius = 0.198 # for nx=128)\n",
    "mask = create_3d_mask(x_grid, (0,0,0),radius)\n",
    "mip_z(jnp.fft.fftshift(mask)); plt.colorbar()\n",
    "M = 1/jnp.max(sigma_noise)**2 * jnp.ones([nx, nx, nx])\n",
    "dt_list = jnp.array([0.1, 0.5, 1, 5, 10])\n",
    "L = 5\n",
    "\n",
    "pixel_size_nx = pixel_size[0] * 320/nx\n",
    "B = pixel_size_nx*nx/15\n",
    "B_list = jnp.array([B, B/2, B/4, B/8])\n",
    "\n",
    "slice_func, _, _ = get_slice_funcs(project, x_grid, mask, \"tri\")\n",
    "\n",
    "loss_func, _, loss_func_sum = get_loss_funcs(slice_func, alpha = alpha)\n",
    "_, loss_func_batched0, _ = get_loss_funcs(slice_func, alpha = 0)\n",
    "\n",
    "grad_loss_volume, grad_loss_volume_sum = get_grad_v_funcs(loss_func, loss_func_sum)\n",
    "\n",
    "loss_proj_func_batched0 = get_loss_proj_funcs(apply_shifts_and_ctf, x_grid, alpha = 0)\n",
    "\n",
    "proposal_func_orientations_u, proposal_func_orientations_p, proposal_func_shifts, proposal_func_vol, proposal_func_vol_batch, proposal_func_mtm_orientations_shifts = get_jax_proposal_funcs(\n",
    "    loss_func_batched0, loss_proj_func_batched0, loss_func_sum, grad_loss_volume_sum, \n",
    "    sigma_noise, B_list, dt_list, L, M) \n",
    "\n",
    "#logPi = lambda v : -loss_func_sum(v, angles_rec, shifts_rec, ctf_params, imgs_f, sigma_noise)\n",
    "#gradLogPi = lambda v : -jnp.conj(grad_loss_volume_sum(v, angles_rec, shifts_rec, ctf_params, imgs_f, sigma_noise))\n",
    "#gradLogPi = lambda v : gradLogPi_split(v, angles_rec, shifts, ctf_params, imgs_f, sigma_noise, 10)\n"
   ]
  },
  {
   "cell_type": "code",
   "execution_count": null,
   "id": "06320f3c-85ed-4c03-b012-f68395f49d66",
   "metadata": {},
   "outputs": [],
   "source": [
    "N_mc_samples = 101\n",
    "key = random.PRNGKey(int(jnp.floor(np.random.rand()*1000)))\n",
    "\n",
    "v0 = (jnp.array(np.random.randn(nx,nx,nx) + 1j * np.random.randn(nx,nx,nx)) )\n",
    "#v0 = jnp.zeros([nx,nx,nx])*1j\n",
    "#v0 = v_rec\n",
    "#v0 = v_hmc_mean\n",
    "\n",
    "#v0 = v0.astype(jnp.complex128)\n",
    "\n",
    "params_vol = {'angles': angles_batch, \n",
    "              'shifts': shifts_batch, \n",
    "              'ctf_params': ctf_params_batch, \n",
    "            'imgs_iter': imgs_batch}\n",
    "\n",
    "t0 = time.time()\n",
    "v_hmc_mean, r_hmc, v_hmc_samples = mcmc(key, proposal_func_vol_batch, v0, N_mc_samples, params_vol, save_samples=-1)\n",
    "print(time.time()-t0)\n"
   ]
  },
  {
   "cell_type": "code",
   "execution_count": null,
   "id": "68df70aa-e1b3-401d-843b-ea1217e383b1",
   "metadata": {},
   "outputs": [],
   "source": [
    "r_hmc.shape"
   ]
  },
  {
   "cell_type": "code",
   "execution_count": null,
   "id": "79835c79-f38b-4c5d-9f10-10d41bc36418",
   "metadata": {},
   "outputs": [],
   "source": [
    "print(jnp.mean(r_hmc))\n",
    "plt.plot(r_hmc)"
   ]
  },
  {
   "cell_type": "code",
   "execution_count": null,
   "id": "a04c27e5-59c2-42ff-a0b6-2a3b4e63c7ce",
   "metadata": {},
   "outputs": [],
   "source": [
    "plt.imshow(jnp.abs(jnp.fft.fftshift(v_hmc_samples[0,:,:,0]))); plt.colorbar()"
   ]
  },
  {
   "cell_type": "code",
   "execution_count": null,
   "id": "3d5514b5-1bd7-42fe-ae58-d8cccbc8dbe3",
   "metadata": {},
   "outputs": [],
   "source": [
    "plt.imshow(jnp.abs(jnp.fft.fftshift(v_hmc_mean[:,:,0]))); plt.colorbar()"
   ]
  },
  {
   "cell_type": "code",
   "execution_count": null,
   "id": "1a284821-ae63-4b4b-86fd-b074c5dd5586",
   "metadata": {},
   "outputs": [],
   "source": [
    "#v_hmc_r = jnp.real(jnp.fft.fftshift(jnp.fft.ifftn(v_hmc_samples[0])))\n",
    "v_hmc_r = jnp.real(jnp.fft.fftshift(jnp.fft.ifftn(v_hmc_mean)))\n",
    "mip_z(v_hmc_r)\n",
    "plt.colorbar()\n"
   ]
  },
  {
   "cell_type": "code",
   "execution_count": null,
   "id": "e6688af6-2dc1-4aa3-a28c-a4dcd8308dc7",
   "metadata": {},
   "outputs": [],
   "source": [
    "with mrcfile.new(f\"{out_dir}/v_hmc_mean.mrc\", overwrite=True) as mrc:\n",
    "#with mrcfile.new(\"/gpfs/gibbs/pi/lederman/bt387/exp_data/output_simple_cryoem2_switch/rec_final_opt.mrc\", overwrite=True) as mrc:\n",
    "    mrc.set_data(v_hmc_r.astype(np.float32))"
   ]
  },
  {
   "cell_type": "code",
   "execution_count": null,
   "id": "4e101b68-0fb7-4f5b-b9df-7dc623992943",
   "metadata": {},
   "outputs": [],
   "source": [
    "v_hmc_mean_l, x_grid_l = rescale_larger_grid(v_hmc_mean, x_grid, 320)\n",
    "v_hmc_rl = jnp.real(jnp.fft.fftshift(jnp.fft.ifftn(v_hmc_mean_l)))\n",
    "mip_z(v_hmc_rl)\n",
    "plt.colorbar()\n"
   ]
  },
  {
   "cell_type": "code",
   "execution_count": null,
   "id": "cae976fc-d334-47aa-96c4-50a07809291a",
   "metadata": {},
   "outputs": [],
   "source": [
    "with mrcfile.new(f\"{out_dir}/v_hmc_mean_nx0.mrc\", overwrite=True) as mrc:\n",
    "#with mrcfile.new(\"/gpfs/gibbs/pi/lederman/bt387/exp_data/output_simple_cryoem2_switch/rec_final_opt_nx0.mrc\", overwrite=True) as mrc:\n",
    "    mrc.set_data(v_hmc_rl.astype(np.float32))\n",
    "    \n"
   ]
  },
  {
   "cell_type": "code",
   "execution_count": null,
   "id": "e0f88201-711f-4ddd-95cf-b90fbfa7d671",
   "metadata": {},
   "outputs": [],
   "source": []
  },
  {
   "cell_type": "code",
   "execution_count": null,
   "id": "8eedb92e-9f08-4eda-8c3f-52306d64893d",
   "metadata": {},
   "outputs": [],
   "source": []
  },
  {
   "cell_type": "code",
   "execution_count": null,
   "id": "4034ed23-cda7-4d2f-9c5c-2266884219d4",
   "metadata": {},
   "outputs": [],
   "source": [
    "file = open('../data/cryodrgn/angles_rec', 'wb')\n",
    "pickle.dump(angles_rec, file)\n",
    "file.close()\n",
    "\n",
    "file3 = open('../data/cryodrgn/shifts_rec','wb')\n",
    "pickle.dump(shifts_rec, file3)\n",
    "file3.close()"
   ]
  },
  {
   "cell_type": "code",
   "execution_count": null,
   "id": "10b51e6e-8ea7-4cea-812c-9e8d42b4b961",
   "metadata": {},
   "outputs": [],
   "source": [
    "with open('../data/cryodrgn5000/angles_rec', 'rb') as file:\n",
    "    # Call load method to deserialze\n",
    "    angles_rec2 = pickle.load(file)\n",
    "    \n",
    "with open('../data/cryodrgn5000/shifts_rec', 'rb') as file:\n",
    "    # Call load method to deserialze\n",
    "    shifts_rec2 = pickle.load(file)\n",
    "    \n",
    "with open('../data/cryodrgn5000/angles_rec_img_idx', 'rb') as file:\n",
    "    # Call load method to deserialze\n",
    "    idxrand2 = pickle.load(file)    \n",
    "    "
   ]
  },
  {
   "cell_type": "code",
   "execution_count": null,
   "id": "7fed2bda-8cce-450b-8c89-1893d248f92d",
   "metadata": {},
   "outputs": [],
   "source": [
    "jnp.sum(jnp.abs(angles_rec2 - angles_rec))\n",
    "jnp.sum(jnp.abs(shifts_rec2 - shifts_rec))\n",
    "jnp.sum(jnp.abs(idxrand2 - idxrand))"
   ]
  },
  {
   "cell_type": "markdown",
   "id": "29d8fd51-9b23-481f-8257-ef973bc0ed80",
   "metadata": {},
   "source": [
    "### Global orientations + shifts sampling"
   ]
  },
  {
   "cell_type": "code",
   "execution_count": null,
   "id": "3b0cb173-e92c-4e65-b750-24d7dcff47e5",
   "metadata": {},
   "outputs": [],
   "source": [
    "# Volume obtained form sampling in the previous section\n",
    "\n",
    "angles_true = angles\n",
    "shifts_true = shifts\n",
    "vol = v_hmc_mean"
   ]
  },
  {
   "cell_type": "code",
   "execution_count": null,
   "id": "597ac54c-6aac-4f8f-8c2f-ea8a87811238",
   "metadata": {},
   "outputs": [],
   "source": [
    "key = random.PRNGKey(int(jnp.floor(np.random.rand()*1000)))\n",
    "key, subkey = random.split(key)"
   ]
  },
  {
   "cell_type": "code",
   "execution_count": null,
   "id": "79652c58-051f-43fc-862f-28a0033c5740",
   "metadata": {},
   "outputs": [],
   "source": [
    "@jax.jit\n",
    "def rotate_and_interpolate_iter(v, angles):\n",
    "    return jax.vmap(rotate_and_interpolate, in_axes=(None,0,None,None))(v, angles, x_grid, x_grid)\n"
   ]
  },
  {
   "cell_type": "code",
   "execution_count": null,
   "id": "780dd4b9-70bc-4f50-9fc2-e18d37b8cee5",
   "metadata": {},
   "outputs": [],
   "source": [
    "B = pixel_size[0] * 320/8"
   ]
  },
  {
   "cell_type": "code",
   "execution_count": null,
   "id": "2c2ace3e-4655-458e-b996-5c2c699f503a",
   "metadata": {},
   "outputs": [],
   "source": [
    "proposal_func_orientations_u, proposal_func_orientations_p, proposal_func_shifts, proposal_func_vol, proposal_func_vol_batch, proposal_func_mtm_orientations_shifts = get_jax_proposal_funcs(\n",
    "    loss_func_batched0, loss_proj_func_batched0, loss_func_sum, grad_loss_volume_sum, \n",
    "    rotate_and_interpolate_iter, sigma_noise, B_list, B, dt_list, L, M) "
   ]
  },
  {
   "cell_type": "code",
   "execution_count": null,
   "id": "e557423c-980b-412d-bf22-b6aefe6b11cd",
   "metadata": {},
   "outputs": [],
   "source": [
    "as0 = jnp.concatenate([angles, shifts], axis=1)\n",
    "as1, r, w1, w0 = proposal_func_mtm_orientations_shifts(key, as0, jnp.inf*jnp.ones(N), vol, ctf_params, imgs_f)"
   ]
  },
  {
   "cell_type": "code",
   "execution_count": null,
   "id": "c13257a4-1e30-43e7-aef3-194c72f7bc7f",
   "metadata": {},
   "outputs": [],
   "source": [
    "N_mc_samples = 1000\n",
    "key, subkey = random.split(key)\n",
    "\n",
    "params = {'v': vol, \n",
    "        'ctf_params': ctf_params, \n",
    "        'imgs_iter': imgs_f}\n",
    "          \n",
    "as0 = jnp.array(np.random.randn(N,5))\n",
    "\n",
    "t0 = time.time()\n",
    "_, angles_shifts_r, angles_shifts_samples = mcmc(key, proposal_func_mtm_orientations_shifts, as0, N_mc_samples, params, N, save_samples=-1)\n",
    "print(time.time()-t0)\n",
    "\n",
    "angles_rec = angles_shifts_samples[0, :, :3]\n",
    "shifts_rec = angles_shifts_samples[0, :, 3:]"
   ]
  },
  {
   "cell_type": "code",
   "execution_count": null,
   "id": "8f839f9e-62fe-4f32-b3a3-5c746b8cf852",
   "metadata": {},
   "outputs": [],
   "source": [
    "angles_rec.shape"
   ]
  },
  {
   "cell_type": "code",
   "execution_count": null,
   "id": "cecbfec8-bc06-472a-85c6-fc1ffbb771ff",
   "metadata": {},
   "outputs": [],
   "source": [
    "shifts_rec.shape"
   ]
  },
  {
   "cell_type": "code",
   "execution_count": null,
   "id": "25dceba4-38e0-4019-a842-49890967c931",
   "metadata": {},
   "outputs": [],
   "source": [
    "angles_shifts_r.shape"
   ]
  },
  {
   "cell_type": "code",
   "execution_count": null,
   "id": "5ed9ef08-4698-435a-9395-d279204f87fb",
   "metadata": {},
   "outputs": [],
   "source": [
    "plt.plot(angles_shifts_r[:,1927])"
   ]
  },
  {
   "cell_type": "code",
   "execution_count": null,
   "id": "45430d13-61d4-417d-8691-0c25cad1d456",
   "metadata": {},
   "outputs": [],
   "source": [
    "idx = 230\n",
    "print(shifts_rec[idx])\n",
    "print(shifts[idx])\n",
    "\n",
    "print(angles_rec[idx])\n",
    "print(angles[idx])"
   ]
  },
  {
   "cell_type": "code",
   "execution_count": null,
   "id": "fc93d30d-53c0-4611-828d-9d6828f3e7d7",
   "metadata": {},
   "outputs": [],
   "source": [
    "plt.plot(shifts[:,0], shifts[:,1], '.')\n",
    "plt.plot(shifts_rec[:,0], shifts_rec[:,1], '.')"
   ]
  },
  {
   "cell_type": "code",
   "execution_count": null,
   "id": "09011541-c7d2-4fb2-8c66-7735fc837209",
   "metadata": {},
   "outputs": [],
   "source": [
    "theta, cord_distance = err_orientations(angles, angles_rec)\n",
    "\n",
    "nbins=100\n",
    "counts, bins = np.histogram((theta)**2, bins=nbins)\n",
    "_ = plt.hist(bins[:-1], bins, weights=counts)"
   ]
  },
  {
   "cell_type": "code",
   "execution_count": null,
   "id": "ea524cbd-6a74-4798-9560-7e56d36adb15",
   "metadata": {},
   "outputs": [],
   "source": [
    "plt.plot(jnp.sort(cord_distance**2))"
   ]
  },
  {
   "cell_type": "code",
   "execution_count": null,
   "id": "fdc4900b-1803-4e78-9540-0ec615e1c2a6",
   "metadata": {},
   "outputs": [],
   "source": [
    "theta, cord_distance = err_orientations(angles, as0[:,:3])\n",
    "\n",
    "nbins=100\n",
    "counts, bins = np.histogram((theta)**2, bins=nbins)\n",
    "_ = plt.hist(bins[:-1], bins, weights=counts)"
   ]
  },
  {
   "cell_type": "code",
   "execution_count": null,
   "id": "dd1ebd21-5d15-438c-b2b8-c837f29669c7",
   "metadata": {},
   "outputs": [],
   "source": [
    "plt.plot(jnp.sort(cord_distance**2))"
   ]
  },
  {
   "cell_type": "markdown",
   "id": "bca279ad-c87f-40bd-bbf3-e338894d443c",
   "metadata": {},
   "source": [
    "### MCMC local perturbations for orientations"
   ]
  },
  {
   "cell_type": "code",
   "execution_count": null,
   "id": "086559f1-e8f5-4348-adb1-3741932e8471",
   "metadata": {},
   "outputs": [],
   "source": [
    "#Load a volume\n",
    "vol_file = \"/gpfs/gibbs/pi/lederman/dge5/CrossValidationCryodrgnSet/Refine3D/crossvalidation1/run_class001.mrc\"\n",
    "\n",
    "with mrcfile.open(vol_file) as file:\n",
    "    v_r = file.data\n",
    "    \n",
    "v, _, _ = volume_fourier(v_r, 1)\n",
    "#mip_z(jnp.fft.fftshift(jnp.abs(v))); plt.colorbar()"
   ]
  },
  {
   "cell_type": "code",
   "execution_count": null,
   "id": "0516f62f-7dc9-4115-bac1-a53530f3647c",
   "metadata": {},
   "outputs": [],
   "source": [
    "#a0 = generate_uniform_orientations_jax(subkey, jnp.zeros(N))\n",
    "a0 = angles"
   ]
  },
  {
   "cell_type": "code",
   "execution_count": null,
   "id": "8ab24e56-9e96-436d-a0c0-65acb5fb7d2a",
   "metadata": {},
   "outputs": [],
   "source": [
    "print(a0[0])\n",
    "key, subkey = random.split(key)\n",
    "a1, _, _, _= proposal_func_orientations_p(subkey, a0, jnp.inf*jnp.ones(N), v, shifts, ctf_params, imgs_f, jnp.array([0.01]))\n",
    "print(a1[0])"
   ]
  },
  {
   "cell_type": "code",
   "execution_count": null,
   "id": "6ace551c-c0a4-4cd1-894a-31fb4ab278d6",
   "metadata": {},
   "outputs": [],
   "source": [
    "N_mc_samples = 1000\n",
    "key = random.PRNGKey(int(jnp.floor(np.random.rand()*1000)))\n",
    "key, subkey = random.split(key)\n",
    "\n",
    "sigma_perturb_list = jnp.array([1, 0.1, 0.01, 0.001])\n",
    "\n",
    "params_angles = {'v': v, \n",
    "              'shifts': shifts, \n",
    "              'ctf_params': ctf_params, \n",
    "            'imgs_iter': imgs_f,\n",
    "             'sigma_perturb' : sigma_perturb_list}\n",
    "\n",
    "t0 = time.time()\n",
    "_, angles_r, angles_samples = mcmc(key, proposal_func_orientations_p, a0, N_mc_samples, params_angles, N, save_samples=1)\n",
    "print(time.time()-t0)\n",
    "\n",
    "angles_rec2 = angles_samples[N_mc_samples-2]"
   ]
  },
  {
   "cell_type": "code",
   "execution_count": null,
   "id": "306305d4-5f35-4ae0-8910-cb60458fc2bc",
   "metadata": {},
   "outputs": [],
   "source": [
    "angles_samples.shape"
   ]
  },
  {
   "cell_type": "code",
   "execution_count": null,
   "id": "4a8011a5-973d-4507-88cf-e4d44794b537",
   "metadata": {},
   "outputs": [],
   "source": [
    "img_idx = 100\n",
    "ang_idx = 2\n",
    "\n",
    "fig = plt.figure()\n",
    "ax = fig.add_subplot(projection='3d')\n",
    "ax.scatter(angles_samples[:, img_idx, 0], angles_samples[:, img_idx, 1], angles_samples[:, img_idx, 2] )\n",
    "plt.show()"
   ]
  },
  {
   "cell_type": "code",
   "execution_count": null,
   "id": "bf1cb44e-2ddf-4f16-8626-71305ef190c6",
   "metadata": {},
   "outputs": [],
   "source": []
  },
  {
   "cell_type": "code",
   "execution_count": null,
   "id": "49627efd-47a6-4f04-9326-be7c5027277d",
   "metadata": {},
   "outputs": [],
   "source": [
    "nbins=200\n",
    "counts0, bins0 = np.histogram(angles_samples[:, img_idx, 0], bins=nbins)\n",
    "_ =plt.hist(bins0[:-1], bins0, weights=counts0)\n",
    "\n",
    "counts1, bins1 = np.histogram(angles_samples[:, img_idx, 1], bins=nbins)\n",
    "_ =plt.hist(bins1[:-1], bins1, weights=counts1)\n",
    "\n",
    "counts2, bins2 = np.histogram(angles_samples[:, img_idx, 2], bins=nbins)\n",
    "_ =plt.hist(bins2[:-1], bins2, weights=counts2)\n"
   ]
  },
  {
   "cell_type": "code",
   "execution_count": null,
   "id": "b955b2c5-47e6-4e7f-b1b9-7320d26fe880",
   "metadata": {},
   "outputs": [],
   "source": [
    "nx"
   ]
  },
  {
   "cell_type": "code",
   "execution_count": null,
   "id": "20a30f74-4a1e-47b9-bfc1-013a0640ad4a",
   "metadata": {},
   "outputs": [],
   "source": [
    "\n",
    "plt.plot(jnp.mod(jnp.abs(angles_samples[:,img_idx,ang_idx] - angles[img_idx,ang_idx]), 2*jnp.pi))"
   ]
  },
  {
   "cell_type": "code",
   "execution_count": null,
   "id": "491dadfb-4279-478a-85eb-3b32be9bac05",
   "metadata": {},
   "outputs": [],
   "source": [
    "plt.plot(jnp.mod(jnp.abs(angles_samples[:,img_idx,ang_idx] - angles_rec[img_idx,ang_idx]), 2*jnp.pi))"
   ]
  },
  {
   "cell_type": "code",
   "execution_count": null,
   "id": "59a91a23-bfcb-44c9-bd2a-fcf14cc13527",
   "metadata": {},
   "outputs": [],
   "source": [
    "theta, cord_distance = err_orientations(angles, angles_rec)\n",
    "\n",
    "nbins=100\n",
    "counts, bins = np.histogram(theta, bins=nbins)\n",
    "plt.hist(bins[:-1], bins, weights=counts)"
   ]
  },
  {
   "cell_type": "code",
   "execution_count": null,
   "id": "78dfc7b7-09b0-4af6-bd2f-bd5ee42f5a06",
   "metadata": {},
   "outputs": [],
   "source": [
    "theta, cord_distance = err_orientations(angles, angles_rec2)\n",
    "\n",
    "nbins=100\n",
    "counts, bins = np.histogram(theta, bins=nbins)\n",
    "plt.hist(bins[:-1], bins, weights=counts)"
   ]
  },
  {
   "cell_type": "code",
   "execution_count": null,
   "id": "81285dcf-1e52-4f78-bc1f-6e9202da0443",
   "metadata": {},
   "outputs": [],
   "source": [
    "theta, cord_distance = err_orientations(angles_rec, angles_rec2)\n",
    "\n",
    "nbins=100\n",
    "counts, bins = np.histogram(theta, bins=nbins)\n",
    "plt.hist(bins[:-1], bins, weights=counts)"
   ]
  },
  {
   "cell_type": "markdown",
   "id": "33b32b25-1662-437d-a813-b6c124203aa1",
   "metadata": {},
   "source": [
    "### Classes"
   ]
  },
  {
   "cell_type": "code",
   "execution_count": null,
   "id": "8bb03cbf-078e-4ce6-99d7-33e8c6601fd2",
   "metadata": {},
   "outputs": [],
   "source": [
    "# Load the correct volumes\n",
    "\n",
    "print(classes)\n",
    "\n",
    "vols = []\n",
    "vols_r = []\n",
    "for i in classes:\n",
    "    with mrcfile.open(f\"/gpfs/gibbs/pi/lederman/dge5/SimulatedData/{i}_volume.mrc\") as file:\n",
    "        v = file.data\n",
    "        \n",
    "    v_f, _, _ = volume_fourier(v, pixel_size[0])\n",
    "    v_f, _ = crop_fourier_volume(v_f, x_grid, 16)  \n",
    "    \n",
    "    v_r = jnp.fft.fftshift(jnp.real(jnp.fft.ifftn(v_f)))\n",
    "    \n",
    "    vols.append(v_f)                 \n",
    "    vols_r.append(v_r)\n",
    "    \n",
    "vols = jnp.array(vols)\n",
    "vols_r = jnp.array(vols_r)\n",
    "# Crop them\n"
   ]
  },
  {
   "cell_type": "code",
   "execution_count": null,
   "id": "9fc0a1b6-65f8-4481-8566-bd839e2086ba",
   "metadata": {},
   "outputs": [],
   "source": []
  },
  {
   "cell_type": "code",
   "execution_count": null,
   "id": "e64c8cb6-a2c4-48f4-ad80-1014d53280c3",
   "metadata": {},
   "outputs": [],
   "source": [
    "#v_f = np.fft.fftshift(v_f)\n",
    "\n",
    "mip_z((jnp.abs(vols_r[0]))); plt.colorbar()"
   ]
  },
  {
   "cell_type": "code",
   "execution_count": null,
   "id": "2d86c6b7-76e7-4612-ad44-89e1b96ed37d",
   "metadata": {},
   "outputs": [],
   "source": [
    "\n",
    "plt.imshow(jnp.abs((v_f[0]))); plt.colorbar()"
   ]
  },
  {
   "cell_type": "code",
   "execution_count": null,
   "id": "2d9cfcf4-1b46-4abf-9e9f-8d1eafcf6c55",
   "metadata": {},
   "outputs": [],
   "source": [
    "mip_z(vols_r[0])"
   ]
  },
  {
   "cell_type": "code",
   "execution_count": null,
   "id": "ee6020b4-b9a9-49e2-aa74-300fd3f93464",
   "metadata": {},
   "outputs": [],
   "source": [
    "def get_class_proposal_func(loss_func_batched, loss_func_sum, sigma_noise, alpha_d, K):\n",
    "    \n",
    "\n",
    "    \n",
    "    def logPi(v, angles, shifts, ctf_params, imgs, z, sigma_noise):\n",
    "        n_k = calc_nk_jit(z)\n",
    "        term1 = -loss_func_sum(v, angles, shifts, ctf_params, imgs, z, sigma_noise)\n",
    "\n",
    "        logPZalpha = jnp.sum(gammaln(n_k + alpha_d))            \n",
    "\n",
    "        return term1 + logPZalpha\n",
    " \n",
    "    calc_nk_k = lambda z, k : jnp.sum(z == k)\n",
    "    calc_nk = lambda z : jax.vmap(calc_nk_k, in_axes = (None, 0))(z, jnp.arange(K))\n",
    "    calc_nk_jit = jax.jit(calc_nk)\n",
    "\n",
    "    @jax.jit\n",
    "    def proposal_z_idx(key, z0, logPiX0, v, angles, shifts, ctf_params, imgs, idx):\n",
    "        \n",
    "        logPi_local = lambda z : logPi(v, angles, shifts, ctf_params, imgs, z, sigma_noise)\n",
    "        \n",
    "        newval = random.randint(key, (), 0, K) \n",
    "        z1 = z0.at[idx].set(newval)\n",
    "\n",
    "        logPiX0 = logPi_local(z0)\n",
    "        logPiX1 = logPi_local(z1)\n",
    "\n",
    "        r = jnp.exp(logPiX1 - logPiX0)\n",
    "\n",
    "        return z1, r, logPiX1, logPiX0\n",
    "\n",
    "    @jax.jit\n",
    "    def proposal_z_batch_old(key, z0, logPiX0, v, angles, shifts, ctf_params, imgs):\n",
    "        \"\"\"Batch mode proposal function for z, operating in the same\n",
    "        way as proposal_x_batch. \n",
    "\n",
    "        If the posterior depends on the states z_1,...,z_N (e.g. due to \n",
    "        the Dirichlet prior), then running MCMC with this proposal function\n",
    "        is NOT correct. However, this function is used in the\n",
    "        proposal_z_batch_correct\" function, which takes advantage of these\n",
    "        parallel proposals in a proper MCMC way.\"\"\"\n",
    "   \n",
    "        N = angles.shape[0]\n",
    "        keys = random.split(key, N)\n",
    "\n",
    "        # TODO: change both batch functions (this and proposal_x_batch)\n",
    "        # so we don't have to do diag on an N x N (or K x K) matrix - potentially\n",
    "        # problematic for large N.\n",
    "        z1, r, logPiX1, logPiX0 = jax.vmap(proposal_z_idx, \n",
    "                                           in_axes = (0, None, None, None, None, None, None, None, 0))(keys, z0, logPiX0, v, angles, shifts, ctf_params, imgs, jnp.arange(N))\n",
    "        z1 = jnp.diag(z1)\n",
    "\n",
    "        return z1, r, logPiX1, logPiX0\n",
    "    \n",
    "    \n",
    "    @jax.jit\n",
    "    def proposal_z_batch(key, z0, logPiX0, v, angles, shifts, ctf_params, imgs):\n",
    "        \"\"\"Batch mode proposal function for z, with no Dirichlet prior \n",
    "        for the classes.\n",
    "\n",
    "        If the posterior depends on the states z_1,...,z_N (e.g. due to \n",
    "        the Dirichlet prior), then running MCMC with this proposal function\n",
    "        is NOT correct. However, this function is used in the\n",
    "        proposal_z_batch_correct\" function, which takes advantage of these\n",
    "        parallel proposals in a proper MCMC way.\"\"\"\n",
    "   \n",
    "        N = angles.shape[0]\n",
    "        z1 = random.randint(key, z0.shape, 0, K) \n",
    "\n",
    "        logPiX0 = -loss_func_batched(v, angles, shifts, ctf_params, imgs, z0, sigma_noise)\n",
    "        logPiX1 = -loss_func_batched(v, angles, shifts, ctf_params, imgs, z1, sigma_noise)\n",
    "        r = jnp.exp(logPiX1 - logPiX0)\n",
    "\n",
    "        return z1, r, logPiX1, logPiX0\n",
    "\n",
    "    @jax.jit\n",
    "    def proposal_z_batch_correct(key, z0, logPiX0, v, angles, shifts, ctf_params, imgs):\n",
    "        \"\"\"If using the Dirichlet posterior, then the proposal_z_batch is not \n",
    "        proper MCMC sampling. Here, we run a number of \"incorect\" MCMC steps to \n",
    "        sample all the entries of z in parallel, and then use the latest \n",
    "        proposed z as a proposal for a \"correct\" MCMC proposal. The acceptance rate\n",
    "        is pretty good in this toy example and the convergence great.\"\"\"\n",
    "        \n",
    "        logPi_local = lambda z : logPi(v, angles, shifts, ctf_params, imgs, z, sigma_noise)\n",
    "    \n",
    "        N = angles.shape[0]\n",
    "        N_samples_z_local = 10\n",
    "        keys = random.split(key, 2*N_samples_z_local)\n",
    "        params_z = {\"v\" : v, \"angles\" : angles, \"shifts\" : shifts, \"ctf_params\" : ctf_params, \"imgs\" : imgs}\n",
    "\n",
    "        logPiZ0 = logPi_local(z0)\n",
    "        \n",
    "        #logPiX0 = logPiZ0\n",
    "        #for i in jnp.arange(N_samples_z_local):\n",
    "        #    z1, r, logPiX1, logPiX0 = proposal_z_batch(keys[2*i], z0, logPiX0, **params_z)\n",
    "        #    a = jnp.minimum(1, r)\n",
    "        #    \n",
    "        #    unif_var = random.uniform(keys[2*i+1], (N,))\n",
    "        #    z1, logPiX1 = accept_reject_vmap(unif_var, a, z0, z1, logPiX0, logPiX1)\n",
    "        #    \n",
    "        #    z0 = z1\n",
    "        #    logPiX0 = logPiX1\n",
    "        \n",
    "        def body_fun(i, z0logPiX0):\n",
    "            z0, logPiX0 = z0logPiX0\n",
    "            \n",
    "            z1, r, logPiX1, logPiX0 = proposal_z_batch(keys[2*i], z0, logPiX0, **params_z)\n",
    "            a = jnp.minimum(1, r)\n",
    "\n",
    "            unif_var = random.uniform(keys[2*i+1], (N,))\n",
    "            z1, logPiX1 = accept_reject_vmap(unif_var, a, z0, z1, logPiX0, logPiX1)\n",
    "\n",
    "            return z1, logPiX1\n",
    "\n",
    "        z1, _ = jax.lax.fori_loop(0, N_samples_z_local, body_fun, (z0, logPiZ0*jnp.ones((N,))))    \n",
    "                         \n",
    "        logPiZ1 = logPi_local(z1)\n",
    "        r = jnp.exp(logPiZ1 - logPiZ0)       \n",
    "\n",
    "        return z1, r, logPiZ1, logPiZ0\n",
    "    \n",
    "    return proposal_z_idx, proposal_z_batch, proposal_z_batch_correct"
   ]
  },
  {
   "cell_type": "code",
   "execution_count": null,
   "id": "6f459ff5-6b6a-4561-bfd0-fa6382d333d9",
   "metadata": {},
   "outputs": [],
   "source": [
    "K = len(classes)\n",
    "alpha_d = 10* jnp.ones(K)\n",
    "\n",
    "alpha = 1e-9\n",
    "#alpha = 1e-6\n",
    "#alpha=1e-7\n",
    "\n",
    "#radius = 0.048# for nx=32\n",
    "radius = 0.09\n",
    "#radius = 0.185\n",
    "#radius = 1.6 # for nx=64\n",
    "#radius = 0.198 # for nx=128)\n",
    "mask = create_3d_mask(x_grid, (0,0,0),radius)\n",
    "mip_z(jnp.fft.fftshift(mask)); plt.colorbar()\n",
    "M = 1/jnp.max(sigma_noise)**2 * jnp.ones([nx, nx, nx])\n",
    "dt_list = jnp.array([0.1, 0.5, 1, 5, 10])\n",
    "L = 5\n",
    "\n",
    "pixel_size_nx = pixel_size[0] * 320/nx\n",
    "B = pixel_size_nx*nx/15\n",
    "B_list = jnp.array([B, B/2, B/4, B/8])\n",
    "\n",
    "slice_func, _, _ = get_slice_funcs(project, x_grid, mask, \"tri\")\n",
    "\n",
    "loss_func, loss_func_batched, loss_func_sum = get_loss_funcs(slice_func, alpha = alpha)\n",
    "_, loss_func_batched0, _ = get_loss_funcs(slice_func, alpha = 0)\n",
    "\n",
    "grad_loss_volume, grad_loss_volume_sum = get_grad_v_funcs(loss_func, loss_func_sum)\n",
    "\n",
    "loss_proj_func_batched0 = get_loss_proj_funcs(apply_shifts_and_ctf, x_grid, alpha = 0)\n",
    "\n",
    "\n",
    "\n",
    "#logPi = lambda v : -loss_func_sum(v, angles_rec, shifts_rec, ctf_params, imgs_f, sigma_noise)\n",
    "#gradLogPi = lambda v : -jnp.conj(grad_loss_volume_sum(v, angles_rec, shifts_rec, ctf_params, imgs_f, sigma_noise))\n",
    "#gradLogPi = lambda v : gradLogPi_split(v, angles_rec, shifts, ctf_params, imgs_f, sigma_noise, 10)\n",
    "\n",
    "\n",
    "\n",
    "loss_func_z, loss_func_z_batched, loss_func_z_sum, grad_loss_volume_z, grad_loss_volume_sum_z = get_loss_grad_funcs_classes(loss_func)\n",
    "\n",
    "proposal_z_idx, proposal_z_batch, proposal_z_batch_correct = get_class_proposal_func(loss_func_z_batched, loss_func_z_sum, sigma_noise, alpha_d, K)\n",
    "\n",
    "proposal_func_orientations_u, proposal_func_orientations_p, proposal_func_shifts, proposal_func_vol, proposal_func_vol_batch = get_jax_proposal_funcs(\n",
    "    loss_func_z_batched, loss_proj_func_batched0, loss_func_z_sum, grad_loss_volume_sum_z, \n",
    "    sigma_noise, B_list, dt_list, L, M) "
   ]
  },
  {
   "cell_type": "code",
   "execution_count": null,
   "id": "2fbc2adc-7353-47af-915c-379996255ddb",
   "metadata": {},
   "outputs": [],
   "source": [
    "Nn = N\n",
    "\n",
    "N_iters = 10\n",
    "N_samples_z = 201\n",
    "N_samples_v = 201\n",
    "N_samples_a = 1001\n",
    "key = random.PRNGKey(int(jnp.floor(np.random.rand()*1000)))\n",
    "\n",
    "sample_v = False\n",
    "sample_z = True\n",
    "sample_a = False\n",
    "\n",
    "#v0 = jnp.array(np.random.randn(K, nx,nx,nx) + 1j * np.random.randn(K, nx,nx,nx)) \n",
    "v0 = vols.astype(jnp.complex128)\n",
    "\n",
    "z0 =  jnp.array(np.random.randint(0, K, (Nn,)))\n",
    "\n",
    "#a0 = generate_uniform_orientations_jax(key, angles)\n",
    "a0 = angles[:Nn]\n",
    "\n",
    "\n",
    "vi = v0\n",
    "zi = z0\n",
    "ai = a0\n",
    "\n",
    "t0 = time.time()\n",
    "\n",
    "for iter_i in jnp.arange(N_iters):\n",
    "    print(f\"Iter = {iter_i}\")\n",
    "\n",
    "    if sample_v:\n",
    "        print(\"  Sampling vols\")\n",
    "\n",
    "        params_v = {'angles': ai[:Nn], \n",
    "                    'shifts': shifts[:Nn], \n",
    "                    'ctf_params': ctf_params[:Nn], \n",
    "                    'imgs_iter': imgs_f[:Nn], \n",
    "                     'z' : zi[:Nn]}\n",
    "        \n",
    "        key, subkey = random.split(key)\n",
    "        \n",
    "        v_mean, v_r, v_samples = mcmc(subkey, proposal_func_vol, vi, N_samples_v, params_v, save_samples=-1)\n",
    "\n",
    "        vi = v_samples[N_samples_v - 2]\n",
    "\n",
    "    if sample_z:\n",
    "        print(\"  Sampling z\")\n",
    "\n",
    "        params_z = {'v' : vi,\n",
    "                    'angles': ai[:Nn], \n",
    "                    'shifts': shifts[:Nn], \n",
    "                    'ctf_params': ctf_params[:Nn], \n",
    "                    'imgs': imgs_f[:Nn]\n",
    "                   # 'idx' : idx\n",
    "                   }\n",
    "\n",
    "        key, subkey = random.split(key)\n",
    "     \n",
    "        #v_hmc_mean, r_hmc, v_hmc_samples = mcmc(subkey, proposal_func_vol_batch, v0, N_mc_samples, params_vol, save_samples=-1)\n",
    "        \n",
    "        #_, z_r, z_samples = mcmc(subkey, proposal_z_batch, zi, N_samples_z, params_z, Nn, save_samples=1)\n",
    "        _, z_r, z_samples = mcmc(subkey, proposal_z_batch_correct, zi, N_samples_z, params_z, 1, save_samples=1)\n",
    "        zi = z_samples[N_samples_z - 2]\n",
    "        \n",
    "        \n",
    "    if sample_a:\n",
    "        print(\"  Sampling orientations\")\n",
    "        \n",
    "        params_a = {'v': vi,\n",
    "                    'shifts': shifts[:Nn], \n",
    "                    'ctf_params': ctf_params[:Nn], \n",
    "                    'imgs_iter': imgs_f[:Nn],\n",
    "                    'z' : zi[:Nn]}\n",
    "        \n",
    "        key, subkey = random.split(key)\n",
    "        \n",
    "        _, a_r, a_samples = mcmc(key, proposal_func_orientations_u, ai, N_samples_a, params_a, Nn, 1, verbose = True)       \n",
    "        ai = a_samples[N_samples_a - 2]      \n",
    "                    \n",
    "                    \n",
    "\n",
    "v_rec = vi\n",
    "print(time.time()-t0)"
   ]
  },
  {
   "cell_type": "code",
   "execution_count": null,
   "id": "49eb5563-a095-4e89-8e5d-3b06d6bcdd55",
   "metadata": {},
   "outputs": [],
   "source": [
    "v_rec_r = jnp.array([ jnp.fft.fftshift(jnp.real(jnp.fft.ifftn(v))) for v in v_rec])"
   ]
  },
  {
   "cell_type": "code",
   "execution_count": null,
   "id": "61b9fc8c-7fbe-4305-a477-62c546d8a161",
   "metadata": {},
   "outputs": [],
   "source": [
    "idx = 4\n",
    "\n",
    "#plt.plot(z_r[:,idx])\n",
    "plt.plot(z_r)"
   ]
  },
  {
   "cell_type": "code",
   "execution_count": null,
   "id": "c205b127-826b-4740-b327-38cb931fd997",
   "metadata": {},
   "outputs": [],
   "source": [
    "plt.plot(z_samples[:,1213])"
   ]
  },
  {
   "cell_type": "code",
   "execution_count": null,
   "id": "19149ad6-dd29-4033-9802-0119aad65751",
   "metadata": {},
   "outputs": [],
   "source": [
    "z_samples.shape"
   ]
  },
  {
   "cell_type": "code",
   "execution_count": null,
   "id": "a45615f4-045d-4541-8931-aa5b6dfca8b4",
   "metadata": {},
   "outputs": [],
   "source": [
    "nbins=100\n",
    "counts, bins = np.histogram(z_samples[:,idx], bins=nbins)\n",
    "_ = plt.hist(bins[:-1], bins, weights=counts)\n",
    "\n",
    "v_idx = jnp.bincount(z_samples[:,idx]).argmax()"
   ]
  },
  {
   "cell_type": "code",
   "execution_count": null,
   "id": "933197ab-99b7-427b-bfe9-f5f27c1587ba",
   "metadata": {},
   "outputs": [],
   "source": [
    "plt.imshow(jnp.real(jnp.fft.fftshift(jnp.fft.ifftn(imgs_f[idx].reshape([nx,nx])))))"
   ]
  },
  {
   "cell_type": "code",
   "execution_count": null,
   "id": "a21899a5-a302-458f-bde5-bac4f5ef5cf6",
   "metadata": {},
   "outputs": [],
   "source": [
    "#v_idx = 0\n",
    "\n",
    "plt.rcParams[\"figure.figsize\"]=12,6\n",
    "plt.subplot(2,2,1)\n",
    "mip_y(vols_r[v_idx]); plt.colorbar()\n",
    "plt.title(\"Ground truth\")\n",
    "\n",
    "plt.subplot(2,2,2)\n",
    "mip_y(v_rec_r[v_idx]); plt.colorbar()\n",
    "plt.title(\"Reconstruction\")\n",
    "\n",
    "plt.subplot(2,2,3)\n",
    "mip_y(jnp.real(jnp.fft.fftshift(jnp.fft.ifftn(v0[v_idx])))); plt.colorbar()\n",
    "plt.title(\"Initialization\")\n",
    "\n",
    "plt.rcParams[\"figure.figsize\"]=6,6"
   ]
  },
  {
   "cell_type": "code",
   "execution_count": null,
   "id": "6860a66b-aff9-43d3-8182-47db3e4431d9",
   "metadata": {},
   "outputs": [],
   "source": [
    "mip_x(v_rec_r[0]); plt.colorbar()\n"
   ]
  },
  {
   "cell_type": "code",
   "execution_count": null,
   "id": "6ae6c4e5-f0e1-4a22-90f1-8961e7dcdb75",
   "metadata": {},
   "outputs": [],
   "source": [
    "#for i in range(K):\n",
    "#    with mrcfile.new(f\"{out_dir}/class{i}_Dir.mrc\", overwrite=True) as mrc:\n",
    "#        mrc.set_data(v_rec_r[i].astype(np.float32))"
   ]
  },
  {
   "cell_type": "code",
   "execution_count": null,
   "id": "451f5449-482b-4143-b159-1d7c0c5e3b8d",
   "metadata": {},
   "outputs": [],
   "source": [
    "plt.rcParams[\"figure.figsize\"]=12,6\n",
    "plt.subplot(1,2,1)\n",
    "sl = slice_func(vols[v_idx], angles[idx], shifts[idx], ctf_params[idx])\n",
    "plt.imshow(jnp.real(jnp.fft.fftshift(jnp.fft.ifftn(sl.reshape([nx,nx])))))\n",
    "\n",
    "plt.subplot(1,2,2)\n",
    "sl = slice_func(v_rec[v_idx], angles[idx], shifts[idx], ctf_params[idx])\n",
    "plt.imshow(jnp.real(jnp.fft.fftshift(jnp.fft.ifftn(sl.reshape([nx,nx])))))\n",
    "\n",
    "plt.rcParams[\"figure.figsize\"]=6,6"
   ]
  },
  {
   "cell_type": "code",
   "execution_count": null,
   "id": "1bc87e6c-17ce-422a-bc69-dcd7f414729e",
   "metadata": {},
   "outputs": [],
   "source": [
    "print(f\"v_idx = {v_idx}\")\n",
    "print(f\"z_true[{idx}] = {z_true[idx]}\")\n",
    "assert z_true[idx] == v_idx, f\"{z_true[idx]} != {v_idx} !!!\""
   ]
  },
  {
   "cell_type": "code",
   "execution_count": null,
   "id": "fc4110d9-97b9-47ec-bd0f-b3226af226b7",
   "metadata": {},
   "outputs": [],
   "source": [
    "plt.plot(z0-z_true[:Nn])"
   ]
  },
  {
   "cell_type": "code",
   "execution_count": null,
   "id": "7c099732-44d6-4567-b9f0-9f55bbb4f459",
   "metadata": {},
   "outputs": [],
   "source": [
    "plt.plot(zi-z_true[:Nn])"
   ]
  },
  {
   "cell_type": "code",
   "execution_count": null,
   "id": "155db119-c950-4565-8b76-090160e9595a",
   "metadata": {},
   "outputs": [],
   "source": [
    "print(jnp.sum(jnp.abs(z0-z_true[:Nn]))/len(z_true))\n",
    "print(jnp.sum(jnp.abs(zi-z_true[:Nn]))/len(z_true))"
   ]
  },
  {
   "cell_type": "markdown",
   "id": "1e091343-8c41-4aa0-bdbd-9054617307b0",
   "metadata": {},
   "source": [
    "### MCMC orientations and shifts"
   ]
  },
  {
   "cell_type": "code",
   "execution_count": null,
   "id": "c7db0b82-1a01-4570-8664-c00dab1f8881",
   "metadata": {},
   "outputs": [],
   "source": [
    "vol = mrcfile.open('../data/cryodrgn5000_noshifts/rec_final.mrc').data\n",
    "vol_fourier, _, _ = volume_fourier(vol, pixel_size[0])\n",
    "plt.imshow(jnp.fft.fftshift(jnp.abs(vol_fourier[:,:,0])))"
   ]
  },
  {
   "cell_type": "code",
   "execution_count": null,
   "id": "c63626fe-9c59-4c1f-b6e7-cc80ecaa3f69",
   "metadata": {},
   "outputs": [],
   "source": [
    "with open('../data/cryodrgn5000_noshifts/rec_iter_128_angles', 'rb') as file:\n",
    "    # Call load method to deserialze\n",
    "    angles_vol = pickle.load(file)\n",
    "angles_vol = angles_vol[0]"
   ]
  },
  {
   "cell_type": "code",
   "execution_count": null,
   "id": "e8b0e46b-9a4e-4fd7-b9ba-e79b31e72acf",
   "metadata": {},
   "outputs": [],
   "source": [
    "key = random.PRNGKey(int(jnp.floor(np.random.rand()*1000)))\n",
    "pixel_size_nx = pixel_size[0] * 320/nx\n",
    "B = pixel_size_nx*nx/30\n",
    "\n",
    "sh = generate_gaussian_shifts(key, N, B)\n",
    "plt.plot(sh[:,0], sh[:,1], '.')"
   ]
  },
  {
   "cell_type": "code",
   "execution_count": null,
   "id": "00ec3cf7-1a8d-436d-939a-be9f27dde603",
   "metadata": {},
   "outputs": [],
   "source": [
    "jnp.max(shifts)"
   ]
  },
  {
   "cell_type": "code",
   "execution_count": null,
   "id": "cee19523-71a0-4baa-8387-45fa5476e961",
   "metadata": {},
   "outputs": [],
   "source": [
    "keys = random.split(key, 2)\n",
    "keys[0]"
   ]
  },
  {
   "cell_type": "code",
   "execution_count": null,
   "id": "9fb020ce-71ef-422d-8c0f-e924d9272690",
   "metadata": {},
   "outputs": [],
   "source": [
    "@jax.jit\n",
    "def rotate_and_interpolate_iter(v, angles):\n",
    "    return jax.vmap(rotate_and_interpolate, in_axes=(None,0,None,None))(v, angles, x_grid, x_grid)\n"
   ]
  },
  {
   "cell_type": "code",
   "execution_count": null,
   "id": "9df9be26-e61e-4ec9-b519-4a476f5175da",
   "metadata": {},
   "outputs": [],
   "source": [
    "@jax.jit\n",
    "def proposal_func_os(key, os0, logPiX0, v, ctf_params, imgs, B):\n",
    "    # as0.shape = (N, 5) (3 angles and 2 shifts)\n",
    "    keys = random.split(key, 2)\n",
    "    \n",
    "    N = os0.shape[0]\n",
    "    #angles1 = generate_uniform_orientations_jax(keys[0], N)\n",
    "    angles1 = os0[:,:3]\n",
    "    #print(os0[0])\n",
    "    #print(angles1[0])\n",
    "    proj = rotate_and_interpolate_iter(v, angles1)\n",
    "    \n",
    "    \n",
    "    shifts1 = generate_gaussian_shifts_batch(keys[1], 100, 200, B)\n",
    "    shifts1 = jnp.concatenate([jnp.zeros([1,200,2]), shifts1], axis=0)\n",
    "\n",
    "    loss_shifts1 = jax.vmap(loss_proj_func_batched0, in_axes=(None,None,0,None,None,None))(v, proj, shifts1, ctf_params, imgs, sigma_noise)\n",
    "    \n",
    "    min_loss_idx = jnp.argmin(loss_shifts1, axis=0)\n",
    "    min_loss_shifts1 = shifts1[min_loss_idx, jnp.arange(shifts1.shape[1])]\n",
    "                \n",
    "    logPiX0 = jax.lax.cond(jnp.sum(logPiX0) == jnp.inf, \n",
    "                           true_fun = lambda _ : -loss_proj_func_batched0(v, rotate_and_interpolate_iter(v, os0[:,:3]), os0[:,3:], ctf_params, imgs, sigma_noise),\n",
    "                           false_fun = lambda _ : logPiX0,\n",
    "                           operand = None)\n",
    "        \n",
    "    logPiX1 = -loss_proj_func_batched0(v, proj, min_loss_shifts1, ctf_params, imgs, sigma_noise)\n",
    "    \n",
    "    #print(logPiX1.shape)\n",
    "    #print(logPiX0.shape)\n",
    "    \n",
    "    r = jnp.exp(logPiX1 - logPiX0)\n",
    "    os1 = jnp.concatenate([angles1, min_loss_shifts1], axis=1)\n",
    "    #print(r.shape)\n",
    "    return os1, r, logPiX1, logPiX0\n",
    "    \n",
    "    \n",
    "    \n",
    "    "
   ]
  },
  {
   "cell_type": "code",
   "execution_count": null,
   "id": "ddc7b281-3b86-406d-b6c9-65c8d1229952",
   "metadata": {},
   "outputs": [],
   "source": [
    "N_samples_shifts = int(10)\n",
    "logPiX0 = -10000*jnp.ones(200)\n",
    "os0 = jnp.zeros([200,5])\n",
    "os1 = os0\n",
    "logPiX1 = logPiX0\n",
    "\n",
    "                 "
   ]
  },
  {
   "cell_type": "code",
   "execution_count": null,
   "id": "ee4fbb41-1bc8-41b2-be4b-04feb3f8da58",
   "metadata": {},
   "outputs": [],
   "source": [
    "for i in range(10):\n",
    "    key, subkey = random.split(key)\n",
    "    os1, r, logPiX1, logPiX0 = proposal_func_os(subkey, os1, logPiX1, vol_fourier, ctf_params[:200], imgs_f[:200], B)\n",
    "    if jnp.mod(i,1)==0:\n",
    "        print(os1[0])"
   ]
  },
  {
   "cell_type": "code",
   "execution_count": null,
   "id": "3970ee0b-0997-4421-aab6-825b5454a3c4",
   "metadata": {},
   "outputs": [],
   "source": [
    "B = 15\n",
    "N_mc_samples = 1001\n",
    "key = random.PRNGKey(int(jnp.floor(np.random.rand()*1000)))\n",
    "\n",
    "angles0 = angles_vol[:200]\n",
    "shifts0 = jnp.zeros([200,2])\n",
    "os0 = jnp.concatenate([angles0, shifts0], axis=1)\n",
    "\n",
    "params_os = {'v':vol_fourier, 'ctf_params':ctf_params[:200], 'imgs':imgs_f[:200], 'B':B}\n",
    "\n",
    "t0 = time.time()\n",
    "_, r_os, os_samples = mcmc(key, proposal_func_os, os0, N_mc_samples, params_os, 200, save_samples=-1)\n",
    "print(time.time()-t0)\n",
    "os_samples = os_samples[0]\n",
    "angles_rec = os_samples[:,:3]\n",
    "shifts_rec = os_samples[:,3:]"
   ]
  },
  {
   "cell_type": "code",
   "execution_count": null,
   "id": "c1767348-2082-4f17-a193-2490160d6aa6",
   "metadata": {},
   "outputs": [],
   "source": [
    "plt.plot(r_os[:,105])"
   ]
  },
  {
   "cell_type": "code",
   "execution_count": null,
   "id": "cbb44b56-9434-456b-8959-37504e7c5eae",
   "metadata": {},
   "outputs": [],
   "source": [
    "r_os.shape[0]"
   ]
  },
  {
   "cell_type": "code",
   "execution_count": null,
   "id": "1552b348-c3fb-429b-bea3-9dd1a00c7c41",
   "metadata": {},
   "outputs": [],
   "source": [
    "serr = wrap_arround_distance_2d_array(shifts[:200], shifts_rec, pixel_size_nx * 32)\n",
    "plt.plot(serr)\n",
    "print(jnp.mean(serr))"
   ]
  },
  {
   "cell_type": "code",
   "execution_count": null,
   "id": "8a1f6a9e-3a85-4b49-b043-65a756895136",
   "metadata": {},
   "outputs": [],
   "source": [
    "plt.plot(shifts[:200,0], shifts[:200,1], '.')\n",
    "plt.plot(shifts_rec[:200,0], shifts_rec[:200,1], '.r')\n"
   ]
  },
  {
   "cell_type": "code",
   "execution_count": null,
   "id": "4ad99e26-7d4d-4274-ad4c-2eae1ca25abb",
   "metadata": {},
   "outputs": [],
   "source": [
    "plt.plot(shifts[:200,0], shifts[:200,1], '.')\n"
   ]
  },
  {
   "cell_type": "code",
   "execution_count": null,
   "id": "0f409478-e87d-4515-885a-2bfc6e4c1cf7",
   "metadata": {},
   "outputs": [],
   "source": [
    "idx = 188\n",
    "aa = jnp.array([angles_vol[idx], angles_rec[idx]])\n",
    "aa0 = jnp.array([angles_vol[idx], os0[idx, :3]])\n",
    "\n",
    "plot_angles(aa0)"
   ]
  },
  {
   "cell_type": "code",
   "execution_count": null,
   "id": "63e4b4e0-93dc-405a-a09a-a34c7604ff4d",
   "metadata": {},
   "outputs": [],
   "source": [
    "plot_angles(aa)"
   ]
  },
  {
   "cell_type": "code",
   "execution_count": null,
   "id": "5de2f4ec-d739-4a5d-8d3a-6e761d4c6390",
   "metadata": {},
   "outputs": [],
   "source": [
    "jnp.argmin(serr)"
   ]
  },
  {
   "cell_type": "code",
   "execution_count": null,
   "id": "eec22800-979e-4c17-a74f-a9ecc94b3c54",
   "metadata": {},
   "outputs": [],
   "source": [
    "s0 = slice_func(vol_fourier, angles_vol[0], shifts[0], ctf_params[0])\n",
    "s1 = slice_func(vol_fourier, angles_rec[0], shifts[0], ctf_params[0])\n"
   ]
  },
  {
   "cell_type": "code",
   "execution_count": null,
   "id": "3d2f30fe-4428-4ff6-a999-a7d43060aa4d",
   "metadata": {},
   "outputs": [],
   "source": [
    "shifts[0]"
   ]
  },
  {
   "cell_type": "code",
   "execution_count": null,
   "id": "c1d1a7b0-8cc8-47e0-902a-d2df56a63c23",
   "metadata": {},
   "outputs": [],
   "source": [
    "shifts_rec[0]"
   ]
  },
  {
   "cell_type": "code",
   "execution_count": null,
   "id": "21f4fc64-a9f2-4951-8054-1bea00ba707a",
   "metadata": {},
   "outputs": [],
   "source": [
    "plt.imshow(jnp.fft.fftshift(jnp.abs(s0.reshape(64,64))));plt.colorbar()"
   ]
  },
  {
   "cell_type": "code",
   "execution_count": null,
   "id": "95351c93-0e60-457d-8f5b-8b35a3fdbaed",
   "metadata": {},
   "outputs": [],
   "source": [
    "plt.imshow(jnp.fft.fftshift(jnp.abs(s1.reshape(64,64))));plt.colorbar()"
   ]
  },
  {
   "cell_type": "code",
   "execution_count": null,
   "id": "a7afc301-ae0f-49d7-b7a7-e52ea0eb92ac",
   "metadata": {},
   "outputs": [],
   "source": [
    "plt.imshow(jnp.fft.fftshift(jnp.abs((s1-s0).reshape(64,64))));plt.colorbar()"
   ]
  },
  {
   "cell_type": "markdown",
   "id": "6d51a14e-a8b4-4bfb-98ad-5c15d37be3ab",
   "metadata": {},
   "source": [
    "### MCMC shifts"
   ]
  },
  {
   "cell_type": "code",
   "execution_count": null,
   "id": "c3011976-2c5b-411a-b436-23d205ac85b1",
   "metadata": {},
   "outputs": [],
   "source": [
    "@jax.jit\n",
    "def rotate_and_interpolate_iter(v, angles):\n",
    "    return jax.vmap(rotate_and_interpolate, in_axes=(None,0,None,None))(v*mask, angles, x_grid, x_grid)"
   ]
  },
  {
   "cell_type": "code",
   "execution_count": null,
   "id": "ff546206-829e-4974-9f0b-41400ed2e489",
   "metadata": {},
   "outputs": [],
   "source": [
    "# OOM if all at once for many images\n",
    "#t0 = time.time()\n",
    "#proj = rotate_and_interpolate_iter(v_hmc_mean, angles)\n",
    "#print(time.time() - t0)"
   ]
  },
  {
   "cell_type": "code",
   "execution_count": null,
   "id": "f66a9765-9cbd-41ce-9d90-e84c85c77edd",
   "metadata": {},
   "outputs": [],
   "source": [
    "t0 = time.time()\n",
    "proj_batch = jnp.array([rotate_and_interpolate_iter(v_hmc_mean, angles_batch[i]) for i in jnp.arange(angles_batch.shape[0])])\n",
    "#proj = jnp.concatenate(proj, axis=0)\n",
    "print(time.time() - t0)\n",
    "proj_batch.shape"
   ]
  },
  {
   "cell_type": "code",
   "execution_count": null,
   "id": "baa8e6f9-8977-4765-91fb-16b6362d2d7c",
   "metadata": {},
   "outputs": [],
   "source": [
    "shifts.shape"
   ]
  },
  {
   "cell_type": "code",
   "execution_count": null,
   "id": "667752bc-e8e9-40d8-a9ab-c5c6ed9c96ad",
   "metadata": {},
   "outputs": [],
   "source": [
    "shifts_batch.shape"
   ]
  },
  {
   "cell_type": "code",
   "execution_count": null,
   "id": "97549961-ee73-4cfe-98c6-297f05afe099",
   "metadata": {},
   "outputs": [],
   "source": [
    "shifts0.shape"
   ]
  },
  {
   "cell_type": "code",
   "execution_count": null,
   "id": "61088986-0476-495f-9146-94f23310bdae",
   "metadata": {},
   "outputs": [],
   "source": [
    "jnp.array(shifts_batch.shape[:2]) "
   ]
  },
  {
   "cell_type": "code",
   "execution_count": null,
   "id": "e6fae630-4af6-43ed-96b9-3411f71f07e1",
   "metadata": {},
   "outputs": [],
   "source": [
    "len(N_batch_shape)"
   ]
  },
  {
   "cell_type": "code",
   "execution_count": null,
   "id": "2144c881-ab4d-4ed4-a5fe-06e10552b2c6",
   "metadata": {},
   "outputs": [],
   "source": [
    "angles_batch.shape[:2]"
   ]
  },
  {
   "cell_type": "code",
   "execution_count": null,
   "id": "89ed72d0-c61e-401b-a0e8-e319fe1ff643",
   "metadata": {},
   "outputs": [],
   "source": [
    "imgs_batch.shape[:2]"
   ]
  },
  {
   "cell_type": "code",
   "execution_count": null,
   "id": "b245893e-b80c-4619-acff-0444cae8fc4e",
   "metadata": {},
   "outputs": [],
   "source": [
    "N_samples_shifts = 201\n",
    "\n",
    "shifts0 = jnp.array(np.random.randn(4, shifts_batch.shape[1],2))\n",
    "params_shifts = {'v':v_hmc_mean, 'proj':proj_batch[:4]}\n",
    "N_batch_shape = jnp.array([4,5000])\n",
    "\n",
    "t0 = time.time()\n",
    "_, r_samples_shifts, samples_shifts = mcmc(key, proposal_func_shifts, shifts0, N_samples_shifts, params_shifts, N_batch_shape, 1, verbose = True)\n",
    "shifts_rec_mc = samples_shifts[N_samples_shifts-2]\n",
    "print(time.time()-t0)"
   ]
  },
  {
   "cell_type": "code",
   "execution_count": null,
   "id": "d40c69dc-3dbe-488a-aa1c-7a61c6c59212",
   "metadata": {},
   "outputs": [],
   "source": [
    "r_samples_shifts = r_samples_shifts.reshape(N_samples_shifts-1, -1)\n",
    "samples_shifts = samples_shifts.reshape(N_samples_shifts-1, -1, 2)"
   ]
  },
  {
   "cell_type": "code",
   "execution_count": null,
   "id": "985fff1e-4296-4455-bff6-5cdde6bb135e",
   "metadata": {},
   "outputs": [],
   "source": [
    "plt.plot(r_samples_shifts[:,0])"
   ]
  },
  {
   "cell_type": "code",
   "execution_count": null,
   "id": "e2597644-5b24-4591-bdaa-3446a3b1b036",
   "metadata": {},
   "outputs": [],
   "source": [
    "shifts_rec_mc = samples_shifts[0]\n",
    "shifts_rec_mc.shape"
   ]
  },
  {
   "cell_type": "code",
   "execution_count": null,
   "id": "d88d451b-56f4-41d7-b544-87aa7de6de76",
   "metadata": {},
   "outputs": [],
   "source": [
    "shifts_batch.shape"
   ]
  },
  {
   "cell_type": "code",
   "execution_count": null,
   "id": "5c41550b-d8bc-411e-9ae3-793580917bb6",
   "metadata": {},
   "outputs": [],
   "source": [
    "shifts0.shape"
   ]
  },
  {
   "cell_type": "code",
   "execution_count": null,
   "id": "e132ba0e-7d25-454f-bc00-891a4d8c66fa",
   "metadata": {},
   "outputs": [],
   "source": [
    "err = shifts_rec_mc - shifts[:20000]\n",
    "err0 = shifts0.reshape(20000,2) - shifts[:20000]\n",
    "\n",
    "plt.scatter(err[:,0], err[:,1])"
   ]
  },
  {
   "cell_type": "code",
   "execution_count": null,
   "id": "4abe0882-a27a-490d-a353-8cd17802aff0",
   "metadata": {},
   "outputs": [],
   "source": [
    "print(jnp.max(shifts))\n",
    "print(jnp.mean(jnp.abs(err)))\n",
    "print(jnp.mean(jnp.abs(err0)))"
   ]
  },
  {
   "cell_type": "code",
   "execution_count": null,
   "id": "720bd024-7611-44d0-934a-f34ae891d99b",
   "metadata": {},
   "outputs": [],
   "source": [
    "shifts_rec_mc"
   ]
  },
  {
   "cell_type": "code",
   "execution_count": null,
   "id": "c524ba64-dfe1-48b1-a007-979c00ff8d82",
   "metadata": {},
   "outputs": [],
   "source": [
    "jnp.min(shifts)"
   ]
  },
  {
   "cell_type": "markdown",
   "id": "d2dfcaaa-808e-46f2-9119-621dc90c1db0",
   "metadata": {},
   "source": [
    "### CG - choosing $\\alpha$"
   ]
  },
  {
   "cell_type": "code",
   "execution_count": null,
   "id": "56f2dc50-bdfd-40ee-82f4-9de5ef72c44d",
   "metadata": {},
   "outputs": [],
   "source": [
    "centre = (0,0,0)\n",
    "#radius = 0.045\n",
    "radius = 0.093\n",
    "mask = create_3d_mask(x_grid, centre, radius)\n",
    "mask2d = mask[:,:,0]\n",
    "\n",
    "plt.imshow(jnp.fft.fftshift(mask2d)); plt.colorbar()"
   ]
  },
  {
   "cell_type": "markdown",
   "id": "5608b4e1-01ed-4468-acce-5932578bdaa9",
   "metadata": {},
   "source": [
    "First, the slice function and the data fidelity function (i.e. the loss function with $\\alpha=0$):"
   ]
  },
  {
   "cell_type": "code",
   "execution_count": null,
   "id": "2e4dde53-3913-4a4d-93b2-45241183622e",
   "metadata": {},
   "outputs": [],
   "source": [
    "slice_func,slice_func_array, slice_func_array_angles = get_slice_funcs(project, x_grid, mask, \"tri\")\n",
    "fid_func, fid_func_batched, fid_func_sum, _ = get_loss_funcs(slice_func, alpha = 0)"
   ]
  },
  {
   "cell_type": "markdown",
   "id": "fd70032f-a25f-4d4a-8550-cda8944374db",
   "metadata": {},
   "source": [
    "The noise"
   ]
  },
  {
   "cell_type": "code",
   "execution_count": null,
   "id": "6043916c-e4e7-4aa3-ac88-970705ab6590",
   "metadata": {},
   "outputs": [],
   "source": [
    "print(\"sigma noise min =\", jnp.min(sigma_noise))\n",
    "print(\"sigma noise max =\", jnp.max(sigma_noise))\n",
    "print(\"sigma noise mean =\", jnp.mean(sigma_noise))\n",
    "\n",
    "#sigma_noise = jnp.max(sigma_noise)*jnp.ones(sigma_noise.shape)\n",
    "plt.imshow(jnp.fft.fftshift(sigma_noise.reshape([nx,nx]))); plt.colorbar()"
   ]
  },
  {
   "cell_type": "code",
   "execution_count": null,
   "id": "e67b5adc-fbb3-49a1-b54e-9b1b52690f1e",
   "metadata": {},
   "outputs": [],
   "source": [
    "imgs_f_m = imgs_f * mask2d.reshape(-1)"
   ]
  },
  {
   "cell_type": "code",
   "execution_count": null,
   "id": "83358361-ec88-49fc-8f41-8d3fc33aade1",
   "metadata": {},
   "outputs": [],
   "source": [
    "N_iter = 50100\n",
    "eps = 1e-4\n",
    "#eps = 1e-5\n",
    "#eps = 1e-3\n",
    "#eps = 1e-6\n",
    "v0 = jnp.zeros([nx,nx,nx])* 1j\n",
    "#alphas = [1.1e-6, 1e-5, 1e-4, 1e-3, 1e-2, 1e-1, 1e0, 1e1, 1e2, 1e3]\n",
    "#alphas = [1e-10, 1e-9, 1e-8]\n",
    "alphas = [1e-8]\n",
    "vcgs = []\n",
    "fids = []\n",
    "regs = []\n",
    "losss = []\n",
    "angles_cg = angles"
   ]
  },
  {
   "cell_type": "code",
   "execution_count": null,
   "id": "d3bfd6ef-e55e-4aa2-b744-92999fcc46d5",
   "metadata": {},
   "outputs": [],
   "source": [
    "N_alpha = len(alphas)\n",
    "for alpha in alphas[:N_alpha]:\n",
    "    t0 = time.time()\n",
    "    print('alpha =', alpha)\n",
    "    \n",
    "    loss_func, loss_func_batched, loss_func_sum, _ = get_loss_funcs(slice_func, alpha = alpha)\n",
    "    grad_loss_volume, grad_loss_volume_sum = get_grad_v_funcs(loss_func, loss_func_sum)\n",
    "    \n",
    "    AA, Ab = get_cg_vol_ops(grad_loss_volume_sum, angles_cg, shifts, ctf_params, imgs_f_m, v0.shape, sigma_noise)\n",
    "    vcg, _ = conjugate_gradient(AA, Ab, v0, N_iter, eps, verbose = True)\n",
    "    \n",
    "    fid = 2*fid_func_sum(vcg, angles_cg, shifts, ctf_params, imgs_f_m, sigma_noise)/(nx*nx)\n",
    "    reg = l2sq(vcg)/(nx*nx*nx)\n",
    "    loss = loss_func_sum(vcg, angles_cg, shifts, ctf_params, imgs_f_m, sigma_noise)/(nx*nx)\n",
    "    \n",
    "    vcgs.append(vcg)\n",
    "    fids.append(fid)\n",
    "    regs.append(reg)\n",
    "    losss.append(loss)\n",
    "    \n",
    "    print(\"  fid =\", fid)\n",
    "    print(\"  reg =\", reg)\n",
    "    print(\"  loss =\", loss)\n",
    "    \n",
    "    print(\"  Time =\", time.time() - t0)\n",
    "    \n",
    "vcgs = jnp.array(vcgs)\n",
    "fids = jnp.array(fids)\n",
    "regs = jnp.array(regs)\n",
    "losss = jnp.array(losss)\n",
    "alphas = jnp.array(alphas)\n",
    "\n",
    "alpha_idx = jnp.argmin(fids)"
   ]
  },
  {
   "cell_type": "code",
   "execution_count": null,
   "id": "76ee0514-318a-401a-90d1-6a167d29a183",
   "metadata": {},
   "outputs": [],
   "source": [
    "plt.semilogx(alphas, fids)\n",
    "plt.semilogx(alphas, regs)\n",
    "plt.semilogx(alphas, losss)\n",
    "plt.legend(['fid', 'reg', 'fid+reg'])"
   ]
  },
  {
   "cell_type": "code",
   "execution_count": null,
   "id": "3167989d-d69f-4772-9ae1-665ef800b503",
   "metadata": {},
   "outputs": [],
   "source": [
    "plt.plot(fids)"
   ]
  },
  {
   "cell_type": "code",
   "execution_count": null,
   "id": "16bd534d-ea4d-4718-99bb-961761029617",
   "metadata": {},
   "outputs": [],
   "source": [
    "plt.semilogy(regs)"
   ]
  },
  {
   "cell_type": "markdown",
   "id": "8a87faf4-a561-4e74-8ece-041b634e532c",
   "metadata": {},
   "source": [
    "Pixel-wise loss for the best reconstruction:"
   ]
  },
  {
   "cell_type": "code",
   "execution_count": null,
   "id": "5d719829-944c-434a-a44c-ce415a4c83c4",
   "metadata": {},
   "outputs": [],
   "source": [
    "mask.shape"
   ]
  },
  {
   "cell_type": "code",
   "execution_count": null,
   "id": "fcbe112e-2caa-42a9-a84d-fc3862fd6b25",
   "metadata": {},
   "outputs": [],
   "source": [
    "def pixel_wise_fid_fun(v, slice_func_array, angles, shifts, ctf_params, imgs, sigma):\n",
    "    err = slice_func_array(v, angles, shifts, ctf_params) - imgs\n",
    "    return jnp.mean(jnp.real(jnp.conj(err)*err), axis = 0)/(2*sigma**2)\n",
    "    #return jnp.mean(jnp.real(jnp.conj(err)*err), axis = 0)/2"
   ]
  },
  {
   "cell_type": "code",
   "execution_count": null,
   "id": "67a6d9ca-9014-41bd-8818-f404b64cc91f",
   "metadata": {},
   "outputs": [],
   "source": [
    "alphas[alpha_idx]"
   ]
  },
  {
   "cell_type": "code",
   "execution_count": null,
   "id": "2b4fc776-943d-4cfb-96c8-2408ef921eeb",
   "metadata": {},
   "outputs": [],
   "source": [
    "sigma_noise1 = jnp.ones(sigma_noise.shape)"
   ]
  },
  {
   "cell_type": "code",
   "execution_count": null,
   "id": "be6fe317-0988-4e6b-a2da-aa5eec094fdf",
   "metadata": {},
   "outputs": [],
   "source": [
    "pw_fid = pixel_wise_fid_fun(vcgs[0], slice_func_array, angles, shifts, ctf_params, imgs_f_m, sigma_noise1)\n",
    "plt.imshow(jnp.fft.fftshift(pw_fid.reshape([nx,nx]))); plt.colorbar()"
   ]
  },
  {
   "cell_type": "markdown",
   "id": "6036fa4d-db57-43c5-aaaf-4e58a1a18452",
   "metadata": {},
   "source": [
    "Pixel-wise loss for the ZERO volume:"
   ]
  },
  {
   "cell_type": "code",
   "execution_count": null,
   "id": "739ad76f-ebee-4890-8d65-d84c36ffbbd7",
   "metadata": {},
   "outputs": [],
   "source": [
    "pw_fid0 = pixel_wise_fid_fun(jnp.zeros(v0.shape), slice_func_array, angles_rec, shifts, ctf_params, imgs_f_m, sigma_noise1)\n",
    "plt.imshow(jnp.fft.fftshift(pw_fid0.reshape([nx,nx]))); plt.colorbar()"
   ]
  },
  {
   "cell_type": "code",
   "execution_count": null,
   "id": "d8556022-d53c-44b6-b86f-b849373a8d48",
   "metadata": {},
   "outputs": [],
   "source": [
    "alpha_idx = jnp.argmin(fids)\n",
    "print(alpha_idx)"
   ]
  },
  {
   "cell_type": "code",
   "execution_count": null,
   "id": "a655641b-efbf-4332-80ae-07db98b309e3",
   "metadata": {},
   "outputs": [],
   "source": [
    "#alpha_idx = 2"
   ]
  },
  {
   "cell_type": "code",
   "execution_count": null,
   "id": "6a9898c6-0e22-47c6-9036-091e98187d82",
   "metadata": {},
   "outputs": [],
   "source": [
    "print(alphas[alpha_idx])\n",
    "plt.imshow(jnp.abs(jnp.fft.fftshift(vcgs[alpha_idx][:,0,:]))); plt.colorbar()"
   ]
  },
  {
   "cell_type": "code",
   "execution_count": null,
   "id": "5ab7640e-7f0e-4967-8097-171718e99f9d",
   "metadata": {},
   "outputs": [],
   "source": [
    "img_idx = 100\n",
    "s0 = slice_func(vcgs[alpha_idx], angles_cg[img_idx], shifts[img_idx], ctf_params[img_idx])\n",
    "plt.imshow(jnp.fft.fftshift(jnp.abs(s0).reshape(nx,nx))); plt.colorbar()"
   ]
  },
  {
   "cell_type": "code",
   "execution_count": null,
   "id": "aaf9f6f9-543e-462b-b895-2238d08a4c1d",
   "metadata": {},
   "outputs": [],
   "source": [
    "plt.imshow(jnp.fft.fftshift(jnp.abs(imgs_f[img_idx]).reshape(nx,nx))); plt.colorbar()"
   ]
  },
  {
   "cell_type": "code",
   "execution_count": null,
   "id": "6a2afe7a-0e19-4961-931c-4bd8246df8a4",
   "metadata": {},
   "outputs": [],
   "source": [
    "plt.imshow(jnp.fft.fftshift(jnp.abs(s0 - imgs_f[img_idx]).reshape(nx,nx))); plt.colorbar()"
   ]
  },
  {
   "cell_type": "code",
   "execution_count": null,
   "id": "1e077aad-e12a-49cc-8ebf-e28b032b7f5b",
   "metadata": {},
   "outputs": [],
   "source": [
    "vr_rec = jnp.real(jnp.fft.fftshift(jnp.fft.ifftn(v_rec)))\n",
    "mip_z(vr_rec)\n",
    "plt.colorbar()\n",
    "plt.title('Reconstruction MIP')"
   ]
  },
  {
   "cell_type": "code",
   "execution_count": null,
   "id": "26858cf7-2389-4aa7-9de7-744f6591bd60",
   "metadata": {},
   "outputs": [],
   "source": [
    "vcg_r = jnp.real(jnp.fft.fftshift(jnp.fft.ifftn(vcgs[alpha_idx])))\n",
    "mip_z(vcg_r)\n",
    "plt.colorbar()\n",
    "plt.title('Reconstruction MIP')\n"
   ]
  },
  {
   "cell_type": "code",
   "execution_count": null,
   "id": "1ff82d68-f69b-4273-88f0-df50ffa376ac",
   "metadata": {},
   "outputs": [],
   "source": [
    "with mrcfile.new('../data/reconstruction_data_32_cg_alpha.mrc', overwrite=True) as mrc:\n",
    "    mrc.set_data(vcg_r.astype(np.float32))"
   ]
  },
  {
   "cell_type": "markdown",
   "id": "0cbbf1ce-06e1-48e7-9674-fc9b9718a1e9",
   "metadata": {},
   "source": [
    "### All images are the same, with different scalings (corresponding to different orders of $\\alpha$)"
   ]
  },
  {
   "cell_type": "code",
   "execution_count": null,
   "id": "5afd02e3-de8f-431d-b495-9e485a2c31ca",
   "metadata": {},
   "outputs": [],
   "source": [
    "vcgs_s = vcgs[:,:,0,0]\n",
    "vcgs_s.shape"
   ]
  },
  {
   "cell_type": "code",
   "execution_count": null,
   "id": "65af20d4-d875-43c1-97a4-5c625130a046",
   "metadata": {},
   "outputs": [],
   "source": [
    "plt.plot(jnp.abs(vcgs_s[0]))\n",
    "plt.plot(jnp.abs(vcgs_s[1])*9)\n",
    "plt.plot(jnp.abs(vcgs_s[2])*90)\n",
    "plt.plot(jnp.abs(vcgs_s[3])*900)\n",
    "plt.plot(jnp.abs(vcgs_s[6])*9e5)\n",
    "plt.plot(jnp.abs(vcgs_s[8])*9e7)\n",
    "plt.plot(jnp.abs(vcgs_s[10])*9e8)"
   ]
  },
  {
   "cell_type": "markdown",
   "id": "b653e42f-ee51-4e2a-8550-89ba39074caa",
   "metadata": {},
   "source": [
    "### FSC, orientations, standard deviation for each voxel etc"
   ]
  },
  {
   "cell_type": "code",
   "execution_count": null,
   "id": "b3023626-4344-4cc3-8eef-4698a410b17e",
   "metadata": {},
   "outputs": [],
   "source": [
    "vcg1 = vcgs[0]\n",
    "vcg2 = vcgs[6]"
   ]
  },
  {
   "cell_type": "code",
   "execution_count": null,
   "id": "74ebdf61-c0f8-47bb-94e9-0d1d5fcfada7",
   "metadata": {},
   "outputs": [],
   "source": [
    "res, fsc, shell_points = calc_fsc(vcg1, vcg2, x_grid)"
   ]
  },
  {
   "cell_type": "code",
   "execution_count": null,
   "id": "10b0b78f-b87f-417d-a943-02fb1c6ac351",
   "metadata": {},
   "outputs": [],
   "source": [
    "points_v_tri = points_orientations_tri(angles, x_grid[1].astype(jnp.int64), number_of_batches = 1000)\n",
    "#points_v_nn = points_orientations_nn(angles[:1000], x_grid[1])"
   ]
  },
  {
   "cell_type": "code",
   "execution_count": null,
   "id": "968e4598-0813-4bf0-acac-d06f82e1c01b",
   "metadata": {},
   "outputs": [],
   "source": [
    "plt.imshow(jnp.fft.fftshift(points_v_tri[:,:,0])); plt.colorbar()"
   ]
  },
  {
   "cell_type": "code",
   "execution_count": null,
   "id": "3872bce6-0669-4919-b565-a26ec47da87c",
   "metadata": {},
   "outputs": [],
   "source": [
    "res_spu, spu_tri = shell_points_used(points_v_tri, x_grid)"
   ]
  },
  {
   "cell_type": "code",
   "execution_count": null,
   "id": "686771d8-585d-4ef5-b2c2-3ff54cc1fe53",
   "metadata": {},
   "outputs": [],
   "source": [
    "plt.plot(res, fsc)\n",
    "plt.plot(res_spu, spu_tri)\n",
    "plt.hlines([0.143, 0.5], xmin=min(res), xmax=max(res), colors = ['gray'], linestyles=['dashed'])\n",
    "plt.legend(['FSC', 'fraction shell points used', '0.143, 0.5'])\n",
    "#plt.title('Clustered angles')"
   ]
  },
  {
   "cell_type": "code",
   "execution_count": null,
   "id": "0dd23093-9459-4557-bf7f-ad96e33ae3b8",
   "metadata": {},
   "outputs": [],
   "source": [
    "plt.imshow((jnp.sqrt(jnp.abs(jnp.fft.fftshift(points_v_tri[0,:,:]*mask[0,:,:]))))); plt.colorbar()"
   ]
  },
  {
   "cell_type": "code",
   "execution_count": null,
   "id": "921cfd97-8491-4343-b850-ff9ad2edb4a0",
   "metadata": {},
   "outputs": [],
   "source": [
    "plt.imshow((jnp.sqrt(jnp.abs(jnp.fft.fftshift(points_v_tri[:,0,:]*mask[:,0,:]))))); plt.colorbar()"
   ]
  },
  {
   "cell_type": "code",
   "execution_count": null,
   "id": "5ff30552-3b7d-4296-a0be-9d363ce7a52b",
   "metadata": {},
   "outputs": [],
   "source": [
    "plt.imshow((jnp.sqrt(jnp.abs(jnp.fft.fftshift(points_v_tri[:,:,0]*mask[:,:,0]))))); plt.colorbar()"
   ]
  },
  {
   "cell_type": "code",
   "execution_count": null,
   "id": "303963a2-0e0f-4f99-8b5c-ea7eca8988aa",
   "metadata": {},
   "outputs": [],
   "source": [
    "vones = jnp.ones(vcg1.shape)\n",
    "omega = AA(vones)\n",
    "omega = 1/omega"
   ]
  },
  {
   "cell_type": "code",
   "execution_count": null,
   "id": "4ae0ec7d-e67d-4d63-8b80-5d762754a4ea",
   "metadata": {},
   "outputs": [],
   "source": [
    "jnp.min(jnp.abs(omega))"
   ]
  },
  {
   "cell_type": "code",
   "execution_count": null,
   "id": "651b69ae-9392-4bbd-b161-ea76ebba88a7",
   "metadata": {},
   "outputs": [],
   "source": [
    "plt.title(\"Standard deviation\")\n",
    "plt.imshow(jnp.abs(jnp.fft.fftshift(omega[0,:,:]))); plt.colorbar()"
   ]
  },
  {
   "cell_type": "code",
   "execution_count": null,
   "id": "e1dade3d-f251-4a09-8f0e-fbff944ddc01",
   "metadata": {},
   "outputs": [],
   "source": [
    "plt.imshow(jnp.abs(jnp.fft.fftshift(omega[:,0,:]))); plt.colorbar()"
   ]
  },
  {
   "cell_type": "code",
   "execution_count": null,
   "id": "b0bbdc7a-5449-4b69-b965-ec033ff5f56c",
   "metadata": {},
   "outputs": [],
   "source": [
    "plt.imshow(jnp.abs(jnp.fft.fftshift(omega[:,:,0]))); plt.colorbar()"
   ]
  },
  {
   "cell_type": "markdown",
   "id": "4c35c276-7388-4850-b5c3-7e99d32b62e3",
   "metadata": {},
   "source": [
    "### SGD"
   ]
  },
  {
   "cell_type": "markdown",
   "id": "b9aea732-7d83-4cf1-b5da-26a3eb90996f",
   "metadata": {},
   "source": [
    "### Preconditioner"
   ]
  },
  {
   "cell_type": "code",
   "execution_count": null,
   "id": "d5483136-f3e1-4731-b9f7-e70aaa8edda4",
   "metadata": {},
   "outputs": [],
   "source": [
    "P = get_preconditioner(x_grid) * mask\n",
    "#P = jnp.sqrt(P) /jnp.max(P) + 1e-6\n",
    "#P = jnp.sqrt(P)\n",
    "P = P**0.15\n",
    "P = P /jnp.max(P)+ 1e-6\n",
    "plt.imshow(jnp.fft.fftshift(P[:,:,0]));plt.colorbar()\n",
    "print(P[0,0,0])\n",
    "print(jnp.max(P))\n",
    "print(jnp.min(P))"
   ]
  },
  {
   "cell_type": "markdown",
   "id": "c11dc228-2154-4ca5-a1c9-6d1bd477335e",
   "metadata": {},
   "source": [
    "### Points/orientations preconditioner"
   ]
  },
  {
   "cell_type": "code",
   "execution_count": null,
   "id": "579ca5a9-ce93-41b6-a533-b4305403f4d9",
   "metadata": {},
   "outputs": [],
   "source": [
    "P = points_v_tri +1\n",
    "P = 1/P * mask + 1e-12\n",
    "P = P/jnp.max(P) * mask\n",
    "plt.imshow(jnp.fft.fftshift(P[:,:,0]));plt.colorbar()\n",
    "print(P[0,0,0])\n",
    "print(jnp.max(P))\n",
    "print(jnp.min(P))"
   ]
  },
  {
   "cell_type": "markdown",
   "id": "cf884677-9d3f-476b-9e38-9f7eeebc6d07",
   "metadata": {},
   "source": [
    "### $\\alpha$ tuning"
   ]
  },
  {
   "cell_type": "code",
   "execution_count": null,
   "id": "bd2cf7ef-f772-4d65-8507-6a4a9bddfebe",
   "metadata": {},
   "outputs": [],
   "source": [
    "mask2d = mask[:,:,0]\n",
    "imgs_f_m = imgs_f * mask2d.reshape(-1)"
   ]
  },
  {
   "cell_type": "code",
   "execution_count": null,
   "id": "48294e95-d1e6-4bcc-8b24-20ab96657410",
   "metadata": {},
   "outputs": [],
   "source": [
    "N_epoch = 501000\n",
    "batch_size = 300\n",
    "#learning_rate = 100000\n",
    "learning_rate = 10000 * 100\n",
    "#learning_rate = 10000 # for \"large\" alpha\n",
    "\n",
    "P = None\n",
    "\n",
    "#eps = 3e-5\n",
    "#eps = 1e-3\n",
    "#eps = 1e-9\n",
    "eps = 1e-8\n",
    "v0 = jnp.zeros([nx,nx,nx])* 1j\n",
    "#alphas = 1/100 * jnp.array([1e-9, 1e-8, 1e-7, 1.1e-6, 1e-5, 1e-4, 1e-3, 1e-2, 1e-1]) #, 1e0, 1e1, 1e2, 1e3]\n",
    "#alphas = [1e-10, 1e-9, 1e-8, 1e-7]\n",
    "alphas = [1e-9]\n",
    "\n",
    "angles_gd = angles"
   ]
  },
  {
   "cell_type": "code",
   "execution_count": null,
   "id": "a48a7ed8-6bf1-4afa-948b-ee8a73780ff3",
   "metadata": {},
   "outputs": [],
   "source": [
    "vgds = []\n",
    "fids = []\n",
    "regs = []\n",
    "losss = []\n",
    "\n",
    "#N_alpha = 4\n",
    "for alpha in alphas:\n",
    "    t0 = time.time()\n",
    "    print('alpha =', alpha)\n",
    "    \n",
    "    slice_func,slice_func_array, slice_func_array_angles = get_slice_funcs(project, x_grid, mask, \"tri\")\n",
    "    loss_func, loss_func_batched, loss_func_sum, _ = get_loss_funcs(slice_func, alpha = alpha)\n",
    "\n",
    "    grad_loss_volume, grad_loss_volume_sum = get_grad_v_funcs(loss_func, loss_func_sum)\n",
    "\n",
    "    sgd_grad_func = get_sgd_vol_ops(grad_loss_volume_sum, angles_gd, shifts, ctf_params, imgs_f_m, sigma_noise)\n",
    "    \n",
    "    vgd = sgd(sgd_grad_func, N, v0, learning_rate, N_epoch, batch_size, P, eps, verbose = True)\n",
    "    \n",
    "    fid = 2*fid_func_sum(vgd, angles_gd, shifts, ctf_params, imgs_f_m, sigma_noise)/(nx*nx)\n",
    "    reg = l2sq(vgd)/(nx*nx*nx)\n",
    "    loss = loss_func_sum(vgd, angles_gd, shifts, ctf_params, imgs_f_m, sigma_noise)/(nx*nx)\n",
    "    \n",
    "    vgds.append(vgd)\n",
    "    fids.append(fid)\n",
    "    regs.append(reg)\n",
    "    losss.append(loss)\n",
    "    \n",
    "    print(\"  fid =\", fid)\n",
    "    print(\"  reg =\", reg)\n",
    "    print(\"  loss =\", loss)\n",
    "    \n",
    "    print(\"  Time =\", time.time() - t0)\n",
    "    \n",
    "vgds = jnp.array(vgds)\n",
    "fids = jnp.array(fids)\n",
    "regs = jnp.array(regs)\n",
    "losss = jnp.array(losss)\n",
    "alphas = jnp.array(alphas)\n",
    "\n",
    "alpha_idx = jnp.argmin(fids)"
   ]
  },
  {
   "cell_type": "code",
   "execution_count": null,
   "id": "73b4b216-861e-48bb-b70d-8bdeab9eaccf",
   "metadata": {},
   "outputs": [],
   "source": [
    "vgds = jnp.array(vgds)\n",
    "fids = jnp.array(fids)\n",
    "regs = jnp.array(regs)\n",
    "losss = jnp.array(losss)\n",
    "alphas = jnp.array(alphas)\n",
    "\n",
    "alpha_idx = jnp.argmin(fids)\n",
    "\n",
    "N_alpha= len(fids)"
   ]
  },
  {
   "cell_type": "code",
   "execution_count": null,
   "id": "ee200b41-2dd7-43dd-8a4d-0958e3c89325",
   "metadata": {},
   "outputs": [],
   "source": [
    "plt.semilogx(alphas[:N_alpha], fids)\n",
    "plt.semilogx(alphas[:N_alpha], regs)\n",
    "plt.semilogx(alphas[:N_alpha], losss)\n",
    "plt.legend(['fid', 'reg', 'fid+reg'])"
   ]
  },
  {
   "cell_type": "code",
   "execution_count": null,
   "id": "63272519-7915-4fce-ab3d-0c66115c010f",
   "metadata": {},
   "outputs": [],
   "source": [
    "plt.plot(fids)"
   ]
  },
  {
   "cell_type": "code",
   "execution_count": null,
   "id": "9485f2c0-ac8c-440a-99e4-4b0b700d5358",
   "metadata": {},
   "outputs": [],
   "source": [
    "plt.semilogy(regs)"
   ]
  },
  {
   "cell_type": "code",
   "execution_count": null,
   "id": "71209414-fdb8-464d-a847-61b735a44ebb",
   "metadata": {},
   "outputs": [],
   "source": [
    "alphas[2]"
   ]
  },
  {
   "cell_type": "code",
   "execution_count": null,
   "id": "1307609d-8f7d-40ad-99d6-2154e10a76f7",
   "metadata": {},
   "outputs": [],
   "source": [
    "#alpha_idx= 3\n",
    "#alpha_idx=5\n",
    "#alpha_idx=0"
   ]
  },
  {
   "cell_type": "code",
   "execution_count": null,
   "id": "6b3f0cec-6169-4535-b2ed-94b67dc4e30a",
   "metadata": {},
   "outputs": [],
   "source": [
    "pw_fid = pixel_wise_fid_fun(vgds[alpha_idx], slice_func_array, angles_gd, shifts, ctf_params, imgs_f_m, sigma_noise)\n",
    "plt.imshow(jnp.fft.fftshift(pw_fid.reshape([nx,nx]))); plt.colorbar()\n",
    "print(jnp.max(pw_fid))"
   ]
  },
  {
   "cell_type": "code",
   "execution_count": null,
   "id": "a04862fc-6e44-4ba8-a569-1400bc259db9",
   "metadata": {},
   "outputs": [],
   "source": [
    "pw_fid0 = pixel_wise_fid_fun(jnp.zeros(vgd.shape), slice_func_array, angles_gd, shifts, ctf_params, imgs_f_m, sigma_noise)\n",
    "plt.imshow(jnp.fft.fftshift(pw_fid0.reshape([nx,nx]))); plt.colorbar()\n",
    "print(jnp.max(pw_fid))"
   ]
  },
  {
   "cell_type": "code",
   "execution_count": null,
   "id": "2fea2c71-daa6-4675-ab19-53e7196f3259",
   "metadata": {},
   "outputs": [],
   "source": [
    "plt.imshow(jnp.fft.fftshift(jnp.abs(vgds[alpha_idx,:,0,:]))); plt.colorbar()"
   ]
  },
  {
   "cell_type": "code",
   "execution_count": null,
   "id": "fd903912-7cd6-4db6-ba3f-992ed65268c6",
   "metadata": {},
   "outputs": [],
   "source": [
    "#plt.imshow(jnp.fft.fftshift(jnp.abs(v_rec[:,0,:]))); plt.colorbar()"
   ]
  },
  {
   "cell_type": "code",
   "execution_count": null,
   "id": "47048d3f-f9ae-438e-97f6-969dce8181ce",
   "metadata": {},
   "outputs": [],
   "source": [
    "#err = vgds[1] - v_rec\n",
    "#plt.imshow(jnp.fft.fftshift((jnp.abs(err[:,0,:]))*mask[:,0,:])); plt.colorbar()"
   ]
  },
  {
   "cell_type": "code",
   "execution_count": null,
   "id": "ba16436e-da15-4efa-b0e2-1b92884d0697",
   "metadata": {},
   "outputs": [],
   "source": [
    "vgds_s = vgds[:,:,0,0]\n",
    "vgds_s.shape\n",
    "\n",
    "plt.plot(jnp.abs(vgds_s[0]))\n",
    "plt.plot(jnp.abs(vgds_s[1])*1.1)\n",
    "plt.plot(jnp.abs(vgds_s[2])*2)\n",
    "plt.plot(jnp.abs(vgds_s[3])*7)\n"
   ]
  },
  {
   "cell_type": "code",
   "execution_count": null,
   "id": "74a34d92-aed0-41fa-a6d4-93116e66969e",
   "metadata": {},
   "outputs": [],
   "source": [
    "vr_sgd = jnp.real(jnp.fft.fftshift(jnp.fft.ifftn(vgds[alpha_idx])))\n",
    "mip_z(vr_sgd)\n",
    "plt.colorbar()\n",
    "plt.title('Reconstruction MIP')"
   ]
  },
  {
   "cell_type": "code",
   "execution_count": null,
   "id": "a5ab9704-c98b-4c50-a29e-bfd66a4ecd6f",
   "metadata": {},
   "outputs": [],
   "source": [
    "vr_rec = jnp.real(jnp.fft.fftshift(jnp.fft.ifftn(v_rec)))\n",
    "mip_z(vr_rec)\n",
    "plt.colorbar()\n",
    "plt.title('Reconstruction MIP')"
   ]
  },
  {
   "cell_type": "code",
   "execution_count": null,
   "id": "4427a131-cec4-4e68-94cc-07b7b0ba85a4",
   "metadata": {},
   "outputs": [],
   "source": [
    "with mrcfile.new('../data/reconstruction_data_32_sgd_alpha.mrc', overwrite=True) as mrc:\n",
    "    mrc.set_data(vr_sgd.astype(np.float32))"
   ]
  },
  {
   "cell_type": "code",
   "execution_count": null,
   "id": "a5b871bb-9c0a-41cd-a077-94a75fa16b04",
   "metadata": {},
   "outputs": [],
   "source": [
    "idx = 100"
   ]
  },
  {
   "cell_type": "code",
   "execution_count": null,
   "id": "c2d6cffb-403f-449b-ab12-55124f797da5",
   "metadata": {},
   "outputs": [],
   "source": [
    "slicegd = slice_func(vgds[alpha_idx], angles_gd[idx], shifts[idx], ctf_params[idx])\n",
    "#slicerec = slice_func(v_rec, angles_gd[idx], shifts[idx], ctf_params[idx])"
   ]
  },
  {
   "cell_type": "code",
   "execution_count": null,
   "id": "7c52a12a-5b43-44d8-ade7-3a215588c440",
   "metadata": {},
   "outputs": [],
   "source": [
    "plt.imshow(jnp.abs(jnp.fft.fftshift(slicegd.reshape([nx,nx])))); plt.colorbar()"
   ]
  },
  {
   "cell_type": "code",
   "execution_count": null,
   "id": "322eb689-8112-4891-8508-86768604ae87",
   "metadata": {},
   "outputs": [],
   "source": [
    "#plt.imshow(jnp.abs(jnp.fft.fftshift(slicerec.reshape([32,32])))); plt.colorbar()"
   ]
  },
  {
   "cell_type": "code",
   "execution_count": null,
   "id": "c5c483bc-c8b4-465a-8e7c-804565988ccc",
   "metadata": {},
   "outputs": [],
   "source": [
    "plt.imshow(jnp.abs(jnp.fft.fftshift(imgs_f[idx].reshape([nx,nx])))); plt.colorbar()"
   ]
  },
  {
   "cell_type": "markdown",
   "id": "eb4b22b9-984c-4bf7-8c90-3fcc3580f268",
   "metadata": {},
   "source": [
    "### C3 Symmetry"
   ]
  },
  {
   "cell_type": "code",
   "execution_count": null,
   "id": "297ae91b-3799-4dd1-a1a6-d68fa85ab7a3",
   "metadata": {},
   "outputs": [],
   "source": [
    "def split(arr):\n",
    "    N = arr.shape[0]\n",
    "    N2 = jnp.floor(N/2).astype(jnp.int32)\n",
    "\n",
    "    arr_train = arr[:N2]\n",
    "    arr_test  = arr[N2:]\n",
    "    \n",
    "    return arr_train, arr_test\n",
    "\n",
    "def split_and_triple(arr):\n",
    "    N = arr.shape[0]\n",
    "    N2 = jnp.floor(N/2).astype(jnp.int32)\n",
    "\n",
    "    arr_train = jnp.tile(arr[:N2], reps=(3,1))\n",
    "    arr_test  = jnp.tile(arr[N2:], reps=(3,1))\n",
    "    \n",
    "    return arr_train, arr_test\n",
    "\n",
    "def split_and_triple_angles(a):\n",
    "    N = a.shape[0]\n",
    "    N2 = jnp.floor(N/2).astype(jnp.int32)\n",
    "\n",
    "    a_train1 = a[:N2]\n",
    "    a_train2 = a_train1.copy()\n",
    "    a_train3 = a_train1.copy()\n",
    "\n",
    "    a_train2[:,2] += 2*jnp.pi/3\n",
    "    a_train3[:,2] += 4*jnp.pi/3\n",
    "   \n",
    "    a_train = jnp.concatenate([a_train1, a_train2, a_train3], axis=0)\n",
    "    \n",
    "    a_test1  = a[N2:]\n",
    "    a_test2 = a_test1.copy()\n",
    "    a_test3 = a_test1.copy()\n",
    "\n",
    "    a_test2[:,2] += 2*jnp.pi/3\n",
    "    a_test3[:,2] += 4*jnp.pi/3\n",
    "    \n",
    "    a_test = jnp.concatenate([a_test1, a_test2, a_test3], axis=0)\n",
    "\n",
    "\n",
    "    return a_train, a_test"
   ]
  },
  {
   "cell_type": "code",
   "execution_count": null,
   "id": "a9b08a62-3656-4618-ad44-ea089d8f9ca0",
   "metadata": {},
   "outputs": [],
   "source": [
    "imgs_train, imgs_test = split_and_triple(imgs_f)\n",
    "shifts_train, shifts_test = split_and_triple(shifts)\n",
    "ctf_params_train, ctf_params_test = split_and_triple(ctf_params)\n",
    "angles_train, angles_test = split_and_triple_angles(angles)\n",
    "N = imgs_train.shape[0]\n",
    "\n",
    "#plot_angles(angles[:1000])"
   ]
  },
  {
   "cell_type": "code",
   "execution_count": null,
   "id": "35d6719a-3865-4067-88ea-c42a544d8455",
   "metadata": {},
   "outputs": [],
   "source": [
    "#imgs_train, imgs_test = split(imgs_f)\n",
    "#shifts_train, shifts_test = split(shifts)\n",
    "#ctf_params_train, ctf_params_test = split(ctf_params)\n",
    "#angles_train, angles_test = split(angles)\n",
    "#N = imgs_train.shape[0]\n",
    "#plot_angles(angles_train)"
   ]
  },
  {
   "cell_type": "markdown",
   "id": "b5a2651a-a9ea-4c87-b93f-bb3c52c9ab79",
   "metadata": {},
   "source": [
    "### Volume residual"
   ]
  },
  {
   "cell_type": "code",
   "execution_count": null,
   "id": "1f17b225-e926-4285-80b8-f46823bdecfd",
   "metadata": {},
   "outputs": [],
   "source": [
    "plt.plot(angles[:,1])"
   ]
  },
  {
   "cell_type": "code",
   "execution_count": null,
   "id": "1f04939c-8ad1-419c-9ec3-3d54ff6039c6",
   "metadata": {},
   "outputs": [],
   "source": [
    "p1 = np.random.randn(N) * 0 #np.pi/20\n",
    "p2 = np.random.randn(N) * 0 #np.pi/40 + np.pi/2\n",
    "p3 = np.random.randn(N) * np.pi/10\n",
    "\n",
    "angles_train_pert = angles_train + jnp.array([p1,p2,p3]).transpose()"
   ]
  },
  {
   "cell_type": "code",
   "execution_count": null,
   "id": "0240a163-0d88-42c0-b8de-bb40c46e70af",
   "metadata": {},
   "outputs": [],
   "source": [
    "N"
   ]
  },
  {
   "cell_type": "code",
   "execution_count": null,
   "id": "06ecd769-13ba-4100-a7ea-3766ecf932ef",
   "metadata": {},
   "outputs": [],
   "source": [
    "idx = 102\n",
    "aa = jnp.array([angles_train[idx], angles_train_pert[idx]])\n",
    "plot_angles(aa)"
   ]
  },
  {
   "cell_type": "code",
   "execution_count": null,
   "id": "25945698-218b-49c8-b2c6-c670c10f4fcd",
   "metadata": {},
   "outputs": [],
   "source": [
    "#angles_rec = angles_train\n",
    "angles_rec = angles_train_pert"
   ]
  },
  {
   "cell_type": "code",
   "execution_count": null,
   "id": "7fa61dea-bcbb-46ea-9d6d-6f422286a253",
   "metadata": {},
   "outputs": [],
   "source": [
    "alpha = 1e-9\n",
    "N_train = jnp.floor(N/2).astype(jnp.int32) #3000\n",
    "\n",
    "radius = 0.0925\n",
    "mask = create_3d_mask(x_grid, (0,0,0),radius)\n",
    "#mip_z(jnp.fft.fftshift(mask)); plt.colorbar()\n",
    "M = 1/jnp.max(sigma_noise)**2 * jnp.ones([nx, nx, nx])\n",
    "\n",
    "slice_func, slice_func_array, slice_func_array_angles = get_slice_funcs(project, x_grid, mask, \"tri\")\n",
    "loss_func, loss_func_batched, loss_func_sum = get_loss_funcs(slice_func, alpha = alpha)\n",
    "grad_loss_volume, grad_loss_volume_sum = get_grad_v_funcs(loss_func, loss_func_sum)\n",
    "\n",
    "logPi = lambda v : -loss_func_sum(v, angles_rec, shifts_train, ctf_params_train, imgs_train, sigma_noise)\n",
    "gradLogPi = lambda v : -jnp.conj(grad_loss_volume_sum(v, angles_rec, shifts_train, ctf_params_train, imgs_train, sigma_noise))\n"
   ]
  },
  {
   "cell_type": "code",
   "execution_count": null,
   "id": "6835e051-93f9-4bd3-b40a-9bdad599d714",
   "metadata": {
    "tags": []
   },
   "outputs": [],
   "source": [
    "N_mc_samples = 101\n",
    "key = random.PRNGKey(int(jnp.floor(np.random.rand()*1000)))\n",
    "\n",
    "v0 = jnp.zeros([nx,nx,nx])*1j\n",
    "dt_list = jnp.array([0.01, 0.1, 0.5, 5, 10])\n",
    "proposal_params_hmc = {\"dt_list\" : dt_list, \"L\" : 10, \"M\" : M, \"gradLogPi\" : gradLogPi}\n",
    "\n",
    "t0 = time.time()\n",
    "v_rec_pert, r_hmc, v_hmc_samples = mcmc(key, N_mc_samples, proposal_hmc, logPi, v0, proposal_params_hmc)\n",
    "print(time.time()-t0)"
   ]
  },
  {
   "cell_type": "code",
   "execution_count": null,
   "id": "0155ee9b-0d3c-4f93-ad25-a909ae9f3f9a",
   "metadata": {},
   "outputs": [],
   "source": [
    "N"
   ]
  },
  {
   "cell_type": "code",
   "execution_count": null,
   "id": "14781f64-152b-454a-9b94-1d7e36c9b1ce",
   "metadata": {
    "tags": []
   },
   "outputs": [],
   "source": [
    "print(jnp.mean(r_hmc))\n",
    "plt.plot(r_hmc)"
   ]
  },
  {
   "cell_type": "code",
   "execution_count": null,
   "id": "da1fb0b2-6f9a-4cd8-88f9-465a4b6021b8",
   "metadata": {},
   "outputs": [],
   "source": [
    "plt.imshow(jnp.abs(jnp.fft.fftshift(v_rec_pert[:,:,0]))); plt.colorbar()"
   ]
  },
  {
   "cell_type": "code",
   "execution_count": null,
   "id": "25991101-2266-4593-8641-d3e22bf14d2b",
   "metadata": {},
   "outputs": [],
   "source": [
    "v_rec_r = jnp.real(jnp.fft.fftshift(jnp.fft.ifftn(v_rec_pert)))\n",
    "mip_z(v_rec_r)\n",
    "plt.colorbar()"
   ]
  },
  {
   "cell_type": "code",
   "execution_count": null,
   "id": "5d207beb-8e1f-4dfb-a640-6bbd79e99cbe",
   "metadata": {},
   "outputs": [],
   "source": [
    "with mrcfile.new('../data/3dfsc/v_rec_vol_hmc_64_triple_pert.mrc', overwrite=True) as mrc:\n",
    "    mrc.set_data(v_rec_r.astype(np.float32))"
   ]
  },
  {
   "cell_type": "code",
   "execution_count": null,
   "id": "33b34db6-e84c-4bcf-8dec-769ed5af58b6",
   "metadata": {},
   "outputs": [],
   "source": [
    "plt.imshow(jnp.fft.fftshift(sigma_noise.reshape([64,64])))"
   ]
  },
  {
   "cell_type": "code",
   "execution_count": null,
   "id": "5fb1eb7c-0d4c-476d-a171-24d8256a11f7",
   "metadata": {},
   "outputs": [],
   "source": [
    "from src.residual import *"
   ]
  },
  {
   "cell_type": "markdown",
   "id": "4d07d555-f9ff-475e-b25d-58722f9d002a",
   "metadata": {},
   "source": [
    "### From Relion residuals"
   ]
  },
  {
   "cell_type": "code",
   "execution_count": null,
   "id": "38545940-2181-4138-8b51-f19f0ae14617",
   "metadata": {},
   "outputs": [],
   "source": [
    "N_batches = 60000000\n",
    "#v_resid = get_volume_residual(v_rec, angles[N_train:N_train+2000], shifts[N_train:N_train+2000], ctf_params[N_train:N_train+2000], imgs_f[N_train:N_train+2000], sigma_noise, x_grid, slice_func_array, N_batches)\n",
    "\n",
    "v_resid_pert = get_volume_residual(imgs_f, angles, sigma_noise, x_grid, slice_func_array, N_batches)\n",
    "                   "
   ]
  },
  {
   "cell_type": "code",
   "execution_count": null,
   "id": "0fe89e45-fbf5-48c0-8c47-5669f046c6f4",
   "metadata": {},
   "outputs": [],
   "source": []
  },
  {
   "cell_type": "code",
   "execution_count": null,
   "id": "e13f66ae-97d9-47fc-be35-e3953790c3a0",
   "metadata": {},
   "outputs": [],
   "source": [
    "imgs_f.shape"
   ]
  },
  {
   "cell_type": "code",
   "execution_count": null,
   "id": "d31dcb02-4ffb-4bdd-9254-b2de784d6e4c",
   "metadata": {},
   "outputs": [],
   "source": [
    "#proj_coords, resid = voxel_wise_resid_from2d_fun(imgs_f, angles, sigma_noise, x_grid, slice_func_array)\n",
    "                                                 \n",
    "                                                 \n",
    "                                                 "
   ]
  },
  {
   "cell_type": "code",
   "execution_count": null,
   "id": "e9a2d5f9-a079-48d4-b0f3-3659bbebb99c",
   "metadata": {},
   "outputs": [],
   "source": [
    "resid.shape"
   ]
  },
  {
   "cell_type": "code",
   "execution_count": null,
   "id": "638744bb-1186-454e-b4a4-879ecb367742",
   "metadata": {},
   "outputs": [],
   "source": []
  },
  {
   "cell_type": "code",
   "execution_count": null,
   "id": "d5a14f60-7048-40e6-b88b-5bdf8d8eff5f",
   "metadata": {},
   "outputs": [],
   "source": [
    "plt.imshow(jnp.fft.fftshift(v_resid_pert[:,:,0]*mask[:,:,0])); plt.colorbar()"
   ]
  },
  {
   "cell_type": "code",
   "execution_count": null,
   "id": "3c085f81-ddd3-45d0-a494-ef67f927ab14",
   "metadata": {},
   "outputs": [],
   "source": [
    "v_resid_print = jnp.fft.fftshift(v_resid_pert*mask)\n",
    "with mrcfile.new('../data/cryodrgn_jupyter/v_resid_64_pert.mrc', overwrite=True) as mrc:\n",
    "    mrc.set_data(v_resid_print.astype(np.float32))"
   ]
  },
  {
   "cell_type": "code",
   "execution_count": null,
   "id": "4c049b36-2330-4039-9f60-97ea20d4f264",
   "metadata": {},
   "outputs": [],
   "source": [
    "v_resid_zero = get_volume_residual(jnp.zeros(v_rec.shape), angles_test, shifts_test, ctf_params_test, imgs_test, sigma_noise, x_grid, slice_func_array, N_batches)\n"
   ]
  },
  {
   "cell_type": "code",
   "execution_count": null,
   "id": "1ba9f44a-bcbf-45e2-9624-39a3304403f0",
   "metadata": {},
   "outputs": [],
   "source": [
    "plt.imshow(jnp.fft.fftshift(v_resid_zero[:,:,0]*mask[:,:,0])); plt.colorbar()"
   ]
  },
  {
   "cell_type": "code",
   "execution_count": null,
   "id": "f454e6fa-4a87-4151-a62b-7dab3f4219aa",
   "metadata": {},
   "outputs": [],
   "source": [
    "v_resid_zero_print = jnp.fft.fftshift(v_resid_zero*mask)\n",
    "with mrcfile.new('../data/3dfsc/v_resid_64_zero.mrc', overwrite=True) as mrc:\n",
    "    mrc.set_data(v_resid_zero_print.astype(np.float32))"
   ]
  },
  {
   "cell_type": "code",
   "execution_count": null,
   "id": "cde47919-8d17-4a5d-a3ba-e940f205d9bc",
   "metadata": {},
   "outputs": [],
   "source": [
    "v_resid_m = jnp.fft.fftshift(v_resid*mask)\n",
    "v_resid_pert_m = jnp.fft.fftshift(v_resid_pert*mask)\n",
    "v_resid_zero_m = jnp.fft.fftshift(v_resid_zero*mask)"
   ]
  },
  {
   "cell_type": "code",
   "execution_count": null,
   "id": "fc9a3868-97ca-4838-a28b-6808441ee241",
   "metadata": {},
   "outputs": [],
   "source": [
    "jnp.max(v_resid_m)"
   ]
  },
  {
   "cell_type": "code",
   "execution_count": null,
   "id": "9ed7cd60-b86a-4139-9925-c3660d7dbb73",
   "metadata": {},
   "outputs": [],
   "source": [
    "jnp.max(v_resid_zero_m)"
   ]
  },
  {
   "cell_type": "code",
   "execution_count": null,
   "id": "b7e9a304-ab7a-469a-bcbe-5f5ed451cc79",
   "metadata": {},
   "outputs": [],
   "source": [
    "print(jnp.max(v_resid_m))\n",
    "print(jnp.max(v_resid_pert_m))\n",
    "print(jnp.max(v_resid_zero_m))\n",
    "plot_vmax = jnp.max(jnp.array([v_resid_m, v_resid_pert_m, v_resid_zero_m]))\n",
    "#plot_vmax = jnp.max(jnp.array([v_resid_m, v_resid_zero_m]))\n",
    "\n",
    "print(plot_vmax)"
   ]
  },
  {
   "cell_type": "code",
   "execution_count": null,
   "id": "bb2803a0-fb14-4edb-ad58-93e7da381eec",
   "metadata": {},
   "outputs": [],
   "source": [
    "plt.imshow(v_resid_m[:,:,32], vmin=0, vmax=plot_vmax)\n",
    "plt.colorbar()\n",
    "#plt.title('True angles')\n",
    "\n",
    "#plt.savefig('v_resid_slice.png')"
   ]
  },
  {
   "cell_type": "code",
   "execution_count": null,
   "id": "d8c7090a-674c-4b0a-9a0e-7a894d1f4115",
   "metadata": {},
   "outputs": [],
   "source": [
    "plt.imshow(v_resid_pert_m[:,:,32], vmin=0, vmax=plot_vmax)\n",
    "plt.colorbar()\n",
    "#plt.title('Perturbed angles')\n",
    "#plt.savefig('v_resid_pert_slice.png')"
   ]
  },
  {
   "cell_type": "code",
   "execution_count": null,
   "id": "97359d99-1a7c-469f-af52-54bc16de3cde",
   "metadata": {},
   "outputs": [],
   "source": [
    "plt.imshow(v_resid_zero_m[:,:,32], vmin=0, vmax=plot_vmax)\n",
    "plt.colorbar()\n",
    "#plt.title('Perturbed angles')\n",
    "#plt.savefig('v_resid_zero_slice.png')"
   ]
  },
  {
   "cell_type": "markdown",
   "id": "1dc3f961-605d-4317-be1e-b8651ea36d48",
   "metadata": {},
   "source": [
    "### Plots"
   ]
  },
  {
   "cell_type": "markdown",
   "id": "24fde75f-3ee8-4ee7-a5e0-4cf431a4ca68",
   "metadata": {},
   "source": [
    "### Separate the projection step"
   ]
  },
  {
   "cell_type": "code",
   "execution_count": null,
   "id": "8501a6fd-a8cc-4975-94a9-56a943b97abf",
   "metadata": {},
   "outputs": [],
   "source": [
    "# Force garbage collection when it throws OOM on GPU for small amount.\n",
    "#import gc\n",
    "#gc.collect()"
   ]
  },
  {
   "cell_type": "code",
   "execution_count": null,
   "id": "df297af9-4976-49ce-8b3f-3ce40c801910",
   "metadata": {},
   "outputs": [],
   "source": [
    "from src.residual import *\n",
    "N_batches = 60000\n",
    "\n",
    "resid = get_3d_residuals_list(v_rec, angles_rec[N_train:5000], shifts[N_train:], ctf_params[N_train:], imgs_f[N_train:], slice_func_array)\n",
    "coords = get_3d_coords_list(angles_rec[N_train:5000], x_grid)\n",
    "\n",
    "v_resid2 = get_volume_residual(coords, resid, x_grid, N_batches)\n",
    "\n"
   ]
  },
  {
   "cell_type": "code",
   "execution_count": null,
   "id": "3e630ff7-1f32-44f5-a6cf-bf5eb6a3119e",
   "metadata": {},
   "outputs": [],
   "source": [
    "plt.imshow(jnp.abs(jnp.fft.fftshift(v_resid2[:,:,0]*mask[:,:,0]))); plt.colorbar()"
   ]
  },
  {
   "cell_type": "code",
   "execution_count": null,
   "id": "b94713e9-a643-4732-8b5f-8dafcdeda772",
   "metadata": {},
   "outputs": [],
   "source": [
    "jnp.sum(jnp.abs(v_resid-v_resid2))"
   ]
  },
  {
   "cell_type": "code",
   "execution_count": null,
   "id": "0bf55246-f099-4bc7-a7d1-00360b714f49",
   "metadata": {},
   "outputs": [],
   "source": [
    "resid.shape"
   ]
  },
  {
   "cell_type": "code",
   "execution_count": null,
   "id": "a327d100-b47e-4643-9d4e-7820c52a8c30",
   "metadata": {},
   "outputs": [],
   "source": [
    "coords.shape"
   ]
  },
  {
   "cell_type": "code",
   "execution_count": null,
   "id": "35a6a6e8-8e15-4169-912f-e0c8d9a6373d",
   "metadata": {},
   "outputs": [],
   "source": [
    "resid = get_3d_residuals_list(v_rec, angles_rec[N_train:5000], shifts[N_train:], ctf_params[N_train:], imgs_f[N_train:], slice_func_array)\n",
    "coords = get_3d_coords_list(angles_rec[N_train:5000], x_grid)\n",
    "\n",
    "v_resid2 = get_volume_residual(coords, resid, x_grid, N_batches)\n",
    "\n",
    "\n"
   ]
  },
  {
   "cell_type": "code",
   "execution_count": null,
   "id": "cf3b76bf-1a1f-4cf0-9f55-e8d81e90e05e",
   "metadata": {},
   "outputs": [],
   "source": [
    "from src.residual import *"
   ]
  },
  {
   "cell_type": "code",
   "execution_count": null,
   "id": "3e767ba6-48c0-4a31-83aa-0b1f3bfa9506",
   "metadata": {},
   "outputs": [],
   "source": [
    "N_batches = 60000\n",
    "v_resid2 = get_v_resid_from_v_batch(v_rec, angles_rec[N_train:N_train+2], shifts[N_train:N_train+2], ctf_params[N_train:N_train+2], imgs_f[N_train:N_train+2], slice_func_array, x_grid, N_batches)\n"
   ]
  },
  {
   "cell_type": "code",
   "execution_count": null,
   "id": "0f4e020a-a6fe-4379-8769-b70c597a9e64",
   "metadata": {},
   "outputs": [],
   "source": [
    "plt.imshow(jnp.abs(jnp.fft.fftshift(v_resid2[:,:,0]*mask[:,:,0]))); plt.colorbar()\n",
    "\n",
    "\n"
   ]
  },
  {
   "cell_type": "code",
   "execution_count": null,
   "id": "fd1f91b5-c297-4b74-a51d-0661c8499391",
   "metadata": {},
   "outputs": [],
   "source": [
    "slice_func_array_jit = jax.jit(slice_func_array)"
   ]
  },
  {
   "cell_type": "code",
   "execution_count": null,
   "id": "effd5377-b2a6-44e1-bbaf-349f03465a32",
   "metadata": {},
   "outputs": [],
   "source": [
    "jnp.sum(jnp.abs(v_resid-v_resid2))"
   ]
  }
 ],
 "metadata": {
  "kernelspec": {
   "display_name": "Python 3 (ipykernel)",
   "language": "python",
   "name": "python3"
  },
  "language_info": {
   "codemirror_mode": {
    "name": "ipython",
    "version": 3
   },
   "file_extension": ".py",
   "mimetype": "text/x-python",
   "name": "python",
   "nbconvert_exporter": "python",
   "pygments_lexer": "ipython3",
   "version": "3.10.2"
  }
 },
 "nbformat": 4,
 "nbformat_minor": 5
}
