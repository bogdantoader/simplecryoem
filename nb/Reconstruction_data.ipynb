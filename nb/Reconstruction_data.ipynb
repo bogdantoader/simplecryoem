{
 "cells": [
  {
   "cell_type": "markdown",
   "id": "2159f1b6-0294-4f90-90a3-179163a7696b",
   "metadata": {},
   "source": [
    "# Reconstruction with real data"
   ]
  },
  {
   "cell_type": "code",
   "execution_count": 1,
   "id": "249cb249-f43e-4cc4-88c0-fa2ec6131c81",
   "metadata": {},
   "outputs": [],
   "source": [
    "%load_ext autoreload\n",
    "%autoreload 2\n",
    "import site\n",
    "import sys\n",
    "import time\n",
    "import pickle\n",
    "site.addsitedir('..')\n",
    "from jax.config import config\n",
    "\n",
    "#config.update(\"jax_enable_x64\", True)"
   ]
  },
  {
   "cell_type": "code",
   "execution_count": 2,
   "id": "ef60f1df-7cc5-42bc-afbd-23704b6ad46c",
   "metadata": {},
   "outputs": [],
   "source": [
    "import numpy as np\n",
    "import jax.numpy as jnp\n",
    "from  matplotlib import pyplot as plt\n",
    "from src.utils import *\n",
    "from src.projection import *\n",
    "from src.interpolate import *\n",
    "from src.jaxops import *\n",
    "from src.fsc import *\n",
    "from src.algorithm import *\n",
    "from src.ab_initio import ab_initio, ab_initio_mcmc\n",
    "from src.residual import get_volume_residual\n",
    "import jax\n",
    "\n",
    "import mrcfile\n",
    "\n",
    "plt.rcParams[\"figure.figsize\"]=6,6"
   ]
  },
  {
   "cell_type": "markdown",
   "id": "df9a7930-a14d-44b0-a010-1aa34701159b",
   "metadata": {},
   "source": [
    "### Read the data"
   ]
  },
  {
   "cell_type": "code",
   "execution_count": 3,
   "id": "0148b4e0-c03b-42c9-969d-329e330149d1",
   "metadata": {},
   "outputs": [
    {
     "name": "stderr",
     "output_type": "stream",
     "text": [
      "/home/bt387/project/2021_CryoEMSolver7/external/pyem/pyem/star.py:531: FutureWarning: Columnar iteration over characters will be deprecated in future releases.\n",
      "  df[UCSF.IMAGE_INDEX], df[UCSF.IMAGE_PATH] = \\\n",
      "/home/bt387/project/2021_CryoEMSolver7/external/pyem/pyem/star.py:539: FutureWarning: Columnar iteration over characters will be deprecated in future releases.\n",
      "  df[UCSF.IMAGE_ORIGINAL_INDEX], df[UCSF.IMAGE_ORIGINAL_PATH] = \\\n"
     ]
    },
    {
     "name": "stdout",
     "output_type": "stream",
     "text": [
      "load_data: number of partcles:  105519\n",
      "load_data: data loaded, time:  73.70529651641846\n"
     ]
    }
   ],
   "source": [
    "#data_dir = \"/project/lederman/rrl28/share/cryoem_data/v3/CaltechWeaver/\"\n",
    "#star_file = \"job550_particles_subsamp5_10000_30_40_2.star\"\n",
    "#star_file = \"job550_particles_roy40k.star\"\n",
    "#star_file = \"job550_particles.star\"\n",
    "\n",
    "\n",
    "#data_dir = \"/project/lederman/rrl28/share/cryoem_data/v3/Frost/eIF2B/job042/\"\n",
    "#star_file = \"AUG11_99Kparticles_updatedGCTF.star\"\n",
    "\n",
    "#data_dir = \"/project/lederman/rrl28/share/CryoEMDataSmall/RelionSample/relion30_tutorial_precalculated_results/\"\n",
    "#star_file = \"Extract/job020/particles.star\"\n",
    "\n",
    "#data_dir = \"/gpfs/gibbs/pi/lederman/dge5/RELION_TUTORIAL_SET/PrecalculatedResults/\"\n",
    "#star_file = \"/Extract/job018/particles.star\"\n",
    "\n",
    "#data_dir = \"/gpfs/gibbs/pi/lederman/3DFSC_data/tilted/Particle-Stack/\"\n",
    "#star_file = \"T40_HA_130K-Equalized_run-data.star\"\n",
    "\n",
    "#data_dir = \"/gpfs/gibbs/pi/lederman/EMPIAR-10028/\"\n",
    "#star_file = \"shiny_2sets.star\"\n",
    "\n",
    "data_dir = \"/gpfs/gibbs/pi/lederman/dge5/CrossValidationCryodrgnSet/\"\n",
    "star_file = \"particles_crossvalidation_train_1.star\"\n",
    "\n",
    "params0, imgs0 = load_data(data_dir, star_file, load_imgs = True, fourier = False)\n",
    "ctf_params0 = params0[\"ctf_params\"]\n",
    "pixel_size0 = params0[\"pixel_size\"]\n",
    "angles0 = params0[\"angles\"]\n",
    "shifts0 = params0[\"shifts\"]\n"
   ]
  },
  {
   "cell_type": "code",
   "execution_count": 4,
   "id": "5cd80002-e2a5-49bc-8c1a-86140c0e7a30",
   "metadata": {},
   "outputs": [
    {
     "name": "stdout",
     "output_type": "stream",
     "text": [
      "(105519, 320, 320)\n",
      "(105519,)\n",
      "(105519, 3)\n",
      "(105519, 2)\n",
      "(105519, 9)\n"
     ]
    }
   ],
   "source": [
    "print(imgs0.shape)\n",
    "print(pixel_size0.shape)\n",
    "print(angles0.shape)\n",
    "print(shifts0.shape)\n",
    "print(ctf_params0.shape)\n",
    "\n",
    "#plt.imshow(np.abs(jnp.fft.fftshift(imgs_f0[101]))); plt.colorbar()"
   ]
  },
  {
   "cell_type": "code",
   "execution_count": 5,
   "id": "39e2f7a6-a19a-4e91-88ce-e2a6238f8ed7",
   "metadata": {},
   "outputs": [
    {
     "data": {
      "text/plain": [
       "array([1.31, 1.31, 1.31, ..., 1.31, 1.31, 1.31])"
      ]
     },
     "execution_count": 5,
     "metadata": {},
     "output_type": "execute_result"
    }
   ],
   "source": [
    "pixel_size0"
   ]
  },
  {
   "cell_type": "code",
   "execution_count": 6,
   "id": "12aa6625-ba04-4238-a51d-4272fd41ea3d",
   "metadata": {},
   "outputs": [
    {
     "data": {
      "text/plain": [
       "array([[-10.09712, -20.57712],\n",
       "       [-10.09712,  -4.85712],\n",
       "       [-11.40712,  13.48288],\n",
       "       ...,\n",
       "       [-38.91712,  -4.85712],\n",
       "       [ 13.48288,  -4.85712],\n",
       "       [ -2.23712, -20.57712]])"
      ]
     },
     "execution_count": 6,
     "metadata": {},
     "output_type": "execute_result"
    }
   ],
   "source": [
    "shifts0"
   ]
  },
  {
   "cell_type": "code",
   "execution_count": 7,
   "id": "3378eca0-f150-4ecd-a6ba-d0d4d4a8b9d5",
   "metadata": {},
   "outputs": [
    {
     "data": {
      "text/plain": [
       "DeviceArray(-90.00712, dtype=float64)"
      ]
     },
     "execution_count": 7,
     "metadata": {},
     "output_type": "execute_result"
    }
   ],
   "source": [
    "jnp.min(shifts0)"
   ]
  },
  {
   "cell_type": "code",
   "execution_count": 8,
   "id": "83ce0b3e-cc3f-4fd0-85fe-ea9f156fc301",
   "metadata": {},
   "outputs": [
    {
     "data": {
      "text/plain": [
       "DeviceArray(68.70772519, dtype=float64)"
      ]
     },
     "execution_count": 8,
     "metadata": {},
     "output_type": "execute_result"
    }
   ],
   "source": [
    "jnp.max(jnp.abs(shifts0))/pixel_size0[0]"
   ]
  },
  {
   "cell_type": "markdown",
   "id": "4824f1cf-bdc8-4978-a222-2b18bfbb982a",
   "metadata": {},
   "source": [
    "### Only keep N points at random (to avoid out of memory error)"
   ]
  },
  {
   "cell_type": "code",
   "execution_count": 9,
   "id": "38b090ae-2ff4-4eb5-9116-5b7ed872b212",
   "metadata": {},
   "outputs": [],
   "source": [
    "# Actually this only permutes the first 5000, not great\n",
    "N = 30000 # imgs0.shape[0]\n",
    "idxrand = np.random.permutation(100000)[:N]\n",
    "#idxrand = np.random.permutation(N)[:N]\n",
    "\n",
    "imgs0 = imgs0[idxrand]\n",
    "pixel_size = pixel_size0[idxrand]\n",
    "angles = angles0[idxrand]\n",
    "shifts = shifts0[idxrand]\n",
    "ctf_params = ctf_params0[idxrand]"
   ]
  },
  {
   "cell_type": "code",
   "execution_count": 10,
   "id": "49c5799e-36b2-4b55-a3b8-fa6b48d5d16a",
   "metadata": {},
   "outputs": [],
   "source": [
    "file2 = open('../data/cryodrgn/idxrand','wb')\n",
    "pickle.dump(idxrand, file2)\n",
    "file2.close()"
   ]
  },
  {
   "cell_type": "markdown",
   "id": "958252f6-07aa-4b7a-acda-d48356551504",
   "metadata": {},
   "source": [
    "### Some angle filtering"
   ]
  },
  {
   "cell_type": "code",
   "execution_count": 11,
   "id": "ccb4f85e-87b2-4c58-9419-64822f22c25a",
   "metadata": {},
   "outputs": [],
   "source": [
    "#idx = jnp.abs(angles0[:,2]) < jnp.pi/4\n",
    "#imgs_f = imgs_f0[idx]\n",
    "#pixel_size = pixel_size0[idx]\n",
    "#angles = angles0[idx]\n",
    "#shifts = shifts0[idx]\n",
    "#ctf_params = ctf_params0[idx]\n",
    "\n",
    "#idx2 = jnp.abs(angles[:,1]) < jnp.pi/3\n",
    "#imgs_f = imgs_f[idx2]\n",
    "#pixel_size = pixel_size[idx2]\n",
    "#angles = angles[idx2]\n",
    "#shifts = shifts[idx2]\n",
    "#ctf_params = ctf_params[idx2]\n",
    "\n",
    "#plot_angles(angles)"
   ]
  },
  {
   "cell_type": "markdown",
   "id": "60d987de-dcb4-46f6-80e2-ccc2531d2d25",
   "metadata": {},
   "source": [
    "### Take the FFT of the images"
   ]
  },
  {
   "cell_type": "code",
   "execution_count": 12,
   "id": "34c7c2de-ad13-4655-b4f6-5677d20d946f",
   "metadata": {},
   "outputs": [
    {
     "name": "stdout",
     "output_type": "stream",
     "text": [
      "81.78918361663818\n"
     ]
    }
   ],
   "source": [
    "t0 = time.time()\n",
    "imgs_f = np.array([np.fft.fft2(np.fft.ifftshift(img)) for img in imgs0])\n",
    "print(time.time()-t0)"
   ]
  },
  {
   "cell_type": "markdown",
   "id": "d87107d0-c791-4cf3-8029-7bfe91cff39a",
   "metadata": {},
   "source": [
    "### Create the grids"
   ]
  },
  {
   "cell_type": "code",
   "execution_count": 13,
   "id": "7c9e3707-c21a-4cb0-bd76-d7f67cf72bea",
   "metadata": {},
   "outputs": [
    {
     "name": "stdout",
     "output_type": "stream",
     "text": [
      "[2.38549618e-03 3.20000000e+02]\n"
     ]
    }
   ],
   "source": [
    "# Assume the pixel size is the same for all images\n",
    "nx = imgs_f.shape[-1]\n",
    "px = pixel_size[0]\n",
    "N = imgs_f.shape[0]\n",
    "\n",
    "x_grid = create_grid(nx, px)\n",
    "y_grid = x_grid\n",
    "z_grid = x_grid\n",
    "print(x_grid)"
   ]
  },
  {
   "cell_type": "code",
   "execution_count": 14,
   "id": "8303bf35-9226-4133-9242-9bfe3847befd",
   "metadata": {},
   "outputs": [
    {
     "data": {
      "text/plain": [
       "<matplotlib.colorbar.Colorbar at 0x2ac195ff99c0>"
      ]
     },
     "execution_count": 14,
     "metadata": {},
     "output_type": "execute_result"
    },
    {
     "data": {
      "image/png": "[encoded data removed]",
      "text/plain": [
       "<Figure size 432x432 with 2 Axes>"
      ]
     },
     "metadata": {
      "needs_background": "light"
     },
     "output_type": "display_data"
    }
   ],
   "source": [
    "plt.imshow(np.abs(jnp.fft.fftshift(imgs_f[103]))); plt.colorbar()"
   ]
  },
  {
   "cell_type": "markdown",
   "id": "7f835e79-1419-48a3-97b2-26ba82fb54c1",
   "metadata": {},
   "source": [
    "### Crop images to 32 x 32 "
   ]
  },
  {
   "cell_type": "code",
   "execution_count": 15,
   "id": "ac27beb0-6f28-4b24-b7bf-7fb3bbf232ac",
   "metadata": {},
   "outputs": [
    {
     "name": "stdout",
     "output_type": "stream",
     "text": [
      "[2.38549618e-03 6.40000000e+01]\n"
     ]
    }
   ],
   "source": [
    "nx = 64\n",
    "imgs_f, x_grid = crop_fourier_images(imgs_f, x_grid, nx)\n",
    "\n",
    "y_grid = x_grid\n",
    "z_grid = x_grid\n",
    "print(x_grid)"
   ]
  },
  {
   "cell_type": "code",
   "execution_count": 16,
   "id": "fedb8752-858d-4cdc-9646-3d5806df9937",
   "metadata": {},
   "outputs": [
    {
     "data": {
      "text/plain": [
       "<matplotlib.colorbar.Colorbar at 0x2ac19588eda0>"
      ]
     },
     "execution_count": 16,
     "metadata": {},
     "output_type": "execute_result"
    },
    {
     "data": {
      "image/png": "[encoded data removed]",
      "text/plain": [
       "<Figure size 432x432 with 2 Axes>"
      ]
     },
     "metadata": {
      "needs_background": "light"
     },
     "output_type": "display_data"
    }
   ],
   "source": [
    "plt.imshow(np.abs(jnp.fft.fftshift(imgs_f[103].reshape([nx,nx])))); plt.colorbar()"
   ]
  },
  {
   "cell_type": "markdown",
   "id": "67d8ee78-feab-47c4-a1dc-8448f2aa1f51",
   "metadata": {},
   "source": [
    "### Before further processing, vectorize the images, create mask etc"
   ]
  },
  {
   "cell_type": "code",
   "execution_count": 17,
   "id": "2b6ae8e6-094e-4a8e-8c0b-0b2bd35bfd3a",
   "metadata": {},
   "outputs": [
    {
     "name": "stdout",
     "output_type": "stream",
     "text": [
      "(30000, 4096)\n"
     ]
    }
   ],
   "source": [
    "imgs_f = imgs_f.reshape(N, -1)\n",
    "print(imgs_f.shape)"
   ]
  },
  {
   "cell_type": "code",
   "execution_count": 18,
   "id": "ec03caac-121f-4bc7-acbb-5e86295ef9a1",
   "metadata": {},
   "outputs": [],
   "source": [
    "#plt.imshow(np.abs(jnp.fft.fftshift(imgs_f2[103].reshape(nx,nx)))); plt.colorbar()"
   ]
  },
  {
   "cell_type": "code",
   "execution_count": 19,
   "id": "8932c0fd-1bfb-4935-b7b1-086fddb5b4d3",
   "metadata": {},
   "outputs": [
    {
     "data": {
      "text/plain": [
       "<matplotlib.colorbar.Colorbar at 0x2ac195d39180>"
      ]
     },
     "execution_count": 19,
     "metadata": {},
     "output_type": "execute_result"
    },
    {
     "data": {
      "image/png": "[encoded data removed]",
      "text/plain": [
       "<Figure size 432x432 with 2 Axes>"
      ]
     },
     "metadata": {
      "needs_background": "light"
     },
     "output_type": "display_data"
    }
   ],
   "source": [
    "centre = (0,0,0)\n",
    "#radius = 0.048 # for nx=32\n",
    "#radius = 0.035\n",
    "#radius = 0.093 # nx-64\n",
    "radius = 0.074\n",
    "#radius = 0.07 # for nx=64\n",
    "#radius = 0.198 # for nx=128\n",
    "#radius = 0.28 # for nx=256\n",
    "\n",
    "mask = create_3d_mask(x_grid, centre, radius)\n",
    "\n",
    "mip_z(jnp.fft.fftshift(mask)); plt.colorbar()"
   ]
  },
  {
   "cell_type": "markdown",
   "id": "623ae365-578d-4183-9270-767e9731118d",
   "metadata": {},
   "source": [
    "### Estimate the noise"
   ]
  },
  {
   "cell_type": "markdown",
   "id": "0ed7ab42-2e89-4e43-b535-15fb44943f34",
   "metadata": {},
   "source": [
    "First, decide on the dimensions of the empty corners to use for noise estimation:"
   ]
  },
  {
   "cell_type": "code",
   "execution_count": 20,
   "id": "c832c018-4d8e-4b3d-a48d-fadd3154c8e8",
   "metadata": {},
   "outputs": [
    {
     "data": {
      "text/plain": [
       "(30000, 320, 320)"
      ]
     },
     "execution_count": 20,
     "metadata": {},
     "output_type": "execute_result"
    }
   ],
   "source": [
    "imgs0.shape"
   ]
  },
  {
   "cell_type": "code",
   "execution_count": 21,
   "id": "c4b46e10-590d-42d0-8a83-b3e247a64e94",
   "metadata": {},
   "outputs": [],
   "source": [
    "N_noise = 48\n",
    "#plt.imshow(jnp.mean(imgs0[:,:N_noise,:N_noise], axis=0))"
   ]
  },
  {
   "cell_type": "markdown",
   "id": "83e521d1-df81-4060-992e-4215cf43d070",
   "metadata": {},
   "source": [
    "Only use a small subset of the data for noise estimation so the kernel doesn't crash (possibly due to running out of memory)"
   ]
  },
  {
   "cell_type": "code",
   "execution_count": 22,
   "id": "5818f456-9d03-4508-afc8-f120a7498c06",
   "metadata": {},
   "outputs": [
    {
     "data": {
      "text/plain": [
       "Text(0.5, 1.0, 'Estimated noise')"
      ]
     },
     "execution_count": 22,
     "metadata": {},
     "output_type": "execute_result"
    },
    {
     "data": {
      "image/png": "[encoded data removed]",
      "text/plain": [
       "<Figure size 432x432 with 2 Axes>"
      ]
     },
     "metadata": {
      "needs_background": "light"
     },
     "output_type": "display_data"
    }
   ],
   "source": [
    "sigma_noise_estimated = estimate_noise_imgs(imgs0[:5000], nx_empty = N_noise, nx_final = nx).reshape([nx,nx])\n",
    "plt.imshow(jnp.fft.fftshift(sigma_noise_estimated)); plt.colorbar()\n",
    "plt.title('Estimated noise')"
   ]
  },
  {
   "cell_type": "markdown",
   "id": "840e86cd-af2e-44de-9b36-2957ac4e3ab2",
   "metadata": {},
   "source": [
    "#### Average radially"
   ]
  },
  {
   "cell_type": "code",
   "execution_count": 23,
   "id": "75dd93f5-49bc-4506-99a8-09c27c61bea6",
   "metadata": {},
   "outputs": [
    {
     "data": {
      "text/plain": [
       "<matplotlib.colorbar.Colorbar at 0x2ac195ebe290>"
      ]
     },
     "execution_count": 23,
     "metadata": {},
     "output_type": "execute_result"
    },
    {
     "data": {
      "image/png": "[encoded data removed]",
      "text/plain": [
       "<Figure size 432x432 with 2 Axes>"
      ]
     },
     "metadata": {
      "needs_background": "light"
     },
     "output_type": "display_data"
    }
   ],
   "source": [
    "sigma_noise_avg = average_radially(sigma_noise_estimated, x_grid)\n",
    "\n",
    "plt.imshow(jnp.fft.fftshift(sigma_noise_avg)); plt.colorbar()"
   ]
  },
  {
   "cell_type": "code",
   "execution_count": 24,
   "id": "e21f2a91-4e68-4b16-98f1-8f7475d7a964",
   "metadata": {},
   "outputs": [
    {
     "data": {
      "text/plain": [
       "<matplotlib.colorbar.Colorbar at 0x2ac195a12ef0>"
      ]
     },
     "execution_count": 24,
     "metadata": {},
     "output_type": "execute_result"
    },
    {
     "data": {
      "image/png": "[encoded data removed]",
      "text/plain": [
       "<Figure size 432x432 with 2 Axes>"
      ]
     },
     "metadata": {
      "needs_background": "light"
     },
     "output_type": "display_data"
    }
   ],
   "source": [
    "plt.imshow(jnp.fft.fftshift(jnp.abs(sigma_noise_avg-sigma_noise_estimated))); plt.colorbar()"
   ]
  },
  {
   "cell_type": "code",
   "execution_count": 25,
   "id": "6ce66bf6-8e9b-4f64-aead-6d9754af213e",
   "metadata": {},
   "outputs": [
    {
     "data": {
      "text/plain": [
       "<matplotlib.legend.Legend at 0x2ac196c8dc90>"
      ]
     },
     "execution_count": 25,
     "metadata": {},
     "output_type": "execute_result"
    },
    {
     "data": {
      "image/png": "[encoded data removed]",
      "text/plain": [
       "<Figure size 432x432 with 1 Axes>"
      ]
     },
     "metadata": {
      "needs_background": "light"
     },
     "output_type": "display_data"
    }
   ],
   "source": [
    "plt.plot(jnp.fft.fftshift(sigma_noise_estimated[:,0]))\n",
    "plt.plot(jnp.fft.fftshift(sigma_noise_estimated[0,:]))\n",
    "plt.plot(jnp.fft.fftshift(sigma_noise_avg[:,0]))\n",
    "plt.legend(['estimated - x', 'estimated - y', 'radially averaged estimated'])"
   ]
  },
  {
   "cell_type": "code",
   "execution_count": 26,
   "id": "8983e6ca-d5e7-479f-af42-22081bbb9d57",
   "metadata": {},
   "outputs": [],
   "source": [
    "sigma_noise = sigma_noise_avg.reshape(-1)"
   ]
  },
  {
   "cell_type": "markdown",
   "id": "33d11514-07e4-4a41-b53f-e269e9110af0",
   "metadata": {},
   "source": [
    "### Delete the real images\n",
    "Since we only work with the Fourier ones from now on."
   ]
  },
  {
   "cell_type": "code",
   "execution_count": 27,
   "id": "e189f7d3-5e47-4d5c-8bb3-069edcfde086",
   "metadata": {},
   "outputs": [],
   "source": [
    "del(imgs0)\n",
    "#del(imgs)"
   ]
  },
  {
   "cell_type": "code",
   "execution_count": 28,
   "id": "1ccbf0ba-5010-4f89-8feb-25cc22e4f6c9",
   "metadata": {},
   "outputs": [
    {
     "data": {
      "text/plain": [
       "<matplotlib.collections.PathCollection at 0x2ace37790700>"
      ]
     },
     "execution_count": 28,
     "metadata": {},
     "output_type": "execute_result"
    },
    {
     "data": {
      "image/png": "[encoded data removed]",
      "text/plain": [
       "<Figure size 432x432 with 1 Axes>"
      ]
     },
     "metadata": {
      "needs_background": "light"
     },
     "output_type": "display_data"
    }
   ],
   "source": [
    "plt.scatter(shifts[:,0], shifts[:,1])"
   ]
  },
  {
   "cell_type": "markdown",
   "id": "b8a77554-0897-48b5-abcd-75ec96ed3fa4",
   "metadata": {},
   "source": [
    "### Ab initio"
   ]
  },
  {
   "cell_type": "markdown",
   "id": "c034a771-38fa-4cd8-85e4-4e33ae4d4bab",
   "metadata": {},
   "source": [
    "Actual pixel size for 32 x 32 images is:"
   ]
  },
  {
   "cell_type": "code",
   "execution_count": 29,
   "id": "edb87e50-aec6-47db-8b9c-aa5bf754d45d",
   "metadata": {},
   "outputs": [
    {
     "data": {
      "text/plain": [
       "6.550000000000001"
      ]
     },
     "execution_count": 29,
     "metadata": {},
     "output_type": "execute_result"
    }
   ],
   "source": [
    "pixel_size[0]*(320/nx)"
   ]
  },
  {
   "cell_type": "code",
   "execution_count": null,
   "id": "14d872b3-8063-4729-9196-e91d32348678",
   "metadata": {},
   "outputs": [],
   "source": [
    "80/6.55 "
   ]
  },
  {
   "cell_type": "code",
   "execution_count": null,
   "id": "eaa0cee9-3fbd-4e36-b5f1-96c21228f607",
   "metadata": {},
   "outputs": [],
   "source": [
    "key = random.PRNGKey(int(jnp.floor(np.random.rand()*1000)))\n",
    "pixel_size_nx = pixel_size[0] * 320/nx\n",
    "B = pixel_size_nx*nx/15\n",
    "\n",
    "sh = generate_gaussian_shifts(key, N, B)\n",
    "plt.plot(sh[:,0], sh[:,1], '.')"
   ]
  },
  {
   "cell_type": "code",
   "execution_count": null,
   "id": "395ac543-e883-489e-b79c-025875e31e95",
   "metadata": {},
   "outputs": [],
   "source": [
    "#old_stdout = sys.stdout\n",
    "#sys.stdout = open('../data/relion/output.txt', 'w')"
   ]
  },
  {
   "cell_type": "code",
   "execution_count": null,
   "id": "4a8b2c75-47da-4346-bc31-f3570f876459",
   "metadata": {},
   "outputs": [],
   "source": [
    "#sys.stdout = sys.__stdout__"
   ]
  },
  {
   "cell_type": "code",
   "execution_count": null,
   "id": "50a01789-f04d-4684-936c-253d37d346ca",
   "metadata": {},
   "outputs": [],
   "source": [
    "#v_rec_int = v_rec\n",
    "#angles_rec_int = angles_rec"
   ]
  },
  {
   "cell_type": "code",
   "execution_count": null,
   "id": "d42811b5-42e0-4b3e-be81-a9d89e5540f1",
   "metadata": {},
   "outputs": [],
   "source": [
    "key = random.PRNGKey(int(jnp.floor(np.random.rand()*1000)))\n",
    "\n",
    "# The number of iterations desn't matter, \n",
    "# since it stops when the volume is nx x nx x nx.\n",
    "N_samples = 40000\n",
    "N_iter = 1000000\n",
    "\n",
    "radius0 = 0.01\n",
    "#radius0 = 0.03\n",
    "#radius0 = 0.04 #0.05\n",
    "alpha = 1e-9  # <--- this is the working one\n",
    "#alpha = 1e-6\n",
    "\n",
    "# The number of cg or sgd iterations also doesn't matter,\n",
    "# since it stops when it reaches the desired accuracy.\n",
    "N_cg_iter = 100000\n",
    "eps_cg = 3e-5\n",
    "\n",
    "N_sgd_iter = 100000\n",
    "batch_size = 300\n",
    "learning_rate = 1e6\n",
    "#learning_rate = 1\n",
    "#eps_gd = 1e-8 \n",
    "eps_gd = 2e-7\n",
    "P = None\n",
    "\n",
    "use_sgd = True\n",
    "\n",
    "if use_sgd:\n",
    "    N_vol_iter = N_sgd_iter\n",
    "    eps_vol = eps_gd\n",
    "else:\n",
    "    N_vol_iter = N_cg_iter\n",
    "    eps_vol = eps_cg\n",
    "\n",
    "N_samples_vol = 101   \n",
    "N_samples_angles = 1000 \n",
    "N_samples_shifts = 1000\n",
    "\n",
    "# HMC params\n",
    "#dt = 5\n",
    "dt_list = jnp.array([0.1, 0.5, 1, 5, 10])\n",
    "L = 5\n",
    "\n",
    "pixel_size_nx = pixel_size[0] * 320/nx\n",
    "B = pixel_size_nx*nx/15\n",
    "B_list = jnp.array([B, B/2, B/4, B/8])\n",
    "\n",
    "vol0 = None\n",
    "angles0 = None\n",
    "#sigma_noise = jnp.ones(sigma_noise.shape)\n",
    "    \n",
    "out_dir = '../data/cryodrgn/'\n",
    "imgs_f = imgs_f.reshape([N, nx*nx])\n",
    "\n",
    "opt_vol_first = True\n",
    "\n",
    "#v_rec, angles_rec = ab_initio(project, imgs_f, sigma_noise, shifts, ctf_params, x_grid, use_sgd, N_iter, N_vol_iter, learning_rate, batch_size, P, N_samples, radius0, None, alpha, eps_vol, 'tri', True, True, True, out_dir)\n",
    "\n",
    "v_rec, angles_rec, shifts_rec = ab_initio_mcmc(key, \n",
    "                                   project, \n",
    "                                   rotate_and_interpolate,\n",
    "                                   apply_shifts_and_ctf,\n",
    "                                   imgs_f, \n",
    "                                   sigma_noise, \n",
    "                                   ctf_params, \n",
    "                                   x_grid, \n",
    "                                   use_sgd, \n",
    "                                   vol0,\n",
    "                                   angles0,\n",
    "                                   shifts0,\n",
    "                                   N_iter, \n",
    "                                   learning_rate, \n",
    "                                   batch_size, \n",
    "                                   P, \n",
    "                                   N_samples_vol,\n",
    "                                   N_samples_angles, \n",
    "                                   N_samples_shifts,\n",
    "                                   dt_list, \n",
    "                                   L, \n",
    "                                   radius0, \n",
    "                                   None, \n",
    "                                   alpha, \n",
    "                                   eps_vol,\n",
    "                                   B_list,\n",
    "                                   'tri', \n",
    "                                   opt_vol_first, True, True, out_dir)"
   ]
  },
  {
   "cell_type": "code",
   "execution_count": null,
   "id": "49ac438f-9bac-4aba-9e48-c64a1eb48f2d",
   "metadata": {},
   "outputs": [],
   "source": [
    "plot_angles(angles_rec[:2000])"
   ]
  },
  {
   "cell_type": "code",
   "execution_count": null,
   "id": "defd0a56-7d06-4171-8c2b-19f9ae60ad98",
   "metadata": {},
   "outputs": [],
   "source": [
    "plt.plot(shifts_rec[:,0], shifts_rec[:,1], '.')"
   ]
  },
  {
   "cell_type": "code",
   "execution_count": null,
   "id": "50b11f58-25b4-4787-8c0d-f2ae136f47e9",
   "metadata": {},
   "outputs": [],
   "source": [
    "print(jnp.max(shifts_rec))\n",
    "print(jnp.min(shifts_rec))\n",
    "print(jnp.mean(shifts_rec))\n",
    "      "
   ]
  },
  {
   "cell_type": "code",
   "execution_count": null,
   "id": "11a2bb12-2427-4aaa-a6bd-2fa4a0743ef8",
   "metadata": {},
   "outputs": [],
   "source": [
    "plt.plot(shifts_rec[:,1])"
   ]
  },
  {
   "cell_type": "code",
   "execution_count": null,
   "id": "a28b9e15-739a-4347-9053-f020159d777c",
   "metadata": {},
   "outputs": [],
   "source": [
    "pixel_size_nx"
   ]
  },
  {
   "cell_type": "code",
   "execution_count": null,
   "id": "8da7a01f-e4db-461f-b8c5-2973e36d7ce6",
   "metadata": {},
   "outputs": [],
   "source": [
    "from src.utils import wrap_arround_distance_2d_array"
   ]
  },
  {
   "cell_type": "code",
   "execution_count": null,
   "id": "3f91e33b-92df-4588-8c50-f6be8610d686",
   "metadata": {},
   "outputs": [],
   "source": [
    "print(pixel_size_nx*64)\n",
    "print(pixel_size[0]*320)"
   ]
  },
  {
   "cell_type": "code",
   "execution_count": null,
   "id": "b537c07e-95e7-4544-96a6-8300e8f79e21",
   "metadata": {},
   "outputs": [],
   "source": [
    "serr = wrap_arround_distance_2d_array(shifts, shifts_rec, pixel_size_nx * 32)\n",
    "plt.plot(serr)\n",
    "print(jnp.mean(serr))\n",
    "print(jnp.max(serr))"
   ]
  },
  {
   "cell_type": "code",
   "execution_count": null,
   "id": "5d282364-b47d-4f1d-897d-b9b05bd0be86",
   "metadata": {},
   "outputs": [],
   "source": [
    "jnp.mean(shifts)"
   ]
  },
  {
   "cell_type": "code",
   "execution_count": null,
   "id": "db7277d3-0214-419f-bcf6-3b4a94ac76ea",
   "metadata": {},
   "outputs": [],
   "source": [
    "x_grid0 = jnp.array([x_grid[0], 256])\n",
    "print(x_grid)\n",
    "print(x_grid0)\n",
    "x_freq = jnp.fft.fftfreq(int(x_grid[1]), 1/(x_grid[0]*x_grid[1]))\n",
    "x_freq0 = jnp.fft.fftfreq(int(x_grid0[1]), 1/(x_grid0[0]*x_grid0[1]))"
   ]
  },
  {
   "cell_type": "code",
   "execution_count": null,
   "id": "2b679fd8-1c9e-42ad-adfc-c88f9a57752b",
   "metadata": {},
   "outputs": [],
   "source": [
    "x_freq"
   ]
  },
  {
   "cell_type": "code",
   "execution_count": null,
   "id": "3b6e78ef-8eec-48de-8e50-810cc24fc5a3",
   "metadata": {},
   "outputs": [],
   "source": [
    "x_freq0"
   ]
  },
  {
   "cell_type": "code",
   "execution_count": null,
   "id": "73219b2d-2e16-406f-ab74-539e4cf4618e",
   "metadata": {},
   "outputs": [],
   "source": []
  },
  {
   "cell_type": "code",
   "execution_count": null,
   "id": "96df856c-1e1a-45a3-bf95-7970972865fe",
   "metadata": {},
   "outputs": [],
   "source": [
    "x"
   ]
  },
  {
   "cell_type": "code",
   "execution_count": null,
   "id": "ae8624f3-1a1e-4017-9f01-219bb2dc3e67",
   "metadata": {},
   "outputs": [],
   "source": [
    "st = get_shift_term(x_grid, y_grid, shifts[0])"
   ]
  },
  {
   "cell_type": "code",
   "execution_count": null,
   "id": "6b410ee0-39bf-4dcf-96db-6a14d7099140",
   "metadata": {},
   "outputs": [],
   "source": [
    "proj = rotate_and_interpolate(v_rec, [0,0,0], x_grid, x_grid)"
   ]
  },
  {
   "cell_type": "code",
   "execution_count": null,
   "id": "c669431f-b2ab-4be6-b77a-7ab8492a7b12",
   "metadata": {},
   "outputs": [],
   "source": [
    "px"
   ]
  },
  {
   "cell_type": "code",
   "execution_count": null,
   "id": "d63b60be-cb60-47f4-95e7-676b3f7b6887",
   "metadata": {},
   "outputs": [],
   "source": [
    "sh = [1254.2,-765.98]\n",
    "\n",
    "s1 = jnp.real(jnp.fft.fftshift(jnp.fft.ifft2(apply_shifts_and_ctf(proj, sh, None, x_grid).reshape([nx,nx]))))\n",
    "plt.imshow(s1)\n",
    "plt.colorbar()"
   ]
  },
  {
   "cell_type": "code",
   "execution_count": null,
   "id": "aa2b8613-d598-4eec-bb7f-1d91d07130df",
   "metadata": {},
   "outputs": [],
   "source": [
    "s2 = jnp.real(jnp.fft.fftshift(jnp.fft.ifft2((proj * get_shift_term(x_grid, x_grid, sh)).reshape([nx,nx]))))\n",
    "plt.imshow(s2)\n",
    "plt.colorbar()"
   ]
  },
  {
   "cell_type": "code",
   "execution_count": null,
   "id": "f9300af1-9c74-45d5-b250-cc8c0fc92203",
   "metadata": {},
   "outputs": [],
   "source": [
    "jnp.max(jnp.abs(s1-s2))"
   ]
  },
  {
   "cell_type": "code",
   "execution_count": null,
   "id": "dac05cee-9a11-4070-8866-f1294129691f",
   "metadata": {},
   "outputs": [],
   "source": [
    "vl, x_grid_l = rescale_larger_grid(v_rec, x_grid, 256)\n",
    "x_grid_l = np.array(x_grid_l)"
   ]
  },
  {
   "cell_type": "code",
   "execution_count": null,
   "id": "94501dba-1e9d-4d3c-b38a-189b77f524f6",
   "metadata": {},
   "outputs": [],
   "source": [
    "proj_l = rotate_and_interpolate(vl, [0,0,0], x_grid_l, x_grid_l)\n",
    "s3 = jnp.real(jnp.fft.fftshift(jnp.fft.ifft2((proj_l * get_shift_term(x_grid_l, x_grid_l, sh)).reshape([256,256]))))\n",
    "\n",
    "plt.imshow(s3)\n",
    "plt.colorbar()"
   ]
  },
  {
   "cell_type": "code",
   "execution_count": null,
   "id": "eff42fe0-b4aa-4fe6-87c7-3173a9e96e88",
   "metadata": {},
   "outputs": [],
   "source": [
    "s4 = (proj_l * get_shift_term(x_grid_l, x_grid_l, sh)).reshape([256,256])\n",
    "s4 = jnp.array(jnp.concatenate([s4[:16,:], s4[(256-16):,:]], axis = 0))\n",
    "s4 = jnp.array(jnp.concatenate([s4[:,:16], s4[:,(256-16):]], axis = 1))\n",
    "s4.shape\n",
    "\n",
    "print(s4.shape)\n",
    "s4 = jnp.real(jnp.fft.fftshift(jnp.fft.ifft2(s4)))\n",
    "plt.imshow(s4)\n",
    "plt.colorbar()"
   ]
  },
  {
   "cell_type": "code",
   "execution_count": null,
   "id": "13b43846-7616-4c51-b58c-a356aa5801ec",
   "metadata": {},
   "outputs": [],
   "source": [
    "jnp.max(jnp.abs((s4 - s1)))"
   ]
  },
  {
   "cell_type": "code",
   "execution_count": null,
   "id": "015db0db-b985-4572-a78d-6de7336a6897",
   "metadata": {},
   "outputs": [],
   "source": [
    "vl_r = jnp.real(jnp.fft.fftshift(jnp.fft.ifftn(vl)))\n",
    "mip_z(vl_r)\n",
    "plt.colorbar()\n",
    "with mrcfile.new('../data/relion/vl.mrc', overwrite=True) as mrc:\n",
    "    mrc.set_data(vl_r.astype(np.float32))"
   ]
  },
  {
   "cell_type": "code",
   "execution_count": null,
   "id": "34446aa9-a6e9-4b1d-9c2e-73417ce3c73f",
   "metadata": {},
   "outputs": [],
   "source": [
    "jnp.max(shifts_rec)"
   ]
  },
  {
   "cell_type": "code",
   "execution_count": null,
   "id": "1fc54311-a4a2-4ead-9377-6dc6b1458a93",
   "metadata": {},
   "outputs": [],
   "source": [
    "32*pixel_size/2"
   ]
  },
  {
   "cell_type": "code",
   "execution_count": null,
   "id": "f9282ac2-cd2f-4566-926d-a981b5280afa",
   "metadata": {},
   "outputs": [],
   "source": [
    "x_grid"
   ]
  },
  {
   "cell_type": "code",
   "execution_count": null,
   "id": "131e3357-21aa-451f-9465-688362e988f5",
   "metadata": {},
   "outputs": [],
   "source": [
    "ae = angles_samples[:,3993,:]\n",
    "ae.shape\n",
    "plot_angles(ae)"
   ]
  },
  {
   "cell_type": "code",
   "execution_count": null,
   "id": "4ecd651b-b112-4c01-81ed-0460ab921348",
   "metadata": {},
   "outputs": [],
   "source": [
    "angles_samples.shape"
   ]
  },
  {
   "cell_type": "code",
   "execution_count": null,
   "id": "0b1f2072-205b-4bf3-94b8-32b39a06c60e",
   "metadata": {},
   "outputs": [],
   "source": [
    "angles_samples[:,3993,:]"
   ]
  },
  {
   "cell_type": "code",
   "execution_count": null,
   "id": "ae5d2991-ff0e-45b6-8ab0-391ca0594133",
   "metadata": {},
   "outputs": [],
   "source": [
    "plt.plot(ae[100:,1])"
   ]
  },
  {
   "cell_type": "code",
   "execution_count": null,
   "id": "de5132d1-39c9-4ed4-9f7f-55b49f43e1fd",
   "metadata": {},
   "outputs": [],
   "source": [
    "plt.imshow(jnp.abs(jnp.fft.fftshift(v_samples[0,:,:,0]))); plt.colorbar()"
   ]
  },
  {
   "cell_type": "code",
   "execution_count": null,
   "id": "c2595df4-be11-4c83-ae89-a899c7a4ace2",
   "metadata": {},
   "outputs": [],
   "source": [
    "plt.imshow(jnp.abs(jnp.fft.fftshift(v_samples[20,:,:,0]))); plt.colorbar()"
   ]
  },
  {
   "cell_type": "code",
   "execution_count": null,
   "id": "50a9b079-7078-4e1c-9c69-e0f55827d0ae",
   "metadata": {},
   "outputs": [],
   "source": [
    "plt.imshow(jnp.abs(jnp.fft.fftshift(mask[:,:,0]))); plt.colorbar()"
   ]
  },
  {
   "cell_type": "markdown",
   "id": "246479c4-225f-45f2-9d20-be2650a55b37",
   "metadata": {},
   "source": [
    "### Compare orientations"
   ]
  },
  {
   "cell_type": "code",
   "execution_count": null,
   "id": "32ca6c06-513c-488c-b13f-c021a50d6d8f",
   "metadata": {},
   "outputs": [],
   "source": [
    "get_rot_mat = lambda a : get_rotation_matrix(a[0], a[1], a[2])"
   ]
  },
  {
   "cell_type": "code",
   "execution_count": null,
   "id": "532e1414-ccd9-46cb-8cf5-982ccb3ddd5d",
   "metadata": {},
   "outputs": [],
   "source": [
    "M = jax.vmap(get_rot_mat, in_axes=0)(angles)\n",
    "M_rec = jax.vmap(get_rot_mat, in_axes=0)(angles_rec)"
   ]
  },
  {
   "cell_type": "code",
   "execution_count": null,
   "id": "e43ac9de-79fe-4dfa-b39d-228af8ad9ac2",
   "metadata": {},
   "outputs": [],
   "source": [
    "# C3 symmetry rotations:\n",
    "C1 = get_rotation_matrix(0,0,2*jnp.pi/3)\n",
    "C2 = get_rotation_matrix(0,0,4*jnp.pi/3)"
   ]
  },
  {
   "cell_type": "code",
   "execution_count": null,
   "id": "5ea483c4-88e3-423b-9828-29e163a3a7d0",
   "metadata": {},
   "outputs": [],
   "source": [
    "err0 = jnp.sqrt(jnp.sum((M-M_rec)**2, axis=(1,2)))\n",
    "err1 = jnp.sqrt(jnp.sum((M-M_rec*C1)**2, axis=(1,2)))\n",
    "err2 = jnp.sqrt(jnp.sum((M-M_rec*C2)**2, axis=(1,2)))"
   ]
  },
  {
   "cell_type": "code",
   "execution_count": null,
   "id": "712122d2-8878-4a2c-999c-61c77a920f79",
   "metadata": {},
   "outputs": [],
   "source": [
    "err = jnp.minimum(jnp.minimum(err0,err1), err2)"
   ]
  },
  {
   "cell_type": "code",
   "execution_count": null,
   "id": "e0ad18de-d2c5-4b63-bf5a-cde78927c1c1",
   "metadata": {},
   "outputs": [],
   "source": [
    "theta = 2*jnp.arcsin(err/(2*jnp.sqrt(2)))"
   ]
  },
  {
   "cell_type": "markdown",
   "id": "e9e3f5af-36f8-474b-868a-dc9ecdc13004",
   "metadata": {},
   "source": [
    "### MCMC vol"
   ]
  },
  {
   "cell_type": "code",
   "execution_count": null,
   "id": "5a613bef-0508-45ee-96f5-162ca06e9905",
   "metadata": {},
   "outputs": [],
   "source": [
    "plot_angles(angles_rec[:1000])"
   ]
  },
  {
   "cell_type": "code",
   "execution_count": 30,
   "id": "aa6d10b8-1857-4557-94e2-47ff58bba493",
   "metadata": {},
   "outputs": [],
   "source": [
    "from src.ab_initio import get_jax_proposal_funcs\n",
    "from src.projection import apply_shifts_and_ctf"
   ]
  },
  {
   "cell_type": "code",
   "execution_count": 31,
   "id": "8b4b0f84-09b3-4993-ad52-6ec22c682f88",
   "metadata": {},
   "outputs": [
    {
     "data": {
      "image/png": "[encoded data removed]",
      "text/plain": [
       "<Figure size 432x432 with 2 Axes>"
      ]
     },
     "metadata": {
      "needs_background": "light"
     },
     "output_type": "display_data"
    }
   ],
   "source": [
    "alpha = 1e-9\n",
    "#alpha = 1e-6\n",
    "\n",
    "#radius = 0.048 # for nx=32\n",
    "radius = 0.074\n",
    "#radius = 1.6 # for nx=64\n",
    "#radius = 3.2 # for nx=128)\n",
    "mask = create_3d_mask(x_grid, (0,0,0),radius)\n",
    "mip_z(jnp.fft.fftshift(mask)); plt.colorbar()\n",
    "M = 1/jnp.max(sigma_noise)**2 * jnp.ones([nx, nx, nx])\n",
    "dt_list = jnp.array([0.1, 0.5, 1, 5, 10])\n",
    "L = 5\n",
    "\n",
    "pixel_size_nx = pixel_size[0] * 320/nx\n",
    "B = pixel_size_nx*nx/15\n",
    "B_list = jnp.array([B, B/2, B/4, B/8])\n",
    "\n",
    "slice_func,slice_func_array, slice_func_array_angles = get_slice_funcs(project, x_grid, mask, \"tri\")\n",
    "\n",
    "loss_func, loss_func_batched, loss_func_sum, _ = get_loss_funcs(slice_func, alpha = alpha)\n",
    "_, loss_func_batched0, _, _ = get_loss_funcs(slice_func, alpha = 0)\n",
    "grad_loss_volume, grad_loss_volume_sum = get_grad_v_funcs(loss_func, loss_func_sum)\n",
    "\n",
    "loss_proj_func_batched0 = get_loss_proj_funcs(apply_shifts_and_ctf, x_grid, alpha = 0)\n",
    "\n",
    "proposal_func_orientations, proposal_func_shifts, proposal_func_vol = get_jax_proposal_funcs(loss_func_batched0, loss_proj_func_batched0, loss_func_sum, grad_loss_volume_sum, ctf_params, imgs_f, sigma_noise, B_list, dt_list, L, M) \n",
    "\n",
    "#logPi = lambda v : -loss_func_sum(v, angles_rec, shifts_rec, ctf_params, imgs_f, sigma_noise)\n",
    "#gradLogPi = lambda v : -jnp.conj(grad_loss_volume_sum(v, angles_rec, shifts_rec, ctf_params, imgs_f, sigma_noise))\n",
    "#gradLogPi = lambda v : gradLogPi_split(v, angles_rec, shifts, ctf_params, imgs_f, sigma_noise, 10)\n"
   ]
  },
  {
   "cell_type": "code",
   "execution_count": 35,
   "id": "06320f3c-85ed-4c03-b012-f68395f49d66",
   "metadata": {},
   "outputs": [
    {
     "name": "stderr",
     "output_type": "stream",
     "text": [
      "2022-03-24 08:34:04.715821: E external/org_tensorflow/tensorflow/compiler/xla/pjrt/pjrt_stream_executor_client.cc:2140] Execution of replica 0 failed: INTERNAL: Failed to load in-memory CUBIN: CUDA_ERROR_OUT_OF_MEMORY: out of memory\n"
     ]
    },
    {
     "ename": "RuntimeError",
     "evalue": "INTERNAL: Failed to load in-memory CUBIN: CUDA_ERROR_OUT_OF_MEMORY: out of memory",
     "output_type": "error",
     "traceback": [
      "\u001b[0;31m---------------------------------------------------------------------------\u001b[0m",
      "\u001b[0;31mRuntimeError\u001b[0m                              Traceback (most recent call last)",
      "Input \u001b[0;32mIn [35]\u001b[0m, in \u001b[0;36m<module>\u001b[0;34m\u001b[0m\n\u001b[1;32m      8\u001b[0m params_vol \u001b[38;5;241m=\u001b[39m {\u001b[38;5;124m'\u001b[39m\u001b[38;5;124mangles\u001b[39m\u001b[38;5;124m'\u001b[39m:angles, \u001b[38;5;124m'\u001b[39m\u001b[38;5;124mshifts\u001b[39m\u001b[38;5;124m'\u001b[39m:shifts}\n\u001b[1;32m     10\u001b[0m t0 \u001b[38;5;241m=\u001b[39m time\u001b[38;5;241m.\u001b[39mtime()\n\u001b[0;32m---> 11\u001b[0m v_hmc_mean, r_hmc, v_hmc_samples \u001b[38;5;241m=\u001b[39m \u001b[43mmcmc\u001b[49m\u001b[43m(\u001b[49m\u001b[43mkey\u001b[49m\u001b[43m,\u001b[49m\u001b[43m \u001b[49m\u001b[43mproposal_func_vol\u001b[49m\u001b[43m,\u001b[49m\u001b[43m \u001b[49m\u001b[43mv0\u001b[49m\u001b[43m,\u001b[49m\u001b[43m \u001b[49m\u001b[43mN_mc_samples\u001b[49m\u001b[43m,\u001b[49m\u001b[43m \u001b[49m\u001b[43mparams_vol\u001b[49m\u001b[43m,\u001b[49m\u001b[43m \u001b[49m\u001b[43msave_samples\u001b[49m\u001b[38;5;241;43m=\u001b[39;49m\u001b[38;5;241;43m-\u001b[39;49m\u001b[38;5;241;43m1\u001b[39;49m\u001b[43m)\u001b[49m\n\u001b[1;32m     12\u001b[0m \u001b[38;5;28mprint\u001b[39m(time\u001b[38;5;241m.\u001b[39mtime()\u001b[38;5;241m-\u001b[39mt0)\n",
      "File \u001b[0;32m/gpfs/loomis/project/lederman/bt387/simple_cryoem/src/algorithm.py:358\u001b[0m, in \u001b[0;36mmcmc\u001b[0;34m(key, proposal_func, x0, N_samples, proposal_params, N_batch, save_samples, verbose)\u001b[0m\n\u001b[1;32m    356\u001b[0m x0 \u001b[38;5;241m=\u001b[39m x1\n\u001b[1;32m    357\u001b[0m logPiX0 \u001b[38;5;241m=\u001b[39m logPiX1\n\u001b[0;32m--> 358\u001b[0m x1, r, logPiX1 \u001b[38;5;241m=\u001b[39m \u001b[43mproposal_func\u001b[49m\u001b[43m(\u001b[49m\u001b[43mkeys\u001b[49m\u001b[43m[\u001b[49m\u001b[38;5;241;43m2\u001b[39;49m\u001b[38;5;241;43m*\u001b[39;49m\u001b[43mi\u001b[49m\u001b[43m]\u001b[49m\u001b[43m,\u001b[49m\u001b[43m \u001b[49m\u001b[43mx0\u001b[49m\u001b[43m,\u001b[49m\u001b[43m \u001b[49m\u001b[43mlogPiX0\u001b[49m\u001b[43m,\u001b[49m\u001b[43m \u001b[49m\u001b[38;5;241;43m*\u001b[39;49m\u001b[38;5;241;43m*\u001b[39;49m\u001b[43mproposal_params\u001b[49m\u001b[43m)\u001b[49m\n\u001b[1;32m    360\u001b[0m a \u001b[38;5;241m=\u001b[39m jnp\u001b[38;5;241m.\u001b[39mminimum(\u001b[38;5;241m1\u001b[39m, r)\n\u001b[1;32m    361\u001b[0m r_samples\u001b[38;5;241m.\u001b[39mappend(a)\n",
      "    \u001b[0;31m[... skipping hidden 6 frame]\u001b[0m\n",
      "File \u001b[0;32m/gpfs/loomis/project/lederman/bt387/conda_envs/j_lab/lib/python3.10/site-packages/jax/_src/dispatch.py:444\u001b[0m, in \u001b[0;36m_execute_compiled\u001b[0;34m(name, compiled, output_buffer_counts, result_handlers, kept_var_idx, *args)\u001b[0m\n\u001b[1;32m    441\u001b[0m device, \u001b[38;5;241m=\u001b[39m compiled\u001b[38;5;241m.\u001b[39mlocal_devices()\n\u001b[1;32m    442\u001b[0m input_bufs \u001b[38;5;241m=\u001b[39m util\u001b[38;5;241m.\u001b[39mflatten(\n\u001b[1;32m    443\u001b[0m     device_put(x, device) \u001b[38;5;28;01mfor\u001b[39;00m i, x \u001b[38;5;129;01min\u001b[39;00m \u001b[38;5;28menumerate\u001b[39m(args) \u001b[38;5;28;01mif\u001b[39;00m i \u001b[38;5;129;01min\u001b[39;00m kept_var_idx)\n\u001b[0;32m--> 444\u001b[0m out_bufs \u001b[38;5;241m=\u001b[39m \u001b[43mcompiled\u001b[49m\u001b[38;5;241;43m.\u001b[39;49m\u001b[43mexecute\u001b[49m\u001b[43m(\u001b[49m\u001b[43minput_bufs\u001b[49m\u001b[43m)\u001b[49m\n\u001b[1;32m    445\u001b[0m check_special(name, out_bufs)\n\u001b[1;32m    446\u001b[0m \u001b[38;5;28;01mif\u001b[39;00m output_buffer_counts \u001b[38;5;129;01mis\u001b[39;00m \u001b[38;5;28;01mNone\u001b[39;00m:\n",
      "\u001b[0;31mRuntimeError\u001b[0m: INTERNAL: Failed to load in-memory CUBIN: CUDA_ERROR_OUT_OF_MEMORY: out of memory"
     ]
    }
   ],
   "source": [
    "N_mc_samples = 3\n",
    "key = random.PRNGKey(int(jnp.floor(np.random.rand()*1000)))\n",
    "\n",
    "#v0 = (jnp.array(np.random.randn(nx,nx,nx) + 1j * np.random.randn(nx,nx,nx)) )\n",
    "v0 = jnp.zeros([nx,nx,nx])*1j\n",
    "#v0 = v_rec\n",
    "\n",
    "params_vol = {'angles':angles, 'shifts':shifts}\n",
    "\n",
    "t0 = time.time()\n",
    "v_hmc_mean, r_hmc, v_hmc_samples = mcmc(key, proposal_func_vol, v0, N_mc_samples, params_vol, save_samples=-1)\n",
    "print(time.time()-t0)\n"
   ]
  },
  {
   "cell_type": "markdown",
   "id": "6765608c-133d-433e-b035-43444a47f256",
   "metadata": {},
   "source": [
    "Times - weird scaling (for 40k images). Looks like what takes time is\n",
    "accessing unif_var or a inside the mcmc function. Not sure why.\n",
    "\n",
    "Actually I know why: asynchronous dispatch\n",
    "\n",
    "\n",
    "* 1 -> 3.7\n",
    "* 5 -> 15 sec\n",
    "* 10 -> 70 sec\n",
    "* 20 -> 70 sec\n",
    "* 40 -> 149 sec\n",
    "* 100 -> 330ish"
   ]
  },
  {
   "cell_type": "code",
   "execution_count": null,
   "id": "79835c79-f38b-4c5d-9f10-10d41bc36418",
   "metadata": {},
   "outputs": [],
   "source": [
    "print(jnp.mean(r_hmc))\n",
    "plt.plot(r_hmc)"
   ]
  },
  {
   "cell_type": "code",
   "execution_count": null,
   "id": "a04c27e5-59c2-42ff-a0b6-2a3b4e63c7ce",
   "metadata": {},
   "outputs": [],
   "source": [
    "plt.imshow(jnp.abs(jnp.fft.fftshift(v_hmc_samples[N_mc_samples-2,:,:,0]))); plt.colorbar()"
   ]
  },
  {
   "cell_type": "code",
   "execution_count": null,
   "id": "3d5514b5-1bd7-42fe-ae58-d8cccbc8dbe3",
   "metadata": {},
   "outputs": [],
   "source": [
    "plt.imshow(jnp.abs(jnp.fft.fftshift(v_hmc_mean[:,:,0]))); plt.colorbar()"
   ]
  },
  {
   "cell_type": "code",
   "execution_count": null,
   "id": "1eb57ab7-cb80-48b4-9caf-49b607f27237",
   "metadata": {},
   "outputs": [],
   "source": [
    "#plt.imshow(jnp.abs(jnp.fft.fftshift(v_rec[:,:,0]))); plt.colorbar()"
   ]
  },
  {
   "cell_type": "code",
   "execution_count": null,
   "id": "1a284821-ae63-4b4b-86fd-b074c5dd5586",
   "metadata": {},
   "outputs": [],
   "source": [
    "v_hmc_r = jnp.real(jnp.fft.fftshift(jnp.fft.ifftn(v_hmc_mean)))\n",
    "mip_z(v_hmc_r)\n",
    "plt.colorbar()"
   ]
  },
  {
   "cell_type": "code",
   "execution_count": null,
   "id": "e6688af6-2dc1-4aa3-a28c-a4dcd8308dc7",
   "metadata": {},
   "outputs": [],
   "source": [
    "with mrcfile.new('../data/cryodrgn/v_hmc_mean_alpha1e-9_correct_ang_sh.mrc', overwrite=True) as mrc:\n",
    "    mrc.set_data(v_hmc_r.astype(np.float32))"
   ]
  },
  {
   "cell_type": "code",
   "execution_count": null,
   "id": "4e101b68-0fb7-4f5b-b9df-7dc623992943",
   "metadata": {},
   "outputs": [],
   "source": [
    "v_hmc_mean_l, x_grid_l = rescale_larger_grid(v_hmc_mean, x_grid, 320)\n",
    "v_hmc_rl = jnp.real(jnp.fft.fftshift(jnp.fft.ifftn(v_hmc_mean_l)))\n",
    "mip_z(v_hmc_rl)\n",
    "plt.colorbar()"
   ]
  },
  {
   "cell_type": "code",
   "execution_count": null,
   "id": "cae976fc-d334-47aa-96c4-50a07809291a",
   "metadata": {},
   "outputs": [],
   "source": [
    "with mrcfile.new('../data/cryodrgn/v_hmc_mean_alpha1e-9_320_correct_ang_sh.mrc', overwrite=True) as mrc:\n",
    "    mrc.set_data(v_hmc_rl.astype(np.float32))\n",
    "    \n"
   ]
  },
  {
   "cell_type": "code",
   "execution_count": null,
   "id": "4034ed23-cda7-4d2f-9c5c-2266884219d4",
   "metadata": {},
   "outputs": [],
   "source": [
    "file = open('../data/cryodrgn/angles_rec', 'wb')\n",
    "pickle.dump(angles_rec, file)\n",
    "file.close()\n",
    "\n",
    "file3 = open('../data/cryodrgn/shifts_rec','wb')\n",
    "pickle.dump(shifts_rec, file3)\n",
    "file3.close()"
   ]
  },
  {
   "cell_type": "code",
   "execution_count": null,
   "id": "10b51e6e-8ea7-4cea-812c-9e8d42b4b961",
   "metadata": {},
   "outputs": [],
   "source": [
    "with open('../data/cryodrgn5000/angles_rec', 'rb') as file:\n",
    "    # Call load method to deserialze\n",
    "    angles_rec2 = pickle.load(file)\n",
    "    \n",
    "with open('../data/cryodrgn5000/shifts_rec', 'rb') as file:\n",
    "    # Call load method to deserialze\n",
    "    shifts_rec2 = pickle.load(file)\n",
    "    \n",
    "with open('../data/cryodrgn5000/angles_rec_img_idx', 'rb') as file:\n",
    "    # Call load method to deserialze\n",
    "    idxrand2 = pickle.load(file)    \n",
    "    "
   ]
  },
  {
   "cell_type": "code",
   "execution_count": null,
   "id": "7fed2bda-8cce-450b-8c89-1893d248f92d",
   "metadata": {},
   "outputs": [],
   "source": [
    "jnp.sum(jnp.abs(angles_rec2 - angles_rec))\n",
    "jnp.sum(jnp.abs(shifts_rec2 - shifts_rec))\n",
    "jnp.sum(jnp.abs(idxrand2 - idxrand))"
   ]
  },
  {
   "cell_type": "markdown",
   "id": "6d51a14e-a8b4-4bfb-98ad-5c15d37be3ab",
   "metadata": {},
   "source": [
    "### MCMC shifts"
   ]
  },
  {
   "cell_type": "code",
   "execution_count": null,
   "id": "c3011976-2c5b-411a-b436-23d205ac85b1",
   "metadata": {},
   "outputs": [],
   "source": [
    "@jax.jit\n",
    "def rotate_and_interpolate_iter(v, angles):\n",
    "    return jax.vmap(rotate_and_interpolate, in_axes=(None,0,None,None))(v*mask, angles, x_grid, x_grid)\n"
   ]
  },
  {
   "cell_type": "code",
   "execution_count": null,
   "id": "ff546206-829e-4974-9f0b-41400ed2e489",
   "metadata": {},
   "outputs": [],
   "source": [
    "proj = rotate_and_interpolate_iter(v_hmc_mean, angles)"
   ]
  },
  {
   "cell_type": "code",
   "execution_count": null,
   "id": "b245893e-b80c-4619-acff-0444cae8fc4e",
   "metadata": {},
   "outputs": [],
   "source": [
    "N_samples_shifts = 2\n",
    "\n",
    "\n",
    "params_shifts = {'v':v_hmc_mean, 'proj':proj}\n",
    "\n",
    "t0 = time.time()\n",
    "_, r_samples_shifts, samples_shifts = mcmc(key, proposal_func_shifts, shifts, N_samples_shifts, params_shifts, N, 1, verbose = True)\n",
    "shifts = samples_shifts[N_samples_shifts-2]\n"
   ]
  },
  {
   "cell_type": "code",
   "execution_count": null,
   "id": "e2597644-5b24-4591-bdaa-3446a3b1b036",
   "metadata": {},
   "outputs": [],
   "source": [
    "px*nx"
   ]
  },
  {
   "cell_type": "code",
   "execution_count": null,
   "id": "e132ba0e-7d25-454f-bc00-891a4d8c66fa",
   "metadata": {},
   "outputs": [],
   "source": [
    "plt.scatter(shifts[:,0], shifts[:,1])"
   ]
  },
  {
   "cell_type": "code",
   "execution_count": null,
   "id": "4abe0882-a27a-490d-a353-8cd17802aff0",
   "metadata": {},
   "outputs": [],
   "source": [
    "jnp.max(shifts)"
   ]
  },
  {
   "cell_type": "code",
   "execution_count": null,
   "id": "c524ba64-dfe1-48b1-a007-979c00ff8d82",
   "metadata": {},
   "outputs": [],
   "source": [
    "jnp.min(shifts)"
   ]
  },
  {
   "cell_type": "markdown",
   "id": "d2dfcaaa-808e-46f2-9119-621dc90c1db0",
   "metadata": {},
   "source": [
    "### CG - choosing $\\alpha$"
   ]
  },
  {
   "cell_type": "code",
   "execution_count": null,
   "id": "56f2dc50-bdfd-40ee-82f4-9de5ef72c44d",
   "metadata": {},
   "outputs": [],
   "source": [
    "centre = (0,0,0)\n",
    "#radius = 0.045\n",
    "radius = 0.093\n",
    "mask = create_3d_mask(x_grid, centre, radius)\n",
    "mask2d = mask[:,:,0]\n",
    "\n",
    "plt.imshow(jnp.fft.fftshift(mask2d)); plt.colorbar()"
   ]
  },
  {
   "cell_type": "markdown",
   "id": "5608b4e1-01ed-4468-acce-5932578bdaa9",
   "metadata": {},
   "source": [
    "First, the slice function and the data fidelity function (i.e. the loss function with $\\alpha=0$):"
   ]
  },
  {
   "cell_type": "code",
   "execution_count": null,
   "id": "2e4dde53-3913-4a4d-93b2-45241183622e",
   "metadata": {},
   "outputs": [],
   "source": [
    "slice_func,slice_func_array, slice_func_array_angles = get_slice_funcs(project, x_grid, mask, \"tri\")\n",
    "fid_func, fid_func_batched, fid_func_sum, _ = get_loss_funcs(slice_func, alpha = 0)"
   ]
  },
  {
   "cell_type": "markdown",
   "id": "fd70032f-a25f-4d4a-8550-cda8944374db",
   "metadata": {},
   "source": [
    "The noise"
   ]
  },
  {
   "cell_type": "code",
   "execution_count": null,
   "id": "6043916c-e4e7-4aa3-ac88-970705ab6590",
   "metadata": {},
   "outputs": [],
   "source": [
    "print(\"sigma noise min =\", jnp.min(sigma_noise))\n",
    "print(\"sigma noise max =\", jnp.max(sigma_noise))\n",
    "print(\"sigma noise mean =\", jnp.mean(sigma_noise))\n",
    "\n",
    "#sigma_noise = jnp.max(sigma_noise)*jnp.ones(sigma_noise.shape)\n",
    "plt.imshow(jnp.fft.fftshift(sigma_noise.reshape([nx,nx]))); plt.colorbar()"
   ]
  },
  {
   "cell_type": "code",
   "execution_count": null,
   "id": "e67b5adc-fbb3-49a1-b54e-9b1b52690f1e",
   "metadata": {},
   "outputs": [],
   "source": [
    "imgs_f_m = imgs_f * mask2d.reshape(-1)"
   ]
  },
  {
   "cell_type": "code",
   "execution_count": null,
   "id": "83358361-ec88-49fc-8f41-8d3fc33aade1",
   "metadata": {},
   "outputs": [],
   "source": [
    "N_iter = 50100\n",
    "eps = 1e-4\n",
    "#eps = 1e-5\n",
    "#eps = 1e-3\n",
    "#eps = 1e-6\n",
    "v0 = jnp.zeros([nx,nx,nx])* 1j\n",
    "#alphas = [1.1e-6, 1e-5, 1e-4, 1e-3, 1e-2, 1e-1, 1e0, 1e1, 1e2, 1e3]\n",
    "#alphas = [1e-10, 1e-9, 1e-8]\n",
    "alphas = [1e-8]\n",
    "vcgs = []\n",
    "fids = []\n",
    "regs = []\n",
    "losss = []\n",
    "angles_cg = angles"
   ]
  },
  {
   "cell_type": "code",
   "execution_count": null,
   "id": "d3bfd6ef-e55e-4aa2-b744-92999fcc46d5",
   "metadata": {},
   "outputs": [],
   "source": [
    "N_alpha = len(alphas)\n",
    "for alpha in alphas[:N_alpha]:\n",
    "    t0 = time.time()\n",
    "    print('alpha =', alpha)\n",
    "    \n",
    "    loss_func, loss_func_batched, loss_func_sum, _ = get_loss_funcs(slice_func, alpha = alpha)\n",
    "    grad_loss_volume, grad_loss_volume_sum = get_grad_v_funcs(loss_func, loss_func_sum)\n",
    "    \n",
    "    AA, Ab = get_cg_vol_ops(grad_loss_volume_sum, angles_cg, shifts, ctf_params, imgs_f_m, v0.shape, sigma_noise)\n",
    "    vcg, _ = conjugate_gradient(AA, Ab, v0, N_iter, eps, verbose = True)\n",
    "    \n",
    "    fid = 2*fid_func_sum(vcg, angles_cg, shifts, ctf_params, imgs_f_m, sigma_noise)/(nx*nx)\n",
    "    reg = l2sq(vcg)/(nx*nx*nx)\n",
    "    loss = loss_func_sum(vcg, angles_cg, shifts, ctf_params, imgs_f_m, sigma_noise)/(nx*nx)\n",
    "    \n",
    "    vcgs.append(vcg)\n",
    "    fids.append(fid)\n",
    "    regs.append(reg)\n",
    "    losss.append(loss)\n",
    "    \n",
    "    print(\"  fid =\", fid)\n",
    "    print(\"  reg =\", reg)\n",
    "    print(\"  loss =\", loss)\n",
    "    \n",
    "    print(\"  Time =\", time.time() - t0)\n",
    "    \n",
    "vcgs = jnp.array(vcgs)\n",
    "fids = jnp.array(fids)\n",
    "regs = jnp.array(regs)\n",
    "losss = jnp.array(losss)\n",
    "alphas = jnp.array(alphas)\n",
    "\n",
    "alpha_idx = jnp.argmin(fids)"
   ]
  },
  {
   "cell_type": "code",
   "execution_count": null,
   "id": "76ee0514-318a-401a-90d1-6a167d29a183",
   "metadata": {},
   "outputs": [],
   "source": [
    "plt.semilogx(alphas, fids)\n",
    "plt.semilogx(alphas, regs)\n",
    "plt.semilogx(alphas, losss)\n",
    "plt.legend(['fid', 'reg', 'fid+reg'])"
   ]
  },
  {
   "cell_type": "code",
   "execution_count": null,
   "id": "3167989d-d69f-4772-9ae1-665ef800b503",
   "metadata": {},
   "outputs": [],
   "source": [
    "plt.plot(fids)"
   ]
  },
  {
   "cell_type": "code",
   "execution_count": null,
   "id": "16bd534d-ea4d-4718-99bb-961761029617",
   "metadata": {},
   "outputs": [],
   "source": [
    "plt.semilogy(regs)"
   ]
  },
  {
   "cell_type": "markdown",
   "id": "8a87faf4-a561-4e74-8ece-041b634e532c",
   "metadata": {},
   "source": [
    "Pixel-wise loss for the best reconstruction:"
   ]
  },
  {
   "cell_type": "code",
   "execution_count": null,
   "id": "5d719829-944c-434a-a44c-ce415a4c83c4",
   "metadata": {},
   "outputs": [],
   "source": [
    "mask.shape"
   ]
  },
  {
   "cell_type": "code",
   "execution_count": null,
   "id": "fcbe112e-2caa-42a9-a84d-fc3862fd6b25",
   "metadata": {},
   "outputs": [],
   "source": [
    "def pixel_wise_fid_fun(v, slice_func_array, angles, shifts, ctf_params, imgs, sigma):\n",
    "    err = slice_func_array(v, angles, shifts, ctf_params) - imgs\n",
    "    return jnp.mean(jnp.real(jnp.conj(err)*err), axis = 0)/(2*sigma**2)\n",
    "    #return jnp.mean(jnp.real(jnp.conj(err)*err), axis = 0)/2"
   ]
  },
  {
   "cell_type": "code",
   "execution_count": null,
   "id": "67a6d9ca-9014-41bd-8818-f404b64cc91f",
   "metadata": {},
   "outputs": [],
   "source": [
    "alphas[alpha_idx]"
   ]
  },
  {
   "cell_type": "code",
   "execution_count": null,
   "id": "2b4fc776-943d-4cfb-96c8-2408ef921eeb",
   "metadata": {},
   "outputs": [],
   "source": [
    "sigma_noise1 = jnp.ones(sigma_noise.shape)"
   ]
  },
  {
   "cell_type": "code",
   "execution_count": null,
   "id": "be6fe317-0988-4e6b-a2da-aa5eec094fdf",
   "metadata": {},
   "outputs": [],
   "source": [
    "pw_fid = pixel_wise_fid_fun(vcgs[0], slice_func_array, angles, shifts, ctf_params, imgs_f_m, sigma_noise1)\n",
    "plt.imshow(jnp.fft.fftshift(pw_fid.reshape([nx,nx]))); plt.colorbar()"
   ]
  },
  {
   "cell_type": "markdown",
   "id": "6036fa4d-db57-43c5-aaaf-4e58a1a18452",
   "metadata": {},
   "source": [
    "Pixel-wise loss for the ZERO volume:"
   ]
  },
  {
   "cell_type": "code",
   "execution_count": null,
   "id": "739ad76f-ebee-4890-8d65-d84c36ffbbd7",
   "metadata": {},
   "outputs": [],
   "source": [
    "pw_fid0 = pixel_wise_fid_fun(jnp.zeros(v0.shape), slice_func_array, angles_rec, shifts, ctf_params, imgs_f_m, sigma_noise1)\n",
    "plt.imshow(jnp.fft.fftshift(pw_fid0.reshape([nx,nx]))); plt.colorbar()"
   ]
  },
  {
   "cell_type": "code",
   "execution_count": null,
   "id": "d8556022-d53c-44b6-b86f-b849373a8d48",
   "metadata": {},
   "outputs": [],
   "source": [
    "alpha_idx = jnp.argmin(fids)\n",
    "print(alpha_idx)"
   ]
  },
  {
   "cell_type": "code",
   "execution_count": null,
   "id": "a655641b-efbf-4332-80ae-07db98b309e3",
   "metadata": {},
   "outputs": [],
   "source": [
    "#alpha_idx = 2"
   ]
  },
  {
   "cell_type": "code",
   "execution_count": null,
   "id": "6a9898c6-0e22-47c6-9036-091e98187d82",
   "metadata": {},
   "outputs": [],
   "source": [
    "print(alphas[alpha_idx])\n",
    "plt.imshow(jnp.abs(jnp.fft.fftshift(vcgs[alpha_idx][:,0,:]))); plt.colorbar()"
   ]
  },
  {
   "cell_type": "code",
   "execution_count": null,
   "id": "5ab7640e-7f0e-4967-8097-171718e99f9d",
   "metadata": {},
   "outputs": [],
   "source": [
    "img_idx = 100\n",
    "s0 = slice_func(vcgs[alpha_idx], angles_cg[img_idx], shifts[img_idx], ctf_params[img_idx])\n",
    "plt.imshow(jnp.fft.fftshift(jnp.abs(s0).reshape(nx,nx))); plt.colorbar()"
   ]
  },
  {
   "cell_type": "code",
   "execution_count": null,
   "id": "aaf9f6f9-543e-462b-b895-2238d08a4c1d",
   "metadata": {},
   "outputs": [],
   "source": [
    "plt.imshow(jnp.fft.fftshift(jnp.abs(imgs_f[img_idx]).reshape(nx,nx))); plt.colorbar()"
   ]
  },
  {
   "cell_type": "code",
   "execution_count": null,
   "id": "6a2afe7a-0e19-4961-931c-4bd8246df8a4",
   "metadata": {},
   "outputs": [],
   "source": [
    "plt.imshow(jnp.fft.fftshift(jnp.abs(s0 - imgs_f[img_idx]).reshape(nx,nx))); plt.colorbar()"
   ]
  },
  {
   "cell_type": "code",
   "execution_count": null,
   "id": "1e077aad-e12a-49cc-8ebf-e28b032b7f5b",
   "metadata": {},
   "outputs": [],
   "source": [
    "vr_rec = jnp.real(jnp.fft.fftshift(jnp.fft.ifftn(v_rec)))\n",
    "mip_z(vr_rec)\n",
    "plt.colorbar()\n",
    "plt.title('Reconstruction MIP')"
   ]
  },
  {
   "cell_type": "code",
   "execution_count": null,
   "id": "26858cf7-2389-4aa7-9de7-744f6591bd60",
   "metadata": {},
   "outputs": [],
   "source": [
    "vcg_r = jnp.real(jnp.fft.fftshift(jnp.fft.ifftn(vcgs[alpha_idx])))\n",
    "mip_z(vcg_r)\n",
    "plt.colorbar()\n",
    "plt.title('Reconstruction MIP')\n"
   ]
  },
  {
   "cell_type": "code",
   "execution_count": null,
   "id": "1ff82d68-f69b-4273-88f0-df50ffa376ac",
   "metadata": {},
   "outputs": [],
   "source": [
    "with mrcfile.new('../data/reconstruction_data_32_cg_alpha.mrc', overwrite=True) as mrc:\n",
    "    mrc.set_data(vcg_r.astype(np.float32))"
   ]
  },
  {
   "cell_type": "markdown",
   "id": "0cbbf1ce-06e1-48e7-9674-fc9b9718a1e9",
   "metadata": {},
   "source": [
    "### All images are the same, with different scalings (corresponding to different orders of $\\alpha$)"
   ]
  },
  {
   "cell_type": "code",
   "execution_count": null,
   "id": "5afd02e3-de8f-431d-b495-9e485a2c31ca",
   "metadata": {},
   "outputs": [],
   "source": [
    "vcgs_s = vcgs[:,:,0,0]\n",
    "vcgs_s.shape"
   ]
  },
  {
   "cell_type": "code",
   "execution_count": null,
   "id": "65af20d4-d875-43c1-97a4-5c625130a046",
   "metadata": {},
   "outputs": [],
   "source": [
    "plt.plot(jnp.abs(vcgs_s[0]))\n",
    "plt.plot(jnp.abs(vcgs_s[1])*9)\n",
    "plt.plot(jnp.abs(vcgs_s[2])*90)\n",
    "plt.plot(jnp.abs(vcgs_s[3])*900)\n",
    "plt.plot(jnp.abs(vcgs_s[6])*9e5)\n",
    "plt.plot(jnp.abs(vcgs_s[8])*9e7)\n",
    "plt.plot(jnp.abs(vcgs_s[10])*9e8)"
   ]
  },
  {
   "cell_type": "markdown",
   "id": "b653e42f-ee51-4e2a-8550-89ba39074caa",
   "metadata": {},
   "source": [
    "### FSC, orientations, standard deviation for each voxel etc"
   ]
  },
  {
   "cell_type": "code",
   "execution_count": null,
   "id": "b3023626-4344-4cc3-8eef-4698a410b17e",
   "metadata": {},
   "outputs": [],
   "source": [
    "vcg1 = vcgs[0]\n",
    "vcg2 = vcgs[6]"
   ]
  },
  {
   "cell_type": "code",
   "execution_count": null,
   "id": "74ebdf61-c0f8-47bb-94e9-0d1d5fcfada7",
   "metadata": {},
   "outputs": [],
   "source": [
    "res, fsc, shell_points = calc_fsc(vcg1, vcg2, x_grid)"
   ]
  },
  {
   "cell_type": "code",
   "execution_count": null,
   "id": "10b0b78f-b87f-417d-a943-02fb1c6ac351",
   "metadata": {},
   "outputs": [],
   "source": [
    "points_v_tri = points_orientations_tri(angles, x_grid[1].astype(jnp.int64), number_of_batches = 1000)\n",
    "#points_v_nn = points_orientations_nn(angles[:1000], x_grid[1])"
   ]
  },
  {
   "cell_type": "code",
   "execution_count": null,
   "id": "968e4598-0813-4bf0-acac-d06f82e1c01b",
   "metadata": {},
   "outputs": [],
   "source": [
    "plt.imshow(jnp.fft.fftshift(points_v_tri[:,:,0])); plt.colorbar()"
   ]
  },
  {
   "cell_type": "code",
   "execution_count": null,
   "id": "3872bce6-0669-4919-b565-a26ec47da87c",
   "metadata": {},
   "outputs": [],
   "source": [
    "res_spu, spu_tri = shell_points_used(points_v_tri, x_grid)"
   ]
  },
  {
   "cell_type": "code",
   "execution_count": null,
   "id": "686771d8-585d-4ef5-b2c2-3ff54cc1fe53",
   "metadata": {},
   "outputs": [],
   "source": [
    "plt.plot(res, fsc)\n",
    "plt.plot(res_spu, spu_tri)\n",
    "plt.hlines([0.143, 0.5], xmin=min(res), xmax=max(res), colors = ['gray'], linestyles=['dashed'])\n",
    "plt.legend(['FSC', 'fraction shell points used', '0.143, 0.5'])\n",
    "#plt.title('Clustered angles')"
   ]
  },
  {
   "cell_type": "code",
   "execution_count": null,
   "id": "0dd23093-9459-4557-bf7f-ad96e33ae3b8",
   "metadata": {},
   "outputs": [],
   "source": [
    "plt.imshow((jnp.sqrt(jnp.abs(jnp.fft.fftshift(points_v_tri[0,:,:]*mask[0,:,:]))))); plt.colorbar()"
   ]
  },
  {
   "cell_type": "code",
   "execution_count": null,
   "id": "921cfd97-8491-4343-b850-ff9ad2edb4a0",
   "metadata": {},
   "outputs": [],
   "source": [
    "plt.imshow((jnp.sqrt(jnp.abs(jnp.fft.fftshift(points_v_tri[:,0,:]*mask[:,0,:]))))); plt.colorbar()"
   ]
  },
  {
   "cell_type": "code",
   "execution_count": null,
   "id": "5ff30552-3b7d-4296-a0be-9d363ce7a52b",
   "metadata": {},
   "outputs": [],
   "source": [
    "plt.imshow((jnp.sqrt(jnp.abs(jnp.fft.fftshift(points_v_tri[:,:,0]*mask[:,:,0]))))); plt.colorbar()"
   ]
  },
  {
   "cell_type": "code",
   "execution_count": null,
   "id": "303963a2-0e0f-4f99-8b5c-ea7eca8988aa",
   "metadata": {},
   "outputs": [],
   "source": [
    "vones = jnp.ones(vcg1.shape)\n",
    "omega = AA(vones)\n",
    "omega = 1/omega"
   ]
  },
  {
   "cell_type": "code",
   "execution_count": null,
   "id": "4ae0ec7d-e67d-4d63-8b80-5d762754a4ea",
   "metadata": {},
   "outputs": [],
   "source": [
    "jnp.min(jnp.abs(omega))"
   ]
  },
  {
   "cell_type": "code",
   "execution_count": null,
   "id": "651b69ae-9392-4bbd-b161-ea76ebba88a7",
   "metadata": {},
   "outputs": [],
   "source": [
    "plt.title(\"Standard deviation\")\n",
    "plt.imshow(jnp.abs(jnp.fft.fftshift(omega[0,:,:]))); plt.colorbar()"
   ]
  },
  {
   "cell_type": "code",
   "execution_count": null,
   "id": "e1dade3d-f251-4a09-8f0e-fbff944ddc01",
   "metadata": {},
   "outputs": [],
   "source": [
    "plt.imshow(jnp.abs(jnp.fft.fftshift(omega[:,0,:]))); plt.colorbar()"
   ]
  },
  {
   "cell_type": "code",
   "execution_count": null,
   "id": "b0bbdc7a-5449-4b69-b965-ec033ff5f56c",
   "metadata": {},
   "outputs": [],
   "source": [
    "plt.imshow(jnp.abs(jnp.fft.fftshift(omega[:,:,0]))); plt.colorbar()"
   ]
  },
  {
   "cell_type": "markdown",
   "id": "4c35c276-7388-4850-b5c3-7e99d32b62e3",
   "metadata": {},
   "source": [
    "### SGD"
   ]
  },
  {
   "cell_type": "markdown",
   "id": "b9aea732-7d83-4cf1-b5da-26a3eb90996f",
   "metadata": {},
   "source": [
    "### Preconditioner"
   ]
  },
  {
   "cell_type": "code",
   "execution_count": null,
   "id": "d5483136-f3e1-4731-b9f7-e70aaa8edda4",
   "metadata": {},
   "outputs": [],
   "source": [
    "P = get_preconditioner(x_grid) * mask\n",
    "#P = jnp.sqrt(P) /jnp.max(P) + 1e-6\n",
    "#P = jnp.sqrt(P)\n",
    "P = P**0.15\n",
    "P = P /jnp.max(P)+ 1e-6\n",
    "plt.imshow(jnp.fft.fftshift(P[:,:,0]));plt.colorbar()\n",
    "print(P[0,0,0])\n",
    "print(jnp.max(P))\n",
    "print(jnp.min(P))"
   ]
  },
  {
   "cell_type": "markdown",
   "id": "c11dc228-2154-4ca5-a1c9-6d1bd477335e",
   "metadata": {},
   "source": [
    "### Points/orientations preconditioner"
   ]
  },
  {
   "cell_type": "code",
   "execution_count": null,
   "id": "579ca5a9-ce93-41b6-a533-b4305403f4d9",
   "metadata": {},
   "outputs": [],
   "source": [
    "P = points_v_tri +1\n",
    "P = 1/P * mask + 1e-12\n",
    "P = P/jnp.max(P) * mask\n",
    "plt.imshow(jnp.fft.fftshift(P[:,:,0]));plt.colorbar()\n",
    "print(P[0,0,0])\n",
    "print(jnp.max(P))\n",
    "print(jnp.min(P))"
   ]
  },
  {
   "cell_type": "markdown",
   "id": "cf884677-9d3f-476b-9e38-9f7eeebc6d07",
   "metadata": {},
   "source": [
    "### $\\alpha$ tuning"
   ]
  },
  {
   "cell_type": "code",
   "execution_count": null,
   "id": "bd2cf7ef-f772-4d65-8507-6a4a9bddfebe",
   "metadata": {},
   "outputs": [],
   "source": [
    "mask2d = mask[:,:,0]\n",
    "imgs_f_m = imgs_f * mask2d.reshape(-1)"
   ]
  },
  {
   "cell_type": "code",
   "execution_count": null,
   "id": "48294e95-d1e6-4bcc-8b24-20ab96657410",
   "metadata": {},
   "outputs": [],
   "source": [
    "N_epoch = 501000\n",
    "batch_size = 300\n",
    "#learning_rate = 100000\n",
    "learning_rate = 10000 * 100\n",
    "#learning_rate = 10000 # for \"large\" alpha\n",
    "\n",
    "P = None\n",
    "\n",
    "#eps = 3e-5\n",
    "#eps = 1e-3\n",
    "#eps = 1e-9\n",
    "eps = 1e-8\n",
    "v0 = jnp.zeros([nx,nx,nx])* 1j\n",
    "#alphas = 1/100 * jnp.array([1e-9, 1e-8, 1e-7, 1.1e-6, 1e-5, 1e-4, 1e-3, 1e-2, 1e-1]) #, 1e0, 1e1, 1e2, 1e3]\n",
    "#alphas = [1e-10, 1e-9, 1e-8, 1e-7]\n",
    "alphas = [1e-9]\n",
    "\n",
    "angles_gd = angles"
   ]
  },
  {
   "cell_type": "code",
   "execution_count": null,
   "id": "a48a7ed8-6bf1-4afa-948b-ee8a73780ff3",
   "metadata": {},
   "outputs": [],
   "source": [
    "vgds = []\n",
    "fids = []\n",
    "regs = []\n",
    "losss = []\n",
    "\n",
    "#N_alpha = 4\n",
    "for alpha in alphas:\n",
    "    t0 = time.time()\n",
    "    print('alpha =', alpha)\n",
    "    \n",
    "    slice_func,slice_func_array, slice_func_array_angles = get_slice_funcs(project, x_grid, mask, \"tri\")\n",
    "    loss_func, loss_func_batched, loss_func_sum, _ = get_loss_funcs(slice_func, alpha = alpha)\n",
    "\n",
    "    grad_loss_volume, grad_loss_volume_sum = get_grad_v_funcs(loss_func, loss_func_sum)\n",
    "\n",
    "    sgd_grad_func = get_sgd_vol_ops(grad_loss_volume_sum, angles_gd, shifts, ctf_params, imgs_f_m, sigma_noise)\n",
    "    \n",
    "    vgd = sgd(sgd_grad_func, N, v0, learning_rate, N_epoch, batch_size, P, eps, verbose = True)\n",
    "    \n",
    "    fid = 2*fid_func_sum(vgd, angles_gd, shifts, ctf_params, imgs_f_m, sigma_noise)/(nx*nx)\n",
    "    reg = l2sq(vgd)/(nx*nx*nx)\n",
    "    loss = loss_func_sum(vgd, angles_gd, shifts, ctf_params, imgs_f_m, sigma_noise)/(nx*nx)\n",
    "    \n",
    "    vgds.append(vgd)\n",
    "    fids.append(fid)\n",
    "    regs.append(reg)\n",
    "    losss.append(loss)\n",
    "    \n",
    "    print(\"  fid =\", fid)\n",
    "    print(\"  reg =\", reg)\n",
    "    print(\"  loss =\", loss)\n",
    "    \n",
    "    print(\"  Time =\", time.time() - t0)\n",
    "    \n",
    "vgds = jnp.array(vgds)\n",
    "fids = jnp.array(fids)\n",
    "regs = jnp.array(regs)\n",
    "losss = jnp.array(losss)\n",
    "alphas = jnp.array(alphas)\n",
    "\n",
    "alpha_idx = jnp.argmin(fids)"
   ]
  },
  {
   "cell_type": "code",
   "execution_count": null,
   "id": "73b4b216-861e-48bb-b70d-8bdeab9eaccf",
   "metadata": {},
   "outputs": [],
   "source": [
    "vgds = jnp.array(vgds)\n",
    "fids = jnp.array(fids)\n",
    "regs = jnp.array(regs)\n",
    "losss = jnp.array(losss)\n",
    "alphas = jnp.array(alphas)\n",
    "\n",
    "alpha_idx = jnp.argmin(fids)\n",
    "\n",
    "N_alpha= len(fids)"
   ]
  },
  {
   "cell_type": "code",
   "execution_count": null,
   "id": "ee200b41-2dd7-43dd-8a4d-0958e3c89325",
   "metadata": {},
   "outputs": [],
   "source": [
    "plt.semilogx(alphas[:N_alpha], fids)\n",
    "plt.semilogx(alphas[:N_alpha], regs)\n",
    "plt.semilogx(alphas[:N_alpha], losss)\n",
    "plt.legend(['fid', 'reg', 'fid+reg'])"
   ]
  },
  {
   "cell_type": "code",
   "execution_count": null,
   "id": "63272519-7915-4fce-ab3d-0c66115c010f",
   "metadata": {},
   "outputs": [],
   "source": [
    "plt.plot(fids)"
   ]
  },
  {
   "cell_type": "code",
   "execution_count": null,
   "id": "9485f2c0-ac8c-440a-99e4-4b0b700d5358",
   "metadata": {},
   "outputs": [],
   "source": [
    "plt.semilogy(regs)"
   ]
  },
  {
   "cell_type": "code",
   "execution_count": null,
   "id": "71209414-fdb8-464d-a847-61b735a44ebb",
   "metadata": {},
   "outputs": [],
   "source": [
    "alphas[2]"
   ]
  },
  {
   "cell_type": "code",
   "execution_count": null,
   "id": "1307609d-8f7d-40ad-99d6-2154e10a76f7",
   "metadata": {},
   "outputs": [],
   "source": [
    "#alpha_idx= 3\n",
    "#alpha_idx=5\n",
    "#alpha_idx=0"
   ]
  },
  {
   "cell_type": "code",
   "execution_count": null,
   "id": "6b3f0cec-6169-4535-b2ed-94b67dc4e30a",
   "metadata": {},
   "outputs": [],
   "source": [
    "pw_fid = pixel_wise_fid_fun(vgds[alpha_idx], slice_func_array, angles_gd, shifts, ctf_params, imgs_f_m, sigma_noise)\n",
    "plt.imshow(jnp.fft.fftshift(pw_fid.reshape([nx,nx]))); plt.colorbar()\n",
    "print(jnp.max(pw_fid))"
   ]
  },
  {
   "cell_type": "code",
   "execution_count": null,
   "id": "a04862fc-6e44-4ba8-a569-1400bc259db9",
   "metadata": {},
   "outputs": [],
   "source": [
    "pw_fid0 = pixel_wise_fid_fun(jnp.zeros(vgd.shape), slice_func_array, angles_gd, shifts, ctf_params, imgs_f_m, sigma_noise)\n",
    "plt.imshow(jnp.fft.fftshift(pw_fid0.reshape([nx,nx]))); plt.colorbar()\n",
    "print(jnp.max(pw_fid))"
   ]
  },
  {
   "cell_type": "code",
   "execution_count": null,
   "id": "2fea2c71-daa6-4675-ab19-53e7196f3259",
   "metadata": {},
   "outputs": [],
   "source": [
    "plt.imshow(jnp.fft.fftshift(jnp.abs(vgds[alpha_idx,:,0,:]))); plt.colorbar()"
   ]
  },
  {
   "cell_type": "code",
   "execution_count": null,
   "id": "fd903912-7cd6-4db6-ba3f-992ed65268c6",
   "metadata": {},
   "outputs": [],
   "source": [
    "#plt.imshow(jnp.fft.fftshift(jnp.abs(v_rec[:,0,:]))); plt.colorbar()"
   ]
  },
  {
   "cell_type": "code",
   "execution_count": null,
   "id": "47048d3f-f9ae-438e-97f6-969dce8181ce",
   "metadata": {},
   "outputs": [],
   "source": [
    "#err = vgds[1] - v_rec\n",
    "#plt.imshow(jnp.fft.fftshift((jnp.abs(err[:,0,:]))*mask[:,0,:])); plt.colorbar()"
   ]
  },
  {
   "cell_type": "code",
   "execution_count": null,
   "id": "ba16436e-da15-4efa-b0e2-1b92884d0697",
   "metadata": {},
   "outputs": [],
   "source": [
    "vgds_s = vgds[:,:,0,0]\n",
    "vgds_s.shape\n",
    "\n",
    "plt.plot(jnp.abs(vgds_s[0]))\n",
    "plt.plot(jnp.abs(vgds_s[1])*1.1)\n",
    "plt.plot(jnp.abs(vgds_s[2])*2)\n",
    "plt.plot(jnp.abs(vgds_s[3])*7)\n"
   ]
  },
  {
   "cell_type": "code",
   "execution_count": null,
   "id": "74a34d92-aed0-41fa-a6d4-93116e66969e",
   "metadata": {},
   "outputs": [],
   "source": [
    "vr_sgd = jnp.real(jnp.fft.fftshift(jnp.fft.ifftn(vgds[alpha_idx])))\n",
    "mip_z(vr_sgd)\n",
    "plt.colorbar()\n",
    "plt.title('Reconstruction MIP')"
   ]
  },
  {
   "cell_type": "code",
   "execution_count": null,
   "id": "a5ab9704-c98b-4c50-a29e-bfd66a4ecd6f",
   "metadata": {},
   "outputs": [],
   "source": [
    "vr_rec = jnp.real(jnp.fft.fftshift(jnp.fft.ifftn(v_rec)))\n",
    "mip_z(vr_rec)\n",
    "plt.colorbar()\n",
    "plt.title('Reconstruction MIP')"
   ]
  },
  {
   "cell_type": "code",
   "execution_count": null,
   "id": "4427a131-cec4-4e68-94cc-07b7b0ba85a4",
   "metadata": {},
   "outputs": [],
   "source": [
    "with mrcfile.new('../data/reconstruction_data_32_sgd_alpha.mrc', overwrite=True) as mrc:\n",
    "    mrc.set_data(vr_sgd.astype(np.float32))"
   ]
  },
  {
   "cell_type": "code",
   "execution_count": null,
   "id": "a5b871bb-9c0a-41cd-a077-94a75fa16b04",
   "metadata": {},
   "outputs": [],
   "source": [
    "idx = 100"
   ]
  },
  {
   "cell_type": "code",
   "execution_count": null,
   "id": "c2d6cffb-403f-449b-ab12-55124f797da5",
   "metadata": {},
   "outputs": [],
   "source": [
    "slicegd = slice_func(vgds[alpha_idx], angles_gd[idx], shifts[idx], ctf_params[idx])\n",
    "#slicerec = slice_func(v_rec, angles_gd[idx], shifts[idx], ctf_params[idx])"
   ]
  },
  {
   "cell_type": "code",
   "execution_count": null,
   "id": "7c52a12a-5b43-44d8-ade7-3a215588c440",
   "metadata": {},
   "outputs": [],
   "source": [
    "plt.imshow(jnp.abs(jnp.fft.fftshift(slicegd.reshape([nx,nx])))); plt.colorbar()"
   ]
  },
  {
   "cell_type": "code",
   "execution_count": null,
   "id": "322eb689-8112-4891-8508-86768604ae87",
   "metadata": {},
   "outputs": [],
   "source": [
    "#plt.imshow(jnp.abs(jnp.fft.fftshift(slicerec.reshape([32,32])))); plt.colorbar()"
   ]
  },
  {
   "cell_type": "code",
   "execution_count": null,
   "id": "c5c483bc-c8b4-465a-8e7c-804565988ccc",
   "metadata": {},
   "outputs": [],
   "source": [
    "plt.imshow(jnp.abs(jnp.fft.fftshift(imgs_f[idx].reshape([nx,nx])))); plt.colorbar()"
   ]
  },
  {
   "cell_type": "markdown",
   "id": "eb4b22b9-984c-4bf7-8c90-3fcc3580f268",
   "metadata": {},
   "source": [
    "### C3 Symmetry"
   ]
  },
  {
   "cell_type": "code",
   "execution_count": null,
   "id": "297ae91b-3799-4dd1-a1a6-d68fa85ab7a3",
   "metadata": {},
   "outputs": [],
   "source": [
    "def split(arr):\n",
    "    N = arr.shape[0]\n",
    "    N2 = jnp.floor(N/2).astype(jnp.int32)\n",
    "\n",
    "    arr_train = arr[:N2]\n",
    "    arr_test  = arr[N2:]\n",
    "    \n",
    "    return arr_train, arr_test\n",
    "\n",
    "def split_and_triple(arr):\n",
    "    N = arr.shape[0]\n",
    "    N2 = jnp.floor(N/2).astype(jnp.int32)\n",
    "\n",
    "    arr_train = jnp.tile(arr[:N2], reps=(3,1))\n",
    "    arr_test  = jnp.tile(arr[N2:], reps=(3,1))\n",
    "    \n",
    "    return arr_train, arr_test\n",
    "\n",
    "def split_and_triple_angles(a):\n",
    "    N = a.shape[0]\n",
    "    N2 = jnp.floor(N/2).astype(jnp.int32)\n",
    "\n",
    "    a_train1 = a[:N2]\n",
    "    a_train2 = a_train1.copy()\n",
    "    a_train3 = a_train1.copy()\n",
    "\n",
    "    a_train2[:,2] += 2*jnp.pi/3\n",
    "    a_train3[:,2] += 4*jnp.pi/3\n",
    "   \n",
    "    a_train = jnp.concatenate([a_train1, a_train2, a_train3], axis=0)\n",
    "    \n",
    "    a_test1  = a[N2:]\n",
    "    a_test2 = a_test1.copy()\n",
    "    a_test3 = a_test1.copy()\n",
    "\n",
    "    a_test2[:,2] += 2*jnp.pi/3\n",
    "    a_test3[:,2] += 4*jnp.pi/3\n",
    "    \n",
    "    a_test = jnp.concatenate([a_test1, a_test2, a_test3], axis=0)\n",
    "\n",
    "\n",
    "    return a_train, a_test"
   ]
  },
  {
   "cell_type": "code",
   "execution_count": null,
   "id": "a9b08a62-3656-4618-ad44-ea089d8f9ca0",
   "metadata": {},
   "outputs": [],
   "source": [
    "imgs_train, imgs_test = split_and_triple(imgs_f)\n",
    "shifts_train, shifts_test = split_and_triple(shifts)\n",
    "ctf_params_train, ctf_params_test = split_and_triple(ctf_params)\n",
    "angles_train, angles_test = split_and_triple_angles(angles)\n",
    "N = imgs_train.shape[0]\n",
    "\n",
    "#plot_angles(angles[:1000])"
   ]
  },
  {
   "cell_type": "code",
   "execution_count": null,
   "id": "35d6719a-3865-4067-88ea-c42a544d8455",
   "metadata": {},
   "outputs": [],
   "source": [
    "#imgs_train, imgs_test = split(imgs_f)\n",
    "#shifts_train, shifts_test = split(shifts)\n",
    "#ctf_params_train, ctf_params_test = split(ctf_params)\n",
    "#angles_train, angles_test = split(angles)\n",
    "#N = imgs_train.shape[0]\n",
    "#plot_angles(angles_train)"
   ]
  },
  {
   "cell_type": "markdown",
   "id": "b5a2651a-a9ea-4c87-b93f-bb3c52c9ab79",
   "metadata": {},
   "source": [
    "### Volume residual"
   ]
  },
  {
   "cell_type": "code",
   "execution_count": null,
   "id": "1f17b225-e926-4285-80b8-f46823bdecfd",
   "metadata": {},
   "outputs": [],
   "source": [
    "plt.plot(angles[:,1])"
   ]
  },
  {
   "cell_type": "code",
   "execution_count": null,
   "id": "1f04939c-8ad1-419c-9ec3-3d54ff6039c6",
   "metadata": {},
   "outputs": [],
   "source": [
    "p1 = np.random.randn(N) * 0 #np.pi/20\n",
    "p2 = np.random.randn(N) * 0 #np.pi/40 + np.pi/2\n",
    "p3 = np.random.randn(N) * np.pi/10\n",
    "\n",
    "angles_train_pert = angles_train + jnp.array([p1,p2,p3]).transpose()"
   ]
  },
  {
   "cell_type": "code",
   "execution_count": null,
   "id": "0240a163-0d88-42c0-b8de-bb40c46e70af",
   "metadata": {},
   "outputs": [],
   "source": [
    "N"
   ]
  },
  {
   "cell_type": "code",
   "execution_count": null,
   "id": "06ecd769-13ba-4100-a7ea-3766ecf932ef",
   "metadata": {},
   "outputs": [],
   "source": [
    "idx = 102\n",
    "aa = jnp.array([angles_train[idx], angles_train_pert[idx]])\n",
    "plot_angles(aa)"
   ]
  },
  {
   "cell_type": "code",
   "execution_count": null,
   "id": "25945698-218b-49c8-b2c6-c670c10f4fcd",
   "metadata": {},
   "outputs": [],
   "source": [
    "#angles_rec = angles_train\n",
    "angles_rec = angles_train_pert"
   ]
  },
  {
   "cell_type": "code",
   "execution_count": null,
   "id": "7fa61dea-bcbb-46ea-9d6d-6f422286a253",
   "metadata": {},
   "outputs": [],
   "source": [
    "alpha = 1e-9\n",
    "N_train = jnp.floor(N/2).astype(jnp.int32) #3000\n",
    "\n",
    "radius = 0.0925\n",
    "mask = create_3d_mask(x_grid, (0,0,0),radius)\n",
    "#mip_z(jnp.fft.fftshift(mask)); plt.colorbar()\n",
    "M = 1/jnp.max(sigma_noise)**2 * jnp.ones([nx, nx, nx])\n",
    "\n",
    "slice_func, slice_func_array, slice_func_array_angles = get_slice_funcs(project, x_grid, mask, \"tri\")\n",
    "loss_func, loss_func_batched, loss_func_sum, _ = get_loss_funcs(slice_func, alpha = alpha)\n",
    "grad_loss_volume, grad_loss_volume_sum = get_grad_v_funcs(loss_func, loss_func_sum)\n",
    "\n",
    "logPi = lambda v : -loss_func_sum(v, angles_rec, shifts_train, ctf_params_train, imgs_train, sigma_noise)\n",
    "gradLogPi = lambda v : -jnp.conj(grad_loss_volume_sum(v, angles_rec, shifts_train, ctf_params_train, imgs_train, sigma_noise))\n"
   ]
  },
  {
   "cell_type": "code",
   "execution_count": null,
   "id": "6835e051-93f9-4bd3-b40a-9bdad599d714",
   "metadata": {},
   "outputs": [],
   "source": [
    "N_mc_samples = 101\n",
    "key = random.PRNGKey(int(jnp.floor(np.random.rand()*1000)))\n",
    "\n",
    "v0 = jnp.zeros([nx,nx,nx])*1j\n",
    "dt_list = jnp.array([0.01, 0.1, 0.5, 5, 10])\n",
    "proposal_params_hmc = {\"dt_list\" : dt_list, \"L\" : 10, \"M\" : M, \"gradLogPi\" : gradLogPi}\n",
    "\n",
    "t0 = time.time()\n",
    "v_rec_pert, r_hmc, v_hmc_samples = mcmc(key, N_mc_samples, proposal_hmc, logPi, v0, proposal_params_hmc)\n",
    "print(time.time()-t0)"
   ]
  },
  {
   "cell_type": "code",
   "execution_count": null,
   "id": "0155ee9b-0d3c-4f93-ad25-a909ae9f3f9a",
   "metadata": {},
   "outputs": [],
   "source": [
    "N"
   ]
  },
  {
   "cell_type": "code",
   "execution_count": null,
   "id": "14781f64-152b-454a-9b94-1d7e36c9b1ce",
   "metadata": {},
   "outputs": [],
   "source": [
    "print(jnp.mean(r_hmc))\n",
    "plt.plot(r_hmc)"
   ]
  },
  {
   "cell_type": "code",
   "execution_count": null,
   "id": "da1fb0b2-6f9a-4cd8-88f9-465a4b6021b8",
   "metadata": {},
   "outputs": [],
   "source": [
    "plt.imshow(jnp.abs(jnp.fft.fftshift(v_rec_pert[:,:,0]))); plt.colorbar()"
   ]
  },
  {
   "cell_type": "code",
   "execution_count": null,
   "id": "25991101-2266-4593-8641-d3e22bf14d2b",
   "metadata": {},
   "outputs": [],
   "source": [
    "v_rec_r = jnp.real(jnp.fft.fftshift(jnp.fft.ifftn(v_rec_pert)))\n",
    "mip_z(v_rec_r)\n",
    "plt.colorbar()"
   ]
  },
  {
   "cell_type": "code",
   "execution_count": null,
   "id": "5d207beb-8e1f-4dfb-a640-6bbd79e99cbe",
   "metadata": {},
   "outputs": [],
   "source": [
    "with mrcfile.new('../data/3dfsc/v_rec_vol_hmc_64_triple_pert.mrc', overwrite=True) as mrc:\n",
    "    mrc.set_data(v_rec_r.astype(np.float32))"
   ]
  },
  {
   "cell_type": "code",
   "execution_count": null,
   "id": "33b34db6-e84c-4bcf-8dec-769ed5af58b6",
   "metadata": {},
   "outputs": [],
   "source": [
    "plt.imshow(jnp.fft.fftshift(sigma_noise.reshape([64,64])))"
   ]
  },
  {
   "cell_type": "code",
   "execution_count": null,
   "id": "38545940-2181-4138-8b51-f19f0ae14617",
   "metadata": {},
   "outputs": [],
   "source": [
    "N_batches = 60000 \n",
    "#v_resid = get_volume_residual(v_rec, angles[N_train:N_train+2000], shifts[N_train:N_train+2000], ctf_params[N_train:N_train+2000], imgs_f[N_train:N_train+2000], sigma_noise, x_grid, slice_func_array, N_batches)\n",
    "v_resid_pert = get_volume_residual(v_rec_pert, angles_test, shifts_test, ctf_params_test, imgs_test, sigma_noise, x_grid, slice_func_array, N_batches)\n",
    "                          "
   ]
  },
  {
   "cell_type": "code",
   "execution_count": null,
   "id": "d5a14f60-7048-40e6-b88b-5bdf8d8eff5f",
   "metadata": {},
   "outputs": [],
   "source": [
    "plt.imshow(jnp.fft.fftshift(v_resid_pert[:,:,0]*mask[:,:,0])); plt.colorbar()"
   ]
  },
  {
   "cell_type": "code",
   "execution_count": null,
   "id": "3c085f81-ddd3-45d0-a494-ef67f927ab14",
   "metadata": {},
   "outputs": [],
   "source": [
    "v_resid_print = jnp.fft.fftshift(v_resid_pert*mask)\n",
    "with mrcfile.new('../data/3dfsc/v_resid_64_pert.mrc', overwrite=True) as mrc:\n",
    "    mrc.set_data(v_resid_print.astype(np.float32))"
   ]
  },
  {
   "cell_type": "code",
   "execution_count": null,
   "id": "4c049b36-2330-4039-9f60-97ea20d4f264",
   "metadata": {},
   "outputs": [],
   "source": [
    "v_resid_zero = get_volume_residual(jnp.zeros(v_rec.shape), angles_test, shifts_test, ctf_params_test, imgs_test, sigma_noise, x_grid, slice_func_array, N_batches)\n"
   ]
  },
  {
   "cell_type": "code",
   "execution_count": null,
   "id": "1ba9f44a-bcbf-45e2-9624-39a3304403f0",
   "metadata": {},
   "outputs": [],
   "source": [
    "plt.imshow(jnp.fft.fftshift(v_resid_zero[:,:,0]*mask[:,:,0])); plt.colorbar()"
   ]
  },
  {
   "cell_type": "code",
   "execution_count": null,
   "id": "f454e6fa-4a87-4151-a62b-7dab3f4219aa",
   "metadata": {},
   "outputs": [],
   "source": [
    "v_resid_zero_print = jnp.fft.fftshift(v_resid_zero*mask)\n",
    "with mrcfile.new('../data/3dfsc/v_resid_64_zero.mrc', overwrite=True) as mrc:\n",
    "    mrc.set_data(v_resid_zero_print.astype(np.float32))"
   ]
  },
  {
   "cell_type": "code",
   "execution_count": null,
   "id": "cde47919-8d17-4a5d-a3ba-e940f205d9bc",
   "metadata": {},
   "outputs": [],
   "source": [
    "v_resid_m = jnp.fft.fftshift(v_resid*mask)\n",
    "v_resid_pert_m = jnp.fft.fftshift(v_resid_pert*mask)\n",
    "v_resid_zero_m = jnp.fft.fftshift(v_resid_zero*mask)"
   ]
  },
  {
   "cell_type": "code",
   "execution_count": null,
   "id": "fc9a3868-97ca-4838-a28b-6808441ee241",
   "metadata": {},
   "outputs": [],
   "source": [
    "jnp.max(v_resid_m)"
   ]
  },
  {
   "cell_type": "code",
   "execution_count": null,
   "id": "9ed7cd60-b86a-4139-9925-c3660d7dbb73",
   "metadata": {},
   "outputs": [],
   "source": [
    "jnp.max(v_resid_zero_m)"
   ]
  },
  {
   "cell_type": "code",
   "execution_count": null,
   "id": "b7e9a304-ab7a-469a-bcbe-5f5ed451cc79",
   "metadata": {},
   "outputs": [],
   "source": [
    "print(jnp.max(v_resid_m))\n",
    "print(jnp.max(v_resid_pert_m))\n",
    "print(jnp.max(v_resid_zero_m))\n",
    "plot_vmax = jnp.max(jnp.array([v_resid_m, v_resid_pert_m, v_resid_zero_m]))\n",
    "#plot_vmax = jnp.max(jnp.array([v_resid_m, v_resid_zero_m]))\n",
    "\n",
    "print(plot_vmax)"
   ]
  },
  {
   "cell_type": "code",
   "execution_count": null,
   "id": "bb2803a0-fb14-4edb-ad58-93e7da381eec",
   "metadata": {},
   "outputs": [],
   "source": [
    "plt.imshow(v_resid_m[:,:,32], vmin=0, vmax=plot_vmax)\n",
    "plt.colorbar()\n",
    "#plt.title('True angles')\n",
    "\n",
    "#plt.savefig('v_resid_slice.png')"
   ]
  },
  {
   "cell_type": "code",
   "execution_count": null,
   "id": "d8c7090a-674c-4b0a-9a0e-7a894d1f4115",
   "metadata": {},
   "outputs": [],
   "source": [
    "plt.imshow(v_resid_pert_m[:,:,32], vmin=0, vmax=plot_vmax)\n",
    "plt.colorbar()\n",
    "#plt.title('Perturbed angles')\n",
    "#plt.savefig('v_resid_pert_slice.png')"
   ]
  },
  {
   "cell_type": "code",
   "execution_count": null,
   "id": "97359d99-1a7c-469f-af52-54bc16de3cde",
   "metadata": {},
   "outputs": [],
   "source": [
    "plt.imshow(v_resid_zero_m[:,:,32], vmin=0, vmax=plot_vmax)\n",
    "plt.colorbar()\n",
    "#plt.title('Perturbed angles')\n",
    "#plt.savefig('v_resid_zero_slice.png')"
   ]
  },
  {
   "cell_type": "markdown",
   "id": "1dc3f961-605d-4317-be1e-b8651ea36d48",
   "metadata": {},
   "source": [
    "### Plots"
   ]
  },
  {
   "cell_type": "markdown",
   "id": "24fde75f-3ee8-4ee7-a5e0-4cf431a4ca68",
   "metadata": {},
   "source": [
    "### Separate the projection step"
   ]
  },
  {
   "cell_type": "code",
   "execution_count": null,
   "id": "8501a6fd-a8cc-4975-94a9-56a943b97abf",
   "metadata": {},
   "outputs": [],
   "source": [
    "# Force garbage collection when it throws OOM on GPU for small amount.\n",
    "#import gc\n",
    "#gc.collect()"
   ]
  },
  {
   "cell_type": "code",
   "execution_count": null,
   "id": "df297af9-4976-49ce-8b3f-3ce40c801910",
   "metadata": {},
   "outputs": [],
   "source": [
    "from src.residual import *\n",
    "N_batches = 60000\n",
    "\n",
    "resid = get_3d_residuals_list(v_rec, angles_rec[N_train:5000], shifts[N_train:], ctf_params[N_train:], imgs_f[N_train:], slice_func_array)\n",
    "coords = get_3d_coords_list(angles_rec[N_train:5000], x_grid)\n",
    "\n",
    "v_resid2 = get_volume_residual(coords, resid, x_grid, N_batches)\n",
    "\n"
   ]
  },
  {
   "cell_type": "code",
   "execution_count": null,
   "id": "3e630ff7-1f32-44f5-a6cf-bf5eb6a3119e",
   "metadata": {},
   "outputs": [],
   "source": [
    "plt.imshow(jnp.abs(jnp.fft.fftshift(v_resid2[:,:,0]*mask[:,:,0]))); plt.colorbar()"
   ]
  },
  {
   "cell_type": "code",
   "execution_count": null,
   "id": "b94713e9-a643-4732-8b5f-8dafcdeda772",
   "metadata": {},
   "outputs": [],
   "source": [
    "jnp.sum(jnp.abs(v_resid-v_resid2))"
   ]
  },
  {
   "cell_type": "code",
   "execution_count": null,
   "id": "0bf55246-f099-4bc7-a7d1-00360b714f49",
   "metadata": {},
   "outputs": [],
   "source": [
    "resid.shape"
   ]
  },
  {
   "cell_type": "code",
   "execution_count": null,
   "id": "a327d100-b47e-4643-9d4e-7820c52a8c30",
   "metadata": {},
   "outputs": [],
   "source": [
    "coords.shape"
   ]
  },
  {
   "cell_type": "code",
   "execution_count": null,
   "id": "35a6a6e8-8e15-4169-912f-e0c8d9a6373d",
   "metadata": {},
   "outputs": [],
   "source": [
    "resid = get_3d_residuals_list(v_rec, angles_rec[N_train:5000], shifts[N_train:], ctf_params[N_train:], imgs_f[N_train:], slice_func_array)\n",
    "coords = get_3d_coords_list(angles_rec[N_train:5000], x_grid)\n",
    "\n",
    "v_resid2 = get_volume_residual(coords, resid, x_grid, N_batches)\n",
    "\n",
    "\n"
   ]
  },
  {
   "cell_type": "code",
   "execution_count": null,
   "id": "cf3b76bf-1a1f-4cf0-9f55-e8d81e90e05e",
   "metadata": {},
   "outputs": [],
   "source": [
    "from src.residual import *"
   ]
  },
  {
   "cell_type": "code",
   "execution_count": null,
   "id": "3e767ba6-48c0-4a31-83aa-0b1f3bfa9506",
   "metadata": {},
   "outputs": [],
   "source": [
    "N_batches = 60000\n",
    "v_resid2 = get_v_resid_from_v_batch(v_rec, angles_rec[N_train:N_train+2], shifts[N_train:N_train+2], ctf_params[N_train:N_train+2], imgs_f[N_train:N_train+2], slice_func_array, x_grid, N_batches)\n"
   ]
  },
  {
   "cell_type": "code",
   "execution_count": null,
   "id": "0f4e020a-a6fe-4379-8769-b70c597a9e64",
   "metadata": {},
   "outputs": [],
   "source": [
    "plt.imshow(jnp.abs(jnp.fft.fftshift(v_resid2[:,:,0]*mask[:,:,0]))); plt.colorbar()\n",
    "\n",
    "\n"
   ]
  },
  {
   "cell_type": "code",
   "execution_count": null,
   "id": "fd1f91b5-c297-4b74-a51d-0661c8499391",
   "metadata": {},
   "outputs": [],
   "source": [
    "slice_func_array_jit = jax.jit(slice_func_array)"
   ]
  },
  {
   "cell_type": "code",
   "execution_count": null,
   "id": "effd5377-b2a6-44e1-bbaf-349f03465a32",
   "metadata": {},
   "outputs": [],
   "source": [
    "jnp.sum(jnp.abs(v_resid-v_resid2))"
   ]
  }
 ],
 "metadata": {
  "kernelspec": {
   "display_name": "Python 3 (ipykernel)",
   "language": "python",
   "name": "python3"
  },
  "language_info": {
   "codemirror_mode": {
    "name": "ipython",
    "version": 3
   },
   "file_extension": ".py",
   "mimetype": "text/x-python",
   "name": "python",
   "nbconvert_exporter": "python",
   "pygments_lexer": "ipython3",
   "version": "3.10.2"
  }
 },
 "nbformat": 4,
 "nbformat_minor": 5
}
