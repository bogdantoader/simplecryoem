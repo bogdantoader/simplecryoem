{
 "cells": [
  {
   "cell_type": "markdown",
   "id": "2159f1b6-0294-4f90-90a3-179163a7696b",
   "metadata": {},
   "source": [
    "# Reconstruction with real data"
   ]
  },
  {
   "cell_type": "code",
   "execution_count": 1,
   "id": "249cb249-f43e-4cc4-88c0-fa2ec6131c81",
   "metadata": {},
   "outputs": [],
   "source": [
    "%load_ext autoreload\n",
    "%autoreload 2\n",
    "import site\n",
    "import sys\n",
    "import time\n",
    "site.addsitedir('..')\n",
    "from jax.config import config\n",
    "\n",
    "config.update(\"jax_enable_x64\", True)"
   ]
  },
  {
   "cell_type": "code",
   "execution_count": 2,
   "id": "ef60f1df-7cc5-42bc-afbd-23704b6ad46c",
   "metadata": {},
   "outputs": [],
   "source": [
    "import numpy as np\n",
    "import jax.numpy as jnp\n",
    "from  matplotlib import pyplot as plt\n",
    "from src.utils import *\n",
    "from src.projection import project_spatial, project, rotate_z0\n",
    "from src.interpolate import *\n",
    "from src.jaxops import *\n",
    "from src.fsc import *\n",
    "from src.algorithm import *\n",
    "from src.ab_initio import ab_initio, ab_initio_mcmc\n",
    "from src.residual import get_volume_residual\n",
    "import jax\n",
    "\n",
    "import mrcfile\n",
    "\n",
    "plt.rcParams[\"figure.figsize\"]=6,6"
   ]
  },
  {
   "cell_type": "markdown",
   "id": "df9a7930-a14d-44b0-a010-1aa34701159b",
   "metadata": {},
   "source": [
    "### Read the data"
   ]
  },
  {
   "cell_type": "code",
   "execution_count": 3,
   "id": "0148b4e0-c03b-42c9-969d-329e330149d1",
   "metadata": {},
   "outputs": [
    {
     "name": "stderr",
     "output_type": "stream",
     "text": [
      "/home/bt387/project/2021_CryoEMSolver7/external/pyem/pyem/star.py:531: FutureWarning: Columnar iteration over characters will be deprecated in future releases.\n",
      "  df[UCSF.IMAGE_INDEX], df[UCSF.IMAGE_PATH] = \\\n",
      "/home/bt387/project/2021_CryoEMSolver7/external/pyem/pyem/star.py:539: FutureWarning: Columnar iteration over characters will be deprecated in future releases.\n",
      "  df[UCSF.IMAGE_ORIGINAL_INDEX], df[UCSF.IMAGE_ORIGINAL_PATH] = \\\n"
     ]
    },
    {
     "name": "stdout",
     "output_type": "stream",
     "text": [
      "load_data: number of partcles:  105247\n",
      "0\n",
      "10\n",
      "20\n",
      "30\n",
      "40\n",
      "50\n",
      "60\n",
      "70\n",
      "80\n",
      "90\n",
      "100\n",
      "110\n",
      "120\n",
      "130\n",
      "140\n",
      "150\n",
      "160\n",
      "170\n",
      "180\n",
      "190\n",
      "200\n",
      "210\n",
      "220\n",
      "230\n",
      "240\n",
      "250\n",
      "260\n",
      "270\n",
      "280\n",
      "290\n",
      "300\n",
      "310\n",
      "320\n",
      "330\n",
      "340\n",
      "350\n",
      "360\n",
      "370\n",
      "380\n",
      "390\n",
      "400\n",
      "410\n",
      "420\n",
      "430\n",
      "440\n",
      "450\n",
      "460\n",
      "470\n",
      "480\n",
      "490\n",
      "500\n",
      "510\n",
      "520\n",
      "530\n",
      "540\n",
      "550\n",
      "560\n",
      "570\n",
      "580\n",
      "590\n",
      "600\n",
      "610\n",
      "620\n",
      "630\n",
      "640\n",
      "650\n",
      "660\n",
      "670\n",
      "680\n",
      "690\n",
      "700\n",
      "710\n",
      "720\n",
      "730\n",
      "740\n",
      "750\n",
      "760\n",
      "770\n",
      "780\n",
      "790\n",
      "800\n",
      "810\n",
      "820\n",
      "830\n",
      "840\n",
      "850\n",
      "860\n",
      "870\n",
      "880\n",
      "890\n",
      "900\n",
      "910\n",
      "920\n",
      "930\n",
      "940\n",
      "950\n",
      "960\n",
      "970\n",
      "980\n",
      "990\n",
      "1000\n",
      "1010\n",
      "1020\n",
      "1030\n",
      "1040\n",
      "1050\n",
      "1060\n",
      "1070\n",
      "1080\n",
      "load_data: data loaded, time:  178.378023147583\n"
     ]
    }
   ],
   "source": [
    "#data_dir = \"/project/lederman/rrl28/share/cryoem_data/v3/CaltechWeaver/\"\n",
    "#star_file = \"job550_particles_subsamp5_10000_30_40_2.star\"\n",
    "#star_file = \"job550_particles_roy40k.star\"\n",
    "#star_file = \"job550_particles.star\"\n",
    "\n",
    "\n",
    "#data_dir = \"/project/lederman/rrl28/share/cryoem_data/v3/Frost/eIF2B/job042/\"\n",
    "#star_file = \"AUG11_99Kparticles_updatedGCTF.star\"\n",
    "\n",
    "#data_dir = \"/project/lederman/rrl28/share/CryoEMDataSmall/RelionSample/relion30_tutorial_precalculated_results/\"\n",
    "#star_file = \"Extract/job020/particles.star\"\n",
    "\n",
    "#data_dir = \"/gpfs/gibbs/pi/lederman/dge5/RELION_TUTORIAL_SET/PrecalculatedResults/\"\n",
    "#star_file = \"/Extract/job018/particles.star\"\n",
    "\n",
    "#data_dir = \"/gpfs/gibbs/pi/lederman/3DFSC_data/tilted/Particle-Stack/\"\n",
    "#star_file = \"T40_HA_130K-Equalized_run-data.star\"\n",
    "\n",
    "data_dir = \"/gpfs/gibbs/pi/lederman/EMPIAR-10028/\"\n",
    "star_file = \"shiny_2sets.star\"\n",
    "\n",
    "params0, imgs0 = load_data(data_dir, star_file, load_imgs = True, fourier = False)\n",
    "ctf_params0 = params0[\"ctf_params\"]\n",
    "pixel_size0 = params0[\"pixel_size\"]\n",
    "angles0 = params0[\"angles\"]\n",
    "shifts0 = params0[\"shifts\"]\n"
   ]
  },
  {
   "cell_type": "code",
   "execution_count": 4,
   "id": "5cd80002-e2a5-49bc-8c1a-86140c0e7a30",
   "metadata": {},
   "outputs": [
    {
     "name": "stdout",
     "output_type": "stream",
     "text": [
      "(105247, 360, 360)\n",
      "(105247,)\n",
      "(105247, 3)\n",
      "(105247, 2)\n",
      "(105247, 9)\n"
     ]
    }
   ],
   "source": [
    "print(imgs0.shape)\n",
    "print(pixel_size0.shape)\n",
    "print(angles0.shape)\n",
    "print(shifts0.shape)\n",
    "print(ctf_params0.shape)\n",
    "\n",
    "#plt.imshow(np.abs(jnp.fft.fftshift(imgs_f0[101]))); plt.colorbar()"
   ]
  },
  {
   "cell_type": "markdown",
   "id": "4824f1cf-bdc8-4978-a222-2b18bfbb982a",
   "metadata": {},
   "source": [
    "### Only keep N points at random (to avoid out of memory error)"
   ]
  },
  {
   "cell_type": "code",
   "execution_count": 5,
   "id": "38b090ae-2ff4-4eb5-9116-5b7ed872b212",
   "metadata": {},
   "outputs": [],
   "source": [
    "N = 4000 # imgs0.shape[0]\n",
    "#idxrand = np.random.permutation(130000)[:N]\n",
    "idxrand = np.random.permutation(N)[:N]\n",
    "\n",
    "imgs0 = imgs0[idxrand]\n",
    "pixel_size = pixel_size0[idxrand]\n",
    "angles = angles0[idxrand]\n",
    "shifts = shifts0[idxrand]\n",
    "ctf_params = ctf_params0[idxrand]"
   ]
  },
  {
   "cell_type": "markdown",
   "id": "958252f6-07aa-4b7a-acda-d48356551504",
   "metadata": {},
   "source": [
    "### Some angle filtering"
   ]
  },
  {
   "cell_type": "code",
   "execution_count": 6,
   "id": "ccb4f85e-87b2-4c58-9419-64822f22c25a",
   "metadata": {},
   "outputs": [],
   "source": [
    "#idx = jnp.abs(angles0[:,2]) < jnp.pi/4\n",
    "#imgs_f = imgs_f0[idx]\n",
    "#pixel_size = pixel_size0[idx]\n",
    "#angles = angles0[idx]\n",
    "#shifts = shifts0[idx]\n",
    "#ctf_params = ctf_params0[idx]\n",
    "\n",
    "#idx2 = jnp.abs(angles[:,1]) < jnp.pi/3\n",
    "#imgs_f = imgs_f[idx2]\n",
    "#pixel_size = pixel_size[idx2]\n",
    "#angles = angles[idx2]\n",
    "#shifts = shifts[idx2]\n",
    "#ctf_params = ctf_params[idx2]\n",
    "\n",
    "#plot_angles(angles)"
   ]
  },
  {
   "cell_type": "markdown",
   "id": "60d987de-dcb4-46f6-80e2-ccc2531d2d25",
   "metadata": {},
   "source": [
    "### Take the FFT of the images"
   ]
  },
  {
   "cell_type": "code",
   "execution_count": null,
   "id": "34c7c2de-ad13-4655-b4f6-5677d20d946f",
   "metadata": {},
   "outputs": [],
   "source": [
    "t0 = time.time()\n",
    "imgs_f = np.array([np.fft.fft2(np.fft.ifftshift(img)) for img in imgs0])\n",
    "print(time.time()-t0)"
   ]
  },
  {
   "cell_type": "markdown",
   "id": "d87107d0-c791-4cf3-8029-7bfe91cff39a",
   "metadata": {},
   "source": [
    "### Create the grids"
   ]
  },
  {
   "cell_type": "code",
   "execution_count": null,
   "id": "7c9e3707-c21a-4cb0-bd76-d7f67cf72bea",
   "metadata": {},
   "outputs": [],
   "source": [
    "# Assume the pixel size is the same for all images\n",
    "nx = imgs_f.shape[-1]\n",
    "px = pixel_size[0]\n",
    "N = imgs_f.shape[0]\n",
    "\n",
    "x_grid = create_grid(nx, px)\n",
    "y_grid = x_grid\n",
    "z_grid = x_grid\n",
    "print(x_grid)"
   ]
  },
  {
   "cell_type": "code",
   "execution_count": null,
   "id": "8303bf35-9226-4133-9242-9bfe3847befd",
   "metadata": {},
   "outputs": [],
   "source": [
    "plt.imshow(np.abs(jnp.fft.fftshift(imgs_f[103]))); plt.colorbar()"
   ]
  },
  {
   "cell_type": "markdown",
   "id": "7f835e79-1419-48a3-97b2-26ba82fb54c1",
   "metadata": {},
   "source": [
    "### Crop images to 32 x 32 "
   ]
  },
  {
   "cell_type": "code",
   "execution_count": null,
   "id": "ac27beb0-6f28-4b24-b7bf-7fb3bbf232ac",
   "metadata": {},
   "outputs": [],
   "source": [
    "nx = 32\n",
    "imgs_f, x_grid = crop_fourier_images(imgs_f, x_grid, nx)\n",
    "\n",
    "y_grid = x_grid\n",
    "z_grid = x_grid\n",
    "print(x_grid)"
   ]
  },
  {
   "cell_type": "markdown",
   "id": "67d8ee78-feab-47c4-a1dc-8448f2aa1f51",
   "metadata": {},
   "source": [
    "### Before further processing, vectorize the images, create mask etc"
   ]
  },
  {
   "cell_type": "code",
   "execution_count": null,
   "id": "2b6ae8e6-094e-4a8e-8c0b-0b2bd35bfd3a",
   "metadata": {},
   "outputs": [],
   "source": [
    "imgs_f = imgs_f.reshape(N, -1)\n",
    "print(imgs_f.shape)"
   ]
  },
  {
   "cell_type": "code",
   "execution_count": null,
   "id": "ec03caac-121f-4bc7-acbb-5e86295ef9a1",
   "metadata": {},
   "outputs": [],
   "source": [
    "plt.imshow(np.abs(jnp.fft.fftshift(imgs_f2[103].reshape(nx,nx)))); plt.colorbar()"
   ]
  },
  {
   "cell_type": "code",
   "execution_count": null,
   "id": "8932c0fd-1bfb-4935-b7b1-086fddb5b4d3",
   "metadata": {},
   "outputs": [],
   "source": [
    "centre = (0,0,0)\n",
    "#radius = 0.045 # for nx=32\n",
    "radius = 0.035\n",
    "#radius = 0.093 # nx-64\n",
    "#radius = 0.093\n",
    "#radius = 0.07 # for nx=64\n",
    "#radius = 0.198 # for nx=128\n",
    "#radius = 0.28 # for nx=256\n",
    "\n",
    "mask = create_3d_mask(x_grid, centre, radius)\n",
    "\n",
    "mip_z(jnp.fft.fftshift(mask)); plt.colorbar()"
   ]
  },
  {
   "cell_type": "markdown",
   "id": "623ae365-578d-4183-9270-767e9731118d",
   "metadata": {},
   "source": [
    "### Estimate the noise"
   ]
  },
  {
   "cell_type": "markdown",
   "id": "0ed7ab42-2e89-4e43-b535-15fb44943f34",
   "metadata": {},
   "source": [
    "First, decide on the dimensions of the empty corners to use for noise estimation:"
   ]
  },
  {
   "cell_type": "code",
   "execution_count": null,
   "id": "c832c018-4d8e-4b3d-a48d-fadd3154c8e8",
   "metadata": {},
   "outputs": [],
   "source": [
    "imgs0.shape"
   ]
  },
  {
   "cell_type": "code",
   "execution_count": null,
   "id": "c4b46e10-590d-42d0-8a83-b3e247a64e94",
   "metadata": {},
   "outputs": [],
   "source": [
    "N_noise = 48\n",
    "plt.imshow(jnp.mean(imgs0[:,:N_noise,:N_noise], axis=0))"
   ]
  },
  {
   "cell_type": "markdown",
   "id": "83e521d1-df81-4060-992e-4215cf43d070",
   "metadata": {},
   "source": [
    "Only use a small subset of the data for noise estimation so the kernel doesn't crash (possibly due to running out of memory)"
   ]
  },
  {
   "cell_type": "code",
   "execution_count": null,
   "id": "5818f456-9d03-4508-afc8-f120a7498c06",
   "metadata": {},
   "outputs": [],
   "source": [
    "sigma_noise_estimated = estimate_noise_imgs(imgs0[:5000], nx_empty = N_noise, nx_final = nx).reshape([nx,nx])\n",
    "plt.imshow(jnp.fft.fftshift(sigma_noise_estimated)); plt.colorbar()\n",
    "plt.title('Estimated noise')"
   ]
  },
  {
   "cell_type": "markdown",
   "id": "ffbaa68b-a550-4f92-bdcd-3da3570f856f",
   "metadata": {},
   "source": [
    "#### A quadratic noise model, fitted on the estimated one, for fun"
   ]
  },
  {
   "cell_type": "code",
   "execution_count": null,
   "id": "e8ec9537-e766-45eb-950c-74439273e017",
   "metadata": {},
   "outputs": [],
   "source": [
    "x_freq = jnp.fft.fftfreq(x_grid[1].astype(np.int64), 1/(x_grid[1] * x_grid[0]))\n",
    "X,Y = jnp.meshgrid(x_freq, x_freq)\n",
    "C = (jnp.max(sigma_noise_estimated)-jnp.min(sigma_noise_estimated))*1.5/jnp.max(X**2+Y**2)\n",
    "sigma_noise_quadratic = jnp.max(sigma_noise_estimated) -(X**2 + Y**2)* C \n",
    "plt.imshow(jnp.fft.fftshift(sigma_noise_quadratic)); plt.colorbar()\n",
    "plt.title('Quadratic noise approximation')"
   ]
  },
  {
   "cell_type": "markdown",
   "id": "840e86cd-af2e-44de-9b36-2957ac4e3ab2",
   "metadata": {},
   "source": [
    "#### Average radially"
   ]
  },
  {
   "cell_type": "code",
   "execution_count": null,
   "id": "75dd93f5-49bc-4506-99a8-09c27c61bea6",
   "metadata": {},
   "outputs": [],
   "source": [
    "sigma_noise_avg = average_radially(sigma_noise_estimated, x_grid)\n",
    "\n",
    "plt.imshow(jnp.fft.fftshift(sigma_noise_avg)); plt.colorbar()"
   ]
  },
  {
   "cell_type": "code",
   "execution_count": null,
   "id": "e21f2a91-4e68-4b16-98f1-8f7475d7a964",
   "metadata": {},
   "outputs": [],
   "source": [
    "plt.imshow(jnp.fft.fftshift(jnp.abs(sigma_noise_avg-sigma_noise_estimated))); plt.colorbar()"
   ]
  },
  {
   "cell_type": "code",
   "execution_count": null,
   "id": "6ce66bf6-8e9b-4f64-aead-6d9754af213e",
   "metadata": {},
   "outputs": [],
   "source": [
    "plt.plot(jnp.fft.fftshift(sigma_noise_estimated[:,0]))\n",
    "plt.plot(jnp.fft.fftshift(sigma_noise_estimated[0,:]))\n",
    "#plt.plot(jnp.fft.fftshift(sigma_noise_quadratic[:,0]))\n",
    "plt.plot(jnp.fft.fftshift(sigma_noise_avg[:,0]))\n",
    "#plt.legend(['estimated - x', 'estimated - y', 'quadratic', 'radially averaged estimated'])\n",
    "plt.legend(['estimated - x', 'estimated - y', 'radially averaged estimated'])"
   ]
  },
  {
   "cell_type": "code",
   "execution_count": null,
   "id": "8983e6ca-d5e7-479f-af42-22081bbb9d57",
   "metadata": {},
   "outputs": [],
   "source": [
    "sigma_noise = sigma_noise_avg.reshape(-1)"
   ]
  },
  {
   "cell_type": "markdown",
   "id": "33d11514-07e4-4a41-b53f-e269e9110af0",
   "metadata": {},
   "source": [
    "### Delete the real images\n",
    "Since we only work with the Fourier ones from now on."
   ]
  },
  {
   "cell_type": "code",
   "execution_count": null,
   "id": "e189f7d3-5e47-4d5c-8bb3-069edcfde086",
   "metadata": {},
   "outputs": [],
   "source": [
    "del(imgs0)\n",
    "#del(imgs)"
   ]
  },
  {
   "cell_type": "code",
   "execution_count": null,
   "id": "1ccbf0ba-5010-4f89-8feb-25cc22e4f6c9",
   "metadata": {},
   "outputs": [],
   "source": [
    "plt.scatter(shifts[:,0], shifts[:,1])"
   ]
  },
  {
   "cell_type": "markdown",
   "id": "b8a77554-0897-48b5-abcd-75ec96ed3fa4",
   "metadata": {},
   "source": [
    "### Ab initio"
   ]
  },
  {
   "cell_type": "code",
   "execution_count": null,
   "id": "5c79c4fc-6e6f-49f2-a6d2-f2953b0e773e",
   "metadata": {},
   "outputs": [],
   "source": [
    "shifts = np.zeros(shifts.shape)"
   ]
  },
  {
   "cell_type": "code",
   "execution_count": null,
   "id": "5ee50aa0-b11f-4135-b1b8-c42ff3689706",
   "metadata": {},
   "outputs": [],
   "source": [
    "type(imgs_f)"
   ]
  },
  {
   "cell_type": "code",
   "execution_count": null,
   "id": "395ac543-e883-489e-b79c-025875e31e95",
   "metadata": {},
   "outputs": [],
   "source": [
    "#old_stdout = sys.stdout\n",
    "#sys.stdout = open('../data/relion/output.txt', 'w')"
   ]
  },
  {
   "cell_type": "code",
   "execution_count": null,
   "id": "4a8b2c75-47da-4346-bc31-f3570f876459",
   "metadata": {},
   "outputs": [],
   "source": [
    "#sys.stdout = sys.__stdout__"
   ]
  },
  {
   "cell_type": "code",
   "execution_count": null,
   "id": "50a01789-f04d-4684-936c-253d37d346ca",
   "metadata": {},
   "outputs": [],
   "source": [
    "#v_rec_int = v_rec\n",
    "#angles_rec_int = angles_rec"
   ]
  },
  {
   "cell_type": "code",
   "execution_count": null,
   "id": "d42811b5-42e0-4b3e-be81-a9d89e5540f1",
   "metadata": {},
   "outputs": [],
   "source": [
    "key = random.PRNGKey(int(jnp.floor(np.random.rand()*1000)))\n",
    "\n",
    "\n",
    "# The number of iterations desn't matter, \n",
    "# since it stops when the volume is nx x nx x nx.\n",
    "N_samples = 40000\n",
    "N_iter = 1000000\n",
    "\n",
    "\n",
    "radius0 = 0.01\n",
    "#radius0 = 0.03\n",
    "alpha = 1e-9  # <--- this is the working one\n",
    "#alpha = 1e-6\n",
    "\n",
    "# The number of cg or sgd iterations also doesn't matter,\n",
    "# since it stops when it reaches the desired accuracy.\n",
    "N_cg_iter = 100000\n",
    "eps_cg = 3e-5\n",
    "\n",
    "N_sgd_iter = 100000\n",
    "batch_size = 300\n",
    "learning_rate = 1e6\n",
    "#learning_rate = 1\n",
    "eps_gd = 1e-8 \n",
    "eps_gd = 2e-8\n",
    "P = None\n",
    "\n",
    "use_sgd = True\n",
    "\n",
    "if use_sgd:\n",
    "    N_vol_iter = N_sgd_iter\n",
    "    eps_vol = eps_gd\n",
    "else:\n",
    "    N_vol_iter = N_cg_iter\n",
    "    eps_vol = eps_cg\n",
    "\n",
    "N_samples_angles = 1000 \n",
    "N_samples_vol = 21    \n",
    "\n",
    "# HMC params\n",
    "#dt = 5\n",
    "dt_list = jnp.array([0.1, 0.5, 1, 5, 10])\n",
    "L = 5\n",
    "\n",
    "vol0 = None\n",
    "angles0 = None\n",
    "#sigma_noise = jnp.ones(sigma_noise.shape)\n",
    "    \n",
    "out_dir = '../data/ribosome/'\n",
    "imgs_f = imgs_f.reshape([N, nx*nx])\n",
    "\n",
    "opt_vol_first = True\n",
    "\n",
    "#v_rec, angles_rec = ab_initio(project, imgs_f, sigma_noise, shifts, ctf_params, x_grid, use_sgd, N_iter, N_vol_iter, learning_rate, batch_size, P, N_samples, radius0, None, alpha, eps_vol, 'tri', True, True, True, out_dir)\n",
    "v_rec, angles_rec, angles_samples, angles_r, v_samples, v_r = ab_initio_mcmc(key, project, imgs_f, sigma_noise, shifts, ctf_params, x_grid, use_sgd, vol0, angles0, N_iter, learning_rate, batch_size, P, N_samples_angles, N_samples_vol, dt_list, L, radius0, None, alpha, eps_vol, 'tri', opt_vol_first, True, True, out_dir)\n",
    "\n"
   ]
  },
  {
   "cell_type": "code",
   "execution_count": null,
   "id": "49ac438f-9bac-4aba-9e48-c64a1eb48f2d",
   "metadata": {},
   "outputs": [],
   "source": [
    "plot_angles(angles[:2000])"
   ]
  },
  {
   "cell_type": "code",
   "execution_count": null,
   "id": "e59b08ba-68fc-4a9f-abc4-89a4d96d65ca",
   "metadata": {},
   "outputs": [],
   "source": [
    "plt.plot(angles_r[:,100])"
   ]
  },
  {
   "cell_type": "code",
   "execution_count": null,
   "id": "131e3357-21aa-451f-9465-688362e988f5",
   "metadata": {},
   "outputs": [],
   "source": [
    "ae = angles_samples[:,3993,:]\n",
    "ae.shape\n",
    "plot_angles(ae)"
   ]
  },
  {
   "cell_type": "code",
   "execution_count": null,
   "id": "4ecd651b-b112-4c01-81ed-0460ab921348",
   "metadata": {},
   "outputs": [],
   "source": [
    "angles_samples.shape"
   ]
  },
  {
   "cell_type": "code",
   "execution_count": null,
   "id": "0b1f2072-205b-4bf3-94b8-32b39a06c60e",
   "metadata": {},
   "outputs": [],
   "source": [
    "angles_samples[:,3993,:]"
   ]
  },
  {
   "cell_type": "code",
   "execution_count": null,
   "id": "ae5d2991-ff0e-45b6-8ab0-391ca0594133",
   "metadata": {},
   "outputs": [],
   "source": [
    "plt.plot(ae[100:,1])"
   ]
  },
  {
   "cell_type": "code",
   "execution_count": null,
   "id": "de5132d1-39c9-4ed4-9f7f-55b49f43e1fd",
   "metadata": {},
   "outputs": [],
   "source": [
    "plt.imshow(jnp.abs(jnp.fft.fftshift(v_samples[0,:,:,0]))); plt.colorbar()"
   ]
  },
  {
   "cell_type": "code",
   "execution_count": null,
   "id": "c2595df4-be11-4c83-ae89-a899c7a4ace2",
   "metadata": {},
   "outputs": [],
   "source": [
    "plt.imshow(jnp.abs(jnp.fft.fftshift(v_samples[20,:,:,0]))); plt.colorbar()"
   ]
  },
  {
   "cell_type": "code",
   "execution_count": null,
   "id": "50a9b079-7078-4e1c-9c69-e0f55827d0ae",
   "metadata": {},
   "outputs": [],
   "source": [
    "plt.imshow(jnp.abs(jnp.fft.fftshift(mask[:,:,0]))); plt.colorbar()"
   ]
  },
  {
   "cell_type": "markdown",
   "id": "246479c4-225f-45f2-9d20-be2650a55b37",
   "metadata": {},
   "source": [
    "### Compare orientations"
   ]
  },
  {
   "cell_type": "code",
   "execution_count": null,
   "id": "32ca6c06-513c-488c-b13f-c021a50d6d8f",
   "metadata": {},
   "outputs": [],
   "source": [
    "get_rot_mat = lambda a : get_rotation_matrix(a[0], a[1], a[2])"
   ]
  },
  {
   "cell_type": "code",
   "execution_count": null,
   "id": "532e1414-ccd9-46cb-8cf5-982ccb3ddd5d",
   "metadata": {},
   "outputs": [],
   "source": [
    "M = jax.vmap(get_rot_mat, in_axes=0)(angles)\n",
    "M_rec = jax.vmap(get_rot_mat, in_axes=0)(angles_rec)"
   ]
  },
  {
   "cell_type": "code",
   "execution_count": null,
   "id": "e43ac9de-79fe-4dfa-b39d-228af8ad9ac2",
   "metadata": {},
   "outputs": [],
   "source": [
    "# C3 symmetry rotations:\n",
    "C1 = get_rotation_matrix(0,0,2*jnp.pi/3)\n",
    "C2 = get_rotation_matrix(0,0,4*jnp.pi/3)"
   ]
  },
  {
   "cell_type": "code",
   "execution_count": null,
   "id": "5ea483c4-88e3-423b-9828-29e163a3a7d0",
   "metadata": {},
   "outputs": [],
   "source": [
    "err0 = jnp.sqrt(jnp.sum((M-M_rec)**2, axis=(1,2)))\n",
    "err1 = jnp.sqrt(jnp.sum((M-M_rec*C1)**2, axis=(1,2)))\n",
    "err2 = jnp.sqrt(jnp.sum((M-M_rec*C2)**2, axis=(1,2)))"
   ]
  },
  {
   "cell_type": "code",
   "execution_count": null,
   "id": "712122d2-8878-4a2c-999c-61c77a920f79",
   "metadata": {},
   "outputs": [],
   "source": [
    "err = jnp.minimum(jnp.minimum(err0,err1), err2)"
   ]
  },
  {
   "cell_type": "code",
   "execution_count": null,
   "id": "e0ad18de-d2c5-4b63-bf5a-cde78927c1c1",
   "metadata": {},
   "outputs": [],
   "source": [
    "theta = 2*jnp.arcsin(err/(2*jnp.sqrt(2)))"
   ]
  },
  {
   "cell_type": "markdown",
   "id": "e9e3f5af-36f8-474b-868a-dc9ecdc13004",
   "metadata": {},
   "source": [
    "### MCMC vol"
   ]
  },
  {
   "cell_type": "code",
   "execution_count": null,
   "id": "5a613bef-0508-45ee-96f5-162ca06e9905",
   "metadata": {},
   "outputs": [],
   "source": [
    "plot_angles(angles[:2000])"
   ]
  },
  {
   "cell_type": "code",
   "execution_count": null,
   "id": "8b4b0f84-09b3-4993-ad52-6ec22c682f88",
   "metadata": {},
   "outputs": [],
   "source": [
    "alpha = 1e-9\n",
    "#alpha = 1e-6\n",
    "\n",
    "#radius = 0.045 # for nx=32\n",
    "radius = 0.0925\n",
    "#radius = 1.6 # for nx=64\n",
    "#radius = 3.2 # for nx=128)\n",
    "mask = create_3d_mask(x_grid, (0,0,0),radius)\n",
    "mip_z(jnp.fft.fftshift(mask)); plt.colorbar()\n",
    "M = 1/jnp.max(sigma_noise)**2 * jnp.ones([nx, nx, nx])\n",
    "\n",
    "slice_func,slice_func_array, slice_func_array_angles = get_slice_funcs(project, x_grid, mask, \"tri\")\n",
    "\n",
    "loss_func, loss_func_batched, loss_func_sum, _ = get_loss_funcs(slice_func, alpha = alpha)\n",
    "grad_loss_volume, grad_loss_volume_sum = get_grad_v_funcs(loss_func, loss_func_sum)\n",
    "\n",
    "\n",
    "logPi = lambda v : -loss_func_sum(v, angles, shifts, ctf_params, imgs_f, sigma_noise)\n",
    "gradLogPi = lambda v : -jnp.conj(grad_loss_volume_sum(v, angles, shifts, ctf_params, imgs_f, sigma_noise))\n",
    "#gradLogPi = lambda v : gradLogPi_split(v, angles_rec, shifts, ctf_params, imgs_f, sigma_noise, 10)\n"
   ]
  },
  {
   "cell_type": "code",
   "execution_count": null,
   "id": "06320f3c-85ed-4c03-b012-f68395f49d66",
   "metadata": {},
   "outputs": [],
   "source": [
    "N_mc_samples = 21\n",
    "key = random.PRNGKey(int(jnp.floor(np.random.rand()*1000)))\n",
    "\n",
    "#v0 = (jnp.array(np.random.randn(nx,nx,nx) + 1j * np.random.randn(nx,nx,nx)) )\n",
    "v0 = jnp.zeros([nx,nx,nx])*1j\n",
    "#v0 = v_rec\n",
    "proposal_params_mala = {\"tau\" : 0.005}\n",
    "\n",
    "dt_list = jnp.array([0.1, 0.5, 5, 10])\n",
    "#dt_list = jnp.array([5])\n",
    "proposal_params_hmc = {\"dt_list\" : dt_list, \"L\" : 10, \"M\" : M, \"gradLogPi\" : gradLogPi}\n",
    "\n",
    "v_hmc_mean, r_hmc, v_hmc_samples = mcmc(key, N_mc_samples, proposal_hmc, logPi, v0, proposal_params_hmc)"
   ]
  },
  {
   "cell_type": "code",
   "execution_count": null,
   "id": "79835c79-f38b-4c5d-9f10-10d41bc36418",
   "metadata": {},
   "outputs": [],
   "source": [
    "print(jnp.mean(r_hmc))\n",
    "plt.plot(r_hmc)"
   ]
  },
  {
   "cell_type": "code",
   "execution_count": null,
   "id": "a04c27e5-59c2-42ff-a0b6-2a3b4e63c7ce",
   "metadata": {},
   "outputs": [],
   "source": [
    "plt.imshow(jnp.abs(jnp.fft.fftshift(v_hmc_samples[N_mc_samples-2,:,:,0]))); plt.colorbar()"
   ]
  },
  {
   "cell_type": "code",
   "execution_count": null,
   "id": "3d5514b5-1bd7-42fe-ae58-d8cccbc8dbe3",
   "metadata": {},
   "outputs": [],
   "source": [
    "plt.imshow(jnp.abs(jnp.fft.fftshift(v_hmc_mean[:,:,0]))); plt.colorbar()"
   ]
  },
  {
   "cell_type": "code",
   "execution_count": null,
   "id": "1eb57ab7-cb80-48b4-9caf-49b607f27237",
   "metadata": {},
   "outputs": [],
   "source": [
    "#plt.imshow(jnp.abs(jnp.fft.fftshift(v_rec[:,:,0]))); plt.colorbar()"
   ]
  },
  {
   "cell_type": "code",
   "execution_count": null,
   "id": "1a284821-ae63-4b4b-86fd-b074c5dd5586",
   "metadata": {},
   "outputs": [],
   "source": [
    "v_hmc_r = jnp.real(jnp.fft.fftshift(jnp.fft.ifftn(v_hmc_mean)))\n",
    "mip_z(v_hmc_r)\n",
    "plt.colorbar()"
   ]
  },
  {
   "cell_type": "code",
   "execution_count": null,
   "id": "e6688af6-2dc1-4aa3-a28c-a4dcd8308dc7",
   "metadata": {},
   "outputs": [],
   "source": [
    "with mrcfile.new('../data/reconstruction_data_v_hmc_mean_list_10_1e-9_ar.mrc', overwrite=True) as mrc:\n",
    "    mrc.set_data(v_hmc_r.astype(np.float32))"
   ]
  },
  {
   "cell_type": "code",
   "execution_count": null,
   "id": "4034ed23-cda7-4d2f-9c5c-2266884219d4",
   "metadata": {},
   "outputs": [],
   "source": [
    "#import pickle\n",
    "#file = open('../data/3dfsc64/angles_rec', 'wb')\n",
    "#pickle.dump(angles_rec, file)\n",
    "#file.close()"
   ]
  },
  {
   "cell_type": "code",
   "execution_count": null,
   "id": "10b51e6e-8ea7-4cea-812c-9e8d42b4b961",
   "metadata": {},
   "outputs": [],
   "source": [
    "with open('../data/3dfsc64/angles_rec', 'rb') as file:\n",
    "    # Call load method to deserialze\n",
    "    angles_rec2 = pickle.load(file)"
   ]
  },
  {
   "cell_type": "code",
   "execution_count": null,
   "id": "7fed2bda-8cce-450b-8c89-1893d248f92d",
   "metadata": {},
   "outputs": [],
   "source": [
    "#jnp.sum(jnp.abs(angles_rec2 - angles_rec))"
   ]
  },
  {
   "cell_type": "markdown",
   "id": "c6fbda1b-7a6a-4b20-890d-72a15d8968a6",
   "metadata": {},
   "source": [
    "### MCMC orientations"
   ]
  },
  {
   "cell_type": "code",
   "execution_count": null,
   "id": "75343c33-4b6b-42c3-9fb7-c7efcb59d98e",
   "metadata": {},
   "outputs": [],
   "source": [
    "alpha0 = 0\n",
    "\n",
    "radius = 0.4\n",
    "mask = create_3d_mask(x_grid, (0,0,0),radius)\n",
    "#mip_z(jnp.fft.fftshift(mask)); plt.colorbar()\n",
    "\n",
    "slice_func,slice_func_array, slice_func_array_angles = get_slice_funcs(project, x_grid, mask, \"tri\")\n",
    "loss_func0, loss_func_batched0, loss_func_sum0, _ = get_loss_funcs(slice_func, alpha = alpha0)\n",
    "logPi_batch = lambda a : -loss_func_batched0(vol_fourier, a, shifts_true, ctf_params, imgs, 1)"
   ]
  },
  {
   "cell_type": "markdown",
   "id": "d2dfcaaa-808e-46f2-9119-621dc90c1db0",
   "metadata": {},
   "source": [
    "### CG - choosing $\\alpha$"
   ]
  },
  {
   "cell_type": "code",
   "execution_count": null,
   "id": "56f2dc50-bdfd-40ee-82f4-9de5ef72c44d",
   "metadata": {},
   "outputs": [],
   "source": [
    "centre = (0,0,0)\n",
    "#radius = 0.045\n",
    "radius = 0.093\n",
    "mask = create_3d_mask(x_grid, centre, radius)\n",
    "mask2d = mask[:,:,0]\n",
    "\n",
    "plt.imshow(jnp.fft.fftshift(mask2d)); plt.colorbar()"
   ]
  },
  {
   "cell_type": "markdown",
   "id": "5608b4e1-01ed-4468-acce-5932578bdaa9",
   "metadata": {},
   "source": [
    "First, the slice function and the data fidelity function (i.e. the loss function with $\\alpha=0$):"
   ]
  },
  {
   "cell_type": "code",
   "execution_count": null,
   "id": "2e4dde53-3913-4a4d-93b2-45241183622e",
   "metadata": {},
   "outputs": [],
   "source": [
    "slice_func,slice_func_array, slice_func_array_angles = get_slice_funcs(project, x_grid, mask, \"tri\")\n",
    "fid_func, fid_func_batched, fid_func_sum, _ = get_loss_funcs(slice_func, alpha = 0)"
   ]
  },
  {
   "cell_type": "markdown",
   "id": "fd70032f-a25f-4d4a-8550-cda8944374db",
   "metadata": {},
   "source": [
    "The noise"
   ]
  },
  {
   "cell_type": "code",
   "execution_count": null,
   "id": "6043916c-e4e7-4aa3-ac88-970705ab6590",
   "metadata": {},
   "outputs": [],
   "source": [
    "print(\"sigma noise min =\", jnp.min(sigma_noise))\n",
    "print(\"sigma noise max =\", jnp.max(sigma_noise))\n",
    "print(\"sigma noise mean =\", jnp.mean(sigma_noise))\n",
    "\n",
    "#sigma_noise = jnp.max(sigma_noise)*jnp.ones(sigma_noise.shape)\n",
    "plt.imshow(jnp.fft.fftshift(sigma_noise.reshape([nx,nx]))); plt.colorbar()"
   ]
  },
  {
   "cell_type": "code",
   "execution_count": null,
   "id": "e67b5adc-fbb3-49a1-b54e-9b1b52690f1e",
   "metadata": {},
   "outputs": [],
   "source": [
    "imgs_f_m = imgs_f * mask2d.reshape(-1)"
   ]
  },
  {
   "cell_type": "code",
   "execution_count": null,
   "id": "83358361-ec88-49fc-8f41-8d3fc33aade1",
   "metadata": {},
   "outputs": [],
   "source": [
    "N_iter = 50100\n",
    "eps = 1e-4\n",
    "#eps = 1e-5\n",
    "#eps = 1e-3\n",
    "#eps = 1e-6\n",
    "v0 = jnp.zeros([nx,nx,nx])* 1j\n",
    "#alphas = [1.1e-6, 1e-5, 1e-4, 1e-3, 1e-2, 1e-1, 1e0, 1e1, 1e2, 1e3]\n",
    "#alphas = [1e-10, 1e-9, 1e-8]\n",
    "alphas = [1e-8]\n",
    "vcgs = []\n",
    "fids = []\n",
    "regs = []\n",
    "losss = []\n",
    "angles_cg = angles"
   ]
  },
  {
   "cell_type": "code",
   "execution_count": null,
   "id": "d3bfd6ef-e55e-4aa2-b744-92999fcc46d5",
   "metadata": {},
   "outputs": [],
   "source": [
    "N_alpha = len(alphas)\n",
    "for alpha in alphas[:N_alpha]:\n",
    "    t0 = time.time()\n",
    "    print('alpha =', alpha)\n",
    "    \n",
    "    loss_func, loss_func_batched, loss_func_sum, _ = get_loss_funcs(slice_func, alpha = alpha)\n",
    "    grad_loss_volume, grad_loss_volume_sum = get_grad_v_funcs(loss_func, loss_func_sum)\n",
    "    \n",
    "    AA, Ab = get_cg_vol_ops(grad_loss_volume_sum, angles_cg, shifts, ctf_params, imgs_f_m, v0.shape, sigma_noise)\n",
    "    vcg, _ = conjugate_gradient(AA, Ab, v0, N_iter, eps, verbose = True)\n",
    "    \n",
    "    fid = 2*fid_func_sum(vcg, angles_cg, shifts, ctf_params, imgs_f_m, sigma_noise)/(nx*nx)\n",
    "    reg = l2sq(vcg)/(nx*nx*nx)\n",
    "    loss = loss_func_sum(vcg, angles_cg, shifts, ctf_params, imgs_f_m, sigma_noise)/(nx*nx)\n",
    "    \n",
    "    vcgs.append(vcg)\n",
    "    fids.append(fid)\n",
    "    regs.append(reg)\n",
    "    losss.append(loss)\n",
    "    \n",
    "    print(\"  fid =\", fid)\n",
    "    print(\"  reg =\", reg)\n",
    "    print(\"  loss =\", loss)\n",
    "    \n",
    "    print(\"  Time =\", time.time() - t0)\n",
    "    \n",
    "vcgs = jnp.array(vcgs)\n",
    "fids = jnp.array(fids)\n",
    "regs = jnp.array(regs)\n",
    "losss = jnp.array(losss)\n",
    "alphas = jnp.array(alphas)\n",
    "\n",
    "alpha_idx = jnp.argmin(fids)"
   ]
  },
  {
   "cell_type": "code",
   "execution_count": null,
   "id": "76ee0514-318a-401a-90d1-6a167d29a183",
   "metadata": {},
   "outputs": [],
   "source": [
    "plt.semilogx(alphas, fids)\n",
    "plt.semilogx(alphas, regs)\n",
    "plt.semilogx(alphas, losss)\n",
    "plt.legend(['fid', 'reg', 'fid+reg'])"
   ]
  },
  {
   "cell_type": "code",
   "execution_count": null,
   "id": "3167989d-d69f-4772-9ae1-665ef800b503",
   "metadata": {},
   "outputs": [],
   "source": [
    "plt.plot(fids)"
   ]
  },
  {
   "cell_type": "code",
   "execution_count": null,
   "id": "16bd534d-ea4d-4718-99bb-961761029617",
   "metadata": {},
   "outputs": [],
   "source": [
    "plt.semilogy(regs)"
   ]
  },
  {
   "cell_type": "markdown",
   "id": "8a87faf4-a561-4e74-8ece-041b634e532c",
   "metadata": {},
   "source": [
    "Pixel-wise loss for the best reconstruction:"
   ]
  },
  {
   "cell_type": "code",
   "execution_count": null,
   "id": "5d719829-944c-434a-a44c-ce415a4c83c4",
   "metadata": {},
   "outputs": [],
   "source": [
    "mask.shape"
   ]
  },
  {
   "cell_type": "code",
   "execution_count": null,
   "id": "fcbe112e-2caa-42a9-a84d-fc3862fd6b25",
   "metadata": {},
   "outputs": [],
   "source": [
    "def pixel_wise_fid_fun(v, slice_func_array, angles, shifts, ctf_params, imgs, sigma):\n",
    "    err = slice_func_array(v, angles, shifts, ctf_params) - imgs\n",
    "    return jnp.mean(jnp.real(jnp.conj(err)*err), axis = 0)/(2*sigma**2)\n",
    "    #return jnp.mean(jnp.real(jnp.conj(err)*err), axis = 0)/2"
   ]
  },
  {
   "cell_type": "code",
   "execution_count": null,
   "id": "67a6d9ca-9014-41bd-8818-f404b64cc91f",
   "metadata": {},
   "outputs": [],
   "source": [
    "alphas[alpha_idx]"
   ]
  },
  {
   "cell_type": "code",
   "execution_count": null,
   "id": "2b4fc776-943d-4cfb-96c8-2408ef921eeb",
   "metadata": {},
   "outputs": [],
   "source": [
    "sigma_noise1 = jnp.ones(sigma_noise.shape)"
   ]
  },
  {
   "cell_type": "code",
   "execution_count": null,
   "id": "be6fe317-0988-4e6b-a2da-aa5eec094fdf",
   "metadata": {},
   "outputs": [],
   "source": [
    "pw_fid = pixel_wise_fid_fun(vcgs[0], slice_func_array, angles, shifts, ctf_params, imgs_f_m, sigma_noise1)\n",
    "plt.imshow(jnp.fft.fftshift(pw_fid.reshape([nx,nx]))); plt.colorbar()"
   ]
  },
  {
   "cell_type": "markdown",
   "id": "6036fa4d-db57-43c5-aaaf-4e58a1a18452",
   "metadata": {},
   "source": [
    "Pixel-wise loss for the ZERO volume:"
   ]
  },
  {
   "cell_type": "code",
   "execution_count": null,
   "id": "739ad76f-ebee-4890-8d65-d84c36ffbbd7",
   "metadata": {},
   "outputs": [],
   "source": [
    "pw_fid0 = pixel_wise_fid_fun(jnp.zeros(v0.shape), slice_func_array, angles_rec, shifts, ctf_params, imgs_f_m, sigma_noise1)\n",
    "plt.imshow(jnp.fft.fftshift(pw_fid0.reshape([nx,nx]))); plt.colorbar()"
   ]
  },
  {
   "cell_type": "code",
   "execution_count": null,
   "id": "d8556022-d53c-44b6-b86f-b849373a8d48",
   "metadata": {},
   "outputs": [],
   "source": [
    "alpha_idx = jnp.argmin(fids)\n",
    "print(alpha_idx)"
   ]
  },
  {
   "cell_type": "code",
   "execution_count": null,
   "id": "a655641b-efbf-4332-80ae-07db98b309e3",
   "metadata": {},
   "outputs": [],
   "source": [
    "#alpha_idx = 2"
   ]
  },
  {
   "cell_type": "code",
   "execution_count": null,
   "id": "6a9898c6-0e22-47c6-9036-091e98187d82",
   "metadata": {},
   "outputs": [],
   "source": [
    "print(alphas[alpha_idx])\n",
    "plt.imshow(jnp.abs(jnp.fft.fftshift(vcgs[alpha_idx][:,0,:]))); plt.colorbar()"
   ]
  },
  {
   "cell_type": "code",
   "execution_count": null,
   "id": "5ab7640e-7f0e-4967-8097-171718e99f9d",
   "metadata": {},
   "outputs": [],
   "source": [
    "img_idx = 100\n",
    "s0 = slice_func(vcgs[alpha_idx], angles_cg[img_idx], shifts[img_idx], ctf_params[img_idx])\n",
    "plt.imshow(jnp.fft.fftshift(jnp.abs(s0).reshape(nx,nx))); plt.colorbar()"
   ]
  },
  {
   "cell_type": "code",
   "execution_count": null,
   "id": "aaf9f6f9-543e-462b-b895-2238d08a4c1d",
   "metadata": {},
   "outputs": [],
   "source": [
    "plt.imshow(jnp.fft.fftshift(jnp.abs(imgs_f[img_idx]).reshape(nx,nx))); plt.colorbar()"
   ]
  },
  {
   "cell_type": "code",
   "execution_count": null,
   "id": "6a2afe7a-0e19-4961-931c-4bd8246df8a4",
   "metadata": {},
   "outputs": [],
   "source": [
    "plt.imshow(jnp.fft.fftshift(jnp.abs(s0 - imgs_f[img_idx]).reshape(nx,nx))); plt.colorbar()"
   ]
  },
  {
   "cell_type": "code",
   "execution_count": null,
   "id": "1e077aad-e12a-49cc-8ebf-e28b032b7f5b",
   "metadata": {},
   "outputs": [],
   "source": [
    "vr_rec = jnp.real(jnp.fft.fftshift(jnp.fft.ifftn(v_rec)))\n",
    "mip_z(vr_rec)\n",
    "plt.colorbar()\n",
    "plt.title('Reconstruction MIP')"
   ]
  },
  {
   "cell_type": "code",
   "execution_count": null,
   "id": "26858cf7-2389-4aa7-9de7-744f6591bd60",
   "metadata": {},
   "outputs": [],
   "source": [
    "vcg_r = jnp.real(jnp.fft.fftshift(jnp.fft.ifftn(vcgs[alpha_idx])))\n",
    "mip_z(vcg_r)\n",
    "plt.colorbar()\n",
    "plt.title('Reconstruction MIP')\n"
   ]
  },
  {
   "cell_type": "code",
   "execution_count": null,
   "id": "1ff82d68-f69b-4273-88f0-df50ffa376ac",
   "metadata": {},
   "outputs": [],
   "source": [
    "with mrcfile.new('../data/reconstruction_data_32_cg_alpha.mrc', overwrite=True) as mrc:\n",
    "    mrc.set_data(vcg_r.astype(np.float32))"
   ]
  },
  {
   "cell_type": "markdown",
   "id": "0cbbf1ce-06e1-48e7-9674-fc9b9718a1e9",
   "metadata": {},
   "source": [
    "### All images are the same, with different scalings (corresponding to different orders of $\\alpha$)"
   ]
  },
  {
   "cell_type": "code",
   "execution_count": null,
   "id": "5afd02e3-de8f-431d-b495-9e485a2c31ca",
   "metadata": {},
   "outputs": [],
   "source": [
    "vcgs_s = vcgs[:,:,0,0]\n",
    "vcgs_s.shape"
   ]
  },
  {
   "cell_type": "code",
   "execution_count": null,
   "id": "65af20d4-d875-43c1-97a4-5c625130a046",
   "metadata": {},
   "outputs": [],
   "source": [
    "plt.plot(jnp.abs(vcgs_s[0]))\n",
    "plt.plot(jnp.abs(vcgs_s[1])*9)\n",
    "plt.plot(jnp.abs(vcgs_s[2])*90)\n",
    "plt.plot(jnp.abs(vcgs_s[3])*900)\n",
    "plt.plot(jnp.abs(vcgs_s[6])*9e5)\n",
    "plt.plot(jnp.abs(vcgs_s[8])*9e7)\n",
    "plt.plot(jnp.abs(vcgs_s[10])*9e8)"
   ]
  },
  {
   "cell_type": "markdown",
   "id": "b653e42f-ee51-4e2a-8550-89ba39074caa",
   "metadata": {},
   "source": [
    "### FSC, orientations, standard deviation for each voxel etc"
   ]
  },
  {
   "cell_type": "code",
   "execution_count": null,
   "id": "b3023626-4344-4cc3-8eef-4698a410b17e",
   "metadata": {},
   "outputs": [],
   "source": [
    "vcg1 = vcgs[0]\n",
    "vcg2 = vcgs[6]"
   ]
  },
  {
   "cell_type": "code",
   "execution_count": null,
   "id": "74ebdf61-c0f8-47bb-94e9-0d1d5fcfada7",
   "metadata": {},
   "outputs": [],
   "source": [
    "res, fsc, shell_points = calc_fsc(vcg1, vcg2, x_grid)"
   ]
  },
  {
   "cell_type": "code",
   "execution_count": null,
   "id": "10b0b78f-b87f-417d-a943-02fb1c6ac351",
   "metadata": {},
   "outputs": [],
   "source": [
    "points_v_tri = points_orientations_tri(angles, x_grid[1].astype(jnp.int64), number_of_batches = 1000)\n",
    "#points_v_nn = points_orientations_nn(angles[:1000], x_grid[1])"
   ]
  },
  {
   "cell_type": "code",
   "execution_count": null,
   "id": "968e4598-0813-4bf0-acac-d06f82e1c01b",
   "metadata": {},
   "outputs": [],
   "source": [
    "plt.imshow(jnp.fft.fftshift(points_v_tri[:,:,0])); plt.colorbar()"
   ]
  },
  {
   "cell_type": "code",
   "execution_count": null,
   "id": "3872bce6-0669-4919-b565-a26ec47da87c",
   "metadata": {},
   "outputs": [],
   "source": [
    "res_spu, spu_tri = shell_points_used(points_v_tri, x_grid)"
   ]
  },
  {
   "cell_type": "code",
   "execution_count": null,
   "id": "686771d8-585d-4ef5-b2c2-3ff54cc1fe53",
   "metadata": {},
   "outputs": [],
   "source": [
    "plt.plot(res, fsc)\n",
    "plt.plot(res_spu, spu_tri)\n",
    "plt.hlines([0.143, 0.5], xmin=min(res), xmax=max(res), colors = ['gray'], linestyles=['dashed'])\n",
    "plt.legend(['FSC', 'fraction shell points used', '0.143, 0.5'])\n",
    "#plt.title('Clustered angles')"
   ]
  },
  {
   "cell_type": "code",
   "execution_count": null,
   "id": "0dd23093-9459-4557-bf7f-ad96e33ae3b8",
   "metadata": {},
   "outputs": [],
   "source": [
    "plt.imshow((jnp.sqrt(jnp.abs(jnp.fft.fftshift(points_v_tri[0,:,:]*mask[0,:,:]))))); plt.colorbar()"
   ]
  },
  {
   "cell_type": "code",
   "execution_count": null,
   "id": "921cfd97-8491-4343-b850-ff9ad2edb4a0",
   "metadata": {},
   "outputs": [],
   "source": [
    "plt.imshow((jnp.sqrt(jnp.abs(jnp.fft.fftshift(points_v_tri[:,0,:]*mask[:,0,:]))))); plt.colorbar()"
   ]
  },
  {
   "cell_type": "code",
   "execution_count": null,
   "id": "5ff30552-3b7d-4296-a0be-9d363ce7a52b",
   "metadata": {},
   "outputs": [],
   "source": [
    "plt.imshow((jnp.sqrt(jnp.abs(jnp.fft.fftshift(points_v_tri[:,:,0]*mask[:,:,0]))))); plt.colorbar()"
   ]
  },
  {
   "cell_type": "code",
   "execution_count": null,
   "id": "303963a2-0e0f-4f99-8b5c-ea7eca8988aa",
   "metadata": {},
   "outputs": [],
   "source": [
    "vones = jnp.ones(vcg1.shape)\n",
    "omega = AA(vones)\n",
    "omega = 1/omega"
   ]
  },
  {
   "cell_type": "code",
   "execution_count": null,
   "id": "4ae0ec7d-e67d-4d63-8b80-5d762754a4ea",
   "metadata": {},
   "outputs": [],
   "source": [
    "jnp.min(jnp.abs(omega))"
   ]
  },
  {
   "cell_type": "code",
   "execution_count": null,
   "id": "651b69ae-9392-4bbd-b161-ea76ebba88a7",
   "metadata": {},
   "outputs": [],
   "source": [
    "plt.title(\"Standard deviation\")\n",
    "plt.imshow(jnp.abs(jnp.fft.fftshift(omega[0,:,:]))); plt.colorbar()"
   ]
  },
  {
   "cell_type": "code",
   "execution_count": null,
   "id": "e1dade3d-f251-4a09-8f0e-fbff944ddc01",
   "metadata": {},
   "outputs": [],
   "source": [
    "plt.imshow(jnp.abs(jnp.fft.fftshift(omega[:,0,:]))); plt.colorbar()"
   ]
  },
  {
   "cell_type": "code",
   "execution_count": null,
   "id": "b0bbdc7a-5449-4b69-b965-ec033ff5f56c",
   "metadata": {},
   "outputs": [],
   "source": [
    "plt.imshow(jnp.abs(jnp.fft.fftshift(omega[:,:,0]))); plt.colorbar()"
   ]
  },
  {
   "cell_type": "markdown",
   "id": "4c35c276-7388-4850-b5c3-7e99d32b62e3",
   "metadata": {},
   "source": [
    "### SGD"
   ]
  },
  {
   "cell_type": "markdown",
   "id": "b9aea732-7d83-4cf1-b5da-26a3eb90996f",
   "metadata": {},
   "source": [
    "### Preconditioner"
   ]
  },
  {
   "cell_type": "code",
   "execution_count": null,
   "id": "d5483136-f3e1-4731-b9f7-e70aaa8edda4",
   "metadata": {},
   "outputs": [],
   "source": [
    "P = get_preconditioner(x_grid) * mask\n",
    "#P = jnp.sqrt(P) /jnp.max(P) + 1e-6\n",
    "#P = jnp.sqrt(P)\n",
    "P = P**0.15\n",
    "P = P /jnp.max(P)+ 1e-6\n",
    "plt.imshow(jnp.fft.fftshift(P[:,:,0]));plt.colorbar()\n",
    "print(P[0,0,0])\n",
    "print(jnp.max(P))\n",
    "print(jnp.min(P))"
   ]
  },
  {
   "cell_type": "markdown",
   "id": "c11dc228-2154-4ca5-a1c9-6d1bd477335e",
   "metadata": {},
   "source": [
    "### Points/orientations preconditioner"
   ]
  },
  {
   "cell_type": "code",
   "execution_count": null,
   "id": "579ca5a9-ce93-41b6-a533-b4305403f4d9",
   "metadata": {},
   "outputs": [],
   "source": [
    "P = points_v_tri +1\n",
    "P = 1/P * mask + 1e-12\n",
    "P = P/jnp.max(P) * mask\n",
    "plt.imshow(jnp.fft.fftshift(P[:,:,0]));plt.colorbar()\n",
    "print(P[0,0,0])\n",
    "print(jnp.max(P))\n",
    "print(jnp.min(P))"
   ]
  },
  {
   "cell_type": "markdown",
   "id": "cf884677-9d3f-476b-9e38-9f7eeebc6d07",
   "metadata": {},
   "source": [
    "### $\\alpha$ tuning"
   ]
  },
  {
   "cell_type": "code",
   "execution_count": null,
   "id": "bd2cf7ef-f772-4d65-8507-6a4a9bddfebe",
   "metadata": {},
   "outputs": [],
   "source": [
    "mask2d = mask[:,:,0]\n",
    "imgs_f_m = imgs_f * mask2d.reshape(-1)"
   ]
  },
  {
   "cell_type": "code",
   "execution_count": null,
   "id": "48294e95-d1e6-4bcc-8b24-20ab96657410",
   "metadata": {},
   "outputs": [],
   "source": [
    "N_epoch = 501000\n",
    "batch_size = 300\n",
    "#learning_rate = 100000\n",
    "learning_rate = 10000 * 100\n",
    "#learning_rate = 10000 # for \"large\" alpha\n",
    "\n",
    "P = None\n",
    "\n",
    "#eps = 3e-5\n",
    "#eps = 1e-3\n",
    "#eps = 1e-9\n",
    "eps = 1e-8\n",
    "v0 = jnp.zeros([nx,nx,nx])* 1j\n",
    "#alphas = 1/100 * jnp.array([1e-9, 1e-8, 1e-7, 1.1e-6, 1e-5, 1e-4, 1e-3, 1e-2, 1e-1]) #, 1e0, 1e1, 1e2, 1e3]\n",
    "#alphas = [1e-10, 1e-9, 1e-8, 1e-7]\n",
    "alphas = [1e-9]\n",
    "\n",
    "angles_gd = angles"
   ]
  },
  {
   "cell_type": "code",
   "execution_count": null,
   "id": "a48a7ed8-6bf1-4afa-948b-ee8a73780ff3",
   "metadata": {},
   "outputs": [],
   "source": [
    "vgds = []\n",
    "fids = []\n",
    "regs = []\n",
    "losss = []\n",
    "\n",
    "#N_alpha = 4\n",
    "for alpha in alphas:\n",
    "    t0 = time.time()\n",
    "    print('alpha =', alpha)\n",
    "    \n",
    "    slice_func,slice_func_array, slice_func_array_angles = get_slice_funcs(project, x_grid, mask, \"tri\")\n",
    "    loss_func, loss_func_batched, loss_func_sum, _ = get_loss_funcs(slice_func, alpha = alpha)\n",
    "\n",
    "    grad_loss_volume, grad_loss_volume_sum = get_grad_v_funcs(loss_func, loss_func_sum)\n",
    "\n",
    "    sgd_grad_func = get_sgd_vol_ops(grad_loss_volume_sum, angles_gd, shifts, ctf_params, imgs_f_m, sigma_noise)\n",
    "    \n",
    "    vgd = sgd(sgd_grad_func, N, v0, learning_rate, N_epoch, batch_size, P, eps, verbose = True)\n",
    "    \n",
    "    fid = 2*fid_func_sum(vgd, angles_gd, shifts, ctf_params, imgs_f_m, sigma_noise)/(nx*nx)\n",
    "    reg = l2sq(vgd)/(nx*nx*nx)\n",
    "    loss = loss_func_sum(vgd, angles_gd, shifts, ctf_params, imgs_f_m, sigma_noise)/(nx*nx)\n",
    "    \n",
    "    vgds.append(vgd)\n",
    "    fids.append(fid)\n",
    "    regs.append(reg)\n",
    "    losss.append(loss)\n",
    "    \n",
    "    print(\"  fid =\", fid)\n",
    "    print(\"  reg =\", reg)\n",
    "    print(\"  loss =\", loss)\n",
    "    \n",
    "    print(\"  Time =\", time.time() - t0)\n",
    "    \n",
    "vgds = jnp.array(vgds)\n",
    "fids = jnp.array(fids)\n",
    "regs = jnp.array(regs)\n",
    "losss = jnp.array(losss)\n",
    "alphas = jnp.array(alphas)\n",
    "\n",
    "alpha_idx = jnp.argmin(fids)"
   ]
  },
  {
   "cell_type": "code",
   "execution_count": null,
   "id": "73b4b216-861e-48bb-b70d-8bdeab9eaccf",
   "metadata": {},
   "outputs": [],
   "source": [
    "vgds = jnp.array(vgds)\n",
    "fids = jnp.array(fids)\n",
    "regs = jnp.array(regs)\n",
    "losss = jnp.array(losss)\n",
    "alphas = jnp.array(alphas)\n",
    "\n",
    "alpha_idx = jnp.argmin(fids)\n",
    "\n",
    "N_alpha= len(fids)"
   ]
  },
  {
   "cell_type": "code",
   "execution_count": null,
   "id": "ee200b41-2dd7-43dd-8a4d-0958e3c89325",
   "metadata": {},
   "outputs": [],
   "source": [
    "plt.semilogx(alphas[:N_alpha], fids)\n",
    "plt.semilogx(alphas[:N_alpha], regs)\n",
    "plt.semilogx(alphas[:N_alpha], losss)\n",
    "plt.legend(['fid', 'reg', 'fid+reg'])"
   ]
  },
  {
   "cell_type": "code",
   "execution_count": null,
   "id": "63272519-7915-4fce-ab3d-0c66115c010f",
   "metadata": {},
   "outputs": [],
   "source": [
    "plt.plot(fids)"
   ]
  },
  {
   "cell_type": "code",
   "execution_count": null,
   "id": "9485f2c0-ac8c-440a-99e4-4b0b700d5358",
   "metadata": {},
   "outputs": [],
   "source": [
    "plt.semilogy(regs)"
   ]
  },
  {
   "cell_type": "code",
   "execution_count": null,
   "id": "71209414-fdb8-464d-a847-61b735a44ebb",
   "metadata": {},
   "outputs": [],
   "source": [
    "alphas[2]"
   ]
  },
  {
   "cell_type": "code",
   "execution_count": null,
   "id": "1307609d-8f7d-40ad-99d6-2154e10a76f7",
   "metadata": {},
   "outputs": [],
   "source": [
    "#alpha_idx= 3\n",
    "#alpha_idx=5\n",
    "#alpha_idx=0"
   ]
  },
  {
   "cell_type": "code",
   "execution_count": null,
   "id": "6b3f0cec-6169-4535-b2ed-94b67dc4e30a",
   "metadata": {},
   "outputs": [],
   "source": [
    "pw_fid = pixel_wise_fid_fun(vgds[alpha_idx], slice_func_array, angles_gd, shifts, ctf_params, imgs_f_m, sigma_noise)\n",
    "plt.imshow(jnp.fft.fftshift(pw_fid.reshape([nx,nx]))); plt.colorbar()\n",
    "print(jnp.max(pw_fid))"
   ]
  },
  {
   "cell_type": "code",
   "execution_count": null,
   "id": "a04862fc-6e44-4ba8-a569-1400bc259db9",
   "metadata": {},
   "outputs": [],
   "source": [
    "pw_fid0 = pixel_wise_fid_fun(jnp.zeros(vgd.shape), slice_func_array, angles_gd, shifts, ctf_params, imgs_f_m, sigma_noise)\n",
    "plt.imshow(jnp.fft.fftshift(pw_fid0.reshape([nx,nx]))); plt.colorbar()\n",
    "print(jnp.max(pw_fid))"
   ]
  },
  {
   "cell_type": "code",
   "execution_count": null,
   "id": "2fea2c71-daa6-4675-ab19-53e7196f3259",
   "metadata": {},
   "outputs": [],
   "source": [
    "plt.imshow(jnp.fft.fftshift(jnp.abs(vgds[alpha_idx,:,0,:]))); plt.colorbar()"
   ]
  },
  {
   "cell_type": "code",
   "execution_count": null,
   "id": "fd903912-7cd6-4db6-ba3f-992ed65268c6",
   "metadata": {},
   "outputs": [],
   "source": [
    "#plt.imshow(jnp.fft.fftshift(jnp.abs(v_rec[:,0,:]))); plt.colorbar()"
   ]
  },
  {
   "cell_type": "code",
   "execution_count": null,
   "id": "47048d3f-f9ae-438e-97f6-969dce8181ce",
   "metadata": {},
   "outputs": [],
   "source": [
    "#err = vgds[1] - v_rec\n",
    "#plt.imshow(jnp.fft.fftshift((jnp.abs(err[:,0,:]))*mask[:,0,:])); plt.colorbar()"
   ]
  },
  {
   "cell_type": "code",
   "execution_count": null,
   "id": "ba16436e-da15-4efa-b0e2-1b92884d0697",
   "metadata": {},
   "outputs": [],
   "source": [
    "vgds_s = vgds[:,:,0,0]\n",
    "vgds_s.shape\n",
    "\n",
    "plt.plot(jnp.abs(vgds_s[0]))\n",
    "plt.plot(jnp.abs(vgds_s[1])*1.1)\n",
    "plt.plot(jnp.abs(vgds_s[2])*2)\n",
    "plt.plot(jnp.abs(vgds_s[3])*7)\n"
   ]
  },
  {
   "cell_type": "code",
   "execution_count": null,
   "id": "74a34d92-aed0-41fa-a6d4-93116e66969e",
   "metadata": {},
   "outputs": [],
   "source": [
    "vr_sgd = jnp.real(jnp.fft.fftshift(jnp.fft.ifftn(vgds[alpha_idx])))\n",
    "mip_z(vr_sgd)\n",
    "plt.colorbar()\n",
    "plt.title('Reconstruction MIP')"
   ]
  },
  {
   "cell_type": "code",
   "execution_count": null,
   "id": "a5ab9704-c98b-4c50-a29e-bfd66a4ecd6f",
   "metadata": {},
   "outputs": [],
   "source": [
    "vr_rec = jnp.real(jnp.fft.fftshift(jnp.fft.ifftn(v_rec)))\n",
    "mip_z(vr_rec)\n",
    "plt.colorbar()\n",
    "plt.title('Reconstruction MIP')"
   ]
  },
  {
   "cell_type": "code",
   "execution_count": null,
   "id": "4427a131-cec4-4e68-94cc-07b7b0ba85a4",
   "metadata": {},
   "outputs": [],
   "source": [
    "with mrcfile.new('../data/reconstruction_data_32_sgd_alpha.mrc', overwrite=True) as mrc:\n",
    "    mrc.set_data(vr_sgd.astype(np.float32))"
   ]
  },
  {
   "cell_type": "code",
   "execution_count": null,
   "id": "a5b871bb-9c0a-41cd-a077-94a75fa16b04",
   "metadata": {},
   "outputs": [],
   "source": [
    "idx = 100"
   ]
  },
  {
   "cell_type": "code",
   "execution_count": null,
   "id": "c2d6cffb-403f-449b-ab12-55124f797da5",
   "metadata": {},
   "outputs": [],
   "source": [
    "slicegd = slice_func(vgds[alpha_idx], angles_gd[idx], shifts[idx], ctf_params[idx])\n",
    "#slicerec = slice_func(v_rec, angles_gd[idx], shifts[idx], ctf_params[idx])"
   ]
  },
  {
   "cell_type": "code",
   "execution_count": null,
   "id": "7c52a12a-5b43-44d8-ade7-3a215588c440",
   "metadata": {},
   "outputs": [],
   "source": [
    "plt.imshow(jnp.abs(jnp.fft.fftshift(slicegd.reshape([nx,nx])))); plt.colorbar()"
   ]
  },
  {
   "cell_type": "code",
   "execution_count": null,
   "id": "322eb689-8112-4891-8508-86768604ae87",
   "metadata": {},
   "outputs": [],
   "source": [
    "#plt.imshow(jnp.abs(jnp.fft.fftshift(slicerec.reshape([32,32])))); plt.colorbar()"
   ]
  },
  {
   "cell_type": "code",
   "execution_count": null,
   "id": "c5c483bc-c8b4-465a-8e7c-804565988ccc",
   "metadata": {},
   "outputs": [],
   "source": [
    "plt.imshow(jnp.abs(jnp.fft.fftshift(imgs_f[idx].reshape([nx,nx])))); plt.colorbar()"
   ]
  },
  {
   "cell_type": "markdown",
   "id": "eb4b22b9-984c-4bf7-8c90-3fcc3580f268",
   "metadata": {},
   "source": [
    "### C3 Symmetry"
   ]
  },
  {
   "cell_type": "code",
   "execution_count": 23,
   "id": "297ae91b-3799-4dd1-a1a6-d68fa85ab7a3",
   "metadata": {},
   "outputs": [],
   "source": [
    "def split(arr):\n",
    "    N = arr.shape[0]\n",
    "    N2 = jnp.floor(N/2).astype(jnp.int32)\n",
    "\n",
    "    arr_train = arr[:N2]\n",
    "    arr_test  = arr[N2:]\n",
    "    \n",
    "    return arr_train, arr_test\n",
    "\n",
    "def split_and_triple(arr):\n",
    "    N = arr.shape[0]\n",
    "    N2 = jnp.floor(N/2).astype(jnp.int32)\n",
    "\n",
    "    arr_train = jnp.tile(arr[:N2], reps=(3,1))\n",
    "    arr_test  = jnp.tile(arr[N2:], reps=(3,1))\n",
    "    \n",
    "    return arr_train, arr_test\n",
    "\n",
    "def split_and_triple_angles(a):\n",
    "    N = a.shape[0]\n",
    "    N2 = jnp.floor(N/2).astype(jnp.int32)\n",
    "\n",
    "    a_train1 = a[:N2]\n",
    "    a_train2 = a_train1.copy()\n",
    "    a_train3 = a_train1.copy()\n",
    "\n",
    "    a_train2[:,2] += 2*jnp.pi/3\n",
    "    a_train3[:,2] += 4*jnp.pi/3\n",
    "   \n",
    "    a_train = jnp.concatenate([a_train1, a_train2, a_train3], axis=0)\n",
    "    \n",
    "    a_test1  = a[N2:]\n",
    "    a_test2 = a_test1.copy()\n",
    "    a_test3 = a_test1.copy()\n",
    "\n",
    "    a_test2[:,2] += 2*jnp.pi/3\n",
    "    a_test3[:,2] += 4*jnp.pi/3\n",
    "    \n",
    "    a_test = jnp.concatenate([a_test1, a_test2, a_test3], axis=0)\n",
    "\n",
    "\n",
    "    return a_train, a_test"
   ]
  },
  {
   "cell_type": "code",
   "execution_count": 24,
   "id": "a9b08a62-3656-4618-ad44-ea089d8f9ca0",
   "metadata": {},
   "outputs": [],
   "source": [
    "imgs_train, imgs_test = split_and_triple(imgs_f)\n",
    "shifts_train, shifts_test = split_and_triple(shifts)\n",
    "ctf_params_train, ctf_params_test = split_and_triple(ctf_params)\n",
    "angles_train, angles_test = split_and_triple_angles(angles)\n",
    "N = imgs_train.shape[0]\n",
    "\n",
    "#plot_angles(angles[:1000])"
   ]
  },
  {
   "cell_type": "code",
   "execution_count": 25,
   "id": "35d6719a-3865-4067-88ea-c42a544d8455",
   "metadata": {},
   "outputs": [],
   "source": [
    "#imgs_train, imgs_test = split(imgs_f)\n",
    "#shifts_train, shifts_test = split(shifts)\n",
    "#ctf_params_train, ctf_params_test = split(ctf_params)\n",
    "#angles_train, angles_test = split(angles)\n",
    "#N = imgs_train.shape[0]\n",
    "#plot_angles(angles_train)"
   ]
  },
  {
   "cell_type": "markdown",
   "id": "b5a2651a-a9ea-4c87-b93f-bb3c52c9ab79",
   "metadata": {},
   "source": [
    "### Volume residual"
   ]
  },
  {
   "cell_type": "code",
   "execution_count": 26,
   "id": "1f17b225-e926-4285-80b8-f46823bdecfd",
   "metadata": {},
   "outputs": [
    {
     "data": {
      "text/plain": [
       "[<matplotlib.lines.Line2D at 0x2b4148d51c60>]"
      ]
     },
     "execution_count": 26,
     "metadata": {},
     "output_type": "execute_result"
    },
    {
     "data": {
      "image/png": "[encoded data removed]",
      "text/plain": [
       "<Figure size 432x432 with 1 Axes>"
      ]
     },
     "metadata": {
      "needs_background": "light"
     },
     "output_type": "display_data"
    }
   ],
   "source": [
    "plt.plot(angles[:,1])"
   ]
  },
  {
   "cell_type": "code",
   "execution_count": 63,
   "id": "1f04939c-8ad1-419c-9ec3-3d54ff6039c6",
   "metadata": {},
   "outputs": [],
   "source": [
    "p1 = np.random.randn(N) * 0 #np.pi/20\n",
    "p2 = np.random.randn(N) * 0 #np.pi/40 + np.pi/2\n",
    "p3 = np.random.randn(N) * np.pi/10\n",
    "\n",
    "angles_train_pert = angles_train + jnp.array([p1,p2,p3]).transpose()"
   ]
  },
  {
   "cell_type": "code",
   "execution_count": 67,
   "id": "0240a163-0d88-42c0-b8de-bb40c46e70af",
   "metadata": {},
   "outputs": [
    {
     "data": {
      "text/plain": [
       "12000"
      ]
     },
     "execution_count": 67,
     "metadata": {},
     "output_type": "execute_result"
    }
   ],
   "source": [
    "N"
   ]
  },
  {
   "cell_type": "code",
   "execution_count": 66,
   "id": "06ecd769-13ba-4100-a7ea-3766ecf932ef",
   "metadata": {},
   "outputs": [
    {
     "data": {
      "image/png": "[encoded data removed]",
      "text/plain": [
       "<Figure size 432x432 with 1 Axes>"
      ]
     },
     "metadata": {
      "needs_background": "light"
     },
     "output_type": "display_data"
    }
   ],
   "source": [
    "idx = 102\n",
    "aa = jnp.array([angles_train[idx], angles_train_pert[idx]])\n",
    "plot_angles(aa)"
   ]
  },
  {
   "cell_type": "code",
   "execution_count": 68,
   "id": "25945698-218b-49c8-b2c6-c670c10f4fcd",
   "metadata": {},
   "outputs": [],
   "source": [
    "#angles_rec = angles_train\n",
    "angles_rec = angles_train_pert"
   ]
  },
  {
   "cell_type": "code",
   "execution_count": 69,
   "id": "7fa61dea-bcbb-46ea-9d6d-6f422286a253",
   "metadata": {},
   "outputs": [],
   "source": [
    "alpha = 1e-9\n",
    "N_train = jnp.floor(N/2).astype(jnp.int32) #3000\n",
    "\n",
    "radius = 0.0925\n",
    "mask = create_3d_mask(x_grid, (0,0,0),radius)\n",
    "#mip_z(jnp.fft.fftshift(mask)); plt.colorbar()\n",
    "M = 1/jnp.max(sigma_noise)**2 * jnp.ones([nx, nx, nx])\n",
    "\n",
    "slice_func, slice_func_array, slice_func_array_angles = get_slice_funcs(project, x_grid, mask, \"tri\")\n",
    "loss_func, loss_func_batched, loss_func_sum, _ = get_loss_funcs(slice_func, alpha = alpha)\n",
    "grad_loss_volume, grad_loss_volume_sum = get_grad_v_funcs(loss_func, loss_func_sum)\n",
    "\n",
    "logPi = lambda v : -loss_func_sum(v, angles_rec, shifts_train, ctf_params_train, imgs_train, sigma_noise)\n",
    "gradLogPi = lambda v : -jnp.conj(grad_loss_volume_sum(v, angles_rec, shifts_train, ctf_params_train, imgs_train, sigma_noise))\n"
   ]
  },
  {
   "cell_type": "code",
   "execution_count": 70,
   "id": "6835e051-93f9-4bd3-b40a-9bdad599d714",
   "metadata": {},
   "outputs": [
    {
     "name": "stdout",
     "output_type": "stream",
     "text": [
      "  Iter 20 , a =  1.0\n",
      "  MC sample 20 , loss (of mean) = 2041.1745003226554\n",
      "  Iter 40 , a =  1.0\n",
      "  MC sample 40 , loss (of mean) = 2039.8809680403092\n",
      "  Iter 60 , a =  1.0\n",
      "  MC sample 60 , loss (of mean) = 2039.50736882515\n",
      "  Iter 80 , a =  1.0\n",
      "  MC sample 80 , loss (of mean) = 2039.3403435176613\n",
      "  Iter 100 , a =  1.0\n",
      "  MC sample 100 , loss (of mean) = 2039.2559859430035\n",
      "693.5560343265533\n"
     ]
    }
   ],
   "source": [
    "N_mc_samples = 101\n",
    "key = random.PRNGKey(int(jnp.floor(np.random.rand()*1000)))\n",
    "\n",
    "v0 = jnp.zeros([nx,nx,nx])*1j\n",
    "dt_list = jnp.array([0.01, 0.1, 0.5, 5, 10])\n",
    "proposal_params_hmc = {\"dt_list\" : dt_list, \"L\" : 10, \"M\" : M, \"gradLogPi\" : gradLogPi}\n",
    "\n",
    "t0 = time.time()\n",
    "v_rec_pert, r_hmc, v_hmc_samples = mcmc(key, N_mc_samples, proposal_hmc, logPi, v0, proposal_params_hmc)\n",
    "print(time.time()-t0)"
   ]
  },
  {
   "cell_type": "code",
   "execution_count": 71,
   "id": "0155ee9b-0d3c-4f93-ad25-a909ae9f3f9a",
   "metadata": {},
   "outputs": [
    {
     "data": {
      "text/plain": [
       "12000"
      ]
     },
     "execution_count": 71,
     "metadata": {},
     "output_type": "execute_result"
    }
   ],
   "source": [
    "N"
   ]
  },
  {
   "cell_type": "code",
   "execution_count": 72,
   "id": "14781f64-152b-454a-9b94-1d7e36c9b1ce",
   "metadata": {},
   "outputs": [
    {
     "name": "stdout",
     "output_type": "stream",
     "text": [
      "0.8199458143540111\n"
     ]
    },
    {
     "data": {
      "text/plain": [
       "[<matplotlib.lines.Line2D at 0x2b41b9687fd0>]"
      ]
     },
     "execution_count": 72,
     "metadata": {},
     "output_type": "execute_result"
    },
    {
     "data": {
      "image/png": "[encoded data removed]",
      "text/plain": [
       "<Figure size 432x432 with 1 Axes>"
      ]
     },
     "metadata": {
      "needs_background": "light"
     },
     "output_type": "display_data"
    }
   ],
   "source": [
    "print(jnp.mean(r_hmc))\n",
    "plt.plot(r_hmc)"
   ]
  },
  {
   "cell_type": "code",
   "execution_count": 73,
   "id": "da1fb0b2-6f9a-4cd8-88f9-465a4b6021b8",
   "metadata": {},
   "outputs": [
    {
     "data": {
      "text/plain": [
       "<matplotlib.colorbar.Colorbar at 0x2b41b967dc60>"
      ]
     },
     "execution_count": 73,
     "metadata": {},
     "output_type": "execute_result"
    },
    {
     "data": {
      "image/png": "[encoded data removed]",
      "text/plain": [
       "<Figure size 432x432 with 2 Axes>"
      ]
     },
     "metadata": {
      "needs_background": "light"
     },
     "output_type": "display_data"
    }
   ],
   "source": [
    "plt.imshow(jnp.abs(jnp.fft.fftshift(v_rec_pert[:,:,0]))); plt.colorbar()"
   ]
  },
  {
   "cell_type": "code",
   "execution_count": 74,
   "id": "25991101-2266-4593-8641-d3e22bf14d2b",
   "metadata": {},
   "outputs": [
    {
     "data": {
      "text/plain": [
       "<matplotlib.colorbar.Colorbar at 0x2b41b991cdc0>"
      ]
     },
     "execution_count": 74,
     "metadata": {},
     "output_type": "execute_result"
    },
    {
     "data": {
      "image/png": "[encoded data removed]",
      "text/plain": [
       "<Figure size 432x432 with 2 Axes>"
      ]
     },
     "metadata": {
      "needs_background": "light"
     },
     "output_type": "display_data"
    }
   ],
   "source": [
    "v_rec_r = jnp.real(jnp.fft.fftshift(jnp.fft.ifftn(v_rec_pert)))\n",
    "mip_z(v_rec_r)\n",
    "plt.colorbar()"
   ]
  },
  {
   "cell_type": "code",
   "execution_count": 75,
   "id": "5d207beb-8e1f-4dfb-a640-6bbd79e99cbe",
   "metadata": {},
   "outputs": [],
   "source": [
    "with mrcfile.new('../data/3dfsc/v_rec_vol_hmc_64_triple_pert.mrc', overwrite=True) as mrc:\n",
    "    mrc.set_data(v_rec_r.astype(np.float32))"
   ]
  },
  {
   "cell_type": "code",
   "execution_count": 76,
   "id": "33b34db6-e84c-4bcf-8dec-769ed5af58b6",
   "metadata": {},
   "outputs": [
    {
     "data": {
      "text/plain": [
       "<matplotlib.image.AxesImage at 0x2b417abc2680>"
      ]
     },
     "execution_count": 76,
     "metadata": {},
     "output_type": "execute_result"
    },
    {
     "data": {
      "image/png": "[encoded data removed]",
      "text/plain": [
       "<Figure size 432x432 with 1 Axes>"
      ]
     },
     "metadata": {
      "needs_background": "light"
     },
     "output_type": "display_data"
    }
   ],
   "source": [
    "plt.imshow(jnp.fft.fftshift(sigma_noise.reshape([64,64])))"
   ]
  },
  {
   "cell_type": "code",
   "execution_count": 77,
   "id": "38545940-2181-4138-8b51-f19f0ae14617",
   "metadata": {},
   "outputs": [
    {
     "name": "stderr",
     "output_type": "stream",
     "text": [
      "100%|██████████| 10/10 [00:04<00:00,  2.10it/s]\n",
      "100%|██████████| 60000/60000 [10:11<00:00, 98.07it/s]   \n"
     ]
    }
   ],
   "source": [
    "N_batches = 60000 \n",
    "#v_resid = get_volume_residual(v_rec, angles[N_train:N_train+2000], shifts[N_train:N_train+2000], ctf_params[N_train:N_train+2000], imgs_f[N_train:N_train+2000], sigma_noise, x_grid, slice_func_array, N_batches)\n",
    "v_resid_pert = get_volume_residual(v_rec_pert, angles_test, shifts_test, ctf_params_test, imgs_test, sigma_noise, x_grid, slice_func_array, N_batches)\n",
    "                          "
   ]
  },
  {
   "cell_type": "code",
   "execution_count": 78,
   "id": "d5a14f60-7048-40e6-b88b-5bdf8d8eff5f",
   "metadata": {},
   "outputs": [
    {
     "data": {
      "text/plain": [
       "<matplotlib.colorbar.Colorbar at 0x2b414dbc9b40>"
      ]
     },
     "execution_count": 78,
     "metadata": {},
     "output_type": "execute_result"
    },
    {
     "data": {
      "image/png": "[encoded data removed]",
      "text/plain": [
       "<Figure size 432x432 with 2 Axes>"
      ]
     },
     "metadata": {
      "needs_background": "light"
     },
     "output_type": "display_data"
    }
   ],
   "source": [
    "plt.imshow(jnp.fft.fftshift(v_resid_pert[:,:,0]*mask[:,:,0])); plt.colorbar()"
   ]
  },
  {
   "cell_type": "code",
   "execution_count": 87,
   "id": "3c085f81-ddd3-45d0-a494-ef67f927ab14",
   "metadata": {},
   "outputs": [],
   "source": [
    "v_resid_print = jnp.fft.fftshift(v_resid_pert*mask)\n",
    "with mrcfile.new('../data/3dfsc/v_resid_64_pert.mrc', overwrite=True) as mrc:\n",
    "    mrc.set_data(v_resid_print.astype(np.float32))"
   ]
  },
  {
   "cell_type": "code",
   "execution_count": 52,
   "id": "4c049b36-2330-4039-9f60-97ea20d4f264",
   "metadata": {},
   "outputs": [
    {
     "name": "stderr",
     "output_type": "stream",
     "text": [
      "100%|██████████| 10/10 [00:04<00:00,  2.12it/s]\n",
      "100%|██████████| 60000/60000 [10:27<00:00, 95.68it/s]   \n"
     ]
    }
   ],
   "source": [
    "v_resid_zero = get_volume_residual(jnp.zeros(v_rec.shape), angles_test, shifts_test, ctf_params_test, imgs_test, sigma_noise, x_grid, slice_func_array, N_batches)\n"
   ]
  },
  {
   "cell_type": "code",
   "execution_count": 53,
   "id": "1ba9f44a-bcbf-45e2-9624-39a3304403f0",
   "metadata": {},
   "outputs": [
    {
     "data": {
      "text/plain": [
       "<matplotlib.colorbar.Colorbar at 0x2b41b7f5de10>"
      ]
     },
     "execution_count": 53,
     "metadata": {},
     "output_type": "execute_result"
    },
    {
     "data": {
      "image/png": "[encoded data removed]",
      "text/plain": [
       "<Figure size 432x432 with 2 Axes>"
      ]
     },
     "metadata": {
      "needs_background": "light"
     },
     "output_type": "display_data"
    }
   ],
   "source": [
    "plt.imshow(jnp.fft.fftshift(v_resid_zero[:,:,0]*mask[:,:,0])); plt.colorbar()"
   ]
  },
  {
   "cell_type": "code",
   "execution_count": 54,
   "id": "f454e6fa-4a87-4151-a62b-7dab3f4219aa",
   "metadata": {},
   "outputs": [],
   "source": [
    "v_resid_zero_print = jnp.fft.fftshift(v_resid_zero*mask)\n",
    "with mrcfile.new('../data/3dfsc/v_resid_64_zero.mrc', overwrite=True) as mrc:\n",
    "    mrc.set_data(v_resid_zero_print.astype(np.float32))"
   ]
  },
  {
   "cell_type": "code",
   "execution_count": 80,
   "id": "cde47919-8d17-4a5d-a3ba-e940f205d9bc",
   "metadata": {},
   "outputs": [],
   "source": [
    "v_resid_m = jnp.fft.fftshift(v_resid*mask)\n",
    "v_resid_pert_m = jnp.fft.fftshift(v_resid_pert*mask)\n",
    "v_resid_zero_m = jnp.fft.fftshift(v_resid_zero*mask)"
   ]
  },
  {
   "cell_type": "code",
   "execution_count": 81,
   "id": "fc9a3868-97ca-4838-a28b-6808441ee241",
   "metadata": {},
   "outputs": [
    {
     "data": {
      "text/plain": [
       "DeviceArray(1.16034795, dtype=float64)"
      ]
     },
     "execution_count": 81,
     "metadata": {},
     "output_type": "execute_result"
    }
   ],
   "source": [
    "jnp.max(v_resid_m)"
   ]
  },
  {
   "cell_type": "code",
   "execution_count": 82,
   "id": "9ed7cd60-b86a-4139-9925-c3660d7dbb73",
   "metadata": {},
   "outputs": [
    {
     "data": {
      "text/plain": [
       "DeviceArray(1.18339812, dtype=float64)"
      ]
     },
     "execution_count": 82,
     "metadata": {},
     "output_type": "execute_result"
    }
   ],
   "source": [
    "jnp.max(v_resid_zero_m)"
   ]
  },
  {
   "cell_type": "code",
   "execution_count": 83,
   "id": "b7e9a304-ab7a-469a-bcbe-5f5ed451cc79",
   "metadata": {},
   "outputs": [
    {
     "name": "stdout",
     "output_type": "stream",
     "text": [
      "1.1603479466036406\n",
      "1.1596376817886136\n",
      "1.1833981243751208\n",
      "1.1833981243751208\n"
     ]
    }
   ],
   "source": [
    "print(jnp.max(v_resid_m))\n",
    "print(jnp.max(v_resid_pert_m))\n",
    "print(jnp.max(v_resid_zero_m))\n",
    "plot_vmax = jnp.max(jnp.array([v_resid_m, v_resid_pert_m, v_resid_zero_m]))\n",
    "#plot_vmax = jnp.max(jnp.array([v_resid_m, v_resid_zero_m]))\n",
    "\n",
    "print(plot_vmax)"
   ]
  },
  {
   "cell_type": "code",
   "execution_count": 93,
   "id": "bb2803a0-fb14-4edb-ad58-93e7da381eec",
   "metadata": {},
   "outputs": [
    {
     "data": {
      "text/plain": [
       "<matplotlib.colorbar.Colorbar at 0x2b41bc4e7730>"
      ]
     },
     "execution_count": 93,
     "metadata": {},
     "output_type": "execute_result"
    },
    {
     "data": {
      "image/png": "[encoded data removed]",
      "text/plain": [
       "<Figure size 432x432 with 2 Axes>"
      ]
     },
     "metadata": {
      "needs_background": "light"
     },
     "output_type": "display_data"
    }
   ],
   "source": [
    "plt.imshow(v_resid_m[:,:,32], vmin=0, vmax=plot_vmax)\n",
    "plt.colorbar()\n",
    "#plt.title('True angles')\n",
    "\n",
    "#plt.savefig('v_resid_slice.png')"
   ]
  },
  {
   "cell_type": "code",
   "execution_count": 94,
   "id": "d8c7090a-674c-4b0a-9a0e-7a894d1f4115",
   "metadata": {},
   "outputs": [
    {
     "data": {
      "text/plain": [
       "<matplotlib.colorbar.Colorbar at 0x2b41b7eb7bb0>"
      ]
     },
     "execution_count": 94,
     "metadata": {},
     "output_type": "execute_result"
    },
    {
     "data": {
      "image/png": "[encoded data removed]",
      "text/plain": [
       "<Figure size 432x432 with 2 Axes>"
      ]
     },
     "metadata": {
      "needs_background": "light"
     },
     "output_type": "display_data"
    }
   ],
   "source": [
    "plt.imshow(v_resid_pert_m[:,:,32], vmin=0, vmax=plot_vmax)\n",
    "plt.colorbar()\n",
    "#plt.title('Perturbed angles')\n",
    "#plt.savefig('v_resid_pert_slice.png')"
   ]
  },
  {
   "cell_type": "code",
   "execution_count": 95,
   "id": "97359d99-1a7c-469f-af52-54bc16de3cde",
   "metadata": {},
   "outputs": [
    {
     "data": {
      "text/plain": [
       "<matplotlib.colorbar.Colorbar at 0x2b41ba3b1f60>"
      ]
     },
     "execution_count": 95,
     "metadata": {},
     "output_type": "execute_result"
    },
    {
     "data": {
      "image/png": "[encoded data removed]",
      "text/plain": [
       "<Figure size 432x432 with 2 Axes>"
      ]
     },
     "metadata": {
      "needs_background": "light"
     },
     "output_type": "display_data"
    }
   ],
   "source": [
    "plt.imshow(v_resid_zero_m[:,:,32], vmin=0, vmax=plot_vmax)\n",
    "plt.colorbar()\n",
    "#plt.title('Perturbed angles')\n",
    "#plt.savefig('v_resid_zero_slice.png')"
   ]
  },
  {
   "cell_type": "markdown",
   "id": "1dc3f961-605d-4317-be1e-b8651ea36d48",
   "metadata": {},
   "source": [
    "### Plots"
   ]
  },
  {
   "cell_type": "markdown",
   "id": "24fde75f-3ee8-4ee7-a5e0-4cf431a4ca68",
   "metadata": {},
   "source": [
    "### Separate the projection step"
   ]
  },
  {
   "cell_type": "code",
   "execution_count": null,
   "id": "8501a6fd-a8cc-4975-94a9-56a943b97abf",
   "metadata": {},
   "outputs": [],
   "source": [
    "# Force garbage collection when it throws OOM on GPU for small amount.\n",
    "#import gc\n",
    "#gc.collect()"
   ]
  },
  {
   "cell_type": "code",
   "execution_count": null,
   "id": "df297af9-4976-49ce-8b3f-3ce40c801910",
   "metadata": {},
   "outputs": [],
   "source": [
    "from src.residual import *\n",
    "N_batches = 60000\n",
    "\n",
    "resid = get_3d_residuals_list(v_rec, angles_rec[N_train:5000], shifts[N_train:], ctf_params[N_train:], imgs_f[N_train:], slice_func_array)\n",
    "coords = get_3d_coords_list(angles_rec[N_train:5000], x_grid)\n",
    "\n",
    "v_resid2 = get_volume_residual(coords, resid, x_grid, N_batches)\n",
    "\n"
   ]
  },
  {
   "cell_type": "code",
   "execution_count": null,
   "id": "3e630ff7-1f32-44f5-a6cf-bf5eb6a3119e",
   "metadata": {},
   "outputs": [],
   "source": [
    "plt.imshow(jnp.abs(jnp.fft.fftshift(v_resid2[:,:,0]*mask[:,:,0]))); plt.colorbar()"
   ]
  },
  {
   "cell_type": "code",
   "execution_count": null,
   "id": "b94713e9-a643-4732-8b5f-8dafcdeda772",
   "metadata": {},
   "outputs": [],
   "source": [
    "jnp.sum(jnp.abs(v_resid-v_resid2))"
   ]
  },
  {
   "cell_type": "code",
   "execution_count": null,
   "id": "0bf55246-f099-4bc7-a7d1-00360b714f49",
   "metadata": {},
   "outputs": [],
   "source": [
    "resid.shape"
   ]
  },
  {
   "cell_type": "code",
   "execution_count": null,
   "id": "a327d100-b47e-4643-9d4e-7820c52a8c30",
   "metadata": {},
   "outputs": [],
   "source": [
    "coords.shape"
   ]
  },
  {
   "cell_type": "code",
   "execution_count": null,
   "id": "35a6a6e8-8e15-4169-912f-e0c8d9a6373d",
   "metadata": {},
   "outputs": [],
   "source": [
    "resid = get_3d_residuals_list(v_rec, angles_rec[N_train:5000], shifts[N_train:], ctf_params[N_train:], imgs_f[N_train:], slice_func_array)\n",
    "coords = get_3d_coords_list(angles_rec[N_train:5000], x_grid)\n",
    "\n",
    "v_resid2 = get_volume_residual(coords, resid, x_grid, N_batches)\n",
    "\n",
    "\n"
   ]
  },
  {
   "cell_type": "code",
   "execution_count": 33,
   "id": "cf3b76bf-1a1f-4cf0-9f55-e8d81e90e05e",
   "metadata": {},
   "outputs": [],
   "source": [
    "from src.residual import *"
   ]
  },
  {
   "cell_type": "code",
   "execution_count": null,
   "id": "3e767ba6-48c0-4a31-83aa-0b1f3bfa9506",
   "metadata": {},
   "outputs": [
    {
     "name": "stderr",
     "output_type": "stream",
     "text": [
      "  0%|          | 0/60000 [00:00<?, ?it/s]"
     ]
    },
    {
     "name": "stdout",
     "output_type": "stream",
     "text": [
      "0\n"
     ]
    }
   ],
   "source": [
    "N_batches = 60000\n",
    "v_resid2 = get_v_resid_from_v_batch(v_rec, angles_rec[N_train:N_train+2], shifts[N_train:N_train+2], ctf_params[N_train:N_train+2], imgs_f[N_train:N_train+2], slice_func_array, x_grid, N_batches)\n"
   ]
  },
  {
   "cell_type": "code",
   "execution_count": null,
   "id": "0f4e020a-a6fe-4379-8769-b70c597a9e64",
   "metadata": {},
   "outputs": [],
   "source": [
    "plt.imshow(jnp.abs(jnp.fft.fftshift(v_resid2[:,:,0]*mask[:,:,0]))); plt.colorbar()\n",
    "\n",
    "\n"
   ]
  },
  {
   "cell_type": "code",
   "execution_count": null,
   "id": "fd1f91b5-c297-4b74-a51d-0661c8499391",
   "metadata": {},
   "outputs": [],
   "source": [
    "slice_func_array_jit = jax.jit(slice_func_array)"
   ]
  },
  {
   "cell_type": "code",
   "execution_count": null,
   "id": "effd5377-b2a6-44e1-bbaf-349f03465a32",
   "metadata": {},
   "outputs": [],
   "source": [
    "jnp.sum(jnp.abs(v_resid-v_resid2))"
   ]
  }
 ],
 "metadata": {
  "kernelspec": {
   "display_name": "Python 3 (ipykernel)",
   "language": "python",
   "name": "python3"
  },
  "language_info": {
   "codemirror_mode": {
    "name": "ipython",
    "version": 3
   },
   "file_extension": ".py",
   "mimetype": "text/x-python",
   "name": "python",
   "nbconvert_exporter": "python",
   "pygments_lexer": "ipython3",
   "version": "3.10.2"
  }
 },
 "nbformat": 4,
 "nbformat_minor": 5
}
