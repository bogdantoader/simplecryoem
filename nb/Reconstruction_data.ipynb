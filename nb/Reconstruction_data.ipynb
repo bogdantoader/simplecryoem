{
 "cells": [
  {
   "cell_type": "code",
   "execution_count": 1,
   "id": "249cb249-f43e-4cc4-88c0-fa2ec6131c81",
   "metadata": {},
   "outputs": [],
   "source": [
    "%load_ext autoreload\n",
    "%autoreload 2\n",
    "import site\n",
    "import sys\n",
    "import time\n",
    "site.addsitedir('..')\n",
    "from jax.config import config\n",
    "\n",
    "config.update(\"jax_enable_x64\", True)"
   ]
  },
  {
   "cell_type": "code",
   "execution_count": 2,
   "id": "ef60f1df-7cc5-42bc-afbd-23704b6ad46c",
   "metadata": {},
   "outputs": [],
   "source": [
    "import numpy as np\n",
    "import jax.numpy as jnp\n",
    "from  matplotlib import pyplot as plt\n",
    "from src.utils import *\n",
    "from src.projection import project_spatial, project, rotate\n",
    "from src.interpolate import *\n",
    "from src.emfiles import get_data_from_df\n",
    "import jax\n",
    "\n",
    "from external.pyem.project import project as project_pyem\n",
    "from external.pyem.pyem import star\n",
    "from external.pyem.pyem import vop\n",
    "import mrcfile"
   ]
  },
  {
   "cell_type": "code",
   "execution_count": null,
   "id": "0148b4e0-c03b-42c9-969d-329e330149d1",
   "metadata": {},
   "outputs": [],
   "source": [
    "data_dir = \"/project/lederman/rrl28/share/cryoem_data/v3/CaltechWeaver/\"\n",
    "star_file = data_dir + \"job550_particles_subsamp5_10000_30_40_1.star\"\n",
    "df = star.parse_star(star_file, keep_index = False)\n",
    "\n",
    "imgs, pixel_size, angles, shifts, ctf_params = get_data_from_df(df, data_dir)"
   ]
  },
  {
   "cell_type": "code",
   "execution_count": null,
   "id": "5cd80002-e2a5-49bc-8c1a-86140c0e7a30",
   "metadata": {},
   "outputs": [],
   "source": [
    "print(imgs.shape)\n",
    "print(pixel_size.shape)\n",
    "print(angles.shape)\n",
    "print(shifts.shape)\n",
    "print(ctf_params.shape)"
   ]
  }
 ],
 "metadata": {
  "kernelspec": {
   "display_name": "Python 3",
   "language": "python",
   "name": "python3"
  },
  "language_info": {
   "codemirror_mode": {
    "name": "ipython",
    "version": 3
   },
   "file_extension": ".py",
   "mimetype": "text/x-python",
   "name": "python",
   "nbconvert_exporter": "python",
   "pygments_lexer": "ipython3",
   "version": "3.6.9"
  }
 },
 "nbformat": 4,
 "nbformat_minor": 5
}
