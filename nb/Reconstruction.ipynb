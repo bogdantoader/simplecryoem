{
 "cells": [
  {
   "cell_type": "markdown",
   "id": "3ebabba5-bf45-49c2-af8c-1e759200fd0d",
   "metadata": {},
   "source": [
    "# Reconstruction of volume from simulated data"
   ]
  },
  {
   "cell_type": "code",
   "execution_count": 1,
   "id": "9b330c46-3eb8-455e-9d95-0bdae7386627",
   "metadata": {},
   "outputs": [],
   "source": [
    "%load_ext autoreload\n",
    "%autoreload 2\n",
    "import site\n",
    "import sys\n",
    "import time\n",
    "site.addsitedir('..')\n",
    "from jax.config import config\n",
    "\n",
    "config.update(\"jax_enable_x64\", True)"
   ]
  },
  {
   "cell_type": "code",
   "execution_count": 2,
   "id": "7dbed24b-5190-4dd2-8b2d-a6241333ab3d",
   "metadata": {},
   "outputs": [],
   "source": [
    "import numpy as np\n",
    "import jax.numpy as jnp\n",
    "from  matplotlib import pyplot as plt\n",
    "from src.utils import *\n",
    "from src.projection import project_spatial, project, rotate\n",
    "from src.interpolate import *\n",
    "from src.jaxops import *\n",
    "import jax\n",
    "\n",
    "from external.pyem.project import project as project_pyem\n",
    "from external.pyem.pyem import star\n",
    "from external.pyem.pyem import vop\n",
    "from pyfftw.builders import irfft2"
   ]
  },
  {
   "cell_type": "markdown",
   "id": "e8f6fddc-840b-4e68-9454-823a8c849999",
   "metadata": {},
   "source": [
    "### Generate the volume"
   ]
  },
  {
   "cell_type": "code",
   "execution_count": 3,
   "id": "179ba85d-9c47-41ca-9479-787323304f18",
   "metadata": {},
   "outputs": [
    {
     "data": {
      "text/plain": [
       "Text(0.5, 1.0, 'Volume_comp MIP')"
      ]
     },
     "execution_count": 3,
     "metadata": {},
     "output_type": "execute_result"
    },
    {
     "data": {
      "image/png": "[encoded data removed]",
      "text/plain": [
       "<Figure size 432x288 with 2 Axes>"
      ]
     },
     "metadata": {
      "needs_background": "light"
     },
     "output_type": "display_data"
    }
   ],
   "source": [
    "nx = 64\n",
    "shape = np.array([nx,nx,nx])\n",
    "dimensions = np.array([20,20,20])\n",
    "pixel_size = dimensions[0]/shape[0]\n",
    "\n",
    "# A volume with components\n",
    "centres = np.array([[0,0,0], [3, 3, 0], [3, -3, 0]])\n",
    "radii = np.array([3, 1.5, 1.5])\n",
    "intensities = np.array([10,7,20])\n",
    "\n",
    "vol = np.fft.fftshift(jnp.array(volume_comp(shape, dimensions, centres, radii, intensities, False)))\n",
    "vol_fourier, x_grid = volume_fourier(jnp.fft.ifftshift(vol), pixel_size)\n",
    "\n",
    "y_grid = x_grid\n",
    "z_grid = x_grid\n",
    "\n",
    "mip_z(vol)\n",
    "#plt.imshow(v[:,:,int(np.floor(v.shape[2]/2))])\n",
    "plt.colorbar()\n",
    "plt.title('Volume_comp MIP')"
   ]
  },
  {
   "cell_type": "code",
   "execution_count": 4,
   "id": "455e79df-3c97-4484-9583-6973a4f71748",
   "metadata": {},
   "outputs": [
    {
     "data": {
      "text/plain": [
       "<matplotlib.colorbar.Colorbar at 0x2ba7e05355c0>"
      ]
     },
     "execution_count": 4,
     "metadata": {},
     "output_type": "execute_result"
    },
    {
     "data": {
      "image/png": "[encoded data removed]",
      "text/plain": [
       "<Figure size 432x288 with 2 Axes>"
      ]
     },
     "metadata": {
      "needs_background": "light"
     },
     "output_type": "display_data"
    }
   ],
   "source": [
    "mip_z(jnp.fft.fftshift(jnp.abs((vol_fourier)))); plt.colorbar()"
   ]
  },
  {
   "cell_type": "markdown",
   "id": "6e9ca144-bf22-46d5-8420-6985eb50001e",
   "metadata": {},
   "source": [
    "### Generate the data"
   ]
  },
  {
   "cell_type": "markdown",
   "id": "0c80f089-5b8e-4ef4-984c-dd9bea7b10da",
   "metadata": {},
   "source": [
    "CTF"
   ]
  },
  {
   "cell_type": "code",
   "execution_count": 5,
   "id": "f205bc2f-24e1-48b1-94c3-89315413ca7a",
   "metadata": {},
   "outputs": [
    {
     "name": "stderr",
     "output_type": "stream",
     "text": [
      "/home/bt387/project/2021_CryoEMSolver7/external/pyem/pyem/star.py:532: FutureWarning: Columnar iteration over characters will be deprecated in future releases.\n",
      "  df[Relion.IMAGE_NAME].str.split(\"@\").str\n",
      "/home/bt387/project/2021_CryoEMSolver7/external/pyem/pyem/star.py:540: FutureWarning: Columnar iteration over characters will be deprecated in future releases.\n",
      "  df[Relion.IMAGE_ORIGINAL_NAME].str.split(\"@\").str\n"
     ]
    }
   ],
   "source": [
    "df = star.parse_star(\"../external/pyem/pyem.star\", keep_index = False)\n",
    "dfiter = df.iterrows()\n",
    "_, p = next(dfiter)\n",
    "\n",
    "#ctf_params = {'def1'  : p[star.Relion.DEFOCUSU], \n",
    "#              'def2'  : p[star.Relion.DEFOCUSV],\n",
    "#              'angast': p[star.Relion.DEFOCUSANGLE], \n",
    "#              'phase' : p[star.Relion.PHASESHIFT],\n",
    "#              'kv'    : p[star.Relion.VOLTAGE],\n",
    "#              'ac'    : p[star.Relion.AC], \n",
    "#              'cs'    : p[star.Relion.CS], \n",
    "#              'bf'    : 0,\n",
    "#              'lp'    : 2 * pixel_size}\n",
    "\n",
    "ctf_params0 = np.array([p[star.Relion.DEFOCUSU],\n",
    "                      p[star.Relion.DEFOCUSV],\n",
    "                      p[star.Relion.DEFOCUSANGLE], \n",
    "                      p[star.Relion.PHASESHIFT],\n",
    "                      p[star.Relion.VOLTAGE],\n",
    "                      p[star.Relion.AC],\n",
    "                      p[star.Relion.CS],\n",
    "                      0,\n",
    "                      2 * pixel_size])"
   ]
  },
  {
   "cell_type": "markdown",
   "id": "acadb8bc-be39-413d-9fe4-04b132a118a0",
   "metadata": {},
   "source": [
    "Generate projections (in Fourier domain)"
   ]
  },
  {
   "cell_type": "code",
   "execution_count": 6,
   "id": "16701bad-a4c2-46ed-86d7-e5d9187d2255",
   "metadata": {},
   "outputs": [
    {
     "name": "stdout",
     "output_type": "stream",
     "text": [
      "9.032296419143677\n"
     ]
    },
    {
     "data": {
      "text/plain": [
       "<matplotlib.colorbar.Colorbar at 0x2ba7e17beba8>"
      ]
     },
     "execution_count": 6,
     "metadata": {},
     "output_type": "execute_result"
    },
    {
     "data": {
      "image/png": "[encoded data removed]",
      "text/plain": [
       "<Figure size 432x288 with 2 Axes>"
      ]
     },
     "metadata": {
      "needs_background": "light"
     },
     "output_type": "display_data"
    }
   ],
   "source": [
    "radius = 10\n",
    "mask = create_mask(x_grid, (0,0,0),radius)\n",
    "#mip_z(jnp.fft.fftshift(mask)); plt.colorbar()\n",
    "\n",
    "slice_func,slice_func_array = get_slice_funcs(project, x_grid, y_grid, z_grid, mask, \"tri\")\n",
    "\n",
    "img0 = slice_func(vol_fourier, [0,0,0], [0,0], ctf_params0)\n",
    "\n",
    "N = 20000\n",
    "angles_true = jnp.array(np.random.rand(N,3))*jnp.pi*2\n",
    "shifts_true = jnp.zeros([N,3])\n",
    "ctf_params = jnp.array([ctf_params0] * N)\n",
    "start = time.time()\n",
    "imgs = slice_func_array(vol_fourier, angles_true, shifts_true, ctf_params) + (np.random.randn(N, nx*nx) + 1j*np.random.randn(N, nx*nx)) * jnp.max(img0) /2\n",
    "print(time.time()-start)\n",
    "\n",
    "plt.imshow(jnp.fft.fftshift(jnp.real(imgs[103].reshape(nx,nx)))); plt.colorbar()"
   ]
  },
  {
   "cell_type": "markdown",
   "id": "2273487d-2cd3-4361-ad7a-a1f4a9af5665",
   "metadata": {},
   "source": [
    "### Crop images and volume:"
   ]
  },
  {
   "cell_type": "code",
   "execution_count": 7,
   "id": "4f3f2579-fb64-477f-b882-0998efaeaae6",
   "metadata": {},
   "outputs": [],
   "source": [
    "from src.emfiles import crop_fourier_images, crop_fourier_volume\n",
    "\n",
    "nx = 32\n",
    "imgs = imgs.reshape(imgs.shape[0], 64, 64)\n",
    "imgs, x_grid = crop_fourier_images(imgs, x_grid, nx)\n",
    "imgs = imgs.reshape(imgs.shape[0], nx*nx)\n",
    "\n",
    "vol_fourier, _ = crop_fourier_volume(vol_fourier, x_grid, nx)\n",
    "\n",
    "y_grid = x_grid\n",
    "z_grid = x_grid"
   ]
  },
  {
   "cell_type": "code",
   "execution_count": 8,
   "id": "8cbb1bdb-028f-47c9-8954-78d5d06db0a3",
   "metadata": {},
   "outputs": [
    {
     "data": {
      "text/plain": [
       "<matplotlib.colorbar.Colorbar at 0x2ba82fe8e748>"
      ]
     },
     "execution_count": 8,
     "metadata": {},
     "output_type": "execute_result"
    },
    {
     "data": {
      "image/png": "[encoded data removed]",
      "text/plain": [
       "<Figure size 432x288 with 2 Axes>"
      ]
     },
     "metadata": {
      "needs_background": "light"
     },
     "output_type": "display_data"
    }
   ],
   "source": [
    "plt.imshow(jnp.fft.fftshift(jnp.real(imgs[103].reshape(nx,nx)))); plt.colorbar()"
   ]
  },
  {
   "cell_type": "code",
   "execution_count": 9,
   "id": "addbc3c0-469e-48ca-afa0-88b18da8f3f9",
   "metadata": {},
   "outputs": [
    {
     "data": {
      "text/plain": [
       "<matplotlib.colorbar.Colorbar at 0x2ba7e03eb940>"
      ]
     },
     "execution_count": 9,
     "metadata": {},
     "output_type": "execute_result"
    },
    {
     "data": {
      "image/png": "[encoded data removed]",
      "text/plain": [
       "<Figure size 432x288 with 2 Axes>"
      ]
     },
     "metadata": {
      "needs_background": "light"
     },
     "output_type": "display_data"
    }
   ],
   "source": [
    "mip_z(jnp.fft.fftshift(jnp.abs((vol_fourier)))); plt.colorbar()"
   ]
  },
  {
   "cell_type": "code",
   "execution_count": 10,
   "id": "b06bd9f1-53e3-454e-8c9f-eb2b8c18b38b",
   "metadata": {},
   "outputs": [
    {
     "data": {
      "text/plain": [
       "<matplotlib.colorbar.Colorbar at 0x2ba7e0577710>"
      ]
     },
     "execution_count": 10,
     "metadata": {},
     "output_type": "execute_result"
    },
    {
     "data": {
      "image/png": "[encoded data removed]",
      "text/plain": [
       "<Figure size 432x288 with 2 Axes>"
      ]
     },
     "metadata": {
      "needs_background": "light"
     },
     "output_type": "display_data"
    }
   ],
   "source": [
    "mip_z(jnp.fft.fftshift(jnp.real(jnp.fft.ifftn(vol_fourier)))); plt.colorbar()"
   ]
  },
  {
   "cell_type": "markdown",
   "id": "2a8ff33e-2b1c-407d-b04d-dd597fc4d421",
   "metadata": {},
   "source": [
    "### Loss functions for the new dimension"
   ]
  },
  {
   "cell_type": "code",
   "execution_count": 11,
   "id": "f69f1514-9909-4da3-9413-3ff36ea9b702",
   "metadata": {},
   "outputs": [
    {
     "data": {
      "image/png": "[encoded data removed]",
      "text/plain": [
       "<Figure size 432x288 with 2 Axes>"
      ]
     },
     "metadata": {
      "needs_background": "light"
     },
     "output_type": "display_data"
    }
   ],
   "source": [
    "alpha = 0.001\n",
    "\n",
    "radius = 0.8\n",
    "mask = create_mask(x_grid, (0,0,0),radius)\n",
    "mip_z(jnp.fft.fftshift(mask)); plt.colorbar()\n",
    "\n",
    "slice_func,slice_func_array = get_slice_funcs(project, x_grid, y_grid, z_grid, mask, \"tri\")\n",
    "\n",
    "loss_func, loss_func_batched, loss_func_sum = get_loss_funcs(slice_func, alpha = alpha)\n",
    "grad_loss_volume, grad_loss_volume_batched, grad_loss_volume_sum = get_grad_v_funcs(loss_func, loss_func_sum)"
   ]
  },
  {
   "cell_type": "code",
   "execution_count": 12,
   "id": "bec1e279-bee9-483c-bf6d-da8bea3d1c7b",
   "metadata": {},
   "outputs": [
    {
     "name": "stdout",
     "output_type": "stream",
     "text": [
      "1.3960280418395996\n",
      "(20,)\n"
     ]
    }
   ],
   "source": [
    "start = time.time()\n",
    "ll = loss_func_batched(np.random.randn(nx,nx,nx), angles_true[:20], shifts_true[:20], ctf_params[:20], imgs[:20])\n",
    "print(time.time()-start)\n",
    "print(ll.shape)"
   ]
  },
  {
   "cell_type": "markdown",
   "id": "d267a592-7199-4cd8-bc4c-ecab404c1b97",
   "metadata": {},
   "source": [
    "Gradients with respect to volume pixels, over all (or a batch of) images"
   ]
  },
  {
   "cell_type": "code",
   "execution_count": 13,
   "id": "4028b0e6-a7b6-4224-903f-83f08d94182f",
   "metadata": {},
   "outputs": [
    {
     "name": "stdout",
     "output_type": "stream",
     "text": [
      "1.2874996662139893\n",
      "(32, 32, 32)\n"
     ]
    }
   ],
   "source": [
    "start = time.time()\n",
    "ll = grad_loss_volume(np.random.randn(nx,nx,nx), angles_true[0],  shifts_true[0], ctf_params[0], imgs[0])\n",
    "print(time.time()-start)\n",
    "print(ll.shape)"
   ]
  },
  {
   "cell_type": "markdown",
   "id": "2f5fb2cb-73aa-4fe6-a8fa-b3df1b4fdcb9",
   "metadata": {},
   "source": [
    "Doing the below with N large enough (e.g. 1000) makes it run out of memory (trying to allocate >200GB)"
   ]
  },
  {
   "cell_type": "code",
   "execution_count": 14,
   "id": "6b29483d-8bd8-4174-b7a1-6e0617a98627",
   "metadata": {},
   "outputs": [
    {
     "name": "stdout",
     "output_type": "stream",
     "text": [
      "2.017305850982666\n",
      "(32, 32, 32)\n"
     ]
    }
   ],
   "source": [
    "batch_size = 10\n",
    "idx = np.random.default_rng().choice(N, size=batch_size, replace = False)\n",
    "\n",
    "start = time.time()\n",
    "ll = grad_loss_volume_batched(np.random.randn(nx,nx,nx), angles_true[idx], shifts_true[idx], ctf_params[idx], imgs[idx])\n",
    "print(time.time()-start)\n",
    "print(ll.shape)"
   ]
  },
  {
   "cell_type": "markdown",
   "id": "c28666d9-5830-447c-b2ec-29e2017b1472",
   "metadata": {},
   "source": [
    "## Optimization with respect to volume"
   ]
  },
  {
   "cell_type": "markdown",
   "id": "1f9fb839-9d6b-4881-a7d6-bc8f35924af0",
   "metadata": {},
   "source": [
    "### CG"
   ]
  },
  {
   "cell_type": "code",
   "execution_count": 15,
   "id": "f7da0a54-aea8-4102-896a-ce192b9197a9",
   "metadata": {},
   "outputs": [
    {
     "name": "stdout",
     "output_type": "stream",
     "text": [
      "Iter 0 ||r|| = 0.4846586498754962\n",
      "Iter 1 ||r|| = 0.18024495962700401\n",
      "Iter 2 ||r|| = 0.13706979952729859\n",
      "Iter 3 ||r|| = 0.08842965908792172\n",
      "Iter 4 ||r|| = 0.06605414688507495\n",
      "Iter 5 ||r|| = 0.04432593940865045\n",
      "Iter 6 ||r|| = 0.038328594711087356\n",
      "Iter 7 ||r|| = 0.03349485926658746\n",
      "Iter 8 ||r|| = 0.029361036316274947\n",
      "Iter 9 ||r|| = 0.022453481008646872\n",
      "Iter 10 ||r|| = 0.01690449254888393\n",
      "Iter 11 ||r|| = 0.01674313882433632\n",
      "Iter 12 ||r|| = 0.01334960238896363\n",
      "Iter 13 ||r|| = 0.009822292404603609\n",
      "Iter 14 ||r|| = 0.007894685750143616\n",
      "Iter 15 ||r|| = 0.007041314798135641\n",
      "Iter 16 ||r|| = 0.005030476703149618\n",
      "Iter 17 ||r|| = 0.004707352607656114\n",
      "Iter 18 ||r|| = 0.004415573965718227\n",
      "Iter 19 ||r|| = 0.0036398309384148694\n",
      "Iter 20 ||r|| = 0.0030562465413772073\n",
      "Iter 21 ||r|| = 0.002891028609138495\n",
      "Iter 22 ||r|| = 0.0018025426347073928\n",
      "Iter 23 ||r|| = 0.0022801091196639005\n",
      "Iter 24 ||r|| = 0.0019381031103340315\n",
      "Iter 25 ||r|| = 0.001480316657416773\n",
      "Iter 26 ||r|| = 0.0015168001663727984\n",
      "Iter 27 ||r|| = 0.0013422839251585204\n",
      "Iter 28 ||r|| = 0.0011053136732555942\n",
      "Iter 29 ||r|| = 0.0012363437527704512\n",
      "Iter 30 ||r|| = 0.0009260905005279395\n",
      "Iter 31 ||r|| = 0.0011279094439830579\n",
      "Iter 32 ||r|| = 0.0009730127759774307\n",
      "Iter 33 ||r|| = 0.000723453612476719\n",
      "Iter 34 ||r|| = 0.001157438273231546\n",
      "Iter 35 ||r|| = 0.0010402671569454047\n",
      "Iter 36 ||r|| = 0.0008693968024754083\n",
      "Iter 37 ||r|| = 0.0007219903370013987\n",
      "Iter 38 ||r|| = 0.0006370319540756754\n",
      "Iter 39 ||r|| = 0.0006983991806351154\n",
      "Iter 40 ||r|| = 0.0007942104090715606\n",
      "Iter 41 ||r|| = 0.0008276962489119419\n",
      "Iter 42 ||r|| = 0.0006702348354299443\n",
      "Iter 43 ||r|| = 0.0005757757350889791\n",
      "Iter 44 ||r|| = 0.0006160262620041286\n",
      "Iter 45 ||r|| = 0.0005998653069081713\n",
      "Iter 46 ||r|| = 0.0005995895077245833\n",
      "Iter 47 ||r|| = 0.0006413923946150706\n",
      "Iter 48 ||r|| = 0.0006400050037237654\n",
      "Iter 49 ||r|| = 0.0005616143137585464\n"
     ]
    }
   ],
   "source": [
    "from src.algorithm import conjugate_gradient, get_cg_vol_ops\n",
    "\n",
    "v0 = jnp.array(np.random.randn(nx,nx,nx) + 1j * np.random.randn(nx,nx,nx))\n",
    "N_iter = 50\n",
    "\n",
    "\n",
    "AA, Ab = get_cg_vol_ops(grad_loss_volume_sum, angles_true, shifts_true, ctf_params, imgs, v0.shape)\n",
    "\n",
    "vcg, max_iter = conjugate_gradient(AA, Ab, v0, N_iter, verbose = True)\n"
   ]
  },
  {
   "cell_type": "code",
   "execution_count": 16,
   "id": "fba2f608-e54e-4eeb-9012-6f23cec989e8",
   "metadata": {},
   "outputs": [
    {
     "name": "stdout",
     "output_type": "stream",
     "text": [
      "Relative error =  0.13555398240147373\n",
      "Absolute error =  37.13646795448061\n"
     ]
    }
   ],
   "source": [
    "#print(\"Final loss function = \", loss_func_sum(vcg, angles_true, shifts_true, ctf_params, imgs))\n",
    "print(\"Relative error = \", jnp.max(jnp.abs((vcg - vol_fourier)/jnp.max(vol_fourier))))\n",
    "print(\"Absolute error = \", jnp.mean(jnp.abs((vcg - vol_fourier))))"
   ]
  },
  {
   "cell_type": "code",
   "execution_count": 17,
   "id": "c05cc541-5af0-40ff-80b0-0ed4abb25f2b",
   "metadata": {},
   "outputs": [
    {
     "data": {
      "text/plain": [
       "<matplotlib.colorbar.Colorbar at 0x2ba89f5e2978>"
      ]
     },
     "execution_count": 17,
     "metadata": {},
     "output_type": "execute_result"
    },
    {
     "data": {
      "image/png": "[encoded data removed]",
      "text/plain": [
       "<Figure size 432x288 with 2 Axes>"
      ]
     },
     "metadata": {
      "needs_background": "light"
     },
     "output_type": "display_data"
    }
   ],
   "source": [
    "mip_z(jnp.abs(jnp.fft.fftshift((vcg)))) ; plt.colorbar()"
   ]
  },
  {
   "cell_type": "code",
   "execution_count": 18,
   "id": "b7d29d79-34e5-4dd3-932b-dee41295dad6",
   "metadata": {},
   "outputs": [
    {
     "data": {
      "text/plain": [
       "<matplotlib.colorbar.Colorbar at 0x2ba7e1569b38>"
      ]
     },
     "execution_count": 18,
     "metadata": {},
     "output_type": "execute_result"
    },
    {
     "data": {
      "image/png": "[encoded data removed]",
      "text/plain": [
       "<Figure size 432x288 with 2 Axes>"
      ]
     },
     "metadata": {
      "needs_background": "light"
     },
     "output_type": "display_data"
    }
   ],
   "source": [
    "idx = 709\n",
    "\n",
    "s0 = slice_func(vcg, angles_true[idx], shifts_true[idx], ctf_params[idx])\n",
    "plt.imshow(jnp.fft.fftshift(jnp.real(s0).reshape(nx,nx))); plt.colorbar()"
   ]
  },
  {
   "cell_type": "code",
   "execution_count": 19,
   "id": "2a68d63e-0025-49d1-8efe-b3335d2fd19b",
   "metadata": {},
   "outputs": [
    {
     "data": {
      "text/plain": [
       "Text(0.5, 1.0, 'Reconstruction MIP')"
      ]
     },
     "execution_count": 19,
     "metadata": {},
     "output_type": "execute_result"
    },
    {
     "data": {
      "image/png": "[encoded data removed]",
      "text/plain": [
       "<Figure size 432x288 with 2 Axes>"
      ]
     },
     "metadata": {
      "needs_background": "light"
     },
     "output_type": "display_data"
    }
   ],
   "source": [
    "mip_z(jnp.real(jnp.fft.fftshift(jnp.fft.ifftn(vcg))))\n",
    "plt.colorbar()\n",
    "plt.title('Reconstruction MIP')"
   ]
  },
  {
   "cell_type": "code",
   "execution_count": 20,
   "id": "e81a3635-4e88-43e5-b39c-dc7cb75be154",
   "metadata": {},
   "outputs": [
    {
     "data": {
      "text/plain": [
       "Text(0.5, 1.0, 'Reconstruction relative error (Fourier)')"
      ]
     },
     "execution_count": 20,
     "metadata": {},
     "output_type": "execute_result"
    },
    {
     "data": {
      "image/png": "[encoded data removed]",
      "text/plain": [
       "<Figure size 432x288 with 2 Axes>"
      ]
     },
     "metadata": {
      "needs_background": "light"
     },
     "output_type": "display_data"
    }
   ],
   "source": [
    "mip_z(jnp.abs(jnp.fft.fftshift((vcg-vol_fourier)/jnp.max(vol_fourier))));plt.colorbar()\n",
    "\n",
    "plt.title(\"Reconstruction relative error (Fourier)\")"
   ]
  },
  {
   "cell_type": "code",
   "execution_count": 22,
   "id": "7844d892-66f5-4549-9dfe-0f1d1b7c6b75",
   "metadata": {},
   "outputs": [
    {
     "data": {
      "text/plain": [
       "Text(0.5, 1.0, 'Error in spatial domain with low freq vol - MIP')"
      ]
     },
     "execution_count": 22,
     "metadata": {},
     "output_type": "execute_result"
    },
    {
     "data": {
      "image/png": "[encoded data removed]",
      "text/plain": [
       "<Figure size 432x288 with 2 Axes>"
      ]
     },
     "metadata": {
      "needs_background": "light"
     },
     "output_type": "display_data"
    }
   ],
   "source": [
    "mip_z(jnp.abs(jnp.fft.fftshift(jnp.fft.ifftn((vol_fourier - vcg)))))\n",
    "plt.colorbar()\n",
    "plt.title('Error in spatial domain with low freq vol - MIP')"
   ]
  },
  {
   "cell_type": "markdown",
   "id": "3adef854-7dba-434e-be02-3516a6e5b49e",
   "metadata": {},
   "source": [
    "### SGD"
   ]
  },
  {
   "cell_type": "code",
   "execution_count": null,
   "id": "79c31175-1885-4da1-a132-0c0426535459",
   "metadata": {},
   "outputs": [],
   "source": [
    "v0 = jnp.array(np.random.randn(nx,nx,nx) + 1j * np.random.randn(nx,nx,nx))\n",
    "#v0 = vol_fourier + 0.1*v * mask\n",
    "#alpha = 1000000 # this alpha works well for full 128 x 128 x 128 volume with mask\n",
    "alpha = 10000000\n",
    "batch_size = 2\n",
    "N_iter = 1000 * 20 \n",
    "#N_iter = 1000 \n",
    "\n",
    "v = v0\n",
    "for i in range(N_iter):\n",
    "    \n",
    "    idx = np.random.default_rng().choice(N, size=batch_size, replace = False)\n",
    "    \n",
    "    if jnp.mod(i,100) == 0:\n",
    "        print(\"Iter \" + str(i) + \": mean loss = \" + str(jnp.mean(loss_func_batched(v, angles_true[idx], imgs[idx]))))\n",
    "\n",
    "    v = v - alpha * jnp.conj(grad_loss_volume_batched(v, angles_true[idx], imgs[idx]))\n",
    "    \n",
    "print(\"Final loss function (over all data) = \", jnp.mean(loss_func_batched(v, angles_true, imgs)))\n",
    "print(\"Relative error = \", jnp.max(jnp.abs((v - vol_fourier)/jnp.max(vol_fourier))))"
   ]
  },
  {
   "cell_type": "code",
   "execution_count": null,
   "id": "cbafe3a6-f0c1-4b63-bf79-a3be37dae3fb",
   "metadata": {},
   "outputs": [],
   "source": [
    "print(\"Final loss function (over all data) = \", jnp.mean(loss_func_batched(v, angles_true, imgs)))\n",
    "print(\"Relative error = \", jnp.max(jnp.abs((v - vol_fourier)/jnp.max(vol_fourier))))"
   ]
  },
  {
   "cell_type": "code",
   "execution_count": null,
   "id": "b6b7fc0d-9850-447e-86cc-16bc9d1b3d79",
   "metadata": {},
   "outputs": [],
   "source": [
    "loss_imgs = loss_func_batched(v, angles_true, imgs)\n",
    "plt.plot(loss_imgs)"
   ]
  },
  {
   "cell_type": "code",
   "execution_count": null,
   "id": "6cd29939-6fc7-4264-b23e-c4fa2f7575f9",
   "metadata": {},
   "outputs": [],
   "source": [
    "mip_z(jnp.abs(jnp.fft.fftshift((v-vol_fourier)/jnp.max(vol_fourier))));plt.colorbar()\n",
    "\n",
    "plt.title(\"Reconstruction relative error (Fourier)\")"
   ]
  },
  {
   "cell_type": "code",
   "execution_count": null,
   "id": "71042681-2f7a-484f-9b39-f623723474f9",
   "metadata": {},
   "outputs": [],
   "source": [
    "mip_z(jnp.real(jnp.fft.fftshift(jnp.fft.ifftn(v))))\n",
    "plt.colorbar()\n",
    "plt.title('Reconstruction MIP')"
   ]
  },
  {
   "cell_type": "code",
   "execution_count": null,
   "id": "5f5bd481-e95d-4214-b3f3-d70fbc66c1d5",
   "metadata": {},
   "outputs": [],
   "source": [
    "mip_z(jnp.abs(jnp.fft.fftshift((v)))) ; plt.colorbar()"
   ]
  },
  {
   "cell_type": "code",
   "execution_count": null,
   "id": "8841546f-5d0b-42de-81dd-4c733b87832d",
   "metadata": {},
   "outputs": [],
   "source": [
    "mip_z(jnp.abs(jnp.fft.fftshift(jnp.fft.ifftn((vol_fourier*mask - v*mask)))))\n",
    "plt.colorbar()\n",
    "plt.title('Error in spatial domain with low freq vol - MIP')"
   ]
  },
  {
   "cell_type": "markdown",
   "id": "fecd3a57-c6a8-43eb-bb62-ee7589f20c20",
   "metadata": {},
   "source": [
    "And the error with the high freq volume"
   ]
  },
  {
   "cell_type": "code",
   "execution_count": null,
   "id": "8822f181-cebd-4293-b216-c9667b77304e",
   "metadata": {},
   "outputs": [],
   "source": [
    "mip_z(jnp.abs(vol-jnp.real(jnp.fft.fftshift(jnp.fft.ifftn(v)))))\n",
    "plt.colorbar()\n",
    "plt.title('Reconstruction error with high freq vol -  MIP')"
   ]
  },
  {
   "cell_type": "code",
   "execution_count": null,
   "id": "07113e19-aed3-490e-bd13-162e585f180d",
   "metadata": {},
   "outputs": [],
   "source": [
    "mip_z(jnp.abs(vol-jnp.real(jnp.fft.fftshift(jnp.fft.ifftn(vol_fourier*mask)))))\n",
    "plt.colorbar()\n",
    "plt.title('Reconstruction error with high freq vol -  MIP')"
   ]
  },
  {
   "cell_type": "markdown",
   "id": "cfb657f4-1a0f-4f3e-bb98-5306a29d9996",
   "metadata": {},
   "source": [
    "## Gradient descent with respect to angles"
   ]
  },
  {
   "cell_type": "markdown",
   "id": "c3c9fc20-3580-4f73-8178-b4f588741f33",
   "metadata": {},
   "source": [
    "And the gradients of the above, with respect to angles, here for later,not really used right now:"
   ]
  },
  {
   "cell_type": "code",
   "execution_count": null,
   "id": "8ba8c7cc-f056-4306-b60a-1f8f10178471",
   "metadata": {},
   "outputs": [],
   "source": [
    "@jax.jit\n",
    "def grad_loss_angles(v, angles, shifts, ctf_params, img):\n",
    "    return jax.grad(loss_func, argnums = 1)(v, angles, shifts, ctf_params, img)\n",
    "\n",
    "@jax.jit\n",
    "def grad_loss_angles_batched(v, angles, shifts, ctf_params, imgs):\n",
    "    return jax.vmap(grad_loss_angles, in_axes = (None, 0, 0, 0, 0))(v, angles, shifts, ctf_params, imgs)"
   ]
  },
  {
   "cell_type": "code",
   "execution_count": null,
   "id": "2fe732c7-c5be-41cc-bc4f-1eb21c05ec40",
   "metadata": {},
   "outputs": [],
   "source": [
    "start = time.time()\n",
    "dl = grad_loss_angles(vol_fourier, angles_true[0], shifts_true[0], ctf_params[0], imgs[0])\n",
    "print(time.time()-start)\n",
    "print(dl.shape)"
   ]
  },
  {
   "cell_type": "code",
   "execution_count": null,
   "id": "30a2262c-97ce-487d-987f-e91287c7090b",
   "metadata": {},
   "outputs": [],
   "source": [
    "#start = time.time()\n",
    "#dl = grad_loss_angles_batched(vol_fourier, angles_true, imgs)\n",
    "#print(time.time()-start)\n",
    "#print(dl.shape)"
   ]
  },
  {
   "cell_type": "code",
   "execution_count": null,
   "id": "b3dfbd0e-7fbf-4791-a3a9-00bd0d5b66d0",
   "metadata": {},
   "outputs": [],
   "source": [
    "#beta = 0.00000001\n",
    "#a = jnp.array(np.random.rand(N, 3)*np.pi*2)\n",
    "#a = jnp.mod(a, 2*jnp.pi)\n",
    "##a = angles_true + 0.01*a\n",
    "#N_iter = 1\n",
    "#\n",
    "#for i in range(N_iter):\n",
    "#        \n",
    "#    if jnp.mod(i,100) == 0:\n",
    "#    #print(i)\n",
    "#        print(\"Iter \" + str(i) + \": mean loss = \" + str(jnp.mean(loss_func_batched(vol_fourier, a, shifts_true, ctf_params, imgs))))\n",
    "#        \n",
    "#    a = a - beta * jnp.conj(grad_loss_angles_batched(vol_fourier, a, shifts_true, ctf_params, imgs))\n",
    "#    \n",
    "#a = jnp.mod(a, 2*jnp.pi)\n",
    "\n",
    "\n",
    "    \n",
    "#max_err = jnp.mean(jnp.abs(a - angles_true))\n",
    "#print(\"mean(a-a_true) = \" + str(max_err))"
   ]
  },
  {
   "cell_type": "code",
   "execution_count": null,
   "id": "bb73be09-eefd-4799-9d75-10e6545e5eed",
   "metadata": {},
   "outputs": [],
   "source": [
    "#max_err = jnp.max(jnp.abs(a - angles_true))\n",
    "#print(\"max(a-a_true) = \" + str(max_err))"
   ]
  }
 ],
 "metadata": {
  "kernelspec": {
   "display_name": "Python 3",
   "language": "python",
   "name": "python3"
  },
  "language_info": {
   "codemirror_mode": {
    "name": "ipython",
    "version": 3
   },
   "file_extension": ".py",
   "mimetype": "text/x-python",
   "name": "python",
   "nbconvert_exporter": "python",
   "pygments_lexer": "ipython3",
   "version": "3.6.9"
  }
 },
 "nbformat": 4,
 "nbformat_minor": 5
}
