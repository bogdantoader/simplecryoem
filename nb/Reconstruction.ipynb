{
 "cells": [
  {
   "cell_type": "code",
   "execution_count": 1,
   "id": "9b330c46-3eb8-455e-9d95-0bdae7386627",
   "metadata": {},
   "outputs": [],
   "source": [
    "%load_ext autoreload\n",
    "%autoreload 2\n",
    "import site\n",
    "import sys\n",
    "import time\n",
    "site.addsitedir('..')\n",
    "from jax.config import config\n",
    "\n",
    "config.update(\"jax_enable_x64\", True)"
   ]
  },
  {
   "cell_type": "code",
   "execution_count": 2,
   "id": "7dbed24b-5190-4dd2-8b2d-a6241333ab3d",
   "metadata": {},
   "outputs": [],
   "source": [
    "import numpy as np\n",
    "import jax.numpy as jnp\n",
    "from  matplotlib import pyplot as plt\n",
    "from src.utils import *\n",
    "from src.projection import project_spatial, project, rotate\n",
    "from src.interpolate import *\n",
    "import jax"
   ]
  },
  {
   "cell_type": "markdown",
   "id": "e8f6fddc-840b-4e68-9454-823a8c849999",
   "metadata": {},
   "source": [
    "Generate the volume"
   ]
  },
  {
   "cell_type": "code",
   "execution_count": 3,
   "id": "179ba85d-9c47-41ca-9479-787323304f18",
   "metadata": {},
   "outputs": [
    {
     "data": {
      "text/plain": [
       "Text(0.5, 1.0, 'Volume_comp MIP')"
      ]
     },
     "execution_count": 3,
     "metadata": {},
     "output_type": "execute_result"
    },
    {
     "data": {
      "image/png": "[encoded data removed]",
      "text/plain": [
       "<Figure size 432x288 with 2 Axes>"
      ]
     },
     "metadata": {
      "needs_background": "light"
     },
     "output_type": "display_data"
    }
   ],
   "source": [
    "nx = 128\n",
    "shape = np.array([nx,nx,nx])\n",
    "dimensions = np.array([20,20,20])\n",
    "\n",
    "# A volume with components\n",
    "centres = np.array([[0,0,0], [2, 2, 0], [2, -2, 0]])\n",
    "radii = np.array([2, 1, 1])\n",
    "intensities = np.array([10,7,20])\n",
    "\n",
    "vol = jnp.array(volume_comp(shape, dimensions, centres, radii, intensities, False))\n",
    "vol_fourier, X, Y, Z, _, _, _ = volume_fourier(jnp.fft.ifftshift(vol), dimensions)\n",
    "\n",
    "mip_z(vol)\n",
    "#plt.imshow(v[:,:,int(np.floor(v.shape[2]/2))])\n",
    "plt.colorbar()\n",
    "plt.title('Volume_comp MIP')"
   ]
  },
  {
   "cell_type": "markdown",
   "id": "e34c118d-b44b-480b-ba59-3ada362bce9d",
   "metadata": {},
   "source": [
    "Resize the Fourier grid etc to work with the lower frequencies only"
   ]
  },
  {
   "cell_type": "code",
   "execution_count": 121,
   "id": "d677de29-496c-4f51-a936-deeb007a3705",
   "metadata": {},
   "outputs": [
    {
     "name": "stdout",
     "output_type": "stream",
     "text": [
      "L =  3.414213562373096\n",
      "nx_small =  69\n"
     ]
    }
   ],
   "source": [
    "radius = 1\n",
    "\n",
    "x_freq = X[0,:,0]\n",
    "y_freq = Y[:,0,0]\n",
    "z_freq = Z[0,0,:]\n",
    "\n",
    "# Important for the grids to not be jax (aka Tracer)  objects\n",
    "x_grid = np.array([x_freq[1], len(x_freq)])\n",
    "y_grid = np.array([y_freq[1], len(y_freq)])\n",
    "z_grid = np.array([z_freq[1], len(z_freq)])\n",
    "\n",
    "vol_fourier_small, x_grid_small, y_grid_small, z_grid_small = rescale_smaller_grid(vol_fourier, x_grid, y_grid, z_grid, radius)\n",
    "\n",
    "L = 2*radius/(2 - jnp.sqrt(2))\n",
    "print(\"L = \", L)\n",
    "nx_small = (jnp.floor(L/x_grid[0]) + 1).astype(jnp.int64)\n",
    "print(\"nx_small = \", nx_small)\n",
    "# Make the grid a little big bigger and add zero padding\n",
    "vol_fourier_small, x_grid_small, y_grid_small, z_grid_small = rescale_larger_grid(vol_fourier_small, x_grid_small, y_grid_small, z_grid_small, \n",
    "                                                                                  [nx_small, nx_small, nx_small])\n",
    "#vol_fourier_small, x_grid_small, y_grid_small, z_grid_small = rescale_larger_grid(vol_fourier_small, x_grid_small, y_grid_small, z_grid_small, [128,128,128])\n",
    "\n",
    "\n",
    "\n",
    "\n",
    "x_freq_small = jnp.fft.fftfreq(int(x_grid_small[1]), 1/(x_grid_small[0]*x_grid_small[1]))\n",
    "y_freq_small = jnp.fft.fftfreq(int(y_grid_small[1]), 1/(y_grid_small[0]*y_grid_small[1]))\n",
    "z_freq_small = jnp.fft.fftfreq(int(z_grid_small[1]), 1/(z_grid_small[0]*z_grid_small[1]))\n",
    "X_small, Y_small, Z_small = jnp.meshgrid(x_freq_small, y_freq_small, z_freq_small)\n",
    "\n",
    "mask = create_mask(X_small, Y_small, Z_small , (0,0,0),radius)"
   ]
  },
  {
   "cell_type": "code",
   "execution_count": 122,
   "id": "455e79df-3c97-4484-9583-6973a4f71748",
   "metadata": {},
   "outputs": [
    {
     "data": {
      "text/plain": [
       "<matplotlib.colorbar.Colorbar at 0x2b98a151f2e8>"
      ]
     },
     "execution_count": 122,
     "metadata": {},
     "output_type": "execute_result"
    },
    {
     "data": {
      "image/png": "[encoded data removed]",
      "text/plain": [
       "<Figure size 432x288 with 2 Axes>"
      ]
     },
     "metadata": {
      "needs_background": "light"
     },
     "output_type": "display_data"
    }
   ],
   "source": [
    "mip_z(jnp.fft.fftshift(jnp.abs((vol_fourier_small)))); plt.colorbar()"
   ]
  },
  {
   "cell_type": "code",
   "execution_count": 123,
   "id": "90d2f387-8bd8-4310-bbfa-51e8a5c0bc5a",
   "metadata": {},
   "outputs": [
    {
     "data": {
      "image/png": "[encoded data removed]",
      "text/plain": [
       "<Figure size 432x288 with 1 Axes>"
      ]
     },
     "metadata": {
      "needs_background": "light"
     },
     "output_type": "display_data"
    }
   ],
   "source": [
    "mip_z(jnp.fft.fftshift(mask))"
   ]
  },
  {
   "cell_type": "code",
   "execution_count": 124,
   "id": "34274618-b794-41ce-8089-9d5ed9b7e4a7",
   "metadata": {},
   "outputs": [
    {
     "name": "stdout",
     "output_type": "stream",
     "text": [
      "[0.05, DeviceArray(69, dtype=int64)]\n",
      "[5.00e-02 1.28e+02]\n",
      "[5.00e-02 1.28e+02]\n",
      "(128, 128, 128)\n"
     ]
    }
   ],
   "source": [
    "print(x_grid_small)\n",
    "print(y_grid)\n",
    "print(z_grid)\n",
    "print(vol_fourier.shape)"
   ]
  },
  {
   "cell_type": "markdown",
   "id": "acadb8bc-be39-413d-9fe4-04b132a118a0",
   "metadata": {},
   "source": [
    "Generate projections (in Fourier domain)"
   ]
  },
  {
   "cell_type": "code",
   "execution_count": 125,
   "id": "abf4339e-b31e-479a-94fc-e287da282637",
   "metadata": {},
   "outputs": [],
   "source": [
    "@jax.jit\n",
    "def slice_func(v, angles):\n",
    "    projection, _ = project(mask * v, x_grid_small, y_grid_small, z_grid_small, angles)\n",
    "    return projection\n",
    "\n",
    "@jax.jit\n",
    "def slice_func_array(v, angles):    \n",
    "    return jax.vmap(slice_func, in_axes = (None, 0))(v, angles)"
   ]
  },
  {
   "cell_type": "code",
   "execution_count": 126,
   "id": "16701bad-a4c2-46ed-86d7-e5d9187d2255",
   "metadata": {},
   "outputs": [
    {
     "name": "stdout",
     "output_type": "stream",
     "text": [
      "0.8776772022247314\n"
     ]
    }
   ],
   "source": [
    "N = 1000\n",
    "angles_true = jnp.array(np.random.rand(N,3))*jnp.pi*2\n",
    "start = time.time()\n",
    "imgs = slice_func_array(vol_fourier_small, angles_true)\n",
    "print(time.time()-start)"
   ]
  },
  {
   "cell_type": "code",
   "execution_count": 127,
   "id": "694b2ef4-ff29-4475-9703-a2c29eb9e83e",
   "metadata": {},
   "outputs": [
    {
     "data": {
      "text/plain": [
       "DeviceArray(1257., dtype=float64)"
      ]
     },
     "execution_count": 127,
     "metadata": {},
     "output_type": "execute_result"
    }
   ],
   "source": [
    "jnp.sum(mask[:,:,0])"
   ]
  },
  {
   "cell_type": "code",
   "execution_count": 128,
   "id": "a0c6e8ed-55e9-4bd7-8596-2f78b8194ac8",
   "metadata": {},
   "outputs": [
    {
     "data": {
      "text/plain": [
       "(1000, 4761)"
      ]
     },
     "execution_count": 128,
     "metadata": {},
     "output_type": "execute_result"
    }
   ],
   "source": [
    "imgs.shape"
   ]
  },
  {
   "cell_type": "markdown",
   "id": "2a8ff33e-2b1c-407d-b04d-dd597fc4d421",
   "metadata": {},
   "source": [
    "Loss function given volume and angles, for one image and for many (batches of images). We have a separate loss function for each angles-image pair."
   ]
  },
  {
   "cell_type": "code",
   "execution_count": 129,
   "id": "67c75659-89c2-45da-b802-4dc95fa88aa1",
   "metadata": {},
   "outputs": [],
   "source": [
    "def l2sq(x):\n",
    "    return jnp.real(jnp.sum(jnp.conj(x)*x))\n",
    "\n",
    "@jax.jit\n",
    "def loss_func(v, angles, img):\n",
    "    #return 1/(2* nx*nx) * l2sq(slice_func(v, angles) - img)\n",
    "    return 1/(2* 1245) * l2sq(slice_func(v, angles) - img)   #1257 = number of pixels in mask at z=0\n",
    "\n",
    "\n",
    "@jax.jit\n",
    "def loss_func_batched(v, angles, imgs):\n",
    "    return jax.vmap(loss_func, in_axes = (None, 0, 0))(v, angles, imgs)"
   ]
  },
  {
   "cell_type": "markdown",
   "id": "c3c9fc20-3580-4f73-8178-b4f588741f33",
   "metadata": {},
   "source": [
    "And the gradients of the above, with respect to angles"
   ]
  },
  {
   "cell_type": "code",
   "execution_count": 130,
   "id": "8ba8c7cc-f056-4306-b60a-1f8f10178471",
   "metadata": {},
   "outputs": [],
   "source": [
    "@jax.jit\n",
    "def grad_loss_angles(v, angles, img):\n",
    "    return jax.grad(loss_func, argnums = 1)(v, angles, img)\n",
    "\n",
    "@jax.jit\n",
    "def grad_loss_angles_batched(v, angles, imgs):\n",
    "    return jax.vmap(grad_loss_angles, in_axes = (None, 0, 0))(v, angles, imgs)"
   ]
  },
  {
   "cell_type": "code",
   "execution_count": 131,
   "id": "4cab4ffb-685a-427e-ab03-cc40721cfdda",
   "metadata": {},
   "outputs": [
    {
     "name": "stdout",
     "output_type": "stream",
     "text": [
      "0.8092477321624756\n",
      "(1000,)\n"
     ]
    }
   ],
   "source": [
    "start = time.time()\n",
    "ll = loss_func_batched(vol_fourier_small, angles_true, imgs)\n",
    "print(time.time()-start)\n",
    "print(ll.shape)"
   ]
  },
  {
   "cell_type": "code",
   "execution_count": 132,
   "id": "2fe732c7-c5be-41cc-bc4f-1eb21c05ec40",
   "metadata": {},
   "outputs": [
    {
     "name": "stdout",
     "output_type": "stream",
     "text": [
      "1.316096305847168\n",
      "(3,)\n"
     ]
    }
   ],
   "source": [
    "start = time.time()\n",
    "dl = grad_loss_angles(vol_fourier_small, angles_true[0], imgs[0])\n",
    "print(time.time()-start)\n",
    "print(dl.shape)"
   ]
  },
  {
   "cell_type": "code",
   "execution_count": 133,
   "id": "30a2262c-97ce-487d-987f-e91287c7090b",
   "metadata": {},
   "outputs": [
    {
     "name": "stdout",
     "output_type": "stream",
     "text": [
      "1.3945093154907227\n",
      "(1000, 3)\n"
     ]
    }
   ],
   "source": [
    "start = time.time()\n",
    "dl = grad_loss_angles_batched(vol_fourier_small, angles_true, imgs)\n",
    "print(time.time()-start)\n",
    "print(dl.shape)"
   ]
  },
  {
   "cell_type": "markdown",
   "id": "d267a592-7199-4cd8-bc4c-ecab404c1b97",
   "metadata": {},
   "source": [
    "Gradients with respect to volume pixels, over all (or a batch of) images"
   ]
  },
  {
   "cell_type": "code",
   "execution_count": 134,
   "id": "9654300c-276a-44f3-b8a3-5bff7faf3333",
   "metadata": {},
   "outputs": [],
   "source": [
    "@jax.jit\n",
    "def grad_loss_volume(v, angles, img):\n",
    "    return jax.grad(loss_func)(v, angles, img)\n",
    "\n",
    "@jax.jit\n",
    "def grad_loss_volume_batched(v, angles, imgs):\n",
    "    return 1/N * jnp.sum(jax.vmap(grad_loss_volume, in_axes = (None, 0, 0))(v, angles, imgs), axis=0)"
   ]
  },
  {
   "cell_type": "code",
   "execution_count": 135,
   "id": "4028b0e6-a7b6-4224-903f-83f08d94182f",
   "metadata": {},
   "outputs": [
    {
     "name": "stdout",
     "output_type": "stream",
     "text": [
      "0.8050639629364014\n",
      "(69, 69, 69)\n"
     ]
    }
   ],
   "source": [
    "start = time.time()\n",
    "ll = grad_loss_volume(vol_fourier_small, angles_true[0], imgs[0])\n",
    "print(time.time()-start)\n",
    "print(ll.shape)"
   ]
  },
  {
   "cell_type": "markdown",
   "id": "2f5fb2cb-73aa-4fe6-a8fa-b3df1b4fdcb9",
   "metadata": {},
   "source": [
    "Doing the below with N large enough (e.g. 1000) makes it run out of memory (trying to allocate >200GB)"
   ]
  },
  {
   "cell_type": "code",
   "execution_count": 136,
   "id": "6b29483d-8bd8-4174-b7a1-6e0617a98627",
   "metadata": {},
   "outputs": [
    {
     "name": "stdout",
     "output_type": "stream",
     "text": [
      "1.0795164108276367\n",
      "(69, 69, 69)\n"
     ]
    }
   ],
   "source": [
    "batch_size = 10\n",
    "idx = np.random.default_rng().choice(N, size=batch_size, replace = False)\n",
    "\n",
    "start = time.time()\n",
    "ll = grad_loss_volume_batched(vol_fourier_small, angles_true[idx], imgs[idx])\n",
    "print(time.time()-start)\n",
    "print(ll.shape)"
   ]
  },
  {
   "cell_type": "markdown",
   "id": "cfb657f4-1a0f-4f3e-bb98-5306a29d9996",
   "metadata": {},
   "source": [
    "## Gradient descent with respect to angles"
   ]
  },
  {
   "cell_type": "code",
   "execution_count": 124,
   "id": "b3dfbd0e-7fbf-4791-a3a9-00bd0d5b66d0",
   "metadata": {},
   "outputs": [
    {
     "name": "stdout",
     "output_type": "stream",
     "text": [
      "Iter 0: mean loss = 89314.55339447968\n",
      "mean(a-a_true) = 2.1885634242880436\n"
     ]
    }
   ],
   "source": [
    "alpha = 0.00000001\n",
    "a = jnp.array(np.random.rand(N, 3)*np.pi*2)\n",
    "a = jnp.mod(a, 2*jnp.pi)\n",
    "#a = angles_true + 0.01*a\n",
    "N_iter = 10\n",
    "\n",
    "for i in range(N_iter):\n",
    "        \n",
    "    if jnp.mod(i,100) == 0:\n",
    "    #print(i)\n",
    "        print(\"Iter \" + str(i) + \": mean loss = \" + str(jnp.mean(loss_func_batched(vol_fourier_small, a, imgs))))\n",
    "        \n",
    "    a = a - alpha * jnp.conj(grad_loss_angles_batched(vol_fourier_small, a, imgs))\n",
    "    \n",
    "a = jnp.mod(a, 2*jnp.pi)\n",
    "\n",
    "\n",
    "    \n",
    "max_err = jnp.mean(jnp.abs(a - angles_true))\n",
    "print(\"mean(a-a_true) = \" + str(max_err))"
   ]
  },
  {
   "cell_type": "code",
   "execution_count": 125,
   "id": "bb73be09-eefd-4799-9d75-10e6545e5eed",
   "metadata": {},
   "outputs": [
    {
     "name": "stdout",
     "output_type": "stream",
     "text": [
      "max(a-a_true) = 6.005620663852082\n"
     ]
    }
   ],
   "source": [
    "max_err = jnp.max(jnp.abs(a - angles_true))\n",
    "print(\"max(a-a_true) = \" + str(max_err))"
   ]
  },
  {
   "cell_type": "markdown",
   "id": "c28666d9-5830-447c-b2ec-29e2017b1472",
   "metadata": {},
   "source": [
    "## Gradient descent with respect to volume"
   ]
  },
  {
   "cell_type": "code",
   "execution_count": 138,
   "id": "79c31175-1885-4da1-a132-0c0426535459",
   "metadata": {},
   "outputs": [
    {
     "name": "stdout",
     "output_type": "stream",
     "text": [
      "Iter 0: mean loss = 4648064.833491056\n",
      "Iter 100: mean loss = 282993.4794237239\n",
      "Iter 200: mean loss = 106386.02614531603\n",
      "Iter 300: mean loss = 16736.503621436827\n",
      "Iter 400: mean loss = 13062.403191415417\n",
      "Iter 500: mean loss = 5860.854608769267\n",
      "Iter 600: mean loss = 1282.7061337181308\n",
      "Iter 700: mean loss = 951.0694387177252\n",
      "Iter 800: mean loss = 354.2121271584354\n",
      "Iter 900: mean loss = 521.9135688624301\n",
      "Iter 1000: mean loss = 386.69849007413137\n",
      "Iter 1100: mean loss = 329.51673352406004\n",
      "Iter 1200: mean loss = 112.7542016281364\n",
      "Iter 1300: mean loss = 70.29448021101071\n",
      "Iter 1400: mean loss = 26.067860942304264\n",
      "Iter 1500: mean loss = 26.14272889907889\n",
      "Iter 1600: mean loss = 21.39650450908137\n",
      "Iter 1700: mean loss = 24.251226706164008\n",
      "Iter 1800: mean loss = 16.043077512643244\n",
      "Iter 1900: mean loss = 4.5184348402028665\n",
      "Iter 2000: mean loss = 4.316057888891453\n",
      "Iter 2100: mean loss = 3.097122238145082\n",
      "Iter 2200: mean loss = 0.9720304588223936\n",
      "Iter 2300: mean loss = 1.0046300812420115\n",
      "Iter 2400: mean loss = 0.6225743170872908\n",
      "Iter 2500: mean loss = 0.32608099168342863\n",
      "Iter 2600: mean loss = 0.5335942988919804\n",
      "Iter 2700: mean loss = 0.3136688042528766\n",
      "Iter 2800: mean loss = 0.09406119272670765\n",
      "Iter 2900: mean loss = 0.18876789769611105\n",
      "Iter 3000: mean loss = 0.0901977226424938\n",
      "Iter 3100: mean loss = 0.09040021406422558\n",
      "Iter 3200: mean loss = 0.059727640420368086\n",
      "Iter 3300: mean loss = 0.043543025772943666\n",
      "Iter 3400: mean loss = 0.04215062963354699\n",
      "Iter 3500: mean loss = 0.01929741442355003\n",
      "Iter 3600: mean loss = 0.0036684522473871294\n",
      "Iter 3700: mean loss = 0.007346147051222082\n",
      "Iter 3800: mean loss = 0.001804639973909567\n",
      "Iter 3900: mean loss = 0.005503238500255403\n",
      "Iter 4000: mean loss = 0.004130372465602102\n",
      "Iter 4100: mean loss = 0.0007918206799139749\n",
      "Iter 4200: mean loss = 0.0026502004654881143\n",
      "Iter 4300: mean loss = 0.0023396778525966453\n",
      "Iter 4400: mean loss = 0.00018763380685034027\n",
      "Iter 4500: mean loss = 0.0008193185352968161\n",
      "Iter 4600: mean loss = 0.0003755293051551864\n",
      "Iter 4700: mean loss = 0.00045780195416899856\n",
      "Iter 4800: mean loss = 0.0007737017898973191\n",
      "Iter 4900: mean loss = 4.3092721615389364e-05\n",
      "Iter 5000: mean loss = 0.00016568246954517046\n",
      "Iter 5100: mean loss = 0.0002794782709670799\n",
      "Iter 5200: mean loss = 1.656698719146188e-05\n",
      "Iter 5300: mean loss = 0.00025118922322103283\n",
      "Iter 5400: mean loss = 5.719589935416572e-05\n",
      "Iter 5500: mean loss = 6.520097216404649e-05\n",
      "Iter 5600: mean loss = 3.433510540598963e-05\n",
      "Iter 5700: mean loss = 1.9153993655930895e-06\n",
      "Iter 5800: mean loss = 1.505536031575341e-05\n",
      "Iter 5900: mean loss = 3.614255864917591e-06\n",
      "Iter 6000: mean loss = 4.02927973071584e-06\n",
      "Iter 6100: mean loss = 2.192623713355006e-05\n",
      "Iter 6200: mean loss = 1.6731436326434418e-05\n",
      "Iter 6300: mean loss = 7.369647483351533e-06\n",
      "Iter 6400: mean loss = 8.928372698189317e-06\n",
      "Iter 6500: mean loss = 3.2881848422039918e-06\n",
      "Iter 6600: mean loss = 6.115995594715395e-07\n",
      "Iter 6700: mean loss = 1.2571190806407122e-06\n",
      "Iter 6800: mean loss = 1.6319420217563749e-07\n",
      "Iter 6900: mean loss = 9.98698457596844e-07\n",
      "Iter 7000: mean loss = 7.361325380021557e-08\n",
      "Iter 7100: mean loss = 3.282181762411203e-08\n",
      "Iter 7200: mean loss = 5.254832228825036e-07\n",
      "Iter 7300: mean loss = 1.0335070660659352e-07\n",
      "Iter 7400: mean loss = 7.767209750459364e-08\n",
      "Iter 7500: mean loss = 1.3513435738118602e-07\n",
      "Iter 7600: mean loss = 1.1570772348836894e-07\n",
      "Iter 7700: mean loss = 3.146796889018657e-07\n",
      "Iter 7800: mean loss = 1.8346119197350166e-08\n",
      "Iter 7900: mean loss = 7.059028538687352e-08\n",
      "Iter 8000: mean loss = 4.982970280752337e-08\n",
      "Iter 8100: mean loss = 3.282420452566243e-10\n",
      "Iter 8200: mean loss = 8.441246472822288e-09\n",
      "Iter 8300: mean loss = 4.83492226865166e-09\n",
      "Iter 8400: mean loss = 1.0751033967932603e-10\n",
      "Iter 8500: mean loss = 2.609104311784866e-09\n",
      "Iter 8600: mean loss = 1.7697729587142348e-08\n",
      "Iter 8700: mean loss = 1.0452746570530656e-10\n",
      "Iter 8800: mean loss = 1.7258288062445348e-10\n",
      "Iter 8900: mean loss = 4.416704198898068e-10\n",
      "Iter 9000: mean loss = 2.8748304003093467e-09\n",
      "Iter 9100: mean loss = 8.606394316838871e-10\n",
      "Iter 9200: mean loss = 1.231138159461073e-09\n",
      "Iter 9300: mean loss = 7.608723420625981e-10\n",
      "Iter 9400: mean loss = 3.327588343437858e-10\n",
      "Iter 9500: mean loss = 1.0090116734985121e-10\n",
      "Iter 9600: mean loss = 4.299357895297004e-11\n",
      "Iter 9700: mean loss = 1.8378928686770058e-11\n",
      "Iter 9800: mean loss = 2.886956786301733e-10\n",
      "Iter 9900: mean loss = 3.0451186895384176e-11\n",
      "Iter 10000: mean loss = 3.8970014400235065e-11\n",
      "Iter 10100: mean loss = 5.558946418334563e-12\n",
      "Iter 10200: mean loss = 3.8440831070224965e-12\n",
      "Iter 10300: mean loss = 4.683620722957188e-12\n",
      "Iter 10400: mean loss = 1.8907668932750256e-11\n",
      "Iter 10500: mean loss = 2.4758429519296578e-11\n",
      "Iter 10600: mean loss = 1.9888365345681377e-11\n",
      "Iter 10700: mean loss = 3.080082712441664e-11\n",
      "Iter 10800: mean loss = 1.8312548486198967e-11\n",
      "Iter 10900: mean loss = 3.1095570765267842e-12\n",
      "Iter 11000: mean loss = 2.5357088054932148e-12\n",
      "Iter 11100: mean loss = 1.6664409992946173e-13\n",
      "Iter 11200: mean loss = 2.660208034717589e-12\n",
      "Iter 11300: mean loss = 3.1404730172075095e-12\n",
      "Iter 11400: mean loss = 1.401746727261048e-12\n",
      "Iter 11500: mean loss = 6.480607845801827e-13\n",
      "Iter 11600: mean loss = 1.698881016332159e-12\n",
      "Iter 11700: mean loss = 1.9554390456404575e-12\n",
      "Iter 11800: mean loss = 2.7946206083015374e-12\n",
      "Iter 11900: mean loss = 1.3807724858858865e-12\n",
      "Iter 12000: mean loss = 4.903082380322149e-15\n",
      "Iter 12100: mean loss = 5.905528930477257e-14\n",
      "Iter 12200: mean loss = 1.3067393985452061e-15\n",
      "Iter 12300: mean loss = 6.828208683732316e-13\n",
      "Iter 12400: mean loss = 9.983382186426296e-14\n",
      "Iter 12500: mean loss = 1.1394872770225514e-14\n",
      "Iter 12600: mean loss = 3.779554552362038e-14\n",
      "Iter 12700: mean loss = 3.1828249940617884e-14\n",
      "Iter 12800: mean loss = 5.21870104909218e-15\n",
      "Iter 12900: mean loss = 4.123388198678419e-14\n",
      "Iter 13000: mean loss = 2.6283467057427713e-15\n",
      "Iter 13100: mean loss = 4.1721238043749995e-14\n",
      "Iter 13200: mean loss = 7.260131301924009e-15\n",
      "Iter 13300: mean loss = 8.632403030381623e-16\n",
      "Iter 13400: mean loss = 2.389766243377306e-15\n",
      "Iter 13500: mean loss = 1.2362823780099513e-14\n",
      "Iter 13600: mean loss = 9.416461676455584e-17\n",
      "Iter 13700: mean loss = 2.161331810385025e-15\n",
      "Iter 13800: mean loss = 7.033696625672015e-16\n",
      "Iter 13900: mean loss = 6.145559474458449e-15\n",
      "Iter 14000: mean loss = 1.7512766996261406e-15\n",
      "Iter 14100: mean loss = 7.151899008110333e-16\n",
      "Iter 14200: mean loss = 2.0512425485632934e-16\n",
      "Iter 14300: mean loss = 1.0877513522449155e-16\n",
      "Iter 14400: mean loss = 3.389717254280808e-16\n"
     ]
    },
    {
     "ename": "KeyboardInterrupt",
     "evalue": "",
     "output_type": "error",
     "traceback": [
      "\u001b[0;31m---------------------------------------------------------------------------\u001b[0m",
      "\u001b[0;31mKeyboardInterrupt\u001b[0m                         Traceback (most recent call last)",
      "\u001b[0;32m<ipython-input-138-986282ea8450>\u001b[0m in \u001b[0;36m<module>\u001b[0;34m\u001b[0m\n\u001b[1;32m     19\u001b[0m         \u001b[0mprint\u001b[0m\u001b[0;34m(\u001b[0m\u001b[0;34m\"Iter \"\u001b[0m \u001b[0;34m+\u001b[0m \u001b[0mstr\u001b[0m\u001b[0;34m(\u001b[0m\u001b[0mi\u001b[0m\u001b[0;34m)\u001b[0m \u001b[0;34m+\u001b[0m \u001b[0;34m\": mean loss = \"\u001b[0m \u001b[0;34m+\u001b[0m \u001b[0mstr\u001b[0m\u001b[0;34m(\u001b[0m\u001b[0mjnp\u001b[0m\u001b[0;34m.\u001b[0m\u001b[0mmean\u001b[0m\u001b[0;34m(\u001b[0m\u001b[0mloss_func_batched\u001b[0m\u001b[0;34m(\u001b[0m\u001b[0mv\u001b[0m\u001b[0;34m,\u001b[0m \u001b[0mangles_true\u001b[0m\u001b[0;34m[\u001b[0m\u001b[0midx\u001b[0m\u001b[0;34m]\u001b[0m\u001b[0;34m,\u001b[0m \u001b[0mimgs\u001b[0m\u001b[0;34m[\u001b[0m\u001b[0midx\u001b[0m\u001b[0;34m]\u001b[0m\u001b[0;34m)\u001b[0m\u001b[0;34m)\u001b[0m\u001b[0;34m)\u001b[0m\u001b[0;34m)\u001b[0m\u001b[0;34m\u001b[0m\u001b[0;34m\u001b[0m\u001b[0m\n\u001b[1;32m     20\u001b[0m \u001b[0;34m\u001b[0m\u001b[0m\n\u001b[0;32m---> 21\u001b[0;31m     \u001b[0mv\u001b[0m \u001b[0;34m=\u001b[0m \u001b[0mv\u001b[0m \u001b[0;34m-\u001b[0m \u001b[0malpha\u001b[0m \u001b[0;34m*\u001b[0m \u001b[0mjnp\u001b[0m\u001b[0;34m.\u001b[0m\u001b[0mconj\u001b[0m\u001b[0;34m(\u001b[0m\u001b[0mgrad_loss_volume_batched\u001b[0m\u001b[0;34m(\u001b[0m\u001b[0mv\u001b[0m\u001b[0;34m,\u001b[0m \u001b[0mangles_true\u001b[0m\u001b[0;34m[\u001b[0m\u001b[0midx\u001b[0m\u001b[0;34m]\u001b[0m\u001b[0;34m,\u001b[0m \u001b[0mimgs\u001b[0m\u001b[0;34m[\u001b[0m\u001b[0midx\u001b[0m\u001b[0;34m]\u001b[0m\u001b[0;34m)\u001b[0m\u001b[0;34m)\u001b[0m\u001b[0;34m\u001b[0m\u001b[0;34m\u001b[0m\u001b[0m\n\u001b[0m\u001b[1;32m     22\u001b[0m \u001b[0;34m\u001b[0m\u001b[0m\n\u001b[1;32m     23\u001b[0m \u001b[0mprint\u001b[0m\u001b[0;34m(\u001b[0m\u001b[0;34m\"Final loss function (over all data) = \"\u001b[0m\u001b[0;34m,\u001b[0m \u001b[0mjnp\u001b[0m\u001b[0;34m.\u001b[0m\u001b[0mmean\u001b[0m\u001b[0;34m(\u001b[0m\u001b[0mloss_func_batched\u001b[0m\u001b[0;34m(\u001b[0m\u001b[0mv\u001b[0m\u001b[0;34m,\u001b[0m \u001b[0mangles_true\u001b[0m\u001b[0;34m,\u001b[0m \u001b[0mimgs\u001b[0m\u001b[0;34m)\u001b[0m\u001b[0;34m)\u001b[0m\u001b[0;34m)\u001b[0m\u001b[0;34m\u001b[0m\u001b[0;34m\u001b[0m\u001b[0m\n",
      "\u001b[0;32m/usr/local/lib/python3.6/dist-packages/jax/api.py\u001b[0m in \u001b[0;36mf_jitted\u001b[0;34m(*args, **kwargs)\u001b[0m\n\u001b[1;32m    414\u001b[0m       \u001b[0;32mreturn\u001b[0m \u001b[0mcpp_jitted_f\u001b[0m\u001b[0;34m(\u001b[0m\u001b[0;34m*\u001b[0m\u001b[0margs\u001b[0m\u001b[0;34m,\u001b[0m \u001b[0;34m**\u001b[0m\u001b[0mkwargs\u001b[0m\u001b[0;34m)\u001b[0m\u001b[0;34m\u001b[0m\u001b[0;34m\u001b[0m\u001b[0m\n\u001b[1;32m    415\u001b[0m     \u001b[0;32melse\u001b[0m\u001b[0;34m:\u001b[0m\u001b[0;34m\u001b[0m\u001b[0;34m\u001b[0m\u001b[0m\n\u001b[0;32m--> 416\u001b[0;31m       \u001b[0;32mreturn\u001b[0m \u001b[0mcpp_jitted_f\u001b[0m\u001b[0;34m(\u001b[0m\u001b[0mcontext\u001b[0m\u001b[0;34m,\u001b[0m \u001b[0;34m*\u001b[0m\u001b[0margs\u001b[0m\u001b[0;34m,\u001b[0m \u001b[0;34m**\u001b[0m\u001b[0mkwargs\u001b[0m\u001b[0;34m)\u001b[0m\u001b[0;34m\u001b[0m\u001b[0;34m\u001b[0m\u001b[0m\n\u001b[0m\u001b[1;32m    417\u001b[0m   \u001b[0mf_jitted\u001b[0m\u001b[0;34m.\u001b[0m\u001b[0m_cpp_jitted_f\u001b[0m \u001b[0;34m=\u001b[0m \u001b[0mcpp_jitted_f\u001b[0m\u001b[0;34m\u001b[0m\u001b[0;34m\u001b[0m\u001b[0m\n\u001b[1;32m    418\u001b[0m \u001b[0;34m\u001b[0m\u001b[0m\n",
      "\u001b[0;32m/usr/local/lib/python3.6/dist-packages/jax/api.py\u001b[0m in \u001b[0;36mcache_miss\u001b[0;34m(_, *args, **kwargs)\u001b[0m\n\u001b[1;32m    301\u001b[0m         \u001b[0mbackend\u001b[0m\u001b[0;34m=\u001b[0m\u001b[0mbackend\u001b[0m\u001b[0;34m,\u001b[0m\u001b[0;34m\u001b[0m\u001b[0;34m\u001b[0m\u001b[0m\n\u001b[1;32m    302\u001b[0m         \u001b[0mname\u001b[0m\u001b[0;34m=\u001b[0m\u001b[0mflat_fun\u001b[0m\u001b[0;34m.\u001b[0m\u001b[0m__name__\u001b[0m\u001b[0;34m,\u001b[0m\u001b[0;34m\u001b[0m\u001b[0;34m\u001b[0m\u001b[0m\n\u001b[0;32m--> 303\u001b[0;31m         donated_invars=donated_invars)\n\u001b[0m\u001b[1;32m    304\u001b[0m     \u001b[0mout_pytree_def\u001b[0m \u001b[0;34m=\u001b[0m \u001b[0mout_tree\u001b[0m\u001b[0;34m(\u001b[0m\u001b[0;34m)\u001b[0m\u001b[0;34m\u001b[0m\u001b[0;34m\u001b[0m\u001b[0m\n\u001b[1;32m    305\u001b[0m     \u001b[0mout\u001b[0m \u001b[0;34m=\u001b[0m \u001b[0mtree_unflatten\u001b[0m\u001b[0;34m(\u001b[0m\u001b[0mout_pytree_def\u001b[0m\u001b[0;34m,\u001b[0m \u001b[0mout_flat\u001b[0m\u001b[0;34m)\u001b[0m\u001b[0;34m\u001b[0m\u001b[0;34m\u001b[0m\u001b[0m\n",
      "\u001b[0;32m/usr/local/lib/python3.6/dist-packages/jax/core.py\u001b[0m in \u001b[0;36mbind\u001b[0;34m(self, fun, *args, **params)\u001b[0m\n\u001b[1;32m   1392\u001b[0m \u001b[0;34m\u001b[0m\u001b[0m\n\u001b[1;32m   1393\u001b[0m   \u001b[0;32mdef\u001b[0m \u001b[0mbind\u001b[0m\u001b[0;34m(\u001b[0m\u001b[0mself\u001b[0m\u001b[0;34m,\u001b[0m \u001b[0mfun\u001b[0m\u001b[0;34m,\u001b[0m \u001b[0;34m*\u001b[0m\u001b[0margs\u001b[0m\u001b[0;34m,\u001b[0m \u001b[0;34m**\u001b[0m\u001b[0mparams\u001b[0m\u001b[0;34m)\u001b[0m\u001b[0;34m:\u001b[0m\u001b[0;34m\u001b[0m\u001b[0;34m\u001b[0m\u001b[0m\n\u001b[0;32m-> 1394\u001b[0;31m     \u001b[0;32mreturn\u001b[0m \u001b[0mcall_bind\u001b[0m\u001b[0;34m(\u001b[0m\u001b[0mself\u001b[0m\u001b[0;34m,\u001b[0m \u001b[0mfun\u001b[0m\u001b[0;34m,\u001b[0m \u001b[0;34m*\u001b[0m\u001b[0margs\u001b[0m\u001b[0;34m,\u001b[0m \u001b[0;34m**\u001b[0m\u001b[0mparams\u001b[0m\u001b[0;34m)\u001b[0m\u001b[0;34m\u001b[0m\u001b[0;34m\u001b[0m\u001b[0m\n\u001b[0m\u001b[1;32m   1395\u001b[0m \u001b[0;34m\u001b[0m\u001b[0m\n\u001b[1;32m   1396\u001b[0m   \u001b[0;32mdef\u001b[0m \u001b[0mprocess\u001b[0m\u001b[0;34m(\u001b[0m\u001b[0mself\u001b[0m\u001b[0;34m,\u001b[0m \u001b[0mtrace\u001b[0m\u001b[0;34m,\u001b[0m \u001b[0mfun\u001b[0m\u001b[0;34m,\u001b[0m \u001b[0mtracers\u001b[0m\u001b[0;34m,\u001b[0m \u001b[0mparams\u001b[0m\u001b[0;34m)\u001b[0m\u001b[0;34m:\u001b[0m\u001b[0;34m\u001b[0m\u001b[0;34m\u001b[0m\u001b[0m\n",
      "\u001b[0;32m/usr/local/lib/python3.6/dist-packages/jax/core.py\u001b[0m in \u001b[0;36mcall_bind\u001b[0;34m(primitive, fun, *args, **params)\u001b[0m\n\u001b[1;32m   1383\u001b[0m   \u001b[0mtracers\u001b[0m \u001b[0;34m=\u001b[0m \u001b[0mmap\u001b[0m\u001b[0;34m(\u001b[0m\u001b[0mtop_trace\u001b[0m\u001b[0;34m.\u001b[0m\u001b[0mfull_raise\u001b[0m\u001b[0;34m,\u001b[0m \u001b[0margs\u001b[0m\u001b[0;34m)\u001b[0m\u001b[0;34m\u001b[0m\u001b[0;34m\u001b[0m\u001b[0m\n\u001b[1;32m   1384\u001b[0m   \u001b[0;32mwith\u001b[0m \u001b[0mmaybe_new_sublevel\u001b[0m\u001b[0;34m(\u001b[0m\u001b[0mtop_trace\u001b[0m\u001b[0;34m)\u001b[0m\u001b[0;34m:\u001b[0m\u001b[0;34m\u001b[0m\u001b[0;34m\u001b[0m\u001b[0m\n\u001b[0;32m-> 1385\u001b[0;31m     \u001b[0mouts\u001b[0m \u001b[0;34m=\u001b[0m \u001b[0mprimitive\u001b[0m\u001b[0;34m.\u001b[0m\u001b[0mprocess\u001b[0m\u001b[0;34m(\u001b[0m\u001b[0mtop_trace\u001b[0m\u001b[0;34m,\u001b[0m \u001b[0mfun\u001b[0m\u001b[0;34m,\u001b[0m \u001b[0mtracers\u001b[0m\u001b[0;34m,\u001b[0m \u001b[0mparams\u001b[0m\u001b[0;34m)\u001b[0m\u001b[0;34m\u001b[0m\u001b[0;34m\u001b[0m\u001b[0m\n\u001b[0m\u001b[1;32m   1386\u001b[0m   \u001b[0;32mreturn\u001b[0m \u001b[0mmap\u001b[0m\u001b[0;34m(\u001b[0m\u001b[0mfull_lower\u001b[0m\u001b[0;34m,\u001b[0m \u001b[0mapply_todos\u001b[0m\u001b[0;34m(\u001b[0m\u001b[0menv_trace_todo\u001b[0m\u001b[0;34m(\u001b[0m\u001b[0;34m)\u001b[0m\u001b[0;34m,\u001b[0m \u001b[0mouts\u001b[0m\u001b[0;34m)\u001b[0m\u001b[0;34m)\u001b[0m\u001b[0;34m\u001b[0m\u001b[0;34m\u001b[0m\u001b[0m\n\u001b[1;32m   1387\u001b[0m \u001b[0;34m\u001b[0m\u001b[0m\n",
      "\u001b[0;32m/usr/local/lib/python3.6/dist-packages/jax/core.py\u001b[0m in \u001b[0;36mprocess\u001b[0;34m(self, trace, fun, tracers, params)\u001b[0m\n\u001b[1;32m   1395\u001b[0m \u001b[0;34m\u001b[0m\u001b[0m\n\u001b[1;32m   1396\u001b[0m   \u001b[0;32mdef\u001b[0m \u001b[0mprocess\u001b[0m\u001b[0;34m(\u001b[0m\u001b[0mself\u001b[0m\u001b[0;34m,\u001b[0m \u001b[0mtrace\u001b[0m\u001b[0;34m,\u001b[0m \u001b[0mfun\u001b[0m\u001b[0;34m,\u001b[0m \u001b[0mtracers\u001b[0m\u001b[0;34m,\u001b[0m \u001b[0mparams\u001b[0m\u001b[0;34m)\u001b[0m\u001b[0;34m:\u001b[0m\u001b[0;34m\u001b[0m\u001b[0;34m\u001b[0m\u001b[0m\n\u001b[0;32m-> 1397\u001b[0;31m     \u001b[0;32mreturn\u001b[0m \u001b[0mtrace\u001b[0m\u001b[0;34m.\u001b[0m\u001b[0mprocess_call\u001b[0m\u001b[0;34m(\u001b[0m\u001b[0mself\u001b[0m\u001b[0;34m,\u001b[0m \u001b[0mfun\u001b[0m\u001b[0;34m,\u001b[0m \u001b[0mtracers\u001b[0m\u001b[0;34m,\u001b[0m \u001b[0mparams\u001b[0m\u001b[0;34m)\u001b[0m\u001b[0;34m\u001b[0m\u001b[0;34m\u001b[0m\u001b[0m\n\u001b[0m\u001b[1;32m   1398\u001b[0m \u001b[0;34m\u001b[0m\u001b[0m\n\u001b[1;32m   1399\u001b[0m   \u001b[0;32mdef\u001b[0m \u001b[0mpost_process\u001b[0m\u001b[0;34m(\u001b[0m\u001b[0mself\u001b[0m\u001b[0;34m,\u001b[0m \u001b[0mtrace\u001b[0m\u001b[0;34m,\u001b[0m \u001b[0mout_tracers\u001b[0m\u001b[0;34m,\u001b[0m \u001b[0mparams\u001b[0m\u001b[0;34m)\u001b[0m\u001b[0;34m:\u001b[0m\u001b[0;34m\u001b[0m\u001b[0;34m\u001b[0m\u001b[0m\n",
      "\u001b[0;32m/usr/local/lib/python3.6/dist-packages/jax/core.py\u001b[0m in \u001b[0;36mprocess_call\u001b[0;34m(self, primitive, f, tracers, params)\u001b[0m\n\u001b[1;32m    623\u001b[0m \u001b[0;34m\u001b[0m\u001b[0m\n\u001b[1;32m    624\u001b[0m   \u001b[0;32mdef\u001b[0m \u001b[0mprocess_call\u001b[0m\u001b[0;34m(\u001b[0m\u001b[0mself\u001b[0m\u001b[0;34m,\u001b[0m \u001b[0mprimitive\u001b[0m\u001b[0;34m,\u001b[0m \u001b[0mf\u001b[0m\u001b[0;34m,\u001b[0m \u001b[0mtracers\u001b[0m\u001b[0;34m,\u001b[0m \u001b[0mparams\u001b[0m\u001b[0;34m)\u001b[0m\u001b[0;34m:\u001b[0m\u001b[0;34m\u001b[0m\u001b[0;34m\u001b[0m\u001b[0m\n\u001b[0;32m--> 625\u001b[0;31m     \u001b[0;32mreturn\u001b[0m \u001b[0mprimitive\u001b[0m\u001b[0;34m.\u001b[0m\u001b[0mimpl\u001b[0m\u001b[0;34m(\u001b[0m\u001b[0mf\u001b[0m\u001b[0;34m,\u001b[0m \u001b[0;34m*\u001b[0m\u001b[0mtracers\u001b[0m\u001b[0;34m,\u001b[0m \u001b[0;34m**\u001b[0m\u001b[0mparams\u001b[0m\u001b[0;34m)\u001b[0m\u001b[0;34m\u001b[0m\u001b[0;34m\u001b[0m\u001b[0m\n\u001b[0m\u001b[1;32m    626\u001b[0m   \u001b[0mprocess_map\u001b[0m \u001b[0;34m=\u001b[0m \u001b[0mprocess_call\u001b[0m\u001b[0;34m\u001b[0m\u001b[0;34m\u001b[0m\u001b[0m\n\u001b[1;32m    627\u001b[0m \u001b[0;34m\u001b[0m\u001b[0m\n",
      "\u001b[0;32m/usr/local/lib/python3.6/dist-packages/jax/interpreters/xla.py\u001b[0m in \u001b[0;36m_xla_call_impl\u001b[0;34m(fun, device, backend, name, donated_invars, *args)\u001b[0m\n\u001b[1;32m    586\u001b[0m   compiled_fun = _xla_callable(fun, device, backend, name, donated_invars,\n\u001b[1;32m    587\u001b[0m                                *unsafe_map(arg_spec, args))\n\u001b[0;32m--> 588\u001b[0;31m   \u001b[0;32mtry\u001b[0m\u001b[0;34m:\u001b[0m\u001b[0;34m\u001b[0m\u001b[0;34m\u001b[0m\u001b[0m\n\u001b[0m\u001b[1;32m    589\u001b[0m     \u001b[0;32mreturn\u001b[0m \u001b[0mcompiled_fun\u001b[0m\u001b[0;34m(\u001b[0m\u001b[0;34m*\u001b[0m\u001b[0margs\u001b[0m\u001b[0;34m)\u001b[0m\u001b[0;34m\u001b[0m\u001b[0;34m\u001b[0m\u001b[0m\n\u001b[1;32m    590\u001b[0m   \u001b[0;32mexcept\u001b[0m \u001b[0mFloatingPointError\u001b[0m\u001b[0;34m:\u001b[0m\u001b[0;34m\u001b[0m\u001b[0;34m\u001b[0m\u001b[0m\n",
      "\u001b[0;31mKeyboardInterrupt\u001b[0m: "
     ]
    }
   ],
   "source": [
    "nx_small = vol_fourier_small.shape[0]\n",
    "\n",
    "v0 = jnp.array(np.random.randn(nx_small,nx_small,nx_small) + 1j * np.random.randn(nx_small,nx_small,nx_small))*jnp.max(jnp.abs(imgs[0])) * mask\n",
    "#v0 = vol_fourier + 0.1*v * mask\n",
    "alpha = 1000000 # this alpha works well for full 128 x 128 x 128 volume\n",
    "#alpha = 100000 \n",
    "batch_size = 2\n",
    "N_iter = 1000 * 20\n",
    "#N_iter = 1000 \n",
    "\n",
    "v = v0\n",
    "#idx = jnp.arange(100)\n",
    "for i in range(N_iter):\n",
    "    \n",
    "    idx = np.random.default_rng().choice(N, size=batch_size, replace = False)\n",
    "    \n",
    "    if jnp.mod(i,100) == 0:\n",
    "        #print(i)\n",
    "        print(\"Iter \" + str(i) + \": mean loss = \" + str(jnp.mean(loss_func_batched(v, angles_true[idx], imgs[idx]))))\n",
    "\n",
    "    v = v - alpha * jnp.conj(grad_loss_volume_batched(v, angles_true[idx], imgs[idx]))\n",
    "    \n",
    "print(\"Final loss function (over all data) = \", jnp.mean(loss_func_batched(v, angles_true, imgs)))\n",
    "print(\"Relative error = \", jnp.max(jnp.abs((v - vol_fourier_small)/jnp.max(vol_fourier_small))))"
   ]
  },
  {
   "cell_type": "code",
   "execution_count": 139,
   "id": "cbafe3a6-f0c1-4b63-bf79-a3be37dae3fb",
   "metadata": {},
   "outputs": [
    {
     "name": "stdout",
     "output_type": "stream",
     "text": [
      "Final loss function (over all data) =  4.0558269021398265e-16\n",
      "Relative error =  0.03421829560907133\n"
     ]
    }
   ],
   "source": [
    "print(\"Final loss function (over all data) = \", jnp.mean(loss_func_batched(v, angles_true, imgs)))\n",
    "print(\"Relative error = \", jnp.max(jnp.abs((v - vol_fourier_small)/jnp.max(vol_fourier_small))))"
   ]
  },
  {
   "cell_type": "code",
   "execution_count": 140,
   "id": "71042681-2f7a-484f-9b39-f623723474f9",
   "metadata": {},
   "outputs": [
    {
     "data": {
      "text/plain": [
       "Text(0.5, 1.0, 'Volume_comp MIP')"
      ]
     },
     "execution_count": 140,
     "metadata": {},
     "output_type": "execute_result"
    },
    {
     "data": {
      "image/png": "[encoded data removed]",
      "text/plain": [
       "<Figure size 432x288 with 2 Axes>"
      ]
     },
     "metadata": {
      "needs_background": "light"
     },
     "output_type": "display_data"
    }
   ],
   "source": [
    "mip_z(jnp.real(jnp.fft.fftshift(jnp.fft.ifftn(v))))\n",
    "plt.colorbar()\n",
    "plt.title('Volume_comp MIP')"
   ]
  },
  {
   "cell_type": "code",
   "execution_count": 141,
   "id": "8822f181-cebd-4293-b216-c9667b77304e",
   "metadata": {},
   "outputs": [
    {
     "data": {
      "text/plain": [
       "Text(0.5, 1.0, 'Volume_comp MIP')"
      ]
     },
     "execution_count": 141,
     "metadata": {},
     "output_type": "execute_result"
    },
    {
     "data": {
      "image/png": "[encoded data removed]",
      "text/plain": [
       "<Figure size 432x288 with 2 Axes>"
      ]
     },
     "metadata": {
      "needs_background": "light"
     },
     "output_type": "display_data"
    }
   ],
   "source": [
    "v_large, _,_,_ = rescale_larger_grid(v, x_grid_small, y_grid_small, z_grid_small, [128, 128, 128])\n",
    "#vol_fourier_large, _,_,_ = rescale_larger_grid(vol_fourier, x_grid, y_grid, z_grid, [nx_small, nx_small, nx_small])\n",
    "\n",
    "mip_z(jnp.abs(vol-jnp.real(jnp.fft.fftshift(jnp.fft.ifftn(v_large)))))\n",
    "#mip_z(jnp.abs(jnp.real(jnp.fft.fftshift(jnp.fft.ifftn(vol_fourier_large)))-jnp.real(jnp.fft.fftshift(jnp.fft.ifftn(v)))))\n",
    "plt.colorbar()\n",
    "plt.title('Volume_comp MIP')"
   ]
  },
  {
   "cell_type": "code",
   "execution_count": null,
   "id": "1cd3e5f1-2b3a-4005-883f-a51ed96232ed",
   "metadata": {},
   "outputs": [
    {
     "data": {
      "text/plain": [
       "Text(0.5, 1.0, 'Volume_comp MIP')"
      ]
     },
     "execution_count": 94,
     "metadata": {},
     "output_type": "execute_result"
    },
    {
     "data": {
      "image/png": "[encoded data removed]",
      "text/plain": [
       "<Figure size 432x288 with 2 Axes>"
      ]
     },
     "metadata": {
      "needs_background": "light"
     },
     "output_type": "display_data"
    }
   ],
   "source": [
    "v_large, _,_,_ = rescale_smaller_grid(v, x_grid_small, y_grid_small, z_grid_small, 3.2)\n",
    "\n",
    "mip_z(jnp.real(jnp.fft.fftshift(jnp.fft.ifftn(v_large))))\n",
    "plt.colorbar()\n",
    "plt.title('Volume_comp MIP')"
   ]
  },
  {
   "cell_type": "code",
   "execution_count": 147,
   "id": "ee80e7d9-8eaa-415e-be6a-e394f17bf958",
   "metadata": {},
   "outputs": [
    {
     "data": {
      "text/plain": [
       "(4761,)"
      ]
     },
     "execution_count": 147,
     "metadata": {},
     "output_type": "execute_result"
    }
   ],
   "source": [
    "idx = 10\n",
    "jnp.real(jnp.fft.fftshift(jnp.fft.ifftn(imgs[idx]))).shape"
   ]
  },
  {
   "cell_type": "code",
   "execution_count": null,
   "id": "3dfca6d1-ef9b-43a2-b836-062500da01ab",
   "metadata": {},
   "outputs": [],
   "source": []
  }
 ],
 "metadata": {
  "kernelspec": {
   "display_name": "Python 3",
   "language": "python",
   "name": "python3"
  },
  "language_info": {
   "codemirror_mode": {
    "name": "ipython",
    "version": 3
   },
   "file_extension": ".py",
   "mimetype": "text/x-python",
   "name": "python",
   "nbconvert_exporter": "python",
   "pygments_lexer": "ipython3",
   "version": "3.6.9"
  }
 },
 "nbformat": 4,
 "nbformat_minor": 5
}
