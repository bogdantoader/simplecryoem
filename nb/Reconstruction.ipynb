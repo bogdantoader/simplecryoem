{
 "cells": [
  {
   "cell_type": "code",
   "execution_count": 1,
   "id": "9b330c46-3eb8-455e-9d95-0bdae7386627",
   "metadata": {},
   "outputs": [],
   "source": [
    "%load_ext autoreload\n",
    "%autoreload 2\n",
    "import site\n",
    "import sys\n",
    "import time\n",
    "site.addsitedir('..')\n",
    "from jax.config import config\n",
    "\n",
    "config.update(\"jax_enable_x64\", True)"
   ]
  },
  {
   "cell_type": "code",
   "execution_count": 2,
   "id": "7dbed24b-5190-4dd2-8b2d-a6241333ab3d",
   "metadata": {},
   "outputs": [],
   "source": [
    "import numpy as np\n",
    "import jax.numpy as jnp\n",
    "from  matplotlib import pyplot as plt\n",
    "from src.utils import spherical_volume, volume_fourier, volume_comp, mip_z,create_mask\n",
    "from src.projection import project_spatial, project, rotate\n",
    "from src.interpolate import *\n",
    "import jax"
   ]
  },
  {
   "cell_type": "markdown",
   "id": "e8f6fddc-840b-4e68-9454-823a8c849999",
   "metadata": {},
   "source": [
    "Generate the volume"
   ]
  },
  {
   "cell_type": "code",
   "execution_count": 3,
   "id": "179ba85d-9c47-41ca-9479-787323304f18",
   "metadata": {},
   "outputs": [
    {
     "data": {
      "text/plain": [
       "Text(0.5, 1.0, 'Volume_comp MIP')"
      ]
     },
     "execution_count": 3,
     "metadata": {},
     "output_type": "execute_result"
    },
    {
     "data": {
      "image/png": "[encoded data removed]",
      "text/plain": [
       "<Figure size 432x288 with 2 Axes>"
      ]
     },
     "metadata": {
      "needs_background": "light"
     },
     "output_type": "display_data"
    }
   ],
   "source": [
    "nx = 128\n",
    "shape = np.array([nx,nx,nx])\n",
    "dimensions = np.array([20,20,20])\n",
    "\n",
    "# A volume with components\n",
    "centres = np.array([[0,0,0], [2, 2, 0], [2, -2, 0]])\n",
    "radii = np.array([2, 1, 1])\n",
    "intensities = np.array([10,7,20])\n",
    "\n",
    "vol = jnp.array(volume_comp(shape, dimensions, centres, radii, intensities, True))\n",
    "vol_fourier, X, Y, Z, _, _, _ = volume_fourier(jnp.fft.ifftshift(vol), dimensions)\n",
    "\n",
    "mip_z(vol)\n",
    "#plt.imshow(v[:,:,int(np.floor(v.shape[2]/2))])\n",
    "plt.colorbar()\n",
    "plt.title('Volume_comp MIP')"
   ]
  },
  {
   "cell_type": "markdown",
   "id": "e34c118d-b44b-480b-ba59-3ada362bce9d",
   "metadata": {},
   "source": [
    "Apply Fourier mask to volume to work with the lower frequencies only"
   ]
  },
  {
   "cell_type": "code",
   "execution_count": 4,
   "id": "d677de29-496c-4f51-a936-deeb007a3705",
   "metadata": {},
   "outputs": [
    {
     "name": "stdout",
     "output_type": "stream",
     "text": [
      "68921.0\n"
     ]
    }
   ],
   "source": [
    "mask = create_mask(X, Y, Z, (0,0,0),1)\n",
    "x_size = np.sum(mask[:,0,0])\n",
    "y_size = np.sum(mask[0,:,0])\n",
    "z_size = np.sum(mask[0,0,:])\n",
    "\n",
    "vol_fourier_masked = vol_fourier[mask == 1]\n",
    "vol_fourier_masked.shape\n",
    "print(x_size*y_size*z_size)"
   ]
  },
  {
   "cell_type": "code",
   "execution_count": 5,
   "id": "90d2f387-8bd8-4310-bbfa-51e8a5c0bc5a",
   "metadata": {},
   "outputs": [
    {
     "data": {
      "image/png": "[encoded data removed]",
      "text/plain": [
       "<Figure size 432x288 with 1 Axes>"
      ]
     },
     "metadata": {
      "needs_background": "light"
     },
     "output_type": "display_data"
    }
   ],
   "source": [
    "mip_z(mask)"
   ]
  },
  {
   "cell_type": "markdown",
   "id": "9a09d0a1-cc4b-45c3-b9ad-2cef7ddd6f47",
   "metadata": {},
   "source": [
    "Get x_grid etc to calculate projections in Fourier"
   ]
  },
  {
   "cell_type": "code",
   "execution_count": 6,
   "id": "5718d4af-c61c-4255-aaea-0c6b2d862b61",
   "metadata": {},
   "outputs": [],
   "source": [
    "x_freq = X[0,:,0]\n",
    "y_freq = Y[:,0,0]\n",
    "z_freq = Z[0,0,:]\n",
    "\n",
    "x_grid = np.array([x_freq[1], len(x_freq)])\n",
    "y_grid = np.array([y_freq[1], len(y_freq)])\n",
    "z_grid = np.array([z_freq[1], len(z_freq)])"
   ]
  },
  {
   "cell_type": "markdown",
   "id": "acadb8bc-be39-413d-9fe4-04b132a118a0",
   "metadata": {},
   "source": [
    "Generate projections (in Fourier domain)"
   ]
  },
  {
   "cell_type": "code",
   "execution_count": 7,
   "id": "abf4339e-b31e-479a-94fc-e287da282637",
   "metadata": {},
   "outputs": [],
   "source": [
    "@jax.jit\n",
    "def slice_func(v, angles):\n",
    "    projection, _ = project(mask * v, x_grid, y_grid, z_grid, angles)\n",
    "    return projection\n",
    "\n",
    "@jax.jit\n",
    "def slice_func_array(v, angles):    \n",
    "    return jax.vmap(slice_func, in_axes = (None, 0))(v, angles)"
   ]
  },
  {
   "cell_type": "code",
   "execution_count": 8,
   "id": "16701bad-a4c2-46ed-86d7-e5d9187d2255",
   "metadata": {},
   "outputs": [
    {
     "name": "stdout",
     "output_type": "stream",
     "text": [
      "1.7464470863342285\n"
     ]
    }
   ],
   "source": [
    "N = 1000\n",
    "angles_true = jnp.array(np.random.rand(N,3))*jnp.pi*2\n",
    "start = time.time()\n",
    "imgs = slice_func_array(vol_fourier, angles_true)\n",
    "print(time.time()-start)"
   ]
  },
  {
   "cell_type": "code",
   "execution_count": 9,
   "id": "694b2ef4-ff29-4475-9703-a2c29eb9e83e",
   "metadata": {},
   "outputs": [
    {
     "data": {
      "text/plain": [
       "DeviceArray(1257., dtype=float64)"
      ]
     },
     "execution_count": 9,
     "metadata": {},
     "output_type": "execute_result"
    }
   ],
   "source": [
    "jnp.sum(mask[:,:,0])"
   ]
  },
  {
   "cell_type": "code",
   "execution_count": 10,
   "id": "a0c6e8ed-55e9-4bd7-8596-2f78b8194ac8",
   "metadata": {},
   "outputs": [
    {
     "data": {
      "text/plain": [
       "16384"
      ]
     },
     "execution_count": 10,
     "metadata": {},
     "output_type": "execute_result"
    }
   ],
   "source": [
    "nx*nx"
   ]
  },
  {
   "cell_type": "markdown",
   "id": "2a8ff33e-2b1c-407d-b04d-dd597fc4d421",
   "metadata": {},
   "source": [
    "Loss function given volume and angles, for one image and for many (batches of images). We have a separate loss function for each angles-image pair."
   ]
  },
  {
   "cell_type": "code",
   "execution_count": 11,
   "id": "67c75659-89c2-45da-b802-4dc95fa88aa1",
   "metadata": {},
   "outputs": [],
   "source": [
    "def l2sq(x):\n",
    "    return jnp.real(jnp.sum(jnp.conj(x)*x))\n",
    "\n",
    "@jax.jit\n",
    "def loss_func(v, angles, img):\n",
    "    #return 1/(2* nx*nx) * l2sq(slice_func(v, angles) - img)\n",
    "    return 1/(2* 1257) * l2sq(slice_func(v, angles) - img)   #1257 = number of pixels in mask at z=0\n",
    "\n",
    "\n",
    "@jax.jit\n",
    "def loss_func_batched(v, angles, imgs):\n",
    "    return jax.vmap(loss_func, in_axes = (None, 0, 0))(v, angles, imgs)"
   ]
  },
  {
   "cell_type": "markdown",
   "id": "c3c9fc20-3580-4f73-8178-b4f588741f33",
   "metadata": {},
   "source": [
    "And the gradients of the above, with respect to angles"
   ]
  },
  {
   "cell_type": "code",
   "execution_count": 12,
   "id": "8ba8c7cc-f056-4306-b60a-1f8f10178471",
   "metadata": {},
   "outputs": [],
   "source": [
    "@jax.jit\n",
    "def grad_loss_angles(v, angles, img):\n",
    "    return jax.grad(loss_func, argnums = 1)(v, angles, img)\n",
    "\n",
    "@jax.jit\n",
    "def grad_loss_angles_batched(v, angles, imgs):\n",
    "    return jax.vmap(grad_loss_angles, in_axes = (None, 0, 0))(v, angles, imgs)"
   ]
  },
  {
   "cell_type": "code",
   "execution_count": 13,
   "id": "4cab4ffb-685a-427e-ab03-cc40721cfdda",
   "metadata": {},
   "outputs": [
    {
     "name": "stdout",
     "output_type": "stream",
     "text": [
      "1.049182415008545\n",
      "(1000,)\n"
     ]
    }
   ],
   "source": [
    "start = time.time()\n",
    "ll = loss_func_batched(vol_fourier, angles_true, imgs)\n",
    "print(time.time()-start)\n",
    "print(ll.shape)"
   ]
  },
  {
   "cell_type": "code",
   "execution_count": 14,
   "id": "2fe732c7-c5be-41cc-bc4f-1eb21c05ec40",
   "metadata": {},
   "outputs": [
    {
     "name": "stdout",
     "output_type": "stream",
     "text": [
      "2.3359460830688477\n",
      "(3,)\n"
     ]
    }
   ],
   "source": [
    "start = time.time()\n",
    "dl = grad_loss_angles(vol_fourier, angles_true[0], imgs[0])\n",
    "print(time.time()-start)\n",
    "print(dl.shape)"
   ]
  },
  {
   "cell_type": "code",
   "execution_count": 15,
   "id": "30a2262c-97ce-487d-987f-e91287c7090b",
   "metadata": {},
   "outputs": [
    {
     "name": "stdout",
     "output_type": "stream",
     "text": [
      "1.6517019271850586\n",
      "(1000, 3)\n"
     ]
    }
   ],
   "source": [
    "start = time.time()\n",
    "dl = grad_loss_angles_batched(vol_fourier, angles_true, imgs)\n",
    "print(time.time()-start)\n",
    "print(dl.shape)"
   ]
  },
  {
   "cell_type": "markdown",
   "id": "d267a592-7199-4cd8-bc4c-ecab404c1b97",
   "metadata": {},
   "source": [
    "Gradients with respect to volume pixels, over all (or a batch of) images"
   ]
  },
  {
   "cell_type": "code",
   "execution_count": 16,
   "id": "9654300c-276a-44f3-b8a3-5bff7faf3333",
   "metadata": {},
   "outputs": [],
   "source": [
    "@jax.jit\n",
    "def grad_loss_volume(v, angles, img):\n",
    "    return jax.grad(loss_func)(v, angles, img)\n",
    "\n",
    "@jax.jit\n",
    "def grad_loss_volume_batched(v, angles, imgs):\n",
    "    return 1/N * jnp.sum(jax.vmap(grad_loss_volume, in_axes = (None, 0, 0))(v, angles, imgs), axis=0)"
   ]
  },
  {
   "cell_type": "code",
   "execution_count": 17,
   "id": "4028b0e6-a7b6-4224-903f-83f08d94182f",
   "metadata": {},
   "outputs": [
    {
     "name": "stdout",
     "output_type": "stream",
     "text": [
      "0.9960861206054688\n",
      "(128, 128, 128)\n"
     ]
    }
   ],
   "source": [
    "start = time.time()\n",
    "ll = grad_loss_volume(vol_fourier, angles_true[0], imgs[0])\n",
    "print(time.time()-start)\n",
    "print(ll.shape)"
   ]
  },
  {
   "cell_type": "code",
   "execution_count": 18,
   "id": "6b29483d-8bd8-4174-b7a1-6e0617a98627",
   "metadata": {},
   "outputs": [
    {
     "ename": "RuntimeError",
     "evalue": "Resource exhausted: Out of memory while trying to allocate 269287424240 bytes.",
     "output_type": "error",
     "traceback": [
      "\u001b[0;31m---------------------------------------------------------------------------\u001b[0m",
      "\u001b[0;31mRuntimeError\u001b[0m                              Traceback (most recent call last)",
      "\u001b[0;32m<ipython-input-18-aa5d60758449>\u001b[0m in \u001b[0;36m<module>\u001b[0;34m\u001b[0m\n\u001b[1;32m      1\u001b[0m \u001b[0mstart\u001b[0m \u001b[0;34m=\u001b[0m \u001b[0mtime\u001b[0m\u001b[0;34m.\u001b[0m\u001b[0mtime\u001b[0m\u001b[0;34m(\u001b[0m\u001b[0;34m)\u001b[0m\u001b[0;34m\u001b[0m\u001b[0;34m\u001b[0m\u001b[0m\n\u001b[0;32m----> 2\u001b[0;31m \u001b[0mll\u001b[0m \u001b[0;34m=\u001b[0m \u001b[0mgrad_loss_volume_batched\u001b[0m\u001b[0;34m(\u001b[0m\u001b[0mvol_fourier\u001b[0m\u001b[0;34m,\u001b[0m \u001b[0mangles_true\u001b[0m\u001b[0;34m,\u001b[0m \u001b[0mimgs\u001b[0m\u001b[0;34m)\u001b[0m\u001b[0;34m\u001b[0m\u001b[0;34m\u001b[0m\u001b[0m\n\u001b[0m\u001b[1;32m      3\u001b[0m \u001b[0mprint\u001b[0m\u001b[0;34m(\u001b[0m\u001b[0mtime\u001b[0m\u001b[0;34m.\u001b[0m\u001b[0mtime\u001b[0m\u001b[0;34m(\u001b[0m\u001b[0;34m)\u001b[0m\u001b[0;34m-\u001b[0m\u001b[0mstart\u001b[0m\u001b[0;34m)\u001b[0m\u001b[0;34m\u001b[0m\u001b[0;34m\u001b[0m\u001b[0m\n\u001b[1;32m      4\u001b[0m \u001b[0mprint\u001b[0m\u001b[0;34m(\u001b[0m\u001b[0mll\u001b[0m\u001b[0;34m.\u001b[0m\u001b[0mshape\u001b[0m\u001b[0;34m)\u001b[0m\u001b[0;34m\u001b[0m\u001b[0;34m\u001b[0m\u001b[0m\n",
      "\u001b[0;32m/usr/local/lib/python3.6/dist-packages/jax/api.py\u001b[0m in \u001b[0;36mf_jitted\u001b[0;34m(*args, **kwargs)\u001b[0m\n\u001b[1;32m    414\u001b[0m       \u001b[0;32mreturn\u001b[0m \u001b[0mcpp_jitted_f\u001b[0m\u001b[0;34m(\u001b[0m\u001b[0;34m*\u001b[0m\u001b[0margs\u001b[0m\u001b[0;34m,\u001b[0m \u001b[0;34m**\u001b[0m\u001b[0mkwargs\u001b[0m\u001b[0;34m)\u001b[0m\u001b[0;34m\u001b[0m\u001b[0;34m\u001b[0m\u001b[0m\n\u001b[1;32m    415\u001b[0m     \u001b[0;32melse\u001b[0m\u001b[0;34m:\u001b[0m\u001b[0;34m\u001b[0m\u001b[0;34m\u001b[0m\u001b[0m\n\u001b[0;32m--> 416\u001b[0;31m       \u001b[0;32mreturn\u001b[0m \u001b[0mcpp_jitted_f\u001b[0m\u001b[0;34m(\u001b[0m\u001b[0mcontext\u001b[0m\u001b[0;34m,\u001b[0m \u001b[0;34m*\u001b[0m\u001b[0margs\u001b[0m\u001b[0;34m,\u001b[0m \u001b[0;34m**\u001b[0m\u001b[0mkwargs\u001b[0m\u001b[0;34m)\u001b[0m\u001b[0;34m\u001b[0m\u001b[0;34m\u001b[0m\u001b[0m\n\u001b[0m\u001b[1;32m    417\u001b[0m   \u001b[0mf_jitted\u001b[0m\u001b[0;34m.\u001b[0m\u001b[0m_cpp_jitted_f\u001b[0m \u001b[0;34m=\u001b[0m \u001b[0mcpp_jitted_f\u001b[0m\u001b[0;34m\u001b[0m\u001b[0;34m\u001b[0m\u001b[0m\n\u001b[1;32m    418\u001b[0m \u001b[0;34m\u001b[0m\u001b[0m\n",
      "\u001b[0;32m/usr/local/lib/python3.6/dist-packages/jax/api.py\u001b[0m in \u001b[0;36mcache_miss\u001b[0;34m(_, *args, **kwargs)\u001b[0m\n\u001b[1;32m    301\u001b[0m         \u001b[0mbackend\u001b[0m\u001b[0;34m=\u001b[0m\u001b[0mbackend\u001b[0m\u001b[0;34m,\u001b[0m\u001b[0;34m\u001b[0m\u001b[0;34m\u001b[0m\u001b[0m\n\u001b[1;32m    302\u001b[0m         \u001b[0mname\u001b[0m\u001b[0;34m=\u001b[0m\u001b[0mflat_fun\u001b[0m\u001b[0;34m.\u001b[0m\u001b[0m__name__\u001b[0m\u001b[0;34m,\u001b[0m\u001b[0;34m\u001b[0m\u001b[0;34m\u001b[0m\u001b[0m\n\u001b[0;32m--> 303\u001b[0;31m         donated_invars=donated_invars)\n\u001b[0m\u001b[1;32m    304\u001b[0m     \u001b[0mout_pytree_def\u001b[0m \u001b[0;34m=\u001b[0m \u001b[0mout_tree\u001b[0m\u001b[0;34m(\u001b[0m\u001b[0;34m)\u001b[0m\u001b[0;34m\u001b[0m\u001b[0;34m\u001b[0m\u001b[0m\n\u001b[1;32m    305\u001b[0m     \u001b[0mout\u001b[0m \u001b[0;34m=\u001b[0m \u001b[0mtree_unflatten\u001b[0m\u001b[0;34m(\u001b[0m\u001b[0mout_pytree_def\u001b[0m\u001b[0;34m,\u001b[0m \u001b[0mout_flat\u001b[0m\u001b[0;34m)\u001b[0m\u001b[0;34m\u001b[0m\u001b[0;34m\u001b[0m\u001b[0m\n",
      "\u001b[0;32m/usr/local/lib/python3.6/dist-packages/jax/core.py\u001b[0m in \u001b[0;36mbind\u001b[0;34m(self, fun, *args, **params)\u001b[0m\n\u001b[1;32m   1392\u001b[0m \u001b[0;34m\u001b[0m\u001b[0m\n\u001b[1;32m   1393\u001b[0m   \u001b[0;32mdef\u001b[0m \u001b[0mbind\u001b[0m\u001b[0;34m(\u001b[0m\u001b[0mself\u001b[0m\u001b[0;34m,\u001b[0m \u001b[0mfun\u001b[0m\u001b[0;34m,\u001b[0m \u001b[0;34m*\u001b[0m\u001b[0margs\u001b[0m\u001b[0;34m,\u001b[0m \u001b[0;34m**\u001b[0m\u001b[0mparams\u001b[0m\u001b[0;34m)\u001b[0m\u001b[0;34m:\u001b[0m\u001b[0;34m\u001b[0m\u001b[0;34m\u001b[0m\u001b[0m\n\u001b[0;32m-> 1394\u001b[0;31m     \u001b[0;32mreturn\u001b[0m \u001b[0mcall_bind\u001b[0m\u001b[0;34m(\u001b[0m\u001b[0mself\u001b[0m\u001b[0;34m,\u001b[0m \u001b[0mfun\u001b[0m\u001b[0;34m,\u001b[0m \u001b[0;34m*\u001b[0m\u001b[0margs\u001b[0m\u001b[0;34m,\u001b[0m \u001b[0;34m**\u001b[0m\u001b[0mparams\u001b[0m\u001b[0;34m)\u001b[0m\u001b[0;34m\u001b[0m\u001b[0;34m\u001b[0m\u001b[0m\n\u001b[0m\u001b[1;32m   1395\u001b[0m \u001b[0;34m\u001b[0m\u001b[0m\n\u001b[1;32m   1396\u001b[0m   \u001b[0;32mdef\u001b[0m \u001b[0mprocess\u001b[0m\u001b[0;34m(\u001b[0m\u001b[0mself\u001b[0m\u001b[0;34m,\u001b[0m \u001b[0mtrace\u001b[0m\u001b[0;34m,\u001b[0m \u001b[0mfun\u001b[0m\u001b[0;34m,\u001b[0m \u001b[0mtracers\u001b[0m\u001b[0;34m,\u001b[0m \u001b[0mparams\u001b[0m\u001b[0;34m)\u001b[0m\u001b[0;34m:\u001b[0m\u001b[0;34m\u001b[0m\u001b[0;34m\u001b[0m\u001b[0m\n",
      "\u001b[0;32m/usr/local/lib/python3.6/dist-packages/jax/core.py\u001b[0m in \u001b[0;36mcall_bind\u001b[0;34m(primitive, fun, *args, **params)\u001b[0m\n\u001b[1;32m   1383\u001b[0m   \u001b[0mtracers\u001b[0m \u001b[0;34m=\u001b[0m \u001b[0mmap\u001b[0m\u001b[0;34m(\u001b[0m\u001b[0mtop_trace\u001b[0m\u001b[0;34m.\u001b[0m\u001b[0mfull_raise\u001b[0m\u001b[0;34m,\u001b[0m \u001b[0margs\u001b[0m\u001b[0;34m)\u001b[0m\u001b[0;34m\u001b[0m\u001b[0;34m\u001b[0m\u001b[0m\n\u001b[1;32m   1384\u001b[0m   \u001b[0;32mwith\u001b[0m \u001b[0mmaybe_new_sublevel\u001b[0m\u001b[0;34m(\u001b[0m\u001b[0mtop_trace\u001b[0m\u001b[0;34m)\u001b[0m\u001b[0;34m:\u001b[0m\u001b[0;34m\u001b[0m\u001b[0;34m\u001b[0m\u001b[0m\n\u001b[0;32m-> 1385\u001b[0;31m     \u001b[0mouts\u001b[0m \u001b[0;34m=\u001b[0m \u001b[0mprimitive\u001b[0m\u001b[0;34m.\u001b[0m\u001b[0mprocess\u001b[0m\u001b[0;34m(\u001b[0m\u001b[0mtop_trace\u001b[0m\u001b[0;34m,\u001b[0m \u001b[0mfun\u001b[0m\u001b[0;34m,\u001b[0m \u001b[0mtracers\u001b[0m\u001b[0;34m,\u001b[0m \u001b[0mparams\u001b[0m\u001b[0;34m)\u001b[0m\u001b[0;34m\u001b[0m\u001b[0;34m\u001b[0m\u001b[0m\n\u001b[0m\u001b[1;32m   1386\u001b[0m   \u001b[0;32mreturn\u001b[0m \u001b[0mmap\u001b[0m\u001b[0;34m(\u001b[0m\u001b[0mfull_lower\u001b[0m\u001b[0;34m,\u001b[0m \u001b[0mapply_todos\u001b[0m\u001b[0;34m(\u001b[0m\u001b[0menv_trace_todo\u001b[0m\u001b[0;34m(\u001b[0m\u001b[0;34m)\u001b[0m\u001b[0;34m,\u001b[0m \u001b[0mouts\u001b[0m\u001b[0;34m)\u001b[0m\u001b[0;34m)\u001b[0m\u001b[0;34m\u001b[0m\u001b[0;34m\u001b[0m\u001b[0m\n\u001b[1;32m   1387\u001b[0m \u001b[0;34m\u001b[0m\u001b[0m\n",
      "\u001b[0;32m/usr/local/lib/python3.6/dist-packages/jax/core.py\u001b[0m in \u001b[0;36mprocess\u001b[0;34m(self, trace, fun, tracers, params)\u001b[0m\n\u001b[1;32m   1395\u001b[0m \u001b[0;34m\u001b[0m\u001b[0m\n\u001b[1;32m   1396\u001b[0m   \u001b[0;32mdef\u001b[0m \u001b[0mprocess\u001b[0m\u001b[0;34m(\u001b[0m\u001b[0mself\u001b[0m\u001b[0;34m,\u001b[0m \u001b[0mtrace\u001b[0m\u001b[0;34m,\u001b[0m \u001b[0mfun\u001b[0m\u001b[0;34m,\u001b[0m \u001b[0mtracers\u001b[0m\u001b[0;34m,\u001b[0m \u001b[0mparams\u001b[0m\u001b[0;34m)\u001b[0m\u001b[0;34m:\u001b[0m\u001b[0;34m\u001b[0m\u001b[0;34m\u001b[0m\u001b[0m\n\u001b[0;32m-> 1397\u001b[0;31m     \u001b[0;32mreturn\u001b[0m \u001b[0mtrace\u001b[0m\u001b[0;34m.\u001b[0m\u001b[0mprocess_call\u001b[0m\u001b[0;34m(\u001b[0m\u001b[0mself\u001b[0m\u001b[0;34m,\u001b[0m \u001b[0mfun\u001b[0m\u001b[0;34m,\u001b[0m \u001b[0mtracers\u001b[0m\u001b[0;34m,\u001b[0m \u001b[0mparams\u001b[0m\u001b[0;34m)\u001b[0m\u001b[0;34m\u001b[0m\u001b[0;34m\u001b[0m\u001b[0m\n\u001b[0m\u001b[1;32m   1398\u001b[0m \u001b[0;34m\u001b[0m\u001b[0m\n\u001b[1;32m   1399\u001b[0m   \u001b[0;32mdef\u001b[0m \u001b[0mpost_process\u001b[0m\u001b[0;34m(\u001b[0m\u001b[0mself\u001b[0m\u001b[0;34m,\u001b[0m \u001b[0mtrace\u001b[0m\u001b[0;34m,\u001b[0m \u001b[0mout_tracers\u001b[0m\u001b[0;34m,\u001b[0m \u001b[0mparams\u001b[0m\u001b[0;34m)\u001b[0m\u001b[0;34m:\u001b[0m\u001b[0;34m\u001b[0m\u001b[0;34m\u001b[0m\u001b[0m\n",
      "\u001b[0;32m/usr/local/lib/python3.6/dist-packages/jax/core.py\u001b[0m in \u001b[0;36mprocess_call\u001b[0;34m(self, primitive, f, tracers, params)\u001b[0m\n\u001b[1;32m    623\u001b[0m \u001b[0;34m\u001b[0m\u001b[0m\n\u001b[1;32m    624\u001b[0m   \u001b[0;32mdef\u001b[0m \u001b[0mprocess_call\u001b[0m\u001b[0;34m(\u001b[0m\u001b[0mself\u001b[0m\u001b[0;34m,\u001b[0m \u001b[0mprimitive\u001b[0m\u001b[0;34m,\u001b[0m \u001b[0mf\u001b[0m\u001b[0;34m,\u001b[0m \u001b[0mtracers\u001b[0m\u001b[0;34m,\u001b[0m \u001b[0mparams\u001b[0m\u001b[0;34m)\u001b[0m\u001b[0;34m:\u001b[0m\u001b[0;34m\u001b[0m\u001b[0;34m\u001b[0m\u001b[0m\n\u001b[0;32m--> 625\u001b[0;31m     \u001b[0;32mreturn\u001b[0m \u001b[0mprimitive\u001b[0m\u001b[0;34m.\u001b[0m\u001b[0mimpl\u001b[0m\u001b[0;34m(\u001b[0m\u001b[0mf\u001b[0m\u001b[0;34m,\u001b[0m \u001b[0;34m*\u001b[0m\u001b[0mtracers\u001b[0m\u001b[0;34m,\u001b[0m \u001b[0;34m**\u001b[0m\u001b[0mparams\u001b[0m\u001b[0;34m)\u001b[0m\u001b[0;34m\u001b[0m\u001b[0;34m\u001b[0m\u001b[0m\n\u001b[0m\u001b[1;32m    626\u001b[0m   \u001b[0mprocess_map\u001b[0m \u001b[0;34m=\u001b[0m \u001b[0mprocess_call\u001b[0m\u001b[0;34m\u001b[0m\u001b[0;34m\u001b[0m\u001b[0m\n\u001b[1;32m    627\u001b[0m \u001b[0;34m\u001b[0m\u001b[0m\n",
      "\u001b[0;32m/usr/local/lib/python3.6/dist-packages/jax/interpreters/xla.py\u001b[0m in \u001b[0;36m_xla_call_impl\u001b[0;34m(fun, device, backend, name, donated_invars, *args)\u001b[0m\n\u001b[1;32m    587\u001b[0m                                *unsafe_map(arg_spec, args))\n\u001b[1;32m    588\u001b[0m   \u001b[0;32mtry\u001b[0m\u001b[0;34m:\u001b[0m\u001b[0;34m\u001b[0m\u001b[0;34m\u001b[0m\u001b[0m\n\u001b[0;32m--> 589\u001b[0;31m     \u001b[0;32mreturn\u001b[0m \u001b[0mcompiled_fun\u001b[0m\u001b[0;34m(\u001b[0m\u001b[0;34m*\u001b[0m\u001b[0margs\u001b[0m\u001b[0;34m)\u001b[0m\u001b[0;34m\u001b[0m\u001b[0;34m\u001b[0m\u001b[0m\n\u001b[0m\u001b[1;32m    590\u001b[0m   \u001b[0;32mexcept\u001b[0m \u001b[0mFloatingPointError\u001b[0m\u001b[0;34m:\u001b[0m\u001b[0;34m\u001b[0m\u001b[0;34m\u001b[0m\u001b[0m\n\u001b[1;32m    591\u001b[0m     \u001b[0;32massert\u001b[0m \u001b[0mFLAGS\u001b[0m\u001b[0;34m.\u001b[0m\u001b[0mjax_debug_nans\u001b[0m \u001b[0;32mor\u001b[0m \u001b[0mFLAGS\u001b[0m\u001b[0;34m.\u001b[0m\u001b[0mjax_debug_infs\u001b[0m  \u001b[0;31m# compiled_fun can only raise in this case\u001b[0m\u001b[0;34m\u001b[0m\u001b[0;34m\u001b[0m\u001b[0m\n",
      "\u001b[0;32m/usr/local/lib/python3.6/dist-packages/jax/interpreters/xla.py\u001b[0m in \u001b[0;36m_execute_compiled\u001b[0;34m(compiled, avals, handlers, *args)\u001b[0m\n\u001b[1;32m    846\u001b[0m   \u001b[0mdevice\u001b[0m\u001b[0;34m,\u001b[0m \u001b[0;34m=\u001b[0m \u001b[0mcompiled\u001b[0m\u001b[0;34m.\u001b[0m\u001b[0mlocal_devices\u001b[0m\u001b[0;34m(\u001b[0m\u001b[0;34m)\u001b[0m\u001b[0;34m\u001b[0m\u001b[0;34m\u001b[0m\u001b[0m\n\u001b[1;32m    847\u001b[0m   \u001b[0minput_bufs\u001b[0m \u001b[0;34m=\u001b[0m \u001b[0mlist\u001b[0m\u001b[0;34m(\u001b[0m\u001b[0mit\u001b[0m\u001b[0;34m.\u001b[0m\u001b[0mchain\u001b[0m\u001b[0;34m.\u001b[0m\u001b[0mfrom_iterable\u001b[0m\u001b[0;34m(\u001b[0m\u001b[0mdevice_put\u001b[0m\u001b[0;34m(\u001b[0m\u001b[0mx\u001b[0m\u001b[0;34m,\u001b[0m \u001b[0mdevice\u001b[0m\u001b[0;34m)\u001b[0m \u001b[0;32mfor\u001b[0m \u001b[0mx\u001b[0m \u001b[0;32min\u001b[0m \u001b[0margs\u001b[0m \u001b[0;32mif\u001b[0m \u001b[0mx\u001b[0m \u001b[0;32mis\u001b[0m \u001b[0;32mnot\u001b[0m \u001b[0mtoken\u001b[0m\u001b[0;34m)\u001b[0m\u001b[0;34m)\u001b[0m\u001b[0;34m\u001b[0m\u001b[0;34m\u001b[0m\u001b[0m\n\u001b[0;32m--> 848\u001b[0;31m   \u001b[0mout_bufs\u001b[0m \u001b[0;34m=\u001b[0m \u001b[0mcompiled\u001b[0m\u001b[0;34m.\u001b[0m\u001b[0mexecute\u001b[0m\u001b[0;34m(\u001b[0m\u001b[0minput_bufs\u001b[0m\u001b[0;34m)\u001b[0m\u001b[0;34m\u001b[0m\u001b[0;34m\u001b[0m\u001b[0m\n\u001b[0m\u001b[1;32m    849\u001b[0m   \u001b[0mcheck_special\u001b[0m\u001b[0;34m(\u001b[0m\u001b[0mxla_call_p\u001b[0m\u001b[0;34m,\u001b[0m \u001b[0mout_bufs\u001b[0m\u001b[0;34m)\u001b[0m\u001b[0;34m\u001b[0m\u001b[0;34m\u001b[0m\u001b[0m\n\u001b[1;32m    850\u001b[0m   \u001b[0;32mreturn\u001b[0m \u001b[0;34m[\u001b[0m\u001b[0mhandler\u001b[0m\u001b[0;34m(\u001b[0m\u001b[0;34m*\u001b[0m\u001b[0mbs\u001b[0m\u001b[0;34m)\u001b[0m \u001b[0;32mfor\u001b[0m \u001b[0mhandler\u001b[0m\u001b[0;34m,\u001b[0m \u001b[0mbs\u001b[0m \u001b[0;32min\u001b[0m \u001b[0mzip\u001b[0m\u001b[0;34m(\u001b[0m\u001b[0mhandlers\u001b[0m\u001b[0;34m,\u001b[0m \u001b[0m_partition_outputs\u001b[0m\u001b[0;34m(\u001b[0m\u001b[0mavals\u001b[0m\u001b[0;34m,\u001b[0m \u001b[0mout_bufs\u001b[0m\u001b[0;34m)\u001b[0m\u001b[0;34m)\u001b[0m\u001b[0;34m]\u001b[0m\u001b[0;34m\u001b[0m\u001b[0;34m\u001b[0m\u001b[0m\n",
      "\u001b[0;31mRuntimeError\u001b[0m: Resource exhausted: Out of memory while trying to allocate 269287424240 bytes."
     ]
    }
   ],
   "source": [
    "start = time.time()\n",
    "ll = grad_loss_volume_batched(vol_fourier, angles_true, imgs)\n",
    "print(time.time()-start)\n",
    "print(ll.shape)"
   ]
  },
  {
   "cell_type": "markdown",
   "id": "cfb657f4-1a0f-4f3e-bb98-5306a29d9996",
   "metadata": {},
   "source": [
    "## Gradient descent with respect to angles"
   ]
  },
  {
   "cell_type": "code",
   "execution_count": 19,
   "id": "b3dfbd0e-7fbf-4791-a3a9-00bd0d5b66d0",
   "metadata": {},
   "outputs": [
    {
     "name": "stdout",
     "output_type": "stream",
     "text": [
      "Iter 0: mean loss = 1391.8817938509485\n",
      "Iter 10: mean loss = 1068.7013356273033\n",
      "Iter 20: mean loss = 831.5165616332197\n",
      "Iter 30: mean loss = 656.7615007788031\n",
      "Iter 40: mean loss = 526.8917739317416\n",
      "Iter 50: mean loss = 429.6147621813882\n",
      "Iter 60: mean loss = 355.8934256913711\n",
      "Iter 70: mean loss = 299.2802198257457\n",
      "Iter 80: mean loss = 255.2843074287552\n",
      "Iter 90: mean loss = 220.66100565137504\n",
      "Iter 100: mean loss = 193.0640629529868\n",
      "Iter 110: mean loss = 170.7774327635779\n",
      "Iter 120: mean loss = 152.56403161308182\n",
      "Iter 130: mean loss = 137.4976456472868\n",
      "Iter 140: mean loss = 124.89680398735503\n",
      "Iter 150: mean loss = 114.2479182047043\n",
      "Iter 160: mean loss = 105.16175018670424\n",
      "Iter 170: mean loss = 97.33191459189435\n",
      "Iter 180: mean loss = 90.52737824271405\n",
      "Iter 190: mean loss = 84.56594634027937\n",
      "Iter 200: mean loss = 79.29959301052443\n",
      "Iter 210: mean loss = 74.61889836880239\n",
      "Iter 220: mean loss = 70.43090294685052\n",
      "Iter 230: mean loss = 66.6582798073133\n",
      "Iter 240: mean loss = 63.241222552963556\n",
      "Iter 250: mean loss = 60.13161274981461\n",
      "Iter 260: mean loss = 57.28948202450337\n",
      "Iter 270: mean loss = 54.683684307162174\n",
      "Iter 280: mean loss = 52.28427978668801\n",
      "Iter 290: mean loss = 50.066920564525574\n",
      "Iter 300: mean loss = 48.01324788997311\n",
      "Iter 310: mean loss = 46.10428599560486\n",
      "Iter 320: mean loss = 44.32534632068146\n",
      "Iter 330: mean loss = 42.66411122150622\n",
      "Iter 340: mean loss = 41.1077318098142\n",
      "Iter 350: mean loss = 39.646170973974684\n",
      "Iter 360: mean loss = 38.27178862700737\n",
      "Iter 370: mean loss = 36.976866334439244\n",
      "Iter 380: mean loss = 35.75493343706659\n",
      "Iter 390: mean loss = 34.59994716426145\n",
      "Iter 400: mean loss = 33.50518568751548\n",
      "Iter 410: mean loss = 32.46746693127215\n",
      "Iter 420: mean loss = 31.48288655162541\n",
      "Iter 430: mean loss = 30.547617892549546\n",
      "Iter 440: mean loss = 29.657459600054377\n",
      "Iter 450: mean loss = 28.809262118777458\n",
      "Iter 460: mean loss = 28.000139992930873\n",
      "Iter 470: mean loss = 27.227323434942154\n",
      "Iter 480: mean loss = 26.488819122416515\n",
      "Iter 490: mean loss = 25.78109883871684\n",
      "Iter 500: mean loss = 25.101456125358904\n",
      "Iter 510: mean loss = 24.45040213789429\n",
      "Iter 520: mean loss = 23.826266007380664\n",
      "Iter 530: mean loss = 23.227580795726304\n",
      "Iter 540: mean loss = 22.65270740927166\n",
      "Iter 550: mean loss = 22.10034109921218\n",
      "Iter 560: mean loss = 21.569567886267627\n",
      "Iter 570: mean loss = 21.05891922885925\n",
      "Iter 580: mean loss = 20.567161938996957\n",
      "Iter 590: mean loss = 20.093372268835466\n",
      "Iter 600: mean loss = 19.636862090047988\n",
      "Iter 610: mean loss = 19.196777481642172\n",
      "Iter 620: mean loss = 18.77235573909446\n",
      "Iter 630: mean loss = 18.36273572725573\n",
      "Iter 640: mean loss = 17.966880615139573\n",
      "Iter 650: mean loss = 17.583836384641735\n",
      "Iter 660: mean loss = 17.21367551398422\n",
      "Iter 670: mean loss = 16.855736250961943\n",
      "Iter 680: mean loss = 16.509296102387253\n",
      "Iter 690: mean loss = 16.17395508996409\n",
      "Iter 700: mean loss = 15.848962749848702\n",
      "Iter 710: mean loss = 15.53395180971588\n",
      "Iter 720: mean loss = 15.228598076893544\n",
      "Iter 730: mean loss = 14.932489267876786\n",
      "Iter 740: mean loss = 14.645209415456542\n",
      "Iter 750: mean loss = 14.36635706735203\n",
      "Iter 760: mean loss = 14.095671891184516\n",
      "Iter 770: mean loss = 13.832781773084243\n",
      "Iter 780: mean loss = 13.577457996996861\n",
      "Iter 790: mean loss = 13.329382569993351\n",
      "Iter 800: mean loss = 13.088199106083309\n",
      "Iter 810: mean loss = 12.853849146415934\n",
      "Iter 820: mean loss = 12.625898607175637\n",
      "Iter 830: mean loss = 12.40409587499017\n",
      "Iter 840: mean loss = 12.188278587360417\n",
      "Iter 850: mean loss = 11.978206937548727\n",
      "Iter 860: mean loss = 11.773732133764616\n",
      "Iter 870: mean loss = 11.574595009255438\n",
      "Iter 880: mean loss = 11.380656496065185\n",
      "Iter 890: mean loss = 11.191664222659716\n",
      "Iter 900: mean loss = 11.007442108100626\n",
      "Iter 910: mean loss = 10.827838911267412\n",
      "Iter 920: mean loss = 10.652722085591249\n",
      "Iter 930: mean loss = 10.481858993401959\n",
      "Iter 940: mean loss = 10.314634822830419\n",
      "Iter 950: mean loss = 10.151289351155494\n",
      "Iter 960: mean loss = 9.99172730663461\n",
      "Iter 970: mean loss = 9.835927968052365\n",
      "Iter 980: mean loss = 9.683856974432437\n",
      "Iter 990: mean loss = 9.535368539281277\n",
      "mean(a-a_true) = 0.009069405178983867\n"
     ]
    }
   ],
   "source": [
    "alpha = 0.00000001\n",
    "a = jnp.array(np.random.rand(N, 3)*np.pi*2)\n",
    "a = angles_true + 0.01*a\n",
    "N_iter = 1000\n",
    "\n",
    "for i in range(N_iter):\n",
    "        \n",
    "    if jnp.mod(i,10) == 0:\n",
    "    #print(i)\n",
    "        print(\"Iter \" + str(i) + \": mean loss = \" + str(jnp.mean(loss_func_batched(vol_fourier, a, imgs))))\n",
    "        \n",
    "    a = a - alpha * jnp.conj(grad_loss_angles_batched(vol_fourier, a, imgs))\n",
    "    \n",
    "max_err = jnp.mean(jnp.abs(a - angles_true))\n",
    "print(\"mean(a-a_true) = \" + str(max_err))"
   ]
  },
  {
   "cell_type": "code",
   "execution_count": 20,
   "id": "bb73be09-eefd-4799-9d75-10e6545e5eed",
   "metadata": {},
   "outputs": [
    {
     "name": "stdout",
     "output_type": "stream",
     "text": [
      "max(a-a_true) = 0.060126538248225\n"
     ]
    }
   ],
   "source": [
    "max_err = jnp.max(jnp.abs(a - angles_true))\n",
    "print(\"max(a-a_true) = \" + str(max_err))"
   ]
  },
  {
   "cell_type": "markdown",
   "id": "c28666d9-5830-447c-b2ec-29e2017b1472",
   "metadata": {},
   "source": [
    "## Gradient descent with respect to volume"
   ]
  },
  {
   "cell_type": "code",
   "execution_count": 24,
   "id": "79c31175-1885-4da1-a132-0c0426535459",
   "metadata": {},
   "outputs": [
    {
     "name": "stdout",
     "output_type": "stream",
     "text": [
      "Iter 0: mean loss = 9316857.636414424\n",
      "Iter 300: mean loss = 2171694.976406339\n",
      "Iter 600: mean loss = 1006588.3017039641\n",
      "Iter 900: mean loss = 609362.7683832434\n",
      "Iter 1200: mean loss = 322484.33486295876\n",
      "Iter 1500: mean loss = 210617.13442466655\n",
      "Iter 1800: mean loss = 133943.78004650582\n",
      "Iter 2100: mean loss = 104224.27643195254\n",
      "Iter 2400: mean loss = 65112.24169287835\n",
      "Iter 2700: mean loss = 48274.33452873051\n",
      "Iter 3000: mean loss = 28451.527524020836\n",
      "Iter 3300: mean loss = 25501.929049477487\n",
      "Iter 3600: mean loss = 20024.405119773415\n",
      "Iter 3900: mean loss = 19963.555130467397\n",
      "Iter 4200: mean loss = 16892.251865640577\n",
      "Iter 4500: mean loss = 14762.800025085426\n",
      "Iter 4800: mean loss = 9561.650848072657\n",
      "Iter 5100: mean loss = 8663.999331108102\n",
      "Iter 5400: mean loss = 5623.039102165514\n",
      "Iter 5700: mean loss = 4375.543557627756\n",
      "Iter 6000: mean loss = 2415.414820131713\n",
      "Iter 6300: mean loss = 3239.469230544065\n",
      "Iter 6600: mean loss = 2438.586103104055\n",
      "Iter 6900: mean loss = 2902.6861637138054\n",
      "Iter 7200: mean loss = 2368.4708426010648\n",
      "Iter 7500: mean loss = 2409.156751617181\n",
      "Iter 7800: mean loss = 914.9043684300461\n",
      "Iter 8100: mean loss = 1247.4152369227663\n",
      "Iter 8400: mean loss = 1156.5867030138656\n",
      "Iter 8700: mean loss = 656.2398910487036\n",
      "Iter 9000: mean loss = 657.1837293202691\n",
      "Iter 9300: mean loss = 974.4997336465342\n",
      "Iter 9600: mean loss = 802.3100214488594\n",
      "Iter 9900: mean loss = 545.9633342177312\n",
      "Iter 10200: mean loss = 410.34985024026486\n",
      "Iter 10500: mean loss = 400.1676957814033\n",
      "Iter 10800: mean loss = 232.7158092509884\n",
      "Iter 11100: mean loss = 181.83556431366952\n",
      "Iter 11400: mean loss = 338.3003438940882\n",
      "Iter 11700: mean loss = 237.28990511283274\n",
      "Iter 12000: mean loss = 113.93486074095908\n",
      "Iter 12300: mean loss = 166.86221473662144\n",
      "Iter 12600: mean loss = 122.97791791942535\n",
      "Iter 12900: mean loss = 109.19863099550349\n",
      "Iter 13200: mean loss = 61.68671809308046\n",
      "Iter 13500: mean loss = 104.7700690664419\n",
      "Iter 13800: mean loss = 70.12774041810691\n",
      "Iter 14100: mean loss = 88.6828855081965\n",
      "Iter 14400: mean loss = 89.58036327928411\n",
      "Iter 14700: mean loss = 57.5766264763391\n",
      "Iter 15000: mean loss = 56.734583583102136\n",
      "Iter 15300: mean loss = 76.10948751808837\n",
      "Iter 15600: mean loss = 30.387313835986532\n",
      "Iter 15900: mean loss = 42.148390377746765\n",
      "Iter 16200: mean loss = 28.627616207828503\n",
      "Iter 16500: mean loss = 26.641101495707492\n",
      "Iter 16800: mean loss = 24.872185645065194\n",
      "Iter 17100: mean loss = 37.943165138924584\n",
      "Iter 17400: mean loss = 40.89325731883734\n",
      "Iter 17700: mean loss = 13.518885994680245\n",
      "Iter 18000: mean loss = 11.75584899884649\n",
      "Iter 18300: mean loss = 11.494771796405557\n",
      "Iter 18600: mean loss = 11.888198714275244\n",
      "Iter 18900: mean loss = 15.116070821656308\n",
      "Iter 19200: mean loss = 9.428125318841296\n",
      "Iter 19500: mean loss = 4.454917325558382\n",
      "Iter 19800: mean loss = 6.9450196079911475\n",
      "Iter 20100: mean loss = 8.505464698209323\n",
      "Iter 20400: mean loss = 4.627201202373742\n",
      "Iter 20700: mean loss = 7.904540237314599\n",
      "Iter 21000: mean loss = 3.586034807432034\n",
      "Iter 21300: mean loss = 3.0344996892849245\n",
      "Iter 21600: mean loss = 6.0549747472256445\n",
      "Iter 21900: mean loss = 1.7219790623251034\n",
      "Iter 22200: mean loss = 5.372071299280483\n",
      "Iter 22500: mean loss = 1.1747212140897465\n",
      "Iter 22800: mean loss = 2.761868735983012\n",
      "Iter 23100: mean loss = 3.6148835748611257\n",
      "Iter 23400: mean loss = 3.828478506219656\n",
      "Iter 23700: mean loss = 1.696957987838761\n",
      "Iter 24000: mean loss = 0.8954855573876714\n",
      "Iter 24300: mean loss = 0.519885069164626\n",
      "Iter 24600: mean loss = 3.795262969175483\n",
      "Iter 24900: mean loss = 1.4963357503274977\n",
      "Iter 25200: mean loss = 1.701090546135825\n",
      "Iter 25500: mean loss = 1.0063617944844383\n",
      "Iter 25800: mean loss = 0.3262588365045418\n",
      "Iter 26100: mean loss = 0.6290600609247237\n",
      "Iter 26400: mean loss = 0.5519706203818826\n",
      "Iter 26700: mean loss = 1.206323752311616\n",
      "Iter 27000: mean loss = 0.4375479794979857\n",
      "Iter 27300: mean loss = 0.453888974793309\n",
      "Iter 27600: mean loss = 0.4295544170734892\n",
      "Iter 27900: mean loss = 0.498928444264492\n",
      "Iter 28200: mean loss = 1.4109198521225925\n",
      "Iter 28500: mean loss = 0.26363013558436477\n",
      "Iter 28800: mean loss = 0.3745841447541627\n",
      "Iter 29100: mean loss = 0.4220570497971954\n",
      "Iter 29400: mean loss = 0.12686322313796589\n",
      "Iter 29700: mean loss = 0.9136384213627303\n",
      "Iter 30000: mean loss = 0.5741490335589623\n",
      "Iter 30300: mean loss = 0.18065674935081075\n",
      "Iter 30600: mean loss = 0.40095000395798525\n",
      "Iter 30900: mean loss = 0.17750667561422365\n",
      "Iter 31200: mean loss = 0.14479419652122924\n",
      "Iter 31500: mean loss = 0.10911306810097471\n",
      "Iter 31800: mean loss = 0.14979984824122003\n",
      "Iter 32100: mean loss = 0.0781290978370914\n",
      "Iter 32400: mean loss = 0.10494480473015913\n",
      "Iter 32700: mean loss = 0.04949548372267973\n",
      "Iter 33000: mean loss = 0.10191526156757107\n",
      "Iter 33300: mean loss = 0.04040652813401692\n",
      "Iter 33600: mean loss = 0.052043894370123946\n",
      "Iter 33900: mean loss = 0.04050802974416905\n",
      "Iter 34200: mean loss = 0.016010278588623188\n",
      "Iter 34500: mean loss = 0.034535318323994695\n",
      "Iter 34800: mean loss = 0.045528887388220765\n",
      "Iter 35100: mean loss = 0.11385769615517588\n",
      "Iter 35400: mean loss = 0.08554899794982689\n",
      "Iter 35700: mean loss = 0.025616193564316277\n",
      "Iter 36000: mean loss = 0.028665668288778486\n",
      "Iter 36300: mean loss = 0.04027824283889418\n",
      "Iter 36600: mean loss = 0.010355149492740232\n",
      "Iter 36900: mean loss = 0.0029858579190584437\n",
      "Iter 37200: mean loss = 0.05935863288804049\n",
      "Iter 37500: mean loss = 0.012647869245066506\n",
      "Iter 37800: mean loss = 0.021230086028084117\n",
      "Iter 38100: mean loss = 0.02286084645541643\n",
      "Iter 38400: mean loss = 0.012681065405981917\n",
      "Iter 38700: mean loss = 0.027195421112638517\n",
      "Iter 39000: mean loss = 0.019938748610536038\n",
      "Iter 39300: mean loss = 0.02632389524316099\n",
      "Iter 39600: mean loss = 0.021125365422446543\n",
      "Iter 39900: mean loss = 0.006423157008561883\n",
      "Iter 40200: mean loss = 0.008485588671790785\n",
      "Iter 40500: mean loss = 0.017209239900826175\n",
      "Iter 40800: mean loss = 0.018779173182317862\n",
      "Iter 41100: mean loss = 0.007256838587755181\n",
      "Iter 41400: mean loss = 0.002768404753641985\n",
      "Iter 41700: mean loss = 0.0012118231977718652\n",
      "Iter 42000: mean loss = 0.005317102740519284\n",
      "Iter 42300: mean loss = 0.011586224768500589\n",
      "Iter 42600: mean loss = 0.0048896857470094035\n",
      "Iter 42900: mean loss = 0.0016673711168563106\n",
      "Iter 43200: mean loss = 0.005243997446621188\n",
      "Iter 43500: mean loss = 0.0013718111361780045\n",
      "Iter 43800: mean loss = 0.0027857717940624545\n",
      "Iter 44100: mean loss = 0.00413994248280705\n",
      "Iter 44400: mean loss = 0.004703777759529622\n",
      "Iter 44700: mean loss = 0.004997035151714499\n",
      "Iter 45000: mean loss = 0.001794101518536007\n",
      "Iter 45300: mean loss = 0.0031165084679271784\n",
      "Iter 45600: mean loss = 0.001434878359698478\n",
      "Iter 45900: mean loss = 0.00022407164547680816\n",
      "Iter 46200: mean loss = 0.0005557829610349958\n",
      "Iter 46500: mean loss = 0.001429033982628088\n",
      "Iter 46800: mean loss = 0.0003781202549931363\n",
      "Iter 47100: mean loss = 0.0012258594646384995\n",
      "Iter 47400: mean loss = 0.0006951974520393342\n",
      "Iter 47700: mean loss = 0.0016537757034366441\n",
      "Iter 48000: mean loss = 0.0009946606135946526\n",
      "Iter 48300: mean loss = 0.0009249271108975321\n",
      "Iter 48600: mean loss = 0.000357596864293292\n",
      "Iter 48900: mean loss = 0.0005536531025651626\n",
      "Iter 49200: mean loss = 0.0027374493366463092\n",
      "Iter 49500: mean loss = 0.0005765768153869367\n",
      "Iter 49800: mean loss = 0.0010696019351988926\n"
     ]
    },
    {
     "data": {
      "text/plain": [
       "DeviceArray(113.00244276, dtype=float64)"
      ]
     },
     "execution_count": 24,
     "metadata": {},
     "output_type": "execute_result"
    }
   ],
   "source": [
    "v0 = jnp.array(np.random.randn(nx,nx,nx) + 1j * np.random.randn(nx,nx,nx))*jnp.max(jnp.abs(imgs[0])) * mask\n",
    "#v0 = vol_fourier + 0.1*v * mask\n",
    "alpha = 100000\n",
    "batch_size = 2\n",
    "N_iter = 1000 * 10 *5\n",
    "\n",
    "v = v0\n",
    "for i in range(N_iter):\n",
    "    \n",
    "    idx = np.random.default_rng().choice(N, size=batch_size, replace = False)\n",
    "    \n",
    "    if jnp.mod(i,300) == 0:\n",
    "        #print(i)\n",
    "        print(\"Iter \" + str(i) + \": mean loss = \" + str(jnp.mean(loss_func_batched(v, angles_true[idx], imgs[idx]))))\n",
    "        \n",
    "    v = v - alpha * jnp.conj(grad_loss_volume_batched(v, angles_true[idx], imgs[idx]))\n",
    "    \n",
    "jnp.max(jnp.abs(v - vol_fourier))"
   ]
  },
  {
   "cell_type": "code",
   "execution_count": null,
   "id": "cbafe3a6-f0c1-4b63-bf79-a3be37dae3fb",
   "metadata": {},
   "outputs": [],
   "source": []
  },
  {
   "cell_type": "code",
   "execution_count": 26,
   "id": "411720f1-47d5-4f2e-b529-4eaf1338cede",
   "metadata": {},
   "outputs": [
    {
     "data": {
      "text/plain": [
       "DeviceArray(113.00244276, dtype=float64)"
      ]
     },
     "execution_count": 26,
     "metadata": {},
     "output_type": "execute_result"
    }
   ],
   "source": [
    "jnp.max(jnp.abs(v - vol_fourier))"
   ]
  },
  {
   "cell_type": "code",
   "execution_count": 31,
   "id": "71042681-2f7a-484f-9b39-f623723474f9",
   "metadata": {},
   "outputs": [
    {
     "data": {
      "text/plain": [
       "Text(0.5, 1.0, 'Volume_comp MIP')"
      ]
     },
     "execution_count": 31,
     "metadata": {},
     "output_type": "execute_result"
    },
    {
     "data": {
      "image/png": "[encoded data removed]",
      "text/plain": [
       "<Figure size 432x288 with 2 Axes>"
      ]
     },
     "metadata": {
      "needs_background": "light"
     },
     "output_type": "display_data"
    }
   ],
   "source": [
    "mip_z(jnp.real(jnp.fft.fftshift(jnp.fft.ifftn(v))))\n",
    "plt.colorbar()\n",
    "plt.title('Volume_comp MIP')"
   ]
  },
  {
   "cell_type": "code",
   "execution_count": 32,
   "id": "8822f181-cebd-4293-b216-c9667b77304e",
   "metadata": {},
   "outputs": [
    {
     "data": {
      "text/plain": [
       "Text(0.5, 1.0, 'Volume_comp MIP')"
      ]
     },
     "execution_count": 32,
     "metadata": {},
     "output_type": "execute_result"
    },
    {
     "data": {
      "image/png": "[encoded data removed]",
      "text/plain": [
       "<Figure size 432x288 with 2 Axes>"
      ]
     },
     "metadata": {
      "needs_background": "light"
     },
     "output_type": "display_data"
    }
   ],
   "source": [
    "mip_z(jnp.abs(vol-jnp.real(jnp.fft.fftshift(jnp.fft.ifftn(v)))))\n",
    "plt.colorbar()\n",
    "plt.title('Volume_comp MIP')"
   ]
  },
  {
   "cell_type": "code",
   "execution_count": null,
   "id": "3b0118d1-3fd0-4888-83cd-3245cc4ced4e",
   "metadata": {},
   "outputs": [],
   "source": [
    "imgs.shape"
   ]
  },
  {
   "cell_type": "code",
   "execution_count": null,
   "id": "1cd3e5f1-2b3a-4005-883f-a51ed96232ed",
   "metadata": {},
   "outputs": [],
   "source": []
  }
 ],
 "metadata": {
  "kernelspec": {
   "display_name": "Python 3",
   "language": "python",
   "name": "python3"
  },
  "language_info": {
   "codemirror_mode": {
    "name": "ipython",
    "version": 3
   },
   "file_extension": ".py",
   "mimetype": "text/x-python",
   "name": "python",
   "nbconvert_exporter": "python",
   "pygments_lexer": "ipython3",
   "version": "3.6.9"
  }
 },
 "nbformat": 4,
 "nbformat_minor": 5
}
