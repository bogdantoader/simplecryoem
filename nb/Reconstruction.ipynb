{
 "cells": [
  {
   "cell_type": "code",
   "execution_count": 1,
   "id": "9b330c46-3eb8-455e-9d95-0bdae7386627",
   "metadata": {},
   "outputs": [],
   "source": [
    "%load_ext autoreload\n",
    "%autoreload 2\n",
    "import site\n",
    "import sys\n",
    "import time\n",
    "site.addsitedir('..')\n",
    "from jax.config import config\n",
    "\n",
    "config.update(\"jax_enable_x64\", True)"
   ]
  },
  {
   "cell_type": "code",
   "execution_count": 142,
   "id": "7dbed24b-5190-4dd2-8b2d-a6241333ab3d",
   "metadata": {},
   "outputs": [],
   "source": [
    "import numpy as np\n",
    "import jax.numpy as jnp\n",
    "from  matplotlib import pyplot as plt\n",
    "from src.utils import *\n",
    "from src.projection import project_spatial, project, rotate\n",
    "from src.interpolate import *\n",
    "import jax"
   ]
  },
  {
   "cell_type": "markdown",
   "id": "e8f6fddc-840b-4e68-9454-823a8c849999",
   "metadata": {},
   "source": [
    "Generate the volume"
   ]
  },
  {
   "cell_type": "code",
   "execution_count": 143,
   "id": "179ba85d-9c47-41ca-9479-787323304f18",
   "metadata": {},
   "outputs": [
    {
     "data": {
      "text/plain": [
       "Text(0.5, 1.0, 'Volume_comp MIP')"
      ]
     },
     "execution_count": 143,
     "metadata": {},
     "output_type": "execute_result"
    },
    {
     "data": {
      "image/png": "[encoded data removed]",
      "text/plain": [
       "<Figure size 432x288 with 2 Axes>"
      ]
     },
     "metadata": {
      "needs_background": "light"
     },
     "output_type": "display_data"
    }
   ],
   "source": [
    "nx = 128\n",
    "shape = np.array([nx,nx,nx])\n",
    "dimensions = np.array([20,20,20])\n",
    "\n",
    "# A volume with components\n",
    "centres = np.array([[0,0,0], [2, 2, 0], [2, -2, 0]])\n",
    "radii = np.array([2, 1, 1])\n",
    "intensities = np.array([10,7,20])\n",
    "\n",
    "vol = jnp.array(volume_comp(shape, dimensions, centres, radii, intensities, True))\n",
    "vol_fourier, X, Y, Z, _, _, _ = volume_fourier(jnp.fft.ifftshift(vol), dimensions)\n",
    "\n",
    "mip_z(vol)\n",
    "#plt.imshow(v[:,:,int(np.floor(v.shape[2]/2))])\n",
    "plt.colorbar()\n",
    "plt.title('Volume_comp MIP')"
   ]
  },
  {
   "cell_type": "markdown",
   "id": "e34c118d-b44b-480b-ba59-3ada362bce9d",
   "metadata": {},
   "source": [
    "Resize the Fourier grid etc to work with the lower frequencies only"
   ]
  },
  {
   "cell_type": "code",
   "execution_count": 254,
   "id": "d677de29-496c-4f51-a936-deeb007a3705",
   "metadata": {},
   "outputs": [],
   "source": [
    "radius = 1\n",
    "\n",
    "x_freq = X[0,:,0]\n",
    "y_freq = Y[:,0,0]\n",
    "z_freq = Z[0,0,:]\n",
    "\n",
    "# Important for the grids to not be jax (aka Tracer)  objects\n",
    "x_grid = np.array([x_freq[1], len(x_freq)])\n",
    "y_grid = np.array([y_freq[1], len(y_freq)])\n",
    "z_grid = np.array([z_freq[1], len(z_freq)])\n",
    "\n",
    "vol_fourier_small, x_grid_small, y_grid_small, z_grid_small = rescale_smaller_grid(vol_fourier, x_grid, y_grid, z_grid, radius)\n",
    "\n",
    "# Make the grid a little big bigger and add zero padding\n",
    "vol_fourier_small, x_grid_small, y_grid_small, z_grid_small = rescale_larger_grid(vol_fourier_small, x_grid_small, y_grid_small, z_grid_small, [60,60,60])\n",
    "#vol_fourier_small, x_grid_small, y_grid_small, z_grid_small = rescale_larger_grid(vol_fourier_small, x_grid_small, y_grid_small, z_grid_small, [128,128,128])\n",
    "\n",
    "\n",
    "\n",
    "\n",
    "x_freq_small = jnp.fft.fftfreq(int(x_grid_small[1]), 1/(x_grid_small[0]*x_grid_small[1]))\n",
    "y_freq_small = jnp.fft.fftfreq(int(y_grid_small[1]), 1/(y_grid_small[0]*y_grid_small[1]))\n",
    "z_freq_small = jnp.fft.fftfreq(int(z_grid_small[1]), 1/(z_grid_small[0]*z_grid_small[1]))\n",
    "X_small, Y_small, Z_small = jnp.meshgrid(x_freq_small, y_freq_small, z_freq_small)\n",
    "\n",
    "mask = create_mask(X_small, Y_small, Z_small , (0,0,0),radius)"
   ]
  },
  {
   "cell_type": "markdown",
   "id": "84f8525b-fc92-443f-ac87-993f74dad959",
   "metadata": {},
   "source": [
    "## Q: why are the edges in the mask set to 0?"
   ]
  },
  {
   "cell_type": "code",
   "execution_count": 255,
   "id": "90d2f387-8bd8-4310-bbfa-51e8a5c0bc5a",
   "metadata": {},
   "outputs": [
    {
     "data": {
      "image/png": "[encoded data removed]",
      "text/plain": [
       "<Figure size 432x288 with 1 Axes>"
      ]
     },
     "metadata": {
      "needs_background": "light"
     },
     "output_type": "display_data"
    }
   ],
   "source": [
    "mip_z(jnp.fft.fftshift(mask))"
   ]
  },
  {
   "cell_type": "code",
   "execution_count": 256,
   "id": "34274618-b794-41ce-8089-9d5ed9b7e4a7",
   "metadata": {},
   "outputs": [
    {
     "name": "stdout",
     "output_type": "stream",
     "text": [
      "[0.05, 60]\n",
      "[5.00e-02 1.28e+02]\n",
      "[5.00e-02 1.28e+02]\n",
      "(128, 128, 128)\n"
     ]
    }
   ],
   "source": [
    "print(x_grid_small)\n",
    "print(y_grid)\n",
    "print(z_grid)\n",
    "print(vol_fourier.shape)"
   ]
  },
  {
   "cell_type": "markdown",
   "id": "acadb8bc-be39-413d-9fe4-04b132a118a0",
   "metadata": {},
   "source": [
    "Generate projections (in Fourier domain)"
   ]
  },
  {
   "cell_type": "code",
   "execution_count": 257,
   "id": "abf4339e-b31e-479a-94fc-e287da282637",
   "metadata": {},
   "outputs": [],
   "source": [
    "@jax.jit\n",
    "def slice_func(v, angles):\n",
    "    projection, _ = project(mask * v, x_grid_small, y_grid_small, z_grid_small, angles)\n",
    "    return projection\n",
    "\n",
    "@jax.jit\n",
    "def slice_func_array(v, angles):    \n",
    "    return jax.vmap(slice_func, in_axes = (None, 0))(v, angles)"
   ]
  },
  {
   "cell_type": "code",
   "execution_count": 258,
   "id": "16701bad-a4c2-46ed-86d7-e5d9187d2255",
   "metadata": {},
   "outputs": [
    {
     "name": "stdout",
     "output_type": "stream",
     "text": [
      "0.7087740898132324\n"
     ]
    }
   ],
   "source": [
    "N = 10000\n",
    "angles_true = jnp.array(np.random.rand(N,3))*jnp.pi*2\n",
    "start = time.time()\n",
    "imgs = slice_func_array(vol_fourier_small, angles_true)\n",
    "print(time.time()-start)"
   ]
  },
  {
   "cell_type": "code",
   "execution_count": 259,
   "id": "694b2ef4-ff29-4475-9703-a2c29eb9e83e",
   "metadata": {},
   "outputs": [
    {
     "data": {
      "text/plain": [
       "DeviceArray(1257., dtype=float64)"
      ]
     },
     "execution_count": 259,
     "metadata": {},
     "output_type": "execute_result"
    }
   ],
   "source": [
    "jnp.sum(mask[:,:,0])"
   ]
  },
  {
   "cell_type": "code",
   "execution_count": 260,
   "id": "a0c6e8ed-55e9-4bd7-8596-2f78b8194ac8",
   "metadata": {},
   "outputs": [
    {
     "data": {
      "text/plain": [
       "(10000, 3600)"
      ]
     },
     "execution_count": 260,
     "metadata": {},
     "output_type": "execute_result"
    }
   ],
   "source": [
    "imgs.shape"
   ]
  },
  {
   "cell_type": "markdown",
   "id": "2a8ff33e-2b1c-407d-b04d-dd597fc4d421",
   "metadata": {},
   "source": [
    "Loss function given volume and angles, for one image and for many (batches of images). We have a separate loss function for each angles-image pair."
   ]
  },
  {
   "cell_type": "code",
   "execution_count": 261,
   "id": "67c75659-89c2-45da-b802-4dc95fa88aa1",
   "metadata": {},
   "outputs": [],
   "source": [
    "def l2sq(x):\n",
    "    return jnp.real(jnp.sum(jnp.conj(x)*x))\n",
    "\n",
    "@jax.jit\n",
    "def loss_func(v, angles, img):\n",
    "    #return 1/(2* nx*nx) * l2sq(slice_func(v, angles) - img)\n",
    "    return 1/(2* 1245) * l2sq(slice_func(v, angles) - img)   #1257 = number of pixels in mask at z=0\n",
    "\n",
    "\n",
    "@jax.jit\n",
    "def loss_func_batched(v, angles, imgs):\n",
    "    return jax.vmap(loss_func, in_axes = (None, 0, 0))(v, angles, imgs)"
   ]
  },
  {
   "cell_type": "markdown",
   "id": "c3c9fc20-3580-4f73-8178-b4f588741f33",
   "metadata": {},
   "source": [
    "And the gradients of the above, with respect to angles"
   ]
  },
  {
   "cell_type": "code",
   "execution_count": 262,
   "id": "8ba8c7cc-f056-4306-b60a-1f8f10178471",
   "metadata": {},
   "outputs": [],
   "source": [
    "@jax.jit\n",
    "def grad_loss_angles(v, angles, img):\n",
    "    return jax.grad(loss_func, argnums = 1)(v, angles, img)\n",
    "\n",
    "@jax.jit\n",
    "def grad_loss_angles_batched(v, angles, imgs):\n",
    "    return jax.vmap(grad_loss_angles, in_axes = (None, 0, 0))(v, angles, imgs)"
   ]
  },
  {
   "cell_type": "code",
   "execution_count": 263,
   "id": "4cab4ffb-685a-427e-ab03-cc40721cfdda",
   "metadata": {},
   "outputs": [
    {
     "name": "stdout",
     "output_type": "stream",
     "text": [
      "0.7092456817626953\n",
      "(10000,)\n"
     ]
    }
   ],
   "source": [
    "start = time.time()\n",
    "ll = loss_func_batched(vol_fourier_small, angles_true, imgs)\n",
    "print(time.time()-start)\n",
    "print(ll.shape)"
   ]
  },
  {
   "cell_type": "code",
   "execution_count": 264,
   "id": "2fe732c7-c5be-41cc-bc4f-1eb21c05ec40",
   "metadata": {},
   "outputs": [
    {
     "name": "stdout",
     "output_type": "stream",
     "text": [
      "1.3847169876098633\n",
      "(3,)\n"
     ]
    }
   ],
   "source": [
    "start = time.time()\n",
    "dl = grad_loss_angles(vol_fourier_small, angles_true[0], imgs[0])\n",
    "print(time.time()-start)\n",
    "print(dl.shape)"
   ]
  },
  {
   "cell_type": "code",
   "execution_count": 265,
   "id": "30a2262c-97ce-487d-987f-e91287c7090b",
   "metadata": {},
   "outputs": [
    {
     "name": "stdout",
     "output_type": "stream",
     "text": [
      "1.213503122329712\n",
      "(10000, 3)\n"
     ]
    }
   ],
   "source": [
    "start = time.time()\n",
    "dl = grad_loss_angles_batched(vol_fourier_small, angles_true, imgs)\n",
    "print(time.time()-start)\n",
    "print(dl.shape)"
   ]
  },
  {
   "cell_type": "markdown",
   "id": "d267a592-7199-4cd8-bc4c-ecab404c1b97",
   "metadata": {},
   "source": [
    "Gradients with respect to volume pixels, over all (or a batch of) images"
   ]
  },
  {
   "cell_type": "code",
   "execution_count": 266,
   "id": "9654300c-276a-44f3-b8a3-5bff7faf3333",
   "metadata": {},
   "outputs": [],
   "source": [
    "@jax.jit\n",
    "def grad_loss_volume(v, angles, img):\n",
    "    return jax.grad(loss_func)(v, angles, img)\n",
    "\n",
    "@jax.jit\n",
    "def grad_loss_volume_batched(v, angles, imgs):\n",
    "    return 1/N * jnp.sum(jax.vmap(grad_loss_volume, in_axes = (None, 0, 0))(v, angles, imgs), axis=0)"
   ]
  },
  {
   "cell_type": "code",
   "execution_count": 267,
   "id": "4028b0e6-a7b6-4224-903f-83f08d94182f",
   "metadata": {},
   "outputs": [
    {
     "name": "stdout",
     "output_type": "stream",
     "text": [
      "0.9257447719573975\n",
      "(60, 60, 60)\n"
     ]
    }
   ],
   "source": [
    "start = time.time()\n",
    "ll = grad_loss_volume(vol_fourier_small, angles_true[0], imgs[0])\n",
    "print(time.time()-start)\n",
    "print(ll.shape)"
   ]
  },
  {
   "cell_type": "markdown",
   "id": "2f5fb2cb-73aa-4fe6-a8fa-b3df1b4fdcb9",
   "metadata": {},
   "source": [
    "Doing the below with N large enough (e.g. 1000) makes it run out of memory (trying to allocate >200GB)"
   ]
  },
  {
   "cell_type": "code",
   "execution_count": 268,
   "id": "6b29483d-8bd8-4174-b7a1-6e0617a98627",
   "metadata": {},
   "outputs": [
    {
     "name": "stdout",
     "output_type": "stream",
     "text": [
      "1.3676550388336182\n",
      "(60, 60, 60)\n"
     ]
    }
   ],
   "source": [
    "batch_size = 20\n",
    "idx = np.random.default_rng().choice(N, size=batch_size, replace = False)\n",
    "\n",
    "start = time.time()\n",
    "ll = grad_loss_volume_batched(vol_fourier_small, angles_true[idx], imgs[idx])\n",
    "print(time.time()-start)\n",
    "print(ll.shape)"
   ]
  },
  {
   "cell_type": "markdown",
   "id": "cfb657f4-1a0f-4f3e-bb98-5306a29d9996",
   "metadata": {},
   "source": [
    "## Gradient descent with respect to angles"
   ]
  },
  {
   "cell_type": "code",
   "execution_count": 230,
   "id": "b3dfbd0e-7fbf-4791-a3a9-00bd0d5b66d0",
   "metadata": {},
   "outputs": [
    {
     "name": "stdout",
     "output_type": "stream",
     "text": [
      "Iter 0: mean loss = 4768.9957658158555\n",
      "Iter 10: mean loss = 1902.7929464025945\n",
      "Iter 20: mean loss = 1550.3293881113968\n",
      "Iter 30: mean loss = 1300.255239570791\n",
      "Iter 40: mean loss = 1121.9500957147493\n",
      "Iter 50: mean loss = 996.8966859063653\n",
      "Iter 60: mean loss = 918.5806289888069\n",
      "Iter 70: mean loss = 839.7400917532993\n",
      "Iter 80: mean loss = 797.315323611871\n",
      "Iter 90: mean loss = 755.0830497214647\n",
      "mean(a-a_true) = 0.019828962104992746\n"
     ]
    }
   ],
   "source": [
    "alpha = 0.00000001\n",
    "a = jnp.array(np.random.rand(N, 3)*np.pi*2)\n",
    "a = angles_true + 0.01*a\n",
    "N_iter = 100\n",
    "\n",
    "for i in range(N_iter):\n",
    "        \n",
    "    if jnp.mod(i,10) == 0:\n",
    "    #print(i)\n",
    "        print(\"Iter \" + str(i) + \": mean loss = \" + str(jnp.mean(loss_func_batched(vol_fourier_small, a, imgs))))\n",
    "        \n",
    "    a = a - alpha * jnp.conj(grad_loss_angles_batched(vol_fourier_small, a, imgs))\n",
    "    \n",
    "max_err = jnp.mean(jnp.abs(a - angles_true))\n",
    "print(\"mean(a-a_true) = \" + str(max_err))"
   ]
  },
  {
   "cell_type": "code",
   "execution_count": 231,
   "id": "bb73be09-eefd-4799-9d75-10e6545e5eed",
   "metadata": {},
   "outputs": [
    {
     "name": "stdout",
     "output_type": "stream",
     "text": [
      "max(a-a_true) = 0.15701826004323438\n"
     ]
    }
   ],
   "source": [
    "max_err = jnp.max(jnp.abs(a - angles_true))\n",
    "print(\"max(a-a_true) = \" + str(max_err))"
   ]
  },
  {
   "cell_type": "markdown",
   "id": "c28666d9-5830-447c-b2ec-29e2017b1472",
   "metadata": {},
   "source": [
    "## Gradient descent with respect to volume"
   ]
  },
  {
   "cell_type": "code",
   "execution_count": 274,
   "id": "79c31175-1885-4da1-a132-0c0426535459",
   "metadata": {},
   "outputs": [
    {
     "name": "stdout",
     "output_type": "stream",
     "text": [
      "Iter 0: mean loss = 8837147.046239018\n",
      "Iter 300: mean loss = 9835112.526058706\n",
      "Iter 600: mean loss = 9211684.5886772\n",
      "Iter 900: mean loss = 9018737.668032717\n",
      "Iter 1200: mean loss = 9203443.060195584\n",
      "Iter 1500: mean loss = 8976478.26633483\n",
      "Iter 1800: mean loss = 9487982.88143609\n",
      "Iter 2100: mean loss = 136132198.1106947\n",
      "Iter 2400: mean loss = 156612966.35487783\n",
      "Iter 2700: mean loss = 9369039.465594657\n",
      "Iter 3000: mean loss = 9275087.669942051\n",
      "Iter 3300: mean loss = 8686230.776253887\n",
      "Iter 3600: mean loss = 112459916.00829737\n",
      "Iter 3900: mean loss = 67773156.35682158\n",
      "Iter 4200: mean loss = 9076950.013331948\n",
      "Iter 4500: mean loss = 9361848.339765046\n",
      "Iter 4800: mean loss = 9004275.05646405\n",
      "Iter 5100: mean loss = 9001261.89454119\n",
      "Iter 5400: mean loss = 22430725.974618416\n",
      "Iter 5700: mean loss = 9040047.392035337\n",
      "Iter 6000: mean loss = 8830706.123553284\n",
      "Iter 6300: mean loss = 9455505.061788984\n",
      "Iter 6600: mean loss = 8983185.058854828\n",
      "Iter 6900: mean loss = 8909163.915599756\n",
      "Iter 7200: mean loss = 8992096.12065191\n",
      "Iter 7500: mean loss = 8584406.027359184\n",
      "Iter 7800: mean loss = 9075918.94797789\n",
      "Iter 8100: mean loss = 9272625.371303447\n",
      "Iter 8400: mean loss = 9001717.035515478\n",
      "Iter 8700: mean loss = 8989030.51612165\n",
      "Iter 9000: mean loss = 8939136.269552175\n",
      "Iter 9300: mean loss = 8956425.959414579\n",
      "Iter 9600: mean loss = 8843450.04251456\n",
      "Iter 9900: mean loss = 22954277.406352583\n",
      "Iter 10200: mean loss = 8860875.182593834\n",
      "Iter 10500: mean loss = 144710434.1130175\n",
      "Iter 10800: mean loss = 62464784.93659013\n",
      "Iter 11100: mean loss = 9192269.39543828\n",
      "Iter 11400: mean loss = 8802275.60186689\n",
      "Iter 11700: mean loss = 9697835.941648312\n",
      "Iter 12000: mean loss = 8935200.775400288\n",
      "Iter 12300: mean loss = 9262494.291753285\n",
      "Iter 12600: mean loss = 9822738.950725611\n",
      "Iter 12900: mean loss = 12582445.376841798\n"
     ]
    },
    {
     "ename": "KeyboardInterrupt",
     "evalue": "",
     "output_type": "error",
     "traceback": [
      "\u001b[0;31m---------------------------------------------------------------------------\u001b[0m",
      "\u001b[0;31mKeyboardInterrupt\u001b[0m                         Traceback (most recent call last)",
      "\u001b[0;32m<ipython-input-274-12e84dc74fae>\u001b[0m in \u001b[0;36m<module>\u001b[0;34m\u001b[0m\n\u001b[1;32m     17\u001b[0m         \u001b[0mprint\u001b[0m\u001b[0;34m(\u001b[0m\u001b[0;34m\"Iter \"\u001b[0m \u001b[0;34m+\u001b[0m \u001b[0mstr\u001b[0m\u001b[0;34m(\u001b[0m\u001b[0mi\u001b[0m\u001b[0;34m)\u001b[0m \u001b[0;34m+\u001b[0m \u001b[0;34m\": mean loss = \"\u001b[0m \u001b[0;34m+\u001b[0m \u001b[0mstr\u001b[0m\u001b[0;34m(\u001b[0m\u001b[0mjnp\u001b[0m\u001b[0;34m.\u001b[0m\u001b[0mmean\u001b[0m\u001b[0;34m(\u001b[0m\u001b[0mloss_func_batched\u001b[0m\u001b[0;34m(\u001b[0m\u001b[0mv\u001b[0m\u001b[0;34m,\u001b[0m \u001b[0mangles_true\u001b[0m\u001b[0;34m[\u001b[0m\u001b[0midx\u001b[0m\u001b[0;34m]\u001b[0m\u001b[0;34m,\u001b[0m \u001b[0mimgs\u001b[0m\u001b[0;34m[\u001b[0m\u001b[0midx\u001b[0m\u001b[0;34m]\u001b[0m\u001b[0;34m)\u001b[0m\u001b[0;34m)\u001b[0m\u001b[0;34m)\u001b[0m\u001b[0;34m)\u001b[0m\u001b[0;34m\u001b[0m\u001b[0;34m\u001b[0m\u001b[0m\n\u001b[1;32m     18\u001b[0m \u001b[0;34m\u001b[0m\u001b[0m\n\u001b[0;32m---> 19\u001b[0;31m     \u001b[0mv\u001b[0m \u001b[0;34m=\u001b[0m \u001b[0mv\u001b[0m \u001b[0;34m-\u001b[0m \u001b[0malpha\u001b[0m \u001b[0;34m*\u001b[0m \u001b[0mjnp\u001b[0m\u001b[0;34m.\u001b[0m\u001b[0mconj\u001b[0m\u001b[0;34m(\u001b[0m\u001b[0mgrad_loss_volume_batched\u001b[0m\u001b[0;34m(\u001b[0m\u001b[0mv\u001b[0m\u001b[0;34m,\u001b[0m \u001b[0mangles_true\u001b[0m\u001b[0;34m[\u001b[0m\u001b[0midx\u001b[0m\u001b[0;34m]\u001b[0m\u001b[0;34m,\u001b[0m \u001b[0mimgs\u001b[0m\u001b[0;34m[\u001b[0m\u001b[0midx\u001b[0m\u001b[0;34m]\u001b[0m\u001b[0;34m)\u001b[0m\u001b[0;34m)\u001b[0m\u001b[0;34m\u001b[0m\u001b[0;34m\u001b[0m\u001b[0m\n\u001b[0m\u001b[1;32m     20\u001b[0m \u001b[0;34m\u001b[0m\u001b[0m\n\u001b[1;32m     21\u001b[0m \u001b[0mprint\u001b[0m\u001b[0;34m(\u001b[0m\u001b[0;34m\"Final loss function (over all data) = \"\u001b[0m\u001b[0;34m,\u001b[0m \u001b[0mjnp\u001b[0m\u001b[0;34m.\u001b[0m\u001b[0mmean\u001b[0m\u001b[0;34m(\u001b[0m\u001b[0mloss_func_batched\u001b[0m\u001b[0;34m(\u001b[0m\u001b[0mv\u001b[0m\u001b[0;34m,\u001b[0m \u001b[0mangles_true\u001b[0m\u001b[0;34m,\u001b[0m \u001b[0mimgs\u001b[0m\u001b[0;34m)\u001b[0m\u001b[0;34m)\u001b[0m\u001b[0;34m)\u001b[0m\u001b[0;34m\u001b[0m\u001b[0;34m\u001b[0m\u001b[0m\n",
      "\u001b[0;32m/usr/local/lib/python3.6/dist-packages/jax/_src/numpy/lax_numpy.py\u001b[0m in \u001b[0;36m_rewriting_take\u001b[0;34m(arr, idx)\u001b[0m\n\u001b[1;32m   4382\u001b[0m   \u001b[0marr\u001b[0m \u001b[0;34m=\u001b[0m \u001b[0masarray\u001b[0m\u001b[0;34m(\u001b[0m\u001b[0marr\u001b[0m\u001b[0;34m)\u001b[0m\u001b[0;34m\u001b[0m\u001b[0;34m\u001b[0m\u001b[0m\n\u001b[1;32m   4383\u001b[0m   \u001b[0mtreedef\u001b[0m\u001b[0;34m,\u001b[0m \u001b[0mstatic_idx\u001b[0m\u001b[0;34m,\u001b[0m \u001b[0mdynamic_idx\u001b[0m \u001b[0;34m=\u001b[0m \u001b[0m_split_index_for_jit\u001b[0m\u001b[0;34m(\u001b[0m\u001b[0midx\u001b[0m\u001b[0;34m)\u001b[0m\u001b[0;34m\u001b[0m\u001b[0;34m\u001b[0m\u001b[0m\n\u001b[0;32m-> 4384\u001b[0;31m   \u001b[0;32mreturn\u001b[0m \u001b[0m_gather\u001b[0m\u001b[0;34m(\u001b[0m\u001b[0marr\u001b[0m\u001b[0;34m,\u001b[0m \u001b[0mtreedef\u001b[0m\u001b[0;34m,\u001b[0m \u001b[0mstatic_idx\u001b[0m\u001b[0;34m,\u001b[0m \u001b[0mdynamic_idx\u001b[0m\u001b[0;34m)\u001b[0m\u001b[0;34m\u001b[0m\u001b[0;34m\u001b[0m\u001b[0m\n\u001b[0m\u001b[1;32m   4385\u001b[0m \u001b[0;34m\u001b[0m\u001b[0m\n\u001b[1;32m   4386\u001b[0m \u001b[0;31m# TODO(phawkins): re-enable jit after fixing excessive recompilation for\u001b[0m\u001b[0;34m\u001b[0m\u001b[0;34m\u001b[0m\u001b[0;34m\u001b[0m\u001b[0m\n",
      "\u001b[0;32m/usr/local/lib/python3.6/dist-packages/jax/_src/numpy/lax_numpy.py\u001b[0m in \u001b[0;36m_gather\u001b[0;34m(arr, treedef, static_idx, dynamic_idx)\u001b[0m\n\u001b[1;32m   4389\u001b[0m \u001b[0;32mdef\u001b[0m \u001b[0m_gather\u001b[0m\u001b[0;34m(\u001b[0m\u001b[0marr\u001b[0m\u001b[0;34m,\u001b[0m \u001b[0mtreedef\u001b[0m\u001b[0;34m,\u001b[0m \u001b[0mstatic_idx\u001b[0m\u001b[0;34m,\u001b[0m \u001b[0mdynamic_idx\u001b[0m\u001b[0;34m)\u001b[0m\u001b[0;34m:\u001b[0m\u001b[0;34m\u001b[0m\u001b[0;34m\u001b[0m\u001b[0m\n\u001b[1;32m   4390\u001b[0m   \u001b[0midx\u001b[0m \u001b[0;34m=\u001b[0m \u001b[0m_merge_static_and_dynamic_indices\u001b[0m\u001b[0;34m(\u001b[0m\u001b[0mtreedef\u001b[0m\u001b[0;34m,\u001b[0m \u001b[0mstatic_idx\u001b[0m\u001b[0;34m,\u001b[0m \u001b[0mdynamic_idx\u001b[0m\u001b[0;34m)\u001b[0m\u001b[0;34m\u001b[0m\u001b[0;34m\u001b[0m\u001b[0m\n\u001b[0;32m-> 4391\u001b[0;31m   \u001b[0mindexer\u001b[0m \u001b[0;34m=\u001b[0m \u001b[0m_index_to_gather\u001b[0m\u001b[0;34m(\u001b[0m\u001b[0mshape\u001b[0m\u001b[0;34m(\u001b[0m\u001b[0marr\u001b[0m\u001b[0;34m)\u001b[0m\u001b[0;34m,\u001b[0m \u001b[0midx\u001b[0m\u001b[0;34m)\u001b[0m  \u001b[0;31m# shared with _scatter_update\u001b[0m\u001b[0;34m\u001b[0m\u001b[0;34m\u001b[0m\u001b[0m\n\u001b[0m\u001b[1;32m   4392\u001b[0m   \u001b[0my\u001b[0m \u001b[0;34m=\u001b[0m \u001b[0marr\u001b[0m\u001b[0;34m\u001b[0m\u001b[0;34m\u001b[0m\u001b[0m\n\u001b[1;32m   4393\u001b[0m \u001b[0;34m\u001b[0m\u001b[0m\n",
      "\u001b[0;32m/usr/local/lib/python3.6/dist-packages/jax/_src/numpy/lax_numpy.py\u001b[0m in \u001b[0;36m_index_to_gather\u001b[0;34m(x_shape, idx, normalize_indices)\u001b[0m\n\u001b[1;32m   4499\u001b[0m       advanced_pairs = ((_normalize_index(e, x_shape[j]), i, j)\n\u001b[1;32m   4500\u001b[0m                         for e, i, j in advanced_pairs)\n\u001b[0;32m-> 4501\u001b[0;31m     \u001b[0madvanced_indexes\u001b[0m\u001b[0;34m,\u001b[0m \u001b[0midx_advanced_axes\u001b[0m\u001b[0;34m,\u001b[0m \u001b[0mx_advanced_axes\u001b[0m \u001b[0;34m=\u001b[0m \u001b[0mzip\u001b[0m\u001b[0;34m(\u001b[0m\u001b[0;34m*\u001b[0m\u001b[0madvanced_pairs\u001b[0m\u001b[0;34m)\u001b[0m\u001b[0;34m\u001b[0m\u001b[0;34m\u001b[0m\u001b[0m\n\u001b[0m\u001b[1;32m   4502\u001b[0m     \u001b[0madvanced_axes_are_contiguous\u001b[0m \u001b[0;34m=\u001b[0m \u001b[0mnp\u001b[0m\u001b[0;34m.\u001b[0m\u001b[0mall\u001b[0m\u001b[0;34m(\u001b[0m\u001b[0mnp\u001b[0m\u001b[0;34m.\u001b[0m\u001b[0mdiff\u001b[0m\u001b[0;34m(\u001b[0m\u001b[0midx_advanced_axes\u001b[0m\u001b[0;34m)\u001b[0m \u001b[0;34m==\u001b[0m \u001b[0;36m1\u001b[0m\u001b[0;34m)\u001b[0m\u001b[0;34m\u001b[0m\u001b[0;34m\u001b[0m\u001b[0m\n\u001b[1;32m   4503\u001b[0m \u001b[0;34m\u001b[0m\u001b[0m\n",
      "\u001b[0;32m/usr/local/lib/python3.6/dist-packages/jax/_src/numpy/lax_numpy.py\u001b[0m in \u001b[0;36m<genexpr>\u001b[0;34m(.0)\u001b[0m\n\u001b[1;32m   4498\u001b[0m     \u001b[0;32mif\u001b[0m \u001b[0mnormalize_indices\u001b[0m\u001b[0;34m:\u001b[0m\u001b[0;34m\u001b[0m\u001b[0;34m\u001b[0m\u001b[0m\n\u001b[1;32m   4499\u001b[0m       advanced_pairs = ((_normalize_index(e, x_shape[j]), i, j)\n\u001b[0;32m-> 4500\u001b[0;31m                         for e, i, j in advanced_pairs)\n\u001b[0m\u001b[1;32m   4501\u001b[0m     \u001b[0madvanced_indexes\u001b[0m\u001b[0;34m,\u001b[0m \u001b[0midx_advanced_axes\u001b[0m\u001b[0;34m,\u001b[0m \u001b[0mx_advanced_axes\u001b[0m \u001b[0;34m=\u001b[0m \u001b[0mzip\u001b[0m\u001b[0;34m(\u001b[0m\u001b[0;34m*\u001b[0m\u001b[0madvanced_pairs\u001b[0m\u001b[0;34m)\u001b[0m\u001b[0;34m\u001b[0m\u001b[0;34m\u001b[0m\u001b[0m\n\u001b[1;32m   4502\u001b[0m     \u001b[0madvanced_axes_are_contiguous\u001b[0m \u001b[0;34m=\u001b[0m \u001b[0mnp\u001b[0m\u001b[0;34m.\u001b[0m\u001b[0mall\u001b[0m\u001b[0;34m(\u001b[0m\u001b[0mnp\u001b[0m\u001b[0;34m.\u001b[0m\u001b[0mdiff\u001b[0m\u001b[0;34m(\u001b[0m\u001b[0midx_advanced_axes\u001b[0m\u001b[0;34m)\u001b[0m \u001b[0;34m==\u001b[0m \u001b[0;36m1\u001b[0m\u001b[0;34m)\u001b[0m\u001b[0;34m\u001b[0m\u001b[0;34m\u001b[0m\u001b[0m\n",
      "\u001b[0;32m/usr/local/lib/python3.6/dist-packages/jax/_src/numpy/lax_numpy.py\u001b[0m in \u001b[0;36m_normalize_index\u001b[0;34m(index, axis_size)\u001b[0m\n\u001b[1;32m   4224\u001b[0m     \u001b[0mlax\u001b[0m\u001b[0;34m.\u001b[0m\u001b[0mlt\u001b[0m\u001b[0;34m(\u001b[0m\u001b[0mindex\u001b[0m\u001b[0;34m,\u001b[0m \u001b[0m_constant_like\u001b[0m\u001b[0;34m(\u001b[0m\u001b[0mindex\u001b[0m\u001b[0;34m,\u001b[0m \u001b[0;36m0\u001b[0m\u001b[0;34m)\u001b[0m\u001b[0;34m)\u001b[0m\u001b[0;34m,\u001b[0m\u001b[0;34m\u001b[0m\u001b[0;34m\u001b[0m\u001b[0m\n\u001b[1;32m   4225\u001b[0m     \u001b[0mlax\u001b[0m\u001b[0;34m.\u001b[0m\u001b[0madd\u001b[0m\u001b[0;34m(\u001b[0m\u001b[0mindex\u001b[0m\u001b[0;34m,\u001b[0m \u001b[0m_constant_like\u001b[0m\u001b[0;34m(\u001b[0m\u001b[0mindex\u001b[0m\u001b[0;34m,\u001b[0m \u001b[0maxis_size\u001b[0m\u001b[0;34m)\u001b[0m\u001b[0;34m)\u001b[0m\u001b[0;34m,\u001b[0m\u001b[0;34m\u001b[0m\u001b[0;34m\u001b[0m\u001b[0m\n\u001b[0;32m-> 4226\u001b[0;31m     index)\n\u001b[0m\u001b[1;32m   4227\u001b[0m \u001b[0;34m\u001b[0m\u001b[0m\n\u001b[1;32m   4228\u001b[0m \u001b[0;34m@\u001b[0m\u001b[0mpartial\u001b[0m\u001b[0;34m(\u001b[0m\u001b[0mjit\u001b[0m\u001b[0;34m,\u001b[0m \u001b[0mstatic_argnums\u001b[0m\u001b[0;34m=\u001b[0m\u001b[0;34m(\u001b[0m\u001b[0;36m2\u001b[0m\u001b[0;34m,\u001b[0m\u001b[0;34m)\u001b[0m\u001b[0;34m)\u001b[0m\u001b[0;34m\u001b[0m\u001b[0;34m\u001b[0m\u001b[0m\n",
      "\u001b[0;31mKeyboardInterrupt\u001b[0m: "
     ]
    }
   ],
   "source": [
    "nx_small = vol_fourier_small.shape[0]\n",
    "\n",
    "v0 = jnp.array(np.random.randn(nx_small,nx_small,nx_small) + 1j * np.random.randn(nx_small,nx_small,nx_small))*jnp.max(jnp.abs(imgs[0])) * mask\n",
    "#v0 = vol_fourier + 0.1*v * mask\n",
    "#alpha = 1000000 # this alpha works well for full 128 x 128 x 128 volume\n",
    "alpha = 100\n",
    "batch_size = 2\n",
    "N_iter = 1000 * 35\n",
    "\n",
    "v = v0\n",
    "for i in range(N_iter):\n",
    "    \n",
    "    idx = np.random.default_rng().choice(N, size=batch_size, replace = False)\n",
    "    \n",
    "    if jnp.mod(i,300) == 0:\n",
    "        #print(i)\n",
    "        print(\"Iter \" + str(i) + \": mean loss = \" + str(jnp.mean(loss_func_batched(v, angles_true[idx], imgs[idx]))))\n",
    "\n",
    "    v = v - alpha * jnp.conj(grad_loss_volume_batched(v, angles_true[idx], imgs[idx]))\n",
    "    \n",
    "print(\"Final loss function (over all data) = \", jnp.mean(loss_func_batched(v, angles_true, imgs)))\n",
    "print(\"Relative error = \", jnp.max(jnp.abs((v - vol_fourier)/jnp.max(vol_fourier))))"
   ]
  },
  {
   "cell_type": "code",
   "execution_count": 139,
   "id": "cbafe3a6-f0c1-4b63-bf79-a3be37dae3fb",
   "metadata": {},
   "outputs": [
    {
     "name": "stdout",
     "output_type": "stream",
     "text": [
      "Final loss function (over all data) =  0.008168631790297082\n",
      "Relative error =  0.02072457963516741\n"
     ]
    }
   ],
   "source": [
    "print(\"Final loss function (over all data) = \", jnp.mean(loss_func_batched(v, angles_true, imgs)))\n",
    "print(\"Relative error = \", jnp.max(jnp.abs((v - vol_fourier)/jnp.max(vol_fourier))))"
   ]
  },
  {
   "cell_type": "code",
   "execution_count": 140,
   "id": "71042681-2f7a-484f-9b39-f623723474f9",
   "metadata": {},
   "outputs": [
    {
     "data": {
      "text/plain": [
       "Text(0.5, 1.0, 'Volume_comp MIP')"
      ]
     },
     "execution_count": 140,
     "metadata": {},
     "output_type": "execute_result"
    },
    {
     "data": {
      "image/png": "[encoded data removed]",
      "text/plain": [
       "<Figure size 432x288 with 2 Axes>"
      ]
     },
     "metadata": {
      "needs_background": "light"
     },
     "output_type": "display_data"
    }
   ],
   "source": [
    "mip_z(jnp.real(jnp.fft.fftshift(jnp.fft.ifftn(v))))\n",
    "plt.colorbar()\n",
    "plt.title('Volume_comp MIP')"
   ]
  },
  {
   "cell_type": "code",
   "execution_count": 141,
   "id": "8822f181-cebd-4293-b216-c9667b77304e",
   "metadata": {},
   "outputs": [
    {
     "data": {
      "text/plain": [
       "Text(0.5, 1.0, 'Volume_comp MIP')"
      ]
     },
     "execution_count": 141,
     "metadata": {},
     "output_type": "execute_result"
    },
    {
     "data": {
      "image/png": "[encoded data removed]",
      "text/plain": [
       "<Figure size 432x288 with 2 Axes>"
      ]
     },
     "metadata": {
      "needs_background": "light"
     },
     "output_type": "display_data"
    }
   ],
   "source": [
    "mip_z(jnp.abs(vol-jnp.real(jnp.fft.fftshift(jnp.fft.ifftn(v)))))\n",
    "plt.colorbar()\n",
    "plt.title('Volume_comp MIP')"
   ]
  },
  {
   "cell_type": "code",
   "execution_count": 91,
   "id": "3b0118d1-3fd0-4888-83cd-3245cc4ced4e",
   "metadata": {},
   "outputs": [
    {
     "data": {
      "text/plain": [
       "(10000, 16384)"
      ]
     },
     "execution_count": 91,
     "metadata": {},
     "output_type": "execute_result"
    }
   ],
   "source": [
    "imgs.shape"
   ]
  },
  {
   "cell_type": "code",
   "execution_count": null,
   "id": "1cd3e5f1-2b3a-4005-883f-a51ed96232ed",
   "metadata": {},
   "outputs": [],
   "source": []
  }
 ],
 "metadata": {
  "kernelspec": {
   "display_name": "Python 3",
   "language": "python",
   "name": "python3"
  },
  "language_info": {
   "codemirror_mode": {
    "name": "ipython",
    "version": 3
   },
   "file_extension": ".py",
   "mimetype": "text/x-python",
   "name": "python",
   "nbconvert_exporter": "python",
   "pygments_lexer": "ipython3",
   "version": "3.6.9"
  }
 },
 "nbformat": 4,
 "nbformat_minor": 5
}
