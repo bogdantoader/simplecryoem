{
 "cells": [
  {
   "cell_type": "code",
   "execution_count": 1,
   "id": "9b330c46-3eb8-455e-9d95-0bdae7386627",
   "metadata": {},
   "outputs": [],
   "source": [
    "%load_ext autoreload\n",
    "%autoreload 2\n",
    "import site\n",
    "import sys\n",
    "import time\n",
    "site.addsitedir('..')"
   ]
  },
  {
   "cell_type": "code",
   "execution_count": 2,
   "id": "7dbed24b-5190-4dd2-8b2d-a6241333ab3d",
   "metadata": {},
   "outputs": [],
   "source": [
    "import numpy as np\n",
    "import jax.numpy as jnp\n",
    "from  matplotlib import pyplot as plt\n",
    "from src.utils import spherical_volume, volume_fourier, volume_comp, mip_z\n",
    "from src.projection import project_spatial, project, rotate\n",
    "from src.interpolate import *\n",
    "import jax"
   ]
  },
  {
   "cell_type": "markdown",
   "id": "e8f6fddc-840b-4e68-9454-823a8c849999",
   "metadata": {},
   "source": [
    "Generate the volume"
   ]
  },
  {
   "cell_type": "code",
   "execution_count": 3,
   "id": "179ba85d-9c47-41ca-9479-787323304f18",
   "metadata": {},
   "outputs": [
    {
     "name": "stderr",
     "output_type": "stream",
     "text": [
      "WARNING:absl:No GPU/TPU found, falling back to CPU. (Set TF_CPP_MIN_LOG_LEVEL=0 and rerun for more info.)\n"
     ]
    },
    {
     "data": {
      "text/plain": [
       "Text(0.5, 1.0, 'Volume_comp MIP')"
      ]
     },
     "execution_count": 3,
     "metadata": {},
     "output_type": "execute_result"
    },
    {
     "data": {
      "image/png": "[encoded data removed]",
      "text/plain": [
       "<Figure size 432x288 with 2 Axes>"
      ]
     },
     "metadata": {
      "needs_background": "light"
     },
     "output_type": "display_data"
    }
   ],
   "source": [
    "shape = np.array([129,129,129])\n",
    "dimensions = np.array([20,20,20])\n",
    "\n",
    "# A volume with components\n",
    "centres = np.array([[0,0,0], [2, 2, 0], [2, -2, 0]])\n",
    "radii = np.array([2, 1, 1])\n",
    "intensities = np.array([10,7,20])\n",
    "\n",
    "v = jnp.array(volume_comp(shape, dimensions, centres, radii, intensities, True))\n",
    "\n",
    "mip_z(v)\n",
    "#plt.imshow(v[:,:,int(np.floor(v.shape[2]/2))])\n",
    "plt.colorbar()\n",
    "plt.title('Volume_comp MIP')"
   ]
  },
  {
   "cell_type": "markdown",
   "id": "acadb8bc-be39-413d-9fe4-04b132a118a0",
   "metadata": {},
   "source": [
    "Generate projections"
   ]
  },
  {
   "cell_type": "code",
   "execution_count": 4,
   "id": "abf4339e-b31e-479a-94fc-e287da282637",
   "metadata": {},
   "outputs": [],
   "source": [
    "@jax.jit\n",
    "def slice_func(angles):\n",
    "    return project_spatial(v, angles, dimensions)\n",
    "\n",
    "@jax.jit\n",
    "def slice_func_array(angles):\n",
    "    return jnp.apply_along_axis(slice_func, 1, angles)"
   ]
  },
  {
   "cell_type": "code",
   "execution_count": 9,
   "id": "16701bad-a4c2-46ed-86d7-e5d9187d2255",
   "metadata": {},
   "outputs": [
    {
     "name": "stdout",
     "output_type": "stream",
     "text": [
      "30.824055910110474\n"
     ]
    },
    {
     "data": {
      "text/plain": [
       "(10000, 129, 129)"
      ]
     },
     "execution_count": 9,
     "metadata": {},
     "output_type": "execute_result"
    }
   ],
   "source": [
    "angles_true = jnp.array(np.random.rand(10000,3))*jnp.pi*2\n",
    "start = time.time()\n",
    "imgs = slice_func_array(angles_true)\n",
    "print(time.time()-start)\n",
    "\n",
    "imgs.shape"
   ]
  },
  {
   "cell_type": "markdown",
   "id": "2a8ff33e-2b1c-407d-b04d-dd597fc4d421",
   "metadata": {},
   "source": [
    "Loss function"
   ]
  },
  {
   "cell_type": "code",
   "execution_count": 12,
   "id": "67c75659-89c2-45da-b802-4dc95fa88aa1",
   "metadata": {},
   "outputs": [],
   "source": [
    "@jax.jit\n",
    "def loss_func(a):\n",
    "    return 1/(2* 16641) * jnp.sum((slice_func(a) - img1)**2)\n",
    "\n",
    "@jax.jit\n",
    "def loss_func_array(a):\n",
    "    return 1/(2 * 16641 * angles_true.shape[0]) * jnp.sum((slice_func_array(a) - imgs)**2)\n",
    "\n",
    "dloss = jax.jit(jax.grad(loss_func_array))"
   ]
  },
  {
   "cell_type": "code",
   "execution_count": null,
   "id": "4cab4ffb-685a-427e-ab03-cc40721cfdda",
   "metadata": {},
   "outputs": [],
   "source": [
    "start = time.time()\n",
    "dloss(angles_true)\n",
    "print(time.time()-start)"
   ]
  },
  {
   "cell_type": "code",
   "execution_count": null,
   "id": "7a9ddd9a-1332-44d5-ad1c-fbff1e10dcd3",
   "metadata": {},
   "outputs": [],
   "source": []
  }
 ],
 "metadata": {
  "kernelspec": {
   "display_name": "Python 3 (ipykernel)",
   "language": "python",
   "name": "python3"
  },
  "language_info": {
   "codemirror_mode": {
    "name": "ipython",
    "version": 3
   },
   "file_extension": ".py",
   "mimetype": "text/x-python",
   "name": "python",
   "nbconvert_exporter": "python",
   "pygments_lexer": "ipython3",
   "version": "3.8.8"
  }
 },
 "nbformat": 4,
 "nbformat_minor": 5
}
