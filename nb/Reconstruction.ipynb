{
 "cells": [
  {
   "cell_type": "markdown",
   "id": "3ebabba5-bf45-49c2-af8c-1e759200fd0d",
   "metadata": {},
   "source": [
    "# Reconstruction of volume from simulated data"
   ]
  },
  {
   "cell_type": "code",
   "execution_count": 1,
   "id": "9b330c46-3eb8-455e-9d95-0bdae7386627",
   "metadata": {},
   "outputs": [],
   "source": [
    "%load_ext autoreload\n",
    "%autoreload 2\n",
    "import site\n",
    "import sys\n",
    "import time\n",
    "site.addsitedir('..')\n",
    "from jax.config import config\n",
    "\n",
    "config.update(\"jax_enable_x64\", True)"
   ]
  },
  {
   "cell_type": "code",
   "execution_count": 2,
   "id": "7dbed24b-5190-4dd2-8b2d-a6241333ab3d",
   "metadata": {},
   "outputs": [],
   "source": [
    "import numpy as np\n",
    "import jax.numpy as jnp\n",
    "from  matplotlib import pyplot as plt\n",
    "from src.utils import *\n",
    "from src.projection import project_spatial, project, rotate\n",
    "from src.interpolate import *\n",
    "from src.jaxops import *\n",
    "import jax\n",
    "\n",
    "from external.pyem.project import project as project_pyem\n",
    "from external.pyem.pyem import star\n",
    "from external.pyem.pyem import vop\n",
    "from pyfftw.builders import irfft2"
   ]
  },
  {
   "cell_type": "markdown",
   "id": "e8f6fddc-840b-4e68-9454-823a8c849999",
   "metadata": {},
   "source": [
    "### Generate the volume"
   ]
  },
  {
   "cell_type": "code",
   "execution_count": 3,
   "id": "179ba85d-9c47-41ca-9479-787323304f18",
   "metadata": {},
   "outputs": [
    {
     "data": {
      "text/plain": [
       "Text(0.5, 1.0, 'Volume_comp MIP')"
      ]
     },
     "execution_count": 3,
     "metadata": {},
     "output_type": "execute_result"
    },
    {
     "data": {
      "image/png": "[encoded data removed]",
      "text/plain": [
       "<Figure size 432x288 with 2 Axes>"
      ]
     },
     "metadata": {
      "needs_background": "light"
     },
     "output_type": "display_data"
    }
   ],
   "source": [
    "nx = 64\n",
    "shape = np.array([nx,nx,nx])\n",
    "dimensions = np.array([20,20,20])\n",
    "pixel_size = dimensions[0]/shape[0]\n",
    "\n",
    "# A volume with components\n",
    "centres = np.array([[0,0,0], [3, 3, 0], [3, -3, 0]])\n",
    "radii = np.array([3, 1.5, 1.5])\n",
    "intensities = np.array([10,7,20])\n",
    "\n",
    "vol = np.fft.fftshift(jnp.array(volume_comp(shape, dimensions, centres, radii, intensities, False)))\n",
    "vol_fourier, x_grid = volume_fourier(jnp.fft.ifftshift(vol), pixel_size)\n",
    "\n",
    "y_grid = x_grid\n",
    "z_grid = x_grid\n",
    "\n",
    "mip_z(vol)\n",
    "#plt.imshow(v[:,:,int(np.floor(v.shape[2]/2))])\n",
    "plt.colorbar()\n",
    "plt.title('Volume_comp MIP')"
   ]
  },
  {
   "cell_type": "code",
   "execution_count": 4,
   "id": "455e79df-3c97-4484-9583-6973a4f71748",
   "metadata": {},
   "outputs": [
    {
     "data": {
      "text/plain": [
       "<matplotlib.colorbar.Colorbar at 0x2b8b32bc7ac8>"
      ]
     },
     "execution_count": 4,
     "metadata": {},
     "output_type": "execute_result"
    },
    {
     "data": {
      "image/png": "[encoded data removed]",
      "text/plain": [
       "<Figure size 432x288 with 2 Axes>"
      ]
     },
     "metadata": {
      "needs_background": "light"
     },
     "output_type": "display_data"
    }
   ],
   "source": [
    "mip_z(jnp.fft.fftshift(jnp.abs((vol_fourier)))); plt.colorbar()"
   ]
  },
  {
   "cell_type": "markdown",
   "id": "6e9ca144-bf22-46d5-8420-6985eb50001e",
   "metadata": {},
   "source": [
    "### Generate the data"
   ]
  },
  {
   "cell_type": "markdown",
   "id": "0c80f089-5b8e-4ef4-984c-dd9bea7b10da",
   "metadata": {},
   "source": [
    "CTF"
   ]
  },
  {
   "cell_type": "code",
   "execution_count": 5,
   "id": "f205bc2f-24e1-48b1-94c3-89315413ca7a",
   "metadata": {},
   "outputs": [
    {
     "name": "stderr",
     "output_type": "stream",
     "text": [
      "/home/bt387/project/2021_CryoEMSolver7/external/pyem/pyem/star.py:532: FutureWarning: Columnar iteration over characters will be deprecated in future releases.\n",
      "  df[Relion.IMAGE_NAME].str.split(\"@\").str\n",
      "/home/bt387/project/2021_CryoEMSolver7/external/pyem/pyem/star.py:540: FutureWarning: Columnar iteration over characters will be deprecated in future releases.\n",
      "  df[Relion.IMAGE_ORIGINAL_NAME].str.split(\"@\").str\n"
     ]
    }
   ],
   "source": [
    "df = star.parse_star(\"../external/pyem/pyem.star\", keep_index = False)\n",
    "dfiter = df.iterrows()\n",
    "_, p = next(dfiter)\n",
    "\n",
    "#ctf_params = {'def1'  : p[star.Relion.DEFOCUSU], \n",
    "#              'def2'  : p[star.Relion.DEFOCUSV],\n",
    "#              'angast': p[star.Relion.DEFOCUSANGLE], \n",
    "#              'phase' : p[star.Relion.PHASESHIFT],\n",
    "#              'kv'    : p[star.Relion.VOLTAGE],\n",
    "#              'ac'    : p[star.Relion.AC], \n",
    "#              'cs'    : p[star.Relion.CS], \n",
    "#              'bf'    : 0,\n",
    "#              'lp'    : 2 * pixel_size}\n",
    "\n",
    "ctf_params0 = np.array([p[star.Relion.DEFOCUSU],\n",
    "                      p[star.Relion.DEFOCUSV],\n",
    "                      p[star.Relion.DEFOCUSANGLE], \n",
    "                      p[star.Relion.PHASESHIFT],\n",
    "                      p[star.Relion.VOLTAGE],\n",
    "                      p[star.Relion.AC],\n",
    "                      p[star.Relion.CS],\n",
    "                      0,\n",
    "                      2 * pixel_size])"
   ]
  },
  {
   "cell_type": "markdown",
   "id": "acadb8bc-be39-413d-9fe4-04b132a118a0",
   "metadata": {},
   "source": [
    "Generate projections (in Fourier domain)"
   ]
  },
  {
   "cell_type": "code",
   "execution_count": 6,
   "id": "16701bad-a4c2-46ed-86d7-e5d9187d2255",
   "metadata": {},
   "outputs": [
    {
     "name": "stdout",
     "output_type": "stream",
     "text": [
      "9.041946411132812\n"
     ]
    },
    {
     "data": {
      "text/plain": [
       "<matplotlib.colorbar.Colorbar at 0x2b8b3394c630>"
      ]
     },
     "execution_count": 6,
     "metadata": {},
     "output_type": "execute_result"
    },
    {
     "data": {
      "image/png": "[encoded data removed]",
      "text/plain": [
       "<Figure size 432x288 with 2 Axes>"
      ]
     },
     "metadata": {
      "needs_background": "light"
     },
     "output_type": "display_data"
    }
   ],
   "source": [
    "radius = 10\n",
    "mask = create_mask(x_grid, (0,0,0),radius)\n",
    "#mip_z(jnp.fft.fftshift(mask)); plt.colorbar()\n",
    "\n",
    "slice_func,slice_func_array = get_slice_funcs(project, x_grid, y_grid, z_grid, mask, \"tri\")\n",
    "\n",
    "img0 = slice_func(vol_fourier, [0,0,0], [0,0], ctf_params0)\n",
    "\n",
    "N = 20000\n",
    "angles_true = jnp.array(np.random.rand(N,3))*jnp.pi*2\n",
    "shifts_true = jnp.zeros([N,3])\n",
    "ctf_params = jnp.array([ctf_params0] * N)\n",
    "start = time.time()\n",
    "imgs = slice_func_array(vol_fourier, angles_true, shifts_true, ctf_params) + (np.random.randn(N, nx*nx) + 1j*np.random.randn(N, nx*nx)) * jnp.max(img0) /2\n",
    "print(time.time()-start)\n",
    "\n",
    "plt.imshow(jnp.fft.fftshift(jnp.real(imgs[103].reshape(nx,nx)))); plt.colorbar()"
   ]
  },
  {
   "cell_type": "markdown",
   "id": "2273487d-2cd3-4361-ad7a-a1f4a9af5665",
   "metadata": {},
   "source": [
    "### Crop images and volume:"
   ]
  },
  {
   "cell_type": "code",
   "execution_count": 7,
   "id": "4f3f2579-fb64-477f-b882-0998efaeaae6",
   "metadata": {},
   "outputs": [],
   "source": [
    "from src.emfiles import crop_fourier_images, crop_fourier_volume\n",
    "\n",
    "nx = 32\n",
    "imgs = imgs.reshape(imgs.shape[0], 64, 64)\n",
    "imgs, x_grid = crop_fourier_images(imgs, x_grid, nx)\n",
    "imgs = imgs.reshape(imgs.shape[0], nx*nx)\n",
    "\n",
    "vol_fourier, _ = crop_fourier_volume(vol_fourier, x_grid, nx)\n",
    "\n",
    "y_grid = x_grid\n",
    "z_grid = x_grid"
   ]
  },
  {
   "cell_type": "code",
   "execution_count": 8,
   "id": "8cbb1bdb-028f-47c9-8954-78d5d06db0a3",
   "metadata": {},
   "outputs": [
    {
     "data": {
      "text/plain": [
       "<matplotlib.colorbar.Colorbar at 0x2b8b3bebf9b0>"
      ]
     },
     "execution_count": 8,
     "metadata": {},
     "output_type": "execute_result"
    },
    {
     "data": {
      "image/png": "[encoded data removed]",
      "text/plain": [
       "<Figure size 432x288 with 2 Axes>"
      ]
     },
     "metadata": {
      "needs_background": "light"
     },
     "output_type": "display_data"
    }
   ],
   "source": [
    "plt.imshow(jnp.fft.fftshift(jnp.real(imgs[103].reshape(nx,nx)))); plt.colorbar()"
   ]
  },
  {
   "cell_type": "code",
   "execution_count": 9,
   "id": "addbc3c0-469e-48ca-afa0-88b18da8f3f9",
   "metadata": {},
   "outputs": [
    {
     "data": {
      "text/plain": [
       "<matplotlib.colorbar.Colorbar at 0x2b8b32b429b0>"
      ]
     },
     "execution_count": 9,
     "metadata": {},
     "output_type": "execute_result"
    },
    {
     "data": {
      "image/png": "[encoded data removed]",
      "text/plain": [
       "<Figure size 432x288 with 2 Axes>"
      ]
     },
     "metadata": {
      "needs_background": "light"
     },
     "output_type": "display_data"
    }
   ],
   "source": [
    "mip_z(jnp.fft.fftshift(jnp.abs((vol_fourier)))); plt.colorbar()"
   ]
  },
  {
   "cell_type": "code",
   "execution_count": 10,
   "id": "b06bd9f1-53e3-454e-8c9f-eb2b8c18b38b",
   "metadata": {},
   "outputs": [
    {
     "data": {
      "text/plain": [
       "<matplotlib.colorbar.Colorbar at 0x2b8b328eff60>"
      ]
     },
     "execution_count": 10,
     "metadata": {},
     "output_type": "execute_result"
    },
    {
     "data": {
      "image/png": "[encoded data removed]",
      "text/plain": [
       "<Figure size 432x288 with 2 Axes>"
      ]
     },
     "metadata": {
      "needs_background": "light"
     },
     "output_type": "display_data"
    }
   ],
   "source": [
    "mip_z(jnp.fft.fftshift(jnp.real(jnp.fft.ifftn(vol_fourier)))); plt.colorbar()"
   ]
  },
  {
   "cell_type": "markdown",
   "id": "2a8ff33e-2b1c-407d-b04d-dd597fc4d421",
   "metadata": {},
   "source": [
    "### Loss functions for the new dimension"
   ]
  },
  {
   "cell_type": "code",
   "execution_count": 11,
   "id": "f69f1514-9909-4da3-9413-3ff36ea9b702",
   "metadata": {},
   "outputs": [
    {
     "data": {
      "image/png": "[encoded data removed]",
      "text/plain": [
       "<Figure size 432x288 with 2 Axes>"
      ]
     },
     "metadata": {
      "needs_background": "light"
     },
     "output_type": "display_data"
    }
   ],
   "source": [
    "alpha = 0.001\n",
    "\n",
    "radius = 0.8\n",
    "mask = create_mask(x_grid, (0,0,0),radius)\n",
    "mip_z(jnp.fft.fftshift(mask)); plt.colorbar()\n",
    "\n",
    "slice_func,slice_func_array = get_slice_funcs(project, x_grid, y_grid, z_grid, mask, \"tri\")\n",
    "\n",
    "loss_func, loss_func_batched, loss_func_sum = get_loss_funcs(slice_func, alpha = alpha)\n",
    "grad_loss_volume, grad_loss_volume_batched, grad_loss_volume_sum = get_grad_v_funcs(loss_func, loss_func_sum)"
   ]
  },
  {
   "cell_type": "code",
   "execution_count": 12,
   "id": "bec1e279-bee9-483c-bf6d-da8bea3d1c7b",
   "metadata": {},
   "outputs": [
    {
     "name": "stdout",
     "output_type": "stream",
     "text": [
      "1.3997511863708496\n",
      "(20,)\n"
     ]
    }
   ],
   "source": [
    "start = time.time()\n",
    "ll = loss_func_batched(np.random.randn(nx,nx,nx), angles_true[:20], shifts_true[:20], ctf_params[:20], imgs[:20])\n",
    "print(time.time()-start)\n",
    "print(ll.shape)"
   ]
  },
  {
   "cell_type": "markdown",
   "id": "d267a592-7199-4cd8-bc4c-ecab404c1b97",
   "metadata": {},
   "source": [
    "Gradients with respect to volume pixels, over all (or a batch of) images"
   ]
  },
  {
   "cell_type": "code",
   "execution_count": 13,
   "id": "4028b0e6-a7b6-4224-903f-83f08d94182f",
   "metadata": {},
   "outputs": [
    {
     "name": "stdout",
     "output_type": "stream",
     "text": [
      "1.2638580799102783\n",
      "(32, 32, 32)\n"
     ]
    }
   ],
   "source": [
    "start = time.time()\n",
    "ll = grad_loss_volume(np.random.randn(nx,nx,nx), angles_true[0],  shifts_true[0], ctf_params[0], imgs[0])\n",
    "print(time.time()-start)\n",
    "print(ll.shape)"
   ]
  },
  {
   "cell_type": "markdown",
   "id": "2f5fb2cb-73aa-4fe6-a8fa-b3df1b4fdcb9",
   "metadata": {},
   "source": [
    "Doing the below with N large enough (e.g. 1000) makes it run out of memory (trying to allocate >200GB)"
   ]
  },
  {
   "cell_type": "code",
   "execution_count": 14,
   "id": "6b29483d-8bd8-4174-b7a1-6e0617a98627",
   "metadata": {},
   "outputs": [
    {
     "name": "stdout",
     "output_type": "stream",
     "text": [
      "1.8950297832489014\n",
      "(32, 32, 32)\n"
     ]
    }
   ],
   "source": [
    "batch_size = 10\n",
    "idx = np.random.default_rng().choice(N, size=batch_size, replace = False)\n",
    "\n",
    "start = time.time()\n",
    "ll = grad_loss_volume_batched(np.random.randn(nx,nx,nx), angles_true[idx], shifts_true[idx], ctf_params[idx], imgs[idx])\n",
    "print(time.time()-start)\n",
    "print(ll.shape)"
   ]
  },
  {
   "cell_type": "markdown",
   "id": "c28666d9-5830-447c-b2ec-29e2017b1472",
   "metadata": {},
   "source": [
    "## Optimization with respect to volume"
   ]
  },
  {
   "cell_type": "markdown",
   "id": "1f9fb839-9d6b-4881-a7d6-bc8f35924af0",
   "metadata": {},
   "source": [
    "### CG"
   ]
  },
  {
   "cell_type": "code",
   "execution_count": 15,
   "id": "f7da0a54-aea8-4102-896a-ce192b9197a9",
   "metadata": {},
   "outputs": [
    {
     "name": "stdout",
     "output_type": "stream",
     "text": [
      "Iter 0 ||r|| = 0.4830224918076009\n",
      "Iter 1 ||r|| = 0.1804848559606285\n",
      "Iter 2 ||r|| = 0.13686981415850918\n",
      "Iter 3 ||r|| = 0.08777699314069609\n",
      "Iter 4 ||r|| = 0.06572354041377122\n",
      "Iter 5 ||r|| = 0.04413792713555087\n",
      "Iter 6 ||r|| = 0.03803142218542348\n",
      "Iter 7 ||r|| = 0.032727024185865886\n",
      "Iter 8 ||r|| = 0.028743684011842567\n",
      "Iter 9 ||r|| = 0.023034678429904795\n",
      "Iter 10 ||r|| = 0.01735144213886622\n",
      "Iter 11 ||r|| = 0.017979728862153283\n",
      "Iter 12 ||r|| = 0.012676919232487845\n",
      "Iter 13 ||r|| = 0.009583808312055181\n",
      "Iter 14 ||r|| = 0.007308083472889138\n",
      "Iter 15 ||r|| = 0.007213349875546944\n",
      "Iter 16 ||r|| = 0.005844093269407074\n",
      "Iter 17 ||r|| = 0.005731105825849292\n",
      "Iter 18 ||r|| = 0.003932074842074349\n",
      "Iter 19 ||r|| = 0.0039508572639177005\n",
      "Iter 20 ||r|| = 0.0030737617596012443\n",
      "Iter 21 ||r|| = 0.0027426579720791384\n",
      "Iter 22 ||r|| = 0.0019695994318339703\n",
      "Iter 23 ||r|| = 0.0027629495457742732\n",
      "Iter 24 ||r|| = 0.001453056438572702\n",
      "Iter 25 ||r|| = 0.0020236621364189654\n",
      "Iter 26 ||r|| = 0.0014088577608852876\n",
      "Iter 27 ||r|| = 0.0016972996468997926\n",
      "Iter 28 ||r|| = 0.0012131871217528915\n",
      "Iter 29 ||r|| = 0.0012925752015933373\n",
      "Iter 30 ||r|| = 0.0013029719483762061\n",
      "Iter 31 ||r|| = 0.0009478019292168271\n",
      "Iter 32 ||r|| = 0.0009607701036042363\n",
      "Iter 33 ||r|| = 0.001009530644052363\n",
      "Iter 34 ||r|| = 0.0008643024353540931\n",
      "Iter 35 ||r|| = 0.0008619079223257563\n",
      "Iter 36 ||r|| = 0.0009165206105806064\n",
      "Iter 37 ||r|| = 0.0006869228700542646\n",
      "Iter 38 ||r|| = 0.0007259892437953007\n",
      "Iter 39 ||r|| = 0.0007270984665507153\n",
      "Iter 40 ||r|| = 0.000708832133256175\n",
      "Iter 41 ||r|| = 0.0006729002677052909\n",
      "Iter 42 ||r|| = 0.0006366223057307132\n",
      "Iter 43 ||r|| = 0.0006423139273498219\n",
      "Iter 44 ||r|| = 0.0006611039759789159\n",
      "Iter 45 ||r|| = 0.0005346603827122698\n",
      "Iter 46 ||r|| = 0.0005760099530973401\n",
      "Iter 47 ||r|| = 0.0006687112252969292\n",
      "Iter 48 ||r|| = 0.000589289738540288\n",
      "Iter 49 ||r|| = 0.0004662272197239439\n"
     ]
    }
   ],
   "source": [
    "from src.algorithm import conjugate_gradient, get_cg_vol_ops\n",
    "\n",
    "v0 = jnp.array(np.random.randn(nx,nx,nx) + 1j * np.random.randn(nx,nx,nx))\n",
    "N_iter = 50\n",
    "\n",
    "\n",
    "AA, Ab = get_cg_vol_ops(grad_loss_volume_sum, angles_true, shifts_true, ctf_params, imgs, v0.shape)\n",
    "\n",
    "vcg, max_iter = conjugate_gradient(AA, Ab, v0, N_iter, verbose = True)\n"
   ]
  },
  {
   "cell_type": "code",
   "execution_count": 16,
   "id": "fba2f608-e54e-4eeb-9012-6f23cec989e8",
   "metadata": {},
   "outputs": [
    {
     "name": "stdout",
     "output_type": "stream",
     "text": [
      "Relative error =  0.14842020343884857\n",
      "Absolute error =  37.06753632570088\n"
     ]
    }
   ],
   "source": [
    "#print(\"Final loss function = \", loss_func_sum(vcg, angles_true, shifts_true, ctf_params, imgs))\n",
    "print(\"Relative error = \", jnp.max(jnp.abs((vcg - vol_fourier)/jnp.max(vol_fourier))))\n",
    "print(\"Absolute error = \", jnp.mean(jnp.abs((vcg - vol_fourier))))"
   ]
  },
  {
   "cell_type": "code",
   "execution_count": 17,
   "id": "c05cc541-5af0-40ff-80b0-0ed4abb25f2b",
   "metadata": {},
   "outputs": [
    {
     "data": {
      "text/plain": [
       "<matplotlib.colorbar.Colorbar at 0x2b8bef9dce80>"
      ]
     },
     "execution_count": 17,
     "metadata": {},
     "output_type": "execute_result"
    },
    {
     "data": {
      "image/png": "[encoded data removed]",
      "text/plain": [
       "<Figure size 432x288 with 2 Axes>"
      ]
     },
     "metadata": {
      "needs_background": "light"
     },
     "output_type": "display_data"
    }
   ],
   "source": [
    "mip_z(jnp.abs(jnp.fft.fftshift((vcg)))) ; plt.colorbar()"
   ]
  },
  {
   "cell_type": "code",
   "execution_count": 18,
   "id": "b7d29d79-34e5-4dd3-932b-dee41295dad6",
   "metadata": {},
   "outputs": [
    {
     "data": {
      "text/plain": [
       "<matplotlib.colorbar.Colorbar at 0x2b8bef9d7cf8>"
      ]
     },
     "execution_count": 18,
     "metadata": {},
     "output_type": "execute_result"
    },
    {
     "data": {
      "image/png": "[encoded data removed]",
      "text/plain": [
       "<Figure size 432x288 with 2 Axes>"
      ]
     },
     "metadata": {
      "needs_background": "light"
     },
     "output_type": "display_data"
    }
   ],
   "source": [
    "idx = 709\n",
    "\n",
    "s0 = slice_func(vcg, angles_true[idx], shifts_true[idx], ctf_params[idx])\n",
    "plt.imshow(jnp.fft.fftshift(jnp.real(s0).reshape(nx,nx))); plt.colorbar()"
   ]
  },
  {
   "cell_type": "code",
   "execution_count": 19,
   "id": "2a68d63e-0025-49d1-8efe-b3335d2fd19b",
   "metadata": {},
   "outputs": [
    {
     "data": {
      "text/plain": [
       "Text(0.5, 1.0, 'Reconstruction MIP')"
      ]
     },
     "execution_count": 19,
     "metadata": {},
     "output_type": "execute_result"
    },
    {
     "data": {
      "image/png": "[encoded data removed]",
      "text/plain": [
       "<Figure size 432x288 with 2 Axes>"
      ]
     },
     "metadata": {
      "needs_background": "light"
     },
     "output_type": "display_data"
    }
   ],
   "source": [
    "mip_z(jnp.real(jnp.fft.fftshift(jnp.fft.ifftn(vcg))))\n",
    "plt.colorbar()\n",
    "plt.title('Reconstruction MIP')"
   ]
  },
  {
   "cell_type": "code",
   "execution_count": 20,
   "id": "e81a3635-4e88-43e5-b39c-dc7cb75be154",
   "metadata": {},
   "outputs": [
    {
     "data": {
      "text/plain": [
       "Text(0.5, 1.0, 'Reconstruction relative error (Fourier)')"
      ]
     },
     "execution_count": 20,
     "metadata": {},
     "output_type": "execute_result"
    },
    {
     "data": {
      "image/png": "[encoded data removed]",
      "text/plain": [
       "<Figure size 432x288 with 2 Axes>"
      ]
     },
     "metadata": {
      "needs_background": "light"
     },
     "output_type": "display_data"
    }
   ],
   "source": [
    "mip_z(jnp.abs(jnp.fft.fftshift((vcg-vol_fourier)/jnp.max(vol_fourier))));plt.colorbar()\n",
    "\n",
    "plt.title(\"Reconstruction relative error (Fourier)\")"
   ]
  },
  {
   "cell_type": "code",
   "execution_count": 21,
   "id": "7844d892-66f5-4549-9dfe-0f1d1b7c6b75",
   "metadata": {},
   "outputs": [
    {
     "data": {
      "text/plain": [
       "Text(0.5, 1.0, 'Error in spatial domain with low freq vol - MIP')"
      ]
     },
     "execution_count": 21,
     "metadata": {},
     "output_type": "execute_result"
    },
    {
     "data": {
      "image/png": "[encoded data removed]",
      "text/plain": [
       "<Figure size 432x288 with 2 Axes>"
      ]
     },
     "metadata": {
      "needs_background": "light"
     },
     "output_type": "display_data"
    }
   ],
   "source": [
    "mip_z(jnp.abs(jnp.fft.fftshift(jnp.fft.ifftn((vol_fourier - vcg)))))\n",
    "plt.colorbar()\n",
    "plt.title('Error in spatial domain with low freq vol - MIP')"
   ]
  },
  {
   "cell_type": "code",
   "execution_count": 24,
   "id": "40648e91-2939-4c72-b452-dc5fba6a6ff5",
   "metadata": {},
   "outputs": [
    {
     "data": {
      "text/plain": [
       "0.3125"
      ]
     },
     "execution_count": 24,
     "metadata": {},
     "output_type": "execute_result"
    }
   ],
   "source": [
    "pixel_size"
   ]
  },
  {
   "cell_type": "code",
   "execution_count": 31,
   "id": "58cd3d40-0d0b-4e3e-8e73-2b15bc8024f8",
   "metadata": {},
   "outputs": [
    {
     "data": {
      "image/png": "[encoded data removed]",
      "text/plain": [
       "<Figure size 432x288 with 1 Axes>"
      ]
     },
     "metadata": {
      "needs_background": "light"
     },
     "output_type": "display_data"
    }
   ],
   "source": [
    "mip_z(jnp.abs(vol_fourier))"
   ]
  },
  {
   "cell_type": "code",
   "execution_count": 32,
   "id": "f21a65b1-1a1a-439b-a5d3-9d388d7dc902",
   "metadata": {},
   "outputs": [
    {
     "data": {
      "text/plain": [
       "array([ 0.05, 32.  ])"
      ]
     },
     "execution_count": 32,
     "metadata": {},
     "output_type": "execute_result"
    }
   ],
   "source": [
    "x_grid"
   ]
  },
  {
   "cell_type": "code",
   "execution_count": 36,
   "id": "e28760cd-6642-46c2-96f1-8c38d05a0cec",
   "metadata": {},
   "outputs": [],
   "source": [
    "x_freq = jnp.fft.fftfreq(int(x_grid[1]), 1/(x_grid[0]*x_grid[1]))\n",
    "X, Y, Z = jnp.meshgrid(x_freq, x_freq, x_freq)\n",
    "r = np.sqrt(X**2 + Y**2 + Z**2)"
   ]
  },
  {
   "cell_type": "code",
   "execution_count": 39,
   "id": "80c3e869-0c95-44e7-b1bc-863d93a2ba88",
   "metadata": {},
   "outputs": [
    {
     "data": {
      "text/plain": [
       "<matplotlib.colorbar.Colorbar at 0x2b973a0b32e8>"
      ]
     },
     "execution_count": 39,
     "metadata": {},
     "output_type": "execute_result"
    },
    {
     "data": {
      "image/png": "[encoded data removed]",
      "text/plain": [
       "<Figure size 432x288 with 2 Axes>"
      ]
     },
     "metadata": {
      "needs_background": "light"
     },
     "output_type": "display_data"
    }
   ],
   "source": [
    "plt.imshow(jnp.fft.fftshift(r[:,:,0])); plt.colorbar()"
   ]
  },
  {
   "cell_type": "code",
   "execution_count": 81,
   "id": "d4e1012f-2a61-4ad1-a4a4-587362fd1f27",
   "metadata": {},
   "outputs": [
    {
     "data": {
      "text/plain": [
       "<matplotlib.colorbar.Colorbar at 0x2b973b0b0a20>"
      ]
     },
     "execution_count": 81,
     "metadata": {},
     "output_type": "execute_result"
    },
    {
     "data": {
      "image/png": "[encoded data removed]",
      "text/plain": [
       "<Figure size 432x288 with 2 Axes>"
      ]
     },
     "metadata": {
      "needs_background": "light"
     },
     "output_type": "display_data"
    }
   ],
   "source": [
    "shell = np.array(vol_fourier.copy())\n",
    "R = 0.1\n",
    "dr = 0.1\n",
    "shell[jnp.where((r < R) | (r >= R + dr))] = 0\n",
    "plt.imshow(jnp.abs(jnp.fft.fftshift(shell[:,:,0]))); plt.colorbar()\n"
   ]
  },
  {
   "cell_type": "code",
   "execution_count": 85,
   "id": "4ed5276b-352a-472e-aedb-8bfe999937d6",
   "metadata": {},
   "outputs": [
    {
     "data": {
      "text/plain": [
       "array([300, 400])"
      ]
     },
     "execution_count": 85,
     "metadata": {},
     "output_type": "execute_result"
    }
   ],
   "source": [
    "b = np.arange(10)\n",
    "c = np.arange(10)* 100\n",
    "cond = np.where((b < 5) & (b > 2))\n",
    "c[cond]"
   ]
  },
  {
   "cell_type": "code",
   "execution_count": 97,
   "id": "a4e7012a-b493-4b91-9e3f-43b490a6c37c",
   "metadata": {},
   "outputs": [],
   "source": [
    "R = 0\n",
    "dr = 0.1\n",
    "\n",
    "s1 = []\n",
    "s2 = []\n",
    "while R + dr <= jnp.max(r):\n",
    "    cond = jnp.where((r >= R) & (r < R + dr))\n",
    "    s1.append(vol_fourier[cond])\n",
    "    s2.append(vcg[cond])\n",
    "    R += dr"
   ]
  },
  {
   "cell_type": "code",
   "execution_count": 103,
   "id": "124a9527-1d7d-4ce8-b08a-33890260ecbd",
   "metadata": {},
   "outputs": [],
   "source": [
    "fsc = []\n",
    "for i in range(len(s1)):\n",
    "    f = jnp.sum(s1[i] * jnp.conj(s2[i])) / (jnp.linalg.norm(s1[i],2) * jnp.linalg.norm(s2[i],2))\n",
    "    fsc.append(f)\n",
    "fsc = jnp.array(fsc)"
   ]
  },
  {
   "cell_type": "code",
   "execution_count": 112,
   "id": "d1d3ff7c-ab75-49f8-acb9-7c6a7e49da36",
   "metadata": {},
   "outputs": [
    {
     "data": {
      "text/plain": [
       "[<matplotlib.lines.Line2D at 0x2b973b4933c8>]"
      ]
     },
     "execution_count": 112,
     "metadata": {},
     "output_type": "execute_result"
    },
    {
     "data": {
      "image/png": "[encoded data removed]",
      "text/plain": [
       "<Figure size 432x288 with 1 Axes>"
      ]
     },
     "metadata": {
      "needs_background": "light"
     },
     "output_type": "display_data"
    }
   ],
   "source": [
    "# Huh it's complex, what am I missing\n",
    "plt.plot(jnp.abs(fsc))"
   ]
  },
  {
   "cell_type": "code",
   "execution_count": 107,
   "id": "28eeda04-5067-41f0-adb2-23d8410ed7bb",
   "metadata": {},
   "outputs": [
    {
     "data": {
      "text/plain": [
       "DeviceArray([ 0.9966896 -0.00077162j,  0.99348332+0.00390789j,\n",
       "              0.95572939-0.00364631j,  0.87338231+0.0100803j ,\n",
       "              0.4940911 +0.00117271j,  0.40599881-0.00216319j,\n",
       "              0.38664945+0.00838607j,  0.20448481-0.00470757j,\n",
       "              0.00499829+0.02008331j,  0.02106306+0.02156509j,\n",
       "             -0.00771569-0.00327168j, -0.00482857+0.02119561j,\n",
       "             -0.03809374+0.06547359j], dtype=complex128)"
      ]
     },
     "execution_count": 107,
     "metadata": {},
     "output_type": "execute_result"
    }
   ],
   "source": [
    "fsc"
   ]
  },
  {
   "cell_type": "code",
   "execution_count": 94,
   "id": "8c59283b-7860-4754-ab0b-b6f765442ff5",
   "metadata": {},
   "outputs": [
    {
     "name": "stdout",
     "output_type": "stream",
     "text": [
      "(27,)\n",
      "(224,)\n",
      "(650,)\n",
      "(1202,)\n",
      "(2036,)\n",
      "(2984,)\n",
      "(4336,)\n",
      "(5612,)\n",
      "(5939,)\n",
      "(4784,)\n",
      "(3116,)\n",
      "(1445,)\n",
      "(358,)\n"
     ]
    },
    {
     "data": {
      "text/plain": [
       "[None, None, None, None, None, None, None, None, None, None, None, None, None]"
      ]
     },
     "execution_count": 94,
     "metadata": {},
     "output_type": "execute_result"
    }
   ],
   "source": [
    "[print(s.shape) for s in s1]"
   ]
  },
  {
   "cell_type": "code",
   "execution_count": 98,
   "id": "0ededf66-a5df-4b60-a4ee-84e724655983",
   "metadata": {},
   "outputs": [
    {
     "name": "stdout",
     "output_type": "stream",
     "text": [
      "(27,)\n",
      "(224,)\n",
      "(650,)\n",
      "(1202,)\n",
      "(2036,)\n",
      "(2984,)\n",
      "(4336,)\n",
      "(5612,)\n",
      "(5939,)\n",
      "(4784,)\n",
      "(3116,)\n",
      "(1445,)\n",
      "(358,)\n"
     ]
    },
    {
     "data": {
      "text/plain": [
       "[None, None, None, None, None, None, None, None, None, None, None, None, None]"
      ]
     },
     "execution_count": 98,
     "metadata": {},
     "output_type": "execute_result"
    }
   ],
   "source": [
    "[print(s.shape) for s in s2]"
   ]
  },
  {
   "cell_type": "markdown",
   "id": "3adef854-7dba-434e-be02-3516a6e5b49e",
   "metadata": {},
   "source": [
    "### SGD"
   ]
  },
  {
   "cell_type": "code",
   "execution_count": 23,
   "id": "79c31175-1885-4da1-a132-0c0426535459",
   "metadata": {},
   "outputs": [
    {
     "ename": "TypeError",
     "evalue": "loss_func_batched() missing 2 required positional arguments: 'ctf_params' and 'imgs'",
     "output_type": "error",
     "traceback": [
      "\u001b[0;31m---------------------------------------------------------------------------\u001b[0m",
      "\u001b[0;31mTypeError\u001b[0m                                 Traceback (most recent call last)",
      "\u001b[0;32m<ipython-input-23-c50ae14b21bf>\u001b[0m in \u001b[0;36m<module>\u001b[0;34m\u001b[0m\n\u001b[1;32m     13\u001b[0m \u001b[0;34m\u001b[0m\u001b[0m\n\u001b[1;32m     14\u001b[0m     \u001b[0;32mif\u001b[0m \u001b[0mjnp\u001b[0m\u001b[0;34m.\u001b[0m\u001b[0mmod\u001b[0m\u001b[0;34m(\u001b[0m\u001b[0mi\u001b[0m\u001b[0;34m,\u001b[0m\u001b[0;36m100\u001b[0m\u001b[0;34m)\u001b[0m \u001b[0;34m==\u001b[0m \u001b[0;36m0\u001b[0m\u001b[0;34m:\u001b[0m\u001b[0;34m\u001b[0m\u001b[0;34m\u001b[0m\u001b[0m\n\u001b[0;32m---> 15\u001b[0;31m         \u001b[0mprint\u001b[0m\u001b[0;34m(\u001b[0m\u001b[0;34m\"Iter \"\u001b[0m \u001b[0;34m+\u001b[0m \u001b[0mstr\u001b[0m\u001b[0;34m(\u001b[0m\u001b[0mi\u001b[0m\u001b[0;34m)\u001b[0m \u001b[0;34m+\u001b[0m \u001b[0;34m\": mean loss = \"\u001b[0m \u001b[0;34m+\u001b[0m \u001b[0mstr\u001b[0m\u001b[0;34m(\u001b[0m\u001b[0mjnp\u001b[0m\u001b[0;34m.\u001b[0m\u001b[0mmean\u001b[0m\u001b[0;34m(\u001b[0m\u001b[0mloss_func_batched\u001b[0m\u001b[0;34m(\u001b[0m\u001b[0mv\u001b[0m\u001b[0;34m,\u001b[0m \u001b[0mangles_true\u001b[0m\u001b[0;34m[\u001b[0m\u001b[0midx\u001b[0m\u001b[0;34m]\u001b[0m\u001b[0;34m,\u001b[0m \u001b[0mimgs\u001b[0m\u001b[0;34m[\u001b[0m\u001b[0midx\u001b[0m\u001b[0;34m]\u001b[0m\u001b[0;34m)\u001b[0m\u001b[0;34m)\u001b[0m\u001b[0;34m)\u001b[0m\u001b[0;34m)\u001b[0m\u001b[0;34m\u001b[0m\u001b[0;34m\u001b[0m\u001b[0m\n\u001b[0m\u001b[1;32m     16\u001b[0m \u001b[0;34m\u001b[0m\u001b[0m\n\u001b[1;32m     17\u001b[0m     \u001b[0mv\u001b[0m \u001b[0;34m=\u001b[0m \u001b[0mv\u001b[0m \u001b[0;34m-\u001b[0m \u001b[0malpha\u001b[0m \u001b[0;34m*\u001b[0m \u001b[0mjnp\u001b[0m\u001b[0;34m.\u001b[0m\u001b[0mconj\u001b[0m\u001b[0;34m(\u001b[0m\u001b[0mgrad_loss_volume_batched\u001b[0m\u001b[0;34m(\u001b[0m\u001b[0mv\u001b[0m\u001b[0;34m,\u001b[0m \u001b[0mangles_true\u001b[0m\u001b[0;34m[\u001b[0m\u001b[0midx\u001b[0m\u001b[0;34m]\u001b[0m\u001b[0;34m,\u001b[0m \u001b[0mimgs\u001b[0m\u001b[0;34m[\u001b[0m\u001b[0midx\u001b[0m\u001b[0;34m]\u001b[0m\u001b[0;34m)\u001b[0m\u001b[0;34m)\u001b[0m\u001b[0;34m\u001b[0m\u001b[0;34m\u001b[0m\u001b[0m\n",
      "\u001b[0;32m/usr/local/lib/python3.6/dist-packages/jax/api.py\u001b[0m in \u001b[0;36mf_jitted\u001b[0;34m(*args, **kwargs)\u001b[0m\n\u001b[1;32m    414\u001b[0m       \u001b[0;32mreturn\u001b[0m \u001b[0mcpp_jitted_f\u001b[0m\u001b[0;34m(\u001b[0m\u001b[0;34m*\u001b[0m\u001b[0margs\u001b[0m\u001b[0;34m,\u001b[0m \u001b[0;34m**\u001b[0m\u001b[0mkwargs\u001b[0m\u001b[0;34m)\u001b[0m\u001b[0;34m\u001b[0m\u001b[0;34m\u001b[0m\u001b[0m\n\u001b[1;32m    415\u001b[0m     \u001b[0;32melse\u001b[0m\u001b[0;34m:\u001b[0m\u001b[0;34m\u001b[0m\u001b[0;34m\u001b[0m\u001b[0m\n\u001b[0;32m--> 416\u001b[0;31m       \u001b[0;32mreturn\u001b[0m \u001b[0mcpp_jitted_f\u001b[0m\u001b[0;34m(\u001b[0m\u001b[0mcontext\u001b[0m\u001b[0;34m,\u001b[0m \u001b[0;34m*\u001b[0m\u001b[0margs\u001b[0m\u001b[0;34m,\u001b[0m \u001b[0;34m**\u001b[0m\u001b[0mkwargs\u001b[0m\u001b[0;34m)\u001b[0m\u001b[0;34m\u001b[0m\u001b[0;34m\u001b[0m\u001b[0m\n\u001b[0m\u001b[1;32m    417\u001b[0m   \u001b[0mf_jitted\u001b[0m\u001b[0;34m.\u001b[0m\u001b[0m_cpp_jitted_f\u001b[0m \u001b[0;34m=\u001b[0m \u001b[0mcpp_jitted_f\u001b[0m\u001b[0;34m\u001b[0m\u001b[0;34m\u001b[0m\u001b[0m\n\u001b[1;32m    418\u001b[0m \u001b[0;34m\u001b[0m\u001b[0m\n",
      "\u001b[0;32m/usr/local/lib/python3.6/dist-packages/jax/api.py\u001b[0m in \u001b[0;36mcache_miss\u001b[0;34m(_, *args, **kwargs)\u001b[0m\n\u001b[1;32m    301\u001b[0m         \u001b[0mbackend\u001b[0m\u001b[0;34m=\u001b[0m\u001b[0mbackend\u001b[0m\u001b[0;34m,\u001b[0m\u001b[0;34m\u001b[0m\u001b[0;34m\u001b[0m\u001b[0m\n\u001b[1;32m    302\u001b[0m         \u001b[0mname\u001b[0m\u001b[0;34m=\u001b[0m\u001b[0mflat_fun\u001b[0m\u001b[0;34m.\u001b[0m\u001b[0m__name__\u001b[0m\u001b[0;34m,\u001b[0m\u001b[0;34m\u001b[0m\u001b[0;34m\u001b[0m\u001b[0m\n\u001b[0;32m--> 303\u001b[0;31m         donated_invars=donated_invars)\n\u001b[0m\u001b[1;32m    304\u001b[0m     \u001b[0mout_pytree_def\u001b[0m \u001b[0;34m=\u001b[0m \u001b[0mout_tree\u001b[0m\u001b[0;34m(\u001b[0m\u001b[0;34m)\u001b[0m\u001b[0;34m\u001b[0m\u001b[0;34m\u001b[0m\u001b[0m\n\u001b[1;32m    305\u001b[0m     \u001b[0mout\u001b[0m \u001b[0;34m=\u001b[0m \u001b[0mtree_unflatten\u001b[0m\u001b[0;34m(\u001b[0m\u001b[0mout_pytree_def\u001b[0m\u001b[0;34m,\u001b[0m \u001b[0mout_flat\u001b[0m\u001b[0;34m)\u001b[0m\u001b[0;34m\u001b[0m\u001b[0;34m\u001b[0m\u001b[0m\n",
      "\u001b[0;32m/usr/local/lib/python3.6/dist-packages/jax/core.py\u001b[0m in \u001b[0;36mbind\u001b[0;34m(self, fun, *args, **params)\u001b[0m\n\u001b[1;32m   1392\u001b[0m \u001b[0;34m\u001b[0m\u001b[0m\n\u001b[1;32m   1393\u001b[0m   \u001b[0;32mdef\u001b[0m \u001b[0mbind\u001b[0m\u001b[0;34m(\u001b[0m\u001b[0mself\u001b[0m\u001b[0;34m,\u001b[0m \u001b[0mfun\u001b[0m\u001b[0;34m,\u001b[0m \u001b[0;34m*\u001b[0m\u001b[0margs\u001b[0m\u001b[0;34m,\u001b[0m \u001b[0;34m**\u001b[0m\u001b[0mparams\u001b[0m\u001b[0;34m)\u001b[0m\u001b[0;34m:\u001b[0m\u001b[0;34m\u001b[0m\u001b[0;34m\u001b[0m\u001b[0m\n\u001b[0;32m-> 1394\u001b[0;31m     \u001b[0;32mreturn\u001b[0m \u001b[0mcall_bind\u001b[0m\u001b[0;34m(\u001b[0m\u001b[0mself\u001b[0m\u001b[0;34m,\u001b[0m \u001b[0mfun\u001b[0m\u001b[0;34m,\u001b[0m \u001b[0;34m*\u001b[0m\u001b[0margs\u001b[0m\u001b[0;34m,\u001b[0m \u001b[0;34m**\u001b[0m\u001b[0mparams\u001b[0m\u001b[0;34m)\u001b[0m\u001b[0;34m\u001b[0m\u001b[0;34m\u001b[0m\u001b[0m\n\u001b[0m\u001b[1;32m   1395\u001b[0m \u001b[0;34m\u001b[0m\u001b[0m\n\u001b[1;32m   1396\u001b[0m   \u001b[0;32mdef\u001b[0m \u001b[0mprocess\u001b[0m\u001b[0;34m(\u001b[0m\u001b[0mself\u001b[0m\u001b[0;34m,\u001b[0m \u001b[0mtrace\u001b[0m\u001b[0;34m,\u001b[0m \u001b[0mfun\u001b[0m\u001b[0;34m,\u001b[0m \u001b[0mtracers\u001b[0m\u001b[0;34m,\u001b[0m \u001b[0mparams\u001b[0m\u001b[0;34m)\u001b[0m\u001b[0;34m:\u001b[0m\u001b[0;34m\u001b[0m\u001b[0;34m\u001b[0m\u001b[0m\n",
      "\u001b[0;32m/usr/local/lib/python3.6/dist-packages/jax/core.py\u001b[0m in \u001b[0;36mcall_bind\u001b[0;34m(primitive, fun, *args, **params)\u001b[0m\n\u001b[1;32m   1383\u001b[0m   \u001b[0mtracers\u001b[0m \u001b[0;34m=\u001b[0m \u001b[0mmap\u001b[0m\u001b[0;34m(\u001b[0m\u001b[0mtop_trace\u001b[0m\u001b[0;34m.\u001b[0m\u001b[0mfull_raise\u001b[0m\u001b[0;34m,\u001b[0m \u001b[0margs\u001b[0m\u001b[0;34m)\u001b[0m\u001b[0;34m\u001b[0m\u001b[0;34m\u001b[0m\u001b[0m\n\u001b[1;32m   1384\u001b[0m   \u001b[0;32mwith\u001b[0m \u001b[0mmaybe_new_sublevel\u001b[0m\u001b[0;34m(\u001b[0m\u001b[0mtop_trace\u001b[0m\u001b[0;34m)\u001b[0m\u001b[0;34m:\u001b[0m\u001b[0;34m\u001b[0m\u001b[0;34m\u001b[0m\u001b[0m\n\u001b[0;32m-> 1385\u001b[0;31m     \u001b[0mouts\u001b[0m \u001b[0;34m=\u001b[0m \u001b[0mprimitive\u001b[0m\u001b[0;34m.\u001b[0m\u001b[0mprocess\u001b[0m\u001b[0;34m(\u001b[0m\u001b[0mtop_trace\u001b[0m\u001b[0;34m,\u001b[0m \u001b[0mfun\u001b[0m\u001b[0;34m,\u001b[0m \u001b[0mtracers\u001b[0m\u001b[0;34m,\u001b[0m \u001b[0mparams\u001b[0m\u001b[0;34m)\u001b[0m\u001b[0;34m\u001b[0m\u001b[0;34m\u001b[0m\u001b[0m\n\u001b[0m\u001b[1;32m   1386\u001b[0m   \u001b[0;32mreturn\u001b[0m \u001b[0mmap\u001b[0m\u001b[0;34m(\u001b[0m\u001b[0mfull_lower\u001b[0m\u001b[0;34m,\u001b[0m \u001b[0mapply_todos\u001b[0m\u001b[0;34m(\u001b[0m\u001b[0menv_trace_todo\u001b[0m\u001b[0;34m(\u001b[0m\u001b[0;34m)\u001b[0m\u001b[0;34m,\u001b[0m \u001b[0mouts\u001b[0m\u001b[0;34m)\u001b[0m\u001b[0;34m)\u001b[0m\u001b[0;34m\u001b[0m\u001b[0;34m\u001b[0m\u001b[0m\n\u001b[1;32m   1387\u001b[0m \u001b[0;34m\u001b[0m\u001b[0m\n",
      "\u001b[0;32m/usr/local/lib/python3.6/dist-packages/jax/core.py\u001b[0m in \u001b[0;36mprocess\u001b[0;34m(self, trace, fun, tracers, params)\u001b[0m\n\u001b[1;32m   1395\u001b[0m \u001b[0;34m\u001b[0m\u001b[0m\n\u001b[1;32m   1396\u001b[0m   \u001b[0;32mdef\u001b[0m \u001b[0mprocess\u001b[0m\u001b[0;34m(\u001b[0m\u001b[0mself\u001b[0m\u001b[0;34m,\u001b[0m \u001b[0mtrace\u001b[0m\u001b[0;34m,\u001b[0m \u001b[0mfun\u001b[0m\u001b[0;34m,\u001b[0m \u001b[0mtracers\u001b[0m\u001b[0;34m,\u001b[0m \u001b[0mparams\u001b[0m\u001b[0;34m)\u001b[0m\u001b[0;34m:\u001b[0m\u001b[0;34m\u001b[0m\u001b[0;34m\u001b[0m\u001b[0m\n\u001b[0;32m-> 1397\u001b[0;31m     \u001b[0;32mreturn\u001b[0m \u001b[0mtrace\u001b[0m\u001b[0;34m.\u001b[0m\u001b[0mprocess_call\u001b[0m\u001b[0;34m(\u001b[0m\u001b[0mself\u001b[0m\u001b[0;34m,\u001b[0m \u001b[0mfun\u001b[0m\u001b[0;34m,\u001b[0m \u001b[0mtracers\u001b[0m\u001b[0;34m,\u001b[0m \u001b[0mparams\u001b[0m\u001b[0;34m)\u001b[0m\u001b[0;34m\u001b[0m\u001b[0;34m\u001b[0m\u001b[0m\n\u001b[0m\u001b[1;32m   1398\u001b[0m \u001b[0;34m\u001b[0m\u001b[0m\n\u001b[1;32m   1399\u001b[0m   \u001b[0;32mdef\u001b[0m \u001b[0mpost_process\u001b[0m\u001b[0;34m(\u001b[0m\u001b[0mself\u001b[0m\u001b[0;34m,\u001b[0m \u001b[0mtrace\u001b[0m\u001b[0;34m,\u001b[0m \u001b[0mout_tracers\u001b[0m\u001b[0;34m,\u001b[0m \u001b[0mparams\u001b[0m\u001b[0;34m)\u001b[0m\u001b[0;34m:\u001b[0m\u001b[0;34m\u001b[0m\u001b[0;34m\u001b[0m\u001b[0m\n",
      "\u001b[0;32m/usr/local/lib/python3.6/dist-packages/jax/core.py\u001b[0m in \u001b[0;36mprocess_call\u001b[0;34m(self, primitive, f, tracers, params)\u001b[0m\n\u001b[1;32m    623\u001b[0m \u001b[0;34m\u001b[0m\u001b[0m\n\u001b[1;32m    624\u001b[0m   \u001b[0;32mdef\u001b[0m \u001b[0mprocess_call\u001b[0m\u001b[0;34m(\u001b[0m\u001b[0mself\u001b[0m\u001b[0;34m,\u001b[0m \u001b[0mprimitive\u001b[0m\u001b[0;34m,\u001b[0m \u001b[0mf\u001b[0m\u001b[0;34m,\u001b[0m \u001b[0mtracers\u001b[0m\u001b[0;34m,\u001b[0m \u001b[0mparams\u001b[0m\u001b[0;34m)\u001b[0m\u001b[0;34m:\u001b[0m\u001b[0;34m\u001b[0m\u001b[0;34m\u001b[0m\u001b[0m\n\u001b[0;32m--> 625\u001b[0;31m     \u001b[0;32mreturn\u001b[0m \u001b[0mprimitive\u001b[0m\u001b[0;34m.\u001b[0m\u001b[0mimpl\u001b[0m\u001b[0;34m(\u001b[0m\u001b[0mf\u001b[0m\u001b[0;34m,\u001b[0m \u001b[0;34m*\u001b[0m\u001b[0mtracers\u001b[0m\u001b[0;34m,\u001b[0m \u001b[0;34m**\u001b[0m\u001b[0mparams\u001b[0m\u001b[0;34m)\u001b[0m\u001b[0;34m\u001b[0m\u001b[0;34m\u001b[0m\u001b[0m\n\u001b[0m\u001b[1;32m    626\u001b[0m   \u001b[0mprocess_map\u001b[0m \u001b[0;34m=\u001b[0m \u001b[0mprocess_call\u001b[0m\u001b[0;34m\u001b[0m\u001b[0;34m\u001b[0m\u001b[0m\n\u001b[1;32m    627\u001b[0m \u001b[0;34m\u001b[0m\u001b[0m\n",
      "\u001b[0;32m/usr/local/lib/python3.6/dist-packages/jax/interpreters/xla.py\u001b[0m in \u001b[0;36m_xla_call_impl\u001b[0;34m(fun, device, backend, name, donated_invars, *args)\u001b[0m\n\u001b[1;32m    585\u001b[0m \u001b[0;32mdef\u001b[0m \u001b[0m_xla_call_impl\u001b[0m\u001b[0;34m(\u001b[0m\u001b[0mfun\u001b[0m\u001b[0;34m:\u001b[0m \u001b[0mlu\u001b[0m\u001b[0;34m.\u001b[0m\u001b[0mWrappedFun\u001b[0m\u001b[0;34m,\u001b[0m \u001b[0;34m*\u001b[0m\u001b[0margs\u001b[0m\u001b[0;34m,\u001b[0m \u001b[0mdevice\u001b[0m\u001b[0;34m,\u001b[0m \u001b[0mbackend\u001b[0m\u001b[0;34m,\u001b[0m \u001b[0mname\u001b[0m\u001b[0;34m,\u001b[0m \u001b[0mdonated_invars\u001b[0m\u001b[0;34m)\u001b[0m\u001b[0;34m:\u001b[0m\u001b[0;34m\u001b[0m\u001b[0;34m\u001b[0m\u001b[0m\n\u001b[1;32m    586\u001b[0m   compiled_fun = _xla_callable(fun, device, backend, name, donated_invars,\n\u001b[0;32m--> 587\u001b[0;31m                                *unsafe_map(arg_spec, args))\n\u001b[0m\u001b[1;32m    588\u001b[0m   \u001b[0;32mtry\u001b[0m\u001b[0;34m:\u001b[0m\u001b[0;34m\u001b[0m\u001b[0;34m\u001b[0m\u001b[0m\n\u001b[1;32m    589\u001b[0m     \u001b[0;32mreturn\u001b[0m \u001b[0mcompiled_fun\u001b[0m\u001b[0;34m(\u001b[0m\u001b[0;34m*\u001b[0m\u001b[0margs\u001b[0m\u001b[0;34m)\u001b[0m\u001b[0;34m\u001b[0m\u001b[0;34m\u001b[0m\u001b[0m\n",
      "\u001b[0;32m/usr/local/lib/python3.6/dist-packages/jax/linear_util.py\u001b[0m in \u001b[0;36mmemoized_fun\u001b[0;34m(fun, *args)\u001b[0m\n\u001b[1;32m    258\u001b[0m       \u001b[0mfun\u001b[0m\u001b[0;34m.\u001b[0m\u001b[0mpopulate_stores\u001b[0m\u001b[0;34m(\u001b[0m\u001b[0mstores\u001b[0m\u001b[0;34m)\u001b[0m\u001b[0;34m\u001b[0m\u001b[0;34m\u001b[0m\u001b[0m\n\u001b[1;32m    259\u001b[0m     \u001b[0;32melse\u001b[0m\u001b[0;34m:\u001b[0m\u001b[0;34m\u001b[0m\u001b[0;34m\u001b[0m\u001b[0m\n\u001b[0;32m--> 260\u001b[0;31m       \u001b[0mans\u001b[0m \u001b[0;34m=\u001b[0m \u001b[0mcall\u001b[0m\u001b[0;34m(\u001b[0m\u001b[0mfun\u001b[0m\u001b[0;34m,\u001b[0m \u001b[0;34m*\u001b[0m\u001b[0margs\u001b[0m\u001b[0;34m)\u001b[0m\u001b[0;34m\u001b[0m\u001b[0;34m\u001b[0m\u001b[0m\n\u001b[0m\u001b[1;32m    261\u001b[0m       \u001b[0mcache\u001b[0m\u001b[0;34m[\u001b[0m\u001b[0mkey\u001b[0m\u001b[0;34m]\u001b[0m \u001b[0;34m=\u001b[0m \u001b[0;34m(\u001b[0m\u001b[0mans\u001b[0m\u001b[0;34m,\u001b[0m \u001b[0mfun\u001b[0m\u001b[0;34m.\u001b[0m\u001b[0mstores\u001b[0m\u001b[0;34m)\u001b[0m\u001b[0;34m\u001b[0m\u001b[0;34m\u001b[0m\u001b[0m\n\u001b[1;32m    262\u001b[0m \u001b[0;34m\u001b[0m\u001b[0m\n",
      "\u001b[0;32m/usr/local/lib/python3.6/dist-packages/jax/interpreters/xla.py\u001b[0m in \u001b[0;36m_xla_callable\u001b[0;34m(fun, device, backend, name, donated_invars, *arg_specs)\u001b[0m\n\u001b[1;32m    660\u001b[0m   \u001b[0mabstract_args\u001b[0m\u001b[0;34m,\u001b[0m \u001b[0marg_devices\u001b[0m \u001b[0;34m=\u001b[0m \u001b[0munzip2\u001b[0m\u001b[0;34m(\u001b[0m\u001b[0marg_specs\u001b[0m\u001b[0;34m)\u001b[0m\u001b[0;34m\u001b[0m\u001b[0;34m\u001b[0m\u001b[0m\n\u001b[1;32m    661\u001b[0m   \u001b[0;32mif\u001b[0m \u001b[0mconfig\u001b[0m\u001b[0;34m.\u001b[0m\u001b[0momnistaging_enabled\u001b[0m\u001b[0;34m:\u001b[0m\u001b[0;34m\u001b[0m\u001b[0;34m\u001b[0m\u001b[0m\n\u001b[0;32m--> 662\u001b[0;31m     \u001b[0mjaxpr\u001b[0m\u001b[0;34m,\u001b[0m \u001b[0mout_avals\u001b[0m\u001b[0;34m,\u001b[0m \u001b[0mconsts\u001b[0m \u001b[0;34m=\u001b[0m \u001b[0mpe\u001b[0m\u001b[0;34m.\u001b[0m\u001b[0mtrace_to_jaxpr_final\u001b[0m\u001b[0;34m(\u001b[0m\u001b[0mfun\u001b[0m\u001b[0;34m,\u001b[0m \u001b[0mabstract_args\u001b[0m\u001b[0;34m)\u001b[0m\u001b[0;34m\u001b[0m\u001b[0;34m\u001b[0m\u001b[0m\n\u001b[0m\u001b[1;32m    663\u001b[0m     \u001b[0;32mif\u001b[0m \u001b[0many\u001b[0m\u001b[0;34m(\u001b[0m\u001b[0misinstance\u001b[0m\u001b[0;34m(\u001b[0m\u001b[0mc\u001b[0m\u001b[0;34m,\u001b[0m \u001b[0mcore\u001b[0m\u001b[0;34m.\u001b[0m\u001b[0mTracer\u001b[0m\u001b[0;34m)\u001b[0m \u001b[0;32mfor\u001b[0m \u001b[0mc\u001b[0m \u001b[0;32min\u001b[0m \u001b[0mconsts\u001b[0m\u001b[0;34m)\u001b[0m\u001b[0;34m:\u001b[0m\u001b[0;34m\u001b[0m\u001b[0;34m\u001b[0m\u001b[0m\n\u001b[1;32m    664\u001b[0m       \u001b[0;32mraise\u001b[0m \u001b[0mcore\u001b[0m\u001b[0;34m.\u001b[0m\u001b[0mUnexpectedTracerError\u001b[0m\u001b[0;34m(\u001b[0m\u001b[0;34m\"Encountered an unexpected tracer.\"\u001b[0m\u001b[0;34m)\u001b[0m\u001b[0;34m\u001b[0m\u001b[0;34m\u001b[0m\u001b[0m\n",
      "\u001b[0;32m/usr/local/lib/python3.6/dist-packages/jax/interpreters/partial_eval.py\u001b[0m in \u001b[0;36mtrace_to_jaxpr_final\u001b[0;34m(fun, in_avals)\u001b[0m\n\u001b[1;32m   1218\u001b[0m     \u001b[0mmain\u001b[0m\u001b[0;34m.\u001b[0m\u001b[0msource_info\u001b[0m \u001b[0;34m=\u001b[0m \u001b[0mfun_sourceinfo\u001b[0m\u001b[0;34m(\u001b[0m\u001b[0mfun\u001b[0m\u001b[0;34m.\u001b[0m\u001b[0mf\u001b[0m\u001b[0;34m)\u001b[0m  \u001b[0;31m# type: ignore\u001b[0m\u001b[0;34m\u001b[0m\u001b[0;34m\u001b[0m\u001b[0m\n\u001b[1;32m   1219\u001b[0m     \u001b[0mmain\u001b[0m\u001b[0;34m.\u001b[0m\u001b[0mjaxpr_stack\u001b[0m \u001b[0;34m=\u001b[0m \u001b[0;34m(\u001b[0m\u001b[0;34m)\u001b[0m  \u001b[0;31m# type: ignore\u001b[0m\u001b[0;34m\u001b[0m\u001b[0;34m\u001b[0m\u001b[0m\n\u001b[0;32m-> 1220\u001b[0;31m     \u001b[0mjaxpr\u001b[0m\u001b[0;34m,\u001b[0m \u001b[0mout_avals\u001b[0m\u001b[0;34m,\u001b[0m \u001b[0mconsts\u001b[0m \u001b[0;34m=\u001b[0m \u001b[0mtrace_to_subjaxpr_dynamic\u001b[0m\u001b[0;34m(\u001b[0m\u001b[0mfun\u001b[0m\u001b[0;34m,\u001b[0m \u001b[0mmain\u001b[0m\u001b[0;34m,\u001b[0m \u001b[0min_avals\u001b[0m\u001b[0;34m)\u001b[0m\u001b[0;34m\u001b[0m\u001b[0;34m\u001b[0m\u001b[0m\n\u001b[0m\u001b[1;32m   1221\u001b[0m     \u001b[0;32mdel\u001b[0m \u001b[0mfun\u001b[0m\u001b[0;34m,\u001b[0m \u001b[0mmain\u001b[0m\u001b[0;34m\u001b[0m\u001b[0;34m\u001b[0m\u001b[0m\n\u001b[1;32m   1222\u001b[0m   \u001b[0;32mreturn\u001b[0m \u001b[0mjaxpr\u001b[0m\u001b[0;34m,\u001b[0m \u001b[0mout_avals\u001b[0m\u001b[0;34m,\u001b[0m \u001b[0mconsts\u001b[0m\u001b[0;34m\u001b[0m\u001b[0;34m\u001b[0m\u001b[0m\n",
      "\u001b[0;32m/usr/local/lib/python3.6/dist-packages/jax/interpreters/partial_eval.py\u001b[0m in \u001b[0;36mtrace_to_subjaxpr_dynamic\u001b[0;34m(fun, main, in_avals)\u001b[0m\n\u001b[1;32m   1198\u001b[0m     \u001b[0mtrace\u001b[0m \u001b[0;34m=\u001b[0m \u001b[0mDynamicJaxprTrace\u001b[0m\u001b[0;34m(\u001b[0m\u001b[0mmain\u001b[0m\u001b[0;34m,\u001b[0m \u001b[0mcore\u001b[0m\u001b[0;34m.\u001b[0m\u001b[0mcur_sublevel\u001b[0m\u001b[0;34m(\u001b[0m\u001b[0;34m)\u001b[0m\u001b[0;34m)\u001b[0m\u001b[0;34m\u001b[0m\u001b[0;34m\u001b[0m\u001b[0m\n\u001b[1;32m   1199\u001b[0m     \u001b[0min_tracers\u001b[0m \u001b[0;34m=\u001b[0m \u001b[0mmap\u001b[0m\u001b[0;34m(\u001b[0m\u001b[0mtrace\u001b[0m\u001b[0;34m.\u001b[0m\u001b[0mnew_arg\u001b[0m\u001b[0;34m,\u001b[0m \u001b[0min_avals\u001b[0m\u001b[0;34m)\u001b[0m\u001b[0;34m\u001b[0m\u001b[0;34m\u001b[0m\u001b[0m\n\u001b[0;32m-> 1200\u001b[0;31m     \u001b[0mans\u001b[0m \u001b[0;34m=\u001b[0m \u001b[0mfun\u001b[0m\u001b[0;34m.\u001b[0m\u001b[0mcall_wrapped\u001b[0m\u001b[0;34m(\u001b[0m\u001b[0;34m*\u001b[0m\u001b[0min_tracers\u001b[0m\u001b[0;34m)\u001b[0m\u001b[0;34m\u001b[0m\u001b[0;34m\u001b[0m\u001b[0m\n\u001b[0m\u001b[1;32m   1201\u001b[0m     \u001b[0mout_tracers\u001b[0m \u001b[0;34m=\u001b[0m \u001b[0mmap\u001b[0m\u001b[0;34m(\u001b[0m\u001b[0mtrace\u001b[0m\u001b[0;34m.\u001b[0m\u001b[0mfull_raise\u001b[0m\u001b[0;34m,\u001b[0m \u001b[0mans\u001b[0m\u001b[0;34m)\u001b[0m\u001b[0;34m\u001b[0m\u001b[0;34m\u001b[0m\u001b[0m\n\u001b[1;32m   1202\u001b[0m     \u001b[0mjaxpr\u001b[0m\u001b[0;34m,\u001b[0m \u001b[0mout_avals\u001b[0m\u001b[0;34m,\u001b[0m \u001b[0mconsts\u001b[0m \u001b[0;34m=\u001b[0m \u001b[0mframe\u001b[0m\u001b[0;34m.\u001b[0m\u001b[0mto_jaxpr\u001b[0m\u001b[0;34m(\u001b[0m\u001b[0min_tracers\u001b[0m\u001b[0;34m,\u001b[0m \u001b[0mout_tracers\u001b[0m\u001b[0;34m)\u001b[0m\u001b[0;34m\u001b[0m\u001b[0;34m\u001b[0m\u001b[0m\n",
      "\u001b[0;32m/usr/local/lib/python3.6/dist-packages/jax/linear_util.py\u001b[0m in \u001b[0;36mcall_wrapped\u001b[0;34m(self, *args, **kwargs)\u001b[0m\n\u001b[1;32m    164\u001b[0m \u001b[0;34m\u001b[0m\u001b[0m\n\u001b[1;32m    165\u001b[0m     \u001b[0;32mtry\u001b[0m\u001b[0;34m:\u001b[0m\u001b[0;34m\u001b[0m\u001b[0;34m\u001b[0m\u001b[0m\n\u001b[0;32m--> 166\u001b[0;31m       \u001b[0mans\u001b[0m \u001b[0;34m=\u001b[0m \u001b[0mself\u001b[0m\u001b[0;34m.\u001b[0m\u001b[0mf\u001b[0m\u001b[0;34m(\u001b[0m\u001b[0;34m*\u001b[0m\u001b[0margs\u001b[0m\u001b[0;34m,\u001b[0m \u001b[0;34m**\u001b[0m\u001b[0mdict\u001b[0m\u001b[0;34m(\u001b[0m\u001b[0mself\u001b[0m\u001b[0;34m.\u001b[0m\u001b[0mparams\u001b[0m\u001b[0;34m,\u001b[0m \u001b[0;34m**\u001b[0m\u001b[0mkwargs\u001b[0m\u001b[0;34m)\u001b[0m\u001b[0;34m)\u001b[0m\u001b[0;34m\u001b[0m\u001b[0;34m\u001b[0m\u001b[0m\n\u001b[0m\u001b[1;32m    167\u001b[0m     \u001b[0;32mexcept\u001b[0m\u001b[0;34m:\u001b[0m\u001b[0;34m\u001b[0m\u001b[0;34m\u001b[0m\u001b[0m\n\u001b[1;32m    168\u001b[0m       \u001b[0;31m# Some transformations yield from inside context managers, so we have to\u001b[0m\u001b[0;34m\u001b[0m\u001b[0;34m\u001b[0m\u001b[0;34m\u001b[0m\u001b[0m\n",
      "\u001b[0;31mTypeError\u001b[0m: loss_func_batched() missing 2 required positional arguments: 'ctf_params' and 'imgs'"
     ]
    }
   ],
   "source": [
    "v0 = jnp.array(np.random.randn(nx,nx,nx) + 1j * np.random.randn(nx,nx,nx))\n",
    "#v0 = vol_fourier + 0.1*v * mask\n",
    "#alpha = 1000000 # this alpha works well for full 128 x 128 x 128 volume with mask\n",
    "alpha = 10000000\n",
    "batch_size = 2\n",
    "N_iter = 1000 * 20 \n",
    "#N_iter = 1000 \n",
    "\n",
    "v = v0\n",
    "for i in range(N_iter):\n",
    "    \n",
    "    idx = np.random.default_rng().choice(N, size=batch_size, replace = False)\n",
    "    \n",
    "    if jnp.mod(i,100) == 0:\n",
    "        print(\"Iter \" + str(i) + \": mean loss = \" + str(jnp.mean(loss_func_batched(v, angles_true[idx], imgs[idx]))))\n",
    "\n",
    "    v = v - alpha * jnp.conj(grad_loss_volume_batched(v, angles_true[idx], imgs[idx]))\n",
    "    \n",
    "print(\"Final loss function (over all data) = \", jnp.mean(loss_func_batched(v, angles_true, imgs)))\n",
    "print(\"Relative error = \", jnp.max(jnp.abs((v - vol_fourier)/jnp.max(vol_fourier))))"
   ]
  },
  {
   "cell_type": "code",
   "execution_count": null,
   "id": "cbafe3a6-f0c1-4b63-bf79-a3be37dae3fb",
   "metadata": {},
   "outputs": [],
   "source": [
    "print(\"Final loss function (over all data) = \", jnp.mean(loss_func_batched(v, angles_true, imgs)))\n",
    "print(\"Relative error = \", jnp.max(jnp.abs((v - vol_fourier)/jnp.max(vol_fourier))))"
   ]
  },
  {
   "cell_type": "code",
   "execution_count": null,
   "id": "b6b7fc0d-9850-447e-86cc-16bc9d1b3d79",
   "metadata": {},
   "outputs": [],
   "source": [
    "loss_imgs = loss_func_batched(v, angles_true, imgs)\n",
    "plt.plot(loss_imgs)"
   ]
  },
  {
   "cell_type": "code",
   "execution_count": null,
   "id": "6cd29939-6fc7-4264-b23e-c4fa2f7575f9",
   "metadata": {},
   "outputs": [],
   "source": [
    "mip_z(jnp.abs(jnp.fft.fftshift((v-vol_fourier)/jnp.max(vol_fourier))));plt.colorbar()\n",
    "\n",
    "plt.title(\"Reconstruction relative error (Fourier)\")"
   ]
  },
  {
   "cell_type": "code",
   "execution_count": null,
   "id": "71042681-2f7a-484f-9b39-f623723474f9",
   "metadata": {},
   "outputs": [],
   "source": [
    "mip_z(jnp.real(jnp.fft.fftshift(jnp.fft.ifftn(v))))\n",
    "plt.colorbar()\n",
    "plt.title('Reconstruction MIP')"
   ]
  },
  {
   "cell_type": "code",
   "execution_count": null,
   "id": "5f5bd481-e95d-4214-b3f3-d70fbc66c1d5",
   "metadata": {},
   "outputs": [],
   "source": [
    "mip_z(jnp.abs(jnp.fft.fftshift((v)))) ; plt.colorbar()"
   ]
  },
  {
   "cell_type": "code",
   "execution_count": null,
   "id": "8841546f-5d0b-42de-81dd-4c733b87832d",
   "metadata": {},
   "outputs": [],
   "source": [
    "mip_z(jnp.abs(jnp.fft.fftshift(jnp.fft.ifftn((vol_fourier*mask - v*mask)))))\n",
    "plt.colorbar()\n",
    "plt.title('Error in spatial domain with low freq vol - MIP')"
   ]
  },
  {
   "cell_type": "markdown",
   "id": "fecd3a57-c6a8-43eb-bb62-ee7589f20c20",
   "metadata": {},
   "source": [
    "And the error with the high freq volume"
   ]
  },
  {
   "cell_type": "code",
   "execution_count": null,
   "id": "8822f181-cebd-4293-b216-c9667b77304e",
   "metadata": {},
   "outputs": [],
   "source": [
    "mip_z(jnp.abs(vol-jnp.real(jnp.fft.fftshift(jnp.fft.ifftn(v)))))\n",
    "plt.colorbar()\n",
    "plt.title('Reconstruction error with high freq vol -  MIP')"
   ]
  },
  {
   "cell_type": "code",
   "execution_count": null,
   "id": "07113e19-aed3-490e-bd13-162e585f180d",
   "metadata": {},
   "outputs": [],
   "source": [
    "mip_z(jnp.abs(vol-jnp.real(jnp.fft.fftshift(jnp.fft.ifftn(vol_fourier*mask)))))\n",
    "plt.colorbar()\n",
    "plt.title('Reconstruction error with high freq vol -  MIP')"
   ]
  },
  {
   "cell_type": "markdown",
   "id": "cfb657f4-1a0f-4f3e-bb98-5306a29d9996",
   "metadata": {},
   "source": [
    "## Gradient descent with respect to angles"
   ]
  },
  {
   "cell_type": "markdown",
   "id": "c3c9fc20-3580-4f73-8178-b4f588741f33",
   "metadata": {},
   "source": [
    "And the gradients of the above, with respect to angles, here for later,not really used right now:"
   ]
  },
  {
   "cell_type": "code",
   "execution_count": null,
   "id": "8ba8c7cc-f056-4306-b60a-1f8f10178471",
   "metadata": {},
   "outputs": [],
   "source": [
    "@jax.jit\n",
    "def grad_loss_angles(v, angles, shifts, ctf_params, img):\n",
    "    return jax.grad(loss_func, argnums = 1)(v, angles, shifts, ctf_params, img)\n",
    "\n",
    "@jax.jit\n",
    "def grad_loss_angles_batched(v, angles, shifts, ctf_params, imgs):\n",
    "    return jax.vmap(grad_loss_angles, in_axes = (None, 0, 0, 0, 0))(v, angles, shifts, ctf_params, imgs)"
   ]
  },
  {
   "cell_type": "code",
   "execution_count": null,
   "id": "2fe732c7-c5be-41cc-bc4f-1eb21c05ec40",
   "metadata": {},
   "outputs": [],
   "source": [
    "start = time.time()\n",
    "dl = grad_loss_angles(vol_fourier, angles_true[0], shifts_true[0], ctf_params[0], imgs[0])\n",
    "print(time.time()-start)\n",
    "print(dl.shape)"
   ]
  },
  {
   "cell_type": "code",
   "execution_count": null,
   "id": "30a2262c-97ce-487d-987f-e91287c7090b",
   "metadata": {},
   "outputs": [],
   "source": [
    "#start = time.time()\n",
    "#dl = grad_loss_angles_batched(vol_fourier, angles_true, imgs)\n",
    "#print(time.time()-start)\n",
    "#print(dl.shape)"
   ]
  },
  {
   "cell_type": "code",
   "execution_count": null,
   "id": "b3dfbd0e-7fbf-4791-a3a9-00bd0d5b66d0",
   "metadata": {},
   "outputs": [],
   "source": [
    "#beta = 0.00000001\n",
    "#a = jnp.array(np.random.rand(N, 3)*np.pi*2)\n",
    "#a = jnp.mod(a, 2*jnp.pi)\n",
    "##a = angles_true + 0.01*a\n",
    "#N_iter = 1\n",
    "#\n",
    "#for i in range(N_iter):\n",
    "#        \n",
    "#    if jnp.mod(i,100) == 0:\n",
    "#    #print(i)\n",
    "#        print(\"Iter \" + str(i) + \": mean loss = \" + str(jnp.mean(loss_func_batched(vol_fourier, a, shifts_true, ctf_params, imgs))))\n",
    "#        \n",
    "#    a = a - beta * jnp.conj(grad_loss_angles_batched(vol_fourier, a, shifts_true, ctf_params, imgs))\n",
    "#    \n",
    "#a = jnp.mod(a, 2*jnp.pi)\n",
    "\n",
    "\n",
    "    \n",
    "#max_err = jnp.mean(jnp.abs(a - angles_true))\n",
    "#print(\"mean(a-a_true) = \" + str(max_err))"
   ]
  },
  {
   "cell_type": "code",
   "execution_count": null,
   "id": "bb73be09-eefd-4799-9d75-10e6545e5eed",
   "metadata": {},
   "outputs": [],
   "source": [
    "#max_err = jnp.max(jnp.abs(a - angles_true))\n",
    "#print(\"max(a-a_true) = \" + str(max_err))"
   ]
  }
 ],
 "metadata": {
  "kernelspec": {
   "display_name": "Python 3",
   "language": "python",
   "name": "python3"
  },
  "language_info": {
   "codemirror_mode": {
    "name": "ipython",
    "version": 3
   },
   "file_extension": ".py",
   "mimetype": "text/x-python",
   "name": "python",
   "nbconvert_exporter": "python",
   "pygments_lexer": "ipython3",
   "version": "3.6.9"
  }
 },
 "nbformat": 4,
 "nbformat_minor": 5
}
