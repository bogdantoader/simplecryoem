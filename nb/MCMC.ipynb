{
 "cells": [
  {
   "cell_type": "markdown",
   "id": "a9b1220d-4cb0-4cfd-92e1-80c47493c02e",
   "metadata": {},
   "source": [
    "# MCMC"
   ]
  },
  {
   "cell_type": "code",
   "execution_count": 1,
   "id": "b5d3ce57-cf28-4cf8-8bf8-b5261bf9f31f",
   "metadata": {},
   "outputs": [],
   "source": [
    "%load_ext autoreload\n",
    "%autoreload 2\n",
    "import site\n",
    "import sys\n",
    "import time\n",
    "site.addsitedir('..')\n",
    "from jax.config import config\n",
    "\n",
    "config.update(\"jax_enable_x64\", True)\n",
    "\n",
    "import numpy as np\n",
    "import jax.numpy as jn\n",
    "from  matplotlib import pyplot as plt\n",
    "import jax\n",
    "from jax import random\n",
    "\n",
    "from src.utils import l2sq\n",
    "from src.algorithm import *\n",
    "\n",
    "plt.rcParams[\"figure.figsize\"]=8,8"
   ]
  },
  {
   "cell_type": "code",
   "execution_count": 2,
   "id": "ce468437-1055-46ee-8914-131bd888ad08",
   "metadata": {},
   "outputs": [
    {
     "data": {
      "text/plain": [
       "(-12.0, 12.0)"
      ]
     },
     "execution_count": 2,
     "metadata": {},
     "output_type": "execute_result"
    },
    {
     "data": {
      "image/png": "[encoded data removed]",
      "text/plain": [
       "<Figure size 576x576 with 1 Axes>"
      ]
     },
     "metadata": {
      "needs_background": "light"
     },
     "output_type": "display_data"
    }
   ],
   "source": [
    "key = random.PRNGKey(int(jnp.floor(np.random.rand()*1000)))\n",
    "\n",
    "k = 100\n",
    "M = jnp.zeros(k)\n",
    "#c = jnp.array([[1,0],[0,10]])\n",
    "#c_inv = jnp.array([[1, 0], [0,1/10]])\n",
    "\n",
    "key, *sk = random.split(key, 4)\n",
    "V = random.normal(sk[0], [k, k])\n",
    "Q, _ = jnp.linalg.qr(V)\n",
    "d = jnp.diag(random.uniform(sk[1], (k,))*10)\n",
    "D= d.at[d < 0].set(0)\n",
    "C = Q.transpose() @ D @ Q\n",
    "C_inv = Q.transpose() @ jnp.diag(1/jnp.diag(D)) @ Q\n",
    "\n",
    "S = random.multivariate_normal(sk[2], M, C, (10000,))\n",
    "plt.scatter(S[:,0], S[:,1])\n",
    "plt.xlim(-12,12)\n",
    "plt.ylim(-12,12)"
   ]
  },
  {
   "cell_type": "code",
   "execution_count": 3,
   "id": "93a5de69-e632-4465-a30c-f152eae8a4e9",
   "metadata": {},
   "outputs": [],
   "source": [
    "def plot_mcmc_samples(samples, r, x0, M, C):\n",
    "\n",
    "    plt.rcParams[\"figure.figsize\"]=16,8\n",
    "\n",
    "    plt.subplot(1,2,1)\n",
    "    plt.plot(x0[0], x0[1], 'ro')\n",
    "    plt.scatter(samples[:,0], samples[:,1])\n",
    "    plt.xlim(-20,20)\n",
    "    plt.ylim(-20,20)\n",
    "\n",
    "    plt.subplot(1,2,2)\n",
    "    plt.plot(r)\n",
    "\n",
    "    plt.rcParams[\"figure.figsize\"]=8,8\n",
    "\n",
    "    M_est = jnp.mean(samples, axis = 0)\n",
    "    print(\"Mean error =\", jnp.linalg.norm(M - M_est))\n",
    "\n",
    "    C_est = jnp.cov(samples.transpose())\n",
    "    print(\"Covariance error =\", jnp.linalg.norm(C - C_est)/jnp.linalg.norm(C))"
   ]
  },
  {
   "cell_type": "code",
   "execution_count": 4,
   "id": "297fefcf-12a6-43f2-9aed-2a8d033b29b5",
   "metadata": {},
   "outputs": [],
   "source": [
    "logPi = lambda x : -1/2 * (x-M) @ C_inv @ (x-M) - jnp.log(jnp.sqrt((2*jnp.pi)**k * jnp.linalg.det(C)))\n",
    "gradLogPi = jax.grad(logPi)\n",
    "\n",
    "pi = lambda x : jnp.exp(logPi(x))\n",
    "logPi = jax.jit(logPi)\n",
    "gradLogPi = jax.jit(gradLogPi)"
   ]
  },
  {
   "cell_type": "code",
   "execution_count": 5,
   "id": "76a9ed5c-793b-4475-8ec1-809bb5cbeef9",
   "metadata": {},
   "outputs": [],
   "source": [
    "#logPi(jnp.array([10,20]))\n",
    "#gradLogPi(jnp.array([0.,-5.]))"
   ]
  },
  {
   "cell_type": "code",
   "execution_count": 6,
   "id": "4d23df4d-40f5-4c9e-a78b-2ec3cd5ad1c9",
   "metadata": {},
   "outputs": [],
   "source": [
    "#x = jnp.arange(-20,20)\n",
    "#y = [pi(jnp.array([0,xi])) for xi in x]\n",
    "#plt.plot(x,y)\n",
    "#plt.show\n",
    "#y2 = [pi(jnp.array([xi,0])) for xi in x]\n",
    "#plt.plot(x,y2)\n",
    "#plt.show()\n",
    "#y3 = [logPi(jnp.array([0,xi])) for xi in x]\n",
    "#plt.plot(x,y3)\n",
    "\n",
    "#gradLogPi(jnp.array([0.,-5.]))"
   ]
  },
  {
   "cell_type": "code",
   "execution_count": 7,
   "id": "ddb04d8a-2332-4508-9b79-ade02603b5d7",
   "metadata": {},
   "outputs": [],
   "source": [
    "key = random.PRNGKey(int(jnp.floor(np.random.rand()*1000)))\n",
    "N_samples = 1000\n",
    "x0 = jnp.array(np.random.randn(k))"
   ]
  },
  {
   "cell_type": "markdown",
   "id": "ee2373d8-30b8-4e2d-9aa7-d6eefa7e5a49",
   "metadata": {},
   "source": [
    "### MALA"
   ]
  },
  {
   "cell_type": "code",
   "execution_count": 8,
   "id": "e254998e-c13d-4c14-87af-2fdd3dd5d0ba",
   "metadata": {},
   "outputs": [
    {
     "ename": "TypeError",
     "evalue": "unsupported operand type(s) for *: 'int' and 'CompiledFunction'",
     "output_type": "error",
     "traceback": [
      "\u001b[0;31m---------------------------------------------------------------------------\u001b[0m",
      "\u001b[0;31mTypeError\u001b[0m                                 Traceback (most recent call last)",
      "Input \u001b[0;32mIn [8]\u001b[0m, in \u001b[0;36m<module>\u001b[0;34m\u001b[0m\n\u001b[1;32m      1\u001b[0m proposal_params_mala \u001b[38;5;241m=\u001b[39m {\u001b[38;5;124m\"\u001b[39m\u001b[38;5;124mtau\u001b[39m\u001b[38;5;124m\"\u001b[39m : \u001b[38;5;241m0.01\u001b[39m}\n\u001b[0;32m----> 3\u001b[0m x_mean_mala, r_mala, samples_mala \u001b[38;5;241m=\u001b[39m \u001b[43mmcmc\u001b[49m\u001b[43m(\u001b[49m\u001b[43mkey\u001b[49m\u001b[43m,\u001b[49m\u001b[43m \u001b[49m\u001b[43mN_samples\u001b[49m\u001b[43m,\u001b[49m\u001b[43m \u001b[49m\u001b[43mproposal_mala\u001b[49m\u001b[43m,\u001b[49m\u001b[43m \u001b[49m\u001b[43mlogPi\u001b[49m\u001b[43m,\u001b[49m\u001b[43m \u001b[49m\u001b[43mgradLogPi\u001b[49m\u001b[43m,\u001b[49m\u001b[43m \u001b[49m\u001b[43mx0\u001b[49m\u001b[43m,\u001b[49m\u001b[43m \u001b[49m\u001b[43mproposal_params_mala\u001b[49m\u001b[43m,\u001b[49m\u001b[43m \u001b[49m\u001b[38;5;241;43m1\u001b[39;49m\u001b[43m)\u001b[49m\n",
      "File \u001b[0;32m/gpfs/loomis/project/lederman/bt387/simple_cryoem/src/algorithm.py:348\u001b[0m, in \u001b[0;36mmcmc\u001b[0;34m(key, proposal_func, x0, N_samples, proposal_params, N_batch, save_samples, verbose)\u001b[0m\n\u001b[1;32m    303\u001b[0m \u001b[38;5;28;01mdef\u001b[39;00m \u001b[38;5;21mmcmc\u001b[39m(key, proposal_func, x0, N_samples, proposal_params, N_batch \u001b[38;5;241m=\u001b[39m \u001b[38;5;241m1\u001b[39m, save_samples \u001b[38;5;241m=\u001b[39m \u001b[38;5;241m-\u001b[39m\u001b[38;5;241m1\u001b[39m, verbose \u001b[38;5;241m=\u001b[39m \u001b[38;5;28;01mTrue\u001b[39;00m):\n\u001b[1;32m    304\u001b[0m     \u001b[38;5;124;03m\"\"\"Generic code for MCMC sampling.\u001b[39;00m\n\u001b[1;32m    305\u001b[0m \n\u001b[1;32m    306\u001b[0m \u001b[38;5;124;03m    Parameters:\u001b[39;00m\n\u001b[0;32m   (...)\u001b[0m\n\u001b[1;32m    344\u001b[0m \u001b[38;5;124;03m        The array of saved samples. Empty if save_samples = -1.\u001b[39;00m\n\u001b[1;32m    345\u001b[0m \u001b[38;5;124;03m    \"\"\"\u001b[39;00m \n\u001b[0;32m--> 348\u001b[0m     key, \u001b[38;5;241m*\u001b[39mkeys \u001b[38;5;241m=\u001b[39m random\u001b[38;5;241m.\u001b[39msplit(key, \u001b[38;5;241;43m2\u001b[39;49m\u001b[38;5;241;43m*\u001b[39;49m\u001b[43mN_samples\u001b[49m\u001b[38;5;241m+\u001b[39m\u001b[38;5;241m1\u001b[39m)\n\u001b[1;32m    350\u001b[0m     r_samples \u001b[38;5;241m=\u001b[39m []\n\u001b[1;32m    351\u001b[0m     samples \u001b[38;5;241m=\u001b[39m []\n",
      "\u001b[0;31mTypeError\u001b[0m: unsupported operand type(s) for *: 'int' and 'CompiledFunction'"
     ]
    }
   ],
   "source": [
    "proposal_params_mala = {\"tau\" : 0.01}\n",
    "\n",
    "x_mean_mala, r_mala, samples_mala = mcmc(key, N_samples, proposal_mala, logPi, gradLogPi, x0, proposal_params_mala, 1)"
   ]
  },
  {
   "cell_type": "code",
   "execution_count": null,
   "id": "162b88de-f08b-48f1-9cd8-0d336fa10bef",
   "metadata": {},
   "outputs": [],
   "source": [
    "plot_mcmc_samples(samples_mala, r_mala, x0, M, C)"
   ]
  },
  {
   "cell_type": "markdown",
   "id": "3151d102-5dca-4e33-b433-3215f6c98908",
   "metadata": {},
   "source": [
    "### HMC"
   ]
  },
  {
   "cell_type": "code",
   "execution_count": 18,
   "id": "22fe2f37-ed7a-47ae-a1a7-669cb1702c5b",
   "metadata": {},
   "outputs": [],
   "source": [
    "N_samples=100"
   ]
  },
  {
   "cell_type": "code",
   "execution_count": 20,
   "id": "9f30692e-c6c8-4275-b9dd-f9b436da8561",
   "metadata": {},
   "outputs": [
    {
     "name": "stdout",
     "output_type": "stream",
     "text": [
      "  MCMC sample 1, loss = inf, a = 0.0\n",
      "  MCMC sample 2, loss = inf, a = 0.0\n",
      "  MCMC sample 3, loss = inf, a = 0.0\n",
      "  MCMC sample 4, loss = inf, a = 0.0\n",
      "  MCMC sample 5, loss = inf, a = 0.0\n",
      "  MCMC sample 6, loss = inf, a = 0.0\n",
      "  MCMC sample 7, loss = inf, a = 0.0\n",
      "  MCMC sample 8, loss = inf, a = 0.0\n",
      "  MCMC sample 9, loss = inf, a = 0.0\n",
      "  MCMC sample 10, loss = inf, a = 0.0\n",
      "  MCMC sample 11, loss = inf, a = 0.0\n",
      "  MCMC sample 12, loss = inf, a = 0.0\n",
      "  MCMC sample 13, loss = inf, a = 0.0\n",
      "  MCMC sample 14, loss = inf, a = 0.0\n",
      "  MCMC sample 15, loss = inf, a = 0.0\n",
      "  MCMC sample 16, loss = inf, a = 0.0\n",
      "  MCMC sample 17, loss = inf, a = 0.0\n",
      "  MCMC sample 18, loss = inf, a = 0.0\n",
      "  MCMC sample 19, loss = inf, a = 0.0\n",
      "  MCMC sample 20, loss = inf, a = 0.0\n",
      "  MCMC sample 21, loss = inf, a = 0.0\n",
      "  MCMC sample 22, loss = inf, a = 0.0\n",
      "  MCMC sample 23, loss = inf, a = 0.0\n",
      "  MCMC sample 24, loss = inf, a = 0.0\n",
      "  MCMC sample 25, loss = inf, a = 0.0\n",
      "  MCMC sample 26, loss = inf, a = 0.0\n",
      "  MCMC sample 27, loss = inf, a = 0.0\n",
      "  MCMC sample 28, loss = inf, a = 0.0\n",
      "  MCMC sample 29, loss = inf, a = 0.0\n",
      "  MCMC sample 30, loss = inf, a = 0.0\n",
      "  MCMC sample 31, loss = inf, a = 0.0\n",
      "  MCMC sample 32, loss = inf, a = 0.0\n",
      "  MCMC sample 33, loss = inf, a = 0.0\n",
      "  MCMC sample 34, loss = inf, a = 0.0\n",
      "  MCMC sample 35, loss = inf, a = 0.0\n",
      "  MCMC sample 36, loss = inf, a = 0.0\n",
      "  MCMC sample 37, loss = inf, a = 0.0\n",
      "  MCMC sample 38, loss = inf, a = 0.0\n",
      "  MCMC sample 39, loss = inf, a = 0.0\n",
      "  MCMC sample 40, loss = inf, a = 0.0\n",
      "  MCMC sample 41, loss = inf, a = 0.0\n",
      "  MCMC sample 42, loss = inf, a = 0.0\n",
      "  MCMC sample 43, loss = inf, a = 0.0\n",
      "  MCMC sample 44, loss = inf, a = 0.0\n",
      "  MCMC sample 45, loss = inf, a = 0.0\n",
      "  MCMC sample 46, loss = inf, a = 0.0\n",
      "  MCMC sample 47, loss = inf, a = 0.0\n",
      "  MCMC sample 48, loss = inf, a = 0.0\n",
      "  MCMC sample 49, loss = inf, a = 0.0\n",
      "  MCMC sample 50, loss = inf, a = 0.0\n",
      "  MCMC sample 51, loss = inf, a = 0.0\n",
      "  MCMC sample 52, loss = inf, a = 0.0\n",
      "  MCMC sample 53, loss = inf, a = 0.0\n",
      "  MCMC sample 54, loss = inf, a = 0.0\n",
      "  MCMC sample 55, loss = inf, a = 0.0\n",
      "  MCMC sample 56, loss = inf, a = 0.0\n",
      "  MCMC sample 57, loss = inf, a = 0.0\n",
      "  MCMC sample 58, loss = inf, a = 0.0\n",
      "  MCMC sample 59, loss = inf, a = 0.0\n",
      "  MCMC sample 60, loss = inf, a = 0.0\n",
      "  MCMC sample 61, loss = inf, a = 0.0\n",
      "  MCMC sample 62, loss = inf, a = 0.0\n",
      "  MCMC sample 63, loss = inf, a = 0.0\n",
      "  MCMC sample 64, loss = inf, a = 0.0\n",
      "  MCMC sample 65, loss = inf, a = 0.0\n",
      "  MCMC sample 66, loss = inf, a = 0.0\n",
      "  MCMC sample 67, loss = inf, a = 0.0\n",
      "  MCMC sample 68, loss = inf, a = 0.0\n",
      "  MCMC sample 69, loss = inf, a = 0.0\n",
      "  MCMC sample 70, loss = inf, a = 0.0\n",
      "  MCMC sample 71, loss = inf, a = 0.0\n",
      "  MCMC sample 72, loss = inf, a = 0.0\n",
      "  MCMC sample 73, loss = inf, a = 0.0\n",
      "  MCMC sample 74, loss = inf, a = 0.0\n",
      "  MCMC sample 75, loss = inf, a = 0.0\n",
      "  MCMC sample 76, loss = inf, a = 0.0\n",
      "  MCMC sample 77, loss = inf, a = 0.0\n",
      "  MCMC sample 78, loss = inf, a = 0.0\n",
      "  MCMC sample 79, loss = inf, a = 0.0\n",
      "  MCMC sample 80, loss = inf, a = 0.0\n",
      "  MCMC sample 81, loss = inf, a = 0.0\n",
      "  MCMC sample 82, loss = inf, a = 0.0\n",
      "  MCMC sample 83, loss = inf, a = 0.0\n",
      "  MCMC sample 84, loss = inf, a = 0.0\n",
      "  MCMC sample 85, loss = inf, a = 0.0\n",
      "  MCMC sample 86, loss = inf, a = 0.0\n",
      "  MCMC sample 87, loss = inf, a = 0.0\n",
      "  MCMC sample 88, loss = inf, a = 0.0\n",
      "  MCMC sample 89, loss = inf, a = 0.0\n",
      "  MCMC sample 90, loss = inf, a = 0.0\n",
      "  MCMC sample 91, loss = inf, a = 0.0\n",
      "  MCMC sample 92, loss = inf, a = 0.0\n",
      "  MCMC sample 93, loss = inf, a = 0.0\n",
      "  MCMC sample 94, loss = inf, a = 0.0\n",
      "  MCMC sample 95, loss = inf, a = 0.0\n",
      "  MCMC sample 96, loss = inf, a = 0.0\n",
      "  MCMC sample 97, loss = inf, a = 0.0\n",
      "  MCMC sample 98, loss = inf, a = 0.0\n",
      "  MCMC sample 99, loss = inf, a = 0.0\n"
     ]
    }
   ],
   "source": [
    "proposal_params_hmc = {\"dt_list\" : jnp.array([0.0001]), \"L\" : 10, 'logPi' : logPi, 'gradLogPi' : gradLogPi}\n",
    "\n",
    "x_mean_hmc, r_hmc, samples_hmc = mcmc(key, proposal_hmc, x0, N_samples, proposal_params_hmc, save_samples=1)\n"
   ]
  },
  {
   "cell_type": "code",
   "execution_count": 17,
   "id": "f4786017-5a34-4ab4-ac1f-7dc74ecb550b",
   "metadata": {},
   "outputs": [
    {
     "name": "stdout",
     "output_type": "stream",
     "text": [
      "Mean error = 9.358605713318443\n",
      "Covariance error = 1.0\n"
     ]
    },
    {
     "data": {
      "image/png": "[encoded data removed]",
      "text/plain": [
       "<Figure size 1152x576 with 2 Axes>"
      ]
     },
     "metadata": {
      "needs_background": "light"
     },
     "output_type": "display_data"
    }
   ],
   "source": [
    "plot_mcmc_samples(samples_hmc, r_hmc, x0, M, C)"
   ]
  },
  {
   "cell_type": "code",
   "execution_count": null,
   "id": "e7abf4f9-0d11-47c9-ac05-f10d9ece9744",
   "metadata": {},
   "outputs": [],
   "source": [
    "def get_norm_conv(samples, M, C):\n",
    "    norm_m = []\n",
    "    norm_c = []\n",
    "    for i in range(10,N_samples):\n",
    "        if jnp.mod(i,10) == 0:\n",
    "            Merr = jnp.linalg.norm(jnp.mean(samples[:i], axis = 0) - M)\n",
    "            Cerr = jnp.linalg.norm(jnp.cov(samples[:i].transpose()) - C)/jnp.linalg.norm(C)\n",
    "            norm_m.append(Merr)\n",
    "            norm_c.append(Cerr)\n",
    "\n",
    "    norm_m = jnp.array(norm_m)\n",
    "    norm_c = jnp.array(norm_c)\n",
    "    return norm_m, norm_c"
   ]
  },
  {
   "cell_type": "code",
   "execution_count": null,
   "id": "7db17160-3042-4a5b-bc6f-6f54f4449550",
   "metadata": {},
   "outputs": [],
   "source": [
    "norm_m_hmc, norm_c_hmc = get_norm_conv(samples_hmc, M, C)"
   ]
  },
  {
   "cell_type": "code",
   "execution_count": null,
   "id": "13e07491-e9f7-4b2c-b0d1-5d9ffeb6c044",
   "metadata": {},
   "outputs": [],
   "source": [
    "norm_m_mala, norm_c_mala = get_norm_conv(samples_mala, M, C)"
   ]
  },
  {
   "cell_type": "code",
   "execution_count": null,
   "id": "fa636116-cd5d-47db-af03-9061415b0647",
   "metadata": {},
   "outputs": [],
   "source": [
    "xx = []\n",
    "for i in range(10,N_samples):\n",
    "    if jnp.mod(i, 10) == 0:\n",
    "        xx.append(i)\n",
    "xx = jnp.array(xx)\n",
    "yy = 1/jnp.sqrt(xx)"
   ]
  },
  {
   "cell_type": "code",
   "execution_count": null,
   "id": "ecdbbdf0-c75e-4cf9-a9a1-1c98766f4257",
   "metadata": {},
   "outputs": [],
   "source": [
    "plt.semilogy(norm_m_mala)\n",
    "plt.semilogy(norm_m_hmc)\n",
    "plt.semilogy(yy*10)"
   ]
  },
  {
   "cell_type": "code",
   "execution_count": null,
   "id": "46f58584-2ed0-4c0e-a598-be90460195e2",
   "metadata": {},
   "outputs": [],
   "source": [
    "plt.semilogy(norm_c_mala)\n",
    "plt.semilogy(norm_c_hmc)\n",
    "plt.semilogy(yy*15)"
   ]
  }
 ],
 "metadata": {
  "kernelspec": {
   "display_name": "Python 3 (ipykernel)",
   "language": "python",
   "name": "python3"
  },
  "language_info": {
   "codemirror_mode": {
    "name": "ipython",
    "version": 3
   },
   "file_extension": ".py",
   "mimetype": "text/x-python",
   "name": "python",
   "nbconvert_exporter": "python",
   "pygments_lexer": "ipython3",
   "version": "3.10.2"
  }
 },
 "nbformat": 4,
 "nbformat_minor": 5
}
