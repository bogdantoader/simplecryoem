{
 "cells": [
  {
   "cell_type": "markdown",
   "id": "66948a0d-6dfc-450b-beaf-498abcf841f1",
   "metadata": {},
   "source": [
    "# Forward model"
   ]
  },
  {
   "cell_type": "code",
   "execution_count": 55,
   "id": "a574ef07-833c-4ad2-bf84-c5cfe87062c5",
   "metadata": {},
   "outputs": [
    {
     "name": "stdout",
     "output_type": "stream",
     "text": [
      "The autoreload extension is already loaded. To reload it, use:\n",
      "  %reload_ext autoreload\n"
     ]
    }
   ],
   "source": [
    "%load_ext autoreload\n",
    "%autoreload 2\n",
    "import site\n",
    "import sys\n",
    "import time\n",
    "site.addsitedir('..')"
   ]
  },
  {
   "cell_type": "code",
   "execution_count": 56,
   "id": "d3958c85-6dca-4668-95aa-06209cca814b",
   "metadata": {},
   "outputs": [],
   "source": [
    "import numpy as np\n",
    "import jax.numpy as jnp\n",
    "from  matplotlib import pyplot as plt\n",
    "from src.utils import spherical_volume, volume_fourier, volume_comp, mip_z\n",
    "from src.projection import project_spatial, project, rotate\n",
    "from src.interpolate import *\n",
    "import jax"
   ]
  },
  {
   "cell_type": "markdown",
   "id": "992a1331-c62b-401c-bdf4-a325e3357b01",
   "metadata": {},
   "source": [
    "### Create volume"
   ]
  },
  {
   "cell_type": "code",
   "execution_count": 60,
   "id": "3d06d396-ce6a-42d9-8453-962e800545bc",
   "metadata": {},
   "outputs": [
    {
     "data": {
      "text/plain": [
       "Text(0.5, 1.0, 'Volume_comp MIP')"
      ]
     },
     "execution_count": 60,
     "metadata": {},
     "output_type": "execute_result"
    },
    {
     "data": {
      "image/png": "[encoded data removed]",
      "text/plain": [
       "<Figure size 432x288 with 2 Axes>"
      ]
     },
     "metadata": {
      "needs_background": "light"
     },
     "output_type": "display_data"
    }
   ],
   "source": [
    "shape = np.array([129,129,129])\n",
    "dimensions = np.array([20,20,20])\n",
    "\n",
    "# A volume with components\n",
    "centres = np.array([[0,0,0], [2, 2, 0], [2, -2, 0]])\n",
    "radii = np.array([2, 1, 1])\n",
    "intensities = np.array([10,7,20])\n",
    "\n",
    "v = jnp.array(volume_comp(shape, dimensions, centres, radii, intensities, True))\n",
    "\n",
    "mip_z(v)\n",
    "#plt.imshow(v[:,:,int(np.floor(v.shape[2]/2))])\n",
    "plt.colorbar()\n",
    "plt.title('Volume_comp MIP')"
   ]
  },
  {
   "cell_type": "code",
   "execution_count": 64,
   "id": "b0d0ad52-9644-4165-8c03-2c496ce2b689",
   "metadata": {},
   "outputs": [
    {
     "name": "stdout",
     "output_type": "stream",
     "text": [
      "0.23797297477722168\n"
     ]
    },
    {
     "data": {
      "text/plain": [
       "Text(0.5, 1.0, 'Vol FFT slice')"
      ]
     },
     "execution_count": 64,
     "metadata": {},
     "output_type": "execute_result"
    },
    {
     "data": {
      "image/png": "[encoded data removed]",
      "text/plain": [
       "<Figure size 432x288 with 2 Axes>"
      ]
     },
     "metadata": {
      "needs_background": "light"
     },
     "output_type": "display_data"
    }
   ],
   "source": [
    "angles = jnp.array([0,0,0])\n",
    "\n",
    "start = time.time()\n",
    "v_slice = project_spatial(v, angles, dimensions)\n",
    "print(time.time()-start)\n",
    "\n",
    "\n",
    "plt.imshow(v_slice); plt.colorbar()\n",
    "plt.title('Vol FFT slice')"
   ]
  },
  {
   "cell_type": "code",
   "execution_count": 65,
   "id": "c97ec064-07cc-4762-bd38-2a41f66e1fac",
   "metadata": {},
   "outputs": [],
   "source": [
    "@jax.jit\n",
    "def slice_func(angles):\n",
    "    return project_spatial(v, angles, dimensions)\n",
    "\n",
    "@jax.jit\n",
    "def slice_func_array(angles):\n",
    "    return jnp.apply_along_axis(slice_func, 1, angles)"
   ]
  },
  {
   "cell_type": "code",
   "execution_count": 68,
   "id": "551d26be-11c5-4ac7-83fe-0da6b6361003",
   "metadata": {},
   "outputs": [
    {
     "name": "stdout",
     "output_type": "stream",
     "text": [
      "0.042236328125\n",
      "0.043715715408325195\n"
     ]
    }
   ],
   "source": [
    "angles = jnp.array([np.pi,np.pi/3*2,np.pi/4])\n",
    "\n",
    "start = time.time()\n",
    "s1 = slice_func(angles)\n",
    "print(time.time()-start)\n",
    "\n",
    "start = time.time()\n",
    "s2 = slice_func_array(jnp.array([angles]))\n",
    "print(time.time()-start)"
   ]
  },
  {
   "cell_type": "code",
   "execution_count": 73,
   "id": "ee7b1389-fe58-48d8-9515-00606973a57f",
   "metadata": {},
   "outputs": [
    {
     "name": "stdout",
     "output_type": "stream",
     "text": [
      "0.11588001251220703\n",
      "(100, 3)\n",
      "(100, 129, 129)\n"
     ]
    }
   ],
   "source": [
    "angles_true = jnp.array(np.random.rand(100,3))*jnp.pi*2\n",
    "start = time.time()\n",
    "imgs = slice_func_array(angles_true)\n",
    "print(time.time()-start)\n",
    "\n",
    "print(angles_true.shape)\n",
    "print(imgs.shape)"
   ]
  },
  {
   "cell_type": "code",
   "execution_count": 74,
   "id": "c2891fd0-33ee-4107-b4fe-050a686cba13",
   "metadata": {},
   "outputs": [],
   "source": [
    "@jax.jit\n",
    "def loss_func(a, img):\n",
    "    return 1/(2* 16641) * jnp.sum((slice_func(a) - img)**2)\n",
    "\n",
    "@jax.jit \n",
    "def loss_func_array(a, imgs):\n",
    "    return jax.vmap(loss_func, in_axes = (0,0))(a, imgs)\n",
    "\n",
    "@jax.jit\n",
    "def dloss_array(a, imgs):\n",
    "    return jax.vmap(jax.grad(loss_func))(a, imgs)\n"
   ]
  },
  {
   "cell_type": "code",
   "execution_count": 78,
   "id": "9182900b-6d15-4bff-89b0-3c08887f0753",
   "metadata": {},
   "outputs": [
    {
     "name": "stdout",
     "output_type": "stream",
     "text": [
      "0.11788702011108398\n",
      "0.0\n"
     ]
    }
   ],
   "source": [
    "start = time.time()\n",
    "l = loss_func_array(angles_true, imgs)\n",
    "print(time.time()-start)\n",
    "print(jnp.max(jnp.abs(l)))"
   ]
  },
  {
   "cell_type": "code",
   "execution_count": 82,
   "id": "a2990803-aa1e-4270-b82e-7390878d5083",
   "metadata": {},
   "outputs": [
    {
     "name": "stdout",
     "output_type": "stream",
     "text": [
      "0.23788118362426758\n",
      "0.0\n"
     ]
    }
   ],
   "source": [
    "start = time.time()\n",
    "dl = dloss_array(angles_true, imgs)\n",
    "print(time.time()-start)\n",
    "print(jnp.sum(jnp.abs(dl)))"
   ]
  },
  {
   "cell_type": "code",
   "execution_count": 83,
   "id": "2dc3cfdb-3efe-444e-8d2f-1caa15003b38",
   "metadata": {},
   "outputs": [
    {
     "name": "stdout",
     "output_type": "stream",
     "text": [
      "0: loss = 0.042730197\n",
      "1: loss = 0.0394783\n",
      "2: loss = 0.036458585\n",
      "3: loss = 0.033668652\n",
      "4: loss = 0.031108065\n",
      "5: loss = 0.028770084\n",
      "6: loss = 0.026634807\n",
      "7: loss = 0.024691159\n",
      "8: loss = 0.022916984\n",
      "9: loss = 0.021291064\n",
      "10: loss = 0.019806778\n",
      "11: loss = 0.018434616\n",
      "12: loss = 0.0171805\n",
      "13: loss = 0.016036099\n",
      "14: loss = 0.014985656\n",
      "15: loss = 0.014028452\n",
      "16: loss = 0.013155384\n",
      "17: loss = 0.012361431\n",
      "18: loss = 0.0116285775\n",
      "19: loss = 0.010958388\n"
     ]
    }
   ],
   "source": [
    "#a0 = jnp.array(np.random.rand(100,3))*jnp.pi*2\n",
    "a0 = jnp.array(angles_true + 0.1 * np.random.randn(100,3))\n",
    "alpha = 0.01\n",
    "a = a0\n",
    "iters = 20\n",
    "for i in range(iters):\n",
    "    #if np.mod(i,100) == 0:\n",
    "        #print(i)\n",
    "    print(str(i) + \": loss = \" + str(jnp.mean(loss_func_array(a, imgs))))\n",
    "\n",
    "    a = a - alpha * dloss_array(a, imgs)"
   ]
  },
  {
   "cell_type": "code",
   "execution_count": 84,
   "id": "222fe815-b6bb-4dad-9196-b268f9672a11",
   "metadata": {},
   "outputs": [
    {
     "data": {
      "text/plain": [
       "DeviceArray(0.00276463, dtype=float32)"
      ]
     },
     "execution_count": 84,
     "metadata": {},
     "output_type": "execute_result"
    }
   ],
   "source": [
    "jnp.mean(a - jnp.array(angles_true))"
   ]
  },
  {
   "cell_type": "markdown",
   "id": "e5fa2efd-f470-4ea4-8570-ffe02690893f",
   "metadata": {},
   "source": [
    "## Nearest neighbour interpolation"
   ]
  },
  {
   "cell_type": "code",
   "execution_count": 88,
   "id": "d33bd137-9de6-42c3-8105-5643cf3e2673",
   "metadata": {},
   "outputs": [
    {
     "name": "stdout",
     "output_type": "stream",
     "text": [
      "0.3005681037902832\n"
     ]
    },
    {
     "data": {
      "text/plain": [
       "Text(0.5, 1.0, 'NN')"
      ]
     },
     "execution_count": 88,
     "metadata": {},
     "output_type": "execute_result"
    },
    {
     "data": {
      "image/png": "[encoded data removed]",
      "text/plain": [
       "<Figure size 432x288 with 2 Axes>"
      ]
     },
     "metadata": {
      "needs_background": "light"
     },
     "output_type": "display_data"
    }
   ],
   "source": [
    "start = time.time()\n",
    "slice_nn = project_spatial(v, angles, dimensions, \"nn\")\n",
    "print(time.time()-start)\n",
    "\n",
    "\n",
    "plt.imshow(slice_nn); plt.colorbar()\n",
    "plt.title(\"NN\")"
   ]
  },
  {
   "cell_type": "code",
   "execution_count": null,
   "id": "27c259f6-6bba-46ea-8682-915045b2b256",
   "metadata": {},
   "outputs": [],
   "source": []
  }
 ],
 "metadata": {
  "kernelspec": {
   "display_name": "Python 3 (ipykernel)",
   "language": "python",
   "name": "python3"
  },
  "language_info": {
   "codemirror_mode": {
    "name": "ipython",
    "version": 3
   },
   "file_extension": ".py",
   "mimetype": "text/x-python",
   "name": "python",
   "nbconvert_exporter": "python",
   "pygments_lexer": "ipython3",
   "version": "3.8.8"
  }
 },
 "nbformat": 4,
 "nbformat_minor": 5
}
