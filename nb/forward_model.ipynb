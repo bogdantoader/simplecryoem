{
 "cells": [
  {
   "cell_type": "markdown",
   "id": "66948a0d-6dfc-450b-beaf-498abcf841f1",
   "metadata": {},
   "source": [
    "# Forward model"
   ]
  },
  {
   "cell_type": "code",
   "execution_count": 1,
   "id": "a574ef07-833c-4ad2-bf84-c5cfe87062c5",
   "metadata": {},
   "outputs": [],
   "source": [
    "%load_ext autoreload\n",
    "%autoreload 2\n",
    "import site\n",
    "import sys\n",
    "import time\n",
    "site.addsitedir('..')"
   ]
  },
  {
   "cell_type": "code",
   "execution_count": 16,
   "id": "d3958c85-6dca-4668-95aa-06209cca814b",
   "metadata": {},
   "outputs": [],
   "source": [
    "import numpy as np\n",
    "import jax.numpy as jnp\n",
    "from  matplotlib import pyplot as plt\n",
    "from src.utils import spherical_volume, volume_fourier, volume_comp, mip_z\n",
    "from src.projection import project_spatial, project, rotate\n",
    "from src.interpolate import *\n",
    "import jax"
   ]
  },
  {
   "cell_type": "markdown",
   "id": "992a1331-c62b-401c-bdf4-a325e3357b01",
   "metadata": {},
   "source": [
    "### Create volume"
   ]
  },
  {
   "cell_type": "code",
   "execution_count": 6,
   "id": "3d06d396-ce6a-42d9-8453-962e800545bc",
   "metadata": {},
   "outputs": [
    {
     "name": "stderr",
     "output_type": "stream",
     "text": [
      "WARNING:absl:No GPU/TPU found, falling back to CPU. (Set TF_CPP_MIN_LOG_LEVEL=0 and rerun for more info.)\n"
     ]
    },
    {
     "data": {
      "text/plain": [
       "Text(0.5, 1.0, 'Volume_comp MIP')"
      ]
     },
     "execution_count": 6,
     "metadata": {},
     "output_type": "execute_result"
    },
    {
     "data": {
      "image/png": "[encoded data removed]",
      "text/plain": [
       "<Figure size 432x288 with 2 Axes>"
      ]
     },
     "metadata": {
      "needs_background": "light"
     },
     "output_type": "display_data"
    }
   ],
   "source": [
    "shape = np.array([129,129,129])\n",
    "dimensions = np.array([20,20,20])\n",
    "\n",
    "# A volume with components\n",
    "centres = np.array([[0,0,0], [2, 2, 0], [2, -2, 0]])\n",
    "radii = np.array([2, 1, 1])\n",
    "intensities = np.array([10,7,20])\n",
    "\n",
    "v = jnp.array(volume_comp(shape, dimensions, centres, radii, intensities, True))\n",
    "\n",
    "mip_z(v)\n",
    "#plt.imshow(v[:,:,int(np.floor(v.shape[2]/2))])\n",
    "plt.colorbar()\n",
    "plt.title('Volume_comp MIP')"
   ]
  },
  {
   "cell_type": "code",
   "execution_count": 9,
   "id": "b0d0ad52-9644-4165-8c03-2c496ce2b689",
   "metadata": {},
   "outputs": [
    {
     "data": {
      "text/plain": [
       "Text(0.5, 1.0, 'Vol FFT slice')"
      ]
     },
     "execution_count": 9,
     "metadata": {},
     "output_type": "execute_result"
    },
    {
     "data": {
      "image/png": "[encoded data removed]",
      "text/plain": [
       "<Figure size 432x288 with 2 Axes>"
      ]
     },
     "metadata": {
      "needs_background": "light"
     },
     "output_type": "display_data"
    }
   ],
   "source": [
    "angles = jnp.array([0,0,0])\n",
    "\n",
    "v_slice = project_spatial(v, angles, dimensions)\n",
    "\n",
    "plt.imshow(v_slice); plt.colorbar()\n",
    "plt.title('Vol FFT slice')"
   ]
  },
  {
   "cell_type": "code",
   "execution_count": 99,
   "id": "c97ec064-07cc-4762-bd38-2a41f66e1fac",
   "metadata": {},
   "outputs": [],
   "source": [
    "@jax.jit\n",
    "def slice_func(angles):\n",
    "    return project_spatial(v, angles, dimensions)\n",
    "\n",
    "@jax.jit\n",
    "def slice_func_array(angles):\n",
    "    return jnp.apply_along_axis(slice_func, 1, angles)"
   ]
  },
  {
   "cell_type": "code",
   "execution_count": 115,
   "id": "551d26be-11c5-4ac7-83fe-0da6b6361003",
   "metadata": {},
   "outputs": [
    {
     "name": "stdout",
     "output_type": "stream",
     "text": [
      "0.04290294647216797\n",
      "0.036041259765625\n"
     ]
    }
   ],
   "source": [
    "angles = jnp.array([np.pi,np.pi/3*2,np.pi/4])\n",
    "\n",
    "start = time.time()\n",
    "s1 = slice_func(angles)\n",
    "print(time.time()-start)\n",
    "\n",
    "start = time.time()\n",
    "s2 = slice_func_array(jnp.array([angles]))\n",
    "print(time.time()-start)\n",
    "\n",
    "#plt.imshow(slice_tri); plt.colorbar()\n",
    "#plt.title(\"Tri\")"
   ]
  },
  {
   "cell_type": "code",
   "execution_count": 224,
   "id": "ee7b1389-fe58-48d8-9515-00606973a57f",
   "metadata": {},
   "outputs": [
    {
     "name": "stdout",
     "output_type": "stream",
     "text": [
      "0.8077371120452881\n"
     ]
    },
    {
     "data": {
      "text/plain": [
       "(1000, 129, 129)"
      ]
     },
     "execution_count": 224,
     "metadata": {},
     "output_type": "execute_result"
    }
   ],
   "source": [
    "angles_true = jnp.array(np.random.rand(1000,3))*jnp.pi*2\n",
    "start = time.time()\n",
    "imgs = slice_func_array(angles_true)\n",
    "print(time.time()-start)\n",
    "\n",
    "imgs.shape"
   ]
  },
  {
   "cell_type": "code",
   "execution_count": 235,
   "id": "c2891fd0-33ee-4107-b4fe-050a686cba13",
   "metadata": {},
   "outputs": [],
   "source": [
    "@jax.jit\n",
    "def loss_func(a):\n",
    "    return 1/(2* 16641) * jnp.sum((slice_func(a) - img1)**2)\n",
    "\n",
    "def loss_func_array(a):\n",
    "    return 1/(2 * 16641000) * jnp.sum((slice_func_array(a) - imgs)**2)\n",
    "\n",
    "dloss = jax.jit(jax.grad(loss_func_array))"
   ]
  },
  {
   "cell_type": "code",
   "execution_count": 238,
   "id": "10b4e392-8547-48f5-975b-4e8588c92b0f",
   "metadata": {},
   "outputs": [
    {
     "data": {
      "text/plain": [
       "(1000, 3)"
      ]
     },
     "execution_count": 238,
     "metadata": {},
     "output_type": "execute_result"
    }
   ],
   "source": [
    "dloss(angles).shape"
   ]
  },
  {
   "cell_type": "code",
   "execution_count": 245,
   "id": "9182900b-6d15-4bff-89b0-3c08887f0753",
   "metadata": {},
   "outputs": [
    {
     "name": "stdout",
     "output_type": "stream",
     "text": [
      "0.764664888381958\n"
     ]
    }
   ],
   "source": [
    "start = time.time()\n",
    "loss_func_array(angles_true)\n",
    "print(time.time()-start)"
   ]
  },
  {
   "cell_type": "code",
   "execution_count": 192,
   "id": "a2990803-aa1e-4270-b82e-7390878d5083",
   "metadata": {},
   "outputs": [
    {
     "name": "stdout",
     "output_type": "stream",
     "text": [
      "0.04979109764099121\n"
     ]
    }
   ],
   "source": [
    "start = time.time()\n",
    "dloss(a_true)\n",
    "print(time.time()-start)"
   ]
  },
  {
   "cell_type": "code",
   "execution_count": 249,
   "id": "2dc3cfdb-3efe-444e-8d2f-1caa15003b38",
   "metadata": {},
   "outputs": [
    {
     "name": "stdout",
     "output_type": "stream",
     "text": [
      "0: loss = 23.168457\n",
      "1: loss = 22.154924\n",
      "2: loss = 21.175106\n",
      "3: loss = 20.228867\n",
      "4: loss = 19.317863\n",
      "5: loss = 18.442732\n",
      "6: loss = 17.602806\n",
      "7: loss = 16.796654\n",
      "8: loss = 16.024374\n",
      "9: loss = 15.28665\n",
      "10: loss = 14.581525\n",
      "11: loss = 13.909179\n",
      "12: loss = 13.267787\n",
      "13: loss = 12.658485\n",
      "14: loss = 12.080671\n",
      "15: loss = 11.531331\n",
      "16: loss = 11.011856\n",
      "17: loss = 10.520184\n",
      "18: loss = 10.055932\n",
      "19: loss = 9.616282\n",
      "20: loss = 9.201259\n",
      "21: loss = 8.809671\n",
      "22: loss = 8.43987\n",
      "23: loss = 8.0911255\n",
      "24: loss = 7.761413\n",
      "25: loss = 7.450158\n",
      "26: loss = 7.155644\n",
      "27: loss = 6.8768477\n",
      "28: loss = 6.612956\n",
      "29: loss = 6.363284\n",
      "30: loss = 6.1266713\n",
      "31: loss = 5.902341\n",
      "32: loss = 5.689223\n",
      "33: loss = 5.4871893\n",
      "34: loss = 5.2950783\n",
      "35: loss = 5.11203\n",
      "36: loss = 4.938466\n",
      "37: loss = 4.773885\n",
      "38: loss = 4.6174536\n",
      "39: loss = 4.4684596\n",
      "40: loss = 4.327147\n",
      "41: loss = 4.1920877\n",
      "42: loss = 4.063613\n",
      "43: loss = 3.9418795\n",
      "44: loss = 3.8256502\n",
      "45: loss = 3.7149315\n",
      "46: loss = 3.6094193\n",
      "47: loss = 3.5086865\n",
      "48: loss = 3.4122586\n",
      "49: loss = 3.3208182\n",
      "50: loss = 3.2333386\n",
      "51: loss = 3.1491234\n",
      "52: loss = 3.0687575\n",
      "53: loss = 2.9924927\n",
      "54: loss = 2.9194305\n",
      "55: loss = 2.8488889\n",
      "56: loss = 2.7821217\n",
      "57: loss = 2.717832\n",
      "58: loss = 2.656467\n",
      "59: loss = 2.597417\n",
      "60: loss = 2.5409153\n",
      "61: loss = 2.486714\n",
      "62: loss = 2.4345486\n",
      "63: loss = 2.3842719\n",
      "64: loss = 2.336074\n",
      "65: loss = 2.2896764\n",
      "66: loss = 2.2451532\n",
      "67: loss = 2.2024448\n",
      "68: loss = 2.1613045\n",
      "69: loss = 2.1219127\n",
      "70: loss = 2.0837212\n",
      "71: loss = 2.0471535\n",
      "72: loss = 2.0116045\n",
      "73: loss = 1.9776512\n",
      "74: loss = 1.9447643\n",
      "75: loss = 1.9127798\n",
      "76: loss = 1.8819505\n",
      "77: loss = 1.852173\n",
      "78: loss = 1.8234335\n",
      "79: loss = 1.7956054\n",
      "80: loss = 1.7686799\n",
      "81: loss = 1.7424309\n",
      "82: loss = 1.7170815\n",
      "83: loss = 1.6923854\n",
      "84: loss = 1.6686746\n",
      "85: loss = 1.6455554\n",
      "86: loss = 1.6231138\n",
      "87: loss = 1.601128\n",
      "88: loss = 1.5798582\n",
      "89: loss = 1.5592533\n",
      "90: loss = 1.5391071\n",
      "91: loss = 1.5196248\n",
      "92: loss = 1.5005373\n",
      "93: loss = 1.4821589\n",
      "94: loss = 1.463802\n",
      "95: loss = 1.4462074\n",
      "96: loss = 1.4289778\n",
      "97: loss = 1.4120693\n",
      "98: loss = 1.395702\n",
      "99: loss = 1.379516\n"
     ]
    }
   ],
   "source": [
    "#a0 = jnp.array(np.random.rand(1000,3))*jnp.pi*2\n",
    "a0 = jnp.array(angles_true) + 0.1\n",
    "alpha = 0.01\n",
    "a = a0\n",
    "iters = 100\n",
    "for i in range(iters):\n",
    "    #if np.mod(i,100) == 0:\n",
    "        #print(i)\n",
    "    print(str(i) + \": loss = \" + str(loss_func_array(a)))\n",
    "\n",
    "    a = a - alpha * dloss(a)"
   ]
  },
  {
   "cell_type": "code",
   "execution_count": 216,
   "id": "222fe815-b6bb-4dad-9196-b268f9672a11",
   "metadata": {},
   "outputs": [
    {
     "data": {
      "text/plain": [
       "DeviceArray([ 5.8412552e-05,  9.0599060e-06, -5.9604645e-05], dtype=float32)"
      ]
     },
     "execution_count": 216,
     "metadata": {},
     "output_type": "execute_result"
    }
   ],
   "source": [
    "a - jnp.array(a_true)"
   ]
  },
  {
   "cell_type": "markdown",
   "id": "e5fa2efd-f470-4ea4-8570-ffe02690893f",
   "metadata": {},
   "source": [
    "## Nearest neighbour interpolation doesn't work yet with JAX"
   ]
  },
  {
   "cell_type": "code",
   "execution_count": 121,
   "id": "d33bd137-9de6-42c3-8105-5643cf3e2673",
   "metadata": {},
   "outputs": [
    {
     "name": "stdout",
     "output_type": "stream",
     "text": [
      "3.1948089599609375e-05\n"
     ]
    },
    {
     "data": {
      "text/plain": [
       "Text(0.5, 1.0, 'NN')"
      ]
     },
     "execution_count": 121,
     "metadata": {},
     "output_type": "execute_result"
    },
    {
     "data": {
      "image/png": "[encoded data removed]",
      "text/plain": [
       "<Figure size 432x288 with 1 Axes>"
      ]
     },
     "metadata": {
      "needs_background": "light"
     },
     "output_type": "display_data"
    }
   ],
   "source": [
    "start = time.time()\n",
    "slice_nn = project_spatial(v, angles, dimensions, \"nn\")\n",
    "print(time.time()-start)\n",
    "\n",
    "\n",
    "plt.imshow(slice_nn); plt.colorbar()\n",
    "plt.title(\"NN\")"
   ]
  },
  {
   "cell_type": "code",
   "execution_count": null,
   "id": "8986b790-39dc-4a70-8dec-2407acee08de",
   "metadata": {},
   "outputs": [],
   "source": []
  }
 ],
 "metadata": {
  "kernelspec": {
   "display_name": "Python 3 (ipykernel)",
   "language": "python",
   "name": "python3"
  },
  "language_info": {
   "codemirror_mode": {
    "name": "ipython",
    "version": 3
   },
   "file_extension": ".py",
   "mimetype": "text/x-python",
   "name": "python",
   "nbconvert_exporter": "python",
   "pygments_lexer": "ipython3",
   "version": "3.8.8"
  }
 },
 "nbformat": 4,
 "nbformat_minor": 5
}
