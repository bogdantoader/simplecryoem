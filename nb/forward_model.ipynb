{
 "cells": [
  {
   "cell_type": "markdown",
   "id": "66948a0d-6dfc-450b-beaf-498abcf841f1",
   "metadata": {},
   "source": [
    "# Forward model"
   ]
  },
  {
   "cell_type": "code",
   "execution_count": 151,
   "id": "a574ef07-833c-4ad2-bf84-c5cfe87062c5",
   "metadata": {},
   "outputs": [
    {
     "name": "stdout",
     "output_type": "stream",
     "text": [
      "The autoreload extension is already loaded. To reload it, use:\n",
      "  %reload_ext autoreload\n"
     ]
    }
   ],
   "source": [
    "%load_ext autoreload\n",
    "%autoreload 2\n",
    "import site\n",
    "import sys\n",
    "import time\n",
    "site.addsitedir('..')"
   ]
  },
  {
   "cell_type": "code",
   "execution_count": 152,
   "id": "d3958c85-6dca-4668-95aa-06209cca814b",
   "metadata": {},
   "outputs": [],
   "source": [
    "import numpy as np\n",
    "import jax.numpy as jnp\n",
    "from  matplotlib import pyplot as plt\n",
    "from src.utils import spherical_volume, volume_fourier, volume_comp, mip_z\n",
    "from src.projection import project_spatial, project, rotate\n",
    "from src.interpolate import *\n",
    "import jax"
   ]
  },
  {
   "cell_type": "markdown",
   "id": "992a1331-c62b-401c-bdf4-a325e3357b01",
   "metadata": {},
   "source": [
    "### Create volume"
   ]
  },
  {
   "cell_type": "code",
   "execution_count": 153,
   "id": "3d06d396-ce6a-42d9-8453-962e800545bc",
   "metadata": {},
   "outputs": [
    {
     "data": {
      "text/plain": [
       "Text(0.5, 1.0, 'Volume_comp MIP')"
      ]
     },
     "execution_count": 153,
     "metadata": {},
     "output_type": "execute_result"
    },
    {
     "data": {
      "image/png": "[encoded data removed]",
      "text/plain": [
       "<Figure size 432x288 with 2 Axes>"
      ]
     },
     "metadata": {
      "needs_background": "light"
     },
     "output_type": "display_data"
    }
   ],
   "source": [
    "shape = np.array([129,129,129])\n",
    "dimensions = np.array([20,20,20])\n",
    "\n",
    "# A volume with components\n",
    "centres = np.array([[0,0,0], [2, 2, 0], [2, -2, 0]])\n",
    "radii = np.array([2, 1, 1])\n",
    "intensities = np.array([10,7,20])\n",
    "\n",
    "v = jnp.array(volume_comp(shape, dimensions, centres, radii, intensities, True))\n",
    "\n",
    "mip_z(v)\n",
    "#plt.imshow(v[:,:,int(np.floor(v.shape[2]/2))])\n",
    "plt.colorbar()\n",
    "plt.title('Volume_comp MIP')"
   ]
  },
  {
   "cell_type": "code",
   "execution_count": 154,
   "id": "b0d0ad52-9644-4165-8c03-2c496ce2b689",
   "metadata": {},
   "outputs": [
    {
     "data": {
      "text/plain": [
       "Text(0.5, 1.0, 'Vol FFT slice')"
      ]
     },
     "execution_count": 154,
     "metadata": {},
     "output_type": "execute_result"
    },
    {
     "data": {
      "image/png": "[encoded data removed]",
      "text/plain": [
       "<Figure size 432x288 with 2 Axes>"
      ]
     },
     "metadata": {
      "needs_background": "light"
     },
     "output_type": "display_data"
    }
   ],
   "source": [
    "angles = jnp.array([0,0,0])\n",
    "\n",
    "v_slice = project_spatial(v, angles, dimensions)\n",
    "\n",
    "plt.imshow(v_slice); plt.colorbar()\n",
    "plt.title('Vol FFT slice')"
   ]
  },
  {
   "cell_type": "code",
   "execution_count": 155,
   "id": "c97ec064-07cc-4762-bd38-2a41f66e1fac",
   "metadata": {},
   "outputs": [],
   "source": [
    "@jax.jit\n",
    "def slice_func(angles):\n",
    "    return project_spatial(v, angles, dimensions)\n",
    "\n",
    "@jax.jit\n",
    "def slice_func_array(angles):\n",
    "    return jnp.apply_along_axis(slice_func, 1, angles)"
   ]
  },
  {
   "cell_type": "code",
   "execution_count": 157,
   "id": "551d26be-11c5-4ac7-83fe-0da6b6361003",
   "metadata": {},
   "outputs": [
    {
     "name": "stdout",
     "output_type": "stream",
     "text": [
      "0.07115912437438965\n",
      "0.05743265151977539\n"
     ]
    }
   ],
   "source": [
    "angles = jnp.array([np.pi,np.pi/3*2,np.pi/4])\n",
    "\n",
    "start = time.time()\n",
    "s1 = slice_func(angles)\n",
    "print(time.time()-start)\n",
    "\n",
    "start = time.time()\n",
    "s2 = slice_func_array(jnp.array([angles]))\n",
    "print(time.time()-start)"
   ]
  },
  {
   "cell_type": "code",
   "execution_count": 159,
   "id": "ee7b1389-fe58-48d8-9515-00606973a57f",
   "metadata": {},
   "outputs": [
    {
     "name": "stdout",
     "output_type": "stream",
     "text": [
      "0.21299505233764648\n"
     ]
    },
    {
     "data": {
      "text/plain": [
       "(100, 129, 129)"
      ]
     },
     "execution_count": 159,
     "metadata": {},
     "output_type": "execute_result"
    }
   ],
   "source": [
    "angles_true = jnp.array(np.random.rand(100,3))*jnp.pi*2\n",
    "start = time.time()\n",
    "imgs = slice_func_array(angles_true)\n",
    "print(time.time()-start)\n",
    "\n",
    "imgs.shape"
   ]
  },
  {
   "cell_type": "code",
   "execution_count": 160,
   "id": "c2891fd0-33ee-4107-b4fe-050a686cba13",
   "metadata": {},
   "outputs": [],
   "source": [
    "@jax.jit\n",
    "def loss_func(a):\n",
    "    return 1/(2* 16641) * jnp.sum((slice_func(a) - img1)**2)\n",
    "\n",
    "def loss_func_array(a):\n",
    "    return 1/(2 * 16641 * angles_true.shape[0]) * jnp.sum((slice_func_array(a) - imgs)**2)\n",
    "\n",
    "dloss = jax.jit(jax.grad(loss_func_array))"
   ]
  },
  {
   "cell_type": "code",
   "execution_count": 163,
   "id": "9182900b-6d15-4bff-89b0-3c08887f0753",
   "metadata": {},
   "outputs": [
    {
     "name": "stdout",
     "output_type": "stream",
     "text": [
      "0.24547529220581055\n"
     ]
    }
   ],
   "source": [
    "start = time.time()\n",
    "loss_func_array(angles_true)\n",
    "print(time.time()-start)"
   ]
  },
  {
   "cell_type": "code",
   "execution_count": 164,
   "id": "a2990803-aa1e-4270-b82e-7390878d5083",
   "metadata": {},
   "outputs": [
    {
     "name": "stdout",
     "output_type": "stream",
     "text": [
      "0.4412417411804199\n"
     ]
    }
   ],
   "source": [
    "start = time.time()\n",
    "dloss(angles_true)\n",
    "print(time.time()-start)"
   ]
  },
  {
   "cell_type": "code",
   "execution_count": 169,
   "id": "2dc3cfdb-3efe-444e-8d2f-1caa15003b38",
   "metadata": {},
   "outputs": [
    {
     "name": "stdout",
     "output_type": "stream",
     "text": [
      "0: loss = 21.49718276612256\n",
      "1: loss = 12.777747623547032\n",
      "2: loss = 7.747072292184161\n",
      "3: loss = 5.039004499335535\n",
      "4: loss = 3.52640674075364\n",
      "5: loss = 2.6882011639949615\n",
      "6: loss = 2.1842454448572832\n",
      "7: loss = 1.8467778987812757\n",
      "8: loss = 1.5989674937790697\n",
      "9: loss = 1.4124370060680909\n",
      "10: loss = 1.2660611540184359\n",
      "11: loss = 1.147842545766236\n",
      "12: loss = 1.0516884326626217\n",
      "13: loss = 0.9702219397872782\n",
      "14: loss = 0.9025442639934452\n",
      "15: loss = 0.8446047895331658\n",
      "16: loss = 0.794128470232913\n",
      "17: loss = 0.7498008480034444\n",
      "18: loss = 0.7105851693363342\n",
      "19: loss = 0.6754618779242313\n"
     ]
    }
   ],
   "source": [
    "#a0 = jnp.array(np.random.rand(1000,3))*jnp.pi*2\n",
    "a0 = jnp.array(angles_true) + 0.1\n",
    "alpha = 0.01\n",
    "a = a0\n",
    "iters = 20\n",
    "for i in range(iters):\n",
    "    #if np.mod(i,100) == 0:\n",
    "        #print(i)\n",
    "    print(str(i) + \": loss = \" + str(loss_func_array(a)))\n",
    "\n",
    "    a = a - alpha * dloss(a)"
   ]
  },
  {
   "cell_type": "code",
   "execution_count": 170,
   "id": "222fe815-b6bb-4dad-9196-b268f9672a11",
   "metadata": {},
   "outputs": [
    {
     "data": {
      "text/plain": [
       "DeviceArray(0.11570363, dtype=float64)"
      ]
     },
     "execution_count": 170,
     "metadata": {},
     "output_type": "execute_result"
    }
   ],
   "source": [
    "jnp.max(a - jnp.array(angles_true))"
   ]
  },
  {
   "cell_type": "markdown",
   "id": "e5fa2efd-f470-4ea4-8570-ffe02690893f",
   "metadata": {},
   "source": [
    "## Nearest neighbour interpolation"
   ]
  },
  {
   "cell_type": "code",
   "execution_count": 201,
   "id": "d33bd137-9de6-42c3-8105-5643cf3e2673",
   "metadata": {},
   "outputs": [
    {
     "name": "stdout",
     "output_type": "stream",
     "text": [
      "0.44780898094177246\n"
     ]
    },
    {
     "data": {
      "text/plain": [
       "Text(0.5, 1.0, 'NN')"
      ]
     },
     "execution_count": 201,
     "metadata": {},
     "output_type": "execute_result"
    },
    {
     "data": {
      "image/png": "[encoded data removed]",
      "text/plain": [
       "<Figure size 432x288 with 2 Axes>"
      ]
     },
     "metadata": {
      "needs_background": "light"
     },
     "output_type": "display_data"
    }
   ],
   "source": [
    "start = time.time()\n",
    "slice_nn = project_spatial(v, angles, dimensions, \"nn\")\n",
    "print(time.time()-start)\n",
    "\n",
    "\n",
    "plt.imshow(slice_nn); plt.colorbar()\n",
    "plt.title(\"NN\")"
   ]
  }
 ],
 "metadata": {
  "kernelspec": {
   "display_name": "Python 3 (ipykernel)",
   "language": "python",
   "name": "python3"
  },
  "language_info": {
   "codemirror_mode": {
    "name": "ipython",
    "version": 3
   },
   "file_extension": ".py",
   "mimetype": "text/x-python",
   "name": "python",
   "nbconvert_exporter": "python",
   "pygments_lexer": "ipython3",
   "version": "3.8.8"
  }
 },
 "nbformat": 4,
 "nbformat_minor": 5
}
