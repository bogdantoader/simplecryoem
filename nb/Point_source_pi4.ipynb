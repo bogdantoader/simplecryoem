{
 "cells": [
  {
   "cell_type": "markdown",
   "id": "622c5181-e6a9-471b-9f61-0c92e109a13e",
   "metadata": {},
   "source": [
    "# $\\pi/4$ rotation in the $xy$ plane\n"
   ]
  },
  {
   "cell_type": "code",
   "execution_count": 10,
   "id": "1b00a1fb-a2df-4049-a0c5-fab91220b944",
   "metadata": {},
   "outputs": [
    {
     "name": "stdout",
     "output_type": "stream",
     "text": [
      "The autoreload extension is already loaded. To reload it, use:\n",
      "  %reload_ext autoreload\n"
     ]
    }
   ],
   "source": [
    "%load_ext autoreload\n",
    "%autoreload 2\n",
    "import site\n",
    "import sys\n",
    "site.addsitedir('..')\n",
    "from jax.config import config\n",
    "\n",
    "config.update(\"jax_enable_x64\", True)"
   ]
  },
  {
   "cell_type": "code",
   "execution_count": 11,
   "id": "e4f9c5eb-7277-439e-809c-b83300f5c585",
   "metadata": {},
   "outputs": [],
   "source": [
    "import numpy as np\n",
    "from  matplotlib import pyplot as plt\n",
    "from src.utils import *\n",
    "from src.projection import project_spatial, project, rotate\n",
    "from src.interpolate import *"
   ]
  },
  {
   "cell_type": "code",
   "execution_count": 12,
   "id": "990dbe48-b467-41f9-b34a-c9165b7ea5b7",
   "metadata": {},
   "outputs": [
    {
     "data": {
      "image/png": "[encoded data removed]",
      "text/plain": [
       "<Figure size 432x288 with 2 Axes>"
      ]
     },
     "metadata": {
      "needs_background": "light"
     },
     "output_type": "display_data"
    }
   ],
   "source": [
    "nx = 5\n",
    "shape = np.array([nx, nx, nx])\n",
    "dimensions = np.array([1, 1, 1])\n",
    "radius = 1/(2*nx)\n",
    "centre = np.array([0.2,0,0])\n",
    "intensity = 1\n",
    "\n",
    "v = spherical_volume(shape, dimensions, centre, radius, intensity, False)\n",
    "plt.imshow(v[:,:,2]); plt.colorbar()\n",
    "\n",
    "angles = np.array([0,0,-np.pi/4])"
   ]
  },
  {
   "cell_type": "code",
   "execution_count": 13,
   "id": "778633de-665b-4165-add3-01d6037cc41c",
   "metadata": {},
   "outputs": [
    {
     "data": {
      "text/plain": [
       "<matplotlib.colorbar.Colorbar at 0x7fd81f534640>"
      ]
     },
     "execution_count": 13,
     "metadata": {},
     "output_type": "execute_result"
    },
    {
     "data": {
      "image/png": "[encoded data removed]",
      "text/plain": [
       "<Figure size 432x288 with 2 Axes>"
      ]
     },
     "metadata": {
      "needs_background": "light"
     },
     "output_type": "display_data"
    }
   ],
   "source": [
    "v_proj = project_spatial(v, angles, dimensions, \"nn\")\n",
    "\n",
    "plt.imshow(v_proj); plt.colorbar()"
   ]
  },
  {
   "cell_type": "code",
   "execution_count": 14,
   "id": "2efd8789-7cab-4a57-9da1-f413789ebdb0",
   "metadata": {},
   "outputs": [
    {
     "data": {
      "text/plain": [
       "array([2, 3, 2])"
      ]
     },
     "execution_count": 14,
     "metadata": {},
     "output_type": "execute_result"
    }
   ],
   "source": [
    "point_idx = np.array(list(np.where(v == 1))).flatten()\n",
    "point_idx"
   ]
  },
  {
   "cell_type": "markdown",
   "id": "b1aebb3e-2951-463c-9efd-a6d00bf3053b",
   "metadata": {},
   "source": [
    "### Step by step inside the project function"
   ]
  },
  {
   "cell_type": "code",
   "execution_count": 15,
   "id": "7b279bb3-4f61-4ce8-8c65-0386b627d075",
   "metadata": {},
   "outputs": [],
   "source": [
    "nx = 5\n",
    "shape = np.array([nx, nx, nx])\n",
    "dimensions = np.array([1, 1, 1])\n",
    "radius = 1/(2*nx)\n",
    "centre = np.array([0.2,0,0])\n",
    "intensity = 1\n",
    "\n",
    "v = spherical_volume(shape, dimensions, centre, radius, intensity, False)\n",
    "#plt.imshow(v[:,:,2]); plt.colorbar()\n",
    "\n",
    "v = np.fft.ifftshift(v)\n",
    "\n",
    "V, X, Y, Z, _, _, _ = volume_fourier(v, dimensions)\n",
    "\n",
    "angles = np.array([0,0,-np.pi/4])\n",
    "\n"
   ]
  },
  {
   "cell_type": "code",
   "execution_count": 16,
   "id": "1d85b773-d267-4d32-b1e4-f71bfa9ac180",
   "metadata": {},
   "outputs": [
    {
     "data": {
      "text/plain": [
       "<matplotlib.colorbar.Colorbar at 0x7fd81f4bcb80>"
      ]
     },
     "execution_count": 16,
     "metadata": {},
     "output_type": "execute_result"
    },
    {
     "data": {
      "image/png": "[encoded data removed]",
      "text/plain": [
       "<Figure size 432x288 with 2 Axes>"
      ]
     },
     "metadata": {
      "needs_background": "light"
     },
     "output_type": "display_data"
    }
   ],
   "source": [
    "# Get x_grid, etc\n",
    "x_freq = X[0,:,0]\n",
    "y_freq = Y[:,0,0]\n",
    "z_freq = Z[0,0,:]\n",
    "\n",
    "x_grid = np.array([x_freq[1], len(x_freq)])\n",
    "y_grid = np.array([y_freq[1], len(y_freq)])\n",
    "z_grid = np.array([z_freq[1], len(z_freq)])\n",
    "\n",
    "# Rotate coordinates\n",
    "slice_coords = rotate(x_grid, y_grid, angles)\n",
    "\n",
    "# Interpolate and reshape\n",
    "Vr0_flat = interpolate(slice_coords, x_grid, y_grid, z_grid, V, \"nn\")\n",
    "Vr0 = Vr0_flat.reshape(5,5)\n",
    "\n",
    "# Inverse Fourier transform\n",
    "vr0 = np.real(np.fft.fftshift(np.fft.ifftn(Vr0)))\n",
    "\n",
    "\n",
    "plt.imshow(vr0)\n",
    "plt.colorbar()"
   ]
  },
  {
   "cell_type": "code",
   "execution_count": 17,
   "id": "4423a0e1-94e6-4f98-bc59-01ab430d7c0c",
   "metadata": {},
   "outputs": [
    {
     "data": {
      "text/plain": [
       "DeviceArray(6.9458328e-16, dtype=float64)"
      ]
     },
     "execution_count": 17,
     "metadata": {},
     "output_type": "execute_result"
    }
   ],
   "source": [
    "# Compare with the above approach\n",
    "np.sum(abs(vr0 - v_proj))"
   ]
  },
  {
   "cell_type": "markdown",
   "id": "b66d27ba-6856-4ae1-bb80-de97a05a8e81",
   "metadata": {},
   "source": [
    "## Analytically"
   ]
  },
  {
   "cell_type": "code",
   "execution_count": 18,
   "id": "6939d6c4-89d4-4b98-8dfa-3a15eea371bf",
   "metadata": {},
   "outputs": [],
   "source": [
    "Ky = np.array([[0,0,0,0,0],[1,1,1,1,1],[2,2,2,2,2],[-2,-2,-2,-2,-2],[-1,-1,-1,-1,-1]], dtype=np.float64)\n",
    "Kx = Ky.T"
   ]
  },
  {
   "cell_type": "code",
   "execution_count": 19,
   "id": "8b3495c0-5836-491a-8f69-44e1ee4bb510",
   "metadata": {},
   "outputs": [
    {
     "name": "stdout",
     "output_type": "stream",
     "text": [
      "[[ 0.  1.  2. -2. -1.]\n",
      " [ 0.  1.  2. -2. -1.]\n",
      " [ 0.  1.  2. -2. -1.]\n",
      " [ 0.  1.  2. -2. -1.]\n",
      " [ 0.  1.  2. -2. -1.]]\n",
      "[[ 0.  0.  0.  0.  0.]\n",
      " [ 1.  1.  1.  1.  1.]\n",
      " [ 2.  2.  2.  2.  2.]\n",
      " [-2. -2. -2. -2. -2.]\n",
      " [-1. -1. -1. -1. -1.]]\n"
     ]
    }
   ],
   "source": [
    "print(Kx)\n",
    "print(Ky)"
   ]
  },
  {
   "cell_type": "code",
   "execution_count": 20,
   "id": "949b9601-2d31-4820-97db-edeea5ee1e20",
   "metadata": {},
   "outputs": [
    {
     "name": "stdout",
     "output_type": "stream",
     "text": [
      "[[ 0  1  1 -1 -1]\n",
      " [-1  0  1 -2 -1]\n",
      " [-1 -1  0  2 -2]\n",
      " [ 1  2 -2  0  1]\n",
      " [ 1  1  2 -1  0]]\n",
      "[[ 0  1  1 -1 -1]\n",
      " [ 1  1  2 -1  0]\n",
      " [ 1  2 -2  0  1]\n",
      " [-1 -1  0  2 -2]\n",
      " [-1  0  1 -2 -1]]\n"
     ]
    }
   ],
   "source": [
    "# Construct Kxr and Kyr manually for np.pi/4 rotation and NN interpolation\n",
    "\n",
    "Kxr =np.array([[0,1,1,-1,-1],\n",
    "       [-1,0,1,-2,-1],\n",
    "       [-1,-1,0,2,-2],\n",
    "       [1,2,-2,0,1],\n",
    "       [1,1,2,-1,0]])\n",
    "     \n",
    "Kyr = np.array([[0,1,1,-1,-1],\n",
    "       [1,1,2,-1,0],\n",
    "       [1,2,-2,0,1],\n",
    "       [-1,-1,0,2,-2],\n",
    "       [-1,0,1,-2,-1]])\n",
    "    \n",
    "    \n",
    "print(Kxr)\n",
    "print(Kyr)"
   ]
  },
  {
   "cell_type": "code",
   "execution_count": 21,
   "id": "8513a091-f803-4e4d-a18c-957cbf61798f",
   "metadata": {},
   "outputs": [
    {
     "name": "stdout",
     "output_type": "stream",
     "text": [
      "0\n",
      "1\n"
     ]
    }
   ],
   "source": [
    "# Find the indices (3,2) of the point mass after ifftshift (in the spatial domain)\n",
    "xy_freq = np.array([0, 1, 2, -2, -1])\n",
    "new_idx1 = np.fft.fftshift(xy_freq)[point_idx[0]]\n",
    "new_idx2 = np.fft.fftshift(xy_freq)[point_idx[1]]\n",
    "\n",
    "print(new_idx1)\n",
    "print(new_idx2)"
   ]
  },
  {
   "cell_type": "code",
   "execution_count": 22,
   "id": "99d2e15e-dea8-4cb9-8a49-0a6f3c682faa",
   "metadata": {},
   "outputs": [
    {
     "data": {
      "text/plain": [
       "<matplotlib.colorbar.Colorbar at 0x7fd81f55a460>"
      ]
     },
     "execution_count": 22,
     "metadata": {},
     "output_type": "execute_result"
    },
    {
     "data": {
      "image/png": "[encoded data removed]",
      "text/plain": [
       "<Figure size 432x288 with 2 Axes>"
      ]
     },
     "metadata": {
      "needs_background": "light"
     },
     "output_type": "display_data"
    }
   ],
   "source": [
    "vr0_a = np.zeros([5,5], dtype = np.complex128)\n",
    "for i in range(5):\n",
    "    for j in range(5):\n",
    "        vr0_a[i,j] = 1/25 * np.sum(\n",
    "            np.exp(1j * 2 * np.pi/5* \n",
    "                # When ifftshifted, the indices (3, 2) become (1, 0)\n",
    "                (i * Kx + j * Ky - new_idx1 * Kxr - new_idx2 * Kyr) \n",
    "            )\n",
    "        )\n",
    "\n",
    "vr0_a = np.real(np.fft.fftshift(vr0_a))\n",
    "plt.imshow(vr0_a); plt.colorbar()"
   ]
  },
  {
   "cell_type": "code",
   "execution_count": 23,
   "id": "38403dee-2dad-4737-99a6-c4e248be6293",
   "metadata": {},
   "outputs": [
    {
     "data": {
      "text/plain": [
       "1.1102230246251565e-16"
      ]
     },
     "execution_count": 23,
     "metadata": {},
     "output_type": "execute_result"
    }
   ],
   "source": [
    "# Compare with the numerical result\n",
    "np.max(abs(vr0_a - vr0))"
   ]
  },
  {
   "cell_type": "code",
   "execution_count": null,
   "id": "f23e722a-2664-4c64-b751-39f58d5ee879",
   "metadata": {},
   "outputs": [],
   "source": []
  },
  {
   "cell_type": "code",
   "execution_count": null,
   "id": "e2305c76-3e85-49d8-85f9-427ef320386a",
   "metadata": {},
   "outputs": [],
   "source": []
  }
 ],
 "metadata": {
  "kernelspec": {
   "display_name": "Python 3 (ipykernel)",
   "language": "python",
   "name": "python3"
  },
  "language_info": {
   "codemirror_mode": {
    "name": "ipython",
    "version": 3
   },
   "file_extension": ".py",
   "mimetype": "text/x-python",
   "name": "python",
   "nbconvert_exporter": "python",
   "pygments_lexer": "ipython3",
   "version": "3.8.8"
  }
 },
 "nbformat": 4,
 "nbformat_minor": 5
}
