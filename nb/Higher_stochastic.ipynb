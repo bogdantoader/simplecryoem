{
 "cells": [
  {
   "cell_type": "markdown",
   "id": "9adcce94-7192-441e-9683-bbb65e31c27a",
   "metadata": {},
   "source": [
    "# Second order stochastic methods for CryoEM"
   ]
  },
  {
   "cell_type": "code",
   "execution_count": 1,
   "id": "2abbe3cc-d606-42cb-8a87-88b079f4abc8",
   "metadata": {},
   "outputs": [],
   "source": [
    "%load_ext autoreload\n",
    "%autoreload 2\n",
    "import site\n",
    "import sys\n",
    "import time\n",
    "import pickle\n",
    "site.addsitedir('..')\n",
    "from jax.config import config\n",
    "\n",
    "config.update(\"jax_enable_x64\", True)"
   ]
  },
  {
   "cell_type": "code",
   "execution_count": 480,
   "id": "70edf6b0-fad6-4d1e-82ac-54d478732b02",
   "metadata": {},
   "outputs": [],
   "source": [
    "import jax\n",
    "import mrcfile\n",
    "from jax.scipy.special import gammaln\n",
    "from jax import random\n",
    "\n",
    "import numpy as np\n",
    "import jax.numpy as jnp\n",
    "from  matplotlib import pyplot as plt\n",
    "from src.utils import *\n",
    "from src.projection import *\n",
    "from src.interpolate import *\n",
    "from src.jaxops import *\n",
    "from src.algorithm import sgd, get_sgd_vol_ops\n",
    "from src.algorithm import conjugate_gradient as cg\n",
    "from src.datasets import *\n",
    "from src.noise import estimate_noise, average_radially, estimate_noise_radial\n",
    "from src.preprocess import *\n",
    "from src.fsc import calc_fsc\n",
    "\n",
    "plt.rcParams[\"figure.figsize\"]=6,6"
   ]
  },
  {
   "cell_type": "code",
   "execution_count": null,
   "id": "6568c2d1-797d-41f5-8922-979ce9151f8a",
   "metadata": {},
   "outputs": [],
   "source": [
    "data_dir = \"/gpfs/gibbs/pi/lederman/dge5/CrossValidationCryodrgnSet/\"\n",
    "star_file = \"particles_crossvalidation_train_1.star\"\n",
    "\n",
    "params0, imgs0 = load_data(data_dir, star_file, load_imgs = True, fourier = False)"
   ]
  },
  {
   "cell_type": "code",
   "execution_count": null,
   "id": "83b0531f-868d-424a-bd2b-363dd66b597c",
   "metadata": {},
   "outputs": [],
   "source": [
    "out_dir = out_dir = '../data/out_dev/'"
   ]
  },
  {
   "cell_type": "code",
   "execution_count": null,
   "id": "a109c7d5-532c-41ec-9cf4-40423c457931",
   "metadata": {},
   "outputs": [],
   "source": [
    "nx0 = imgs0.shape[1]\n",
    "nx_crop = 128\n",
    "N = 80000\n",
    "N_px_noise = 48\n",
    "N_imgs_noise=1000\n",
    "\n",
    "processed_data = preprocess(imgs0, params0, out_dir, nx_crop = nx_crop, N = N, N_px_noise = N_px_noise, N_imgs_noise = N_imgs_noise)\n",
    "\n",
    "imgs_f = processed_data[\"imgs_f\"]\n",
    "pixel_size = processed_data[\"pixel_size\"]\n",
    "angles = processed_data[\"angles\"]\n",
    "shifts = processed_data[\"shifts\"]\n",
    "ctf_params = processed_data[\"ctf_params\"]\n",
    "idxrand = processed_data[\"idxrand\"]\n",
    "nx = processed_data[\"nx\"]\n",
    "x_grid = processed_data[\"x_grid\"]\n",
    "mask = processed_data[\"mask\"]\n",
    "sigma_noise = processed_data[\"sigma_noise\"]\n",
    "N = imgs_f.shape[0]"
   ]
  },
  {
   "cell_type": "code",
   "execution_count": null,
   "id": "8f712166-e8f4-4f94-8523-b5adf8addb30",
   "metadata": {},
   "outputs": [],
   "source": [
    "plt.imshow(jnp.fft.fftshift(jnp.abs(imgs_f[2135].reshape([128,128]))));plt.colorbar()"
   ]
  },
  {
   "cell_type": "code",
   "execution_count": null,
   "id": "2c7d5aa0-4f24-49b1-b4ec-a343c065dabe",
   "metadata": {},
   "outputs": [],
   "source": [
    "del(imgs0)"
   ]
  },
  {
   "cell_type": "markdown",
   "id": "3cdc7bca-a144-4276-9f46-8707eadf2acd",
   "metadata": {},
   "source": [
    "### Only volume reconstruction for now - SGD"
   ]
  },
  {
   "cell_type": "markdown",
   "id": "6107db83-89cb-49b7-9ed4-38c589bc594b",
   "metadata": {},
   "source": [
    "Obervations:\n",
    "\n",
    "* The loss and grad don't tell us anything about convergence. The loss is about the same after only 100 iterations and after 10 epochs (of 781 iters each), and yet the result is different"
   ]
  },
  {
   "cell_type": "code",
   "execution_count": null,
   "id": "25674ba2-f439-42aa-84b6-9337cd115c3a",
   "metadata": {},
   "outputs": [],
   "source": [
    "# Apply mask to images\n",
    "mask2d = mask[0].reshape(-1)\n",
    "imgs_f = imgs_f * mask2d"
   ]
  },
  {
   "cell_type": "code",
   "execution_count": null,
   "id": "c50ca3a5-41d6-4728-a278-115e291b0f8e",
   "metadata": {},
   "outputs": [],
   "source": [
    "key = random.PRNGKey(int(jnp.floor(np.random.rand()*1000)))"
   ]
  },
  {
   "cell_type": "code",
   "execution_count": null,
   "id": "7814ad4e-ec4a-497d-8b87-f6610582fb55",
   "metadata": {},
   "outputs": [],
   "source": [
    "alpha = 1e-9\n",
    "\n",
    "slice_obj = Slice(x_grid)\n",
    "loss_obj = Loss(slice_obj, alpha = alpha)\n",
    "gradv_obj = GradV(loss_obj)"
   ]
  },
  {
   "cell_type": "code",
   "execution_count": null,
   "id": "8012f3a5-5494-49dd-8378-441f7b196a07",
   "metadata": {},
   "outputs": [],
   "source": [
    "N_epochs = 20\n",
    "batch_size = 32\n",
    "step_size = 1000000 # 1e-3\n",
    "\n",
    "idxrand = np.random.permutation(N)\n",
    "idx1 = idxrand[:int(N/2)]\n",
    "idx2 = idxrand[int(N/2):]\n",
    "             \n",
    "grad_func1, loss_func1 = get_sgd_vol_ops(gradv_obj, loss_obj, angles[idx1], shifts[idx1], ctf_params[idx1], imgs_f[idx1], sigma_noise)\n",
    "grad_func2, loss_func2 = get_sgd_vol_ops(gradv_obj, loss_obj, angles[idx2], shifts[idx2], ctf_params[idx2], imgs_f[idx2], sigma_noise)\n",
    "\n",
    "key, subkey = random.split(key)\n",
    "x0 = random.normal(subkey, [nx,nx,nx], dtype=jnp.complex128)"
   ]
  },
  {
   "cell_type": "code",
   "execution_count": null,
   "id": "c6070e22-f729-431f-966d-bec1fe905820",
   "metadata": {},
   "outputs": [],
   "source": [
    "v_rec1, loss_rec1, grad_rec1 = sgd(grad_func1, loss_func1, int(N/2), x0, step_size, N_epochs, batch_size, verbose=True, iter_display=1)\n"
   ]
  },
  {
   "cell_type": "code",
   "execution_count": null,
   "id": "1e4d84d3-781c-4608-aa5b-e72766c79fc5",
   "metadata": {},
   "outputs": [],
   "source": [
    "v_rec2, loss_rec2, grad_rec2 = sgd(grad_func2, loss_func2, int(N/2), x0, step_size, N_epochs, batch_size, verbose=True, iter_display=1)\n"
   ]
  },
  {
   "cell_type": "code",
   "execution_count": null,
   "id": "ce5d41c3-633e-46f8-bc68-fedffd243a15",
   "metadata": {},
   "outputs": [],
   "source": [
    "plt.rcParams[\"figure.figsize\"]=12, 12\n",
    "\n",
    "plt.subplot(1,2,1)\n",
    "mip_z(np.fft.fftshift(np.abs(v_rec1))); #plt.colorbar()\n",
    "\n",
    "plt.subplot(1,2,2)\n",
    "mip_z(np.fft.fftshift(np.abs(v_rec2))); #plt.colorbar()"
   ]
  },
  {
   "cell_type": "code",
   "execution_count": null,
   "id": "d0d7877c-3a1a-424e-bc9d-0f23b9101cbc",
   "metadata": {},
   "outputs": [],
   "source": [
    "v_rec_l1, _ = rescale_larger_grid(v_rec1, x_grid, nx0)\n",
    "vr_sgd1 = jnp.real(jnp.fft.fftshift(jnp.fft.ifftn(v_rec_l1)))\n",
    "\n",
    "v_rec_l2, _ = rescale_larger_grid(v_rec2, x_grid, nx0)\n",
    "vr_sgd2 = jnp.real(jnp.fft.fftshift(jnp.fft.ifftn(v_rec_l2)))\n",
    "\n",
    "plt.subplot(1,2,1)\n",
    "mip_z(vr_sgd1)\n",
    "#plt.colorbar()\n",
    "\n",
    "plt.subplot(1,2,2)\n",
    "mip_z(vr_sgd2)\n",
    "#plt.colorbar()\n",
    "\n",
    "plt.rcParams[\"figure.figsize\"]=6, 6\n"
   ]
  },
  {
   "cell_type": "code",
   "execution_count": null,
   "id": "b799a8fe-ff5c-4821-b2a3-805e002cb15a",
   "metadata": {},
   "outputs": [],
   "source": [
    "with mrcfile.new(f\"{out_dir}/v_rec_sgd1.mrc\", overwrite=True) as mrc:\n",
    "    mrc.set_data(vr_sgd1.astype(np.float32))\n",
    "    \n",
    "with mrcfile.new(f\"{out_dir}/v_rec_sgd2.mrc\", overwrite=True) as mrc:\n",
    "    mrc.set_data(vr_sgd2.astype(np.float32))   "
   ]
  },
  {
   "cell_type": "markdown",
   "id": "bb22dbfa-b02b-47cb-8e40-a26cafe8ee99",
   "metadata": {},
   "source": [
    "#### FSC"
   ]
  },
  {
   "cell_type": "code",
   "execution_count": null,
   "id": "7257b4d3-bf8b-4a12-8379-9c9a26b38418",
   "metadata": {},
   "outputs": [],
   "source": [
    "print(v_rec1.shape)\n",
    "print(v_rec2.shape)\n",
    "print(x_grid)"
   ]
  },
  {
   "cell_type": "code",
   "execution_count": null,
   "id": "22f9a5d1-a4e8-41a8-8a57-297bc17d1a69",
   "metadata": {},
   "outputs": [],
   "source": [
    "res, fsc, shell_points = calc_fsc(v_rec1, v_rec2, [1, 128])"
   ]
  },
  {
   "cell_type": "code",
   "execution_count": null,
   "id": "92c4da2d-52bd-4d96-9bec-92a913620d14",
   "metadata": {},
   "outputs": [],
   "source": [
    "plt.plot(res, fsc)"
   ]
  },
  {
   "cell_type": "code",
   "execution_count": null,
   "id": "3c845e19-b9d0-46af-a140-1c628c6ca926",
   "metadata": {},
   "outputs": [],
   "source": [
    "res_angs = nx0 * pixel_size[0]/res\n",
    "plt.semilogx(res_angs, fsc)"
   ]
  },
  {
   "cell_type": "code",
   "execution_count": null,
   "id": "059ab0f9-dfb6-4a1d-8bb4-95c537f8e410",
   "metadata": {},
   "outputs": [],
   "source": [
    "fsc"
   ]
  },
  {
   "cell_type": "code",
   "execution_count": null,
   "id": "a072d7e6-d4f8-43ed-b9e1-8b165bd94a5c",
   "metadata": {},
   "outputs": [],
   "source": [
    "fsc[10]"
   ]
  },
  {
   "cell_type": "code",
   "execution_count": null,
   "id": "f046f6a7-4871-4703-b53f-e451f5c987ef",
   "metadata": {},
   "outputs": [],
   "source": [
    "fsc[11]"
   ]
  },
  {
   "cell_type": "code",
   "execution_count": null,
   "id": "ec583f5e-f612-4a06-bab5-6bb5de5e511e",
   "metadata": {},
   "outputs": [],
   "source": [
    "res_angs[10]"
   ]
  },
  {
   "cell_type": "code",
   "execution_count": null,
   "id": "302e4a15-aa86-47c2-9889-7c492945e90d",
   "metadata": {},
   "outputs": [],
   "source": [
    "res_angs[11]"
   ]
  },
  {
   "cell_type": "markdown",
   "id": "ba2552dc-80df-45bd-907a-ea21d18c9a29",
   "metadata": {},
   "source": [
    "### Newton's method vs GD vs CG"
   ]
  },
  {
   "cell_type": "markdown",
   "id": "1141d019-8758-4b11-bc45-de356c8289a7",
   "metadata": {},
   "source": [
    "#### GD - a pain to tune "
   ]
  },
  {
   "cell_type": "code",
   "execution_count": null,
   "id": "32799d6f-c4a7-4aae-957e-ab21c9d2a725",
   "metadata": {},
   "outputs": [],
   "source": [
    "Ngd = 1000\n",
    "\n",
    "N_epochs = 200\n",
    "batch_size = Ngd\n",
    "step_size = 10000 # 1e-3\n",
    "\n",
    "idx = np.arange(Ngd)\n",
    "\n",
    "grad_func, loss_func = get_sgd_vol_ops(gradv_obj, loss_obj, angles[idx], shifts[idx], ctf_params[idx], imgs_f[idx], sigma_noise)\n",
    "\n",
    "key, subkey = random.split(key)\n",
    "x0 = random.normal(subkey, [nx,nx,nx], dtype=jnp.complex128)"
   ]
  },
  {
   "cell_type": "code",
   "execution_count": null,
   "id": "1c3e61c9-5c12-4676-8a32-067d473aeaf2",
   "metadata": {},
   "outputs": [],
   "source": [
    "v_rec_gd, loss_rec_gd, grad_rec_gd = sgd(grad_func, loss_func1, Ngd, x0, step_size, N_epochs, batch_size, verbose=True, iter_display=10)\n"
   ]
  },
  {
   "cell_type": "code",
   "execution_count": null,
   "id": "c703e070-5fc4-48de-9a8d-84126c679de5",
   "metadata": {},
   "outputs": [],
   "source": [
    "plt.plot(loss_rec_gd)"
   ]
  },
  {
   "cell_type": "markdown",
   "id": "ea8126dc-aa8a-4d29-a6b7-90bfbb537fd9",
   "metadata": {},
   "source": [
    "#### CG"
   ]
  },
  {
   "cell_type": "markdown",
   "id": "ea6139b1-4f9a-437c-a22f-5117556a5c5d",
   "metadata": {},
   "source": [
    "#### Newton's method"
   ]
  },
  {
   "cell_type": "markdown",
   "id": "6f4e8acf-da8b-4931-a80f-2a2a1dc3694f",
   "metadata": {},
   "source": [
    "### OASIS"
   ]
  },
  {
   "cell_type": "markdown",
   "id": "b33042af-f43f-4111-a61c-4748826bb4a1",
   "metadata": {},
   "source": [
    "#### Hutchinson's method"
   ]
  },
  {
   "cell_type": "markdown",
   "id": "1d64e3e8-d051-49f6-b612-3ae4408e2681",
   "metadata": {},
   "source": [
    "The diagonal of a symmetric matrix can be approximated as follows:\n",
    "\n",
    "$\n",
    "\\text{diag}(A) = \\mathbb{E}[z * Az ],\n",
    "$\n",
    "\n",
    "where $z$ is a random vector with Rademacher or Gaussian distribution and $*$ represents element-wise multiplication.\n",
    "\n",
    "Here we're reproducing Figure 1 in the OASIS paper."
   ]
  },
  {
   "cell_type": "code",
   "execution_count": 3,
   "id": "0b5f24cb-e3bb-478e-8aba-588f3880ebaa",
   "metadata": {},
   "outputs": [],
   "source": [
    "n = 1000\n",
    "\n",
    "key = random.PRNGKey(int(jnp.floor(np.random.rand()*1000)))"
   ]
  },
  {
   "cell_type": "code",
   "execution_count": 4,
   "id": "321d8933-93a7-4ab3-aa9a-5fd5d6a717f8",
   "metadata": {},
   "outputs": [
    {
     "data": {
      "text/plain": [
       "<matplotlib.colorbar.Colorbar at 0x2ba4a96741c0>"
      ]
     },
     "execution_count": 4,
     "metadata": {},
     "output_type": "execute_result"
    },
    {
     "data": {
      "image/png": "[encoded data removed]",
      "text/plain": [
       "<Figure size 432x432 with 2 Axes>"
      ]
     },
     "metadata": {
      "needs_background": "light"
     },
     "output_type": "display_data"
    }
   ],
   "source": [
    "key, subkey = random.split(key)\n",
    "\n",
    "A = random.normal(subkey, (n,n))\n",
    "A = A.T + A\n",
    "\n",
    "plt.imshow(A); plt.colorbar()"
   ]
  },
  {
   "cell_type": "code",
   "execution_count": 5,
   "id": "68e6e03d-a88f-4121-b28f-9a96fd573ea4",
   "metadata": {},
   "outputs": [],
   "source": [
    "iters = 10000\n",
    "\n",
    "key, subkey = random.split(key)\n",
    "z = random.rademacher(subkey, (iters, n))\n",
    "\n",
    "#z * A @ z "
   ]
  },
  {
   "cell_type": "code",
   "execution_count": 6,
   "id": "436158da-1e91-45ce-834e-8e918fd6f3c0",
   "metadata": {},
   "outputs": [],
   "source": [
    "zAz = jax.vmap(lambda zi : zi * (A @ zi))(z)\n",
    "#plt.imshow(zAz)"
   ]
  },
  {
   "cell_type": "code",
   "execution_count": 7,
   "id": "cae0c37c-9ffa-4c6c-af4a-a0c58c3f3823",
   "metadata": {},
   "outputs": [],
   "source": [
    "d = np.zeros((iters, n))\n",
    "d[0] = zAz[0]\n",
    "for i in range(1, iters):\n",
    "    d[i] = d[i-1] + zAz[i]\n",
    "    \n",
    "for i in range(1, iters):\n",
    "    d[i] = d[i]/(i+1)"
   ]
  },
  {
   "cell_type": "code",
   "execution_count": 8,
   "id": "c8e1da64-4869-4139-8fa4-c6a290078927",
   "metadata": {},
   "outputs": [],
   "source": [
    "err = jnp.mean((d - jnp.diag(A))**2, axis=1)"
   ]
  },
  {
   "cell_type": "code",
   "execution_count": 9,
   "id": "c65d8665-b965-4c44-84e5-5957c6a527dc",
   "metadata": {},
   "outputs": [
    {
     "data": {
      "text/plain": [
       "[<matplotlib.lines.Line2D at 0x2ba4ab69f850>]"
      ]
     },
     "execution_count": 9,
     "metadata": {},
     "output_type": "execute_result"
    },
    {
     "data": {
      "image/png": "[encoded data removed]",
      "text/plain": [
       "<Figure size 432x432 with 1 Axes>"
      ]
     },
     "metadata": {
      "needs_background": "light"
     },
     "output_type": "display_data"
    }
   ],
   "source": [
    "plt.semilogy(err)"
   ]
  },
  {
   "cell_type": "markdown",
   "id": "8d9a6610-5cd6-45a3-ae7c-247a47da4ff1",
   "metadata": {},
   "source": [
    "#### Hessian-vector product in JaX"
   ]
  },
  {
   "cell_type": "code",
   "execution_count": 10,
   "id": "9a4d218b-4071-48db-88b1-a0f838b6b2a1",
   "metadata": {},
   "outputs": [],
   "source": [
    "key, *subkey = random.split(key, 4)\n",
    "x0 = random.normal(subkey[0], (n,))\n",
    "x = random.normal(subkey[1], (n,))\n",
    "v = random.normal(subkey[2], (n,))"
   ]
  },
  {
   "cell_type": "code",
   "execution_count": 168,
   "id": "31e002d4-dd70-42db-a9fc-b5be7426b11e",
   "metadata": {},
   "outputs": [],
   "source": [
    "b = A @ x0 \n",
    "f = lambda x : jnp.mean((A @ x - b)**2)"
   ]
  },
  {
   "cell_type": "code",
   "execution_count": 169,
   "id": "a9348932-6f2f-4160-a076-48f6a34f9b6c",
   "metadata": {},
   "outputs": [
    {
     "data": {
      "text/plain": [
       "DeviceArray(0., dtype=float64)"
      ]
     },
     "execution_count": 169,
     "metadata": {},
     "output_type": "execute_result"
    }
   ],
   "source": [
    "f(x0)"
   ]
  },
  {
   "cell_type": "code",
   "execution_count": 13,
   "id": "2b9c9028-1e56-4436-b811-8916ab65171f",
   "metadata": {},
   "outputs": [],
   "source": [
    "from jax import jvp, grad\n",
    "\n",
    "# Naive\n",
    "def hvp0(f, x, v):\n",
    "    return grad(lambda x : jnp.vdot(grad(f)(x), v))(x)\n",
    "\n",
    "# forward-over-reverse\n",
    "def hvp(f, x, v):\n",
    "    return jvp(jax.grad(f), x, v)[1]"
   ]
  },
  {
   "cell_type": "code",
   "execution_count": 16,
   "id": "29e5c85b-5d3c-4ac7-ac84-e7354b893043",
   "metadata": {},
   "outputs": [
    {
     "name": "stdout",
     "output_type": "stream",
     "text": [
      "0.009347677230834961\n",
      "0.005343437194824219\n"
     ]
    },
    {
     "data": {
      "text/plain": [
       "DeviceArray(0., dtype=float64)"
      ]
     },
     "execution_count": 16,
     "metadata": {},
     "output_type": "execute_result"
    }
   ],
   "source": [
    "t0 = time.time()\n",
    "v1 = hvp0(f, x, v).block_until_ready()\n",
    "print(time.time()-t0)\n",
    "\n",
    "t0 = time.time()\n",
    "v2 = hvp(f, (x,), (v,)).block_until_ready()\n",
    "print(time.time()-t0)\n",
    "\n",
    "jnp.sum(jnp.abs(v1-v2))"
   ]
  },
  {
   "cell_type": "markdown",
   "id": "37b9b821-9bdc-4fda-88d0-6a29fc9d0e79",
   "metadata": {},
   "source": [
    "#### Toy problem"
   ]
  },
  {
   "cell_type": "code",
   "execution_count": 491,
   "id": "4904d533-80e6-423c-a774-092091bd9c92",
   "metadata": {},
   "outputs": [
    {
     "data": {
      "text/plain": [
       "Text(0.5, 1.0, 'Condition number = 65422928.22485541')"
      ]
     },
     "execution_count": 491,
     "metadata": {},
     "output_type": "execute_result"
    },
    {
     "data": {
      "image/png": "[encoded data removed]",
      "text/plain": [
       "<Figure size 432x432 with 1 Axes>"
      ]
     },
     "metadata": {
      "needs_background": "light"
     },
     "output_type": "display_data"
    }
   ],
   "source": [
    "key, *subkey = random.split(key, 4)\n",
    "\n",
    "x_gt = random.normal(subkey[0], (n,))\n",
    "\n",
    "A = np.random.normal(size = (n,n))\n",
    "\n",
    "Adiag = jnp.flip(jnp.logspace(1,2,n))\n",
    "np.fill_diagonal(A, Adiag)\n",
    "\n",
    "A = A.T @ A\n",
    "\n",
    "evals, evecs = np.linalg.eig(A)\n",
    "evals = np.flip(np.sort( evals))\n",
    "\n",
    "\n",
    "assert(jnp.sum(evals < 0) == 0)\n",
    "assert(jnp.max(jnp.abs(A.T - A)) == 0)\n",
    "assert(jnp.sum(jnp.abs(A@A.T - A.T@ A)) == 0)\n",
    "\n",
    "\n",
    "plt.semilogy(evals)\n",
    "plt.semilogy(jnp.diag(A))\n",
    "plt.legend([\"Eigenvalues\", \"Diagonal entries\"])\n",
    "plt.title(f\"Condition number = {evals[0]/evals[n-1]}\")"
   ]
  },
  {
   "cell_type": "code",
   "execution_count": 493,
   "id": "401090de-ef3e-4e42-8ccb-66742693059c",
   "metadata": {},
   "outputs": [
    {
     "name": "stdout",
     "output_type": "stream",
     "text": [
      "f(x_gt + 1) = 21353926.04938283\n",
      "f(x_gt) = 0.0\n"
     ]
    }
   ],
   "source": [
    "sig_noise = 1\n",
    "lam = 0.1\n",
    "\n",
    "b = A @ x_gt #+ np.random.normal(size=(n,)) * sig_noise\n",
    "\n",
    "f = lambda x : jnp.mean((A @ x - b)**2) #+ lam * jnp.mean(x**2)\n",
    "print(f\"f(x_gt + 1) = {f(x_gt+1)}\")\n",
    "print(f\"f(x_gt) = {f(x_gt)}\")"
   ]
  },
  {
   "cell_type": "code",
   "execution_count": 514,
   "id": "b94e1555-0cba-4e87-a8ae-fff9a418bbdd",
   "metadata": {},
   "outputs": [],
   "source": [
    "def gd(F, eta, w0, N_iter = 20, iter_display = 1):\n",
    "    loss = []\n",
    "    for k in range(1, N_iter+1):\n",
    "        w1 = w0 - eta * jax.grad(F)(w0)\n",
    "        loss_i = F(w1)\n",
    "        loss.append(loss_i)\n",
    "        \n",
    "        w0 = w1\n",
    "        \n",
    "        if k % iter_display == 0:\n",
    "            print(f\"Iter {k}: loss = {loss_i}\")\n",
    "            \n",
    "    return w1, jnp.array(loss)\n",
    "\n",
    "def newton(F, w0, N_iter = 20, iter_display = 1):\n",
    "    loss = []\n",
    "    for k in range(1, N_iter+1):\n",
    "        G = jax.grad(F)(w0)\n",
    "        H = jax.hessian(F)(w0)\n",
    "        \n",
    "        w1 = w0 - jnp.linalg.inv(H) @ G\n",
    "        loss_i = F(w1)\n",
    "        loss.append(loss_i)\n",
    "        \n",
    "        w0 = w1\n",
    "        \n",
    "        if k % iter_display == 0:\n",
    "            print(f\"Iter {k}: loss = {loss_i}\")\n",
    "            \n",
    "    return w1, jnp.array(loss)"
   ]
  },
  {
   "cell_type": "code",
   "execution_count": null,
   "id": "ecb98c76-829b-4103-a042-f18004bac2e9",
   "metadata": {},
   "outputs": [
    {
     "name": "stdout",
     "output_type": "stream",
     "text": [
      "Iter 200: loss = 28277.841815800493\n",
      "Iter 400: loss = 11477.440072859143\n",
      "Iter 600: loss = 6859.673268660889\n",
      "Iter 800: loss = 4806.729927674661\n",
      "Iter 1000: loss = 3656.4247469084708\n",
      "Iter 1200: loss = 2920.0937055481045\n",
      "Iter 1400: loss = 2408.361354036416\n",
      "Iter 1600: loss = 2033.0900865377523\n",
      "Iter 1800: loss = 1747.4405144577986\n",
      "Iter 2000: loss = 1523.967614260521\n",
      "Iter 2200: loss = 1345.3887200126028\n",
      "Iter 2400: loss = 1200.2189100723529\n",
      "Iter 2600: loss = 1080.5062099910394\n",
      "Iter 2800: loss = 980.5650775906931\n",
      "Iter 3000: loss = 896.2244164361332\n",
      "Iter 3200: loss = 824.3589995962716\n",
      "Iter 3400: loss = 762.5857351937685\n",
      "Iter 3600: loss = 709.0602168360239\n",
      "Iter 3800: loss = 662.3366223488114\n",
      "Iter 4000: loss = 621.2689280424725\n",
      "Iter 4200: loss = 584.9398209828097\n",
      "Iter 4400: loss = 552.6086305079212\n",
      "Iter 4600: loss = 523.6725970895571\n",
      "Iter 4800: loss = 497.6376691153953\n"
     ]
    }
   ],
   "source": [
    "N_iter = 20000\n",
    "eta = 0.000005 #0.000005 # learning rate\n",
    "x0 = np.random.randn(*x_gt.shape)\n",
    "\n",
    "x_gd, loss_gd = gd(f, eta, x0, N_iter, iter_display = 200)"
   ]
  },
  {
   "cell_type": "code",
   "execution_count": null,
   "id": "7eb85da1-5793-46a2-a687-efacec1f2723",
   "metadata": {},
   "outputs": [],
   "source": [
    "plt.semilogy(loss_gd)"
   ]
  },
  {
   "cell_type": "code",
   "execution_count": null,
   "id": "eb2d880e-0732-4e55-8fae-543264260554",
   "metadata": {},
   "outputs": [],
   "source": [
    "N_iter = 10\n",
    "\n",
    "x_n, loss_n = newton(f, x0, N_iter, iter_display = 1)"
   ]
  },
  {
   "cell_type": "code",
   "execution_count": null,
   "id": "91e40bf7-22a3-47c7-ba73-7587e97c8682",
   "metadata": {},
   "outputs": [],
   "source": [
    "plt.plot(loss_n)"
   ]
  },
  {
   "cell_type": "code",
   "execution_count": null,
   "id": "85918078-6e0b-4ae8-ae60-c714e8f6bb7b",
   "metadata": {},
   "outputs": [],
   "source": [
    "N_iter = 20000\n",
    "\n",
    "zero = jnp.zeros(x_gt.shape)\n",
    "Abfun = jax.grad(f)(zero)\n",
    "\n",
    "Ab = -jnp.conj(Abfun)\n",
    "AA = lambda vv : jnp.conj(jax.grad(f)(vv)) + Ab\n",
    "\n",
    "x_cg, kk = cg(AA, Ab, x0, N_iter, verbose=True)"
   ]
  },
  {
   "cell_type": "code",
   "execution_count": null,
   "id": "67c7eb74-cf6e-4df8-87ff-7f1b8ff76768",
   "metadata": {},
   "outputs": [],
   "source": [
    "f(x_cg)"
   ]
  },
  {
   "cell_type": "markdown",
   "id": "882a5b14-0707-4903-8960-3e4e504ee497",
   "metadata": {},
   "source": [
    "#### OASIS"
   ]
  },
  {
   "cell_type": "code",
   "execution_count": null,
   "id": "343af92c-92a6-41a1-9278-897103082233",
   "metadata": {},
   "outputs": [],
   "source": [
    "# First attempt\n",
    "\n",
    "def oasis(key, F, w0, eta, D0, beta2, alpha, N_iter = 20, iter_display = 1):\n",
    "    \"\"\"OASIS with fixed learning rate, deterministic.\"\"\"\n",
    "    \n",
    "    z = random.rademacher(key, (iters, n)).astype(jnp.float64)\n",
    "    \n",
    "    Dhat0 = jnp.diag(jnp.maximum(jnp.diag(D0), alpha))\n",
    "                        \n",
    "    invDhat0 = jnp.diag(1/jnp.diag(Dhat0))\n",
    "    w1 = w0 - eta * (invDhat0 @ jax.grad(F)(w0))\n",
    "\n",
    "    loss = []\n",
    "    for k in range(1, N_iter+1):\n",
    "\n",
    "        D1 = beta2 * D0 + (1-beta2) * (z[k-1] * hvp(F, (w1,), (z[k-1],)))\n",
    "        Dhat1 = jnp.diag(jnp.maximum(jnp.abs(jnp.diag(D1)), alpha))\n",
    "\n",
    "        invDhat1 = jnp.diag(1/jnp.diag(Dhat1))\n",
    "        \n",
    "        w2 = w1 - eta * (invDhat1 @ jax.grad(F)(w1))\n",
    "        \n",
    "        w0 = w1\n",
    "        w1 = w2\n",
    "\n",
    "        loss_i = F(w1)\n",
    "        loss.append(loss_i)        \n",
    "        if k % iter_display == 0:\n",
    "            print(f\"Iter {k}: loss = {loss_i}\")\n",
    "    return w1, jnp.array(loss)\n",
    "\n",
    "\n",
    "def oasis_adaptive(key, F, w0, eta0, D0, beta2, alpha, N_iter = 20, iter_display = 1):\n",
    "    \"\"\"OASIS with adaptive learning rate, deterministic.\"\"\"\n",
    "    \n",
    "    z = random.rademacher(key, (iters, n)).astype(jnp.float64)\n",
    "    \n",
    "    gradFw0 = jax.grad(F)(w0)\n",
    "\n",
    "    theta0 = jnp.inf\n",
    "    Dhat0 = jnp.diag(jnp.maximum(jnp.diag(D0), alpha))\n",
    "                        \n",
    "    invDhat0 = jnp.diag(1/jnp.diag(Dhat0))\n",
    "    w1 = w0 - eta0 * (invDhat0 @ gradFw0)\n",
    "    \n",
    "    gradFw1 = jax.grad(F)(w1)\n",
    "\n",
    "\n",
    "    loss = []\n",
    "    for k in range(1, N_iter+1):\n",
    "\n",
    "        D1 = beta2 * D0 + (1-beta2) * (z[k-1] * hvp(F, (w1,), (z[k-1],)))\n",
    "        Dhat1 = jnp.diag(jnp.maximum(jnp.abs(jnp.diag(D1)), alpha))\n",
    "\n",
    "        invDhat1 = jnp.diag(1/jnp.diag(Dhat1))\n",
    "        \n",
    "        \n",
    "        tl = jnp.sqrt(1 + theta0)*eta0\n",
    "        \n",
    "        wd = w1-w0\n",
    "        gfd = gradFw1 - gradFw0\n",
    "        tr = 1/2 * jnp.sqrt(jnp.vdot(wd, Dhat1 @ wd) / jnp.vdot(gfd, invDhat1 @ gfd))\n",
    "        \n",
    "        eta1 = jnp.minimum(tl, tr)\n",
    "        \n",
    "        w2 = w1 - eta1 * (invDhat1 @ gradFw1)\n",
    "        gradFw2 = jax.grad(F)(w2)\n",
    "\n",
    "        theta1 = eta1/eta0\n",
    "        \n",
    "        w0 = w1\n",
    "        w1 = w2\n",
    "        \n",
    "        eta0 = eta1\n",
    "        theta0 = theta1\n",
    "        \n",
    "        gradFw0 = gradFw1\n",
    "        gradFw1 = gradFw2\n",
    "\n",
    "        loss_i = F(w1)\n",
    "        loss.append(loss_i)        \n",
    "        if k % iter_display == 0:\n",
    "            print(f\"Iter {k}: loss = {loss_i}\")\n",
    "    return w1, jnp.array(loss)"
   ]
  },
  {
   "cell_type": "code",
   "execution_count": null,
   "id": "1d4abbff-c637-4fa1-aabb-94e9c15aad4b",
   "metadata": {},
   "outputs": [],
   "source": [
    "N_iter = 20000\n",
    "beta2 = 0.99\n",
    "eta = 0.1 #0.1 #0.1/0.001/0.01/0.15\n",
    "D0 = jnp.diag(jnp.diag(jax.hessian(f)(x0))) # Cheating a bit\n",
    "                       \n",
    "alpha = 0.1 #0.1 # 0.01\n",
    "\n",
    "key, subkey = random.split(key)\n",
    "x_o, loss_o = oasis(subkey, f, x0, eta, D0, beta2, alpha, N_iter, iter_display = 200)"
   ]
  },
  {
   "cell_type": "code",
   "execution_count": null,
   "id": "d7d8a80c-96d4-4143-a907-bc14acbdb5cc",
   "metadata": {},
   "outputs": [],
   "source": [
    "N_iter = 20000\n",
    "beta2 = 0.99\n",
    "eta0 = 0.1 #0.1/0.001/0.01/0.15\n",
    "D0 = jnp.diag(jnp.diag(jax.hessian(f)(x0))) # Cheating a bit\n",
    "                       \n",
    "alpha = 0.1 # 0.01\n",
    "\n",
    "key, subkey = random.split(key)\n",
    "x_oa, loss_oa = oasis_adaptive(subkey, f, x0, eta0, D0, beta2, alpha, N_iter, iter_display = 200)"
   ]
  },
  {
   "cell_type": "code",
   "execution_count": null,
   "id": "65316fa4-29ef-4a8b-98a3-a5150a90a40d",
   "metadata": {},
   "outputs": [],
   "source": [
    "plt.semilogy(loss_gd)\n",
    "plt.semilogy(loss_o)\n",
    "plt.semilogy(loss_oa)\n",
    "\n",
    "plt.legend([\"GD\", \"OASIS\", \"OASIS adaptive\"])"
   ]
  },
  {
   "cell_type": "code",
   "execution_count": null,
   "id": "9c7f4a75-2edb-4dc1-b146-d049562d4fd8",
   "metadata": {},
   "outputs": [],
   "source": [
    "idx = n\n",
    "plt.plot(jnp.abs((x_gt-x_gd)[:idx]))\n",
    "#plt.plot(jnp.abs((x_gt-x_n)[:idx]))\n",
    "plt.plot(jnp.abs((x_gt-x_o)[:idx]))\n",
    "plt.plot(jnp.abs((x_gt-x_oa)[:idx]))\n",
    "\n",
    "#plt.legend([\"GD\", \"Newton\", \"OASIS\", \"OASIS_adaptive\"])\n",
    "plt.legend([\"GD\", \"OASIS\", \"OASIS_adaptive\"])"
   ]
  },
  {
   "cell_type": "code",
   "execution_count": null,
   "id": "a3a2ae6d-fcb3-47a6-84a7-e4237e5ecf11",
   "metadata": {},
   "outputs": [],
   "source": [
    "plt.semilogy(jnp.abs(x_gt-x_gd))\n",
    "plt.semilogy(jnp.abs(x_gt-x_oa))\n"
   ]
  },
  {
   "cell_type": "code",
   "execution_count": null,
   "id": "9a2f88fc-9ead-41f6-b405-bfcf81b05d8a",
   "metadata": {},
   "outputs": [],
   "source": [
    "print(jnp.mean(jnp.abs(x_gt-x_gd)))\n",
    "print(jnp.mean(jnp.abs(x_gt-x_n)))\n",
    "print(jnp.mean(jnp.abs(x_gt-x_o)))\n",
    "print(jnp.mean(jnp.abs(x_gt-x_oa)))"
   ]
  },
  {
   "cell_type": "code",
   "execution_count": null,
   "id": "4b5b5ac6-9025-4f20-9a27-01fa95f97729",
   "metadata": {},
   "outputs": [],
   "source": [
    "plt.plot(x_gt)\n",
    "plt.plot(x_gd)"
   ]
  },
  {
   "cell_type": "code",
   "execution_count": null,
   "id": "1ec4eb0f-a225-4502-97c1-573fef7cb65e",
   "metadata": {},
   "outputs": [],
   "source": [
    "plt.plot(x_oa)\n",
    "plt.plot(x_gt)\n"
   ]
  },
  {
   "cell_type": "code",
   "execution_count": null,
   "id": "e452fc6b-f865-4dca-9b47-0e8cec6a356a",
   "metadata": {},
   "outputs": [],
   "source": []
  }
 ],
 "metadata": {
  "kernelspec": {
   "display_name": "Python 3 (ipykernel)",
   "language": "python",
   "name": "python3"
  },
  "language_info": {
   "codemirror_mode": {
    "name": "ipython",
    "version": 3
   },
   "file_extension": ".py",
   "mimetype": "text/x-python",
   "name": "python",
   "nbconvert_exporter": "python",
   "pygments_lexer": "ipython3",
   "version": "3.10.2"
  }
 },
 "nbformat": 4,
 "nbformat_minor": 5
}
