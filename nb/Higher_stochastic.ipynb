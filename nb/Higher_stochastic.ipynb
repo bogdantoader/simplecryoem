{
 "cells": [
  {
   "cell_type": "markdown",
   "id": "9adcce94-7192-441e-9683-bbb65e31c27a",
   "metadata": {},
   "source": [
    "# Second order stochastic methods for CryoEM -- OASIS"
   ]
  },
  {
   "cell_type": "code",
   "execution_count": 1,
   "id": "2abbe3cc-d606-42cb-8a87-88b079f4abc8",
   "metadata": {},
   "outputs": [],
   "source": [
    "%load_ext autoreload\n",
    "%autoreload 2\n",
    "import site\n",
    "import sys\n",
    "import time\n",
    "import pickle\n",
    "site.addsitedir('..')\n",
    "from jax.config import config\n",
    "\n",
    "config.update(\"jax_enable_x64\", True)"
   ]
  },
  {
   "cell_type": "code",
   "execution_count": 2,
   "id": "70edf6b0-fad6-4d1e-82ac-54d478732b02",
   "metadata": {},
   "outputs": [],
   "source": [
    "import jax\n",
    "import mrcfile\n",
    "from jax.scipy.special import gammaln\n",
    "from jax import random\n",
    "from tqdm import tqdm \n",
    "\n",
    "import numpy as np\n",
    "import jax.numpy as jnp\n",
    "from  matplotlib import pyplot as plt\n",
    "from src.utils import *\n",
    "from src.projection import *\n",
    "from src.interpolate import *\n",
    "from src.jaxops import *\n",
    "from src.algorithm import sgd, get_sgd_vol_ops, get_cg_vol_ops\n",
    "from src.algorithm import conjugate_gradient as cg\n",
    "from src.algorithm import oasis, oasis_adaptive\n",
    "from src.datasets import *\n",
    "from src.noise import estimate_noise, average_radially, estimate_noise_radial\n",
    "from src.preprocess import *\n",
    "from src.fsc import calc_fsc\n",
    "\n",
    "plt.rcParams[\"figure.figsize\"]=6,6"
   ]
  },
  {
   "cell_type": "code",
   "execution_count": null,
   "id": "6568c2d1-797d-41f5-8922-979ce9151f8a",
   "metadata": {},
   "outputs": [
    {
     "name": "stderr",
     "output_type": "stream",
     "text": [
      "/home/bt387/project/2021_CryoEMSolver7/external/pyem/pyem/star.py:531: FutureWarning: Columnar iteration over characters will be deprecated in future releases.\n",
      "  df[UCSF.IMAGE_INDEX], df[UCSF.IMAGE_PATH] = \\\n",
      "/home/bt387/project/2021_CryoEMSolver7/external/pyem/pyem/star.py:539: FutureWarning: Columnar iteration over characters will be deprecated in future releases.\n",
      "  df[UCSF.IMAGE_ORIGINAL_INDEX], df[UCSF.IMAGE_ORIGINAL_PATH] = \\\n"
     ]
    },
    {
     "name": "stdout",
     "output_type": "stream",
     "text": [
      "load_data: number of partcles: 105519\n"
     ]
    }
   ],
   "source": [
    "data_dir = \"/gpfs/gibbs/pi/lederman/dge5/CrossValidationCryodrgnSet/\"\n",
    "star_file = \"particles_crossvalidation_train_1.star\"\n",
    "\n",
    "params0, imgs0 = load_data(data_dir, star_file, load_imgs = True, fourier = False)"
   ]
  },
  {
   "cell_type": "code",
   "execution_count": null,
   "id": "f624fcec-d52d-4f71-97c0-c99ca2b16376",
   "metadata": {},
   "outputs": [],
   "source": [
    "# Extract two subsets with fixed seed key so that we always get the same splitting.\n",
    "# Larger sets must be supersets of the smaller sets respectively.\n",
    "\n",
    "N0 = imgs0.shape[0]\n",
    "nx0 = imgs0.shape[1]\n",
    "\n",
    "split_seed = 60\n",
    "split_key = random.PRNGKey(split_seed)\n",
    "idxrand = random.permutation(split_key, N0)\n",
    "\n",
    "idx1full = idxrand[:N0//2]\n",
    "idx2full = idxrand[N0//2:]\n",
    "\n",
    "print(split_key)\n",
    "print(idx1full[:10])\n",
    "print(idx2full[:10])"
   ]
  },
  {
   "cell_type": "code",
   "execution_count": null,
   "id": "83b0531f-868d-424a-bd2b-363dd66b597c",
   "metadata": {},
   "outputs": [],
   "source": [
    "out_dir = out_dir = '../data/out_dev/'\n",
    "\n",
    "nx_crop = 128 #192 #64 #8 #192 # 128 # 64\n",
    "N = 50000 #10000 #200 #104000 #80000 # 20000\n",
    "\n",
    "idx1 = idx1full[:N]\n",
    "idx2 = idx2full[:N]"
   ]
  },
  {
   "cell_type": "code",
   "execution_count": null,
   "id": "a109c7d5-532c-41ec-9cf4-40423c457931",
   "metadata": {},
   "outputs": [],
   "source": [
    "processed_data1 = preprocess(imgs0, params0, nx_crop = nx_crop, idx = idx1)\n",
    "\n",
    "imgs_f1 = processed_data1[\"imgs_f\"]\n",
    "angles1 = processed_data1[\"angles\"]\n",
    "shifts1 = processed_data1[\"shifts\"]\n",
    "ctf_params1 = processed_data1[\"ctf_params\"]"
   ]
  },
  {
   "cell_type": "code",
   "execution_count": null,
   "id": "dbf1de59-f137-4e0c-9f8e-dfaaf2f9664e",
   "metadata": {},
   "outputs": [],
   "source": [
    "processed_data2 = preprocess(imgs0, params0, nx_crop = nx_crop, idx = idx2)\n",
    "\n",
    "imgs_f2 = processed_data2[\"imgs_f\"]\n",
    "angles2 = processed_data2[\"angles\"]\n",
    "shifts2 = processed_data2[\"shifts\"]\n",
    "ctf_params2 = processed_data2[\"ctf_params\"]"
   ]
  },
  {
   "cell_type": "code",
   "execution_count": null,
   "id": "41cf3d6f-c675-4c75-b099-4567314bebeb",
   "metadata": {},
   "outputs": [],
   "source": [
    "# Assuming these variables are the same for all images in both sets\n",
    "\n",
    "pixel_size = processed_data1[\"pixel_size\"]\n",
    "nx = processed_data1[\"nx\"]\n",
    "mask = processed_data1[\"mask\"]\n",
    "sigma_noise = processed_data1[\"sigma_noise\"]\n",
    "x_grid = processed_data1[\"x_grid\"]\n",
    "N = imgs_f1.shape[0]"
   ]
  },
  {
   "cell_type": "code",
   "execution_count": null,
   "id": "8f712166-e8f4-4f94-8523-b5adf8addb30",
   "metadata": {},
   "outputs": [],
   "source": [
    "plt.imshow(jnp.fft.fftshift(jnp.abs(imgs_f1[15].reshape([nx_crop,nx_crop]))));plt.colorbar()"
   ]
  },
  {
   "cell_type": "code",
   "execution_count": null,
   "id": "2c7d5aa0-4f24-49b1-b4ec-a343c065dabe",
   "metadata": {},
   "outputs": [],
   "source": [
    "#del(imgs0)"
   ]
  },
  {
   "cell_type": "markdown",
   "id": "3cdc7bca-a144-4276-9f46-8707eadf2acd",
   "metadata": {},
   "source": [
    "### Only volume reconstruction for now - SGD vs OASIS"
   ]
  },
  {
   "cell_type": "code",
   "execution_count": null,
   "id": "25674ba2-f439-42aa-84b6-9337cd115c3a",
   "metadata": {},
   "outputs": [],
   "source": [
    "# Apply mask to images\n",
    "\n",
    "apply_mask = True\n",
    "\n",
    "if apply_mask:\n",
    "    mask2d = mask[0].reshape(-1)\n",
    "    imgs_f1 = imgs_f1 * mask2d\n",
    "    imgs_f2 = imgs_f2 * mask2d\n",
    "else:\n",
    "    mask = jnp.ones(mask.shape)"
   ]
  },
  {
   "cell_type": "code",
   "execution_count": null,
   "id": "166a133f-95cf-4b16-9ae3-c31ee86f625a",
   "metadata": {},
   "outputs": [],
   "source": [
    "plt.rcParams[\"figure.figsize\"]=12,6\n",
    "\n",
    "plt.subplot(1,2,1)\n",
    "plt.imshow(mask[0])\n",
    "\n",
    "plt.subplot(1,2,2)\n",
    "plt.imshow(jnp.fft.fftshift(jnp.abs(imgs_f1[123].reshape([nx_crop,nx_crop]))));plt.colorbar()\n",
    "\n",
    "plt.rcParams[\"figure.figsize\"]=6,6\n"
   ]
  },
  {
   "cell_type": "code",
   "execution_count": null,
   "id": "7814ad4e-ec4a-497d-8b87-f6610582fb55",
   "metadata": {},
   "outputs": [],
   "source": [
    "alpha =  1e-9 #1e-5 #1e-9 #1e-9 # 1e-5\n",
    "interp_method = \"tri\"\n",
    "\n",
    "slice_obj = Slice(x_grid, mask = mask, interp_method = interp_method)\n",
    "loss_obj = Loss(slice_obj, alpha = alpha)\n",
    "gradv_obj = GradV(loss_obj)"
   ]
  },
  {
   "cell_type": "markdown",
   "id": "6e4f7f86-6725-4690-8133-ef4703766f9b",
   "metadata": {},
   "source": [
    "Use the same datasets, loss, grad, hvp, x0, D0 for SGD, OASIS (and CG)"
   ]
  },
  {
   "cell_type": "code",
   "execution_count": null,
   "id": "8012f3a5-5494-49dd-8378-441f7b196a07",
   "metadata": {},
   "outputs": [],
   "source": [
    "grad_func1, loss_func1, hvp_func1 = get_sgd_vol_ops(gradv_obj, loss_obj, angles1, shifts1, ctf_params1, imgs_f1, sigma_noise)\n",
    "grad_func2, loss_func2, hvp_func2 = get_sgd_vol_ops(gradv_obj, loss_obj, angles2, shifts2, ctf_params2, imgs_f2, sigma_noise)"
   ]
  },
  {
   "cell_type": "code",
   "execution_count": null,
   "id": "6028284e-0a58-4769-ab19-516dac7a38bc",
   "metadata": {},
   "outputs": [],
   "source": [
    "n_epochs = 20 #3 #2000 * 4 \n",
    "batch_sz = 1000\n",
    "n_batch = N // batch_sz\n",
    "\n",
    "zD01z = np.zeros([nx,nx,nx])\n",
    "zD02z = np.zeros([nx,nx,nx])\n",
    "\n",
    "#zD01z = [] \n",
    "#zD02z = [] \n",
    "\n",
    "\n",
    "key = random.PRNGKey(62)\n",
    "key, subkey = random.split(key)\n",
    "x0 = random.normal(subkey, [nx,nx,nx], dtype=jnp.complex128)\n",
    "\n",
    "for i in tqdm(range(n_epochs)):\n",
    "    key, subkey = random.split(key)\n",
    "    idx_batches = np.array_split(random.permutation(subkey, N), n_batch)\n",
    "        \n",
    "    for idx in idx_batches:\n",
    "        key, subkey = random.split(key)\n",
    "\n",
    "        z = random.rademacher(subkey, [nx,nx,nx], dtype=x0.dtype)\n",
    "\n",
    "        zD01z += z * hvp_func1(x0, z, np.array(idx))\n",
    "        zD02z += z * hvp_func2(x0, z, np.array(idx))\n",
    "\n",
    "        # Any more memory efficient way of doing this? The kernel dies :(\n",
    "        \n",
    "        # For some reason, passing idx without np.array doesn't work (it is\n",
    "        # considered to be tuple\n",
    "        #zD01z.append(z * hvp_func1(x0, z, np.array(idx)))\n",
    "        #zD02z.append(z * hvp_func2(x0, z, np.array(idx)))\n",
    "\n",
    "zD01z = np.array(zD01z)\n",
    "zD02z = np.array(zD02z)        \n",
    "        \n",
    "#D01 = np.mean(zD01z, axis = 0)\n",
    "#D02 = np.mean(zD02z, axis = 0)\n",
    "\n",
    "D01 = zD01z / (n_epochs * n_batch)\n",
    "D02 = zD02z / (n_epochs * n_batch)"
   ]
  },
  {
   "cell_type": "code",
   "execution_count": null,
   "id": "501d3366-3702-449f-b65f-ab160388e79a",
   "metadata": {},
   "outputs": [],
   "source": [
    "# Compute the sums term by term to have an idea of convergence\n",
    "compute_separate_terms = False\n",
    "\n",
    "if compute_separate_terms:\n",
    "    D01est = [zD01z[0]]\n",
    "    D02est = [zD02z[0]]\n",
    "    for i in tqdm(range(1, len(zD01z))):\n",
    "        D01est.append(D01est[-1] + zD01z[i])\n",
    "        D02est.append(D02est[-1] + zD02z[i])\n",
    "\n",
    "        #D01est[i] = D01est[i] / (i+1)\n",
    "        #D02est[i] = D02est[i] / (i+1)\n",
    "\n",
    "    D01est = np.array([ Di / (i+1) for i, Di in enumerate(D01est)])\n",
    "    D02est = np.array([ Di / (i+1) for i, Di in enumerate(D02est)])"
   ]
  },
  {
   "cell_type": "code",
   "execution_count": null,
   "id": "8921be6e-1f9d-4953-97be-3995037bb3ca",
   "metadata": {},
   "outputs": [],
   "source": [
    "if compute_separate_terms:\n",
    "    D01norm = []\n",
    "    D02norm = []\n",
    "    for i in tqdm(range(len(D01est))):\n",
    "        D01norm.append(jnp.linalg.norm(D01est[i].reshape(-1), 2))\n",
    "        D02norm.append(jnp.linalg.norm(D02est[i].reshape(-1), 2))"
   ]
  },
  {
   "cell_type": "code",
   "execution_count": null,
   "id": "612e99ed-a6ec-4ed0-bbe2-ec30e821c583",
   "metadata": {},
   "outputs": [],
   "source": [
    "if compute_separate_terms:\n",
    "    assert(jnp.max(jnp.abs(D01est[-1] - D01)) == 0)\n",
    "    assert(jnp.max(jnp.abs(D02est[-1] - D02)) == 0)"
   ]
  },
  {
   "cell_type": "code",
   "execution_count": null,
   "id": "d42f66d1-c4d1-4aaa-9fbf-04e51948679c",
   "metadata": {},
   "outputs": [],
   "source": [
    "plt.imshow(jnp.fft.fftshift(jnp.abs(D01[0,:,:]))); plt.colorbar()\n",
    "print(jnp.min(jnp.abs(D01)))\n",
    "print(jnp.max(jnp.abs(D01)))\n",
    "print(jnp.max(jnp.abs(D01))/jnp.min(jnp.abs(D01)))"
   ]
  },
  {
   "cell_type": "code",
   "execution_count": null,
   "id": "c6cabe6e-dc4e-4ccf-8879-069df468b101",
   "metadata": {},
   "outputs": [],
   "source": [
    "print(jnp.max(jnp.abs(D01)))\n",
    "print(jnp.max(jnp.abs(D02))) \n",
    "print(jnp.max(jnp.abs(D01-D02)))"
   ]
  },
  {
   "cell_type": "code",
   "execution_count": null,
   "id": "7c82ed2e-cace-499d-b589-8714d166f151",
   "metadata": {},
   "outputs": [],
   "source": [
    "# Compute the Hessian diagonals exactly (valid for NN interpolation) - do it in batches\n",
    "\n",
    "compute_hess_diag = False\n",
    "\n",
    "if compute_hess_diag:\n",
    "    batch_sz = 10\n",
    "    n_batch = N // batch_sz\n",
    "    idx_batches = np.array_split(np.arange(N), n_batch)\n",
    "    ones = jnp.ones(x0.shape, dtype=jnp.complex128)\n",
    "\n",
    "    D1 = np.zeros([nx,nx,nx], dtype=np.complex128)\n",
    "    D2 = np.zeros([nx,nx,nx], dtype=np.complex128)\n",
    "    for idx in idx_batches:\n",
    "        D1 += hvp_func1(x0, ones, idx)\n",
    "        D2 += hvp_func2(x0, ones, idx)    \n",
    "\n",
    "    D1 = jnp.array(D1/n_batch)\n",
    "    D2 = jnp.array(D2/n_batch)\n"
   ]
  },
  {
   "cell_type": "code",
   "execution_count": null,
   "id": "98e2de26-2e9b-4e07-bd8d-313bc427a6c8",
   "metadata": {},
   "outputs": [],
   "source": [
    "if compute_hess_diag:\n",
    "    plt.imshow(jnp.fft.fftshift(jnp.abs(D01[0,:,:]))); plt.colorbar()\n",
    "    print(jnp.min(jnp.abs(D1)))\n",
    "    print(jnp.max(jnp.abs(D1)))\n",
    "    print(jnp.max(jnp.abs(D1))/jnp.min(jnp.abs(D1)))"
   ]
  },
  {
   "cell_type": "code",
   "execution_count": null,
   "id": "4162f6ba-b215-415b-9f06-48bd1a08e970",
   "metadata": {},
   "outputs": [],
   "source": [
    "if compute_hess_diag:\n",
    "    err1 = jnp.max(jnp.abs(D1-D01)/jnp.max(jnp.abs(D1)))\n",
    "    print(f\"Error D1 = {err1}\")\n",
    "\n",
    "    err2 = jnp.max(jnp.abs(D2-D02)/jnp.max(jnp.abs(D2)))\n",
    "    print(f\"Error D2 = {err2}\")"
   ]
  },
  {
   "cell_type": "code",
   "execution_count": null,
   "id": "76f951a8-c14b-4ff8-bd32-fe8a0edbe76f",
   "metadata": {},
   "outputs": [],
   "source": [
    "if compute_separate_terms:\n",
    "    err1 = [ jnp.max(jnp.abs(D1 - Di))/jnp.max(jnp.abs(D1)) for Di in D01est ]\n",
    "    err2 = [ jnp.max(jnp.abs(D2 - Di))/jnp.max(jnp.abs(D2)) for Di in D02est ]\n",
    "\n",
    "    #err1 = [ jnp.max(jnp.abs(D1 - Di)) for Di in D01est ]\n",
    "    #err2 = [ jnp.max(jnp.abs(D2 - Di)) for Di in D02est ]\n",
    "    \n",
    "    plt.subplot(1,2,1)\n",
    "    plt.semilogy(err1)\n",
    "    \n",
    "    plt.subplot(1,2,2)\n",
    "    errr = jnp.abs(jnp.array(D01norm))\n",
    "    plt.semilogy(errr)"
   ]
  },
  {
   "cell_type": "markdown",
   "id": "a298b250-f953-4497-beb9-cc6906e3cb81",
   "metadata": {},
   "source": [
    "#### Sanity check that the Hessian is indeed diagonal for NN interpolation and that I'm computing it correctly"
   ]
  },
  {
   "cell_type": "code",
   "execution_count": null,
   "id": "660db5c2-2800-4fbd-acc9-c82230ed07df",
   "metadata": {},
   "outputs": [],
   "source": [
    "ei = jnp.zeros([nx,nx,nx], dtype = jnp.complex128)\n",
    "ei = ei.at[0,2,1].set(1)\n",
    "hvp = hvp_func1(x0, ei, np.array([23, 1, 0, 6]))\n",
    "plt.imshow(jnp.fft.fftshift(jnp.abs(hvp[0,:,:]))); plt.colorbar()"
   ]
  },
  {
   "cell_type": "code",
   "execution_count": null,
   "id": "53967d76-777d-4feb-b78a-cbf9c3050a78",
   "metadata": {},
   "outputs": [],
   "source": [
    "if interp_method == \"nn\":\n",
    "    print(\"Checking\")\n",
    "    assert(jnp.abs(hvp[0,2,1] - jnp.sum(hvp)) == 0)"
   ]
  },
  {
   "cell_type": "code",
   "execution_count": null,
   "id": "db7393d3-a05e-4e50-8b79-574874843351",
   "metadata": {},
   "outputs": [],
   "source": [
    "ones = jnp.ones(x0.shape, dtype=jnp.complex128)\n",
    "hvp_diag = hvp_func1(x0, ones, np.array([23, 1, 0, 6]))\n",
    "plt.imshow(jnp.fft.fftshift(jnp.abs(hvp_diag[0,:,:]))); plt.colorbar()"
   ]
  },
  {
   "cell_type": "code",
   "execution_count": null,
   "id": "b6f6e784-4d68-4be7-8a2b-c4f412ce1175",
   "metadata": {},
   "outputs": [],
   "source": [
    "if interp_method == \"nn\":\n",
    "    print(\"Checking\")\n",
    "    assert(jnp.abs(hvp[0,2,1] - hvp_diag[0,2,1]) == 0)"
   ]
  },
  {
   "cell_type": "markdown",
   "id": "228fae66-46dc-413b-86e0-54fa3d755fcb",
   "metadata": {},
   "source": [
    "### Compute full Hessian (only for small operators)"
   ]
  },
  {
   "cell_type": "code",
   "execution_count": null,
   "id": "915f87e5-5b81-4701-bfdc-9944c81cb8de",
   "metadata": {},
   "outputs": [],
   "source": [
    "compute_full_hessian = False"
   ]
  },
  {
   "cell_type": "code",
   "execution_count": null,
   "id": "4dcfbcbe-7732-4a11-8c2d-dc6e6675c40f",
   "metadata": {},
   "outputs": [],
   "source": [
    "if compute_full_hessian:\n",
    "    print(\"Computing Hessian...\", end=\"\")\n",
    "    H1 = jax.hessian(lambda x : loss_func1(x, np.arange(10)))(jnp.real(x0))\n",
    "    print(\"done.\")\n",
    "    H1 = H1.reshape([nx**3, nx**3])\n",
    "    \n",
    "    print(\"Computing Hessian inverse...\", end=\"\")\n",
    "    H1inv = jnp.linalg.inv(H1)\n",
    "    print(\"done.\")\n",
    "\n",
    "    "
   ]
  },
  {
   "cell_type": "code",
   "execution_count": null,
   "id": "41f37ce8-0eeb-4b78-a99a-63542a4039ae",
   "metadata": {},
   "outputs": [],
   "source": [
    "#plt.spy(H1)"
   ]
  },
  {
   "cell_type": "code",
   "execution_count": null,
   "id": "cd05c62b-3ad9-4fa7-9105-18e8cff9a23e",
   "metadata": {},
   "outputs": [],
   "source": [
    "#plt.spy(H1inv)"
   ]
  },
  {
   "cell_type": "code",
   "execution_count": null,
   "id": "445ba795-7b73-4018-b9b6-001c00bf02f2",
   "metadata": {},
   "outputs": [],
   "source": [
    "#H1log = jnp.log(H1)\n",
    "#H1log = jnp.abs(H1log.at[H1log == -jnp.inf].set(0))\n",
    "\n",
    "#H1log = H1log.at[H1log == jnp.inf].set(0)\n",
    "#plt.spy(H1log)"
   ]
  },
  {
   "cell_type": "code",
   "execution_count": null,
   "id": "3b133a73-2b5f-4114-9a6d-29309165abaf",
   "metadata": {},
   "outputs": [],
   "source": [
    "#plt.spy(H1log)"
   ]
  },
  {
   "cell_type": "code",
   "execution_count": null,
   "id": "70d636ca-b129-492e-9a50-99f106d9e7fc",
   "metadata": {},
   "outputs": [],
   "source": [
    "#H1log[0]"
   ]
  },
  {
   "cell_type": "code",
   "execution_count": null,
   "id": "e6a4f304-b9db-4cb6-8822-ee57b6d2bc35",
   "metadata": {},
   "outputs": [],
   "source": [
    "if compute_full_hessian:\n",
    "    plt.rcParams[\"figure.figsize\"]=24,24\n",
    "\n",
    "    plt.imshow((jnp.abs(H1inv)))\n",
    "    plt.colorbar()"
   ]
  },
  {
   "cell_type": "code",
   "execution_count": null,
   "id": "d8b92824-de21-4f1f-a65e-1338e5bac6c9",
   "metadata": {},
   "outputs": [],
   "source": [
    "if compute_full_hessian:\n",
    "    plt.imshow((H1[:nx*3,:nx*3])); plt.colorbar()\n"
   ]
  },
  {
   "cell_type": "code",
   "execution_count": null,
   "id": "efa78ab6-f093-407f-a98a-9952296954cb",
   "metadata": {},
   "outputs": [],
   "source": [
    "if compute_full_hessian:\n",
    "\n",
    "    plt.rcParams[\"figure.figsize\"]=12,12\n",
    "\n",
    "    plt.imshow((H1log[nx**2:2*nx**2,nx**2:2*nx**2])); plt.colorbar()\n",
    "\n",
    "    plt.rcParams[\"figure.figsize\"]=6,6"
   ]
  },
  {
   "cell_type": "code",
   "execution_count": null,
   "id": "eacf4cd1-4dce-4647-ace5-3391242b4a8d",
   "metadata": {},
   "outputs": [],
   "source": [
    "if compute_full_hessian:\n",
    "    plt.rcParams[\"figure.figsize\"]=12,12\n",
    "\n",
    "    plt.imshow((H1log[:2*nx , :nx*2])); plt.colorbar()\n",
    "    #plt.imshow((H1ki)); #plt.colorbar()\n",
    "\n",
    "    plt.rcParams[\"figure.figsize\"]=6,6"
   ]
  },
  {
   "cell_type": "code",
   "execution_count": null,
   "id": "5c29eaea-ac8b-411f-8501-6d18b4a157c8",
   "metadata": {},
   "outputs": [],
   "source": [
    "#plt.plot(H11[78,13300:13400])"
   ]
  },
  {
   "cell_type": "code",
   "execution_count": null,
   "id": "ed8184d1-ce2e-4b9e-b7a5-bc9f01ee84e9",
   "metadata": {},
   "outputs": [],
   "source": [
    "#H11[78,13300:13400]"
   ]
  },
  {
   "cell_type": "markdown",
   "id": "ca55fc2c-5d62-490b-af7a-df17faab3744",
   "metadata": {},
   "source": [
    "### Inititial points"
   ]
  },
  {
   "cell_type": "code",
   "execution_count": null,
   "id": "b1f37217-ff9f-4a09-952f-1faea3fe29ed",
   "metadata": {},
   "outputs": [],
   "source": [
    "# Use a fixed seed and the same size (e.g. 320) every time we generate x01 and x02\n",
    "# and only then crop to the intended size, to ensure that we always generate the same starting \n",
    "# points no matter the dimensions.\n",
    "\n",
    "key = random.PRNGKey(64)\n",
    "key, subkey1, subkey2 = random.split(key, 3)\n",
    "\n",
    "x01 = random.normal(subkey1, [320,320,320], dtype = jnp.complex128)\n",
    "x02 = random.normal(subkey2, [320,320,320], dtype = jnp.complex128)\n",
    "\n",
    "x01 = x01[:nx, :nx, :nx]\n",
    "x02 = x02[:nx, :nx, :nx]\n",
    "\n",
    "print(x01[:2,:2,:2])\n",
    "print(x02[:2,:2,:2])"
   ]
  },
  {
   "cell_type": "markdown",
   "id": "88047d6f-804d-43c7-9377-2a9f6816c606",
   "metadata": {},
   "source": [
    "#### SGD no precon"
   ]
  },
  {
   "cell_type": "code",
   "execution_count": null,
   "id": "9541c479-c274-41eb-8fc7-612da2e56705",
   "metadata": {},
   "outputs": [],
   "source": [
    "N_epochs = 5\n",
    "batch_size = 1000\n",
    "step_size = 10 #1e-1 # 1e1 #1e1 #1e1 #1e1 #1e-4 #1e-1 #1e-5 #1e-2 #1000000 # 1e-3\n",
    "c = 0.9\n",
    "\n",
    "# Step sizes (empirically found, i.e. the largest that doesn't lead to loss exploding): \n",
    "\n",
    "#### Tri interpolation, lam=1e-9\n",
    "\n",
    "# 10k imgs, 64px:\n",
    "#   no precon: 1e1\n",
    "#   precon: 1e-1\n",
    "\n",
    "# 40k imgs, 128px:\n",
    "#  no precon: 1e1\n",
    "#  precon: 1e-1 (with D1, D2 computed as for NN -- similar to OASIS)\n",
    "\n",
    "\n",
    "### NN interpolation, lam=1e-9\n",
    "\n",
    "# 10k imgs, 64px:\n",
    "#   no precon: 1e1\n",
    "#   precon: 1e-1\n",
    "\n",
    "# 40k imgs, 128px:\n",
    "#   no precon: 1e0\n",
    "#   precon: 1e-2\n",
    "\n",
    "\n",
    "### NN interpolation, lam=1e-12\n",
    "\n",
    "# 40k imgs, 128px:\n",
    "#   no precon: 1e1\n",
    "#   precon: \n",
    "\n",
    "# 52k imgs, 192px:\n",
    "#   no precon: 1e0\n",
    "#   precon: "
   ]
  },
  {
   "cell_type": "code",
   "execution_count": null,
   "id": "c6070e22-f729-431f-966d-bec1fe905820",
   "metadata": {},
   "outputs": [],
   "source": [
    "P1 = None\n",
    "\n",
    "t0 = time.time()\n",
    "\n",
    "v_rec1, loss_rec1, grad_rec1 = sgd(grad_func1, loss_func1, N, x01, step_size, N_epochs, batch_size, P = P1, adaptive_step_size = True, c = c, verbose=True, iter_display=1)\n",
    "\n",
    "print(f\"Total time: {time.time()-t0 : .2f} seconds\")"
   ]
  },
  {
   "cell_type": "code",
   "execution_count": null,
   "id": "1e4d84d3-781c-4608-aa5b-e72766c79fc5",
   "metadata": {},
   "outputs": [],
   "source": [
    "P2 = None\n",
    "\n",
    "t0 = time.time()\n",
    "\n",
    "v_rec2, loss_rec2, grad_rec2 = sgd(grad_func2, loss_func2, N, x02, step_size, N_epochs, batch_size, P = P2, adaptive_step_size = True, c = 0.9, verbose=True, iter_display=1)\n",
    "\n",
    "print(f\"Total time: {time.time()-t0 : .2f} seconds\")"
   ]
  },
  {
   "cell_type": "code",
   "execution_count": null,
   "id": "0e35293a-5ac4-4838-a3ee-e6966b91e5a2",
   "metadata": {},
   "outputs": [],
   "source": [
    "plt.semilogy(loss_rec1, 'r')\n",
    "plt.semilogy(loss_rec2, 'g')"
   ]
  },
  {
   "cell_type": "code",
   "execution_count": null,
   "id": "ce5d41c3-633e-46f8-bc68-fedffd243a15",
   "metadata": {},
   "outputs": [],
   "source": [
    "plt.rcParams[\"figure.figsize\"]=12, 12\n",
    "\n",
    "plt.subplot(1,2,1)\n",
    "mip_z(np.fft.fftshift(np.abs(v_rec1))); plt.colorbar()\n",
    "\n",
    "plt.subplot(1,2,2)\n",
    "mip_z(np.fft.fftshift(np.abs(v_rec2))); plt.colorbar()"
   ]
  },
  {
   "cell_type": "code",
   "execution_count": null,
   "id": "d0d7877c-3a1a-424e-bc9d-0f23b9101cbc",
   "metadata": {},
   "outputs": [],
   "source": [
    "v_rec_l1, _ = rescale_larger_grid(v_rec1, x_grid, nx0)\n",
    "vr_sgd1 = jnp.real(jnp.fft.fftshift(jnp.fft.ifftn(v_rec_l1)))\n",
    "\n",
    "v_rec_l2, _ = rescale_larger_grid(v_rec2, x_grid, nx0)\n",
    "vr_sgd2 = jnp.real(jnp.fft.fftshift(jnp.fft.ifftn(v_rec_l2)))\n",
    "\n",
    "plt.subplot(1,2,1)\n",
    "mip_z(vr_sgd1)\n",
    "#plt.colorbar()\n",
    "\n",
    "plt.subplot(1,2,2)\n",
    "mip_z(vr_sgd2)\n",
    "#plt.colorbar()\n",
    "\n",
    "plt.rcParams[\"figure.figsize\"]=6, 6\n"
   ]
  },
  {
   "cell_type": "code",
   "execution_count": null,
   "id": "b799a8fe-ff5c-4821-b2a3-805e002cb15a",
   "metadata": {},
   "outputs": [],
   "source": [
    "with mrcfile.new(f\"{out_dir}/v_rec_sgd1.mrc\", overwrite=True) as mrc:\n",
    "    mrc.set_data(vr_sgd1.astype(np.float32))\n",
    "    \n",
    "with mrcfile.new(f\"{out_dir}/v_rec_sgd2.mrc\", overwrite=True) as mrc:\n",
    "    mrc.set_data(vr_sgd2.astype(np.float32))   "
   ]
  },
  {
   "cell_type": "code",
   "execution_count": null,
   "id": "1d955df3-a44c-4e6b-8618-df5cba517b16",
   "metadata": {},
   "outputs": [],
   "source": [
    "res, fsc_sgd, shell_points = calc_fsc(v_rec1, v_rec2, [1, nx_crop])\n",
    "res_angs = nx0 * pixel_size[0]/res\n",
    "plt.semilogx(res_angs, fsc_sgd)\n",
    "plt.gca().invert_xaxis()\n",
    "plt.title(\"FSC\")"
   ]
  },
  {
   "cell_type": "code",
   "execution_count": null,
   "id": "4131af72-3abf-4a8d-9eaa-f90459606730",
   "metadata": {},
   "outputs": [],
   "source": [
    "print(fsc_sgd[21])\n",
    "print(fsc_sgd[22])\n",
    "print(res_angs[21])\n",
    "print(res_angs[22])"
   ]
  },
  {
   "cell_type": "code",
   "execution_count": null,
   "id": "dac49e47-382d-4371-b777-3e22a4e1f833",
   "metadata": {},
   "outputs": [],
   "source": [
    "print(fsc_sgd[28])\n",
    "print(fsc_sgd[29])\n",
    "print(res_angs[28])\n",
    "print(res_angs[29])"
   ]
  },
  {
   "cell_type": "code",
   "execution_count": null,
   "id": "8acbe015-5140-40ec-8828-b4087f86cc8d",
   "metadata": {},
   "outputs": [],
   "source": [
    "n_epochs"
   ]
  },
  {
   "cell_type": "code",
   "execution_count": null,
   "id": "d77ca473-638d-4800-8015-56da26fe405a",
   "metadata": {},
   "outputs": [],
   "source": [
    "i"
   ]
  },
  {
   "cell_type": "markdown",
   "id": "403fbcd2-4bbe-4c64-a4ac-9f20fdc8de25",
   "metadata": {},
   "source": [
    "### SGD preconditioned + adaptive"
   ]
  },
  {
   "cell_type": "code",
   "execution_count": null,
   "id": "126b91a5-42c3-4859-872c-3252b758ddbe",
   "metadata": {},
   "outputs": [],
   "source": [
    "N_epochs = 5\n",
    "batch_size = 1000\n",
    "step_size = 10\n",
    "c = 0.9"
   ]
  },
  {
   "cell_type": "code",
   "execution_count": null,
   "id": "abf1d497-cd61-44f2-ba3b-8d9b22fe5b7c",
   "metadata": {},
   "outputs": [],
   "source": [
    "# for Tri + big data, I couldn't make the preconditioned work at all. Probably bad preconditioner??\n",
    "\n",
    "P1 = 1/D01\n",
    "\n",
    "t0 = time.time()\n",
    "\n",
    "v_p_rec1, loss_p_rec1, grad_p_rec1 = sgd(grad_func1, loss_func1, N, x01, step_size, N_epochs, batch_size, P = P1, adaptive_step_size = True, c = c, verbose=True, iter_display=1)\n",
    "\n",
    "print(f\"Total time: {time.time()-t0 : .2f} seconds\")"
   ]
  },
  {
   "cell_type": "code",
   "execution_count": null,
   "id": "f28c3220-46b6-4cb2-8597-2a349afc5225",
   "metadata": {},
   "outputs": [],
   "source": [
    "#P2 = None\n",
    "P2 = 1/D02\n",
    "\n",
    "t0 = time.time()\n",
    "\n",
    "v_p_rec2, loss_p_rec2, grad_p_rec2 = sgd(grad_func2, loss_func2, N, x02, step_size, N_epochs, batch_size, P = P2, adaptive_step_size = True, c = c, verbose=True, iter_display=1)\n",
    "\n",
    "print(f\"Total time: {time.time()-t0 : .2f} seconds\")"
   ]
  },
  {
   "cell_type": "code",
   "execution_count": null,
   "id": "de9cdbef-a20f-4a97-bd54-dc794f737600",
   "metadata": {},
   "outputs": [],
   "source": [
    "plt.semilogy(loss_rec1, 'r')\n",
    "plt.semilogy(loss_p_rec1, 'r', linestyle = 'dotted')\n",
    "             \n",
    "plt.semilogy(loss_rec2, 'g')\n",
    "plt.semilogy(loss_p_rec2, 'g', linestyle = 'dotted')"
   ]
  },
  {
   "cell_type": "markdown",
   "id": "487dd74b-3ff3-4736-ad34-66ef8024e8e9",
   "metadata": {},
   "source": [
    "#### OASIS"
   ]
  },
  {
   "cell_type": "markdown",
   "id": "5327f092-fdd2-4e14-96ab-b240179c6956",
   "metadata": {},
   "source": [
    "### Next: try a pixel-wise beta that decreases with the radius x 0.5 or smth like that"
   ]
  },
  {
   "cell_type": "code",
   "execution_count": null,
   "id": "53e6e447-a3b8-4d63-b258-26427b73161c",
   "metadata": {},
   "outputs": [],
   "source": [
    "x0.shape"
   ]
  },
  {
   "cell_type": "code",
   "execution_count": null,
   "id": "cbb6ffc0-e577-4ac6-bd39-460fa2b5dd30",
   "metadata": {},
   "outputs": [],
   "source": [
    "128-32"
   ]
  },
  {
   "cell_type": "code",
   "execution_count": null,
   "id": "ddb0ed0a-afa7-4731-b051-ef8586e4c794",
   "metadata": {},
   "outputs": [],
   "source": [
    "bb = np.ones(x0.shape)\n",
    "bb[32:96,32:96,32:96] = 0.8\n",
    "bb = jnp.fft.ifftshift(bb)"
   ]
  },
  {
   "cell_type": "code",
   "execution_count": null,
   "id": "affdb019-fe61-4fc9-a81f-5e3610101012",
   "metadata": {},
   "outputs": [],
   "source": [
    "plt.imshow(bb[0])\n",
    "plt.colorbar()"
   ]
  },
  {
   "cell_type": "code",
   "execution_count": null,
   "id": "eeb9e81e-f271-444f-9ee4-451bec7300f0",
   "metadata": {},
   "outputs": [],
   "source": [
    "N_epoch = 5\n",
    "beta2 = bb # 0.8 \n",
    "eta0 = 10 # 1e0 #5e-2 #1e-2 # 1e-3 #1e-5 #0.0001 #0.1/0.001/0.01/0.15\n",
    "batch_size = 1000\n",
    "alpha = 0 #1e-7 \n",
    "c = 0.9\n",
    "\n",
    "\n",
    "#### Tri interpolation, lam=1e-9\n",
    "\n",
    "# 10k imgs, 64px:\n",
    "#  1e-1 (*0.5 or not depending on beta2)\n",
    "\n",
    "# 40k imgs, 128px:\n",
    "#  1e-2 \n",
    "\n",
    "# On the big dataset, D1 D2 as calculated for NN interpolation seem better than the ones obtained \n",
    "# using Hutchinson's method with 20 epochs.\n",
    "\n",
    "\n",
    "#### NN interpolation, no sigma_noise, lam=1e-9\n",
    "\n",
    "# 10k imgs, 64px:\n",
    "#   1e-1\n",
    "\n",
    "# 40k imgs, 128px:\n",
    "#   1e-2\n",
    "\n",
    "# 52k imgs, 192px: (lam=1e-7)\n",
    "#   1e-2 "
   ]
  },
  {
   "cell_type": "code",
   "execution_count": null,
   "id": "6055f427-df06-4576-8e1b-e765965c5c69",
   "metadata": {},
   "outputs": [],
   "source": [
    "key, subkey = random.split(key)\n",
    "\n",
    "t0 = time.time()\n",
    "\n",
    "v_rec_o1, loss_o1 = oasis(subkey, loss_func1, grad_func1, hvp_func1, x01, eta0, jnp.ones(x01.shape), beta2, alpha, N_epoch, batch_size = batch_size, N = N, adaptive_step_size = True, c = c, iter_display = 1)\n",
    "\n",
    "print(f\"Total time: {time.time()-t0 : .2f} seconds\")"
   ]
  },
  {
   "cell_type": "code",
   "execution_count": null,
   "id": "c2228886-89e5-45d1-90b1-f0f9bf782587",
   "metadata": {},
   "outputs": [],
   "source": [
    "key, subkey = random.split(key)\n",
    "\n",
    "t0 = time.time()\n",
    "\n",
    "v_rec_o2, loss_o2 = oasis(subkey, loss_func2, grad_func2, hvp_func2, x02, eta0, jnp.ones(x02.shape), beta2, alpha, N_epoch, batch_size = batch_size, N = N, adaptive_step_size = True, c = c, iter_display = 1)\n",
    "\n",
    "print(f\"Total time: {time.time()-t0 : .2f} seconds\")"
   ]
  },
  {
   "cell_type": "code",
   "execution_count": null,
   "id": "0b904572-3ecf-4acb-880f-af1942ef50db",
   "metadata": {},
   "outputs": [],
   "source": [
    "plt.semilogy(loss_rec1, 'r')\n",
    "plt.semilogy(loss_rec2, 'g')\n",
    "#plt.semilogy(loss_p_rec1, 'r')\n",
    "#plt.semilogy(loss_p_rec2, 'g')\n",
    "plt.semilogy(loss_o1, 'r--')\n",
    "plt.semilogy(loss_o2, 'g--')\n",
    "plt.legend([\"SGD1 p\", \"SGD2 p\", \"OASIS1\", \"OASIS2\"])\n"
   ]
  },
  {
   "cell_type": "markdown",
   "id": "f6de1606-ced0-40e3-bd47-359a27c6f9e9",
   "metadata": {},
   "source": [
    "## Not sure why the first point is not the same for both - see after restarting the notebook?"
   ]
  },
  {
   "cell_type": "code",
   "execution_count": null,
   "id": "2e38e34b-5082-4171-8d74-84e5e154a8e3",
   "metadata": {},
   "outputs": [],
   "source": [
    "plt.rcParams[\"figure.figsize\"]=12, 6\n",
    "\n",
    "plt.subplot(121)\n",
    "\n",
    "plt.semilogy(loss_rec1, 'r.-')\n",
    "#plt.semilogy(loss_p_rec1, 'r')\n",
    "plt.semilogy(loss_o1, 'r--')\n",
    "\n",
    "#plt.legend([\"SGD1 a\", \"SGD1 p+a\", \"OASIS1\"])\n",
    "plt.legend([\"SGD1 a\", \"OASIS1\"])\n",
    "\n",
    "plt.subplot(122)\n",
    "\n",
    "plt.semilogy(loss_rec2, 'g.-')\n",
    "#plt.semilogy(loss_p_rec2, 'g')\n",
    "plt.semilogy(loss_o2, 'g--')\n",
    "\n",
    "#plt.legend([\"SGD2 a\", \"SGD2 p+a\", \"OASIS2\"])\n",
    "plt.legend([\"SGD2 a\", \"OASIS2\"])\n",
    "\n",
    "\n",
    "plt.rcParams[\"figure.figsize\"]=6, 6\n"
   ]
  },
  {
   "cell_type": "code",
   "execution_count": null,
   "id": "be66260c-ae97-4c74-b2fa-4489277ac676",
   "metadata": {},
   "outputs": [],
   "source": [
    "b"
   ]
  },
  {
   "cell_type": "code",
   "execution_count": null,
   "id": "46b5a73a-52a9-4da3-a31f-a2a4023f55b5",
   "metadata": {},
   "outputs": [],
   "source": [
    "jnp.max(jnp.abs(v_rec1))"
   ]
  },
  {
   "cell_type": "code",
   "execution_count": null,
   "id": "c2ba1e64-3661-4c1c-8c60-d47b4f4deb5d",
   "metadata": {},
   "outputs": [],
   "source": [
    "jnp.max(jnp.abs(v_rec_o1))"
   ]
  },
  {
   "cell_type": "code",
   "execution_count": null,
   "id": "67c0e1ef-40ab-412d-8134-727075e0e6f7",
   "metadata": {},
   "outputs": [],
   "source": [
    "vv1 = v_rec_o1.at[jnp.abs(v_rec_o1) > jnp.max(jnp.abs(v_rec1))].set(0)\n",
    "vv2 = v_rec_o2.at[jnp.abs(v_rec_o2) > jnp.max(jnp.abs(v_rec2))].set(0)"
   ]
  },
  {
   "cell_type": "code",
   "execution_count": null,
   "id": "58f6e9d9-0a4a-4be8-95f0-d043923365fe",
   "metadata": {},
   "outputs": [],
   "source": [
    "plt.rcParams[\"figure.figsize\"]= 12, 12\n",
    "\n",
    "plt.subplot(1,2,1)\n",
    "#mip_z(np.fft.fftshift(np.abs(v_rec_o1))); plt.colorbar()\n",
    "mip_z(np.fft.fftshift(np.abs(vv1))); plt.colorbar()\n",
    "\n",
    "plt.subplot(1,2,2)\n",
    "#mip_z(np.fft.fftshift(np.abs(v_rec_o2))); plt.colorbar()\n",
    "mip_z(np.fft.fftshift(np.abs(vv2))); plt.colorbar()\n"
   ]
  },
  {
   "cell_type": "code",
   "execution_count": null,
   "id": "4ada1218-b7e4-47c2-8cdd-5ec0b50686c1",
   "metadata": {},
   "outputs": [],
   "source": [
    "#plt.rcParams[\"figure.figsize\"]= 12, 12\n",
    "\n",
    "#plt.subplot(1,2,1)\n",
    "#mip_z(np.fft.fftshift(np.real(v_rec_oa1))); plt.colorbar()\n",
    "\n",
    "#plt.subplot(1,2,2)\n",
    "#mip_z(np.fft.fftshift(np.abs(v_rec_oa2))); plt.colorbar()\n"
   ]
  },
  {
   "cell_type": "code",
   "execution_count": null,
   "id": "53f8a282-f99b-4dba-baed-1123ad61ee4f",
   "metadata": {},
   "outputs": [],
   "source": [
    "v_rec_ol1, _ = rescale_larger_grid(vv1, x_grid, nx0)\n",
    "vr_o1 = jnp.real(jnp.fft.fftshift(jnp.fft.ifftn(v_rec_ol1)))\n",
    "\n",
    "v_rec_ol2, _ = rescale_larger_grid(vv2, x_grid, nx0)\n",
    "vr_o2 = jnp.real(jnp.fft.fftshift(jnp.fft.ifftn(v_rec_ol2)))\n",
    "\n",
    "plt.subplot(1,2,1)\n",
    "mip_z(vr_o1)\n",
    "#plt.colorbar()\n",
    "\n",
    "plt.subplot(1,2,2)\n",
    "mip_z(vr_o2)\n",
    "#plt.colorbar()\n",
    "\n",
    "plt.rcParams[\"figure.figsize\"]=6, 6\n"
   ]
  },
  {
   "cell_type": "code",
   "execution_count": null,
   "id": "3b7c240a-4e44-45eb-9d71-6f6187d21d78",
   "metadata": {},
   "outputs": [],
   "source": [
    "with mrcfile.new(f\"{out_dir}/v_rec_o1.mrc\", overwrite=True) as mrc:\n",
    "    mrc.set_data(vr_o1.astype(np.float32))\n",
    "    \n",
    "with mrcfile.new(f\"{out_dir}/v_rec_o2.mrc\", overwrite=True) as mrc:\n",
    "    mrc.set_data(vr_o2.astype(np.float32))   "
   ]
  },
  {
   "cell_type": "code",
   "execution_count": null,
   "id": "3c845e19-b9d0-46af-a140-1c628c6ca926",
   "metadata": {},
   "outputs": [],
   "source": [
    "#res, fsc_o, shell_points = calc_fsc(v_rec_o1, v_rec_o2, [1, nx_crop])\n",
    "res, fsc_o, shell_points = calc_fsc(vv1, vv2, [1, nx_crop])\n",
    "\n",
    "res_angs = nx0 * pixel_size[0]/res\n",
    "plt.semilogx(res_angs, fsc_o)\n",
    "plt.gca().invert_xaxis()\n",
    "plt.title(\"FSC\")"
   ]
  },
  {
   "cell_type": "code",
   "execution_count": null,
   "id": "70b5dd7a-b04e-42b6-86a3-fd5bdf52f4bc",
   "metadata": {},
   "outputs": [],
   "source": [
    "plt.semilogx(res_angs, fsc_sgd, 'r')\n",
    "plt.semilogx(res_angs, fsc_o, 'g')\n",
    "plt.gca().invert_xaxis()\n",
    "plt.title(\"FSC\")\n",
    "plt.legend([\"SGD\", \"OASIS\"])"
   ]
  },
  {
   "cell_type": "code",
   "execution_count": null,
   "id": "64ee0e69-1732-462e-8ccc-f7778b3c9a05",
   "metadata": {},
   "outputs": [],
   "source": [
    "print(fsc_o[19])\n",
    "print(fsc_o[20])\n",
    "print(res_angs[19])\n",
    "print(res_angs[20])"
   ]
  },
  {
   "cell_type": "code",
   "execution_count": null,
   "id": "9049cf46-42dc-4cc5-99e1-1d682163a08e",
   "metadata": {},
   "outputs": [],
   "source": [
    "print(fsc_o[26])\n",
    "print(fsc_o[27])\n",
    "print(res_angs[26])\n",
    "print(res_angs[27])"
   ]
  },
  {
   "cell_type": "code",
   "execution_count": null,
   "id": "b862ca32-7e83-4546-83a2-719df6d82e47",
   "metadata": {},
   "outputs": [],
   "source": [
    "# Just make sure that the loss at the starting points x01 and x02 is indeed larger than\n",
    "# everything plotted\n",
    "\n",
    "batch_sz = 100\n",
    "n_batch = N / batch_sz\n",
    "idx_batches = np.array_split(np.arange(N), n_batch)\n",
    "\n",
    "loss_x01 = 0\n",
    "loss_x02 = 0\n",
    "for idx in tqdm(idx_batches):\n",
    "    loss_x01 += loss_func1(x01, idx)\n",
    "    loss_x02 += loss_func2(x02, idx)\n",
    "    \n",
    "loss_x01 = loss_x01/n_batch                             \n",
    "loss_x02 = loss_x02/n_batch \n",
    "\n",
    "print(f\"loss1(x01) = {loss_x01}\")x\n",
    "print(f\"loss2(x02) = {loss_x02}\")"
   ]
  },
  {
   "cell_type": "code",
   "execution_count": null,
   "id": "8c6dc886-57c4-44b7-904b-2b9e9586e17f",
   "metadata": {},
   "outputs": [],
   "source": [
    "plt.rcParams[\"figure.figsize\"]=12,6\n",
    "\n",
    "plt.subplot(1,2,1)\n",
    "\n",
    "plt.semilogy(loss_rec1, 'r')\n",
    "plt.semilogy(loss_rec2, 'g')\n",
    "plt.semilogy(loss_o1, 'r--')\n",
    "plt.semilogy(loss_o2, 'g--')\n",
    "\n",
    "#plt.semilogy(loss_x01 * np.ones((N_epochs,)))\n",
    "#plt.semilogy(loss_x02 * np.ones((N_epochs,)))       \n",
    "\n",
    "plt.title(\"Loss\")\n",
    "plt.legend([\"SGD1\", \"SGD2\", \"OASIS1\", \"OASIS2\"])\n",
    "\n",
    "plt.subplot(1,2,2)\n",
    "\n",
    "plt.semilogx(res_angs, fsc_sgd, 'r')\n",
    "plt.semilogx(res_angs, fsc_o, 'g')\n",
    "plt.gca().invert_xaxis()\n",
    "plt.title(\"FSC\")\n",
    "plt.legend([\"SGD\", \"OASIS\"])\n",
    "\n",
    "plt.rcParams[\"figure.figsize\"]=6,6"
   ]
  },
  {
   "cell_type": "markdown",
   "id": "d91368d1-8091-42f6-8609-0e6a61755889",
   "metadata": {},
   "source": [
    "#### CG"
   ]
  },
  {
   "cell_type": "code",
   "execution_count": null,
   "id": "d2594de7-5267-49e1-aefe-d9a840791592",
   "metadata": {},
   "outputs": [],
   "source": [
    "N_iter = 20\n"
   ]
  },
  {
   "cell_type": "code",
   "execution_count": null,
   "id": "7ab03bae-e4db-4d49-a5ca-4c3e45618f17",
   "metadata": {},
   "outputs": [],
   "source": [
    "AA1, Ab1 = get_cg_vol_ops(gradv_obj.grad_loss_volume_sum, angles1, shifts1, ctf_params1, imgs_f1, v_rec1.shape, sigma_noise)\n",
    "AA2, Ab2 = get_cg_vol_ops(gradv_obj.grad_loss_volume_sum, angles2, shifts2, ctf_params2, imgs_f2, v_rec1.shape, sigma_noise)\n"
   ]
  },
  {
   "cell_type": "code",
   "execution_count": null,
   "id": "40cfcec5-5920-48e6-87e6-019feb04a55f",
   "metadata": {},
   "outputs": [],
   "source": [
    "v_rec_cg1, k1, v_rec_cg1_all = cg(AA1, Ab1, x01, N_iter, verbose=True)"
   ]
  },
  {
   "cell_type": "code",
   "execution_count": null,
   "id": "4350dc69-a898-45d5-823d-7eb23129ed18",
   "metadata": {},
   "outputs": [],
   "source": [
    "v_rec_cg2, k2, v_rec_cg2_all = cg(AA2, Ab2, x02, N_iter, verbose=True)"
   ]
  },
  {
   "cell_type": "code",
   "execution_count": null,
   "id": "be434625-4251-41b9-a077-d9bf9599c241",
   "metadata": {},
   "outputs": [],
   "source": [
    "loss_cg1 = jax.vmap(loss_func1, in_axes = (0, None))(jnp.array(v_rec_cg1_all), jnp.arange(N))\n",
    "loss_cg2 = jax.vmap(loss_func2, in_axes = (0, None))(jnp.array(v_rec_cg2_all), jnp.arange(N))"
   ]
  },
  {
   "cell_type": "code",
   "execution_count": null,
   "id": "6ed72754-1a9a-401c-8a19-a9ad730d986f",
   "metadata": {},
   "outputs": [],
   "source": [
    "plt.plot(loss_rec1, 'r')\n",
    "plt.plot(loss_rec2, 'g')\n",
    "plt.plot(loss_o1, 'r--')\n",
    "plt.plot(loss_o2, 'g--')\n",
    "plt.plot(loss_cg1, 'r:')\n",
    "plt.plot(loss_cg2, 'g:')\n",
    "\n",
    "plt.legend([\"SGD1\", \"SGD2\", \"OASIS1\", \"OASIS2\", \"CG1\", \"CG2\"])\n"
   ]
  },
  {
   "cell_type": "code",
   "execution_count": null,
   "id": "a0e18a92-f020-45ba-b95a-b837f80b2a6c",
   "metadata": {},
   "outputs": [],
   "source": [
    "plt.rcParams[\"figure.figsize\"]=12, 12\n",
    "\n",
    "plt.subplot(1,2,1)\n",
    "mip_z(np.fft.fftshift(np.abs(v_rec_cg1))); plt.colorbar()\n",
    "\n",
    "plt.subplot(1,2,2)\n",
    "mip_z(np.fft.fftshift(np.abs(v_rec_cg2))); plt.colorbar()"
   ]
  },
  {
   "cell_type": "code",
   "execution_count": null,
   "id": "6e064187-10b9-43cc-bedc-bcb3c2284f9f",
   "metadata": {},
   "outputs": [],
   "source": [
    "v_rec_cgl1, _ = rescale_larger_grid(v_rec_cg1, x_grid, nx0)\n",
    "vr_cg1 = jnp.real(jnp.fft.fftshift(jnp.fft.ifftn(v_rec_cgl1)))\n",
    "\n",
    "v_rec_cgl2, _ = rescale_larger_grid(v_rec_cg2, x_grid, nx0)\n",
    "vr_cg2 = jnp.real(jnp.fft.fftshift(jnp.fft.ifftn(v_rec_cgl2)))\n",
    "\n",
    "plt.subplot(1,2,1)\n",
    "mip_z(vr_cg1)\n",
    "#plt.colorbar()\n",
    "\n",
    "plt.subplot(1,2,2)\n",
    "mip_z(vr_cg2)\n",
    "#plt.colorbar()\n",
    "\n",
    "plt.rcParams[\"figure.figsize\"]=6, 6\n"
   ]
  },
  {
   "cell_type": "code",
   "execution_count": null,
   "id": "75c69e1c-7a68-4f51-a349-788611743471",
   "metadata": {},
   "outputs": [],
   "source": [
    "with mrcfile.new(f\"{out_dir}/v_rec_cg1.mrc\", overwrite=True) as mrc:\n",
    "    mrc.set_data(vr_cg1.astype(np.float32))\n",
    "    \n",
    "with mrcfile.new(f\"{out_dir}/v_rec_cg2.mrc\", overwrite=True) as mrc:\n",
    "    mrc.set_data(vr_cg2.astype(np.float32))  "
   ]
  },
  {
   "cell_type": "code",
   "execution_count": null,
   "id": "68c74836-8c1f-4eef-8212-91d7ec0929f5",
   "metadata": {},
   "outputs": [],
   "source": [
    "res, fsc_cg, shell_points = calc_fsc(v_rec_cg1, v_rec_cg2, [1, nx_crop])\n",
    "\n",
    "res_angs = nx0 * pixel_size[0]/res\n",
    "plt.semilogx(res_angs, fsc_cg)\n",
    "plt.gca().invert_xaxis()\n",
    "plt.title(\"FSC\")"
   ]
  },
  {
   "cell_type": "code",
   "execution_count": null,
   "id": "dcd38c80-376c-4a82-a3dc-3a2350869b73",
   "metadata": {},
   "outputs": [],
   "source": [
    "fsc_cg"
   ]
  },
  {
   "cell_type": "code",
   "execution_count": null,
   "id": "504973c1-7aed-4842-ada7-bb4eefb9bf4b",
   "metadata": {},
   "outputs": [],
   "source": [
    "loss1_x0 = loss_func1(x01, jnp.arange(N)) * jnp.ones((N_iter,))\n",
    "loss2_x0 = loss_func2(x02, jnp.arange(N)) * jnp.ones((N_iter,))"
   ]
  },
  {
   "cell_type": "code",
   "execution_count": null,
   "id": "0004968f-7e81-4da3-812e-dc250b8c8b36",
   "metadata": {},
   "outputs": [],
   "source": [
    "plt.rcParams[\"figure.figsize\"]=12,6\n",
    "\n",
    "plt.subplot(1,2,1)\n",
    "\n",
    "plt.plot(loss_rec1, 'r')\n",
    "plt.plot(loss_rec2, 'g')\n",
    "plt.plot(loss_o1, 'r--')\n",
    "plt.plot(loss_o2, 'g--')\n",
    "plt.plot(loss_cg1, 'r:')\n",
    "plt.plot(loss_cg2, 'g:')\n",
    "#plt.semilogy(loss1_x0)\n",
    "#plt.semilogy(loss2_x0)\n",
    "\n",
    "plt.title(\"Loss\")\n",
    "plt.legend([\"SGD1\", \"SGD2\", \"OASIS1\", \"OASIS2\", \"CG1\", \"CG2\"])\n",
    "\n",
    "plt.subplot(1,2,2)\n",
    "\n",
    "plt.semilogx(res_angs, fsc_sgd)\n",
    "plt.semilogx(res_angs, fsc_o)\n",
    "plt.semilogx(res_angs, fsc_cg)\n",
    "plt.gca().invert_xaxis()\n",
    "plt.title(\"FSC\")\n",
    "plt.legend([\"SGD\", \"OASIS\", \"CG\"])\n",
    "\n",
    "plt.rcParams[\"figure.figsize\"]=6,6"
   ]
  },
  {
   "cell_type": "code",
   "execution_count": null,
   "id": "61cd6ca6-834d-4bc1-ab17-e3c9d2a96560",
   "metadata": {},
   "outputs": [],
   "source": [
    "print(fsc_cg[15])\n",
    "print(fsc_cg[16])\n",
    "print(res_angs[15])\n",
    "print(res_angs[16])"
   ]
  },
  {
   "cell_type": "code",
   "execution_count": null,
   "id": "3e98c8f0-daee-4f5f-ab34-dd690b103e1a",
   "metadata": {},
   "outputs": [],
   "source": [
    "print(loss_func1(v_rec1, jnp.arange(N)))\n",
    "print(loss_func1(v_p_rec1, jnp.arange(N)))\n",
    "print(loss_func1(v_rec_o1, jnp.arange(N)))\n",
    "print(loss_func1(v_rec_cg1, jnp.arange(N)))"
   ]
  },
  {
   "cell_type": "code",
   "execution_count": null,
   "id": "79188e6b-8453-4167-9872-a024c64c6ed3",
   "metadata": {},
   "outputs": [],
   "source": [
    "print(loss_func2(v_rec2, jnp.arange(N)))\n",
    "print(loss_func2(v_p_rec2, jnp.arange(N)))\n",
    "print(loss_func2(v_rec_o2, jnp.arange(N)))\n",
    "print(loss_func2(v_rec_cg2, jnp.arange(N)))"
   ]
  },
  {
   "cell_type": "markdown",
   "id": "3d0eaf79-ad75-4c01-b524-dd628542c993",
   "metadata": {},
   "source": [
    "### Notes:\n",
    "\n",
    "* It's important to use a large batch size for both SGD and OASIS: 1000 for 64-128px is good.\n",
    "* OASIS rec with fixed rate is the same as SGD with D0 preconditioner,  the loss and results/FSC are almost identical (since here the Hessian doesn't depend on the current iterate and therefore is estimated perfectly at the beginning). -- actually not true in my latest experiments and I don't know why\n",
    "* When using no $\\sigma_{noise}$ with $128$ pixels and 40,000 images, both OASIS and SGD with precon required higher regularization parameter $10^{-5}$ compared to the other runs, where I used reg param $10^{-9}$\n",
    "* I should with a dataset with no heterogeneity in the future\n",
    "* Still don't know why the adaptive version fails"
   ]
  },
  {
   "cell_type": "code",
   "execution_count": null,
   "id": "0c3326d1-366d-4976-8005-5d9c55db784c",
   "metadata": {},
   "outputs": [],
   "source": [
    "pixel_size * 320/128"
   ]
  },
  {
   "cell_type": "markdown",
   "id": "11587b13-1c60-4711-9bc8-821bdcabb783",
   "metadata": {
    "tags": []
   },
   "source": [
    "### Results:\n",
    "\n",
    "Showing resolution cutoff at $FSC=0.5$ everywhere:\n",
    "\n",
    "#### 1. Small data: `nx_crop=64px` and 10,000 images in each half set, 20 epochs (for SGD/OASIS) and 20 iters (for CG):\n",
    "\n",
    "Everything here is with regularization parameter $10^{-9}$\n",
    "\n",
    "Trilinear interpolation\n",
    "* SGD no precon: $\\approx 20 Å$ \n",
    "* SGD with precon: $\\approx 20 Å$ \n",
    "* OASIS: $\\approx 20 Å$ \n",
    "* OASIS adaptive: meh\n",
    "* CG: $\\approx 20 Å$ \n",
    "\n",
    "Nearest neighbour interpolation:\n",
    "\n",
    "All $\\approx 20 Å$ \n",
    "\n",
    "\n",
    "^ The FSC curves are almost identical for all\n",
    "\n",
    "#### 2. Large data: `nx_crop=128px` and 40,000 images in each half set, 10 epochs:\n",
    "\n",
    "Tri and NN, all around $\\approx 14-15 Å$ "
   ]
  },
  {
   "cell_type": "markdown",
   "id": "27c78c1b-f97f-45a2-899a-38a068a9e2e0",
   "metadata": {},
   "source": [
    "# Figuring out the algorithm, running it on toy problem"
   ]
  },
  {
   "cell_type": "markdown",
   "id": "6f4e8acf-da8b-4931-a80f-2a2a1dc3694f",
   "metadata": {},
   "source": [
    "### OASIS"
   ]
  },
  {
   "cell_type": "markdown",
   "id": "b33042af-f43f-4111-a61c-4748826bb4a1",
   "metadata": {},
   "source": [
    "#### Hutchinson's method"
   ]
  },
  {
   "cell_type": "markdown",
   "id": "1d64e3e8-d051-49f6-b612-3ae4408e2681",
   "metadata": {},
   "source": [
    "The diagonal of a symmetric matrix can be approximated as follows:\n",
    "\n",
    "$\n",
    "\\text{diag}(A) = \\mathbb{E}[z * Az ],\n",
    "$\n",
    "\n",
    "where $z$ is a random vector with Rademacher or Gaussian distribution and $*$ represents element-wise multiplication.\n",
    "\n",
    "Here we're reproducing Figure 1 in the OASIS paper."
   ]
  },
  {
   "cell_type": "code",
   "execution_count": null,
   "id": "0b5f24cb-e3bb-478e-8aba-588f3880ebaa",
   "metadata": {},
   "outputs": [],
   "source": [
    "n = 100\n",
    "\n",
    "key = random.PRNGKey(int(jnp.floor(np.random.rand()*1000)))"
   ]
  },
  {
   "cell_type": "code",
   "execution_count": null,
   "id": "321d8933-93a7-4ab3-aa9a-5fd5d6a717f8",
   "metadata": {},
   "outputs": [],
   "source": [
    "key, subkey = random.split(key)\n",
    "\n",
    "A = random.normal(subkey, (n,n), dtype=jnp.complex128)\n",
    "A = A.T + A\n",
    "\n",
    "plt.imshow(jnp.real(A)); plt.colorbar()"
   ]
  },
  {
   "cell_type": "code",
   "execution_count": null,
   "id": "68e6e03d-a88f-4121-b28f-9a96fd573ea4",
   "metadata": {},
   "outputs": [],
   "source": [
    "iters = 10000\n",
    "\n",
    "key, subkey = random.split(key)\n",
    "z = random.rademacher(subkey, (iters, n))\n",
    "\n",
    "#z * A @ z "
   ]
  },
  {
   "cell_type": "code",
   "execution_count": null,
   "id": "436158da-1e91-45ce-834e-8e918fd6f3c0",
   "metadata": {},
   "outputs": [],
   "source": [
    "zAz = jax.vmap(lambda zi : zi * (A @ zi))(z)\n",
    "#plt.imshow(zAz)"
   ]
  },
  {
   "cell_type": "code",
   "execution_count": null,
   "id": "cae0c37c-9ffa-4c6c-af4a-a0c58c3f3823",
   "metadata": {},
   "outputs": [],
   "source": [
    "d = np.zeros((iters, n), dtype=A.dtype)\n",
    "d[0] = zAz[0]\n",
    "for i in range(1, iters):\n",
    "    d[i] = d[i-1] + zAz[i]\n",
    "    \n",
    "for i in range(1, iters):\n",
    "    d[i] = d[i]/(i+1)"
   ]
  },
  {
   "cell_type": "code",
   "execution_count": null,
   "id": "c8e1da64-4869-4139-8fa4-c6a290078927",
   "metadata": {},
   "outputs": [],
   "source": [
    "err = jnp.mean((d - jnp.diag(A))**2, axis=1)"
   ]
  },
  {
   "cell_type": "code",
   "execution_count": null,
   "id": "c65d8665-b965-4c44-84e5-5957c6a527dc",
   "metadata": {},
   "outputs": [],
   "source": [
    "plt.semilogy(jnp.abs(err))"
   ]
  },
  {
   "cell_type": "markdown",
   "id": "8d9a6610-5cd6-45a3-ae7c-247a47da4ff1",
   "metadata": {},
   "source": [
    "#### Hessian-vector product in JaX"
   ]
  },
  {
   "cell_type": "code",
   "execution_count": null,
   "id": "9a4d218b-4071-48db-88b1-a0f838b6b2a1",
   "metadata": {},
   "outputs": [],
   "source": [
    "key, *subkey = random.split(key, 4)\n",
    "x0 = random.normal(subkey[0], (n,))\n",
    "x = random.normal(subkey[1], (n,))\n",
    "v = random.normal(subkey[2], (n,))"
   ]
  },
  {
   "cell_type": "code",
   "execution_count": null,
   "id": "31e002d4-dd70-42db-a9fc-b5be7426b11e",
   "metadata": {},
   "outputs": [],
   "source": [
    "b = A @ x0 \n",
    "f = lambda x : jnp.real(jnp.mean(jnp.conj(A @ x - b)*(A@x-b)))"
   ]
  },
  {
   "cell_type": "code",
   "execution_count": null,
   "id": "2b9c9028-1e56-4436-b811-8916ab65171f",
   "metadata": {},
   "outputs": [],
   "source": [
    "from jax import jvp, grad\n",
    "\n",
    "# Naive\n",
    "def hvp0(f, x, v):\n",
    "    return grad(lambda x : jnp.vdot(grad(f)(x), v))(x)\n",
    "\n",
    "# forward-over-reverse\n",
    "def hvp(f, x, v):\n",
    "    return jvp(jax.grad(f), x, v)[1]"
   ]
  },
  {
   "cell_type": "code",
   "execution_count": null,
   "id": "29e5c85b-5d3c-4ac7-ac84-e7354b893043",
   "metadata": {},
   "outputs": [],
   "source": [
    "%timeit hvp0(f, x, v)\n",
    "\n",
    "%timeit hvp(f, (x,), (v,))\n",
    "\n",
    "v1 = hvp0(f, x, v)\n",
    "v2 = hvp(f, (x,), (v,))\n",
    "jnp.sum(jnp.abs(v1-v2))"
   ]
  },
  {
   "cell_type": "markdown",
   "id": "37b9b821-9bdc-4fda-88d0-6a29fc9d0e79",
   "metadata": {},
   "source": [
    "#### Toy problem"
   ]
  },
  {
   "cell_type": "code",
   "execution_count": null,
   "id": "4904d533-80e6-423c-a774-092091bd9c92",
   "metadata": {},
   "outputs": [],
   "source": [
    "key, *subkey = random.split(key, 3)\n",
    "\n",
    "x_gt = random.normal(subkey[0], (n,), dtype=jnp.complex128)\n",
    "\n",
    "A = random.normal(subkey[1], (n,n), dtype=x_gt.dtype)\n",
    "A = A.T @ A\n",
    "_, v = jnp.linalg.eigh(A)\n",
    "d = jnp.flip(jnp.logspace(-5,1,n)) \n",
    "d = d + jnp.abs(jnp.min(d)*2)\n",
    "A = v.T @ jnp.diag(d) @ v\n",
    "\n",
    "evals, evecs = np.linalg.eig(A)\n",
    "evals = np.flip(np.sort(evals))\n",
    "\n",
    "\n",
    "assert(jnp.sum(evals < 0) == 0)\n",
    "assert(jnp.max(jnp.imag(evals)) < 1e-13)\n",
    "#assert(jnp.max(jnp.abs(A.T - A)) == 0)\n",
    "#assert(jnp.sum(jnp.abs(A@A.T - A.T@ A)) == 0)\n",
    "\n",
    "evals = jnp.real(evals)\n",
    "plt.semilogy(evals, '.')\n",
    "plt.title(\"Eigenvalues\")\n",
    "print(f\"Condition number = {evals[0]/evals[n-1] : .2e}\")"
   ]
  },
  {
   "cell_type": "code",
   "execution_count": null,
   "id": "401090de-ef3e-4e42-8ccb-66742693059c",
   "metadata": {},
   "outputs": [],
   "source": [
    "sig_noise = 1\n",
    "lam = 0.1\n",
    "\n",
    "key, subkey = random.split(key)\n",
    "\n",
    "b = A @ x_gt  + random.normal(subkey, (n,)) * sig_noise\n",
    "\n",
    "F = jax.jit(lambda x : jnp.real(jnp.mean(jnp.conj(A @ x - b)*(A @ x - b)) + lam * jnp.mean(jnp.conj(x)*x)))\n",
    "print(f\"f(x_gt + 1) = {F(x_gt+1)}\")\n",
    "print(f\"f(x_gt) = {F(x_gt)}\")\n",
    "\n",
    "gradF = jax.jit(jax.grad(F))\n",
    "#hessianF = jax.hessian(F)\n",
    "\n",
    "hvpF = jax.jit(lambda x, v : hvp(F, (x,), (v,)))\n",
    "\n",
    "print(f\"gradF(x_gt) = {gradF(x_gt)}\")\n",
    "#print(f\"hessianF(x_gt) = {hessianF(x_gt)}\")\n"
   ]
  },
  {
   "cell_type": "code",
   "execution_count": null,
   "id": "b94e1555-0cba-4e87-a8ae-fff9a418bbdd",
   "metadata": {},
   "outputs": [],
   "source": [
    "def gd(F, gradF, eta, w0, N_iter = 20, iter_display = 1):\n",
    "    loss = []\n",
    "    for k in range(1, N_iter+1):\n",
    "        w1 = w0 - eta * jnp.conj(gradF(w0))\n",
    "        loss_i = F(w1)\n",
    "        loss.append(loss_i)\n",
    "        \n",
    "        w0 = w1\n",
    "        \n",
    "        if k % iter_display == 0:\n",
    "            print(f\"Iter {k}: loss = {loss_i}\")\n",
    "            \n",
    "    return w1, jnp.array(loss)\n",
    "\n",
    "def newton(F, gradF, hessianF, w0, N_iter = 20, iter_display = 1):\n",
    "    loss = []\n",
    "    for k in range(1, N_iter+1):\n",
    "        G = gradF(w0)\n",
    "        H = hessianF(w0)\n",
    "        \n",
    "        w1 = w0 - jnp.conj(jnp.linalg.inv(H) @ G)\n",
    "        loss_i = F(w1)\n",
    "        loss.append(loss_i)\n",
    "        \n",
    "        w0 = w1\n",
    "        \n",
    "        if k % iter_display == 0:\n",
    "            print(f\"Iter {k}: loss = {loss_i}\")\n",
    "            \n",
    "    return w1, jnp.array(loss)"
   ]
  },
  {
   "cell_type": "code",
   "execution_count": null,
   "id": "ecb98c76-829b-4103-a042-f18004bac2e9",
   "metadata": {},
   "outputs": [],
   "source": [
    "N_iter = 1000\n",
    "eta = 1e-3 #0.000005 # learning rate\n",
    "x0 = np.random.randn(*x_gt.shape)\n",
    "\n",
    "x_gd, loss_gd = gd(F, gradF, eta, x0, N_iter, iter_display = 200)"
   ]
  },
  {
   "cell_type": "code",
   "execution_count": null,
   "id": "7eb85da1-5793-46a2-a687-efacec1f2723",
   "metadata": {},
   "outputs": [],
   "source": [
    "plt.semilogy(loss_gd)"
   ]
  },
  {
   "cell_type": "code",
   "execution_count": null,
   "id": "eb2d880e-0732-4e55-8fae-543264260554",
   "metadata": {},
   "outputs": [],
   "source": [
    "#N_iter = 10\n",
    "\n",
    "#x_n, loss_n = newton(F, gradF, hessianF, x0, N_iter, iter_display = 1)"
   ]
  },
  {
   "cell_type": "code",
   "execution_count": null,
   "id": "91e40bf7-22a3-47c7-ba73-7587e97c8682",
   "metadata": {},
   "outputs": [],
   "source": [
    "#plt.plot(loss_n)"
   ]
  },
  {
   "cell_type": "code",
   "execution_count": null,
   "id": "85918078-6e0b-4ae8-ae60-c714e8f6bb7b",
   "metadata": {},
   "outputs": [],
   "source": [
    "N_iter = 1000\n",
    "\n",
    "zero = jnp.zeros(x_gt.shape)\n",
    "Abfun = gradF(zero)\n",
    "\n",
    "Ab = -jnp.conj(Abfun)\n",
    "AA = jax.jit(lambda vv : jnp.conj(gradF(vv)) + Ab)\n",
    "\n",
    "x_cg, kk, x_cg_all = cg(AA, Ab, x0, N_iter, verbose=True)\n",
    "loss_cg = jax.vmap(F)(jnp.array(x_cg_all))"
   ]
  },
  {
   "cell_type": "code",
   "execution_count": null,
   "id": "67c7eb74-cf6e-4df8-87ff-7f1b8ff76768",
   "metadata": {},
   "outputs": [],
   "source": [
    "print(F(x_gt))\n",
    "print(F(x_cg))\n",
    "print(F(x_gd))\n",
    "#print(F(x_n))"
   ]
  },
  {
   "cell_type": "markdown",
   "id": "882a5b14-0707-4903-8960-3e4e504ee497",
   "metadata": {},
   "source": [
    "#### OASIS"
   ]
  },
  {
   "cell_type": "code",
   "execution_count": null,
   "id": "4f3ab243-597e-46d7-a901-e69e98a7d8b9",
   "metadata": {},
   "outputs": [],
   "source": [
    "Fidx = jax.jit(lambda x, idx : F(x))\n",
    "gradFidx = jax.jit(lambda x, idx : jax.grad(F)(x))\n",
    "hvpFidx = jax.jit(lambda x, v, idx : hvp(F, (x,), (v,)))"
   ]
  },
  {
   "cell_type": "code",
   "execution_count": null,
   "id": "47fe55bb-44f3-4a39-88b4-785129ebdde8",
   "metadata": {},
   "outputs": [],
   "source": [
    "# Estimating D0\n",
    "\n",
    "iters = 100000\n",
    "key, *subkeys = random.split(key, iters+1)\n",
    "zD0z = np.zeros((n,))\n",
    "\n",
    "for i in tqdm(range(iters)):\n",
    "    z = random.rademacher(subkeys[i], (n,), dtype=x0.dtype)\n",
    "    \n",
    "    zD0z += z * hvpFidx(x0, z, 1)\n",
    "    \n",
    "D0 = jnp.array(zD0z/iters)\n",
    "\n",
    "#D0exact = jnp.diag(hessianF(x0)) # Cheating a bit\n"
   ]
  },
  {
   "cell_type": "code",
   "execution_count": null,
   "id": "5ab1dce0-687f-48f2-8ca1-1c2fb37f60a9",
   "metadata": {},
   "outputs": [],
   "source": [
    "#plt.plot(jnp.abs(D0-D0exact)/jnp.abs(D0exact))"
   ]
  },
  {
   "cell_type": "code",
   "execution_count": null,
   "id": "1d4abbff-c637-4fa1-aabb-94e9c15aad4b",
   "metadata": {},
   "outputs": [],
   "source": [
    "N_iter = 1000\n",
    "beta2 = 0.99\n",
    "eta = 0.1 #0.1 #0.1/0.001/0.01/0.15\n",
    "                       \n",
    "alpha = 0.1 #0.1 # 0.01\n",
    "\n",
    "key, subkey = random.split(key)\n",
    "x_o, loss_o = oasis(subkey, Fidx, gradFidx, hvpFidx, x0, eta, D0, beta2, alpha, N_iter, iter_display = 100)\n"
   ]
  },
  {
   "cell_type": "code",
   "execution_count": null,
   "id": "d7d8a80c-96d4-4143-a907-bc14acbdb5cc",
   "metadata": {},
   "outputs": [],
   "source": [
    "N_iter = 1000\n",
    "beta2 = 0.99\n",
    "eta0 = 0.1 #0.1/0.001/0.01/0.15\n",
    "                       \n",
    "alpha = 0.1 # 0.01\n",
    "\n",
    "key, subkey = random.split(key)\n",
    "x_oa, loss_oa = oasis_adaptive(subkey, Fidx, gradFidx, hvpFidx, x0, eta0, D0, beta2, alpha, N_iter, iter_display = 500)\n"
   ]
  },
  {
   "cell_type": "code",
   "execution_count": null,
   "id": "65316fa4-29ef-4a8b-98a3-a5150a90a40d",
   "metadata": {},
   "outputs": [],
   "source": [
    "#print(jnp.mean(jnp.abs(x_gt-x_n)))\n",
    "print(jnp.mean(jnp.abs(x_gt-x_cg)))\n",
    "print(jnp.mean(jnp.abs(x_gt-x_gd)))\n",
    "print(jnp.mean(jnp.abs(x_gt-x_o)))\n",
    "print(jnp.mean(jnp.abs(x_gt-x_oa)))\n",
    "\n",
    "plt.rcParams[\"figure.figsize\"]=12, 6\n",
    "\n",
    "plt.subplot(1,2,1)\n",
    "\n",
    "nn0 = 0\n",
    "nn1 = 1000\n",
    "#plt.semilogy(loss_n[nn0:nn1])\n",
    "plt.semilogy(loss_gd[nn0:nn1])\n",
    "plt.semilogy(loss_cg[nn0:nn1])\n",
    "plt.semilogy(loss_o[nn0:nn1])\n",
    "plt.semilogy(loss_oa[nn0:nn1])\n",
    "#plt.legend([\"Newton\", \"GD\", \"OASIS\", \"OASIS adaptive\"])\n",
    "plt.legend([\"GD\", \"CG\", \"OASIS\", \"OASIS adaptive\"])\n",
    "plt.title(\"Loss\")\n",
    "\n",
    "plt.subplot(1,2,2)\n",
    "#plt.semilogy(jnp.abs(x_gt-x_n))\n",
    "plt.semilogy(jnp.abs(x_gt-x_gd))\n",
    "plt.semilogy(jnp.abs(x_gt-x_o))\n",
    "plt.semilogy(jnp.abs(x_gt-x_oa))\n",
    "plt.legend([\"GD\", \"OASIS\", \"OASIS_adaptive\"])\n",
    "plt.title(\"Error\")\n",
    "\n",
    "plt.rcParams[\"figure.figsize\"]=6, 6"
   ]
  },
  {
   "cell_type": "markdown",
   "id": "a8b6c827-8a95-402c-b11f-ceeae8a12d5c",
   "metadata": {},
   "source": [
    "### Stochastic - sum of operators"
   ]
  },
  {
   "cell_type": "code",
   "execution_count": null,
   "id": "1fff654c-9c9a-4e22-8174-9b5bf8028231",
   "metadata": {},
   "outputs": [],
   "source": [
    "key = random.PRNGKey(int(jnp.floor(np.random.rand()*1000)))"
   ]
  },
  {
   "cell_type": "markdown",
   "id": "eab15192-ed05-48be-8bc6-519f1af7f07b",
   "metadata": {},
   "source": [
    "Generate $N$ operators to create a loss function to run SGD/OASIS on:"
   ]
  },
  {
   "cell_type": "code",
   "execution_count": null,
   "id": "e4b0a499-469f-4b89-bbd8-4eb4b0af9075",
   "metadata": {},
   "outputs": [],
   "source": [
    "sig_noise = 10\n",
    "lam = 0.1"
   ]
  },
  {
   "cell_type": "code",
   "execution_count": null,
   "id": "22bdc44f-ff0b-4b9d-b412-c0ceddb3a674",
   "metadata": {},
   "outputs": [],
   "source": [
    "n = 100\n",
    "N = 1000\n",
    "\n",
    "key, subkey = random.split(key)\n",
    "\n",
    "x_gt = random.normal(subkey, (n,), dtype=jnp.complex128)\n",
    "\n",
    "ops = []\n",
    "b = []\n",
    "for i in range(N):\n",
    "    key, *subkeys = random.split(key, 4)\n",
    "    \n",
    "    A = random.normal(subkeys[0], (n,n), dtype = x_gt.dtype)\n",
    "    A = A.T @ A\n",
    "    _, v = jnp.linalg.eigh(A)\n",
    "    \n",
    "    d = jnp.logspace(10,-5,n) + random.normal(subkeys[1], (n,), dtype = jnp.double)*10 \n",
    "    d = d + jnp.abs(jnp.min(d)*2)\n",
    "                 \n",
    "    A = v.T @ jnp.diag(d) @ v\n",
    "    ops.append(A)\n",
    "    \n",
    "    bn = A @ x_gt + random.normal(subkeys[2], (n,), dtype = x_gt.dtype) * sig_noise\n",
    "    b.append(bn)\n",
    "    \n",
    "    #print(jnp.mean((A@x_gt - bn)**2))\n",
    "    \n",
    "ops = jnp.array(ops)\n",
    "b = jnp.array(b)"
   ]
  },
  {
   "cell_type": "code",
   "execution_count": null,
   "id": "5e78e315-c297-4911-91cf-f1d27bc1a509",
   "metadata": {},
   "outputs": [],
   "source": [
    "w, _ = jnp.linalg.eigh(A)\n",
    "w = jnp.flip(jnp.sort(w))\n",
    "print(f\"{jnp.max(w)/jnp.min(w) : .2e}\")"
   ]
  },
  {
   "cell_type": "code",
   "execution_count": null,
   "id": "ddb234d9-26d3-4520-a589-2e0677dccdae",
   "metadata": {},
   "outputs": [],
   "source": [
    "print(jnp.max(w))\n",
    "print(jnp.min(w))"
   ]
  },
  {
   "cell_type": "code",
   "execution_count": null,
   "id": "468e3a1f-4f0f-4d36-aa67-b758871eea2d",
   "metadata": {},
   "outputs": [],
   "source": [
    "def loss_term(x, A, b):\n",
    "    return 1/2 * jnp.real(jnp.mean(jnp.conj(A@x - b)*(A@x - b)) + lam * jnp.mean(jnp.conj(x)*x))\n",
    "\n",
    "def loss_func(x, ops, b):\n",
    "    return jnp.mean(jax.vmap(loss_term, in_axes = (None, 0, 0))(x, ops, b))\n",
    "\n",
    "def grad_loss_func(x, ops, b):\n",
    "    return jax.grad(loss_func)(x, ops, b)\n",
    "\n",
    "def hvp_loss_func(x, v, ops, b):\n",
    "    return jvp(lambda y : grad_loss_func(y, ops, b), (x,), (v,))[1]"
   ]
  },
  {
   "cell_type": "code",
   "execution_count": null,
   "id": "596a2b9b-f7fe-48f1-b8be-d37784d8e003",
   "metadata": {},
   "outputs": [],
   "source": [
    "idx = np.random.permutation(N)[:N//3]\n",
    "\n",
    "print(loss_term(x_gt, ops[0], b[0]))\n",
    "print(loss_func(x_gt, ops, b))\n",
    "\n",
    "print(grad_loss_func(x_gt, ops, b).shape)\n",
    "print(grad_loss_func(x_gt, ops[idx], b[idx]).shape)\n",
    "\n",
    "print(hvp_loss_func(x_gt, x_gt, ops, b).shape)\n",
    "print(hvp_loss_func(x_gt, x_gt, ops[idx], b[idx]).shape)"
   ]
  },
  {
   "cell_type": "code",
   "execution_count": null,
   "id": "f676aa77-b686-4343-a484-f7153d02b5f5",
   "metadata": {},
   "outputs": [],
   "source": [
    "key, subkey = random.split(key)\n",
    "\n",
    "hessianF = lambda x : jax.hessian(loss_func)(x, ops, b)\n",
    "\n",
    "Fidx = jax.jit(lambda x, idx : loss_func(x, ops[idx], b[idx]))\n",
    "gradFidx = jax.jit(lambda x, idx : grad_loss_func(x, ops[idx], b[idx]))\n",
    "hvpFidx = jax.jit(lambda x, v, idx : hvp_loss_func(x, v, ops[idx], b[idx]))\n",
    "x0 = random.normal(subkey, (n,), dtype = x_gt.dtype)"
   ]
  },
  {
   "cell_type": "code",
   "execution_count": null,
   "id": "1c4ebd6f-40e2-499f-b779-dba06af2cbc3",
   "metadata": {},
   "outputs": [],
   "source": [
    "Fidx(x_gt, jnp.arange(N))"
   ]
  },
  {
   "cell_type": "code",
   "execution_count": null,
   "id": "8068f6e8-e2eb-42b5-b66f-a6fd1c4ee07b",
   "metadata": {},
   "outputs": [],
   "source": [
    "#D0 = jnp.ones((nx,nx,nx))  #<--- not very good\n",
    "#D0exact = jnp.diag(hessianF(x0)) # This is cheating\n",
    "\n",
    "iters = 10000\n",
    "batch_sz = 32\n",
    "key, *subkeys = random.split(key, 2*iters+1)\n",
    "\n",
    "zD0z = np.zeros((n,))\n",
    "\n",
    "for i in tqdm(range(iters)):\n",
    "    z = random.rademacher(subkeys[2*i], (n,), dtype=x0.dtype)\n",
    "    idx = random.permutation(subkeys[2*i+1], N)[:batch_sz]\n",
    "    \n",
    "    zD0z += z * hvpFidx(x0, z, idx)\n",
    "    \n",
    "D0 = jnp.array(zD0z/iters)\n",
    "\n",
    "\n",
    "#plt.plot(jnp.abs(D0-D0exact)/jnp.abs(D0exact))"
   ]
  },
  {
   "cell_type": "code",
   "execution_count": null,
   "id": "0b0edb39-6c54-401d-b223-8894798094f5",
   "metadata": {},
   "outputs": [],
   "source": [
    "N_epoch = 20\n",
    "beta2 = 0.99\n",
    "eta = 1e-1 #0.1 #0.1/0.001/0.01/0.15\n",
    "                       \n",
    "alpha = 0 #0.1 #0.1 # 0.01\n",
    "\n",
    "key, subkey = random.split(key)\n",
    "x_os, loss_os = oasis(subkey, Fidx, gradFidx, hvpFidx, x0, eta, D0, beta2, alpha, N_epoch, batch_size = 20, N = N, iter_display = 1)\n"
   ]
  },
  {
   "cell_type": "code",
   "execution_count": null,
   "id": "1c082c87-8e9b-4367-bfa4-8f203c74a99e",
   "metadata": {},
   "outputs": [],
   "source": [
    "N_epoch = 20\n",
    "beta2 = 0.99\n",
    "eta = 0.01 #0.1 #0.1/0.001/0.01/0.15\n",
    "                       \n",
    "alpha = 0 #0.1 #0.1 # 0.01\n",
    "\n",
    "key, subkey = random.split(key)\n",
    "x_osa, loss_osa = oasis_adaptive(subkey, Fidx, gradFidx, hvpFidx, x0, eta, D0, beta2, alpha, N_epoch, batch_size = 20, N = N, iter_display = 1)\n"
   ]
  },
  {
   "cell_type": "code",
   "execution_count": null,
   "id": "4952b15f-88ce-4e16-9413-78b54c5014c3",
   "metadata": {},
   "outputs": [],
   "source": [
    "N_epoch = 20\n",
    "beta2 = 0.99\n",
    "eta = 1e-1 #0.1 #0.1/0.001/0.01/0.15\n",
    "                       \n",
    "alpha = 0 #0.1 #0.1 # 0.01\n",
    "\n",
    "key, subkey = random.split(key)\n",
    "x_o, loss_o = oasis(subkey, Fidx, gradFidx, hvpFidx, x0, eta, D0, beta2, alpha, N_epoch, batch_size = None, N=N, iter_display = 1)"
   ]
  },
  {
   "cell_type": "code",
   "execution_count": null,
   "id": "c29a92b9-ef4b-4d19-8e5f-97cf38972a38",
   "metadata": {},
   "outputs": [],
   "source": [
    "N_epoch = 20\n",
    "beta2 = 0.99\n",
    "eta = 1e-1 #0.1 #0.1/0.001/0.01/0.15\n",
    "                       \n",
    "alpha = 0 #0.1 #0.1 # 0.01\n",
    "\n",
    "key, subkey = random.split(key)\n",
    "x_oa, loss_oa = oasis_adaptive(subkey, Fidx, gradFidx, hvpFidx, x0, eta, D0, beta2, alpha, N_epoch, batch_size = None, N=N, iter_display = 1)\n"
   ]
  },
  {
   "cell_type": "code",
   "execution_count": null,
   "id": "190efe4d-8fdb-4e33-99eb-feb74a4b0ec4",
   "metadata": {},
   "outputs": [],
   "source": [
    "N_epoch = 20\n",
    "eta = 1e-18\n",
    "                       \n",
    "key, subkey = random.split(key)\n",
    "x_sgd, loss_sgd, _ = sgd(gradFidx, Fidx, N, x0, eta, N_epoch, batch_size = 20, verbose = True, iter_display = 1)"
   ]
  },
  {
   "cell_type": "code",
   "execution_count": null,
   "id": "f660f36d-a2f4-4aa0-9d1d-00ad1e2b9af5",
   "metadata": {},
   "outputs": [],
   "source": [
    "N_epoch = 20\n",
    "beta2 = 0.99\n",
    "eta = 1e-1\n",
    "                       \n",
    "key, subkey = random.split(key)\n",
    "x_sgdp, loss_sgdp, _ = sgd(gradFidx, Fidx, N, x0, eta, N_epoch, batch_size = 20, P = 1/D0, verbose = True, iter_display = 1)"
   ]
  },
  {
   "cell_type": "code",
   "execution_count": null,
   "id": "12fe04dd-5169-408e-afa5-2313903faf06",
   "metadata": {},
   "outputs": [],
   "source": [
    "plt.rcParams[\"figure.figsize\"]=12, 6\n",
    "\n",
    "plt.subplot(1,2,1)\n",
    "plt.semilogy(loss_sgd)\n",
    "plt.semilogy(loss_sgdp)\n",
    "plt.semilogy(loss_o)\n",
    "plt.semilogy(loss_os)\n",
    "plt.semilogy(loss_oa)\n",
    "plt.semilogy(loss_osa)\n",
    "plt.legend([\"SGD\", \"SGD precon\", \"OASIS fixed rate, deterministic\", \"OASIS fixed_rate, stochastic\", \"OASIS adaptive, deterministic\", \"OASIS adaptive, stochastic\"])\n",
    "#plt.legend([\"SGD\", \"OASIS fixed_rate, stochastic\", \"OASIS adaptive, stochastic\"])\n",
    "plt.title(\"Loss\")\n",
    "\n",
    "plt.subplot(1,2,2)\n",
    "plt.semilogy(jnp.abs(x_sgd-x_gt))\n",
    "plt.semilogy(jnp.abs(x_sgdp-x_gt))\n",
    "#plt.semilogy(jnp.abs(x_o-x_gt))\n",
    "plt.semilogy(jnp.abs(x_os-x_gt))\n",
    "#plt.semilogy(jnp.abs(x_oa-x_gt))\n",
    "plt.semilogy(jnp.abs(x_osa-x_gt))\n",
    "#plt.legend([\"SGD\", \"OASIS fixed rate, deterministic\", \"OASIS fixed_rate, stochastic\", \"OASIS adaptive, deterministic\", \"OASIS adaptive, stochastic\"])\n",
    "plt.legend([\"SGD\", \"SGD+p\", \"OASIS fixed_rate, stochastic\", \"OASIS adaptive, stochastic\"])\n",
    "plt.title(\"Error\")\n",
    "\n",
    "plt.rcParams[\"figure.figsize\"]=6,6"
   ]
  },
  {
   "cell_type": "code",
   "execution_count": null,
   "id": "f582302d-8b70-46f2-8bda-9f2bc54a8595",
   "metadata": {},
   "outputs": [],
   "source": [
    "plt.semilogy(loss_sgdp)\n",
    "plt.semilogy(loss_os)\n",
    "plt.legend([\"Loss SGD+precon\", \"Loss OASIS stochastic\"])"
   ]
  },
  {
   "cell_type": "code",
   "execution_count": null,
   "id": "a85c4e01-ad20-4be0-a5c0-7c024b385a19",
   "metadata": {},
   "outputs": [],
   "source": [
    "print(Fidx(x_gt, jnp.arange(N)))\n",
    "print(Fidx(x_sgd, jnp.arange(N)))\n",
    "print(Fidx(x_sgdp, jnp.arange(N)))\n",
    "print(Fidx(x_o, jnp.arange(N)))\n",
    "print(Fidx(x_os, jnp.arange(N)))\n",
    "print(Fidx(x_oa, jnp.arange(N)))\n",
    "print(Fidx(x_osa, jnp.arange(N)))\n"
   ]
  },
  {
   "cell_type": "markdown",
   "id": "db4fd16c-014f-4de5-a06e-1669a7b81280",
   "metadata": {},
   "source": [
    "Next:\n",
    "\n",
    "* ~~Run the new OASIS algorithms on the old (deterministic one operator) toy problem~~\n",
    "* ~~Implement the adaptive version of the stochastic OASIS~~\n",
    "* ~~Add noise and rerun all the experiments~~\n",
    "* In the stochastic toy problem case, also compare with CG (make the problem small enough so that we can do CG)\n",
    "* ~~Implement some kind of warm up /estimation of $D_0$~~\n",
    "* ~~Run on CryoEM data~~"
   ]
  }
 ],
 "metadata": {
  "kernelspec": {
   "display_name": "Python 3 (ipykernel)",
   "language": "python",
   "name": "python3"
  },
  "language_info": {
   "codemirror_mode": {
    "name": "ipython",
    "version": 3
   },
   "file_extension": ".py",
   "mimetype": "text/x-python",
   "name": "python",
   "nbconvert_exporter": "python",
   "pygments_lexer": "ipython3",
   "version": "3.10.2"
  }
 },
 "nbformat": 4,
 "nbformat_minor": 5
}
