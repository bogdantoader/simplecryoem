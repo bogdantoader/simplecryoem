{
 "cells": [
  {
   "cell_type": "markdown",
   "id": "9adcce94-7192-441e-9683-bbb65e31c27a",
   "metadata": {},
   "source": [
    "# Second order stochastic methods for CryoEM"
   ]
  },
  {
   "cell_type": "code",
   "execution_count": 1,
   "id": "2abbe3cc-d606-42cb-8a87-88b079f4abc8",
   "metadata": {},
   "outputs": [],
   "source": [
    "%load_ext autoreload\n",
    "%autoreload 2\n",
    "import site\n",
    "import sys\n",
    "import time\n",
    "import pickle\n",
    "site.addsitedir('..')\n",
    "from jax.config import config\n",
    "\n",
    "config.update(\"jax_enable_x64\", True)"
   ]
  },
  {
   "cell_type": "code",
   "execution_count": 480,
   "id": "70edf6b0-fad6-4d1e-82ac-54d478732b02",
   "metadata": {},
   "outputs": [],
   "source": [
    "import jax\n",
    "import mrcfile\n",
    "from jax.scipy.special import gammaln\n",
    "from jax import random\n",
    "\n",
    "import numpy as np\n",
    "import jax.numpy as jnp\n",
    "from  matplotlib import pyplot as plt\n",
    "from src.utils import *\n",
    "from src.projection import *\n",
    "from src.interpolate import *\n",
    "from src.jaxops import *\n",
    "from src.algorithm import sgd, get_sgd_vol_ops\n",
    "from src.algorithm import conjugate_gradient as cg\n",
    "from src.datasets import *\n",
    "from src.noise import estimate_noise, average_radially, estimate_noise_radial\n",
    "from src.preprocess import *\n",
    "from src.fsc import calc_fsc\n",
    "\n",
    "plt.rcParams[\"figure.figsize\"]=6,6"
   ]
  },
  {
   "cell_type": "code",
   "execution_count": null,
   "id": "6568c2d1-797d-41f5-8922-979ce9151f8a",
   "metadata": {},
   "outputs": [],
   "source": [
    "data_dir = \"/gpfs/gibbs/pi/lederman/dge5/CrossValidationCryodrgnSet/\"\n",
    "star_file = \"particles_crossvalidation_train_1.star\"\n",
    "\n",
    "params0, imgs0 = load_data(data_dir, star_file, load_imgs = True, fourier = False)"
   ]
  },
  {
   "cell_type": "code",
   "execution_count": null,
   "id": "83b0531f-868d-424a-bd2b-363dd66b597c",
   "metadata": {},
   "outputs": [],
   "source": [
    "out_dir = out_dir = '../data/out_dev/'"
   ]
  },
  {
   "cell_type": "code",
   "execution_count": null,
   "id": "a109c7d5-532c-41ec-9cf4-40423c457931",
   "metadata": {},
   "outputs": [],
   "source": [
    "nx0 = imgs0.shape[1]\n",
    "nx_crop = 128\n",
    "N = 80000\n",
    "N_px_noise = 48\n",
    "N_imgs_noise=1000\n",
    "\n",
    "processed_data = preprocess(imgs0, params0, out_dir, nx_crop = nx_crop, N = N, N_px_noise = N_px_noise, N_imgs_noise = N_imgs_noise)\n",
    "\n",
    "imgs_f = processed_data[\"imgs_f\"]\n",
    "pixel_size = processed_data[\"pixel_size\"]\n",
    "angles = processed_data[\"angles\"]\n",
    "shifts = processed_data[\"shifts\"]\n",
    "ctf_params = processed_data[\"ctf_params\"]\n",
    "idxrand = processed_data[\"idxrand\"]\n",
    "nx = processed_data[\"nx\"]\n",
    "x_grid = processed_data[\"x_grid\"]\n",
    "mask = processed_data[\"mask\"]\n",
    "sigma_noise = processed_data[\"sigma_noise\"]\n",
    "N = imgs_f.shape[0]"
   ]
  },
  {
   "cell_type": "code",
   "execution_count": null,
   "id": "8f712166-e8f4-4f94-8523-b5adf8addb30",
   "metadata": {},
   "outputs": [],
   "source": [
    "plt.imshow(jnp.fft.fftshift(jnp.abs(imgs_f[2135].reshape([128,128]))));plt.colorbar()"
   ]
  },
  {
   "cell_type": "code",
   "execution_count": null,
   "id": "2c7d5aa0-4f24-49b1-b4ec-a343c065dabe",
   "metadata": {},
   "outputs": [],
   "source": [
    "del(imgs0)"
   ]
  },
  {
   "cell_type": "markdown",
   "id": "3cdc7bca-a144-4276-9f46-8707eadf2acd",
   "metadata": {},
   "source": [
    "### Only volume reconstruction for now - SGD"
   ]
  },
  {
   "cell_type": "markdown",
   "id": "6107db83-89cb-49b7-9ed4-38c589bc594b",
   "metadata": {},
   "source": [
    "Obervations:\n",
    "\n",
    "* The loss and grad don't tell us anything about convergence. The loss is about the same after only 100 iterations and after 10 epochs (of 781 iters each), and yet the result is different"
   ]
  },
  {
   "cell_type": "code",
   "execution_count": null,
   "id": "25674ba2-f439-42aa-84b6-9337cd115c3a",
   "metadata": {},
   "outputs": [],
   "source": [
    "# Apply mask to images\n",
    "mask2d = mask[0].reshape(-1)\n",
    "imgs_f = imgs_f * mask2d"
   ]
  },
  {
   "cell_type": "code",
   "execution_count": null,
   "id": "c50ca3a5-41d6-4728-a278-115e291b0f8e",
   "metadata": {},
   "outputs": [],
   "source": [
    "key = random.PRNGKey(int(jnp.floor(np.random.rand()*1000)))"
   ]
  },
  {
   "cell_type": "code",
   "execution_count": null,
   "id": "7814ad4e-ec4a-497d-8b87-f6610582fb55",
   "metadata": {},
   "outputs": [],
   "source": [
    "alpha = 1e-9\n",
    "\n",
    "slice_obj = Slice(x_grid)\n",
    "loss_obj = Loss(slice_obj, alpha = alpha)\n",
    "gradv_obj = GradV(loss_obj)"
   ]
  },
  {
   "cell_type": "code",
   "execution_count": null,
   "id": "8012f3a5-5494-49dd-8378-441f7b196a07",
   "metadata": {},
   "outputs": [],
   "source": [
    "N_epochs = 20\n",
    "batch_size = 32\n",
    "step_size = 1000000 # 1e-3\n",
    "\n",
    "idxrand = np.random.permutation(N)\n",
    "idx1 = idxrand[:int(N/2)]\n",
    "idx2 = idxrand[int(N/2):]\n",
    "             \n",
    "grad_func1, loss_func1 = get_sgd_vol_ops(gradv_obj, loss_obj, angles[idx1], shifts[idx1], ctf_params[idx1], imgs_f[idx1], sigma_noise)\n",
    "grad_func2, loss_func2 = get_sgd_vol_ops(gradv_obj, loss_obj, angles[idx2], shifts[idx2], ctf_params[idx2], imgs_f[idx2], sigma_noise)\n",
    "\n",
    "key, subkey = random.split(key)\n",
    "x0 = random.normal(subkey, [nx,nx,nx], dtype=jnp.complex128)"
   ]
  },
  {
   "cell_type": "code",
   "execution_count": null,
   "id": "c6070e22-f729-431f-966d-bec1fe905820",
   "metadata": {},
   "outputs": [],
   "source": [
    "v_rec1, loss_rec1, grad_rec1 = sgd(grad_func1, loss_func1, int(N/2), x0, step_size, N_epochs, batch_size, verbose=True, iter_display=1)\n"
   ]
  },
  {
   "cell_type": "code",
   "execution_count": null,
   "id": "1e4d84d3-781c-4608-aa5b-e72766c79fc5",
   "metadata": {},
   "outputs": [],
   "source": [
    "v_rec2, loss_rec2, grad_rec2 = sgd(grad_func2, loss_func2, int(N/2), x0, step_size, N_epochs, batch_size, verbose=True, iter_display=1)\n"
   ]
  },
  {
   "cell_type": "code",
   "execution_count": null,
   "id": "ce5d41c3-633e-46f8-bc68-fedffd243a15",
   "metadata": {},
   "outputs": [],
   "source": [
    "plt.rcParams[\"figure.figsize\"]=12, 12\n",
    "\n",
    "plt.subplot(1,2,1)\n",
    "mip_z(np.fft.fftshift(np.abs(v_rec1))); #plt.colorbar()\n",
    "\n",
    "plt.subplot(1,2,2)\n",
    "mip_z(np.fft.fftshift(np.abs(v_rec2))); #plt.colorbar()"
   ]
  },
  {
   "cell_type": "code",
   "execution_count": null,
   "id": "d0d7877c-3a1a-424e-bc9d-0f23b9101cbc",
   "metadata": {},
   "outputs": [],
   "source": [
    "v_rec_l1, _ = rescale_larger_grid(v_rec1, x_grid, nx0)\n",
    "vr_sgd1 = jnp.real(jnp.fft.fftshift(jnp.fft.ifftn(v_rec_l1)))\n",
    "\n",
    "v_rec_l2, _ = rescale_larger_grid(v_rec2, x_grid, nx0)\n",
    "vr_sgd2 = jnp.real(jnp.fft.fftshift(jnp.fft.ifftn(v_rec_l2)))\n",
    "\n",
    "plt.subplot(1,2,1)\n",
    "mip_z(vr_sgd1)\n",
    "#plt.colorbar()\n",
    "\n",
    "plt.subplot(1,2,2)\n",
    "mip_z(vr_sgd2)\n",
    "#plt.colorbar()\n",
    "\n",
    "plt.rcParams[\"figure.figsize\"]=6, 6\n"
   ]
  },
  {
   "cell_type": "code",
   "execution_count": null,
   "id": "b799a8fe-ff5c-4821-b2a3-805e002cb15a",
   "metadata": {},
   "outputs": [],
   "source": [
    "with mrcfile.new(f\"{out_dir}/v_rec_sgd1.mrc\", overwrite=True) as mrc:\n",
    "    mrc.set_data(vr_sgd1.astype(np.float32))\n",
    "    \n",
    "with mrcfile.new(f\"{out_dir}/v_rec_sgd2.mrc\", overwrite=True) as mrc:\n",
    "    mrc.set_data(vr_sgd2.astype(np.float32))   "
   ]
  },
  {
   "cell_type": "markdown",
   "id": "bb22dbfa-b02b-47cb-8e40-a26cafe8ee99",
   "metadata": {},
   "source": [
    "#### FSC"
   ]
  },
  {
   "cell_type": "code",
   "execution_count": null,
   "id": "7257b4d3-bf8b-4a12-8379-9c9a26b38418",
   "metadata": {},
   "outputs": [],
   "source": [
    "print(v_rec1.shape)\n",
    "print(v_rec2.shape)\n",
    "print(x_grid)"
   ]
  },
  {
   "cell_type": "code",
   "execution_count": null,
   "id": "22f9a5d1-a4e8-41a8-8a57-297bc17d1a69",
   "metadata": {},
   "outputs": [],
   "source": [
    "res, fsc, shell_points = calc_fsc(v_rec1, v_rec2, [1, 128])"
   ]
  },
  {
   "cell_type": "code",
   "execution_count": null,
   "id": "92c4da2d-52bd-4d96-9bec-92a913620d14",
   "metadata": {},
   "outputs": [],
   "source": [
    "plt.plot(res, fsc)"
   ]
  },
  {
   "cell_type": "code",
   "execution_count": null,
   "id": "3c845e19-b9d0-46af-a140-1c628c6ca926",
   "metadata": {},
   "outputs": [],
   "source": [
    "res_angs = nx0 * pixel_size[0]/res\n",
    "plt.semilogx(res_angs, fsc)"
   ]
  },
  {
   "cell_type": "code",
   "execution_count": null,
   "id": "059ab0f9-dfb6-4a1d-8bb4-95c537f8e410",
   "metadata": {},
   "outputs": [],
   "source": [
    "fsc"
   ]
  },
  {
   "cell_type": "code",
   "execution_count": null,
   "id": "a072d7e6-d4f8-43ed-b9e1-8b165bd94a5c",
   "metadata": {},
   "outputs": [],
   "source": [
    "fsc[10]"
   ]
  },
  {
   "cell_type": "code",
   "execution_count": null,
   "id": "f046f6a7-4871-4703-b53f-e451f5c987ef",
   "metadata": {},
   "outputs": [],
   "source": [
    "fsc[11]"
   ]
  },
  {
   "cell_type": "code",
   "execution_count": null,
   "id": "ec583f5e-f612-4a06-bab5-6bb5de5e511e",
   "metadata": {},
   "outputs": [],
   "source": [
    "res_angs[10]"
   ]
  },
  {
   "cell_type": "code",
   "execution_count": null,
   "id": "302e4a15-aa86-47c2-9889-7c492945e90d",
   "metadata": {},
   "outputs": [],
   "source": [
    "res_angs[11]"
   ]
  },
  {
   "cell_type": "markdown",
   "id": "ba2552dc-80df-45bd-907a-ea21d18c9a29",
   "metadata": {},
   "source": [
    "### Newton's method vs GD vs CG"
   ]
  },
  {
   "cell_type": "markdown",
   "id": "1141d019-8758-4b11-bc45-de356c8289a7",
   "metadata": {},
   "source": [
    "#### GD - a pain to tune "
   ]
  },
  {
   "cell_type": "code",
   "execution_count": null,
   "id": "32799d6f-c4a7-4aae-957e-ab21c9d2a725",
   "metadata": {},
   "outputs": [],
   "source": [
    "Ngd = 1000\n",
    "\n",
    "N_epochs = 200\n",
    "batch_size = Ngd\n",
    "step_size = 10000 # 1e-3\n",
    "\n",
    "idx = np.arange(Ngd)\n",
    "\n",
    "grad_func, loss_func = get_sgd_vol_ops(gradv_obj, loss_obj, angles[idx], shifts[idx], ctf_params[idx], imgs_f[idx], sigma_noise)\n",
    "\n",
    "key, subkey = random.split(key)\n",
    "x0 = random.normal(subkey, [nx,nx,nx], dtype=jnp.complex128)"
   ]
  },
  {
   "cell_type": "code",
   "execution_count": null,
   "id": "1c3e61c9-5c12-4676-8a32-067d473aeaf2",
   "metadata": {},
   "outputs": [],
   "source": [
    "v_rec_gd, loss_rec_gd, grad_rec_gd = sgd(grad_func, loss_func1, Ngd, x0, step_size, N_epochs, batch_size, verbose=True, iter_display=10)\n"
   ]
  },
  {
   "cell_type": "code",
   "execution_count": null,
   "id": "c703e070-5fc4-48de-9a8d-84126c679de5",
   "metadata": {},
   "outputs": [],
   "source": [
    "plt.plot(loss_rec_gd)"
   ]
  },
  {
   "cell_type": "markdown",
   "id": "6f4e8acf-da8b-4931-a80f-2a2a1dc3694f",
   "metadata": {},
   "source": [
    "### OASIS"
   ]
  },
  {
   "cell_type": "markdown",
   "id": "b33042af-f43f-4111-a61c-4748826bb4a1",
   "metadata": {},
   "source": [
    "#### Hutchinson's method"
   ]
  },
  {
   "cell_type": "markdown",
   "id": "1d64e3e8-d051-49f6-b612-3ae4408e2681",
   "metadata": {},
   "source": [
    "The diagonal of a symmetric matrix can be approximated as follows:\n",
    "\n",
    "$\n",
    "\\text{diag}(A) = \\mathbb{E}[z * Az ],\n",
    "$\n",
    "\n",
    "where $z$ is a random vector with Rademacher or Gaussian distribution and $*$ represents element-wise multiplication.\n",
    "\n",
    "Here we're reproducing Figure 1 in the OASIS paper."
   ]
  },
  {
   "cell_type": "code",
   "execution_count": 552,
   "id": "0b5f24cb-e3bb-478e-8aba-588f3880ebaa",
   "metadata": {},
   "outputs": [],
   "source": [
    "n = 100\n",
    "\n",
    "key = random.PRNGKey(int(jnp.floor(np.random.rand()*1000)))"
   ]
  },
  {
   "cell_type": "code",
   "execution_count": 553,
   "id": "321d8933-93a7-4ab3-aa9a-5fd5d6a717f8",
   "metadata": {},
   "outputs": [
    {
     "data": {
      "text/plain": [
       "<matplotlib.colorbar.Colorbar at 0x2ba6607e2c80>"
      ]
     },
     "execution_count": 553,
     "metadata": {},
     "output_type": "execute_result"
    },
    {
     "data": {
      "image/png": "[encoded data removed]",
      "text/plain": [
       "<Figure size 432x432 with 2 Axes>"
      ]
     },
     "metadata": {
      "needs_background": "light"
     },
     "output_type": "display_data"
    }
   ],
   "source": [
    "key, subkey = random.split(key)\n",
    "\n",
    "A = random.normal(subkey, (n,n))\n",
    "A = A.T + A\n",
    "\n",
    "plt.imshow(A); plt.colorbar()"
   ]
  },
  {
   "cell_type": "code",
   "execution_count": 554,
   "id": "68e6e03d-a88f-4121-b28f-9a96fd573ea4",
   "metadata": {},
   "outputs": [],
   "source": [
    "iters = 10000\n",
    "\n",
    "key, subkey = random.split(key)\n",
    "z = random.rademacher(subkey, (iters, n))\n",
    "\n",
    "#z * A @ z "
   ]
  },
  {
   "cell_type": "code",
   "execution_count": 555,
   "id": "436158da-1e91-45ce-834e-8e918fd6f3c0",
   "metadata": {},
   "outputs": [],
   "source": [
    "zAz = jax.vmap(lambda zi : zi * (A @ zi))(z)\n",
    "#plt.imshow(zAz)"
   ]
  },
  {
   "cell_type": "code",
   "execution_count": 556,
   "id": "cae0c37c-9ffa-4c6c-af4a-a0c58c3f3823",
   "metadata": {},
   "outputs": [],
   "source": [
    "d = np.zeros((iters, n))\n",
    "d[0] = zAz[0]\n",
    "for i in range(1, iters):\n",
    "    d[i] = d[i-1] + zAz[i]\n",
    "    \n",
    "for i in range(1, iters):\n",
    "    d[i] = d[i]/(i+1)"
   ]
  },
  {
   "cell_type": "code",
   "execution_count": 557,
   "id": "c8e1da64-4869-4139-8fa4-c6a290078927",
   "metadata": {},
   "outputs": [],
   "source": [
    "err = jnp.mean((d - jnp.diag(A))**2, axis=1)"
   ]
  },
  {
   "cell_type": "code",
   "execution_count": 558,
   "id": "c65d8665-b965-4c44-84e5-5957c6a527dc",
   "metadata": {},
   "outputs": [
    {
     "data": {
      "text/plain": [
       "[<matplotlib.lines.Line2D at 0x2ba660981b10>]"
      ]
     },
     "execution_count": 558,
     "metadata": {},
     "output_type": "execute_result"
    },
    {
     "data": {
      "image/png": "[encoded data removed]",
      "text/plain": [
       "<Figure size 432x432 with 1 Axes>"
      ]
     },
     "metadata": {
      "needs_background": "light"
     },
     "output_type": "display_data"
    }
   ],
   "source": [
    "plt.semilogy(err)"
   ]
  },
  {
   "cell_type": "markdown",
   "id": "8d9a6610-5cd6-45a3-ae7c-247a47da4ff1",
   "metadata": {},
   "source": [
    "#### Hessian-vector product in JaX"
   ]
  },
  {
   "cell_type": "code",
   "execution_count": 559,
   "id": "9a4d218b-4071-48db-88b1-a0f838b6b2a1",
   "metadata": {},
   "outputs": [],
   "source": [
    "key, *subkey = random.split(key, 4)\n",
    "x0 = random.normal(subkey[0], (n,))\n",
    "x = random.normal(subkey[1], (n,))\n",
    "v = random.normal(subkey[2], (n,))"
   ]
  },
  {
   "cell_type": "code",
   "execution_count": 560,
   "id": "31e002d4-dd70-42db-a9fc-b5be7426b11e",
   "metadata": {},
   "outputs": [],
   "source": [
    "b = A @ x0 \n",
    "f = lambda x : jnp.mean((A @ x - b)**2)"
   ]
  },
  {
   "cell_type": "code",
   "execution_count": 561,
   "id": "a9348932-6f2f-4160-a076-48f6a34f9b6c",
   "metadata": {},
   "outputs": [
    {
     "data": {
      "text/plain": [
       "DeviceArray(0., dtype=float64)"
      ]
     },
     "execution_count": 561,
     "metadata": {},
     "output_type": "execute_result"
    }
   ],
   "source": [
    "f(x0)"
   ]
  },
  {
   "cell_type": "code",
   "execution_count": 562,
   "id": "2b9c9028-1e56-4436-b811-8916ab65171f",
   "metadata": {},
   "outputs": [],
   "source": [
    "from jax import jvp, grad\n",
    "\n",
    "# Naive\n",
    "def hvp0(f, x, v):\n",
    "    return grad(lambda x : jnp.vdot(grad(f)(x), v))(x)\n",
    "\n",
    "# forward-over-reverse\n",
    "def hvp(f, x, v):\n",
    "    return jvp(jax.grad(f), x, v)[1]"
   ]
  },
  {
   "cell_type": "code",
   "execution_count": 563,
   "id": "29e5c85b-5d3c-4ac7-ac84-e7354b893043",
   "metadata": {},
   "outputs": [
    {
     "name": "stdout",
     "output_type": "stream",
     "text": [
      "1.35469651222229\n",
      "0.6434576511383057\n"
     ]
    },
    {
     "data": {
      "text/plain": [
       "DeviceArray(0., dtype=float64)"
      ]
     },
     "execution_count": 563,
     "metadata": {},
     "output_type": "execute_result"
    }
   ],
   "source": [
    "t0 = time.time()\n",
    "v1 = hvp0(f, x, v).block_until_ready()\n",
    "print(time.time()-t0)\n",
    "\n",
    "t0 = time.time()\n",
    "v2 = hvp(f, (x,), (v,)).block_until_ready()\n",
    "print(time.time()-t0)\n",
    "\n",
    "jnp.sum(jnp.abs(v1-v2))"
   ]
  },
  {
   "cell_type": "markdown",
   "id": "37b9b821-9bdc-4fda-88d0-6a29fc9d0e79",
   "metadata": {},
   "source": [
    "#### Toy problem"
   ]
  },
  {
   "cell_type": "code",
   "execution_count": 564,
   "id": "4904d533-80e6-423c-a774-092091bd9c92",
   "metadata": {},
   "outputs": [
    {
     "data": {
      "text/plain": [
       "Text(0.5, 1.0, 'Condition number = 326.166125611872')"
      ]
     },
     "execution_count": 564,
     "metadata": {},
     "output_type": "execute_result"
    },
    {
     "data": {
      "image/png": "[encoded data removed]",
      "text/plain": [
       "<Figure size 432x432 with 1 Axes>"
      ]
     },
     "metadata": {
      "needs_background": "light"
     },
     "output_type": "display_data"
    }
   ],
   "source": [
    "key, *subkey = random.split(key, 4)\n",
    "\n",
    "x_gt = random.normal(subkey[0], (n,))\n",
    "\n",
    "A = np.random.normal(size = (n,n))\n",
    "\n",
    "Adiag = jnp.flip(jnp.logspace(1,2,n))\n",
    "np.fill_diagonal(A, Adiag)\n",
    "\n",
    "A = A.T @ A\n",
    "\n",
    "evals, evecs = np.linalg.eig(A)\n",
    "evals = np.flip(np.sort( evals))\n",
    "\n",
    "\n",
    "assert(jnp.sum(evals < 0) == 0)\n",
    "assert(jnp.max(jnp.abs(A.T - A)) == 0)\n",
    "assert(jnp.sum(jnp.abs(A@A.T - A.T@ A)) == 0)\n",
    "\n",
    "\n",
    "plt.semilogy(evals)\n",
    "plt.semilogy(jnp.diag(A))\n",
    "plt.legend([\"Eigenvalues\", \"Diagonal entries\"])\n",
    "plt.title(f\"Condition number = {evals[0]/evals[n-1]}\")"
   ]
  },
  {
   "cell_type": "code",
   "execution_count": 729,
   "id": "401090de-ef3e-4e42-8ccb-66742693059c",
   "metadata": {},
   "outputs": [
    {
     "name": "stdout",
     "output_type": "stream",
     "text": [
      "f(x_gt + 1) = 11335342.64774272\n",
      "f(x_gt) = 0.0\n",
      "gradF(x_gt) = [0. 0. 0. 0. 0. 0. 0. 0. 0. 0. 0. 0. 0. 0. 0. 0. 0. 0. 0. 0. 0. 0. 0. 0.\n",
      " 0. 0. 0. 0. 0. 0. 0. 0. 0. 0. 0. 0. 0. 0. 0. 0. 0. 0. 0. 0. 0. 0. 0. 0.\n",
      " 0. 0. 0. 0. 0. 0. 0. 0. 0. 0. 0. 0. 0. 0. 0. 0. 0. 0. 0. 0. 0. 0. 0. 0.\n",
      " 0. 0. 0. 0. 0. 0. 0. 0. 0. 0. 0. 0. 0. 0. 0. 0. 0. 0. 0. 0. 0. 0. 0. 0.\n",
      " 0. 0. 0. 0.]\n",
      "hessianF(x_gt) = [[ 2.05928913e+06 -8.77704015e+03  1.67111939e+04 ... -2.33798021e+04\n",
      "   1.08962949e+03 -1.96863355e+04]\n",
      " [-8.77704015e+03  1.88194682e+06  4.31507978e+04 ... -3.62070724e+04\n",
      "   2.81963165e+04 -1.37202695e+04]\n",
      " [ 1.67111939e+04  4.31507978e+04  1.71921460e+06 ... -1.66425561e+04\n",
      "   1.73256581e+04  9.96639217e+03]\n",
      " ...\n",
      " [-2.33798021e+04 -3.62070724e+04 -1.66425561e+04 ...  6.40743174e+03\n",
      "  -7.56985702e+02  6.05919181e+02]\n",
      " [ 1.08962949e+03  2.81963165e+04  1.73256581e+04 ... -7.56985702e+02\n",
      "   4.83702956e+03  5.07061418e+01]\n",
      " [-1.96863355e+04 -1.37202695e+04  9.96639217e+03 ...  6.05919181e+02\n",
      "   5.07061418e+01  4.81481002e+03]]\n"
     ]
    }
   ],
   "source": [
    "sig_noise = 1\n",
    "lam = 0.1\n",
    "\n",
    "b = A @ x_gt #+ np.random.normal(size=(n,)) * sig_noise\n",
    "\n",
    "F = lambda x : jnp.mean((A @ x - b)**2) #+ lam * jnp.mean(x**2)\n",
    "print(f\"f(x_gt + 1) = {F(x_gt+1)}\")\n",
    "print(f\"f(x_gt) = {F(x_gt)}\")\n",
    "\n",
    "gradF = jax.grad(F)\n",
    "hessianF = jax.hessian(F)\n",
    "\n",
    "hvpF = lambda x, v : hvp(F, (x,), (v,))\n",
    "\n",
    "print(f\"gradF(x_gt) = {gradF(x_gt)}\")\n",
    "print(f\"hessianF(x_gt) = {hessianF(x_gt)}\")\n"
   ]
  },
  {
   "cell_type": "code",
   "execution_count": 730,
   "id": "b94e1555-0cba-4e87-a8ae-fff9a418bbdd",
   "metadata": {},
   "outputs": [],
   "source": [
    "def gd(F, gradF, eta, w0, N_iter = 20, iter_display = 1):\n",
    "    loss = []\n",
    "    for k in range(1, N_iter+1):\n",
    "        w1 = w0 - eta * gradF(w0)\n",
    "        loss_i = F(w1)\n",
    "        loss.append(loss_i)\n",
    "        \n",
    "        w0 = w1\n",
    "        \n",
    "        if k % iter_display == 0:\n",
    "            print(f\"Iter {k}: loss = {loss_i}\")\n",
    "            \n",
    "    return w1, jnp.array(loss)\n",
    "\n",
    "def newton(F, gradF, hessianF, w0, N_iter = 20, iter_display = 1):\n",
    "    loss = []\n",
    "    for k in range(1, N_iter+1):\n",
    "        G = gradF(w0)\n",
    "        H = hessianF(w0)\n",
    "        \n",
    "        w1 = w0 - jnp.linalg.inv(H) @ G\n",
    "        loss_i = F(w1)\n",
    "        loss.append(loss_i)\n",
    "        \n",
    "        w0 = w1\n",
    "        \n",
    "        if k % iter_display == 0:\n",
    "            print(f\"Iter {k}: loss = {loss_i}\")\n",
    "            \n",
    "    return w1, jnp.array(loss)"
   ]
  },
  {
   "cell_type": "code",
   "execution_count": 731,
   "id": "ecb98c76-829b-4103-a042-f18004bac2e9",
   "metadata": {},
   "outputs": [
    {
     "name": "stdout",
     "output_type": "stream",
     "text": [
      "Iter 200: loss = 47859.24288184954\n",
      "Iter 400: loss = 13399.198620480018\n",
      "Iter 600: loss = 7146.547315901742\n",
      "Iter 800: loss = 4806.448770667898\n",
      "Iter 1000: loss = 3547.8439034465246\n",
      "Iter 1200: loss = 2765.0174499083255\n",
      "Iter 1400: loss = 2238.341537030555\n",
      "Iter 1600: loss = 1863.8103738771572\n",
      "Iter 1800: loss = 1585.8655889227603\n",
      "Iter 2000: loss = 1372.5654408615671\n",
      "Iter 2200: loss = 1204.4553428247793\n",
      "Iter 2400: loss = 1069.0864891881756\n",
      "Iter 2600: loss = 958.1450735586665\n",
      "Iter 2800: loss = 865.8713571171154\n",
      "Iter 3000: loss = 788.1489432201271\n",
      "Iter 3200: loss = 721.9578976677055\n",
      "Iter 3400: loss = 665.0335352656011\n",
      "Iter 3600: loss = 615.6459458701827\n",
      "Iter 3800: loss = 572.4529656345399\n",
      "Iter 4000: loss = 534.3993290106386\n",
      "Iter 4200: loss = 500.64575959952646\n",
      "Iter 4400: loss = 470.51801947469164\n",
      "Iter 4600: loss = 443.4696030641538\n",
      "Iter 4800: loss = 419.0539715237622\n",
      "Iter 5000: loss = 396.903592490361\n"
     ]
    }
   ],
   "source": [
    "N_iter = 5000\n",
    "eta = 0.0000005 #0.000005 # learning rate\n",
    "x0 = np.random.randn(*x_gt.shape)\n",
    "\n",
    "x_gd, loss_gd = gd(F, gradF, eta, x0, N_iter, iter_display = 200)"
   ]
  },
  {
   "cell_type": "code",
   "execution_count": 732,
   "id": "7eb85da1-5793-46a2-a687-efacec1f2723",
   "metadata": {},
   "outputs": [
    {
     "data": {
      "text/plain": [
       "[<matplotlib.lines.Line2D at 0x2ba65988ba30>]"
      ]
     },
     "execution_count": 732,
     "metadata": {},
     "output_type": "execute_result"
    },
    {
     "data": {
      "image/png": "[encoded data removed]",
      "text/plain": [
       "<Figure size 432x432 with 1 Axes>"
      ]
     },
     "metadata": {
      "needs_background": "light"
     },
     "output_type": "display_data"
    }
   ],
   "source": [
    "plt.semilogy(loss_gd)"
   ]
  },
  {
   "cell_type": "code",
   "execution_count": 733,
   "id": "eb2d880e-0732-4e55-8fae-543264260554",
   "metadata": {},
   "outputs": [
    {
     "name": "stdout",
     "output_type": "stream",
     "text": [
      "Iter 1: loss = 2.2719029587439038e-20\n",
      "Iter 2: loss = 4.807421854967611e-25\n",
      "Iter 3: loss = 4.452638920364789e-25\n",
      "Iter 4: loss = 3.094354232383732e-25\n",
      "Iter 5: loss = 5.090896812448247e-25\n",
      "Iter 6: loss = 4.899429542242796e-25\n",
      "Iter 7: loss = 4.356430706541482e-25\n",
      "Iter 8: loss = 2.9905325641919566e-25\n",
      "Iter 9: loss = 2.500767324552405e-25\n",
      "Iter 10: loss = 2.4783914427479924e-25\n"
     ]
    }
   ],
   "source": [
    "N_iter = 10\n",
    "\n",
    "x_n, loss_n = newton(F, gradF, hessianF, x0, N_iter, iter_display = 1)"
   ]
  },
  {
   "cell_type": "code",
   "execution_count": 734,
   "id": "91e40bf7-22a3-47c7-ba73-7587e97c8682",
   "metadata": {},
   "outputs": [
    {
     "data": {
      "text/plain": [
       "[<matplotlib.lines.Line2D at 0x2ba658666ce0>]"
      ]
     },
     "execution_count": 734,
     "metadata": {},
     "output_type": "execute_result"
    },
    {
     "data": {
      "image/png": "[encoded data removed]",
      "text/plain": [
       "<Figure size 432x432 with 1 Axes>"
      ]
     },
     "metadata": {
      "needs_background": "light"
     },
     "output_type": "display_data"
    }
   ],
   "source": [
    "plt.plot(loss_n)"
   ]
  },
  {
   "cell_type": "code",
   "execution_count": 736,
   "id": "85918078-6e0b-4ae8-ae60-c714e8f6bb7b",
   "metadata": {},
   "outputs": [
    {
     "name": "stdout",
     "output_type": "stream",
     "text": [
      "  cg iter 0 ||r|| = 2677432.135699589\n",
      "  cg iter 200 ||r|| = 146.38119779770258\n",
      "  cg iter 400 ||r|| = 0.05544715772296489\n",
      "  cg iter 600 ||r|| = 3.4925557486387617e-13\n",
      "  cg iter 800 ||r|| = 1.2801023918266537e-13\n",
      "  cg iter 1000 ||r|| = 9.461569846352503e-14\n",
      "  cg iter 1200 ||r|| = 5.517261668721081e-14\n",
      "  cg iter 1400 ||r|| = 4.954841879679845e-14\n",
      "  cg iter 1600 ||r|| = 2.3674832219446607e-14\n",
      "  cg iter 1800 ||r|| = 3.145788213609195e-14\n",
      "  cg iter 2000 ||r|| = 2.5262367722879116e-14\n",
      "  cg iter 2200 ||r|| = 2.3927162122213495e-14\n",
      "  cg iter 2400 ||r|| = 2.980791782259604e-14\n",
      "  cg iter 2600 ||r|| = 3.5232426923504994e-14\n",
      "  cg iter 2800 ||r|| = 2.392692898616326e-14\n",
      "  cg iter 3000 ||r|| = 1.2438705232520716e-14\n",
      "  cg iter 3200 ||r|| = 1.7332871731075747e-14\n",
      "  cg iter 3400 ||r|| = 2.306264427097961e-14\n",
      "  cg iter 3600 ||r|| = 3.020659887810861e-14\n",
      "  cg iter 3800 ||r|| = 1.6413040210228075e-14\n",
      "  cg iter 4000 ||r|| = 2.0132089306718505e-14\n",
      "  cg iter 4200 ||r|| = 2.1652862137278752e-14\n",
      "  cg iter 4400 ||r|| = 1.8627168087661926e-14\n",
      "  cg iter 4600 ||r|| = 1.5214916064861514e-14\n",
      "  cg iter 4800 ||r|| = 1.4575897367538036e-14\n"
     ]
    }
   ],
   "source": [
    "N_iter = 5000\n",
    "\n",
    "zero = jnp.zeros(x_gt.shape)\n",
    "Abfun = gradF(zero)\n",
    "\n",
    "Ab = -jnp.conj(Abfun)\n",
    "AA = lambda vv : jnp.conj(gradF(vv)) + Ab\n",
    "\n",
    "x_cg, kk = cg(AA, Ab, x0, N_iter, verbose=True)"
   ]
  },
  {
   "cell_type": "code",
   "execution_count": 737,
   "id": "67c7eb74-cf6e-4df8-87ff-7f1b8ff76768",
   "metadata": {},
   "outputs": [
    {
     "data": {
      "text/plain": [
       "DeviceArray(5.86161508e-23, dtype=float64)"
      ]
     },
     "execution_count": 737,
     "metadata": {},
     "output_type": "execute_result"
    }
   ],
   "source": [
    "F(x_cg)"
   ]
  },
  {
   "cell_type": "markdown",
   "id": "882a5b14-0707-4903-8960-3e4e504ee497",
   "metadata": {},
   "source": [
    "#### OASIS"
   ]
  },
  {
   "cell_type": "code",
   "execution_count": 1041,
   "id": "1e2dfb24-5347-41c6-b15f-fc419b0c6d70",
   "metadata": {},
   "outputs": [],
   "source": [
    "from tqdm import tqdm \n",
    "\n",
    "def oasis(key, F, gradF, hvpF, w0, eta, D0, beta2, alpha, N_epoch = 20, batch_size = None, N = 1, iter_display = 1):\n",
    "    \"\"\"OASIS with fixed learning rate, deterministic or stochastic.\"\"\"\n",
    "    \n",
    "    n = w0.shape[0] \n",
    "    \n",
    "    if batch_size is None or batch_size == N:\n",
    "        N_batch = 1\n",
    "    else:\n",
    "        N_batch = N/batch_size\n",
    "    \n",
    "    gradFw0 = gradF(w0, jnp.arange(N))\n",
    "    Dhat0 = jnp.maximum(jnp.abs(D0), alpha)\n",
    "                      \n",
    "    invDhat0 = jnp.diag(1/Dhat0)\n",
    "    w1 = w0 - eta0 * (invDhat0 @ gradFw0)\n",
    "\n",
    "    loss_list = []\n",
    "    for idx_epoch in range(1, N_epoch+1):\n",
    "        if idx_epoch % iter_display == 0:\n",
    "            print(f\"Epoch {idx_epoch}/{N_epoch}\")\n",
    "\n",
    "        key, subkey1, subkey2 = random.split(key, 3)\n",
    "\n",
    "        idx_batches_grad = np.array_split(random.permutation(subkey1, N), N_batch)\n",
    "        idx_batches_hess = np.array_split(random.permutation(subkey2, N), N_batch)\n",
    "        \n",
    "        z = random.rademacher(key, (len(idx_batches_grad), n)).astype(jnp.float64)\n",
    "     \n",
    "        loss_epoch = []\n",
    "        if idx_epoch % iter_display == 0:\n",
    "            pbar = tqdm(range(len(idx_batches_grad)))\n",
    "        else:\n",
    "            pbar = range(len(idx_batches_grad))\n",
    "        for k in pbar:\n",
    "\n",
    "            D1 = beta2 * D0 + (1-beta2) * (z[k-1] * hvpF(w1, z[k-1], idx_batches_hess[k-1]))\n",
    "            Dhat1 = jnp.maximum(jnp.abs(D1), alpha)       \n",
    "            invDhat1 = jnp.diag(1/Dhat1)\n",
    "\n",
    "            w2 = w1 - eta * (invDhat1 @ gradF(w1, idx_batches_grad[k-1]))\n",
    "\n",
    "            w0 = w1\n",
    "            w1 = w2\n",
    "\n",
    "            loss_iter = F(w1, idx_batches_grad[k-1])\n",
    "            loss_epoch.append(loss_iter)\n",
    "            \n",
    "            if idx_epoch % iter_display == 0:\n",
    "                pbar.set_postfix(loss = f\"{loss_iter : .3f}\")\n",
    "                \n",
    "        loss_epoch = jnp.mean(jnp.array(loss_epoch))\n",
    "        loss_list.append(loss_epoch)\n",
    "        \n",
    "        if idx_epoch % iter_display == 0:\n",
    "            print(f\"  Loss = {loss_epoch : .3f}\")\n",
    "        \n",
    "    return w1, jnp.array(loss_list)\n"
   ]
  },
  {
   "cell_type": "code",
   "execution_count": 1077,
   "id": "343af92c-92a6-41a1-9278-897103082233",
   "metadata": {},
   "outputs": [],
   "source": [
    "def oasis_adaptive(key, F, gradF, hvpF, w0, eta0, D0, beta2, alpha, N_epoch = 20, batch_size = None, N = 1, iter_display = 1):\n",
    "    \"\"\"OASIS with adaptive learning rate, deterministic and stochastic.\"\"\"\n",
    "\n",
    "    n = w0.shape[0] \n",
    "    \n",
    "    if batch_size is None or batch_size == N:\n",
    "        N_batch = 1\n",
    "    else:\n",
    "        N_batch = N/batch_size\n",
    "    \n",
    "    gradFw0 = gradF(w0, jnp.arange(N))\n",
    "    theta0 = jnp.inf\n",
    "    Dhat0 = jnp.maximum(jnp.abs(D0), alpha)\n",
    "                        \n",
    "    invDhat0 = jnp.diag(1/Dhat0)\n",
    "    w1 = w0 - eta0 * (invDhat0 @ gradFw0)\n",
    "    \n",
    "    gradFw1 = gradF(w1, jnp.arange(N))\n",
    "\n",
    "    loss_list = []\n",
    "    for idx_epoch in range(1, N_epoch+1):\n",
    "        if idx_epoch % iter_display == 0:\n",
    "            print(f\"Epoch {idx_epoch}/{N_epoch}\")\n",
    "\n",
    "        key, subkey1, subkey2 = random.split(key, 3)\n",
    "\n",
    "        idx_batches_grad = np.array_split(random.permutation(subkey1, N), N_batch)\n",
    "        idx_batches_hess = np.array_split(random.permutation(subkey2, N), N_batch)\n",
    "        \n",
    "        z = random.rademacher(key, (len(idx_batches_grad), n)).astype(jnp.float64)\n",
    "     \n",
    "        loss_epoch = []\n",
    "        if idx_epoch % iter_display == 0:\n",
    "            pbar = tqdm(range(len(idx_batches_grad)))\n",
    "        else:\n",
    "            pbar = range(len(idx_batches_grad))\n",
    "        for k in pbar:\n",
    "            \n",
    "            D1 = beta2 * D0 + (1-beta2) * (z[k-1] * hvpF(w1, z[k-1], idx_batches_hess[k-1]))\n",
    "\n",
    "            Dhat1 = jnp.maximum(jnp.abs(D1), alpha)\n",
    "            invDhat1 = jnp.diag(1/Dhat1)\n",
    "            Dhat1 = jnp.diag(Dhat1)\n",
    "\n",
    "            tl = jnp.sqrt(1 + theta0)*eta0\n",
    "\n",
    "            gradFw1 = gradF(w1, idx_batches_grad[k-1])\n",
    "            gradFw0 = gradF(w0, idx_batches_grad[k-1])\n",
    "\n",
    "            wd = w1-w0\n",
    "            gfd = gradFw1 - gradFw0\n",
    "            tr = 1/2 * jnp.sqrt(jnp.vdot(wd, Dhat1 @ wd) / jnp.vdot(gfd, invDhat1 @ gfd))\n",
    "\n",
    "            eta1 = jnp.minimum(tl, tr)\n",
    "\n",
    "            w2 = w1 - eta1 * (invDhat1 @ gradFw1)\n",
    "            gradFw2 = gradF(w2, idx_batches_grad[k-1])\n",
    "\n",
    "            theta1 = eta1/eta0\n",
    "\n",
    "            w0 = w1\n",
    "            w1 = w2\n",
    "\n",
    "            eta0 = eta1\n",
    "            theta0 = theta1\n",
    "\n",
    "            loss_iter = F(w1, idx_batches_grad[k-1])\n",
    "            loss_epoch.append(loss_iter) \n",
    "\n",
    "            if idx_epoch % iter_display == 0:\n",
    "                pbar.set_postfix(loss = f\"{loss_iter : .3f}\")\n",
    "            \n",
    "        loss_epoch = jnp.mean(jnp.array(loss_epoch))\n",
    "        loss_list.append(loss_epoch)\n",
    "        \n",
    "        if idx_epoch % iter_display == 0:\n",
    "            print(f\"  Loss = {loss_epoch : .3f}\")            \n",
    "            \n",
    "    return w1, jnp.array(loss_list)"
   ]
  },
  {
   "cell_type": "code",
   "execution_count": 1061,
   "id": "4f3ab243-597e-46d7-a901-e69e98a7d8b9",
   "metadata": {},
   "outputs": [],
   "source": [
    "gradFidx = lambda x, idx : jax.grad(F)(x)\n",
    "\n",
    "hvpFidx = lambda x, v, idx : hvp(F, (x,), (v,))"
   ]
  },
  {
   "cell_type": "code",
   "execution_count": 1014,
   "id": "1d4abbff-c637-4fa1-aabb-94e9c15aad4b",
   "metadata": {},
   "outputs": [
    {
     "ename": "TypeError",
     "evalue": "<lambda>() takes 1 positional argument but 2 were given",
     "output_type": "error",
     "traceback": [
      "\u001b[0;31m---------------------------------------------------------------------------\u001b[0m",
      "\u001b[0;31mTypeError\u001b[0m                                 Traceback (most recent call last)",
      "Input \u001b[0;32mIn [1014]\u001b[0m, in \u001b[0;36m<module>\u001b[0;34m\u001b[0m\n\u001b[1;32m      6\u001b[0m alpha \u001b[38;5;241m=\u001b[39m \u001b[38;5;241m0.1\u001b[39m \u001b[38;5;66;03m#0.1 # 0.01\u001b[39;00m\n\u001b[1;32m      8\u001b[0m key, subkey \u001b[38;5;241m=\u001b[39m random\u001b[38;5;241m.\u001b[39msplit(key)\n\u001b[0;32m----> 9\u001b[0m x_o, loss_o \u001b[38;5;241m=\u001b[39m \u001b[43moasis\u001b[49m\u001b[43m(\u001b[49m\u001b[43msubkey\u001b[49m\u001b[43m,\u001b[49m\u001b[43m \u001b[49m\u001b[43mF\u001b[49m\u001b[43m,\u001b[49m\u001b[43m \u001b[49m\u001b[43mgradFidx\u001b[49m\u001b[43m,\u001b[49m\u001b[43m \u001b[49m\u001b[43mhvpFidx\u001b[49m\u001b[43m,\u001b[49m\u001b[43m \u001b[49m\u001b[43mx0\u001b[49m\u001b[43m,\u001b[49m\u001b[43m \u001b[49m\u001b[43meta\u001b[49m\u001b[43m,\u001b[49m\u001b[43m \u001b[49m\u001b[43mD0\u001b[49m\u001b[43m,\u001b[49m\u001b[43m \u001b[49m\u001b[43mbeta2\u001b[49m\u001b[43m,\u001b[49m\u001b[43m \u001b[49m\u001b[43malpha\u001b[49m\u001b[43m,\u001b[49m\u001b[43m \u001b[49m\u001b[43mN_iter\u001b[49m\u001b[43m,\u001b[49m\u001b[43m \u001b[49m\u001b[43miter_display\u001b[49m\u001b[43m \u001b[49m\u001b[38;5;241;43m=\u001b[39;49m\u001b[43m \u001b[49m\u001b[38;5;241;43m200\u001b[39;49m\u001b[43m)\u001b[49m\n",
      "Input \u001b[0;32mIn [1012]\u001b[0m, in \u001b[0;36moasis\u001b[0;34m(key, F, gradF, hvpF, w0, eta, D0, beta2, alpha, N_epoch, batch_size, N, iter_display)\u001b[0m\n\u001b[1;32m     50\u001b[0m w0 \u001b[38;5;241m=\u001b[39m w1\n\u001b[1;32m     51\u001b[0m w1 \u001b[38;5;241m=\u001b[39m w2\n\u001b[0;32m---> 53\u001b[0m loss_iter \u001b[38;5;241m=\u001b[39m \u001b[43mF\u001b[49m\u001b[43m(\u001b[49m\u001b[43mw1\u001b[49m\u001b[43m,\u001b[49m\u001b[43m \u001b[49m\u001b[43midx_batches_grad\u001b[49m\u001b[43m[\u001b[49m\u001b[43mk\u001b[49m\u001b[38;5;241;43m-\u001b[39;49m\u001b[38;5;241;43m1\u001b[39;49m\u001b[43m]\u001b[49m\u001b[43m)\u001b[49m\n\u001b[1;32m     54\u001b[0m loss_epoch\u001b[38;5;241m.\u001b[39mappend(loss_iter)\n\u001b[1;32m     56\u001b[0m \u001b[38;5;28;01mif\u001b[39;00m idx_epoch \u001b[38;5;241m%\u001b[39m iter_display \u001b[38;5;241m==\u001b[39m \u001b[38;5;241m0\u001b[39m:\n",
      "\u001b[0;31mTypeError\u001b[0m: <lambda>() takes 1 positional argument but 2 were given"
     ]
    }
   ],
   "source": [
    "N_iter = 5000\n",
    "beta2 = 0.99\n",
    "eta = 0.1 #0.1 #0.1/0.001/0.01/0.15\n",
    "D0 = jnp.diag(hessianF(x0)) # Cheating a bit\n",
    "                       \n",
    "alpha = 0.1 #0.1 # 0.01\n",
    "\n",
    "key, subkey = random.split(key)\n",
    "x_o, loss_o = oasis(subkey, F, gradFidx, hvpFidx, x0, eta, D0, beta2, alpha, N_iter, iter_display = 200)"
   ]
  },
  {
   "cell_type": "code",
   "execution_count": 741,
   "id": "d7d8a80c-96d4-4143-a907-bc14acbdb5cc",
   "metadata": {},
   "outputs": [
    {
     "name": "stdout",
     "output_type": "stream",
     "text": [
      "Iter 100: loss = 16670.32656941026\n",
      "Iter 200: loss = 5560.490973557947\n",
      "Iter 300: loss = 2661.3697227882467\n",
      "Iter 400: loss = 1528.1153539903764\n",
      "Iter 500: loss = 990.8351059909459\n",
      "Iter 600: loss = 686.5286157258312\n",
      "Iter 700: loss = 493.2968900225869\n",
      "Iter 800: loss = 364.971859375606\n",
      "Iter 900: loss = 278.31157736415275\n",
      "Iter 1000: loss = 211.18946703698498\n",
      "Iter 1100: loss = 162.25120007285233\n",
      "Iter 1200: loss = 127.21556197892609\n",
      "Iter 1300: loss = 99.81692721494007\n",
      "Iter 1400: loss = 78.34898310782198\n",
      "Iter 1500: loss = 61.968609580609176\n",
      "Iter 1600: loss = 49.25805776652509\n",
      "Iter 1700: loss = 39.44435938065644\n",
      "Iter 1800: loss = 31.36030014873537\n",
      "Iter 1900: loss = 25.186525336928746\n",
      "Iter 2000: loss = 20.30156008555764\n",
      "Iter 2100: loss = 16.26126787436677\n",
      "Iter 2200: loss = 12.99898936971543\n",
      "Iter 2300: loss = 10.492884076505758\n",
      "Iter 2400: loss = 8.534518529370741\n",
      "Iter 2500: loss = 6.863268939480549\n",
      "Iter 2600: loss = 5.565620243509065\n",
      "Iter 2700: loss = 4.5070991918095\n",
      "Iter 2800: loss = 3.6455372466147473\n",
      "Iter 2900: loss = 2.939014624218396\n",
      "Iter 3000: loss = 2.358171401069753\n",
      "Iter 3100: loss = 1.9114485154956324\n",
      "Iter 3200: loss = 1.5369947984037509\n",
      "Iter 3300: loss = 1.2312055480601791\n",
      "Iter 3400: loss = 1.001578493722365\n",
      "Iter 3500: loss = 0.7978506139156548\n",
      "Iter 3600: loss = 0.638270611972443\n",
      "Iter 3700: loss = 0.5173802278628276\n",
      "Iter 3800: loss = 0.41665512213430556\n",
      "Iter 3900: loss = 0.33808875008148187\n",
      "Iter 4000: loss = 0.27083338292400366\n",
      "Iter 4100: loss = 0.2193775132378999\n",
      "Iter 4200: loss = 0.17700041306302308\n",
      "Iter 4300: loss = 0.14261609634223457\n",
      "Iter 4400: loss = 0.11546198917997295\n",
      "Iter 4500: loss = 0.09326960621059534\n",
      "Iter 4600: loss = 0.07502118966137598\n",
      "Iter 4700: loss = 0.060405300246065136\n",
      "Iter 4800: loss = 0.048825988376060975\n",
      "Iter 4900: loss = 0.03922697998678963\n",
      "Iter 5000: loss = 0.031584996828038274\n"
     ]
    }
   ],
   "source": [
    "N_iter = 5000\n",
    "beta2 = 0.99\n",
    "eta0 = 0.1 #0.1/0.001/0.01/0.15\n",
    "D0 = jnp.diag(hessianF(x0)) # Cheating a bit\n",
    "                       \n",
    "alpha = 0.1 # 0.01\n",
    "\n",
    "key, subkey = random.split(key)\n",
    "x_oa, loss_oa = oasis_adaptive(subkey, F, gradF, hvpF, x0, eta0, D0, beta2, alpha, N_iter, iter_display = 100)"
   ]
  },
  {
   "cell_type": "code",
   "execution_count": 743,
   "id": "65316fa4-29ef-4a8b-98a3-a5150a90a40d",
   "metadata": {},
   "outputs": [
    {
     "data": {
      "text/plain": [
       "<matplotlib.legend.Legend at 0x2ba6577b7700>"
      ]
     },
     "execution_count": 743,
     "metadata": {},
     "output_type": "execute_result"
    },
    {
     "data": {
      "image/png": "[encoded data removed]",
      "text/plain": [
       "<Figure size 432x432 with 1 Axes>"
      ]
     },
     "metadata": {
      "needs_background": "light"
     },
     "output_type": "display_data"
    }
   ],
   "source": [
    "plt.semilogy(loss_gd)\n",
    "plt.semilogy(loss_o)\n",
    "plt.semilogy(loss_oa)\n",
    "#plt.semilogy(loss_cg)\n",
    "\n",
    "plt.legend([\"GD\", \"OASIS\", \"OASIS adaptive\"])"
   ]
  },
  {
   "cell_type": "code",
   "execution_count": 744,
   "id": "9c7f4a75-2edb-4dc1-b146-d049562d4fd8",
   "metadata": {},
   "outputs": [
    {
     "data": {
      "text/plain": [
       "<matplotlib.legend.Legend at 0x2ba609ad46d0>"
      ]
     },
     "execution_count": 744,
     "metadata": {},
     "output_type": "execute_result"
    },
    {
     "data": {
      "image/png": "[encoded data removed]",
      "text/plain": [
       "<Figure size 432x432 with 1 Axes>"
      ]
     },
     "metadata": {
      "needs_background": "light"
     },
     "output_type": "display_data"
    }
   ],
   "source": [
    "print(jnp.mean(jnp.abs(x_gt-x_n)))\n",
    "print(jnp.mean(jnp.abs(x_gt-x_cg)))\n",
    "print(jnp.mean(jnp.abs(x_gt-x_gd)))\n",
    "print(jnp.mean(jnp.abs(x_gt-x_o)))\n",
    "print(jnp.mean(jnp.abs(x_gt-x_oa)))\n",
    "\n",
    "plt.semilogy(jnp.abs(x_gt-x_n))\n",
    "plt.semilogy(jnp.abs(x_gt-x_gd))\n",
    "plt.semilogy(jnp.abs(x_gt-x_o))\n",
    "plt.semilogy(jnp.abs(x_gt-x_oa))\n",
    "plt.legend([\"Newton\", \"GD\", \"OASIS\", \"OASIS_adaptive\"])\n",
    "plt.title(\"Error\")"
   ]
  },
  {
   "cell_type": "code",
   "execution_count": 748,
   "id": "9a2f88fc-9ead-41f6-b405-bfcf81b05d8a",
   "metadata": {},
   "outputs": [
    {
     "name": "stdout",
     "output_type": "stream",
     "text": [
      "6.915735345502938e-16\n",
      "5.1909899989599496e-14\n",
      "0.12347321195501447\n",
      "0.26122652360418797\n",
      "0.0031683692017406085\n"
     ]
    }
   ],
   "source": []
  },
  {
   "cell_type": "markdown",
   "id": "a8b6c827-8a95-402c-b11f-ceeae8a12d5c",
   "metadata": {},
   "source": [
    "### Stochastic - sum of operators"
   ]
  },
  {
   "cell_type": "markdown",
   "id": "eab15192-ed05-48be-8bc6-519f1af7f07b",
   "metadata": {},
   "source": [
    "Generate $N$ operators to create a loss function to do SGD/OASIS on:"
   ]
  },
  {
   "cell_type": "code",
   "execution_count": 1062,
   "id": "22bdc44f-ff0b-4b9d-b412-c0ceddb3a674",
   "metadata": {},
   "outputs": [
    {
     "name": "stdout",
     "output_type": "stream",
     "text": [
      "0.0\n",
      "0.0\n",
      "0.0\n",
      "0.0\n",
      "0.0\n",
      "0.0\n",
      "0.0\n",
      "0.0\n",
      "0.0\n",
      "0.0\n"
     ]
    }
   ],
   "source": [
    "n = 100\n",
    "N = 10\n",
    "\n",
    "x_gt = np.random.normal(size=(n,))\n",
    "\n",
    "ops = []\n",
    "b = []\n",
    "for i in range(N):\n",
    "    A = np.random.normal(size=(n,n))\n",
    "    A = A.T @ A\n",
    "    _, v = jnp.linalg.eigh(A)\n",
    "    \n",
    "    d = jnp.flip(jnp.logspace(1,5,n)) + np.random.normal(size=(n,))*10 \n",
    "    d = d + jnp.abs(jnp.min(d)*2)\n",
    "                 \n",
    "    A = v.T @ jnp.diag(d) @ v\n",
    "    ops.append(A)\n",
    "    \n",
    "    bn = A @ x_gt\n",
    "    b.append(bn)\n",
    "    \n",
    "    print(jnp.mean((A@x_gt - bn)**2))\n",
    "    \n",
    "ops = jnp.array(ops)\n",
    "b = jnp.array(b)"
   ]
  },
  {
   "cell_type": "code",
   "execution_count": 1063,
   "id": "468e3a1f-4f0f-4d36-aa67-b758871eea2d",
   "metadata": {},
   "outputs": [],
   "source": [
    "def loss_term(x, A, b):\n",
    "    return 1/2 * jnp.mean((A@x - b)**2)\n",
    "\n",
    "def loss_func(x, ops, b):\n",
    "    return jnp.mean(jax.vmap(loss_term, in_axes = (None, 0, 0))(x, ops, b))\n",
    "\n",
    "def grad_loss_func(x, ops, b):\n",
    "    return jax.grad(loss_func)(x, ops, b)\n",
    "\n",
    "def hvp_loss_func(x, v, ops, b):\n",
    "    return jvp(lambda y : grad_loss_func(y, ops, b), (x,), (v,))[1]"
   ]
  },
  {
   "cell_type": "code",
   "execution_count": 1064,
   "id": "596a2b9b-f7fe-48f1-b8be-d37784d8e003",
   "metadata": {},
   "outputs": [
    {
     "name": "stdout",
     "output_type": "stream",
     "text": [
      "0.0\n",
      "0.0\n",
      "(100,)\n",
      "(100,)\n",
      "(100,)\n",
      "(100,)\n"
     ]
    }
   ],
   "source": [
    "idx = np.random.permutation(N)[:N//3]\n",
    "\n",
    "print(loss_term(x_gt, ops[0], b[0]))\n",
    "print(loss_func(x_gt, ops, b))\n",
    "\n",
    "print(grad_loss_func(x_gt, ops, b).shape)\n",
    "print(grad_loss_func(x_gt, ops[idx], b[idx]).shape)\n",
    "\n",
    "print(hvp_loss_func(x_gt, x_gt, ops, b).shape)\n",
    "print(hvp_loss_func(x_gt, x_gt, ops[idx], b[idx]).shape)"
   ]
  },
  {
   "cell_type": "code",
   "execution_count": 1065,
   "id": "ecd37491-5f38-4b23-b903-9c86c1ad3cb1",
   "metadata": {},
   "outputs": [
    {
     "data": {
      "text/plain": [
       "DeviceArray(1.39627619e+09, dtype=float64)"
      ]
     },
     "execution_count": 1065,
     "metadata": {},
     "output_type": "execute_result"
    }
   ],
   "source": [
    "jnp.mean((ops[0]@x0-b)**2)"
   ]
  },
  {
   "cell_type": "code",
   "execution_count": 1066,
   "id": "f676aa77-b686-4343-a484-f7153d02b5f5",
   "metadata": {},
   "outputs": [],
   "source": [
    "\n",
    "F = lambda x : loss_func(x, ops, b)\n",
    "gradFidx = lambda x, idx : grad_loss_func(x, ops[idx], b[idx])\n",
    "hvpFidx = lambda x, v, idx : hvp_loss_func(x, v, ops[idx], b[idx])"
   ]
  },
  {
   "cell_type": "code",
   "execution_count": 1090,
   "id": "0b0edb39-6c54-401d-b223-8894798094f5",
   "metadata": {},
   "outputs": [
    {
     "name": "stdout",
     "output_type": "stream",
     "text": [
      "Epoch 100/1000\n"
     ]
    },
    {
     "name": "stderr",
     "output_type": "stream",
     "text": [
      "100%|██████████| 5/5 [00:00<00:00, 37.50it/s, loss=29545.352]"
     ]
    },
    {
     "name": "stdout",
     "output_type": "stream",
     "text": [
      "  Loss =  35410.521\n"
     ]
    },
    {
     "name": "stderr",
     "output_type": "stream",
     "text": [
      "\n"
     ]
    },
    {
     "name": "stdout",
     "output_type": "stream",
     "text": [
      "Epoch 200/1000\n"
     ]
    },
    {
     "name": "stderr",
     "output_type": "stream",
     "text": [
      "100%|██████████| 5/5 [00:00<00:00, 35.60it/s, loss=231.950]"
     ]
    },
    {
     "name": "stdout",
     "output_type": "stream",
     "text": [
      "  Loss =  306.871\n"
     ]
    },
    {
     "name": "stderr",
     "output_type": "stream",
     "text": [
      "\n"
     ]
    },
    {
     "name": "stdout",
     "output_type": "stream",
     "text": [
      "Epoch 300/1000\n"
     ]
    },
    {
     "name": "stderr",
     "output_type": "stream",
     "text": [
      "100%|██████████| 5/5 [00:00<00:00, 34.27it/s, loss=5.842]"
     ]
    },
    {
     "name": "stdout",
     "output_type": "stream",
     "text": [
      "  Loss =  7.044\n"
     ]
    },
    {
     "name": "stderr",
     "output_type": "stream",
     "text": [
      "\n"
     ]
    },
    {
     "name": "stdout",
     "output_type": "stream",
     "text": [
      "Epoch 400/1000\n"
     ]
    },
    {
     "name": "stderr",
     "output_type": "stream",
     "text": [
      "100%|██████████| 5/5 [00:00<00:00, 35.48it/s, loss=0.204]"
     ]
    },
    {
     "name": "stdout",
     "output_type": "stream",
     "text": [
      "  Loss =  0.212\n"
     ]
    },
    {
     "name": "stderr",
     "output_type": "stream",
     "text": [
      "\n"
     ]
    },
    {
     "name": "stdout",
     "output_type": "stream",
     "text": [
      "Epoch 500/1000\n"
     ]
    },
    {
     "name": "stderr",
     "output_type": "stream",
     "text": [
      "100%|██████████| 5/5 [00:00<00:00, 35.50it/s, loss=0.008]"
     ]
    },
    {
     "name": "stdout",
     "output_type": "stream",
     "text": [
      "  Loss =  0.007\n"
     ]
    },
    {
     "name": "stderr",
     "output_type": "stream",
     "text": [
      "\n"
     ]
    },
    {
     "name": "stdout",
     "output_type": "stream",
     "text": [
      "Epoch 600/1000\n"
     ]
    },
    {
     "name": "stderr",
     "output_type": "stream",
     "text": [
      "100%|██████████| 5/5 [00:00<00:00, 34.29it/s, loss=0.000]"
     ]
    },
    {
     "name": "stdout",
     "output_type": "stream",
     "text": [
      "  Loss =  0.000\n"
     ]
    },
    {
     "name": "stderr",
     "output_type": "stream",
     "text": [
      "\n"
     ]
    },
    {
     "name": "stdout",
     "output_type": "stream",
     "text": [
      "Epoch 700/1000\n"
     ]
    },
    {
     "name": "stderr",
     "output_type": "stream",
     "text": [
      "100%|██████████| 5/5 [00:00<00:00, 34.30it/s, loss=0.000]"
     ]
    },
    {
     "name": "stdout",
     "output_type": "stream",
     "text": [
      "  Loss =  0.000\n"
     ]
    },
    {
     "name": "stderr",
     "output_type": "stream",
     "text": [
      "\n"
     ]
    },
    {
     "name": "stdout",
     "output_type": "stream",
     "text": [
      "Epoch 800/1000\n"
     ]
    },
    {
     "name": "stderr",
     "output_type": "stream",
     "text": [
      "100%|██████████| 5/5 [00:00<00:00, 33.48it/s, loss=0.000]"
     ]
    },
    {
     "name": "stdout",
     "output_type": "stream",
     "text": [
      "  Loss =  0.000\n"
     ]
    },
    {
     "name": "stderr",
     "output_type": "stream",
     "text": [
      "\n"
     ]
    },
    {
     "name": "stdout",
     "output_type": "stream",
     "text": [
      "Epoch 900/1000\n"
     ]
    },
    {
     "name": "stderr",
     "output_type": "stream",
     "text": [
      "100%|██████████| 5/5 [00:00<00:00, 33.93it/s, loss=0.000]"
     ]
    },
    {
     "name": "stdout",
     "output_type": "stream",
     "text": [
      "  Loss =  0.000\n"
     ]
    },
    {
     "name": "stderr",
     "output_type": "stream",
     "text": [
      "\n"
     ]
    },
    {
     "name": "stdout",
     "output_type": "stream",
     "text": [
      "Epoch 1000/1000\n"
     ]
    },
    {
     "name": "stderr",
     "output_type": "stream",
     "text": [
      "100%|██████████| 5/5 [00:00<00:00, 34.40it/s, loss=0.000]"
     ]
    },
    {
     "name": "stdout",
     "output_type": "stream",
     "text": [
      "  Loss =  0.000\n"
     ]
    },
    {
     "name": "stderr",
     "output_type": "stream",
     "text": [
      "\n"
     ]
    }
   ],
   "source": [
    "N_epoch = 1000\n",
    "beta2 = 0.99\n",
    "eta = 0.1 #0.1 #0.1/0.001/0.01/0.15\n",
    "D0 = jnp.diag(hessianF(x0)) # Cheating a bit\n",
    "                       \n",
    "alpha = 0.1 #0.1 # 0.01\n",
    "\n",
    "key, subkey = random.split(key)\n",
    "x_os, loss_os = oasis(subkey, Fidx, gradFidx, hvpFidx, x0, eta, D0, beta2, alpha, N_epoch, batch_size = 2, N = N, iter_display = 100)"
   ]
  },
  {
   "cell_type": "code",
   "execution_count": 1087,
   "id": "1c082c87-8e9b-4367-bfa4-8f203c74a99e",
   "metadata": {},
   "outputs": [
    {
     "name": "stdout",
     "output_type": "stream",
     "text": [
      "Epoch 100/1000\n"
     ]
    },
    {
     "name": "stderr",
     "output_type": "stream",
     "text": [
      "100%|██████████| 5/5 [00:00<00:00, 23.87it/s, loss=15.147]\n"
     ]
    },
    {
     "name": "stdout",
     "output_type": "stream",
     "text": [
      "  Loss =  13.565\n",
      "Epoch 200/1000\n"
     ]
    },
    {
     "name": "stderr",
     "output_type": "stream",
     "text": [
      "100%|██████████| 5/5 [00:00<00:00, 24.86it/s, loss=0.001]\n"
     ]
    },
    {
     "name": "stdout",
     "output_type": "stream",
     "text": [
      "  Loss =  0.001\n",
      "Epoch 300/1000\n"
     ]
    },
    {
     "name": "stderr",
     "output_type": "stream",
     "text": [
      "100%|██████████| 5/5 [00:00<00:00, 24.13it/s, loss=0.000]\n"
     ]
    },
    {
     "name": "stdout",
     "output_type": "stream",
     "text": [
      "  Loss =  0.000\n",
      "Epoch 400/1000\n"
     ]
    },
    {
     "name": "stderr",
     "output_type": "stream",
     "text": [
      "100%|██████████| 5/5 [00:00<00:00, 23.39it/s, loss=0.000]\n"
     ]
    },
    {
     "name": "stdout",
     "output_type": "stream",
     "text": [
      "  Loss =  0.000\n",
      "Epoch 500/1000\n"
     ]
    },
    {
     "name": "stderr",
     "output_type": "stream",
     "text": [
      "100%|██████████| 5/5 [00:00<00:00, 22.54it/s, loss=0.000]\n"
     ]
    },
    {
     "name": "stdout",
     "output_type": "stream",
     "text": [
      "  Loss =  0.000\n",
      "Epoch 600/1000\n"
     ]
    },
    {
     "name": "stderr",
     "output_type": "stream",
     "text": [
      "100%|██████████| 5/5 [00:00<00:00, 24.06it/s, loss=0.000]\n"
     ]
    },
    {
     "name": "stdout",
     "output_type": "stream",
     "text": [
      "  Loss =  0.000\n",
      "Epoch 700/1000\n"
     ]
    },
    {
     "name": "stderr",
     "output_type": "stream",
     "text": [
      "100%|██████████| 5/5 [00:00<00:00, 23.89it/s, loss=0.000]\n"
     ]
    },
    {
     "name": "stdout",
     "output_type": "stream",
     "text": [
      "  Loss =  0.000\n",
      "Epoch 800/1000\n"
     ]
    },
    {
     "name": "stderr",
     "output_type": "stream",
     "text": [
      "100%|██████████| 5/5 [00:00<00:00, 24.49it/s, loss=0.000]\n"
     ]
    },
    {
     "name": "stdout",
     "output_type": "stream",
     "text": [
      "  Loss =  0.000\n",
      "Epoch 900/1000\n"
     ]
    },
    {
     "name": "stderr",
     "output_type": "stream",
     "text": [
      "100%|██████████| 5/5 [00:00<00:00, 24.76it/s, loss=0.000]\n"
     ]
    },
    {
     "name": "stdout",
     "output_type": "stream",
     "text": [
      "  Loss =  0.000\n",
      "Epoch 1000/1000\n"
     ]
    },
    {
     "name": "stderr",
     "output_type": "stream",
     "text": [
      "100%|██████████| 5/5 [00:00<00:00, 22.52it/s, loss=0.000]\n"
     ]
    },
    {
     "name": "stdout",
     "output_type": "stream",
     "text": [
      "  Loss =  0.000\n"
     ]
    }
   ],
   "source": [
    "N_epoch = 1000\n",
    "beta2 = 0.99\n",
    "eta = 0.1 #0.1 #0.1/0.001/0.01/0.15\n",
    "D0 = jnp.diag(hessianF(x0)) # Cheating a bit\n",
    "                       \n",
    "alpha = 0.1 #0.1 # 0.01\n",
    "\n",
    "key, subkey = random.split(key)\n",
    "x_osa, loss_osa = oasis_adaptive(subkey, Fidx, gradFidx, hvpFidx, x0, eta, D0, beta2, alpha, N_epoch, batch_size = 2, N = N, iter_display = 100)\n"
   ]
  },
  {
   "cell_type": "code",
   "execution_count": 1091,
   "id": "4952b15f-88ce-4e16-9413-78b54c5014c3",
   "metadata": {},
   "outputs": [
    {
     "name": "stdout",
     "output_type": "stream",
     "text": [
      "Epoch 100/1000\n"
     ]
    },
    {
     "name": "stderr",
     "output_type": "stream",
     "text": [
      "100%|██████████| 1/1 [00:00<00:00, 38.72it/s, loss=7594733.998]"
     ]
    },
    {
     "name": "stdout",
     "output_type": "stream",
     "text": [
      "  Loss =  7594733.998\n"
     ]
    },
    {
     "name": "stderr",
     "output_type": "stream",
     "text": [
      "\n"
     ]
    },
    {
     "name": "stdout",
     "output_type": "stream",
     "text": [
      "Epoch 200/1000\n"
     ]
    },
    {
     "name": "stderr",
     "output_type": "stream",
     "text": [
      "100%|██████████| 1/1 [00:00<00:00, 37.21it/s, loss=1614130.745]"
     ]
    },
    {
     "name": "stdout",
     "output_type": "stream",
     "text": [
      "  Loss =  1614130.745\n"
     ]
    },
    {
     "name": "stderr",
     "output_type": "stream",
     "text": [
      "\n"
     ]
    },
    {
     "name": "stdout",
     "output_type": "stream",
     "text": [
      "Epoch 300/1000\n"
     ]
    },
    {
     "name": "stderr",
     "output_type": "stream",
     "text": [
      "100%|██████████| 1/1 [00:00<00:00, 29.67it/s, loss=439449.193]"
     ]
    },
    {
     "name": "stdout",
     "output_type": "stream",
     "text": [
      "  Loss =  439449.193\n"
     ]
    },
    {
     "name": "stderr",
     "output_type": "stream",
     "text": [
      "\n"
     ]
    },
    {
     "name": "stdout",
     "output_type": "stream",
     "text": [
      "Epoch 400/1000\n"
     ]
    },
    {
     "name": "stderr",
     "output_type": "stream",
     "text": [
      "100%|██████████| 1/1 [00:00<00:00, 37.81it/s, loss=133773.589]"
     ]
    },
    {
     "name": "stdout",
     "output_type": "stream",
     "text": [
      "  Loss =  133773.589\n"
     ]
    },
    {
     "name": "stderr",
     "output_type": "stream",
     "text": [
      "\n"
     ]
    },
    {
     "name": "stdout",
     "output_type": "stream",
     "text": [
      "Epoch 500/1000\n"
     ]
    },
    {
     "name": "stderr",
     "output_type": "stream",
     "text": [
      "100%|██████████| 1/1 [00:00<00:00, 34.13it/s, loss=43790.389]"
     ]
    },
    {
     "name": "stdout",
     "output_type": "stream",
     "text": [
      "  Loss =  43790.389\n"
     ]
    },
    {
     "name": "stderr",
     "output_type": "stream",
     "text": [
      "\n"
     ]
    },
    {
     "name": "stdout",
     "output_type": "stream",
     "text": [
      "Epoch 600/1000\n"
     ]
    },
    {
     "name": "stderr",
     "output_type": "stream",
     "text": [
      "100%|██████████| 1/1 [00:00<00:00, 34.27it/s, loss=15181.108]"
     ]
    },
    {
     "name": "stdout",
     "output_type": "stream",
     "text": [
      "  Loss =  15181.108\n"
     ]
    },
    {
     "name": "stderr",
     "output_type": "stream",
     "text": [
      "\n"
     ]
    },
    {
     "name": "stdout",
     "output_type": "stream",
     "text": [
      "Epoch 700/1000\n"
     ]
    },
    {
     "name": "stderr",
     "output_type": "stream",
     "text": [
      "100%|██████████| 1/1 [00:00<00:00, 31.56it/s, loss=5551.918]"
     ]
    },
    {
     "name": "stdout",
     "output_type": "stream",
     "text": [
      "  Loss =  5551.918\n"
     ]
    },
    {
     "name": "stderr",
     "output_type": "stream",
     "text": [
      "\n"
     ]
    },
    {
     "name": "stdout",
     "output_type": "stream",
     "text": [
      "Epoch 800/1000\n"
     ]
    },
    {
     "name": "stderr",
     "output_type": "stream",
     "text": [
      "100%|██████████| 1/1 [00:00<00:00, 34.24it/s, loss=2138.753]"
     ]
    },
    {
     "name": "stdout",
     "output_type": "stream",
     "text": [
      "  Loss =  2138.753\n"
     ]
    },
    {
     "name": "stderr",
     "output_type": "stream",
     "text": [
      "\n"
     ]
    },
    {
     "name": "stdout",
     "output_type": "stream",
     "text": [
      "Epoch 900/1000\n"
     ]
    },
    {
     "name": "stderr",
     "output_type": "stream",
     "text": [
      "100%|██████████| 1/1 [00:00<00:00, 38.01it/s, loss=866.373]"
     ]
    },
    {
     "name": "stdout",
     "output_type": "stream",
     "text": [
      "  Loss =  866.373\n"
     ]
    },
    {
     "name": "stderr",
     "output_type": "stream",
     "text": [
      "\n"
     ]
    },
    {
     "name": "stdout",
     "output_type": "stream",
     "text": [
      "Epoch 1000/1000\n"
     ]
    },
    {
     "name": "stderr",
     "output_type": "stream",
     "text": [
      "100%|██████████| 1/1 [00:00<00:00, 39.88it/s, loss=367.866]"
     ]
    },
    {
     "name": "stdout",
     "output_type": "stream",
     "text": [
      "  Loss =  367.866\n"
     ]
    },
    {
     "name": "stderr",
     "output_type": "stream",
     "text": [
      "\n"
     ]
    }
   ],
   "source": [
    "N_epoch = 1000\n",
    "beta2 = 0.99\n",
    "eta = 0.1 #0.1 #0.1/0.001/0.01/0.15\n",
    "D0 = jnp.diag(hessianF(x0)) # Cheating a bit\n",
    "                       \n",
    "alpha = 0.1 #0.1 # 0.01\n",
    "\n",
    "key, subkey = random.split(key)\n",
    "x_o, loss_o = oasis(subkey, Fidx, gradFidx, hvpFidx, x0, eta, D0, beta2, alpha, N_epoch, batch_size = None, N=N, iter_display = 100)"
   ]
  },
  {
   "cell_type": "code",
   "execution_count": 1088,
   "id": "c29a92b9-ef4b-4d19-8e5f-97cf38972a38",
   "metadata": {},
   "outputs": [
    {
     "name": "stdout",
     "output_type": "stream",
     "text": [
      "Epoch 100/1000\n"
     ]
    },
    {
     "name": "stderr",
     "output_type": "stream",
     "text": [
      "100%|██████████| 1/1 [00:00<00:00, 24.05it/s, loss=3992.607]"
     ]
    },
    {
     "name": "stdout",
     "output_type": "stream",
     "text": [
      "  Loss =  3992.607\n"
     ]
    },
    {
     "name": "stderr",
     "output_type": "stream",
     "text": [
      "\n"
     ]
    },
    {
     "name": "stdout",
     "output_type": "stream",
     "text": [
      "Epoch 200/1000\n"
     ]
    },
    {
     "name": "stderr",
     "output_type": "stream",
     "text": [
      "100%|██████████| 1/1 [00:00<00:00, 25.11it/s, loss=9.949]"
     ]
    },
    {
     "name": "stdout",
     "output_type": "stream",
     "text": [
      "  Loss =  9.949\n"
     ]
    },
    {
     "name": "stderr",
     "output_type": "stream",
     "text": [
      "\n"
     ]
    },
    {
     "name": "stdout",
     "output_type": "stream",
     "text": [
      "Epoch 300/1000\n"
     ]
    },
    {
     "name": "stderr",
     "output_type": "stream",
     "text": [
      "100%|██████████| 1/1 [00:00<00:00, 18.18it/s, loss=0.023]"
     ]
    },
    {
     "name": "stdout",
     "output_type": "stream",
     "text": [
      "  Loss =  0.023\n"
     ]
    },
    {
     "name": "stderr",
     "output_type": "stream",
     "text": [
      "\n"
     ]
    },
    {
     "name": "stdout",
     "output_type": "stream",
     "text": [
      "Epoch 400/1000\n"
     ]
    },
    {
     "name": "stderr",
     "output_type": "stream",
     "text": [
      "100%|██████████| 1/1 [00:00<00:00, 22.67it/s, loss=0.000]"
     ]
    },
    {
     "name": "stdout",
     "output_type": "stream",
     "text": [
      "  Loss =  0.000\n"
     ]
    },
    {
     "name": "stderr",
     "output_type": "stream",
     "text": [
      "\n"
     ]
    },
    {
     "name": "stdout",
     "output_type": "stream",
     "text": [
      "Epoch 500/1000\n"
     ]
    },
    {
     "name": "stderr",
     "output_type": "stream",
     "text": [
      "100%|██████████| 1/1 [00:00<00:00, 23.44it/s, loss=0.000]"
     ]
    },
    {
     "name": "stdout",
     "output_type": "stream",
     "text": [
      "  Loss =  0.000\n"
     ]
    },
    {
     "name": "stderr",
     "output_type": "stream",
     "text": [
      "\n"
     ]
    },
    {
     "name": "stdout",
     "output_type": "stream",
     "text": [
      "Epoch 600/1000\n"
     ]
    },
    {
     "name": "stderr",
     "output_type": "stream",
     "text": [
      "100%|██████████| 1/1 [00:00<00:00, 24.35it/s, loss=0.000]"
     ]
    },
    {
     "name": "stdout",
     "output_type": "stream",
     "text": [
      "  Loss =  0.000\n"
     ]
    },
    {
     "name": "stderr",
     "output_type": "stream",
     "text": [
      "\n"
     ]
    },
    {
     "name": "stdout",
     "output_type": "stream",
     "text": [
      "Epoch 700/1000\n"
     ]
    },
    {
     "name": "stderr",
     "output_type": "stream",
     "text": [
      "100%|██████████| 1/1 [00:00<00:00, 23.40it/s, loss=0.000]"
     ]
    },
    {
     "name": "stdout",
     "output_type": "stream",
     "text": [
      "  Loss =  0.000\n"
     ]
    },
    {
     "name": "stderr",
     "output_type": "stream",
     "text": [
      "\n"
     ]
    },
    {
     "name": "stdout",
     "output_type": "stream",
     "text": [
      "Epoch 800/1000\n"
     ]
    },
    {
     "name": "stderr",
     "output_type": "stream",
     "text": [
      "100%|██████████| 1/1 [00:00<00:00, 23.05it/s, loss=0.000]"
     ]
    },
    {
     "name": "stdout",
     "output_type": "stream",
     "text": [
      "  Loss =  0.000\n"
     ]
    },
    {
     "name": "stderr",
     "output_type": "stream",
     "text": [
      "\n"
     ]
    },
    {
     "name": "stdout",
     "output_type": "stream",
     "text": [
      "Epoch 900/1000\n"
     ]
    },
    {
     "name": "stderr",
     "output_type": "stream",
     "text": [
      "100%|██████████| 1/1 [00:00<00:00, 25.29it/s, loss=0.000]"
     ]
    },
    {
     "name": "stdout",
     "output_type": "stream",
     "text": [
      "  Loss =  0.000\n"
     ]
    },
    {
     "name": "stderr",
     "output_type": "stream",
     "text": [
      "\n"
     ]
    },
    {
     "name": "stdout",
     "output_type": "stream",
     "text": [
      "Epoch 1000/1000\n"
     ]
    },
    {
     "name": "stderr",
     "output_type": "stream",
     "text": [
      "100%|██████████| 1/1 [00:00<00:00, 25.00it/s, loss=0.000]"
     ]
    },
    {
     "name": "stdout",
     "output_type": "stream",
     "text": [
      "  Loss =  0.000\n"
     ]
    },
    {
     "name": "stderr",
     "output_type": "stream",
     "text": [
      "\n"
     ]
    }
   ],
   "source": [
    "N_epoch = 1000\n",
    "beta2 = 0.99\n",
    "eta = 0.1 #0.1 #0.1/0.001/0.01/0.15\n",
    "D0 = jnp.diag(hessianF(x0)) # Cheating a bit\n",
    "                       \n",
    "alpha = 0.1 #0.1 # 0.01\n",
    "\n",
    "key, subkey = random.split(key)\n",
    "x_oa, loss_oa = oasis_adaptive(subkey, Fidx, gradFidx, hvpFidx, x0, eta, D0, beta2, alpha, N_epoch, batch_size = None, N=N, iter_display = 100)\n"
   ]
  },
  {
   "cell_type": "code",
   "execution_count": 1089,
   "id": "190efe4d-8fdb-4e33-99eb-feb74a4b0ec4",
   "metadata": {},
   "outputs": [
    {
     "name": "stdout",
     "output_type": "stream",
     "text": [
      "Epoch 1/1000 "
     ]
    },
    {
     "name": "stderr",
     "output_type": "stream",
     "text": [
      "100%|██████████| 5/5 [00:00<00:00, 65.84it/s, grad=4.139e+07, loss=198803574.088]"
     ]
    },
    {
     "name": "stdout",
     "output_type": "stream",
     "text": [
      "  |Grad| = 4.583e+07\n",
      "  Loss = 290057520.441\n"
     ]
    },
    {
     "name": "stderr",
     "output_type": "stream",
     "text": [
      "\n"
     ]
    },
    {
     "name": "stdout",
     "output_type": "stream",
     "text": [
      "Epoch 101/1000 "
     ]
    },
    {
     "name": "stderr",
     "output_type": "stream",
     "text": [
      "100%|██████████| 5/5 [00:00<00:00, 71.60it/s, grad=5.694e+04, loss=7250.281]"
     ]
    },
    {
     "name": "stdout",
     "output_type": "stream",
     "text": [
      "  |Grad| = 8.866e+04\n",
      "  Loss = 9128.105\n"
     ]
    },
    {
     "name": "stderr",
     "output_type": "stream",
     "text": [
      "\n"
     ]
    },
    {
     "name": "stdout",
     "output_type": "stream",
     "text": [
      "Epoch 201/1000 "
     ]
    },
    {
     "name": "stderr",
     "output_type": "stream",
     "text": [
      "100%|██████████| 5/5 [00:00<00:00, 59.57it/s, grad=7.279e+03, loss=44.970]"
     ]
    },
    {
     "name": "stdout",
     "output_type": "stream",
     "text": [
      "  |Grad| = 6.568e+03\n",
      "  Loss = 38.239\n"
     ]
    },
    {
     "name": "stderr",
     "output_type": "stream",
     "text": [
      "\n"
     ]
    },
    {
     "name": "stdout",
     "output_type": "stream",
     "text": [
      "Epoch 301/1000 "
     ]
    },
    {
     "name": "stderr",
     "output_type": "stream",
     "text": [
      "100%|██████████| 5/5 [00:00<00:00, 60.35it/s, grad=6.200e+02, loss=0.314]"
     ]
    },
    {
     "name": "stdout",
     "output_type": "stream",
     "text": [
      "  |Grad| = 5.888e+02\n",
      "  Loss = 0.293\n"
     ]
    },
    {
     "name": "stderr",
     "output_type": "stream",
     "text": [
      "\n"
     ]
    },
    {
     "name": "stdout",
     "output_type": "stream",
     "text": [
      "Epoch 401/1000 "
     ]
    },
    {
     "name": "stderr",
     "output_type": "stream",
     "text": [
      "100%|██████████| 5/5 [00:00<00:00, 66.09it/s, grad=5.944e+01, loss=0.003]"
     ]
    },
    {
     "name": "stdout",
     "output_type": "stream",
     "text": [
      "  |Grad| = 5.231e+01\n",
      "  Loss = 0.003\n"
     ]
    },
    {
     "name": "stderr",
     "output_type": "stream",
     "text": [
      "\n"
     ]
    },
    {
     "name": "stdout",
     "output_type": "stream",
     "text": [
      "Epoch 501/1000 "
     ]
    },
    {
     "name": "stderr",
     "output_type": "stream",
     "text": [
      "100%|██████████| 5/5 [00:00<00:00, 68.64it/s, grad=6.448e+00, loss=0.000]"
     ]
    },
    {
     "name": "stdout",
     "output_type": "stream",
     "text": [
      "  |Grad| = 5.825e+00\n",
      "  Loss = 0.000\n"
     ]
    },
    {
     "name": "stderr",
     "output_type": "stream",
     "text": [
      "\n"
     ]
    },
    {
     "name": "stdout",
     "output_type": "stream",
     "text": [
      "Epoch 601/1000 "
     ]
    },
    {
     "name": "stderr",
     "output_type": "stream",
     "text": [
      "100%|██████████| 5/5 [00:00<00:00, 62.62it/s, grad=8.165e-01, loss=0.000]"
     ]
    },
    {
     "name": "stdout",
     "output_type": "stream",
     "text": [
      "  |Grad| = 6.473e-01\n",
      "  Loss = 0.000\n"
     ]
    },
    {
     "name": "stderr",
     "output_type": "stream",
     "text": [
      "\n"
     ]
    },
    {
     "name": "stdout",
     "output_type": "stream",
     "text": [
      "Epoch 701/1000 "
     ]
    },
    {
     "name": "stderr",
     "output_type": "stream",
     "text": [
      "100%|██████████| 5/5 [00:00<00:00, 64.50it/s, grad=5.664e-02, loss=0.000]"
     ]
    },
    {
     "name": "stdout",
     "output_type": "stream",
     "text": [
      "  |Grad| = 5.676e-02\n",
      "  Loss = 0.000\n"
     ]
    },
    {
     "name": "stderr",
     "output_type": "stream",
     "text": [
      "\n"
     ]
    },
    {
     "name": "stdout",
     "output_type": "stream",
     "text": [
      "Epoch 801/1000 "
     ]
    },
    {
     "name": "stderr",
     "output_type": "stream",
     "text": [
      "100%|██████████| 5/5 [00:00<00:00, 66.78it/s, grad=8.061e-03, loss=0.000]"
     ]
    },
    {
     "name": "stdout",
     "output_type": "stream",
     "text": [
      "  |Grad| = 6.822e-03\n",
      "  Loss = 0.000\n"
     ]
    },
    {
     "name": "stderr",
     "output_type": "stream",
     "text": [
      "\n"
     ]
    },
    {
     "name": "stdout",
     "output_type": "stream",
     "text": [
      "Epoch 901/1000 "
     ]
    },
    {
     "name": "stderr",
     "output_type": "stream",
     "text": [
      "100%|██████████| 5/5 [00:00<00:00, 59.08it/s, grad=8.560e-04, loss=0.000]"
     ]
    },
    {
     "name": "stdout",
     "output_type": "stream",
     "text": [
      "  |Grad| = 6.592e-04\n",
      "  Loss = 0.000\n"
     ]
    },
    {
     "name": "stderr",
     "output_type": "stream",
     "text": [
      "\n"
     ]
    }
   ],
   "source": [
    "N_epoch = 1000\n",
    "beta2 = 0.99\n",
    "eta = 1e-8\n",
    "                       \n",
    "key, subkey = random.split(key)\n",
    "x_sgd, loss_sgd, _ = sgd(gradFidx, Fidx, N, x0, eta, N_epoch, batch_size = 2, verbose = True, iter_display = 100)"
   ]
  },
  {
   "cell_type": "code",
   "execution_count": 1092,
   "id": "12fe04dd-5169-408e-afa5-2313903faf06",
   "metadata": {},
   "outputs": [
    {
     "data": {
      "image/png": "[encoded data removed]",
      "text/plain": [
       "<Figure size 864x432 with 2 Axes>"
      ]
     },
     "metadata": {
      "needs_background": "light"
     },
     "output_type": "display_data"
    }
   ],
   "source": [
    "plt.rcParams[\"figure.figsize\"]=12, 6\n",
    "\n",
    "plt.subplot(1,2,1)\n",
    "plt.semilogy(loss_sgd)\n",
    "plt.semilogy(loss_o)\n",
    "plt.semilogy(loss_os)\n",
    "plt.semilogy(loss_oa)\n",
    "plt.semilogy(loss_osa)\n",
    "plt.legend([\"SGD\", \"OASIS fixed rate, deterministic\", \"OASIS fixed_rate, stochastic\", \"OASIS adaptive, deterministic\", \"OASIS adaptive, stochastic\"])\n",
    "plt.title(\"Loss\")\n",
    "\n",
    "plt.subplot(1,2,2)\n",
    "plt.semilogy(jnp.abs(x_sgd-x_gt))\n",
    "plt.semilogy(jnp.abs(x_o-x_gt))\n",
    "plt.semilogy(jnp.abs(x_os-x_gt))\n",
    "plt.semilogy(jnp.abs(x_oa-x_gt))\n",
    "plt.semilogy(jnp.abs(x_osa-x_gt))\n",
    "plt.legend([\"SGD\", \"OASIS fixed rate, deterministic\", \"OASIS fixed_rate, stochastic\", \"OASIS adaptive, deterministic\", \"OASIS adaptive, stochastic\"])\n",
    "plt.title(\"Error\")\n",
    "\n",
    "plt.rcParams[\"figure.figsize\"]=6,6"
   ]
  },
  {
   "cell_type": "markdown",
   "id": "db4fd16c-014f-4de5-a06e-1669a7b81280",
   "metadata": {},
   "source": [
    "Next:\n",
    "\n",
    "* Run the other deterministic algorithms to this toy problem too (Newton and CG) or maybe not\n",
    "* Run the new OASIS algorithms on the old (deterministic one operator) toy problem \n",
    "* ~~Implement the adaptive version of the stochastic OASIS~~"
   ]
  },
  {
   "cell_type": "code",
   "execution_count": null,
   "id": "a06b0ca4-7c92-41e6-b72f-2f2de37cf5f1",
   "metadata": {},
   "outputs": [],
   "source": []
  }
 ],
 "metadata": {
  "kernelspec": {
   "display_name": "Python 3 (ipykernel)",
   "language": "python",
   "name": "python3"
  },
  "language_info": {
   "codemirror_mode": {
    "name": "ipython",
    "version": 3
   },
   "file_extension": ".py",
   "mimetype": "text/x-python",
   "name": "python",
   "nbconvert_exporter": "python",
   "pygments_lexer": "ipython3",
   "version": "3.10.2"
  }
 },
 "nbformat": 4,
 "nbformat_minor": 5
}
