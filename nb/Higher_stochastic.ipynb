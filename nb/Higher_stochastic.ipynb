{
 "cells": [
  {
   "cell_type": "markdown",
   "id": "9adcce94-7192-441e-9683-bbb65e31c27a",
   "metadata": {},
   "source": [
    "# Second order stochastic methods for CryoEM"
   ]
  },
  {
   "cell_type": "code",
   "execution_count": 1,
   "id": "2abbe3cc-d606-42cb-8a87-88b079f4abc8",
   "metadata": {},
   "outputs": [],
   "source": [
    "%load_ext autoreload\n",
    "%autoreload 2\n",
    "import site\n",
    "import sys\n",
    "import time\n",
    "import pickle\n",
    "site.addsitedir('..')\n",
    "from jax.config import config\n",
    "\n",
    "config.update(\"jax_enable_x64\", True)"
   ]
  },
  {
   "cell_type": "code",
   "execution_count": 2,
   "id": "70edf6b0-fad6-4d1e-82ac-54d478732b02",
   "metadata": {},
   "outputs": [],
   "source": [
    "import jax\n",
    "import mrcfile\n",
    "from jax.scipy.special import gammaln\n",
    "from jax import random\n",
    "\n",
    "import numpy as np\n",
    "import jax.numpy as jnp\n",
    "from  matplotlib import pyplot as plt\n",
    "from src.utils import *\n",
    "from src.projection import *\n",
    "from src.interpolate import *\n",
    "from src.jaxops import *\n",
    "from src.algorithm import sgd, get_sgd_vol_ops\n",
    "from src.algorithm import conjugate_gradient as cg\n",
    "from src.datasets import *\n",
    "from src.noise import estimate_noise, average_radially, estimate_noise_radial\n",
    "from src.preprocess import *\n",
    "from src.fsc import calc_fsc\n",
    "\n",
    "plt.rcParams[\"figure.figsize\"]=6,6"
   ]
  },
  {
   "cell_type": "code",
   "execution_count": null,
   "id": "6568c2d1-797d-41f5-8922-979ce9151f8a",
   "metadata": {},
   "outputs": [],
   "source": [
    "data_dir = \"/gpfs/gibbs/pi/lederman/dge5/CrossValidationCryodrgnSet/\"\n",
    "star_file = \"particles_crossvalidation_train_1.star\"\n",
    "\n",
    "params0, imgs0 = load_data(data_dir, star_file, load_imgs = True, fourier = False)"
   ]
  },
  {
   "cell_type": "code",
   "execution_count": null,
   "id": "83b0531f-868d-424a-bd2b-363dd66b597c",
   "metadata": {},
   "outputs": [],
   "source": [
    "out_dir = out_dir = '../data/out_dev/'"
   ]
  },
  {
   "cell_type": "code",
   "execution_count": null,
   "id": "a109c7d5-532c-41ec-9cf4-40423c457931",
   "metadata": {},
   "outputs": [],
   "source": [
    "nx0 = imgs0.shape[1]\n",
    "nx_crop = 128\n",
    "N = 80000\n",
    "N_px_noise = 48\n",
    "N_imgs_noise=1000\n",
    "\n",
    "processed_data = preprocess(imgs0, params0, out_dir, nx_crop = nx_crop, N = N, N_px_noise = N_px_noise, N_imgs_noise = N_imgs_noise)\n",
    "\n",
    "imgs_f = processed_data[\"imgs_f\"]\n",
    "pixel_size = processed_data[\"pixel_size\"]\n",
    "angles = processed_data[\"angles\"]\n",
    "shifts = processed_data[\"shifts\"]\n",
    "ctf_params = processed_data[\"ctf_params\"]\n",
    "idxrand = processed_data[\"idxrand\"]\n",
    "nx = processed_data[\"nx\"]\n",
    "x_grid = processed_data[\"x_grid\"]\n",
    "mask = processed_data[\"mask\"]\n",
    "sigma_noise = processed_data[\"sigma_noise\"]\n",
    "N = imgs_f.shape[0]"
   ]
  },
  {
   "cell_type": "code",
   "execution_count": null,
   "id": "8f712166-e8f4-4f94-8523-b5adf8addb30",
   "metadata": {},
   "outputs": [],
   "source": [
    "plt.imshow(jnp.fft.fftshift(jnp.abs(imgs_f[2135].reshape([128,128]))));plt.colorbar()"
   ]
  },
  {
   "cell_type": "code",
   "execution_count": null,
   "id": "2c7d5aa0-4f24-49b1-b4ec-a343c065dabe",
   "metadata": {},
   "outputs": [],
   "source": [
    "del(imgs0)"
   ]
  },
  {
   "cell_type": "markdown",
   "id": "3cdc7bca-a144-4276-9f46-8707eadf2acd",
   "metadata": {},
   "source": [
    "### Only volume reconstruction for now - SGD"
   ]
  },
  {
   "cell_type": "markdown",
   "id": "6107db83-89cb-49b7-9ed4-38c589bc594b",
   "metadata": {},
   "source": [
    "Obervations:\n",
    "\n",
    "* The loss and grad don't tell us anything about convergence. The loss is about the same after only 100 iterations and after 10 epochs (of 781 iters each), and yet the result is different"
   ]
  },
  {
   "cell_type": "code",
   "execution_count": null,
   "id": "25674ba2-f439-42aa-84b6-9337cd115c3a",
   "metadata": {},
   "outputs": [],
   "source": [
    "# Apply mask to images\n",
    "mask2d = mask[0].reshape(-1)\n",
    "imgs_f = imgs_f * mask2d"
   ]
  },
  {
   "cell_type": "code",
   "execution_count": null,
   "id": "c50ca3a5-41d6-4728-a278-115e291b0f8e",
   "metadata": {},
   "outputs": [],
   "source": [
    "key = random.PRNGKey(int(jnp.floor(np.random.rand()*1000)))"
   ]
  },
  {
   "cell_type": "code",
   "execution_count": null,
   "id": "7814ad4e-ec4a-497d-8b87-f6610582fb55",
   "metadata": {},
   "outputs": [],
   "source": [
    "alpha = 1e-9\n",
    "\n",
    "slice_obj = Slice(x_grid)\n",
    "loss_obj = Loss(slice_obj, alpha = alpha)\n",
    "gradv_obj = GradV(loss_obj)"
   ]
  },
  {
   "cell_type": "code",
   "execution_count": null,
   "id": "8012f3a5-5494-49dd-8378-441f7b196a07",
   "metadata": {},
   "outputs": [],
   "source": [
    "N_epochs = 20\n",
    "batch_size = 32\n",
    "step_size = 1000000 # 1e-3\n",
    "\n",
    "idxrand = np.random.permutation(N)\n",
    "idx1 = idxrand[:int(N/2)]\n",
    "idx2 = idxrand[int(N/2):]\n",
    "             \n",
    "grad_func1, loss_func1 = get_sgd_vol_ops(gradv_obj, loss_obj, angles[idx1], shifts[idx1], ctf_params[idx1], imgs_f[idx1], sigma_noise)\n",
    "grad_func2, loss_func2 = get_sgd_vol_ops(gradv_obj, loss_obj, angles[idx2], shifts[idx2], ctf_params[idx2], imgs_f[idx2], sigma_noise)\n",
    "\n",
    "key, subkey = random.split(key)\n",
    "x0 = random.normal(subkey, [nx,nx,nx], dtype=jnp.complex128)"
   ]
  },
  {
   "cell_type": "code",
   "execution_count": null,
   "id": "c6070e22-f729-431f-966d-bec1fe905820",
   "metadata": {},
   "outputs": [],
   "source": [
    "v_rec1, loss_rec1, grad_rec1 = sgd(grad_func1, loss_func1, int(N/2), x0, step_size, N_epochs, batch_size, verbose=True, iter_display=1)\n"
   ]
  },
  {
   "cell_type": "code",
   "execution_count": null,
   "id": "1e4d84d3-781c-4608-aa5b-e72766c79fc5",
   "metadata": {},
   "outputs": [],
   "source": [
    "v_rec2, loss_rec2, grad_rec2 = sgd(grad_func2, loss_func2, int(N/2), x0, step_size, N_epochs, batch_size, verbose=True, iter_display=1)\n"
   ]
  },
  {
   "cell_type": "code",
   "execution_count": null,
   "id": "ce5d41c3-633e-46f8-bc68-fedffd243a15",
   "metadata": {},
   "outputs": [],
   "source": [
    "plt.rcParams[\"figure.figsize\"]=12, 12\n",
    "\n",
    "plt.subplot(1,2,1)\n",
    "mip_z(np.fft.fftshift(np.abs(v_rec1))); #plt.colorbar()\n",
    "\n",
    "plt.subplot(1,2,2)\n",
    "mip_z(np.fft.fftshift(np.abs(v_rec2))); #plt.colorbar()"
   ]
  },
  {
   "cell_type": "code",
   "execution_count": null,
   "id": "d0d7877c-3a1a-424e-bc9d-0f23b9101cbc",
   "metadata": {},
   "outputs": [],
   "source": [
    "v_rec_l1, _ = rescale_larger_grid(v_rec1, x_grid, nx0)\n",
    "vr_sgd1 = jnp.real(jnp.fft.fftshift(jnp.fft.ifftn(v_rec_l1)))\n",
    "\n",
    "v_rec_l2, _ = rescale_larger_grid(v_rec2, x_grid, nx0)\n",
    "vr_sgd2 = jnp.real(jnp.fft.fftshift(jnp.fft.ifftn(v_rec_l2)))\n",
    "\n",
    "plt.subplot(1,2,1)\n",
    "mip_z(vr_sgd1)\n",
    "#plt.colorbar()\n",
    "\n",
    "plt.subplot(1,2,2)\n",
    "mip_z(vr_sgd2)\n",
    "#plt.colorbar()\n",
    "\n",
    "plt.rcParams[\"figure.figsize\"]=6, 6\n"
   ]
  },
  {
   "cell_type": "code",
   "execution_count": null,
   "id": "b799a8fe-ff5c-4821-b2a3-805e002cb15a",
   "metadata": {},
   "outputs": [],
   "source": [
    "with mrcfile.new(f\"{out_dir}/v_rec_sgd1.mrc\", overwrite=True) as mrc:\n",
    "    mrc.set_data(vr_sgd1.astype(np.float32))\n",
    "    \n",
    "with mrcfile.new(f\"{out_dir}/v_rec_sgd2.mrc\", overwrite=True) as mrc:\n",
    "    mrc.set_data(vr_sgd2.astype(np.float32))   "
   ]
  },
  {
   "cell_type": "markdown",
   "id": "bb22dbfa-b02b-47cb-8e40-a26cafe8ee99",
   "metadata": {},
   "source": [
    "#### FSC"
   ]
  },
  {
   "cell_type": "code",
   "execution_count": null,
   "id": "7257b4d3-bf8b-4a12-8379-9c9a26b38418",
   "metadata": {},
   "outputs": [],
   "source": [
    "print(v_rec1.shape)\n",
    "print(v_rec2.shape)\n",
    "print(x_grid)"
   ]
  },
  {
   "cell_type": "code",
   "execution_count": null,
   "id": "22f9a5d1-a4e8-41a8-8a57-297bc17d1a69",
   "metadata": {},
   "outputs": [],
   "source": [
    "res, fsc, shell_points = calc_fsc(v_rec1, v_rec2, [1, 128])"
   ]
  },
  {
   "cell_type": "code",
   "execution_count": null,
   "id": "92c4da2d-52bd-4d96-9bec-92a913620d14",
   "metadata": {},
   "outputs": [],
   "source": [
    "plt.plot(res, fsc)"
   ]
  },
  {
   "cell_type": "code",
   "execution_count": null,
   "id": "3c845e19-b9d0-46af-a140-1c628c6ca926",
   "metadata": {},
   "outputs": [],
   "source": [
    "res_angs = nx0 * pixel_size[0]/res\n",
    "plt.semilogx(res_angs, fsc)"
   ]
  },
  {
   "cell_type": "code",
   "execution_count": null,
   "id": "059ab0f9-dfb6-4a1d-8bb4-95c537f8e410",
   "metadata": {},
   "outputs": [],
   "source": [
    "fsc"
   ]
  },
  {
   "cell_type": "code",
   "execution_count": null,
   "id": "a072d7e6-d4f8-43ed-b9e1-8b165bd94a5c",
   "metadata": {},
   "outputs": [],
   "source": [
    "fsc[10]"
   ]
  },
  {
   "cell_type": "code",
   "execution_count": null,
   "id": "f046f6a7-4871-4703-b53f-e451f5c987ef",
   "metadata": {},
   "outputs": [],
   "source": [
    "fsc[11]"
   ]
  },
  {
   "cell_type": "code",
   "execution_count": null,
   "id": "ec583f5e-f612-4a06-bab5-6bb5de5e511e",
   "metadata": {},
   "outputs": [],
   "source": [
    "res_angs[10]"
   ]
  },
  {
   "cell_type": "code",
   "execution_count": null,
   "id": "302e4a15-aa86-47c2-9889-7c492945e90d",
   "metadata": {},
   "outputs": [],
   "source": [
    "res_angs[11]"
   ]
  },
  {
   "cell_type": "markdown",
   "id": "ba2552dc-80df-45bd-907a-ea21d18c9a29",
   "metadata": {},
   "source": [
    "### Newton's method vs GD vs CG"
   ]
  },
  {
   "cell_type": "markdown",
   "id": "1141d019-8758-4b11-bc45-de356c8289a7",
   "metadata": {},
   "source": [
    "#### GD - a pain to tune "
   ]
  },
  {
   "cell_type": "code",
   "execution_count": 6,
   "id": "32799d6f-c4a7-4aae-957e-ab21c9d2a725",
   "metadata": {},
   "outputs": [
    {
     "ename": "NameError",
     "evalue": "name 'gradv_obj' is not defined",
     "output_type": "error",
     "traceback": [
      "\u001b[0;31m---------------------------------------------------------------------------\u001b[0m",
      "\u001b[0;31mNameError\u001b[0m                                 Traceback (most recent call last)",
      "Input \u001b[0;32mIn [6]\u001b[0m, in \u001b[0;36m<module>\u001b[0;34m\u001b[0m\n\u001b[1;32m      5\u001b[0m step_size \u001b[38;5;241m=\u001b[39m \u001b[38;5;241m10000\u001b[39m \u001b[38;5;66;03m# 1e-3\u001b[39;00m\n\u001b[1;32m      7\u001b[0m idx \u001b[38;5;241m=\u001b[39m np\u001b[38;5;241m.\u001b[39marange(Ngd)\n\u001b[0;32m----> 9\u001b[0m grad_func, loss_func \u001b[38;5;241m=\u001b[39m get_sgd_vol_ops(\u001b[43mgradv_obj\u001b[49m, loss_obj, angles[idx], shifts[idx], ctf_params[idx], imgs_f[idx], sigma_noise)\n\u001b[1;32m     11\u001b[0m key, subkey \u001b[38;5;241m=\u001b[39m random\u001b[38;5;241m.\u001b[39msplit(key)\n\u001b[1;32m     12\u001b[0m x0 \u001b[38;5;241m=\u001b[39m random\u001b[38;5;241m.\u001b[39mnormal(subkey, [nx,nx,nx], dtype\u001b[38;5;241m=\u001b[39mjnp\u001b[38;5;241m.\u001b[39mcomplex128)\n",
      "\u001b[0;31mNameError\u001b[0m: name 'gradv_obj' is not defined"
     ]
    }
   ],
   "source": [
    "Ngd = 1000\n",
    "\n",
    "N_epochs = 200\n",
    "batch_size = Ngd\n",
    "step_size = 10000 # 1e-3\n",
    "\n",
    "idx = np.arange(Ngd)\n",
    "\n",
    "grad_func, loss_func = get_sgd_vol_ops(gradv_obj, loss_obj, angles[idx], shifts[idx], ctf_params[idx], imgs_f[idx], sigma_noise)\n",
    "\n",
    "key, subkey = random.split(key)\n",
    "x0 = random.normal(subkey, [nx,nx,nx], dtype=jnp.complex128)"
   ]
  },
  {
   "cell_type": "code",
   "execution_count": 7,
   "id": "1c3e61c9-5c12-4676-8a32-067d473aeaf2",
   "metadata": {},
   "outputs": [
    {
     "ename": "NameError",
     "evalue": "name 'grad_func' is not defined",
     "output_type": "error",
     "traceback": [
      "\u001b[0;31m---------------------------------------------------------------------------\u001b[0m",
      "\u001b[0;31mNameError\u001b[0m                                 Traceback (most recent call last)",
      "Input \u001b[0;32mIn [7]\u001b[0m, in \u001b[0;36m<module>\u001b[0;34m\u001b[0m\n\u001b[0;32m----> 1\u001b[0m v_rec_gd, loss_rec_gd, grad_rec_gd \u001b[38;5;241m=\u001b[39m sgd(\u001b[43mgrad_func\u001b[49m, loss_func1, Ngd, x0, step_size, N_epochs, batch_size, verbose\u001b[38;5;241m=\u001b[39m\u001b[38;5;28;01mTrue\u001b[39;00m, iter_display\u001b[38;5;241m=\u001b[39m\u001b[38;5;241m10\u001b[39m)\n",
      "\u001b[0;31mNameError\u001b[0m: name 'grad_func' is not defined"
     ]
    }
   ],
   "source": [
    "v_rec_gd, loss_rec_gd, grad_rec_gd = sgd(grad_func, loss_func1, Ngd, x0, step_size, N_epochs, batch_size, verbose=True, iter_display=10)\n"
   ]
  },
  {
   "cell_type": "code",
   "execution_count": null,
   "id": "c703e070-5fc4-48de-9a8d-84126c679de5",
   "metadata": {},
   "outputs": [],
   "source": [
    "plt.plot(loss_rec_gd)"
   ]
  },
  {
   "cell_type": "markdown",
   "id": "6f4e8acf-da8b-4931-a80f-2a2a1dc3694f",
   "metadata": {},
   "source": [
    "### OASIS"
   ]
  },
  {
   "cell_type": "markdown",
   "id": "b33042af-f43f-4111-a61c-4748826bb4a1",
   "metadata": {},
   "source": [
    "#### Hutchinson's method"
   ]
  },
  {
   "cell_type": "markdown",
   "id": "1d64e3e8-d051-49f6-b612-3ae4408e2681",
   "metadata": {},
   "source": [
    "The diagonal of a symmetric matrix can be approximated as follows:\n",
    "\n",
    "$\n",
    "\\text{diag}(A) = \\mathbb{E}[z * Az ],\n",
    "$\n",
    "\n",
    "where $z$ is a random vector with Rademacher or Gaussian distribution and $*$ represents element-wise multiplication.\n",
    "\n",
    "Here we're reproducing Figure 1 in the OASIS paper."
   ]
  },
  {
   "cell_type": "code",
   "execution_count": 8,
   "id": "0b5f24cb-e3bb-478e-8aba-588f3880ebaa",
   "metadata": {},
   "outputs": [],
   "source": [
    "n = 100\n",
    "\n",
    "key = random.PRNGKey(int(jnp.floor(np.random.rand()*1000)))"
   ]
  },
  {
   "cell_type": "code",
   "execution_count": 9,
   "id": "321d8933-93a7-4ab3-aa9a-5fd5d6a717f8",
   "metadata": {},
   "outputs": [
    {
     "data": {
      "text/plain": [
       "<matplotlib.colorbar.Colorbar at 0x2b2d62cf3ee0>"
      ]
     },
     "execution_count": 9,
     "metadata": {},
     "output_type": "execute_result"
    },
    {
     "data": {
      "image/png": "[encoded data removed]",
      "text/plain": [
       "<Figure size 432x432 with 2 Axes>"
      ]
     },
     "metadata": {
      "needs_background": "light"
     },
     "output_type": "display_data"
    }
   ],
   "source": [
    "key, subkey = random.split(key)\n",
    "\n",
    "A = random.normal(subkey, (n,n))\n",
    "A = A.T + A\n",
    "\n",
    "plt.imshow(A); plt.colorbar()"
   ]
  },
  {
   "cell_type": "code",
   "execution_count": 10,
   "id": "68e6e03d-a88f-4121-b28f-9a96fd573ea4",
   "metadata": {},
   "outputs": [],
   "source": [
    "iters = 10000\n",
    "\n",
    "key, subkey = random.split(key)\n",
    "z = random.rademacher(subkey, (iters, n))\n",
    "\n",
    "#z * A @ z "
   ]
  },
  {
   "cell_type": "code",
   "execution_count": 11,
   "id": "436158da-1e91-45ce-834e-8e918fd6f3c0",
   "metadata": {},
   "outputs": [],
   "source": [
    "zAz = jax.vmap(lambda zi : zi * (A @ zi))(z)\n",
    "#plt.imshow(zAz)"
   ]
  },
  {
   "cell_type": "code",
   "execution_count": 12,
   "id": "cae0c37c-9ffa-4c6c-af4a-a0c58c3f3823",
   "metadata": {},
   "outputs": [],
   "source": [
    "d = np.zeros((iters, n))\n",
    "d[0] = zAz[0]\n",
    "for i in range(1, iters):\n",
    "    d[i] = d[i-1] + zAz[i]\n",
    "    \n",
    "for i in range(1, iters):\n",
    "    d[i] = d[i]/(i+1)"
   ]
  },
  {
   "cell_type": "code",
   "execution_count": 13,
   "id": "c8e1da64-4869-4139-8fa4-c6a290078927",
   "metadata": {},
   "outputs": [],
   "source": [
    "err = jnp.mean((d - jnp.diag(A))**2, axis=1)"
   ]
  },
  {
   "cell_type": "code",
   "execution_count": 14,
   "id": "c65d8665-b965-4c44-84e5-5957c6a527dc",
   "metadata": {},
   "outputs": [
    {
     "data": {
      "text/plain": [
       "[<matplotlib.lines.Line2D at 0x2b2d64cfe560>]"
      ]
     },
     "execution_count": 14,
     "metadata": {},
     "output_type": "execute_result"
    },
    {
     "data": {
      "image/png": "[encoded data removed]",
      "text/plain": [
       "<Figure size 432x432 with 1 Axes>"
      ]
     },
     "metadata": {
      "needs_background": "light"
     },
     "output_type": "display_data"
    }
   ],
   "source": [
    "plt.semilogy(err)"
   ]
  },
  {
   "cell_type": "markdown",
   "id": "8d9a6610-5cd6-45a3-ae7c-247a47da4ff1",
   "metadata": {},
   "source": [
    "#### Hessian-vector product in JaX"
   ]
  },
  {
   "cell_type": "code",
   "execution_count": 15,
   "id": "9a4d218b-4071-48db-88b1-a0f838b6b2a1",
   "metadata": {},
   "outputs": [],
   "source": [
    "key, *subkey = random.split(key, 4)\n",
    "x0 = random.normal(subkey[0], (n,))\n",
    "x = random.normal(subkey[1], (n,))\n",
    "v = random.normal(subkey[2], (n,))"
   ]
  },
  {
   "cell_type": "code",
   "execution_count": 16,
   "id": "31e002d4-dd70-42db-a9fc-b5be7426b11e",
   "metadata": {},
   "outputs": [],
   "source": [
    "b = A @ x0 \n",
    "f = lambda x : jnp.mean((A @ x - b)**2)"
   ]
  },
  {
   "cell_type": "code",
   "execution_count": 17,
   "id": "a9348932-6f2f-4160-a076-48f6a34f9b6c",
   "metadata": {},
   "outputs": [
    {
     "data": {
      "text/plain": [
       "DeviceArray(0., dtype=float64)"
      ]
     },
     "execution_count": 17,
     "metadata": {},
     "output_type": "execute_result"
    }
   ],
   "source": [
    "f(x0)"
   ]
  },
  {
   "cell_type": "code",
   "execution_count": 18,
   "id": "2b9c9028-1e56-4436-b811-8916ab65171f",
   "metadata": {},
   "outputs": [],
   "source": [
    "from jax import jvp, grad\n",
    "\n",
    "# Naive\n",
    "def hvp0(f, x, v):\n",
    "    return grad(lambda x : jnp.vdot(grad(f)(x), v))(x)\n",
    "\n",
    "# forward-over-reverse\n",
    "def hvp(f, x, v):\n",
    "    return jvp(jax.grad(f), x, v)[1]"
   ]
  },
  {
   "cell_type": "code",
   "execution_count": 20,
   "id": "29e5c85b-5d3c-4ac7-ac84-e7354b893043",
   "metadata": {},
   "outputs": [
    {
     "name": "stdout",
     "output_type": "stream",
     "text": [
      "0.01427006721496582\n",
      "0.0051724910736083984\n"
     ]
    },
    {
     "data": {
      "text/plain": [
       "DeviceArray(0., dtype=float64)"
      ]
     },
     "execution_count": 20,
     "metadata": {},
     "output_type": "execute_result"
    }
   ],
   "source": [
    "t0 = time.time()\n",
    "v1 = hvp0(f, x, v).block_until_ready()\n",
    "print(time.time()-t0)\n",
    "\n",
    "t0 = time.time()\n",
    "v2 = hvp(f, (x,), (v,)).block_until_ready()\n",
    "print(time.time()-t0)\n",
    "\n",
    "jnp.sum(jnp.abs(v1-v2))"
   ]
  },
  {
   "cell_type": "markdown",
   "id": "37b9b821-9bdc-4fda-88d0-6a29fc9d0e79",
   "metadata": {},
   "source": [
    "#### Toy problem"
   ]
  },
  {
   "cell_type": "code",
   "execution_count": 58,
   "id": "4904d533-80e6-423c-a774-092091bd9c92",
   "metadata": {},
   "outputs": [
    {
     "name": "stdout",
     "output_type": "stream",
     "text": [
      "Condition number =  3.33e+05\n"
     ]
    },
    {
     "data": {
      "image/png": "[encoded data removed]",
      "text/plain": [
       "<Figure size 432x432 with 1 Axes>"
      ]
     },
     "metadata": {
      "needs_background": "light"
     },
     "output_type": "display_data"
    }
   ],
   "source": [
    "key, *subkey = random.split(key, 4)\n",
    "\n",
    "x_gt = random.normal(subkey[0], (n,))\n",
    "\n",
    "A = np.random.normal(size = (n,n))\n",
    "A = A.T @ A\n",
    "_, v = jnp.linalg.eigh(A)\n",
    "d = jnp.flip(jnp.logspace(-5,1,n)) \n",
    "d = d + jnp.abs(jnp.min(d)*2)\n",
    "A = v.T @ jnp.diag(d) @ v\n",
    "\n",
    "evals, evecs = np.linalg.eig(A)\n",
    "evals = np.flip(np.sort(evals))\n",
    "\n",
    "\n",
    "assert(jnp.sum(evals < 0) == 0)\n",
    "#assert(jnp.max(jnp.abs(A.T - A)) == 0)\n",
    "#assert(jnp.sum(jnp.abs(A@A.T - A.T@ A)) == 0)\n",
    "\n",
    "\n",
    "plt.semilogy(evals, '.')\n",
    "plt.title(\"Eigenvalues\")\n",
    "print(f\"Condition number = {evals[0]/evals[n-1] : .2e}\")"
   ]
  },
  {
   "cell_type": "code",
   "execution_count": 59,
   "id": "401090de-ef3e-4e42-8ccb-66742693059c",
   "metadata": {},
   "outputs": [
    {
     "name": "stdout",
     "output_type": "stream",
     "text": [
      "f(x_gt + 1) = 368.350576936144\n",
      "f(x_gt) = 0.0\n",
      "gradF(x_gt) = [0. 0. 0. 0. 0. 0. 0. 0. 0. 0. 0. 0. 0. 0. 0. 0. 0. 0. 0. 0. 0. 0. 0. 0.\n",
      " 0. 0. 0. 0. 0. 0. 0. 0. 0. 0. 0. 0. 0. 0. 0. 0. 0. 0. 0. 0. 0. 0. 0. 0.\n",
      " 0. 0. 0. 0. 0. 0. 0. 0. 0. 0. 0. 0. 0. 0. 0. 0. 0. 0. 0. 0. 0. 0. 0. 0.\n",
      " 0. 0. 0. 0. 0. 0. 0. 0. 0. 0. 0. 0. 0. 0. 0. 0. 0. 0. 0. 0. 0. 0. 0. 0.\n",
      " 0. 0. 0. 0.]\n",
      "hessianF(x_gt) = [[ 2.54873251  1.83673044 -0.04047574 ...  1.78637264 -2.17478585\n",
      "   1.85817   ]\n",
      " [ 1.83673044  6.68852552 -0.25082722 ...  3.95424303 -6.72520495\n",
      "   2.24816259]\n",
      " [-0.04047574 -0.25082722  2.66000647 ...  2.4149449  -0.49413592\n",
      "  -2.95257187]\n",
      " ...\n",
      " [ 1.78637264  3.95424303  2.4149449  ... 15.90393093 -6.35733906\n",
      "  -3.10244647]\n",
      " [-2.17478585 -6.72520495 -0.49413592 ... -6.35733906 12.29887303\n",
      "  -3.43594311]\n",
      " [ 1.85817     2.24816259 -2.95257187 ... -3.10244647 -3.43594311\n",
      "   7.87121291]]\n"
     ]
    }
   ],
   "source": [
    "sig_noise = 1\n",
    "lam = 0.1\n",
    "\n",
    "b = A @ x_gt #+ np.random.normal(size=(n,)) * sig_noise\n",
    "\n",
    "F = jax.jit(lambda x : jnp.sum((A @ x - b)**2) #+ lam * jnp.mean(x**2))\n",
    "print(f\"f(x_gt + 1) = {F(x_gt+1)}\")\n",
    "print(f\"f(x_gt) = {F(x_gt)}\")\n",
    "\n",
    "gradF = jax.jit(jax.grad(F))\n",
    "hessianF = jax.hessian(F)\n",
    "\n",
    "hvpF = jax.jit(lambda x, v : hvp(F, (x,), (v,)))\n",
    "\n",
    "print(f\"gradF(x_gt) = {gradF(x_gt)}\")\n",
    "print(f\"hessianF(x_gt) = {hessianF(x_gt)}\")\n"
   ]
  },
  {
   "cell_type": "code",
   "execution_count": 60,
   "id": "b94e1555-0cba-4e87-a8ae-fff9a418bbdd",
   "metadata": {},
   "outputs": [],
   "source": [
    "def gd(F, gradF, eta, w0, N_iter = 20, iter_display = 1):\n",
    "    loss = []\n",
    "    for k in range(1, N_iter+1):\n",
    "        w1 = w0 - eta * gradF(w0)\n",
    "        loss_i = F(w1)\n",
    "        loss.append(loss_i)\n",
    "        \n",
    "        w0 = w1\n",
    "        \n",
    "        if k % iter_display == 0:\n",
    "            print(f\"Iter {k}: loss = {loss_i}\")\n",
    "            \n",
    "    return w1, jnp.array(loss)\n",
    "\n",
    "def newton(F, gradF, hessianF, w0, N_iter = 20, iter_display = 1):\n",
    "    loss = []\n",
    "    for k in range(1, N_iter+1):\n",
    "        G = gradF(w0)\n",
    "        H = hessianF(w0)\n",
    "        \n",
    "        w1 = w0 - jnp.linalg.inv(H) @ G\n",
    "        loss_i = F(w1)\n",
    "        loss.append(loss_i)\n",
    "        \n",
    "        w0 = w1\n",
    "        \n",
    "        if k % iter_display == 0:\n",
    "            print(f\"Iter {k}: loss = {loss_i}\")\n",
    "            \n",
    "    return w1, jnp.array(loss)"
   ]
  },
  {
   "cell_type": "code",
   "execution_count": 79,
   "id": "ecb98c76-829b-4103-a042-f18004bac2e9",
   "metadata": {},
   "outputs": [
    {
     "name": "stdout",
     "output_type": "stream",
     "text": [
      "Iter 200: loss = 7.566913023656689\n",
      "Iter 400: loss = 3.438941198040916\n",
      "Iter 600: loss = 2.2615039813308515\n",
      "Iter 800: loss = 1.7908432853399627\n",
      "Iter 1000: loss = 1.548381362484629\n",
      "Iter 1200: loss = 1.3950858123764527\n",
      "Iter 1400: loss = 1.2826627354318219\n",
      "Iter 1600: loss = 1.1920775288806487\n",
      "Iter 1800: loss = 1.1149968751782497\n",
      "Iter 2000: loss = 1.0473650752746044\n",
      "Iter 2200: loss = 0.9869678775580705\n",
      "Iter 2400: loss = 0.932445857482305\n",
      "Iter 2600: loss = 0.8828719133378498\n",
      "Iter 2800: loss = 0.8375597486135448\n",
      "Iter 3000: loss = 0.7959712331490839\n",
      "Iter 3200: loss = 0.7576680543809416\n",
      "Iter 3400: loss = 0.7222842497654264\n",
      "Iter 3600: loss = 0.689509193706849\n",
      "Iter 3800: loss = 0.6590761944261014\n",
      "Iter 4000: loss = 0.6307543372226019\n",
      "Iter 4200: loss = 0.6043423540910671\n",
      "Iter 4400: loss = 0.5796638488097261\n",
      "Iter 4600: loss = 0.5565634829634496\n",
      "Iter 4800: loss = 0.5349038749208709\n",
      "Iter 5000: loss = 0.51456304607797\n",
      "Iter 5200: loss = 0.49543229772196\n",
      "Iter 5400: loss = 0.4774144328586791\n",
      "Iter 5600: loss = 0.4604222580223551\n",
      "Iter 5800: loss = 0.44437731455214113\n",
      "Iter 6000: loss = 0.4292087993474215\n",
      "Iter 6200: loss = 0.4148526430197454\n",
      "Iter 6400: loss = 0.401250719441994\n",
      "Iter 6600: loss = 0.3883501654624665\n",
      "Iter 6800: loss = 0.37610279333965324\n",
      "Iter 7000: loss = 0.3644645814953521\n",
      "Iter 7200: loss = 0.35339523164600234\n",
      "Iter 7400: loss = 0.34285778237763187\n",
      "Iter 7600: loss = 0.3328182708713554\n",
      "Iter 7800: loss = 0.3232454358355408\n",
      "Iter 8000: loss = 0.31411045581341895\n",
      "Iter 8200: loss = 0.3053867179554254\n",
      "Iter 8400: loss = 0.2970496131090343\n",
      "Iter 8600: loss = 0.2890763537139464\n",
      "Iter 8800: loss = 0.28144581151989856\n",
      "Iter 9000: loss = 0.27413837258689455\n",
      "Iter 9200: loss = 0.2671358073983726\n",
      "Iter 9400: loss = 0.2604211542291668\n",
      "Iter 9600: loss = 0.25397861417221007\n",
      "Iter 9800: loss = 0.2477934564491172\n",
      "Iter 10000: loss = 0.24185193281690037\n"
     ]
    }
   ],
   "source": [
    "N_iter = 10000\n",
    "eta = 1e-3 #0.000005 # learning rate\n",
    "x0 = np.random.randn(*x_gt.shape)\n",
    "\n",
    "x_gd, loss_gd = gd(F, gradF, eta, x0, N_iter, iter_display = 200)"
   ]
  },
  {
   "cell_type": "code",
   "execution_count": 78,
   "id": "7eb85da1-5793-46a2-a687-efacec1f2723",
   "metadata": {},
   "outputs": [
    {
     "data": {
      "text/plain": [
       "[<matplotlib.lines.Line2D at 0x2b2ea9e474c0>]"
      ]
     },
     "execution_count": 78,
     "metadata": {},
     "output_type": "execute_result"
    },
    {
     "data": {
      "image/png": "[encoded data removed]",
      "text/plain": [
       "<Figure size 432x432 with 1 Axes>"
      ]
     },
     "metadata": {
      "needs_background": "light"
     },
     "output_type": "display_data"
    }
   ],
   "source": [
    "plt.semilogy(loss_gd)"
   ]
  },
  {
   "cell_type": "code",
   "execution_count": 80,
   "id": "eb2d880e-0732-4e55-8fae-543264260554",
   "metadata": {},
   "outputs": [
    {
     "name": "stdout",
     "output_type": "stream",
     "text": [
      "Iter 1: loss = 4.541535870317591e-10\n",
      "Iter 2: loss = 2.5559399744383823e-22\n",
      "Iter 3: loss = 1.2011639877154313e-29\n",
      "Iter 4: loss = 1.4245718612643506e-29\n",
      "Iter 5: loss = 1.0680437099593855e-29\n",
      "Iter 6: loss = 1.359937652330715e-29\n",
      "Iter 7: loss = 1.1528616647101994e-29\n",
      "Iter 8: loss = 1.1075637924182116e-29\n",
      "Iter 9: loss = 1.3778102822146285e-29\n",
      "Iter 10: loss = 1.476417895367255e-29\n"
     ]
    }
   ],
   "source": [
    "N_iter = 10\n",
    "\n",
    "x_n, loss_n = newton(F, gradF, hessianF, x0, N_iter, iter_display = 1)"
   ]
  },
  {
   "cell_type": "code",
   "execution_count": 81,
   "id": "91e40bf7-22a3-47c7-ba73-7587e97c8682",
   "metadata": {},
   "outputs": [
    {
     "data": {
      "text/plain": [
       "[<matplotlib.lines.Line2D at 0x2b2ea9ad4400>]"
      ]
     },
     "execution_count": 81,
     "metadata": {},
     "output_type": "execute_result"
    },
    {
     "data": {
      "image/png": "[encoded data removed]",
      "text/plain": [
       "<Figure size 432x432 with 1 Axes>"
      ]
     },
     "metadata": {
      "needs_background": "light"
     },
     "output_type": "display_data"
    }
   ],
   "source": [
    "plt.plot(loss_n)"
   ]
  },
  {
   "cell_type": "code",
   "execution_count": 83,
   "id": "85918078-6e0b-4ae8-ae60-c714e8f6bb7b",
   "metadata": {},
   "outputs": [
    {
     "name": "stdout",
     "output_type": "stream",
     "text": [
      "  cg iter 0 ||r|| = 144.60878098402895\n",
      "  cg iter 200 ||r|| = 0.02052070984325848\n",
      "  cg iter 400 ||r|| = 0.00011869604053601819\n",
      "  cg iter 600 ||r|| = 0.0009661663272870522\n",
      "  cg iter 800 ||r|| = 0.00022536441892726406\n",
      "  cg iter 1000 ||r|| = 0.0006928287770301123\n",
      "  cg iter 1200 ||r|| = 0.00012444674203541985\n",
      "  cg iter 1400 ||r|| = 5.909981603639233e-05\n",
      "  cg iter 1600 ||r|| = 2.6552915410393933e-05\n",
      "  cg iter 1800 ||r|| = 0.00011272503049017578\n",
      "  cg iter 2000 ||r|| = 4.419069390554162e-05\n",
      "  cg iter 2200 ||r|| = 2.9743115069315506e-05\n",
      "  cg iter 2400 ||r|| = 0.0002344880258614505\n",
      "  cg iter 2600 ||r|| = 5.339460579278025e-05\n",
      "  cg iter 2800 ||r|| = 6.363079144773662e-05\n",
      "  cg iter 3000 ||r|| = 2.9888168428041017e-05\n",
      "  cg iter 3200 ||r|| = 3.342202459982158e-05\n",
      "  cg iter 3400 ||r|| = 2.945877349379104e-05\n",
      "  cg iter 3600 ||r|| = 3.6268980707420437e-05\n",
      "  cg iter 3800 ||r|| = 5.3160438566230884e-05\n",
      "  cg iter 4000 ||r|| = 2.7660143757230447e-06\n",
      "  cg iter 4200 ||r|| = 4.50507418724294e-05\n",
      "  cg iter 4400 ||r|| = 1.5983775409752377e-05\n",
      "  cg iter 4600 ||r|| = 2.050959212433048e-06\n",
      "  cg iter 4800 ||r|| = 1.7883809117784032e-05\n",
      "  cg iter 5000 ||r|| = 1.4959611718778832e-06\n",
      "  cg iter 5200 ||r|| = 3.1016230012544265e-05\n",
      "  cg iter 5400 ||r|| = 4.825429978885052e-06\n",
      "  cg iter 5600 ||r|| = 3.6975991118623674e-06\n",
      "  cg iter 5800 ||r|| = 0.00011326962049721695\n",
      "  cg iter 6000 ||r|| = 2.458610454593953e-05\n",
      "  cg iter 6200 ||r|| = 1.5969582073712393e-06\n",
      "  cg iter 6400 ||r|| = 1.008074740984089e-06\n",
      "  cg iter 6600 ||r|| = 7.74139109023915e-06\n",
      "  cg iter 6800 ||r|| = 2.400293026763006e-06\n",
      "  cg iter 7000 ||r|| = 2.205901019544768e-06\n",
      "  cg iter 7200 ||r|| = 5.435365415004012e-06\n",
      "  cg iter 7400 ||r|| = 1.8161958253779733e-05\n",
      "  cg iter 7600 ||r|| = 2.2251559025968177e-05\n",
      "  cg iter 7800 ||r|| = 2.3923809458389624e-06\n",
      "  cg iter 8000 ||r|| = 5.540917204751845e-06\n",
      "  cg iter 8200 ||r|| = 8.809958902549617e-06\n",
      "  cg iter 8400 ||r|| = 2.5288374501828368e-05\n",
      "  cg iter 8600 ||r|| = 5.361940977889144e-06\n",
      "  cg iter 8800 ||r|| = 1.212983821414119e-06\n",
      "  cg iter 9000 ||r|| = 8.028420691708864e-06\n",
      "  cg iter 9200 ||r|| = 8.212183639049568e-06\n",
      "  cg iter 9400 ||r|| = 1.7577240873686968e-05\n",
      "  cg iter 9600 ||r|| = 3.4272699213959462e-06\n",
      "  cg iter 9800 ||r|| = 1.4063021221202396e-06\n"
     ]
    }
   ],
   "source": [
    "N_iter = 10000\n",
    "\n",
    "zero = jnp.zeros(x_gt.shape)\n",
    "Abfun = gradF(zero)\n",
    "\n",
    "Ab = -jnp.conj(Abfun)\n",
    "AA = jax.jit(lambda vv : jnp.conj(gradF(vv)) + Ab)\n",
    "\n",
    "x_cg, kk = cg(AA, Ab, x0, N_iter, verbose=True)"
   ]
  },
  {
   "cell_type": "code",
   "execution_count": 84,
   "id": "67c7eb74-cf6e-4df8-87ff-7f1b8ff76768",
   "metadata": {},
   "outputs": [
    {
     "data": {
      "text/plain": [
       "DeviceArray(1.39501801e-08, dtype=float64)"
      ]
     },
     "execution_count": 84,
     "metadata": {},
     "output_type": "execute_result"
    }
   ],
   "source": [
    "F(x_cg)"
   ]
  },
  {
   "cell_type": "markdown",
   "id": "882a5b14-0707-4903-8960-3e4e504ee497",
   "metadata": {},
   "source": [
    "#### OASIS"
   ]
  },
  {
   "cell_type": "code",
   "execution_count": 150,
   "id": "1e2dfb24-5347-41c6-b15f-fc419b0c6d70",
   "metadata": {},
   "outputs": [],
   "source": [
    "from tqdm import tqdm \n",
    "\n",
    "def oasis(key, F, gradF, hvpF, w0, eta, D0, beta2, alpha, N_epoch = 20, batch_size = None, N = 1, iter_display = 1):\n",
    "    \"\"\"OASIS with fixed learning rate, deterministic or stochastic.\"\"\"\n",
    "    \n",
    "    n = w0.shape[0] \n",
    "    \n",
    "    if batch_size is None or batch_size == N:\n",
    "        N_batch = 1\n",
    "    else:\n",
    "        N_batch = N/batch_size\n",
    "    \n",
    "    gradFw0 = gradF(w0, jnp.arange(N))\n",
    "    Dhat0 = jnp.maximum(jnp.abs(D0), alpha)\n",
    "                      \n",
    "    invDhat0 = jnp.diag(1/Dhat0)\n",
    "    w1 = w0 - eta * (invDhat0 @ gradFw0)\n",
    "\n",
    "    loss_list = []\n",
    "    for idx_epoch in range(1, N_epoch+1):\n",
    "        if idx_epoch % iter_display == 0:\n",
    "            print(f\"Epoch {idx_epoch}/{N_epoch}\")\n",
    "\n",
    "        key, subkey1, subkey2 = random.split(key, 3)\n",
    "\n",
    "        idx_batches_grad = np.array_split(random.permutation(subkey1, N), N_batch)\n",
    "        idx_batches_hess = np.array_split(random.permutation(subkey2, N), N_batch)\n",
    "        \n",
    "        z = random.rademacher(key, (len(idx_batches_grad), n)).astype(jnp.float64)\n",
    "     \n",
    "        loss_epoch = []\n",
    "        if idx_epoch % iter_display == 0:\n",
    "            pbar = tqdm(range(len(idx_batches_grad)))\n",
    "        else:\n",
    "            pbar = range(len(idx_batches_grad))\n",
    "        for k in pbar:\n",
    "\n",
    "            D1 = beta2 * D0 + (1-beta2) * (z[k-1] * hvpF(w1, z[k-1], idx_batches_hess[k-1]))\n",
    "            Dhat1 = jnp.maximum(jnp.abs(D1), alpha)       \n",
    "            invDhat1 = jnp.diag(1/Dhat1)\n",
    "\n",
    "            w2 = w1 - eta * (invDhat1 @ gradF(w1, idx_batches_grad[k-1]))\n",
    "\n",
    "            w0 = w1\n",
    "            w1 = w2\n",
    "\n",
    "            loss_iter = F(w1, idx_batches_grad[k-1])\n",
    "            loss_epoch.append(loss_iter)\n",
    "            \n",
    "            if idx_epoch % iter_display == 0:\n",
    "                pbar.set_postfix(loss = f\"{loss_iter : .3e}\")\n",
    "                \n",
    "        loss_epoch = jnp.mean(jnp.array(loss_epoch))\n",
    "        loss_list.append(loss_epoch)\n",
    "        \n",
    "        if idx_epoch % iter_display == 0:\n",
    "            print(f\"  Loss = {loss_epoch : .3e}\")\n",
    "        \n",
    "    return w1, jnp.array(loss_list)\n"
   ]
  },
  {
   "cell_type": "code",
   "execution_count": 151,
   "id": "343af92c-92a6-41a1-9278-897103082233",
   "metadata": {},
   "outputs": [],
   "source": [
    "def oasis_adaptive(key, F, gradF, hvpF, w0, eta0, D0, beta2, alpha, N_epoch = 20, batch_size = None, N = 1, iter_display = 1):\n",
    "    \"\"\"OASIS with adaptive learning rate, deterministic and stochastic.\"\"\"\n",
    "\n",
    "    n = w0.shape[0] \n",
    "    \n",
    "    if batch_size is None or batch_size == N:\n",
    "        N_batch = 1\n",
    "    else:\n",
    "        N_batch = N/batch_size\n",
    "    \n",
    "    gradFw0 = gradF(w0, jnp.arange(N))\n",
    "    theta0 = jnp.inf\n",
    "    Dhat0 = jnp.maximum(jnp.abs(D0), alpha)\n",
    "                        \n",
    "    invDhat0 = jnp.diag(1/Dhat0)\n",
    "    w1 = w0 - eta0 * (invDhat0 @ gradFw0)\n",
    "    \n",
    "    gradFw1 = gradF(w1, jnp.arange(N))\n",
    "\n",
    "    loss_list = []\n",
    "    for idx_epoch in range(1, N_epoch+1):\n",
    "        if idx_epoch % iter_display == 0:\n",
    "            print(f\"Epoch {idx_epoch}/{N_epoch}\")\n",
    "\n",
    "        key, subkey1, subkey2 = random.split(key, 3)\n",
    "\n",
    "        idx_batches_grad = np.array_split(random.permutation(subkey1, N), N_batch)\n",
    "        idx_batches_hess = np.array_split(random.permutation(subkey2, N), N_batch)\n",
    "        \n",
    "        z = random.rademacher(key, (len(idx_batches_grad), n)).astype(jnp.float64)\n",
    "     \n",
    "        loss_epoch = []\n",
    "        if idx_epoch % iter_display == 0:\n",
    "            pbar = tqdm(range(len(idx_batches_grad)))\n",
    "        else:\n",
    "            pbar = range(len(idx_batches_grad))\n",
    "        for k in pbar:\n",
    "            \n",
    "            D1 = beta2 * D0 + (1-beta2) * (z[k-1] * hvpF(w1, z[k-1], idx_batches_hess[k-1]))\n",
    "\n",
    "            Dhat1 = jnp.maximum(jnp.abs(D1), alpha)\n",
    "            invDhat1 = jnp.diag(1/Dhat1)\n",
    "            Dhat1 = jnp.diag(Dhat1)\n",
    "\n",
    "            tl = jnp.sqrt(1 + theta0)*eta0\n",
    "\n",
    "            gradFw1 = gradF(w1, idx_batches_grad[k-1])\n",
    "            gradFw0 = gradF(w0, idx_batches_grad[k-1])\n",
    "\n",
    "            wd = w1-w0\n",
    "            gfd = gradFw1 - gradFw0\n",
    "            tr = 1/2 * jnp.sqrt(jnp.vdot(wd, Dhat1 @ wd) / jnp.vdot(gfd, invDhat1 @ gfd))\n",
    "\n",
    "            eta1 = jnp.minimum(tl, tr)\n",
    "\n",
    "            w2 = w1 - eta1 * (invDhat1 @ gradFw1)\n",
    "            gradFw2 = gradF(w2, idx_batches_grad[k-1])\n",
    "\n",
    "            theta1 = eta1/eta0\n",
    "\n",
    "            w0 = w1\n",
    "            w1 = w2\n",
    "\n",
    "            eta0 = eta1\n",
    "            theta0 = theta1\n",
    "\n",
    "            loss_iter = F(w1, idx_batches_grad[k-1])\n",
    "            loss_epoch.append(loss_iter) \n",
    "\n",
    "            if idx_epoch % iter_display == 0:\n",
    "                pbar.set_postfix(loss = f\"{loss_iter : .3e}\")\n",
    "            \n",
    "        loss_epoch = jnp.mean(jnp.array(loss_epoch))\n",
    "        loss_list.append(loss_epoch)\n",
    "        \n",
    "        if idx_epoch % iter_display == 0:\n",
    "            print(f\"  Loss = {loss_epoch : .3e}\")            \n",
    "            \n",
    "    return w1, jnp.array(loss_list)"
   ]
  },
  {
   "cell_type": "code",
   "execution_count": 94,
   "id": "4f3ab243-597e-46d7-a901-e69e98a7d8b9",
   "metadata": {},
   "outputs": [],
   "source": [
    "Fidx = jax.jit(lambda x, idx : F(x))\n",
    "gradFidx = jax.jit(lambda x, idx : jax.grad(F)(x))\n",
    "hvpFidx = jax.jit(lambda x, v, idx : hvp(F, (x,), (v,)))"
   ]
  },
  {
   "cell_type": "code",
   "execution_count": 101,
   "id": "1d4abbff-c637-4fa1-aabb-94e9c15aad4b",
   "metadata": {},
   "outputs": [
    {
     "name": "stdout",
     "output_type": "stream",
     "text": [
      "Epoch 200/10000\n"
     ]
    },
    {
     "name": "stderr",
     "output_type": "stream",
     "text": [
      "100%|██████████| 1/1 [00:00<00:00, 70.86it/s, loss=5.524]"
     ]
    },
    {
     "name": "stdout",
     "output_type": "stream",
     "text": [
      "  Loss =  5.524\n"
     ]
    },
    {
     "name": "stderr",
     "output_type": "stream",
     "text": [
      "\n"
     ]
    },
    {
     "name": "stdout",
     "output_type": "stream",
     "text": [
      "Epoch 400/10000\n"
     ]
    },
    {
     "name": "stderr",
     "output_type": "stream",
     "text": [
      "100%|██████████| 1/1 [00:00<00:00, 58.73it/s, loss=2.416]"
     ]
    },
    {
     "name": "stdout",
     "output_type": "stream",
     "text": [
      "  Loss =  2.416\n"
     ]
    },
    {
     "name": "stderr",
     "output_type": "stream",
     "text": [
      "\n"
     ]
    },
    {
     "name": "stdout",
     "output_type": "stream",
     "text": [
      "Epoch 600/10000\n"
     ]
    },
    {
     "name": "stderr",
     "output_type": "stream",
     "text": [
      "100%|██████████| 1/1 [00:00<00:00, 75.42it/s, loss=1.703]"
     ]
    },
    {
     "name": "stdout",
     "output_type": "stream",
     "text": [
      "  Loss =  1.703\n"
     ]
    },
    {
     "name": "stderr",
     "output_type": "stream",
     "text": [
      "\n"
     ]
    },
    {
     "name": "stdout",
     "output_type": "stream",
     "text": [
      "Epoch 800/10000\n"
     ]
    },
    {
     "name": "stderr",
     "output_type": "stream",
     "text": [
      "100%|██████████| 1/1 [00:00<00:00, 69.70it/s, loss=1.419]"
     ]
    },
    {
     "name": "stdout",
     "output_type": "stream",
     "text": [
      "  Loss =  1.419\n"
     ]
    },
    {
     "name": "stderr",
     "output_type": "stream",
     "text": [
      "\n"
     ]
    },
    {
     "name": "stdout",
     "output_type": "stream",
     "text": [
      "Epoch 1000/10000\n"
     ]
    },
    {
     "name": "stderr",
     "output_type": "stream",
     "text": [
      "100%|██████████| 1/1 [00:00<00:00, 55.95it/s, loss=1.252]"
     ]
    },
    {
     "name": "stdout",
     "output_type": "stream",
     "text": [
      "  Loss =  1.252\n"
     ]
    },
    {
     "name": "stderr",
     "output_type": "stream",
     "text": [
      "\n"
     ]
    },
    {
     "name": "stdout",
     "output_type": "stream",
     "text": [
      "Epoch 1200/10000\n"
     ]
    },
    {
     "name": "stderr",
     "output_type": "stream",
     "text": [
      "100%|██████████| 1/1 [00:00<00:00, 59.97it/s, loss=1.129]"
     ]
    },
    {
     "name": "stdout",
     "output_type": "stream",
     "text": [
      "  Loss =  1.129\n"
     ]
    },
    {
     "name": "stderr",
     "output_type": "stream",
     "text": [
      "\n"
     ]
    },
    {
     "name": "stdout",
     "output_type": "stream",
     "text": [
      "Epoch 1400/10000\n"
     ]
    },
    {
     "name": "stderr",
     "output_type": "stream",
     "text": [
      "100%|██████████| 1/1 [00:00<00:00, 68.57it/s, loss=1.029]"
     ]
    },
    {
     "name": "stdout",
     "output_type": "stream",
     "text": [
      "  Loss =  1.029\n"
     ]
    },
    {
     "name": "stderr",
     "output_type": "stream",
     "text": [
      "\n"
     ]
    },
    {
     "name": "stdout",
     "output_type": "stream",
     "text": [
      "Epoch 1600/10000\n"
     ]
    },
    {
     "name": "stderr",
     "output_type": "stream",
     "text": [
      "100%|██████████| 1/1 [00:00<00:00, 62.21it/s, loss=0.944]"
     ]
    },
    {
     "name": "stdout",
     "output_type": "stream",
     "text": [
      "  Loss =  0.944\n"
     ]
    },
    {
     "name": "stderr",
     "output_type": "stream",
     "text": [
      "\n"
     ]
    },
    {
     "name": "stdout",
     "output_type": "stream",
     "text": [
      "Epoch 1800/10000\n"
     ]
    },
    {
     "name": "stderr",
     "output_type": "stream",
     "text": [
      "100%|██████████| 1/1 [00:00<00:00, 56.31it/s, loss=0.869]"
     ]
    },
    {
     "name": "stdout",
     "output_type": "stream",
     "text": [
      "  Loss =  0.869\n"
     ]
    },
    {
     "name": "stderr",
     "output_type": "stream",
     "text": [
      "\n"
     ]
    },
    {
     "name": "stdout",
     "output_type": "stream",
     "text": [
      "Epoch 2000/10000\n"
     ]
    },
    {
     "name": "stderr",
     "output_type": "stream",
     "text": [
      "100%|██████████| 1/1 [00:00<00:00, 80.27it/s, loss=0.804]"
     ]
    },
    {
     "name": "stdout",
     "output_type": "stream",
     "text": [
      "  Loss =  0.804\n"
     ]
    },
    {
     "name": "stderr",
     "output_type": "stream",
     "text": [
      "\n"
     ]
    },
    {
     "name": "stdout",
     "output_type": "stream",
     "text": [
      "Epoch 2200/10000\n"
     ]
    },
    {
     "name": "stderr",
     "output_type": "stream",
     "text": [
      "100%|██████████| 1/1 [00:00<00:00, 51.63it/s, loss=0.746]"
     ]
    },
    {
     "name": "stdout",
     "output_type": "stream",
     "text": [
      "  Loss =  0.746\n"
     ]
    },
    {
     "name": "stderr",
     "output_type": "stream",
     "text": [
      "\n"
     ]
    },
    {
     "name": "stdout",
     "output_type": "stream",
     "text": [
      "Epoch 2400/10000\n"
     ]
    },
    {
     "name": "stderr",
     "output_type": "stream",
     "text": [
      "100%|██████████| 1/1 [00:00<00:00, 62.85it/s, loss=0.694]"
     ]
    },
    {
     "name": "stdout",
     "output_type": "stream",
     "text": [
      "  Loss =  0.694\n"
     ]
    },
    {
     "name": "stderr",
     "output_type": "stream",
     "text": [
      "\n"
     ]
    },
    {
     "name": "stdout",
     "output_type": "stream",
     "text": [
      "Epoch 2600/10000\n"
     ]
    },
    {
     "name": "stderr",
     "output_type": "stream",
     "text": [
      "100%|██████████| 1/1 [00:00<00:00, 59.34it/s, loss=0.648]"
     ]
    },
    {
     "name": "stdout",
     "output_type": "stream",
     "text": [
      "  Loss =  0.648\n"
     ]
    },
    {
     "name": "stderr",
     "output_type": "stream",
     "text": [
      "\n"
     ]
    },
    {
     "name": "stdout",
     "output_type": "stream",
     "text": [
      "Epoch 2800/10000\n"
     ]
    },
    {
     "name": "stderr",
     "output_type": "stream",
     "text": [
      "100%|██████████| 1/1 [00:00<00:00, 68.16it/s, loss=0.606]"
     ]
    },
    {
     "name": "stdout",
     "output_type": "stream",
     "text": [
      "  Loss =  0.606\n"
     ]
    },
    {
     "name": "stderr",
     "output_type": "stream",
     "text": [
      "\n"
     ]
    },
    {
     "name": "stdout",
     "output_type": "stream",
     "text": [
      "Epoch 3000/10000\n"
     ]
    },
    {
     "name": "stderr",
     "output_type": "stream",
     "text": [
      "100%|██████████| 1/1 [00:00<00:00, 52.69it/s, loss=0.568]"
     ]
    },
    {
     "name": "stdout",
     "output_type": "stream",
     "text": [
      "  Loss =  0.568\n"
     ]
    },
    {
     "name": "stderr",
     "output_type": "stream",
     "text": [
      "\n"
     ]
    },
    {
     "name": "stdout",
     "output_type": "stream",
     "text": [
      "Epoch 3200/10000\n"
     ]
    },
    {
     "name": "stderr",
     "output_type": "stream",
     "text": [
      "100%|██████████| 1/1 [00:00<00:00, 60.86it/s, loss=0.534]"
     ]
    },
    {
     "name": "stdout",
     "output_type": "stream",
     "text": [
      "  Loss =  0.534\n"
     ]
    },
    {
     "name": "stderr",
     "output_type": "stream",
     "text": [
      "\n"
     ]
    },
    {
     "name": "stdout",
     "output_type": "stream",
     "text": [
      "Epoch 3400/10000\n"
     ]
    },
    {
     "name": "stderr",
     "output_type": "stream",
     "text": [
      "100%|██████████| 1/1 [00:00<00:00, 69.69it/s, loss=0.503]"
     ]
    },
    {
     "name": "stdout",
     "output_type": "stream",
     "text": [
      "  Loss =  0.503\n"
     ]
    },
    {
     "name": "stderr",
     "output_type": "stream",
     "text": [
      "\n"
     ]
    },
    {
     "name": "stdout",
     "output_type": "stream",
     "text": [
      "Epoch 3600/10000\n"
     ]
    },
    {
     "name": "stderr",
     "output_type": "stream",
     "text": [
      "100%|██████████| 1/1 [00:00<00:00, 52.72it/s, loss=0.475]"
     ]
    },
    {
     "name": "stdout",
     "output_type": "stream",
     "text": [
      "  Loss =  0.475\n"
     ]
    },
    {
     "name": "stderr",
     "output_type": "stream",
     "text": [
      "\n"
     ]
    },
    {
     "name": "stdout",
     "output_type": "stream",
     "text": [
      "Epoch 3800/10000\n"
     ]
    },
    {
     "name": "stderr",
     "output_type": "stream",
     "text": [
      "100%|██████████| 1/1 [00:00<00:00, 56.53it/s, loss=0.449]"
     ]
    },
    {
     "name": "stdout",
     "output_type": "stream",
     "text": [
      "  Loss =  0.449\n"
     ]
    },
    {
     "name": "stderr",
     "output_type": "stream",
     "text": [
      "\n"
     ]
    },
    {
     "name": "stdout",
     "output_type": "stream",
     "text": [
      "Epoch 4000/10000\n"
     ]
    },
    {
     "name": "stderr",
     "output_type": "stream",
     "text": [
      "100%|██████████| 1/1 [00:00<00:00, 84.18it/s, loss=0.426]"
     ]
    },
    {
     "name": "stdout",
     "output_type": "stream",
     "text": [
      "  Loss =  0.426\n"
     ]
    },
    {
     "name": "stderr",
     "output_type": "stream",
     "text": [
      "\n"
     ]
    },
    {
     "name": "stdout",
     "output_type": "stream",
     "text": [
      "Epoch 4200/10000\n"
     ]
    },
    {
     "name": "stderr",
     "output_type": "stream",
     "text": [
      "100%|██████████| 1/1 [00:00<00:00, 55.71it/s, loss=0.404]"
     ]
    },
    {
     "name": "stdout",
     "output_type": "stream",
     "text": [
      "  Loss =  0.404\n"
     ]
    },
    {
     "name": "stderr",
     "output_type": "stream",
     "text": [
      "\n"
     ]
    },
    {
     "name": "stdout",
     "output_type": "stream",
     "text": [
      "Epoch 4400/10000\n"
     ]
    },
    {
     "name": "stderr",
     "output_type": "stream",
     "text": [
      "100%|██████████| 1/1 [00:00<00:00, 66.85it/s, loss=0.384]"
     ]
    },
    {
     "name": "stdout",
     "output_type": "stream",
     "text": [
      "  Loss =  0.384\n"
     ]
    },
    {
     "name": "stderr",
     "output_type": "stream",
     "text": [
      "\n"
     ]
    },
    {
     "name": "stdout",
     "output_type": "stream",
     "text": [
      "Epoch 4600/10000\n"
     ]
    },
    {
     "name": "stderr",
     "output_type": "stream",
     "text": [
      "100%|██████████| 1/1 [00:00<00:00, 71.71it/s, loss=0.366]"
     ]
    },
    {
     "name": "stdout",
     "output_type": "stream",
     "text": [
      "  Loss =  0.366\n"
     ]
    },
    {
     "name": "stderr",
     "output_type": "stream",
     "text": [
      "\n"
     ]
    },
    {
     "name": "stdout",
     "output_type": "stream",
     "text": [
      "Epoch 4800/10000\n"
     ]
    },
    {
     "name": "stderr",
     "output_type": "stream",
     "text": [
      "100%|██████████| 1/1 [00:00<00:00, 60.01it/s, loss=0.349]"
     ]
    },
    {
     "name": "stdout",
     "output_type": "stream",
     "text": [
      "  Loss =  0.349\n"
     ]
    },
    {
     "name": "stderr",
     "output_type": "stream",
     "text": [
      "\n"
     ]
    },
    {
     "name": "stdout",
     "output_type": "stream",
     "text": [
      "Epoch 5000/10000\n"
     ]
    },
    {
     "name": "stderr",
     "output_type": "stream",
     "text": [
      "100%|██████████| 1/1 [00:00<00:00, 74.13it/s, loss=0.334]"
     ]
    },
    {
     "name": "stdout",
     "output_type": "stream",
     "text": [
      "  Loss =  0.334\n"
     ]
    },
    {
     "name": "stderr",
     "output_type": "stream",
     "text": [
      "\n"
     ]
    },
    {
     "name": "stdout",
     "output_type": "stream",
     "text": [
      "Epoch 5200/10000\n"
     ]
    },
    {
     "name": "stderr",
     "output_type": "stream",
     "text": [
      "100%|██████████| 1/1 [00:00<00:00, 66.20it/s, loss=0.319]"
     ]
    },
    {
     "name": "stdout",
     "output_type": "stream",
     "text": [
      "  Loss =  0.319\n"
     ]
    },
    {
     "name": "stderr",
     "output_type": "stream",
     "text": [
      "\n"
     ]
    },
    {
     "name": "stdout",
     "output_type": "stream",
     "text": [
      "Epoch 5400/10000\n"
     ]
    },
    {
     "name": "stderr",
     "output_type": "stream",
     "text": [
      "100%|██████████| 1/1 [00:00<00:00, 61.56it/s, loss=0.306]"
     ]
    },
    {
     "name": "stdout",
     "output_type": "stream",
     "text": [
      "  Loss =  0.306\n"
     ]
    },
    {
     "name": "stderr",
     "output_type": "stream",
     "text": [
      "\n"
     ]
    },
    {
     "name": "stdout",
     "output_type": "stream",
     "text": [
      "Epoch 5600/10000\n"
     ]
    },
    {
     "name": "stderr",
     "output_type": "stream",
     "text": [
      "100%|██████████| 1/1 [00:00<00:00, 62.22it/s, loss=0.293]"
     ]
    },
    {
     "name": "stdout",
     "output_type": "stream",
     "text": [
      "  Loss =  0.293\n"
     ]
    },
    {
     "name": "stderr",
     "output_type": "stream",
     "text": [
      "\n"
     ]
    },
    {
     "name": "stdout",
     "output_type": "stream",
     "text": [
      "Epoch 5800/10000\n"
     ]
    },
    {
     "name": "stderr",
     "output_type": "stream",
     "text": [
      "100%|██████████| 1/1 [00:00<00:00, 68.27it/s, loss=0.281]"
     ]
    },
    {
     "name": "stdout",
     "output_type": "stream",
     "text": [
      "  Loss =  0.281\n"
     ]
    },
    {
     "name": "stderr",
     "output_type": "stream",
     "text": [
      "\n"
     ]
    },
    {
     "name": "stdout",
     "output_type": "stream",
     "text": [
      "Epoch 6000/10000\n"
     ]
    },
    {
     "name": "stderr",
     "output_type": "stream",
     "text": [
      "100%|██████████| 1/1 [00:00<00:00, 60.97it/s, loss=0.270]"
     ]
    },
    {
     "name": "stdout",
     "output_type": "stream",
     "text": [
      "  Loss =  0.270\n"
     ]
    },
    {
     "name": "stderr",
     "output_type": "stream",
     "text": [
      "\n"
     ]
    },
    {
     "name": "stdout",
     "output_type": "stream",
     "text": [
      "Epoch 6200/10000\n"
     ]
    },
    {
     "name": "stderr",
     "output_type": "stream",
     "text": [
      "100%|██████████| 1/1 [00:00<00:00, 79.07it/s, loss=0.260]"
     ]
    },
    {
     "name": "stdout",
     "output_type": "stream",
     "text": [
      "  Loss =  0.260\n"
     ]
    },
    {
     "name": "stderr",
     "output_type": "stream",
     "text": [
      "\n"
     ]
    },
    {
     "name": "stdout",
     "output_type": "stream",
     "text": [
      "Epoch 6400/10000\n"
     ]
    },
    {
     "name": "stderr",
     "output_type": "stream",
     "text": [
      "100%|██████████| 1/1 [00:00<00:00, 57.40it/s, loss=0.250]"
     ]
    },
    {
     "name": "stdout",
     "output_type": "stream",
     "text": [
      "  Loss =  0.250\n"
     ]
    },
    {
     "name": "stderr",
     "output_type": "stream",
     "text": [
      "\n"
     ]
    },
    {
     "name": "stdout",
     "output_type": "stream",
     "text": [
      "Epoch 6600/10000\n"
     ]
    },
    {
     "name": "stderr",
     "output_type": "stream",
     "text": [
      "100%|██████████| 1/1 [00:00<00:00, 58.73it/s, loss=0.242]"
     ]
    },
    {
     "name": "stdout",
     "output_type": "stream",
     "text": [
      "  Loss =  0.242\n"
     ]
    },
    {
     "name": "stderr",
     "output_type": "stream",
     "text": [
      "\n"
     ]
    },
    {
     "name": "stdout",
     "output_type": "stream",
     "text": [
      "Epoch 6800/10000\n"
     ]
    },
    {
     "name": "stderr",
     "output_type": "stream",
     "text": [
      "100%|██████████| 1/1 [00:00<00:00, 71.26it/s, loss=0.233]"
     ]
    },
    {
     "name": "stdout",
     "output_type": "stream",
     "text": [
      "  Loss =  0.233\n"
     ]
    },
    {
     "name": "stderr",
     "output_type": "stream",
     "text": [
      "\n"
     ]
    },
    {
     "name": "stdout",
     "output_type": "stream",
     "text": [
      "Epoch 7000/10000\n"
     ]
    },
    {
     "name": "stderr",
     "output_type": "stream",
     "text": [
      "100%|██████████| 1/1 [00:00<00:00, 71.26it/s, loss=0.225]"
     ]
    },
    {
     "name": "stdout",
     "output_type": "stream",
     "text": [
      "  Loss =  0.225\n"
     ]
    },
    {
     "name": "stderr",
     "output_type": "stream",
     "text": [
      "\n"
     ]
    },
    {
     "name": "stdout",
     "output_type": "stream",
     "text": [
      "Epoch 7200/10000\n"
     ]
    },
    {
     "name": "stderr",
     "output_type": "stream",
     "text": [
      "100%|██████████| 1/1 [00:00<00:00, 40.63it/s, loss=0.218]"
     ]
    },
    {
     "name": "stdout",
     "output_type": "stream",
     "text": [
      "  Loss =  0.218\n"
     ]
    },
    {
     "name": "stderr",
     "output_type": "stream",
     "text": [
      "\n"
     ]
    },
    {
     "name": "stdout",
     "output_type": "stream",
     "text": [
      "Epoch 7400/10000\n"
     ]
    },
    {
     "name": "stderr",
     "output_type": "stream",
     "text": [
      "100%|██████████| 1/1 [00:00<00:00, 59.72it/s, loss=0.210]"
     ]
    },
    {
     "name": "stdout",
     "output_type": "stream",
     "text": [
      "  Loss =  0.210\n"
     ]
    },
    {
     "name": "stderr",
     "output_type": "stream",
     "text": [
      "\n"
     ]
    },
    {
     "name": "stdout",
     "output_type": "stream",
     "text": [
      "Epoch 7600/10000\n"
     ]
    },
    {
     "name": "stderr",
     "output_type": "stream",
     "text": [
      "100%|██████████| 1/1 [00:00<00:00, 61.67it/s, loss=0.204]"
     ]
    },
    {
     "name": "stdout",
     "output_type": "stream",
     "text": [
      "  Loss =  0.204\n"
     ]
    },
    {
     "name": "stderr",
     "output_type": "stream",
     "text": [
      "\n"
     ]
    },
    {
     "name": "stdout",
     "output_type": "stream",
     "text": [
      "Epoch 7800/10000\n"
     ]
    },
    {
     "name": "stderr",
     "output_type": "stream",
     "text": [
      "100%|██████████| 1/1 [00:00<00:00, 42.39it/s, loss=0.197]"
     ]
    },
    {
     "name": "stdout",
     "output_type": "stream",
     "text": [
      "  Loss =  0.197\n"
     ]
    },
    {
     "name": "stderr",
     "output_type": "stream",
     "text": [
      "\n"
     ]
    },
    {
     "name": "stdout",
     "output_type": "stream",
     "text": [
      "Epoch 8000/10000\n"
     ]
    },
    {
     "name": "stderr",
     "output_type": "stream",
     "text": [
      "100%|██████████| 1/1 [00:00<00:00, 59.84it/s, loss=0.191]"
     ]
    },
    {
     "name": "stdout",
     "output_type": "stream",
     "text": [
      "  Loss =  0.191\n"
     ]
    },
    {
     "name": "stderr",
     "output_type": "stream",
     "text": [
      "\n"
     ]
    },
    {
     "name": "stdout",
     "output_type": "stream",
     "text": [
      "Epoch 8200/10000\n"
     ]
    },
    {
     "name": "stderr",
     "output_type": "stream",
     "text": [
      "100%|██████████| 1/1 [00:00<00:00, 66.47it/s, loss=0.186]"
     ]
    },
    {
     "name": "stdout",
     "output_type": "stream",
     "text": [
      "  Loss =  0.186\n"
     ]
    },
    {
     "name": "stderr",
     "output_type": "stream",
     "text": [
      "\n"
     ]
    },
    {
     "name": "stdout",
     "output_type": "stream",
     "text": [
      "Epoch 8400/10000\n"
     ]
    },
    {
     "name": "stderr",
     "output_type": "stream",
     "text": [
      "100%|██████████| 1/1 [00:00<00:00, 52.44it/s, loss=0.180]"
     ]
    },
    {
     "name": "stdout",
     "output_type": "stream",
     "text": [
      "  Loss =  0.180\n"
     ]
    },
    {
     "name": "stderr",
     "output_type": "stream",
     "text": [
      "\n"
     ]
    },
    {
     "name": "stdout",
     "output_type": "stream",
     "text": [
      "Epoch 8600/10000\n"
     ]
    },
    {
     "name": "stderr",
     "output_type": "stream",
     "text": [
      "100%|██████████| 1/1 [00:00<00:00, 60.46it/s, loss=0.175]"
     ]
    },
    {
     "name": "stdout",
     "output_type": "stream",
     "text": [
      "  Loss =  0.175\n"
     ]
    },
    {
     "name": "stderr",
     "output_type": "stream",
     "text": [
      "\n"
     ]
    },
    {
     "name": "stdout",
     "output_type": "stream",
     "text": [
      "Epoch 8800/10000\n"
     ]
    },
    {
     "name": "stderr",
     "output_type": "stream",
     "text": [
      "100%|██████████| 1/1 [00:00<00:00, 64.33it/s, loss=0.170]"
     ]
    },
    {
     "name": "stdout",
     "output_type": "stream",
     "text": [
      "  Loss =  0.170\n"
     ]
    },
    {
     "name": "stderr",
     "output_type": "stream",
     "text": [
      "\n"
     ]
    },
    {
     "name": "stdout",
     "output_type": "stream",
     "text": [
      "Epoch 9000/10000\n"
     ]
    },
    {
     "name": "stderr",
     "output_type": "stream",
     "text": [
      "100%|██████████| 1/1 [00:00<00:00, 73.20it/s, loss=0.166]"
     ]
    },
    {
     "name": "stdout",
     "output_type": "stream",
     "text": [
      "  Loss =  0.166\n"
     ]
    },
    {
     "name": "stderr",
     "output_type": "stream",
     "text": [
      "\n"
     ]
    },
    {
     "name": "stdout",
     "output_type": "stream",
     "text": [
      "Epoch 9200/10000\n"
     ]
    },
    {
     "name": "stderr",
     "output_type": "stream",
     "text": [
      "100%|██████████| 1/1 [00:00<00:00, 55.63it/s, loss=0.161]"
     ]
    },
    {
     "name": "stdout",
     "output_type": "stream",
     "text": [
      "  Loss =  0.161\n"
     ]
    },
    {
     "name": "stderr",
     "output_type": "stream",
     "text": [
      "\n"
     ]
    },
    {
     "name": "stdout",
     "output_type": "stream",
     "text": [
      "Epoch 9400/10000\n"
     ]
    },
    {
     "name": "stderr",
     "output_type": "stream",
     "text": [
      "100%|██████████| 1/1 [00:00<00:00, 49.78it/s, loss=0.157]"
     ]
    },
    {
     "name": "stdout",
     "output_type": "stream",
     "text": [
      "  Loss =  0.157\n"
     ]
    },
    {
     "name": "stderr",
     "output_type": "stream",
     "text": [
      "\n"
     ]
    },
    {
     "name": "stdout",
     "output_type": "stream",
     "text": [
      "Epoch 9600/10000\n"
     ]
    },
    {
     "name": "stderr",
     "output_type": "stream",
     "text": [
      "100%|██████████| 1/1 [00:00<00:00, 70.18it/s, loss=0.153]"
     ]
    },
    {
     "name": "stdout",
     "output_type": "stream",
     "text": [
      "  Loss =  0.153\n"
     ]
    },
    {
     "name": "stderr",
     "output_type": "stream",
     "text": [
      "\n"
     ]
    },
    {
     "name": "stdout",
     "output_type": "stream",
     "text": [
      "Epoch 9800/10000\n"
     ]
    },
    {
     "name": "stderr",
     "output_type": "stream",
     "text": [
      "100%|██████████| 1/1 [00:00<00:00, 52.81it/s, loss=0.149]"
     ]
    },
    {
     "name": "stdout",
     "output_type": "stream",
     "text": [
      "  Loss =  0.149\n"
     ]
    },
    {
     "name": "stderr",
     "output_type": "stream",
     "text": [
      "\n"
     ]
    },
    {
     "name": "stdout",
     "output_type": "stream",
     "text": [
      "Epoch 10000/10000\n"
     ]
    },
    {
     "name": "stderr",
     "output_type": "stream",
     "text": [
      "100%|██████████| 1/1 [00:00<00:00, 60.35it/s, loss=0.145]"
     ]
    },
    {
     "name": "stdout",
     "output_type": "stream",
     "text": [
      "  Loss =  0.145\n"
     ]
    },
    {
     "name": "stderr",
     "output_type": "stream",
     "text": [
      "\n"
     ]
    }
   ],
   "source": [
    "N_iter = 10000\n",
    "beta2 = 0.99\n",
    "eta = 0.01 #0.1 #0.1/0.001/0.01/0.15\n",
    "D0 = jnp.diag(hessianF(x0)) # Cheating a bit\n",
    "                       \n",
    "alpha = 0.1 #0.1 # 0.01\n",
    "\n",
    "key, subkey = random.split(key)\n",
    "x_o, loss_o = oasis(subkey, Fidx, gradFidx, hvpFidx, x0, eta, D0, beta2, alpha, N_iter, iter_display = 200)\n"
   ]
  },
  {
   "cell_type": "code",
   "execution_count": 104,
   "id": "d7d8a80c-96d4-4143-a907-bc14acbdb5cc",
   "metadata": {},
   "outputs": [
    {
     "name": "stdout",
     "output_type": "stream",
     "text": [
      "Epoch 200/10000\n"
     ]
    },
    {
     "name": "stderr",
     "output_type": "stream",
     "text": [
      "100%|██████████| 1/1 [00:00<00:00, 45.13it/s, loss=0.603]"
     ]
    },
    {
     "name": "stdout",
     "output_type": "stream",
     "text": [
      "  Loss =  0.603\n"
     ]
    },
    {
     "name": "stderr",
     "output_type": "stream",
     "text": [
      "\n"
     ]
    },
    {
     "name": "stdout",
     "output_type": "stream",
     "text": [
      "Epoch 400/10000\n"
     ]
    },
    {
     "name": "stderr",
     "output_type": "stream",
     "text": [
      "100%|██████████| 1/1 [00:00<00:00, 46.93it/s, loss=0.287]"
     ]
    },
    {
     "name": "stdout",
     "output_type": "stream",
     "text": [
      "  Loss =  0.287\n"
     ]
    },
    {
     "name": "stderr",
     "output_type": "stream",
     "text": [
      "\n"
     ]
    },
    {
     "name": "stdout",
     "output_type": "stream",
     "text": [
      "Epoch 600/10000\n"
     ]
    },
    {
     "name": "stderr",
     "output_type": "stream",
     "text": [
      "100%|██████████| 1/1 [00:00<00:00, 38.75it/s, loss=0.174]"
     ]
    },
    {
     "name": "stdout",
     "output_type": "stream",
     "text": [
      "  Loss =  0.174\n"
     ]
    },
    {
     "name": "stderr",
     "output_type": "stream",
     "text": [
      "\n"
     ]
    },
    {
     "name": "stdout",
     "output_type": "stream",
     "text": [
      "Epoch 800/10000\n"
     ]
    },
    {
     "name": "stderr",
     "output_type": "stream",
     "text": [
      "100%|██████████| 1/1 [00:00<00:00, 43.67it/s, loss=0.119]"
     ]
    },
    {
     "name": "stdout",
     "output_type": "stream",
     "text": [
      "  Loss =  0.119\n"
     ]
    },
    {
     "name": "stderr",
     "output_type": "stream",
     "text": [
      "\n"
     ]
    },
    {
     "name": "stdout",
     "output_type": "stream",
     "text": [
      "Epoch 1000/10000\n"
     ]
    },
    {
     "name": "stderr",
     "output_type": "stream",
     "text": [
      "100%|██████████| 1/1 [00:00<00:00, 41.63it/s, loss=0.090]"
     ]
    },
    {
     "name": "stdout",
     "output_type": "stream",
     "text": [
      "  Loss =  0.090\n"
     ]
    },
    {
     "name": "stderr",
     "output_type": "stream",
     "text": [
      "\n"
     ]
    },
    {
     "name": "stdout",
     "output_type": "stream",
     "text": [
      "Epoch 1200/10000\n"
     ]
    },
    {
     "name": "stderr",
     "output_type": "stream",
     "text": [
      "100%|██████████| 1/1 [00:00<00:00, 42.01it/s, loss=0.072]"
     ]
    },
    {
     "name": "stdout",
     "output_type": "stream",
     "text": [
      "  Loss =  0.072\n"
     ]
    },
    {
     "name": "stderr",
     "output_type": "stream",
     "text": [
      "\n"
     ]
    },
    {
     "name": "stdout",
     "output_type": "stream",
     "text": [
      "Epoch 1400/10000\n"
     ]
    },
    {
     "name": "stderr",
     "output_type": "stream",
     "text": [
      "100%|██████████| 1/1 [00:00<00:00, 38.11it/s, loss=0.059]"
     ]
    },
    {
     "name": "stdout",
     "output_type": "stream",
     "text": [
      "  Loss =  0.059\n"
     ]
    },
    {
     "name": "stderr",
     "output_type": "stream",
     "text": [
      "\n"
     ]
    },
    {
     "name": "stdout",
     "output_type": "stream",
     "text": [
      "Epoch 1600/10000\n"
     ]
    },
    {
     "name": "stderr",
     "output_type": "stream",
     "text": [
      "100%|██████████| 1/1 [00:00<00:00, 43.95it/s, loss=0.051]"
     ]
    },
    {
     "name": "stdout",
     "output_type": "stream",
     "text": [
      "  Loss =  0.051\n"
     ]
    },
    {
     "name": "stderr",
     "output_type": "stream",
     "text": [
      "\n"
     ]
    },
    {
     "name": "stdout",
     "output_type": "stream",
     "text": [
      "Epoch 1800/10000\n"
     ]
    },
    {
     "name": "stderr",
     "output_type": "stream",
     "text": [
      "100%|██████████| 1/1 [00:00<00:00, 38.19it/s, loss=0.044]"
     ]
    },
    {
     "name": "stdout",
     "output_type": "stream",
     "text": [
      "  Loss =  0.044\n"
     ]
    },
    {
     "name": "stderr",
     "output_type": "stream",
     "text": [
      "\n"
     ]
    },
    {
     "name": "stdout",
     "output_type": "stream",
     "text": [
      "Epoch 2000/10000\n"
     ]
    },
    {
     "name": "stderr",
     "output_type": "stream",
     "text": [
      "100%|██████████| 1/1 [00:00<00:00, 49.55it/s, loss=0.040]"
     ]
    },
    {
     "name": "stdout",
     "output_type": "stream",
     "text": [
      "  Loss =  0.040\n"
     ]
    },
    {
     "name": "stderr",
     "output_type": "stream",
     "text": [
      "\n"
     ]
    },
    {
     "name": "stdout",
     "output_type": "stream",
     "text": [
      "Epoch 2200/10000\n"
     ]
    },
    {
     "name": "stderr",
     "output_type": "stream",
     "text": [
      "100%|██████████| 1/1 [00:00<00:00, 51.90it/s, loss=0.036]"
     ]
    },
    {
     "name": "stdout",
     "output_type": "stream",
     "text": [
      "  Loss =  0.036\n"
     ]
    },
    {
     "name": "stderr",
     "output_type": "stream",
     "text": [
      "\n"
     ]
    },
    {
     "name": "stdout",
     "output_type": "stream",
     "text": [
      "Epoch 2400/10000\n"
     ]
    },
    {
     "name": "stderr",
     "output_type": "stream",
     "text": [
      "100%|██████████| 1/1 [00:00<00:00, 40.55it/s, loss=0.034]"
     ]
    },
    {
     "name": "stdout",
     "output_type": "stream",
     "text": [
      "  Loss =  0.034\n"
     ]
    },
    {
     "name": "stderr",
     "output_type": "stream",
     "text": [
      "\n"
     ]
    },
    {
     "name": "stdout",
     "output_type": "stream",
     "text": [
      "Epoch 2600/10000\n"
     ]
    },
    {
     "name": "stderr",
     "output_type": "stream",
     "text": [
      "100%|██████████| 1/1 [00:00<00:00, 34.76it/s, loss=0.031]"
     ]
    },
    {
     "name": "stdout",
     "output_type": "stream",
     "text": [
      "  Loss =  0.031\n"
     ]
    },
    {
     "name": "stderr",
     "output_type": "stream",
     "text": [
      "\n"
     ]
    },
    {
     "name": "stdout",
     "output_type": "stream",
     "text": [
      "Epoch 2800/10000\n"
     ]
    },
    {
     "name": "stderr",
     "output_type": "stream",
     "text": [
      "100%|██████████| 1/1 [00:00<00:00, 48.89it/s, loss=0.030]"
     ]
    },
    {
     "name": "stdout",
     "output_type": "stream",
     "text": [
      "  Loss =  0.030\n"
     ]
    },
    {
     "name": "stderr",
     "output_type": "stream",
     "text": [
      "\n"
     ]
    },
    {
     "name": "stdout",
     "output_type": "stream",
     "text": [
      "Epoch 3000/10000\n"
     ]
    },
    {
     "name": "stderr",
     "output_type": "stream",
     "text": [
      "100%|██████████| 1/1 [00:00<00:00, 50.28it/s, loss=0.028]"
     ]
    },
    {
     "name": "stdout",
     "output_type": "stream",
     "text": [
      "  Loss =  0.028\n"
     ]
    },
    {
     "name": "stderr",
     "output_type": "stream",
     "text": [
      "\n"
     ]
    },
    {
     "name": "stdout",
     "output_type": "stream",
     "text": [
      "Epoch 3200/10000\n"
     ]
    },
    {
     "name": "stderr",
     "output_type": "stream",
     "text": [
      "100%|██████████| 1/1 [00:00<00:00, 48.49it/s, loss=0.026]"
     ]
    },
    {
     "name": "stdout",
     "output_type": "stream",
     "text": [
      "  Loss =  0.026\n"
     ]
    },
    {
     "name": "stderr",
     "output_type": "stream",
     "text": [
      "\n"
     ]
    },
    {
     "name": "stdout",
     "output_type": "stream",
     "text": [
      "Epoch 3400/10000\n"
     ]
    },
    {
     "name": "stderr",
     "output_type": "stream",
     "text": [
      "100%|██████████| 1/1 [00:00<00:00, 50.73it/s, loss=0.025]"
     ]
    },
    {
     "name": "stdout",
     "output_type": "stream",
     "text": [
      "  Loss =  0.025\n"
     ]
    },
    {
     "name": "stderr",
     "output_type": "stream",
     "text": [
      "\n"
     ]
    },
    {
     "name": "stdout",
     "output_type": "stream",
     "text": [
      "Epoch 3600/10000\n"
     ]
    },
    {
     "name": "stderr",
     "output_type": "stream",
     "text": [
      "100%|██████████| 1/1 [00:00<00:00, 40.42it/s, loss=0.024]"
     ]
    },
    {
     "name": "stdout",
     "output_type": "stream",
     "text": [
      "  Loss =  0.024\n"
     ]
    },
    {
     "name": "stderr",
     "output_type": "stream",
     "text": [
      "\n"
     ]
    },
    {
     "name": "stdout",
     "output_type": "stream",
     "text": [
      "Epoch 3800/10000\n"
     ]
    },
    {
     "name": "stderr",
     "output_type": "stream",
     "text": [
      "100%|██████████| 1/1 [00:00<00:00, 39.65it/s, loss=0.023]"
     ]
    },
    {
     "name": "stdout",
     "output_type": "stream",
     "text": [
      "  Loss =  0.023\n"
     ]
    },
    {
     "name": "stderr",
     "output_type": "stream",
     "text": [
      "\n"
     ]
    },
    {
     "name": "stdout",
     "output_type": "stream",
     "text": [
      "Epoch 4000/10000\n"
     ]
    },
    {
     "name": "stderr",
     "output_type": "stream",
     "text": [
      "100%|██████████| 1/1 [00:00<00:00, 48.02it/s, loss=0.022]"
     ]
    },
    {
     "name": "stdout",
     "output_type": "stream",
     "text": [
      "  Loss =  0.022\n"
     ]
    },
    {
     "name": "stderr",
     "output_type": "stream",
     "text": [
      "\n"
     ]
    },
    {
     "name": "stdout",
     "output_type": "stream",
     "text": [
      "Epoch 4200/10000\n"
     ]
    },
    {
     "name": "stderr",
     "output_type": "stream",
     "text": [
      "100%|██████████| 1/1 [00:00<00:00, 44.75it/s, loss=0.021]"
     ]
    },
    {
     "name": "stdout",
     "output_type": "stream",
     "text": [
      "  Loss =  0.021\n"
     ]
    },
    {
     "name": "stderr",
     "output_type": "stream",
     "text": [
      "\n"
     ]
    },
    {
     "name": "stdout",
     "output_type": "stream",
     "text": [
      "Epoch 4400/10000\n"
     ]
    },
    {
     "name": "stderr",
     "output_type": "stream",
     "text": [
      "100%|██████████| 1/1 [00:00<00:00, 42.83it/s, loss=0.020]"
     ]
    },
    {
     "name": "stdout",
     "output_type": "stream",
     "text": [
      "  Loss =  0.020\n"
     ]
    },
    {
     "name": "stderr",
     "output_type": "stream",
     "text": [
      "\n"
     ]
    },
    {
     "name": "stdout",
     "output_type": "stream",
     "text": [
      "Epoch 4600/10000\n"
     ]
    },
    {
     "name": "stderr",
     "output_type": "stream",
     "text": [
      "100%|██████████| 1/1 [00:00<00:00, 47.32it/s, loss=0.020]"
     ]
    },
    {
     "name": "stdout",
     "output_type": "stream",
     "text": [
      "  Loss =  0.020\n"
     ]
    },
    {
     "name": "stderr",
     "output_type": "stream",
     "text": [
      "\n"
     ]
    },
    {
     "name": "stdout",
     "output_type": "stream",
     "text": [
      "Epoch 4800/10000\n"
     ]
    },
    {
     "name": "stderr",
     "output_type": "stream",
     "text": [
      "100%|██████████| 1/1 [00:00<00:00, 42.93it/s, loss=0.019]"
     ]
    },
    {
     "name": "stdout",
     "output_type": "stream",
     "text": [
      "  Loss =  0.019\n"
     ]
    },
    {
     "name": "stderr",
     "output_type": "stream",
     "text": [
      "\n"
     ]
    },
    {
     "name": "stdout",
     "output_type": "stream",
     "text": [
      "Epoch 5000/10000\n"
     ]
    },
    {
     "name": "stderr",
     "output_type": "stream",
     "text": [
      "100%|██████████| 1/1 [00:00<00:00, 45.93it/s, loss=0.018]"
     ]
    },
    {
     "name": "stdout",
     "output_type": "stream",
     "text": [
      "  Loss =  0.018\n"
     ]
    },
    {
     "name": "stderr",
     "output_type": "stream",
     "text": [
      "\n"
     ]
    },
    {
     "name": "stdout",
     "output_type": "stream",
     "text": [
      "Epoch 5200/10000\n"
     ]
    },
    {
     "name": "stderr",
     "output_type": "stream",
     "text": [
      "100%|██████████| 1/1 [00:00<00:00, 50.13it/s, loss=0.018]"
     ]
    },
    {
     "name": "stdout",
     "output_type": "stream",
     "text": [
      "  Loss =  0.018\n"
     ]
    },
    {
     "name": "stderr",
     "output_type": "stream",
     "text": [
      "\n"
     ]
    },
    {
     "name": "stdout",
     "output_type": "stream",
     "text": [
      "Epoch 5400/10000\n"
     ]
    },
    {
     "name": "stderr",
     "output_type": "stream",
     "text": [
      "100%|██████████| 1/1 [00:00<00:00, 40.30it/s, loss=0.017]"
     ]
    },
    {
     "name": "stdout",
     "output_type": "stream",
     "text": [
      "  Loss =  0.017\n"
     ]
    },
    {
     "name": "stderr",
     "output_type": "stream",
     "text": [
      "\n"
     ]
    },
    {
     "name": "stdout",
     "output_type": "stream",
     "text": [
      "Epoch 5600/10000\n"
     ]
    },
    {
     "name": "stderr",
     "output_type": "stream",
     "text": [
      "100%|██████████| 1/1 [00:00<00:00, 45.58it/s, loss=0.017]"
     ]
    },
    {
     "name": "stdout",
     "output_type": "stream",
     "text": [
      "  Loss =  0.017\n"
     ]
    },
    {
     "name": "stderr",
     "output_type": "stream",
     "text": [
      "\n"
     ]
    },
    {
     "name": "stdout",
     "output_type": "stream",
     "text": [
      "Epoch 5800/10000\n"
     ]
    },
    {
     "name": "stderr",
     "output_type": "stream",
     "text": [
      "100%|██████████| 1/1 [00:00<00:00, 44.41it/s, loss=0.016]"
     ]
    },
    {
     "name": "stdout",
     "output_type": "stream",
     "text": [
      "  Loss =  0.016\n"
     ]
    },
    {
     "name": "stderr",
     "output_type": "stream",
     "text": [
      "\n"
     ]
    },
    {
     "name": "stdout",
     "output_type": "stream",
     "text": [
      "Epoch 6000/10000\n"
     ]
    },
    {
     "name": "stderr",
     "output_type": "stream",
     "text": [
      "100%|██████████| 1/1 [00:00<00:00, 43.33it/s, loss=0.016]"
     ]
    },
    {
     "name": "stdout",
     "output_type": "stream",
     "text": [
      "  Loss =  0.016\n"
     ]
    },
    {
     "name": "stderr",
     "output_type": "stream",
     "text": [
      "\n"
     ]
    },
    {
     "name": "stdout",
     "output_type": "stream",
     "text": [
      "Epoch 6200/10000\n"
     ]
    },
    {
     "name": "stderr",
     "output_type": "stream",
     "text": [
      "100%|██████████| 1/1 [00:00<00:00, 50.56it/s, loss=0.016]"
     ]
    },
    {
     "name": "stdout",
     "output_type": "stream",
     "text": [
      "  Loss =  0.016\n"
     ]
    },
    {
     "name": "stderr",
     "output_type": "stream",
     "text": [
      "\n"
     ]
    },
    {
     "name": "stdout",
     "output_type": "stream",
     "text": [
      "Epoch 6400/10000\n"
     ]
    },
    {
     "name": "stderr",
     "output_type": "stream",
     "text": [
      "100%|██████████| 1/1 [00:00<00:00, 30.11it/s, loss=0.015]"
     ]
    },
    {
     "name": "stdout",
     "output_type": "stream",
     "text": [
      "  Loss =  0.015\n"
     ]
    },
    {
     "name": "stderr",
     "output_type": "stream",
     "text": [
      "\n"
     ]
    },
    {
     "name": "stdout",
     "output_type": "stream",
     "text": [
      "Epoch 6600/10000\n"
     ]
    },
    {
     "name": "stderr",
     "output_type": "stream",
     "text": [
      "100%|██████████| 1/1 [00:00<00:00, 45.04it/s, loss=0.015]"
     ]
    },
    {
     "name": "stdout",
     "output_type": "stream",
     "text": [
      "  Loss =  0.015\n"
     ]
    },
    {
     "name": "stderr",
     "output_type": "stream",
     "text": [
      "\n"
     ]
    },
    {
     "name": "stdout",
     "output_type": "stream",
     "text": [
      "Epoch 6800/10000\n"
     ]
    },
    {
     "name": "stderr",
     "output_type": "stream",
     "text": [
      "100%|██████████| 1/1 [00:00<00:00, 37.95it/s, loss=0.014]"
     ]
    },
    {
     "name": "stdout",
     "output_type": "stream",
     "text": [
      "  Loss =  0.014\n"
     ]
    },
    {
     "name": "stderr",
     "output_type": "stream",
     "text": [
      "\n"
     ]
    },
    {
     "name": "stdout",
     "output_type": "stream",
     "text": [
      "Epoch 7000/10000\n"
     ]
    },
    {
     "name": "stderr",
     "output_type": "stream",
     "text": [
      "100%|██████████| 1/1 [00:00<00:00, 41.76it/s, loss=0.014]"
     ]
    },
    {
     "name": "stdout",
     "output_type": "stream",
     "text": [
      "  Loss =  0.014\n"
     ]
    },
    {
     "name": "stderr",
     "output_type": "stream",
     "text": [
      "\n"
     ]
    },
    {
     "name": "stdout",
     "output_type": "stream",
     "text": [
      "Epoch 7200/10000\n"
     ]
    },
    {
     "name": "stderr",
     "output_type": "stream",
     "text": [
      "100%|██████████| 1/1 [00:00<00:00, 42.41it/s, loss=0.014]"
     ]
    },
    {
     "name": "stdout",
     "output_type": "stream",
     "text": [
      "  Loss =  0.014\n"
     ]
    },
    {
     "name": "stderr",
     "output_type": "stream",
     "text": [
      "\n"
     ]
    },
    {
     "name": "stdout",
     "output_type": "stream",
     "text": [
      "Epoch 7400/10000\n"
     ]
    },
    {
     "name": "stderr",
     "output_type": "stream",
     "text": [
      "100%|██████████| 1/1 [00:00<00:00, 46.31it/s, loss=0.013]"
     ]
    },
    {
     "name": "stdout",
     "output_type": "stream",
     "text": [
      "  Loss =  0.013\n"
     ]
    },
    {
     "name": "stderr",
     "output_type": "stream",
     "text": [
      "\n"
     ]
    },
    {
     "name": "stdout",
     "output_type": "stream",
     "text": [
      "Epoch 7600/10000\n"
     ]
    },
    {
     "name": "stderr",
     "output_type": "stream",
     "text": [
      "100%|██████████| 1/1 [00:00<00:00, 50.51it/s, loss=0.013]"
     ]
    },
    {
     "name": "stdout",
     "output_type": "stream",
     "text": [
      "  Loss =  0.013\n"
     ]
    },
    {
     "name": "stderr",
     "output_type": "stream",
     "text": [
      "\n"
     ]
    },
    {
     "name": "stdout",
     "output_type": "stream",
     "text": [
      "Epoch 7800/10000\n"
     ]
    },
    {
     "name": "stderr",
     "output_type": "stream",
     "text": [
      "100%|██████████| 1/1 [00:00<00:00, 48.42it/s, loss=0.013]"
     ]
    },
    {
     "name": "stdout",
     "output_type": "stream",
     "text": [
      "  Loss =  0.013\n"
     ]
    },
    {
     "name": "stderr",
     "output_type": "stream",
     "text": [
      "\n"
     ]
    },
    {
     "name": "stdout",
     "output_type": "stream",
     "text": [
      "Epoch 8000/10000\n"
     ]
    },
    {
     "name": "stderr",
     "output_type": "stream",
     "text": [
      "100%|██████████| 1/1 [00:00<00:00, 51.65it/s, loss=0.013]"
     ]
    },
    {
     "name": "stdout",
     "output_type": "stream",
     "text": [
      "  Loss =  0.013\n"
     ]
    },
    {
     "name": "stderr",
     "output_type": "stream",
     "text": [
      "\n"
     ]
    },
    {
     "name": "stdout",
     "output_type": "stream",
     "text": [
      "Epoch 8200/10000\n"
     ]
    },
    {
     "name": "stderr",
     "output_type": "stream",
     "text": [
      "100%|██████████| 1/1 [00:00<00:00, 46.68it/s, loss=0.012]"
     ]
    },
    {
     "name": "stdout",
     "output_type": "stream",
     "text": [
      "  Loss =  0.012\n"
     ]
    },
    {
     "name": "stderr",
     "output_type": "stream",
     "text": [
      "\n"
     ]
    },
    {
     "name": "stdout",
     "output_type": "stream",
     "text": [
      "Epoch 8400/10000\n"
     ]
    },
    {
     "name": "stderr",
     "output_type": "stream",
     "text": [
      "100%|██████████| 1/1 [00:00<00:00, 42.47it/s, loss=0.012]"
     ]
    },
    {
     "name": "stdout",
     "output_type": "stream",
     "text": [
      "  Loss =  0.012\n"
     ]
    },
    {
     "name": "stderr",
     "output_type": "stream",
     "text": [
      "\n"
     ]
    },
    {
     "name": "stdout",
     "output_type": "stream",
     "text": [
      "Epoch 8600/10000\n"
     ]
    },
    {
     "name": "stderr",
     "output_type": "stream",
     "text": [
      "100%|██████████| 1/1 [00:00<00:00, 40.03it/s, loss=0.012]"
     ]
    },
    {
     "name": "stdout",
     "output_type": "stream",
     "text": [
      "  Loss =  0.012\n"
     ]
    },
    {
     "name": "stderr",
     "output_type": "stream",
     "text": [
      "\n"
     ]
    },
    {
     "name": "stdout",
     "output_type": "stream",
     "text": [
      "Epoch 8800/10000\n"
     ]
    },
    {
     "name": "stderr",
     "output_type": "stream",
     "text": [
      "100%|██████████| 1/1 [00:00<00:00, 46.65it/s, loss=0.012]"
     ]
    },
    {
     "name": "stdout",
     "output_type": "stream",
     "text": [
      "  Loss =  0.012\n"
     ]
    },
    {
     "name": "stderr",
     "output_type": "stream",
     "text": [
      "\n"
     ]
    },
    {
     "name": "stdout",
     "output_type": "stream",
     "text": [
      "Epoch 9000/10000\n"
     ]
    },
    {
     "name": "stderr",
     "output_type": "stream",
     "text": [
      "100%|██████████| 1/1 [00:00<00:00, 42.78it/s, loss=0.011]"
     ]
    },
    {
     "name": "stdout",
     "output_type": "stream",
     "text": [
      "  Loss =  0.011\n"
     ]
    },
    {
     "name": "stderr",
     "output_type": "stream",
     "text": [
      "\n"
     ]
    },
    {
     "name": "stdout",
     "output_type": "stream",
     "text": [
      "Epoch 9200/10000\n"
     ]
    },
    {
     "name": "stderr",
     "output_type": "stream",
     "text": [
      "100%|██████████| 1/1 [00:00<00:00, 44.88it/s, loss=0.011]"
     ]
    },
    {
     "name": "stdout",
     "output_type": "stream",
     "text": [
      "  Loss =  0.011\n"
     ]
    },
    {
     "name": "stderr",
     "output_type": "stream",
     "text": [
      "\n"
     ]
    },
    {
     "name": "stdout",
     "output_type": "stream",
     "text": [
      "Epoch 9400/10000\n"
     ]
    },
    {
     "name": "stderr",
     "output_type": "stream",
     "text": [
      "100%|██████████| 1/1 [00:00<00:00, 40.26it/s, loss=0.011]"
     ]
    },
    {
     "name": "stdout",
     "output_type": "stream",
     "text": [
      "  Loss =  0.011\n"
     ]
    },
    {
     "name": "stderr",
     "output_type": "stream",
     "text": [
      "\n"
     ]
    },
    {
     "name": "stdout",
     "output_type": "stream",
     "text": [
      "Epoch 9600/10000\n"
     ]
    },
    {
     "name": "stderr",
     "output_type": "stream",
     "text": [
      "100%|██████████| 1/1 [00:00<00:00, 48.46it/s, loss=0.011]"
     ]
    },
    {
     "name": "stdout",
     "output_type": "stream",
     "text": [
      "  Loss =  0.011\n"
     ]
    },
    {
     "name": "stderr",
     "output_type": "stream",
     "text": [
      "\n"
     ]
    },
    {
     "name": "stdout",
     "output_type": "stream",
     "text": [
      "Epoch 9800/10000\n"
     ]
    },
    {
     "name": "stderr",
     "output_type": "stream",
     "text": [
      "100%|██████████| 1/1 [00:00<00:00, 40.04it/s, loss=0.010]"
     ]
    },
    {
     "name": "stdout",
     "output_type": "stream",
     "text": [
      "  Loss =  0.010\n"
     ]
    },
    {
     "name": "stderr",
     "output_type": "stream",
     "text": [
      "\n"
     ]
    },
    {
     "name": "stdout",
     "output_type": "stream",
     "text": [
      "Epoch 10000/10000\n"
     ]
    },
    {
     "name": "stderr",
     "output_type": "stream",
     "text": [
      "100%|██████████| 1/1 [00:00<00:00, 45.38it/s, loss=0.010]"
     ]
    },
    {
     "name": "stdout",
     "output_type": "stream",
     "text": [
      "  Loss =  0.010\n"
     ]
    },
    {
     "name": "stderr",
     "output_type": "stream",
     "text": [
      "\n"
     ]
    }
   ],
   "source": [
    "N_iter = 10000\n",
    "beta2 = 0.99\n",
    "eta0 = 0.1 #0.1/0.001/0.01/0.15\n",
    "D0 = jnp.diag(hessianF(x0)) # Cheating a bit\n",
    "                       \n",
    "alpha = 0.1 # 0.01\n",
    "\n",
    "key, subkey = random.split(key)\n",
    "x_oa, loss_oa = oasis_adaptive(subkey, Fidx, gradFidx, hvpFidx, x0, eta0, D0, beta2, alpha, N_iter, iter_display = 200)\n"
   ]
  },
  {
   "cell_type": "code",
   "execution_count": 114,
   "id": "65316fa4-29ef-4a8b-98a3-a5150a90a40d",
   "metadata": {},
   "outputs": [
    {
     "name": "stdout",
     "output_type": "stream",
     "text": [
      "9.999029382257163e-12\n",
      "0.6624434100332252\n",
      "4.437255648421646\n",
      "4.3870623423255015\n",
      "3.8426731608818705\n"
     ]
    },
    {
     "data": {
      "image/png": "[encoded data removed]",
      "text/plain": [
       "<Figure size 864x432 with 2 Axes>"
      ]
     },
     "metadata": {
      "needs_background": "light"
     },
     "output_type": "display_data"
    }
   ],
   "source": [
    "print(jnp.max(jnp.abs(x_gt-x_n)))\n",
    "print(jnp.max(jnp.abs(x_gt-x_cg)))\n",
    "print(jnp.max(jnp.abs(x_gt-x_gd)))\n",
    "print(jnp.max(jnp.abs(x_gt-x_o)))\n",
    "print(jnp.max(jnp.abs(x_gt-x_oa)))\n",
    "\n",
    "plt.rcParams[\"figure.figsize\"]=12, 6\n",
    "\n",
    "plt.subplot(1,2,1)\n",
    "\n",
    "#plt.semilogy(loss_n)\n",
    "plt.semilogy(loss_gd)\n",
    "plt.semilogy(loss_o)\n",
    "plt.semilogy(loss_oa)\n",
    "plt.legend([\"GD\", \"OASIS\", \"OASIS adaptive\"])\n",
    "plt.title(\"Loss\")\n",
    "\n",
    "plt.subplot(1,2,2)\n",
    "plt.semilogy(jnp.abs(x_gt-x_n))\n",
    "plt.semilogy(jnp.abs(x_gt-x_gd))\n",
    "plt.semilogy(jnp.abs(x_gt-x_o))\n",
    "plt.semilogy(jnp.abs(x_gt-x_oa))\n",
    "plt.legend([\"Newton\", \"GD\", \"OASIS\", \"OASIS_adaptive\"])\n",
    "plt.title(\"Error\")\n",
    "\n",
    "plt.rcParams[\"figure.figsize\"]=6, 6"
   ]
  },
  {
   "cell_type": "markdown",
   "id": "a8b6c827-8a95-402c-b11f-ceeae8a12d5c",
   "metadata": {},
   "source": [
    "### Stochastic - sum of operators"
   ]
  },
  {
   "cell_type": "markdown",
   "id": "eab15192-ed05-48be-8bc6-519f1af7f07b",
   "metadata": {},
   "source": [
    "Generate $N$ operators to create a loss function to do SGD/OASIS on:"
   ]
  },
  {
   "cell_type": "code",
   "execution_count": 368,
   "id": "22bdc44f-ff0b-4b9d-b412-c0ceddb3a674",
   "metadata": {},
   "outputs": [],
   "source": [
    "n = 100\n",
    "N = 1000\n",
    "\n",
    "x_gt = np.random.normal(size=(n,))\n",
    "\n",
    "ops = []\n",
    "b = []\n",
    "for i in range(N):\n",
    "    A = np.random.normal(size=(n,n))\n",
    "    A = A.T @ A\n",
    "    _, v = jnp.linalg.eigh(A)\n",
    "    \n",
    "    d = jnp.flip(jnp.logspace(-5,4,n)) + np.random.normal(size=(n,))*10 \n",
    "    d = d + jnp.abs(jnp.min(d)*2)\n",
    "                 \n",
    "    A = v.T @ jnp.diag(d) @ v\n",
    "    ops.append(A)\n",
    "    \n",
    "    bn = A @ x_gt\n",
    "    b.append(bn)\n",
    "    \n",
    "    #print(jnp.mean((A@x_gt - bn)**2))\n",
    "    \n",
    "ops = jnp.array(ops)\n",
    "b = jnp.array(b)"
   ]
  },
  {
   "cell_type": "code",
   "execution_count": 370,
   "id": "5e78e315-c297-4911-91cf-f1d27bc1a509",
   "metadata": {},
   "outputs": [
    {
     "name": "stdout",
     "output_type": "stream",
     "text": [
      " 3.35e+02\n"
     ]
    }
   ],
   "source": [
    "w, _ = jnp.linalg.eigh(A)\n",
    "w = jnp.flip(jnp.sort(w))\n",
    "print(f\"{jnp.max(w)/jnp.min(w) : .2e}\")"
   ]
  },
  {
   "cell_type": "code",
   "execution_count": 371,
   "id": "468e3a1f-4f0f-4d36-aa67-b758871eea2d",
   "metadata": {},
   "outputs": [],
   "source": [
    "def loss_term(x, A, b):\n",
    "    return 1/2 * jnp.mean((A@x - b)**2)\n",
    "\n",
    "def loss_func(x, ops, b):\n",
    "    return jnp.mean(jax.vmap(loss_term, in_axes = (None, 0, 0))(x, ops, b))\n",
    "\n",
    "def grad_loss_func(x, ops, b):\n",
    "    return jax.grad(loss_func)(x, ops, b)\n",
    "\n",
    "def hvp_loss_func(x, v, ops, b):\n",
    "    return jvp(lambda y : grad_loss_func(y, ops, b), (x,), (v,))[1]"
   ]
  },
  {
   "cell_type": "code",
   "execution_count": 372,
   "id": "596a2b9b-f7fe-48f1-b8be-d37784d8e003",
   "metadata": {},
   "outputs": [
    {
     "name": "stdout",
     "output_type": "stream",
     "text": [
      "0.0\n",
      "0.0\n",
      "(100,)\n",
      "(100,)\n",
      "(100,)\n",
      "(100,)\n"
     ]
    }
   ],
   "source": [
    "idx = np.random.permutation(N)[:N//3]\n",
    "\n",
    "print(loss_term(x_gt, ops[0], b[0]))\n",
    "print(loss_func(x_gt, ops, b))\n",
    "\n",
    "print(grad_loss_func(x_gt, ops, b).shape)\n",
    "print(grad_loss_func(x_gt, ops[idx], b[idx]).shape)\n",
    "\n",
    "print(hvp_loss_func(x_gt, x_gt, ops, b).shape)\n",
    "print(hvp_loss_func(x_gt, x_gt, ops[idx], b[idx]).shape)"
   ]
  },
  {
   "cell_type": "code",
   "execution_count": 373,
   "id": "f676aa77-b686-4343-a484-f7153d02b5f5",
   "metadata": {},
   "outputs": [],
   "source": [
    "Fidx = jax.jit(lambda x, idx : loss_func(x, ops[idx], b[idx]))\n",
    "gradFidx = jax.jit(lambda x, idx : grad_loss_func(x, ops[idx], b[idx]))\n",
    "hvpFidx = jax.jit(lambda x, v, idx : hvp_loss_func(x, v, ops[idx], b[idx]))\n",
    "x0 = jnp.array(np.random.randn(n))"
   ]
  },
  {
   "cell_type": "code",
   "execution_count": 386,
   "id": "0b0edb39-6c54-401d-b223-8894798094f5",
   "metadata": {},
   "outputs": [
    {
     "name": "stdout",
     "output_type": "stream",
     "text": [
      "Epoch 10/100\n"
     ]
    },
    {
     "name": "stderr",
     "output_type": "stream",
     "text": [
      "100%|██████████| 50/50 [00:00<00:00, 143.41it/s, loss=2.573e-03]\n"
     ]
    },
    {
     "name": "stdout",
     "output_type": "stream",
     "text": [
      "  Loss =  6.562e-03\n",
      "Epoch 20/100\n"
     ]
    },
    {
     "name": "stderr",
     "output_type": "stream",
     "text": [
      "100%|██████████| 50/50 [00:00<00:00, 138.43it/s, loss=1.074e-10]\n"
     ]
    },
    {
     "name": "stdout",
     "output_type": "stream",
     "text": [
      "  Loss =  3.217e-10\n",
      "Epoch 30/100\n"
     ]
    },
    {
     "name": "stderr",
     "output_type": "stream",
     "text": [
      "100%|██████████| 50/50 [00:00<00:00, 139.56it/s, loss=7.820e-18]\n"
     ]
    },
    {
     "name": "stdout",
     "output_type": "stream",
     "text": [
      "  Loss =  1.962e-17\n",
      "Epoch 40/100\n"
     ]
    },
    {
     "name": "stderr",
     "output_type": "stream",
     "text": [
      "100%|██████████| 50/50 [00:00<00:00, 144.53it/s, loss=8.484e-25]\n"
     ]
    },
    {
     "name": "stdout",
     "output_type": "stream",
     "text": [
      "  Loss =  1.661e-24\n",
      "Epoch 50/100\n"
     ]
    },
    {
     "name": "stderr",
     "output_type": "stream",
     "text": [
      "100%|██████████| 50/50 [00:00<00:00, 145.69it/s, loss=3.115e-25]\n"
     ]
    },
    {
     "name": "stdout",
     "output_type": "stream",
     "text": [
      "  Loss =  3.183e-25\n",
      "Epoch 60/100\n"
     ]
    },
    {
     "name": "stderr",
     "output_type": "stream",
     "text": [
      "100%|██████████| 50/50 [00:00<00:00, 141.19it/s, loss=3.149e-25]\n"
     ]
    },
    {
     "name": "stdout",
     "output_type": "stream",
     "text": [
      "  Loss =  3.102e-25\n",
      "Epoch 70/100\n"
     ]
    },
    {
     "name": "stderr",
     "output_type": "stream",
     "text": [
      "100%|██████████| 50/50 [00:00<00:00, 143.59it/s, loss=3.147e-25]\n"
     ]
    },
    {
     "name": "stdout",
     "output_type": "stream",
     "text": [
      "  Loss =  3.054e-25\n",
      "Epoch 80/100\n"
     ]
    },
    {
     "name": "stderr",
     "output_type": "stream",
     "text": [
      "100%|██████████| 50/50 [00:00<00:00, 145.16it/s, loss=2.964e-25]\n"
     ]
    },
    {
     "name": "stdout",
     "output_type": "stream",
     "text": [
      "  Loss =  3.026e-25\n",
      "Epoch 90/100\n"
     ]
    },
    {
     "name": "stderr",
     "output_type": "stream",
     "text": [
      "100%|██████████| 50/50 [00:00<00:00, 150.29it/s, loss=2.974e-25]\n"
     ]
    },
    {
     "name": "stdout",
     "output_type": "stream",
     "text": [
      "  Loss =  3.006e-25\n",
      "Epoch 100/100\n"
     ]
    },
    {
     "name": "stderr",
     "output_type": "stream",
     "text": [
      "100%|██████████| 50/50 [00:00<00:00, 140.40it/s, loss=2.784e-25]\n"
     ]
    },
    {
     "name": "stdout",
     "output_type": "stream",
     "text": [
      "  Loss =  3.044e-25\n"
     ]
    }
   ],
   "source": [
    "N_epoch = 100\n",
    "beta2 = 0.99\n",
    "eta = 10000 #0.1 #0.1/0.001/0.01/0.15\n",
    "D0 = jnp.diag(hessianF(x0)) # Cheating a bit\n",
    "                       \n",
    "alpha = 0.1 #0.1 # 0.01\n",
    "\n",
    "key, subkey = random.split(key)\n",
    "x_os, loss_os = oasis(subkey, Fidx, gradFidx, hvpFidx, x0, eta, D0, beta2, alpha, N_epoch, batch_size = 20, N = N, iter_display = 10)"
   ]
  },
  {
   "cell_type": "code",
   "execution_count": 385,
   "id": "1c082c87-8e9b-4367-bfa4-8f203c74a99e",
   "metadata": {},
   "outputs": [
    {
     "name": "stdout",
     "output_type": "stream",
     "text": [
      "Epoch 10/100\n"
     ]
    },
    {
     "name": "stderr",
     "output_type": "stream",
     "text": [
      "100%|██████████| 50/50 [00:00<00:00, 123.29it/s, loss=1.002e-08]\n"
     ]
    },
    {
     "name": "stdout",
     "output_type": "stream",
     "text": [
      "  Loss =  7.020e-08\n",
      "Epoch 20/100\n"
     ]
    },
    {
     "name": "stderr",
     "output_type": "stream",
     "text": [
      "100%|██████████| 50/50 [00:00<00:00, 115.75it/s, loss=1.134e-20]\n"
     ]
    },
    {
     "name": "stdout",
     "output_type": "stream",
     "text": [
      "  Loss =  5.356e-20\n",
      "Epoch 30/100\n"
     ]
    },
    {
     "name": "stderr",
     "output_type": "stream",
     "text": [
      "100%|██████████| 50/50 [00:00<00:00, 125.41it/s, loss=7.079e-26]\n"
     ]
    },
    {
     "name": "stdout",
     "output_type": "stream",
     "text": [
      "  Loss =  7.360e-26\n",
      "Epoch 40/100\n"
     ]
    },
    {
     "name": "stderr",
     "output_type": "stream",
     "text": [
      "100%|██████████| 50/50 [00:00<00:00, 121.88it/s, loss=7.671e-26]\n"
     ]
    },
    {
     "name": "stdout",
     "output_type": "stream",
     "text": [
      "  Loss =  6.564e-26\n",
      "Epoch 50/100\n"
     ]
    },
    {
     "name": "stderr",
     "output_type": "stream",
     "text": [
      "100%|██████████| 50/50 [00:00<00:00, 114.83it/s, loss=6.169e-26]\n"
     ]
    },
    {
     "name": "stdout",
     "output_type": "stream",
     "text": [
      "  Loss =  6.471e-26\n",
      "Epoch 60/100\n"
     ]
    },
    {
     "name": "stderr",
     "output_type": "stream",
     "text": [
      "100%|██████████| 50/50 [00:00<00:00, 115.35it/s, loss=5.445e-26]\n"
     ]
    },
    {
     "name": "stdout",
     "output_type": "stream",
     "text": [
      "  Loss =  5.652e-26\n",
      "Epoch 70/100\n"
     ]
    },
    {
     "name": "stderr",
     "output_type": "stream",
     "text": [
      "100%|██████████| 50/50 [00:00<00:00, 128.60it/s, loss=5.625e-26]\n"
     ]
    },
    {
     "name": "stdout",
     "output_type": "stream",
     "text": [
      "  Loss =  5.582e-26\n",
      "Epoch 80/100\n"
     ]
    },
    {
     "name": "stderr",
     "output_type": "stream",
     "text": [
      "100%|██████████| 50/50 [00:00<00:00, 124.17it/s, loss=5.613e-26]\n"
     ]
    },
    {
     "name": "stdout",
     "output_type": "stream",
     "text": [
      "  Loss =  5.721e-26\n",
      "Epoch 90/100\n"
     ]
    },
    {
     "name": "stderr",
     "output_type": "stream",
     "text": [
      "100%|██████████| 50/50 [00:00<00:00, 124.42it/s, loss=5.468e-26]\n"
     ]
    },
    {
     "name": "stdout",
     "output_type": "stream",
     "text": [
      "  Loss =  5.565e-26\n",
      "Epoch 100/100\n"
     ]
    },
    {
     "name": "stderr",
     "output_type": "stream",
     "text": [
      "100%|██████████| 50/50 [00:00<00:00, 119.57it/s, loss=5.812e-26]\n"
     ]
    },
    {
     "name": "stdout",
     "output_type": "stream",
     "text": [
      "  Loss =  5.362e-26\n"
     ]
    }
   ],
   "source": [
    "N_epoch = 100\n",
    "beta2 = 0.99\n",
    "eta = 0.1 #0.1 #0.1/0.001/0.01/0.15\n",
    "D0 = jnp.diag(hessianF(x0)) # Cheating a bit\n",
    "                       \n",
    "alpha = 0.1 #0.1 # 0.01\n",
    "\n",
    "key, subkey = random.split(key)\n",
    "x_osa, loss_osa = oasis_adaptive(subkey, Fidx, gradFidx, hvpFidx, x0, eta, D0, beta2, alpha, N_epoch, batch_size = 20, N = N, iter_display = 10)\n"
   ]
  },
  {
   "cell_type": "code",
   "execution_count": null,
   "id": "4952b15f-88ce-4e16-9413-78b54c5014c3",
   "metadata": {},
   "outputs": [],
   "source": [
    "N_epoch = 10\n",
    "beta2 = 0.99\n",
    "eta = 1e4 #0.1 #0.1/0.001/0.01/0.15\n",
    "D0 = jnp.diag(hessianF(x0)) # Cheating a bit\n",
    "                       \n",
    "alpha = 0.1 #0.1 # 0.01\n",
    "\n",
    "key, subkey = random.split(key)\n",
    "x_o, loss_o = oasis(subkey, Fidx, gradFidx, hvpFidx, x0, eta, D0, beta2, alpha, N_epoch, batch_size = None, N=N, iter_display = 1)"
   ]
  },
  {
   "cell_type": "code",
   "execution_count": null,
   "id": "c29a92b9-ef4b-4d19-8e5f-97cf38972a38",
   "metadata": {},
   "outputs": [],
   "source": [
    "N_epoch = 10\n",
    "beta2 = 0.99\n",
    "eta = 0.1 #0.1 #0.1/0.001/0.01/0.15\n",
    "D0 = jnp.diag(hessianF(x0)) # Cheating a bit\n",
    "                       \n",
    "alpha = 0.1 #0.1 # 0.01\n",
    "\n",
    "key, subkey = random.split(key)\n",
    "x_oa, loss_oa = oasis_adaptive(subkey, Fidx, gradFidx, hvpFidx, x0, eta, D0, beta2, alpha, N_epoch, batch_size = None, N=N, iter_display = 1)\n"
   ]
  },
  {
   "cell_type": "code",
   "execution_count": 384,
   "id": "190efe4d-8fdb-4e33-99eb-feb74a4b0ec4",
   "metadata": {},
   "outputs": [
    {
     "name": "stdout",
     "output_type": "stream",
     "text": [
      "Epoch 1/100 "
     ]
    },
    {
     "name": "stderr",
     "output_type": "stream",
     "text": [
      "100%|██████████| 50/50 [00:00<00:00, 508.88it/s, grad=3.138e+04, loss=1.100e+05]"
     ]
    },
    {
     "name": "stdout",
     "output_type": "stream",
     "text": [
      "  |Grad| = 8.121e+04\n",
      "  Loss = 7.796e+05\n"
     ]
    },
    {
     "name": "stderr",
     "output_type": "stream",
     "text": [
      "\n"
     ]
    },
    {
     "name": "stdout",
     "output_type": "stream",
     "text": [
      "Epoch 11/100 "
     ]
    },
    {
     "name": "stderr",
     "output_type": "stream",
     "text": [
      "100%|██████████| 50/50 [00:00<00:00, 534.09it/s, grad=5.199e-01, loss=3.357e-05]"
     ]
    },
    {
     "name": "stdout",
     "output_type": "stream",
     "text": [
      "  |Grad| = 8.785e-01\n",
      "  Loss = 1.197e-04\n"
     ]
    },
    {
     "name": "stderr",
     "output_type": "stream",
     "text": [
      "\n"
     ]
    },
    {
     "name": "stdout",
     "output_type": "stream",
     "text": [
      "Epoch 21/100 "
     ]
    },
    {
     "name": "stderr",
     "output_type": "stream",
     "text": [
      "100%|██████████| 50/50 [00:00<00:00, 475.01it/s, grad=2.255e-05, loss=6.631e-14]"
     ]
    },
    {
     "name": "stdout",
     "output_type": "stream",
     "text": [
      "  |Grad| = 3.288e-05\n",
      "  Loss = 1.755e-13\n"
     ]
    },
    {
     "name": "stderr",
     "output_type": "stream",
     "text": [
      "\n"
     ]
    },
    {
     "name": "stdout",
     "output_type": "stream",
     "text": [
      "Epoch 31/100 "
     ]
    },
    {
     "name": "stderr",
     "output_type": "stream",
     "text": [
      "100%|██████████| 50/50 [00:00<00:00, 559.84it/s, grad=7.508e-10, loss=1.104e-22]"
     ]
    },
    {
     "name": "stdout",
     "output_type": "stream",
     "text": [
      "  |Grad| = 1.495e-09\n",
      "  Loss = 3.753e-22\n"
     ]
    },
    {
     "name": "stderr",
     "output_type": "stream",
     "text": [
      "\n"
     ]
    },
    {
     "name": "stdout",
     "output_type": "stream",
     "text": [
      "Epoch 41/100 "
     ]
    },
    {
     "name": "stderr",
     "output_type": "stream",
     "text": [
      "100%|██████████| 50/50 [00:00<00:00, 543.27it/s, grad=1.640e-10, loss=1.419e-24]"
     ]
    },
    {
     "name": "stdout",
     "output_type": "stream",
     "text": [
      "  |Grad| = 1.385e-10\n",
      "  Loss = 1.432e-24\n"
     ]
    },
    {
     "name": "stderr",
     "output_type": "stream",
     "text": [
      "\n"
     ]
    },
    {
     "name": "stdout",
     "output_type": "stream",
     "text": [
      "Epoch 51/100 "
     ]
    },
    {
     "name": "stderr",
     "output_type": "stream",
     "text": [
      "100%|██████████| 50/50 [00:00<00:00, 435.30it/s, grad=1.679e-10, loss=1.431e-24]"
     ]
    },
    {
     "name": "stdout",
     "output_type": "stream",
     "text": [
      "  |Grad| = 1.338e-10\n",
      "  Loss = 1.318e-24\n"
     ]
    },
    {
     "name": "stderr",
     "output_type": "stream",
     "text": [
      "\n"
     ]
    },
    {
     "name": "stdout",
     "output_type": "stream",
     "text": [
      "Epoch 61/100 "
     ]
    },
    {
     "name": "stderr",
     "output_type": "stream",
     "text": [
      "100%|██████████| 50/50 [00:00<00:00, 584.13it/s, grad=1.346e-10, loss=1.319e-24]"
     ]
    },
    {
     "name": "stdout",
     "output_type": "stream",
     "text": [
      "  |Grad| = 1.342e-10\n",
      "  Loss = 1.269e-24\n"
     ]
    },
    {
     "name": "stderr",
     "output_type": "stream",
     "text": [
      "\n"
     ]
    },
    {
     "name": "stdout",
     "output_type": "stream",
     "text": [
      "Epoch 71/100 "
     ]
    },
    {
     "name": "stderr",
     "output_type": "stream",
     "text": [
      "100%|██████████| 50/50 [00:00<00:00, 536.16it/s, grad=1.143e-10, loss=9.714e-25]"
     ]
    },
    {
     "name": "stdout",
     "output_type": "stream",
     "text": [
      "  |Grad| = 1.367e-10\n",
      "  Loss = 1.208e-24\n"
     ]
    },
    {
     "name": "stderr",
     "output_type": "stream",
     "text": [
      "\n"
     ]
    },
    {
     "name": "stdout",
     "output_type": "stream",
     "text": [
      "Epoch 81/100 "
     ]
    },
    {
     "name": "stderr",
     "output_type": "stream",
     "text": [
      "100%|██████████| 50/50 [00:00<00:00, 527.98it/s, grad=1.420e-10, loss=1.192e-24]"
     ]
    },
    {
     "name": "stdout",
     "output_type": "stream",
     "text": [
      "  |Grad| = 1.335e-10\n",
      "  Loss = 1.181e-24\n"
     ]
    },
    {
     "name": "stderr",
     "output_type": "stream",
     "text": [
      "\n"
     ]
    },
    {
     "name": "stdout",
     "output_type": "stream",
     "text": [
      "Epoch 91/100 "
     ]
    },
    {
     "name": "stderr",
     "output_type": "stream",
     "text": [
      "100%|██████████| 50/50 [00:00<00:00, 501.39it/s, grad=1.554e-10, loss=1.150e-24]"
     ]
    },
    {
     "name": "stdout",
     "output_type": "stream",
     "text": [
      "  |Grad| = 1.353e-10\n",
      "  Loss = 1.157e-24\n"
     ]
    },
    {
     "name": "stderr",
     "output_type": "stream",
     "text": [
      "\n"
     ]
    }
   ],
   "source": [
    "N_epoch = 100\n",
    "beta2 = 0.99\n",
    "eta = 1e-6\n",
    "                       \n",
    "key, subkey = random.split(key)\n",
    "x_sgd, loss_sgd, _ = sgd(gradFidx, Fidx, N, x0, eta, N_epoch, batch_size = 20, verbose = True, iter_display = 10)"
   ]
  },
  {
   "cell_type": "code",
   "execution_count": 388,
   "id": "12fe04dd-5169-408e-afa5-2313903faf06",
   "metadata": {},
   "outputs": [
    {
     "data": {
      "image/png": "[encoded data removed]",
      "text/plain": [
       "<Figure size 864x432 with 2 Axes>"
      ]
     },
     "metadata": {
      "needs_background": "light"
     },
     "output_type": "display_data"
    }
   ],
   "source": [
    "plt.rcParams[\"figure.figsize\"]=12, 6\n",
    "\n",
    "plt.subplot(1,2,1)\n",
    "plt.semilogy(loss_sgd)\n",
    "#plt.semilogy(loss_o)\n",
    "plt.semilogy(loss_os)\n",
    "#plt.semilogy(loss_oa)\n",
    "plt.semilogy(loss_osa)\n",
    "#plt.legend([\"SGD\", \"OASIS fixed rate, deterministic\", \"OASIS fixed_rate, stochastic\", \"OASIS adaptive, deterministic\", \"OASIS adaptive, stochastic\"])\n",
    "plt.legend([\"SGD\", \"OASIS fixed_rate, stochastic\", \"OASIS adaptive, stochastic\"])\n",
    "plt.title(\"Loss\")\n",
    "\n",
    "plt.subplot(1,2,2)\n",
    "plt.semilogy(jnp.abs(x_sgd-x_gt))\n",
    "#plt.semilogy(jnp.abs(x_o-x_gt))\n",
    "plt.semilogy(jnp.abs(x_os-x_gt))\n",
    "#plt.semilogy(jnp.abs(x_oa-x_gt))\n",
    "plt.semilogy(jnp.abs(x_osa-x_gt))\n",
    "#plt.legend([\"SGD\", \"OASIS fixed rate, deterministic\", \"OASIS fixed_rate, stochastic\", \"OASIS adaptive, deterministic\", \"OASIS adaptive, stochastic\"])\n",
    "plt.legend([\"SGD\", \"OASIS fixed_rate, stochastic\", \"OASIS adaptive, stochastic\"])\n",
    "plt.title(\"Error\")\n",
    "\n",
    "plt.rcParams[\"figure.figsize\"]=6,6"
   ]
  },
  {
   "cell_type": "markdown",
   "id": "db4fd16c-014f-4de5-a06e-1669a7b81280",
   "metadata": {},
   "source": [
    "Next:\n",
    "\n",
    "* ~~Run the new OASIS algorithms on the old (deterministic one operator) toy problem~~\n",
    "* ~~Implement the adaptive version of the stochastic OASIS~~\n",
    "* Add noise and rerun all the experiments\n",
    "* Make the Hessian illconditioned rather than the operator(s) $A$\n",
    "* Implement some kind of warm up /estimation of $D_0$"
   ]
  },
  {
   "cell_type": "code",
   "execution_count": null,
   "id": "a06b0ca4-7c92-41e6-b72f-2f2de37cf5f1",
   "metadata": {},
   "outputs": [],
   "source": []
  }
 ],
 "metadata": {
  "kernelspec": {
   "display_name": "Python 3 (ipykernel)",
   "language": "python",
   "name": "python3"
  },
  "language_info": {
   "codemirror_mode": {
    "name": "ipython",
    "version": 3
   },
   "file_extension": ".py",
   "mimetype": "text/x-python",
   "name": "python",
   "nbconvert_exporter": "python",
   "pygments_lexer": "ipython3",
   "version": "3.10.2"
  }
 },
 "nbformat": 4,
 "nbformat_minor": 5
}
