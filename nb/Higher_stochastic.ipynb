{
 "cells": [
  {
   "cell_type": "markdown",
   "id": "9adcce94-7192-441e-9683-bbb65e31c27a",
   "metadata": {},
   "source": [
    "# Second order stochastic methods for CryoEM -- OASIS"
   ]
  },
  {
   "cell_type": "code",
   "execution_count": 1,
   "id": "2abbe3cc-d606-42cb-8a87-88b079f4abc8",
   "metadata": {},
   "outputs": [],
   "source": [
    "%load_ext autoreload\n",
    "%autoreload 2\n",
    "import site\n",
    "import sys\n",
    "import time\n",
    "import pickle\n",
    "site.addsitedir('..')\n",
    "from jax.config import config\n",
    "\n",
    "config.update(\"jax_enable_x64\", True)"
   ]
  },
  {
   "cell_type": "code",
   "execution_count": 2,
   "id": "70edf6b0-fad6-4d1e-82ac-54d478732b02",
   "metadata": {},
   "outputs": [],
   "source": [
    "import jax\n",
    "import mrcfile\n",
    "from jax.scipy.special import gammaln\n",
    "from jax import random\n",
    "from tqdm import tqdm \n",
    "from jaxopt import LBFGS\n",
    "\n",
    "import numpy as np\n",
    "import jax.numpy as jnp\n",
    "from  matplotlib import pyplot as plt\n",
    "from src.utils import *\n",
    "from src.projection import *\n",
    "from src.interpolate import *\n",
    "from src.jaxops import *\n",
    "from src.algorithm import sgd, get_sgd_vol_ops, get_cg_vol_ops\n",
    "from src.algorithm import conjugate_gradient as cg\n",
    "from src.algorithm import oasis, oasis_adaptive\n",
    "from src.datasets import *\n",
    "from src.noise import estimate_noise, average_radially, estimate_noise_radial\n",
    "from src.preprocess import *\n",
    "from src.fsc import calc_fsc\n",
    "\n",
    "plt.rcParams[\"figure.figsize\"]=6,6"
   ]
  },
  {
   "cell_type": "code",
   "execution_count": 3,
   "id": "f6cf462f-fd62-4308-b856-2f9f3fa5a689",
   "metadata": {},
   "outputs": [
    {
     "data": {
      "text/plain": [
       "'0.3.24'"
      ]
     },
     "execution_count": 3,
     "metadata": {},
     "output_type": "execute_result"
    }
   ],
   "source": [
    "jax.__version__"
   ]
  },
  {
   "cell_type": "code",
   "execution_count": 4,
   "id": "339c1977",
   "metadata": {},
   "outputs": [
    {
     "name": "stdout",
     "output_type": "stream",
     "text": [
      "/gpfs/gibbs/project/lederman/bt387/simple_cryoem/nb\n"
     ]
    }
   ],
   "source": [
    "cd /home/bt387/project/simple_cryoem/nb"
   ]
  },
  {
   "cell_type": "code",
   "execution_count": 5,
   "id": "6568c2d1-797d-41f5-8922-979ce9151f8a",
   "metadata": {},
   "outputs": [
    {
     "name": "stderr",
     "output_type": "stream",
     "text": [
      "/home/bt387/project/2021_CryoEMSolver7/external/pyem/pyem/star.py:531: FutureWarning: Columnar iteration over characters will be deprecated in future releases.\n",
      "  df[UCSF.IMAGE_INDEX], df[UCSF.IMAGE_PATH] = \\\n",
      "/home/bt387/project/2021_CryoEMSolver7/external/pyem/pyem/star.py:539: FutureWarning: Columnar iteration over characters will be deprecated in future releases.\n",
      "  df[UCSF.IMAGE_ORIGINAL_INDEX], df[UCSF.IMAGE_ORIGINAL_PATH] = \\\n"
     ]
    },
    {
     "name": "stdout",
     "output_type": "stream",
     "text": [
      "load_data: number of partcles: 105519\n",
      "load_data: data loaded, time:  93.70 sec.\n"
     ]
    }
   ],
   "source": [
    "data_dir = \"/gpfs/gibbs/pi/lederman/dge5/CrossValidationCryodrgnSet/\"\n",
    "star_file = \"particles_crossvalidation_train_1.star\"\n",
    "\n",
    "params0, imgs0 = load_data(data_dir, star_file, load_imgs = True, fourier = False)"
   ]
  },
  {
   "cell_type": "code",
   "execution_count": 6,
   "id": "f624fcec-d52d-4f71-97c0-c99ca2b16376",
   "metadata": {},
   "outputs": [
    {
     "name": "stdout",
     "output_type": "stream",
     "text": [
      "[ 0 60]\n",
      "[ 18720  60093  53249 102196  43608  18973  24325  65695  39526  50914]\n"
     ]
    }
   ],
   "source": [
    "# Extract a subset with fixed seed key so that we always get the same subset.\n",
    "# Larger sets must be supersets of the smaller sets respectively.\n",
    "\n",
    "N0 = imgs0.shape[0]\n",
    "nx0 = imgs0.shape[1]\n",
    "\n",
    "subset_seed = 60\n",
    "subset_key = random.PRNGKey(subset_seed)\n",
    "idx_full = random.permutation(subset_key, N0)\n",
    "\n",
    "print(subset_key)\n",
    "print(idx_full[:10])"
   ]
  },
  {
   "cell_type": "code",
   "execution_count": 7,
   "id": "83b0531f-868d-424a-bd2b-363dd66b597c",
   "metadata": {},
   "outputs": [],
   "source": [
    "out_dir = out_dir = '../data/out_dev/'\n",
    "\n",
    "nx_crop = 192 #64 #8 #192 # 128 # 64\n",
    "N = 50000 #10000 #200 #104000 #80000 # 20000\n",
    "\n",
    "idx = idx_full[:N]"
   ]
  },
  {
   "cell_type": "code",
   "execution_count": 8,
   "id": "a109c7d5-532c-41ec-9cf4-40423c457931",
   "metadata": {},
   "outputs": [
    {
     "name": "stdout",
     "output_type": "stream",
     "text": [
      "imgs0.shape = (105519, 320, 320)\n",
      "pixel_size0.shape = (105519,)\n",
      "angles0.shape = (105519, 3)\n",
      "shifts0.shape = (105519, 2)\n",
      "ctf_params0.shape = (105519, 9)\n",
      "N0 = 105519\n",
      "idx provided\n",
      "N = 50000\n",
      "Taking FFT of the images:\n",
      "Batch 1/10  13.39 sec.\n",
      "Batch 2/10  13.36 sec.\n",
      "Batch 3/10  13.40 sec.\n",
      "Batch 4/10  13.30 sec.\n",
      "Batch 5/10  13.39 sec.\n",
      "Batch 6/10  13.40 sec.\n",
      "Batch 7/10  13.32 sec.\n",
      "Batch 8/10  13.31 sec.\n",
      "Batch 9/10  13.29 sec.\n",
      "Batch 10/10  13.32 sec.\n",
      "FFT done. Time:  165.96 sec.\n",
      "x_grid = [2.38549618e-03 3.20000000e+02]\n",
      "new x_grid = [2.38549618e-03 1.92000000e+02]\n",
      "Vectorised imgs_f.shape = (50000, 36864)\n",
      "Mask radius = 0.22662213740458012\n",
      "Noise free, setting sigma_noise = 1\n"
     ]
    }
   ],
   "source": [
    "processed_data = preprocess(imgs0, params0, nx_crop = nx_crop, idx = idx)\n",
    "\n",
    "imgs_f = processed_data[\"imgs_f\"]\n",
    "angles = processed_data[\"angles\"]\n",
    "shifts = processed_data[\"shifts\"]\n",
    "ctf_params = processed_data[\"ctf_params\"]"
   ]
  },
  {
   "cell_type": "code",
   "execution_count": 9,
   "id": "41cf3d6f-c675-4c75-b099-4567314bebeb",
   "metadata": {},
   "outputs": [],
   "source": [
    "# Assuming these variables are the same for all images\n",
    "\n",
    "pixel_size = processed_data[\"pixel_size\"]\n",
    "nx = processed_data[\"nx\"]\n",
    "mask = processed_data[\"mask\"]\n",
    "sigma_noise = processed_data[\"sigma_noise\"]\n",
    "x_grid = processed_data[\"x_grid\"]\n",
    "N = imgs_f.shape[0]"
   ]
  },
  {
   "cell_type": "code",
   "execution_count": 10,
   "id": "8f712166-e8f4-4f94-8523-b5adf8addb30",
   "metadata": {},
   "outputs": [
    {
     "data": {
      "text/plain": [
       "<matplotlib.colorbar.Colorbar at 0x2adcc9136be0>"
      ]
     },
     "execution_count": 10,
     "metadata": {},
     "output_type": "execute_result"
    },
    {
     "data": {
      "image/png": "[encoded data removed]",
      "text/plain": [
       "<Figure size 432x288 with 2 Axes>"
      ]
     },
     "metadata": {
      "needs_background": "light"
     },
     "output_type": "display_data"
    }
   ],
   "source": [
    "plt.imshow(jnp.fft.fftshift(jnp.abs(imgs_f[15].reshape([nx_crop,nx_crop]))));plt.colorbar()"
   ]
  },
  {
   "cell_type": "code",
   "execution_count": 11,
   "id": "2c7d5aa0-4f24-49b1-b4ec-a343c065dabe",
   "metadata": {},
   "outputs": [],
   "source": [
    "del(imgs0)"
   ]
  },
  {
   "cell_type": "markdown",
   "id": "3cdc7bca-a144-4276-9f46-8707eadf2acd",
   "metadata": {},
   "source": [
    "### Only volume reconstruction for now - SGD vs OASIS"
   ]
  },
  {
   "cell_type": "code",
   "execution_count": 12,
   "id": "25674ba2-f439-42aa-84b6-9337cd115c3a",
   "metadata": {},
   "outputs": [],
   "source": [
    "# Apply mask to images\n",
    "\n",
    "apply_mask = True\n",
    "\n",
    "if apply_mask:\n",
    "    mask2d = mask[0].reshape(-1)\n",
    "    imgs_f = imgs_f * mask2d\n",
    "else:\n",
    "    mask = jnp.ones(mask.shape)"
   ]
  },
  {
   "cell_type": "code",
   "execution_count": 13,
   "id": "166a133f-95cf-4b16-9ae3-c31ee86f625a",
   "metadata": {},
   "outputs": [
    {
     "data": {
      "image/png": "[encoded data removed]",
      "text/plain": [
       "<Figure size 864x432 with 3 Axes>"
      ]
     },
     "metadata": {
      "needs_background": "light"
     },
     "output_type": "display_data"
    }
   ],
   "source": [
    "plt.rcParams[\"figure.figsize\"]=12,6\n",
    "\n",
    "plt.subplot(1,2,1)\n",
    "plt.imshow(mask[0])\n",
    "\n",
    "plt.subplot(1,2,2)\n",
    "plt.imshow(jnp.fft.fftshift(jnp.abs(imgs_f[123].reshape([nx_crop,nx_crop]))));plt.colorbar()\n",
    "\n",
    "plt.rcParams[\"figure.figsize\"]=6,6"
   ]
  },
  {
   "cell_type": "markdown",
   "id": "79a987b4-1798-47ef-80dd-456b1a475ab7",
   "metadata": {},
   "source": [
    "### Compute a second mask to zero out exploding boundary pixels"
   ]
  },
  {
   "cell_type": "code",
   "execution_count": 14,
   "id": "35f35d62-2408-4d70-aa34-73f2854bb4fa",
   "metadata": {},
   "outputs": [
    {
     "ename": "NameError",
     "evalue": "name 'radius' is not defined",
     "output_type": "error",
     "traceback": [
      "\u001b[0;31m---------------------------------------------------------------------------\u001b[0m",
      "\u001b[0;31mNameError\u001b[0m                                 Traceback (most recent call last)",
      "Cell \u001b[0;32mIn [14], line 1\u001b[0m\n\u001b[0;32m----> 1\u001b[0m \u001b[43mradius\u001b[49m\n",
      "\u001b[0;31mNameError\u001b[0m: name 'radius' is not defined"
     ]
    }
   ],
   "source": [
    "radius"
   ]
  },
  {
   "cell_type": "code",
   "execution_count": 15,
   "id": "dad26ff4-ebd3-40fb-937a-ff85b729504c",
   "metadata": {},
   "outputs": [],
   "source": [
    "# Create mask\n",
    "centre = (0,0,0)\n",
    "if nx % 2 == 0:\n",
    "    radius = (x_grid[1]/2 - 1) * x_grid[0] \n",
    "else:\n",
    "    radius = (x_grid[1]-1)/2 * x_grid[0] \n",
    "mask1 = create_3d_mask(x_grid, centre, radius) * 1/2"
   ]
  },
  {
   "cell_type": "code",
   "execution_count": 16,
   "id": "8cd582b5-0c53-4749-9574-f07b46cc650e",
   "metadata": {},
   "outputs": [
    {
     "data": {
      "text/plain": [
       "<matplotlib.colorbar.Colorbar at 0x2adcc751beb0>"
      ]
     },
     "execution_count": 16,
     "metadata": {},
     "output_type": "execute_result"
    },
    {
     "data": {
      "image/png": "[encoded data removed]",
      "text/plain": [
       "<Figure size 432x432 with 2 Axes>"
      ]
     },
     "metadata": {
      "needs_background": "light"
     },
     "output_type": "display_data"
    }
   ],
   "source": [
    "radius2 = 9.5/10*radius\n",
    "mask2 = create_3d_mask(x_grid, centre, radius2)\n",
    "#plt.imshow(mask1[0] + mask2[0])\n",
    "plt.imshow(mask2[0])\n",
    "\n",
    "plt.colorbar()"
   ]
  },
  {
   "cell_type": "markdown",
   "id": "6e4f7f86-6725-4690-8133-ef4703766f9b",
   "metadata": {},
   "source": [
    "Use the same datasets, loss, grad, hvp, x0, D0 for SGD, OASIS (and CG)"
   ]
  },
  {
   "cell_type": "code",
   "execution_count": 17,
   "id": "b196626e-aeba-4072-b5a4-4b8b3b63d553",
   "metadata": {},
   "outputs": [
    {
     "data": {
      "text/plain": [
       "(50000, 36864)"
      ]
     },
     "execution_count": 17,
     "metadata": {},
     "output_type": "execute_result"
    }
   ],
   "source": [
    "imgs_f.shape"
   ]
  },
  {
   "cell_type": "code",
   "execution_count": 18,
   "id": "7814ad4e-ec4a-497d-8b87-f6610582fb55",
   "metadata": {},
   "outputs": [],
   "source": [
    "alpha =  1e-8 #1e-9 #1e-5 #1e-9 #1e-9 # 1e-5\n",
    "interp_method = \"tri\"\n",
    "\n",
    "slice_obj = Slice(x_grid, mask = mask, interp_method = interp_method)\n",
    "loss_obj = Loss(slice_obj, alpha = alpha)\n",
    "gradv_obj = GradV(loss_obj)\n",
    "\n",
    "grad_func, loss_func, hvp_func, loss_px_func = get_sgd_vol_ops(gradv_obj, loss_obj, angles, shifts, ctf_params, imgs_f, sigma_noise)"
   ]
  },
  {
   "cell_type": "code",
   "execution_count": null,
   "id": "6028284e-0a58-4769-ab19-516dac7a38bc",
   "metadata": {},
   "outputs": [],
   "source": [
    "n_epochs = 400 #3 #2000 * 4 \n",
    "batch_sz = 100\n",
    "n_batch = N // batch_sz\n",
    "\n",
    "zD0z = np.zeros([nx,nx,nx])\n",
    "\n",
    "#zD0z = [] \n",
    "\n",
    "key = random.PRNGKey(62)\n",
    "key, subkey = random.split(key)\n",
    "x0 = random.normal(subkey, [nx,nx,nx], dtype=jnp.complex128)\n",
    "\n",
    "for i in range(n_epochs):\n",
    "    print(f\"Epoch {i}\")\n",
    "    key, subkey = random.split(key)\n",
    "    idx_batches = np.array_split(random.permutation(subkey, N), n_batch)\n",
    "        \n",
    "    for idx in tqdm(idx_batches):\n",
    "        key, subkey = random.split(key)\n",
    "\n",
    "        #z = random.rademacher(subkey, [nx,nx,nx], dtype=x0.dtype)\n",
    "        z = random.normal(subkey, [nx,nx,nx], dtype=x0.dtype)\n",
    "\n",
    "\n",
    "        zD0z += z * hvp_func(x0, z, np.array(idx))\n",
    "\n",
    "        # Any more memory efficient way of doing this? The kernel dies :(\n",
    "        \n",
    "        # For some reason, passing idx without np.array doesn't work (it is\n",
    "        # considered to be tuple\n",
    "        #zD0z.append(z * hvp_func(x0, z, np.array(idx)))\n",
    "\n",
    "zD0z = np.array(zD0z)\n",
    "        \n",
    "#D0 = np.mean(zD0z, axis = 0)\n",
    "\n",
    "D0 = zD0z / (n_epochs * n_batch)\n",
    "\n",
    "plt.imshow(jnp.fft.fftshift(jnp.abs(D0[0,:,:]))); plt.colorbar()\n",
    "print(jnp.min(jnp.abs(D0)))\n",
    "print(jnp.max(jnp.abs(D0)))\n",
    "print(jnp.max(jnp.abs(D0))/jnp.min(jnp.abs(D0)))\n",
    "\n",
    "aaa=True"
   ]
  },
  {
   "cell_type": "code",
   "execution_count": 19,
   "id": "636137f8-99ea-4f44-84ff-e34dbe4d0e21",
   "metadata": {},
   "outputs": [],
   "source": [
    "# Save the preconditioner\n",
    "save_precon = False\n",
    "load_precon = True\n",
    "\n",
    "n_epochs = 400\n",
    "precon_filename = f\"{out_dir}/D0_{interp_method}_nx{nx}_N{N}_{n_epochs}epochs.npy\"\n",
    "\n",
    "if save_precon:\n",
    "    jnp.save(precon_filename, D0)\n",
    "\n",
    "if load_precon:\n",
    "    D0_loaded = jnp.load(precon_filename)\n",
    "    #assert(jnp.max(jnp.abs(D0-D0_loaded)) == 0)\n",
    "    D0 = D0_loaded"
   ]
  },
  {
   "cell_type": "code",
   "execution_count": 20,
   "id": "501d3366-3702-449f-b65f-ab160388e79a",
   "metadata": {},
   "outputs": [],
   "source": [
    "# Compute the sums term by term to have an idea of convergence\n",
    "compute_separate_terms = False\n",
    "\n",
    "if compute_separate_terms:\n",
    "    D0est = [zD0z[0]]\n",
    "    for i in tqdm(range(1, len(zD01z))):\n",
    "        D0est.append(D0est[-1] + zD0z[i])\n",
    "\n",
    "        #D0est[i] = D0est[i] / (i+1)\n",
    "\n",
    "    D0est = np.array([ Di / (i+1) for i, Di in enumerate(D01est)])"
   ]
  },
  {
   "cell_type": "code",
   "execution_count": 21,
   "id": "8921be6e-1f9d-4953-97be-3995037bb3ca",
   "metadata": {},
   "outputs": [],
   "source": [
    "if compute_separate_terms:\n",
    "    D0norm = []\n",
    "    for i in tqdm(range(len(D01est))):\n",
    "        D0norm.append(jnp.linalg.norm(D0est[i].reshape(-1), 2))"
   ]
  },
  {
   "cell_type": "code",
   "execution_count": 22,
   "id": "612e99ed-a6ec-4ed0-bbe2-ec30e821c583",
   "metadata": {},
   "outputs": [],
   "source": [
    "if compute_separate_terms:\n",
    "    assert(jnp.max(jnp.abs(D0est[-1] - D0)) == 0)"
   ]
  },
  {
   "cell_type": "code",
   "execution_count": 23,
   "id": "7c82ed2e-cace-499d-b589-8714d166f151",
   "metadata": {},
   "outputs": [],
   "source": [
    "# Compute the Hessian diagonals exactly (valid for NN interpolation) - do it in batches\n",
    "\n",
    "compute_hess_diag = False\n",
    "\n",
    "if compute_hess_diag:\n",
    "    batch_sz = 100\n",
    "    n_batch = N // batch_sz\n",
    "    idx_batches = np.array_split(np.arange(N), n_batch)\n",
    "    ones = jnp.ones(x0.shape, dtype=jnp.complex128)\n",
    "\n",
    "    D = np.zeros([nx,nx,nx], dtype=np.complex128)\n",
    "    for idx in idx_batches:\n",
    "        D += hvp_func(x0, ones, idx)\n",
    "\n",
    "    D = jnp.array(D/n_batch)"
   ]
  },
  {
   "cell_type": "code",
   "execution_count": 24,
   "id": "98e2de26-2e9b-4e07-bd8d-313bc427a6c8",
   "metadata": {},
   "outputs": [],
   "source": [
    "if compute_hess_diag:\n",
    "    plt.imshow(jnp.fft.fftshift(jnp.abs(D0[0,:,:]))); plt.colorbar()\n",
    "    print(jnp.min(jnp.abs(D)))\n",
    "    print(jnp.max(jnp.abs(D)))\n",
    "    print(jnp.max(jnp.abs(D))/jnp.min(jnp.abs(D)))"
   ]
  },
  {
   "cell_type": "code",
   "execution_count": 25,
   "id": "4162f6ba-b215-415b-9f06-48bd1a08e970",
   "metadata": {},
   "outputs": [],
   "source": [
    "if compute_hess_diag:\n",
    "    err1 = jnp.max(jnp.abs(D-D0)/jnp.max(jnp.abs(D)))\n",
    "    print(f\"Error D = {err1}\")"
   ]
  },
  {
   "cell_type": "code",
   "execution_count": 26,
   "id": "76f951a8-c14b-4ff8-bd32-fe8a0edbe76f",
   "metadata": {},
   "outputs": [],
   "source": [
    "if compute_separate_terms:\n",
    "    err_D = [ jnp.max(jnp.abs(D - Di))/jnp.max(jnp.abs(D)) for Di in D0est ]\n",
    "\n",
    "    #err_D = [ jnp.max(jnp.abs(D - Di)) for Di in D0est ]\n",
    "    \n",
    "    plt.subplot(1,2,1)\n",
    "    plt.semilogy(err_D)\n",
    "    \n",
    "    plt.subplot(1,2,2)\n",
    "    errr = jnp.abs(jnp.array(D0norm))\n",
    "    plt.semilogy(errr)"
   ]
  },
  {
   "cell_type": "markdown",
   "id": "a298b250-f953-4497-beb9-cc6906e3cb81",
   "metadata": {},
   "source": [
    "#### Sanity check that the Hessian is indeed diagonal for NN interpolation and that I'm computing it correctly"
   ]
  },
  {
   "cell_type": "code",
   "execution_count": null,
   "id": "660db5c2-2800-4fbd-acc9-c82230ed07df",
   "metadata": {},
   "outputs": [],
   "source": [
    "ei = jnp.zeros([nx,nx,nx], dtype = jnp.complex128)\n",
    "ei = ei.at[0,2,1].set(1)\n",
    "hvp = hvp_func(x0, ei, np.array([23, 1, 0, 6]))\n",
    "plt.imshow(jnp.fft.fftshift(jnp.abs(hvp[0,:,:]))); plt.colorbar()"
   ]
  },
  {
   "cell_type": "code",
   "execution_count": null,
   "id": "53967d76-777d-4feb-b78a-cbf9c3050a78",
   "metadata": {},
   "outputs": [],
   "source": [
    "if interp_method == \"nn\":\n",
    "    print(\"Checking\")\n",
    "    assert(jnp.abs(hvp[0,2,1] - jnp.sum(hvp)) == 0)"
   ]
  },
  {
   "cell_type": "code",
   "execution_count": null,
   "id": "db7393d3-a05e-4e50-8b79-574874843351",
   "metadata": {},
   "outputs": [],
   "source": [
    "ones = jnp.ones(x0.shape, dtype=jnp.complex128)\n",
    "hvp_diag = hvp_func(x0, ones, np.array([23, 1, 0, 6]))\n",
    "plt.imshow(jnp.fft.fftshift(jnp.abs(hvp_diag[0,:,:]))); plt.colorbar()"
   ]
  },
  {
   "cell_type": "code",
   "execution_count": null,
   "id": "b6f6e784-4d68-4be7-8a2b-c4f412ce1175",
   "metadata": {},
   "outputs": [],
   "source": [
    "if interp_method == \"nn\":\n",
    "    print(\"Checking\")\n",
    "    assert(jnp.abs(hvp[0,2,1] - hvp_diag[0,2,1]) == 0)"
   ]
  },
  {
   "cell_type": "markdown",
   "id": "228fae66-46dc-413b-86e0-54fa3d755fcb",
   "metadata": {},
   "source": [
    "### Compute full Hessian (only for small operators)"
   ]
  },
  {
   "cell_type": "code",
   "execution_count": 27,
   "id": "915f87e5-5b81-4701-bfdc-9944c81cb8de",
   "metadata": {},
   "outputs": [],
   "source": [
    "compute_full_hessian = False"
   ]
  },
  {
   "cell_type": "code",
   "execution_count": 28,
   "id": "4dcfbcbe-7732-4a11-8c2d-dc6e6675c40f",
   "metadata": {},
   "outputs": [],
   "source": [
    "if compute_full_hessian:\n",
    "    print(\"Computing Hessian...\", end=\"\")\n",
    "    H = jax.hessian(lambda x : loss_func(x, np.arange(10)))(jnp.real(x0))\n",
    "    print(\"done.\")\n",
    "    H = H.reshape([nx**3, nx**3])\n",
    "    \n",
    "    print(\"Computing Hessian inverse...\", end=\"\")\n",
    "    Hinv = jnp.linalg.inv(H)\n",
    "    print(\"done.\")\n",
    "\n",
    "    "
   ]
  },
  {
   "cell_type": "code",
   "execution_count": 29,
   "id": "e6a4f304-b9db-4cb6-8822-ee57b6d2bc35",
   "metadata": {},
   "outputs": [],
   "source": [
    "if compute_full_hessian:\n",
    "    plt.rcParams[\"figure.figsize\"]=24,24\n",
    "\n",
    "    plt.imshow((jnp.abs(Hinv)))\n",
    "    plt.colorbar()"
   ]
  },
  {
   "cell_type": "code",
   "execution_count": 30,
   "id": "d8b92824-de21-4f1f-a65e-1338e5bac6c9",
   "metadata": {},
   "outputs": [],
   "source": [
    "if compute_full_hessian:\n",
    "    plt.imshow((H[:nx*3,:nx*3])); plt.colorbar()\n"
   ]
  },
  {
   "cell_type": "code",
   "execution_count": 31,
   "id": "efa78ab6-f093-407f-a98a-9952296954cb",
   "metadata": {},
   "outputs": [],
   "source": [
    "if compute_full_hessian:\n",
    "\n",
    "    plt.rcParams[\"figure.figsize\"]=12,12\n",
    "\n",
    "    plt.imshow((Hlog[nx**2:2*nx**2,nx**2:2*nx**2])); plt.colorbar()\n",
    "\n",
    "    plt.rcParams[\"figure.figsize\"]=6,6"
   ]
  },
  {
   "cell_type": "code",
   "execution_count": 32,
   "id": "eacf4cd1-4dce-4647-ace5-3391242b4a8d",
   "metadata": {},
   "outputs": [],
   "source": [
    "if compute_full_hessian:\n",
    "    plt.rcParams[\"figure.figsize\"]=12,12\n",
    "\n",
    "    plt.imshow((Hlog[:2*nx , :nx*2])); plt.colorbar()\n",
    "    #plt.imshow((Hki)); #plt.colorbar()\n",
    "\n",
    "    plt.rcParams[\"figure.figsize\"]=6,6"
   ]
  },
  {
   "cell_type": "markdown",
   "id": "ca55fc2c-5d62-490b-af7a-df17faab3744",
   "metadata": {},
   "source": [
    "### Inititial points"
   ]
  },
  {
   "cell_type": "code",
   "execution_count": 58,
   "id": "b1f37217-ff9f-4a09-952f-1faea3fe29ed",
   "metadata": {},
   "outputs": [
    {
     "name": "stdout",
     "output_type": "stream",
     "text": [
      "[[[-0.37767704-0.82574715j  0.56289944-1.94969685j]\n",
      "  [-0.7794795 -1.39959255j -0.18751101-0.50461654j]]\n",
      "\n",
      " [[-0.28829522+0.87826051j  0.22657018-0.1993285j ]\n",
      "  [ 0.459454  +0.70868103j -0.38079872+0.73749644j]]]\n",
      "PRNGKey = [  0 101]\n"
     ]
    }
   ],
   "source": [
    "# Use a fixed seed and the same size (e.g. 320) every time we generate x01 and x02\n",
    "# and only then crop to the intended size, to ensure that we always generate the same starting \n",
    "# points no matter the dimensions.\n",
    "\n",
    "key = random.PRNGKey(64)\n",
    "key, subkey = random.split(key)\n",
    "\n",
    "x0 = random.normal(subkey, [320,320,320], dtype = jnp.complex128)\n",
    "\n",
    "x0 = x0[:nx, :nx, :nx]\n",
    "\n",
    "key_alg = random.PRNGKey(101)\n",
    "\n",
    "print(x0[:2,:2,:2])\n",
    "print(f\"PRNGKey = {key_alg}\")"
   ]
  },
  {
   "cell_type": "markdown",
   "id": "88047d6f-804d-43c7-9377-2a9f6816c606",
   "metadata": {},
   "source": [
    "#### SGD no precon"
   ]
  },
  {
   "cell_type": "code",
   "execution_count": 59,
   "id": "9541c479-c274-41eb-8fc7-612da2e56705",
   "metadata": {},
   "outputs": [],
   "source": [
    "N_epochs = 10\n",
    "batch_size = 1000\n",
    "step_size = 10\n",
    "c = 0.99"
   ]
  },
  {
   "cell_type": "code",
   "execution_count": null,
   "id": "c6070e22-f729-431f-966d-bec1fe905820",
   "metadata": {},
   "outputs": [],
   "source": [
    "P = None\n",
    "\n",
    "t0 = time.time()\n",
    "\n",
    "v_rec_tmp, loss_rec_tmp, grad_rec_tmp, iterates_rec_tmp, step_sizes_rec_tmp = sgd(key_alg, grad_func, loss_func, N, x0, step_size, N_epochs, batch_size, P = P, adaptive_step_size = True, c = c, verbose=True, iter_display=1)\n",
    "\n",
    "print(f\"Total time: {time.time()-t0 : .2f} seconds\")"
   ]
  },
  {
   "cell_type": "code",
   "execution_count": null,
   "id": "f2a3c937-4611-4c2d-a982-03ee79fa012e",
   "metadata": {},
   "outputs": [],
   "source": [
    "v_rec, loss_rec, grad_rec, iterates_rec, step_sizes_rec = v_rec_tmp, loss_rec_tmp, grad_rec_tmp, iterates_rec_tmp, step_sizes_rec_tmp\n",
    "\n",
    "del(v_rec_tmp)\n",
    "del(loss_rec_tmp)\n",
    "del(grad_rec_tmp)\n",
    "del(iterates_rec_tmp)\n",
    "del(step_sizes_rec_tmp)"
   ]
  },
  {
   "cell_type": "code",
   "execution_count": null,
   "id": "0e35293a-5ac4-4838-a3ee-e6966b91e5a2",
   "metadata": {},
   "outputs": [],
   "source": [
    "plt.semilogy(loss_rec, 'r')"
   ]
  },
  {
   "cell_type": "code",
   "execution_count": null,
   "id": "ce5d41c3-633e-46f8-bc68-fedffd243a15",
   "metadata": {},
   "outputs": [],
   "source": [
    "plt.rcParams[\"figure.figsize\"]=6,6\n",
    "\n",
    "mip_z(np.fft.fftshift(np.abs(v_rec))); plt.colorbar()"
   ]
  },
  {
   "cell_type": "code",
   "execution_count": null,
   "id": "d0d7877c-3a1a-424e-bc9d-0f23b9101cbc",
   "metadata": {},
   "outputs": [],
   "source": [
    "v_rec_l, _ = rescale_larger_grid(v_rec, x_grid, nx0)\n",
    "vr_sgd = jnp.real(jnp.fft.fftshift(jnp.fft.ifftn(v_rec_l)))\n",
    "\n",
    "mip_z(vr_sgd)\n",
    "plt.colorbar()\n"
   ]
  },
  {
   "cell_type": "code",
   "execution_count": null,
   "id": "b799a8fe-ff5c-4821-b2a3-805e002cb15a",
   "metadata": {},
   "outputs": [],
   "source": [
    "with mrcfile.new(f\"{out_dir}/v_rec_sgd_nx0.mrc\", overwrite=True) as mrc:\n",
    "    mrc.set_data(vr_sgd.astype(np.float32))\n",
    "\n",
    "vr_sgd_nx = jnp.real(jnp.fft.fftshift(jnp.fft.ifftn(v_rec)))\n",
    "\n",
    "with mrcfile.new(f\"{out_dir}/v_rec_sgd_nx.mrc\", overwrite=True) as mrc:\n",
    "    mrc.set_data(vr_sgd_nx.astype(np.float32))"
   ]
  },
  {
   "cell_type": "code",
   "execution_count": null,
   "id": "4d41ab91-f201-413e-afb7-740995905a05",
   "metadata": {},
   "outputs": [],
   "source": [
    "# or load\n",
    "load_rec = True\n",
    "\n",
    "if load_rec:\n",
    "    with mrcfile.open(f\"{out_dir}/v_rec_sgd_nx.mrc\") as mrc:\n",
    "        vr_sgd_loaded = mrc.data\n",
    "\n",
    "    v_rec_loaded = jnp.fft.fftn(jnp.fft.fftshift((vr_sgd_loaded)))"
   ]
  },
  {
   "cell_type": "code",
   "execution_count": null,
   "id": "19858211-422b-4afc-8195-ca8ab6e18e07",
   "metadata": {},
   "outputs": [],
   "source": [
    "vrerr = jnp.abs(v_rec - v_rec_loaded)\n",
    "print(jnp.max(vrerr)/jnp.max(jnp.abs(v_rec)))\n",
    "print(jnp.mean(vrerr)/jnp.max(jnp.abs(v_rec)))"
   ]
  },
  {
   "cell_type": "markdown",
   "id": "3b176399-55c1-4bda-a79b-13d509477c4d",
   "metadata": {},
   "source": [
    "### A full dataset loss and grad function, and pixel-wise versions too"
   ]
  },
  {
   "cell_type": "code",
   "execution_count": null,
   "id": "850e728c-aab7-44b9-b365-2e9892707b49",
   "metadata": {},
   "outputs": [],
   "source": [
    "def loss_full_func(x, idx_arg): \n",
    "    idx_batches = np.array_split(idx_arg, 20)\n",
    "\n",
    "    loss = 0\n",
    "    n = 0\n",
    "    for idx in idx_batches:\n",
    "        loss += loss_func(x, idx)\n",
    "        n += 1\n",
    "    loss = loss/n\n",
    "    return loss\n",
    "\n",
    "def grad_full_func(x, idx_arg): \n",
    "    idx_batches = np.array_split(idx_arg, 20)\n",
    "\n",
    "    grad = np.zeros(x0.shape)\n",
    "    n = 0\n",
    "    for idx in idx_batches:\n",
    "        grad += grad_func(x, idx)\n",
    "        n += 1\n",
    "    grad = grad/n\n",
    "    return grad\n",
    "\n",
    "def loss_full_px_func(x, idx_arg): \n",
    "    idx_batches = np.array_split(idx_arg, 20)\n",
    "\n",
    "    loss = np.zeros((nx*nx,))\n",
    "    n = 0\n",
    "    for idx in idx_batches:\n",
    "        loss += loss_px_func(x, idx)\n",
    "        n += 1\n",
    "    loss = loss/n\n",
    "    return loss"
   ]
  },
  {
   "cell_type": "markdown",
   "id": "403fbcd2-4bbe-4c64-a4ac-9f20fdc8de25",
   "metadata": {},
   "source": [
    "### SGD preconditioned + adaptive"
   ]
  },
  {
   "cell_type": "code",
   "execution_count": 126,
   "id": "126b91a5-42c3-4859-872c-3252b758ddbe",
   "metadata": {},
   "outputs": [],
   "source": [
    "N_epochs = 10\n",
    "batch_size = 1000\n",
    "step_size = 1\n",
    "c = 0.9"
   ]
  },
  {
   "cell_type": "code",
   "execution_count": 127,
   "id": "5e012b93-f21d-448c-a78f-2f09a2e41341",
   "metadata": {},
   "outputs": [
    {
     "data": {
      "text/plain": [
       "<matplotlib.image.AxesImage at 0x2adcd682b2b0>"
      ]
     },
     "execution_count": 127,
     "metadata": {},
     "output_type": "execute_result"
    },
    {
     "data": {
      "image/png": "[encoded data removed]",
      "text/plain": [
       "<Figure size 432x432 with 1 Axes>"
      ]
     },
     "metadata": {
      "needs_background": "light"
     },
     "output_type": "display_data"
    }
   ],
   "source": [
    "plt.imshow(mask2[:,:,0])"
   ]
  },
  {
   "cell_type": "markdown",
   "id": "f0d40be1-474e-4ec0-b17f-1ef99705337e",
   "metadata": {},
   "source": [
    "## NEXT IF THIS DOES NOT WORK: REDUCE c TO 0.90 AND RERUN AS IS. ACTUALLY RUNNING THAT NOW"
   ]
  },
  {
   "cell_type": "markdown",
   "id": "f2e16e76-92bc-4856-9a95-b219f92d9601",
   "metadata": {},
   "source": [
    "## ALSO: run the non-preconditioned SGD with the mask too so we can compare the loss fairly"
   ]
  },
  {
   "cell_type": "code",
   "execution_count": null,
   "id": "abf1d497-cd61-44f2-ba3b-8d9b22fe5b7c",
   "metadata": {},
   "outputs": [
    {
     "name": "stdout",
     "output_type": "stream",
     "text": [
      "Epoch 1/10 "
     ]
    },
    {
     "name": "stderr",
     "output_type": "stream",
     "text": [
      "100%|██████████| 50/50 [09:43<00:00, 11.67s/it, alpha=4.547e-13, grad=2.323e+01, loss=1.580e+09]\n"
     ]
    },
    {
     "name": "stdout",
     "output_type": "stream",
     "text": [
      "  |Grad| = 2.264e+01\n",
      "  Loss = 1.583e+09\n",
      "  alpha = 4.547473508864641e-13\n",
      "Epoch 2/10 "
     ]
    },
    {
     "name": "stderr",
     "output_type": "stream",
     "text": [
      " 74%|███████▍  | 37/50 [14:44<05:53, 27.23s/it, alpha=4.547e-13, grad=2.344e+01, loss=1.581e+09]"
     ]
    }
   ],
   "source": [
    "# for Tri + big data, I couldn't make the preconditioned work at all. Probably bad preconditioner??\n",
    "\n",
    "P = 1/D0\n",
    "\n",
    "t0 = time.time()\n",
    "\n",
    "v_p_rec_tmp, loss_p_rec1000_tmp, grad_p_rec_tmp, iterates_p_rec1000_tmp, step_sizes1000_tmp = sgd(key_alg, grad_func, loss_func, N, x0, step_size, N_epochs, batch_size, P = P, adaptive_step_size = True, c = c, verbose=True, iter_display=1, mask=mask2)\n",
    "#v_p_rec, loss_p_rec5000, grad_p_rec, iterates_p_rec5000 = sgd(key_alg, grad_full_func, loss_full_func, N, x0, step_size, N_epochs, batch_size, P = P, adaptive_step_size = True, c = c, verbose=True, iter_display=1, mask=mask2)\n",
    "\n",
    "print(f\"Total time: {time.time()-t0 : .2f} seconds\")"
   ]
  },
  {
   "cell_type": "code",
   "execution_count": null,
   "id": "3219e719-b147-4b92-bab5-a225a992f702",
   "metadata": {},
   "outputs": [],
   "source": [
    "# Doing this tmp thing in case of KeyboardInterrupt of the algorithm\n",
    "v_p_rec, loss_p_rec1000, grad_p_rec, iterates_p_rec1000, step_sizes1000 = v_p_rec_tmp, loss_p_rec1000_tmp, grad_p_rec_tmp, iterates_p_rec1000_tmp, step_sizes1000_tmp\n",
    "\n",
    "# Delete to not fill the (GPU) memory with tmp variables, especially the iterates\n",
    "del(v_p_rec_tmp)\n",
    "del(loss_p_rec1000_tmp)\n",
    "del(grad_p_rec_tmp)\n",
    "del(iterates_p_rec1000_tmp)\n",
    "del(step_sizes1000_tmp)"
   ]
  },
  {
   "cell_type": "code",
   "execution_count": 94,
   "id": "70611afa-776a-43cd-8cb8-df26cfc651ad",
   "metadata": {},
   "outputs": [],
   "source": [
    "# Don't touch these for now. It's the baseline while investigating the spikes\n",
    "\n",
    "#v_p_rec_pre, loss_p_rec1000_pre, grad_p_rec_pre, iterates_p_rec1000_pre, step_sizes1000_pre = v_p_rec, loss_p_rec1000, grad_p_rec, iterates_p_rec1000, step_sizes1000\n"
   ]
  },
  {
   "cell_type": "code",
   "execution_count": 95,
   "id": "981780b3-279a-4b26-9155-dacb1e18fee2",
   "metadata": {},
   "outputs": [
    {
     "data": {
      "text/plain": [
       "11"
      ]
     },
     "execution_count": 95,
     "metadata": {},
     "output_type": "execute_result"
    }
   ],
   "source": [
    "len(iterates_p_rec1000)"
   ]
  },
  {
   "cell_type": "code",
   "execution_count": 96,
   "id": "17803615-513e-45e7-a73d-92505b32a9bc",
   "metadata": {},
   "outputs": [
    {
     "data": {
      "text/plain": [
       "2"
      ]
     },
     "execution_count": 96,
     "metadata": {},
     "output_type": "execute_result"
    }
   ],
   "source": [
    "len(iterates_p_rec1000_tmp)"
   ]
  },
  {
   "cell_type": "code",
   "execution_count": 114,
   "id": "357b1ab0-edbc-406c-a69d-4f54c6ca431f",
   "metadata": {},
   "outputs": [
    {
     "data": {
      "text/plain": [
       "<matplotlib.colorbar.Colorbar at 0x2adccf651430>"
      ]
     },
     "execution_count": 114,
     "metadata": {},
     "output_type": "execute_result"
    },
    {
     "data": {
      "image/png": "[encoded data removed]",
      "text/plain": [
       "<Figure size 432x432 with 2 Axes>"
      ]
     },
     "metadata": {
      "needs_background": "light"
     },
     "output_type": "display_data"
    }
   ],
   "source": [
    "plt.imshow(jnp.fft.fftshift(jnp.abs(iterates_p_rec1000_tmp[1][0])))\n",
    "plt.colorbar()"
   ]
  },
  {
   "cell_type": "code",
   "execution_count": 117,
   "id": "5a8c1476-6c3c-40e5-9b51-a684a53fee49",
   "metadata": {},
   "outputs": [
    {
     "data": {
      "text/plain": [
       "[<matplotlib.lines.Line2D at 0x2adccf7e2a60>]"
      ]
     },
     "execution_count": 117,
     "metadata": {},
     "output_type": "execute_result"
    },
    {
     "data": {
      "image/png": "[encoded data removed]",
      "text/plain": [
       "<Figure size 432x432 with 1 Axes>"
      ]
     },
     "metadata": {
      "needs_background": "light"
     },
     "output_type": "display_data"
    }
   ],
   "source": [
    "plt.semilogy(loss_p_rec1000_pre)\n",
    "plt.semilogy(loss_p_rec1000_tmp)\n"
   ]
  },
  {
   "cell_type": "code",
   "execution_count": 125,
   "id": "13422057-2b4a-433f-ac43-4b701c68e542",
   "metadata": {},
   "outputs": [
    {
     "data": {
      "text/plain": [
       "[<matplotlib.lines.Line2D at 0x2adcd67a4d00>]"
      ]
     },
     "execution_count": 125,
     "metadata": {},
     "output_type": "execute_result"
    },
    {
     "data": {
      "image/png": "[encoded data removed]",
      "text/plain": [
       "<Figure size 432x432 with 1 Axes>"
      ]
     },
     "metadata": {
      "needs_background": "light"
     },
     "output_type": "display_data"
    }
   ],
   "source": [
    "plt.semilogy(step_sizes1000_pre[:150])\n",
    "plt.semilogy(step_sizes1000_tmp[:150])"
   ]
  },
  {
   "cell_type": "code",
   "execution_count": null,
   "id": "de9cdbef-a20f-4a97-bd54-dc794f737600",
   "metadata": {},
   "outputs": [],
   "source": [
    "#plt.semilogy(loss_rec)\n",
    "#plt.semilogy(loss_p_rec)\n",
    "#plt.legend(['SGD', 'SGD + p'])"
   ]
  },
  {
   "cell_type": "code",
   "execution_count": null,
   "id": "a94836fc-39b2-4dd8-ac26-e3053e504504",
   "metadata": {},
   "outputs": [],
   "source": [
    "plt.semilogy(loss_rec)\n",
    "plt.semilogy(loss_p_rec1000)\n",
    "plt.semilogy(loss_p_rec2000)\n",
    "#plt.semilogy(loss_p_rec3000)\n",
    "#plt.semilogy(loss_p_rec5000)\n",
    "#plt.semilogy(loss_p_rec10000)\n",
    "#plt.legend(['SGD batch 1000', 'SGD + p batch=1000', 'SGD + p batch=2000', 'SGD + p batch=3000', 'SGD + p batch=5000', 'SGD + p batch=10000'])\n",
    "plt.legend(['sgd', 'sgd+p 1000', 'sgd+p 2000'])\n"
   ]
  },
  {
   "cell_type": "code",
   "execution_count": null,
   "id": "7b7979a2-1e7f-4cfa-b653-f99d576f017b",
   "metadata": {},
   "outputs": [],
   "source": [
    "loss_p_rec5000[-1]"
   ]
  },
  {
   "cell_type": "code",
   "execution_count": null,
   "id": "9944a185-47dd-46e8-8dc5-5053d0720599",
   "metadata": {},
   "outputs": [],
   "source": [
    "idx_iter = 10\n",
    "thresh = 6000\n",
    "vvv = iterates_p_rec1000[idx_iter].at[jnp.abs(iterates_p_rec1000[idx_iter]) > thresh].set(0)\n",
    "mip_z(jnp.fft.fftshift(jnp.abs(vvv))); plt.colorbar()\n",
    "\n",
    "print(jnp.sum(jnp.abs(iterates_p_rec1000[idx_iter]) > thresh))"
   ]
  },
  {
   "cell_type": "code",
   "execution_count": null,
   "id": "438d3e9a-17e9-407d-9b70-9e99af924e1b",
   "metadata": {},
   "outputs": [],
   "source": [
    "v_p_rec_l, _ = rescale_larger_grid(vvv, x_grid, nx0)\n",
    "vr_sgd_p = jnp.real(jnp.fft.fftshift(jnp.fft.ifftn(v_p_rec_l)))\n",
    "\n",
    "mip_z(vr_sgd_p)\n",
    "plt.colorbar()\n"
   ]
  },
  {
   "cell_type": "code",
   "execution_count": null,
   "id": "dfd7cc2d-69f5-4eb9-a388-28d4cec6b1b8",
   "metadata": {},
   "outputs": [],
   "source": [
    "with mrcfile.new(f\"{out_dir}/v_rec_sgd_p_nx0.mrc\", overwrite=True) as mrc:\n",
    "    mrc.set_data(vr_sgd_p.astype(np.float32))\n",
    "    \n",
    "vr_sgd_p_nx = jnp.real(jnp.fft.fftshift(jnp.fft.ifftn(v_p_rec)))\n",
    "\n",
    "with mrcfile.new(f\"{out_dir}/v_rec_sgd_p_nx.mrc\", overwrite=True) as mrc:\n",
    "    mrc.set_data(vr_sgd_p_nx.astype(np.float32))"
   ]
  },
  {
   "cell_type": "code",
   "execution_count": null,
   "id": "e9617145-6e1e-4c18-9108-51a0d8e0775e",
   "metadata": {},
   "outputs": [],
   "source": [
    "# or load\n",
    "load_rec = False\n",
    "\n",
    "if load_rec:\n",
    "    with mrcfile.open(f\"{out_dir}/v_rec_sgd_p_nx.mrc\") as mrc:\n",
    "        vr_sgd_p_loaded = mrc.data\n",
    "\n",
    "    v_p_rec_loaded = jnp.fft.fftn(jnp.fft.fftshift((vr_sgd_p_loaded)))\n",
    "    \n",
    "    vrerr = jnp.abs(v_p_rec - v_p_rec_loaded)\n",
    "    print(jnp.max(vrerr)/jnp.max(jnp.abs(v_p_rec)))\n",
    "    print(jnp.mean(vrerr)/jnp.max(jnp.abs(v_p_rec)))"
   ]
  },
  {
   "cell_type": "markdown",
   "id": "85831515-ed5d-4775-b230-3ef726d1fb42",
   "metadata": {},
   "source": [
    "### Save/Load all the iterates"
   ]
  },
  {
   "cell_type": "code",
   "execution_count": null,
   "id": "86c82b0b-4b81-41f1-94a5-2c244696a648",
   "metadata": {},
   "outputs": [],
   "source": [
    "save_iterates = False\n",
    "load_iterates = True\n",
    "\n",
    "iterates_file_root = f\"{out_dir}/iterates/\"\n",
    "\n",
    "\n",
    "if save_iterates:\n",
    "    jnp.save(f\"{iterates_file_root}/iterates_rec.npy\", iterates_rec)\n",
    "    jnp.save(f\"{iterates_file_root}/iterates_rec_loss.npy\", loss_rec)\n",
    "\n",
    "    jnp.save(f\"{iterates_file_root}/iterates_p_rec1000.npy\", iterates_p_rec1000)\n",
    "    jnp.save(f\"{iterates_file_root}/iterates_p_rec1000_loss.npy\", loss_p_rec1000)\n",
    "\n",
    "    jnp.save(f\"{iterates_file_root}/iterates_p_rec2000.npy\", iterates_p_rec2000)\n",
    "    jnp.save(f\"{iterates_file_root}/iterates_p_rec2000_loss.npy\", loss_p_rec2000)\n",
    "\n",
    "    jnp.save(f\"{iterates_file_root}/iterates_p_rec5000.npy\", iterates_p_rec5000)\n",
    "    jnp.save(f\"{iterates_file_root}/iterates_p_rec5000_loss.npy\", loss_p_rec5000)\n",
    "\n",
    "    \n",
    "if load_iterates:\n",
    "    iterates_rec_loaded = jnp.load(f\"{iterates_file_root}/iterates_rec.npy\")\n",
    "    loss_rec_loaded = jnp.load(f\"{iterates_file_root}/iterates_rec_loss.npy\")\n",
    "\n",
    "    #assert(jnp.max(jnp.abs(iterates_rec_loaded - jnp.array(iterates_rec))) == 0)\n",
    "    #assert(jnp.max(jnp.abs(loss_rec_loaded - loss_rec)) == 0)\n",
    "    \n",
    "    #del(iterates_rec_loaded)\n",
    "    #del(loss_rec_loaded)\n",
    "    \n",
    "    iterates_p_rec2000_loaded = jnp.load(f\"{iterates_file_root}/iterates_p_rec2000.npy\")\n",
    "    loss_p_rec2000_loaded = jnp.load(f\"{iterates_file_root}/iterates_p_rec2000_loss.npy\")\n",
    "    \n",
    "    #assert(jnp.max(jnp.abs(iterates_p_rec2000_loaded - jnp.array(iterates_p_rec2000))) == 0)\n",
    "    #assert(jnp.max(jnp.abs(loss_p_rec2000_loaded - loss_p_rec2000)) == 0)\n",
    "    \n",
    "    #del(iterates_p_rec2000_loaded)\n",
    "    #del(loss_p_rec2000_loaded)\n",
    "    \n",
    "    iterates_p_rec1000_loaded = jnp.load(f\"{iterates_file_root}/iterates_p_rec1000.npy\")\n",
    "    loss_p_rec1000_loaded = jnp.load(f\"{iterates_file_root}/iterates_p_rec1000_loss.npy\")\n",
    "    \n",
    "    iterates_p_rec5000_loaded = jnp.load(f\"{iterates_file_root}/iterates_p_rec5000.npy\")\n",
    "    loss_p_rec5000_loaded = jnp.load(f\"{iterates_file_root}/iterates_p_rec5000_loss.npy\")"
   ]
  },
  {
   "cell_type": "code",
   "execution_count": null,
   "id": "40184c8e-aa02-4b7f-a8a7-f985f80d8328",
   "metadata": {},
   "outputs": [],
   "source": [
    "iterates_rec = iterates_rec_loaded\n",
    "iterates_p_rec1000 = iterates_p_rec1000_loaded\n",
    "iterates_p_rec2000 = iterates_p_rec2000_loaded\n",
    "iterates_p_rec5000 = iterates_p_rec5000_loaded\n",
    "\n",
    "loss_rec = loss_rec_loaded\n",
    "loss_p_rec1000 = loss_p_rec1000_loaded\n",
    "loss_p_rec2000 = loss_p_rec2000_loaded\n",
    "loss_p_rec5000 = loss_p_rec5000_loaded"
   ]
  },
  {
   "cell_type": "code",
   "execution_count": null,
   "id": "9f37cb2e-7e75-4286-91c6-b5381a189585",
   "metadata": {},
   "outputs": [],
   "source": [
    "plt.semilogy(loss_rec)\n",
    "plt.semilogy(loss_p_rec1000)\n",
    "plt.semilogy(loss_p_rec2000)\n",
    "plt.semilogy(loss_p_rec5000)\n",
    "plt.legend(['sgd', 'sgd+p 1000', 'sgd+p 2000', 'sgd+p 5000'])\n"
   ]
  },
  {
   "cell_type": "markdown",
   "id": "680e8ce1-e9b0-4021-b580-e7f6fa005d3a",
   "metadata": {},
   "source": [
    "### Diagnostics"
   ]
  },
  {
   "cell_type": "markdown",
   "id": "276de827-d051-438a-bdc2-dd398f3e2732",
   "metadata": {},
   "source": [
    "#### Recompute the losses using the individual iterates to make sure they agree with what the algorithm outputs"
   ]
  },
  {
   "cell_type": "code",
   "execution_count": null,
   "id": "9aa3cfa0-82f1-4652-b9a4-09eba8d9682a",
   "metadata": {},
   "outputs": [],
   "source": [
    "loss_rec_post = []\n",
    "for i, vv in enumerate(iterates_rec):\n",
    "    print(f\"Iter {i}  \", end=\"\")\n",
    "    t0 = time.time()\n",
    "    loss_rec_post.append(loss_full_func(vv, jnp.arange(N)))\n",
    "    t1 = time.time() - t0\n",
    "    print(t1)"
   ]
  },
  {
   "cell_type": "code",
   "execution_count": null,
   "id": "6ceb2f88-f2d2-484f-bdfa-58f097d82fdf",
   "metadata": {},
   "outputs": [],
   "source": [
    "plt.plot(loss_rec_post[1:])"
   ]
  },
  {
   "cell_type": "code",
   "execution_count": null,
   "id": "fcfb3710-5956-43a0-b11e-30c1160cfc00",
   "metadata": {},
   "outputs": [],
   "source": [
    "loss_p_rec1000_post = []\n",
    "for i, vv in enumerate(iterates_p_rec1000):\n",
    "    print(f\"Iter {i}  \", end=\"\")\n",
    "    t0 = time.time()\n",
    "    loss_p_rec1000_post.append(loss_full_func(vv, jnp.arange(N)))\n",
    "    t1 = time.time() - t0\n",
    "    print(t1)"
   ]
  },
  {
   "cell_type": "code",
   "execution_count": null,
   "id": "84c44916-f11e-4eb2-96b1-69f57845cf69",
   "metadata": {},
   "outputs": [],
   "source": [
    "loss_p_rec5000_post = []\n",
    "for i, vv in enumerate(iterates_p_rec5000):\n",
    "    print(f\"Iter {i}  \", end=\"\")\n",
    "    t0 = time.time()\n",
    "    loss_p_rec5000_post.append(loss_full_func(vv, jnp.arange(N)))\n",
    "    t1 = time.time() - t0\n",
    "    print(t1)"
   ]
  },
  {
   "cell_type": "code",
   "execution_count": null,
   "id": "eeb6aaf7-84c0-470d-9b39-bd8e76c9f2c1",
   "metadata": {},
   "outputs": [],
   "source": [
    "plt.plot(loss_rec_post[1:])\n",
    "plt.plot(loss_p_rec1000_post[1:])\n",
    "plt.plot(loss_p_rec2000_post[1:])\n",
    "plt.plot(loss_p_rec5000_post[1:])\n",
    "plt.legend(['sgd', 'sgd+p 1000', 'sgd+p 2000', 'sgd+p 5000'])"
   ]
  },
  {
   "cell_type": "markdown",
   "id": "b79e770a-c44f-428d-a204-6437e7314ed8",
   "metadata": {},
   "source": [
    "### The pixel-wise data loss doesn't seem to tell us much. "
   ]
  },
  {
   "cell_type": "code",
   "execution_count": null,
   "id": "b4f09cca-2050-4fb1-a89c-e2f9c21ad975",
   "metadata": {},
   "outputs": [],
   "source": [
    "loss_rec_px = []\n",
    "for i, vv in enumerate(iterates_rec):\n",
    "    print(f\"Iter {i}  \", end=\"\")\n",
    "    t0 = time.time()\n",
    "    loss_rec_px.append(loss_full_px_func(vv, jnp.arange(N)).reshape((nx,nx)))\n",
    "    t1 = time.time() - t0\n",
    "    print(t1)"
   ]
  },
  {
   "cell_type": "code",
   "execution_count": null,
   "id": "7cea29bb-b816-4deb-b9f3-1b2927da6d96",
   "metadata": {},
   "outputs": [],
   "source": [
    "plt.imshow(jnp.sqrt(jnp.fft.fftshift(loss_rec_px[-1])))\n",
    "plt.colorbar()"
   ]
  },
  {
   "cell_type": "code",
   "execution_count": null,
   "id": "9fe20b5d-c696-424b-bbe0-ccce4b3ce07b",
   "metadata": {},
   "outputs": [],
   "source": [
    "loss_p_rec1000_px = []\n",
    "for i, vv in enumerate(iterates_p_rec1000):\n",
    "    print(f\"Iter {i}  \", end=\"\")\n",
    "    t0 = time.time()\n",
    "    loss_p_rec1000_px.append(loss_full_px_func(vv, jnp.arange(N)).reshape((nx,nx)))\n",
    "    t1 = time.time() - t0\n",
    "    print(t1)"
   ]
  },
  {
   "cell_type": "code",
   "execution_count": null,
   "id": "2fc4ce94-51bb-4f70-be4c-00f04409fde5",
   "metadata": {},
   "outputs": [],
   "source": [
    "loss_p_rec2000_px = []\n",
    "for i, vv in enumerate(iterates_p_rec2000):\n",
    "    print(f\"Iter {i}  \", end=\"\")\n",
    "    t0 = time.time()\n",
    "    loss_p_rec2000_px.append(loss_full_px_func(vv, jnp.arange(N)).reshape((nx,nx)))\n",
    "    t1 = time.time() - t0\n",
    "    print(t1)"
   ]
  },
  {
   "cell_type": "code",
   "execution_count": null,
   "id": "1477aa96-dbe2-49c4-84f6-2136c37ccd78",
   "metadata": {},
   "outputs": [],
   "source": [
    "loss_p_rec5000_px = []\n",
    "for i, vv in enumerate(iterates_p_rec5000):\n",
    "    print(f\"Iter {i}  \", end=\"\")\n",
    "    t0 = time.time()\n",
    "    loss_p_rec5000_px.append(loss_full_px_func(vv, jnp.arange(N)).reshape((nx,nx)))\n",
    "    t1 = time.time() - t0\n",
    "    print(t1)"
   ]
  },
  {
   "cell_type": "code",
   "execution_count": null,
   "id": "f7c00816-cf40-40c2-b682-00d745d45205",
   "metadata": {},
   "outputs": [],
   "source": [
    "loss_lbfgs_px = loss_full_px_func(v_lbfgs, jnp.arange(N)).reshape((nx,nx))\n"
   ]
  },
  {
   "cell_type": "code",
   "execution_count": null,
   "id": "28304bc4-b655-4cf0-8eed-ea693aefa2d3",
   "metadata": {},
   "outputs": [],
   "source": [
    "plt.imshow(jnp.sqrt(jnp.fft.fftshift(loss_lbfgs_px)))\n",
    "plt.colorbar()"
   ]
  },
  {
   "cell_type": "markdown",
   "id": "cab81f62-b563-40c3-9bb8-8f0f3f802831",
   "metadata": {},
   "source": [
    "### The full mean of these losses agrees with the overall loss"
   ]
  },
  {
   "cell_type": "code",
   "execution_count": null,
   "id": "54527130-76e3-4cf3-8f94-88c84374f005",
   "metadata": {},
   "outputs": [],
   "source": [
    "llrec = [jnp.mean(li) for li in loss_rec_px]\n",
    "llrec_p_1000 = [jnp.mean(li) for li in loss_p_rec1000_px]\n",
    "llrec_p_2000 = [jnp.mean(li) for li in loss_p_rec2000_px]\n",
    "llrec_p_5000 = [jnp.mean(li) for li in loss_p_rec5000_px]\n",
    "llbfgs = jnp.mean(loss_lbfgs_px)"
   ]
  },
  {
   "cell_type": "code",
   "execution_count": null,
   "id": "edba58b4-18ff-4c12-953e-6264288312e7",
   "metadata": {},
   "outputs": [],
   "source": [
    "plt.subplot(121)\n",
    "plt.semilogy(loss_rec)\n",
    "plt.semilogy(loss_p_rec1000)\n",
    "plt.semilogy(loss_p_rec2000)\n",
    "plt.semilogy(loss_p_rec5000)\n",
    "plt.semilogy([loss_lbfgs] * 10)\n",
    "plt.legend(['sgd', 'sgd+p 1000', 'sgd+p 2000', 'sgd+p 5000', 'lbfgs final'])\n",
    "plt.title('Full loss')\n",
    "\n",
    "plt.subplot(122)\n",
    "plt.semilogy(llrec[1:])\n",
    "plt.semilogy(llrec_p_1000[1:])\n",
    "plt.semilogy(llrec_p_2000[1:])\n",
    "plt.semilogy(llrec_p_5000[1:])\n",
    "plt.semilogy([llbfgs] * 10)\n",
    "plt.legend(['sgd', 'sgd+p 1000', 'sgd+p 2000', 'sgd+p 5000', 'lbfgs final'])\n",
    "plt.title('Averaged pixel-wise loss (it excludes the regularization term)')"
   ]
  },
  {
   "cell_type": "markdown",
   "id": "bb542e2d-85e4-4d86-871d-bb6063e7f052",
   "metadata": {},
   "source": [
    "### But the shell-averaged data losses are useless"
   ]
  },
  {
   "cell_type": "code",
   "execution_count": null,
   "id": "740214e7-30f4-4bac-889c-b9e2f08d67b9",
   "metadata": {},
   "outputs": [],
   "source": [
    "from src.fsc import average_shells_2D\n",
    "\n",
    "avloss_rec = [average_shells_2D(loss_rec_px[ii], x_grid) for ii in range(11)]\n",
    "avloss_rec_p_1000 = [average_shells_2D(loss_p_rec1000_px[ii], x_grid) for ii in range(11)]\n",
    "avloss_rec_p_2000 = [average_shells_2D(loss_p_rec2000_px[ii], x_grid) for ii in range(11)]\n",
    "avloss_rec_p_5000 = [average_shells_2D(loss_p_rec5000_px[ii], x_grid) for ii in range(11)]"
   ]
  },
  {
   "cell_type": "code",
   "execution_count": null,
   "id": "a0440593-0472-49f4-99e6-d2e9e69d829c",
   "metadata": {},
   "outputs": [],
   "source": [
    "# The radially averaged losses are useless though\n",
    "\n",
    "idx = 10\n",
    "plt.semilogy(avloss_rec[idx])\n",
    "plt.semilogy(avloss_rec_p_1000[idx])\n",
    "plt.semilogy(avloss_rec_p_2000[idx])\n",
    "plt.semilogy(avloss_rec_p_5000[idx])\n",
    "\n",
    "plt.legend(['sgd', 'sgd+p 1000', 'sgd+p 2000', 'sgd+p 5000'])"
   ]
  },
  {
   "cell_type": "markdown",
   "id": "e6145a60-86b2-4f76-b1bc-c5dad6ddede5",
   "metadata": {},
   "source": [
    "### Now compute the error (with the L-BFGS solution) in shells"
   ]
  },
  {
   "cell_type": "code",
   "execution_count": null,
   "id": "e440dd2c-a7f1-4945-88ee-3e5398870a3c",
   "metadata": {},
   "outputs": [],
   "source": [
    "from src.fsc import average_shells\n",
    "\n",
    "def err_px(v1, v2):\n",
    "    err = 1/2 * jnp.real(jnp.conj(v1-v2)*(v1-v2))\n",
    "    res, avg_err, n_pts, max_err, median_err = average_shells(err, x_grid)\n",
    "    \n",
    "    return median_err #max_err #avg_err"
   ]
  },
  {
   "cell_type": "code",
   "execution_count": null,
   "id": "9c2f203b-241e-46e6-a992-24c10b0842b8",
   "metadata": {},
   "outputs": [],
   "source": [
    "averr_rec = jnp.array([err_px(v_lbfgs, iterates_rec[ii]) for ii in range(11)])\n",
    "averr_rec_p_1000 = jnp.array([err_px(v_lbfgs, iterates_p_rec1000[ii]) for ii in range(11)])\n",
    "averr_rec_p_2000 = jnp.array([err_px(v_lbfgs, iterates_p_rec2000[ii]) for ii in range(11)])\n",
    "averr_rec_p_5000 = jnp.array([err_px(v_lbfgs, iterates_p_rec5000[ii]) for ii in range(11)])\n",
    "print(averr_rec.shape)"
   ]
  },
  {
   "cell_type": "code",
   "execution_count": null,
   "id": "6edd20c2-50b0-4bcb-916c-5b7edcbc8f75",
   "metadata": {},
   "outputs": [],
   "source": [
    "maxerr_rec = jnp.array([err_px(v_lbfgs, iterates_rec[ii]) for ii in range(11)])\n",
    "maxerr_rec_p_1000 = jnp.array([err_px(v_lbfgs, iterates_p_rec1000[ii]) for ii in range(11)])\n",
    "maxerr_rec_p_2000 = jnp.array([err_px(v_lbfgs, iterates_p_rec2000[ii]) for ii in range(11)])\n",
    "maxerr_rec_p_5000 = jnp.array([err_px(v_lbfgs, iterates_p_rec5000[ii]) for ii in range(11)])\n",
    "print(averr_rec.shape)"
   ]
  },
  {
   "cell_type": "code",
   "execution_count": null,
   "id": "8f52146a-8bf8-4fb4-91cd-bcbcdd9642de",
   "metadata": {},
   "outputs": [],
   "source": [
    "mederr_rec = jnp.array([err_px(v_lbfgs, iterates_rec[ii]) for ii in range(11)])\n",
    "mederr_rec_p_1000 = jnp.array([err_px(v_lbfgs, iterates_p_rec1000[ii]) for ii in range(11)])\n",
    "mederr_rec_p_2000 = jnp.array([err_px(v_lbfgs, iterates_p_rec2000[ii]) for ii in range(11)])\n",
    "mederr_rec_p_5000 = jnp.array([err_px(v_lbfgs, iterates_p_rec5000[ii]) for ii in range(11)])\n",
    "print(averr_rec.shape)"
   ]
  },
  {
   "cell_type": "code",
   "execution_count": null,
   "id": "79c9825c-a704-4005-97ec-49fe5a9ff04a",
   "metadata": {},
   "outputs": [],
   "source": [
    "idx = 10\n",
    "plt.semilogy((averr_rec_p_1000[idx]))\n",
    "plt.semilogy((maxerr_rec_p_1000[idx]))\n",
    "plt.semilogy((mederr_rec_p_1000[idx]))\n",
    "plt.legend(['mean', 'max', 'median'])"
   ]
  },
  {
   "cell_type": "code",
   "execution_count": null,
   "id": "3a565e35-b04a-4bca-8629-7c2306d654f9",
   "metadata": {},
   "outputs": [],
   "source": [
    "idx = 1\n",
    "plt.semilogy(averr_rec[0])\n",
    "plt.semilogy(averr_rec[idx])\n",
    "\n",
    "plt.semilogy(averr_rec_p_1000[idx])\n",
    "plt.semilogy(averr_rec_p_2000[idx])\n",
    "plt.semilogy(averr_rec_p_5000[idx])\n",
    "\n",
    "plt.legend(['random', 'sgd', 'sgd+p 1000', 'sgd+p 2000', 'sgd+p 5000'])\n",
    "plt.xlabel('Frequency shell')\n",
    "plt.ylabel('Error')\n",
    "plt.title('Error accross shells at a given epoch')"
   ]
  },
  {
   "cell_type": "code",
   "execution_count": null,
   "id": "eda1d949-054c-4e97-9f86-d88fef74cde3",
   "metadata": {},
   "outputs": [],
   "source": [
    "plt.imshow(jnp.fft.fftshift((jnp.max(jnp.abs(iterates_p_rec1000[1]), axis=0))))\n",
    "plt.colorbar()"
   ]
  },
  {
   "cell_type": "code",
   "execution_count": null,
   "id": "5d662b3e-a2c2-4884-8d81-4a3861069bd4",
   "metadata": {},
   "outputs": [],
   "source": [
    "idx_shell = 20\n",
    "plt.semilogy(averr_rec[1:,idx_shell])\n",
    "plt.semilogy(averr_rec_p_1000[1:, idx_shell])\n",
    "plt.semilogy(averr_rec_p_2000[1:, idx_shell])\n",
    "plt.semilogy(averr_rec_p_5000[1:, idx_shell])\n",
    "\n",
    "plt.legend(['sgd', 'sgd+p 1000', 'sgd+p 2000', 'sgd+p 5000'])\n",
    "plt.xlabel('Epoch')\n",
    "plt.ylabel('Error')\n",
    "plt.title('Error accross epochs for a given frequency shell')"
   ]
  },
  {
   "cell_type": "markdown",
   "id": "77ebeb0a-f215-4489-a595-bf2966ff4adb",
   "metadata": {},
   "source": [
    "## NEXT: check variance of the gradients -- maybe this affects the low resolutions too"
   ]
  },
  {
   "cell_type": "markdown",
   "id": "810c7f4d-2256-441a-9951-b5a0afb645d0",
   "metadata": {},
   "source": [
    "### The full gradient vs batch gradient accross shells - maybe avoid this section to not fill the GPU memory"
   ]
  },
  {
   "cell_type": "code",
   "execution_count": null,
   "id": "15d8a409-275f-4f0e-bdf1-87b299dfe64d",
   "metadata": {},
   "outputs": [],
   "source": [
    "key = random.PRNGKey(33)\n",
    "idxs = random.permutation(key, jnp.arange(N))"
   ]
  },
  {
   "cell_type": "code",
   "execution_count": null,
   "id": "90825923-e600-4e06-be85-fc781c45c3f9",
   "metadata": {},
   "outputs": [],
   "source": [
    "vol = iterates_rec[5]\n",
    "\n",
    "t0 = time.time()\n",
    "grad_full = grad_full_func(vol, jnp.arange(N))\n",
    "print(time.time() - t0)\n",
    "\n",
    "t0 = time.time()\n",
    "grad_1000 = grad_full_func(vol, idxs[:1000])\n",
    "print(time.time() - t0)\n",
    "\n",
    "t0 = time.time()\n",
    "grad_2000 = grad_full_func(vol, idxs[:2000])\n",
    "print(time.time() - t0)\n",
    "\n",
    "t0 = time.time()\n",
    "grad_5000 = grad_full_func(vol, idxs[:5000])\n",
    "print(time.time() - t0)"
   ]
  },
  {
   "cell_type": "code",
   "execution_count": null,
   "id": "595ed477-caea-42d4-86b6-3fc027e6bd0e",
   "metadata": {},
   "outputs": [],
   "source": [
    "_, avgrad_full, _ = average_shells(grad_full, x_grid)\n",
    "_, avgrad_1000, _ = average_shells(grad_1000, x_grid)\n",
    "_, avgrad_2000, _ = average_shells(grad_2000, x_grid)\n",
    "_, avgrad_5000, _ = average_shells(grad_5000, x_grid)\n",
    "\n",
    "plt.semilogy(jnp.abs(avgrad_full))\n",
    "plt.semilogy(jnp.abs(avgrad_1000))\n",
    "plt.semilogy(jnp.abs(avgrad_2000))\n",
    "plt.semilogy(jnp.abs(avgrad_5000))\n",
    "\n",
    "plt.title('Non-preconditioned gradients')\n",
    "\n",
    "plt.legend(['grad full', 'grad 1000', 'grad 2000', 'grad 5000'])"
   ]
  },
  {
   "cell_type": "code",
   "execution_count": null,
   "id": "76e31fc1-707b-45ce-8815-1f8e9a5766c4",
   "metadata": {},
   "outputs": [],
   "source": [
    "_, avgrad_full_p, _ = average_shells(1/D0 * grad_full, x_grid)\n",
    "_, avgrad_1000_p, _ = average_shells(1/D0 * grad_1000, x_grid)\n",
    "_, avgrad_2000_p, _ = average_shells(1/D0 * grad_2000, x_grid)\n",
    "_, avgrad_5000_p, _ = average_shells(1/D0 * grad_5000, x_grid)\n",
    "\n",
    "plt.semilogy(jnp.abs(avgrad_full_p))\n",
    "plt.semilogy(jnp.abs(avgrad_1000_p))\n",
    "plt.semilogy(jnp.abs(avgrad_2000_p))\n",
    "plt.semilogy(jnp.abs(avgrad_5000_p))\n",
    "\n",
    "plt.title('Preconditioned gradients')\n",
    "\n",
    "plt.legend(['grad full', 'grad 1000', 'grad 2000', 'grad 5000'])"
   ]
  },
  {
   "cell_type": "markdown",
   "id": "8c4d3812-1c97-44f4-a35e-e7e1faaf3043",
   "metadata": {},
   "source": [
    "### And the variance of the grads"
   ]
  },
  {
   "cell_type": "code",
   "execution_count": null,
   "id": "344e45e7-a6a7-4814-86b4-c9c78395da20",
   "metadata": {},
   "outputs": [],
   "source": [
    "key = random.PRNGKey(45)\n"
   ]
  },
  {
   "cell_type": "code",
   "execution_count": null,
   "id": "2ab15b66-68c5-46cc-a4c4-39295f2d5537",
   "metadata": {},
   "outputs": [],
   "source": [
    "def compute_grad_variance(key, v, batch_size, P = None):\n",
    "    idxs_rand = random.permutation(key, jnp.arange(N))\n",
    "    N_batch = int(N/batch_size)\n",
    "    \n",
    "    if P is None:\n",
    "        P = jnp.ones(v.shape)\n",
    "    \n",
    "    # Doing this on GPU with JAX takes _extremely_ long to compile. \n",
    "    # DO NOT ATTEMPT !!!\n",
    "    idx_batches = jnp.array(np.array_split(np.array(idxs_rand), N_batch)) \n",
    "    \n",
    "    grads = []\n",
    "    for idx in tqdm(idx_batches):\n",
    "        grads.append(grad_full_func(v, idx))\n",
    "        \n",
    "    grads = P * jnp.array(grads)\n",
    "    \n",
    "    mean_grad = jnp.mean(grads, axis=0)\n",
    "    var_grad = jnp.var(grads, axis=0)\n",
    "    \n",
    "    return mean_grad, var_grad\n"
   ]
  },
  {
   "cell_type": "code",
   "execution_count": null,
   "id": "4a92a546-c60f-4099-8f55-43b3fc0a50f5",
   "metadata": {},
   "outputs": [],
   "source": [
    "grad_full = grad_full_func(vol, jnp.arange(N))"
   ]
  },
  {
   "cell_type": "code",
   "execution_count": null,
   "id": "92680c0d-98e1-4475-ad80-022e257611f0",
   "metadata": {},
   "outputs": [],
   "source": [
    "vol = iterates_rec[5]\n",
    "\n",
    "mean_grad_1000, var_grad_1000 = compute_grad_variance(key, vol, 1000)\n",
    "mean_grad_2000, var_grad_2000 = compute_grad_variance(key, vol, 2000)\n",
    "mean_grad_5000, var_grad_5000 = compute_grad_variance(key, vol, 5000)\n",
    "\n",
    "# Sanity checks\n",
    "assert(jnp.max(jnp.abs(mean_grad_1000 - grad_full)) < 1e-14)\n",
    "assert(jnp.max(jnp.abs(mean_grad_2000 - grad_full)) < 1e-14)\n",
    "assert(jnp.max(jnp.abs(mean_grad_5000 - grad_full)) < 1e-14)"
   ]
  },
  {
   "cell_type": "code",
   "execution_count": null,
   "id": "90d69fc9-8c69-4145-8d3c-38d254a1c1c0",
   "metadata": {},
   "outputs": [],
   "source": [
    "var_grad_2000.shape"
   ]
  },
  {
   "cell_type": "code",
   "execution_count": null,
   "id": "5f10b76f-9ae2-4640-b193-1145586fbd34",
   "metadata": {},
   "outputs": [],
   "source": [
    "_, avgrad_full, _ = average_shells(grad_full, x_grid)\n",
    "_, av_var_grad_1000, _ = average_shells(var_grad_1000, x_grid)\n",
    "_, av_var_grad_2000, _ = average_shells(var_grad_2000, x_grid)\n",
    "_, av_var_grad_5000, _ = average_shells(var_grad_5000, x_grid)\n",
    "\n",
    "plt.semilogy(jnp.abs(avgrad_full))\n",
    "plt.semilogy(jnp.abs(av_var_grad_1000))\n",
    "plt.semilogy(jnp.abs(av_var_grad_2000))\n",
    "plt.semilogy(jnp.abs(av_var_grad_5000))\n",
    "\n",
    "plt.title('Variance of the non-preconditioned gradients')\n",
    "\n",
    "plt.legend(['mean grad', 'var grad 1000', 'var grad 2000', 'var grad 5000'])"
   ]
  },
  {
   "cell_type": "code",
   "execution_count": null,
   "id": "3f12c6a7-9741-4378-a00c-d053988c1aa0",
   "metadata": {},
   "outputs": [],
   "source": [
    "grad_full_p = 1/D0 * grad_full\n",
    "\n",
    "mean_grad_1000_p, var_grad_1000_p = compute_grad_variance(key, vol, 1000, 1/D0)\n",
    "mean_grad_2000_p, var_grad_2000_p = compute_grad_variance(key, vol, 2000, 1/D0)\n",
    "mean_grad_5000_p, var_grad_5000_p = compute_grad_variance(key, vol, 5000, 1/D0)"
   ]
  },
  {
   "cell_type": "code",
   "execution_count": null,
   "id": "b53546e8-fdc6-4c47-8d22-32c5fe34a452",
   "metadata": {},
   "outputs": [],
   "source": [
    "# Sanity checks\n",
    "assert(jnp.max(jnp.abs(mean_grad_1000_p - grad_full_p)) < 1e-10)\n",
    "assert(jnp.max(jnp.abs(mean_grad_2000_p - grad_full_p)) < 1e-9)\n",
    "assert(jnp.max(jnp.abs(mean_grad_5000_p - grad_full_p)) < 1e-10)"
   ]
  },
  {
   "cell_type": "code",
   "execution_count": null,
   "id": "17cae7bf-0917-48be-98f5-78445ed39577",
   "metadata": {},
   "outputs": [],
   "source": [
    "_, avgrad_full_p, _ = average_shells(grad_full_p, x_grid)\n",
    "_, av_var_grad_1000_p, _ = average_shells(var_grad_1000_p, x_grid)\n",
    "_, av_var_grad_2000_p, _ = average_shells(var_grad_2000_p, x_grid)\n",
    "_, av_var_grad_5000_p, _ = average_shells(var_grad_5000_p, x_grid)\n",
    "\n",
    "plt.semilogy(jnp.abs(avgrad_full_p))\n",
    "plt.semilogy(jnp.abs(av_var_grad_1000_p))\n",
    "plt.semilogy(jnp.abs(av_var_grad_2000_p))\n",
    "plt.semilogy(jnp.abs(av_var_grad_5000_p))\n",
    "\n",
    "plt.title('Variance of the preconditioned gradients')\n",
    "\n",
    "plt.legend(['mean grad', 'var grad 1000', 'var grad 2000', 'var grad 5000'])"
   ]
  },
  {
   "cell_type": "markdown",
   "id": "092ab529-ed8a-429d-b38a-b5e233bf70cf",
   "metadata": {},
   "source": [
    "### Random plots of the (intermediate) reconstructions and errors"
   ]
  },
  {
   "cell_type": "code",
   "execution_count": null,
   "id": "eddd73ce-437a-4571-80f4-361e2768a82e",
   "metadata": {},
   "outputs": [],
   "source": [
    "slice_idx = 0\n",
    "\n",
    "err_rec = jnp.max(jnp.abs(jnp.fft.fftshift(iterates_rec[-1]-v_lbfgs)), axis=2)\n",
    "#plt.imshow(err_rec)\n",
    "plt.imshow(jnp.max(jnp.abs(jnp.fft.fftshift(iterates_rec[-1])), axis=2), vmin=0, vmax=8000)\n",
    "plt.colorbar()\n",
    "\n",
    "print(jnp.sum(jnp.abs(iterates_rec[-1]) > 6000))\n",
    "print(jnp.sum(err_rec > 8000))"
   ]
  },
  {
   "cell_type": "code",
   "execution_count": null,
   "id": "9478c064-783d-47bd-bde8-1e7da477ea2b",
   "metadata": {},
   "outputs": [],
   "source": [
    "err_rec_p = jnp.max(jnp.abs(jnp.fft.fftshift(iterates_p_rec5000[-1]-v_lbfgs)), axis=2)\n",
    "\n",
    "#plt.imshow(err_rec_p)\n",
    "plt.imshow(jnp.max(jnp.abs(jnp.fft.fftshift(iterates_p_rec5000[-9])), axis=2), vmin=0, vmax=8000); \n",
    "plt.colorbar()\n",
    "\n",
    "print(jnp.sum(jnp.abs(iterates_p_rec1000[10]) > 8000))\n",
    "#print(jnp.sum(err_rec_p > 8000))"
   ]
  },
  {
   "cell_type": "code",
   "execution_count": null,
   "id": "65b64496-935a-45b8-a712-d411296973bf",
   "metadata": {},
   "outputs": [],
   "source": [
    "plt.imshow(jnp.max(jnp.abs(jnp.fft.fftshift(v_lbfgs[:,:,:])), axis=2), vmax=8000); \n",
    "plt.colorbar()\n",
    "\n",
    "print(jnp.sum(jnp.abs(v_lbfgs) > 6000))\n"
   ]
  },
  {
   "cell_type": "code",
   "execution_count": null,
   "id": "2de3833d-1094-4b27-9019-6e085b640053",
   "metadata": {},
   "outputs": [],
   "source": [
    "plt.imshow(jnp.max(jnp.fft.fftshift(jnp.abs(vvv)), axis=2), vmax=8000); plt.colorbar()"
   ]
  },
  {
   "cell_type": "markdown",
   "id": "487dd74b-3ff3-4736-ad34-66ef8024e8e9",
   "metadata": {},
   "source": [
    "#### OASIS"
   ]
  },
  {
   "cell_type": "code",
   "execution_count": null,
   "id": "dd5dbfdb-9cfd-4052-982a-f6bb9c39bf6d",
   "metadata": {},
   "outputs": [],
   "source": [
    "from src.algorithm import oasis"
   ]
  },
  {
   "cell_type": "code",
   "execution_count": null,
   "id": "ddb0ed0a-afa7-4731-b051-ef8586e4c794",
   "metadata": {},
   "outputs": [],
   "source": [
    "bb = 0.9 * np.ones(x0.shape)\n",
    "#bb[32:96,32:96,32:96] = 0.8\n",
    "bb = jnp.fft.ifftshift(bb)"
   ]
  },
  {
   "cell_type": "code",
   "execution_count": null,
   "id": "affdb019-fe61-4fc9-a81f-5e3610101012",
   "metadata": {},
   "outputs": [],
   "source": [
    "plt.imshow(bb[0])\n",
    "plt.colorbar()"
   ]
  },
  {
   "cell_type": "code",
   "execution_count": null,
   "id": "eeb9e81e-f271-444f-9ee4-451bec7300f0",
   "metadata": {},
   "outputs": [],
   "source": [
    "N_epoch = 10\n",
    "beta2 = bb #* 0.5\n",
    "eta0 = 10 # 1e0 #5e-2 #1e-2 # 1e-3 #1e-5 #0.0001 #0.1/0.001/0.01/0.15\n",
    "batch_size = 1000\n",
    "alpha = 0 #1e-7 \n",
    "c = 0.99"
   ]
  },
  {
   "cell_type": "code",
   "execution_count": null,
   "id": "6055f427-df06-4576-8e1b-e765965c5c69",
   "metadata": {},
   "outputs": [],
   "source": [
    "key, subkey = random.split(key)\n",
    "\n",
    "t0 = time.time()\n",
    "\n",
    "v_rec_o, loss_o = oasis(subkey, loss_func, grad_func, hvp_func, x0, eta0, jnp.ones(x0.shape), beta2, alpha, N_epoch, batch_size = batch_size, N = N, adaptive_step_size = True, c = c, iter_display = 1)\n",
    "\n",
    "print(f\"Total time: {time.time()-t0 : .2f} seconds\")"
   ]
  },
  {
   "cell_type": "code",
   "execution_count": null,
   "id": "0b904572-3ecf-4acb-880f-af1942ef50db",
   "metadata": {},
   "outputs": [],
   "source": [
    "plt.semilogy(loss_rec)\n",
    "plt.semilogy(loss_p_rec)\n",
    "plt.semilogy(loss_o)\n",
    "\n",
    "plt.legend([\"SGD\", \"SGD p\", \"OASIS\"])\n",
    "#plt.legend([\"SGD\", \"OASIS\"])"
   ]
  },
  {
   "cell_type": "code",
   "execution_count": null,
   "id": "67c0e1ef-40ab-412d-8134-727075e0e6f7",
   "metadata": {},
   "outputs": [],
   "source": [
    "#vv = v_rec_o.at[jnp.abs(v_rec_o) > jnp.max(jnp.abs(v_rec))].set(0)"
   ]
  },
  {
   "cell_type": "code",
   "execution_count": null,
   "id": "58f6e9d9-0a4a-4be8-95f0-d043923365fe",
   "metadata": {},
   "outputs": [],
   "source": [
    "mip_z(np.fft.fftshift(np.abs(v_rec_o))); plt.colorbar()\n",
    "#mip_z(np.fft.fftshift(np.abs(vv))); plt.colorbar()"
   ]
  },
  {
   "cell_type": "code",
   "execution_count": null,
   "id": "53f8a282-f99b-4dba-baed-1123ad61ee4f",
   "metadata": {},
   "outputs": [],
   "source": [
    "#v_rec_ol, _ = rescale_larger_grid(vv, x_grid, nx0)\n",
    "v_rec_ol, _ = rescale_larger_grid(v_rec_o, x_grid, nx0)\n",
    "vr_o = jnp.real(jnp.fft.fftshift(jnp.fft.ifftn(v_rec_ol)))\n",
    "\n",
    "mip_z(vr_o)\n",
    "plt.colorbar()"
   ]
  },
  {
   "cell_type": "code",
   "execution_count": null,
   "id": "3b7c240a-4e44-45eb-9d71-6f6187d21d78",
   "metadata": {},
   "outputs": [],
   "source": [
    "#with mrcfile.new(f\"{out_dir}/v_rec_o.mrc\", overwrite=True) as mrc:\n",
    "#    mrc.set_data(vr_o.astype(np.float32))"
   ]
  },
  {
   "cell_type": "code",
   "execution_count": null,
   "id": "40c97134-50ef-454a-89f2-17819da65dd1",
   "metadata": {},
   "outputs": [],
   "source": [
    "with mrcfile.new(f\"{out_dir}/v_rec_o_nx0.mrc\", overwrite=True) as mrc:\n",
    "    mrc.set_data(vr_o.astype(np.float32))\n",
    "    \n",
    "vr_o_nx = jnp.real(jnp.fft.fftshift(jnp.fft.ifftn(v_rec_o)))\n",
    "\n",
    "with mrcfile.new(f\"{out_dir}/v_rec_o_nx.mrc\", overwrite=True) as mrc:\n",
    "    mrc.set_data(vr_o_nx.astype(np.float32))"
   ]
  },
  {
   "cell_type": "code",
   "execution_count": null,
   "id": "64a23b88-ba6d-4404-a32a-decf592c9c46",
   "metadata": {},
   "outputs": [],
   "source": [
    "# or load\n",
    "load_rec = True\n",
    "\n",
    "if load_rec:\n",
    "    with mrcfile.open(f\"{out_dir}/v_rec_o_nx.mrc\") as mrc:\n",
    "        vr_o_loaded = mrc.data\n",
    "\n",
    "    v_rec_o_loaded = jnp.fft.fftn(jnp.fft.fftshift((vr_o_loaded)))"
   ]
  },
  {
   "cell_type": "code",
   "execution_count": null,
   "id": "d9b049ed-84ca-443f-a147-c095ae3b18c2",
   "metadata": {},
   "outputs": [],
   "source": [
    "vrerr = jnp.abs(v_rec_o - v_rec_o_loaded)\n",
    "print(jnp.max(vrerr)/jnp.max(jnp.abs(v_rec_o)))\n",
    "print(jnp.mean(vrerr)/jnp.max(jnp.abs(v_rec_o)))"
   ]
  },
  {
   "cell_type": "code",
   "execution_count": null,
   "id": "b862ca32-7e83-4546-83a2-719df6d82e47",
   "metadata": {},
   "outputs": [],
   "source": [
    "# Just make sure that the loss at the starting points x01 and x02 is indeed larger than\n",
    "# everything plotted\n",
    "\n",
    "#batch_sz = 100\n",
    "#n_batch = N / batch_sz\n",
    "#idx_batches = np.array_split(np.arange(N), n_batch)\n",
    "\n",
    "#loss_x0 = 0\n",
    "#for idx in tqdm(idx_batches):\n",
    "#    loss_x0 += loss_func(x0, idx)\n",
    "#    \n",
    "#loss_x0 = loss_x0/n_batch                             \n",
    "\n",
    "#print(f\"loss(x0) = {loss_x0}\")"
   ]
  },
  {
   "cell_type": "markdown",
   "id": "ff39ed53-e392-4fef-8dde-e11b6108050a",
   "metadata": {},
   "source": [
    "### L-BFGS"
   ]
  },
  {
   "cell_type": "code",
   "execution_count": null,
   "id": "b0695c79-0ebc-4382-a03b-fd8ff311bfd5",
   "metadata": {},
   "outputs": [],
   "source": [
    "N_batch = N/batch_size\n",
    "idx_batches = np.array_split(np.arange(N), N_batch)\n",
    "\n",
    "#@jax.jit\n",
    "def loss_full_func(x): \n",
    "    t0 = time.time()\n",
    "    print(\"loss_full_func called \", end=\"\")\n",
    "    loss = 0\n",
    "    grad = np.zeros(x0.shape)\n",
    "    n = 0\n",
    "    for idx in idx_batches:\n",
    "        loss += loss_func(x, idx)\n",
    "        grad += grad_func(x, idx)\n",
    "        n += 1\n",
    "        \n",
    "    loss = loss/n\n",
    "    grad = grad/n\n",
    "        \n",
    "    #loss_full = jnp.mean(jnp.array(loss_b), axis = 0)    \n",
    "    #grad_full = jnp.mean(jnp.array(grad_b), axis = 0)\n",
    "\n",
    "    tt = time.time() - t0\n",
    "    print(f\"{tt} seconds\")\n",
    "    return loss, jnp.conj(grad)"
   ]
  },
  {
   "cell_type": "code",
   "execution_count": null,
   "id": "4ecc4862",
   "metadata": {},
   "outputs": [],
   "source": [
    "N_iters = 30"
   ]
  },
  {
   "cell_type": "markdown",
   "id": "7382c235-aab2-4050-bcbd-626a509419e7",
   "metadata": {},
   "source": [
    "So this is working with fixed stepsize, but with linesearch it doesn't (zoom hangs and backtracking returns an errour about mixing float with complex). "
   ]
  },
  {
   "cell_type": "code",
   "execution_count": null,
   "id": "ac0b56be-0056-4544-ba18-e532e3eb5c88",
   "metadata": {},
   "outputs": [],
   "source": [
    "#with jax.default_device(jax.devices('cpu')[0]):\n",
    "#lbfgs = LBFGS(loss_full_func, value_and_grad = True, linesearch = 'backtracking', maxiter = N_iters, unroll = False, jit = False, verbose = True)\n",
    "lbfgs = LBFGS(loss_full_func, value_and_grad = True, stepsize = 0.5, maxiter = N_iters, verbose = True)\n",
    "#lbfgs = LBFGS(loss_full_func, value_and_grad = True, maxls = 4, linesearch = 'zoom', condition='wolfe', maxiter = N_iters, verbose = True)\n",
    "\n",
    "t0 = time.time()\n",
    "sol = lbfgs.run(v_p_rec)\n",
    "t1 = time.time()-t0"
   ]
  },
  {
   "cell_type": "code",
   "execution_count": null,
   "id": "4abab960-f824-4b59-9bbd-813a2dab2849",
   "metadata": {},
   "outputs": [],
   "source": [
    "print(t1)"
   ]
  },
  {
   "cell_type": "code",
   "execution_count": null,
   "id": "50372472-f8c5-4df6-aec4-e332caee8603",
   "metadata": {},
   "outputs": [],
   "source": [
    "v_lbfgs = sol.params\n",
    "#loss_bfgs = loss_func(v_lbfgs, jnp.arange(N))\n",
    "loss_bfgs, _ = loss_full_func(v_lbfgs)\n",
    "print(loss_bfgs)"
   ]
  },
  {
   "cell_type": "code",
   "execution_count": null,
   "id": "5486d73a-bbac-4ec5-87fb-6f5f47e42ae1",
   "metadata": {},
   "outputs": [],
   "source": [
    "mip_z(np.fft.fftshift(np.abs(v_lbfgs))); plt.colorbar()"
   ]
  },
  {
   "cell_type": "code",
   "execution_count": null,
   "id": "ca748548-522c-443e-a778-0fe00ab1d2df",
   "metadata": {},
   "outputs": [],
   "source": [
    "v_lbfgs_l, _ = rescale_larger_grid(v_lbfgs, x_grid, nx0)\n",
    "vr_lbfgs = jnp.real(jnp.fft.fftshift(jnp.fft.ifftn(v_lbfgs_l)))\n",
    "\n",
    "mip_z(vr_lbfgs)\n",
    "plt.colorbar()"
   ]
  },
  {
   "cell_type": "code",
   "execution_count": null,
   "id": "2e3d9003-9c8d-4b5d-9b6e-99f7159d528b",
   "metadata": {},
   "outputs": [],
   "source": [
    "# Save two: at the original nx0 (=320) and at the actual computed nx so no accuracy is lost\n",
    "with mrcfile.new(f\"{out_dir}/v_rec_lbfgs_nn_{N_iters}_nx0.mrc\", overwrite=True) as mrc:\n",
    "    mrc.set_data(vr_lbfgs.astype(np.float32))\n",
    "\n",
    "vr_lbfgs_nx = jnp.real(jnp.fft.fftshift(jnp.fft.ifftn(v_lbfgs)))\n",
    "#vr_lbfgs_nx = jnp.fft.ifftn(v_lbfgs)\n",
    "\n",
    "with mrcfile.new(f\"{out_dir}/v_rec_lbfgs_nn_{N_iters}_nx.mrc\", overwrite=True) as mrc:\n",
    "    mrc.set_data(vr_lbfgs_nx.astype(np.float32))"
   ]
  },
  {
   "cell_type": "code",
   "execution_count": null,
   "id": "d1499675-9507-46ce-b920-25f3ec9206e4",
   "metadata": {},
   "outputs": [],
   "source": [
    "v_lbfgs_nx = jnp.fft.fftn(jnp.fft.ifftshift(vr_lbfgs_nx))"
   ]
  },
  {
   "cell_type": "code",
   "execution_count": null,
   "id": "f064fb32-4eac-47f2-9854-e2f2f3f55766",
   "metadata": {},
   "outputs": [],
   "source": [
    "N_iters = 750"
   ]
  },
  {
   "cell_type": "code",
   "execution_count": null,
   "id": "56ffb41d-e30a-490c-94dc-7689c10b0eff",
   "metadata": {},
   "outputs": [],
   "source": [
    "# Load\n",
    "#nnstring = \"nn_\"\n",
    "nnstring = \"\"\n",
    "\n",
    "with mrcfile.open(f\"{out_dir}//v_rec_lbfgs_{nnstring}{N_iters}_nx.mrc\") as mrc:\n",
    "    vr_lbfgs_loaded = mrc.data\n",
    "    \n",
    "v_lbfgs_loaded = jnp.fft.fftn(jnp.fft.fftshift((vr_lbfgs_loaded)))\n",
    "\n",
    "vr_lbfgs = vr_lbfgs_loaded\n",
    "v_lbfgs = v_lbfgs_loaded"
   ]
  },
  {
   "cell_type": "code",
   "execution_count": null,
   "id": "cbad7df3-55e7-4587-88b6-3f4b3b358f8f",
   "metadata": {},
   "outputs": [],
   "source": [
    "mip_z(vr_lbfgs_loaded)\n",
    "#plt.imshow(vr_lbfgs[:,:,int(vr_lbfgs.shape[0]/2)])\n",
    "\n",
    "plt.colorbar()"
   ]
  },
  {
   "cell_type": "code",
   "execution_count": null,
   "id": "8da00051-bd07-4204-add8-b43cca01f10f",
   "metadata": {},
   "outputs": [],
   "source": [
    "vrerr = jnp.abs(v_lbfgs - v_lbfgs_loaded)\n",
    "print(jnp.max(vrerr)/jnp.max(jnp.abs(v_lbfgs)))\n",
    "print(jnp.mean(vrerr)/jnp.max(jnp.abs(v_lbfgs)))"
   ]
  },
  {
   "cell_type": "code",
   "execution_count": null,
   "id": "bc049654-b987-4a82-bb1a-c3de5217b08c",
   "metadata": {},
   "outputs": [],
   "source": [
    "loss_lbfgs, _  = loss_full_func(v_lbfgs)\n",
    "#loss_bfgs_loaded, _ = loss_full_func(v_lbfgs_loaded)\n",
    "\n",
    "print(loss_lbfgs)\n",
    "#print(loss_lbfgs_loaded)"
   ]
  },
  {
   "cell_type": "code",
   "execution_count": null,
   "id": "17fd404a-bc27-4209-b1df-56916cc1eb0e",
   "metadata": {},
   "outputs": [],
   "source": [
    "loss_sgd, _ = loss_full_func(v_rec)\n",
    "loss_sgd_loaded, _ = loss_full_func(v_rec_loaded)\n",
    "\n",
    "print(loss_sgd)\n",
    "print(loss_sgd_loaded)"
   ]
  },
  {
   "cell_type": "code",
   "execution_count": null,
   "id": "0ebae871-5c92-4766-a098-ec966a6258de",
   "metadata": {},
   "outputs": [],
   "source": [
    "print(loss_rec[-1])\n",
    "print(loss_p_rec[-1])"
   ]
  },
  {
   "cell_type": "code",
   "execution_count": null,
   "id": "dee01517-3ac9-41df-86da-842bb52f59da",
   "metadata": {},
   "outputs": [],
   "source": [
    "loss_sgd, _ = loss_full_func(v_rec)\n",
    "loss_sgd_p, _ = loss_full_func(v_p_rec)\n",
    "loss_oasis, _ = loss_full_func(v_rec_o)\n",
    "loss_bfgs, _ = loss_full_func(v_lbfgs)\n",
    "\n",
    "print(loss_sgd)\n",
    "print(loss_sgd_p)\n",
    "print(loss_oasis)\n",
    "print(loss_bfgs)"
   ]
  },
  {
   "cell_type": "markdown",
   "id": "650bb4e7-0808-4117-a4d7-5e01838042c3",
   "metadata": {},
   "source": [
    "### Compute the FSCs"
   ]
  },
  {
   "cell_type": "code",
   "execution_count": null,
   "id": "96ae50c8-05df-4c7e-9348-0392847a0664",
   "metadata": {},
   "outputs": [],
   "source": [
    "res_sgd, fsc_sgd, shell_points = calc_fsc(v_lbfgs, v_rec, [1, nx_crop])\n",
    "res_sgd_p, fsc_sgd_p, shell_points = calc_fsc(v_lbfgs, v_p_rec, [1, nx_crop])\n",
    "res_oasis, fsc_oasis, shell_points = calc_fsc(v_lbfgs, v_rec_o, [1, nx_crop])"
   ]
  },
  {
   "cell_type": "code",
   "execution_count": null,
   "id": "3ca0fec4-198e-4fd0-9a6e-960de38fe0fa",
   "metadata": {},
   "outputs": [],
   "source": [
    "res_angs = nx0 * pixel_size[0]/res_sgd\n",
    "print(f\"Max resolution = {res_angs[-1]:0.02f} angs\")\n",
    "plt.semilogx(res_angs, fsc_sgd)\n",
    "plt.semilogx(res_angs, fsc_sgd_p)\n",
    "plt.semilogx(res_angs, fsc_oasis)\n",
    "\n",
    "plt.gca().invert_xaxis()\n",
    "plt.title(\"FSC\")\n",
    "plt.legend([\"SGD\", \"SGD+p\", \"OASIS\"])\n",
    "#plt.legend([\"SGD\", \"SGD+p\"])"
   ]
  },
  {
   "cell_type": "markdown",
   "id": "d91368d1-8091-42f6-8609-0e6a61755889",
   "metadata": {},
   "source": [
    "#### CG"
   ]
  },
  {
   "cell_type": "code",
   "execution_count": null,
   "id": "7ab03bae-e4db-4d49-a5ca-4c3e45618f17",
   "metadata": {},
   "outputs": [],
   "source": [
    "\n",
    "with jax.default_device(jax.devices('cpu')[0]):\n",
    "    AA, Ab = get_cg_vol_ops(gradv_obj.grad_loss_volume_sum, angles, shifts, ctf_params, imgs_f, v_rec.shape, sigma_noise)\n"
   ]
  },
  {
   "cell_type": "code",
   "execution_count": null,
   "id": "d2594de7-5267-49e1-aefe-d9a840791592",
   "metadata": {},
   "outputs": [],
   "source": [
    "N_iter = 1\n"
   ]
  },
  {
   "cell_type": "code",
   "execution_count": null,
   "id": "40cfcec5-5920-48e6-87e6-019feb04a55f",
   "metadata": {},
   "outputs": [],
   "source": [
    "t0 = time.time()\n",
    "v_rec_cg, k, v_rec_cg_all = cg(AA, Ab, x0, N_iter, verbose=True)\n",
    "t1 = time.time() - t0"
   ]
  },
  {
   "cell_type": "code",
   "execution_count": null,
   "id": "10047cb0-5f0d-43a6-ae78-4acc4fd34b82",
   "metadata": {},
   "outputs": [],
   "source": [
    "print(t1)"
   ]
  },
  {
   "cell_type": "code",
   "execution_count": null,
   "id": "be434625-4251-41b9-a077-d9bf9599c241",
   "metadata": {},
   "outputs": [],
   "source": [
    "loss_cg = jax.vmap(loss_func, in_axes = (0, None))(jnp.array(v_rec_cg_all), jnp.arange(N))"
   ]
  },
  {
   "cell_type": "code",
   "execution_count": null,
   "id": "a0e18a92-f020-45ba-b95a-b837f80b2a6c",
   "metadata": {},
   "outputs": [],
   "source": [
    "mip_z(np.fft.fftshift(np.abs(v_rec_cg))); plt.colorbar()"
   ]
  },
  {
   "cell_type": "code",
   "execution_count": null,
   "id": "6e064187-10b9-43cc-bedc-bcb3c2284f9f",
   "metadata": {},
   "outputs": [],
   "source": [
    "v_rec_cgl, _ = rescale_larger_grid(v_rec_cg, x_grid, nx0)\n",
    "vr_cg = jnp.real(jnp.fft.fftshift(jnp.fft.ifftn(v_rec_cgl)))\n",
    "\n",
    "mip_z(vr_cg)\n",
    "plt.colorbar()"
   ]
  },
  {
   "cell_type": "code",
   "execution_count": null,
   "id": "75c69e1c-7a68-4f51-a349-788611743471",
   "metadata": {},
   "outputs": [],
   "source": [
    "with mrcfile.new(f\"{out_dir}/v_rec_cg.mrc\", overwrite=True) as mrc:\n",
    "    mrc.set_data(vr_cg.astype(np.float32))"
   ]
  },
  {
   "cell_type": "code",
   "execution_count": null,
   "id": "6ed72754-1a9a-401c-8a19-a9ad730d986f",
   "metadata": {},
   "outputs": [],
   "source": [
    "plt.plot(loss_rec)\n",
    "plt.plot(loss_p_rec)\n",
    "plt.plot(loss_o)\n",
    "plt.plot(loss_cg)\n",
    "\n",
    "plt.plot(loss_bfgs*jnp.ones(loss_rec.shape))\n",
    "\n",
    "plt.legend([\"SGD\", \"SGD+p\", \"OASIS\", \"CG\", \"BFGS\"])"
   ]
  },
  {
   "cell_type": "code",
   "execution_count": null,
   "id": "68c74836-8c1f-4eef-8212-91d7ec0929f5",
   "metadata": {},
   "outputs": [],
   "source": [
    "#res, fsc_cg, shell_points = calc_fsc(v_rec_cg1, v_rec_cg2, [1, nx_crop])\n",
    "#\n",
    "#res_angs = nx0 * pixel_size[0]/res\n",
    "#plt.semilogx(res_angs, fsc_cg)\n",
    "#plt.gca().invert_xaxis()\n",
    "#plt.title(\"FSC\")"
   ]
  },
  {
   "cell_type": "code",
   "execution_count": null,
   "id": "504973c1-7aed-4842-ada7-bb4eefb9bf4b",
   "metadata": {},
   "outputs": [],
   "source": [
    "loss_x0 = loss_func(x0, jnp.arange(N)) * jnp.ones((N_iter,))"
   ]
  },
  {
   "cell_type": "code",
   "execution_count": null,
   "id": "3e98c8f0-daee-4f5f-ab34-dd690b103e1a",
   "metadata": {},
   "outputs": [],
   "source": [
    "print(loss_func(v_rec, jnp.arange(N)))\n",
    "print(loss_func(v_p_rec, jnp.arange(N)))\n",
    "print(loss_func(v_lbfgs, jnp.arange(N)))\n",
    "print(loss_func(v_rec_o, jnp.arange(N)))\n",
    "print(loss_func(v_rec_cg, jnp.arange(N)))"
   ]
  },
  {
   "cell_type": "markdown",
   "id": "3d0eaf79-ad75-4c01-b524-dd628542c993",
   "metadata": {},
   "source": [
    "### Notes:\n",
    "\n",
    "* It's important to use a large batch size for both SGD and OASIS: 1000 for 64-128px is good.\n",
    "* OASIS rec with fixed rate is the same as SGD with D0 preconditioner,  the loss and results/FSC are almost identical (since here the Hessian doesn't depend on the current iterate and therefore is estimated perfectly at the beginning). -- actually not true in my latest experiments and I don't know why\n",
    "* When using no $\\sigma_{noise}$ with $128$ pixels and 40,000 images, both OASIS and SGD with precon required higher regularization parameter $10^{-5}$ compared to the other runs, where I used reg param $10^{-9}$\n",
    "* I should with a dataset with no heterogeneity in the future\n",
    "* Still don't know why the adaptive version fails"
   ]
  },
  {
   "cell_type": "code",
   "execution_count": null,
   "id": "0c3326d1-366d-4976-8005-5d9c55db784c",
   "metadata": {},
   "outputs": [],
   "source": [
    "pixel_size * 320/128"
   ]
  },
  {
   "cell_type": "markdown",
   "id": "11587b13-1c60-4711-9bc8-821bdcabb783",
   "metadata": {
    "tags": []
   },
   "source": [
    "### Results:\n",
    "\n",
    "Showing resolution cutoff at $FSC=0.5$ everywhere:\n",
    "\n",
    "#### 1. Small data: `nx_crop=64px` and 10,000 images in each half set, 20 epochs (for SGD/OASIS) and 20 iters (for CG):\n",
    "\n",
    "Everything here is with regularization parameter $10^{-9}$\n",
    "\n",
    "Trilinear interpolation\n",
    "* SGD no precon: $\\approx 20 Å$ \n",
    "* SGD with precon: $\\approx 20 Å$ \n",
    "* OASIS: $\\approx 20 Å$ \n",
    "* OASIS adaptive: meh\n",
    "* CG: $\\approx 20 Å$ \n",
    "\n",
    "Nearest neighbour interpolation:\n",
    "\n",
    "All $\\approx 20 Å$ \n",
    "\n",
    "\n",
    "^ The FSC curves are almost identical for all\n",
    "\n",
    "#### 2. Large data: `nx_crop=128px` and 40,000 images in each half set, 10 epochs:\n",
    "\n",
    "Tri and NN, all around $\\approx 14-15 Å$ "
   ]
  },
  {
   "cell_type": "markdown",
   "id": "27c78c1b-f97f-45a2-899a-38a068a9e2e0",
   "metadata": {},
   "source": [
    "# Figuring out the algorithm, running it on toy problem"
   ]
  },
  {
   "cell_type": "markdown",
   "id": "6f4e8acf-da8b-4931-a80f-2a2a1dc3694f",
   "metadata": {},
   "source": [
    "### OASIS"
   ]
  },
  {
   "cell_type": "markdown",
   "id": "b33042af-f43f-4111-a61c-4748826bb4a1",
   "metadata": {},
   "source": [
    "#### Hutchinson's method"
   ]
  },
  {
   "cell_type": "markdown",
   "id": "1d64e3e8-d051-49f6-b612-3ae4408e2681",
   "metadata": {},
   "source": [
    "The diagonal of a symmetric matrix can be approximated as follows:\n",
    "\n",
    "$\n",
    "\\text{diag}(A) = \\mathbb{E}[z * Az ],\n",
    "$\n",
    "\n",
    "where $z$ is a random vector with Rademacher or Gaussian distribution and $*$ represents element-wise multiplication.\n",
    "\n",
    "Here we're reproducing Figure 1 in the OASIS paper."
   ]
  },
  {
   "cell_type": "code",
   "execution_count": null,
   "id": "0b5f24cb-e3bb-478e-8aba-588f3880ebaa",
   "metadata": {},
   "outputs": [],
   "source": [
    "n = 100\n",
    "\n",
    "key = random.PRNGKey(int(jnp.floor(np.random.rand()*1000)))"
   ]
  },
  {
   "cell_type": "code",
   "execution_count": null,
   "id": "321d8933-93a7-4ab3-aa9a-5fd5d6a717f8",
   "metadata": {},
   "outputs": [],
   "source": [
    "key, subkey = random.split(key)\n",
    "\n",
    "A = random.normal(subkey, (n,n), dtype=jnp.complex128)\n",
    "A = A.T + A\n",
    "\n",
    "plt.imshow(jnp.real(A)); plt.colorbar()"
   ]
  },
  {
   "cell_type": "code",
   "execution_count": null,
   "id": "68e6e03d-a88f-4121-b28f-9a96fd573ea4",
   "metadata": {},
   "outputs": [],
   "source": [
    "iters = 10000\n",
    "\n",
    "key, subkey = random.split(key)\n",
    "z = random.rademacher(subkey, (iters, n))\n",
    "\n",
    "#z * A @ z "
   ]
  },
  {
   "cell_type": "code",
   "execution_count": null,
   "id": "436158da-1e91-45ce-834e-8e918fd6f3c0",
   "metadata": {},
   "outputs": [],
   "source": [
    "zAz = jax.vmap(lambda zi : zi * (A @ zi))(z)\n",
    "#plt.imshow(zAz)"
   ]
  },
  {
   "cell_type": "code",
   "execution_count": null,
   "id": "cae0c37c-9ffa-4c6c-af4a-a0c58c3f3823",
   "metadata": {},
   "outputs": [],
   "source": [
    "d = np.zeros((iters, n), dtype=A.dtype)\n",
    "d[0] = zAz[0]\n",
    "for i in range(1, iters):\n",
    "    d[i] = d[i-1] + zAz[i]\n",
    "    \n",
    "for i in range(1, iters):\n",
    "    d[i] = d[i]/(i+1)"
   ]
  },
  {
   "cell_type": "code",
   "execution_count": null,
   "id": "c8e1da64-4869-4139-8fa4-c6a290078927",
   "metadata": {},
   "outputs": [],
   "source": [
    "err = jnp.mean((d - jnp.diag(A))**2, axis=1)"
   ]
  },
  {
   "cell_type": "code",
   "execution_count": null,
   "id": "c65d8665-b965-4c44-84e5-5957c6a527dc",
   "metadata": {},
   "outputs": [],
   "source": [
    "plt.semilogy(jnp.abs(err))"
   ]
  },
  {
   "cell_type": "markdown",
   "id": "8d9a6610-5cd6-45a3-ae7c-247a47da4ff1",
   "metadata": {},
   "source": [
    "#### Hessian-vector product in JaX"
   ]
  },
  {
   "cell_type": "code",
   "execution_count": null,
   "id": "9a4d218b-4071-48db-88b1-a0f838b6b2a1",
   "metadata": {},
   "outputs": [],
   "source": [
    "key, *subkey = random.split(key, 4)\n",
    "x0 = random.normal(subkey[0], (n,))\n",
    "x = random.normal(subkey[1], (n,))\n",
    "v = random.normal(subkey[2], (n,))"
   ]
  },
  {
   "cell_type": "code",
   "execution_count": null,
   "id": "31e002d4-dd70-42db-a9fc-b5be7426b11e",
   "metadata": {},
   "outputs": [],
   "source": [
    "b = A @ x0 \n",
    "f = lambda x : jnp.real(jnp.mean(jnp.conj(A @ x - b)*(A@x-b)))"
   ]
  },
  {
   "cell_type": "code",
   "execution_count": null,
   "id": "2b9c9028-1e56-4436-b811-8916ab65171f",
   "metadata": {},
   "outputs": [],
   "source": [
    "from jax import jvp, grad\n",
    "\n",
    "# Naive\n",
    "def hvp0(f, x, v):\n",
    "    return grad(lambda x : jnp.vdot(grad(f)(x), v))(x)\n",
    "\n",
    "# forward-over-reverse\n",
    "def hvp(f, x, v):\n",
    "    return jvp(jax.grad(f), x, v)[1]"
   ]
  },
  {
   "cell_type": "code",
   "execution_count": null,
   "id": "29e5c85b-5d3c-4ac7-ac84-e7354b893043",
   "metadata": {},
   "outputs": [],
   "source": [
    "%timeit hvp0(f, x, v)\n",
    "\n",
    "%timeit hvp(f, (x,), (v,))\n",
    "\n",
    "v1 = hvp0(f, x, v)\n",
    "v2 = hvp(f, (x,), (v,))\n",
    "jnp.sum(jnp.abs(v1-v2))"
   ]
  },
  {
   "cell_type": "markdown",
   "id": "37b9b821-9bdc-4fda-88d0-6a29fc9d0e79",
   "metadata": {},
   "source": [
    "#### Toy problem"
   ]
  },
  {
   "cell_type": "code",
   "execution_count": null,
   "id": "4904d533-80e6-423c-a774-092091bd9c92",
   "metadata": {},
   "outputs": [],
   "source": [
    "key, *subkey = random.split(key, 3)\n",
    "\n",
    "x_gt = random.normal(subkey[0], (n,), dtype=jnp.complex128)\n",
    "\n",
    "A = random.normal(subkey[1], (n,n), dtype=x_gt.dtype)\n",
    "A = A.T @ A\n",
    "_, v = jnp.linalg.eigh(A)\n",
    "d = jnp.flip(jnp.logspace(-5,1,n)) \n",
    "d = d + jnp.abs(jnp.min(d)*2)\n",
    "A = v.T @ jnp.diag(d) @ v\n",
    "\n",
    "evals, evecs = np.linalg.eig(A)\n",
    "evals = np.flip(np.sort(evals))\n",
    "\n",
    "\n",
    "assert(jnp.sum(evals < 0) == 0)\n",
    "assert(jnp.max(jnp.imag(evals)) < 1e-13)\n",
    "#assert(jnp.max(jnp.abs(A.T - A)) == 0)\n",
    "#assert(jnp.sum(jnp.abs(A@A.T - A.T@ A)) == 0)\n",
    "\n",
    "evals = jnp.real(evals)\n",
    "plt.semilogy(evals, '.')\n",
    "plt.title(\"Eigenvalues\")\n",
    "print(f\"Condition number = {evals[0]/evals[n-1] : .2e}\")"
   ]
  },
  {
   "cell_type": "code",
   "execution_count": null,
   "id": "401090de-ef3e-4e42-8ccb-66742693059c",
   "metadata": {},
   "outputs": [],
   "source": [
    "sig_noise = 1\n",
    "lam = 0.1\n",
    "\n",
    "key, subkey = random.split(key)\n",
    "\n",
    "b = A @ x_gt  + random.normal(subkey, (n,)) * sig_noise\n",
    "\n",
    "F = jax.jit(lambda x : jnp.real(jnp.mean(jnp.conj(A @ x - b)*(A @ x - b)) + lam * jnp.mean(jnp.conj(x)*x)))\n",
    "print(f\"f(x_gt + 1) = {F(x_gt+1)}\")\n",
    "print(f\"f(x_gt) = {F(x_gt)}\")\n",
    "\n",
    "gradF = jax.jit(jax.grad(F))\n",
    "#hessianF = jax.hessian(F)\n",
    "\n",
    "hvpF = jax.jit(lambda x, v : hvp(F, (x,), (v,)))\n",
    "\n",
    "print(f\"gradF(x_gt) = {gradF(x_gt)}\")\n",
    "#print(f\"hessianF(x_gt) = {hessianF(x_gt)}\")\n"
   ]
  },
  {
   "cell_type": "code",
   "execution_count": null,
   "id": "b94e1555-0cba-4e87-a8ae-fff9a418bbdd",
   "metadata": {},
   "outputs": [],
   "source": [
    "def gd(F, gradF, eta, w0, N_iter = 20, iter_display = 1):\n",
    "    loss = []\n",
    "    for k in range(1, N_iter+1):\n",
    "        w1 = w0 - eta * jnp.conj(gradF(w0))\n",
    "        loss_i = F(w1)\n",
    "        loss.append(loss_i)\n",
    "        \n",
    "        w0 = w1\n",
    "        \n",
    "        if k % iter_display == 0:\n",
    "            print(f\"Iter {k}: loss = {loss_i}\")\n",
    "            \n",
    "    return w1, jnp.array(loss)\n",
    "\n",
    "def newton(F, gradF, hessianF, w0, N_iter = 20, iter_display = 1):\n",
    "    loss = []\n",
    "    for k in range(1, N_iter+1):\n",
    "        G = gradF(w0)\n",
    "        H = hessianF(w0)\n",
    "        \n",
    "        w1 = w0 - jnp.conj(jnp.linalg.inv(H) @ G)\n",
    "        loss_i = F(w1)\n",
    "        loss.append(loss_i)\n",
    "        \n",
    "        w0 = w1\n",
    "        \n",
    "        if k % iter_display == 0:\n",
    "            print(f\"Iter {k}: loss = {loss_i}\")\n",
    "            \n",
    "    return w1, jnp.array(loss)"
   ]
  },
  {
   "cell_type": "code",
   "execution_count": null,
   "id": "ecb98c76-829b-4103-a042-f18004bac2e9",
   "metadata": {},
   "outputs": [],
   "source": [
    "N_iter = 1000\n",
    "eta = 1e-3 #0.000005 # learning rate\n",
    "x0 = np.random.randn(*x_gt.shape)\n",
    "\n",
    "x_gd, loss_gd = gd(F, gradF, eta, x0, N_iter, iter_display = 200)"
   ]
  },
  {
   "cell_type": "code",
   "execution_count": null,
   "id": "7eb85da1-5793-46a2-a687-efacec1f2723",
   "metadata": {},
   "outputs": [],
   "source": [
    "plt.semilogy(loss_gd)"
   ]
  },
  {
   "cell_type": "code",
   "execution_count": null,
   "id": "eb2d880e-0732-4e55-8fae-543264260554",
   "metadata": {},
   "outputs": [],
   "source": [
    "#N_iter = 10\n",
    "\n",
    "#x_n, loss_n = newton(F, gradF, hessianF, x0, N_iter, iter_display = 1)"
   ]
  },
  {
   "cell_type": "code",
   "execution_count": null,
   "id": "91e40bf7-22a3-47c7-ba73-7587e97c8682",
   "metadata": {},
   "outputs": [],
   "source": [
    "#plt.plot(loss_n)"
   ]
  },
  {
   "cell_type": "code",
   "execution_count": null,
   "id": "85918078-6e0b-4ae8-ae60-c714e8f6bb7b",
   "metadata": {},
   "outputs": [],
   "source": [
    "N_iter = 1000\n",
    "\n",
    "zero = jnp.zeros(x_gt.shape)\n",
    "Abfun = gradF(zero)\n",
    "\n",
    "Ab = -jnp.conj(Abfun)\n",
    "AA = jax.jit(lambda vv : jnp.conj(gradF(vv)) + Ab)\n",
    "\n",
    "x_cg, kk, x_cg_all = cg(AA, Ab, x0, N_iter, verbose=True)\n",
    "loss_cg = jax.vmap(F)(jnp.array(x_cg_all))"
   ]
  },
  {
   "cell_type": "code",
   "execution_count": null,
   "id": "67c7eb74-cf6e-4df8-87ff-7f1b8ff76768",
   "metadata": {},
   "outputs": [],
   "source": [
    "print(F(x_gt))\n",
    "print(F(x_cg))\n",
    "print(F(x_gd))\n",
    "#print(F(x_n))"
   ]
  },
  {
   "cell_type": "markdown",
   "id": "882a5b14-0707-4903-8960-3e4e504ee497",
   "metadata": {},
   "source": [
    "#### OASIS"
   ]
  },
  {
   "cell_type": "code",
   "execution_count": null,
   "id": "4f3ab243-597e-46d7-a901-e69e98a7d8b9",
   "metadata": {},
   "outputs": [],
   "source": [
    "Fidx = jax.jit(lambda x, idx : F(x))\n",
    "gradFidx = jax.jit(lambda x, idx : jax.grad(F)(x))\n",
    "hvpFidx = jax.jit(lambda x, v, idx : hvp(F, (x,), (v,)))"
   ]
  },
  {
   "cell_type": "code",
   "execution_count": null,
   "id": "47fe55bb-44f3-4a39-88b4-785129ebdde8",
   "metadata": {},
   "outputs": [],
   "source": [
    "# Estimating D0\n",
    "\n",
    "iters = 100000\n",
    "key, *subkeys = random.split(key, iters+1)\n",
    "zD0z = np.zeros((n,))\n",
    "\n",
    "for i in tqdm(range(iters)):\n",
    "    z = random.rademacher(subkeys[i], (n,), dtype=x0.dtype)\n",
    "    \n",
    "    zD0z += z * hvpFidx(x0, z, 1)\n",
    "    \n",
    "D0 = jnp.array(zD0z/iters)\n",
    "\n",
    "#D0exact = jnp.diag(hessianF(x0)) # Cheating a bit\n"
   ]
  },
  {
   "cell_type": "code",
   "execution_count": null,
   "id": "5ab1dce0-687f-48f2-8ca1-1c2fb37f60a9",
   "metadata": {},
   "outputs": [],
   "source": [
    "#plt.plot(jnp.abs(D0-D0exact)/jnp.abs(D0exact))"
   ]
  },
  {
   "cell_type": "code",
   "execution_count": null,
   "id": "1d4abbff-c637-4fa1-aabb-94e9c15aad4b",
   "metadata": {},
   "outputs": [],
   "source": [
    "N_iter = 1000\n",
    "beta2 = 0.99\n",
    "eta = 0.1 #0.1 #0.1/0.001/0.01/0.15\n",
    "                       \n",
    "alpha = 0.1 #0.1 # 0.01\n",
    "\n",
    "key, subkey = random.split(key)\n",
    "x_o, loss_o = oasis(subkey, Fidx, gradFidx, hvpFidx, x0, eta, D0, beta2, alpha, N_iter, iter_display = 100)\n"
   ]
  },
  {
   "cell_type": "code",
   "execution_count": null,
   "id": "d7d8a80c-96d4-4143-a907-bc14acbdb5cc",
   "metadata": {},
   "outputs": [],
   "source": [
    "N_iter = 1000\n",
    "beta2 = 0.99\n",
    "eta0 = 0.1 #0.1/0.001/0.01/0.15\n",
    "                       \n",
    "alpha = 0.1 # 0.01\n",
    "\n",
    "key, subkey = random.split(key)\n",
    "x_oa, loss_oa = oasis_adaptive(subkey, Fidx, gradFidx, hvpFidx, x0, eta0, D0, beta2, alpha, N_iter, iter_display = 500)\n"
   ]
  },
  {
   "cell_type": "code",
   "execution_count": null,
   "id": "65316fa4-29ef-4a8b-98a3-a5150a90a40d",
   "metadata": {},
   "outputs": [],
   "source": [
    "#print(jnp.mean(jnp.abs(x_gt-x_n)))\n",
    "print(jnp.mean(jnp.abs(x_gt-x_cg)))\n",
    "print(jnp.mean(jnp.abs(x_gt-x_gd)))\n",
    "print(jnp.mean(jnp.abs(x_gt-x_o)))\n",
    "print(jnp.mean(jnp.abs(x_gt-x_oa)))\n",
    "\n",
    "plt.rcParams[\"figure.figsize\"]=12, 6\n",
    "\n",
    "plt.subplot(1,2,1)\n",
    "\n",
    "nn0 = 0\n",
    "nn1 = 1000\n",
    "#plt.semilogy(loss_n[nn0:nn1])\n",
    "plt.semilogy(loss_gd[nn0:nn1])\n",
    "plt.semilogy(loss_cg[nn0:nn1])\n",
    "plt.semilogy(loss_o[nn0:nn1])\n",
    "plt.semilogy(loss_oa[nn0:nn1])\n",
    "#plt.legend([\"Newton\", \"GD\", \"OASIS\", \"OASIS adaptive\"])\n",
    "plt.legend([\"GD\", \"CG\", \"OASIS\", \"OASIS adaptive\"])\n",
    "plt.title(\"Loss\")\n",
    "\n",
    "plt.subplot(1,2,2)\n",
    "#plt.semilogy(jnp.abs(x_gt-x_n))\n",
    "plt.semilogy(jnp.abs(x_gt-x_gd))\n",
    "plt.semilogy(jnp.abs(x_gt-x_o))\n",
    "plt.semilogy(jnp.abs(x_gt-x_oa))\n",
    "plt.legend([\"GD\", \"OASIS\", \"OASIS_adaptive\"])\n",
    "plt.title(\"Error\")\n",
    "\n",
    "plt.rcParams[\"figure.figsize\"]=6, 6"
   ]
  },
  {
   "cell_type": "markdown",
   "id": "a8b6c827-8a95-402c-b11f-ceeae8a12d5c",
   "metadata": {},
   "source": [
    "### Stochastic - sum of operators"
   ]
  },
  {
   "cell_type": "code",
   "execution_count": null,
   "id": "1fff654c-9c9a-4e22-8174-9b5bf8028231",
   "metadata": {},
   "outputs": [],
   "source": [
    "key = random.PRNGKey(int(jnp.floor(np.random.rand()*1000)))"
   ]
  },
  {
   "cell_type": "markdown",
   "id": "eab15192-ed05-48be-8bc6-519f1af7f07b",
   "metadata": {},
   "source": [
    "Generate $N$ operators to create a loss function to run SGD/OASIS on:"
   ]
  },
  {
   "cell_type": "code",
   "execution_count": null,
   "id": "e4b0a499-469f-4b89-bbd8-4eb4b0af9075",
   "metadata": {},
   "outputs": [],
   "source": [
    "sig_noise = 10\n",
    "lam = 0.1"
   ]
  },
  {
   "cell_type": "code",
   "execution_count": null,
   "id": "22bdc44f-ff0b-4b9d-b412-c0ceddb3a674",
   "metadata": {},
   "outputs": [],
   "source": [
    "n = 100\n",
    "N = 1000\n",
    "\n",
    "key, subkey = random.split(key)\n",
    "\n",
    "x_gt = random.normal(subkey, (n,), dtype=jnp.complex128)\n",
    "\n",
    "ops = []\n",
    "b = []\n",
    "for i in range(N):\n",
    "    key, *subkeys = random.split(key, 4)\n",
    "    \n",
    "    A = random.normal(subkeys[0], (n,n), dtype = x_gt.dtype)\n",
    "    A = A.T @ A\n",
    "    _, v = jnp.linalg.eigh(A)\n",
    "    \n",
    "    d = jnp.logspace(10,-5,n) + random.normal(subkeys[1], (n,), dtype = jnp.double)*10 \n",
    "    d = d + jnp.abs(jnp.min(d)*2)\n",
    "                 \n",
    "    A = v.T @ jnp.diag(d) @ v\n",
    "    ops.append(A)\n",
    "    \n",
    "    bn = A @ x_gt + random.normal(subkeys[2], (n,), dtype = x_gt.dtype) * sig_noise\n",
    "    b.append(bn)\n",
    "    \n",
    "    #print(jnp.mean((A@x_gt - bn)**2))\n",
    "    \n",
    "ops = jnp.array(ops)\n",
    "b = jnp.array(b)"
   ]
  },
  {
   "cell_type": "code",
   "execution_count": null,
   "id": "5e78e315-c297-4911-91cf-f1d27bc1a509",
   "metadata": {},
   "outputs": [],
   "source": [
    "w, _ = jnp.linalg.eigh(A)\n",
    "w = jnp.flip(jnp.sort(w))\n",
    "print(f\"{jnp.max(w)/jnp.min(w) : .2e}\")"
   ]
  },
  {
   "cell_type": "code",
   "execution_count": null,
   "id": "ddb234d9-26d3-4520-a589-2e0677dccdae",
   "metadata": {},
   "outputs": [],
   "source": [
    "print(jnp.max(w))\n",
    "print(jnp.min(w))"
   ]
  },
  {
   "cell_type": "code",
   "execution_count": null,
   "id": "468e3a1f-4f0f-4d36-aa67-b758871eea2d",
   "metadata": {},
   "outputs": [],
   "source": [
    "def loss_term(x, A, b):\n",
    "    return 1/2 * jnp.real(jnp.mean(jnp.conj(A@x - b)*(A@x - b)) + lam * jnp.mean(jnp.conj(x)*x))\n",
    "\n",
    "def loss_func(x, ops, b):\n",
    "    return jnp.mean(jax.vmap(loss_term, in_axes = (None, 0, 0))(x, ops, b))\n",
    "\n",
    "def grad_loss_func(x, ops, b):\n",
    "    return jax.grad(loss_func)(x, ops, b)\n",
    "\n",
    "def hvp_loss_func(x, v, ops, b):\n",
    "    return jvp(lambda y : grad_loss_func(y, ops, b), (x,), (v,))[1]"
   ]
  },
  {
   "cell_type": "code",
   "execution_count": null,
   "id": "596a2b9b-f7fe-48f1-b8be-d37784d8e003",
   "metadata": {},
   "outputs": [],
   "source": [
    "idx = np.random.permutation(N)[:N//3]\n",
    "\n",
    "print(loss_term(x_gt, ops[0], b[0]))\n",
    "print(loss_func(x_gt, ops, b))\n",
    "\n",
    "print(grad_loss_func(x_gt, ops, b).shape)\n",
    "print(grad_loss_func(x_gt, ops[idx], b[idx]).shape)\n",
    "\n",
    "print(hvp_loss_func(x_gt, x_gt, ops, b).shape)\n",
    "print(hvp_loss_func(x_gt, x_gt, ops[idx], b[idx]).shape)"
   ]
  },
  {
   "cell_type": "code",
   "execution_count": null,
   "id": "f676aa77-b686-4343-a484-f7153d02b5f5",
   "metadata": {},
   "outputs": [],
   "source": [
    "key, subkey = random.split(key)\n",
    "\n",
    "hessianF = lambda x : jax.hessian(loss_func)(x, ops, b)\n",
    "\n",
    "Fidx = jax.jit(lambda x, idx : loss_func(x, ops[idx], b[idx]))\n",
    "gradFidx = jax.jit(lambda x, idx : grad_loss_func(x, ops[idx], b[idx]))\n",
    "hvpFidx = jax.jit(lambda x, v, idx : hvp_loss_func(x, v, ops[idx], b[idx]))\n",
    "x0 = random.normal(subkey, (n,), dtype = x_gt.dtype)"
   ]
  },
  {
   "cell_type": "code",
   "execution_count": null,
   "id": "1c4ebd6f-40e2-499f-b779-dba06af2cbc3",
   "metadata": {},
   "outputs": [],
   "source": [
    "Fidx(x_gt, jnp.arange(N))"
   ]
  },
  {
   "cell_type": "code",
   "execution_count": null,
   "id": "8068f6e8-e2eb-42b5-b66f-a6fd1c4ee07b",
   "metadata": {},
   "outputs": [],
   "source": [
    "#D0 = jnp.ones((nx,nx,nx))  #<--- not very good\n",
    "#D0exact = jnp.diag(hessianF(x0)) # This is cheating\n",
    "\n",
    "iters = 10000\n",
    "batch_sz = 32\n",
    "key, *subkeys = random.split(key, 2*iters+1)\n",
    "\n",
    "zD0z = np.zeros((n,))\n",
    "\n",
    "for i in tqdm(range(iters)):\n",
    "    z = random.rademacher(subkeys[2*i], (n,), dtype=x0.dtype)\n",
    "    idx = random.permutation(subkeys[2*i+1], N)[:batch_sz]\n",
    "    \n",
    "    zD0z += z * hvpFidx(x0, z, idx)\n",
    "    \n",
    "D0 = jnp.array(zD0z/iters)\n",
    "\n",
    "\n",
    "#plt.plot(jnp.abs(D0-D0exact)/jnp.abs(D0exact))"
   ]
  },
  {
   "cell_type": "code",
   "execution_count": null,
   "id": "0b0edb39-6c54-401d-b223-8894798094f5",
   "metadata": {},
   "outputs": [],
   "source": [
    "N_epoch = 20\n",
    "beta2 = 0.99\n",
    "eta = 1e-1 #0.1 #0.1/0.001/0.01/0.15\n",
    "                       \n",
    "alpha = 0 #0.1 #0.1 # 0.01\n",
    "\n",
    "key, subkey = random.split(key)\n",
    "x_os, loss_os = oasis(subkey, Fidx, gradFidx, hvpFidx, x0, eta, D0, beta2, alpha, N_epoch, batch_size = 20, N = N, iter_display = 1)\n"
   ]
  },
  {
   "cell_type": "code",
   "execution_count": null,
   "id": "1c082c87-8e9b-4367-bfa4-8f203c74a99e",
   "metadata": {},
   "outputs": [],
   "source": [
    "N_epoch = 20\n",
    "beta2 = 0.99\n",
    "eta = 0.01 #0.1 #0.1/0.001/0.01/0.15\n",
    "                       \n",
    "alpha = 0 #0.1 #0.1 # 0.01\n",
    "\n",
    "key, subkey = random.split(key)\n",
    "x_osa, loss_osa = oasis_adaptive(subkey, Fidx, gradFidx, hvpFidx, x0, eta, D0, beta2, alpha, N_epoch, batch_size = 20, N = N, iter_display = 1)\n"
   ]
  },
  {
   "cell_type": "code",
   "execution_count": null,
   "id": "4952b15f-88ce-4e16-9413-78b54c5014c3",
   "metadata": {},
   "outputs": [],
   "source": [
    "N_epoch = 20\n",
    "beta2 = 0.99\n",
    "eta = 1e-1 #0.1 #0.1/0.001/0.01/0.15\n",
    "                       \n",
    "alpha = 0 #0.1 #0.1 # 0.01\n",
    "\n",
    "key, subkey = random.split(key)\n",
    "x_o, loss_o = oasis(subkey, Fidx, gradFidx, hvpFidx, x0, eta, D0, beta2, alpha, N_epoch, batch_size = None, N=N, iter_display = 1)"
   ]
  },
  {
   "cell_type": "code",
   "execution_count": null,
   "id": "c29a92b9-ef4b-4d19-8e5f-97cf38972a38",
   "metadata": {},
   "outputs": [],
   "source": [
    "N_epoch = 20\n",
    "beta2 = 0.99\n",
    "eta = 1e-1 #0.1 #0.1/0.001/0.01/0.15\n",
    "                       \n",
    "alpha = 0 #0.1 #0.1 # 0.01\n",
    "\n",
    "key, subkey = random.split(key)\n",
    "x_oa, loss_oa = oasis_adaptive(subkey, Fidx, gradFidx, hvpFidx, x0, eta, D0, beta2, alpha, N_epoch, batch_size = None, N=N, iter_display = 1)\n"
   ]
  },
  {
   "cell_type": "code",
   "execution_count": null,
   "id": "190efe4d-8fdb-4e33-99eb-feb74a4b0ec4",
   "metadata": {},
   "outputs": [],
   "source": [
    "N_epoch = 20\n",
    "eta = 1e-18\n",
    "                       \n",
    "key, subkey = random.split(key)\n",
    "x_sgd, loss_sgd, _ = sgd(gradFidx, Fidx, N, x0, eta, N_epoch, batch_size = 20, verbose = True, iter_display = 1)"
   ]
  },
  {
   "cell_type": "code",
   "execution_count": null,
   "id": "f660f36d-a2f4-4aa0-9d1d-00ad1e2b9af5",
   "metadata": {},
   "outputs": [],
   "source": [
    "N_epoch = 20\n",
    "beta2 = 0.99\n",
    "eta = 1e-1\n",
    "                       \n",
    "key, subkey = random.split(key)\n",
    "x_sgdp, loss_sgdp, _ = sgd(gradFidx, Fidx, N, x0, eta, N_epoch, batch_size = 20, P = 1/D0, verbose = True, iter_display = 1)"
   ]
  },
  {
   "cell_type": "code",
   "execution_count": null,
   "id": "12fe04dd-5169-408e-afa5-2313903faf06",
   "metadata": {},
   "outputs": [],
   "source": [
    "plt.rcParams[\"figure.figsize\"]=12, 6\n",
    "\n",
    "plt.subplot(1,2,1)\n",
    "plt.semilogy(loss_sgd)\n",
    "plt.semilogy(loss_sgdp)\n",
    "plt.semilogy(loss_o)\n",
    "plt.semilogy(loss_os)\n",
    "plt.semilogy(loss_oa)\n",
    "plt.semilogy(loss_osa)\n",
    "plt.legend([\"SGD\", \"SGD precon\", \"OASIS fixed rate, deterministic\", \"OASIS fixed_rate, stochastic\", \"OASIS adaptive, deterministic\", \"OASIS adaptive, stochastic\"])\n",
    "#plt.legend([\"SGD\", \"OASIS fixed_rate, stochastic\", \"OASIS adaptive, stochastic\"])\n",
    "plt.title(\"Loss\")\n",
    "\n",
    "plt.subplot(1,2,2)\n",
    "plt.semilogy(jnp.abs(x_sgd-x_gt))\n",
    "plt.semilogy(jnp.abs(x_sgdp-x_gt))\n",
    "#plt.semilogy(jnp.abs(x_o-x_gt))\n",
    "plt.semilogy(jnp.abs(x_os-x_gt))\n",
    "#plt.semilogy(jnp.abs(x_oa-x_gt))\n",
    "plt.semilogy(jnp.abs(x_osa-x_gt))\n",
    "#plt.legend([\"SGD\", \"OASIS fixed rate, deterministic\", \"OASIS fixed_rate, stochastic\", \"OASIS adaptive, deterministic\", \"OASIS adaptive, stochastic\"])\n",
    "plt.legend([\"SGD\", \"SGD+p\", \"OASIS fixed_rate, stochastic\", \"OASIS adaptive, stochastic\"])\n",
    "plt.title(\"Error\")\n",
    "\n",
    "plt.rcParams[\"figure.figsize\"]=6,6"
   ]
  },
  {
   "cell_type": "code",
   "execution_count": null,
   "id": "f582302d-8b70-46f2-8bda-9f2bc54a8595",
   "metadata": {},
   "outputs": [],
   "source": [
    "plt.semilogy(loss_sgdp)\n",
    "plt.semilogy(loss_os)\n",
    "plt.legend([\"Loss SGD+precon\", \"Loss OASIS stochastic\"])"
   ]
  },
  {
   "cell_type": "code",
   "execution_count": null,
   "id": "a85c4e01-ad20-4be0-a5c0-7c024b385a19",
   "metadata": {},
   "outputs": [],
   "source": [
    "print(Fidx(x_gt, jnp.arange(N)))\n",
    "print(Fidx(x_sgd, jnp.arange(N)))\n",
    "print(Fidx(x_sgdp, jnp.arange(N)))\n",
    "print(Fidx(x_o, jnp.arange(N)))\n",
    "print(Fidx(x_os, jnp.arange(N)))\n",
    "print(Fidx(x_oa, jnp.arange(N)))\n",
    "print(Fidx(x_osa, jnp.arange(N)))\n"
   ]
  },
  {
   "cell_type": "markdown",
   "id": "db4fd16c-014f-4de5-a06e-1669a7b81280",
   "metadata": {},
   "source": [
    "Next:\n",
    "\n",
    "* ~~Run the new OASIS algorithms on the old (deterministic one operator) toy problem~~\n",
    "* ~~Implement the adaptive version of the stochastic OASIS~~\n",
    "* ~~Add noise and rerun all the experiments~~\n",
    "* In the stochastic toy problem case, also compare with CG (make the problem small enough so that we can do CG)\n",
    "* ~~Implement some kind of warm up /estimation of $D_0$~~\n",
    "* ~~Run on CryoEM data~~"
   ]
  }
 ],
 "metadata": {
  "kernelspec": {
   "display_name": "Python 3",
   "language": "python",
   "name": "python3"
  },
  "language_info": {
   "codemirror_mode": {
    "name": "ipython",
    "version": 3
   },
   "file_extension": ".py",
   "mimetype": "text/x-python",
   "name": "python",
   "nbconvert_exporter": "python",
   "pygments_lexer": "ipython3",
   "version": "3.9.13"
  },
  "vscode": {
   "interpreter": {
    "hash": "b0fa6594d8f4cbf19f97940f81e996739fb7646882a419484c72d19e05852a7e"
   }
  }
 },
 "nbformat": 4,
 "nbformat_minor": 5
}
