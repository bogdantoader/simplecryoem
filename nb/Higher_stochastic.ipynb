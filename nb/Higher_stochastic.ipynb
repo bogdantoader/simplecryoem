{
 "cells": [
  {
   "cell_type": "markdown",
   "id": "9adcce94-7192-441e-9683-bbb65e31c27a",
   "metadata": {},
   "source": [
    "# Second order stochastic methods for CryoEM -- OASIS"
   ]
  },
  {
   "cell_type": "code",
   "execution_count": 1,
   "id": "2abbe3cc-d606-42cb-8a87-88b079f4abc8",
   "metadata": {},
   "outputs": [],
   "source": [
    "%load_ext autoreload\n",
    "%autoreload 2\n",
    "import site\n",
    "import sys\n",
    "import time\n",
    "import pickle\n",
    "site.addsitedir('..')\n",
    "from jax.config import config\n",
    "\n",
    "config.update(\"jax_enable_x64\", True)"
   ]
  },
  {
   "cell_type": "code",
   "execution_count": 2,
   "id": "70edf6b0-fad6-4d1e-82ac-54d478732b02",
   "metadata": {},
   "outputs": [],
   "source": [
    "import jax\n",
    "import mrcfile\n",
    "from jax.scipy.special import gammaln\n",
    "from jax import random\n",
    "from tqdm import tqdm \n",
    "\n",
    "import numpy as np\n",
    "import jax.numpy as jnp\n",
    "from  matplotlib import pyplot as plt\n",
    "from src.utils import *\n",
    "from src.projection import *\n",
    "from src.interpolate import *\n",
    "from src.jaxops import *\n",
    "from src.algorithm import sgd, get_sgd_vol_ops, get_cg_vol_ops\n",
    "from src.algorithm import conjugate_gradient as cg\n",
    "from src.algorithm import oasis, oasis_adaptive\n",
    "from src.datasets import *\n",
    "from src.noise import estimate_noise, average_radially, estimate_noise_radial\n",
    "from src.preprocess import *\n",
    "from src.fsc import calc_fsc\n",
    "\n",
    "plt.rcParams[\"figure.figsize\"]=6,6"
   ]
  },
  {
   "cell_type": "code",
   "execution_count": null,
   "id": "6568c2d1-797d-41f5-8922-979ce9151f8a",
   "metadata": {},
   "outputs": [],
   "source": [
    "data_dir = \"/gpfs/gibbs/pi/lederman/dge5/CrossValidationCryodrgnSet/\"\n",
    "star_file = \"particles_crossvalidation_train_1.star\"\n",
    "\n",
    "params0, imgs0 = load_data(data_dir, star_file, load_imgs = True, fourier = False)"
   ]
  },
  {
   "cell_type": "code",
   "execution_count": null,
   "id": "83b0531f-868d-424a-bd2b-363dd66b597c",
   "metadata": {},
   "outputs": [],
   "source": [
    "out_dir = out_dir = '../data/out_dev/'"
   ]
  },
  {
   "cell_type": "code",
   "execution_count": null,
   "id": "a109c7d5-532c-41ec-9cf4-40423c457931",
   "metadata": {},
   "outputs": [],
   "source": [
    "nx0 = imgs0.shape[1]\n",
    "nx_crop = 128 # 64\n",
    "N = 80000 # 20000\n",
    "N_px_noise = 48\n",
    "N_imgs_noise=1000\n",
    "\n",
    "processed_data = preprocess(imgs0, params0, out_dir, nx_crop = nx_crop, N = N, N_px_noise = N_px_noise, N_imgs_noise = N_imgs_noise)\n",
    "\n",
    "imgs_f = processed_data[\"imgs_f\"]\n",
    "pixel_size = processed_data[\"pixel_size\"]\n",
    "angles = processed_data[\"angles\"]\n",
    "shifts = processed_data[\"shifts\"]\n",
    "ctf_params = processed_data[\"ctf_params\"]\n",
    "idxrand = processed_data[\"idxrand\"]\n",
    "nx = processed_data[\"nx\"]\n",
    "x_grid = processed_data[\"x_grid\"]\n",
    "mask = processed_data[\"mask\"]\n",
    "sigma_noise = processed_data[\"sigma_noise\"]\n",
    "N = imgs_f.shape[0]"
   ]
  },
  {
   "cell_type": "code",
   "execution_count": null,
   "id": "8f712166-e8f4-4f94-8523-b5adf8addb30",
   "metadata": {},
   "outputs": [],
   "source": [
    "plt.imshow(jnp.fft.fftshift(jnp.abs(imgs_f[135].reshape([nx_crop,nx_crop]))));plt.colorbar()"
   ]
  },
  {
   "cell_type": "code",
   "execution_count": null,
   "id": "2c7d5aa0-4f24-49b1-b4ec-a343c065dabe",
   "metadata": {},
   "outputs": [],
   "source": [
    "#del(imgs0)"
   ]
  },
  {
   "cell_type": "markdown",
   "id": "3cdc7bca-a144-4276-9f46-8707eadf2acd",
   "metadata": {},
   "source": [
    "### Only volume reconstruction for now - SGD vs OASIS"
   ]
  },
  {
   "cell_type": "code",
   "execution_count": null,
   "id": "05969239-1176-449e-9c6e-75b195de0ce4",
   "metadata": {},
   "outputs": [],
   "source": [
    "#sigma_noise_est = sigma_noise\n",
    "#sigma_noise = jnp.ones(sigma_noise.shape)\n",
    "sigma_noise = sigma_noise_est"
   ]
  },
  {
   "cell_type": "code",
   "execution_count": null,
   "id": "512a5942-2ed4-4933-9c34-e4108163fda7",
   "metadata": {},
   "outputs": [],
   "source": [
    "sigma_noise"
   ]
  },
  {
   "cell_type": "code",
   "execution_count": null,
   "id": "6b3bd981-d3ee-42ca-996a-88d0e8429eb0",
   "metadata": {},
   "outputs": [],
   "source": [
    "jnp.max(sigma_noise_est)/jnp.min(sigma_noise_est)"
   ]
  },
  {
   "cell_type": "code",
   "execution_count": null,
   "id": "25674ba2-f439-42aa-84b6-9337cd115c3a",
   "metadata": {},
   "outputs": [],
   "source": [
    "# Apply mask to images\n",
    "mask2d = mask[0].reshape(-1)\n",
    "imgs_f = imgs_f * mask2d"
   ]
  },
  {
   "cell_type": "code",
   "execution_count": null,
   "id": "c50ca3a5-41d6-4728-a278-115e291b0f8e",
   "metadata": {},
   "outputs": [],
   "source": [
    "key = random.PRNGKey(int(jnp.floor(np.random.rand()*1000)))"
   ]
  },
  {
   "cell_type": "code",
   "execution_count": null,
   "id": "7814ad4e-ec4a-497d-8b87-f6610582fb55",
   "metadata": {},
   "outputs": [],
   "source": [
    "alpha =  1e-8 #1e-9 # 1e-5\n",
    "\n",
    "slice_obj = Slice(x_grid, mask = mask)\n",
    "loss_obj = Loss(slice_obj, alpha = alpha)\n",
    "gradv_obj = GradV(loss_obj)"
   ]
  },
  {
   "cell_type": "markdown",
   "id": "6e4f7f86-6725-4690-8133-ef4703766f9b",
   "metadata": {},
   "source": [
    "Use the same datasets, loss, grad, hvp, x0, D0 for SGD and OASIS"
   ]
  },
  {
   "cell_type": "code",
   "execution_count": null,
   "id": "6bb5ddd4-ff56-483c-b4a6-524cd7bb46ae",
   "metadata": {},
   "outputs": [],
   "source": [
    "idxrand = np.random.permutation(N)\n",
    "idx1 = idxrand[:N//2]\n",
    "idx2 = idxrand[N//2:]"
   ]
  },
  {
   "cell_type": "code",
   "execution_count": null,
   "id": "8012f3a5-5494-49dd-8378-441f7b196a07",
   "metadata": {},
   "outputs": [],
   "source": [
    "grad_func1, loss_func1, hvp_func1 = get_sgd_vol_ops(gradv_obj, loss_obj, angles[idx1], shifts[idx1], ctf_params[idx1], imgs_f[idx1], sigma_noise)\n",
    "grad_func2, loss_func2, hvp_func2 = get_sgd_vol_ops(gradv_obj, loss_obj, angles[idx2], shifts[idx2], ctf_params[idx2], imgs_f[idx2], sigma_noise)\n",
    "\n",
    "key, subkey = random.split(key)\n",
    "x0 = random.normal(subkey, [nx,nx,nx], dtype=jnp.complex128)\n"
   ]
  },
  {
   "cell_type": "code",
   "execution_count": null,
   "id": "5af0e1f2-78e4-46fb-9209-99b8794b39ce",
   "metadata": {},
   "outputs": [],
   "source": [
    "200000"
   ]
  },
  {
   "cell_type": "code",
   "execution_count": null,
   "id": "6028284e-0a58-4769-ab19-516dac7a38bc",
   "metadata": {},
   "outputs": [],
   "source": [
    "iters = 2000\n",
    "batch_sz = 100\n",
    "key, *subkeys = random.split(key, 2*iters+1)\n",
    "\n",
    "zD01z = np.zeros([nx,nx,nx])\n",
    "zD02z = np.zeros([nx,nx,nx])\n",
    "\n",
    "for i in tqdm(range(iters)):\n",
    "    z = random.rademacher(subkeys[2*i], [nx,nx,nx], dtype=x0.dtype)\n",
    "    idx = random.permutation(subkeys[2*i+1], N//2)[:batch_sz]\n",
    "    \n",
    "    zD01z += z * hvp_func1(x0, z, idx)\n",
    "    zD02z += z * hvp_func2(x0, z, idx)\n",
    "    \n",
    "D01 = jnp.array(zD01z/iters)\n",
    "D02 = jnp.array(zD02z/iters)"
   ]
  },
  {
   "cell_type": "code",
   "execution_count": null,
   "id": "d42f66d1-c4d1-4aaa-9fbf-04e51948679c",
   "metadata": {},
   "outputs": [],
   "source": [
    "plt.imshow(jnp.fft.fftshift(jnp.abs(D01[0,:,:]))); plt.colorbar()\n",
    "print(jnp.min(jnp.abs(D01)))\n",
    "print(jnp.max(jnp.abs(D01)))\n",
    "print(jnp.max(jnp.abs(D01))/jnp.min(jnp.abs(D01)))"
   ]
  },
  {
   "cell_type": "code",
   "execution_count": null,
   "id": "083f2d98-5413-4da4-9bac-98bb9afd4990",
   "metadata": {},
   "outputs": [],
   "source": [
    "DD = jnp.maximum(jnp.abs(D01), 1e-9)\n",
    "plt.imshow(jnp.fft.fftshift(jnp.abs(DD[0,:,:]))); plt.colorbar()\n",
    "print(jnp.min(jnp.abs(DD)))\n",
    "print(jnp.max(jnp.abs(DD)))"
   ]
  },
  {
   "cell_type": "code",
   "execution_count": null,
   "id": "c6cabe6e-dc4e-4ccf-8879-069df468b101",
   "metadata": {},
   "outputs": [],
   "source": [
    "print(jnp.max(jnp.abs(D01)))\n",
    "print(jnp.max(jnp.abs(D02)))\n",
    "print(jnp.max(jnp.abs(D01-D02)))"
   ]
  },
  {
   "cell_type": "markdown",
   "id": "88047d6f-804d-43c7-9377-2a9f6816c606",
   "metadata": {},
   "source": [
    "#### SGD"
   ]
  },
  {
   "cell_type": "code",
   "execution_count": null,
   "id": "9541c479-c274-41eb-8fc7-612da2e56705",
   "metadata": {},
   "outputs": [],
   "source": [
    "N_epochs = 5\n",
    "batch_size = 1000\n",
    "step_size =  1e6 #1e-4 #1e-1 #1e-5 #1e-2 #1000000 # 1e-3\n",
    "\n",
    "# Step sizes (empirically found, i.e. the largest that doesn't lead to loss exploding): \n",
    "\n",
    "# 10k imgs, 64px:\n",
    "#   no sigma_noise, no precon: 1e1 V\n",
    "#   no sigma_noise, with precon: 1e-2 V\n",
    "#   with sigma_noise, no precon: 1e6 V\n",
    "#   with sigma_noise, with precon: 1e-1 V\n",
    "\n",
    "# 40k imgs, 128px , reg 1e-5\n",
    "#  no sigma_noise, no precon: 1e1 V\n",
    "#  no sigma_noise, with precon: 1e-1 V\n",
    "\n",
    "# ---\n",
    "\n",
    "#  with sigma_noise, no precon: 1e5, \n",
    "#  with_sigma_noise, with precon: 1e-3, "
   ]
  },
  {
   "cell_type": "code",
   "execution_count": null,
   "id": "c6070e22-f729-431f-966d-bec1fe905820",
   "metadata": {},
   "outputs": [],
   "source": [
    "P1 = None\n",
    "#P1 = 1/D01\n",
    "\n",
    "key, subkey = random.split(key)\n",
    "x01 = random.normal(subkey, [nx,nx,nx], dtype=jnp.complex128)\n",
    "v_rec1, loss_rec1, grad_rec1 = sgd(grad_func1, loss_func1, N//2, x01, step_size, N_epochs, batch_size, P = P1, verbose=True, iter_display=1)\n"
   ]
  },
  {
   "cell_type": "code",
   "execution_count": null,
   "id": "1e4d84d3-781c-4608-aa5b-e72766c79fc5",
   "metadata": {},
   "outputs": [],
   "source": [
    "P2 = None\n",
    "#P2 = 1/D02\n",
    "\n",
    "key, subkey = random.split(key)\n",
    "x02 = random.normal(subkey, [nx,nx,nx], dtype=jnp.complex128)\n",
    "v_rec2, loss_rec2, grad_rec2 = sgd(grad_func2, loss_func2, N//2, x02, step_size, N_epochs, batch_size, P = P2, verbose=True, iter_display=1)\n"
   ]
  },
  {
   "cell_type": "code",
   "execution_count": null,
   "id": "df1ecd2c-2aef-4335-813c-15e4b4036017",
   "metadata": {},
   "outputs": [],
   "source": [
    "plt.plot(loss_rec1)\n",
    "plt.plot(loss_rec2)"
   ]
  },
  {
   "cell_type": "code",
   "execution_count": null,
   "id": "ce5d41c3-633e-46f8-bc68-fedffd243a15",
   "metadata": {},
   "outputs": [],
   "source": [
    "plt.rcParams[\"figure.figsize\"]=12, 12\n",
    "\n",
    "plt.subplot(1,2,1)\n",
    "mip_z(np.fft.fftshift(np.imag(v_rec1))); plt.colorbar()\n",
    "\n",
    "plt.subplot(1,2,2)\n",
    "mip_z(np.fft.fftshift(np.imag(v_rec2))); plt.colorbar()"
   ]
  },
  {
   "cell_type": "code",
   "execution_count": null,
   "id": "d0d7877c-3a1a-424e-bc9d-0f23b9101cbc",
   "metadata": {},
   "outputs": [],
   "source": [
    "v_rec_l1, _ = rescale_larger_grid(v_rec1, x_grid, nx0)\n",
    "vr_sgd1 = jnp.real(jnp.fft.fftshift(jnp.fft.ifftn(v_rec_l1)))\n",
    "\n",
    "v_rec_l2, _ = rescale_larger_grid(v_rec2, x_grid, nx0)\n",
    "vr_sgd2 = jnp.real(jnp.fft.fftshift(jnp.fft.ifftn(v_rec_l2)))\n",
    "\n",
    "plt.subplot(1,2,1)\n",
    "mip_z(vr_sgd1)\n",
    "#plt.colorbar()\n",
    "\n",
    "plt.subplot(1,2,2)\n",
    "mip_z(vr_sgd2)\n",
    "#plt.colorbar()\n",
    "\n",
    "plt.rcParams[\"figure.figsize\"]=6, 6\n"
   ]
  },
  {
   "cell_type": "code",
   "execution_count": null,
   "id": "b799a8fe-ff5c-4821-b2a3-805e002cb15a",
   "metadata": {},
   "outputs": [],
   "source": [
    "with mrcfile.new(f\"{out_dir}/v_rec_sgd1.mrc\", overwrite=True) as mrc:\n",
    "    mrc.set_data(vr_sgd1.astype(np.float32))\n",
    "    \n",
    "with mrcfile.new(f\"{out_dir}/v_rec_sgd2.mrc\", overwrite=True) as mrc:\n",
    "    mrc.set_data(vr_sgd2.astype(np.float32))   "
   ]
  },
  {
   "cell_type": "code",
   "execution_count": null,
   "id": "1d955df3-a44c-4e6b-8618-df5cba517b16",
   "metadata": {},
   "outputs": [],
   "source": [
    "res, fsc_sgd, shell_points = calc_fsc(v_rec1, v_rec2, [1, nx_crop])\n",
    "res_angs = nx0 * pixel_size[0]/res\n",
    "plt.semilogx(res_angs, fsc_sgd)\n",
    "plt.gca().invert_xaxis()\n",
    "plt.title(\"FSC\")"
   ]
  },
  {
   "cell_type": "code",
   "execution_count": null,
   "id": "4131af72-3abf-4a8d-9eaa-f90459606730",
   "metadata": {},
   "outputs": [],
   "source": [
    "print(fsc_sgd[15])\n",
    "print(fsc_sgd[16])\n",
    "print(res_angs[15])\n",
    "print(res_angs[16])"
   ]
  },
  {
   "cell_type": "markdown",
   "id": "487dd74b-3ff3-4736-ad34-66ef8024e8e9",
   "metadata": {},
   "source": [
    "#### OASIS"
   ]
  },
  {
   "cell_type": "code",
   "execution_count": null,
   "id": "eeb9e81e-f271-444f-9ee4-451bec7300f0",
   "metadata": {},
   "outputs": [],
   "source": [
    "N_epoch = 5 #30\n",
    "beta2 = 0.99\n",
    "eta0 = 1e #1e-5 #0.0001 #0.1/0.001/0.01/0.15\n",
    "batch_size = 1000\n",
    "alpha = 0 #1e-16 #0.1 # 0.01\n",
    "\n",
    "D0bad = jnp.array(np.random.randn(*D01.shape))\n",
    "\n",
    "key, subkey = random.split(key)\n",
    "\n",
    "\n",
    "# Step sizes (eta0): \n",
    "#\n",
    "# 10k imgs, 64px:\n",
    "#   no sigma_noise: 1e-4 (1e-3 if beta2=1) V\n",
    "#   with sigma_noise: 1e-4 V\n",
    "#\n",
    "# 40k imgs, 128px: reg 1e-5\n",
    "#   no sigma_noise: 1e-4 V\n",
    "#   with sigma_noise: 1e-2"
   ]
  },
  {
   "cell_type": "code",
   "execution_count": null,
   "id": "6055f427-df06-4576-8e1b-e765965c5c69",
   "metadata": {},
   "outputs": [],
   "source": [
    "key, subkey1, subkey2 = random.split(key, 3)\n",
    "x01 = random.normal(subkey1, [nx,nx,nx], dtype=jnp.complex128)\n",
    "print(subkey2)\n",
    "\n",
    "v_rec_o1, loss_o1 = oasis(subkey2, loss_func1, grad_func1, hvp_func1, x01, eta0, D01, beta2, alpha, N_epoch, batch_size = batch_size, N = N//2, iter_display = 1)\n"
   ]
  },
  {
   "cell_type": "code",
   "execution_count": null,
   "id": "f36fd8e6-9189-41b1-b9c0-c73871f6eaa4",
   "metadata": {},
   "outputs": [],
   "source": [
    "key, subkey1, subkey2 = random.split(key, 3)\n",
    "x0 = random.normal(subkey1, [nx,nx,nx], dtype=jnp.complex128)\n",
    "\n",
    "#v_rec_oa1, loss_oa1 = oasis_adaptive(subkey2, loss_func1, grad_func1, hvp_func1, x0, eta0, D01, beta2, alpha, N_epoch, batch_size = batch_size, N = N//2, iter_display = 1)\n"
   ]
  },
  {
   "cell_type": "code",
   "execution_count": null,
   "id": "c2228886-89e5-45d1-90b1-f0f9bf782587",
   "metadata": {},
   "outputs": [],
   "source": [
    "key, subkey1, subkey2 = random.split(key, 3)\n",
    "\n",
    "x02 = random.normal(subkey1, [nx,nx,nx], dtype=jnp.complex128)\n",
    "print(subkey2)\n",
    "\n",
    "v_rec_o2, loss_o2 = oasis(subkey2, loss_func2, grad_func2, hvp_func2, x02, eta0, D02, beta2, alpha, N_epoch, batch_size = batch_size, N = N//2, iter_display = 1)\n"
   ]
  },
  {
   "cell_type": "code",
   "execution_count": null,
   "id": "bfd290b6-2c1e-4a9b-8b77-844b75881840",
   "metadata": {},
   "outputs": [],
   "source": [
    "plt.plot(loss_o1)\n",
    "plt.plot(loss_o2)\n",
    "plt.plot(loss_rec1)\n",
    "plt.plot(loss_rec2)\n"
   ]
  },
  {
   "cell_type": "code",
   "execution_count": null,
   "id": "58f6e9d9-0a4a-4be8-95f0-d043923365fe",
   "metadata": {},
   "outputs": [],
   "source": [
    "plt.rcParams[\"figure.figsize\"]= 12, 12\n",
    "\n",
    "plt.subplot(1,2,1)\n",
    "mip_z(np.fft.fftshift(np.real(v_rec_o1))); plt.colorbar()\n",
    "\n",
    "plt.subplot(1,2,2)\n",
    "mip_z(np.fft.fftshift(np.abs(v_rec_o2))); plt.colorbar()\n",
    "\n",
    "plt.rcParams[\"figure.figsize\"]= 6, 6\n"
   ]
  },
  {
   "cell_type": "code",
   "execution_count": null,
   "id": "23ec813c-2056-4821-ae17-9f8ef80f7fb5",
   "metadata": {},
   "outputs": [],
   "source": [
    "mip_z(np.imag(x01-x02)); plt.colorbar()"
   ]
  },
  {
   "cell_type": "code",
   "execution_count": null,
   "id": "2c422cad-e867-4345-a65c-3dfbe0f0b352",
   "metadata": {},
   "outputs": [],
   "source": [
    "plt.rcParams[\"figure.figsize\"]=12, 12\n",
    "\n",
    "plt.subplot(1,2,1)\n",
    "mip_z(np.fft.fftshift(np.imag(v_rec_o1))); plt.colorbar()\n",
    "\n",
    "plt.subplot(1,2,2)\n",
    "mip_z(np.fft.fftshift(np.imag(v_rec_o2))); plt.colorbar()"
   ]
  },
  {
   "cell_type": "code",
   "execution_count": null,
   "id": "53f8a282-f99b-4dba-baed-1123ad61ee4f",
   "metadata": {},
   "outputs": [],
   "source": [
    "v_rec_ol1, _ = rescale_larger_grid(v_rec_o1, x_grid, nx0)\n",
    "vr_o1 = jnp.real(jnp.fft.fftshift(jnp.fft.ifftn(v_rec_ol1)))\n",
    "\n",
    "v_rec_ol2, _ = rescale_larger_grid(v_rec_o2, x_grid, nx0)\n",
    "vr_o2 = jnp.real(jnp.fft.fftshift(jnp.fft.ifftn(v_rec_ol2)))\n",
    "\n",
    "plt.subplot(1,2,1)\n",
    "mip_z(vr_o1)\n",
    "#plt.colorbar()\n",
    "\n",
    "plt.subplot(1,2,2)\n",
    "mip_z(vr_o2)\n",
    "#plt.colorbar()\n",
    "\n",
    "plt.rcParams[\"figure.figsize\"]=6, 6\n"
   ]
  },
  {
   "cell_type": "code",
   "execution_count": null,
   "id": "3b7c240a-4e44-45eb-9d71-6f6187d21d78",
   "metadata": {},
   "outputs": [],
   "source": [
    "with mrcfile.new(f\"{out_dir}/v_rec_o1.mrc\", overwrite=True) as mrc:\n",
    "    mrc.set_data(vr_o1.astype(np.float32))\n",
    "    \n",
    "with mrcfile.new(f\"{out_dir}/v_rec_o2.mrc\", overwrite=True) as mrc:\n",
    "    mrc.set_data(vr_o2.astype(np.float32))   "
   ]
  },
  {
   "cell_type": "code",
   "execution_count": null,
   "id": "3c845e19-b9d0-46af-a140-1c628c6ca926",
   "metadata": {},
   "outputs": [],
   "source": [
    "res, fsc_o, shell_points = calc_fsc(v_rec_o1, v_rec_o2, [1, nx_crop])\n",
    "res_angs = nx0 * pixel_size[0]/res\n",
    "plt.semilogx(res_angs, fsc_o)\n",
    "plt.gca().invert_xaxis()\n",
    "plt.title(\"FSC\")"
   ]
  },
  {
   "cell_type": "code",
   "execution_count": null,
   "id": "70b5dd7a-b04e-42b6-86a3-fd5bdf52f4bc",
   "metadata": {},
   "outputs": [],
   "source": [
    "plt.semilogx(res_angs, fsc_sgd)\n",
    "plt.semilogx(res_angs, fsc_o)\n",
    "plt.gca().invert_xaxis()\n",
    "plt.title(\"FSC\")\n",
    "plt.legend([\"SGD\", \"OASIS\"])"
   ]
  },
  {
   "cell_type": "code",
   "execution_count": null,
   "id": "64ee0e69-1732-462e-8ccc-f7778b3c9a05",
   "metadata": {},
   "outputs": [],
   "source": [
    "print(fsc_o[24])\n",
    "print(fsc_o[25])\n",
    "print(res_angs[24])\n",
    "print(res_angs[25])"
   ]
  },
  {
   "cell_type": "code",
   "execution_count": null,
   "id": "19c42b9a-506a-4e3b-a7cc-1b645d59f30d",
   "metadata": {},
   "outputs": [],
   "source": [
    "fsc_o"
   ]
  },
  {
   "cell_type": "code",
   "execution_count": null,
   "id": "400d97b0-d59a-4f00-ad84-21accd705731",
   "metadata": {},
   "outputs": [],
   "source": [
    "res_angs"
   ]
  },
  {
   "cell_type": "code",
   "execution_count": null,
   "id": "d2c9a059-c0ca-457f-9ea8-9b7d2e5a1379",
   "metadata": {},
   "outputs": [],
   "source": [
    "#Nn = N//2"
   ]
  },
  {
   "cell_type": "code",
   "execution_count": null,
   "id": "b862ca32-7e83-4546-83a2-719df6d82e47",
   "metadata": {},
   "outputs": [],
   "source": [
    "#loss_func1(v_rec1, jnp.arange(Nn))"
   ]
  },
  {
   "cell_type": "code",
   "execution_count": null,
   "id": "a93736ee-2169-4a95-af15-a69c69a13b9a",
   "metadata": {},
   "outputs": [],
   "source": [
    "#loss_func2(v_rec2, jnp.arange(Nn))"
   ]
  },
  {
   "cell_type": "code",
   "execution_count": null,
   "id": "9e168259-d2de-4382-9c8c-aea9378a3f94",
   "metadata": {},
   "outputs": [],
   "source": [
    "#loss_func1(v_rec_o1, jnp.arange(Nn))"
   ]
  },
  {
   "cell_type": "code",
   "execution_count": null,
   "id": "d9e9a1b3-b9d2-41df-b9e2-709b28a92c99",
   "metadata": {},
   "outputs": [],
   "source": [
    "#loss_func2(v_rec_o2, jnp.arange(Nn))"
   ]
  },
  {
   "cell_type": "markdown",
   "id": "d91368d1-8091-42f6-8609-0e6a61755889",
   "metadata": {},
   "source": [
    "#### Now the same with CG"
   ]
  },
  {
   "cell_type": "code",
   "execution_count": null,
   "id": "d2594de7-5267-49e1-aefe-d9a840791592",
   "metadata": {},
   "outputs": [],
   "source": [
    "N_iter = 300\n"
   ]
  },
  {
   "cell_type": "code",
   "execution_count": null,
   "id": "7ab03bae-e4db-4d49-a5ca-4c3e45618f17",
   "metadata": {},
   "outputs": [],
   "source": [
    "AA1, Ab1 = get_cg_vol_ops(gradv_obj.grad_loss_volume_sum, angles[idx1], shifts[idx1], ctf_params[idx1], imgs_f[idx1], v_rec1.shape, sigma_noise)\n",
    "AA2, Ab2 = get_cg_vol_ops(gradv_obj.grad_loss_volume_sum, angles[idx2], shifts[idx2], ctf_params[idx2], imgs_f[idx2], v_rec1.shape, sigma_noise)\n"
   ]
  },
  {
   "cell_type": "code",
   "execution_count": null,
   "id": "40cfcec5-5920-48e6-87e6-019feb04a55f",
   "metadata": {},
   "outputs": [],
   "source": [
    "key, subkey = random.split(key)\n",
    "x0 = random.normal(subkey, [nx,nx,nx], dtype=jnp.complex128)\n",
    "\n",
    "v_rec_cg1, _ = cg(AA1, Ab1, x0, N_iter, verbose=True)"
   ]
  },
  {
   "cell_type": "code",
   "execution_count": null,
   "id": "4350dc69-a898-45d5-823d-7eb23129ed18",
   "metadata": {},
   "outputs": [],
   "source": [
    "key, subkey = random.split(key)\n",
    "x0 = random.normal(subkey, [nx,nx,nx], dtype=jnp.complex128)\n",
    "\n",
    "v_rec_cg2, _ = cg(AA2, Ab2, x0, N_iter, verbose=True)"
   ]
  },
  {
   "cell_type": "code",
   "execution_count": null,
   "id": "e2a62d88-7999-4076-a7e1-f0f8491ed00e",
   "metadata": {},
   "outputs": [],
   "source": [
    "Nn=N//2"
   ]
  },
  {
   "cell_type": "code",
   "execution_count": null,
   "id": "2f6a2086-4ee4-42e7-b65d-0a475b0119f6",
   "metadata": {},
   "outputs": [],
   "source": [
    "loss_func1(v_rec_cg1, jnp.arange(Nn))"
   ]
  },
  {
   "cell_type": "code",
   "execution_count": null,
   "id": "8cead953-af18-4dc7-8242-1bbffc92465d",
   "metadata": {},
   "outputs": [],
   "source": [
    "loss_func2(v_rec_cg2, jnp.arange(Nn))"
   ]
  },
  {
   "cell_type": "code",
   "execution_count": null,
   "id": "ff398deb-e9d3-484a-baf5-700e092aba4b",
   "metadata": {},
   "outputs": [],
   "source": [
    "loss_func2(v_rec2, jnp.arange(Nn))"
   ]
  },
  {
   "cell_type": "code",
   "execution_count": null,
   "id": "2e59af22-9647-4579-95d0-dc1fc25976f1",
   "metadata": {},
   "outputs": [],
   "source": [
    "loss_func2(v_rec_o2, jnp.arange(Nn))"
   ]
  },
  {
   "cell_type": "code",
   "execution_count": null,
   "id": "0c9f9d25-414a-4d25-bfdb-b3f787161819",
   "metadata": {},
   "outputs": [],
   "source": [
    "loss_func2(v_rec_cg2, jnp.arange(Nn))"
   ]
  },
  {
   "cell_type": "code",
   "execution_count": null,
   "id": "a0e18a92-f020-45ba-b95a-b837f80b2a6c",
   "metadata": {},
   "outputs": [],
   "source": [
    "plt.rcParams[\"figure.figsize\"]=12, 12\n",
    "\n",
    "plt.subplot(1,2,1)\n",
    "mip_z(np.fft.fftshift(np.abs(v_rec_cg1))); plt.colorbar()\n",
    "\n",
    "plt.subplot(1,2,2)\n",
    "mip_z(np.fft.fftshift(np.abs(v_rec_cg2))); plt.colorbar()"
   ]
  },
  {
   "cell_type": "code",
   "execution_count": null,
   "id": "6e064187-10b9-43cc-bedc-bcb3c2284f9f",
   "metadata": {},
   "outputs": [],
   "source": [
    "v_rec_cgl1, _ = rescale_larger_grid(v_rec_cg1, x_grid, nx0)\n",
    "vr_cg1 = jnp.real(jnp.fft.fftshift(jnp.fft.ifftn(v_rec_cgl1)))\n",
    "\n",
    "v_rec_cgl2, _ = rescale_larger_grid(v_rec_cg2, x_grid, nx0)\n",
    "vr_cg2 = jnp.real(jnp.fft.fftshift(jnp.fft.ifftn(v_rec_cgl2)))\n",
    "\n",
    "plt.subplot(1,2,1)\n",
    "mip_z(vr_cg1)\n",
    "#plt.colorbar()\n",
    "\n",
    "plt.subplot(1,2,2)\n",
    "mip_z(vr_cg2)\n",
    "#plt.colorbar()\n",
    "\n",
    "plt.rcParams[\"figure.figsize\"]=6, 6\n"
   ]
  },
  {
   "cell_type": "code",
   "execution_count": null,
   "id": "75c69e1c-7a68-4f51-a349-788611743471",
   "metadata": {},
   "outputs": [],
   "source": [
    "with mrcfile.new(f\"{out_dir}/v_rec_cg1.mrc\", overwrite=True) as mrc:\n",
    "    mrc.set_data(vr_cg1.astype(np.float32))\n",
    "    \n",
    "with mrcfile.new(f\"{out_dir}/v_rec_cg2.mrc\", overwrite=True) as mrc:\n",
    "    mrc.set_data(vr_cg2.astype(np.float32))  "
   ]
  },
  {
   "cell_type": "code",
   "execution_count": null,
   "id": "68c74836-8c1f-4eef-8212-91d7ec0929f5",
   "metadata": {},
   "outputs": [],
   "source": [
    "res, fsc_cg, shell_points = calc_fsc(v_rec_cg1, v_rec_cg2, [1, nx_crop])\n",
    "#res, fsc_cg, shell_points = calc_fsc(v_rec_cg1, v_rec2, [1, nx_crop])\n",
    "\n",
    "res_angs = nx0 * pixel_size[0]/res\n",
    "plt.semilogx(res_angs, fsc_cg)\n",
    "plt.gca().invert_xaxis()\n",
    "plt.title(\"FSC\")"
   ]
  },
  {
   "cell_type": "code",
   "execution_count": null,
   "id": "dcd38c80-376c-4a82-a3dc-3a2350869b73",
   "metadata": {},
   "outputs": [],
   "source": [
    "fsc_cg"
   ]
  },
  {
   "cell_type": "code",
   "execution_count": null,
   "id": "0004968f-7e81-4da3-812e-dc250b8c8b36",
   "metadata": {},
   "outputs": [],
   "source": [
    "plt.semilogx(res_angs, fsc_sgd)\n",
    "plt.semilogx(res_angs, fsc_o)\n",
    "plt.semilogx(res_angs, fsc_cg)\n",
    "plt.gca().invert_xaxis()\n",
    "plt.title(\"FSC\")\n",
    "plt.legend([\"SGD\", \"OASIS\", \"CG\"])"
   ]
  },
  {
   "cell_type": "code",
   "execution_count": null,
   "id": "61cd6ca6-834d-4bc1-ab17-e3c9d2a96560",
   "metadata": {},
   "outputs": [],
   "source": [
    "print(fsc_cg[11])\n",
    "print(fsc_cg[12])\n",
    "print(res_angs[11])\n",
    "print(res_angs[12])"
   ]
  },
  {
   "cell_type": "markdown",
   "id": "3d0eaf79-ad75-4c01-b524-dd628542c993",
   "metadata": {},
   "source": [
    "### Notes:\n",
    "\n",
    "* It's important to use a large batch size for both SGD and OASIS: 1000 for 64-128px is good.\n",
    "* OASIS rec with fixed rate is the same as SGD with D0 preconditioner,  the loss and results/FSC are almost identical (since here the Hessian doesn't depend on the current iterate and therefore is estimated perfectly at the beginning). -- actually not true in my latest experiments and I don't know why\n",
    "* When using no $\\sigma_{noise}$ with $128$ pixels and 40,000 images, both OASIS and SGD with precon required higher regularization parameter $10^{-5}$ compared to the other runs, where I used reg param $10^{-9}$\n",
    "* I should with a dataset with no heterogeneity in the future\n",
    "* Still don't know why the adaptive version fails"
   ]
  },
  {
   "cell_type": "code",
   "execution_count": null,
   "id": "0c3326d1-366d-4976-8005-5d9c55db784c",
   "metadata": {},
   "outputs": [],
   "source": [
    "pixel_size * 320/128"
   ]
  },
  {
   "cell_type": "markdown",
   "id": "11587b13-1c60-4711-9bc8-821bdcabb783",
   "metadata": {
    "tags": []
   },
   "source": [
    "### Results:\n",
    "\n",
    "Showing resolution cutoff at $FSC=0.5$ everywhere:\n",
    "\n",
    "#### 1. Small data: `nx_crop=64px` and 10,000 images in each half set, 30 epochs (for SGD/OASIS) and 300 iters (for CG):\n",
    "\n",
    "Everything here is with regularization parameter $10^{-9}$\n",
    "\n",
    "no $\\sigma_{noise}$:\n",
    "* SGD no precon: $\\approx 20 Å$ \n",
    "* SGD with precon:  $\\approx 20 Å$ \n",
    "* OASIS: $FSC \\geq 0.6$\n",
    "* CG: $\\approx 20 Å$\n",
    "\n",
    "with $\\sigma_{noise}$:\n",
    "\n",
    "* SGD no precon:  $\\approx 20 Å$ \n",
    "* SGD with precon: $\\approx 20 Å$ \n",
    "* OASIS: above $FSC \\geq 0.6$ all the way \n",
    "* CG: converges to random stuff for some reason \n",
    "\n",
    "#### 2. Large data: `nx_crop=128px` and 40,000 images in each half set, 10 epochs:\n",
    "\n",
    "no $\\sigma_{noise}$, regularization param $10^{-5}$\n",
    "* SGD no precon:  $\\approx 15 Å$  V\n",
    "* SGD with precon: $\\approx 18 Å$  V\n",
    "* OASIS: $\\approx 9.6 Å$ \n",
    "\n",
    "--- Below needs to be rerun\n",
    "\n",
    "with $\\sigma_{noise}$: \n",
    "* SGD no precon: $\\approx 13 Å$ with reg $10^{-9}$, 30 epochs\n",
    "* SGD with precon: \n",
    "* OASIS: $\\approx 9.3 Å$ with reg $10^{-9}$ 30 epochs. "
   ]
  },
  {
   "cell_type": "markdown",
   "id": "3d42b322-b111-4351-a669-be21a103c5b4",
   "metadata": {},
   "source": [
    "### TODO:\n",
    "\n",
    "* Fix the handling of the imaginary part -- I don't know if the loss for OASIS explodes in imaginary part only because of this issue or because of the low regularization param."
   ]
  },
  {
   "cell_type": "markdown",
   "id": "27c78c1b-f97f-45a2-899a-38a068a9e2e0",
   "metadata": {},
   "source": [
    "# Figuring out the algorithm, running it on toy problem"
   ]
  },
  {
   "cell_type": "markdown",
   "id": "6f4e8acf-da8b-4931-a80f-2a2a1dc3694f",
   "metadata": {},
   "source": [
    "### OASIS"
   ]
  },
  {
   "cell_type": "markdown",
   "id": "b33042af-f43f-4111-a61c-4748826bb4a1",
   "metadata": {},
   "source": [
    "#### Hutchinson's method"
   ]
  },
  {
   "cell_type": "markdown",
   "id": "1d64e3e8-d051-49f6-b612-3ae4408e2681",
   "metadata": {},
   "source": [
    "The diagonal of a symmetric matrix can be approximated as follows:\n",
    "\n",
    "$\n",
    "\\text{diag}(A) = \\mathbb{E}[z * Az ],\n",
    "$\n",
    "\n",
    "where $z$ is a random vector with Rademacher or Gaussian distribution and $*$ represents element-wise multiplication.\n",
    "\n",
    "Here we're reproducing Figure 1 in the OASIS paper."
   ]
  },
  {
   "cell_type": "code",
   "execution_count": 3,
   "id": "0b5f24cb-e3bb-478e-8aba-588f3880ebaa",
   "metadata": {},
   "outputs": [],
   "source": [
    "n = 100\n",
    "\n",
    "key = random.PRNGKey(int(jnp.floor(np.random.rand()*1000)))"
   ]
  },
  {
   "cell_type": "code",
   "execution_count": 5,
   "id": "321d8933-93a7-4ab3-aa9a-5fd5d6a717f8",
   "metadata": {},
   "outputs": [
    {
     "data": {
      "text/plain": [
       "<matplotlib.colorbar.Colorbar at 0x2abdfa94e890>"
      ]
     },
     "execution_count": 5,
     "metadata": {},
     "output_type": "execute_result"
    },
    {
     "data": {
      "image/png": "[encoded data removed]",
      "text/plain": [
       "<Figure size 432x432 with 2 Axes>"
      ]
     },
     "metadata": {
      "needs_background": "light"
     },
     "output_type": "display_data"
    }
   ],
   "source": [
    "key, subkey = random.split(key)\n",
    "\n",
    "A = random.normal(subkey, (n,n), dtype=jnp.complex128)\n",
    "A = A.T + A\n",
    "\n",
    "plt.imshow(jnp.real(A)); plt.colorbar()"
   ]
  },
  {
   "cell_type": "code",
   "execution_count": 6,
   "id": "68e6e03d-a88f-4121-b28f-9a96fd573ea4",
   "metadata": {},
   "outputs": [],
   "source": [
    "iters = 10000\n",
    "\n",
    "key, subkey = random.split(key)\n",
    "z = random.rademacher(subkey, (iters, n))\n",
    "\n",
    "#z * A @ z "
   ]
  },
  {
   "cell_type": "code",
   "execution_count": 7,
   "id": "436158da-1e91-45ce-834e-8e918fd6f3c0",
   "metadata": {},
   "outputs": [],
   "source": [
    "zAz = jax.vmap(lambda zi : zi * (A @ zi))(z)\n",
    "#plt.imshow(zAz)"
   ]
  },
  {
   "cell_type": "code",
   "execution_count": 8,
   "id": "cae0c37c-9ffa-4c6c-af4a-a0c58c3f3823",
   "metadata": {},
   "outputs": [],
   "source": [
    "d = np.zeros((iters, n), dtype=A.dtype)\n",
    "d[0] = zAz[0]\n",
    "for i in range(1, iters):\n",
    "    d[i] = d[i-1] + zAz[i]\n",
    "    \n",
    "for i in range(1, iters):\n",
    "    d[i] = d[i]/(i+1)"
   ]
  },
  {
   "cell_type": "code",
   "execution_count": 9,
   "id": "c8e1da64-4869-4139-8fa4-c6a290078927",
   "metadata": {},
   "outputs": [],
   "source": [
    "err = jnp.mean((d - jnp.diag(A))**2, axis=1)"
   ]
  },
  {
   "cell_type": "code",
   "execution_count": 10,
   "id": "c65d8665-b965-4c44-84e5-5957c6a527dc",
   "metadata": {},
   "outputs": [
    {
     "data": {
      "text/plain": [
       "[<matplotlib.lines.Line2D at 0x2abdfa8cdea0>]"
      ]
     },
     "execution_count": 10,
     "metadata": {},
     "output_type": "execute_result"
    },
    {
     "data": {
      "image/png": "[encoded data removed]",
      "text/plain": [
       "<Figure size 432x432 with 1 Axes>"
      ]
     },
     "metadata": {
      "needs_background": "light"
     },
     "output_type": "display_data"
    }
   ],
   "source": [
    "plt.semilogy(jnp.abs(err))"
   ]
  },
  {
   "cell_type": "markdown",
   "id": "8d9a6610-5cd6-45a3-ae7c-247a47da4ff1",
   "metadata": {},
   "source": [
    "#### Hessian-vector product in JaX"
   ]
  },
  {
   "cell_type": "code",
   "execution_count": 11,
   "id": "9a4d218b-4071-48db-88b1-a0f838b6b2a1",
   "metadata": {},
   "outputs": [],
   "source": [
    "key, *subkey = random.split(key, 4)\n",
    "x0 = random.normal(subkey[0], (n,))\n",
    "x = random.normal(subkey[1], (n,))\n",
    "v = random.normal(subkey[2], (n,))"
   ]
  },
  {
   "cell_type": "code",
   "execution_count": 12,
   "id": "31e002d4-dd70-42db-a9fc-b5be7426b11e",
   "metadata": {},
   "outputs": [],
   "source": [
    "b = A @ x0 \n",
    "f = lambda x : jnp.real(jnp.mean(jnp.conj(A @ x - b)*(A@x-b)))"
   ]
  },
  {
   "cell_type": "code",
   "execution_count": 13,
   "id": "2b9c9028-1e56-4436-b811-8916ab65171f",
   "metadata": {},
   "outputs": [],
   "source": [
    "from jax import jvp, grad\n",
    "\n",
    "# Naive\n",
    "def hvp0(f, x, v):\n",
    "    return grad(lambda x : jnp.vdot(grad(f)(x), v))(x)\n",
    "\n",
    "# forward-over-reverse\n",
    "def hvp(f, x, v):\n",
    "    return jvp(jax.grad(f), x, v)[1]"
   ]
  },
  {
   "cell_type": "code",
   "execution_count": 15,
   "id": "29e5c85b-5d3c-4ac7-ac84-e7354b893043",
   "metadata": {},
   "outputs": [
    {
     "name": "stdout",
     "output_type": "stream",
     "text": [
      "9.55 ms ± 28.7 µs per loop (mean ± std. dev. of 7 runs, 100 loops each)\n",
      "6.08 ms ± 9.79 µs per loop (mean ± std. dev. of 7 runs, 100 loops each)\n"
     ]
    },
    {
     "data": {
      "text/plain": [
       "DeviceArray(0., dtype=float64)"
      ]
     },
     "execution_count": 15,
     "metadata": {},
     "output_type": "execute_result"
    }
   ],
   "source": [
    "%timeit hvp0(f, x, v)\n",
    "\n",
    "%timeit hvp(f, (x,), (v,))\n",
    "\n",
    "v1 = hvp0(f, x, v)\n",
    "v2 = hvp(f, (x,), (v,))\n",
    "jnp.sum(jnp.abs(v1-v2))"
   ]
  },
  {
   "cell_type": "markdown",
   "id": "37b9b821-9bdc-4fda-88d0-6a29fc9d0e79",
   "metadata": {},
   "source": [
    "#### Toy problem"
   ]
  },
  {
   "cell_type": "code",
   "execution_count": 16,
   "id": "4904d533-80e6-423c-a774-092091bd9c92",
   "metadata": {},
   "outputs": [
    {
     "name": "stdout",
     "output_type": "stream",
     "text": [
      "Condition number =  3.33e+05\n"
     ]
    },
    {
     "data": {
      "image/png": "[encoded data removed]",
      "text/plain": [
       "<Figure size 432x432 with 1 Axes>"
      ]
     },
     "metadata": {
      "needs_background": "light"
     },
     "output_type": "display_data"
    }
   ],
   "source": [
    "key, *subkey = random.split(key, 3)\n",
    "\n",
    "x_gt = random.normal(subkey[0], (n,), dtype=jnp.complex128)\n",
    "\n",
    "A = random.normal(subkey[1], (n,n), dtype=x_gt.dtype)\n",
    "A = A.T @ A\n",
    "_, v = jnp.linalg.eigh(A)\n",
    "d = jnp.flip(jnp.logspace(-5,1,n)) \n",
    "d = d + jnp.abs(jnp.min(d)*2)\n",
    "A = v.T @ jnp.diag(d) @ v\n",
    "\n",
    "evals, evecs = np.linalg.eig(A)\n",
    "evals = np.flip(np.sort(evals))\n",
    "\n",
    "\n",
    "assert(jnp.sum(evals < 0) == 0)\n",
    "assert(jnp.max(jnp.imag(evals)) < 1e-13)\n",
    "#assert(jnp.max(jnp.abs(A.T - A)) == 0)\n",
    "#assert(jnp.sum(jnp.abs(A@A.T - A.T@ A)) == 0)\n",
    "\n",
    "evals = jnp.real(evals)\n",
    "plt.semilogy(evals, '.')\n",
    "plt.title(\"Eigenvalues\")\n",
    "print(f\"Condition number = {evals[0]/evals[n-1] : .2e}\")"
   ]
  },
  {
   "cell_type": "code",
   "execution_count": 23,
   "id": "401090de-ef3e-4e42-8ccb-66742693059c",
   "metadata": {},
   "outputs": [
    {
     "name": "stdout",
     "output_type": "stream",
     "text": [
      "f(x_gt + 1) = 5.764996802179739\n",
      "f(x_gt) = 1.2041735852363287\n",
      "gradF(x_gt) = [ 0.01082507+2.14507118e-03j -0.03934399+5.79792663e-04j\n",
      "  0.08205329+9.14508960e-04j -0.04865967+6.93515670e-04j\n",
      "  0.03849571-5.25075929e-04j -0.01485263+7.82995038e-04j\n",
      "  0.07924394+2.11334575e-03j -0.02962658+2.42216704e-03j\n",
      "  0.009461  -8.99981188e-04j  0.00301585-7.12240898e-04j\n",
      "  0.07542139-1.54814010e-03j  0.04248954+2.81560997e-03j\n",
      " -0.03905625-2.57546493e-04j  0.06212396-2.44592431e-04j\n",
      " -0.05625597+4.59023341e-04j -0.01367224+9.52341894e-04j\n",
      " -0.0552688 +2.81900576e-05j  0.03551437+1.52767481e-03j\n",
      " -0.05062795-1.52580977e-03j  0.02017774+2.00515485e-03j\n",
      "  0.03479018-1.02174468e-03j  0.03314085+6.30947856e-04j\n",
      "  0.02420688-1.64122345e-03j -0.04226348-1.03166577e-03j\n",
      "  0.05921498-3.79557109e-04j -0.01494629-7.64986607e-04j\n",
      "  0.00994112+2.66600961e-03j  0.00631273+1.36986016e-03j\n",
      " -0.02327167-7.04973472e-04j -0.07115538-2.25189026e-03j\n",
      " -0.02010323+4.42592182e-04j  0.01989552-2.71307733e-04j\n",
      "  0.00722327+1.62088247e-03j  0.02722313+2.37317092e-05j\n",
      " -0.00564275+9.87269357e-04j -0.03711605-9.07495191e-04j\n",
      " -0.00346017-9.69270859e-06j  0.05742592-5.46063949e-05j\n",
      " -0.00934305-4.49394067e-04j -0.0162029 +3.81457541e-04j\n",
      "  0.05262707+3.05492220e-03j  0.01861816+8.07967518e-04j\n",
      " -0.01053521-1.57979574e-03j -0.08630912+1.57846475e-03j\n",
      " -0.0539787 +1.98316703e-04j -0.02142885+3.55068401e-04j\n",
      "  0.04546863+9.40212017e-04j  0.02706103+8.47518072e-04j\n",
      " -0.02728662+1.41504688e-03j  0.02167614-2.76479908e-04j\n",
      "  0.06311685+1.52021573e-03j  0.04532721-8.86409894e-04j\n",
      " -0.05865572+1.54604137e-03j -0.03183703-1.03517483e-05j\n",
      " -0.02726307-4.28552124e-05j  0.02646853-1.38897186e-03j\n",
      " -0.01285134-8.07888478e-04j  0.05370456+1.45337803e-03j\n",
      "  0.08008456+5.88168040e-04j  0.01513727-1.74921009e-03j\n",
      "  0.11827704+1.31046192e-03j -0.09175591-4.29859386e-04j\n",
      "  0.02166227-9.89200477e-04j  0.01924933+2.54960575e-04j\n",
      " -0.00899385+2.42522602e-03j  0.08738745+2.57579692e-03j\n",
      " -0.06576508+3.24738193e-04j -0.00978953-8.42344822e-04j\n",
      " -0.10385075-9.90903050e-04j  0.03005004-2.00220531e-03j\n",
      "  0.00381831-1.45385885e-03j  0.01260541+1.72892869e-03j\n",
      "  0.08762684-2.36290138e-03j  0.05427574+5.78244973e-04j\n",
      "  0.02950496+1.47336927e-03j  0.04683561+1.26332493e-03j\n",
      "  0.070723  +6.47494132e-04j  0.01922446-6.82400404e-04j\n",
      "  0.11390678+1.30005856e-03j -0.09719443-2.07268474e-03j\n",
      " -0.02856482-5.40940137e-04j -0.03412359-4.26681459e-04j\n",
      " -0.07851578+5.82426966e-04j  0.02507002+3.56261975e-03j\n",
      " -0.00128948+1.30482790e-03j  0.01594863+6.94995135e-04j\n",
      "  0.06826846-7.37569212e-04j -0.01775777+1.21858190e-03j\n",
      "  0.03819206+1.23709482e-03j  0.001564  +3.14625881e-03j\n",
      "  0.09127765+1.86312241e-03j -0.07645531-9.51272873e-04j\n",
      " -0.0071005 -8.61905830e-04j -0.01330294+5.17032094e-05j\n",
      "  0.07683164+1.49790903e-03j -0.0406002 +1.84501843e-03j\n",
      "  0.00179456-2.96384561e-03j -0.01779906-7.34317582e-04j\n",
      "  0.00484453+1.89716851e-04j -0.03264748+1.01958961e-03j]\n"
     ]
    }
   ],
   "source": [
    "sig_noise = 1\n",
    "lam = 0.1\n",
    "\n",
    "key, subkey = random.split(key)\n",
    "\n",
    "b = A @ x_gt  + random.normal(subkey, (n,)) * sig_noise\n",
    "\n",
    "F = jax.jit(lambda x : jnp.real(jnp.mean(jnp.conj(A @ x - b)*(A @ x - b)) + lam * jnp.mean(jnp.conj(x)*x)))\n",
    "print(f\"f(x_gt + 1) = {F(x_gt+1)}\")\n",
    "print(f\"f(x_gt) = {F(x_gt)}\")\n",
    "\n",
    "gradF = jax.jit(jax.grad(F))\n",
    "#hessianF = jax.hessian(F)\n",
    "\n",
    "hvpF = jax.jit(lambda x, v : hvp(F, (x,), (v,)))\n",
    "\n",
    "print(f\"gradF(x_gt) = {gradF(x_gt)}\")\n",
    "#print(f\"hessianF(x_gt) = {hessianF(x_gt)}\")\n"
   ]
  },
  {
   "cell_type": "code",
   "execution_count": 24,
   "id": "b94e1555-0cba-4e87-a8ae-fff9a418bbdd",
   "metadata": {},
   "outputs": [],
   "source": [
    "def gd(F, gradF, eta, w0, N_iter = 20, iter_display = 1):\n",
    "    loss = []\n",
    "    for k in range(1, N_iter+1):\n",
    "        w1 = w0 - eta * jnp.conj(gradF(w0))\n",
    "        loss_i = F(w1)\n",
    "        loss.append(loss_i)\n",
    "        \n",
    "        w0 = w1\n",
    "        \n",
    "        if k % iter_display == 0:\n",
    "            print(f\"Iter {k}: loss = {loss_i}\")\n",
    "            \n",
    "    return w1, jnp.array(loss)\n",
    "\n",
    "def newton(F, gradF, hessianF, w0, N_iter = 20, iter_display = 1):\n",
    "    loss = []\n",
    "    for k in range(1, N_iter+1):\n",
    "        G = gradF(w0)\n",
    "        H = hessianF(w0)\n",
    "        \n",
    "        w1 = w0 - jnp.conj(jnp.linalg.inv(H) @ G)\n",
    "        loss_i = F(w1)\n",
    "        loss.append(loss_i)\n",
    "        \n",
    "        w0 = w1\n",
    "        \n",
    "        if k % iter_display == 0:\n",
    "            print(f\"Iter {k}: loss = {loss_i}\")\n",
    "            \n",
    "    return w1, jnp.array(loss)"
   ]
  },
  {
   "cell_type": "code",
   "execution_count": 37,
   "id": "ecb98c76-829b-4103-a042-f18004bac2e9",
   "metadata": {},
   "outputs": [
    {
     "name": "stdout",
     "output_type": "stream",
     "text": [
      "Iter 200: loss = 6.225290769874918\n",
      "Iter 400: loss = 5.839559466087073\n",
      "Iter 600: loss = 5.5427804448546\n",
      "Iter 800: loss = 5.308298737772521\n",
      "Iter 1000: loss = 5.119247603853377\n"
     ]
    }
   ],
   "source": [
    "N_iter = 1000\n",
    "eta = 1e-3 #0.000005 # learning rate\n",
    "x0 = np.random.randn(*x_gt.shape)\n",
    "\n",
    "x_gd, loss_gd = gd(F, gradF, eta, x0, N_iter, iter_display = 200)"
   ]
  },
  {
   "cell_type": "code",
   "execution_count": 38,
   "id": "7eb85da1-5793-46a2-a687-efacec1f2723",
   "metadata": {},
   "outputs": [
    {
     "data": {
      "text/plain": [
       "[<matplotlib.lines.Line2D at 0x2abf40d56440>]"
      ]
     },
     "execution_count": 38,
     "metadata": {},
     "output_type": "execute_result"
    },
    {
     "data": {
      "image/png": "[encoded data removed]",
      "text/plain": [
       "<Figure size 432x432 with 1 Axes>"
      ]
     },
     "metadata": {
      "needs_background": "light"
     },
     "output_type": "display_data"
    }
   ],
   "source": [
    "plt.semilogy(loss_gd)"
   ]
  },
  {
   "cell_type": "code",
   "execution_count": 39,
   "id": "eb2d880e-0732-4e55-8fae-543264260554",
   "metadata": {},
   "outputs": [],
   "source": [
    "#N_iter = 10\n",
    "\n",
    "#x_n, loss_n = newton(F, gradF, hessianF, x0, N_iter, iter_display = 1)"
   ]
  },
  {
   "cell_type": "code",
   "execution_count": 40,
   "id": "91e40bf7-22a3-47c7-ba73-7587e97c8682",
   "metadata": {},
   "outputs": [],
   "source": [
    "#plt.plot(loss_n)"
   ]
  },
  {
   "cell_type": "code",
   "execution_count": 56,
   "id": "85918078-6e0b-4ae8-ae60-c714e8f6bb7b",
   "metadata": {},
   "outputs": [
    {
     "name": "stdout",
     "output_type": "stream",
     "text": [
      "  cg iter 0 ||r|| = 1.108306237642001\n",
      "  cg iter 100 ||r|| = 8.29667203828077e-13\n",
      "  cg iter 200 ||r|| = 5.956045234118936e-15\n",
      "  cg iter 300 ||r|| = 6.596325677426855e-15\n",
      "  cg iter 400 ||r|| = 5.47930751352977e-15\n",
      "  cg iter 500 ||r|| = 4.186591489103448e-15\n",
      "  cg iter 600 ||r|| = 3.1385961520764295e-15\n",
      "  cg iter 700 ||r|| = 3.5430524779743876e-15\n",
      "  cg iter 800 ||r|| = 2.3800339019096163e-15\n",
      "  cg iter 900 ||r|| = 3.2346027589887928e-15\n"
     ]
    }
   ],
   "source": [
    "N_iter = 1000\n",
    "\n",
    "zero = jnp.zeros(x_gt.shape)\n",
    "Abfun = gradF(zero)\n",
    "\n",
    "Ab = -jnp.conj(Abfun)\n",
    "AA = jax.jit(lambda vv : jnp.conj(gradF(vv)) + Ab)\n",
    "\n",
    "x_cg, kk, x_cg_all = cg(AA, Ab, x0, N_iter, verbose=True)\n",
    "loss_cg = jax.vmap(F)(jnp.array(x_cg_all))"
   ]
  },
  {
   "cell_type": "code",
   "execution_count": 57,
   "id": "67c7eb74-cf6e-4df8-87ff-7f1b8ff76768",
   "metadata": {},
   "outputs": [
    {
     "name": "stdout",
     "output_type": "stream",
     "text": [
      "1.2041735852363287\n",
      "3.6776915647669313\n",
      "5.119247603853377\n"
     ]
    }
   ],
   "source": [
    "print(F(x_gt))\n",
    "print(F(x_cg))\n",
    "print(F(x_gd))\n",
    "#print(F(x_n))"
   ]
  },
  {
   "cell_type": "markdown",
   "id": "882a5b14-0707-4903-8960-3e4e504ee497",
   "metadata": {},
   "source": [
    "#### OASIS"
   ]
  },
  {
   "cell_type": "code",
   "execution_count": 58,
   "id": "4f3ab243-597e-46d7-a901-e69e98a7d8b9",
   "metadata": {},
   "outputs": [],
   "source": [
    "Fidx = jax.jit(lambda x, idx : F(x))\n",
    "gradFidx = jax.jit(lambda x, idx : jax.grad(F)(x))\n",
    "hvpFidx = jax.jit(lambda x, v, idx : hvp(F, (x,), (v,)))"
   ]
  },
  {
   "cell_type": "code",
   "execution_count": 59,
   "id": "47fe55bb-44f3-4a39-88b4-785129ebdde8",
   "metadata": {},
   "outputs": [
    {
     "name": "stderr",
     "output_type": "stream",
     "text": [
      "100%|██████████| 100000/100000 [00:36<00:00, 2746.40it/s]\n"
     ]
    }
   ],
   "source": [
    "# Estimating D0\n",
    "\n",
    "iters = 100000\n",
    "key, *subkeys = random.split(key, iters+1)\n",
    "zD0z = np.zeros((n,))\n",
    "\n",
    "for i in tqdm(range(iters)):\n",
    "    z = random.rademacher(subkeys[i], (n,), dtype=x0.dtype)\n",
    "    \n",
    "    zD0z += z * hvpFidx(x0, z, 1)\n",
    "    \n",
    "D0 = jnp.array(zD0z/iters)\n",
    "\n",
    "#D0exact = jnp.diag(hessianF(x0)) # Cheating a bit\n"
   ]
  },
  {
   "cell_type": "code",
   "execution_count": 60,
   "id": "5ab1dce0-687f-48f2-8ca1-1c2fb37f60a9",
   "metadata": {},
   "outputs": [],
   "source": [
    "#plt.plot(jnp.abs(D0-D0exact)/jnp.abs(D0exact))"
   ]
  },
  {
   "cell_type": "code",
   "execution_count": 65,
   "id": "1d4abbff-c637-4fa1-aabb-94e9c15aad4b",
   "metadata": {},
   "outputs": [
    {
     "name": "stdout",
     "output_type": "stream",
     "text": [
      "Epoch 100/1000\n"
     ]
    },
    {
     "name": "stderr",
     "output_type": "stream",
     "text": [
      "100%|██████████| 1/1 [00:00<00:00, 259.39it/s, loss=3.763e+00]"
     ]
    },
    {
     "name": "stdout",
     "output_type": "stream",
     "text": [
      "  Loss =  3.763e+00\n"
     ]
    },
    {
     "name": "stderr",
     "output_type": "stream",
     "text": [
      "\n"
     ]
    },
    {
     "name": "stdout",
     "output_type": "stream",
     "text": [
      "Epoch 200/1000\n"
     ]
    },
    {
     "name": "stderr",
     "output_type": "stream",
     "text": [
      "100%|██████████| 1/1 [00:00<00:00, 184.49it/s, loss=3.729e+00]"
     ]
    },
    {
     "name": "stdout",
     "output_type": "stream",
     "text": [
      "  Loss =  3.729e+00\n"
     ]
    },
    {
     "name": "stderr",
     "output_type": "stream",
     "text": [
      "\n"
     ]
    },
    {
     "name": "stdout",
     "output_type": "stream",
     "text": [
      "Epoch 300/1000\n"
     ]
    },
    {
     "name": "stderr",
     "output_type": "stream",
     "text": [
      "100%|██████████| 1/1 [00:00<00:00, 132.61it/s, loss=3.710e+00]"
     ]
    },
    {
     "name": "stdout",
     "output_type": "stream",
     "text": [
      "  Loss =  3.710e+00\n"
     ]
    },
    {
     "name": "stderr",
     "output_type": "stream",
     "text": [
      "\n"
     ]
    },
    {
     "name": "stdout",
     "output_type": "stream",
     "text": [
      "Epoch 400/1000\n"
     ]
    },
    {
     "name": "stderr",
     "output_type": "stream",
     "text": [
      "100%|██████████| 1/1 [00:00<00:00, 177.51it/s, loss=3.699e+00]"
     ]
    },
    {
     "name": "stdout",
     "output_type": "stream",
     "text": [
      "  Loss =  3.699e+00\n"
     ]
    },
    {
     "name": "stderr",
     "output_type": "stream",
     "text": [
      "\n"
     ]
    },
    {
     "name": "stdout",
     "output_type": "stream",
     "text": [
      "Epoch 500/1000\n"
     ]
    },
    {
     "name": "stderr",
     "output_type": "stream",
     "text": [
      "100%|██████████| 1/1 [00:00<00:00, 175.06it/s, loss=3.692e+00]"
     ]
    },
    {
     "name": "stdout",
     "output_type": "stream",
     "text": [
      "  Loss =  3.692e+00\n"
     ]
    },
    {
     "name": "stderr",
     "output_type": "stream",
     "text": [
      "\n"
     ]
    },
    {
     "name": "stdout",
     "output_type": "stream",
     "text": [
      "Epoch 600/1000\n"
     ]
    },
    {
     "name": "stderr",
     "output_type": "stream",
     "text": [
      "100%|██████████| 1/1 [00:00<00:00, 150.60it/s, loss=3.687e+00]"
     ]
    },
    {
     "name": "stdout",
     "output_type": "stream",
     "text": [
      "  Loss =  3.687e+00\n"
     ]
    },
    {
     "name": "stderr",
     "output_type": "stream",
     "text": [
      "\n"
     ]
    },
    {
     "name": "stdout",
     "output_type": "stream",
     "text": [
      "Epoch 700/1000\n"
     ]
    },
    {
     "name": "stderr",
     "output_type": "stream",
     "text": [
      "100%|██████████| 1/1 [00:00<00:00, 134.71it/s, loss=3.684e+00]"
     ]
    },
    {
     "name": "stdout",
     "output_type": "stream",
     "text": [
      "  Loss =  3.684e+00\n"
     ]
    },
    {
     "name": "stderr",
     "output_type": "stream",
     "text": [
      "\n"
     ]
    },
    {
     "name": "stdout",
     "output_type": "stream",
     "text": [
      "Epoch 800/1000\n"
     ]
    },
    {
     "name": "stderr",
     "output_type": "stream",
     "text": [
      "100%|██████████| 1/1 [00:00<00:00, 195.73it/s, loss=3.682e+00]"
     ]
    },
    {
     "name": "stdout",
     "output_type": "stream",
     "text": [
      "  Loss =  3.682e+00\n"
     ]
    },
    {
     "name": "stderr",
     "output_type": "stream",
     "text": [
      "\n"
     ]
    },
    {
     "name": "stdout",
     "output_type": "stream",
     "text": [
      "Epoch 900/1000\n"
     ]
    },
    {
     "name": "stderr",
     "output_type": "stream",
     "text": [
      "100%|██████████| 1/1 [00:00<00:00, 247.80it/s, loss=3.681e+00]"
     ]
    },
    {
     "name": "stdout",
     "output_type": "stream",
     "text": [
      "  Loss =  3.681e+00\n"
     ]
    },
    {
     "name": "stderr",
     "output_type": "stream",
     "text": [
      "\n"
     ]
    },
    {
     "name": "stdout",
     "output_type": "stream",
     "text": [
      "Epoch 1000/1000\n"
     ]
    },
    {
     "name": "stderr",
     "output_type": "stream",
     "text": [
      "100%|██████████| 1/1 [00:00<00:00, 180.10it/s, loss=3.680e+00]"
     ]
    },
    {
     "name": "stdout",
     "output_type": "stream",
     "text": [
      "  Loss =  3.680e+00\n"
     ]
    },
    {
     "name": "stderr",
     "output_type": "stream",
     "text": [
      "\n"
     ]
    }
   ],
   "source": [
    "N_iter = 1000\n",
    "beta2 = 0.99\n",
    "eta = 0.1 #0.1 #0.1/0.001/0.01/0.15\n",
    "                       \n",
    "alpha = 0.1 #0.1 # 0.01\n",
    "\n",
    "key, subkey = random.split(key)\n",
    "x_o, loss_o = oasis(subkey, Fidx, gradFidx, hvpFidx, x0, eta, D0, beta2, alpha, N_iter, iter_display = 100)\n"
   ]
  },
  {
   "cell_type": "code",
   "execution_count": 62,
   "id": "d7d8a80c-96d4-4143-a907-bc14acbdb5cc",
   "metadata": {},
   "outputs": [
    {
     "name": "stdout",
     "output_type": "stream",
     "text": [
      "Epoch 500/1000\n"
     ]
    },
    {
     "name": "stderr",
     "output_type": "stream",
     "text": [
      "100%|██████████| 1/1 [00:00<00:00, 190.54it/s, loss=3.680e+00]"
     ]
    },
    {
     "name": "stdout",
     "output_type": "stream",
     "text": [
      "  Loss =  3.680e+00\n"
     ]
    },
    {
     "name": "stderr",
     "output_type": "stream",
     "text": [
      "\n"
     ]
    },
    {
     "name": "stdout",
     "output_type": "stream",
     "text": [
      "Epoch 1000/1000\n"
     ]
    },
    {
     "name": "stderr",
     "output_type": "stream",
     "text": [
      "100%|██████████| 1/1 [00:00<00:00, 133.74it/s, loss=3.678e+00]"
     ]
    },
    {
     "name": "stdout",
     "output_type": "stream",
     "text": [
      "  Loss =  3.678e+00\n"
     ]
    },
    {
     "name": "stderr",
     "output_type": "stream",
     "text": [
      "\n"
     ]
    }
   ],
   "source": [
    "N_iter = 1000\n",
    "beta2 = 0.99\n",
    "eta0 = 0.1 #0.1/0.001/0.01/0.15\n",
    "                       \n",
    "alpha = 0.1 # 0.01\n",
    "\n",
    "key, subkey = random.split(key)\n",
    "x_oa, loss_oa = oasis_adaptive(subkey, Fidx, gradFidx, hvpFidx, x0, eta0, D0, beta2, alpha, N_iter, iter_display = 500)\n"
   ]
  },
  {
   "cell_type": "code",
   "execution_count": 63,
   "id": "65316fa4-29ef-4a8b-98a3-a5150a90a40d",
   "metadata": {},
   "outputs": [
    {
     "name": "stdout",
     "output_type": "stream",
     "text": [
      "1.0313333104989832\n",
      "1.3058539672616098\n",
      "1.0341270889706118\n",
      "1.0304679494768392\n"
     ]
    },
    {
     "data": {
      "image/png": "[encoded data removed]",
      "text/plain": [
       "<Figure size 864x432 with 2 Axes>"
      ]
     },
     "metadata": {
      "needs_background": "light"
     },
     "output_type": "display_data"
    }
   ],
   "source": [
    "#print(jnp.mean(jnp.abs(x_gt-x_n)))\n",
    "print(jnp.mean(jnp.abs(x_gt-x_cg)))\n",
    "print(jnp.mean(jnp.abs(x_gt-x_gd)))\n",
    "print(jnp.mean(jnp.abs(x_gt-x_o)))\n",
    "print(jnp.mean(jnp.abs(x_gt-x_oa)))\n",
    "\n",
    "plt.rcParams[\"figure.figsize\"]=12, 6\n",
    "\n",
    "plt.subplot(1,2,1)\n",
    "\n",
    "nn0 = 0\n",
    "nn1 = 1000\n",
    "#plt.semilogy(loss_n[nn0:nn1])\n",
    "plt.semilogy(loss_gd[nn0:nn1])\n",
    "plt.semilogy(loss_cg[nn0:nn1])\n",
    "plt.semilogy(loss_o[nn0:nn1])\n",
    "plt.semilogy(loss_oa[nn0:nn1])\n",
    "#plt.legend([\"Newton\", \"GD\", \"OASIS\", \"OASIS adaptive\"])\n",
    "plt.legend([\"GD\", \"CG\", \"OASIS\", \"OASIS adaptive\"])\n",
    "plt.title(\"Loss\")\n",
    "\n",
    "plt.subplot(1,2,2)\n",
    "#plt.semilogy(jnp.abs(x_gt-x_n))\n",
    "plt.semilogy(jnp.abs(x_gt-x_gd))\n",
    "plt.semilogy(jnp.abs(x_gt-x_o))\n",
    "plt.semilogy(jnp.abs(x_gt-x_oa))\n",
    "plt.legend([\"GD\", \"OASIS\", \"OASIS_adaptive\"])\n",
    "plt.title(\"Error\")\n",
    "\n",
    "plt.rcParams[\"figure.figsize\"]=6, 6"
   ]
  },
  {
   "cell_type": "markdown",
   "id": "a8b6c827-8a95-402c-b11f-ceeae8a12d5c",
   "metadata": {},
   "source": [
    "### Stochastic - sum of operators"
   ]
  },
  {
   "cell_type": "code",
   "execution_count": 66,
   "id": "1fff654c-9c9a-4e22-8174-9b5bf8028231",
   "metadata": {},
   "outputs": [],
   "source": [
    "key = random.PRNGKey(int(jnp.floor(np.random.rand()*1000)))"
   ]
  },
  {
   "cell_type": "markdown",
   "id": "eab15192-ed05-48be-8bc6-519f1af7f07b",
   "metadata": {},
   "source": [
    "Generate $N$ operators to create a loss function to run SGD/OASIS on:"
   ]
  },
  {
   "cell_type": "code",
   "execution_count": 67,
   "id": "e4b0a499-469f-4b89-bbd8-4eb4b0af9075",
   "metadata": {},
   "outputs": [],
   "source": [
    "sig_noise = 10\n",
    "lam = 0.1"
   ]
  },
  {
   "cell_type": "code",
   "execution_count": 74,
   "id": "22bdc44f-ff0b-4b9d-b412-c0ceddb3a674",
   "metadata": {},
   "outputs": [],
   "source": [
    "n = 100\n",
    "N = 1000\n",
    "\n",
    "key, subkey = random.split(key)\n",
    "\n",
    "x_gt = random.normal(subkey, (n,), dtype=jnp.complex128)\n",
    "\n",
    "ops = []\n",
    "b = []\n",
    "for i in range(N):\n",
    "    key, *subkeys = random.split(key, 4)\n",
    "    \n",
    "    A = random.normal(subkeys[0], (n,n), dtype = x_gt.dtype)\n",
    "    A = A.T @ A\n",
    "    _, v = jnp.linalg.eigh(A)\n",
    "    \n",
    "    d = jnp.logspace(10,-5,n) + random.normal(subkeys[1], (n,), dtype = jnp.double)*10 \n",
    "    d = d + jnp.abs(jnp.min(d)*2)\n",
    "                 \n",
    "    A = v.T @ jnp.diag(d) @ v\n",
    "    ops.append(A)\n",
    "    \n",
    "    bn = A @ x_gt + random.normal(subkeys[2], (n,), dtype = x_gt.dtype) * sig_noise\n",
    "    b.append(bn)\n",
    "    \n",
    "    #print(jnp.mean((A@x_gt - bn)**2))\n",
    "    \n",
    "ops = jnp.array(ops)\n",
    "b = jnp.array(b)"
   ]
  },
  {
   "cell_type": "code",
   "execution_count": 79,
   "id": "5e78e315-c297-4911-91cf-f1d27bc1a509",
   "metadata": {},
   "outputs": [
    {
     "name": "stdout",
     "output_type": "stream",
     "text": [
      " 4.26e+08\n"
     ]
    }
   ],
   "source": [
    "w, _ = jnp.linalg.eigh(A)\n",
    "w = jnp.flip(jnp.sort(w))\n",
    "print(f\"{jnp.max(w)/jnp.min(w) : .2e}\")"
   ]
  },
  {
   "cell_type": "code",
   "execution_count": 80,
   "id": "ddb234d9-26d3-4520-a589-2e0677dccdae",
   "metadata": {},
   "outputs": [
    {
     "name": "stdout",
     "output_type": "stream",
     "text": [
      "10000000035.65433\n",
      "23.482235079674624\n"
     ]
    }
   ],
   "source": [
    "print(jnp.max(w))\n",
    "print(jnp.min(w))"
   ]
  },
  {
   "cell_type": "code",
   "execution_count": 81,
   "id": "468e3a1f-4f0f-4d36-aa67-b758871eea2d",
   "metadata": {},
   "outputs": [],
   "source": [
    "def loss_term(x, A, b):\n",
    "    return 1/2 * jnp.real(jnp.mean(jnp.conj(A@x - b)*(A@x - b)) + lam * jnp.mean(jnp.conj(x)*x))\n",
    "\n",
    "def loss_func(x, ops, b):\n",
    "    return jnp.mean(jax.vmap(loss_term, in_axes = (None, 0, 0))(x, ops, b))\n",
    "\n",
    "def grad_loss_func(x, ops, b):\n",
    "    return jax.grad(loss_func)(x, ops, b)\n",
    "\n",
    "def hvp_loss_func(x, v, ops, b):\n",
    "    return jvp(lambda y : grad_loss_func(y, ops, b), (x,), (v,))[1]"
   ]
  },
  {
   "cell_type": "code",
   "execution_count": 82,
   "id": "596a2b9b-f7fe-48f1-b8be-d37784d8e003",
   "metadata": {},
   "outputs": [
    {
     "name": "stdout",
     "output_type": "stream",
     "text": [
      "53.77126044871274\n",
      "49.76565318421393\n",
      "(100,)\n",
      "(100,)\n",
      "(100,)\n",
      "(100,)\n"
     ]
    }
   ],
   "source": [
    "idx = np.random.permutation(N)[:N//3]\n",
    "\n",
    "print(loss_term(x_gt, ops[0], b[0]))\n",
    "print(loss_func(x_gt, ops, b))\n",
    "\n",
    "print(grad_loss_func(x_gt, ops, b).shape)\n",
    "print(grad_loss_func(x_gt, ops[idx], b[idx]).shape)\n",
    "\n",
    "print(hvp_loss_func(x_gt, x_gt, ops, b).shape)\n",
    "print(hvp_loss_func(x_gt, x_gt, ops[idx], b[idx]).shape)"
   ]
  },
  {
   "cell_type": "code",
   "execution_count": 83,
   "id": "f676aa77-b686-4343-a484-f7153d02b5f5",
   "metadata": {},
   "outputs": [],
   "source": [
    "key, subkey = random.split(key)\n",
    "\n",
    "hessianF = lambda x : jax.hessian(loss_func)(x, ops, b)\n",
    "\n",
    "Fidx = jax.jit(lambda x, idx : loss_func(x, ops[idx], b[idx]))\n",
    "gradFidx = jax.jit(lambda x, idx : grad_loss_func(x, ops[idx], b[idx]))\n",
    "hvpFidx = jax.jit(lambda x, v, idx : hvp_loss_func(x, v, ops[idx], b[idx]))\n",
    "x0 = random.normal(subkey, (n,), dtype = x_gt.dtype)"
   ]
  },
  {
   "cell_type": "code",
   "execution_count": 85,
   "id": "1c4ebd6f-40e2-499f-b779-dba06af2cbc3",
   "metadata": {},
   "outputs": [
    {
     "data": {
      "text/plain": [
       "DeviceArray(49.76565318, dtype=float64)"
      ]
     },
     "execution_count": 85,
     "metadata": {},
     "output_type": "execute_result"
    }
   ],
   "source": [
    "Fidx(x_gt, jnp.arange(N))"
   ]
  },
  {
   "cell_type": "code",
   "execution_count": 86,
   "id": "8068f6e8-e2eb-42b5-b66f-a6fd1c4ee07b",
   "metadata": {},
   "outputs": [
    {
     "name": "stderr",
     "output_type": "stream",
     "text": [
      "100%|██████████| 10000/10000 [00:35<00:00, 279.94it/s]\n"
     ]
    }
   ],
   "source": [
    "#D0 = jnp.ones((nx,nx,nx))  #<--- not very good\n",
    "#D0exact = jnp.diag(hessianF(x0)) # This is cheating\n",
    "\n",
    "iters = 10000\n",
    "batch_sz = 32\n",
    "key, *subkeys = random.split(key, 2*iters+1)\n",
    "\n",
    "zD0z = np.zeros((n,))\n",
    "\n",
    "for i in tqdm(range(iters)):\n",
    "    z = random.rademacher(subkeys[2*i], (n,), dtype=x0.dtype)\n",
    "    idx = random.permutation(subkeys[2*i+1], N)[:batch_sz]\n",
    "    \n",
    "    zD0z += z * hvpFidx(x0, z, idx)\n",
    "    \n",
    "D0 = jnp.array(zD0z/iters)\n",
    "\n",
    "\n",
    "#plt.plot(jnp.abs(D0-D0exact)/jnp.abs(D0exact))"
   ]
  },
  {
   "cell_type": "code",
   "execution_count": 92,
   "id": "0b0edb39-6c54-401d-b223-8894798094f5",
   "metadata": {},
   "outputs": [
    {
     "name": "stdout",
     "output_type": "stream",
     "text": [
      "Epoch 1/20\n"
     ]
    },
    {
     "name": "stderr",
     "output_type": "stream",
     "text": [
      "100%|██████████| 50/50 [00:00<00:00, 116.97it/s, loss=5.828e+14]\n"
     ]
    },
    {
     "name": "stdout",
     "output_type": "stream",
     "text": [
      "  Loss =  7.438e+14\n",
      "Epoch 2/20\n"
     ]
    },
    {
     "name": "stderr",
     "output_type": "stream",
     "text": [
      "100%|██████████| 50/50 [00:00<00:00, 109.64it/s, loss=1.071e+12]\n"
     ]
    },
    {
     "name": "stdout",
     "output_type": "stream",
     "text": [
      "  Loss =  1.269e+12\n",
      "Epoch 3/20\n"
     ]
    },
    {
     "name": "stderr",
     "output_type": "stream",
     "text": [
      "100%|██████████| 50/50 [00:00<00:00, 115.80it/s, loss=4.454e+09]\n"
     ]
    },
    {
     "name": "stdout",
     "output_type": "stream",
     "text": [
      "  Loss =  4.462e+09\n",
      "Epoch 4/20\n"
     ]
    },
    {
     "name": "stderr",
     "output_type": "stream",
     "text": [
      "100%|██████████| 50/50 [00:00<00:00, 115.75it/s, loss=1.588e+07]\n"
     ]
    },
    {
     "name": "stdout",
     "output_type": "stream",
     "text": [
      "  Loss =  1.942e+07\n",
      "Epoch 5/20\n"
     ]
    },
    {
     "name": "stderr",
     "output_type": "stream",
     "text": [
      "100%|██████████| 50/50 [00:00<00:00, 117.87it/s, loss=7.182e+04]\n"
     ]
    },
    {
     "name": "stdout",
     "output_type": "stream",
     "text": [
      "  Loss =  8.418e+04\n",
      "Epoch 6/20\n"
     ]
    },
    {
     "name": "stderr",
     "output_type": "stream",
     "text": [
      "100%|██████████| 50/50 [00:00<00:00, 115.24it/s, loss=3.326e+02]\n"
     ]
    },
    {
     "name": "stdout",
     "output_type": "stream",
     "text": [
      "  Loss =  4.565e+02\n",
      "Epoch 7/20\n"
     ]
    },
    {
     "name": "stderr",
     "output_type": "stream",
     "text": [
      "100%|██████████| 50/50 [00:00<00:00, 113.95it/s, loss=5.154e+01]\n"
     ]
    },
    {
     "name": "stdout",
     "output_type": "stream",
     "text": [
      "  Loss =  5.145e+01\n",
      "Epoch 8/20\n"
     ]
    },
    {
     "name": "stderr",
     "output_type": "stream",
     "text": [
      "100%|██████████| 50/50 [00:00<00:00, 112.96it/s, loss=4.939e+01]\n"
     ]
    },
    {
     "name": "stdout",
     "output_type": "stream",
     "text": [
      "  Loss =  4.981e+01\n",
      "Epoch 9/20\n"
     ]
    },
    {
     "name": "stderr",
     "output_type": "stream",
     "text": [
      "100%|██████████| 50/50 [00:00<00:00, 112.80it/s, loss=4.879e+01]\n"
     ]
    },
    {
     "name": "stdout",
     "output_type": "stream",
     "text": [
      "  Loss =  4.987e+01\n",
      "Epoch 10/20\n"
     ]
    },
    {
     "name": "stderr",
     "output_type": "stream",
     "text": [
      "100%|██████████| 50/50 [00:00<00:00, 124.35it/s, loss=4.909e+01]\n"
     ]
    },
    {
     "name": "stdout",
     "output_type": "stream",
     "text": [
      "  Loss =  4.980e+01\n",
      "Epoch 11/20\n"
     ]
    },
    {
     "name": "stderr",
     "output_type": "stream",
     "text": [
      "100%|██████████| 50/50 [00:00<00:00, 113.36it/s, loss=4.753e+01]\n"
     ]
    },
    {
     "name": "stdout",
     "output_type": "stream",
     "text": [
      "  Loss =  4.985e+01\n",
      "Epoch 12/20\n"
     ]
    },
    {
     "name": "stderr",
     "output_type": "stream",
     "text": [
      "100%|██████████| 50/50 [00:00<00:00, 122.65it/s, loss=4.952e+01]\n"
     ]
    },
    {
     "name": "stdout",
     "output_type": "stream",
     "text": [
      "  Loss =  4.984e+01\n",
      "Epoch 13/20\n"
     ]
    },
    {
     "name": "stderr",
     "output_type": "stream",
     "text": [
      "100%|██████████| 50/50 [00:00<00:00, 115.52it/s, loss=5.083e+01]\n"
     ]
    },
    {
     "name": "stdout",
     "output_type": "stream",
     "text": [
      "  Loss =  4.982e+01\n",
      "Epoch 14/20\n"
     ]
    },
    {
     "name": "stderr",
     "output_type": "stream",
     "text": [
      "100%|██████████| 50/50 [00:00<00:00, 111.57it/s, loss=4.969e+01]\n"
     ]
    },
    {
     "name": "stdout",
     "output_type": "stream",
     "text": [
      "  Loss =  4.997e+01\n",
      "Epoch 15/20\n"
     ]
    },
    {
     "name": "stderr",
     "output_type": "stream",
     "text": [
      "100%|██████████| 50/50 [00:00<00:00, 109.18it/s, loss=4.876e+01]\n"
     ]
    },
    {
     "name": "stdout",
     "output_type": "stream",
     "text": [
      "  Loss =  4.987e+01\n",
      "Epoch 16/20\n"
     ]
    },
    {
     "name": "stderr",
     "output_type": "stream",
     "text": [
      "100%|██████████| 50/50 [00:00<00:00, 120.12it/s, loss=4.943e+01]\n"
     ]
    },
    {
     "name": "stdout",
     "output_type": "stream",
     "text": [
      "  Loss =  4.987e+01\n",
      "Epoch 17/20\n"
     ]
    },
    {
     "name": "stderr",
     "output_type": "stream",
     "text": [
      "100%|██████████| 50/50 [00:00<00:00, 112.93it/s, loss=4.986e+01]\n"
     ]
    },
    {
     "name": "stdout",
     "output_type": "stream",
     "text": [
      "  Loss =  5.013e+01\n",
      "Epoch 18/20\n"
     ]
    },
    {
     "name": "stderr",
     "output_type": "stream",
     "text": [
      "100%|██████████| 50/50 [00:00<00:00, 115.97it/s, loss=5.025e+01]\n"
     ]
    },
    {
     "name": "stdout",
     "output_type": "stream",
     "text": [
      "  Loss =  4.982e+01\n",
      "Epoch 19/20\n"
     ]
    },
    {
     "name": "stderr",
     "output_type": "stream",
     "text": [
      "100%|██████████| 50/50 [00:00<00:00, 111.56it/s, loss=5.123e+01]\n"
     ]
    },
    {
     "name": "stdout",
     "output_type": "stream",
     "text": [
      "  Loss =  5.014e+01\n",
      "Epoch 20/20\n"
     ]
    },
    {
     "name": "stderr",
     "output_type": "stream",
     "text": [
      "100%|██████████| 50/50 [00:00<00:00, 110.65it/s, loss=4.951e+01]\n"
     ]
    },
    {
     "name": "stdout",
     "output_type": "stream",
     "text": [
      "  Loss =  4.986e+01\n"
     ]
    }
   ],
   "source": [
    "N_epoch = 20\n",
    "beta2 = 0.99\n",
    "eta = 1e-1 #0.1 #0.1/0.001/0.01/0.15\n",
    "                       \n",
    "alpha = 0 #0.1 #0.1 # 0.01\n",
    "\n",
    "key, subkey = random.split(key)\n",
    "x_os, loss_os = oasis(subkey, Fidx, gradFidx, hvpFidx, x0, eta, D0, beta2, alpha, N_epoch, batch_size = 20, N = N, iter_display = 1)\n"
   ]
  },
  {
   "cell_type": "code",
   "execution_count": 93,
   "id": "1c082c87-8e9b-4367-bfa4-8f203c74a99e",
   "metadata": {},
   "outputs": [
    {
     "name": "stdout",
     "output_type": "stream",
     "text": [
      "Epoch 1/20\n"
     ]
    },
    {
     "name": "stderr",
     "output_type": "stream",
     "text": [
      "100%|██████████| 50/50 [00:01<00:00, 32.10it/s, loss=4.690e+15]\n"
     ]
    },
    {
     "name": "stdout",
     "output_type": "stream",
     "text": [
      "  Loss =  5.990e+15\n",
      "Epoch 2/20\n"
     ]
    },
    {
     "name": "stderr",
     "output_type": "stream",
     "text": [
      "100%|██████████| 50/50 [00:00<00:00, 77.02it/s, loss=6.370e+13]\n"
     ]
    },
    {
     "name": "stdout",
     "output_type": "stream",
     "text": [
      "  Loss =  6.799e+13\n",
      "Epoch 3/20\n"
     ]
    },
    {
     "name": "stderr",
     "output_type": "stream",
     "text": [
      "100%|██████████| 50/50 [00:00<00:00, 71.58it/s, loss=7.182e+11]\n"
     ]
    },
    {
     "name": "stdout",
     "output_type": "stream",
     "text": [
      "  Loss =  7.523e+11\n",
      "Epoch 4/20\n"
     ]
    },
    {
     "name": "stderr",
     "output_type": "stream",
     "text": [
      "100%|██████████| 50/50 [00:00<00:00, 69.81it/s, loss=1.274e+10]\n"
     ]
    },
    {
     "name": "stdout",
     "output_type": "stream",
     "text": [
      "  Loss =  1.280e+10\n",
      "Epoch 5/20\n"
     ]
    },
    {
     "name": "stderr",
     "output_type": "stream",
     "text": [
      "100%|██████████| 50/50 [00:00<00:00, 78.14it/s, loss=2.074e+08]\n"
     ]
    },
    {
     "name": "stdout",
     "output_type": "stream",
     "text": [
      "  Loss =  2.186e+08\n",
      "Epoch 6/20\n"
     ]
    },
    {
     "name": "stderr",
     "output_type": "stream",
     "text": [
      "100%|██████████| 50/50 [00:00<00:00, 75.45it/s, loss=2.006e+06]\n"
     ]
    },
    {
     "name": "stdout",
     "output_type": "stream",
     "text": [
      "  Loss =  2.572e+06\n",
      "Epoch 7/20\n"
     ]
    },
    {
     "name": "stderr",
     "output_type": "stream",
     "text": [
      "100%|██████████| 50/50 [00:00<00:00, 76.60it/s, loss=2.257e+04]\n"
     ]
    },
    {
     "name": "stdout",
     "output_type": "stream",
     "text": [
      "  Loss =  2.513e+04\n",
      "Epoch 8/20\n"
     ]
    },
    {
     "name": "stderr",
     "output_type": "stream",
     "text": [
      "100%|██████████| 50/50 [00:00<00:00, 75.93it/s, loss=6.256e+02]\n"
     ]
    },
    {
     "name": "stdout",
     "output_type": "stream",
     "text": [
      "  Loss =  6.188e+02\n",
      "Epoch 9/20\n"
     ]
    },
    {
     "name": "stderr",
     "output_type": "stream",
     "text": [
      "100%|██████████| 50/50 [00:00<00:00, 72.88it/s, loss=5.921e+01]\n"
     ]
    },
    {
     "name": "stdout",
     "output_type": "stream",
     "text": [
      "  Loss =  5.842e+01\n",
      "Epoch 10/20\n"
     ]
    },
    {
     "name": "stderr",
     "output_type": "stream",
     "text": [
      "100%|██████████| 50/50 [00:00<00:00, 75.10it/s, loss=5.002e+01]\n"
     ]
    },
    {
     "name": "stdout",
     "output_type": "stream",
     "text": [
      "  Loss =  4.999e+01\n",
      "Epoch 11/20\n"
     ]
    },
    {
     "name": "stderr",
     "output_type": "stream",
     "text": [
      "100%|██████████| 50/50 [00:00<00:00, 74.39it/s, loss=5.028e+01]\n"
     ]
    },
    {
     "name": "stdout",
     "output_type": "stream",
     "text": [
      "  Loss =  4.981e+01\n",
      "Epoch 12/20\n"
     ]
    },
    {
     "name": "stderr",
     "output_type": "stream",
     "text": [
      "100%|██████████| 50/50 [00:00<00:00, 75.85it/s, loss=4.802e+01]\n"
     ]
    },
    {
     "name": "stdout",
     "output_type": "stream",
     "text": [
      "  Loss =  4.977e+01\n",
      "Epoch 13/20\n"
     ]
    },
    {
     "name": "stderr",
     "output_type": "stream",
     "text": [
      "100%|██████████| 50/50 [00:00<00:00, 77.74it/s, loss=5.233e+01]\n"
     ]
    },
    {
     "name": "stdout",
     "output_type": "stream",
     "text": [
      "  Loss =  4.979e+01\n",
      "Epoch 14/20\n"
     ]
    },
    {
     "name": "stderr",
     "output_type": "stream",
     "text": [
      "100%|██████████| 50/50 [00:00<00:00, 75.63it/s, loss=5.030e+01]\n"
     ]
    },
    {
     "name": "stdout",
     "output_type": "stream",
     "text": [
      "  Loss =  4.983e+01\n",
      "Epoch 15/20\n"
     ]
    },
    {
     "name": "stderr",
     "output_type": "stream",
     "text": [
      "100%|██████████| 50/50 [00:00<00:00, 74.90it/s, loss=4.940e+01]\n"
     ]
    },
    {
     "name": "stdout",
     "output_type": "stream",
     "text": [
      "  Loss =  4.978e+01\n",
      "Epoch 16/20\n"
     ]
    },
    {
     "name": "stderr",
     "output_type": "stream",
     "text": [
      "100%|██████████| 50/50 [00:00<00:00, 78.20it/s, loss=4.865e+01]\n"
     ]
    },
    {
     "name": "stdout",
     "output_type": "stream",
     "text": [
      "  Loss =  4.978e+01\n",
      "Epoch 17/20\n"
     ]
    },
    {
     "name": "stderr",
     "output_type": "stream",
     "text": [
      "100%|██████████| 50/50 [00:00<00:00, 76.64it/s, loss=5.044e+01]\n"
     ]
    },
    {
     "name": "stdout",
     "output_type": "stream",
     "text": [
      "  Loss =  4.977e+01\n",
      "Epoch 18/20\n"
     ]
    },
    {
     "name": "stderr",
     "output_type": "stream",
     "text": [
      "100%|██████████| 50/50 [00:00<00:00, 78.89it/s, loss=4.750e+01]\n"
     ]
    },
    {
     "name": "stdout",
     "output_type": "stream",
     "text": [
      "  Loss =  4.979e+01\n",
      "Epoch 19/20\n"
     ]
    },
    {
     "name": "stderr",
     "output_type": "stream",
     "text": [
      "100%|██████████| 50/50 [00:00<00:00, 74.98it/s, loss=4.912e+01]\n"
     ]
    },
    {
     "name": "stdout",
     "output_type": "stream",
     "text": [
      "  Loss =  4.976e+01\n",
      "Epoch 20/20\n"
     ]
    },
    {
     "name": "stderr",
     "output_type": "stream",
     "text": [
      "100%|██████████| 50/50 [00:00<00:00, 78.96it/s, loss=4.913e+01]\n"
     ]
    },
    {
     "name": "stdout",
     "output_type": "stream",
     "text": [
      "  Loss =  4.980e+01\n"
     ]
    }
   ],
   "source": [
    "N_epoch = 20\n",
    "beta2 = 0.99\n",
    "eta = 0.01 #0.1 #0.1/0.001/0.01/0.15\n",
    "                       \n",
    "alpha = 0 #0.1 #0.1 # 0.01\n",
    "\n",
    "key, subkey = random.split(key)\n",
    "x_osa, loss_osa = oasis_adaptive(subkey, Fidx, gradFidx, hvpFidx, x0, eta, D0, beta2, alpha, N_epoch, batch_size = 20, N = N, iter_display = 1)\n"
   ]
  },
  {
   "cell_type": "code",
   "execution_count": 97,
   "id": "4952b15f-88ce-4e16-9413-78b54c5014c3",
   "metadata": {},
   "outputs": [
    {
     "name": "stdout",
     "output_type": "stream",
     "text": [
      "Epoch 1/20\n"
     ]
    },
    {
     "name": "stderr",
     "output_type": "stream",
     "text": [
      "100%|██████████| 1/1 [00:00<00:00, 62.90it/s, loss=1.071e+18]\n"
     ]
    },
    {
     "name": "stdout",
     "output_type": "stream",
     "text": [
      "  Loss =  1.071e+18\n",
      "Epoch 2/20\n"
     ]
    },
    {
     "name": "stderr",
     "output_type": "stream",
     "text": [
      "100%|██████████| 1/1 [00:00<00:00, 64.16it/s, loss=8.898e+17]\n"
     ]
    },
    {
     "name": "stdout",
     "output_type": "stream",
     "text": [
      "  Loss =  8.898e+17\n",
      "Epoch 3/20\n"
     ]
    },
    {
     "name": "stderr",
     "output_type": "stream",
     "text": [
      "100%|██████████| 1/1 [00:00<00:00, 78.58it/s, loss=7.435e+17]\n"
     ]
    },
    {
     "name": "stdout",
     "output_type": "stream",
     "text": [
      "  Loss =  7.435e+17\n",
      "Epoch 4/20\n"
     ]
    },
    {
     "name": "stderr",
     "output_type": "stream",
     "text": [
      "100%|██████████| 1/1 [00:00<00:00, 80.36it/s, loss=6.230e+17]\n"
     ]
    },
    {
     "name": "stdout",
     "output_type": "stream",
     "text": [
      "  Loss =  6.230e+17\n",
      "Epoch 5/20\n"
     ]
    },
    {
     "name": "stderr",
     "output_type": "stream",
     "text": [
      "100%|██████████| 1/1 [00:00<00:00, 75.18it/s, loss=5.230e+17]\n"
     ]
    },
    {
     "name": "stdout",
     "output_type": "stream",
     "text": [
      "  Loss =  5.230e+17\n",
      "Epoch 6/20\n"
     ]
    },
    {
     "name": "stderr",
     "output_type": "stream",
     "text": [
      "100%|██████████| 1/1 [00:00<00:00, 65.87it/s, loss=4.398e+17]\n"
     ]
    },
    {
     "name": "stdout",
     "output_type": "stream",
     "text": [
      "  Loss =  4.398e+17\n",
      "Epoch 7/20\n"
     ]
    },
    {
     "name": "stderr",
     "output_type": "stream",
     "text": [
      "100%|██████████| 1/1 [00:00<00:00, 69.54it/s, loss=3.705e+17]\n"
     ]
    },
    {
     "name": "stdout",
     "output_type": "stream",
     "text": [
      "  Loss =  3.705e+17\n",
      "Epoch 8/20\n"
     ]
    },
    {
     "name": "stderr",
     "output_type": "stream",
     "text": [
      "100%|██████████| 1/1 [00:00<00:00, 73.46it/s, loss=3.126e+17]\n"
     ]
    },
    {
     "name": "stdout",
     "output_type": "stream",
     "text": [
      "  Loss =  3.126e+17\n",
      "Epoch 9/20\n"
     ]
    },
    {
     "name": "stderr",
     "output_type": "stream",
     "text": [
      "100%|██████████| 1/1 [00:00<00:00, 66.28it/s, loss=2.642e+17]\n"
     ]
    },
    {
     "name": "stdout",
     "output_type": "stream",
     "text": [
      "  Loss =  2.642e+17\n",
      "Epoch 10/20\n"
     ]
    },
    {
     "name": "stderr",
     "output_type": "stream",
     "text": [
      "100%|██████████| 1/1 [00:00<00:00, 75.40it/s, loss=2.238e+17]\n"
     ]
    },
    {
     "name": "stdout",
     "output_type": "stream",
     "text": [
      "  Loss =  2.238e+17\n",
      "Epoch 11/20\n"
     ]
    },
    {
     "name": "stderr",
     "output_type": "stream",
     "text": [
      "100%|██████████| 1/1 [00:00<00:00, 60.64it/s, loss=1.898e+17]\n"
     ]
    },
    {
     "name": "stdout",
     "output_type": "stream",
     "text": [
      "  Loss =  1.898e+17\n",
      "Epoch 12/20\n"
     ]
    },
    {
     "name": "stderr",
     "output_type": "stream",
     "text": [
      "100%|██████████| 1/1 [00:00<00:00, 44.33it/s, loss=1.613e+17]\n"
     ]
    },
    {
     "name": "stdout",
     "output_type": "stream",
     "text": [
      "  Loss =  1.613e+17\n",
      "Epoch 13/20\n"
     ]
    },
    {
     "name": "stderr",
     "output_type": "stream",
     "text": [
      "100%|██████████| 1/1 [00:00<00:00, 67.10it/s, loss=1.373e+17]\n"
     ]
    },
    {
     "name": "stdout",
     "output_type": "stream",
     "text": [
      "  Loss =  1.373e+17\n",
      "Epoch 14/20\n"
     ]
    },
    {
     "name": "stderr",
     "output_type": "stream",
     "text": [
      "100%|██████████| 1/1 [00:00<00:00, 70.75it/s, loss=1.170e+17]\n"
     ]
    },
    {
     "name": "stdout",
     "output_type": "stream",
     "text": [
      "  Loss =  1.170e+17\n",
      "Epoch 15/20\n"
     ]
    },
    {
     "name": "stderr",
     "output_type": "stream",
     "text": [
      "100%|██████████| 1/1 [00:00<00:00, 82.21it/s, loss=9.987e+16]\n"
     ]
    },
    {
     "name": "stdout",
     "output_type": "stream",
     "text": [
      "  Loss =  9.987e+16\n",
      "Epoch 16/20\n"
     ]
    },
    {
     "name": "stderr",
     "output_type": "stream",
     "text": [
      "100%|██████████| 1/1 [00:00<00:00, 82.97it/s, loss=8.538e+16]\n"
     ]
    },
    {
     "name": "stdout",
     "output_type": "stream",
     "text": [
      "  Loss =  8.538e+16\n",
      "Epoch 17/20\n"
     ]
    },
    {
     "name": "stderr",
     "output_type": "stream",
     "text": [
      "100%|██████████| 1/1 [00:00<00:00, 74.01it/s, loss=7.306e+16]\n"
     ]
    },
    {
     "name": "stdout",
     "output_type": "stream",
     "text": [
      "  Loss =  7.306e+16\n",
      "Epoch 18/20\n"
     ]
    },
    {
     "name": "stderr",
     "output_type": "stream",
     "text": [
      "100%|██████████| 1/1 [00:00<00:00, 78.58it/s, loss=6.258e+16]\n"
     ]
    },
    {
     "name": "stdout",
     "output_type": "stream",
     "text": [
      "  Loss =  6.258e+16\n",
      "Epoch 19/20\n"
     ]
    },
    {
     "name": "stderr",
     "output_type": "stream",
     "text": [
      "100%|██████████| 1/1 [00:00<00:00, 88.45it/s, loss=5.371e+16]\n"
     ]
    },
    {
     "name": "stdout",
     "output_type": "stream",
     "text": [
      "  Loss =  5.371e+16\n",
      "Epoch 20/20\n"
     ]
    },
    {
     "name": "stderr",
     "output_type": "stream",
     "text": [
      "100%|██████████| 1/1 [00:00<00:00, 69.64it/s, loss=4.621e+16]\n"
     ]
    },
    {
     "name": "stdout",
     "output_type": "stream",
     "text": [
      "  Loss =  4.621e+16\n"
     ]
    }
   ],
   "source": [
    "N_epoch = 20\n",
    "beta2 = 0.99\n",
    "eta = 1e-1 #0.1 #0.1/0.001/0.01/0.15\n",
    "                       \n",
    "alpha = 0 #0.1 #0.1 # 0.01\n",
    "\n",
    "key, subkey = random.split(key)\n",
    "x_o, loss_o = oasis(subkey, Fidx, gradFidx, hvpFidx, x0, eta, D0, beta2, alpha, N_epoch, batch_size = None, N=N, iter_display = 1)"
   ]
  },
  {
   "cell_type": "code",
   "execution_count": 100,
   "id": "c29a92b9-ef4b-4d19-8e5f-97cf38972a38",
   "metadata": {},
   "outputs": [
    {
     "name": "stdout",
     "output_type": "stream",
     "text": [
      "Epoch 1/20\n"
     ]
    },
    {
     "name": "stderr",
     "output_type": "stream",
     "text": [
      "100%|██████████| 1/1 [00:00<00:00, 41.11it/s, loss=1.178e+18]\n"
     ]
    },
    {
     "name": "stdout",
     "output_type": "stream",
     "text": [
      "  Loss =  1.178e+18\n",
      "Epoch 2/20\n"
     ]
    },
    {
     "name": "stderr",
     "output_type": "stream",
     "text": [
      "100%|██████████| 1/1 [00:00<00:00, 35.66it/s, loss=1.055e+18]\n"
     ]
    },
    {
     "name": "stdout",
     "output_type": "stream",
     "text": [
      "  Loss =  1.055e+18\n",
      "Epoch 3/20\n"
     ]
    },
    {
     "name": "stderr",
     "output_type": "stream",
     "text": [
      "100%|██████████| 1/1 [00:00<00:00, 40.05it/s, loss=8.979e+17]\n"
     ]
    },
    {
     "name": "stdout",
     "output_type": "stream",
     "text": [
      "  Loss =  8.979e+17\n",
      "Epoch 4/20\n"
     ]
    },
    {
     "name": "stderr",
     "output_type": "stream",
     "text": [
      "100%|██████████| 1/1 [00:00<00:00, 32.33it/s, loss=6.954e+17]\n"
     ]
    },
    {
     "name": "stdout",
     "output_type": "stream",
     "text": [
      "  Loss =  6.954e+17\n",
      "Epoch 5/20\n"
     ]
    },
    {
     "name": "stderr",
     "output_type": "stream",
     "text": [
      "100%|██████████| 1/1 [00:00<00:00, 34.51it/s, loss=4.578e+17]\n"
     ]
    },
    {
     "name": "stdout",
     "output_type": "stream",
     "text": [
      "  Loss =  4.578e+17\n",
      "Epoch 6/20\n"
     ]
    },
    {
     "name": "stderr",
     "output_type": "stream",
     "text": [
      "100%|██████████| 1/1 [00:00<00:00, 36.69it/s, loss=2.295e+17]\n"
     ]
    },
    {
     "name": "stdout",
     "output_type": "stream",
     "text": [
      "  Loss =  2.295e+17\n",
      "Epoch 7/20\n"
     ]
    },
    {
     "name": "stderr",
     "output_type": "stream",
     "text": [
      "100%|██████████| 1/1 [00:00<00:00, 33.27it/s, loss=9.009e+16]\n"
     ]
    },
    {
     "name": "stdout",
     "output_type": "stream",
     "text": [
      "  Loss =  9.009e+16\n",
      "Epoch 8/20\n"
     ]
    },
    {
     "name": "stderr",
     "output_type": "stream",
     "text": [
      "100%|██████████| 1/1 [00:00<00:00, 39.85it/s, loss=1.167e+17]\n"
     ]
    },
    {
     "name": "stdout",
     "output_type": "stream",
     "text": [
      "  Loss =  1.167e+17\n",
      "Epoch 9/20\n"
     ]
    },
    {
     "name": "stderr",
     "output_type": "stream",
     "text": [
      "100%|██████████| 1/1 [00:00<00:00, 41.68it/s, loss=6.199e+16]\n"
     ]
    },
    {
     "name": "stdout",
     "output_type": "stream",
     "text": [
      "  Loss =  6.199e+16\n",
      "Epoch 10/20\n"
     ]
    },
    {
     "name": "stderr",
     "output_type": "stream",
     "text": [
      "100%|██████████| 1/1 [00:00<00:00, 46.27it/s, loss=5.168e+16]\n"
     ]
    },
    {
     "name": "stdout",
     "output_type": "stream",
     "text": [
      "  Loss =  5.168e+16\n",
      "Epoch 11/20\n"
     ]
    },
    {
     "name": "stderr",
     "output_type": "stream",
     "text": [
      "100%|██████████| 1/1 [00:00<00:00, 47.87it/s, loss=4.710e+16]\n"
     ]
    },
    {
     "name": "stdout",
     "output_type": "stream",
     "text": [
      "  Loss =  4.710e+16\n",
      "Epoch 12/20\n"
     ]
    },
    {
     "name": "stderr",
     "output_type": "stream",
     "text": [
      "100%|██████████| 1/1 [00:00<00:00, 45.87it/s, loss=4.357e+16]\n"
     ]
    },
    {
     "name": "stdout",
     "output_type": "stream",
     "text": [
      "  Loss =  4.357e+16\n",
      "Epoch 13/20\n"
     ]
    },
    {
     "name": "stderr",
     "output_type": "stream",
     "text": [
      "100%|██████████| 1/1 [00:00<00:00, 42.69it/s, loss=3.928e+16]\n"
     ]
    },
    {
     "name": "stdout",
     "output_type": "stream",
     "text": [
      "  Loss =  3.928e+16\n",
      "Epoch 14/20\n"
     ]
    },
    {
     "name": "stderr",
     "output_type": "stream",
     "text": [
      "100%|██████████| 1/1 [00:00<00:00, 43.88it/s, loss=3.333e+16]\n"
     ]
    },
    {
     "name": "stdout",
     "output_type": "stream",
     "text": [
      "  Loss =  3.333e+16\n",
      "Epoch 15/20\n"
     ]
    },
    {
     "name": "stderr",
     "output_type": "stream",
     "text": [
      "100%|██████████| 1/1 [00:00<00:00, 44.82it/s, loss=2.548e+16]\n"
     ]
    },
    {
     "name": "stdout",
     "output_type": "stream",
     "text": [
      "  Loss =  2.548e+16\n",
      "Epoch 16/20\n"
     ]
    },
    {
     "name": "stderr",
     "output_type": "stream",
     "text": [
      "100%|██████████| 1/1 [00:00<00:00, 48.07it/s, loss=1.637e+16]"
     ]
    },
    {
     "name": "stdout",
     "output_type": "stream",
     "text": [
      "  Loss =  1.637e+16"
     ]
    },
    {
     "name": "stderr",
     "output_type": "stream",
     "text": [
      "\n"
     ]
    },
    {
     "name": "stdout",
     "output_type": "stream",
     "text": [
      "\n",
      "Epoch 17/20\n"
     ]
    },
    {
     "name": "stderr",
     "output_type": "stream",
     "text": [
      "100%|██████████| 1/1 [00:00<00:00, 45.13it/s, loss=7.762e+15]\n"
     ]
    },
    {
     "name": "stdout",
     "output_type": "stream",
     "text": [
      "  Loss =  7.762e+15\n",
      "Epoch 18/20\n"
     ]
    },
    {
     "name": "stderr",
     "output_type": "stream",
     "text": [
      "100%|██████████| 1/1 [00:00<00:00, 43.35it/s, loss=5.468e+15]\n"
     ]
    },
    {
     "name": "stdout",
     "output_type": "stream",
     "text": [
      "  Loss =  5.468e+15\n",
      "Epoch 19/20\n"
     ]
    },
    {
     "name": "stderr",
     "output_type": "stream",
     "text": [
      "100%|██████████| 1/1 [00:00<00:00, 43.92it/s, loss=3.378e+15]\n"
     ]
    },
    {
     "name": "stdout",
     "output_type": "stream",
     "text": [
      "  Loss =  3.378e+15\n",
      "Epoch 20/20\n"
     ]
    },
    {
     "name": "stderr",
     "output_type": "stream",
     "text": [
      "100%|██████████| 1/1 [00:00<00:00, 40.70it/s, loss=2.916e+15]"
     ]
    },
    {
     "name": "stdout",
     "output_type": "stream",
     "text": [
      "  Loss =  2.916e+15\n"
     ]
    },
    {
     "name": "stderr",
     "output_type": "stream",
     "text": [
      "\n"
     ]
    }
   ],
   "source": [
    "N_epoch = 20\n",
    "beta2 = 0.99\n",
    "eta = 1e-1 #0.1 #0.1/0.001/0.01/0.15\n",
    "                       \n",
    "alpha = 0 #0.1 #0.1 # 0.01\n",
    "\n",
    "key, subkey = random.split(key)\n",
    "x_oa, loss_oa = oasis_adaptive(subkey, Fidx, gradFidx, hvpFidx, x0, eta, D0, beta2, alpha, N_epoch, batch_size = None, N=N, iter_display = 1)\n"
   ]
  },
  {
   "cell_type": "code",
   "execution_count": 107,
   "id": "190efe4d-8fdb-4e33-99eb-feb74a4b0ec4",
   "metadata": {},
   "outputs": [
    {
     "name": "stdout",
     "output_type": "stream",
     "text": [
      "Epoch 1/20 "
     ]
    },
    {
     "name": "stderr",
     "output_type": "stream",
     "text": [
      "100%|██████████| 50/50 [00:00<00:00, 292.60it/s, grad=4.515e+16, loss=3.212e+17]\n"
     ]
    },
    {
     "name": "stdout",
     "output_type": "stream",
     "text": [
      "  |Grad| = 6.074e+16\n",
      "  Loss = 2.783e+17\n",
      "Epoch 2/20 "
     ]
    },
    {
     "name": "stderr",
     "output_type": "stream",
     "text": [
      "100%|██████████| 50/50 [00:00<00:00, 331.56it/s, grad=1.256e+16, loss=4.744e+16]\n"
     ]
    },
    {
     "name": "stdout",
     "output_type": "stream",
     "text": [
      "  |Grad| = 2.472e+16\n",
      "  Loss = 5.848e+16\n",
      "Epoch 3/20 "
     ]
    },
    {
     "name": "stderr",
     "output_type": "stream",
     "text": [
      "100%|██████████| 50/50 [00:00<00:00, 292.11it/s, grad=8.275e+15, loss=1.303e+16]\n"
     ]
    },
    {
     "name": "stdout",
     "output_type": "stream",
     "text": [
      "  |Grad| = 1.176e+16\n",
      "  Loss = 1.371e+16\n",
      "Epoch 4/20 "
     ]
    },
    {
     "name": "stderr",
     "output_type": "stream",
     "text": [
      "100%|██████████| 50/50 [00:00<00:00, 287.23it/s, grad=5.202e+15, loss=3.688e+15]\n"
     ]
    },
    {
     "name": "stdout",
     "output_type": "stream",
     "text": [
      "  |Grad| = 5.681e+15\n",
      "  Loss = 3.537e+15\n",
      "Epoch 5/20 "
     ]
    },
    {
     "name": "stderr",
     "output_type": "stream",
     "text": [
      "100%|██████████| 50/50 [00:00<00:00, 290.48it/s, grad=1.589e+15, loss=9.607e+14]\n"
     ]
    },
    {
     "name": "stdout",
     "output_type": "stream",
     "text": [
      "  |Grad| = 2.913e+15\n",
      "  Loss = 9.635e+14\n",
      "Epoch 6/20 "
     ]
    },
    {
     "name": "stderr",
     "output_type": "stream",
     "text": [
      "100%|██████████| 50/50 [00:00<00:00, 286.21it/s, grad=1.134e+15, loss=2.760e+14]\n"
     ]
    },
    {
     "name": "stdout",
     "output_type": "stream",
     "text": [
      "  |Grad| = 1.505e+15\n",
      "  Loss = 2.752e+14\n",
      "Epoch 7/20 "
     ]
    },
    {
     "name": "stderr",
     "output_type": "stream",
     "text": [
      "100%|██████████| 50/50 [00:00<00:00, 284.25it/s, grad=1.085e+15, loss=9.383e+13]\n"
     ]
    },
    {
     "name": "stdout",
     "output_type": "stream",
     "text": [
      "  |Grad| = 8.290e+14\n",
      "  Loss = 8.185e+13\n",
      "Epoch 8/20 "
     ]
    },
    {
     "name": "stderr",
     "output_type": "stream",
     "text": [
      "100%|██████████| 50/50 [00:00<00:00, 303.05it/s, grad=3.091e+14, loss=2.250e+13]\n"
     ]
    },
    {
     "name": "stdout",
     "output_type": "stream",
     "text": [
      "  |Grad| = 4.439e+14\n",
      "  Loss = 2.468e+13\n",
      "Epoch 9/20 "
     ]
    },
    {
     "name": "stderr",
     "output_type": "stream",
     "text": [
      "100%|██████████| 50/50 [00:00<00:00, 319.62it/s, grad=2.068e+14, loss=7.909e+12]\n"
     ]
    },
    {
     "name": "stdout",
     "output_type": "stream",
     "text": [
      "  |Grad| = 2.526e+14\n",
      "  Loss = 7.818e+12\n",
      "Epoch 10/20 "
     ]
    },
    {
     "name": "stderr",
     "output_type": "stream",
     "text": [
      "100%|██████████| 50/50 [00:00<00:00, 306.53it/s, grad=1.700e+14, loss=2.479e+12]\n"
     ]
    },
    {
     "name": "stdout",
     "output_type": "stream",
     "text": [
      "  |Grad| = 1.393e+14\n",
      "  Loss = 2.419e+12\n",
      "Epoch 11/20 "
     ]
    },
    {
     "name": "stderr",
     "output_type": "stream",
     "text": [
      "100%|██████████| 50/50 [00:00<00:00, 314.35it/s, grad=5.078e+13, loss=7.380e+11]\n"
     ]
    },
    {
     "name": "stdout",
     "output_type": "stream",
     "text": [
      "  |Grad| = 7.356e+13\n",
      "  Loss = 7.740e+11\n",
      "Epoch 12/20 "
     ]
    },
    {
     "name": "stderr",
     "output_type": "stream",
     "text": [
      "100%|██████████| 50/50 [00:00<00:00, 333.84it/s, grad=3.435e+13, loss=2.382e+11]\n"
     ]
    },
    {
     "name": "stdout",
     "output_type": "stream",
     "text": [
      "  |Grad| = 4.491e+13\n",
      "  Loss = 2.511e+11\n",
      "Epoch 13/20 "
     ]
    },
    {
     "name": "stderr",
     "output_type": "stream",
     "text": [
      "100%|██████████| 50/50 [00:00<00:00, 321.93it/s, grad=2.373e+13, loss=8.577e+10]\n"
     ]
    },
    {
     "name": "stdout",
     "output_type": "stream",
     "text": [
      "  |Grad| = 2.554e+13\n",
      "  Loss = 8.205e+10\n",
      "Epoch 14/20 "
     ]
    },
    {
     "name": "stderr",
     "output_type": "stream",
     "text": [
      "100%|██████████| 50/50 [00:00<00:00, 303.66it/s, grad=1.039e+13, loss=3.162e+10]\n"
     ]
    },
    {
     "name": "stdout",
     "output_type": "stream",
     "text": [
      "  |Grad| = 1.423e+13\n",
      "  Loss = 2.708e+10\n",
      "Epoch 15/20 "
     ]
    },
    {
     "name": "stderr",
     "output_type": "stream",
     "text": [
      "100%|██████████| 50/50 [00:00<00:00, 318.03it/s, grad=7.329e+12, loss=8.889e+09]\n"
     ]
    },
    {
     "name": "stdout",
     "output_type": "stream",
     "text": [
      "  |Grad| = 8.428e+12\n",
      "  Loss = 9.014e+09\n",
      "Epoch 16/20 "
     ]
    },
    {
     "name": "stderr",
     "output_type": "stream",
     "text": [
      "100%|██████████| 50/50 [00:00<00:00, 303.32it/s, grad=2.932e+12, loss=2.888e+09]\n"
     ]
    },
    {
     "name": "stdout",
     "output_type": "stream",
     "text": [
      "  |Grad| = 4.530e+12\n",
      "  Loss = 3.033e+09\n",
      "Epoch 17/20 "
     ]
    },
    {
     "name": "stderr",
     "output_type": "stream",
     "text": [
      "100%|██████████| 50/50 [00:00<00:00, 312.97it/s, grad=1.724e+12, loss=9.353e+08]\n"
     ]
    },
    {
     "name": "stdout",
     "output_type": "stream",
     "text": [
      "  |Grad| = 2.749e+12\n",
      "  Loss = 1.012e+09\n",
      "Epoch 18/20 "
     ]
    },
    {
     "name": "stderr",
     "output_type": "stream",
     "text": [
      "100%|██████████| 50/50 [00:00<00:00, 296.79it/s, grad=1.247e+12, loss=3.861e+08]\n"
     ]
    },
    {
     "name": "stdout",
     "output_type": "stream",
     "text": [
      "  |Grad| = 1.554e+12\n",
      "  Loss = 3.407e+08\n",
      "Epoch 19/20 "
     ]
    },
    {
     "name": "stderr",
     "output_type": "stream",
     "text": [
      "100%|██████████| 50/50 [00:00<00:00, 312.65it/s, grad=6.115e+11, loss=1.192e+08]\n"
     ]
    },
    {
     "name": "stdout",
     "output_type": "stream",
     "text": [
      "  |Grad| = 9.472e+11\n",
      "  Loss = 1.159e+08\n",
      "Epoch 20/20 "
     ]
    },
    {
     "name": "stderr",
     "output_type": "stream",
     "text": [
      "100%|██████████| 50/50 [00:00<00:00, 321.58it/s, grad=4.323e+11, loss=3.814e+07]\n"
     ]
    },
    {
     "name": "stdout",
     "output_type": "stream",
     "text": [
      "  |Grad| = 5.354e+11\n",
      "  Loss = 3.944e+07\n"
     ]
    }
   ],
   "source": [
    "N_epoch = 20\n",
    "eta = 1e-18\n",
    "                       \n",
    "key, subkey = random.split(key)\n",
    "x_sgd, loss_sgd, _ = sgd(gradFidx, Fidx, N, x0, eta, N_epoch, batch_size = 20, verbose = True, iter_display = 1)"
   ]
  },
  {
   "cell_type": "code",
   "execution_count": 110,
   "id": "f660f36d-a2f4-4aa0-9d1d-00ad1e2b9af5",
   "metadata": {},
   "outputs": [
    {
     "name": "stdout",
     "output_type": "stream",
     "text": [
      "Epoch 1/20 "
     ]
    },
    {
     "name": "stderr",
     "output_type": "stream",
     "text": [
      "100%|██████████| 50/50 [00:00<00:00, 312.38it/s, grad=2.429e+15, loss=6.788e+14]\n"
     ]
    },
    {
     "name": "stdout",
     "output_type": "stream",
     "text": [
      "  |Grad| = 2.511e+16\n",
      "  Loss = 6.538e+14\n",
      "Epoch 2/20 "
     ]
    },
    {
     "name": "stderr",
     "output_type": "stream",
     "text": [
      "100%|██████████| 50/50 [00:00<00:00, 309.05it/s, grad=1.068e+14, loss=1.315e+12]\n"
     ]
    },
    {
     "name": "stdout",
     "output_type": "stream",
     "text": [
      "  |Grad| = 6.422e+14\n",
      "  Loss = 1.284e+12\n",
      "Epoch 3/20 "
     ]
    },
    {
     "name": "stderr",
     "output_type": "stream",
     "text": [
      "100%|██████████| 50/50 [00:00<00:00, 334.71it/s, grad=5.464e+12, loss=3.085e+09]\n"
     ]
    },
    {
     "name": "stdout",
     "output_type": "stream",
     "text": [
      "  |Grad| = 2.660e+13\n",
      "  Loss = 4.006e+09\n",
      "Epoch 4/20 "
     ]
    },
    {
     "name": "stderr",
     "output_type": "stream",
     "text": [
      "100%|██████████| 50/50 [00:00<00:00, 297.41it/s, grad=3.856e+11, loss=1.183e+07]\n"
     ]
    },
    {
     "name": "stdout",
     "output_type": "stream",
     "text": [
      "  |Grad| = 1.582e+12\n",
      "  Loss = 1.341e+07\n",
      "Epoch 5/20 "
     ]
    },
    {
     "name": "stderr",
     "output_type": "stream",
     "text": [
      "100%|██████████| 50/50 [00:00<00:00, 304.37it/s, grad=1.662e+10, loss=3.315e+04]\n"
     ]
    },
    {
     "name": "stdout",
     "output_type": "stream",
     "text": [
      "  |Grad| = 8.748e+10\n",
      "  Loss = 3.612e+04\n",
      "Epoch 6/20 "
     ]
    },
    {
     "name": "stderr",
     "output_type": "stream",
     "text": [
      "100%|██████████| 50/50 [00:00<00:00, 299.06it/s, grad=6.916e+08, loss=1.612e+02]\n"
     ]
    },
    {
     "name": "stdout",
     "output_type": "stream",
     "text": [
      "  |Grad| = 5.378e+09\n",
      "  Loss = 1.988e+02\n",
      "Epoch 7/20 "
     ]
    },
    {
     "name": "stderr",
     "output_type": "stream",
     "text": [
      "100%|██████████| 50/50 [00:00<00:00, 308.29it/s, grad=1.315e+08, loss=5.012e+01]\n"
     ]
    },
    {
     "name": "stdout",
     "output_type": "stream",
     "text": [
      "  |Grad| = 3.419e+08\n",
      "  Loss = 5.033e+01\n",
      "Epoch 8/20 "
     ]
    },
    {
     "name": "stderr",
     "output_type": "stream",
     "text": [
      "100%|██████████| 50/50 [00:00<00:00, 323.65it/s, grad=7.235e+07, loss=4.889e+01]\n"
     ]
    },
    {
     "name": "stdout",
     "output_type": "stream",
     "text": [
      "  |Grad| = 9.403e+07\n",
      "  Loss = 4.982e+01\n",
      "Epoch 9/20 "
     ]
    },
    {
     "name": "stderr",
     "output_type": "stream",
     "text": [
      "100%|██████████| 50/50 [00:00<00:00, 316.03it/s, grad=7.965e+07, loss=5.090e+01]\n"
     ]
    },
    {
     "name": "stdout",
     "output_type": "stream",
     "text": [
      "  |Grad| = 8.931e+07\n",
      "  Loss = 4.989e+01\n",
      "Epoch 10/20 "
     ]
    },
    {
     "name": "stderr",
     "output_type": "stream",
     "text": [
      "100%|██████████| 50/50 [00:00<00:00, 299.51it/s, grad=1.214e+08, loss=5.120e+01]"
     ]
    },
    {
     "name": "stdout",
     "output_type": "stream",
     "text": [
      "  |Grad| = 8.714e+07\n",
      "  Loss = 5.004e+01\n",
      "Epoch 11/20 "
     ]
    },
    {
     "name": "stderr",
     "output_type": "stream",
     "text": [
      "\n",
      "100%|██████████| 50/50 [00:00<00:00, 326.16it/s, grad=6.120e+07, loss=5.033e+01]\n"
     ]
    },
    {
     "name": "stdout",
     "output_type": "stream",
     "text": [
      "  |Grad| = 8.227e+07\n",
      "  Loss = 4.981e+01\n",
      "Epoch 12/20 "
     ]
    },
    {
     "name": "stderr",
     "output_type": "stream",
     "text": [
      "100%|██████████| 50/50 [00:00<00:00, 329.41it/s, grad=8.100e+07, loss=5.025e+01]\n"
     ]
    },
    {
     "name": "stdout",
     "output_type": "stream",
     "text": [
      "  |Grad| = 8.421e+07\n",
      "  Loss = 4.982e+01\n",
      "Epoch 13/20 "
     ]
    },
    {
     "name": "stderr",
     "output_type": "stream",
     "text": [
      "100%|██████████| 50/50 [00:00<00:00, 319.22it/s, grad=7.265e+07, loss=4.870e+01]\n"
     ]
    },
    {
     "name": "stdout",
     "output_type": "stream",
     "text": [
      "  |Grad| = 8.240e+07\n",
      "  Loss = 4.984e+01\n",
      "Epoch 14/20 "
     ]
    },
    {
     "name": "stderr",
     "output_type": "stream",
     "text": [
      "100%|██████████| 50/50 [00:00<00:00, 306.44it/s, grad=8.722e+07, loss=4.987e+01]\n"
     ]
    },
    {
     "name": "stdout",
     "output_type": "stream",
     "text": [
      "  |Grad| = 8.988e+07\n",
      "  Loss = 4.982e+01\n",
      "Epoch 15/20 "
     ]
    },
    {
     "name": "stderr",
     "output_type": "stream",
     "text": [
      "100%|██████████| 50/50 [00:00<00:00, 328.04it/s, grad=9.302e+07, loss=4.870e+01]\n"
     ]
    },
    {
     "name": "stdout",
     "output_type": "stream",
     "text": [
      "  |Grad| = 8.306e+07\n",
      "  Loss = 4.987e+01\n",
      "Epoch 16/20 "
     ]
    },
    {
     "name": "stderr",
     "output_type": "stream",
     "text": [
      "100%|██████████| 50/50 [00:00<00:00, 319.06it/s, grad=5.766e+07, loss=5.227e+01]\n"
     ]
    },
    {
     "name": "stdout",
     "output_type": "stream",
     "text": [
      "  |Grad| = 8.803e+07\n",
      "  Loss = 4.980e+01\n",
      "Epoch 17/20 "
     ]
    },
    {
     "name": "stderr",
     "output_type": "stream",
     "text": [
      "100%|██████████| 50/50 [00:00<00:00, 301.55it/s, grad=5.724e+07, loss=4.898e+01]\n"
     ]
    },
    {
     "name": "stdout",
     "output_type": "stream",
     "text": [
      "  |Grad| = 8.555e+07\n",
      "  Loss = 4.981e+01\n",
      "Epoch 18/20 "
     ]
    },
    {
     "name": "stderr",
     "output_type": "stream",
     "text": [
      "100%|██████████| 50/50 [00:00<00:00, 328.26it/s, grad=7.002e+07, loss=4.826e+01]\n"
     ]
    },
    {
     "name": "stdout",
     "output_type": "stream",
     "text": [
      "  |Grad| = 8.566e+07\n",
      "  Loss = 4.988e+01\n",
      "Epoch 19/20 "
     ]
    },
    {
     "name": "stderr",
     "output_type": "stream",
     "text": [
      "100%|██████████| 50/50 [00:00<00:00, 299.48it/s, grad=7.466e+07, loss=4.977e+01]\n"
     ]
    },
    {
     "name": "stdout",
     "output_type": "stream",
     "text": [
      "  |Grad| = 8.283e+07\n",
      "  Loss = 4.982e+01\n",
      "Epoch 20/20 "
     ]
    },
    {
     "name": "stderr",
     "output_type": "stream",
     "text": [
      "100%|██████████| 50/50 [00:00<00:00, 352.10it/s, grad=1.091e+08, loss=4.976e+01]\n"
     ]
    },
    {
     "name": "stdout",
     "output_type": "stream",
     "text": [
      "  |Grad| = 8.015e+07\n",
      "  Loss = 4.982e+01\n"
     ]
    }
   ],
   "source": [
    "N_epoch = 20\n",
    "beta2 = 0.99\n",
    "eta = 1e-1\n",
    "                       \n",
    "key, subkey = random.split(key)\n",
    "x_sgdp, loss_sgdp, _ = sgd(gradFidx, Fidx, N, x0, eta, N_epoch, batch_size = 20, P = 1/D0, verbose = True, iter_display = 1)"
   ]
  },
  {
   "cell_type": "code",
   "execution_count": 111,
   "id": "12fe04dd-5169-408e-afa5-2313903faf06",
   "metadata": {},
   "outputs": [
    {
     "data": {
      "image/png": "[encoded data removed]",
      "text/plain": [
       "<Figure size 864x432 with 2 Axes>"
      ]
     },
     "metadata": {
      "needs_background": "light"
     },
     "output_type": "display_data"
    }
   ],
   "source": [
    "plt.rcParams[\"figure.figsize\"]=12, 6\n",
    "\n",
    "plt.subplot(1,2,1)\n",
    "plt.semilogy(loss_sgd)\n",
    "plt.semilogy(loss_sgdp)\n",
    "plt.semilogy(loss_o)\n",
    "plt.semilogy(loss_os)\n",
    "plt.semilogy(loss_oa)\n",
    "plt.semilogy(loss_osa)\n",
    "plt.legend([\"SGD\", \"SGD precon\", \"OASIS fixed rate, deterministic\", \"OASIS fixed_rate, stochastic\", \"OASIS adaptive, deterministic\", \"OASIS adaptive, stochastic\"])\n",
    "#plt.legend([\"SGD\", \"OASIS fixed_rate, stochastic\", \"OASIS adaptive, stochastic\"])\n",
    "plt.title(\"Loss\")\n",
    "\n",
    "plt.subplot(1,2,2)\n",
    "plt.semilogy(jnp.abs(x_sgd-x_gt))\n",
    "plt.semilogy(jnp.abs(x_sgdp-x_gt))\n",
    "#plt.semilogy(jnp.abs(x_o-x_gt))\n",
    "plt.semilogy(jnp.abs(x_os-x_gt))\n",
    "#plt.semilogy(jnp.abs(x_oa-x_gt))\n",
    "plt.semilogy(jnp.abs(x_osa-x_gt))\n",
    "#plt.legend([\"SGD\", \"OASIS fixed rate, deterministic\", \"OASIS fixed_rate, stochastic\", \"OASIS adaptive, deterministic\", \"OASIS adaptive, stochastic\"])\n",
    "plt.legend([\"SGD\", \"SGD+p\", \"OASIS fixed_rate, stochastic\", \"OASIS adaptive, stochastic\"])\n",
    "plt.title(\"Error\")\n",
    "\n",
    "plt.rcParams[\"figure.figsize\"]=6,6"
   ]
  },
  {
   "cell_type": "code",
   "execution_count": 112,
   "id": "f582302d-8b70-46f2-8bda-9f2bc54a8595",
   "metadata": {},
   "outputs": [
    {
     "data": {
      "text/plain": [
       "<matplotlib.legend.Legend at 0x2abf4128d0c0>"
      ]
     },
     "execution_count": 112,
     "metadata": {},
     "output_type": "execute_result"
    },
    {
     "data": {
      "image/png": "[encoded data removed]",
      "text/plain": [
       "<Figure size 432x432 with 1 Axes>"
      ]
     },
     "metadata": {
      "needs_background": "light"
     },
     "output_type": "display_data"
    }
   ],
   "source": [
    "plt.semilogy(loss_sgdp)\n",
    "plt.semilogy(loss_os)\n",
    "plt.legend([\"Loss SGD+precon\", \"Loss OASIS stochastic\"])"
   ]
  },
  {
   "cell_type": "code",
   "execution_count": 113,
   "id": "a85c4e01-ad20-4be0-a5c0-7c024b385a19",
   "metadata": {},
   "outputs": [
    {
     "name": "stdout",
     "output_type": "stream",
     "text": [
      "49.76565318421393\n",
      "39443928.180767894\n",
      "49.819126909571935\n",
      "4.621496633453002e+16\n",
      "49.86056493743132\n",
      "2915684467424945.0\n",
      "49.80180892207274\n"
     ]
    }
   ],
   "source": [
    "print(Fidx(x_gt, jnp.arange(N)))\n",
    "print(Fidx(x_sgd, jnp.arange(N)))\n",
    "print(Fidx(x_sgdp, jnp.arange(N)))\n",
    "print(Fidx(x_o, jnp.arange(N)))\n",
    "print(Fidx(x_os, jnp.arange(N)))\n",
    "print(Fidx(x_oa, jnp.arange(N)))\n",
    "print(Fidx(x_osa, jnp.arange(N)))\n"
   ]
  },
  {
   "cell_type": "markdown",
   "id": "db4fd16c-014f-4de5-a06e-1669a7b81280",
   "metadata": {},
   "source": [
    "Next:\n",
    "\n",
    "* ~~Run the new OASIS algorithms on the old (deterministic one operator) toy problem~~\n",
    "* ~~Implement the adaptive version of the stochastic OASIS~~\n",
    "* ~~Add noise and rerun all the experiments~~\n",
    "* In the stochastic toy problem case, also compare with CG (make the problem small enough so that we can do CG)\n",
    "* ~~Implement some kind of warm up /estimation of $D_0$~~\n",
    "* ~~Run on CryoEM data~~"
   ]
  }
 ],
 "metadata": {
  "kernelspec": {
   "display_name": "Python 3 (ipykernel)",
   "language": "python",
   "name": "python3"
  },
  "language_info": {
   "codemirror_mode": {
    "name": "ipython",
    "version": 3
   },
   "file_extension": ".py",
   "mimetype": "text/x-python",
   "name": "python",
   "nbconvert_exporter": "python",
   "pygments_lexer": "ipython3",
   "version": "3.10.2"
  }
 },
 "nbformat": 4,
 "nbformat_minor": 5
}
