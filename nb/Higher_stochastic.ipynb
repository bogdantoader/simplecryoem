{
 "cells": [
  {
   "cell_type": "markdown",
   "id": "9adcce94-7192-441e-9683-bbb65e31c27a",
   "metadata": {},
   "source": [
    "# Second order stochastic methods for CryoEM"
   ]
  },
  {
   "cell_type": "code",
   "execution_count": 1,
   "id": "2abbe3cc-d606-42cb-8a87-88b079f4abc8",
   "metadata": {},
   "outputs": [],
   "source": [
    "%load_ext autoreload\n",
    "%autoreload 2\n",
    "import site\n",
    "import sys\n",
    "import time\n",
    "import pickle\n",
    "site.addsitedir('..')\n",
    "from jax.config import config\n",
    "\n",
    "config.update(\"jax_enable_x64\", True)"
   ]
  },
  {
   "cell_type": "code",
   "execution_count": 2,
   "id": "70edf6b0-fad6-4d1e-82ac-54d478732b02",
   "metadata": {},
   "outputs": [],
   "source": [
    "import jax\n",
    "import mrcfile\n",
    "from jax.scipy.special import gammaln\n",
    "from jax import random\n",
    "\n",
    "import numpy as np\n",
    "import jax.numpy as jnp\n",
    "from  matplotlib import pyplot as plt\n",
    "from src.utils import *\n",
    "from src.projection import *\n",
    "from src.interpolate import *\n",
    "from src.jaxops import *\n",
    "from src.algorithm import sgd, get_sgd_vol_ops\n",
    "from src.algorithm import conjugate_gradient as cg\n",
    "from src.algorithm import oasis, oasis_adaptive\n",
    "from src.datasets import *\n",
    "from src.noise import estimate_noise, average_radially, estimate_noise_radial\n",
    "from src.preprocess import *\n",
    "from src.fsc import calc_fsc\n",
    "\n",
    "plt.rcParams[\"figure.figsize\"]=6,6"
   ]
  },
  {
   "cell_type": "code",
   "execution_count": null,
   "id": "6568c2d1-797d-41f5-8922-979ce9151f8a",
   "metadata": {},
   "outputs": [],
   "source": [
    "data_dir = \"/gpfs/gibbs/pi/lederman/dge5/CrossValidationCryodrgnSet/\"\n",
    "star_file = \"particles_crossvalidation_train_1.star\"\n",
    "\n",
    "params0, imgs0 = load_data(data_dir, star_file, load_imgs = True, fourier = False)"
   ]
  },
  {
   "cell_type": "code",
   "execution_count": null,
   "id": "83b0531f-868d-424a-bd2b-363dd66b597c",
   "metadata": {},
   "outputs": [],
   "source": [
    "out_dir = out_dir = '../data/out_dev/'"
   ]
  },
  {
   "cell_type": "code",
   "execution_count": null,
   "id": "a109c7d5-532c-41ec-9cf4-40423c457931",
   "metadata": {},
   "outputs": [],
   "source": [
    "nx0 = imgs0.shape[1]\n",
    "nx_crop = 128\n",
    "N = 80000\n",
    "N_px_noise = 48\n",
    "N_imgs_noise=1000\n",
    "\n",
    "processed_data = preprocess(imgs0, params0, out_dir, nx_crop = nx_crop, N = N, N_px_noise = N_px_noise, N_imgs_noise = N_imgs_noise)\n",
    "\n",
    "imgs_f = processed_data[\"imgs_f\"]\n",
    "pixel_size = processed_data[\"pixel_size\"]\n",
    "angles = processed_data[\"angles\"]\n",
    "shifts = processed_data[\"shifts\"]\n",
    "ctf_params = processed_data[\"ctf_params\"]\n",
    "idxrand = processed_data[\"idxrand\"]\n",
    "nx = processed_data[\"nx\"]\n",
    "x_grid = processed_data[\"x_grid\"]\n",
    "mask = processed_data[\"mask\"]\n",
    "sigma_noise = processed_data[\"sigma_noise\"]\n",
    "N = imgs_f.shape[0]"
   ]
  },
  {
   "cell_type": "code",
   "execution_count": null,
   "id": "8f712166-e8f4-4f94-8523-b5adf8addb30",
   "metadata": {},
   "outputs": [],
   "source": [
    "plt.imshow(jnp.fft.fftshift(jnp.abs(imgs_f[2135].reshape([128,128]))));plt.colorbar()"
   ]
  },
  {
   "cell_type": "code",
   "execution_count": null,
   "id": "2c7d5aa0-4f24-49b1-b4ec-a343c065dabe",
   "metadata": {},
   "outputs": [],
   "source": [
    "del(imgs0)"
   ]
  },
  {
   "cell_type": "markdown",
   "id": "3cdc7bca-a144-4276-9f46-8707eadf2acd",
   "metadata": {},
   "source": [
    "### Only volume reconstruction for now - SGD"
   ]
  },
  {
   "cell_type": "markdown",
   "id": "6107db83-89cb-49b7-9ed4-38c589bc594b",
   "metadata": {},
   "source": [
    "Obervations:\n",
    "\n",
    "* The loss and grad don't tell us anything about convergence. The loss is about the same after only 100 iterations and after 10 epochs (of 781 iters each), and yet the result is different"
   ]
  },
  {
   "cell_type": "code",
   "execution_count": null,
   "id": "25674ba2-f439-42aa-84b6-9337cd115c3a",
   "metadata": {},
   "outputs": [],
   "source": [
    "# Apply mask to images\n",
    "mask2d = mask[0].reshape(-1)\n",
    "imgs_f = imgs_f * mask2d"
   ]
  },
  {
   "cell_type": "code",
   "execution_count": null,
   "id": "c50ca3a5-41d6-4728-a278-115e291b0f8e",
   "metadata": {},
   "outputs": [],
   "source": [
    "key = random.PRNGKey(int(jnp.floor(np.random.rand()*1000)))"
   ]
  },
  {
   "cell_type": "code",
   "execution_count": null,
   "id": "7814ad4e-ec4a-497d-8b87-f6610582fb55",
   "metadata": {},
   "outputs": [],
   "source": [
    "alpha = 1e-9\n",
    "\n",
    "slice_obj = Slice(x_grid)\n",
    "loss_obj = Loss(slice_obj, alpha = alpha)\n",
    "gradv_obj = GradV(loss_obj)"
   ]
  },
  {
   "cell_type": "code",
   "execution_count": null,
   "id": "8012f3a5-5494-49dd-8378-441f7b196a07",
   "metadata": {},
   "outputs": [],
   "source": [
    "N_epochs = 20\n",
    "batch_size = 32\n",
    "step_size = 1000000 # 1e-3\n",
    "\n",
    "idxrand = np.random.permutation(N)\n",
    "idx1 = idxrand[:int(N/2)]\n",
    "idx2 = idxrand[int(N/2):]\n",
    "             \n",
    "grad_func1, loss_func1 = get_sgd_vol_ops(gradv_obj, loss_obj, angles[idx1], shifts[idx1], ctf_params[idx1], imgs_f[idx1], sigma_noise)\n",
    "grad_func2, loss_func2 = get_sgd_vol_ops(gradv_obj, loss_obj, angles[idx2], shifts[idx2], ctf_params[idx2], imgs_f[idx2], sigma_noise)\n",
    "\n",
    "key, subkey = random.split(key)\n",
    "x0 = random.normal(subkey, [nx,nx,nx], dtype=jnp.complex128)"
   ]
  },
  {
   "cell_type": "code",
   "execution_count": null,
   "id": "c6070e22-f729-431f-966d-bec1fe905820",
   "metadata": {},
   "outputs": [],
   "source": [
    "v_rec1, loss_rec1, grad_rec1 = sgd(grad_func1, loss_func1, int(N/2), x0, step_size, N_epochs, batch_size, verbose=True, iter_display=1)\n"
   ]
  },
  {
   "cell_type": "code",
   "execution_count": null,
   "id": "1e4d84d3-781c-4608-aa5b-e72766c79fc5",
   "metadata": {},
   "outputs": [],
   "source": [
    "v_rec2, loss_rec2, grad_rec2 = sgd(grad_func2, loss_func2, int(N/2), x0, step_size, N_epochs, batch_size, verbose=True, iter_display=1)\n"
   ]
  },
  {
   "cell_type": "code",
   "execution_count": null,
   "id": "ce5d41c3-633e-46f8-bc68-fedffd243a15",
   "metadata": {},
   "outputs": [],
   "source": [
    "plt.rcParams[\"figure.figsize\"]=12, 12\n",
    "\n",
    "plt.subplot(1,2,1)\n",
    "mip_z(np.fft.fftshift(np.abs(v_rec1))); #plt.colorbar()\n",
    "\n",
    "plt.subplot(1,2,2)\n",
    "mip_z(np.fft.fftshift(np.abs(v_rec2))); #plt.colorbar()"
   ]
  },
  {
   "cell_type": "code",
   "execution_count": null,
   "id": "d0d7877c-3a1a-424e-bc9d-0f23b9101cbc",
   "metadata": {},
   "outputs": [],
   "source": [
    "v_rec_l1, _ = rescale_larger_grid(v_rec1, x_grid, nx0)\n",
    "vr_sgd1 = jnp.real(jnp.fft.fftshift(jnp.fft.ifftn(v_rec_l1)))\n",
    "\n",
    "v_rec_l2, _ = rescale_larger_grid(v_rec2, x_grid, nx0)\n",
    "vr_sgd2 = jnp.real(jnp.fft.fftshift(jnp.fft.ifftn(v_rec_l2)))\n",
    "\n",
    "plt.subplot(1,2,1)\n",
    "mip_z(vr_sgd1)\n",
    "#plt.colorbar()\n",
    "\n",
    "plt.subplot(1,2,2)\n",
    "mip_z(vr_sgd2)\n",
    "#plt.colorbar()\n",
    "\n",
    "plt.rcParams[\"figure.figsize\"]=6, 6\n"
   ]
  },
  {
   "cell_type": "code",
   "execution_count": null,
   "id": "b799a8fe-ff5c-4821-b2a3-805e002cb15a",
   "metadata": {},
   "outputs": [],
   "source": [
    "with mrcfile.new(f\"{out_dir}/v_rec_sgd1.mrc\", overwrite=True) as mrc:\n",
    "    mrc.set_data(vr_sgd1.astype(np.float32))\n",
    "    \n",
    "with mrcfile.new(f\"{out_dir}/v_rec_sgd2.mrc\", overwrite=True) as mrc:\n",
    "    mrc.set_data(vr_sgd2.astype(np.float32))   "
   ]
  },
  {
   "cell_type": "markdown",
   "id": "bb22dbfa-b02b-47cb-8e40-a26cafe8ee99",
   "metadata": {},
   "source": [
    "#### FSC"
   ]
  },
  {
   "cell_type": "code",
   "execution_count": null,
   "id": "7257b4d3-bf8b-4a12-8379-9c9a26b38418",
   "metadata": {},
   "outputs": [],
   "source": [
    "print(v_rec1.shape)\n",
    "print(v_rec2.shape)\n",
    "print(x_grid)"
   ]
  },
  {
   "cell_type": "code",
   "execution_count": null,
   "id": "22f9a5d1-a4e8-41a8-8a57-297bc17d1a69",
   "metadata": {},
   "outputs": [],
   "source": [
    "res, fsc, shell_points = calc_fsc(v_rec1, v_rec2, [1, 128])"
   ]
  },
  {
   "cell_type": "code",
   "execution_count": null,
   "id": "92c4da2d-52bd-4d96-9bec-92a913620d14",
   "metadata": {},
   "outputs": [],
   "source": [
    "plt.plot(res, fsc)"
   ]
  },
  {
   "cell_type": "code",
   "execution_count": null,
   "id": "3c845e19-b9d0-46af-a140-1c628c6ca926",
   "metadata": {},
   "outputs": [],
   "source": [
    "res_angs = nx0 * pixel_size[0]/res\n",
    "plt.semilogx(res_angs, fsc)"
   ]
  },
  {
   "cell_type": "code",
   "execution_count": null,
   "id": "059ab0f9-dfb6-4a1d-8bb4-95c537f8e410",
   "metadata": {},
   "outputs": [],
   "source": [
    "fsc"
   ]
  },
  {
   "cell_type": "code",
   "execution_count": null,
   "id": "a072d7e6-d4f8-43ed-b9e1-8b165bd94a5c",
   "metadata": {},
   "outputs": [],
   "source": [
    "fsc[10]"
   ]
  },
  {
   "cell_type": "code",
   "execution_count": null,
   "id": "f046f6a7-4871-4703-b53f-e451f5c987ef",
   "metadata": {},
   "outputs": [],
   "source": [
    "fsc[11]"
   ]
  },
  {
   "cell_type": "code",
   "execution_count": null,
   "id": "ec583f5e-f612-4a06-bab5-6bb5de5e511e",
   "metadata": {},
   "outputs": [],
   "source": [
    "res_angs[10]"
   ]
  },
  {
   "cell_type": "code",
   "execution_count": null,
   "id": "302e4a15-aa86-47c2-9889-7c492945e90d",
   "metadata": {},
   "outputs": [],
   "source": [
    "res_angs[11]"
   ]
  },
  {
   "cell_type": "markdown",
   "id": "ba2552dc-80df-45bd-907a-ea21d18c9a29",
   "metadata": {},
   "source": [
    "### Newton's method vs GD vs CG"
   ]
  },
  {
   "cell_type": "markdown",
   "id": "1141d019-8758-4b11-bc45-de356c8289a7",
   "metadata": {},
   "source": [
    "#### GD - a pain to tune "
   ]
  },
  {
   "cell_type": "code",
   "execution_count": 57,
   "id": "32799d6f-c4a7-4aae-957e-ab21c9d2a725",
   "metadata": {},
   "outputs": [
    {
     "ename": "NameError",
     "evalue": "name 'gradv_obj' is not defined",
     "output_type": "error",
     "traceback": [
      "\u001b[0;31m---------------------------------------------------------------------------\u001b[0m",
      "\u001b[0;31mNameError\u001b[0m                                 Traceback (most recent call last)",
      "Input \u001b[0;32mIn [57]\u001b[0m, in \u001b[0;36m<module>\u001b[0;34m\u001b[0m\n\u001b[1;32m      5\u001b[0m step_size \u001b[38;5;241m=\u001b[39m \u001b[38;5;241m10000\u001b[39m \u001b[38;5;66;03m# 1e-3\u001b[39;00m\n\u001b[1;32m      7\u001b[0m idx \u001b[38;5;241m=\u001b[39m np\u001b[38;5;241m.\u001b[39marange(Ngd)\n\u001b[0;32m----> 9\u001b[0m grad_func, loss_func \u001b[38;5;241m=\u001b[39m get_sgd_vol_ops(\u001b[43mgradv_obj\u001b[49m, loss_obj, angles[idx], shifts[idx], ctf_params[idx], imgs_f[idx], sigma_noise)\n\u001b[1;32m     11\u001b[0m key, subkey \u001b[38;5;241m=\u001b[39m random\u001b[38;5;241m.\u001b[39msplit(key)\n\u001b[1;32m     12\u001b[0m x0 \u001b[38;5;241m=\u001b[39m random\u001b[38;5;241m.\u001b[39mnormal(subkey, [nx,nx,nx], dtype\u001b[38;5;241m=\u001b[39mjnp\u001b[38;5;241m.\u001b[39mcomplex128)\n",
      "\u001b[0;31mNameError\u001b[0m: name 'gradv_obj' is not defined"
     ]
    }
   ],
   "source": [
    "Ngd = 1000\n",
    "\n",
    "N_epochs = 200\n",
    "batch_size = Ngd\n",
    "step_size = 10000 # 1e-3\n",
    "\n",
    "idx = np.arange(Ngd)\n",
    "\n",
    "grad_func, loss_func = get_sgd_vol_ops(gradv_obj, loss_obj, angles[idx], shifts[idx], ctf_params[idx], imgs_f[idx], sigma_noise)\n",
    "\n",
    "key, subkey = random.split(key)\n",
    "x0 = random.normal(subkey, [nx,nx,nx], dtype=jnp.complex128)"
   ]
  },
  {
   "cell_type": "code",
   "execution_count": null,
   "id": "1c3e61c9-5c12-4676-8a32-067d473aeaf2",
   "metadata": {},
   "outputs": [],
   "source": [
    "v_rec_gd, loss_rec_gd, grad_rec_gd = sgd(grad_func, loss_func1, Ngd, x0, step_size, N_epochs, batch_size, verbose=True, iter_display=10)\n"
   ]
  },
  {
   "cell_type": "code",
   "execution_count": null,
   "id": "c703e070-5fc4-48de-9a8d-84126c679de5",
   "metadata": {},
   "outputs": [],
   "source": [
    "plt.plot(loss_rec_gd)"
   ]
  },
  {
   "cell_type": "markdown",
   "id": "6f4e8acf-da8b-4931-a80f-2a2a1dc3694f",
   "metadata": {},
   "source": [
    "### OASIS"
   ]
  },
  {
   "cell_type": "markdown",
   "id": "b33042af-f43f-4111-a61c-4748826bb4a1",
   "metadata": {},
   "source": [
    "#### Hutchinson's method"
   ]
  },
  {
   "cell_type": "markdown",
   "id": "1d64e3e8-d051-49f6-b612-3ae4408e2681",
   "metadata": {},
   "source": [
    "The diagonal of a symmetric matrix can be approximated as follows:\n",
    "\n",
    "$\n",
    "\\text{diag}(A) = \\mathbb{E}[z * Az ],\n",
    "$\n",
    "\n",
    "where $z$ is a random vector with Rademacher or Gaussian distribution and $*$ represents element-wise multiplication.\n",
    "\n",
    "Here we're reproducing Figure 1 in the OASIS paper."
   ]
  },
  {
   "cell_type": "code",
   "execution_count": 58,
   "id": "0b5f24cb-e3bb-478e-8aba-588f3880ebaa",
   "metadata": {},
   "outputs": [],
   "source": [
    "n = 100\n",
    "\n",
    "key = random.PRNGKey(int(jnp.floor(np.random.rand()*1000)))"
   ]
  },
  {
   "cell_type": "code",
   "execution_count": 59,
   "id": "321d8933-93a7-4ab3-aa9a-5fd5d6a717f8",
   "metadata": {},
   "outputs": [
    {
     "data": {
      "text/plain": [
       "<matplotlib.colorbar.Colorbar at 0x2adb8befa920>"
      ]
     },
     "execution_count": 59,
     "metadata": {},
     "output_type": "execute_result"
    },
    {
     "data": {
      "image/png": "[encoded data removed]",
      "text/plain": [
       "<Figure size 432x432 with 2 Axes>"
      ]
     },
     "metadata": {
      "needs_background": "light"
     },
     "output_type": "display_data"
    }
   ],
   "source": [
    "key, subkey = random.split(key)\n",
    "\n",
    "A = random.normal(subkey, (n,n))\n",
    "A = A.T + A\n",
    "\n",
    "plt.imshow(A); plt.colorbar()"
   ]
  },
  {
   "cell_type": "code",
   "execution_count": 60,
   "id": "68e6e03d-a88f-4121-b28f-9a96fd573ea4",
   "metadata": {},
   "outputs": [],
   "source": [
    "iters = 10000\n",
    "\n",
    "key, subkey = random.split(key)\n",
    "z = random.rademacher(subkey, (iters, n))\n",
    "\n",
    "#z * A @ z "
   ]
  },
  {
   "cell_type": "code",
   "execution_count": 61,
   "id": "436158da-1e91-45ce-834e-8e918fd6f3c0",
   "metadata": {},
   "outputs": [],
   "source": [
    "zAz = jax.vmap(lambda zi : zi * (A @ zi))(z)\n",
    "#plt.imshow(zAz)"
   ]
  },
  {
   "cell_type": "code",
   "execution_count": 62,
   "id": "cae0c37c-9ffa-4c6c-af4a-a0c58c3f3823",
   "metadata": {},
   "outputs": [],
   "source": [
    "d = np.zeros((iters, n))\n",
    "d[0] = zAz[0]\n",
    "for i in range(1, iters):\n",
    "    d[i] = d[i-1] + zAz[i]\n",
    "    \n",
    "for i in range(1, iters):\n",
    "    d[i] = d[i]/(i+1)"
   ]
  },
  {
   "cell_type": "code",
   "execution_count": 63,
   "id": "c8e1da64-4869-4139-8fa4-c6a290078927",
   "metadata": {},
   "outputs": [],
   "source": [
    "err = jnp.mean((d - jnp.diag(A))**2, axis=1)"
   ]
  },
  {
   "cell_type": "code",
   "execution_count": 64,
   "id": "c65d8665-b965-4c44-84e5-5957c6a527dc",
   "metadata": {},
   "outputs": [
    {
     "data": {
      "text/plain": [
       "[<matplotlib.lines.Line2D at 0x2adb8be5f580>]"
      ]
     },
     "execution_count": 64,
     "metadata": {},
     "output_type": "execute_result"
    },
    {
     "data": {
      "image/png": "[encoded data removed]",
      "text/plain": [
       "<Figure size 432x432 with 1 Axes>"
      ]
     },
     "metadata": {
      "needs_background": "light"
     },
     "output_type": "display_data"
    }
   ],
   "source": [
    "plt.semilogy(err)"
   ]
  },
  {
   "cell_type": "markdown",
   "id": "8d9a6610-5cd6-45a3-ae7c-247a47da4ff1",
   "metadata": {},
   "source": [
    "#### Hessian-vector product in JaX"
   ]
  },
  {
   "cell_type": "code",
   "execution_count": 65,
   "id": "9a4d218b-4071-48db-88b1-a0f838b6b2a1",
   "metadata": {},
   "outputs": [],
   "source": [
    "key, *subkey = random.split(key, 4)\n",
    "x0 = random.normal(subkey[0], (n,))\n",
    "x = random.normal(subkey[1], (n,))\n",
    "v = random.normal(subkey[2], (n,))"
   ]
  },
  {
   "cell_type": "code",
   "execution_count": 66,
   "id": "31e002d4-dd70-42db-a9fc-b5be7426b11e",
   "metadata": {},
   "outputs": [],
   "source": [
    "b = A @ x0 \n",
    "f = lambda x : jnp.mean((A @ x - b)**2)"
   ]
  },
  {
   "cell_type": "code",
   "execution_count": 67,
   "id": "a9348932-6f2f-4160-a076-48f6a34f9b6c",
   "metadata": {},
   "outputs": [
    {
     "data": {
      "text/plain": [
       "DeviceArray(0., dtype=float64)"
      ]
     },
     "execution_count": 67,
     "metadata": {},
     "output_type": "execute_result"
    }
   ],
   "source": [
    "f(x0)"
   ]
  },
  {
   "cell_type": "code",
   "execution_count": 68,
   "id": "2b9c9028-1e56-4436-b811-8916ab65171f",
   "metadata": {},
   "outputs": [],
   "source": [
    "from jax import jvp, grad\n",
    "\n",
    "# Naive\n",
    "def hvp0(f, x, v):\n",
    "    return grad(lambda x : jnp.vdot(grad(f)(x), v))(x)\n",
    "\n",
    "# forward-over-reverse\n",
    "def hvp(f, x, v):\n",
    "    return jvp(jax.grad(f), x, v)[1]"
   ]
  },
  {
   "cell_type": "code",
   "execution_count": 69,
   "id": "29e5c85b-5d3c-4ac7-ac84-e7354b893043",
   "metadata": {},
   "outputs": [
    {
     "name": "stdout",
     "output_type": "stream",
     "text": [
      "0.5406475067138672\n",
      "0.410994291305542\n"
     ]
    },
    {
     "data": {
      "text/plain": [
       "DeviceArray(0., dtype=float64)"
      ]
     },
     "execution_count": 69,
     "metadata": {},
     "output_type": "execute_result"
    }
   ],
   "source": [
    "t0 = time.time()\n",
    "v1 = hvp0(f, x, v).block_until_ready()\n",
    "print(time.time()-t0)\n",
    "\n",
    "t0 = time.time()\n",
    "v2 = hvp(f, (x,), (v,)).block_until_ready()\n",
    "print(time.time()-t0)\n",
    "\n",
    "jnp.sum(jnp.abs(v1-v2))"
   ]
  },
  {
   "cell_type": "markdown",
   "id": "37b9b821-9bdc-4fda-88d0-6a29fc9d0e79",
   "metadata": {},
   "source": [
    "#### Toy problem"
   ]
  },
  {
   "cell_type": "code",
   "execution_count": 70,
   "id": "4904d533-80e6-423c-a774-092091bd9c92",
   "metadata": {},
   "outputs": [
    {
     "name": "stdout",
     "output_type": "stream",
     "text": [
      "Condition number =  3.33e+05\n"
     ]
    },
    {
     "data": {
      "image/png": "[encoded data removed]",
      "text/plain": [
       "<Figure size 432x432 with 1 Axes>"
      ]
     },
     "metadata": {
      "needs_background": "light"
     },
     "output_type": "display_data"
    }
   ],
   "source": [
    "key, *subkey = random.split(key, 4)\n",
    "\n",
    "x_gt = random.normal(subkey[0], (n,))\n",
    "\n",
    "A = np.random.normal(size = (n,n))\n",
    "A = A.T @ A\n",
    "_, v = jnp.linalg.eigh(A)\n",
    "d = jnp.flip(jnp.logspace(-5,1,n)) \n",
    "d = d + jnp.abs(jnp.min(d)*2)\n",
    "A = v.T @ jnp.diag(d) @ v\n",
    "\n",
    "evals, evecs = np.linalg.eig(A)\n",
    "evals = np.flip(np.sort(evals))\n",
    "\n",
    "\n",
    "assert(jnp.sum(evals < 0) == 0)\n",
    "#assert(jnp.max(jnp.abs(A.T - A)) == 0)\n",
    "#assert(jnp.sum(jnp.abs(A@A.T - A.T@ A)) == 0)\n",
    "\n",
    "\n",
    "plt.semilogy(evals, '.')\n",
    "plt.title(\"Eigenvalues\")\n",
    "print(f\"Condition number = {evals[0]/evals[n-1] : .2e}\")"
   ]
  },
  {
   "cell_type": "code",
   "execution_count": 71,
   "id": "401090de-ef3e-4e42-8ccb-66742693059c",
   "metadata": {},
   "outputs": [
    {
     "name": "stdout",
     "output_type": "stream",
     "text": [
      "f(x_gt + 1) = 1109.756444401368\n",
      "f(x_gt) = 114.06396219307904\n",
      "gradF(x_gt) = [ 8.02989738 12.42697663  1.3507396  -5.95825358  2.40510104 -5.24308245\n",
      " -5.18600986 11.47943622 -3.39076778 -7.96825895 -2.58878468 -9.45578955\n",
      "  5.69097812  5.20414337  4.13595372 -3.37971075 -2.1905374   5.3511184\n",
      " -9.34590165 -0.59185962 10.84388734  5.34625856  6.92061224 -3.04173597\n",
      " -5.83836935 -0.78862275  9.3041385   3.17481347  5.79494042 -3.85649957\n",
      "  1.1579754  -0.16458123 -1.08134849  5.5992931   3.59208543 -2.04986531\n",
      " -7.14233958 -2.08403917  3.06291572 -1.48488714  5.73535915 -0.12522221\n",
      " -8.63296069 -6.00451057 -0.29034754 18.06797569 11.43344784 -3.16508\n",
      " -7.91866067  2.57810127  1.25187988  6.0052895  -2.02591605  6.82880742\n",
      " -6.13230944 -5.27791552  5.28265019  8.07157425 -5.77235536 -8.62415961\n",
      " -3.39962565  2.92420009  2.37403168 -3.77011478 -0.50855178  6.70828212\n",
      "  7.15137048 13.11885955 -7.75961765  7.0798469   6.43547947 -6.52770851\n",
      " -6.14390755  0.80879995  9.27244169 -0.93906166  0.16424054 12.22719652\n",
      " -8.56569089  0.68284426  5.24262219  3.5813763   0.77705692 -2.18637926\n",
      "  4.46018729 -0.46051927 10.34320351  4.61919467  4.59808084  4.65129614\n",
      "  1.1417027  -7.73767546  0.14610529  2.22609748  6.75218672 -3.3541324\n",
      " 11.68818058  0.18930184  3.5797498  -8.83552046]\n",
      "hessianF(x_gt) = [[ 4.14058051  1.75039208  0.74270823 ...  1.13650383 -0.4617013\n",
      "  -1.1290325 ]\n",
      " [ 1.75039208 12.10007314  0.7158911  ...  0.88383693  0.27707652\n",
      "  -0.21944491]\n",
      " [ 0.74270823  0.7158911   3.33212149 ... -4.39359394  4.24348528\n",
      "   1.61703847]\n",
      " ...\n",
      " [ 1.13650383  0.88383693 -4.39359394 ... 12.2323129  -6.38943763\n",
      "  -3.34455025]\n",
      " [-0.4617013   0.27707652  4.24348528 ... -6.38943763 12.7597137\n",
      "  -1.08267193]\n",
      " [-1.1290325  -0.21944491  1.61703847 ... -3.34455025 -1.08267193\n",
      "   8.60508874]]\n"
     ]
    }
   ],
   "source": [
    "sig_noise = 1\n",
    "lam = 0.1\n",
    "\n",
    "b = A @ x_gt  + np.random.normal(size=(n,)) * sig_noise\n",
    "\n",
    "F = jax.jit(lambda x : jnp.sum((A @ x - b)**2) + lam * jnp.mean(x**2))\n",
    "print(f\"f(x_gt + 1) = {F(x_gt+1)}\")\n",
    "print(f\"f(x_gt) = {F(x_gt)}\")\n",
    "\n",
    "gradF = jax.jit(jax.grad(F))\n",
    "hessianF = jax.hessian(F)\n",
    "\n",
    "hvpF = jax.jit(lambda x, v : hvp(F, (x,), (v,)))\n",
    "\n",
    "print(f\"gradF(x_gt) = {gradF(x_gt)}\")\n",
    "print(f\"hessianF(x_gt) = {hessianF(x_gt)}\")\n"
   ]
  },
  {
   "cell_type": "code",
   "execution_count": 72,
   "id": "b94e1555-0cba-4e87-a8ae-fff9a418bbdd",
   "metadata": {},
   "outputs": [],
   "source": [
    "def gd(F, gradF, eta, w0, N_iter = 20, iter_display = 1):\n",
    "    loss = []\n",
    "    for k in range(1, N_iter+1):\n",
    "        w1 = w0 - eta * gradF(w0)\n",
    "        loss_i = F(w1)\n",
    "        loss.append(loss_i)\n",
    "        \n",
    "        w0 = w1\n",
    "        \n",
    "        if k % iter_display == 0:\n",
    "            print(f\"Iter {k}: loss = {loss_i}\")\n",
    "            \n",
    "    return w1, jnp.array(loss)\n",
    "\n",
    "def newton(F, gradF, hessianF, w0, N_iter = 20, iter_display = 1):\n",
    "    loss = []\n",
    "    for k in range(1, N_iter+1):\n",
    "        G = gradF(w0)\n",
    "        H = hessianF(w0)\n",
    "        \n",
    "        w1 = w0 - jnp.linalg.inv(H) @ G\n",
    "        loss_i = F(w1)\n",
    "        loss.append(loss_i)\n",
    "        \n",
    "        w0 = w1\n",
    "        \n",
    "        if k % iter_display == 0:\n",
    "            print(f\"Iter {k}: loss = {loss_i}\")\n",
    "            \n",
    "    return w1, jnp.array(loss)"
   ]
  },
  {
   "cell_type": "code",
   "execution_count": 73,
   "id": "ecb98c76-829b-4103-a042-f18004bac2e9",
   "metadata": {},
   "outputs": [
    {
     "name": "stdout",
     "output_type": "stream",
     "text": [
      "Iter 200: loss = 99.54599846120239\n",
      "Iter 400: loss = 94.31829008177199\n",
      "Iter 600: loss = 90.95030881933947\n",
      "Iter 800: loss = 88.33664103232346\n",
      "Iter 1000: loss = 86.21481472333979\n",
      "Iter 1200: loss = 84.45907020273512\n",
      "Iter 1400: loss = 82.98853070009763\n",
      "Iter 1600: loss = 81.74564910075576\n",
      "Iter 1800: loss = 80.68746715168986\n",
      "Iter 2000: loss = 79.78089413037378\n",
      "Iter 2200: loss = 78.9998472486105\n",
      "Iter 2400: loss = 78.32341145894524\n",
      "Iter 2600: loss = 77.73459947335115\n",
      "Iter 2800: loss = 77.21948200996856\n",
      "Iter 3000: loss = 76.76655574577019\n",
      "Iter 3200: loss = 76.3662698091288\n",
      "Iter 3400: loss = 76.01066193019142\n",
      "Iter 3600: loss = 75.69307305756566\n",
      "Iter 3800: loss = 75.4079198650297\n",
      "Iter 4000: loss = 75.1505111155256\n",
      "Iter 4200: loss = 74.916897997734\n",
      "Iter 4400: loss = 74.70375125807433\n",
      "Iter 4600: loss = 74.50825977252703\n",
      "Iter 4800: loss = 74.32804646604772\n",
      "Iter 5000: loss = 74.16109838990691\n",
      "Iter 5200: loss = 74.00570843017809\n",
      "Iter 5400: loss = 73.86042661970399\n",
      "Iter 5600: loss = 73.72401940983396\n",
      "Iter 5800: loss = 73.59543555898139\n",
      "Iter 6000: loss = 73.47377753412343\n",
      "Iter 6200: loss = 73.35827751365589\n",
      "Iter 6400: loss = 73.24827723611978\n",
      "Iter 6600: loss = 73.14321106696096\n",
      "Iter 6800: loss = 73.04259176044737\n",
      "Iter 7000: loss = 72.9459984805528\n",
      "Iter 7200: loss = 72.85306671644703\n",
      "Iter 7400: loss = 72.76347978791155\n",
      "Iter 7600: loss = 72.67696168568128\n",
      "Iter 7800: loss = 72.59327103314222\n",
      "Iter 8000: loss = 72.5121959904019\n",
      "Iter 8200: loss = 72.43354995066039\n",
      "Iter 8400: loss = 72.35716790298888\n",
      "Iter 8600: loss = 72.28290335586682\n",
      "Iter 8800: loss = 72.21062573278034\n",
      "Iter 9000: loss = 72.1402181653917\n",
      "Iter 9200: loss = 72.07157562170087\n",
      "Iter 9400: loss = 72.00460331660658\n",
      "Iter 9600: loss = 71.93921536065639\n",
      "Iter 9800: loss = 71.8753336098067\n",
      "Iter 10000: loss = 71.8128866849174\n"
     ]
    }
   ],
   "source": [
    "N_iter = 10000\n",
    "eta = 1e-3 #0.000005 # learning rate\n",
    "x0 = np.random.randn(*x_gt.shape)\n",
    "\n",
    "x_gd, loss_gd = gd(F, gradF, eta, x0, N_iter, iter_display = 200)"
   ]
  },
  {
   "cell_type": "code",
   "execution_count": 74,
   "id": "7eb85da1-5793-46a2-a687-efacec1f2723",
   "metadata": {},
   "outputs": [
    {
     "data": {
      "text/plain": [
       "[<matplotlib.lines.Line2D at 0x2adb8baff370>]"
      ]
     },
     "execution_count": 74,
     "metadata": {},
     "output_type": "execute_result"
    },
    {
     "data": {
      "image/png": "[encoded data removed]",
      "text/plain": [
       "<Figure size 432x432 with 1 Axes>"
      ]
     },
     "metadata": {
      "needs_background": "light"
     },
     "output_type": "display_data"
    }
   ],
   "source": [
    "plt.semilogy(loss_gd)"
   ]
  },
  {
   "cell_type": "code",
   "execution_count": 75,
   "id": "eb2d880e-0732-4e55-8fae-543264260554",
   "metadata": {},
   "outputs": [
    {
     "name": "stdout",
     "output_type": "stream",
     "text": [
      "Iter 1: loss = 62.896088396907274\n",
      "Iter 2: loss = 62.89608839690733\n",
      "Iter 3: loss = 62.896088396907324\n",
      "Iter 4: loss = 62.89608839690735\n",
      "Iter 5: loss = 62.896088396907324\n",
      "Iter 6: loss = 62.8960883969073\n",
      "Iter 7: loss = 62.8960883969073\n",
      "Iter 8: loss = 62.89608839690737\n",
      "Iter 9: loss = 62.896088396907324\n",
      "Iter 10: loss = 62.89608839690731\n"
     ]
    }
   ],
   "source": [
    "N_iter = 10\n",
    "\n",
    "x_n, loss_n = newton(F, gradF, hessianF, x0, N_iter, iter_display = 1)"
   ]
  },
  {
   "cell_type": "code",
   "execution_count": 76,
   "id": "91e40bf7-22a3-47c7-ba73-7587e97c8682",
   "metadata": {},
   "outputs": [
    {
     "data": {
      "text/plain": [
       "[<matplotlib.lines.Line2D at 0x2adb8b8fe890>]"
      ]
     },
     "execution_count": 76,
     "metadata": {},
     "output_type": "execute_result"
    },
    {
     "data": {
      "image/png": "[encoded data removed]",
      "text/plain": [
       "<Figure size 432x432 with 1 Axes>"
      ]
     },
     "metadata": {
      "needs_background": "light"
     },
     "output_type": "display_data"
    }
   ],
   "source": [
    "plt.plot(loss_n)"
   ]
  },
  {
   "cell_type": "code",
   "execution_count": 79,
   "id": "85918078-6e0b-4ae8-ae60-c714e8f6bb7b",
   "metadata": {},
   "outputs": [
    {
     "name": "stdout",
     "output_type": "stream",
     "text": [
      "  cg iter 0 ||r|| = 98.72069698090263\n",
      "  cg iter 200 ||r|| = 6.7685281474011965e-06\n",
      "  cg iter 400 ||r|| = 1.504907951480268e-10\n",
      "  cg iter 600 ||r|| = 1.055844824814309e-11\n",
      "  cg iter 800 ||r|| = 1.24678456775698e-12\n"
     ]
    }
   ],
   "source": [
    "N_iter = 1000\n",
    "\n",
    "zero = jnp.zeros(x_gt.shape)\n",
    "Abfun = gradF(zero)\n",
    "\n",
    "Ab = -jnp.conj(Abfun)\n",
    "AA = jax.jit(lambda vv : jnp.conj(gradF(vv)) + Ab)\n",
    "\n",
    "x_cg, kk = cg(AA, Ab, x0, N_iter, verbose=True)"
   ]
  },
  {
   "cell_type": "code",
   "execution_count": 80,
   "id": "67c7eb74-cf6e-4df8-87ff-7f1b8ff76768",
   "metadata": {},
   "outputs": [
    {
     "data": {
      "text/plain": [
       "DeviceArray(62.8960884, dtype=float64)"
      ]
     },
     "execution_count": 80,
     "metadata": {},
     "output_type": "execute_result"
    }
   ],
   "source": [
    "F(x_cg)"
   ]
  },
  {
   "cell_type": "markdown",
   "id": "882a5b14-0707-4903-8960-3e4e504ee497",
   "metadata": {},
   "source": [
    "#### OASIS"
   ]
  },
  {
   "cell_type": "code",
   "execution_count": 81,
   "id": "4f3ab243-597e-46d7-a901-e69e98a7d8b9",
   "metadata": {},
   "outputs": [],
   "source": [
    "Fidx = jax.jit(lambda x, idx : F(x))\n",
    "gradFidx = jax.jit(lambda x, idx : jax.grad(F)(x))\n",
    "hvpFidx = jax.jit(lambda x, v, idx : hvp(F, (x,), (v,)))"
   ]
  },
  {
   "cell_type": "code",
   "execution_count": 82,
   "id": "1d4abbff-c637-4fa1-aabb-94e9c15aad4b",
   "metadata": {},
   "outputs": [
    {
     "name": "stdout",
     "output_type": "stream",
     "text": [
      "Epoch 200/10000\n"
     ]
    },
    {
     "name": "stderr",
     "output_type": "stream",
     "text": [
      "100%|██████████| 1/1 [00:00<00:00, 142.86it/s, loss=9.575e+01]"
     ]
    },
    {
     "name": "stdout",
     "output_type": "stream",
     "text": [
      "  Loss =  9.575e+01\n"
     ]
    },
    {
     "name": "stderr",
     "output_type": "stream",
     "text": [
      "\n"
     ]
    },
    {
     "name": "stdout",
     "output_type": "stream",
     "text": [
      "Epoch 400/10000\n"
     ]
    },
    {
     "name": "stderr",
     "output_type": "stream",
     "text": [
      "100%|██████████| 1/1 [00:00<00:00, 84.19it/s, loss=9.020e+01]"
     ]
    },
    {
     "name": "stdout",
     "output_type": "stream",
     "text": [
      "  Loss =  9.020e+01\n"
     ]
    },
    {
     "name": "stderr",
     "output_type": "stream",
     "text": [
      "\n"
     ]
    },
    {
     "name": "stdout",
     "output_type": "stream",
     "text": [
      "Epoch 600/10000\n"
     ]
    },
    {
     "name": "stderr",
     "output_type": "stream",
     "text": [
      "100%|██████████| 1/1 [00:00<00:00, 149.71it/s, loss=8.662e+01]"
     ]
    },
    {
     "name": "stdout",
     "output_type": "stream",
     "text": [
      "  Loss =  8.662e+01\n"
     ]
    },
    {
     "name": "stderr",
     "output_type": "stream",
     "text": [
      "\n"
     ]
    },
    {
     "name": "stdout",
     "output_type": "stream",
     "text": [
      "Epoch 800/10000\n"
     ]
    },
    {
     "name": "stderr",
     "output_type": "stream",
     "text": [
      "100%|██████████| 1/1 [00:00<00:00, 133.83it/s, loss=8.396e+01]"
     ]
    },
    {
     "name": "stdout",
     "output_type": "stream",
     "text": [
      "  Loss =  8.396e+01\n"
     ]
    },
    {
     "name": "stderr",
     "output_type": "stream",
     "text": [
      "\n"
     ]
    },
    {
     "name": "stdout",
     "output_type": "stream",
     "text": [
      "Epoch 1000/10000\n"
     ]
    },
    {
     "name": "stderr",
     "output_type": "stream",
     "text": [
      "100%|██████████| 1/1 [00:00<00:00, 151.27it/s, loss=8.191e+01]"
     ]
    },
    {
     "name": "stdout",
     "output_type": "stream",
     "text": [
      "  Loss =  8.191e+01\n"
     ]
    },
    {
     "name": "stderr",
     "output_type": "stream",
     "text": [
      "\n"
     ]
    },
    {
     "name": "stdout",
     "output_type": "stream",
     "text": [
      "Epoch 1200/10000\n"
     ]
    },
    {
     "name": "stderr",
     "output_type": "stream",
     "text": [
      "100%|██████████| 1/1 [00:00<00:00, 134.10it/s, loss=8.031e+01]"
     ]
    },
    {
     "name": "stdout",
     "output_type": "stream",
     "text": [
      "  Loss =  8.031e+01\n"
     ]
    },
    {
     "name": "stderr",
     "output_type": "stream",
     "text": [
      "\n"
     ]
    },
    {
     "name": "stdout",
     "output_type": "stream",
     "text": [
      "Epoch 1400/10000\n"
     ]
    },
    {
     "name": "stderr",
     "output_type": "stream",
     "text": [
      "100%|██████████| 1/1 [00:00<00:00, 152.19it/s, loss=7.904e+01]"
     ]
    },
    {
     "name": "stdout",
     "output_type": "stream",
     "text": [
      "  Loss =  7.904e+01\n"
     ]
    },
    {
     "name": "stderr",
     "output_type": "stream",
     "text": [
      "\n"
     ]
    },
    {
     "name": "stdout",
     "output_type": "stream",
     "text": [
      "Epoch 1600/10000\n"
     ]
    },
    {
     "name": "stderr",
     "output_type": "stream",
     "text": [
      "100%|██████████| 1/1 [00:00<00:00, 149.50it/s, loss=7.801e+01]"
     ]
    },
    {
     "name": "stdout",
     "output_type": "stream",
     "text": [
      "  Loss =  7.801e+01\n"
     ]
    },
    {
     "name": "stderr",
     "output_type": "stream",
     "text": [
      "\n"
     ]
    },
    {
     "name": "stdout",
     "output_type": "stream",
     "text": [
      "Epoch 1800/10000\n"
     ]
    },
    {
     "name": "stderr",
     "output_type": "stream",
     "text": [
      "100%|██████████| 1/1 [00:00<00:00, 133.90it/s, loss=7.717e+01]"
     ]
    },
    {
     "name": "stdout",
     "output_type": "stream",
     "text": [
      "  Loss =  7.717e+01\n"
     ]
    },
    {
     "name": "stderr",
     "output_type": "stream",
     "text": [
      "\n"
     ]
    },
    {
     "name": "stdout",
     "output_type": "stream",
     "text": [
      "Epoch 2000/10000\n"
     ]
    },
    {
     "name": "stderr",
     "output_type": "stream",
     "text": [
      "100%|██████████| 1/1 [00:00<00:00, 136.34it/s, loss=7.648e+01]"
     ]
    },
    {
     "name": "stdout",
     "output_type": "stream",
     "text": [
      "  Loss =  7.648e+01\n"
     ]
    },
    {
     "name": "stderr",
     "output_type": "stream",
     "text": [
      "\n"
     ]
    },
    {
     "name": "stdout",
     "output_type": "stream",
     "text": [
      "Epoch 2200/10000\n"
     ]
    },
    {
     "name": "stderr",
     "output_type": "stream",
     "text": [
      "100%|██████████| 1/1 [00:00<00:00, 141.55it/s, loss=7.590e+01]"
     ]
    },
    {
     "name": "stdout",
     "output_type": "stream",
     "text": [
      "  Loss =  7.590e+01\n"
     ]
    },
    {
     "name": "stderr",
     "output_type": "stream",
     "text": [
      "\n"
     ]
    },
    {
     "name": "stdout",
     "output_type": "stream",
     "text": [
      "Epoch 2400/10000\n"
     ]
    },
    {
     "name": "stderr",
     "output_type": "stream",
     "text": [
      "100%|██████████| 1/1 [00:00<00:00, 159.80it/s, loss=7.541e+01]"
     ]
    },
    {
     "name": "stdout",
     "output_type": "stream",
     "text": [
      "  Loss =  7.541e+01\n"
     ]
    },
    {
     "name": "stderr",
     "output_type": "stream",
     "text": [
      "\n"
     ]
    },
    {
     "name": "stdout",
     "output_type": "stream",
     "text": [
      "Epoch 2600/10000\n"
     ]
    },
    {
     "name": "stderr",
     "output_type": "stream",
     "text": [
      "100%|██████████| 1/1 [00:00<00:00, 232.72it/s, loss=7.499e+01]"
     ]
    },
    {
     "name": "stdout",
     "output_type": "stream",
     "text": [
      "  Loss =  7.499e+01\n"
     ]
    },
    {
     "name": "stderr",
     "output_type": "stream",
     "text": [
      "\n"
     ]
    },
    {
     "name": "stdout",
     "output_type": "stream",
     "text": [
      "Epoch 2800/10000\n"
     ]
    },
    {
     "name": "stderr",
     "output_type": "stream",
     "text": [
      "100%|██████████| 1/1 [00:00<00:00, 232.37it/s, loss=7.462e+01]"
     ]
    },
    {
     "name": "stdout",
     "output_type": "stream",
     "text": [
      "  Loss =  7.462e+01\n"
     ]
    },
    {
     "name": "stderr",
     "output_type": "stream",
     "text": [
      "\n"
     ]
    },
    {
     "name": "stdout",
     "output_type": "stream",
     "text": [
      "Epoch 3000/10000\n"
     ]
    },
    {
     "name": "stderr",
     "output_type": "stream",
     "text": [
      "100%|██████████| 1/1 [00:00<00:00, 196.15it/s, loss=7.430e+01]"
     ]
    },
    {
     "name": "stdout",
     "output_type": "stream",
     "text": [
      "  Loss =  7.430e+01\n"
     ]
    },
    {
     "name": "stderr",
     "output_type": "stream",
     "text": [
      "\n"
     ]
    },
    {
     "name": "stdout",
     "output_type": "stream",
     "text": [
      "Epoch 3200/10000\n"
     ]
    },
    {
     "name": "stderr",
     "output_type": "stream",
     "text": [
      "100%|██████████| 1/1 [00:00<00:00, 175.89it/s, loss=7.402e+01]"
     ]
    },
    {
     "name": "stdout",
     "output_type": "stream",
     "text": [
      "  Loss =  7.402e+01\n"
     ]
    },
    {
     "name": "stderr",
     "output_type": "stream",
     "text": [
      "\n"
     ]
    },
    {
     "name": "stdout",
     "output_type": "stream",
     "text": [
      "Epoch 3400/10000\n"
     ]
    },
    {
     "name": "stderr",
     "output_type": "stream",
     "text": [
      "100%|██████████| 1/1 [00:00<00:00, 173.32it/s, loss=7.377e+01]"
     ]
    },
    {
     "name": "stdout",
     "output_type": "stream",
     "text": [
      "  Loss =  7.377e+01\n"
     ]
    },
    {
     "name": "stderr",
     "output_type": "stream",
     "text": [
      "\n"
     ]
    },
    {
     "name": "stdout",
     "output_type": "stream",
     "text": [
      "Epoch 3600/10000\n"
     ]
    },
    {
     "name": "stderr",
     "output_type": "stream",
     "text": [
      "100%|██████████| 1/1 [00:00<00:00, 143.14it/s, loss=7.354e+01]"
     ]
    },
    {
     "name": "stdout",
     "output_type": "stream",
     "text": [
      "  Loss =  7.354e+01\n"
     ]
    },
    {
     "name": "stderr",
     "output_type": "stream",
     "text": [
      "\n"
     ]
    },
    {
     "name": "stdout",
     "output_type": "stream",
     "text": [
      "Epoch 3800/10000\n"
     ]
    },
    {
     "name": "stderr",
     "output_type": "stream",
     "text": [
      "100%|██████████| 1/1 [00:00<00:00, 150.66it/s, loss=7.333e+01]"
     ]
    },
    {
     "name": "stdout",
     "output_type": "stream",
     "text": [
      "  Loss =  7.333e+01\n"
     ]
    },
    {
     "name": "stderr",
     "output_type": "stream",
     "text": [
      "\n"
     ]
    },
    {
     "name": "stdout",
     "output_type": "stream",
     "text": [
      "Epoch 4000/10000\n"
     ]
    },
    {
     "name": "stderr",
     "output_type": "stream",
     "text": [
      "100%|██████████| 1/1 [00:00<00:00, 223.70it/s, loss=7.314e+01]"
     ]
    },
    {
     "name": "stdout",
     "output_type": "stream",
     "text": [
      "  Loss =  7.314e+01\n"
     ]
    },
    {
     "name": "stderr",
     "output_type": "stream",
     "text": [
      "\n"
     ]
    },
    {
     "name": "stdout",
     "output_type": "stream",
     "text": [
      "Epoch 4200/10000\n"
     ]
    },
    {
     "name": "stderr",
     "output_type": "stream",
     "text": [
      "100%|██████████| 1/1 [00:00<00:00, 147.29it/s, loss=7.296e+01]"
     ]
    },
    {
     "name": "stdout",
     "output_type": "stream",
     "text": [
      "  Loss =  7.296e+01\n"
     ]
    },
    {
     "name": "stderr",
     "output_type": "stream",
     "text": [
      "\n"
     ]
    },
    {
     "name": "stdout",
     "output_type": "stream",
     "text": [
      "Epoch 4400/10000\n"
     ]
    },
    {
     "name": "stderr",
     "output_type": "stream",
     "text": [
      "100%|██████████| 1/1 [00:00<00:00, 148.03it/s, loss=7.280e+01]"
     ]
    },
    {
     "name": "stdout",
     "output_type": "stream",
     "text": [
      "  Loss =  7.280e+01\n"
     ]
    },
    {
     "name": "stderr",
     "output_type": "stream",
     "text": [
      "\n"
     ]
    },
    {
     "name": "stdout",
     "output_type": "stream",
     "text": [
      "Epoch 4600/10000\n"
     ]
    },
    {
     "name": "stderr",
     "output_type": "stream",
     "text": [
      "100%|██████████| 1/1 [00:00<00:00, 158.31it/s, loss=7.264e+01]"
     ]
    },
    {
     "name": "stdout",
     "output_type": "stream",
     "text": [
      "  Loss =  7.264e+01\n"
     ]
    },
    {
     "name": "stderr",
     "output_type": "stream",
     "text": [
      "\n"
     ]
    },
    {
     "name": "stdout",
     "output_type": "stream",
     "text": [
      "Epoch 4800/10000\n"
     ]
    },
    {
     "name": "stderr",
     "output_type": "stream",
     "text": [
      "100%|██████████| 1/1 [00:00<00:00, 208.34it/s, loss=7.250e+01]"
     ]
    },
    {
     "name": "stdout",
     "output_type": "stream",
     "text": [
      "  Loss =  7.250e+01\n"
     ]
    },
    {
     "name": "stderr",
     "output_type": "stream",
     "text": [
      "\n"
     ]
    },
    {
     "name": "stdout",
     "output_type": "stream",
     "text": [
      "Epoch 5000/10000\n"
     ]
    },
    {
     "name": "stderr",
     "output_type": "stream",
     "text": [
      "100%|██████████| 1/1 [00:00<00:00, 199.45it/s, loss=7.236e+01]"
     ]
    },
    {
     "name": "stdout",
     "output_type": "stream",
     "text": [
      "  Loss =  7.236e+01\n"
     ]
    },
    {
     "name": "stderr",
     "output_type": "stream",
     "text": [
      "\n"
     ]
    },
    {
     "name": "stdout",
     "output_type": "stream",
     "text": [
      "Epoch 5200/10000\n"
     ]
    },
    {
     "name": "stderr",
     "output_type": "stream",
     "text": [
      "100%|██████████| 1/1 [00:00<00:00, 220.07it/s, loss=7.224e+01]"
     ]
    },
    {
     "name": "stdout",
     "output_type": "stream",
     "text": [
      "  Loss =  7.224e+01\n"
     ]
    },
    {
     "name": "stderr",
     "output_type": "stream",
     "text": [
      "\n"
     ]
    },
    {
     "name": "stdout",
     "output_type": "stream",
     "text": [
      "Epoch 5400/10000\n"
     ]
    },
    {
     "name": "stderr",
     "output_type": "stream",
     "text": [
      "100%|██████████| 1/1 [00:00<00:00, 139.00it/s, loss=7.211e+01]"
     ]
    },
    {
     "name": "stdout",
     "output_type": "stream",
     "text": [
      "  Loss =  7.211e+01\n"
     ]
    },
    {
     "name": "stderr",
     "output_type": "stream",
     "text": [
      "\n"
     ]
    },
    {
     "name": "stdout",
     "output_type": "stream",
     "text": [
      "Epoch 5600/10000\n"
     ]
    },
    {
     "name": "stderr",
     "output_type": "stream",
     "text": [
      "100%|██████████| 1/1 [00:00<00:00, 198.00it/s, loss=7.200e+01]"
     ]
    },
    {
     "name": "stdout",
     "output_type": "stream",
     "text": [
      "  Loss =  7.200e+01\n"
     ]
    },
    {
     "name": "stderr",
     "output_type": "stream",
     "text": [
      "\n"
     ]
    },
    {
     "name": "stdout",
     "output_type": "stream",
     "text": [
      "Epoch 5800/10000\n"
     ]
    },
    {
     "name": "stderr",
     "output_type": "stream",
     "text": [
      "100%|██████████| 1/1 [00:00<00:00, 131.26it/s, loss=7.189e+01]"
     ]
    },
    {
     "name": "stdout",
     "output_type": "stream",
     "text": [
      "  Loss =  7.189e+01\n"
     ]
    },
    {
     "name": "stderr",
     "output_type": "stream",
     "text": [
      "\n"
     ]
    },
    {
     "name": "stdout",
     "output_type": "stream",
     "text": [
      "Epoch 6000/10000\n"
     ]
    },
    {
     "name": "stderr",
     "output_type": "stream",
     "text": [
      "100%|██████████| 1/1 [00:00<00:00, 159.24it/s, loss=7.178e+01]"
     ]
    },
    {
     "name": "stdout",
     "output_type": "stream",
     "text": [
      "  Loss =  7.178e+01\n"
     ]
    },
    {
     "name": "stderr",
     "output_type": "stream",
     "text": [
      "\n"
     ]
    },
    {
     "name": "stdout",
     "output_type": "stream",
     "text": [
      "Epoch 6200/10000\n"
     ]
    },
    {
     "name": "stderr",
     "output_type": "stream",
     "text": [
      "100%|██████████| 1/1 [00:00<00:00, 152.95it/s, loss=7.168e+01]"
     ]
    },
    {
     "name": "stdout",
     "output_type": "stream",
     "text": [
      "  Loss =  7.168e+01\n"
     ]
    },
    {
     "name": "stderr",
     "output_type": "stream",
     "text": [
      "\n"
     ]
    },
    {
     "name": "stdout",
     "output_type": "stream",
     "text": [
      "Epoch 6400/10000\n"
     ]
    },
    {
     "name": "stderr",
     "output_type": "stream",
     "text": [
      "100%|██████████| 1/1 [00:00<00:00, 125.75it/s, loss=7.158e+01]"
     ]
    },
    {
     "name": "stdout",
     "output_type": "stream",
     "text": [
      "  Loss =  7.158e+01\n"
     ]
    },
    {
     "name": "stderr",
     "output_type": "stream",
     "text": [
      "\n"
     ]
    },
    {
     "name": "stdout",
     "output_type": "stream",
     "text": [
      "Epoch 6600/10000\n"
     ]
    },
    {
     "name": "stderr",
     "output_type": "stream",
     "text": [
      "100%|██████████| 1/1 [00:00<00:00, 190.26it/s, loss=7.149e+01]"
     ]
    },
    {
     "name": "stdout",
     "output_type": "stream",
     "text": [
      "  Loss =  7.149e+01\n"
     ]
    },
    {
     "name": "stderr",
     "output_type": "stream",
     "text": [
      "\n"
     ]
    },
    {
     "name": "stdout",
     "output_type": "stream",
     "text": [
      "Epoch 6800/10000\n"
     ]
    },
    {
     "name": "stderr",
     "output_type": "stream",
     "text": [
      "100%|██████████| 1/1 [00:00<00:00, 153.29it/s, loss=7.140e+01]"
     ]
    },
    {
     "name": "stdout",
     "output_type": "stream",
     "text": [
      "  Loss =  7.140e+01\n"
     ]
    },
    {
     "name": "stderr",
     "output_type": "stream",
     "text": [
      "\n"
     ]
    },
    {
     "name": "stdout",
     "output_type": "stream",
     "text": [
      "Epoch 7000/10000\n"
     ]
    },
    {
     "name": "stderr",
     "output_type": "stream",
     "text": [
      "100%|██████████| 1/1 [00:00<00:00, 149.69it/s, loss=7.132e+01]"
     ]
    },
    {
     "name": "stdout",
     "output_type": "stream",
     "text": [
      "  Loss =  7.132e+01\n"
     ]
    },
    {
     "name": "stderr",
     "output_type": "stream",
     "text": [
      "\n"
     ]
    },
    {
     "name": "stdout",
     "output_type": "stream",
     "text": [
      "Epoch 7200/10000\n"
     ]
    },
    {
     "name": "stderr",
     "output_type": "stream",
     "text": [
      "100%|██████████| 1/1 [00:00<00:00, 227.04it/s, loss=7.123e+01]"
     ]
    },
    {
     "name": "stdout",
     "output_type": "stream",
     "text": [
      "  Loss =  7.123e+01\n"
     ]
    },
    {
     "name": "stderr",
     "output_type": "stream",
     "text": [
      "\n"
     ]
    },
    {
     "name": "stdout",
     "output_type": "stream",
     "text": [
      "Epoch 7400/10000\n"
     ]
    },
    {
     "name": "stderr",
     "output_type": "stream",
     "text": [
      "100%|██████████| 1/1 [00:00<00:00, 142.14it/s, loss=7.115e+01]"
     ]
    },
    {
     "name": "stdout",
     "output_type": "stream",
     "text": [
      "  Loss =  7.115e+01\n"
     ]
    },
    {
     "name": "stderr",
     "output_type": "stream",
     "text": [
      "\n"
     ]
    },
    {
     "name": "stdout",
     "output_type": "stream",
     "text": [
      "Epoch 7600/10000\n"
     ]
    },
    {
     "name": "stderr",
     "output_type": "stream",
     "text": [
      "100%|██████████| 1/1 [00:00<00:00, 156.00it/s, loss=7.107e+01]"
     ]
    },
    {
     "name": "stdout",
     "output_type": "stream",
     "text": [
      "  Loss =  7.107e+01\n"
     ]
    },
    {
     "name": "stderr",
     "output_type": "stream",
     "text": [
      "\n"
     ]
    },
    {
     "name": "stdout",
     "output_type": "stream",
     "text": [
      "Epoch 7800/10000\n"
     ]
    },
    {
     "name": "stderr",
     "output_type": "stream",
     "text": [
      "100%|██████████| 1/1 [00:00<00:00, 149.49it/s, loss=7.100e+01]"
     ]
    },
    {
     "name": "stdout",
     "output_type": "stream",
     "text": [
      "  Loss =  7.100e+01\n"
     ]
    },
    {
     "name": "stderr",
     "output_type": "stream",
     "text": [
      "\n"
     ]
    },
    {
     "name": "stdout",
     "output_type": "stream",
     "text": [
      "Epoch 8000/10000\n"
     ]
    },
    {
     "name": "stderr",
     "output_type": "stream",
     "text": [
      "100%|██████████| 1/1 [00:00<00:00, 137.99it/s, loss=7.093e+01]"
     ]
    },
    {
     "name": "stdout",
     "output_type": "stream",
     "text": [
      "  Loss =  7.093e+01\n"
     ]
    },
    {
     "name": "stderr",
     "output_type": "stream",
     "text": [
      "\n"
     ]
    },
    {
     "name": "stdout",
     "output_type": "stream",
     "text": [
      "Epoch 8200/10000\n"
     ]
    },
    {
     "name": "stderr",
     "output_type": "stream",
     "text": [
      "100%|██████████| 1/1 [00:00<00:00, 133.64it/s, loss=7.086e+01]"
     ]
    },
    {
     "name": "stdout",
     "output_type": "stream",
     "text": [
      "  Loss =  7.086e+01\n"
     ]
    },
    {
     "name": "stderr",
     "output_type": "stream",
     "text": [
      "\n"
     ]
    },
    {
     "name": "stdout",
     "output_type": "stream",
     "text": [
      "Epoch 8400/10000\n"
     ]
    },
    {
     "name": "stderr",
     "output_type": "stream",
     "text": [
      "100%|██████████| 1/1 [00:00<00:00, 201.67it/s, loss=7.079e+01]"
     ]
    },
    {
     "name": "stdout",
     "output_type": "stream",
     "text": [
      "  Loss =  7.079e+01\n"
     ]
    },
    {
     "name": "stderr",
     "output_type": "stream",
     "text": [
      "\n"
     ]
    },
    {
     "name": "stdout",
     "output_type": "stream",
     "text": [
      "Epoch 8600/10000\n"
     ]
    },
    {
     "name": "stderr",
     "output_type": "stream",
     "text": [
      "100%|██████████| 1/1 [00:00<00:00, 175.11it/s, loss=7.072e+01]"
     ]
    },
    {
     "name": "stdout",
     "output_type": "stream",
     "text": [
      "  Loss =  7.072e+01\n"
     ]
    },
    {
     "name": "stderr",
     "output_type": "stream",
     "text": [
      "\n"
     ]
    },
    {
     "name": "stdout",
     "output_type": "stream",
     "text": [
      "Epoch 8800/10000\n"
     ]
    },
    {
     "name": "stderr",
     "output_type": "stream",
     "text": [
      "100%|██████████| 1/1 [00:00<00:00, 140.37it/s, loss=7.066e+01]"
     ]
    },
    {
     "name": "stdout",
     "output_type": "stream",
     "text": [
      "  Loss =  7.066e+01\n"
     ]
    },
    {
     "name": "stderr",
     "output_type": "stream",
     "text": [
      "\n"
     ]
    },
    {
     "name": "stdout",
     "output_type": "stream",
     "text": [
      "Epoch 9000/10000\n"
     ]
    },
    {
     "name": "stderr",
     "output_type": "stream",
     "text": [
      "100%|██████████| 1/1 [00:00<00:00, 181.29it/s, loss=7.059e+01]"
     ]
    },
    {
     "name": "stdout",
     "output_type": "stream",
     "text": [
      "  Loss =  7.059e+01\n"
     ]
    },
    {
     "name": "stderr",
     "output_type": "stream",
     "text": [
      "\n"
     ]
    },
    {
     "name": "stdout",
     "output_type": "stream",
     "text": [
      "Epoch 9200/10000\n"
     ]
    },
    {
     "name": "stderr",
     "output_type": "stream",
     "text": [
      "100%|██████████| 1/1 [00:00<00:00, 172.98it/s, loss=7.053e+01]"
     ]
    },
    {
     "name": "stdout",
     "output_type": "stream",
     "text": [
      "  Loss =  7.053e+01\n"
     ]
    },
    {
     "name": "stderr",
     "output_type": "stream",
     "text": [
      "\n"
     ]
    },
    {
     "name": "stdout",
     "output_type": "stream",
     "text": [
      "Epoch 9400/10000\n"
     ]
    },
    {
     "name": "stderr",
     "output_type": "stream",
     "text": [
      "100%|██████████| 1/1 [00:00<00:00, 142.66it/s, loss=7.047e+01]"
     ]
    },
    {
     "name": "stdout",
     "output_type": "stream",
     "text": [
      "  Loss =  7.047e+01\n"
     ]
    },
    {
     "name": "stderr",
     "output_type": "stream",
     "text": [
      "\n"
     ]
    },
    {
     "name": "stdout",
     "output_type": "stream",
     "text": [
      "Epoch 9600/10000\n"
     ]
    },
    {
     "name": "stderr",
     "output_type": "stream",
     "text": [
      "100%|██████████| 1/1 [00:00<00:00, 139.50it/s, loss=7.042e+01]"
     ]
    },
    {
     "name": "stdout",
     "output_type": "stream",
     "text": [
      "  Loss =  7.042e+01\n"
     ]
    },
    {
     "name": "stderr",
     "output_type": "stream",
     "text": [
      "\n"
     ]
    },
    {
     "name": "stdout",
     "output_type": "stream",
     "text": [
      "Epoch 9800/10000\n"
     ]
    },
    {
     "name": "stderr",
     "output_type": "stream",
     "text": [
      "100%|██████████| 1/1 [00:00<00:00, 123.73it/s, loss=7.036e+01]"
     ]
    },
    {
     "name": "stdout",
     "output_type": "stream",
     "text": [
      "  Loss =  7.036e+01\n"
     ]
    },
    {
     "name": "stderr",
     "output_type": "stream",
     "text": [
      "\n"
     ]
    },
    {
     "name": "stdout",
     "output_type": "stream",
     "text": [
      "Epoch 10000/10000\n"
     ]
    },
    {
     "name": "stderr",
     "output_type": "stream",
     "text": [
      "100%|██████████| 1/1 [00:00<00:00, 146.84it/s, loss=7.030e+01]"
     ]
    },
    {
     "name": "stdout",
     "output_type": "stream",
     "text": [
      "  Loss =  7.030e+01\n"
     ]
    },
    {
     "name": "stderr",
     "output_type": "stream",
     "text": [
      "\n"
     ]
    }
   ],
   "source": [
    "N_iter = 10000\n",
    "beta2 = 0.99\n",
    "eta = 0.01 #0.1 #0.1/0.001/0.01/0.15\n",
    "D0 = jnp.diag(hessianF(x0)) # Cheating a bit\n",
    "                       \n",
    "alpha = 0.1 #0.1 # 0.01\n",
    "\n",
    "key, subkey = random.split(key)\n",
    "x_o, loss_o = oasis(subkey, Fidx, gradFidx, hvpFidx, x0, eta, D0, beta2, alpha, N_iter, iter_display = 200)\n"
   ]
  },
  {
   "cell_type": "code",
   "execution_count": 83,
   "id": "d7d8a80c-96d4-4143-a907-bc14acbdb5cc",
   "metadata": {},
   "outputs": [
    {
     "name": "stdout",
     "output_type": "stream",
     "text": [
      "Epoch 200/10000\n"
     ]
    },
    {
     "name": "stderr",
     "output_type": "stream",
     "text": [
      "100%|██████████| 1/1 [00:00<00:00, 109.56it/s, loss=7.435e+01]"
     ]
    },
    {
     "name": "stdout",
     "output_type": "stream",
     "text": [
      "  Loss =  7.435e+01\n"
     ]
    },
    {
     "name": "stderr",
     "output_type": "stream",
     "text": [
      "\n"
     ]
    },
    {
     "name": "stdout",
     "output_type": "stream",
     "text": [
      "Epoch 400/10000\n"
     ]
    },
    {
     "name": "stderr",
     "output_type": "stream",
     "text": [
      "100%|██████████| 1/1 [00:00<00:00, 141.69it/s, loss=7.185e+01]"
     ]
    },
    {
     "name": "stdout",
     "output_type": "stream",
     "text": [
      "  Loss =  7.185e+01\n"
     ]
    },
    {
     "name": "stderr",
     "output_type": "stream",
     "text": [
      "\n"
     ]
    },
    {
     "name": "stdout",
     "output_type": "stream",
     "text": [
      "Epoch 600/10000\n"
     ]
    },
    {
     "name": "stderr",
     "output_type": "stream",
     "text": [
      "100%|██████████| 1/1 [00:00<00:00, 148.37it/s, loss=7.065e+01]"
     ]
    },
    {
     "name": "stdout",
     "output_type": "stream",
     "text": [
      "  Loss =  7.065e+01\n"
     ]
    },
    {
     "name": "stderr",
     "output_type": "stream",
     "text": [
      "\n"
     ]
    },
    {
     "name": "stdout",
     "output_type": "stream",
     "text": [
      "Epoch 800/10000\n"
     ]
    },
    {
     "name": "stderr",
     "output_type": "stream",
     "text": [
      "100%|██████████| 1/1 [00:00<00:00, 119.29it/s, loss=6.987e+01]"
     ]
    },
    {
     "name": "stdout",
     "output_type": "stream",
     "text": [
      "  Loss =  6.987e+01\n"
     ]
    },
    {
     "name": "stderr",
     "output_type": "stream",
     "text": [
      "\n"
     ]
    },
    {
     "name": "stdout",
     "output_type": "stream",
     "text": [
      "Epoch 1000/10000\n"
     ]
    },
    {
     "name": "stderr",
     "output_type": "stream",
     "text": [
      "100%|██████████| 1/1 [00:00<00:00, 128.51it/s, loss=6.929e+01]"
     ]
    },
    {
     "name": "stdout",
     "output_type": "stream",
     "text": [
      "  Loss =  6.929e+01\n"
     ]
    },
    {
     "name": "stderr",
     "output_type": "stream",
     "text": [
      "\n"
     ]
    },
    {
     "name": "stdout",
     "output_type": "stream",
     "text": [
      "Epoch 1200/10000\n"
     ]
    },
    {
     "name": "stderr",
     "output_type": "stream",
     "text": [
      "100%|██████████| 1/1 [00:00<00:00, 134.94it/s, loss=6.885e+01]"
     ]
    },
    {
     "name": "stdout",
     "output_type": "stream",
     "text": [
      "  Loss =  6.885e+01\n"
     ]
    },
    {
     "name": "stderr",
     "output_type": "stream",
     "text": [
      "\n"
     ]
    },
    {
     "name": "stdout",
     "output_type": "stream",
     "text": [
      "Epoch 1400/10000\n"
     ]
    },
    {
     "name": "stderr",
     "output_type": "stream",
     "text": [
      "100%|██████████| 1/1 [00:00<00:00, 126.87it/s, loss=6.846e+01]"
     ]
    },
    {
     "name": "stdout",
     "output_type": "stream",
     "text": [
      "  Loss =  6.846e+01\n"
     ]
    },
    {
     "name": "stderr",
     "output_type": "stream",
     "text": [
      "\n"
     ]
    },
    {
     "name": "stdout",
     "output_type": "stream",
     "text": [
      "Epoch 1600/10000\n"
     ]
    },
    {
     "name": "stderr",
     "output_type": "stream",
     "text": [
      "100%|██████████| 1/1 [00:00<00:00, 111.37it/s, loss=6.814e+01]"
     ]
    },
    {
     "name": "stdout",
     "output_type": "stream",
     "text": [
      "  Loss =  6.814e+01\n"
     ]
    },
    {
     "name": "stderr",
     "output_type": "stream",
     "text": [
      "\n"
     ]
    },
    {
     "name": "stdout",
     "output_type": "stream",
     "text": [
      "Epoch 1800/10000\n"
     ]
    },
    {
     "name": "stderr",
     "output_type": "stream",
     "text": [
      "100%|██████████| 1/1 [00:00<00:00, 154.24it/s, loss=6.784e+01]"
     ]
    },
    {
     "name": "stdout",
     "output_type": "stream",
     "text": [
      "  Loss =  6.784e+01\n"
     ]
    },
    {
     "name": "stderr",
     "output_type": "stream",
     "text": [
      "\n"
     ]
    },
    {
     "name": "stdout",
     "output_type": "stream",
     "text": [
      "Epoch 2000/10000\n"
     ]
    },
    {
     "name": "stderr",
     "output_type": "stream",
     "text": [
      "100%|██████████| 1/1 [00:00<00:00, 79.64it/s, loss=6.759e+01]"
     ]
    },
    {
     "name": "stdout",
     "output_type": "stream",
     "text": [
      "  Loss =  6.759e+01\n"
     ]
    },
    {
     "name": "stderr",
     "output_type": "stream",
     "text": [
      "\n"
     ]
    },
    {
     "name": "stdout",
     "output_type": "stream",
     "text": [
      "Epoch 2200/10000\n"
     ]
    },
    {
     "name": "stderr",
     "output_type": "stream",
     "text": [
      "100%|██████████| 1/1 [00:00<00:00, 163.62it/s, loss=6.736e+01]"
     ]
    },
    {
     "name": "stdout",
     "output_type": "stream",
     "text": [
      "  Loss =  6.736e+01\n"
     ]
    },
    {
     "name": "stderr",
     "output_type": "stream",
     "text": [
      "\n"
     ]
    },
    {
     "name": "stdout",
     "output_type": "stream",
     "text": [
      "Epoch 2400/10000\n"
     ]
    },
    {
     "name": "stderr",
     "output_type": "stream",
     "text": [
      "100%|██████████| 1/1 [00:00<00:00, 191.15it/s, loss=6.714e+01]"
     ]
    },
    {
     "name": "stdout",
     "output_type": "stream",
     "text": [
      "  Loss =  6.714e+01\n"
     ]
    },
    {
     "name": "stderr",
     "output_type": "stream",
     "text": [
      "\n"
     ]
    },
    {
     "name": "stdout",
     "output_type": "stream",
     "text": [
      "Epoch 2600/10000\n"
     ]
    },
    {
     "name": "stderr",
     "output_type": "stream",
     "text": [
      "100%|██████████| 1/1 [00:00<00:00, 117.46it/s, loss=6.694e+01]"
     ]
    },
    {
     "name": "stdout",
     "output_type": "stream",
     "text": [
      "  Loss =  6.694e+01\n"
     ]
    },
    {
     "name": "stderr",
     "output_type": "stream",
     "text": [
      "\n"
     ]
    },
    {
     "name": "stdout",
     "output_type": "stream",
     "text": [
      "Epoch 2800/10000\n"
     ]
    },
    {
     "name": "stderr",
     "output_type": "stream",
     "text": [
      "100%|██████████| 1/1 [00:00<00:00, 87.21it/s, loss=6.676e+01]"
     ]
    },
    {
     "name": "stdout",
     "output_type": "stream",
     "text": [
      "  Loss =  6.676e+01\n"
     ]
    },
    {
     "name": "stderr",
     "output_type": "stream",
     "text": [
      "\n"
     ]
    },
    {
     "name": "stdout",
     "output_type": "stream",
     "text": [
      "Epoch 3000/10000\n"
     ]
    },
    {
     "name": "stderr",
     "output_type": "stream",
     "text": [
      "100%|██████████| 1/1 [00:00<00:00, 134.53it/s, loss=6.658e+01]"
     ]
    },
    {
     "name": "stdout",
     "output_type": "stream",
     "text": [
      "  Loss =  6.658e+01\n"
     ]
    },
    {
     "name": "stderr",
     "output_type": "stream",
     "text": [
      "\n"
     ]
    },
    {
     "name": "stdout",
     "output_type": "stream",
     "text": [
      "Epoch 3200/10000\n"
     ]
    },
    {
     "name": "stderr",
     "output_type": "stream",
     "text": [
      "100%|██████████| 1/1 [00:00<00:00, 114.69it/s, loss=6.643e+01]"
     ]
    },
    {
     "name": "stdout",
     "output_type": "stream",
     "text": [
      "  Loss =  6.643e+01\n"
     ]
    },
    {
     "name": "stderr",
     "output_type": "stream",
     "text": [
      "\n"
     ]
    },
    {
     "name": "stdout",
     "output_type": "stream",
     "text": [
      "Epoch 3400/10000\n"
     ]
    },
    {
     "name": "stderr",
     "output_type": "stream",
     "text": [
      "100%|██████████| 1/1 [00:00<00:00, 114.01it/s, loss=6.628e+01]"
     ]
    },
    {
     "name": "stdout",
     "output_type": "stream",
     "text": [
      "  Loss =  6.628e+01\n"
     ]
    },
    {
     "name": "stderr",
     "output_type": "stream",
     "text": [
      "\n"
     ]
    },
    {
     "name": "stdout",
     "output_type": "stream",
     "text": [
      "Epoch 3600/10000\n"
     ]
    },
    {
     "name": "stderr",
     "output_type": "stream",
     "text": [
      "100%|██████████| 1/1 [00:00<00:00, 124.67it/s, loss=6.615e+01]"
     ]
    },
    {
     "name": "stdout",
     "output_type": "stream",
     "text": [
      "  Loss =  6.615e+01\n"
     ]
    },
    {
     "name": "stderr",
     "output_type": "stream",
     "text": [
      "\n"
     ]
    },
    {
     "name": "stdout",
     "output_type": "stream",
     "text": [
      "Epoch 3800/10000\n"
     ]
    },
    {
     "name": "stderr",
     "output_type": "stream",
     "text": [
      "100%|██████████| 1/1 [00:00<00:00, 120.33it/s, loss=6.602e+01]"
     ]
    },
    {
     "name": "stdout",
     "output_type": "stream",
     "text": [
      "  Loss =  6.602e+01\n"
     ]
    },
    {
     "name": "stderr",
     "output_type": "stream",
     "text": [
      "\n"
     ]
    },
    {
     "name": "stdout",
     "output_type": "stream",
     "text": [
      "Epoch 4000/10000\n"
     ]
    },
    {
     "name": "stderr",
     "output_type": "stream",
     "text": [
      "100%|██████████| 1/1 [00:00<00:00, 112.20it/s, loss=6.590e+01]"
     ]
    },
    {
     "name": "stdout",
     "output_type": "stream",
     "text": [
      "  Loss =  6.590e+01\n"
     ]
    },
    {
     "name": "stderr",
     "output_type": "stream",
     "text": [
      "\n"
     ]
    },
    {
     "name": "stdout",
     "output_type": "stream",
     "text": [
      "Epoch 4200/10000\n"
     ]
    },
    {
     "name": "stderr",
     "output_type": "stream",
     "text": [
      "100%|██████████| 1/1 [00:00<00:00, 149.68it/s, loss=6.577e+01]"
     ]
    },
    {
     "name": "stdout",
     "output_type": "stream",
     "text": [
      "  Loss =  6.577e+01\n"
     ]
    },
    {
     "name": "stderr",
     "output_type": "stream",
     "text": [
      "\n"
     ]
    },
    {
     "name": "stdout",
     "output_type": "stream",
     "text": [
      "Epoch 4400/10000\n"
     ]
    },
    {
     "name": "stderr",
     "output_type": "stream",
     "text": [
      "100%|██████████| 1/1 [00:00<00:00, 132.60it/s, loss=6.567e+01]"
     ]
    },
    {
     "name": "stdout",
     "output_type": "stream",
     "text": [
      "  Loss =  6.567e+01\n"
     ]
    },
    {
     "name": "stderr",
     "output_type": "stream",
     "text": [
      "\n"
     ]
    },
    {
     "name": "stdout",
     "output_type": "stream",
     "text": [
      "Epoch 4600/10000\n"
     ]
    },
    {
     "name": "stderr",
     "output_type": "stream",
     "text": [
      "100%|██████████| 1/1 [00:00<00:00, 185.11it/s, loss=6.557e+01]"
     ]
    },
    {
     "name": "stdout",
     "output_type": "stream",
     "text": [
      "  Loss =  6.557e+01\n"
     ]
    },
    {
     "name": "stderr",
     "output_type": "stream",
     "text": [
      "\n"
     ]
    },
    {
     "name": "stdout",
     "output_type": "stream",
     "text": [
      "Epoch 4800/10000\n"
     ]
    },
    {
     "name": "stderr",
     "output_type": "stream",
     "text": [
      "100%|██████████| 1/1 [00:00<00:00, 122.74it/s, loss=6.547e+01]"
     ]
    },
    {
     "name": "stdout",
     "output_type": "stream",
     "text": [
      "  Loss =  6.547e+01\n"
     ]
    },
    {
     "name": "stderr",
     "output_type": "stream",
     "text": [
      "\n"
     ]
    },
    {
     "name": "stdout",
     "output_type": "stream",
     "text": [
      "Epoch 5000/10000\n"
     ]
    },
    {
     "name": "stderr",
     "output_type": "stream",
     "text": [
      "100%|██████████| 1/1 [00:00<00:00, 102.26it/s, loss=6.538e+01]"
     ]
    },
    {
     "name": "stdout",
     "output_type": "stream",
     "text": [
      "  Loss =  6.538e+01\n"
     ]
    },
    {
     "name": "stderr",
     "output_type": "stream",
     "text": [
      "\n"
     ]
    },
    {
     "name": "stdout",
     "output_type": "stream",
     "text": [
      "Epoch 5200/10000\n"
     ]
    },
    {
     "name": "stderr",
     "output_type": "stream",
     "text": [
      "100%|██████████| 1/1 [00:00<00:00, 64.37it/s, loss=6.529e+01]"
     ]
    },
    {
     "name": "stdout",
     "output_type": "stream",
     "text": [
      "  Loss =  6.529e+01\n"
     ]
    },
    {
     "name": "stderr",
     "output_type": "stream",
     "text": [
      "\n"
     ]
    },
    {
     "name": "stdout",
     "output_type": "stream",
     "text": [
      "Epoch 5400/10000\n"
     ]
    },
    {
     "name": "stderr",
     "output_type": "stream",
     "text": [
      "100%|██████████| 1/1 [00:00<00:00, 91.10it/s, loss=6.521e+01]"
     ]
    },
    {
     "name": "stdout",
     "output_type": "stream",
     "text": [
      "  Loss =  6.521e+01\n"
     ]
    },
    {
     "name": "stderr",
     "output_type": "stream",
     "text": [
      "\n"
     ]
    },
    {
     "name": "stdout",
     "output_type": "stream",
     "text": [
      "Epoch 5600/10000\n"
     ]
    },
    {
     "name": "stderr",
     "output_type": "stream",
     "text": [
      "100%|██████████| 1/1 [00:00<00:00, 139.49it/s, loss=6.514e+01]"
     ]
    },
    {
     "name": "stdout",
     "output_type": "stream",
     "text": [
      "  Loss =  6.514e+01\n"
     ]
    },
    {
     "name": "stderr",
     "output_type": "stream",
     "text": [
      "\n"
     ]
    },
    {
     "name": "stdout",
     "output_type": "stream",
     "text": [
      "Epoch 5800/10000\n"
     ]
    },
    {
     "name": "stderr",
     "output_type": "stream",
     "text": [
      "100%|██████████| 1/1 [00:00<00:00, 116.00it/s, loss=6.507e+01]"
     ]
    },
    {
     "name": "stdout",
     "output_type": "stream",
     "text": [
      "  Loss =  6.507e+01\n"
     ]
    },
    {
     "name": "stderr",
     "output_type": "stream",
     "text": [
      "\n"
     ]
    },
    {
     "name": "stdout",
     "output_type": "stream",
     "text": [
      "Epoch 6000/10000\n"
     ]
    },
    {
     "name": "stderr",
     "output_type": "stream",
     "text": [
      "100%|██████████| 1/1 [00:00<00:00, 145.02it/s, loss=6.500e+01]"
     ]
    },
    {
     "name": "stdout",
     "output_type": "stream",
     "text": [
      "  Loss =  6.500e+01\n"
     ]
    },
    {
     "name": "stderr",
     "output_type": "stream",
     "text": [
      "\n"
     ]
    },
    {
     "name": "stdout",
     "output_type": "stream",
     "text": [
      "Epoch 6200/10000\n"
     ]
    },
    {
     "name": "stderr",
     "output_type": "stream",
     "text": [
      "100%|██████████| 1/1 [00:00<00:00, 103.27it/s, loss=6.493e+01]"
     ]
    },
    {
     "name": "stdout",
     "output_type": "stream",
     "text": [
      "  Loss =  6.493e+01\n"
     ]
    },
    {
     "name": "stderr",
     "output_type": "stream",
     "text": [
      "\n"
     ]
    },
    {
     "name": "stdout",
     "output_type": "stream",
     "text": [
      "Epoch 6400/10000\n"
     ]
    },
    {
     "name": "stderr",
     "output_type": "stream",
     "text": [
      "100%|██████████| 1/1 [00:00<00:00, 118.20it/s, loss=6.487e+01]"
     ]
    },
    {
     "name": "stdout",
     "output_type": "stream",
     "text": [
      "  Loss =  6.487e+01\n"
     ]
    },
    {
     "name": "stderr",
     "output_type": "stream",
     "text": [
      "\n"
     ]
    },
    {
     "name": "stdout",
     "output_type": "stream",
     "text": [
      "Epoch 6600/10000\n"
     ]
    },
    {
     "name": "stderr",
     "output_type": "stream",
     "text": [
      "100%|██████████| 1/1 [00:00<00:00, 80.08it/s, loss=6.481e+01]"
     ]
    },
    {
     "name": "stdout",
     "output_type": "stream",
     "text": [
      "  Loss =  6.481e+01\n"
     ]
    },
    {
     "name": "stderr",
     "output_type": "stream",
     "text": [
      "\n"
     ]
    },
    {
     "name": "stdout",
     "output_type": "stream",
     "text": [
      "Epoch 6800/10000\n"
     ]
    },
    {
     "name": "stderr",
     "output_type": "stream",
     "text": [
      "100%|██████████| 1/1 [00:00<00:00, 141.81it/s, loss=6.475e+01]"
     ]
    },
    {
     "name": "stdout",
     "output_type": "stream",
     "text": [
      "  Loss =  6.475e+01\n"
     ]
    },
    {
     "name": "stderr",
     "output_type": "stream",
     "text": [
      "\n"
     ]
    },
    {
     "name": "stdout",
     "output_type": "stream",
     "text": [
      "Epoch 7000/10000\n"
     ]
    },
    {
     "name": "stderr",
     "output_type": "stream",
     "text": [
      "100%|██████████| 1/1 [00:00<00:00, 185.36it/s, loss=6.469e+01]"
     ]
    },
    {
     "name": "stdout",
     "output_type": "stream",
     "text": [
      "  Loss =  6.469e+01\n"
     ]
    },
    {
     "name": "stderr",
     "output_type": "stream",
     "text": [
      "\n"
     ]
    },
    {
     "name": "stdout",
     "output_type": "stream",
     "text": [
      "Epoch 7200/10000\n"
     ]
    },
    {
     "name": "stderr",
     "output_type": "stream",
     "text": [
      "100%|██████████| 1/1 [00:00<00:00, 140.84it/s, loss=6.464e+01]"
     ]
    },
    {
     "name": "stdout",
     "output_type": "stream",
     "text": [
      "  Loss =  6.464e+01\n"
     ]
    },
    {
     "name": "stderr",
     "output_type": "stream",
     "text": [
      "\n"
     ]
    },
    {
     "name": "stdout",
     "output_type": "stream",
     "text": [
      "Epoch 7400/10000\n"
     ]
    },
    {
     "name": "stderr",
     "output_type": "stream",
     "text": [
      "100%|██████████| 1/1 [00:00<00:00, 122.04it/s, loss=6.459e+01]"
     ]
    },
    {
     "name": "stdout",
     "output_type": "stream",
     "text": [
      "  Loss =  6.459e+01\n"
     ]
    },
    {
     "name": "stderr",
     "output_type": "stream",
     "text": [
      "\n"
     ]
    },
    {
     "name": "stdout",
     "output_type": "stream",
     "text": [
      "Epoch 7600/10000\n"
     ]
    },
    {
     "name": "stderr",
     "output_type": "stream",
     "text": [
      "100%|██████████| 1/1 [00:00<00:00, 156.10it/s, loss=6.454e+01]"
     ]
    },
    {
     "name": "stdout",
     "output_type": "stream",
     "text": [
      "  Loss =  6.454e+01\n"
     ]
    },
    {
     "name": "stderr",
     "output_type": "stream",
     "text": [
      "\n"
     ]
    },
    {
     "name": "stdout",
     "output_type": "stream",
     "text": [
      "Epoch 7800/10000\n"
     ]
    },
    {
     "name": "stderr",
     "output_type": "stream",
     "text": [
      "100%|██████████| 1/1 [00:00<00:00, 90.66it/s, loss=6.449e+01]"
     ]
    },
    {
     "name": "stdout",
     "output_type": "stream",
     "text": [
      "  Loss =  6.449e+01\n"
     ]
    },
    {
     "name": "stderr",
     "output_type": "stream",
     "text": [
      "\n"
     ]
    },
    {
     "name": "stdout",
     "output_type": "stream",
     "text": [
      "Epoch 8000/10000\n"
     ]
    },
    {
     "name": "stderr",
     "output_type": "stream",
     "text": [
      "100%|██████████| 1/1 [00:00<00:00, 143.99it/s, loss=6.445e+01]"
     ]
    },
    {
     "name": "stdout",
     "output_type": "stream",
     "text": [
      "  Loss =  6.445e+01\n"
     ]
    },
    {
     "name": "stderr",
     "output_type": "stream",
     "text": [
      "\n"
     ]
    },
    {
     "name": "stdout",
     "output_type": "stream",
     "text": [
      "Epoch 8200/10000\n"
     ]
    },
    {
     "name": "stderr",
     "output_type": "stream",
     "text": [
      "100%|██████████| 1/1 [00:00<00:00, 125.14it/s, loss=6.441e+01]"
     ]
    },
    {
     "name": "stdout",
     "output_type": "stream",
     "text": [
      "  Loss =  6.441e+01\n"
     ]
    },
    {
     "name": "stderr",
     "output_type": "stream",
     "text": [
      "\n"
     ]
    },
    {
     "name": "stdout",
     "output_type": "stream",
     "text": [
      "Epoch 8400/10000\n"
     ]
    },
    {
     "name": "stderr",
     "output_type": "stream",
     "text": [
      "100%|██████████| 1/1 [00:00<00:00, 202.72it/s, loss=6.437e+01]"
     ]
    },
    {
     "name": "stdout",
     "output_type": "stream",
     "text": [
      "  Loss =  6.437e+01\n"
     ]
    },
    {
     "name": "stderr",
     "output_type": "stream",
     "text": [
      "\n"
     ]
    },
    {
     "name": "stdout",
     "output_type": "stream",
     "text": [
      "Epoch 8600/10000\n"
     ]
    },
    {
     "name": "stderr",
     "output_type": "stream",
     "text": [
      "100%|██████████| 1/1 [00:00<00:00, 115.84it/s, loss=6.433e+01]"
     ]
    },
    {
     "name": "stdout",
     "output_type": "stream",
     "text": [
      "  Loss =  6.433e+01\n"
     ]
    },
    {
     "name": "stderr",
     "output_type": "stream",
     "text": [
      "\n"
     ]
    },
    {
     "name": "stdout",
     "output_type": "stream",
     "text": [
      "Epoch 8800/10000\n"
     ]
    },
    {
     "name": "stderr",
     "output_type": "stream",
     "text": [
      "100%|██████████| 1/1 [00:00<00:00, 114.49it/s, loss=6.429e+01]"
     ]
    },
    {
     "name": "stdout",
     "output_type": "stream",
     "text": [
      "  Loss =  6.429e+01\n"
     ]
    },
    {
     "name": "stderr",
     "output_type": "stream",
     "text": [
      "\n"
     ]
    },
    {
     "name": "stdout",
     "output_type": "stream",
     "text": [
      "Epoch 9000/10000\n"
     ]
    },
    {
     "name": "stderr",
     "output_type": "stream",
     "text": [
      "100%|██████████| 1/1 [00:00<00:00, 92.60it/s, loss=6.425e+01]"
     ]
    },
    {
     "name": "stdout",
     "output_type": "stream",
     "text": [
      "  Loss =  6.425e+01\n"
     ]
    },
    {
     "name": "stderr",
     "output_type": "stream",
     "text": [
      "\n"
     ]
    },
    {
     "name": "stdout",
     "output_type": "stream",
     "text": [
      "Epoch 9200/10000\n"
     ]
    },
    {
     "name": "stderr",
     "output_type": "stream",
     "text": [
      "100%|██████████| 1/1 [00:00<00:00, 147.18it/s, loss=6.422e+01]"
     ]
    },
    {
     "name": "stdout",
     "output_type": "stream",
     "text": [
      "  Loss =  6.422e+01\n"
     ]
    },
    {
     "name": "stderr",
     "output_type": "stream",
     "text": [
      "\n"
     ]
    },
    {
     "name": "stdout",
     "output_type": "stream",
     "text": [
      "Epoch 9400/10000\n"
     ]
    },
    {
     "name": "stderr",
     "output_type": "stream",
     "text": [
      "100%|██████████| 1/1 [00:00<00:00, 120.72it/s, loss=6.418e+01]"
     ]
    },
    {
     "name": "stdout",
     "output_type": "stream",
     "text": [
      "  Loss =  6.418e+01\n"
     ]
    },
    {
     "name": "stderr",
     "output_type": "stream",
     "text": [
      "\n"
     ]
    },
    {
     "name": "stdout",
     "output_type": "stream",
     "text": [
      "Epoch 9600/10000\n"
     ]
    },
    {
     "name": "stderr",
     "output_type": "stream",
     "text": [
      "100%|██████████| 1/1 [00:00<00:00, 115.00it/s, loss=6.415e+01]"
     ]
    },
    {
     "name": "stdout",
     "output_type": "stream",
     "text": [
      "  Loss =  6.415e+01\n"
     ]
    },
    {
     "name": "stderr",
     "output_type": "stream",
     "text": [
      "\n"
     ]
    },
    {
     "name": "stdout",
     "output_type": "stream",
     "text": [
      "Epoch 9800/10000\n"
     ]
    },
    {
     "name": "stderr",
     "output_type": "stream",
     "text": [
      "100%|██████████| 1/1 [00:00<00:00, 129.47it/s, loss=6.412e+01]"
     ]
    },
    {
     "name": "stdout",
     "output_type": "stream",
     "text": [
      "  Loss =  6.412e+01\n"
     ]
    },
    {
     "name": "stderr",
     "output_type": "stream",
     "text": [
      "\n"
     ]
    },
    {
     "name": "stdout",
     "output_type": "stream",
     "text": [
      "Epoch 10000/10000\n"
     ]
    },
    {
     "name": "stderr",
     "output_type": "stream",
     "text": [
      "100%|██████████| 1/1 [00:00<00:00, 119.88it/s, loss=6.409e+01]"
     ]
    },
    {
     "name": "stdout",
     "output_type": "stream",
     "text": [
      "  Loss =  6.409e+01\n"
     ]
    },
    {
     "name": "stderr",
     "output_type": "stream",
     "text": [
      "\n"
     ]
    }
   ],
   "source": [
    "N_iter = 10000\n",
    "beta2 = 0.99\n",
    "eta0 = 0.1 #0.1/0.001/0.01/0.15\n",
    "D0 = jnp.diag(hessianF(x0)) # Cheating a bit\n",
    "                       \n",
    "alpha = 0.1 # 0.01\n",
    "\n",
    "key, subkey = random.split(key)\n",
    "x_oa, loss_oa = oasis_adaptive(subkey, Fidx, gradFidx, hvpFidx, x0, eta0, D0, beta2, alpha, N_iter, iter_display = 200)\n"
   ]
  },
  {
   "cell_type": "code",
   "execution_count": 84,
   "id": "65316fa4-29ef-4a8b-98a3-a5150a90a40d",
   "metadata": {},
   "outputs": [
    {
     "name": "stdout",
     "output_type": "stream",
     "text": [
      "12.477505063771066\n",
      "12.477505063521798\n",
      "3.982755915053665\n",
      "6.229225755506574\n",
      "12.481451894198093\n"
     ]
    },
    {
     "data": {
      "image/png": "[encoded data removed]",
      "text/plain": [
       "<Figure size 864x432 with 2 Axes>"
      ]
     },
     "metadata": {
      "needs_background": "light"
     },
     "output_type": "display_data"
    }
   ],
   "source": [
    "print(jnp.max(jnp.abs(x_gt-x_n)))\n",
    "print(jnp.max(jnp.abs(x_gt-x_cg)))\n",
    "print(jnp.max(jnp.abs(x_gt-x_gd)))\n",
    "print(jnp.max(jnp.abs(x_gt-x_o)))\n",
    "print(jnp.max(jnp.abs(x_gt-x_oa)))\n",
    "\n",
    "plt.rcParams[\"figure.figsize\"]=12, 6\n",
    "\n",
    "plt.subplot(1,2,1)\n",
    "\n",
    "nn0 = 0\n",
    "nn1 = 2000\n",
    "#plt.semilogy(loss_n[nn0:nn1])\n",
    "plt.semilogy(loss_gd[nn0:nn1])\n",
    "plt.semilogy(loss_o[nn0:nn1])\n",
    "plt.semilogy(loss_oa[nn0:nn1])\n",
    "#plt.legend([\"Newton\", \"GD\", \"OASIS\", \"OASIS adaptive\"])\n",
    "plt.legend([\"GD\", \"OASIS\", \"OASIS adaptive\"])\n",
    "plt.title(\"Loss\")\n",
    "\n",
    "plt.subplot(1,2,2)\n",
    "plt.semilogy(jnp.abs(x_gt-x_n))\n",
    "plt.semilogy(jnp.abs(x_gt-x_gd))\n",
    "plt.semilogy(jnp.abs(x_gt-x_o))\n",
    "plt.semilogy(jnp.abs(x_gt-x_oa))\n",
    "plt.legend([\"Newton\", \"GD\", \"OASIS\", \"OASIS_adaptive\"])\n",
    "plt.title(\"Error\")\n",
    "\n",
    "plt.rcParams[\"figure.figsize\"]=6, 6"
   ]
  },
  {
   "cell_type": "markdown",
   "id": "a8b6c827-8a95-402c-b11f-ceeae8a12d5c",
   "metadata": {},
   "source": [
    "### Stochastic - sum of operators"
   ]
  },
  {
   "cell_type": "code",
   "execution_count": 85,
   "id": "1fff654c-9c9a-4e22-8174-9b5bf8028231",
   "metadata": {},
   "outputs": [],
   "source": [
    "key = random.PRNGKey(int(jnp.floor(np.random.rand()*1000)))"
   ]
  },
  {
   "cell_type": "markdown",
   "id": "eab15192-ed05-48be-8bc6-519f1af7f07b",
   "metadata": {},
   "source": [
    "Generate $N$ operators to create a loss function to do SGD/OASIS on:"
   ]
  },
  {
   "cell_type": "code",
   "execution_count": 101,
   "id": "e4b0a499-469f-4b89-bbd8-4eb4b0af9075",
   "metadata": {},
   "outputs": [],
   "source": [
    "sig_noise = 10\n",
    "lam = 0.1"
   ]
  },
  {
   "cell_type": "code",
   "execution_count": 102,
   "id": "22bdc44f-ff0b-4b9d-b412-c0ceddb3a674",
   "metadata": {},
   "outputs": [],
   "source": [
    "n = 100\n",
    "N = 1000\n",
    "\n",
    "x_gt = np.random.normal(size=(n,))\n",
    "\n",
    "ops = []\n",
    "b = []\n",
    "for i in range(N):\n",
    "    A = np.random.normal(size=(n,n))\n",
    "    A = A.T @ A\n",
    "    _, v = jnp.linalg.eigh(A)\n",
    "    \n",
    "    d = jnp.flip(jnp.logspace(-5,4,n)) + np.random.normal(size=(n,))*10 \n",
    "    d = d + jnp.abs(jnp.min(d)*2)\n",
    "                 \n",
    "    A = v.T @ jnp.diag(d) @ v\n",
    "    ops.append(A)\n",
    "    \n",
    "    bn = A @ x_gt + np.random.normal(size=(n,)) * sig_noise\n",
    "    b.append(bn)\n",
    "    \n",
    "    #print(jnp.mean((A@x_gt - bn)**2))\n",
    "    \n",
    "ops = jnp.array(ops)\n",
    "b = jnp.array(b)"
   ]
  },
  {
   "cell_type": "code",
   "execution_count": 103,
   "id": "5e78e315-c297-4911-91cf-f1d27bc1a509",
   "metadata": {},
   "outputs": [
    {
     "name": "stdout",
     "output_type": "stream",
     "text": [
      " 4.52e+02\n"
     ]
    }
   ],
   "source": [
    "w, _ = jnp.linalg.eigh(A)\n",
    "w = jnp.flip(jnp.sort(w))\n",
    "print(f\"{jnp.max(w)/jnp.min(w) : .2e}\")"
   ]
  },
  {
   "cell_type": "code",
   "execution_count": 104,
   "id": "468e3a1f-4f0f-4d36-aa67-b758871eea2d",
   "metadata": {},
   "outputs": [],
   "source": [
    "def loss_term(x, A, b):\n",
    "    return 1/2 * jnp.mean((A@x - b)**2) + lam * jnp.mean(x**2)\n",
    "\n",
    "def loss_func(x, ops, b):\n",
    "    return jnp.mean(jax.vmap(loss_term, in_axes = (None, 0, 0))(x, ops, b))\n",
    "\n",
    "def grad_loss_func(x, ops, b):\n",
    "    return jax.grad(loss_func)(x, ops, b)\n",
    "\n",
    "def hvp_loss_func(x, v, ops, b):\n",
    "    return jvp(lambda y : grad_loss_func(y, ops, b), (x,), (v,))[1]"
   ]
  },
  {
   "cell_type": "code",
   "execution_count": 105,
   "id": "596a2b9b-f7fe-48f1-b8be-d37784d8e003",
   "metadata": {},
   "outputs": [
    {
     "name": "stdout",
     "output_type": "stream",
     "text": [
      "55.49298309401981\n",
      "50.20230162892993\n",
      "(100,)\n",
      "(100,)\n",
      "(100,)\n",
      "(100,)\n"
     ]
    }
   ],
   "source": [
    "idx = np.random.permutation(N)[:N//3]\n",
    "\n",
    "print(loss_term(x_gt, ops[0], b[0]))\n",
    "print(loss_func(x_gt, ops, b))\n",
    "\n",
    "print(grad_loss_func(x_gt, ops, b).shape)\n",
    "print(grad_loss_func(x_gt, ops[idx], b[idx]).shape)\n",
    "\n",
    "print(hvp_loss_func(x_gt, x_gt, ops, b).shape)\n",
    "print(hvp_loss_func(x_gt, x_gt, ops[idx], b[idx]).shape)"
   ]
  },
  {
   "cell_type": "code",
   "execution_count": 106,
   "id": "f676aa77-b686-4343-a484-f7153d02b5f5",
   "metadata": {},
   "outputs": [],
   "source": [
    "hessianF = lambda x : jax.hessian(loss_func)(x, ops, b)\n",
    "\n",
    "Fidx = jax.jit(lambda x, idx : loss_func(x, ops[idx], b[idx]))\n",
    "gradFidx = jax.jit(lambda x, idx : grad_loss_func(x, ops[idx], b[idx]))\n",
    "hvpFidx = jax.jit(lambda x, v, idx : hvp_loss_func(x, v, ops[idx], b[idx]))\n",
    "x0 = jnp.array(np.random.randn(n))"
   ]
  },
  {
   "cell_type": "code",
   "execution_count": 107,
   "id": "1c4ebd6f-40e2-499f-b779-dba06af2cbc3",
   "metadata": {},
   "outputs": [
    {
     "data": {
      "text/plain": [
       "DeviceArray(50.20230163, dtype=float64)"
      ]
     },
     "execution_count": 107,
     "metadata": {},
     "output_type": "execute_result"
    }
   ],
   "source": [
    "Fidx(x_gt, jnp.arange(N))"
   ]
  },
  {
   "cell_type": "code",
   "execution_count": 108,
   "id": "0b0edb39-6c54-401d-b223-8894798094f5",
   "metadata": {},
   "outputs": [
    {
     "name": "stdout",
     "output_type": "stream",
     "text": [
      "Epoch 1/20\n"
     ]
    },
    {
     "name": "stderr",
     "output_type": "stream",
     "text": [
      "100%|██████████| 50/50 [00:04<00:00, 12.40it/s, loss=3.188e+02]\n"
     ]
    },
    {
     "name": "stdout",
     "output_type": "stream",
     "text": [
      "  Loss =  1.639e+05\n",
      "Epoch 2/20\n"
     ]
    },
    {
     "name": "stderr",
     "output_type": "stream",
     "text": [
      "100%|██████████| 50/50 [00:00<00:00, 142.63it/s, loss=4.927e+01]\n"
     ]
    },
    {
     "name": "stdout",
     "output_type": "stream",
     "text": [
      "  Loss =  7.656e+01\n",
      "Epoch 3/20\n"
     ]
    },
    {
     "name": "stderr",
     "output_type": "stream",
     "text": [
      "100%|██████████| 50/50 [00:00<00:00, 141.71it/s, loss=4.877e+01]\n"
     ]
    },
    {
     "name": "stdout",
     "output_type": "stream",
     "text": [
      "  Loss =  4.986e+01\n",
      "Epoch 4/20\n"
     ]
    },
    {
     "name": "stderr",
     "output_type": "stream",
     "text": [
      "100%|██████████| 50/50 [00:00<00:00, 147.28it/s, loss=5.086e+01]\n"
     ]
    },
    {
     "name": "stdout",
     "output_type": "stream",
     "text": [
      "  Loss =  4.988e+01\n",
      "Epoch 5/20\n"
     ]
    },
    {
     "name": "stderr",
     "output_type": "stream",
     "text": [
      "100%|██████████| 50/50 [00:00<00:00, 141.71it/s, loss=4.839e+01]\n"
     ]
    },
    {
     "name": "stdout",
     "output_type": "stream",
     "text": [
      "  Loss =  4.985e+01\n",
      "Epoch 6/20\n"
     ]
    },
    {
     "name": "stderr",
     "output_type": "stream",
     "text": [
      "100%|██████████| 50/50 [00:00<00:00, 141.37it/s, loss=5.055e+01]\n"
     ]
    },
    {
     "name": "stdout",
     "output_type": "stream",
     "text": [
      "  Loss =  4.986e+01\n",
      "Epoch 7/20\n"
     ]
    },
    {
     "name": "stderr",
     "output_type": "stream",
     "text": [
      "100%|██████████| 50/50 [00:00<00:00, 143.73it/s, loss=5.135e+01]\n"
     ]
    },
    {
     "name": "stdout",
     "output_type": "stream",
     "text": [
      "  Loss =  4.986e+01\n",
      "Epoch 8/20\n"
     ]
    },
    {
     "name": "stderr",
     "output_type": "stream",
     "text": [
      "100%|██████████| 50/50 [00:00<00:00, 140.07it/s, loss=4.797e+01]\n"
     ]
    },
    {
     "name": "stdout",
     "output_type": "stream",
     "text": [
      "  Loss =  4.985e+01\n",
      "Epoch 9/20\n"
     ]
    },
    {
     "name": "stderr",
     "output_type": "stream",
     "text": [
      "100%|██████████| 50/50 [00:00<00:00, 145.23it/s, loss=5.094e+01]\n"
     ]
    },
    {
     "name": "stdout",
     "output_type": "stream",
     "text": [
      "  Loss =  4.985e+01\n",
      "Epoch 10/20\n"
     ]
    },
    {
     "name": "stderr",
     "output_type": "stream",
     "text": [
      "100%|██████████| 50/50 [00:00<00:00, 148.70it/s, loss=5.135e+01]\n"
     ]
    },
    {
     "name": "stdout",
     "output_type": "stream",
     "text": [
      "  Loss =  4.984e+01\n",
      "Epoch 11/20\n"
     ]
    },
    {
     "name": "stderr",
     "output_type": "stream",
     "text": [
      "100%|██████████| 50/50 [00:00<00:00, 142.46it/s, loss=4.970e+01]\n"
     ]
    },
    {
     "name": "stdout",
     "output_type": "stream",
     "text": [
      "  Loss =  4.985e+01\n",
      "Epoch 12/20\n"
     ]
    },
    {
     "name": "stderr",
     "output_type": "stream",
     "text": [
      "100%|██████████| 50/50 [00:00<00:00, 145.36it/s, loss=5.055e+01]\n"
     ]
    },
    {
     "name": "stdout",
     "output_type": "stream",
     "text": [
      "  Loss =  4.986e+01\n",
      "Epoch 13/20\n"
     ]
    },
    {
     "name": "stderr",
     "output_type": "stream",
     "text": [
      "100%|██████████| 50/50 [00:00<00:00, 147.87it/s, loss=5.023e+01]\n"
     ]
    },
    {
     "name": "stdout",
     "output_type": "stream",
     "text": [
      "  Loss =  4.986e+01\n",
      "Epoch 14/20\n"
     ]
    },
    {
     "name": "stderr",
     "output_type": "stream",
     "text": [
      "100%|██████████| 50/50 [00:00<00:00, 141.43it/s, loss=5.159e+01]\n"
     ]
    },
    {
     "name": "stdout",
     "output_type": "stream",
     "text": [
      "  Loss =  4.985e+01\n",
      "Epoch 15/20\n"
     ]
    },
    {
     "name": "stderr",
     "output_type": "stream",
     "text": [
      "100%|██████████| 50/50 [00:00<00:00, 146.33it/s, loss=4.987e+01]\n"
     ]
    },
    {
     "name": "stdout",
     "output_type": "stream",
     "text": [
      "  Loss =  4.984e+01\n",
      "Epoch 16/20\n"
     ]
    },
    {
     "name": "stderr",
     "output_type": "stream",
     "text": [
      "100%|██████████| 50/50 [00:00<00:00, 145.43it/s, loss=4.741e+01]\n"
     ]
    },
    {
     "name": "stdout",
     "output_type": "stream",
     "text": [
      "  Loss =  4.985e+01\n",
      "Epoch 17/20\n"
     ]
    },
    {
     "name": "stderr",
     "output_type": "stream",
     "text": [
      "100%|██████████| 50/50 [00:00<00:00, 145.72it/s, loss=5.053e+01]\n"
     ]
    },
    {
     "name": "stdout",
     "output_type": "stream",
     "text": [
      "  Loss =  4.986e+01\n",
      "Epoch 18/20\n"
     ]
    },
    {
     "name": "stderr",
     "output_type": "stream",
     "text": [
      "100%|██████████| 50/50 [00:00<00:00, 152.55it/s, loss=5.230e+01]\n"
     ]
    },
    {
     "name": "stdout",
     "output_type": "stream",
     "text": [
      "  Loss =  4.986e+01\n",
      "Epoch 19/20\n"
     ]
    },
    {
     "name": "stderr",
     "output_type": "stream",
     "text": [
      "100%|██████████| 50/50 [00:00<00:00, 150.12it/s, loss=5.326e+01]\n"
     ]
    },
    {
     "name": "stdout",
     "output_type": "stream",
     "text": [
      "  Loss =  4.985e+01\n",
      "Epoch 20/20\n"
     ]
    },
    {
     "name": "stderr",
     "output_type": "stream",
     "text": [
      "100%|██████████| 50/50 [00:00<00:00, 134.45it/s, loss=4.954e+01]\n"
     ]
    },
    {
     "name": "stdout",
     "output_type": "stream",
     "text": [
      "  Loss =  4.985e+01\n"
     ]
    }
   ],
   "source": [
    "N_epoch = 20\n",
    "beta2 = 0.99\n",
    "eta = 0.1 #0.1 #0.1/0.001/0.01/0.15\n",
    "D0 = jnp.diag(hessianF(x0)) # Cheating a bit\n",
    "                       \n",
    "alpha = 0.1 #0.1 # 0.01\n",
    "\n",
    "key, subkey = random.split(key)\n",
    "x_os, loss_os = oasis(subkey, Fidx, gradFidx, hvpFidx, x0, eta, D0, beta2, alpha, N_epoch, batch_size = 20, N = N, iter_display = 1)\n"
   ]
  },
  {
   "cell_type": "code",
   "execution_count": 109,
   "id": "1c082c87-8e9b-4367-bfa4-8f203c74a99e",
   "metadata": {},
   "outputs": [
    {
     "name": "stdout",
     "output_type": "stream",
     "text": [
      "Epoch 1/20\n"
     ]
    },
    {
     "name": "stderr",
     "output_type": "stream",
     "text": [
      "100%|██████████| 50/50 [00:00<00:00, 119.74it/s, loss=6.446e+01]\n"
     ]
    },
    {
     "name": "stdout",
     "output_type": "stream",
     "text": [
      "  Loss =  1.403e+05\n",
      "Epoch 2/20\n"
     ]
    },
    {
     "name": "stderr",
     "output_type": "stream",
     "text": [
      "100%|██████████| 50/50 [00:00<00:00, 123.19it/s, loss=4.749e+01]\n"
     ]
    },
    {
     "name": "stdout",
     "output_type": "stream",
     "text": [
      "  Loss =  5.070e+01\n",
      "Epoch 3/20\n"
     ]
    },
    {
     "name": "stderr",
     "output_type": "stream",
     "text": [
      "100%|██████████| 50/50 [00:00<00:00, 119.09it/s, loss=5.086e+01]\n"
     ]
    },
    {
     "name": "stdout",
     "output_type": "stream",
     "text": [
      "  Loss =  4.984e+01\n",
      "Epoch 4/20\n"
     ]
    },
    {
     "name": "stderr",
     "output_type": "stream",
     "text": [
      "100%|██████████| 50/50 [00:00<00:00, 119.00it/s, loss=4.612e+01]\n"
     ]
    },
    {
     "name": "stdout",
     "output_type": "stream",
     "text": [
      "  Loss =  4.984e+01\n",
      "Epoch 5/20\n"
     ]
    },
    {
     "name": "stderr",
     "output_type": "stream",
     "text": [
      "100%|██████████| 50/50 [00:00<00:00, 115.25it/s, loss=4.912e+01]\n"
     ]
    },
    {
     "name": "stdout",
     "output_type": "stream",
     "text": [
      "  Loss =  4.985e+01\n",
      "Epoch 6/20\n"
     ]
    },
    {
     "name": "stderr",
     "output_type": "stream",
     "text": [
      "100%|██████████| 50/50 [00:00<00:00, 120.49it/s, loss=4.741e+01]\n"
     ]
    },
    {
     "name": "stdout",
     "output_type": "stream",
     "text": [
      "  Loss =  4.981e+01\n",
      "Epoch 7/20\n"
     ]
    },
    {
     "name": "stderr",
     "output_type": "stream",
     "text": [
      "100%|██████████| 50/50 [00:00<00:00, 113.33it/s, loss=4.955e+01]\n"
     ]
    },
    {
     "name": "stdout",
     "output_type": "stream",
     "text": [
      "  Loss =  4.978e+01\n",
      "Epoch 8/20\n"
     ]
    },
    {
     "name": "stderr",
     "output_type": "stream",
     "text": [
      "100%|██████████| 50/50 [00:00<00:00, 121.68it/s, loss=4.917e+01]\n"
     ]
    },
    {
     "name": "stdout",
     "output_type": "stream",
     "text": [
      "  Loss =  4.980e+01\n",
      "Epoch 9/20\n"
     ]
    },
    {
     "name": "stderr",
     "output_type": "stream",
     "text": [
      "100%|██████████| 50/50 [00:00<00:00, 119.19it/s, loss=4.693e+01]\n"
     ]
    },
    {
     "name": "stdout",
     "output_type": "stream",
     "text": [
      "  Loss =  4.983e+01\n",
      "Epoch 10/20\n"
     ]
    },
    {
     "name": "stderr",
     "output_type": "stream",
     "text": [
      "100%|██████████| 50/50 [00:00<00:00, 123.22it/s, loss=4.791e+01]\n"
     ]
    },
    {
     "name": "stdout",
     "output_type": "stream",
     "text": [
      "  Loss =  4.983e+01\n",
      "Epoch 11/20\n"
     ]
    },
    {
     "name": "stderr",
     "output_type": "stream",
     "text": [
      "100%|██████████| 50/50 [00:00<00:00, 119.99it/s, loss=4.856e+01]\n"
     ]
    },
    {
     "name": "stdout",
     "output_type": "stream",
     "text": [
      "  Loss =  4.981e+01\n",
      "Epoch 12/20\n"
     ]
    },
    {
     "name": "stderr",
     "output_type": "stream",
     "text": [
      "100%|██████████| 50/50 [00:00<00:00, 117.03it/s, loss=4.876e+01]\n"
     ]
    },
    {
     "name": "stdout",
     "output_type": "stream",
     "text": [
      "  Loss =  4.984e+01\n",
      "Epoch 13/20\n"
     ]
    },
    {
     "name": "stderr",
     "output_type": "stream",
     "text": [
      "100%|██████████| 50/50 [00:00<00:00, 116.97it/s, loss=5.195e+01]\n"
     ]
    },
    {
     "name": "stdout",
     "output_type": "stream",
     "text": [
      "  Loss =  4.984e+01\n",
      "Epoch 14/20\n"
     ]
    },
    {
     "name": "stderr",
     "output_type": "stream",
     "text": [
      "100%|██████████| 50/50 [00:00<00:00, 115.57it/s, loss=4.874e+01]\n"
     ]
    },
    {
     "name": "stdout",
     "output_type": "stream",
     "text": [
      "  Loss =  4.983e+01\n",
      "Epoch 15/20\n"
     ]
    },
    {
     "name": "stderr",
     "output_type": "stream",
     "text": [
      "100%|██████████| 50/50 [00:00<00:00, 125.59it/s, loss=4.937e+01]\n"
     ]
    },
    {
     "name": "stdout",
     "output_type": "stream",
     "text": [
      "  Loss =  4.981e+01\n",
      "Epoch 16/20\n"
     ]
    },
    {
     "name": "stderr",
     "output_type": "stream",
     "text": [
      "100%|██████████| 50/50 [00:00<00:00, 113.24it/s, loss=4.995e+01]\n"
     ]
    },
    {
     "name": "stdout",
     "output_type": "stream",
     "text": [
      "  Loss =  4.986e+01\n",
      "Epoch 17/20\n"
     ]
    },
    {
     "name": "stderr",
     "output_type": "stream",
     "text": [
      "100%|██████████| 50/50 [00:00<00:00, 116.83it/s, loss=4.918e+01]\n"
     ]
    },
    {
     "name": "stdout",
     "output_type": "stream",
     "text": [
      "  Loss =  4.988e+01\n",
      "Epoch 18/20\n"
     ]
    },
    {
     "name": "stderr",
     "output_type": "stream",
     "text": [
      "100%|██████████| 50/50 [00:00<00:00, 118.76it/s, loss=4.760e+01]\n"
     ]
    },
    {
     "name": "stdout",
     "output_type": "stream",
     "text": [
      "  Loss =  4.984e+01\n",
      "Epoch 19/20\n"
     ]
    },
    {
     "name": "stderr",
     "output_type": "stream",
     "text": [
      "100%|██████████| 50/50 [00:00<00:00, 128.01it/s, loss=5.010e+01]\n"
     ]
    },
    {
     "name": "stdout",
     "output_type": "stream",
     "text": [
      "  Loss =  4.977e+01\n",
      "Epoch 20/20\n"
     ]
    },
    {
     "name": "stderr",
     "output_type": "stream",
     "text": [
      "100%|██████████| 50/50 [00:00<00:00, 118.95it/s, loss=4.839e+01]\n"
     ]
    },
    {
     "name": "stdout",
     "output_type": "stream",
     "text": [
      "  Loss =  4.988e+01\n"
     ]
    }
   ],
   "source": [
    "N_epoch = 20\n",
    "beta2 = 0.99\n",
    "eta = 0.1 #0.1 #0.1/0.001/0.01/0.15\n",
    "D0 = jnp.diag(hessianF(x0)) # Cheating a bit\n",
    "                       \n",
    "alpha = 0.1 #0.1 # 0.01\n",
    "\n",
    "key, subkey = random.split(key)\n",
    "x_osa, loss_osa = oasis_adaptive(subkey, Fidx, gradFidx, hvpFidx, x0, eta, D0, beta2, alpha, N_epoch, batch_size = 20, N = N, iter_display = 1)\n"
   ]
  },
  {
   "cell_type": "code",
   "execution_count": 110,
   "id": "4952b15f-88ce-4e16-9413-78b54c5014c3",
   "metadata": {},
   "outputs": [
    {
     "name": "stdout",
     "output_type": "stream",
     "text": [
      "Epoch 1/10\n"
     ]
    },
    {
     "name": "stderr",
     "output_type": "stream",
     "text": [
      "100%|██████████| 1/1 [00:01<00:00,  1.29s/it, loss=1.630e+06]\n"
     ]
    },
    {
     "name": "stdout",
     "output_type": "stream",
     "text": [
      "  Loss =  1.630e+06\n",
      "Epoch 2/10\n"
     ]
    },
    {
     "name": "stderr",
     "output_type": "stream",
     "text": [
      "100%|██████████| 1/1 [00:00<00:00, 71.04it/s, loss=1.327e+06]\n"
     ]
    },
    {
     "name": "stdout",
     "output_type": "stream",
     "text": [
      "  Loss =  1.327e+06\n",
      "Epoch 3/10\n"
     ]
    },
    {
     "name": "stderr",
     "output_type": "stream",
     "text": [
      "100%|██████████| 1/1 [00:00<00:00, 85.01it/s, loss=1.086e+06]\n"
     ]
    },
    {
     "name": "stdout",
     "output_type": "stream",
     "text": [
      "  Loss =  1.086e+06\n",
      "Epoch 4/10\n"
     ]
    },
    {
     "name": "stderr",
     "output_type": "stream",
     "text": [
      "100%|██████████| 1/1 [00:00<00:00, 87.09it/s, loss=8.922e+05]\n"
     ]
    },
    {
     "name": "stdout",
     "output_type": "stream",
     "text": [
      "  Loss =  8.922e+05\n",
      "Epoch 5/10\n"
     ]
    },
    {
     "name": "stderr",
     "output_type": "stream",
     "text": [
      "100%|██████████| 1/1 [00:00<00:00, 89.33it/s, loss=7.353e+05]\n"
     ]
    },
    {
     "name": "stdout",
     "output_type": "stream",
     "text": [
      "  Loss =  7.353e+05\n",
      "Epoch 6/10\n"
     ]
    },
    {
     "name": "stderr",
     "output_type": "stream",
     "text": [
      "100%|██████████| 1/1 [00:00<00:00, 75.94it/s, loss=6.076e+05]\n"
     ]
    },
    {
     "name": "stdout",
     "output_type": "stream",
     "text": [
      "  Loss =  6.076e+05\n",
      "Epoch 7/10\n"
     ]
    },
    {
     "name": "stderr",
     "output_type": "stream",
     "text": [
      "100%|██████████| 1/1 [00:00<00:00, 81.34it/s, loss=5.032e+05]\n"
     ]
    },
    {
     "name": "stdout",
     "output_type": "stream",
     "text": [
      "  Loss =  5.032e+05\n",
      "Epoch 8/10\n"
     ]
    },
    {
     "name": "stderr",
     "output_type": "stream",
     "text": [
      "100%|██████████| 1/1 [00:00<00:00, 100.09it/s, loss=4.175e+05]\n"
     ]
    },
    {
     "name": "stdout",
     "output_type": "stream",
     "text": [
      "  Loss =  4.175e+05\n",
      "Epoch 9/10\n"
     ]
    },
    {
     "name": "stderr",
     "output_type": "stream",
     "text": [
      "100%|██████████| 1/1 [00:00<00:00, 86.87it/s, loss=3.470e+05]\n"
     ]
    },
    {
     "name": "stdout",
     "output_type": "stream",
     "text": [
      "  Loss =  3.470e+05\n",
      "Epoch 10/10\n"
     ]
    },
    {
     "name": "stderr",
     "output_type": "stream",
     "text": [
      "100%|██████████| 1/1 [00:00<00:00, 86.40it/s, loss=2.887e+05]"
     ]
    },
    {
     "name": "stdout",
     "output_type": "stream",
     "text": [
      "  Loss =  2.887e+05\n"
     ]
    },
    {
     "name": "stderr",
     "output_type": "stream",
     "text": [
      "\n"
     ]
    }
   ],
   "source": [
    "N_epoch = 10\n",
    "beta2 = 0.99\n",
    "eta = 0.1 #0.1 #0.1/0.001/0.01/0.15\n",
    "D0 = jnp.diag(hessianF(x0)) # Cheating a bit\n",
    "                       \n",
    "alpha = 0.1 #0.1 # 0.01\n",
    "\n",
    "key, subkey = random.split(key)\n",
    "x_o, loss_o = oasis(subkey, Fidx, gradFidx, hvpFidx, x0, eta, D0, beta2, alpha, N_epoch, batch_size = None, N=N, iter_display = 1)"
   ]
  },
  {
   "cell_type": "code",
   "execution_count": 111,
   "id": "c29a92b9-ef4b-4d19-8e5f-97cf38972a38",
   "metadata": {},
   "outputs": [
    {
     "name": "stdout",
     "output_type": "stream",
     "text": [
      "Epoch 1/10\n"
     ]
    },
    {
     "name": "stderr",
     "output_type": "stream",
     "text": [
      "100%|██████████| 1/1 [00:00<00:00, 68.69it/s, loss=1.750e+06]\n"
     ]
    },
    {
     "name": "stdout",
     "output_type": "stream",
     "text": [
      "  Loss =  1.750e+06\n",
      "Epoch 2/10\n"
     ]
    },
    {
     "name": "stderr",
     "output_type": "stream",
     "text": [
      "100%|██████████| 1/1 [00:00<00:00, 64.80it/s, loss=1.461e+06]\n"
     ]
    },
    {
     "name": "stdout",
     "output_type": "stream",
     "text": [
      "  Loss =  1.461e+06\n",
      "Epoch 3/10\n"
     ]
    },
    {
     "name": "stderr",
     "output_type": "stream",
     "text": [
      "100%|██████████| 1/1 [00:00<00:00, 56.39it/s, loss=1.113e+06]\n"
     ]
    },
    {
     "name": "stdout",
     "output_type": "stream",
     "text": [
      "  Loss =  1.113e+06\n",
      "Epoch 4/10\n"
     ]
    },
    {
     "name": "stderr",
     "output_type": "stream",
     "text": [
      "100%|██████████| 1/1 [00:00<00:00, 72.40it/s, loss=7.208e+05]\n"
     ]
    },
    {
     "name": "stdout",
     "output_type": "stream",
     "text": [
      "  Loss =  7.208e+05\n",
      "Epoch 5/10\n"
     ]
    },
    {
     "name": "stderr",
     "output_type": "stream",
     "text": [
      "100%|██████████| 1/1 [00:00<00:00, 61.45it/s, loss=3.507e+05]\n"
     ]
    },
    {
     "name": "stdout",
     "output_type": "stream",
     "text": [
      "  Loss =  3.507e+05\n",
      "Epoch 6/10\n"
     ]
    },
    {
     "name": "stderr",
     "output_type": "stream",
     "text": [
      "100%|██████████| 1/1 [00:00<00:00, 70.37it/s, loss=1.141e+05]\n"
     ]
    },
    {
     "name": "stdout",
     "output_type": "stream",
     "text": [
      "  Loss =  1.141e+05\n",
      "Epoch 7/10\n"
     ]
    },
    {
     "name": "stderr",
     "output_type": "stream",
     "text": [
      "100%|██████████| 1/1 [00:00<00:00, 71.67it/s, loss=3.971e+04]\n"
     ]
    },
    {
     "name": "stdout",
     "output_type": "stream",
     "text": [
      "  Loss =  3.971e+04\n",
      "Epoch 8/10\n"
     ]
    },
    {
     "name": "stderr",
     "output_type": "stream",
     "text": [
      "100%|██████████| 1/1 [00:00<00:00, 59.40it/s, loss=3.349e+04]\n"
     ]
    },
    {
     "name": "stdout",
     "output_type": "stream",
     "text": [
      "  Loss =  3.349e+04\n",
      "Epoch 9/10\n"
     ]
    },
    {
     "name": "stderr",
     "output_type": "stream",
     "text": [
      "100%|██████████| 1/1 [00:00<00:00, 77.15it/s, loss=1.996e+04]"
     ]
    },
    {
     "name": "stdout",
     "output_type": "stream",
     "text": [
      "  Loss =  1.996e+04\n",
      "Epoch 10/10\n"
     ]
    },
    {
     "name": "stderr",
     "output_type": "stream",
     "text": [
      "\n",
      "100%|██████████| 1/1 [00:00<00:00, 73.54it/s, loss=1.719e+04]"
     ]
    },
    {
     "name": "stdout",
     "output_type": "stream",
     "text": [
      "  Loss =  1.719e+04\n"
     ]
    },
    {
     "name": "stderr",
     "output_type": "stream",
     "text": [
      "\n"
     ]
    }
   ],
   "source": [
    "N_epoch = 10\n",
    "beta2 = 0.99\n",
    "eta = 0.1 #0.1 #0.1/0.001/0.01/0.15\n",
    "D0 = jnp.diag(hessianF(x0)) # Cheating a bit\n",
    "                       \n",
    "alpha = 0.1 #0.1 # 0.01\n",
    "\n",
    "key, subkey = random.split(key)\n",
    "x_oa, loss_oa = oasis_adaptive(subkey, Fidx, gradFidx, hvpFidx, x0, eta, D0, beta2, alpha, N_epoch, batch_size = None, N=N, iter_display = 1)\n"
   ]
  },
  {
   "cell_type": "code",
   "execution_count": 114,
   "id": "190efe4d-8fdb-4e33-99eb-feb74a4b0ec4",
   "metadata": {},
   "outputs": [
    {
     "name": "stdout",
     "output_type": "stream",
     "text": [
      "Epoch 1/20 "
     ]
    },
    {
     "name": "stderr",
     "output_type": "stream",
     "text": [
      "100%|██████████| 50/50 [00:00<00:00, 477.26it/s, grad=2.888e+04, loss=1.525e+05]\n"
     ]
    },
    {
     "name": "stdout",
     "output_type": "stream",
     "text": [
      "  |Grad| = 7.729e+04\n",
      "  Loss = 7.702e+05\n",
      "Epoch 2/20 "
     ]
    },
    {
     "name": "stderr",
     "output_type": "stream",
     "text": [
      "100%|██████████| 50/50 [00:00<00:00, 495.74it/s, grad=9.661e+03, loss=1.436e+04]\n"
     ]
    },
    {
     "name": "stdout",
     "output_type": "stream",
     "text": [
      "  |Grad| = 1.917e+04\n",
      "  Loss = 5.234e+04\n",
      "Epoch 3/20 "
     ]
    },
    {
     "name": "stderr",
     "output_type": "stream",
     "text": [
      "100%|██████████| 50/50 [00:00<00:00, 607.00it/s, grad=3.096e+03, loss=1.163e+03]\n"
     ]
    },
    {
     "name": "stdout",
     "output_type": "stream",
     "text": [
      "  |Grad| = 5.510e+03\n",
      "  Loss = 4.406e+03\n",
      "Epoch 4/20 "
     ]
    },
    {
     "name": "stderr",
     "output_type": "stream",
     "text": [
      "100%|██████████| 50/50 [00:00<00:00, 530.13it/s, grad=9.070e+02, loss=1.407e+02]\n"
     ]
    },
    {
     "name": "stdout",
     "output_type": "stream",
     "text": [
      "  |Grad| = 1.655e+03\n",
      "  Loss = 4.576e+02\n",
      "Epoch 5/20 "
     ]
    },
    {
     "name": "stderr",
     "output_type": "stream",
     "text": [
      "100%|██████████| 50/50 [00:00<00:00, 522.27it/s, grad=2.939e+02, loss=6.418e+01]\n"
     ]
    },
    {
     "name": "stdout",
     "output_type": "stream",
     "text": [
      "  |Grad| = 5.589e+02\n",
      "  Loss = 9.163e+01\n",
      "Epoch 6/20 "
     ]
    },
    {
     "name": "stderr",
     "output_type": "stream",
     "text": [
      "100%|██████████| 50/50 [00:00<00:00, 460.01it/s, grad=1.374e+02, loss=5.420e+01]\n"
     ]
    },
    {
     "name": "stdout",
     "output_type": "stream",
     "text": [
      "  |Grad| = 2.136e+02\n",
      "  Loss = 5.457e+01\n",
      "Epoch 7/20 "
     ]
    },
    {
     "name": "stderr",
     "output_type": "stream",
     "text": [
      "100%|██████████| 50/50 [00:00<00:00, 445.65it/s, grad=1.024e+02, loss=5.195e+01]\n"
     ]
    },
    {
     "name": "stdout",
     "output_type": "stream",
     "text": [
      "  |Grad| = 1.183e+02\n",
      "  Loss = 5.059e+01\n",
      "Epoch 8/20 "
     ]
    },
    {
     "name": "stderr",
     "output_type": "stream",
     "text": [
      "100%|██████████| 50/50 [00:00<00:00, 491.76it/s, grad=9.801e+01, loss=5.066e+01]\n"
     ]
    },
    {
     "name": "stdout",
     "output_type": "stream",
     "text": [
      "  |Grad| = 1.041e+02\n",
      "  Loss = 5.013e+01\n",
      "Epoch 9/20 "
     ]
    },
    {
     "name": "stderr",
     "output_type": "stream",
     "text": [
      "100%|██████████| 50/50 [00:00<00:00, 537.85it/s, grad=1.043e+02, loss=5.151e+01]\n"
     ]
    },
    {
     "name": "stdout",
     "output_type": "stream",
     "text": [
      "  |Grad| = 1.050e+02\n",
      "  Loss = 5.008e+01\n",
      "Epoch 10/20 "
     ]
    },
    {
     "name": "stderr",
     "output_type": "stream",
     "text": [
      "100%|██████████| 50/50 [00:00<00:00, 513.90it/s, grad=9.266e+01, loss=5.124e+01]\n"
     ]
    },
    {
     "name": "stdout",
     "output_type": "stream",
     "text": [
      "  |Grad| = 1.043e+02\n",
      "  Loss = 5.007e+01\n",
      "Epoch 11/20 "
     ]
    },
    {
     "name": "stderr",
     "output_type": "stream",
     "text": [
      "100%|██████████| 50/50 [00:00<00:00, 474.38it/s, grad=9.566e+01, loss=5.085e+01]\n"
     ]
    },
    {
     "name": "stdout",
     "output_type": "stream",
     "text": [
      "  |Grad| = 1.068e+02\n",
      "  Loss = 5.006e+01\n",
      "Epoch 12/20 "
     ]
    },
    {
     "name": "stderr",
     "output_type": "stream",
     "text": [
      "100%|██████████| 50/50 [00:00<00:00, 510.22it/s, grad=1.010e+02, loss=4.816e+01]\n"
     ]
    },
    {
     "name": "stdout",
     "output_type": "stream",
     "text": [
      "  |Grad| = 1.069e+02\n",
      "  Loss = 5.007e+01\n",
      "Epoch 13/20 "
     ]
    },
    {
     "name": "stderr",
     "output_type": "stream",
     "text": [
      "100%|██████████| 50/50 [00:00<00:00, 471.85it/s, grad=7.677e+01, loss=4.628e+01]\n"
     ]
    },
    {
     "name": "stdout",
     "output_type": "stream",
     "text": [
      "  |Grad| = 1.032e+02\n",
      "  Loss = 5.007e+01\n",
      "Epoch 14/20 "
     ]
    },
    {
     "name": "stderr",
     "output_type": "stream",
     "text": [
      "100%|██████████| 50/50 [00:00<00:00, 504.28it/s, grad=9.795e+01, loss=5.283e+01]\n"
     ]
    },
    {
     "name": "stdout",
     "output_type": "stream",
     "text": [
      "  |Grad| = 1.034e+02\n",
      "  Loss = 5.007e+01\n",
      "Epoch 15/20 "
     ]
    },
    {
     "name": "stderr",
     "output_type": "stream",
     "text": [
      "100%|██████████| 50/50 [00:00<00:00, 482.11it/s, grad=1.290e+02, loss=4.890e+01]\n"
     ]
    },
    {
     "name": "stdout",
     "output_type": "stream",
     "text": [
      "  |Grad| = 1.026e+02\n",
      "  Loss = 5.007e+01\n",
      "Epoch 16/20 "
     ]
    },
    {
     "name": "stderr",
     "output_type": "stream",
     "text": [
      "100%|██████████| 50/50 [00:00<00:00, 553.99it/s, grad=1.361e+02, loss=4.965e+01]\n"
     ]
    },
    {
     "name": "stdout",
     "output_type": "stream",
     "text": [
      "  |Grad| = 1.034e+02\n",
      "  Loss = 5.007e+01\n",
      "Epoch 17/20 "
     ]
    },
    {
     "name": "stderr",
     "output_type": "stream",
     "text": [
      "100%|██████████| 50/50 [00:00<00:00, 556.69it/s, grad=8.538e+01, loss=4.836e+01]\n"
     ]
    },
    {
     "name": "stdout",
     "output_type": "stream",
     "text": [
      "  |Grad| = 1.071e+02\n",
      "  Loss = 5.007e+01\n",
      "Epoch 18/20 "
     ]
    },
    {
     "name": "stderr",
     "output_type": "stream",
     "text": [
      "100%|██████████| 50/50 [00:00<00:00, 496.34it/s, grad=1.054e+02, loss=4.893e+01]\n"
     ]
    },
    {
     "name": "stdout",
     "output_type": "stream",
     "text": [
      "  |Grad| = 1.038e+02\n",
      "  Loss = 5.007e+01\n",
      "Epoch 19/20 "
     ]
    },
    {
     "name": "stderr",
     "output_type": "stream",
     "text": [
      "100%|██████████| 50/50 [00:00<00:00, 472.27it/s, grad=1.084e+02, loss=4.974e+01]\n"
     ]
    },
    {
     "name": "stdout",
     "output_type": "stream",
     "text": [
      "  |Grad| = 1.080e+02\n",
      "  Loss = 5.007e+01\n",
      "Epoch 20/20 "
     ]
    },
    {
     "name": "stderr",
     "output_type": "stream",
     "text": [
      "100%|██████████| 50/50 [00:00<00:00, 520.72it/s, grad=9.755e+01, loss=4.960e+01]\n"
     ]
    },
    {
     "name": "stdout",
     "output_type": "stream",
     "text": [
      "  |Grad| = 1.050e+02\n",
      "  Loss = 5.007e+01\n"
     ]
    }
   ],
   "source": [
    "N_epoch = 20\n",
    "beta2 = 0.99\n",
    "eta = 1e-6\n",
    "                       \n",
    "key, subkey = random.split(key)\n",
    "x_sgd, loss_sgd, _ = sgd(gradFidx, Fidx, N, x0, eta, N_epoch, batch_size = 20, verbose = True, iter_display = 1)"
   ]
  },
  {
   "cell_type": "code",
   "execution_count": 115,
   "id": "12fe04dd-5169-408e-afa5-2313903faf06",
   "metadata": {},
   "outputs": [
    {
     "data": {
      "image/png": "[encoded data removed]",
      "text/plain": [
       "<Figure size 864x432 with 2 Axes>"
      ]
     },
     "metadata": {
      "needs_background": "light"
     },
     "output_type": "display_data"
    }
   ],
   "source": [
    "plt.rcParams[\"figure.figsize\"]=12, 6\n",
    "\n",
    "plt.subplot(1,2,1)\n",
    "plt.semilogy(loss_sgd)\n",
    "#plt.semilogy(loss_o)\n",
    "plt.semilogy(loss_os)\n",
    "#plt.semilogy(loss_oa)\n",
    "plt.semilogy(loss_osa)\n",
    "#plt.legend([\"SGD\", \"OASIS fixed rate, deterministic\", \"OASIS fixed_rate, stochastic\", \"OASIS adaptive, deterministic\", \"OASIS adaptive, stochastic\"])\n",
    "plt.legend([\"SGD\", \"OASIS fixed_rate, stochastic\", \"OASIS adaptive, stochastic\"])\n",
    "plt.title(\"Loss\")\n",
    "\n",
    "plt.subplot(1,2,2)\n",
    "plt.semilogy(jnp.abs(x_sgd-x_gt))\n",
    "#plt.semilogy(jnp.abs(x_o-x_gt))\n",
    "plt.semilogy(jnp.abs(x_os-x_gt))\n",
    "#plt.semilogy(jnp.abs(x_oa-x_gt))\n",
    "plt.semilogy(jnp.abs(x_osa-x_gt))\n",
    "#plt.legend([\"SGD\", \"OASIS fixed rate, deterministic\", \"OASIS fixed_rate, stochastic\", \"OASIS adaptive, deterministic\", \"OASIS adaptive, stochastic\"])\n",
    "plt.legend([\"SGD\", \"OASIS fixed_rate, stochastic\", \"OASIS adaptive, stochastic\"])\n",
    "plt.title(\"Error\")\n",
    "\n",
    "plt.rcParams[\"figure.figsize\"]=6,6"
   ]
  },
  {
   "cell_type": "markdown",
   "id": "db4fd16c-014f-4de5-a06e-1669a7b81280",
   "metadata": {},
   "source": [
    "Next:\n",
    "\n",
    "* ~~Run the new OASIS algorithms on the old (deterministic one operator) toy problem~~\n",
    "* ~~Implement the adaptive version of the stochastic OASIS~~\n",
    "* ~~Add noise and rerun all the experiments~~\n",
    "* Make the Hessian illconditioned rather than the operator(s) $A$ (how? maybe not worth it)\n",
    "* Implement some kind of warm up /estimation of $D_0$\n",
    "* Run on CryoEM data"
   ]
  }
 ],
 "metadata": {
  "kernelspec": {
   "display_name": "Python 3 (ipykernel)",
   "language": "python",
   "name": "python3"
  },
  "language_info": {
   "codemirror_mode": {
    "name": "ipython",
    "version": 3
   },
   "file_extension": ".py",
   "mimetype": "text/x-python",
   "name": "python",
   "nbconvert_exporter": "python",
   "pygments_lexer": "ipython3",
   "version": "3.10.2"
  }
 },
 "nbformat": 4,
 "nbformat_minor": 5
}
