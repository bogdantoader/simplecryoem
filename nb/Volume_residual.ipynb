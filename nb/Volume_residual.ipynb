{
 "cells": [
  {
   "cell_type": "markdown",
   "id": "6b2e0621-a3a5-4dd5-be44-45573879a6c8",
   "metadata": {},
   "source": [
    "# Volume residual"
   ]
  },
  {
   "cell_type": "code",
   "execution_count": 1,
   "id": "a1180ad1-1f7d-4960-bb6c-40888c273212",
   "metadata": {},
   "outputs": [],
   "source": [
    "%load_ext autoreload\n",
    "%autoreload 2\n",
    "\n",
    "import time\n",
    "import pickle\n",
    "from jax.config import config\n",
    "config.update(\"jax_enable_x64\", True)"
   ]
  },
  {
   "cell_type": "code",
   "execution_count": 2,
   "id": "f34a0892-dcc3-4aa4-b077-cab7ab378c74",
   "metadata": {},
   "outputs": [],
   "source": [
    "import numpy as np\n",
    "import jax.numpy as jnp\n",
    "from  matplotlib import pyplot as plt\n",
    "from src.utils import *\n",
    "from src.projection import *\n",
    "from src.interpolate import *\n",
    "from src.jaxops import *\n",
    "from src.fsc import *\n",
    "from src.algorithm import *\n",
    "from src.ab_initio import ab_initio, ab_initio_mcmc\n",
    "from src.residual import get_volume_residual\n",
    "import jax\n",
    "\n",
    "import mrcfile\n",
    "\n",
    "plt.rcParams[\"figure.figsize\"]=6,6"
   ]
  },
  {
   "cell_type": "code",
   "execution_count": 3,
   "id": "933540f1-74bb-4f51-bfe0-29b9b8288b1c",
   "metadata": {},
   "outputs": [
    {
     "name": "stderr",
     "output_type": "stream",
     "text": [
      "/home/bt387/project/2021_CryoEMSolver7/external/pyem/pyem/star.py:531: FutureWarning: Columnar iteration over characters will be deprecated in future releases.\n",
      "  df[UCSF.IMAGE_INDEX], df[UCSF.IMAGE_PATH] = \\\n",
      "/home/bt387/project/2021_CryoEMSolver7/external/pyem/pyem/star.py:539: FutureWarning: Columnar iteration over characters will be deprecated in future releases.\n",
      "  df[UCSF.IMAGE_ORIGINAL_INDEX], df[UCSF.IMAGE_ORIGINAL_PATH] = \\\n"
     ]
    },
    {
     "name": "stdout",
     "output_type": "stream",
     "text": [
      "load_data: number of partcles:  26380\n",
      "load_data: data loaded, time:  41.032057762145996\n"
     ]
    }
   ],
   "source": [
    "data_dir = \"/gpfs/gibbs/pi/lederman/dge5/CrossValidationCryodrgnSet/\"\n",
    "star_file = \"Projections/crossvalidation1_sub/crossvalidation1_sub.star\"\n",
    "\n",
    "params0, imgs0 = load_data(data_dir, star_file, load_imgs = True, fourier = False)\n",
    "ctf_params0 = params0[\"ctf_params\"]\n",
    "pixel_size0 = params0[\"pixel_size\"]\n",
    "angles0 = params0[\"angles\"]\n",
    "shifts0 = params0[\"shifts\"]\n",
    "\n"
   ]
  },
  {
   "cell_type": "code",
   "execution_count": 4,
   "id": "cd8e5d02-47e6-498d-adc3-b5b1bb0c4abe",
   "metadata": {},
   "outputs": [
    {
     "name": "stdout",
     "output_type": "stream",
     "text": [
      "(26380, 320, 320)\n",
      "(26380,)\n",
      "(26380, 3)\n",
      "(26380, 2)\n",
      "(26380, 9)\n"
     ]
    }
   ],
   "source": [
    "print(imgs0.shape)\n",
    "print(pixel_size0.shape)\n",
    "print(angles0.shape)\n",
    "print(shifts0.shape)\n",
    "print(ctf_params0.shape)\n",
    "nx0 = imgs0.shape[-1]\n",
    "#plt.imshow(np.abs(jnp.fft.fftshift(imgs_f0[101]))); plt.colorbar()\n",
    "\n"
   ]
  },
  {
   "cell_type": "code",
   "execution_count": 5,
   "id": "fec3da4f-46ab-489c-b2a1-df4972d254bf",
   "metadata": {},
   "outputs": [],
   "source": [
    "N = imgs0.shape[0]\n",
    "\n",
    "if N < imgs0.shape[0]:\n",
    "    idxrand = np.random.permutation(imgs0.shape)[:N]\n",
    "else:\n",
    "    idxrand = jnp.arange(N)\n",
    "    \n",
    "imgs0 = imgs0[idxrand]\n",
    "pixel_size = pixel_size0[idxrand]\n",
    "angles = angles0[idxrand]\n",
    "shifts = shifts0[idxrand]\n",
    "ctf_params = ctf_params0[idxrand]\n",
    "\n",
    "#file2 = open(out_dir + '/idxrand','wb')\n",
    "#pickle.dump(idxrand, file2)\n",
    "#file2.close()"
   ]
  },
  {
   "cell_type": "code",
   "execution_count": 6,
   "id": "e0a93b0d-feb9-4efe-a6cd-454f0400e8be",
   "metadata": {},
   "outputs": [
    {
     "name": "stdout",
     "output_type": "stream",
     "text": [
      "72.21444416046143\n"
     ]
    }
   ],
   "source": [
    "t0 = time.time()\n",
    "imgs_f = np.array([np.fft.fft2(np.fft.ifftshift(img)) for img in imgs0])\n",
    "print(time.time()-t0)"
   ]
  },
  {
   "cell_type": "code",
   "execution_count": 7,
   "id": "08484637-f8bf-41e9-bf14-41d847bccce6",
   "metadata": {},
   "outputs": [
    {
     "name": "stdout",
     "output_type": "stream",
     "text": [
      "[2.38549618e-03 3.20000000e+02]\n"
     ]
    }
   ],
   "source": [
    "# Assume the pixel size is the same for all images\n",
    "nx = imgs_f.shape[-1]\n",
    "px = pixel_size[0]\n",
    "N = imgs_f.shape[0]\n",
    "\n",
    "x_grid = create_grid(nx, px)\n",
    "y_grid = x_grid\n",
    "z_grid = x_grid\n",
    "print(x_grid)"
   ]
  },
  {
   "cell_type": "markdown",
   "id": "c0879ff1-37b7-4bf7-8f59-fd4aed9027bc",
   "metadata": {},
   "source": [
    "### Crop images"
   ]
  },
  {
   "cell_type": "code",
   "execution_count": 8,
   "id": "0adc6062-2d75-4beb-8742-26f072599ef7",
   "metadata": {},
   "outputs": [
    {
     "name": "stdout",
     "output_type": "stream",
     "text": [
      "[2.38549618e-03 6.40000000e+01]\n"
     ]
    }
   ],
   "source": [
    "nx = 64\n",
    "imgs_f, x_grid = crop_fourier_images(imgs_f, x_grid, nx)\n",
    "\n",
    "y_grid = x_grid\n",
    "z_grid = x_grid\n",
    "print(x_grid)"
   ]
  },
  {
   "cell_type": "markdown",
   "id": "da6dbe17-db03-42d4-b9b3-61ca5101b79a",
   "metadata": {},
   "source": [
    "### More processing"
   ]
  },
  {
   "cell_type": "code",
   "execution_count": 9,
   "id": "f9065473-d928-452b-ba5f-1bdac3b31a2e",
   "metadata": {},
   "outputs": [
    {
     "name": "stdout",
     "output_type": "stream",
     "text": [
      "(26380, 4096)\n"
     ]
    }
   ],
   "source": [
    "imgs_f = imgs_f.reshape(N, -1)\n",
    "print(imgs_f.shape)"
   ]
  },
  {
   "cell_type": "code",
   "execution_count": 10,
   "id": "66eeaa8e-bf3f-4ff8-90c9-30ddcdd7bd5e",
   "metadata": {},
   "outputs": [
    {
     "data": {
      "text/plain": [
       "Text(0.5, 1.0, 'Estimated noise')"
      ]
     },
     "execution_count": 10,
     "metadata": {},
     "output_type": "execute_result"
    },
    {
     "data": {
      "image/png": "[encoded data removed]",
      "text/plain": [
       "<Figure size 432x432 with 2 Axes>"
      ]
     },
     "metadata": {
      "needs_background": "light"
     },
     "output_type": "display_data"
    }
   ],
   "source": [
    "N_noise = 48\n",
    "sigma_noise_estimated = estimate_noise_imgs(imgs0[:5000], nx_empty = N_noise, nx_final = nx).reshape([nx,nx])\n",
    "plt.imshow(jnp.fft.fftshift(sigma_noise_estimated)); plt.colorbar()\n",
    "plt.title('Estimated noise')"
   ]
  },
  {
   "cell_type": "code",
   "execution_count": 11,
   "id": "6060e0eb-a452-4b2c-ba20-1e1305287a64",
   "metadata": {},
   "outputs": [
    {
     "data": {
      "text/plain": [
       "<matplotlib.colorbar.Colorbar at 0x2b0bf7727580>"
      ]
     },
     "execution_count": 11,
     "metadata": {},
     "output_type": "execute_result"
    },
    {
     "data": {
      "image/png": "[encoded data removed]",
      "text/plain": [
       "<Figure size 432x432 with 2 Axes>"
      ]
     },
     "metadata": {
      "needs_background": "light"
     },
     "output_type": "display_data"
    }
   ],
   "source": [
    "sigma_noise_avg = average_radially(sigma_noise_estimated, x_grid)\n",
    "plt.imshow(jnp.fft.fftshift(sigma_noise_avg)); plt.colorbar()"
   ]
  },
  {
   "cell_type": "code",
   "execution_count": 12,
   "id": "e80d5643-b959-4eee-884a-6e81d51e642d",
   "metadata": {},
   "outputs": [],
   "source": [
    "sigma_noise = sigma_noise_avg.reshape(-1)"
   ]
  },
  {
   "cell_type": "markdown",
   "id": "1ad73006-79e6-4c7d-b5ca-f7c0be2ebd94",
   "metadata": {},
   "source": [
    "### Slice, loss, grad etc. functions "
   ]
  },
  {
   "cell_type": "code",
   "execution_count": 13,
   "id": "41411629-1e0b-4f3d-82cb-57b5e83a41d7",
   "metadata": {},
   "outputs": [
    {
     "data": {
      "image/png": "[encoded data removed]",
      "text/plain": [
       "<Figure size 432x432 with 2 Axes>"
      ]
     },
     "metadata": {
      "needs_background": "light"
     },
     "output_type": "display_data"
    }
   ],
   "source": [
    "alpha = 1e-9\n",
    "\n",
    "radius = 0.074\n",
    "mask = create_3d_mask(x_grid, (0,0,0),radius)\n",
    "mip_z(jnp.fft.fftshift(mask)); plt.colorbar()\n",
    "M = 1/jnp.max(sigma_noise)**2 * jnp.ones([nx, nx, nx])\n",
    "\n",
    "slice_func, slice_func_array, slice_func_array_angles = get_slice_funcs(project, x_grid, mask, \"tri\")\n",
    "loss_func, loss_func_batched, loss_func_sum = get_loss_funcs(slice_func, alpha = alpha)\n",
    "grad_loss_volume, grad_loss_volume_sum = get_grad_v_funcs(loss_func, loss_func_sum)"
   ]
  },
  {
   "cell_type": "code",
   "execution_count": null,
   "id": "bd32b806-76f8-40b2-b13d-c44a4d6a7b27",
   "metadata": {},
   "outputs": [],
   "source": [
    "N_batches = 600000\n",
    "#v_resid = get_volume_residual(v_rec, angles[N_train:N_train+2000], shifts[N_train:N_train+2000], ctf_params[N_train:N_train+2000], imgs_f[N_train:N_train+2000], sigma_noise, x_grid, slice_func_array, N_batches)\n",
    "\n",
    "v_resid_pert = get_volume_residual(imgs_f, angles, sigma_noise, x_grid, slice_func_array, N_batches)\n",
    "                 "
   ]
  },
  {
   "cell_type": "markdown",
   "id": "265c2016-4586-45fe-a757-a13ed45c9e5b",
   "metadata": {},
   "source": [
    "#### 100 images"
   ]
  },
  {
   "cell_type": "code",
   "execution_count": null,
   "id": "aa6ecdac-699e-4c39-9f14-814df0b1f687",
   "metadata": {},
   "outputs": [],
   "source": [
    "plt.imshow(jnp.fft.fftshift(v_resid_pert[:,:,0]*mask[:,:,0])); plt.colorbar()"
   ]
  },
  {
   "cell_type": "markdown",
   "id": "32c2c229-7ff3-4ace-b8a4-8e7b0f9e29a1",
   "metadata": {},
   "source": [
    "#### 1000 images"
   ]
  },
  {
   "cell_type": "code",
   "execution_count": null,
   "id": "3e39a658-3cd7-4f0b-8d09-3d4bc70370eb",
   "metadata": {},
   "outputs": [],
   "source": [
    "plt.imshow(jnp.fft.fftshift(v_resid_pert[:,:,0]*mask[:,:,0])); plt.colorbar()"
   ]
  },
  {
   "cell_type": "markdown",
   "id": "2ece007e-d180-4f52-ad78-0b41ceb46d0c",
   "metadata": {},
   "source": [
    "#### 10000 images"
   ]
  },
  {
   "cell_type": "code",
   "execution_count": null,
   "id": "ebfc8718-c6ec-441d-a0ab-a022f1d69a21",
   "metadata": {},
   "outputs": [],
   "source": [
    "plt.imshow(jnp.fft.fftshift(v_resid_pert[:,:,0]*mask[:,:,0])); plt.colorbar()"
   ]
  },
  {
   "cell_type": "code",
   "execution_count": null,
   "id": "ec7a3e88-dc49-4191-8463-1001833db11e",
   "metadata": {},
   "outputs": [],
   "source": [
    "v_resid_print = jnp.fft.fftshift(v_resid_pert*mask)\n",
    "with mrcfile.new('../data/cryodrgn_jupyter/v_resid_64_pert.mrc', overwrite=True) as mrc:\n",
    "    mrc.set_data(v_resid_print.astype(np.float32))"
   ]
  },
  {
   "cell_type": "code",
   "execution_count": null,
   "id": "684ac6e5-9efe-48d5-bfe0-7561be1a66ba",
   "metadata": {},
   "outputs": [],
   "source": []
  }
 ],
 "metadata": {
  "kernelspec": {
   "display_name": "Python 3 (ipykernel)",
   "language": "python",
   "name": "python3"
  },
  "language_info": {
   "codemirror_mode": {
    "name": "ipython",
    "version": 3
   },
   "file_extension": ".py",
   "mimetype": "text/x-python",
   "name": "python",
   "nbconvert_exporter": "python",
   "pygments_lexer": "ipython3",
   "version": "3.10.2"
  }
 },
 "nbformat": 4,
 "nbformat_minor": 5
}
