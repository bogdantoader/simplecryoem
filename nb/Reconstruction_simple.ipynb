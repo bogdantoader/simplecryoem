{
 "cells": [
  {
   "cell_type": "markdown",
   "id": "948b7b75-1352-460a-895f-0e42a38626dd",
   "metadata": {},
   "source": [
    "# Reconstruction from interpolated values with known locations"
   ]
  },
  {
   "cell_type": "code",
   "execution_count": 1,
   "id": "7be7f1ac-504f-4837-9fdf-e3912a11fbf0",
   "metadata": {},
   "outputs": [],
   "source": [
    "%load_ext autoreload\n",
    "%autoreload 2\n",
    "import site\n",
    "import sys\n",
    "import time\n",
    "site.addsitedir('..')\n",
    "from jax.config import config\n",
    "\n",
    "config.update(\"jax_enable_x64\", True)"
   ]
  },
  {
   "cell_type": "code",
   "execution_count": 2,
   "id": "cc43267e-10a5-493b-837a-c4e226fce08f",
   "metadata": {},
   "outputs": [],
   "source": [
    "import numpy as np\n",
    "import jax.numpy as jnp\n",
    "from  matplotlib import pyplot as plt\n",
    "from src.interpolate import *\n",
    "from src.algorithm import conjugate_gradient\n",
    "import jax\n",
    "from src.utils import mip_z"
   ]
  },
  {
   "cell_type": "markdown",
   "id": "99ab04b2-17f8-4d07-88f7-b66b30dc21dc",
   "metadata": {},
   "source": [
    "Create the grids and the volume"
   ]
  },
  {
   "cell_type": "code",
   "execution_count": 3,
   "id": "4c9e6fcd-01b7-4835-a20a-817c01325194",
   "metadata": {},
   "outputs": [],
   "source": [
    "nx = 5\n",
    "\n",
    "x_freq = jnp.fft.fftfreq(nx, 1/nx)\n",
    "y_freq = x_freq\n",
    "z_freq = x_freq\n",
    "\n",
    "X, Y, Z = jnp.meshgrid(x_freq, y_freq, z_freq)\n",
    "\n",
    "\n",
    "x_grid = np.array([x_freq[1], len(x_freq)])\n",
    "y_grid = np.array([y_freq[1], len(y_freq)])\n",
    "z_grid = np.array([z_freq[1], len(z_freq)])\n",
    "\n",
    "vol = jnp.array(np.random.randn(nx,nx,nx)) + 100\n",
    "\n",
    "all_coords = jnp.array([X.ravel(), Y.ravel(), Z.ravel()])"
   ]
  },
  {
   "cell_type": "markdown",
   "id": "d0f9ed19-56a6-4926-883a-274adbc24f1d",
   "metadata": {},
   "source": [
    "Generate points on or off the grid"
   ]
  },
  {
   "cell_type": "code",
   "execution_count": 4,
   "id": "74836556-3ff3-4195-8f0a-6caf70351340",
   "metadata": {},
   "outputs": [],
   "source": [
    "N = 2000\n",
    "\n",
    "# The points will be on the grid between low and high. \n",
    "# Going outside the range by half, to ensure wrap-around works well.\n",
    "low = -3*nx\n",
    "high = 3*nx\n",
    "\n",
    "# Actually not going outside the range for now\n",
    "#low = -nx/2\n",
    "#high = nx/2\n",
    "\n",
    "#pts = jnp.array(np.random.randint(low, high, size = (3,N))).astype(jnp.float64)\n",
    "\n",
    "# Points between grid points\n",
    "pts = 3*nx * np.random.randn(3,N)\n"
   ]
  },
  {
   "cell_type": "code",
   "execution_count": 5,
   "id": "49988c40-a8e6-49a8-8121-999f3bcc10bf",
   "metadata": {},
   "outputs": [],
   "source": [
    "@jax.jit\n",
    "def interpolate_fun(vol):\n",
    "    return interpolate(pts, x_grid, y_grid, z_grid, vol, \"tri\")"
   ]
  },
  {
   "cell_type": "markdown",
   "id": "af842485-3d9b-4b22-9a4f-6e7ebd2a11ce",
   "metadata": {},
   "source": [
    "The interpolated values, i.e. the data. When the points above are on the grid, this is the volume."
   ]
  },
  {
   "cell_type": "code",
   "execution_count": 6,
   "id": "7c21c1a6-7802-43e3-b0bd-f0ab9dd7c729",
   "metadata": {},
   "outputs": [],
   "source": [
    "data = interpolate_fun(vol)"
   ]
  },
  {
   "cell_type": "code",
   "execution_count": 7,
   "id": "7175ed24-3e70-49f5-a1b9-ed052ed9c17c",
   "metadata": {},
   "outputs": [],
   "source": [
    "@jax.jit\n",
    "def loss_fun(v):\n",
    "    return 1/(2*len(data))*jnp.sum((interpolate_fun(v) - data)**2)\n",
    "\n",
    "@jax.jit\n",
    "def loss_fun_grad(v):\n",
    "    return jax.grad(loss_fun)(v)"
   ]
  },
  {
   "cell_type": "code",
   "execution_count": 8,
   "id": "a24b3931-c3b1-43bc-83f8-cd276ebbb25c",
   "metadata": {},
   "outputs": [
    {
     "data": {
      "text/plain": [
       "DeviceArray(0., dtype=float64)"
      ]
     },
     "execution_count": 8,
     "metadata": {},
     "output_type": "execute_result"
    }
   ],
   "source": [
    "loss_fun(vol)"
   ]
  },
  {
   "cell_type": "code",
   "execution_count": 9,
   "id": "5cadd6b1-30df-4a15-9c75-cad583071074",
   "metadata": {},
   "outputs": [
    {
     "data": {
      "text/plain": [
       "(5, 5, 5)"
      ]
     },
     "execution_count": 9,
     "metadata": {},
     "output_type": "execute_result"
    }
   ],
   "source": [
    "loss_fun_grad(vol).shape"
   ]
  },
  {
   "cell_type": "markdown",
   "id": "56029f62-752d-4779-9f61-d650c574dade",
   "metadata": {},
   "source": [
    "And solve the inverse problem"
   ]
  },
  {
   "cell_type": "code",
   "execution_count": 10,
   "id": "85bb8f78-63a7-42cb-9020-e66f29d47d00",
   "metadata": {},
   "outputs": [
    {
     "name": "stdout",
     "output_type": "stream",
     "text": [
      "iter  0 , loss =  197.5650115972626\n",
      "iter  100 , loss =  7.114944364811719e-06\n",
      "iter  200 , loss =  4.246194136691046e-09\n",
      "iter  300 , loss =  3.071253985583201e-12\n",
      "iter  400 , loss =  2.2856403460897854e-15\n",
      "iter  500 , loss =  1.7127486624861303e-18\n",
      "iter  600 , loss =  1.2864654141846269e-21\n",
      "iter  700 , loss =  9.669405116672652e-25\n",
      "iter  800 , loss =  1.0234744493209826e-27\n",
      "iter  900 , loss =  4.138427417661846e-28\n",
      "iter  1000 , loss =  4.138427417661846e-28\n",
      "iter  1100 , loss =  4.138427417661846e-28\n",
      "iter  1200 , loss =  4.138427417661846e-28\n",
      "iter  1300 , loss =  4.138427417661846e-28\n",
      "iter  1400 , loss =  4.138427417661846e-28\n",
      "iter  1500 , loss =  4.138427417661846e-28\n",
      "iter  1600 , loss =  4.138427417661846e-28\n",
      "iter  1700 , loss =  4.138427417661846e-28\n",
      "iter  1800 , loss =  4.138427417661846e-28\n",
      "iter  1900 , loss =  4.138427417661846e-28\n",
      "err = 1.0470557754160837e-13\n"
     ]
    }
   ],
   "source": [
    "v0 = jnp.array(np.random.randn(nx,nx,nx))\n",
    "#v0 = vol + 0.1*np.random.randn(nx,nx,nx)\n",
    "\n",
    "\n",
    "vk = v0\n",
    "N_iter = 2000\n",
    "alpha = 100\n",
    "for k in range(N_iter):\n",
    "    vk = vk - alpha * loss_fun_grad(vk)\n",
    "    \n",
    "    if jnp.mod(k,100) == 0:\n",
    "        loss = loss_fun(vk)\n",
    "        print(\"iter \", k, \", loss = \", loss)\n",
    "\n",
    "err = jnp.mean(jnp.abs(vk-vol))\n",
    "print(\"err =\", err)"
   ]
  },
  {
   "cell_type": "code",
   "execution_count": 11,
   "id": "8c08118d-6714-4931-bb2b-70fc7493121d",
   "metadata": {},
   "outputs": [
    {
     "data": {
      "text/plain": [
       "DeviceArray(1.04705578e-13, dtype=float64)"
      ]
     },
     "execution_count": 11,
     "metadata": {},
     "output_type": "execute_result"
    }
   ],
   "source": [
    "jnp.mean(jnp.abs(vk-vol))"
   ]
  },
  {
   "cell_type": "code",
   "execution_count": 12,
   "id": "de264220-f674-468c-8f9b-ea726f7cc62d",
   "metadata": {},
   "outputs": [
    {
     "name": "stdout",
     "output_type": "stream",
     "text": [
      "Iter 0 ||r|| = 0.5433335111973929\n",
      "Iter 1 ||r|| = 0.17033140194651533\n",
      "Iter 2 ||r|| = 0.06299527291969312\n",
      "Iter 3 ||r|| = 0.02835262999559435\n",
      "Iter 4 ||r|| = 0.01654688960755851\n",
      "Iter 5 ||r|| = 0.010126006269190992\n",
      "Iter 6 ||r|| = 0.0051273733375634175\n",
      "Iter 7 ||r|| = 0.003014525261038509\n",
      "Iter 8 ||r|| = 0.0017783121354024917\n",
      "Iter 9 ||r|| = 0.0012745583766309836\n",
      "Iter 10 ||r|| = 0.0008379696159835487\n",
      "Iter 11 ||r|| = 0.0005625667629377647\n",
      "Iter 12 ||r|| = 0.00033549928016624416\n",
      "Iter 13 ||r|| = 0.0002515352752152086\n",
      "Iter 14 ||r|| = 0.00014084130462132892\n",
      "Iter 15 ||r|| = 8.015050056803218e-05\n",
      "Iter 16 ||r|| = 5.154101317950883e-05\n",
      "Iter 17 ||r|| = 3.2301895216020814e-05\n",
      "Iter 18 ||r|| = 2.0895866165151074e-05\n",
      "Iter 19 ||r|| = 1.3639403757749954e-05\n",
      "Iter 20 ||r|| = 8.899939064961428e-06\n",
      "Iter 21 ||r|| = 5.041797005316252e-06\n",
      "Iter 22 ||r|| = 2.7971540031916253e-06\n",
      "Iter 23 ||r|| = 1.391775348655293e-06\n",
      "Iter 24 ||r|| = 8.453442106579741e-07\n",
      "Iter 25 ||r|| = 5.123527600919914e-07\n",
      "Iter 26 ||r|| = 3.29205664391728e-07\n",
      "Iter 27 ||r|| = 2.60277944503741e-07\n",
      "Iter 28 ||r|| = 1.777667020420764e-07\n",
      "Iter 29 ||r|| = 9.104984204213477e-08\n",
      "Iter 30 ||r|| = 4.671466837092413e-08\n",
      "Iter 31 ||r|| = 2.3503696066990442e-08\n",
      "Iter 32 ||r|| = 1.3451502733315762e-08\n",
      "Iter 33 ||r|| = 9.355958868358378e-09\n",
      "Iter 34 ||r|| = 5.652528025313933e-09\n",
      "Iter 35 ||r|| = 2.950957529558727e-09\n",
      "Iter 36 ||r|| = 1.865242843079249e-09\n",
      "Iter 37 ||r|| = 1.011828027331645e-09\n",
      "Iter 38 ||r|| = 6.685621272448661e-10\n",
      "Iter 39 ||r|| = 4.0744724609985735e-10\n",
      "Iter 40 ||r|| = 2.2471244561404225e-10\n",
      "Iter 41 ||r|| = 1.850851996479639e-10\n",
      "Iter 42 ||r|| = 1.0370912275131357e-10\n",
      "Iter 43 ||r|| = 5.834024631057473e-11\n",
      "Iter 44 ||r|| = 3.518524825678004e-11\n",
      "Iter 45 ||r|| = 2.0979004882756178e-11\n",
      "Iter 46 ||r|| = 1.2042848964876164e-11\n",
      "Iter 47 ||r|| = 5.0076316495814695e-12\n",
      "Iter 48 ||r|| = 4.550006756300133e-12\n",
      "Iter 49 ||r|| = 2.556991553267708e-12\n",
      "Iter 50 ||r|| = 1.7747672293460489e-12\n",
      "Iter 51 ||r|| = 1.3695555498656784e-12\n",
      "Iter 52 ||r|| = 1.4162282756520963e-12\n",
      "Iter 53 ||r|| = 9.521778951505806e-13\n",
      "Iter 54 ||r|| = 9.149247994866206e-13\n",
      "Iter 55 ||r|| = 8.240737322066777e-13\n",
      "Iter 56 ||r|| = 7.443542714582858e-13\n",
      "Iter 57 ||r|| = 7.858367500183766e-13\n",
      "Iter 58 ||r|| = 7.258244535424982e-13\n",
      "Iter 59 ||r|| = 6.393717021582694e-13\n",
      "Iter 60 ||r|| = 6.565594064935027e-13\n",
      "Iter 61 ||r|| = 6.326077937865015e-13\n",
      "Iter 62 ||r|| = 5.516910299595466e-13\n",
      "Iter 63 ||r|| = 5.495499003933622e-13\n",
      "Iter 64 ||r|| = 5.531998429619206e-13\n",
      "Iter 65 ||r|| = 5.487047976335792e-13\n",
      "Iter 66 ||r|| = 5.455519683484754e-13\n",
      "Iter 67 ||r|| = 5.733425576684517e-13\n",
      "Iter 68 ||r|| = 5.63432613010431e-13\n",
      "Iter 69 ||r|| = 5.398663354192207e-13\n",
      "Iter 70 ||r|| = 5.206451397926826e-13\n",
      "Iter 71 ||r|| = 4.955158504571124e-13\n",
      "Iter 72 ||r|| = 5.027828354637791e-13\n",
      "Iter 73 ||r|| = 4.897410256523262e-13\n",
      "Iter 74 ||r|| = 4.855264802772663e-13\n",
      "Iter 75 ||r|| = 4.866521744003764e-13\n",
      "Iter 76 ||r|| = 4.986865970354123e-13\n",
      "Iter 77 ||r|| = 4.976799427396565e-13\n",
      "Iter 78 ||r|| = 5.039305572080533e-13\n",
      "Iter 79 ||r|| = 5.158160528820582e-13\n",
      "Iter 80 ||r|| = 5.202007000449913e-13\n",
      "Iter 81 ||r|| = 5.22832518221226e-13\n",
      "Iter 82 ||r|| = 5.045978273105081e-13\n",
      "Iter 83 ||r|| = 4.69659421069541e-13\n",
      "Iter 84 ||r|| = 4.3938690639312364e-13\n",
      "Iter 85 ||r|| = 4.0809710551520855e-13\n",
      "Iter 86 ||r|| = 3.9528929688981173e-13\n",
      "Iter 87 ||r|| = 3.869763726371629e-13\n",
      "Iter 88 ||r|| = 3.788143570883748e-13\n",
      "Iter 89 ||r|| = 3.7306873515101024e-13\n",
      "Iter 90 ||r|| = 3.6562534604976583e-13\n",
      "Iter 91 ||r|| = 3.643437155625744e-13\n",
      "Iter 92 ||r|| = 3.7948167005564146e-13\n",
      "Iter 93 ||r|| = 3.8868841731369627e-13\n",
      "Iter 94 ||r|| = 4.0136360553045473e-13\n",
      "Iter 95 ||r|| = 4.1612812062834546e-13\n",
      "Iter 96 ||r|| = 4.1748129082703775e-13\n",
      "Iter 97 ||r|| = 4.1938600492426976e-13\n",
      "Iter 98 ||r|| = 4.1317769491744507e-13\n",
      "Iter 99 ||r|| = 4.120883301171289e-13\n",
      "err = 2.365280920457735e-09\n"
     ]
    }
   ],
   "source": [
    "v0 = jnp.array(np.random.randn(nx,nx,nx))\n",
    "zero = jnp.zeros(vol.shape)\n",
    "AA = lambda a : loss_fun_grad(a) - loss_fun_grad(zero)\n",
    "b = - loss_fun_grad(zero)\n",
    "\n",
    "\n",
    "vcg, max_iter = conjugate_gradient(AA, b, v0, 100, verbose = True)\n",
    "err = jnp.mean(jnp.abs(vcg-vol))\n",
    "print(\"err =\", err)"
   ]
  }
 ],
 "metadata": {
  "kernelspec": {
   "display_name": "Python 3",
   "language": "python",
   "name": "python3"
  },
  "language_info": {
   "codemirror_mode": {
    "name": "ipython",
    "version": 3
   },
   "file_extension": ".py",
   "mimetype": "text/x-python",
   "name": "python",
   "nbconvert_exporter": "python",
   "pygments_lexer": "ipython3",
   "version": "3.6.9"
  }
 },
 "nbformat": 4,
 "nbformat_minor": 5
}
