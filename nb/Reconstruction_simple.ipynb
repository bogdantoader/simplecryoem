{
 "cells": [
  {
   "cell_type": "code",
   "execution_count": 20,
   "id": "7be7f1ac-504f-4837-9fdf-e3912a11fbf0",
   "metadata": {},
   "outputs": [
    {
     "name": "stdout",
     "output_type": "stream",
     "text": [
      "The autoreload extension is already loaded. To reload it, use:\n",
      "  %reload_ext autoreload\n"
     ]
    }
   ],
   "source": [
    "%load_ext autoreload\n",
    "%autoreload 2\n",
    "import site\n",
    "import sys\n",
    "import time\n",
    "site.addsitedir('..')\n",
    "from jax.config import config\n",
    "\n",
    "config.update(\"jax_enable_x64\", True)"
   ]
  },
  {
   "cell_type": "code",
   "execution_count": 21,
   "id": "cc43267e-10a5-493b-837a-c4e226fce08f",
   "metadata": {},
   "outputs": [],
   "source": [
    "import numpy as np\n",
    "import jax.numpy as jnp\n",
    "from  matplotlib import pyplot as plt\n",
    "from src.interpolate import *\n",
    "from src.algorithm import conjugate_gradient\n",
    "import jax\n"
   ]
  },
  {
   "cell_type": "markdown",
   "id": "99ab04b2-17f8-4d07-88f7-b66b30dc21dc",
   "metadata": {},
   "source": [
    "Create the grids and the volume"
   ]
  },
  {
   "cell_type": "code",
   "execution_count": 22,
   "id": "4c9e6fcd-01b7-4835-a20a-817c01325194",
   "metadata": {},
   "outputs": [],
   "source": [
    "nx = 128\n",
    "\n",
    "x_freq = jnp.fft.fftfreq(nx, 1/nx)\n",
    "y_freq = x_freq\n",
    "z_freq = x_freq\n",
    "\n",
    "X, Y, Z = jnp.meshgrid(x_freq, y_freq, z_freq)\n",
    "\n",
    "\n",
    "x_grid = np.array([x_freq[1], len(x_freq)])\n",
    "y_grid = np.array([y_freq[1], len(y_freq)])\n",
    "z_grid = np.array([z_freq[1], len(z_freq)])\n",
    "\n",
    "vol = jnp.array(np.random.randn(nx,nx,nx)) + 100\n",
    "\n",
    "all_coords = jnp.array([X.ravel(), Y.ravel(), Z.ravel()])"
   ]
  },
  {
   "cell_type": "markdown",
   "id": "d0f9ed19-56a6-4926-883a-274adbc24f1d",
   "metadata": {},
   "source": [
    "Generate points on the grid"
   ]
  },
  {
   "cell_type": "code",
   "execution_count": 23,
   "id": "74836556-3ff3-4195-8f0a-6caf70351340",
   "metadata": {},
   "outputs": [],
   "source": [
    "N = 10\n",
    "\n",
    "# The points will be on the grid between low and high. \n",
    "# Going outside the range by half, to ensure wrap-around works well.\n",
    "#low = -nx/2-nx/4\n",
    "#high = nx/2 + nx/4\n",
    "\n",
    "# Actually not going outside the range for now\n",
    "low = -nx/2\n",
    "high = nx/2\n",
    "\n",
    "pts = jnp.array(np.random.randint(low, high, size = (3,N))).astype(jnp.float64)\n"
   ]
  },
  {
   "cell_type": "code",
   "execution_count": 24,
   "id": "4fdbd29e-813f-4710-af8c-df664c0b37f7",
   "metadata": {},
   "outputs": [
    {
     "data": {
      "text/plain": [
       "(3, 10)"
      ]
     },
     "execution_count": 24,
     "metadata": {},
     "output_type": "execute_result"
    }
   ],
   "source": [
    "pts.shape"
   ]
  },
  {
   "cell_type": "code",
   "execution_count": 25,
   "id": "a8e9bc72-e6a0-40d7-909b-fe038ec80196",
   "metadata": {},
   "outputs": [
    {
     "data": {
      "text/plain": [
       "(3, 2097152)"
      ]
     },
     "execution_count": 25,
     "metadata": {},
     "output_type": "execute_result"
    }
   ],
   "source": [
    "all_coords.shape"
   ]
  },
  {
   "cell_type": "code",
   "execution_count": 26,
   "id": "49988c40-a8e6-49a8-8121-999f3bcc10bf",
   "metadata": {},
   "outputs": [],
   "source": [
    "@jax.jit\n",
    "def interpolate_fun(vol):\n",
    "    return interpolate(all_coords, x_grid, y_grid, z_grid, vol, \"tri\")"
   ]
  },
  {
   "cell_type": "markdown",
   "id": "af842485-3d9b-4b22-9a4f-6e7ebd2a11ce",
   "metadata": {},
   "source": [
    "The interpolated values, i.e. the data."
   ]
  },
  {
   "cell_type": "code",
   "execution_count": 27,
   "id": "7c21c1a6-7802-43e3-b0bd-f0ab9dd7c729",
   "metadata": {},
   "outputs": [],
   "source": [
    "data = interpolate_fun(vol)"
   ]
  },
  {
   "cell_type": "code",
   "execution_count": 28,
   "id": "7175ed24-3e70-49f5-a1b9-ed052ed9c17c",
   "metadata": {},
   "outputs": [],
   "source": [
    "@jax.jit\n",
    "def loss_fun(v):\n",
    "    return 1/(2*nx*nx*nx)*jnp.sum((interpolate_fun(v) - data)**2)\n",
    "\n",
    "@jax.jit\n",
    "def loss_fun_grad(v):\n",
    "    return jax.grad(loss_fun)(v)\n",
    "\n",
    "#@jax.jit\n",
    "#def loss_fun_grad_array(coords, ivals):\n",
    "#    return jax.vmap(loss_fun_grad, in_axes = (1, 0))(coords, ivals).T"
   ]
  },
  {
   "cell_type": "code",
   "execution_count": 29,
   "id": "a24b3931-c3b1-43bc-83f8-cd276ebbb25c",
   "metadata": {},
   "outputs": [
    {
     "data": {
      "text/plain": [
       "DeviceArray(0., dtype=float64)"
      ]
     },
     "execution_count": 29,
     "metadata": {},
     "output_type": "execute_result"
    }
   ],
   "source": [
    "loss_fun(vol)"
   ]
  },
  {
   "cell_type": "code",
   "execution_count": 30,
   "id": "5cadd6b1-30df-4a15-9c75-cad583071074",
   "metadata": {},
   "outputs": [
    {
     "data": {
      "text/plain": [
       "(128, 128, 128)"
      ]
     },
     "execution_count": 30,
     "metadata": {},
     "output_type": "execute_result"
    }
   ],
   "source": [
    "loss_fun_grad(vol).shape"
   ]
  },
  {
   "cell_type": "markdown",
   "id": "56029f62-752d-4779-9f61-d650c574dade",
   "metadata": {},
   "source": [
    "And solve the inverse problem"
   ]
  },
  {
   "cell_type": "code",
   "execution_count": 37,
   "id": "85bb8f78-63a7-42cb-9020-e66f29d47d00",
   "metadata": {},
   "outputs": [
    {
     "name": "stdout",
     "output_type": "stream",
     "text": [
      "iter  0 , loss =  4535.322380631188\n",
      "iter  100 , loss =  0.25873208591614383\n",
      "iter  200 , loss =  1.4760205926795128e-05\n",
      "iter  300 , loss =  8.420435302020501e-10\n",
      "iter  400 , loss =  4.803708771203873e-14\n",
      "iter  500 , loss =  2.7404306649972042e-18\n",
      "iter  600 , loss =  1.5633979759919096e-22\n",
      "iter  700 , loss =  1.0097419586828951e-26\n",
      "iter  800 , loss =  1.0097419586828951e-26\n",
      "iter  900 , loss =  1.0097419586828951e-26\n",
      "err = 1.4210854715202004e-13\n"
     ]
    }
   ],
   "source": [
    "v0 = jnp.array(np.random.randn(nx,nx,nx))\n",
    "#v0 = vol + 0.1*np.random.randn(nx,nx,nx)\n",
    "\n",
    "\n",
    "vk = v0\n",
    "N_iter = 1000\n",
    "alpha = 100000\n",
    "for k in range(N_iter):\n",
    "    vk = vk - alpha * loss_fun_grad(vk)\n",
    "    \n",
    "    if jnp.mod(k,100) == 0:\n",
    "        loss = loss_fun(vk)\n",
    "        print(\"iter \", k, \", loss = \", loss)\n",
    "\n",
    "err = jnp.max(jnp.abs(vk-vol))\n",
    "print(\"err =\", err)"
   ]
  },
  {
   "cell_type": "code",
   "execution_count": 38,
   "id": "de264220-f674-468c-8f9b-ea726f7cc62d",
   "metadata": {},
   "outputs": [
    {
     "name": "stdout",
     "output_type": "stream",
     "text": [
      "Iter 0 ||r|| = 5.940862895774757e-12\n",
      "Iter 1 ||r|| = 8.057426014748657e-10\n",
      "Iter 2 ||r|| = 8.057207009244758e-10\n",
      "Iter 3 ||r|| = 8.056988003673399e-10\n",
      "Iter 4 ||r|| = 8.056769015589757e-10\n",
      "Iter 5 ||r|| = 8.056550036238406e-10\n",
      "Iter 6 ||r|| = 8.056331065628839e-10\n",
      "Iter 7 ||r|| = 8.056112079882385e-10\n",
      "Iter 8 ||r|| = 8.05589311799068e-10\n",
      "Iter 9 ||r|| = 8.055674154852273e-10\n",
      "err = 0.0001371806204559789\n"
     ]
    }
   ],
   "source": [
    "v0 = jnp.array(np.random.randn(nx,nx,nx))\n",
    "zero = jnp.zeros(vol.shape)\n",
    "AA = lambda a : loss_fun_grad(a) - loss_fun_grad(zero)\n",
    "b = - loss_fun_grad(zero)\n",
    "\n",
    "\n",
    "vcg, max_iter = conjugate_gradient(AA, b, v0, 10, verbose = True)\n",
    "err = jnp.max(jnp.abs(vcg-vol))\n",
    "print(\"err =\", err)"
   ]
  },
  {
   "cell_type": "code",
   "execution_count": null,
   "id": "b122843d-5c1a-4f7c-83da-f238219947ff",
   "metadata": {},
   "outputs": [],
   "source": []
  }
 ],
 "metadata": {
  "kernelspec": {
   "display_name": "Python 3",
   "language": "python",
   "name": "python3"
  },
  "language_info": {
   "codemirror_mode": {
    "name": "ipython",
    "version": 3
   },
   "file_extension": ".py",
   "mimetype": "text/x-python",
   "name": "python",
   "nbconvert_exporter": "python",
   "pygments_lexer": "ipython3",
   "version": "3.6.9"
  }
 },
 "nbformat": 4,
 "nbformat_minor": 5
}
