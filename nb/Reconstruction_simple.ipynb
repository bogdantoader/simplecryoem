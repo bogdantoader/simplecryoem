{
 "cells": [
  {
   "cell_type": "code",
   "execution_count": 2,
   "id": "7be7f1ac-504f-4837-9fdf-e3912a11fbf0",
   "metadata": {},
   "outputs": [],
   "source": [
    "%load_ext autoreload\n",
    "%autoreload 2\n",
    "import site\n",
    "import sys\n",
    "import time\n",
    "site.addsitedir('..')\n",
    "from jax.config import config\n",
    "\n",
    "config.update(\"jax_enable_x64\", True)"
   ]
  },
  {
   "cell_type": "code",
   "execution_count": 3,
   "id": "cc43267e-10a5-493b-837a-c4e226fce08f",
   "metadata": {},
   "outputs": [],
   "source": [
    "import numpy as np\n",
    "import jax.numpy as jnp\n",
    "from  matplotlib import pyplot as plt\n",
    "from src.interpolate import *\n",
    "from src.algorithm import conjugate_gradient\n",
    "import jax\n"
   ]
  },
  {
   "cell_type": "markdown",
   "id": "99ab04b2-17f8-4d07-88f7-b66b30dc21dc",
   "metadata": {},
   "source": [
    "Create the grids and the volume"
   ]
  },
  {
   "cell_type": "code",
   "execution_count": 46,
   "id": "4c9e6fcd-01b7-4835-a20a-817c01325194",
   "metadata": {},
   "outputs": [],
   "source": [
    "nx = 128\n",
    "\n",
    "x_freq = jnp.fft.fftfreq(nx, 1/nx)\n",
    "y_freq = x_freq\n",
    "z_freq = x_freq\n",
    "\n",
    "X, Y, Z = jnp.meshgrid(x_freq, y_freq, z_freq)\n",
    "\n",
    "\n",
    "x_grid = np.array([x_freq[1], len(x_freq)])\n",
    "y_grid = np.array([y_freq[1], len(y_freq)])\n",
    "z_grid = np.array([z_freq[1], len(z_freq)])\n",
    "\n",
    "vol = jnp.array(np.random.randn(nx,nx,nx)) + 100\n",
    "\n",
    "all_coords = jnp.array([X.ravel(), Y.ravel(), Z.ravel()])"
   ]
  },
  {
   "cell_type": "markdown",
   "id": "d0f9ed19-56a6-4926-883a-274adbc24f1d",
   "metadata": {},
   "source": [
    "Generate points on the grid"
   ]
  },
  {
   "cell_type": "code",
   "execution_count": 47,
   "id": "74836556-3ff3-4195-8f0a-6caf70351340",
   "metadata": {},
   "outputs": [],
   "source": [
    "N = 10\n",
    "\n",
    "# The points will be on the grid between low and high. \n",
    "# Going outside the range by half, to ensure wrap-around works well.\n",
    "#low = -nx/2-nx/4\n",
    "#high = nx/2 + nx/4\n",
    "\n",
    "# Actually not going outside the range for now\n",
    "low = -nx/2\n",
    "high = nx/2\n",
    "\n",
    "pts = jnp.array(np.random.randint(low, high, size = (3,N))).astype(jnp.float64)\n"
   ]
  },
  {
   "cell_type": "code",
   "execution_count": 48,
   "id": "4fdbd29e-813f-4710-af8c-df664c0b37f7",
   "metadata": {},
   "outputs": [
    {
     "data": {
      "text/plain": [
       "(3, 10)"
      ]
     },
     "execution_count": 48,
     "metadata": {},
     "output_type": "execute_result"
    }
   ],
   "source": [
    "pts.shape"
   ]
  },
  {
   "cell_type": "code",
   "execution_count": 49,
   "id": "a8e9bc72-e6a0-40d7-909b-fe038ec80196",
   "metadata": {},
   "outputs": [
    {
     "data": {
      "text/plain": [
       "(3, 2097152)"
      ]
     },
     "execution_count": 49,
     "metadata": {},
     "output_type": "execute_result"
    }
   ],
   "source": [
    "all_coords.shape"
   ]
  },
  {
   "cell_type": "code",
   "execution_count": 50,
   "id": "49988c40-a8e6-49a8-8121-999f3bcc10bf",
   "metadata": {},
   "outputs": [],
   "source": [
    "@jax.jit\n",
    "def interpolate_fun(vol):\n",
    "    return interpolate(all_coords, x_grid, y_grid, z_grid, vol, \"tri\")"
   ]
  },
  {
   "cell_type": "markdown",
   "id": "af842485-3d9b-4b22-9a4f-6e7ebd2a11ce",
   "metadata": {},
   "source": [
    "The interpolated values, i.e. the data."
   ]
  },
  {
   "cell_type": "code",
   "execution_count": 51,
   "id": "7c21c1a6-7802-43e3-b0bd-f0ab9dd7c729",
   "metadata": {},
   "outputs": [],
   "source": [
    "data = interpolate_fun(vol)"
   ]
  },
  {
   "cell_type": "code",
   "execution_count": 52,
   "id": "7175ed24-3e70-49f5-a1b9-ed052ed9c17c",
   "metadata": {},
   "outputs": [],
   "source": [
    "@jax.jit\n",
    "def loss_fun(v):\n",
    "    return 1/(2*nx*nx*nx)*jnp.sum((interpolate_fun(v) - data)**2)\n",
    "\n",
    "@jax.jit\n",
    "def loss_fun_grad(v):\n",
    "    return jax.grad(loss_fun)(v)\n",
    "\n",
    "#@jax.jit\n",
    "#def loss_fun_grad_array(coords, ivals):\n",
    "#    return jax.vmap(loss_fun_grad, in_axes = (1, 0))(coords, ivals).T"
   ]
  },
  {
   "cell_type": "code",
   "execution_count": 55,
   "id": "a24b3931-c3b1-43bc-83f8-cd276ebbb25c",
   "metadata": {},
   "outputs": [
    {
     "data": {
      "text/plain": [
       "DeviceArray(0., dtype=float64)"
      ]
     },
     "execution_count": 55,
     "metadata": {},
     "output_type": "execute_result"
    }
   ],
   "source": [
    "loss_fun(vol)"
   ]
  },
  {
   "cell_type": "code",
   "execution_count": 56,
   "id": "5cadd6b1-30df-4a15-9c75-cad583071074",
   "metadata": {},
   "outputs": [
    {
     "data": {
      "text/plain": [
       "(128, 128, 128)"
      ]
     },
     "execution_count": 56,
     "metadata": {},
     "output_type": "execute_result"
    }
   ],
   "source": [
    "loss_fun_grad(vol).shape"
   ]
  },
  {
   "cell_type": "markdown",
   "id": "56029f62-752d-4779-9f61-d650c574dade",
   "metadata": {},
   "source": [
    "And solve the inverse problem"
   ]
  },
  {
   "cell_type": "code",
   "execution_count": 24,
   "id": "85bb8f78-63a7-42cb-9020-e66f29d47d00",
   "metadata": {},
   "outputs": [
    {
     "name": "stdout",
     "output_type": "stream",
     "text": [
      "iter  0 , loss =  4920.983093914427\n",
      "iter  1000 , loss =  0.0005192735256950996\n",
      "iter  2000 , loss =  5.479494432746607e-11\n",
      "iter  3000 , loss =  5.782096105923676e-18\n",
      "iter  4000 , loss =  5.737725394277006e-25\n",
      "iter  5000 , loss =  3.881448089177049e-25\n",
      "iter  6000 , loss =  3.881448089177049e-25\n",
      "iter  7000 , loss =  3.881448089177049e-25\n",
      "iter  8000 , loss =  3.881448089177049e-25\n",
      "iter  9000 , loss =  3.881448089177049e-25\n",
      "iter  10000 , loss =  3.881448089177049e-25\n",
      "iter  11000 , loss =  3.881448089177049e-25\n",
      "iter  12000 , loss =  3.881448089177049e-25\n",
      "iter  13000 , loss =  3.881448089177049e-25\n",
      "iter  14000 , loss =  3.881448089177049e-25\n",
      "iter  15000 , loss =  3.881448089177049e-25\n",
      "iter  16000 , loss =  3.881448089177049e-25\n",
      "iter  17000 , loss =  3.881448089177049e-25\n",
      "iter  18000 , loss =  3.881448089177049e-25\n",
      "iter  19000 , loss =  3.881448089177049e-25\n",
      "err = 8.810729923425242e-13\n"
     ]
    }
   ],
   "source": [
    "v0 = jnp.array(np.random.randn(nx,nx,nx))\n",
    "#v0 = vol + 0.1*np.random.randn(nx,nx,nx)\n",
    "\n",
    "\n",
    "vk = v0\n",
    "N_iter = 20000\n",
    "alpha = 1\n",
    "for k in range(N_iter):\n",
    "    vk = vk - alpha * loss_fun_grad(vkx)\n",
    "    \n",
    "    if jnp.mod(k,1000) == 0:\n",
    "        loss = loss_fun(vk)\n",
    "        print(\"iter \", k, \", loss = \", loss)\n",
    "\n",
    "err = jnp.max(jnp.abs(vk-vol))\n",
    "print(\"err =\", err)"
   ]
  },
  {
   "cell_type": "code",
   "execution_count": 59,
   "id": "de264220-f674-468c-8f9b-ea726f7cc62d",
   "metadata": {},
   "outputs": [
    {
     "name": "stdout",
     "output_type": "stream",
     "text": [
      "Iter 0 ||r|| = 5.941095886675326e-12\n",
      "Iter 1 ||r|| = 7.024772364448904e-10\n",
      "Iter 2 ||r|| = 7.024521148288821e-10\n",
      "Iter 3 ||r|| = 7.024269933413921e-10\n",
      "Iter 4 ||r|| = 7.024018742725975e-10\n",
      "Iter 5 ||r|| = 7.023767564888896e-10\n",
      "Iter 6 ||r|| = 7.023516399769891e-10\n",
      "Iter 7 ||r|| = 7.023265211682924e-10\n",
      "Iter 8 ||r|| = 7.023014072735951e-10\n",
      "Iter 9 ||r|| = 7.022762939345974e-10\n",
      "err = 0.00010429372564146888\n"
     ]
    }
   ],
   "source": [
    "v0 = jnp.array(np.random.randn(nx,nx,nx))\n",
    "zero = jnp.zeros(vol.shape)\n",
    "AA = lambda a : loss_fun_grad(a) - loss_fun_grad(zero)\n",
    "b = - loss_fun_grad(zero)\n",
    "\n",
    "\n",
    "vcg, max_iter = conjugate_gradient(AA, b, v0, 10, verbose = True)\n",
    "err = jnp.max(jnp.abs(vcg-vol))\n",
    "print(\"err =\", err)"
   ]
  },
  {
   "cell_type": "code",
   "execution_count": 39,
   "id": "776e6f00-1d9d-4a6c-92e2-9199e326600e",
   "metadata": {},
   "outputs": [
    {
     "ename": "NameError",
     "evalue": "name 'pts' is not defined",
     "output_type": "error",
     "traceback": [
      "\u001b[0;31m---------------------------------------------------------------------------\u001b[0m",
      "\u001b[0;31mNameError\u001b[0m                                 Traceback (most recent call last)",
      "\u001b[0;32m/var/folders/lc/3jfnysx1275gg3h_gcdxfgcr0000gn/T/ipykernel_70906/276307535.py\u001b[0m in \u001b[0;36m<module>\u001b[0;34m\u001b[0m\n\u001b[0;32m----> 1\u001b[0;31m \u001b[0mjnp\u001b[0m\u001b[0;34m.\u001b[0m\u001b[0mmax\u001b[0m\u001b[0;34m(\u001b[0m\u001b[0mjnp\u001b[0m\u001b[0;34m.\u001b[0m\u001b[0mabs\u001b[0m\u001b[0;34m(\u001b[0m\u001b[0mpts\u001b[0m\u001b[0;34m-\u001b[0m\u001b[0mxk\u001b[0m\u001b[0;34m)\u001b[0m\u001b[0;34m)\u001b[0m\u001b[0;34m\u001b[0m\u001b[0;34m\u001b[0m\u001b[0m\n\u001b[0m",
      "\u001b[0;31mNameError\u001b[0m: name 'pts' is not defined"
     ]
    }
   ],
   "source": [
    "jnp.max(jnp.abs(pts-xk))"
   ]
  },
  {
   "cell_type": "code",
   "execution_count": 16,
   "id": "2077331c-f2a0-4bd4-a61b-a0cdad54199a",
   "metadata": {},
   "outputs": [
    {
     "data": {
      "text/plain": [
       "DeviceArray([ 1., -2.,  1.], dtype=float64)"
      ]
     },
     "execution_count": 16,
     "metadata": {},
     "output_type": "execute_result"
    }
   ],
   "source": [
    "pts[:,0] "
   ]
  },
  {
   "cell_type": "code",
   "execution_count": 17,
   "id": "ea11f924-7b0a-4fcb-bf54-e3210c6e73e6",
   "metadata": {},
   "outputs": [
    {
     "data": {
      "text/plain": [
       "DeviceArray([ 0.94920501, -1.96687241,  1.00613827], dtype=float64)"
      ]
     },
     "execution_count": 17,
     "metadata": {},
     "output_type": "execute_result"
    }
   ],
   "source": [
    "xk[:,0]"
   ]
  },
  {
   "cell_type": "code",
   "execution_count": 19,
   "id": "428327e5-19df-4acc-b12c-98d545ee7e01",
   "metadata": {},
   "outputs": [
    {
     "data": {
      "text/plain": [
       "DeviceArray(0., dtype=float64)"
      ]
     },
     "execution_count": 19,
     "metadata": {},
     "output_type": "execute_result"
    }
   ],
   "source": [
    "loss_fun(xk[:,0], data[0])"
   ]
  },
  {
   "cell_type": "code",
   "execution_count": 20,
   "id": "043a659f-3469-42b3-a908-a7a69ae11e72",
   "metadata": {},
   "outputs": [],
   "source": [
    "lf = jnp.array([loss_fun(xk[:,i], data[i]) for i in range(10)])"
   ]
  },
  {
   "cell_type": "code",
   "execution_count": 21,
   "id": "bb797681-6d0b-4b22-a40a-0fe3c811ffac",
   "metadata": {},
   "outputs": [
    {
     "data": {
      "text/plain": [
       "DeviceArray(1.00974196e-29, dtype=float64)"
      ]
     },
     "execution_count": 21,
     "metadata": {},
     "output_type": "execute_result"
    }
   ],
   "source": [
    "jnp.sum(lf)"
   ]
  },
  {
   "cell_type": "code",
   "execution_count": 22,
   "id": "92439276-41cf-4d9e-a881-689b0dc253d2",
   "metadata": {},
   "outputs": [
    {
     "data": {
      "text/plain": [
       "DeviceArray([0.00000000e+00, 0.00000000e+00, 0.00000000e+00,\n",
       "             0.00000000e+00, 0.00000000e+00, 0.00000000e+00,\n",
       "             0.00000000e+00, 1.00974196e-29, 0.00000000e+00,\n",
       "             0.00000000e+00], dtype=float64)"
      ]
     },
     "execution_count": 22,
     "metadata": {},
     "output_type": "execute_result"
    }
   ],
   "source": [
    "lf"
   ]
  },
  {
   "cell_type": "code",
   "execution_count": 23,
   "id": "f2615d7c-433f-4033-840d-27b1b1a8d627",
   "metadata": {},
   "outputs": [
    {
     "data": {
      "text/plain": [
       "DeviceArray(0., dtype=float64)"
      ]
     },
     "execution_count": 23,
     "metadata": {},
     "output_type": "execute_result"
    }
   ],
   "source": [
    "idx = 0\n",
    "x = xk[:,0]\n",
    "p = pts[:,0]\n",
    "d = data[0]\n",
    "\n",
    "loss_fun(p,d)\n",
    "\n",
    "\n",
    "Z"
   ]
  },
  {
   "cell_type": "code",
   "execution_count": 24,
   "id": "d74a6abd-4524-4919-a57a-1c06f903b85d",
   "metadata": {},
   "outputs": [
    {
     "data": {
      "text/plain": [
       "DeviceArray(99.0487436, dtype=float64)"
      ]
     },
     "execution_count": 24,
     "metadata": {},
     "output_type": "execute_result"
    }
   ],
   "source": [
    "interpolate_fun(x)"
   ]
  },
  {
   "cell_type": "code",
   "execution_count": 25,
   "id": "0c5fe0d9-3e4f-4ec2-b9ce-527c3d4b5531",
   "metadata": {},
   "outputs": [
    {
     "data": {
      "text/plain": [
       "DeviceArray(99.0487436, dtype=float64)"
      ]
     },
     "execution_count": 25,
     "metadata": {},
     "output_type": "execute_result"
    }
   ],
   "source": [
    "interpolate_fun(p)"
   ]
  },
  {
   "cell_type": "code",
   "execution_count": 26,
   "id": "dee68365-f4a3-46c3-92f2-14c61fb221be",
   "metadata": {},
   "outputs": [
    {
     "data": {
      "text/plain": [
       "DeviceArray(99.0487436, dtype=float64)"
      ]
     },
     "execution_count": 26,
     "metadata": {},
     "output_type": "execute_result"
    }
   ],
   "source": [
    "interpolate(x, x_grid, y_grid, z_grid, vol, \"nn\")"
   ]
  },
  {
   "cell_type": "code",
   "execution_count": 30,
   "id": "30030b72-0126-4e6e-9c7b-c9a99e8030f3",
   "metadata": {},
   "outputs": [
    {
     "name": "stdout",
     "output_type": "stream",
     "text": [
      "[ 0.94920501 -1.96687241  1.00613827]\n",
      "[0.94920501 3.03312759 1.00613827]\n",
      "[[0. 1.]\n",
      " [3. 4.]\n",
      " [1. 2.]]\n",
      "[[0 1]\n",
      " [3 4]\n",
      " [1 2]]\n",
      "[1. 5.]\n",
      "99.04874360395219\n"
     ]
    }
   ],
   "source": [
    "coords_x, nearest_pts_x = find_nearest_eight_grid_points_idx(x, x_grid, y_grid, z_grid)\n",
    "print(x)\n",
    "print(coords_x)\n",
    "#print(x-coords_x)\n",
    "print(nearest_pts_x[0])\n",
    "print(nearest_pts_x[1])\n",
    "print(x_grid)\n",
    "\n",
    "interp_pts_x = tri_interp_point(coords_x, vol, nearest_pts_x)\n",
    "\n",
    "print(interp_pts_x)"
   ]
  },
  {
   "cell_type": "code",
   "execution_count": 31,
   "id": "bd194f81-97cf-4059-b511-d1bcd3db6fb4",
   "metadata": {},
   "outputs": [
    {
     "name": "stdout",
     "output_type": "stream",
     "text": [
      "[ 1. -2.  1.]\n",
      "[1. 3. 1.]\n",
      "[[1. 2.]\n",
      " [3. 4.]\n",
      " [1. 2.]]\n",
      "[[1 2]\n",
      " [3 4]\n",
      " [1 2]]\n",
      "99.0487436039522\n"
     ]
    }
   ],
   "source": [
    "coords_p, nearest_pts_p = find_nearest_eight_grid_points_idx(p, x_grid, y_grid, z_grid)\n",
    "print(p)\n",
    "print(coords_p)\n",
    "#print(p-coords_p)\n",
    "print(nearest_pts_p[0])\n",
    "print(nearest_pts_p[1])\n",
    "\n",
    "interp_pts_p = tri_interp_point(coords_p, vol, nearest_pts_p)\n",
    "print(interp_pts_p)"
   ]
  },
  {
   "cell_type": "code",
   "execution_count": 33,
   "id": "ee1ca2c5-ff8c-4854-8d68-29e5ec688d52",
   "metadata": {},
   "outputs": [
    {
     "data": {
      "text/plain": [
       "DeviceArray(1.42108547e-14, dtype=float64)"
      ]
     },
     "execution_count": 33,
     "metadata": {},
     "output_type": "execute_result"
    }
   ],
   "source": [
    "vol[3,1,1] - interp_pts_x"
   ]
  },
  {
   "cell_type": "markdown",
   "id": "eaf24ce0-14bf-48aa-a863-f92c61bfaacb",
   "metadata": {},
   "source": [
    "#### Q: why is interp_pts_x equal to interp_pts_p (and to vol[3,1,1]) ????"
   ]
  },
  {
   "cell_type": "code",
   "execution_count": 234,
   "id": "93c363ea-d009-4287-b3c7-54917f870306",
   "metadata": {},
   "outputs": [
    {
     "name": "stdout",
     "output_type": "stream",
     "text": [
      "cc               = [0.9492051  3.03548385 1.        ]\n",
      "coords_x         = [0.94920501 3.03312759 1.00613827]\n",
      "max(c-coords_x)  =  0.006138267515643836\n",
      "(3,)\n",
      "(3, 2)\n",
      "[ True  True  True]\n",
      "[ True  True  True]\n",
      "interp(cc)       = 0.0\n",
      "(3,)\n",
      "(3, 2)\n",
      "[ True  True  True]\n",
      "[ True  True  True]\n",
      "interp(coords_x) = -1.4210854715202004e-14\n"
     ]
    }
   ],
   "source": [
    "cc = jnp.array([0.9492,3.0331,1.0061]) \n",
    "cc = coords_p.at[0].set(0.9492051)\n",
    "cc = cc.at[1].set(3.0354838478076)\n",
    "print(\"cc               =\", cc)\n",
    "print(\"coords_x         =\", coords_x)\n",
    "print(\"max(c-coords_x)  = \", jnp.max(jnp.abs(cc-coords_x)))\n",
    "#print(\"i(cc)-i(coords_x)= \", tri_interp_point(cc, vol, nearest_pts_x) -tri_interp_point(coords_x, vol, nearest_pts_x))\n",
    "\n",
    "print(\"interp(cc)       =\", tri_interp_point(cc, vol, nearest_pts_x) - vol[3,1,1])\n",
    "print(\"interp(coords_x) =\", tri_interp_point(coords_x, vol, nearest_pts_x) - vol[3,1,1])\n",
    "\n"
   ]
  },
  {
   "cell_type": "code",
   "execution_count": 235,
   "id": "c4eb0d4d-c757-437c-89c1-e10433ffb292",
   "metadata": {},
   "outputs": [
    {
     "data": {
      "text/plain": [
       "(DeviceArray([[0., 1.],\n",
       "              [3., 4.],\n",
       "              [1., 2.]], dtype=float64),\n",
       " DeviceArray([[0, 1],\n",
       "              [3, 4],\n",
       "              [1, 2]], dtype=int64))"
      ]
     },
     "execution_count": 235,
     "metadata": {},
     "output_type": "execute_result"
    }
   ],
   "source": [
    "nearest_pts_x"
   ]
  },
  {
   "cell_type": "code",
   "execution_count": 240,
   "id": "832c7448-ee54-4122-898c-7c44ac2986e6",
   "metadata": {},
   "outputs": [
    {
     "data": {
      "text/plain": [
       "DeviceArray([1., 3., 1.], dtype=float64)"
      ]
     },
     "execution_count": 240,
     "metadata": {},
     "output_type": "execute_result"
    }
   ],
   "source": [
    "coords_p"
   ]
  },
  {
   "cell_type": "code",
   "execution_count": 241,
   "id": "04be34e5-0f37-4894-b04a-9f99a4fc2e4b",
   "metadata": {},
   "outputs": [
    {
     "data": {
      "text/plain": [
       "DeviceArray([0.9492051 , 3.03548385, 1.        ], dtype=float64)"
      ]
     },
     "execution_count": 241,
     "metadata": {},
     "output_type": "execute_result"
    }
   ],
   "source": [
    "cc"
   ]
  },
  {
   "cell_type": "code",
   "execution_count": 140,
   "id": "937138b7-1498-4f6b-8ecc-9deebe4a4bf7",
   "metadata": {},
   "outputs": [
    {
     "data": {
      "text/plain": [
       "DeviceArray([1., 3., 1.], dtype=float64)"
      ]
     },
     "execution_count": 140,
     "metadata": {},
     "output_type": "execute_result"
    }
   ],
   "source": [
    "coords_p"
   ]
  },
  {
   "cell_type": "code",
   "execution_count": 88,
   "id": "1456e616-f0a0-4191-804e-7806ec0c0ede",
   "metadata": {},
   "outputs": [
    {
     "data": {
      "text/plain": [
       "DeviceArray(0.05079499, dtype=float64)"
      ]
     },
     "execution_count": 88,
     "metadata": {},
     "output_type": "execute_result"
    }
   ],
   "source": [
    "jnp.max(jnp.abs(coords_x - coords_p))"
   ]
  },
  {
   "cell_type": "code",
   "execution_count": 133,
   "id": "8b4e3fcf-0689-4521-bd33-b61915ead5de",
   "metadata": {},
   "outputs": [
    {
     "name": "stdout",
     "output_type": "stream",
     "text": [
      "1e-17\n",
      "0.0\n",
      "0.0\n",
      "\n",
      "1e-16\n",
      "0.0\n",
      "-1.4210854715202004e-14\n",
      "\n",
      "1e-15\n",
      "0.0\n",
      "-1.4210854715202004e-14\n",
      "\n",
      "1e-14\n",
      "1.4210854715202004e-14\n",
      "-1.4210854715202004e-14\n",
      "\n",
      "1e-13\n",
      "9.947598300641403e-14\n",
      "-9.947598300641403e-14\n",
      "\n",
      "1e-12\n",
      "7.958078640513122e-13\n",
      "-7.815970093361102e-13\n",
      "\n",
      "1e-11\n",
      "7.958078640513122e-12\n",
      "-7.958078640513122e-12\n",
      "\n",
      "1e-10\n",
      "7.963762982399203e-11\n",
      "-7.963762982399203e-11\n",
      "\n",
      "1e-09\n",
      "7.964189308040659e-10\n",
      "-7.964331416587811e-10\n",
      "\n",
      "1e-08\n",
      "7.964189308040659e-09\n",
      "-7.964175097185944e-09\n",
      "\n",
      "1e-07\n",
      "7.96419925563896e-08\n",
      "-7.964202097809903e-08\n",
      "\n",
      "1e-06\n",
      "7.964196271359469e-07\n",
      "-7.964202382026997e-07\n",
      "\n",
      "1e-05\n",
      "7.964167679119782e-06\n",
      "-7.964231329538052e-06\n",
      "\n",
      "0.0001\n",
      "7.963881169814613e-05\n",
      "-7.96451775784135e-05\n",
      "\n",
      "0.001\n",
      "0.0007961011147017416\n",
      "-0.000796737701875827\n",
      "\n",
      "0.01\n",
      "0.007931826586727198\n",
      "-0.007995485302714656\n",
      "\n",
      "0.1\n",
      "0.0759154855338835\n",
      "-0.08228135713223139\n",
      "\n",
      "1\n",
      "-0.0654474806920291\n",
      "-0.5711396791456878\n",
      "\n"
     ]
    }
   ],
   "source": [
    "increments = [1e-17, 1e-16, 1e-15, 1e-14, 1e-13, 1e-12, 1e-11, 1e-10, 1e-9, 1e-8, 1e-7, 1e-6, 1e-5, 1e-4, 1e-3, 1e-2, 1e-1, 1]\n",
    "for incr in increments:\n",
    "    print(incr)\n",
    "    print(tri_interp_point(coords_p + incr, vol, xnearest_pts_x) - tri_interp_point(coords_p, vol, nearest_pts_x))\n",
    "    print(tri_interp_point(coords_p - incr, vol, nearest_pts_x) - tri_interp_point(coords_p, vol, nearest_pts_x))\n",
    "    print()"
   ]
  },
  {
   "cell_type": "code",
   "execution_count": null,
   "id": "d83088a2-a82a-4a76-ad76-80320e891347",
   "metadata": {},
   "outputs": [],
   "source": []
  }
 ],
 "metadata": {
  "kernelspec": {
   "display_name": "Python 3 (ipykernel)",
   "language": "python",
   "name": "python3"
  },
  "language_info": {
   "codemirror_mode": {
    "name": "ipython",
    "version": 3
   },
   "file_extension": ".py",
   "mimetype": "text/x-python",
   "name": "python",
   "nbconvert_exporter": "python",
   "pygments_lexer": "ipython3",
   "version": "3.8.8"
  }
 },
 "nbformat": 4,
 "nbformat_minor": 5
}
