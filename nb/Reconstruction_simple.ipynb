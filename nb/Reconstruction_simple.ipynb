{
 "cells": [
  {
   "cell_type": "code",
   "execution_count": 2,
   "id": "7be7f1ac-504f-4837-9fdf-e3912a11fbf0",
   "metadata": {},
   "outputs": [],
   "source": [
    "%load_ext autoreload\n",
    "%autoreload 2\n",
    "import site\n",
    "import sys\n",
    "import time\n",
    "site.addsitedir('..')\n",
    "from jax.config import config\n",
    "\n",
    "config.update(\"jax_enable_x64\", True)"
   ]
  },
  {
   "cell_type": "code",
   "execution_count": 3,
   "id": "cc43267e-10a5-493b-837a-c4e226fce08f",
   "metadata": {},
   "outputs": [],
   "source": [
    "import numpy as np\n",
    "import jax.numpy as jnp\n",
    "from  matplotlib import pyplot as plt\n",
    "from src.interpolate import *\n",
    "from src.algorithm import conjugate_gradient\n",
    "import jax\n"
   ]
  },
  {
   "cell_type": "markdown",
   "id": "99ab04b2-17f8-4d07-88f7-b66b30dc21dc",
   "metadata": {},
   "source": [
    "Create the grids and the volume"
   ]
  },
  {
   "cell_type": "code",
   "execution_count": 46,
   "id": "4c9e6fcd-01b7-4835-a20a-817c01325194",
   "metadata": {},
   "outputs": [],
   "source": [
    "nx = 128\n",
    "\n",
    "x_freq = jnp.fft.fftfreq(nx, 1/nx)\n",
    "y_freq = x_freq\n",
    "z_freq = x_freq\n",
    "\n",
    "X, Y, Z = jnp.meshgrid(x_freq, y_freq, z_freq)\n",
    "\n",
    "\n",
    "x_grid = np.array([x_freq[1], len(x_freq)])\n",
    "y_grid = np.array([y_freq[1], len(y_freq)])\n",
    "z_grid = np.array([z_freq[1], len(z_freq)])\n",
    "\n",
    "vol = jnp.array(np.random.randn(nx,nx,nx)) + 100\n",
    "\n",
    "all_coords = jnp.array([X.ravel(), Y.ravel(), Z.ravel()])"
   ]
  },
  {
   "cell_type": "markdown",
   "id": "d0f9ed19-56a6-4926-883a-274adbc24f1d",
   "metadata": {},
   "source": [
    "Generate points on the grid"
   ]
  },
  {
   "cell_type": "code",
   "execution_count": 47,
   "id": "74836556-3ff3-4195-8f0a-6caf70351340",
   "metadata": {},
   "outputs": [],
   "source": [
    "N = 10\n",
    "\n",
    "# The points will be on the grid between low and high. \n",
    "# Going outside the range by half, to ensure wrap-around works well.\n",
    "#low = -nx/2-nx/4\n",
    "#high = nx/2 + nx/4\n",
    "\n",
    "# Actually not going outside the range for now\n",
    "low = -nx/2\n",
    "high = nx/2\n",
    "\n",
    "pts = jnp.array(np.random.randint(low, high, size = (3,N))).astype(jnp.float64)\n"
   ]
  },
  {
   "cell_type": "code",
   "execution_count": 48,
   "id": "4fdbd29e-813f-4710-af8c-df664c0b37f7",
   "metadata": {},
   "outputs": [
    {
     "data": {
      "text/plain": [
       "(3, 10)"
      ]
     },
     "execution_count": 48,
     "metadata": {},
     "output_type": "execute_result"
    }
   ],
   "source": [
    "pts.shape"
   ]
  },
  {
   "cell_type": "code",
   "execution_count": 49,
   "id": "a8e9bc72-e6a0-40d7-909b-fe038ec80196",
   "metadata": {},
   "outputs": [
    {
     "data": {
      "text/plain": [
       "(3, 2097152)"
      ]
     },
     "execution_count": 49,
     "metadata": {},
     "output_type": "execute_result"
    }
   ],
   "source": [
    "all_coords.shape"
   ]
  },
  {
   "cell_type": "code",
   "execution_count": 50,
   "id": "49988c40-a8e6-49a8-8121-999f3bcc10bf",
   "metadata": {},
   "outputs": [],
   "source": [
    "@jax.jit\n",
    "def interpolate_fun(vol):\n",
    "    return interpolate(all_coords, x_grid, y_grid, z_grid, vol, \"tri\")"
   ]
  },
  {
   "cell_type": "markdown",
   "id": "af842485-3d9b-4b22-9a4f-6e7ebd2a11ce",
   "metadata": {},
   "source": [
    "The interpolated values, i.e. the data."
   ]
  },
  {
   "cell_type": "code",
   "execution_count": 51,
   "id": "7c21c1a6-7802-43e3-b0bd-f0ab9dd7c729",
   "metadata": {},
   "outputs": [],
   "source": [
    "data = interpolate_fun(vol)"
   ]
  },
  {
   "cell_type": "code",
   "execution_count": 52,
   "id": "7175ed24-3e70-49f5-a1b9-ed052ed9c17c",
   "metadata": {},
   "outputs": [],
   "source": [
    "@jax.jit\n",
    "def loss_fun(v):\n",
    "    return 1/(2*nx*nx*nx)*jnp.sum((interpolate_fun(v) - data)**2)\n",
    "\n",
    "@jax.jit\n",
    "def loss_fun_grad(v):\n",
    "    return jax.grad(loss_fun)(v)\n",
    "\n",
    "#@jax.jit\n",
    "#def loss_fun_grad_array(coords, ivals):\n",
    "#    return jax.vmap(loss_fun_grad, in_axes = (1, 0))(coords, ivals).T"
   ]
  },
  {
   "cell_type": "code",
   "execution_count": 55,
   "id": "a24b3931-c3b1-43bc-83f8-cd276ebbb25c",
   "metadata": {},
   "outputs": [
    {
     "data": {
      "text/plain": [
       "DeviceArray(0., dtype=float64)"
      ]
     },
     "execution_count": 55,
     "metadata": {},
     "output_type": "execute_result"
    }
   ],
   "source": [
    "loss_fun(vol)"
   ]
  },
  {
   "cell_type": "code",
   "execution_count": 56,
   "id": "5cadd6b1-30df-4a15-9c75-cad583071074",
   "metadata": {},
   "outputs": [
    {
     "data": {
      "text/plain": [
       "(128, 128, 128)"
      ]
     },
     "execution_count": 56,
     "metadata": {},
     "output_type": "execute_result"
    }
   ],
   "source": [
    "loss_fun_grad(vol).shape"
   ]
  },
  {
   "cell_type": "markdown",
   "id": "56029f62-752d-4779-9f61-d650c574dade",
   "metadata": {},
   "source": [
    "And solve the inverse problem"
   ]
  },
  {
   "cell_type": "code",
   "execution_count": 59,
   "id": "de264220-f674-468c-8f9b-ea726f7cc62d",
   "metadata": {},
   "outputs": [
    {
     "name": "stdout",
     "output_type": "stream",
     "text": [
      "Iter 0 ||r|| = 5.941095886675326e-12\n",
      "Iter 1 ||r|| = 7.024772364448904e-10\n",
      "Iter 2 ||r|| = 7.024521148288821e-10\n",
      "Iter 3 ||r|| = 7.024269933413921e-10\n",
      "Iter 4 ||r|| = 7.024018742725975e-10\n",
      "Iter 5 ||r|| = 7.023767564888896e-10\n",
      "Iter 6 ||r|| = 7.023516399769891e-10\n",
      "Iter 7 ||r|| = 7.023265211682924e-10\n",
      "Iter 8 ||r|| = 7.023014072735951e-10\n",
      "Iter 9 ||r|| = 7.022762939345974e-10\n",
      "err = 0.00010429372564146888\n"
     ]
    }
   ],
   "source": [
    "v0 = jnp.array(np.random.randn(nx,nx,nx))\n",
    "zero = jnp.zeros(vol.shape)\n",
    "AA = lambda a : loss_fun_grad(a) - loss_fun_grad(zero)\n",
    "b = - loss_fun_grad(zero)\n",
    "\n",
    "\n",
    "vcg, max_iter = conjugate_gradient(AA, b, v0, 10, verbose = True)\n",
    "err = jnp.max(jnp.abs(vcg-vol))\n",
    "print(\"err =\", err)"
   ]
  },
  {
   "cell_type": "code",
   "execution_count": null,
   "id": "c7f80e71-079d-4368-9b27-65153df7502e",
   "metadata": {},
   "outputs": [],
   "source": []
  }
 ],
 "metadata": {
  "kernelspec": {
   "display_name": "Python 3 (ipykernel)",
   "language": "python",
   "name": "python3"
  },
  "language_info": {
   "codemirror_mode": {
    "name": "ipython",
    "version": 3
   },
   "file_extension": ".py",
   "mimetype": "text/x-python",
   "name": "python",
   "nbconvert_exporter": "python",
   "pygments_lexer": "ipython3",
   "version": "3.8.8"
  }
 },
 "nbformat": 4,
 "nbformat_minor": 5
}
