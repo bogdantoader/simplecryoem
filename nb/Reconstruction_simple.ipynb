{
 "cells": [
  {
   "cell_type": "markdown",
   "id": "948b7b75-1352-460a-895f-0e42a38626dd",
   "metadata": {},
   "source": [
    "# Reconstruction from interpolated values with known locations"
   ]
  },
  {
   "cell_type": "code",
   "execution_count": 2,
   "id": "7be7f1ac-504f-4837-9fdf-e3912a11fbf0",
   "metadata": {},
   "outputs": [],
   "source": [
    "%load_ext autoreload\n",
    "%autoreload 2\n",
    "import site\n",
    "import sys\n",
    "import time\n",
    "site.addsitedir('..')\n",
    "from jax.config import config\n",
    "\n",
    "config.update(\"jax_enable_x64\", True)"
   ]
  },
  {
   "cell_type": "code",
   "execution_count": 3,
   "id": "cc43267e-10a5-493b-837a-c4e226fce08f",
   "metadata": {},
   "outputs": [],
   "source": [
    "import numpy as np\n",
    "import jax.numpy as jnp\n",
    "from  matplotlib import pyplot as plt\n",
    "from src.interpolate import *\n",
    "from src.algorithm import conjugate_gradient\n",
    "import jax\n",
    "from src.utils import mip_z"
   ]
  },
  {
   "cell_type": "markdown",
   "id": "99ab04b2-17f8-4d07-88f7-b66b30dc21dc",
   "metadata": {},
   "source": [
    "Create the grids and the volume"
   ]
  },
  {
   "cell_type": "code",
   "execution_count": 4,
   "id": "4c9e6fcd-01b7-4835-a20a-817c01325194",
   "metadata": {},
   "outputs": [
    {
     "name": "stderr",
     "output_type": "stream",
     "text": [
      "WARNING:absl:No GPU/TPU found, falling back to CPU. (Set TF_CPP_MIN_LOG_LEVEL=0 and rerun for more info.)\n"
     ]
    }
   ],
   "source": [
    "nx = 5\n",
    "\n",
    "x_freq = jnp.fft.fftfreq(nx, 1/nx)\n",
    "y_freq = x_freq\n",
    "z_freq = x_freq\n",
    "\n",
    "X, Y, Z = jnp.meshgrid(x_freq, y_freq, z_freq)\n",
    "\n",
    "\n",
    "x_grid = np.array([x_freq[1], len(x_freq)])\n",
    "y_grid = np.array([y_freq[1], len(y_freq)])\n",
    "z_grid = np.array([z_freq[1], len(z_freq)])\n",
    "\n",
    "vol = jnp.array(np.random.randn(nx,nx,nx)) + jnp.array(np.random.randn(nx,nx,nx))*1j + 100+80j\n",
    "\n",
    "all_coords = jnp.array([X.ravel(), Y.ravel(), Z.ravel()])"
   ]
  },
  {
   "cell_type": "markdown",
   "id": "d0f9ed19-56a6-4926-883a-274adbc24f1d",
   "metadata": {},
   "source": [
    "Generate points on or off the grid"
   ]
  },
  {
   "cell_type": "code",
   "execution_count": 77,
   "id": "74836556-3ff3-4195-8f0a-6caf70351340",
   "metadata": {},
   "outputs": [],
   "source": [
    "N = 2000\n",
    "\n",
    "# The points will be on the grid between low and high. \n",
    "# Going outside the range by half, to ensure wrap-around works well.\n",
    "low = -3*nx\n",
    "high = 3*nx\n",
    "\n",
    "# Actually not going outside the range for now\n",
    "#low = -nx/2\n",
    "#high = nx/2\n",
    "\n",
    "#pts = jnp.array(np.random.randint(low, high, size = (3,N))).astype(jnp.float64)\n",
    "\n",
    "# Points between grid points\n",
    "pts = 3*nx * np.random.randn(3,N)\n"
   ]
  },
  {
   "cell_type": "code",
   "execution_count": 78,
   "id": "49988c40-a8e6-49a8-8121-999f3bcc10bf",
   "metadata": {},
   "outputs": [],
   "source": [
    "@jax.jit\n",
    "def interpolate_fun(vol):\n",
    "    return interpolate(pts, x_grid, y_grid, z_grid, vol, \"tri\")"
   ]
  },
  {
   "cell_type": "markdown",
   "id": "af842485-3d9b-4b22-9a4f-6e7ebd2a11ce",
   "metadata": {},
   "source": [
    "The interpolated values, i.e. the data. When the points above are on the grid, this is the volume."
   ]
  },
  {
   "cell_type": "code",
   "execution_count": 79,
   "id": "7c21c1a6-7802-43e3-b0bd-f0ab9dd7c729",
   "metadata": {},
   "outputs": [],
   "source": [
    "data = interpolate_fun(vol)"
   ]
  },
  {
   "cell_type": "code",
   "execution_count": 143,
   "id": "7175ed24-3e70-49f5-a1b9-ed052ed9c17c",
   "metadata": {},
   "outputs": [],
   "source": [
    "@jax.jit\n",
    "def loss_fun(v):\n",
    "    #return 1/(2*len(data))*jnp.sum((interpolate_fun(v) - data)**2)\n",
    "    \n",
    "    diff = interpolate_fun(v) - data\n",
    "    return 1/(2*len(data))*jnp.sum(jnp.real(jnp.conj(diff)*diff))\n",
    "\n",
    "\n",
    "\n",
    "@jax.jit\n",
    "def loss_fun_grad(v):\n",
    "    return jax.grad(loss_fun)(v)"
   ]
  },
  {
   "cell_type": "code",
   "execution_count": 144,
   "id": "a24b3931-c3b1-43bc-83f8-cd276ebbb25c",
   "metadata": {},
   "outputs": [
    {
     "data": {
      "text/plain": [
       "DeviceArray(0., dtype=float64)"
      ]
     },
     "execution_count": 144,
     "metadata": {},
     "output_type": "execute_result"
    }
   ],
   "source": [
    "loss_fun(vol)"
   ]
  },
  {
   "cell_type": "code",
   "execution_count": 145,
   "id": "5cadd6b1-30df-4a15-9c75-cad583071074",
   "metadata": {},
   "outputs": [
    {
     "data": {
      "text/plain": [
       "(5, 5, 5)"
      ]
     },
     "execution_count": 145,
     "metadata": {},
     "output_type": "execute_result"
    }
   ],
   "source": [
    "loss_fun_grad(vol).shape"
   ]
  },
  {
   "cell_type": "markdown",
   "id": "56029f62-752d-4779-9f61-d650c574dade",
   "metadata": {},
   "source": [
    "And solve the inverse problem"
   ]
  },
  {
   "cell_type": "code",
   "execution_count": 162,
   "id": "85bb8f78-63a7-42cb-9020-e66f29d47d00",
   "metadata": {},
   "outputs": [
    {
     "name": "stdout",
     "output_type": "stream",
     "text": [
      "iter  0 , loss =  325.7604732137389\n",
      "iter  100 , loss =  2.844910248360346e-05\n",
      "iter  200 , loss =  1.429848384588433e-08\n",
      "iter  300 , loss =  7.788172201293263e-12\n",
      "iter  400 , loss =  4.287505793313481e-15\n",
      "iter  500 , loss =  2.366271763609849e-18\n",
      "iter  600 , loss =  1.3072048751017493e-21\n",
      "iter  700 , loss =  7.230737932321204e-25\n",
      "iter  800 , loss =  9.132106274328104e-28\n",
      "iter  900 , loss =  7.588210819501957e-28\n",
      "iter  1000 , loss =  7.588210819501957e-28\n",
      "iter  1100 , loss =  7.588210819501957e-28\n",
      "iter  1200 , loss =  7.588210819501957e-28\n",
      "iter  1300 , loss =  7.588210819501957e-28\n",
      "iter  1400 , loss =  7.588210819501957e-28\n",
      "iter  1500 , loss =  7.588210819501957e-28\n",
      "iter  1600 , loss =  7.588210819501957e-28\n",
      "iter  1700 , loss =  7.588210819501957e-28\n",
      "iter  1800 , loss =  7.588210819501957e-28\n",
      "iter  1900 , loss =  7.588210819501957e-28\n",
      "err = 3.7193366120795873e-13\n"
     ]
    }
   ],
   "source": [
    "v0 = jnp.array(np.random.randn(nx,nx,nx))*1j\n",
    "#v0 = vol + 0.1*np.random.randn(nx,nx,nx)\n",
    "\n",
    "\n",
    "vk = v0\n",
    "N_iter = 2000\n",
    "alpha = 100\n",
    "for k in range(N_iter):\n",
    "    vk = vk - alpha * jnp.conj(loss_fun_grad(vk))\n",
    "    \n",
    "    if jnp.mod(k,100) == 0:\n",
    "        loss = loss_fun(vk)\n",
    "        print(\"iter \", k, \", loss = \", loss)\n",
    "\n",
    "err = jnp.max(jnp.abs(vk-vol))\n",
    "print(\"err =\", err)"
   ]
  },
  {
   "cell_type": "code",
   "execution_count": 163,
   "id": "8c08118d-6714-4931-bb2b-70fc7493121d",
   "metadata": {},
   "outputs": [
    {
     "data": {
      "text/plain": [
       "DeviceArray(3.71933661e-13, dtype=float64)"
      ]
     },
     "execution_count": 163,
     "metadata": {},
     "output_type": "execute_result"
    }
   ],
   "source": [
    "jnp.max(jnp.abs(vk-vol))"
   ]
  },
  {
   "cell_type": "code",
   "execution_count": 148,
   "id": "297cb867-3107-4dc5-824e-0368f6c224f3",
   "metadata": {},
   "outputs": [
    {
     "data": {
      "text/plain": [
       "<matplotlib.colorbar.Colorbar at 0x7ffe45aaa550>"
      ]
     },
     "execution_count": 148,
     "metadata": {},
     "output_type": "execute_result"
    },
    {
     "data": {
      "image/png": "[encoded data removed]",
      "text/plain": [
       "<Figure size 432x288 with 2 Axes>"
      ]
     },
     "metadata": {
      "needs_background": "light"
     },
     "output_type": "display_data"
    }
   ],
   "source": [
    "mip_z(jnp.abs(vk-vol));plt.colorbar()"
   ]
  },
  {
   "cell_type": "code",
   "execution_count": 172,
   "id": "de264220-f674-468c-8f9b-ea726f7cc62d",
   "metadata": {},
   "outputs": [
    {
     "name": "stdout",
     "output_type": "stream",
     "text": [
      "Iter 0 ||r|| = 0.7572755577670577\n",
      "Iter 1 ||r|| = 0.22333473994375475\n",
      "Iter 2 ||r|| = 0.0861691036426202\n",
      "Iter 3 ||r|| = 0.03921262083928183\n",
      "Iter 4 ||r|| = 0.02235549682345077\n",
      "Iter 5 ||r|| = 0.013573026803236087\n",
      "Iter 6 ||r|| = 0.00713393223113184\n",
      "Iter 7 ||r|| = 0.004918958200078823\n",
      "Iter 8 ||r|| = 0.0029261402949828613\n",
      "Iter 9 ||r|| = 0.002089121252260642\n",
      "Iter 10 ||r|| = 0.001400204374828413\n",
      "Iter 11 ||r|| = 0.0009324114475433833\n",
      "Iter 12 ||r|| = 0.0005543640547665779\n",
      "Iter 13 ||r|| = 0.0003164004512264793\n",
      "Iter 14 ||r|| = 0.0002240725351385824\n",
      "Iter 15 ||r|| = 0.00013463483141737433\n",
      "Iter 16 ||r|| = 8.034405436886502e-05\n",
      "Iter 17 ||r|| = 4.928889400267662e-05\n",
      "Iter 18 ||r|| = 3.025375690089728e-05\n",
      "Iter 19 ||r|| = 1.7691419763813366e-05\n",
      "Iter 20 ||r|| = 1.1019535037845197e-05\n",
      "Iter 21 ||r|| = 6.054845732831041e-06\n",
      "Iter 22 ||r|| = 3.112597036947908e-06\n",
      "Iter 23 ||r|| = 1.6927030871521472e-06\n",
      "Iter 24 ||r|| = 9.77249497780672e-07\n",
      "Iter 25 ||r|| = 5.156433017065327e-07\n",
      "Iter 26 ||r|| = 2.969787028047763e-07\n",
      "Iter 27 ||r|| = 1.9813515147486013e-07\n",
      "Iter 28 ||r|| = 1.4354605839363104e-07\n",
      "Iter 29 ||r|| = 9.871525249497384e-08\n",
      "Iter 30 ||r|| = 5.132072618628036e-08\n",
      "Iter 31 ||r|| = 2.7937868288664632e-08\n",
      "Iter 32 ||r|| = 1.744891078533277e-08\n",
      "Iter 33 ||r|| = 9.583738700685054e-09\n",
      "Iter 34 ||r|| = 5.536259751755161e-09\n",
      "Iter 35 ||r|| = 3.4582387859457674e-09\n",
      "Iter 36 ||r|| = 1.6400698425556103e-09\n",
      "Iter 37 ||r|| = 8.774216453563008e-10\n",
      "Iter 38 ||r|| = 4.708353067263957e-10\n",
      "Iter 39 ||r|| = 2.9841228588785204e-10\n",
      "Iter 40 ||r|| = 2.3416597589741433e-10\n",
      "Iter 41 ||r|| = 1.6458024299982087e-10\n",
      "Iter 42 ||r|| = 1.2340194418202034e-10\n",
      "Iter 43 ||r|| = 6.905874647212698e-11\n",
      "Iter 44 ||r|| = 3.733539815594091e-11\n",
      "Iter 45 ||r|| = 2.0033166286548612e-11\n",
      "Iter 46 ||r|| = 1.488759522179327e-11\n",
      "Iter 47 ||r|| = 8.507053164182128e-12\n",
      "Iter 48 ||r|| = 4.808506970185662e-12\n",
      "Iter 49 ||r|| = 2.890859817753886e-12\n",
      "err = 3.9053465580246285e-09\n"
     ]
    }
   ],
   "source": [
    "v0 = jnp.array(np.random.randn(nx,nx,nx))*1j\n",
    "zero = jnp.zeros(vol.shape)*1j\n",
    "Ab = -jnp.conj(loss_fun_grad(zero))\n",
    "AA = lambda a : jnp.conj(loss_fun_grad(a)) + Ab\n",
    "\n",
    "\n",
    "vcg, max_iter = conjugate_gradient(AA, Ab, v0, 50, verbose = True)\n",
    "err = jnp.max(jnp.abs(vcg-vol))\n",
    "print(\"err =\", err)"
   ]
  },
  {
   "cell_type": "code",
   "execution_count": 175,
   "id": "c7b49f16-0218-476d-aa7c-f8752d99da1a",
   "metadata": {},
   "outputs": [
    {
     "data": {
      "text/plain": [
       "<matplotlib.colorbar.Colorbar at 0x7ffe47ce9bb0>"
      ]
     },
     "execution_count": 175,
     "metadata": {},
     "output_type": "execute_result"
    },
    {
     "data": {
      "image/png": "[encoded data removed]",
      "text/plain": [
       "<Figure size 432x288 with 2 Axes>"
      ]
     },
     "metadata": {
      "needs_background": "light"
     },
     "output_type": "display_data"
    }
   ],
   "source": [
    "mip_z(jnp.abs(vcg-vol));plt.colorbar()"
   ]
  },
  {
   "cell_type": "code",
   "execution_count": null,
   "id": "a1d928d8-55ca-4e01-8cff-bd4d1e444f32",
   "metadata": {},
   "outputs": [],
   "source": []
  }
 ],
 "metadata": {
  "kernelspec": {
   "display_name": "Python 3 (ipykernel)",
   "language": "python",
   "name": "python3"
  },
  "language_info": {
   "codemirror_mode": {
    "name": "ipython",
    "version": 3
   },
   "file_extension": ".py",
   "mimetype": "text/x-python",
   "name": "python",
   "nbconvert_exporter": "python",
   "pygments_lexer": "ipython3",
   "version": "3.8.8"
  }
 },
 "nbformat": 4,
 "nbformat_minor": 5
}
