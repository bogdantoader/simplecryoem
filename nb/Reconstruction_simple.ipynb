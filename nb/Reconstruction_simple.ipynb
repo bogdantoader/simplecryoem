{
 "cells": [
  {
   "cell_type": "markdown",
   "id": "948b7b75-1352-460a-895f-0e42a38626dd",
   "metadata": {},
   "source": [
    "# Reconstruction from interpolated values with known locations"
   ]
  },
  {
   "cell_type": "code",
   "execution_count": 1,
   "id": "7be7f1ac-504f-4837-9fdf-e3912a11fbf0",
   "metadata": {},
   "outputs": [],
   "source": [
    "%load_ext autoreload\n",
    "%autoreload 2\n",
    "import site\n",
    "import sys\n",
    "import time\n",
    "site.addsitedir('..')\n",
    "from jax.config import config\n",
    "\n",
    "config.update(\"jax_enable_x64\", True)"
   ]
  },
  {
   "cell_type": "code",
   "execution_count": 2,
   "id": "cc43267e-10a5-493b-837a-c4e226fce08f",
   "metadata": {},
   "outputs": [],
   "source": [
    "import numpy as np\n",
    "import jax.numpy as jnp\n",
    "from  matplotlib import pyplot as plt\n",
    "from src.interpolate import *\n",
    "from src.algorithm import conjugate_gradient\n",
    "import jax\n",
    "from src.utils import mip_z"
   ]
  },
  {
   "cell_type": "markdown",
   "id": "99ab04b2-17f8-4d07-88f7-b66b30dc21dc",
   "metadata": {},
   "source": [
    "Create the grids and the volume"
   ]
  },
  {
   "cell_type": "code",
   "execution_count": 3,
   "id": "4c9e6fcd-01b7-4835-a20a-817c01325194",
   "metadata": {},
   "outputs": [],
   "source": [
    "nx = 5\n",
    "\n",
    "x_freq = jnp.fft.fftfreq(nx, 1/nx)\n",
    "y_freq = x_freq\n",
    "z_freq = x_freq\n",
    "\n",
    "X, Y, Z = jnp.meshgrid(x_freq, y_freq, z_freq)\n",
    "\n",
    "\n",
    "x_grid = np.array([x_freq[1], len(x_freq)])\n",
    "y_grid = np.array([y_freq[1], len(y_freq)])\n",
    "z_grid = np.array([z_freq[1], len(z_freq)])\n",
    "\n",
    "vol = jnp.array(np.random.randn(nx,nx,nx)) + jnp.array(np.random.randn(nx,nx,nx))*1j + 100+80j\n",
    "\n",
    "all_coords = jnp.array([X.ravel(), Y.ravel(), Z.ravel()])"
   ]
  },
  {
   "cell_type": "markdown",
   "id": "d0f9ed19-56a6-4926-883a-274adbc24f1d",
   "metadata": {},
   "source": [
    "Generate points on or off the grid"
   ]
  },
  {
   "cell_type": "code",
   "execution_count": 4,
   "id": "74836556-3ff3-4195-8f0a-6caf70351340",
   "metadata": {},
   "outputs": [],
   "source": [
    "N = 2000\n",
    "\n",
    "# The points will be on the grid between low and high. \n",
    "# Going outside the range by half, to ensure wrap-around works well.\n",
    "low = -3*nx\n",
    "high = 3*nx\n",
    "\n",
    "# Actually not going outside the range for now\n",
    "#low = -nx/2\n",
    "#high = nx/2\n",
    "\n",
    "#pts = jnp.array(np.random.randint(low, high, size = (3,N))).astype(jnp.float64)\n",
    "\n",
    "# Points between grid points\n",
    "pts = 3*nx * np.random.randn(3,N)\n"
   ]
  },
  {
   "cell_type": "code",
   "execution_count": 5,
   "id": "49988c40-a8e6-49a8-8121-999f3bcc10bf",
   "metadata": {},
   "outputs": [],
   "source": [
    "@jax.jit\n",
    "def interpolate_fun(vol):\n",
    "    return interpolate(pts, x_grid, y_grid, z_grid, vol, \"tri\")"
   ]
  },
  {
   "cell_type": "markdown",
   "id": "af842485-3d9b-4b22-9a4f-6e7ebd2a11ce",
   "metadata": {},
   "source": [
    "The interpolated values, i.e. the data. When the points above are on the grid, this is the volume."
   ]
  },
  {
   "cell_type": "code",
   "execution_count": 6,
   "id": "7c21c1a6-7802-43e3-b0bd-f0ab9dd7c729",
   "metadata": {},
   "outputs": [],
   "source": [
    "data = interpolate_fun(vol)"
   ]
  },
  {
   "cell_type": "code",
   "execution_count": 8,
   "id": "7175ed24-3e70-49f5-a1b9-ed052ed9c17c",
   "metadata": {},
   "outputs": [],
   "source": [
    "@jax.jit\n",
    "def loss_fun(v):\n",
    "    err = interpolate_fun(v) - data\n",
    "    return 1/(2*len(data))*jnp.sum(jnp.real(jnp.conj(err)*err))\n",
    "\n",
    "@jax.jit\n",
    "def loss_fun_grad(v):\n",
    "    return jax.grad(loss_fun)(v)"
   ]
  },
  {
   "cell_type": "code",
   "execution_count": 11,
   "id": "a24b3931-c3b1-43bc-83f8-cd276ebbb25c",
   "metadata": {},
   "outputs": [
    {
     "data": {
      "text/plain": [
       "DeviceArray(0., dtype=float64)"
      ]
     },
     "execution_count": 11,
     "metadata": {},
     "output_type": "execute_result"
    }
   ],
   "source": [
    "loss_fun(vol)"
   ]
  },
  {
   "cell_type": "code",
   "execution_count": 12,
   "id": "5cadd6b1-30df-4a15-9c75-cad583071074",
   "metadata": {},
   "outputs": [
    {
     "data": {
      "text/plain": [
       "(5, 5, 5)"
      ]
     },
     "execution_count": 12,
     "metadata": {},
     "output_type": "execute_result"
    }
   ],
   "source": [
    "loss_fun_grad(vol).shape"
   ]
  },
  {
   "cell_type": "markdown",
   "id": "6f609fa1-c5fe-41dd-b238-3ab6c5bafb98",
   "metadata": {},
   "source": [
    "### Solve the inverse problem"
   ]
  },
  {
   "cell_type": "markdown",
   "id": "acd2278d-bbe2-4a9e-803b-062250a0afc3",
   "metadata": {},
   "source": [
    "#### SGD"
   ]
  },
  {
   "cell_type": "code",
   "execution_count": 22,
   "id": "85bb8f78-63a7-42cb-9020-e66f29d47d00",
   "metadata": {},
   "outputs": [
    {
     "name": "stdout",
     "output_type": "stream",
     "text": [
      "iter  0 , loss =  314.7679602772746\n",
      "iter  100 , loss =  0.00019694009587457582\n",
      "iter  200 , loss =  2.0152007947747508e-07\n",
      "iter  300 , loss =  2.2577935105533995e-10\n",
      "iter  400 , loss =  2.592881156889917e-13\n",
      "iter  500 , loss =  3.0157680144558036e-16\n",
      "iter  600 , loss =  3.542227417207517e-19\n",
      "iter  700 , loss =  4.1974234858738084e-22\n",
      "iter  800 , loss =  5.0237227189049085e-25\n",
      "iter  900 , loss =  1.1769047399428484e-27\n",
      "iter  1000 , loss =  8.617642746379168e-28\n",
      "iter  1100 , loss =  8.617642746379168e-28\n",
      "iter  1200 , loss =  8.617642746379168e-28\n",
      "iter  1300 , loss =  8.617642746379168e-28\n",
      "iter  1400 , loss =  8.617642746379168e-28\n",
      "iter  1500 , loss =  8.617642746379168e-28\n",
      "iter  1600 , loss =  8.617642746379168e-28\n",
      "iter  1700 , loss =  8.617642746379168e-28\n",
      "iter  1800 , loss =  8.617642746379168e-28\n",
      "iter  1900 , loss =  8.617642746379168e-28\n",
      "err = 4.522982653395373e-13\n"
     ]
    }
   ],
   "source": [
    "v0 = jnp.array(np.random.randn(nx,nx,nx)) + jnp.array(np.random.randn(nx,nx,nx))*1j\n",
    "#v0 = vol + 0.1*np.random.randn(nx,nx,nx)\n",
    "\n",
    "vk = v0\n",
    "N_iter = 2000\n",
    "alpha = 100\n",
    "for k in range(N_iter):\n",
    "    vk = vk - alpha * jnp.conj(loss_fun_grad(vk))\n",
    "    \n",
    "    if jnp.mod(k,100) == 0:\n",
    "        loss = loss_fun(vk)\n",
    "        print(\"iter \", k, \", loss = \", loss)\n",
    "\n",
    "err = jnp.max(jnp.abs(vk-vol))\n",
    "print(\"err =\", err)"
   ]
  },
  {
   "cell_type": "code",
   "execution_count": 26,
   "id": "8c08118d-6714-4931-bb2b-70fc7493121d",
   "metadata": {},
   "outputs": [
    {
     "data": {
      "text/plain": [
       "DeviceArray(4.52298265e-13, dtype=float64)"
      ]
     },
     "execution_count": 26,
     "metadata": {},
     "output_type": "execute_result"
    }
   ],
   "source": [
    "jnp.max(jnp.abs(vk-vol))"
   ]
  },
  {
   "cell_type": "code",
   "execution_count": 27,
   "id": "297cb867-3107-4dc5-824e-0368f6c224f3",
   "metadata": {},
   "outputs": [
    {
     "data": {
      "text/plain": [
       "<matplotlib.colorbar.Colorbar at 0x2b218c4e6588>"
      ]
     },
     "execution_count": 27,
     "metadata": {},
     "output_type": "execute_result"
    },
    {
     "data": {
      "image/png": "[encoded data removed]",
      "text/plain": [
       "<Figure size 432x288 with 2 Axes>"
      ]
     },
     "metadata": {
      "needs_background": "light"
     },
     "output_type": "display_data"
    }
   ],
   "source": [
    "mip_z(jnp.abs(vk-vol));plt.colorbar()"
   ]
  },
  {
   "cell_type": "markdown",
   "id": "9cd9d799-f9fc-468d-9ce6-4d3de2af2c6e",
   "metadata": {},
   "source": [
    "#### CG"
   ]
  },
  {
   "cell_type": "code",
   "execution_count": 36,
   "id": "de264220-f674-468c-8f9b-ea726f7cc62d",
   "metadata": {},
   "outputs": [
    {
     "name": "stdout",
     "output_type": "stream",
     "text": [
      "Iter 0 ||r|| = 0.5698062707021639\n",
      "Iter 1 ||r|| = 0.18310864763767531\n",
      "Iter 2 ||r|| = 0.0896684358163932\n",
      "Iter 3 ||r|| = 0.039946712708897464\n",
      "Iter 4 ||r|| = 0.022928671800307554\n",
      "Iter 5 ||r|| = 0.015468351087390746\n",
      "Iter 6 ||r|| = 0.010411966515997777\n",
      "Iter 7 ||r|| = 0.007131844211264982\n",
      "Iter 8 ||r|| = 0.004853952371654473\n",
      "Iter 9 ||r|| = 0.0035673516389445044\n",
      "Iter 10 ||r|| = 0.002188045203168941\n",
      "Iter 11 ||r|| = 0.0012465028047148597\n",
      "Iter 12 ||r|| = 0.0008043538796336914\n",
      "Iter 13 ||r|| = 0.0005053102106779466\n",
      "Iter 14 ||r|| = 0.00034687207845322956\n",
      "Iter 15 ||r|| = 0.0001880475058018934\n",
      "Iter 16 ||r|| = 0.00011522517905692395\n",
      "Iter 17 ||r|| = 7.67973919984355e-05\n",
      "Iter 18 ||r|| = 4.836054970537206e-05\n",
      "Iter 19 ||r|| = 2.712545147063945e-05\n",
      "Iter 20 ||r|| = 1.7267500600051157e-05\n",
      "Iter 21 ||r|| = 9.313985337254037e-06\n",
      "Iter 22 ||r|| = 6.0807603837240965e-06\n",
      "Iter 23 ||r|| = 3.469537062886576e-06\n",
      "Iter 24 ||r|| = 2.4367155372888842e-06\n",
      "Iter 25 ||r|| = 1.5840197318649666e-06\n",
      "Iter 26 ||r|| = 9.992409738148884e-07\n",
      "Iter 27 ||r|| = 5.622636828133887e-07\n",
      "Iter 28 ||r|| = 3.5951492300488075e-07\n",
      "Iter 29 ||r|| = 2.6302131777239393e-07\n",
      "Iter 30 ||r|| = 1.5525971342929606e-07\n",
      "Iter 31 ||r|| = 8.844634314358927e-08\n",
      "Iter 32 ||r|| = 6.238589415343656e-08\n",
      "Iter 33 ||r|| = 3.850062117336252e-08\n",
      "Iter 34 ||r|| = 2.304741993882467e-08\n",
      "Iter 35 ||r|| = 1.5453232522259555e-08\n",
      "Iter 36 ||r|| = 7.386835824297663e-09\n",
      "Iter 37 ||r|| = 3.866850853356509e-09\n",
      "Iter 38 ||r|| = 2.1251933775931968e-09\n",
      "Iter 39 ||r|| = 1.4335508362656686e-09\n",
      "Iter 40 ||r|| = 1.0923614789163323e-09\n",
      "Iter 41 ||r|| = 7.865438563833714e-10\n",
      "Iter 42 ||r|| = 4.434923963019563e-10\n",
      "Iter 43 ||r|| = 3.055892606350022e-10\n",
      "Iter 44 ||r|| = 1.67380649131507e-10\n",
      "Iter 45 ||r|| = 8.138187135041452e-11\n",
      "Iter 46 ||r|| = 4.767176588236566e-11\n",
      "Iter 47 ||r|| = 3.0030566866232044e-11\n",
      "Iter 48 ||r|| = 2.0840084399168696e-11\n",
      "Iter 49 ||r|| = 1.167795123106539e-11\n",
      "err = 5.743529359750499e-09\n"
     ]
    }
   ],
   "source": [
    "v0 = jnp.array(np.random.randn(nx,nx,nx)) + jnp.array(np.random.randn(nx,nx,nx))*1j\n",
    "zero = jnp.zeros(vol.shape)*1j\n",
    "Ab = -jnp.conj(loss_fun_grad(zero))\n",
    "AA = lambda a : jnp.conj(loss_fun_grad(a)) + Ab\n",
    "\n",
    "\n",
    "vcg, max_iter = conjugate_gradient(AA, Ab, v0, 50, verbose = True)\n",
    "err = jnp.max(jnp.abs(vcg-vol))\n",
    "print(\"err =\", err)"
   ]
  },
  {
   "cell_type": "code",
   "execution_count": 37,
   "id": "c7b49f16-0218-476d-aa7c-f8752d99da1a",
   "metadata": {},
   "outputs": [
    {
     "data": {
      "text/plain": [
       "<matplotlib.colorbar.Colorbar at 0x2b218c6c3438>"
      ]
     },
     "execution_count": 37,
     "metadata": {},
     "output_type": "execute_result"
    },
    {
     "data": {
      "image/png": "[encoded data removed]",
      "text/plain": [
       "<Figure size 432x288 with 2 Axes>"
      ]
     },
     "metadata": {
      "needs_background": "light"
     },
     "output_type": "display_data"
    }
   ],
   "source": [
    "mip_z(jnp.abs(vcg-vol));plt.colorbar()"
   ]
  }
 ],
 "metadata": {
  "kernelspec": {
   "display_name": "Python 3",
   "language": "python",
   "name": "python3"
  },
  "language_info": {
   "codemirror_mode": {
    "name": "ipython",
    "version": 3
   },
   "file_extension": ".py",
   "mimetype": "text/x-python",
   "name": "python",
   "nbconvert_exporter": "python",
   "pygments_lexer": "ipython3",
   "version": "3.6.9"
  }
 },
 "nbformat": 4,
 "nbformat_minor": 5
}
