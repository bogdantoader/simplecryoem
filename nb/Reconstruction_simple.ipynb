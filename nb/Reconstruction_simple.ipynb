{
 "cells": [
  {
   "cell_type": "code",
   "execution_count": 5,
   "id": "7be7f1ac-504f-4837-9fdf-e3912a11fbf0",
   "metadata": {},
   "outputs": [
    {
     "name": "stdout",
     "output_type": "stream",
     "text": [
      "The autoreload extension is already loaded. To reload it, use:\n",
      "  %reload_ext autoreload\n"
     ]
    }
   ],
   "source": [
    "%load_ext autoreload\n",
    "%autoreload 2\n",
    "import site\n",
    "import sys\n",
    "import time\n",
    "site.addsitedir('..')\n",
    "from jax.config import config\n",
    "\n",
    "config.update(\"jax_enable_x64\", True)"
   ]
  },
  {
   "cell_type": "code",
   "execution_count": 6,
   "id": "cc43267e-10a5-493b-837a-c4e226fce08f",
   "metadata": {},
   "outputs": [],
   "source": [
    "import numpy as np\n",
    "import jax.numpy as jnp\n",
    "from  matplotlib import pyplot as plt\n",
    "from src.interpolate import interpolate\n",
    "import jax"
   ]
  },
  {
   "cell_type": "markdown",
   "id": "99ab04b2-17f8-4d07-88f7-b66b30dc21dc",
   "metadata": {},
   "source": [
    "Create the grids and the volume"
   ]
  },
  {
   "cell_type": "code",
   "execution_count": 449,
   "id": "4c9e6fcd-01b7-4835-a20a-817c01325194",
   "metadata": {},
   "outputs": [],
   "source": [
    "nx = 16\n",
    "\n",
    "x_freq = jnp.fft.fftfreq(nx, 1/nx)\n",
    "y_freq = x_freq\n",
    "z_freq = x_freq\n",
    "\n",
    "x_grid = np.array([x_freq[1], len(x_freq)])\n",
    "y_grid = np.array([y_freq[1], len(y_freq)])\n",
    "z_grid = np.array([z_freq[1], len(z_freq)])\n",
    "\n",
    "vol = jnp.array(np.random.randn(nx,nx,nx))"
   ]
  },
  {
   "cell_type": "markdown",
   "id": "d0f9ed19-56a6-4926-883a-274adbc24f1d",
   "metadata": {},
   "source": [
    "Generate points on the grid"
   ]
  },
  {
   "cell_type": "code",
   "execution_count": 450,
   "id": "74836556-3ff3-4195-8f0a-6caf70351340",
   "metadata": {},
   "outputs": [],
   "source": [
    "N = 10\n",
    "\n",
    "# The points will be on the grid between low and high. \n",
    "# Going outside the range by half, to ensure wrap-around works well.\n",
    "low = -nx/2-nx/4\n",
    "high = nx/2 + nx/4\n",
    "\n",
    "# Actually not going outside the range for now\n",
    "low = -nx/2\n",
    "high = nx/2\n",
    "\n",
    "pts = jnp.array(np.random.randint(low, high, size = (3,N))).astype(jnp.float64)\n"
   ]
  },
  {
   "cell_type": "code",
   "execution_count": 451,
   "id": "4fdbd29e-813f-4710-af8c-df664c0b37f7",
   "metadata": {},
   "outputs": [
    {
     "data": {
      "text/plain": [
       "(3, 10)"
      ]
     },
     "execution_count": 451,
     "metadata": {},
     "output_type": "execute_result"
    }
   ],
   "source": [
    "pts.shape"
   ]
  },
  {
   "cell_type": "code",
   "execution_count": 452,
   "id": "49988c40-a8e6-49a8-8121-999f3bcc10bf",
   "metadata": {},
   "outputs": [],
   "source": [
    "@jax.jit\n",
    "def interpolate_fun(coords):\n",
    "    return interpolate(coords, x_grid, y_grid, z_grid, vol, \"tri\")"
   ]
  },
  {
   "cell_type": "markdown",
   "id": "af842485-3d9b-4b22-9a4f-6e7ebd2a11ce",
   "metadata": {},
   "source": [
    "The interpolated values, i.e. the data."
   ]
  },
  {
   "cell_type": "code",
   "execution_count": 453,
   "id": "7c21c1a6-7802-43e3-b0bd-f0ab9dd7c729",
   "metadata": {},
   "outputs": [],
   "source": [
    "data = interpolate_fun(pts)"
   ]
  },
  {
   "cell_type": "code",
   "execution_count": 454,
   "id": "7175ed24-3e70-49f5-a1b9-ed052ed9c17c",
   "metadata": {},
   "outputs": [],
   "source": [
    "@jax.jit\n",
    "def loss_fun(coords):\n",
    "    return 1/(2*N)*jnp.sum((interpolate_fun(coords) - data)**2)\n",
    "\n",
    "@jax.jit\n",
    "def loss_fun_grad(coords):\n",
    "    return jax.grad(loss_fun)(coords)\n",
    "\n",
    "#@jax.jit\n",
    "#def loss_fun_grad_array(coords, ivals):\n",
    "#    return jax.vmap(loss_fun_grad, in_axes = (1, 0))(coords, ivals).T"
   ]
  },
  {
   "cell_type": "code",
   "execution_count": 455,
   "id": "a24b3931-c3b1-43bc-83f8-cd276ebbb25c",
   "metadata": {},
   "outputs": [
    {
     "data": {
      "text/plain": [
       "DeviceArray(0., dtype=float64)"
      ]
     },
     "execution_count": 455,
     "metadata": {},
     "output_type": "execute_result"
    }
   ],
   "source": [
    "loss_fun(pts)"
   ]
  },
  {
   "cell_type": "code",
   "execution_count": 456,
   "id": "5cadd6b1-30df-4a15-9c75-cad583071074",
   "metadata": {},
   "outputs": [
    {
     "data": {
      "text/plain": [
       "DeviceArray([[0., 0., 0., 0., 0., 0., 0., 0., 0., 0.],\n",
       "             [0., 0., 0., 0., 0., 0., 0., 0., 0., 0.],\n",
       "             [0., 0., 0., 0., 0., 0., 0., 0., 0., 0.]], dtype=float64)"
      ]
     },
     "execution_count": 456,
     "metadata": {},
     "output_type": "execute_result"
    }
   ],
   "source": [
    "loss_fun_grad(pts)"
   ]
  },
  {
   "cell_type": "markdown",
   "id": "56029f62-752d-4779-9f61-d650c574dade",
   "metadata": {},
   "source": [
    "And solve the inverse problem - for some reason some points in pts don't converge with GD. CG doesn't work at all so far."
   ]
  },
  {
   "cell_type": "code",
   "execution_count": 472,
   "id": "85bb8f78-63a7-42cb-9020-e66f29d47d00",
   "metadata": {},
   "outputs": [
    {
     "name": "stdout",
     "output_type": "stream",
     "text": [
      "iter =  0 , max loss =  0.328256820925883\n",
      "iter =  10 , max loss =  2355520.3406002787\n",
      "iter =  20 , max loss =  2355510.950100164\n",
      "iter =  30 , max loss =  2355510.6675147978\n",
      "iter =  40 , max loss =  2355511.138549726\n",
      "iter =  50 , max loss =  2355511.546842881\n",
      "iter =  60 , max loss =  2355518.6896798084\n",
      "iter =  70 , max loss =  2355530.3551045116\n",
      "iter =  80 , max loss =  2355531.109605692\n",
      "iter =  90 , max loss =  2355531.10977351\n"
     ]
    }
   ],
   "source": [
    "#TODO: move CG implemented here to a separate file and make it work.\n",
    "\n",
    "x0 = jnp.array(np.random.randn(3, N) * nx/2)\n",
    "x0 = pts + 0.1*np.random.randn(3,N)\n",
    "zero = jnp.zeros(pts.shape)\n",
    "\n",
    "AA = lambda c : loss_fun_grad(c) - loss_fun_grad(zero)\n",
    "b = - loss_fun_grad(zero)\n",
    "x = x0\n",
    "\n",
    "N_iter = 100\n",
    "\n",
    "r = b - AA(x)\n",
    "p = r\n",
    "for i in range(N_iter):\n",
    "    r0 = r\n",
    "    \n",
    "    AAp = AA(p)\n",
    "    alpha = jnp.dot(r.ravel(),r.ravel())/jnp.dot(p.ravel(), AAp.ravel())\n",
    "    x = x + alpha * p\n",
    "    r = r - alpha * AAp\n",
    "    beta = jnp.dot(r.ravel(),r.ravel())/jnp.dot(r0.ravel(),r0.ravel())\n",
    "    p = r + beta*p\n",
    "     \n",
    "    if jnp.mod(i, 10) == 0:\n",
    "        loss = loss_fun(x)\n",
    "        print(\"iter = \", i, \", max loss = \", loss)\n",
    "\n"
   ]
  },
  {
   "cell_type": "code",
   "execution_count": 430,
   "id": "73e09cf9-e9f0-4691-895b-f18e2d2c24a1",
   "metadata": {},
   "outputs": [
    {
     "data": {
      "text/plain": [
       "DeviceArray(0., dtype=float64)"
      ]
     },
     "execution_count": 430,
     "metadata": {},
     "output_type": "execute_result"
    }
   ],
   "source": [
    "loss_fun(pts, data)"
   ]
  },
  {
   "cell_type": "code",
   "execution_count": 463,
   "id": "cec21056-b8fd-4376-a50d-0bd9b2745ccd",
   "metadata": {},
   "outputs": [
    {
     "data": {
      "text/plain": [
       "DeviceArray(2309.31678337, dtype=float64)"
      ]
     },
     "execution_count": 463,
     "metadata": {},
     "output_type": "execute_result"
    }
   ],
   "source": [
    "jnp.dot(r.ravel(), r.ravel())"
   ]
  },
  {
   "cell_type": "code",
   "execution_count": 469,
   "id": "fa6ebdb9-5053-4d00-b3a7-d1273d3d24ce",
   "metadata": {},
   "outputs": [
    {
     "data": {
      "text/plain": [
       "DeviceArray(1.06842555e-17, dtype=float64)"
      ]
     },
     "execution_count": 469,
     "metadata": {},
     "output_type": "execute_result"
    }
   ],
   "source": [
    "alpha"
   ]
  },
  {
   "cell_type": "code",
   "execution_count": 470,
   "id": "5d3c93df-e1f1-4d9f-97d1-1406f177f252",
   "metadata": {},
   "outputs": [
    {
     "data": {
      "text/plain": [
       "DeviceArray(1.09502754, dtype=float64)"
      ]
     },
     "execution_count": 470,
     "metadata": {},
     "output_type": "execute_result"
    }
   ],
   "source": [
    "beta"
   ]
  },
  {
   "cell_type": "code",
   "execution_count": null,
   "id": "328ce411-2a47-4fc9-9bc1-24684e39c932",
   "metadata": {},
   "outputs": [],
   "source": []
  }
 ],
 "metadata": {
  "kernelspec": {
   "display_name": "Python 3",
   "language": "python",
   "name": "python3"
  },
  "language_info": {
   "codemirror_mode": {
    "name": "ipython",
    "version": 3
   },
   "file_extension": ".py",
   "mimetype": "text/x-python",
   "name": "python",
   "nbconvert_exporter": "python",
   "pygments_lexer": "ipython3",
   "version": "3.6.9"
  }
 },
 "nbformat": 4,
 "nbformat_minor": 5
}
