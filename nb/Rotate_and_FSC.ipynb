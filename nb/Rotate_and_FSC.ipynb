{
 "cells": [
  {
   "cell_type": "markdown",
   "id": "19c7f269-11bd-4c74-8127-7eafbd2b2f00",
   "metadata": {},
   "source": [
    "# Rotate vols and FSC"
   ]
  },
  {
   "cell_type": "code",
   "execution_count": 1,
   "id": "e8f2be9d-43e1-48d2-9668-2bc2bbcf4065",
   "metadata": {},
   "outputs": [],
   "source": [
    "%load_ext autoreload\n",
    "%autoreload 2\n",
    "import site\n",
    "import sys\n",
    "import time\n",
    "import pickle\n",
    "site.addsitedir('..')\n",
    "from jax.config import config"
   ]
  },
  {
   "cell_type": "code",
   "execution_count": 2,
   "id": "1d616b60-9dce-491e-943a-f03888a965ea",
   "metadata": {},
   "outputs": [],
   "source": [
    "import numpy as np\n",
    "import jax.numpy as jnp\n",
    "from  matplotlib import pyplot as plt\n",
    "from src.utils import *\n",
    "from src.projection import *\n",
    "from src.interpolate import *\n",
    "from src.jaxops import *\n",
    "from src.fsc import *\n",
    "from src.algorithm import *\n",
    "from src.ab_initio import *\n",
    "from src.datasets import *\n",
    "from src.residual import get_volume_residual\n",
    "\n",
    "import jax\n",
    "import mrcfile\n",
    "from jax.scipy.special import gammaln\n",
    "from tqdm import tqdm\n",
    "\n",
    "plt.rcParams[\"figure.figsize\"]=6,6"
   ]
  },
  {
   "cell_type": "markdown",
   "id": "a9a95495-605a-4a9b-932a-d4f39d026570",
   "metadata": {},
   "source": [
    "### Load the volumes"
   ]
  },
  {
   "cell_type": "code",
   "execution_count": 4,
   "id": "3528b61e-3c15-430e-b83c-ea88c95bd427",
   "metadata": {},
   "outputs": [],
   "source": [
    "#file1 = \"/gpfs/loomis/project/lederman/bt387/simple_cryoem/simulated_dataset10k/vol1_84.mrc\"\n",
    "#file2 = \"/gpfs/loomis/project/lederman/bt387/simple_cryoem/simulated_dataset_results10k/relion_noisy/rec_iter_176.mrc\"\n",
    "#nx0 = 256\n",
    "#pixel_size = 1.244531\n",
    "\n",
    "#file1 = \"/gpfs/loomis/project/lederman/bt387/simple_cryoem/simulated_dataset10k/vol2_84.mrc\"\n",
    "#file2 = \"/gpfs/loomis/project/lederman/bt387/simple_cryoem/simulated_dataset_results10k/cryodrgn_noisy/rec_iter_176.mrc\"\n",
    "#file2 = \"/gpfs/gibbs/pi/lederman/bt387/simulated_dataset10k/cryodrgn_clean/InitialModel/job001/run_it120_class001.mrc\"\n",
    "#nx0 = 320\n",
    "#pixel_size = 1.31\n",
    "\n",
    "#file1 = \"/gpfs/gibbs/pi/lederman/bt387/exp_data/output_simple_cryoem1v/rec_iter_155.mrc\"\n",
    "#file2 = \"/gpfs/gibbs/pi/lederman/bt387/exp_data/output_simple_cryoem2v/rec_iter_155.mrc\"\n",
    "#nx0 = 320\n",
    "#pixel_size = 1.31\n",
    "\n",
    "file1 = \"/gpfs/gibbs/pi/lederman/bt387/exp_data/InitialModel/particles1_corrected/run_it300_class001.mrc\"\n",
    "file2 = \"/gpfs/gibbs/pi/lederman/bt387/exp_data/InitialModel/particles2_corected/run_it300_class001.mrc\"\n",
    "nx0 = 320\n",
    "pixel_size = 1.31\n",
    "\n",
    "vol1 = mrcfile.open(file1).data\n",
    "vol2 = mrcfile.open(file2).data\n",
    "\n",
    "vol1_f, _, _ = volume_fourier(vol1, pixel_size)\n",
    "vol2_f, _, _ = volume_fourier(vol2, pixel_size)"
   ]
  },
  {
   "cell_type": "code",
   "execution_count": 9,
   "id": "3da52efb-9c98-4405-96a3-6c7b45983e4b",
   "metadata": {},
   "outputs": [
    {
     "name": "stdout",
     "output_type": "stream",
     "text": [
      "vol1_f.shape = (84, 84, 84)\n",
      "vol2_f.shape = (84, 84, 84)\n"
     ]
    }
   ],
   "source": [
    "print(f\"vol1_f.shape = {vol1_f.shape}\")\n",
    "print(f\"vol2_f.shape = {vol2_f.shape}\")"
   ]
  },
  {
   "cell_type": "code",
   "execution_count": 5,
   "id": "17df46f5-17b2-45db-bfc9-cca7bab1a227",
   "metadata": {},
   "outputs": [],
   "source": [
    "nx = jnp.minimum(vol1_f.shape[0], vol2_f.shape[0])\n",
    "grid1 = [1, vol1_f.shape[0]]\n",
    "grid2 = [1, vol2_f.shape[0]]"
   ]
  },
  {
   "cell_type": "code",
   "execution_count": 8,
   "id": "591d68b5-a5fa-4bd7-813e-223936e78616",
   "metadata": {},
   "outputs": [],
   "source": [
    "vol1_f, _ = crop_fourier_volume(vol1_f, grid1, nx)\n",
    "vol2_f, grid = crop_fourier_volume(vol2_f, grid2, nx)"
   ]
  },
  {
   "cell_type": "code",
   "execution_count": 10,
   "id": "0529b283-d6d0-4290-aad4-929e6bd7ec86",
   "metadata": {},
   "outputs": [
    {
     "name": "stdout",
     "output_type": "stream",
     "text": [
      "vol1_f.shape = (84, 84, 84)\n",
      "vol2_f.shape = (84, 84, 84)\n"
     ]
    }
   ],
   "source": [
    "print(f\"vol1_f.shape = {vol1_f.shape}\")\n",
    "print(f\"vol2_f.shape = {vol2_f.shape}\")"
   ]
  },
  {
   "cell_type": "code",
   "execution_count": 11,
   "id": "13b0d23d-183c-46b7-a74e-f239aa049e98",
   "metadata": {},
   "outputs": [],
   "source": [
    "res, fsc, shell_points = calc_fsc(vol1_f, vol2_f, grid)"
   ]
  },
  {
   "cell_type": "code",
   "execution_count": 12,
   "id": "b8834553-4d74-4fe2-bfb5-6c93ca2d2c4c",
   "metadata": {},
   "outputs": [
    {
     "data": {
      "text/plain": [
       "[<matplotlib.lines.Line2D at 0x2b48b4e029e0>]"
      ]
     },
     "execution_count": 12,
     "metadata": {},
     "output_type": "execute_result"
    },
    {
     "data": {
      "image/png": "[encoded data removed]",
      "text/plain": [
       "<Figure size 432x432 with 1 Axes>"
      ]
     },
     "metadata": {
      "needs_background": "light"
     },
     "output_type": "display_data"
    }
   ],
   "source": [
    "res_angs = nx0 * pixel_size/res\n",
    "plt.semilogx(res_angs, fsc)"
   ]
  },
  {
   "cell_type": "code",
   "execution_count": 13,
   "id": "5d5b83ec-3a2c-4695-b54a-c6702e5992dc",
   "metadata": {},
   "outputs": [
    {
     "data": {
      "text/plain": [
       "DeviceArray([ 0.8660254 ,  2.59807621,  4.33012702,  6.06217783,\n",
       "              7.79422863,  9.52627944, 11.25833025, 12.99038106,\n",
       "             14.72243186, 16.45448267, 18.18653348, 19.91858429,\n",
       "             21.65063509, 23.3826859 , 25.11473671, 26.84678752,\n",
       "             28.57883832, 30.31088913, 32.04293994, 33.77499075,\n",
       "             35.50704156, 37.23909236, 38.97114317, 40.70319398],            dtype=float64)"
      ]
     },
     "execution_count": 13,
     "metadata": {},
     "output_type": "execute_result"
    }
   ],
   "source": [
    "res"
   ]
  },
  {
   "cell_type": "code",
   "execution_count": 14,
   "id": "7c445c03-cd78-4130-8e2a-e0168b9975de",
   "metadata": {},
   "outputs": [
    {
     "data": {
      "text/plain": [
       "DeviceArray([484.05046569, 161.35015523,  96.81009314,  69.15006653,\n",
       "              53.78338508,  44.00458779,  37.23465121,  32.27003105,\n",
       "              28.47355681,  25.4763403 ,  23.05002218,  21.04567242,\n",
       "              19.36201863,  17.92779503,  16.69139537,  15.61453115,\n",
       "              14.66819593,  13.83001331,  13.08244502,  12.4115504 ,\n",
       "              11.80610892,  11.25698757,  10.75667702,  10.29894608],            dtype=float64)"
      ]
     },
     "execution_count": 14,
     "metadata": {},
     "output_type": "execute_result"
    }
   ],
   "source": [
    "res_angs"
   ]
  },
  {
   "cell_type": "code",
   "execution_count": 15,
   "id": "960167a5-acbb-45d5-a900-0ecfb34b3cb5",
   "metadata": {},
   "outputs": [],
   "source": [
    "@jax.jit\n",
    "def calc_corr(v1, v2):\n",
    "    corr = jnp.sum(v1 * jnp.conj(v2)) / (jnp.linalg.norm(v1.ravel(),2) * jnp.linalg.norm(v2.ravel(),2))\n",
    "    return jnp.real(corr)\n",
    "\n",
    "@jax.jit\n",
    "def rotate_and_calc_corr(v1, v2, angles0, angles_i):\n",
    "\n",
    "    vol1_r = rotate_and_interpolate_full_object(v1, angles0, grid) \n",
    "    vol2_r = rotate_and_interpolate_full_object(v2, angles_i, grid) \n",
    "    \n",
    "    return calc_corr(vol1_r, vol2_r)\n",
    "\n",
    "rotate_and_calc_corr_vmap = jax.jit(jax.vmap(rotate_and_calc_corr, in_axes=(None, None, None, 0)))\n",
    "\n",
    "#@jax.jit\n",
    "def rotate_and_interpolate_full_object(vol, angles, grid):\n",
    "    proj_coords = rotate_full_grid(grid, angles)\n",
    "    return interpolate(proj_coords, grid, vol, \"tri\")\n"
   ]
  },
  {
   "cell_type": "code",
   "execution_count": 16,
   "id": "e26cbfb6-7475-4c2e-9007-fb695554c20a",
   "metadata": {},
   "outputs": [],
   "source": [
    "N = 30\n",
    "\n",
    "a1_range = np.linspace(0, 2*jnp.pi, N)\n",
    "a2_range = np.linspace(0, jnp.pi, N)\n",
    "a3_range = np.linspace(0, 2*jnp.pi, N)\n",
    "\n",
    "A1, A2, A3 = np.meshgrid(a1_range, a2_range, a3_range)  \n",
    "\n",
    "angles = np.column_stack([A1.ravel(), A2.ravel(), A3.ravel()])\n",
    "angles0 = np.array([0,0,0])\n",
    "\n",
    "grid = np.array(grid)\n",
    "vol1_f = jnp.array(vol1_f)\n",
    "vol2_f = jnp.array(vol2_f)"
   ]
  },
  {
   "cell_type": "code",
   "execution_count": 53,
   "id": "cf3cb1d7-7aed-4dc8-b4b6-fb28bd601a3d",
   "metadata": {},
   "outputs": [],
   "source": [
    "# CHANGE CHIRALITY IF NEEDED!!\n",
    "\n",
    "vol2_f = jnp.flip(vol2_f, axis=2)"
   ]
  },
  {
   "cell_type": "code",
   "execution_count": 54,
   "id": "a92dfc93-123a-48f8-9645-f62fa41a5f91",
   "metadata": {},
   "outputs": [
    {
     "name": "stderr",
     "output_type": "stream",
     "text": [
      "100%|██████████| 1000/1000 [01:35<00:00, 10.48it/s]\n"
     ]
    }
   ],
   "source": [
    "N_batch = 1000\n",
    "angles_batch = np.array(np.array_split(angles, N_batch))\n",
    "\n",
    "corrs_batch = []\n",
    "for bi in tqdm(np.arange(N_batch)):\n",
    "    corr_i = rotate_and_calc_corr_vmap(vol1_f, vol2_f, jnp.array(angles0), jnp.array(angles_batch[bi]))\n",
    "    corrs_batch.append(corr_i)\n",
    "    \n",
    "corrs = np.concatenate(corrs_batch, axis=0)"
   ]
  },
  {
   "cell_type": "code",
   "execution_count": 55,
   "id": "e5796167-45f3-450b-9212-5c3159e061e7",
   "metadata": {},
   "outputs": [
    {
     "data": {
      "text/plain": [
       "[<matplotlib.lines.Line2D at 0x2b49931be500>]"
      ]
     },
     "execution_count": 55,
     "metadata": {},
     "output_type": "execute_result"
    },
    {
     "data": {
      "image/png": "[encoded data removed]",
      "text/plain": [
       "<Figure size 432x432 with 1 Axes>"
      ]
     },
     "metadata": {
      "needs_background": "light"
     },
     "output_type": "display_data"
    }
   ],
   "source": [
    "plt.plot(corrs)"
   ]
  },
  {
   "cell_type": "code",
   "execution_count": 41,
   "id": "c7529cea-f38a-4945-b991-f58629e7db80",
   "metadata": {},
   "outputs": [
    {
     "data": {
      "text/plain": [
       "[<matplotlib.lines.Line2D at 0x2b4992511d20>]"
      ]
     },
     "execution_count": 41,
     "metadata": {},
     "output_type": "execute_result"
    },
    {
     "data": {
      "image/png": "[encoded data removed]",
      "text/plain": [
       "<Figure size 432x432 with 1 Axes>"
      ]
     },
     "metadata": {
      "needs_background": "light"
     },
     "output_type": "display_data"
    }
   ],
   "source": [
    "plt.plot(corrs)"
   ]
  },
  {
   "cell_type": "code",
   "execution_count": 56,
   "id": "4cd39775-92bb-4a1c-b894-0a2d8e3a964b",
   "metadata": {},
   "outputs": [
    {
     "name": "stdout",
     "output_type": "stream",
     "text": [
      "max corr = 0.7318246235339172\n"
     ]
    }
   ],
   "source": [
    "print(f\"max corr = {jnp.max(corrs)}\")\n",
    "max_idx = jnp.argmax(corrs)\n",
    "angles_good = angles[max_idx]\n",
    "\n",
    "vol2_fr = rotate_and_interpolate_full_object(vol2_f, angles_good, grid)\n",
    "vol2_fr = vol2_fr.reshape([nx,nx,nx])"
   ]
  },
  {
   "cell_type": "code",
   "execution_count": 57,
   "id": "c237565b-bf9d-4228-8988-eb49c5a5983a",
   "metadata": {},
   "outputs": [
    {
     "data": {
      "image/png": "[encoded data removed]",
      "text/plain": [
       "<Figure size 1728x432 with 6 Axes>"
      ]
     },
     "metadata": {
      "needs_background": "light"
     },
     "output_type": "display_data"
    }
   ],
   "source": [
    "plt.rcParams[\"figure.figsize\"]=24,6\n",
    "\n",
    "plt.subplot(1,3,1)\n",
    "mip_x(jnp.abs(jnp.fft.fftshift(vol1_f))); plt.colorbar()\n",
    "plt.title(\"Vol1\")\n",
    "\n",
    "plt.subplot(1,3,2)\n",
    "mip_x(jnp.abs(jnp.fft.fftshift(vol2_fr))); plt.colorbar()\n",
    "plt.title(\"Vol2 rotated\")\n",
    "\n",
    "\n",
    "plt.subplot(1,3,3)\n",
    "mip_x(jnp.abs(jnp.fft.fftshift(vol2_f))); plt.colorbar()\n",
    "plt.title(\"Vol2 initial\")\n",
    "\n",
    "plt.rcParams[\"figure.figsize\"]=6,6"
   ]
  },
  {
   "cell_type": "code",
   "execution_count": 58,
   "id": "fc0bf3bb-b293-407d-97da-459803ec0cf9",
   "metadata": {},
   "outputs": [],
   "source": [
    "res, fsc, shell_points = calc_fsc(vol1_f, vol2_fr, grid)"
   ]
  },
  {
   "cell_type": "code",
   "execution_count": 59,
   "id": "11090c7a-af4e-4bad-86d0-59aa74424087",
   "metadata": {},
   "outputs": [
    {
     "data": {
      "text/plain": [
       "[<matplotlib.lines.Line2D at 0x2b4993130130>]"
      ]
     },
     "execution_count": 59,
     "metadata": {},
     "output_type": "execute_result"
    },
    {
     "data": {
      "image/png": "[encoded data removed]",
      "text/plain": [
       "<Figure size 432x432 with 1 Axes>"
      ]
     },
     "metadata": {
      "needs_background": "light"
     },
     "output_type": "display_data"
    }
   ],
   "source": [
    "plt.plot(res, fsc)"
   ]
  },
  {
   "cell_type": "code",
   "execution_count": 60,
   "id": "4121ca92-19c9-4672-b063-4a4a0a81ea7e",
   "metadata": {},
   "outputs": [
    {
     "data": {
      "text/plain": [
       "[<matplotlib.lines.Line2D at 0x2b4992d32680>]"
      ]
     },
     "execution_count": 60,
     "metadata": {},
     "output_type": "execute_result"
    },
    {
     "data": {
      "image/png": "[encoded data removed]",
      "text/plain": [
       "<Figure size 432x432 with 1 Axes>"
      ]
     },
     "metadata": {
      "needs_background": "light"
     },
     "output_type": "display_data"
    }
   ],
   "source": [
    "res_angs = nx0 * pixel_size/res\n",
    "plt.semilogx(res_angs, fsc)"
   ]
  },
  {
   "cell_type": "code",
   "execution_count": 61,
   "id": "b1c0200a-ee7b-4786-898b-aafbee7bf9c4",
   "metadata": {},
   "outputs": [
    {
     "data": {
      "text/plain": [
       "DeviceArray([484.05046569, 161.35015523,  96.81009314,  69.15006653,\n",
       "              53.78338508,  44.00458779,  37.23465121,  32.27003105,\n",
       "              28.47355681,  25.4763403 ,  23.05002218,  21.04567242,\n",
       "              19.36201863,  17.92779503,  16.69139537,  15.61453115,\n",
       "              14.66819593,  13.83001331,  13.08244502,  12.4115504 ,\n",
       "              11.80610892,  11.25698757,  10.75667702,  10.29894608],            dtype=float64)"
      ]
     },
     "execution_count": 61,
     "metadata": {},
     "output_type": "execute_result"
    }
   ],
   "source": [
    "res_angs"
   ]
  },
  {
   "cell_type": "code",
   "execution_count": 62,
   "id": "7ca2e085-c7a3-4047-aa1d-559b5694a682",
   "metadata": {},
   "outputs": [
    {
     "data": {
      "text/plain": [
       "DeviceArray([0.99825011, 0.91228567, 0.64487679, 0.73634352, 0.59314278,\n",
       "             0.67507506, 0.66275694, 0.65195443, 0.65320357, 0.64789041,\n",
       "             0.63782022, 0.6032793 , 0.57150826, 0.54349046, 0.54031976,\n",
       "             0.51118516, 0.45434567, 0.45534807, 0.44035084, 0.4139212 ,\n",
       "             0.37543002, 0.34832491, 0.29860307, 0.2238669 ],            dtype=float64)"
      ]
     },
     "execution_count": 62,
     "metadata": {},
     "output_type": "execute_result"
    }
   ],
   "source": [
    "fsc"
   ]
  },
  {
   "cell_type": "code",
   "execution_count": 29,
   "id": "7cc48e59-ed45-40dd-8a7e-c9c3613ecd00",
   "metadata": {},
   "outputs": [
    {
     "data": {
      "text/plain": [
       "9.980952380952383"
      ]
     },
     "execution_count": 29,
     "metadata": {},
     "output_type": "execute_result"
    }
   ],
   "source": [
    "nx0 * pixel_size/42"
   ]
  },
  {
   "cell_type": "code",
   "execution_count": 30,
   "id": "81b26c2f-792f-4b44-83ef-a461893cbf1f",
   "metadata": {},
   "outputs": [
    {
     "data": {
      "text/plain": [
       "1.31"
      ]
     },
     "execution_count": 30,
     "metadata": {},
     "output_type": "execute_result"
    }
   ],
   "source": [
    "pixel_size"
   ]
  },
  {
   "cell_type": "code",
   "execution_count": 31,
   "id": "d4d1eede-033f-4b1e-9cca-e03cd9c39c74",
   "metadata": {},
   "outputs": [
    {
     "data": {
      "text/plain": [
       "320"
      ]
     },
     "execution_count": 31,
     "metadata": {},
     "output_type": "execute_result"
    }
   ],
   "source": [
    "nx0"
   ]
  },
  {
   "cell_type": "markdown",
   "id": "7a518a92-e06d-4b40-9671-233b670c0cc6",
   "metadata": {},
   "source": [
    "### Orientation errors for the simulated data"
   ]
  },
  {
   "cell_type": "code",
   "execution_count": null,
   "id": "c3b1949c-43ad-434c-93dd-280047693cff",
   "metadata": {},
   "outputs": [],
   "source": [
    "dataset = \"cryodrgn_noisy\""
   ]
  },
  {
   "cell_type": "code",
   "execution_count": null,
   "id": "d8b4ec21-71ce-450a-b0c5-0afce76ffab0",
   "metadata": {},
   "outputs": [],
   "source": [
    "data_dir = f\"/gpfs/loomis/project/lederman/bt387/simple_cryoem/simulated_dataset10k/{dataset}/\"\n",
    "star_file = \"particles.star\"\n",
    "\n",
    "params0, imgs0 = load_data(data_dir, star_file, load_imgs = False, fourier = False)\n",
    "ctf_params0 = params0[\"ctf_params\"]\n",
    "pixel_size0 = params0[\"pixel_size\"]\n",
    "angles0 = params0[\"angles\"]\n",
    "shifts0 = params0[\"shifts\"]"
   ]
  },
  {
   "cell_type": "code",
   "execution_count": null,
   "id": "098cfb96-4302-4902-bc22-eff05564636c",
   "metadata": {},
   "outputs": [],
   "source": [
    "with open(f\"/gpfs/loomis/project/lederman/bt387/simple_cryoem/simulated_dataset_results10k/{dataset}/rec_iter_176_angles\", 'rb') as file:\n",
    "    # Call load method to deserialze\n",
    "    angles_rec = pickle.load(file)\n",
    "    \n",
    "angles_rec = angles_rec[0]"
   ]
  },
  {
   "cell_type": "code",
   "execution_count": null,
   "id": "6eaa48bc-c704-45c3-97f3-8a169ad3056f",
   "metadata": {},
   "outputs": [],
   "source": [
    "angles0.shape"
   ]
  },
  {
   "cell_type": "code",
   "execution_count": null,
   "id": "dc304cd4-94a0-455f-bf6c-1c2a71822344",
   "metadata": {},
   "outputs": [],
   "source": [
    "angles_rec.shape"
   ]
  },
  {
   "cell_type": "code",
   "execution_count": null,
   "id": "94967ea1-7ec7-47da-a7b6-910c09925e2e",
   "metadata": {},
   "outputs": [],
   "source": [
    "theta, cord_distance = err_orientations(angles0, angles_rec)\n"
   ]
  },
  {
   "cell_type": "code",
   "execution_count": null,
   "id": "0817b4f2-a0a8-4a90-adb4-5d1d833dd643",
   "metadata": {},
   "outputs": [],
   "source": [
    "nbins=100\n",
    "counts, bins = np.histogram((theta - jnp.median(theta))**2, bins=nbins)\n",
    "_ = plt.hist(bins[:-1], bins, weights=counts)"
   ]
  },
  {
   "cell_type": "code",
   "execution_count": null,
   "id": "79e217f2-b43f-473a-a15f-4289eb5caf59",
   "metadata": {},
   "outputs": [],
   "source": [
    "nbins = 100\n",
    "counts, bins = np.histogram((cord_distance - jnp.median(cord_distance))**2, bins=nbins)\n",
    "_ = plt.hist(bins[:-1], bins, weights=counts)"
   ]
  },
  {
   "cell_type": "code",
   "execution_count": null,
   "id": "31c7ecf8-efe0-4862-95d7-228ccb03d064",
   "metadata": {},
   "outputs": [],
   "source": [
    "jnp.max(bins)"
   ]
  },
  {
   "cell_type": "code",
   "execution_count": null,
   "id": "04230418-934c-473b-8d8a-01a477156ad4",
   "metadata": {},
   "outputs": [],
   "source": [
    "jnp.median(cord_distance)"
   ]
  },
  {
   "cell_type": "code",
   "execution_count": null,
   "id": "421ed601-79a6-499e-aef0-8bb0f6e2b9b6",
   "metadata": {},
   "outputs": [],
   "source": [
    "jnp.median((cord_distance - jnp.median(cord_distance))**2)"
   ]
  },
  {
   "cell_type": "code",
   "execution_count": null,
   "id": "6ba0769b-7b35-47c1-9361-8e80f628365e",
   "metadata": {},
   "outputs": [],
   "source": [
    "cord_distance"
   ]
  },
  {
   "cell_type": "code",
   "execution_count": null,
   "id": "d8d11df8-c439-4397-9c2e-1d1df02bc70a",
   "metadata": {},
   "outputs": [],
   "source": [
    "plt.plot(jnp.sort((cord_distance - jnp.median(cord_distance))**2))"
   ]
  },
  {
   "cell_type": "code",
   "execution_count": null,
   "id": "5c9f07b2-1841-49f1-ad7a-2b8afa0132ed",
   "metadata": {},
   "outputs": [],
   "source": []
  },
  {
   "cell_type": "markdown",
   "id": "12c4bf43-00fd-4b04-b6aa-55cb317b80e3",
   "metadata": {},
   "source": [
    "### Misc"
   ]
  },
  {
   "cell_type": "code",
   "execution_count": null,
   "id": "d5c3828e-ab84-4995-bf05-1349b4b9bcd5",
   "metadata": {},
   "outputs": [],
   "source": [
    "file1 = \"/gpfs/gibbs/pi/lederman/bt387/exp_data/output_simple_cryoem1v/rec_iter_150.mrc\"\n",
    "#file1 = \"/gpfs/gibbs/pi/lederman/bt387/simulated_dataset10k/relion_clean/InitialModel/job001/run_it300_class001.mrc\"\n",
    "\n",
    "nx0 = 320\n",
    "pixel_size = 1.31\n",
    "\n",
    "vol1 = mrcfile.open(file1).data\n",
    "\n",
    "vol1_f, _, _ = volume_fourier(vol1, pixel_size)"
   ]
  },
  {
   "cell_type": "code",
   "execution_count": null,
   "id": "5617d487-2aa2-4439-8ced-dfe5e6df4211",
   "metadata": {},
   "outputs": [],
   "source": [
    "grid = [1, vol1_f.shape[0]]\n",
    "vol_fc, _ = rescale_larger_grid(vol1_f, grid, 320)\n",
    "vol_rc = np.real(np.fft.fftshift(np.fft.ifftn(vol_fc)))\n"
   ]
  },
  {
   "cell_type": "code",
   "execution_count": null,
   "id": "c99bbc24-832c-4b66-bb26-0949ba830bea",
   "metadata": {},
   "outputs": [],
   "source": [
    "mip_x(vol_rc)"
   ]
  },
  {
   "cell_type": "code",
   "execution_count": null,
   "id": "5abf613f-e11c-4f66-ba96-39756029f006",
   "metadata": {},
   "outputs": [],
   "source": [
    "vol_rc = jnp.flip(vol_rc, axis=0)"
   ]
  },
  {
   "cell_type": "code",
   "execution_count": null,
   "id": "315b6725-4f08-4948-b919-12bd4befa672",
   "metadata": {},
   "outputs": [],
   "source": [
    "#with mrcfile.new(f\"/gpfs/gibbs/pi/lederman/bt387/exp_data/vol2_test10.mrc\", overwrite=True) as mrc:\n",
    "#    mrc.set_data(vol_rc.astype(np.float32))"
   ]
  },
  {
   "cell_type": "code",
   "execution_count": null,
   "id": "38601dff-cb95-4b50-b6af-28676c3dffb6",
   "metadata": {},
   "outputs": [],
   "source": []
  },
  {
   "cell_type": "code",
   "execution_count": null,
   "id": "5cee04ad-9dc9-443e-bc17-c693fc1e4dee",
   "metadata": {},
   "outputs": [],
   "source": []
  }
 ],
 "metadata": {
  "kernelspec": {
   "display_name": "Python 3 (ipykernel)",
   "language": "python",
   "name": "python3"
  },
  "language_info": {
   "codemirror_mode": {
    "name": "ipython",
    "version": 3
   },
   "file_extension": ".py",
   "mimetype": "text/x-python",
   "name": "python",
   "nbconvert_exporter": "python",
   "pygments_lexer": "ipython3",
   "version": "3.10.2"
  }
 },
 "nbformat": 4,
 "nbformat_minor": 5
}
