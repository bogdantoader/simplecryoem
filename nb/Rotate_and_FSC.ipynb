{
 "cells": [
  {
   "cell_type": "markdown",
   "id": "19c7f269-11bd-4c74-8127-7eafbd2b2f00",
   "metadata": {},
   "source": [
    "# Rotate vols and FSC"
   ]
  },
  {
   "cell_type": "code",
   "execution_count": 4,
   "id": "e8f2be9d-43e1-48d2-9668-2bc2bbcf4065",
   "metadata": {},
   "outputs": [],
   "source": [
    "%load_ext autoreload\n",
    "%autoreload 2\n",
    "import site\n",
    "import sys\n",
    "import time\n",
    "import pickle\n",
    "site.addsitedir('..')\n",
    "from jax.config import config"
   ]
  },
  {
   "cell_type": "code",
   "execution_count": 5,
   "id": "1d616b60-9dce-491e-943a-f03888a965ea",
   "metadata": {},
   "outputs": [],
   "source": [
    "import numpy as np\n",
    "import jax.numpy as jnp\n",
    "from  matplotlib import pyplot as plt\n",
    "from src.utils import *\n",
    "from src.projection import *\n",
    "from src.interpolate import *\n",
    "from src.jaxops import *\n",
    "from src.fsc import *\n",
    "from src.algorithm import *\n",
    "from src.ab_initio import *\n",
    "from src.datasets import *\n",
    "from src.residual import get_volume_residual\n",
    "\n",
    "import jax\n",
    "import mrcfile\n",
    "from jax.scipy.special import gammaln\n",
    "from tqdm import tqdm\n",
    "\n",
    "plt.rcParams[\"figure.figsize\"]=6,6"
   ]
  },
  {
   "cell_type": "markdown",
   "id": "a9a95495-605a-4a9b-932a-d4f39d026570",
   "metadata": {},
   "source": [
    "### Load the volumes"
   ]
  },
  {
   "cell_type": "markdown",
   "id": "6f015d4e-0a2e-424c-a6f0-826fb13db3f3",
   "metadata": {},
   "source": [
    "#### From source"
   ]
  },
  {
   "cell_type": "code",
   "execution_count": null,
   "id": "3528b61e-3c15-430e-b83c-ea88c95bd427",
   "metadata": {},
   "outputs": [],
   "source": [
    "#file1 = \"/gpfs/loomis/project/lederman/bt387/simple_cryoem/simulated_dataset10k/vol1_84.mrc\"\n",
    "#file2 = \"/gpfs/loomis/project/lederman/bt387/simple_cryoem/simulated_dataset_results10k/relion_clean/rec_iter_176.mrc\"\n",
    "#file2 = \"/gpfs/gibbs/pi/lederman/bt387/simulated_dataset10k/relion_noisy/InitialModel/job001/run_it300_class001.mrc\"\n",
    "#nx0 = 256\n",
    "#pixel_size = 1.244531\n",
    "\n",
    "#file1 = \"/gpfs/loomis/project/lederman/bt387/simple_cryoem/simulated_dataset20k/vol2_84.mrc\"\n",
    "#file2 = \"/gpfs/loomis/project/lederman/bt387/simple_cryoem/simulated_dataset_results20k/cryodrgn_clean/rec_iter_176.mrc\"\n",
    "#file2 = \"/gpfs/gibbs/pi/lederman/bt387/simulated_dataset20k/cryodrgn_noisy/InitialModel/job001/run_it300_class001.mrc\"\n",
    "#nx0 = 320\n",
    "#pixel_size = 1.31\n",
    "\n",
    "#file1 = \"/gpfs/gibbs/pi/lederman/bt387/exp_data/output_simple_cryoem1v/rec_final_nx0.mrc\"\n",
    "#file2 = \"/gpfs/gibbs/pi/lederman/bt387/exp_data/output_simple_cryoem2v/rec_final_nx0.mrc\"\n",
    "#nx0 = 320\n",
    "#pixel_size = 1.31\n",
    "\n",
    "#file1 = \"/gpfs/gibbs/pi/lederman/bt387/exp_data/InitialModel/particles1_corrected/run_it300_class001.mrc\"\n",
    "#file2 = \"/gpfs/gibbs/pi/lederman/bt387/exp_data/InitialModel/particles2_corected/run_it300_class001.mrc\"\n",
    "#nx0 = 320\n",
    "#pixel_size = 1.31\n",
    "\n",
    "#vol1 = mrcfile.open(file1).data\n",
    "#vol2 = mrcfile.open(file2).data\n",
    "\n"
   ]
  },
  {
   "cell_type": "markdown",
   "id": "4f445e03-32e2-4163-970a-f918a583b42a",
   "metadata": {},
   "source": [
    "#### From my folder"
   ]
  },
  {
   "cell_type": "code",
   "execution_count": 38,
   "id": "e4b08585-500c-401e-9cac-d2f3b340dd9b",
   "metadata": {},
   "outputs": [],
   "source": [
    "# Simulated relion data\n",
    "file1 = \"/gpfs/gibbs/pi/lederman/bt387/pims_workshop_data/ground_truth/vol1_84.mrc\"\n",
    "\n",
    "file2_root = \"/gpfs/gibbs/pi/lederman/bt387/pims_workshop_data/sim_reconstruction_mcmc/relion_clean\"\n",
    "file2 = f\"{file2_root}.mrc\"\n",
    "nx0 = 256\n",
    "pixel_size = 1.244531\n",
    "\n",
    "\n"
   ]
  },
  {
   "cell_type": "code",
   "execution_count": 7,
   "id": "b88f2c70-7546-442f-8377-495c4c78441e",
   "metadata": {},
   "outputs": [],
   "source": [
    "vol1 = mrcfile.open(file1).data\n",
    "vol2 = mrcfile.open(file2).data"
   ]
  },
  {
   "cell_type": "code",
   "execution_count": 8,
   "id": "d0373cc5-b9fc-43d3-bce9-84cdc35135b8",
   "metadata": {},
   "outputs": [],
   "source": [
    "vol1_f, _, _ = volume_fourier(vol1, pixel_size)\n",
    "vol2_f, _, _ = volume_fourier(vol2, pixel_size)"
   ]
  },
  {
   "cell_type": "code",
   "execution_count": 9,
   "id": "3da52efb-9c98-4405-96a3-6c7b45983e4b",
   "metadata": {},
   "outputs": [
    {
     "name": "stdout",
     "output_type": "stream",
     "text": [
      "vol1_f.shape = (256, 256, 256)\n",
      "vol2_f.shape = (256, 256, 256)\n"
     ]
    }
   ],
   "source": [
    "print(f\"vol1_f.shape = {vol1_f.shape}\")\n",
    "print(f\"vol2_f.shape = {vol2_f.shape}\")"
   ]
  },
  {
   "cell_type": "code",
   "execution_count": 10,
   "id": "17df46f5-17b2-45db-bfc9-cca7bab1a227",
   "metadata": {},
   "outputs": [],
   "source": [
    "nx = jnp.minimum(vol1_f.shape[0], vol2_f.shape[0])\n",
    "grid1 = [1, vol1_f.shape[0]]\n",
    "grid2 = [1, vol2_f.shape[0]]"
   ]
  },
  {
   "cell_type": "code",
   "execution_count": 11,
   "id": "78c4297f-5798-445a-9c7b-d067df2bb463",
   "metadata": {},
   "outputs": [],
   "source": [
    "nx = 84"
   ]
  },
  {
   "cell_type": "code",
   "execution_count": 12,
   "id": "591d68b5-a5fa-4bd7-813e-223936e78616",
   "metadata": {},
   "outputs": [],
   "source": [
    "vol1_f, _ = crop_fourier_volume(vol1_f, grid1, nx)\n",
    "vol2_f, grid = crop_fourier_volume(vol2_f, grid2, nx)"
   ]
  },
  {
   "cell_type": "code",
   "execution_count": 13,
   "id": "0529b283-d6d0-4290-aad4-929e6bd7ec86",
   "metadata": {},
   "outputs": [
    {
     "name": "stdout",
     "output_type": "stream",
     "text": [
      "vol1_f.shape = (84, 84, 84)\n",
      "vol2_f.shape = (84, 84, 84)\n"
     ]
    }
   ],
   "source": [
    "print(f\"vol1_f.shape = {vol1_f.shape}\")\n",
    "print(f\"vol2_f.shape = {vol2_f.shape}\")"
   ]
  },
  {
   "cell_type": "code",
   "execution_count": 14,
   "id": "13b0d23d-183c-46b7-a74e-f239aa049e98",
   "metadata": {},
   "outputs": [],
   "source": [
    "res, fsc, shell_points = calc_fsc(vol1_f, vol2_f, grid)"
   ]
  },
  {
   "cell_type": "code",
   "execution_count": 15,
   "id": "b8834553-4d74-4fe2-bfb5-6c93ca2d2c4c",
   "metadata": {},
   "outputs": [
    {
     "data": {
      "text/plain": [
       "[<matplotlib.lines.Line2D at 0x2aaf65cb6080>]"
      ]
     },
     "execution_count": 15,
     "metadata": {},
     "output_type": "execute_result"
    },
    {
     "data": {
      "image/png": "[encoded data removed]",
      "text/plain": [
       "<Figure size 432x432 with 1 Axes>"
      ]
     },
     "metadata": {
      "needs_background": "light"
     },
     "output_type": "display_data"
    }
   ],
   "source": [
    "res_angs = nx0 * pixel_size/res\n",
    "plt.semilogx(res_angs, fsc)"
   ]
  },
  {
   "cell_type": "code",
   "execution_count": 16,
   "id": "5d5b83ec-3a2c-4695-b54a-c6702e5992dc",
   "metadata": {},
   "outputs": [
    {
     "data": {
      "text/plain": [
       "DeviceArray([ 0.8660254 ,  2.59807621,  4.33012702,  6.06217783,\n",
       "              7.79422863,  9.52627944, 11.25833025, 12.99038106,\n",
       "             14.72243186, 16.45448267, 18.18653348, 19.91858429,\n",
       "             21.65063509, 23.3826859 , 25.11473671, 26.84678752,\n",
       "             28.57883832, 30.31088913, 32.04293994, 33.77499075,\n",
       "             35.50704156, 37.23909236, 38.97114317, 40.70319398],            dtype=float64)"
      ]
     },
     "execution_count": 16,
     "metadata": {},
     "output_type": "execute_result"
    }
   ],
   "source": [
    "res"
   ]
  },
  {
   "cell_type": "code",
   "execution_count": 17,
   "id": "7c445c03-cd78-4130-8e2a-e0168b9975de",
   "metadata": {},
   "outputs": [
    {
     "data": {
      "text/plain": [
       "DeviceArray([367.88751763, 122.62917254,  73.57750353,  52.55535966,\n",
       "              40.87639085,  33.44431978,  28.29903982,  24.52583451,\n",
       "              21.64044221,  19.36250093,  17.51845322,  15.99510946,\n",
       "              14.71550071,  13.62546362,  12.68577647,  11.86733928,\n",
       "              11.14810659,  10.51107193,   9.94290588,   9.43301327,\n",
       "               8.97286628,   8.55552367,   8.17527817,   7.82739399],            dtype=float64)"
      ]
     },
     "execution_count": 17,
     "metadata": {},
     "output_type": "execute_result"
    }
   ],
   "source": [
    "res_angs"
   ]
  },
  {
   "cell_type": "code",
   "execution_count": 18,
   "id": "960167a5-acbb-45d5-a900-0ecfb34b3cb5",
   "metadata": {},
   "outputs": [],
   "source": [
    "@jax.jit\n",
    "def calc_corr(v1, v2):\n",
    "    corr = jnp.sum(v1 * jnp.conj(v2)) / (jnp.linalg.norm(v1.ravel(),2) * jnp.linalg.norm(v2.ravel(),2))\n",
    "    return jnp.real(corr)\n",
    "\n",
    "@jax.jit\n",
    "def rotate_and_calc_corr(v1, v2, angles0, angles_i):\n",
    "\n",
    "    vol1_r = rotate_and_interpolate_full_object(v1, angles0, grid) \n",
    "    vol2_r = rotate_and_interpolate_full_object(v2, angles_i, grid) \n",
    "    \n",
    "    return calc_corr(vol1_r, vol2_r)\n",
    "\n",
    "rotate_and_calc_corr_vmap = jax.jit(jax.vmap(rotate_and_calc_corr, in_axes=(None, None, None, 0)))\n",
    "\n",
    "#@jax.jit\n",
    "def rotate_and_interpolate_full_object(vol, angles, grid):\n",
    "    proj_coords = rotate_full_grid(grid, angles)\n",
    "    return interpolate(proj_coords, grid, vol, \"tri\")\n"
   ]
  },
  {
   "cell_type": "code",
   "execution_count": 19,
   "id": "e26cbfb6-7475-4c2e-9007-fb695554c20a",
   "metadata": {},
   "outputs": [],
   "source": [
    "N = 50\n",
    "\n",
    "a1_range = np.linspace(0, 2*jnp.pi, N)\n",
    "a2_range = np.linspace(0, jnp.pi, N)\n",
    "a3_range = np.linspace(0, 2*jnp.pi, N)\n",
    "\n",
    "A1, A2, A3 = np.meshgrid(a1_range, a2_range, a3_range)  \n",
    "\n",
    "angles = np.column_stack([A1.ravel(), A2.ravel(), A3.ravel()])\n",
    "angles0 = np.array([0,0,0])\n",
    "\n",
    "grid = np.array(grid)\n",
    "vol1_f = jnp.array(vol1_f)\n",
    "vol2_f = jnp.array(vol2_f)"
   ]
  },
  {
   "cell_type": "code",
   "execution_count": 20,
   "id": "cf3cb1d7-7aed-4dc8-b4b6-fb28bd601a3d",
   "metadata": {},
   "outputs": [],
   "source": [
    "# CHANGE CHIRALITY IF NEEDED!!\n",
    "\n",
    "#vol2_f = jnp.flip(vol2_f, axis=0)"
   ]
  },
  {
   "cell_type": "code",
   "execution_count": 21,
   "id": "a92dfc93-123a-48f8-9645-f62fa41a5f91",
   "metadata": {},
   "outputs": [
    {
     "name": "stderr",
     "output_type": "stream",
     "text": [
      "100%|██████████| 1000/1000 [04:13<00:00,  3.95it/s]\n"
     ]
    }
   ],
   "source": [
    "N_batch = 1000\n",
    "angles_batch = np.array(np.array_split(angles, N_batch))\n",
    "\n",
    "corrs_batch = []\n",
    "for bi in tqdm(np.arange(N_batch)):\n",
    "    corr_i = rotate_and_calc_corr_vmap(vol1_f, vol2_f, jnp.array(angles0), jnp.array(angles_batch[bi]))\n",
    "    corrs_batch.append(corr_i)\n",
    "    \n",
    "corrs = np.concatenate(corrs_batch, axis=0)"
   ]
  },
  {
   "cell_type": "code",
   "execution_count": 22,
   "id": "0a14a41c-6894-4996-81b1-a222a74012ef",
   "metadata": {},
   "outputs": [
    {
     "data": {
      "text/plain": [
       "[<matplotlib.lines.Line2D at 0x2aaf65b1b1f0>]"
      ]
     },
     "execution_count": 22,
     "metadata": {},
     "output_type": "execute_result"
    },
    {
     "data": {
      "image/png": "[encoded data removed]",
      "text/plain": [
       "<Figure size 432x432 with 1 Axes>"
      ]
     },
     "metadata": {
      "needs_background": "light"
     },
     "output_type": "display_data"
    }
   ],
   "source": [
    "plt.plot(corrs)"
   ]
  },
  {
   "cell_type": "code",
   "execution_count": 23,
   "id": "4cd39775-92bb-4a1c-b894-0a2d8e3a964b",
   "metadata": {},
   "outputs": [
    {
     "name": "stdout",
     "output_type": "stream",
     "text": [
      "max corr = 0.8880963116462524\n"
     ]
    }
   ],
   "source": [
    "print(f\"max corr = {jnp.max(corrs)}\")\n",
    "max_idx = jnp.argmax(corrs)\n",
    "angles_good = angles[max_idx]\n",
    "\n",
    "vol2_fr = rotate_and_interpolate_full_object(vol2_f, angles_good, grid)\n",
    "vol2_fr = vol2_fr.reshape([nx,nx,nx])"
   ]
  },
  {
   "cell_type": "code",
   "execution_count": 24,
   "id": "c237565b-bf9d-4228-8988-eb49c5a5983a",
   "metadata": {},
   "outputs": [
    {
     "data": {
      "image/png": "[encoded data removed]",
      "text/plain": [
       "<Figure size 1728x432 with 6 Axes>"
      ]
     },
     "metadata": {
      "needs_background": "light"
     },
     "output_type": "display_data"
    }
   ],
   "source": [
    "plt.rcParams[\"figure.figsize\"]=24,6\n",
    "\n",
    "plt.subplot(1,3,1)\n",
    "mip_x(jnp.abs(jnp.fft.fftshift(vol1_f))); plt.colorbar()\n",
    "plt.title(\"Vol1\")\n",
    "\n",
    "plt.subplot(1,3,2)\n",
    "mip_x(jnp.abs(jnp.fft.fftshift(vol2_fr))); plt.colorbar()\n",
    "plt.title(\"Vol2 rotated\")\n",
    "\n",
    "\n",
    "plt.subplot(1,3,3)\n",
    "mip_x(jnp.abs(jnp.fft.fftshift(vol2_f))); plt.colorbar()\n",
    "plt.title(\"Vol2 initial\")\n",
    "\n",
    "plt.rcParams[\"figure.figsize\"]=6,6"
   ]
  },
  {
   "cell_type": "code",
   "execution_count": 25,
   "id": "fc0bf3bb-b293-407d-97da-459803ec0cf9",
   "metadata": {},
   "outputs": [],
   "source": [
    "res, fsc, shell_points = calc_fsc(vol1_f, vol2_fr, grid)"
   ]
  },
  {
   "cell_type": "code",
   "execution_count": 26,
   "id": "11090c7a-af4e-4bad-86d0-59aa74424087",
   "metadata": {},
   "outputs": [
    {
     "data": {
      "text/plain": [
       "[<matplotlib.lines.Line2D at 0x2ab04672e2c0>]"
      ]
     },
     "execution_count": 26,
     "metadata": {},
     "output_type": "execute_result"
    },
    {
     "data": {
      "image/png": "[encoded data removed]",
      "text/plain": [
       "<Figure size 432x432 with 1 Axes>"
      ]
     },
     "metadata": {
      "needs_background": "light"
     },
     "output_type": "display_data"
    }
   ],
   "source": [
    "plt.plot(res, fsc)"
   ]
  },
  {
   "cell_type": "code",
   "execution_count": 27,
   "id": "b7422d1e-7149-4695-aa41-4ed99f81afd3",
   "metadata": {},
   "outputs": [
    {
     "data": {
      "text/plain": [
       "[<matplotlib.lines.Line2D at 0x2ab0460de5f0>]"
      ]
     },
     "execution_count": 27,
     "metadata": {},
     "output_type": "execute_result"
    },
    {
     "data": {
      "image/png": "[encoded data removed]",
      "text/plain": [
       "<Figure size 432x432 with 1 Axes>"
      ]
     },
     "metadata": {
      "needs_background": "light"
     },
     "output_type": "display_data"
    }
   ],
   "source": [
    "res_angs = nx0 * pixel_size/res\n",
    "plt.semilogx(res_angs, fsc)"
   ]
  },
  {
   "cell_type": "code",
   "execution_count": 28,
   "id": "4121ca92-19c9-4672-b063-4a4a0a81ea7e",
   "metadata": {},
   "outputs": [
    {
     "data": {
      "text/plain": [
       "[<matplotlib.lines.Line2D at 0x2ab04672e5c0>]"
      ]
     },
     "execution_count": 28,
     "metadata": {},
     "output_type": "execute_result"
    },
    {
     "data": {
      "image/png": "[encoded data removed]",
      "text/plain": [
       "<Figure size 432x432 with 1 Axes>"
      ]
     },
     "metadata": {
      "needs_background": "light"
     },
     "output_type": "display_data"
    }
   ],
   "source": [
    "res_angs = nx0 * pixel_size/res\n",
    "plt.semilogx(res_angs, fsc)"
   ]
  },
  {
   "cell_type": "code",
   "execution_count": 29,
   "id": "b1c0200a-ee7b-4786-898b-aafbee7bf9c4",
   "metadata": {},
   "outputs": [
    {
     "data": {
      "text/plain": [
       "DeviceArray([367.88751763, 122.62917254,  73.57750353,  52.55535966,\n",
       "              40.87639085,  33.44431978,  28.29903982,  24.52583451,\n",
       "              21.64044221,  19.36250093,  17.51845322,  15.99510946,\n",
       "              14.71550071,  13.62546362,  12.68577647,  11.86733928,\n",
       "              11.14810659,  10.51107193,   9.94290588,   9.43301327,\n",
       "               8.97286628,   8.55552367,   8.17527817,   7.82739399],            dtype=float64)"
      ]
     },
     "execution_count": 29,
     "metadata": {},
     "output_type": "execute_result"
    }
   ],
   "source": [
    "res_angs"
   ]
  },
  {
   "cell_type": "code",
   "execution_count": 30,
   "id": "7ca2e085-c7a3-4047-aa1d-559b5694a682",
   "metadata": {},
   "outputs": [
    {
     "data": {
      "text/plain": [
       "DeviceArray([1.        , 0.99721992, 0.99715111, 0.99527801, 0.99085351,\n",
       "             0.99146465, 0.97129536, 0.98135926, 0.94600769, 0.94383855,\n",
       "             0.9086009 , 0.72981036, 0.8722726 , 0.90724778, 0.90987041,\n",
       "             0.83390653, 0.70441962, 0.90431819, 0.92347127, 0.71232438,\n",
       "             0.76920405, 0.88228017, 0.665072  , 0.71731992],            dtype=float64)"
      ]
     },
     "execution_count": 30,
     "metadata": {},
     "output_type": "execute_result"
    }
   ],
   "source": [
    "fsc"
   ]
  },
  {
   "cell_type": "markdown",
   "id": "8ff608bc-61c7-4c6b-9a4b-ace71e1cb2f6",
   "metadata": {},
   "source": [
    "#### Save the FSC data to file"
   ]
  },
  {
   "cell_type": "code",
   "execution_count": 45,
   "id": "9a691d62-5e25-4c39-bcd0-b092d0bac696",
   "metadata": {},
   "outputs": [
    {
     "data": {
      "text/plain": [
       "'/gpfs/gibbs/pi/lederman/bt387/pims_workshop_data/sim_reconstruction_mcmc/relion_clean'"
      ]
     },
     "execution_count": 45,
     "metadata": {},
     "output_type": "execute_result"
    }
   ],
   "source": [
    "file2_root"
   ]
  },
  {
   "cell_type": "code",
   "execution_count": 47,
   "id": "b99189e1-e440-4237-8048-262d83a8ece3",
   "metadata": {},
   "outputs": [],
   "source": [
    "file = open(f\"{file2_root}_res_angs.pkl\", 'wb')\n",
    "pickle.dump(res_angs, file)\n",
    "file.close()\n",
    "\n",
    "file = open(f\"{file2_root}_fsc.pkl\", 'wb')\n",
    "pickle.dump(fsc, file)\n",
    "file.close()"
   ]
  },
  {
   "cell_type": "code",
   "execution_count": 49,
   "id": "af8cd113-0359-435a-a9bc-34de21448fbe",
   "metadata": {},
   "outputs": [],
   "source": [
    "# Test the above:\n",
    "with open(f\"{file2_root}_res_angs.pkl\", 'rb') as file:\n",
    "    # Call load method to deserialze\n",
    "    res_angs2 = pickle.load(file)\n",
    "with open(f\"{file2_root}_fsc.pkl\", 'rb') as file:\n",
    "    # Call load method to deserialze\n",
    "    fsc2 = pickle.load(file)    "
   ]
  },
  {
   "cell_type": "code",
   "execution_count": 52,
   "id": "ea6df79b-bd21-401d-a75c-d03c47a8df17",
   "metadata": {},
   "outputs": [],
   "source": [
    "assert jnp.sum(jnp.abs(fsc - fsc2)) == 0\n",
    "assert jnp.sum(jnp.abs(res_angs - res_angs2)) == 0"
   ]
  },
  {
   "cell_type": "markdown",
   "id": "d24dcd3a-8931-406c-9c27-6981ce1081ed",
   "metadata": {},
   "source": [
    "#### Save the rotated vol"
   ]
  },
  {
   "cell_type": "code",
   "execution_count": 43,
   "id": "243382bd-ece6-4def-8c40-1455512a8219",
   "metadata": {},
   "outputs": [],
   "source": [
    "vol2_fr, _ = rescale_larger_grid(vol2_fr, grid, nx0)\n",
    "vol2_r = jnp.real(jnp.fft.fftshift(jnp.fft.ifftn(vol2_fr)))\n",
    "with mrcfile.new( f\"{file2_root}_fixed.mrc\", overwrite=True) as mrc:\n",
    "    mrc.set_data(vol2_r.astype(np.float32))"
   ]
  },
  {
   "cell_type": "markdown",
   "id": "7a518a92-e06d-4b40-9671-233b670c0cc6",
   "metadata": {},
   "source": [
    "### Orientation errors for the simulated data"
   ]
  },
  {
   "cell_type": "code",
   "execution_count": null,
   "id": "c3b1949c-43ad-434c-93dd-280047693cff",
   "metadata": {},
   "outputs": [],
   "source": [
    "dataset = \"cryodrgn_noisy\""
   ]
  },
  {
   "cell_type": "code",
   "execution_count": null,
   "id": "d8b4ec21-71ce-450a-b0c5-0afce76ffab0",
   "metadata": {},
   "outputs": [],
   "source": [
    "data_dir = f\"/gpfs/loomis/project/lederman/bt387/simple_cryoem/simulated_dataset20k/{dataset}/\"\n",
    "star_file = \"particles.star\"\n",
    "\n",
    "params0, imgs0 = load_data(data_dir, star_file, load_imgs = False, fourier = False)\n",
    "ctf_params0 = params0[\"ctf_params\"]\n",
    "pixel_size0 = params0[\"pixel_size\"]\n",
    "angles0 = params0[\"angles\"]\n",
    "shifts0 = params0[\"shifts\"]"
   ]
  },
  {
   "cell_type": "code",
   "execution_count": null,
   "id": "098cfb96-4302-4902-bc22-eff05564636c",
   "metadata": {},
   "outputs": [],
   "source": [
    "# My angles\n",
    "with open(f\"/gpfs/loomis/project/lederman/bt387/simple_cryoem/simulated_dataset_results20k/{dataset}/rec_iter_149_angles\", 'rb') as file:\n",
    "    # Call load method to deserialze\n",
    "    angles_rec = pickle.load(file)\n",
    "    \n",
    "angles_rec = angles_rec[0]"
   ]
  },
  {
   "cell_type": "code",
   "execution_count": null,
   "id": "59fed5d5-8cc6-4b3c-b680-d3cfe4ee56e5",
   "metadata": {},
   "outputs": [],
   "source": [
    "#Or relion's angles\n",
    "\n",
    "relion_dir = f\"/gpfs/gibbs/pi/lederman/bt387/simulated_dataset20k/{dataset}/InitialModel/job001/\"\n",
    "relion_star_rec = \"run_it300_data.star\"\n",
    "\n",
    "params_relion, _ = load_data(relion_dir, relion_star_rec, load_imgs = False, fourier = False)\n",
    "angles_rec = params_relion[\"angles\"]\n"
   ]
  },
  {
   "cell_type": "code",
   "execution_count": null,
   "id": "6eaa48bc-c704-45c3-97f3-8a169ad3056f",
   "metadata": {},
   "outputs": [],
   "source": [
    "angles0.shape"
   ]
  },
  {
   "cell_type": "code",
   "execution_count": null,
   "id": "dc304cd4-94a0-455f-bf6c-1c2a71822344",
   "metadata": {},
   "outputs": [],
   "source": [
    "angles_rec.shape"
   ]
  },
  {
   "cell_type": "code",
   "execution_count": null,
   "id": "94967ea1-7ec7-47da-a7b6-910c09925e2e",
   "metadata": {},
   "outputs": [],
   "source": [
    "theta, cord_distance = err_orientations(angles0, angles_rec, angles_good)\n"
   ]
  },
  {
   "cell_type": "code",
   "execution_count": null,
   "id": "1cae7d21-fd37-47dc-8aaa-7a95e8766221",
   "metadata": {},
   "outputs": [],
   "source": [
    "angles_good"
   ]
  },
  {
   "cell_type": "code",
   "execution_count": null,
   "id": "04636f3d-87bc-484e-b355-15a1f56ddcdc",
   "metadata": {},
   "outputs": [],
   "source": [
    "nbins=100\n",
    "counts, bins = np.histogram(theta, bins=nbins)\n",
    "_ = plt.hist(bins[:-1], bins, weights=counts)"
   ]
  },
  {
   "cell_type": "code",
   "execution_count": null,
   "id": "931a0c24-f468-42c3-9337-db09017a448d",
   "metadata": {},
   "outputs": [],
   "source": [
    "nbins=100\n",
    "counts, bins = np.histogram(theta, bins=nbins)\n",
    "_ = plt.hist(bins[:-1], bins, weights=counts)"
   ]
  },
  {
   "cell_type": "code",
   "execution_count": null,
   "id": "7c11c6e3-ddd0-4400-997c-3b25d939232f",
   "metadata": {},
   "outputs": [],
   "source": [
    "jnp.max(bins)"
   ]
  },
  {
   "cell_type": "code",
   "execution_count": null,
   "id": "0817b4f2-a0a8-4a90-adb4-5d1d833dd643",
   "metadata": {},
   "outputs": [],
   "source": [
    "nbins=100\n",
    "counts, bins = np.histogram((theta - jnp.median(theta))**2, bins=nbins)\n",
    "_ = plt.hist(bins[:-1], bins, weights=counts)"
   ]
  },
  {
   "cell_type": "code",
   "execution_count": null,
   "id": "d6dd329b-4c83-4837-8cfa-9003ff28b3a3",
   "metadata": {},
   "outputs": [],
   "source": [
    "nbins = 100\n",
    "counts, bins = np.histogram(cord_distance, bins=nbins)\n",
    "_ = plt.hist(bins[:-1], bins, weights=counts)"
   ]
  },
  {
   "cell_type": "code",
   "execution_count": null,
   "id": "79e217f2-b43f-473a-a15f-4289eb5caf59",
   "metadata": {},
   "outputs": [],
   "source": [
    "nbins = 100\n",
    "counts, bins = np.histogram((cord_distance - jnp.median(cord_distance))**2, bins=nbins)\n",
    "_ = plt.hist(bins[:-1], bins, weights=counts)"
   ]
  },
  {
   "cell_type": "code",
   "execution_count": null,
   "id": "c948e7c7-e71a-4c3c-bc75-6c2b27d84421",
   "metadata": {},
   "outputs": [],
   "source": []
  },
  {
   "cell_type": "code",
   "execution_count": null,
   "id": "31c7ecf8-efe0-4862-95d7-228ccb03d064",
   "metadata": {},
   "outputs": [],
   "source": [
    "jnp.max(bins)"
   ]
  },
  {
   "cell_type": "code",
   "execution_count": null,
   "id": "04230418-934c-473b-8d8a-01a477156ad4",
   "metadata": {},
   "outputs": [],
   "source": [
    "jnp.median(cord_distance)"
   ]
  },
  {
   "cell_type": "code",
   "execution_count": null,
   "id": "46f3b88b-1ab4-4b7f-9f53-0346ffb02eb7",
   "metadata": {},
   "outputs": [],
   "source": [
    "jnp.median(cord_distance)"
   ]
  },
  {
   "cell_type": "code",
   "execution_count": null,
   "id": "69d51355-64aa-4694-9816-82fae7b494ba",
   "metadata": {},
   "outputs": [],
   "source": [
    "jnp.median((cord_distance)**2)"
   ]
  },
  {
   "cell_type": "code",
   "execution_count": null,
   "id": "421ed601-79a6-499e-aef0-8bb0f6e2b9b6",
   "metadata": {},
   "outputs": [],
   "source": [
    "jnp.median((cord_distance - jnp.median(cord_distance))**2)"
   ]
  },
  {
   "cell_type": "code",
   "execution_count": null,
   "id": "d5f9492c-d2c1-41c5-a642-948d2eb4b33f",
   "metadata": {},
   "outputs": [],
   "source": [
    "plt.plot(jnp.sort(cord_distance))"
   ]
  },
  {
   "cell_type": "code",
   "execution_count": null,
   "id": "d8d11df8-c439-4397-9c2e-1d1df02bc70a",
   "metadata": {},
   "outputs": [],
   "source": [
    "plt.plot(jnp.sort((cord_distance - jnp.median(cord_distance))**2))"
   ]
  },
  {
   "cell_type": "code",
   "execution_count": null,
   "id": "5c9f07b2-1841-49f1-ad7a-2b8afa0132ed",
   "metadata": {},
   "outputs": [],
   "source": []
  },
  {
   "cell_type": "markdown",
   "id": "12c4bf43-00fd-4b04-b6aa-55cb317b80e3",
   "metadata": {},
   "source": [
    "### Misc"
   ]
  },
  {
   "cell_type": "code",
   "execution_count": null,
   "id": "d5c3828e-ab84-4995-bf05-1349b4b9bcd5",
   "metadata": {},
   "outputs": [],
   "source": [
    "file1 = \"/gpfs/gibbs/pi/lederman/bt387/exp_data/output_simple_cryoem1v/rec_iter_150.mrc\"\n",
    "#file1 = \"/gpfs/gibbs/pi/lederman/bt387/simulated_dataset10k/relion_clean/InitialModel/job001/run_it300_class001.mrc\"\n",
    "\n",
    "nx0 = 320\n",
    "pixel_size = 1.31\n",
    "\n",
    "vol1 = mrcfile.open(file1).data\n",
    "\n",
    "vol1_f, _, _ = volume_fourier(vol1, pixel_size)"
   ]
  },
  {
   "cell_type": "code",
   "execution_count": null,
   "id": "5617d487-2aa2-4439-8ced-dfe5e6df4211",
   "metadata": {},
   "outputs": [],
   "source": [
    "grid = [1, vol1_f.shape[0]]\n",
    "vol_fc, _ = rescale_larger_grid(vol1_f, grid, 320)\n",
    "vol_rc = np.real(np.fft.fftshift(np.fft.ifftn(vol_fc)))\n"
   ]
  },
  {
   "cell_type": "code",
   "execution_count": null,
   "id": "c99bbc24-832c-4b66-bb26-0949ba830bea",
   "metadata": {},
   "outputs": [],
   "source": [
    "mip_x(vol_rc)"
   ]
  },
  {
   "cell_type": "code",
   "execution_count": null,
   "id": "5abf613f-e11c-4f66-ba96-39756029f006",
   "metadata": {},
   "outputs": [],
   "source": [
    "vol_rc = jnp.flip(vol_rc, axis=0)"
   ]
  },
  {
   "cell_type": "code",
   "execution_count": null,
   "id": "315b6725-4f08-4948-b919-12bd4befa672",
   "metadata": {},
   "outputs": [],
   "source": [
    "#with mrcfile.new(f\"/gpfs/gibbs/pi/lederman/bt387/exp_data/vol2_test10.mrc\", overwrite=True) as mrc:\n",
    "#    mrc.set_data(vol_rc.astype(np.float32))"
   ]
  },
  {
   "cell_type": "code",
   "execution_count": null,
   "id": "38601dff-cb95-4b50-b6af-28676c3dffb6",
   "metadata": {},
   "outputs": [],
   "source": []
  },
  {
   "cell_type": "code",
   "execution_count": null,
   "id": "5cee04ad-9dc9-443e-bc17-c693fc1e4dee",
   "metadata": {},
   "outputs": [],
   "source": []
  }
 ],
 "metadata": {
  "kernelspec": {
   "display_name": "Python 3 (ipykernel)",
   "language": "python",
   "name": "python3"
  },
  "language_info": {
   "codemirror_mode": {
    "name": "ipython",
    "version": 3
   },
   "file_extension": ".py",
   "mimetype": "text/x-python",
   "name": "python",
   "nbconvert_exporter": "python",
   "pygments_lexer": "ipython3",
   "version": "3.10.2"
  }
 },
 "nbformat": 4,
 "nbformat_minor": 5
}
