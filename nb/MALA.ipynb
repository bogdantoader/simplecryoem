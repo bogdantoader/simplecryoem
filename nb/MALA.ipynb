{
 "cells": [
  {
   "cell_type": "markdown",
   "id": "a9b1220d-4cb0-4cfd-92e1-80c47493c02e",
   "metadata": {},
   "source": [
    "# MALA"
   ]
  },
  {
   "cell_type": "code",
   "execution_count": 1,
   "id": "b5d3ce57-cf28-4cf8-8bf8-b5261bf9f31f",
   "metadata": {},
   "outputs": [],
   "source": [
    "%load_ext autoreload\n",
    "%autoreload 2\n",
    "import site\n",
    "import sys\n",
    "import time\n",
    "site.addsitedir('..')\n",
    "from jax.config import config\n",
    "\n",
    "config.update(\"jax_enable_x64\", True)\n",
    "\n",
    "import numpy as np\n",
    "import jax.numpy as jn\n",
    "from  matplotlib import pyplot as plt\n",
    "import jax\n",
    "from jax import random\n",
    "\n",
    "from src.utils import l2sq\n",
    "from src.algorithm import*\n",
    "\n",
    "plt.rcParams[\"figure.figsize\"]=8,8"
   ]
  },
  {
   "cell_type": "code",
   "execution_count": 2,
   "id": "ce468437-1055-46ee-8914-131bd888ad08",
   "metadata": {},
   "outputs": [
    {
     "name": "stdout",
     "output_type": "stream",
     "text": [
      "[[2.1951485  1.2299898 ]\n",
      " [1.2299898  3.83718402]]\n"
     ]
    },
    {
     "data": {
      "text/plain": [
       "(-12.0, 12.0)"
      ]
     },
     "execution_count": 2,
     "metadata": {},
     "output_type": "execute_result"
    },
    {
     "data": {
      "image/png": "[encoded data removed]",
      "text/plain": [
       "<Figure size 576x576 with 1 Axes>"
      ]
     },
     "metadata": {
      "needs_background": "light"
     },
     "output_type": "display_data"
    }
   ],
   "source": [
    "key = random.PRNGKey(int(jnp.floor(np.random.rand()*1000)))\n",
    "\n",
    "k = 2\n",
    "M = jnp.zeros(k)\n",
    "#c = jnp.array([[1,0],[0,10]])\n",
    "#c_inv = jnp.array([[1, 0], [0,1/10]])\n",
    "\n",
    "key, *sk = random.split(key, 4)\n",
    "V = random.normal(sk[0], [k, k])\n",
    "Q, _ = jnp.linalg.qr(V)\n",
    "d = jnp.diag(random.uniform(sk[1], (k,))*10)\n",
    "D= d.at[d < 0].set(0)\n",
    "C = Q.transpose() @ D @ Q\n",
    "C_inv = Q.transpose() @ jnp.diag(1/jnp.diag(D)) @ Q\n",
    "print(C)\n",
    "\n",
    "S = random.multivariate_normal(sk[2], M, C, (1000,))\n",
    "plt.scatter(S[:,0], S[:,1])\n",
    "plt.xlim(-12,12)\n",
    "plt.ylim(-12,12)"
   ]
  },
  {
   "cell_type": "code",
   "execution_count": 36,
   "id": "297fefcf-12a6-43f2-9aed-2a8d033b29b5",
   "metadata": {},
   "outputs": [],
   "source": [
    "logPi = lambda x : -1/2 * (x-M) @ C_inv @ (x-M) - jnp.log(jnp.sqrt((2*jnp.pi)**k * jnp.linalg.det(C)))\n",
    "gradLogPi = jax.grad(logPi)\n",
    "\n",
    "pi = lambda x : jnp.exp(logPi(x))\n",
    "logPi = jax.jit(logPi)\n",
    "gradLogPi = jax.jit(gradLogPi)"
   ]
  },
  {
   "cell_type": "code",
   "execution_count": 38,
   "id": "76a9ed5c-793b-4475-8ec1-809bb5cbeef9",
   "metadata": {},
   "outputs": [
    {
     "data": {
      "text/plain": [
       "DeviceArray([-0.88996667,  1.58831317], dtype=float64)"
      ]
     },
     "execution_count": 38,
     "metadata": {},
     "output_type": "execute_result"
    }
   ],
   "source": [
    "logPi(jnp.array([10,20]))\n",
    "gradLogPi(jnp.array([0.,-5.]))"
   ]
  },
  {
   "cell_type": "code",
   "execution_count": null,
   "id": "4d23df4d-40f5-4c9e-a78b-2ec3cd5ad1c9",
   "metadata": {},
   "outputs": [],
   "source": [
    "#x = jnp.arange(-20,20)\n",
    "#y = [pi(jnp.array([0,xi])) for xi in x]\n",
    "#plt.plot(x,y)\n",
    "#plt.show\n",
    "#y2 = [pi(jnp.array([xi,0])) for xi in x]\n",
    "#plt.plot(x,y2)\n",
    "#plt.show()\n",
    "#y3 = [logPi(jnp.array([0,xi])) for xi in x]\n",
    "#plt.plot(x,y3)\n",
    "\n",
    "#gradLogPi(jnp.array([0.,-5.]))"
   ]
  },
  {
   "cell_type": "code",
   "execution_count": 7,
   "id": "ddb04d8a-2332-4508-9b79-ade02603b5d7",
   "metadata": {},
   "outputs": [
    {
     "name": "stdout",
     "output_type": "stream",
     "text": [
      "[  0 176]\n"
     ]
    }
   ],
   "source": [
    "key = random.PRNGKey(int(jnp.floor(np.random.rand()*1000)))\n",
    "print(key)"
   ]
  },
  {
   "cell_type": "code",
   "execution_count": 8,
   "id": "b8aeb931-24da-4f2a-8bac-a1d784cc4dd9",
   "metadata": {},
   "outputs": [
    {
     "name": "stdout",
     "output_type": "stream",
     "text": [
      "[  0 176]\n",
      "[2827728980 1399233544]\n",
      "[3030550828 2659192140]\n",
      "[ 841176681 4150864534]\n"
     ]
    }
   ],
   "source": [
    "print(key)\n",
    "key, sk1, sk2 = random.split(key,3)\n",
    "print(key)\n",
    "#print(random.normal(key))\n",
    "\n",
    "print(sk1)\n",
    "print(sk2)\n",
    "#print(random.normal(subkey))\n"
   ]
  },
  {
   "cell_type": "code",
   "execution_count": 105,
   "id": "801e43ec-6730-4e08-9417-ddc1731bfbb6",
   "metadata": {},
   "outputs": [],
   "source": [
    "#x0 = jnp.zeros(k)\n",
    "#x0 = jnp.array([20,0,-2])\n",
    "x0 = jnp.array(np.random.randn(k))\n",
    "tau = 1\n",
    "N = 100\n",
    "\n",
    "key, *keys = random.split(key, 2*N+1)"
   ]
  },
  {
   "cell_type": "code",
   "execution_count": 110,
   "id": "50a9ffcf-06a6-4f28-b05d-5c7d3704acd3",
   "metadata": {},
   "outputs": [
    {
     "name": "stdout",
     "output_type": "stream",
     "text": [
      "Time  0.6819913387298584\n"
     ]
    }
   ],
   "source": [
    "x1 = []\n",
    "x1.append(x0)\n",
    "rr = []\n",
    "rr.append(1)\n",
    "x1c = x0\n",
    "\n",
    "t0 = time.time()\n",
    "for i in jnp.arange(1, N):\n",
    "\n",
    "    x1p = x1c\n",
    "    x1c, r = mala_proposal(keys[2*i], logPi, gradLogPi, x1[i-1], tau)\n",
    "    a = jnp.minimum(1, r)\n",
    "    rr.append(a)\n",
    "    \n",
    "    x1c = jax.lax.cond(random.uniform(keys[2*i+1]) < a,\n",
    "        true_fun = lambda _ : x1c,\n",
    "        false_fun = lambda _ : x1p,\n",
    "        operand = None)\n",
    "    \n",
    "    x1.append(x1c)\n",
    "        \n",
    "print(\"Time \", time.time()-t0)\n",
    "\n",
    "x1 = jnp.array(x1)\n",
    "rr = jnp.array(rr)"
   ]
  },
  {
   "cell_type": "code",
   "execution_count": 67,
   "id": "93a5de69-e632-4465-a30c-f152eae8a4e9",
   "metadata": {},
   "outputs": [
    {
     "name": "stdout",
     "output_type": "stream",
     "text": [
      "Mean error = 0.04893401508478727\n",
      "Covariance error = 0.037753091112253494\n"
     ]
    },
    {
     "data": {
      "image/png": "[encoded data removed]",
      "text/plain": [
       "<Figure size 1152x576 with 2 Axes>"
      ]
     },
     "metadata": {
      "needs_background": "light"
     },
     "output_type": "display_data"
    }
   ],
   "source": [
    "plt.rcParams[\"figure.figsize\"]=16,8\n",
    "\n",
    "plt.subplot(1,2,1)\n",
    "plt.scatter(x1[:,0], x1[:,1])\n",
    "plt.xlim(-20,20)\n",
    "plt.ylim(-20,20)\n",
    "\n",
    "plt.subplot(1,2,2)\n",
    "plt.plot(rr)\n",
    "\n",
    "plt.rcParams[\"figure.figsize\"]=8,8\n",
    "\n",
    "M_est = jnp.mean(x1, axis = 0)\n",
    "print(\"Mean error =\", jnp.linalg.norm(M - M_est))\n",
    "\n",
    "C_est = jnp.cov(x1.transpose())\n",
    "print(\"Covariance error =\", jnp.linalg.norm(C - C_est)/jnp.linalg.norm(C))"
   ]
  },
  {
   "cell_type": "code",
   "execution_count": 102,
   "id": "651eecd9-a4a6-4baf-bea6-e98dacd2dccf",
   "metadata": {},
   "outputs": [
    {
     "name": "stdout",
     "output_type": "stream",
     "text": [
      "0.002933979034423828\n"
     ]
    }
   ],
   "source": [
    "t0 = time.time()\n",
    "mala_proposal(key, logPi, gradLogPi, x1[0], tau)\n",
    "print(time.time() - t0)"
   ]
  },
  {
   "cell_type": "code",
   "execution_count": null,
   "id": "2f0f2362-7ac5-417b-87fb-31eddac0e7e2",
   "metadata": {},
   "outputs": [],
   "source": []
  }
 ],
 "metadata": {
  "kernelspec": {
   "display_name": "Python 3 (ipykernel)",
   "language": "python",
   "name": "python3"
  },
  "language_info": {
   "codemirror_mode": {
    "name": "ipython",
    "version": 3
   },
   "file_extension": ".py",
   "mimetype": "text/x-python",
   "name": "python",
   "nbconvert_exporter": "python",
   "pygments_lexer": "ipython3",
   "version": "3.10.2"
  }
 },
 "nbformat": 4,
 "nbformat_minor": 5
}
