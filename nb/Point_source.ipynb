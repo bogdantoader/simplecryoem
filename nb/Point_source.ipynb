{
 "cells": [
  {
   "cell_type": "markdown",
   "id": "b8f85bcc-8713-49d3-89e0-e057fa6d0dc7",
   "metadata": {},
   "source": [
    "# Point source - still not working. calculate everything analytically from the vol back to projected image."
   ]
  },
  {
   "cell_type": "code",
   "execution_count": 1,
   "id": "0436bb4f-fe37-4a8d-8fd8-5a33bcaf6fc2",
   "metadata": {},
   "outputs": [],
   "source": [
    "%load_ext autoreload\n",
    "%autoreload 2\n",
    "import site\n",
    "import sys\n",
    "site.addsitedir('..')"
   ]
  },
  {
   "cell_type": "code",
   "execution_count": 2,
   "id": "b05aab76-1ef7-44ac-9d04-9969e3015d8b",
   "metadata": {},
   "outputs": [],
   "source": [
    "import numpy as np\n",
    "from  matplotlib import pyplot as plt\n",
    "from src.utils import *\n",
    "from src.projection import project, rotate\n",
    "from src.interpolate import *"
   ]
  },
  {
   "cell_type": "code",
   "execution_count": 75,
   "id": "f5d64f21-2e37-44ec-8a61-e7b9a2648490",
   "metadata": {},
   "outputs": [
    {
     "data": {
      "text/plain": [
       "<matplotlib.colorbar.Colorbar at 0x1126a8c10>"
      ]
     },
     "execution_count": 75,
     "metadata": {},
     "output_type": "execute_result"
    },
    {
     "data": {
      "image/png": "[encoded data removed]",
      "text/plain": [
       "<Figure size 432x288 with 2 Axes>"
      ]
     },
     "metadata": {
      "needs_background": "light"
     },
     "output_type": "display_data"
    }
   ],
   "source": [
    "nx = 5\n",
    "shape = np.array([nx, nx, nx])\n",
    "dimensions = np.array([1, 1, 1])\n",
    "radius = 1/(2*nx)\n",
    "centre = np.array([0.2,0,0])\n",
    "intensity = 1\n",
    "\n",
    "v = spherical_volume(shape, dimensions, centre, radius, intensity, False)\n",
    "plt.imshow(v[:,:,2])\n",
    "plt.colorbar()"
   ]
  },
  {
   "cell_type": "code",
   "execution_count": 76,
   "id": "dfce72e7-81d3-47bc-8f57-cd2f98440f2c",
   "metadata": {},
   "outputs": [],
   "source": [
    "v_f, X_f, Y_f, Z_f, _, _, _ = volume_fourier(v, dimensions)\n",
    "#plt.imshow(np.real(v_f[:,:,0])); plt.colorbar()"
   ]
  },
  {
   "cell_type": "code",
   "execution_count": 78,
   "id": "5a681889-e6a9-4ff9-a9ca-60396b4af4cb",
   "metadata": {},
   "outputs": [
    {
     "data": {
      "text/plain": [
       "<matplotlib.colorbar.Colorbar at 0x1128093d0>"
      ]
     },
     "execution_count": 78,
     "metadata": {},
     "output_type": "execute_result"
    },
    {
     "data": {
      "image/png": "[encoded data removed]",
      "text/plain": [
       "<Figure size 432x288 with 2 Axes>"
      ]
     },
     "metadata": {
      "needs_background": "light"
     },
     "output_type": "display_data"
    }
   ],
   "source": [
    "angles = np.array([0,0,np.pi/2])\n",
    "slice_num, slice_X, slice_Y, slice_Z = project(v_f, X_f, Y_f, Z_f, angles, \"nn\")\n",
    "\n",
    "v_fi = np.fft.ifftn(slice_num)\n",
    "plt.imshow(np.real(v_fi))\n",
    "plt.colorbar()"
   ]
  },
  {
   "cell_type": "code",
   "execution_count": 68,
   "id": "e3bb783a",
   "metadata": {},
   "outputs": [
    {
     "data": {
      "text/plain": [
       "array([[0., 0., 0., 0., 0.],\n",
       "       [0., 0., 0., 0., 0.],\n",
       "       [0., 0., 0., 0., 0.],\n",
       "       [0., 0., 0., 0., 0.],\n",
       "       [0., 0., 0., 0., 0.]])"
      ]
     },
     "execution_count": 68,
     "metadata": {},
     "output_type": "execute_result"
    }
   ],
   "source": [
    "np.imag(v_fi)"
   ]
  },
  {
   "cell_type": "code",
   "execution_count": 55,
   "id": "54a15744-7c6f-4b8f-a948-7f56129622f5",
   "metadata": {},
   "outputs": [
    {
     "data": {
      "text/plain": [
       "array([[0., 0., 0., 0., 0.],\n",
       "       [0., 0., 0., 0., 0.],\n",
       "       [0., 0., 1., 0., 0.],\n",
       "       [0., 0., 0., 0., 0.],\n",
       "       [0., 0., 0., 0., 0.]])"
      ]
     },
     "execution_count": 55,
     "metadata": {},
     "output_type": "execute_result"
    }
   ],
   "source": [
    "v_fi = np.real(v_fi)\n",
    "v_fi[v_fi < 1e-14] = 0\n",
    "v_fi"
   ]
  },
  {
   "cell_type": "code",
   "execution_count": 7,
   "id": "80218279-55e4-46e2-a838-28bc542db944",
   "metadata": {},
   "outputs": [
    {
     "data": {
      "text/plain": [
       "<matplotlib.colorbar.Colorbar at 0x110a8b460>"
      ]
     },
     "execution_count": 7,
     "metadata": {},
     "output_type": "execute_result"
    },
    {
     "data": {
      "image/png": "[encoded data removed]",
      "text/plain": [
       "<Figure size 432x288 with 2 Axes>"
      ]
     },
     "metadata": {
      "needs_background": "light"
     },
     "output_type": "display_data"
    }
   ],
   "source": [
    "plt.imshow(np.fft.fftshift(X_f[:,:,0])); plt.colorbar()"
   ]
  },
  {
   "cell_type": "code",
   "execution_count": 8,
   "id": "3f38c897-519e-4c74-9785-26b66d814c50",
   "metadata": {},
   "outputs": [
    {
     "data": {
      "text/plain": [
       "array([[ 2.0000000e+00,  1.0000000e+00,  2.4492936e-16, -1.0000000e+00,\n",
       "        -2.0000000e+00],\n",
       "       [ 2.0000000e+00,  1.0000000e+00,  1.2246468e-16, -1.0000000e+00,\n",
       "        -2.0000000e+00],\n",
       "       [ 2.0000000e+00,  1.0000000e+00,  0.0000000e+00, -1.0000000e+00,\n",
       "        -2.0000000e+00],\n",
       "       [ 2.0000000e+00,  1.0000000e+00, -1.2246468e-16, -1.0000000e+00,\n",
       "        -2.0000000e+00],\n",
       "       [ 2.0000000e+00,  1.0000000e+00, -2.4492936e-16, -1.0000000e+00,\n",
       "        -2.0000000e+00]])"
      ]
     },
     "execution_count": 8,
     "metadata": {},
     "output_type": "execute_result"
    },
    {
     "data": {
      "image/png": "[encoded data removed]",
      "text/plain": [
       "<Figure size 432x288 with 2 Axes>"
      ]
     },
     "metadata": {
      "needs_background": "light"
     },
     "output_type": "display_data"
    }
   ],
   "source": [
    "X_fr, _, _ = rotate(X_f, Y_f, Z_f, np.array([0,0,np.pi]))\n",
    "plt.imshow(np.fft.fftshift(X_fr[:,:,0])); plt.colorbar()\n",
    "np.fft.fftshift(X_fr[:,:,0])"
   ]
  },
  {
   "cell_type": "markdown",
   "id": "0655e15a-7d52-454b-9c31-e19b6248a783",
   "metadata": {},
   "source": [
    "## The same, analytically"
   ]
  },
  {
   "cell_type": "code",
   "execution_count": 9,
   "id": "232b0d05-3c9f-4cf5-9407-1ca1fc1bef69",
   "metadata": {},
   "outputs": [
    {
     "data": {
      "text/plain": [
       "<matplotlib.colorbar.Colorbar at 0x110bfe910>"
      ]
     },
     "execution_count": 9,
     "metadata": {},
     "output_type": "execute_result"
    },
    {
     "data": {
      "image/png": "[encoded data removed]",
      "text/plain": [
       "<Figure size 432x288 with 2 Axes>"
      ]
     },
     "metadata": {
      "needs_background": "light"
     },
     "output_type": "display_data"
    }
   ],
   "source": [
    "# Fourier transform of a 5 x 5 x 5 cube v with v[3,2,2] = 1 and 0 otherwise.\n",
    "\n",
    "krange = np.arange(5)\n",
    "X, Y, Z = np.meshgrid(krange, krange, krange)\n",
    "V = np.exp(-1j * 2 * np.pi / 5 * (3*X + 2*Y + 2*Z))\n",
    "plt.imshow(np.real(V[:,:,0])); plt.colorbar()"
   ]
  },
  {
   "cell_type": "code",
   "execution_count": 10,
   "id": "512cb702-e814-40ce-bffb-8073ea1d6b4e",
   "metadata": {},
   "outputs": [
    {
     "data": {
      "text/plain": [
       "1.355199909595506e-15"
      ]
     },
     "execution_count": 10,
     "metadata": {},
     "output_type": "execute_result"
    }
   ],
   "source": [
    "# And it's the same\n",
    "\n",
    "np.max(abs(v_f - V))"
   ]
  },
  {
   "cell_type": "code",
   "execution_count": 11,
   "id": "5ba88642-020d-472d-9fe8-059a83e36a97",
   "metadata": {},
   "outputs": [
    {
     "data": {
      "text/plain": [
       "7.061762682054096e-16"
      ]
     },
     "execution_count": 11,
     "metadata": {},
     "output_type": "execute_result"
    }
   ],
   "source": [
    "Vi = np.fft.ifftn(V)\n",
    "np.max(np.imag(Vi))"
   ]
  },
  {
   "cell_type": "code",
   "execution_count": 12,
   "id": "7abac57d-ae47-4198-b2a9-d23fb52dde1f",
   "metadata": {},
   "outputs": [
    {
     "data": {
      "text/plain": [
       "<matplotlib.colorbar.Colorbar at 0x110b9c970>"
      ]
     },
     "execution_count": 12,
     "metadata": {},
     "output_type": "execute_result"
    },
    {
     "data": {
      "image/png": "[encoded data removed]",
      "text/plain": [
       "<Figure size 432x288 with 2 Axes>"
      ]
     },
     "metadata": {
      "needs_background": "light"
     },
     "output_type": "display_data"
    }
   ],
   "source": [
    "Vi = np.real(Vi)\n",
    "plt.imshow(Vi[:,:,2]); plt.colorbar()"
   ]
  },
  {
   "cell_type": "code",
   "execution_count": 271,
   "id": "7a0a5ee8-f4cb-4f5b-a17f-27d9cdf9b88e",
   "metadata": {},
   "outputs": [],
   "source": [
    "Vi[Vi < 1e-14] = 0"
   ]
  },
  {
   "cell_type": "code",
   "execution_count": 272,
   "id": "b56ae66b-21f6-443c-9985-fdabb9d6e0e0",
   "metadata": {},
   "outputs": [
    {
     "data": {
      "text/plain": [
       "array([[0., 0., 0., 0., 0.],\n",
       "       [0., 0., 0., 0., 0.],\n",
       "       [0., 0., 0., 1., 0.],\n",
       "       [0., 0., 0., 0., 0.],\n",
       "       [0., 0., 0., 0., 0.]])"
      ]
     },
     "execution_count": 272,
     "metadata": {},
     "output_type": "execute_result"
    }
   ],
   "source": [
    "Vi[:,:,2]"
   ]
  },
  {
   "cell_type": "code",
   "execution_count": 273,
   "id": "edc5f9a7-b1ca-44e1-a2bb-2b480018ac85",
   "metadata": {},
   "outputs": [
    {
     "data": {
      "text/plain": [
       "1.0"
      ]
     },
     "execution_count": 273,
     "metadata": {},
     "output_type": "execute_result"
    }
   ],
   "source": [
    "\n",
    "Vi[2,3,2]"
   ]
  },
  {
   "cell_type": "code",
   "execution_count": 101,
   "id": "ad9c726c-f9d1-4a8c-bb77-838c60c3c963",
   "metadata": {},
   "outputs": [
    {
     "data": {
      "text/plain": [
       "array([0., 0., 1., 0., 0.])"
      ]
     },
     "execution_count": 101,
     "metadata": {},
     "output_type": "execute_result"
    }
   ],
   "source": [
    "Vi[:,3,2]"
   ]
  },
  {
   "cell_type": "code",
   "execution_count": 104,
   "id": "523827b1-ff41-4006-b6bb-9ecd99d44d29",
   "metadata": {},
   "outputs": [
    {
     "data": {
      "text/plain": [
       "array([0., 0., 0., 1., 0.])"
      ]
     },
     "execution_count": 104,
     "metadata": {},
     "output_type": "execute_result"
    }
   ],
   "source": [
    "Vi[2,:,2]"
   ]
  },
  {
   "cell_type": "code",
   "execution_count": 160,
   "id": "d7983853-8d76-4763-a98d-872bd899935e",
   "metadata": {},
   "outputs": [],
   "source": [
    "x = np.arange(10)\n",
    "y = np.arange(10,100,10)\n",
    "z = np.arange(100,1000,100)"
   ]
  },
  {
   "cell_type": "code",
   "execution_count": 166,
   "id": "a2021ad9-e857-48d0-a41f-4779193bedc7",
   "metadata": {},
   "outputs": [
    {
     "name": "stderr",
     "output_type": "stream",
     "text": [
      "/var/folders/lc/3jfnysx1275gg3h_gcdxfgcr0000gn/T/ipykernel_21651/2839497825.py:1: VisibleDeprecationWarning: Creating an ndarray from ragged nested sequences (which is a list-or-tuple of lists-or-tuples-or ndarrays with different lengths or shapes) is deprecated. If you meant to do this, you must specify 'dtype=object' when creating the ndarray.\n",
      "  np.array([x,y,z])\n"
     ]
    },
    {
     "data": {
      "text/plain": [
       "array([array([0, 1, 2, 3, 4, 5, 6, 7, 8, 9]),\n",
       "       array([10, 20, 30, 40, 50, 60, 70, 80, 90]),\n",
       "       array([100, 200, 300, 400, 500, 600, 700, 800, 900])], dtype=object)"
      ]
     },
     "execution_count": 166,
     "metadata": {},
     "output_type": "execute_result"
    }
   ],
   "source": [
    "np.array([x,y,z])"
   ]
  },
  {
   "cell_type": "code",
   "execution_count": 176,
   "id": "19128935-f127-48bb-a9f1-300ab12c3deb",
   "metadata": {},
   "outputs": [
    {
     "data": {
      "text/plain": [
       "array([[  1,   2,   3,   4,   5,   6,   7],\n",
       "       [ 10,  20,  30,  40,  50,  60,  70],\n",
       "       [100, 200, 300, 400, 500, 600, 700]])"
      ]
     },
     "execution_count": 176,
     "metadata": {},
     "output_type": "execute_result"
    }
   ],
   "source": [
    "i_coords = np.array([[1,2,3,4,5,6,7],[10,20,30,40,50,60,70],[100,200,300,400,500,600,700]])\n",
    "x"
   ]
  },
  {
   "cell_type": "code",
   "execution_count": 178,
   "id": "015cd63b-906f-4475-97af-c920b2ccdffa",
   "metadata": {},
   "outputs": [
    {
     "data": {
      "text/plain": [
       "2"
      ]
     },
     "execution_count": 178,
     "metadata": {},
     "output_type": "execute_result"
    }
   ],
   "source": [
    "x[0,1]"
   ]
  },
  {
   "cell_type": "code",
   "execution_count": null,
   "id": "60499038-2cfe-43da-86a1-fe3fd47110f4",
   "metadata": {},
   "outputs": [],
   "source": []
  }
 ],
 "metadata": {
  "kernelspec": {
   "display_name": "Python 3 (ipykernel)",
   "language": "python",
   "name": "python3"
  },
  "language_info": {
   "codemirror_mode": {
    "name": "ipython",
    "version": 3
   },
   "file_extension": ".py",
   "mimetype": "text/x-python",
   "name": "python",
   "nbconvert_exporter": "python",
   "pygments_lexer": "ipython3",
   "version": "3.9.6"
  }
 },
 "nbformat": 4,
 "nbformat_minor": 5
}
