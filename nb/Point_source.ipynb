{
 "cells": [
  {
   "cell_type": "markdown",
   "id": "3d4db7a9-e8a9-45da-a6ac-b229ed09e841",
   "metadata": {},
   "source": [
    "# $\\pi/2$ rotation in the $xy$ plane"
   ]
  },
  {
   "cell_type": "code",
   "execution_count": 197,
   "id": "0436bb4f-fe37-4a8d-8fd8-5a33bcaf6fc2",
   "metadata": {},
   "outputs": [
    {
     "name": "stdout",
     "output_type": "stream",
     "text": [
      "The autoreload extension is already loaded. To reload it, use:\n",
      "  %reload_ext autoreload\n"
     ]
    }
   ],
   "source": [
    "%load_ext autoreload\n",
    "%autoreload 2\n",
    "import site\n",
    "import sys\n",
    "site.addsitedir('..')"
   ]
  },
  {
   "cell_type": "code",
   "execution_count": 198,
   "id": "b05aab76-1ef7-44ac-9d04-9969e3015d8b",
   "metadata": {},
   "outputs": [],
   "source": [
    "import numpy as np\n",
    "from  matplotlib import pyplot as plt\n",
    "from src.utils import *\n",
    "from src.projection import project_spatial, project, rotate\n",
    "from src.interpolate import *"
   ]
  },
  {
   "cell_type": "code",
   "execution_count": 199,
   "id": "f5d64f21-2e37-44ec-8a61-e7b9a2648490",
   "metadata": {},
   "outputs": [
    {
     "data": {
      "image/png": "[encoded data removed]",
      "text/plain": [
       "<Figure size 432x288 with 2 Axes>"
      ]
     },
     "metadata": {
      "needs_background": "light"
     },
     "output_type": "display_data"
    }
   ],
   "source": [
    "nx = 5\n",
    "shape = np.array([nx, nx, nx])\n",
    "dimensions = np.array([1, 1, 1])\n",
    "radius = 1/(2*nx)\n",
    "centre = np.array([0.2,0,0])\n",
    "intensity = 1\n",
    "\n",
    "v = spherical_volume(shape, dimensions, centre, radius, intensity, False)\n",
    "plt.imshow(v[:,:,2]); plt.colorbar()\n",
    "\n",
    "angles = np.array([0,0,np.pi/2])"
   ]
  },
  {
   "cell_type": "code",
   "execution_count": 200,
   "id": "4b64002d-55fc-4202-af9f-fdea16c4ec60",
   "metadata": {},
   "outputs": [],
   "source": [
    "point_idx = np.array(list(np.where(v == 1))).flatten()"
   ]
  },
  {
   "cell_type": "code",
   "execution_count": 201,
   "id": "5a681889-e6a9-4ff9-a9ca-60396b4af4cb",
   "metadata": {},
   "outputs": [
    {
     "data": {
      "text/plain": [
       "<matplotlib.colorbar.Colorbar at 0x7fb863fa54c0>"
      ]
     },
     "execution_count": 201,
     "metadata": {},
     "output_type": "execute_result"
    },
    {
     "data": {
      "image/png": "[encoded data removed]",
      "text/plain": [
       "<Figure size 432x288 with 2 Axes>"
      ]
     },
     "metadata": {
      "needs_background": "light"
     },
     "output_type": "display_data"
    }
   ],
   "source": [
    "v_proj = project_spatial(v, angles, dimensions, \"tri\")\n",
    "\n",
    "plt.imshow(v_proj); plt.colorbar()"
   ]
  },
  {
   "cell_type": "code",
   "execution_count": 202,
   "id": "539cbfcc-2107-40fc-ab07-64c2d5f22ed5",
   "metadata": {},
   "outputs": [],
   "source": [
    "point_idx = np.array(list(np.where(v == 1))).flatten()"
   ]
  },
  {
   "cell_type": "markdown",
   "id": "cc1c084c-82df-4873-af19-83dfd684a9de",
   "metadata": {},
   "source": [
    "### Step by step inside the project function"
   ]
  },
  {
   "cell_type": "code",
   "execution_count": 203,
   "id": "f3e3be58-23b2-43e3-afc8-eda88e47ff53",
   "metadata": {},
   "outputs": [],
   "source": [
    "nx = 5\n",
    "shape = np.array([nx, nx, nx])\n",
    "dimensions = np.array([1, 1, 1])\n",
    "radius = 1/(2*nx)\n",
    "centre = np.array([0.2,0,0])\n",
    "intensity = 1\n",
    "\n",
    "v = spherical_volume(shape, dimensions, centre, radius, intensity, False)\n",
    "\n",
    "v = np.fft.ifftshift(v)\n",
    "\n",
    "V, X, Y, Z, _, _, _ = volume_fourier(v, dimensions)\n",
    "\n",
    "angles = np.array([0,0,np.pi/2])\n",
    "\n",
    "#plt.imshow(v[:,:,0]); plt.colorbar()"
   ]
  },
  {
   "cell_type": "code",
   "execution_count": 204,
   "id": "c8608132-3343-4f35-8e69-56781b877ff6",
   "metadata": {},
   "outputs": [
    {
     "data": {
      "text/plain": [
       "<matplotlib.colorbar.Colorbar at 0x7fb863e804f0>"
      ]
     },
     "execution_count": 204,
     "metadata": {},
     "output_type": "execute_result"
    },
    {
     "data": {
      "image/png": "[encoded data removed]",
      "text/plain": [
       "<Figure size 432x288 with 2 Axes>"
      ]
     },
     "metadata": {
      "needs_background": "light"
     },
     "output_type": "display_data"
    }
   ],
   "source": [
    "# Rotate coordinates\n",
    "\n",
    "Xr, Yr, Zr = rotate(X, Y, Z, angles)\n",
    "slice_coords = np.array([Xr[:,:,0].flatten(),Yr[:,:,0].flatten(),Zr[:,:,0].flatten()])\n",
    "\n",
    "# Get x_freq, etc\n",
    "x_freq = X[0,:,0]\n",
    "y_freq = Y[:,0,0]\n",
    "z_freq = Z[0,0,:]\n",
    "\n",
    "# Interpolate and reshape\n",
    "Vr0_flat = interpolate(slice_coords, x_freq, y_freq, z_freq, V, \"tri\")\n",
    "Vr0 = Vr0_flat.reshape(5,5)\n",
    "\n",
    "# Inverse Fourier transform\n",
    "vr0 = np.real(np.fft.fftshift(np.fft.ifftn(Vr0)))\n",
    "plt.imshow(vr0)\n",
    "plt.colorbar()"
   ]
  },
  {
   "cell_type": "code",
   "execution_count": 205,
   "id": "c5c16dc0-fca7-4c09-9796-e3c521bdbec8",
   "metadata": {},
   "outputs": [
    {
     "data": {
      "text/plain": [
       "0.0"
      ]
     },
     "execution_count": 205,
     "metadata": {},
     "output_type": "execute_result"
    }
   ],
   "source": [
    "# Compare with the above approach\n",
    "np.sum(abs(vr0 - v_proj))"
   ]
  },
  {
   "cell_type": "markdown",
   "id": "c524e04f-4c5b-4310-8147-6724966f7f18",
   "metadata": {
    "tags": []
   },
   "source": [
    "## Analytically"
   ]
  },
  {
   "cell_type": "code",
   "execution_count": 206,
   "id": "07e0013e-b8be-4df9-bc12-e7ccc0ab4b21",
   "metadata": {},
   "outputs": [],
   "source": [
    "Ky = np.array([[0,0,0,0,0],[1,1,1,1,1],[2,2,2,2,2],[-2,-2,-2,-2,-2],[-1,-1,-1,-1,-1]])\n",
    "Kx = Ky.T"
   ]
  },
  {
   "cell_type": "code",
   "execution_count": 207,
   "id": "aeb50907-b085-4849-aebf-7cecd7cd0798",
   "metadata": {},
   "outputs": [],
   "source": [
    "# Negate the angle since the object rotates in the opposite direction \n",
    "# to the coordinate axes\n",
    "gamma = -np.pi/2\n",
    "\n",
    "R = np.array([[np.cos(gamma), -np.sin(gamma)],\n",
    "            [np.sin(gamma), np.cos(gamma)]])\n",
    "\n",
    "rc = []\n",
    "for x, y in zip(Kx.flatten(), Ky.flatten()):\n",
    "    xy2 = R @ np.array([x,y])\n",
    "    rc.append(list(xy2))\n",
    "\n",
    "rc = np.array(rc)  \n",
    "\n",
    "Kxr = rc[:,0].reshape(Kx.shape)\n",
    "Kyr = rc[:,1].reshape(Ky.shape)\n",
    "\n"
   ]
  },
  {
   "cell_type": "code",
   "execution_count": 208,
   "id": "114670a9-4b2f-4906-8166-7b5adc4e605c",
   "metadata": {},
   "outputs": [
    {
     "name": "stdout",
     "output_type": "stream",
     "text": [
      "[[ 0  1  2 -2 -1]\n",
      " [ 0  1  2 -2 -1]\n",
      " [ 0  1  2 -2 -1]\n",
      " [ 0  1  2 -2 -1]\n",
      " [ 0  1  2 -2 -1]]\n",
      "[[ 0.0000000e+00  6.1232340e-17  1.2246468e-16 -1.2246468e-16\n",
      "  -6.1232340e-17]\n",
      " [ 1.0000000e+00  1.0000000e+00  1.0000000e+00  1.0000000e+00\n",
      "   1.0000000e+00]\n",
      " [ 2.0000000e+00  2.0000000e+00  2.0000000e+00  2.0000000e+00\n",
      "   2.0000000e+00]\n",
      " [-2.0000000e+00 -2.0000000e+00 -2.0000000e+00 -2.0000000e+00\n",
      "  -2.0000000e+00]\n",
      " [-1.0000000e+00 -1.0000000e+00 -1.0000000e+00 -1.0000000e+00\n",
      "  -1.0000000e+00]]\n"
     ]
    }
   ],
   "source": [
    "print(Kx)\n",
    "print(Kxr)"
   ]
  },
  {
   "cell_type": "code",
   "execution_count": 209,
   "id": "200ba40b-ad03-494f-9348-0571a06ff3ec",
   "metadata": {},
   "outputs": [
    {
     "name": "stdout",
     "output_type": "stream",
     "text": [
      "[[ 0  0  0  0  0]\n",
      " [ 1  1  1  1  1]\n",
      " [ 2  2  2  2  2]\n",
      " [-2 -2 -2 -2 -2]\n",
      " [-1 -1 -1 -1 -1]]\n",
      "[[ 0.0000000e+00 -1.0000000e+00 -2.0000000e+00  2.0000000e+00\n",
      "   1.0000000e+00]\n",
      " [ 6.1232340e-17 -1.0000000e+00 -2.0000000e+00  2.0000000e+00\n",
      "   1.0000000e+00]\n",
      " [ 1.2246468e-16 -1.0000000e+00 -2.0000000e+00  2.0000000e+00\n",
      "   1.0000000e+00]\n",
      " [-1.2246468e-16 -1.0000000e+00 -2.0000000e+00  2.0000000e+00\n",
      "   1.0000000e+00]\n",
      " [-6.1232340e-17 -1.0000000e+00 -2.0000000e+00  2.0000000e+00\n",
      "   1.0000000e+00]]\n"
     ]
    }
   ],
   "source": [
    "print(Ky)\n",
    "print(Kyr)"
   ]
  },
  {
   "cell_type": "code",
   "execution_count": 210,
   "id": "d03886db-e6c8-4cc7-a312-5474601151aa",
   "metadata": {},
   "outputs": [
    {
     "name": "stdout",
     "output_type": "stream",
     "text": [
      "0\n",
      "1\n"
     ]
    }
   ],
   "source": [
    "# Find the indices (3,2) of the point mass after ifftshift (in the spatial domain)\n",
    "xy_freq = np.array([0, 1, 2, -2, -1])\n",
    "new_idx1 = np.fft.fftshift(xy_freq)[point_idx[0]]\n",
    "new_idx2 = np.fft.fftshift(xy_freq)[point_idx[1]]\n",
    "\n",
    "print(new_idx1)\n",
    "print(new_idx2)"
   ]
  },
  {
   "cell_type": "code",
   "execution_count": 211,
   "id": "8d33328e-9107-49fa-b0c2-f39cc03b2f37",
   "metadata": {},
   "outputs": [
    {
     "data": {
      "text/plain": [
       "<matplotlib.image.AxesImage at 0x7fb8643d1d90>"
      ]
     },
     "execution_count": 211,
     "metadata": {},
     "output_type": "execute_result"
    },
    {
     "data": {
      "image/png": "[encoded data removed]",
      "text/plain": [
       "<Figure size 432x288 with 1 Axes>"
      ]
     },
     "metadata": {
      "needs_background": "light"
     },
     "output_type": "display_data"
    }
   ],
   "source": [
    "vr0_a = np.zeros([5,5], dtype = np.complex128)\n",
    "for i in range(5):\n",
    "    for j in range(5):\n",
    "        vr0_a[i,j] = 1/25 * np.sum(\n",
    "            np.exp(1j * 2 * np.pi/5* \n",
    "                # When ifftshifted, the indices (2, 3) become (0, 1)\n",
    "                (i * Kx + j * Ky - new_idx1 * Kxr - new_idx2 * Kyr) \n",
    "            )\n",
    "        )\n",
    "\n",
    "vr0_a = np.real(np.fft.fftshift(vr0_a))\n",
    "plt.imshow(vr0_a)"
   ]
  },
  {
   "cell_type": "code",
   "execution_count": 212,
   "id": "ad2483eb-e04c-471c-85e3-480b59e69e96",
   "metadata": {},
   "outputs": [
    {
     "data": {
      "text/plain": [
       "1.3432219979605316e-16"
      ]
     },
     "execution_count": 212,
     "metadata": {},
     "output_type": "execute_result"
    }
   ],
   "source": [
    "# Compare with the numerical result\n",
    "np.max(abs(vr0_a - vr0))"
   ]
  },
  {
   "cell_type": "code",
   "execution_count": null,
   "id": "76c87663-5c20-4b3c-9aa5-aa3a1bb3707e",
   "metadata": {},
   "outputs": [],
   "source": []
  }
 ],
 "metadata": {
  "kernelspec": {
   "display_name": "Python 3 (ipykernel)",
   "language": "python",
   "name": "python3"
  },
  "language_info": {
   "codemirror_mode": {
    "name": "ipython",
    "version": 3
   },
   "file_extension": ".py",
   "mimetype": "text/x-python",
   "name": "python",
   "nbconvert_exporter": "python",
   "pygments_lexer": "ipython3",
   "version": "3.8.8"
  }
 },
 "nbformat": 4,
 "nbformat_minor": 5
}
