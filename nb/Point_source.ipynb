{
 "cells": [
  {
   "cell_type": "code",
   "execution_count": 194,
   "id": "0436bb4f-fe37-4a8d-8fd8-5a33bcaf6fc2",
   "metadata": {},
   "outputs": [
    {
     "name": "stdout",
     "output_type": "stream",
     "text": [
      "The autoreload extension is already loaded. To reload it, use:\n",
      "  %reload_ext autoreload\n"
     ]
    }
   ],
   "source": [
    "%load_ext autoreload\n",
    "%autoreload 2\n",
    "import site\n",
    "import sys\n",
    "site.addsitedir('..')"
   ]
  },
  {
   "cell_type": "code",
   "execution_count": 581,
   "id": "b05aab76-1ef7-44ac-9d04-9969e3015d8b",
   "metadata": {},
   "outputs": [],
   "source": [
    "import numpy as np\n",
    "from  matplotlib import pyplot as plt\n",
    "from src.utils import *\n",
    "from src.projection import project, rotate\n",
    "from src.interpolate import *"
   ]
  },
  {
   "cell_type": "code",
   "execution_count": 616,
   "id": "f5d64f21-2e37-44ec-8a61-e7b9a2648490",
   "metadata": {},
   "outputs": [
    {
     "data": {
      "image/png": "[encoded data removed]",
      "text/plain": [
       "<Figure size 432x288 with 2 Axes>"
      ]
     },
     "metadata": {
      "needs_background": "light"
     },
     "output_type": "display_data"
    }
   ],
   "source": [
    "nx = 5\n",
    "shape = np.array([nx, nx, nx])\n",
    "dimensions = np.array([1, 1, 1])\n",
    "radius = 1/(2*nx)\n",
    "centre = np.array([0.2,0,0])\n",
    "intensity = 1\n",
    "\n",
    "v = spherical_volume(shape, dimensions, centre, radius, intensity, False)\n",
    "plt.imshow(v[:,:,2]); plt.colorbar()\n",
    "\n",
    "angles = np.array([0,0,np.pi/8])"
   ]
  },
  {
   "cell_type": "code",
   "execution_count": 617,
   "id": "5a681889-e6a9-4ff9-a9ca-60396b4af4cb",
   "metadata": {},
   "outputs": [
    {
     "name": "stdout",
     "output_type": "stream",
     "text": [
      "[[0. 0. 0. 0. 0.]\n",
      " [0. 0. 0. 0. 0.]\n",
      " [0. 0. 0. 0. 0.]\n",
      " [0. 0. 0. 0. 0.]\n",
      " [0. 0. 0. 0. 0.]]\n"
     ]
    },
    {
     "data": {
      "image/png": "[encoded data removed]",
      "text/plain": [
       "<Figure size 432x288 with 2 Axes>"
      ]
     },
     "metadata": {
      "needs_background": "light"
     },
     "output_type": "display_data"
    }
   ],
   "source": [
    "\n",
    "# First ifftshift in the spatial domain \n",
    "v = np.fft.ifftshift(v)\n",
    "V, X, Y, Z, _, _, _ = volume_fourier(v, dimensions)\n",
    "\n",
    "Vs, slice_X, slice_Y, slice_Z = project(V, X, Y, Z, angles, \"nn\")\n",
    "\n",
    "vsi = np.fft.ifftn(Vs)\n",
    "plt.imshow(np.real(np.fft.fftshift(vsi)))\n",
    "plt.colorbar()\n",
    "print(np.imag(vsi))"
   ]
  },
  {
   "cell_type": "markdown",
   "id": "cc1c084c-82df-4873-af19-83dfd684a9de",
   "metadata": {},
   "source": [
    "### Step by step inside the project function"
   ]
  },
  {
   "cell_type": "code",
   "execution_count": 578,
   "id": "f3e3be58-23b2-43e3-afc8-eda88e47ff53",
   "metadata": {},
   "outputs": [],
   "source": [
    "nx = 5\n",
    "shape = np.array([nx, nx, nx])\n",
    "dimensions = np.array([1, 1, 1])\n",
    "radius = 1/(2*nx)\n",
    "centre = np.array([0.2,0,0])\n",
    "intensity = 1\n",
    "\n",
    "v = spherical_volume(shape, dimensions, centre, radius, intensity, False)\n",
    "\n",
    "v = np.fft.ifftshift(v)\n",
    "\n",
    "V, X, Y, Z, _, _, _ = volume_fourier(v, dimensions)\n",
    "\n",
    "angles = np.array([0,0,np.pi/4])\n",
    "\n",
    "#plt.imshow(v[:,:,0]); plt.colorbar()"
   ]
  },
  {
   "cell_type": "code",
   "execution_count": 579,
   "id": "c8608132-3343-4f35-8e69-56781b877ff6",
   "metadata": {},
   "outputs": [
    {
     "name": "stdout",
     "output_type": "stream",
     "text": [
      "[[ 0.00000000e+00  2.22044605e-17  5.55111512e-18 -5.55111512e-18\n",
      "  -2.22044605e-17]\n",
      " [-2.44714770e-18 -1.91873597e-17 -1.22808287e-18  7.75381008e-18\n",
      "   1.79637859e-17]\n",
      " [ 3.95956816e-18  8.84133972e-18 -3.56403530e-18 -6.99481312e-18\n",
      "  -6.86155564e-18]\n",
      " [-3.95956816e-18  4.88177156e-18  6.99481312e-18  3.56403530e-18\n",
      "  -6.86155564e-18]\n",
      " [ 2.44714770e-18 -1.67402120e-17 -7.75381008e-18  1.22808287e-18\n",
      "   1.79637859e-17]]\n"
     ]
    },
    {
     "data": {
      "image/png": "[encoded data removed]",
      "text/plain": [
       "<Figure size 432x288 with 2 Axes>"
      ]
     },
     "metadata": {
      "needs_background": "light"
     },
     "output_type": "display_data"
    }
   ],
   "source": [
    "# Rotate coordinates\n",
    "\n",
    "Xr, Yr, Zr = rotate(X, Y, Z, angles)\n",
    "slice_coords = np.array([Xr[:,:,0].flatten(),Yr[:,:,0].flatten(),Zr[:,:,0].flatten()])\n",
    "\n",
    "# Get x_freq, etc\n",
    "x_freq = X[0,:,0]\n",
    "y_freq = Y[:,0,0]\n",
    "z_freq = Z[0,0,:]\n",
    "\n",
    "# Interpolate and reshape\n",
    "Vr0_flat = interpolate(slice_coords, x_freq, y_freq, z_freq, V, \"tri\")\n",
    "Vr0 = Vr0_flat.reshape(5,5)\n",
    "\n",
    "# Inverse Fourier transform\n",
    "vr0 = np.fft.ifftn(Vr0)\n",
    "plt.imshow(np.real(np.fft.fftshift(vr0)))\n",
    "plt.colorbar()\n",
    "\n",
    "print(np.imag(vr0))"
   ]
  },
  {
   "cell_type": "markdown",
   "id": "0655e15a-7d52-454b-9c31-e19b6248a783",
   "metadata": {},
   "source": [
    "## The same, analytically"
   ]
  },
  {
   "cell_type": "code",
   "execution_count": 16,
   "id": "232b0d05-3c9f-4cf5-9407-1ca1fc1bef69",
   "metadata": {},
   "outputs": [],
   "source": [
    "# Fourier transform of a 5 x 5 x 5 cube v with v[3,2,2] = 1 and 0 otherwise.\n",
    "\n",
    "krange = np.arange(5)\n",
    "x, y, z = np.meshgrid(krange, krange, krange)\n",
    "V_a = np.exp(-1j * 2 * np.pi / 5 * (3*x + 2*y + 2*z))\n",
    "#plt.imshow(np.real(V_a[:,:,0])); plt.colorbar()"
   ]
  },
  {
   "cell_type": "code",
   "execution_count": 17,
   "id": "512cb702-e814-40ce-bffb-8073ea1d6b4e",
   "metadata": {},
   "outputs": [
    {
     "data": {
      "text/plain": [
       "1.355199909595506e-15"
      ]
     },
     "execution_count": 17,
     "metadata": {},
     "output_type": "execute_result"
    }
   ],
   "source": [
    "# And it's the same as the numerical V\n",
    "\n",
    "np.max(abs(V - V_a))"
   ]
  },
  {
   "cell_type": "markdown",
   "id": "421a635d-cd24-4c83-9ee3-2ef577300d69",
   "metadata": {},
   "source": [
    "Given X and Y above, the rotated coordinates of the plane z=0 are"
   ]
  },
  {
   "cell_type": "code",
   "execution_count": 18,
   "id": "2036e474-9d48-4074-ad9f-d7827ad7d06f",
   "metadata": {},
   "outputs": [
    {
     "data": {
      "text/plain": [
       "array([[ 0.,  0.,  0.,  0.,  0.],\n",
       "       [-1., -1., -1., -1., -1.],\n",
       "       [-2., -2., -2., -2., -2.],\n",
       "       [ 2.,  2.,  2.,  2.,  2.],\n",
       "       [ 1.,  1.,  1.,  1.,  1.]])"
      ]
     },
     "execution_count": 18,
     "metadata": {},
     "output_type": "execute_result"
    }
   ],
   "source": [
    "Xr0_a = np.array([np.zeros(5), -1*np.ones(5), -2*np.ones(5), 2*np.ones(5), 1*np.ones(5)])\n",
    "Xr0_a"
   ]
  },
  {
   "cell_type": "code",
   "execution_count": 19,
   "id": "c662378b-b716-40e4-9666-a42be6ac878b",
   "metadata": {},
   "outputs": [
    {
     "data": {
      "text/plain": [
       "array([[ 0.,  1.,  2., -2., -1.],\n",
       "       [ 0.,  1.,  2., -2., -1.],\n",
       "       [ 0.,  1.,  2., -2., -1.],\n",
       "       [ 0.,  1.,  2., -2., -1.],\n",
       "       [ 0.,  1.,  2., -2., -1.]])"
      ]
     },
     "execution_count": 19,
     "metadata": {},
     "output_type": "execute_result"
    }
   ],
   "source": [
    "Yr0_a = np.array([0, 1, 2, -2, -1])*np.ones([5,1])\n",
    "Yr0_a"
   ]
  },
  {
   "cell_type": "code",
   "execution_count": 20,
   "id": "cfdb62df-363a-423a-83e9-4647bf4c096e",
   "metadata": {},
   "outputs": [],
   "source": [
    "Zr0_a = np.zeros([5,5])"
   ]
  },
  {
   "cell_type": "code",
   "execution_count": 21,
   "id": "c79bce9a-8699-4e87-a86b-86e32c1cb90b",
   "metadata": {},
   "outputs": [
    {
     "name": "stdout",
     "output_type": "stream",
     "text": [
      "4.0\n",
      "4.0\n",
      "0.0\n"
     ]
    }
   ],
   "source": [
    "# And these are also the same as what the function rotate returns\n",
    "\n",
    "print(np.max(abs(Xr0_a - Xr[:,:,0])))\n",
    "print(np.max(abs(Yr0_a - Yr[:,:,0])))\n",
    "print(np.max(abs(Zr0_a - Zr[:,:,0])))"
   ]
  },
  {
   "cell_type": "code",
   "execution_count": 22,
   "id": "d4b5fd9c-41f7-476a-bb04-1eda3ed5678a",
   "metadata": {},
   "outputs": [],
   "source": [
    "# Evaluate V at points given by Xr0_a, Yr0_a, Zr0_a to obtain Vr0_a\n",
    "\n",
    "Vr0_a = np.exp(-1j * 2 * np.pi/5 * (3 * Xr0_a + 2 * Yr0_a + 2 * Zr0_a))"
   ]
  },
  {
   "cell_type": "code",
   "execution_count": 23,
   "id": "c50ecc24-602a-4f46-a2c2-2b84c1543675",
   "metadata": {},
   "outputs": [
    {
     "data": {
      "text/plain": [
       "1.9021130325903073"
      ]
     },
     "execution_count": 23,
     "metadata": {},
     "output_type": "execute_result"
    }
   ],
   "source": [
    "# And they're the same....WEIRD\n",
    "\n",
    "np.max(abs(Vr0 - Vr0_a))"
   ]
  },
  {
   "cell_type": "code",
   "execution_count": 24,
   "id": "ce6b36cb-0963-4e33-9e29-5ac0c2da6342",
   "metadata": {},
   "outputs": [],
   "source": [
    "# Calculate the IFFT \n",
    "k_freqs = np.arange(5)\n",
    "K1, K2 = np.meshgrid(k_freqs, k_freqs)\n",
    "K3 = np.zeros(K1.shape)\n",
    "\n",
    "K1r, K2r, K3r = rotate(K1, K2, K3, angles)\n",
    "\n",
    "vr0_a = np.ones([5,5])*0j\n",
    "for i in range(5):\n",
    "    for j in range(5):\n",
    "        vr0_a[j,i] = 1/25 * np.sum(\n",
    "            np.exp(1j * 2 * np.pi / 5 * (i * K1 + j * K2)) \n",
    "            * Vr0_a\n",
    "        )\n",
    "\n",
    "        "
   ]
  },
  {
   "cell_type": "code",
   "execution_count": 25,
   "id": "28cf12e9-6410-4465-8994-2ae3736a4f65",
   "metadata": {},
   "outputs": [
    {
     "data": {
      "text/plain": [
       "1.0000000000000002"
      ]
     },
     "execution_count": 25,
     "metadata": {},
     "output_type": "execute_result"
    }
   ],
   "source": [
    "# Weirdly it's equal with the numerically calculated image\n",
    "np.max((abs(vr0-vr0_a)))"
   ]
  },
  {
   "cell_type": "code",
   "execution_count": 26,
   "id": "d8ae831f-7269-4405-8f39-f2b0290c2b0c",
   "metadata": {},
   "outputs": [
    {
     "data": {
      "text/plain": [
       "<matplotlib.colorbar.Colorbar at 0x12ac93160>"
      ]
     },
     "execution_count": 26,
     "metadata": {},
     "output_type": "execute_result"
    },
    {
     "data": {
      "image/png": "[encoded data removed]",
      "text/plain": [
       "<Figure size 432x288 with 2 Axes>"
      ]
     },
     "metadata": {
      "needs_background": "light"
     },
     "output_type": "display_data"
    }
   ],
   "source": [
    "plt.imshow(np.real(vr0_a))\n",
    "plt.colorbar()"
   ]
  },
  {
   "cell_type": "markdown",
   "id": "c524e04f-4c5b-4310-8147-6724966f7f18",
   "metadata": {},
   "source": [
    "## Analytical calculation, more direct"
   ]
  },
  {
   "cell_type": "code",
   "execution_count": 392,
   "id": "07e0013e-b8be-4df9-bc12-e7ccc0ab4b21",
   "metadata": {},
   "outputs": [],
   "source": [
    "Kx = np.array([[0,0,0,0,0],[1,1,1,1,1],[2,2,2,2,2],[-2,-2,-2,-2,-2],[-1,-1,-1,-1,-1]])\n",
    "Ky = Kx.T"
   ]
  },
  {
   "cell_type": "code",
   "execution_count": 393,
   "id": "ae7c0ac2-cbec-4a03-bed8-4a93be66a148",
   "metadata": {},
   "outputs": [
    {
     "data": {
      "text/plain": [
       "array([[-2, -2, -2, -2, -2],\n",
       "       [-1, -1, -1, -1, -1],\n",
       "       [ 0,  0,  0,  0,  0],\n",
       "       [ 1,  1,  1,  1,  1],\n",
       "       [ 2,  2,  2,  2,  2]])"
      ]
     },
     "execution_count": 393,
     "metadata": {},
     "output_type": "execute_result"
    }
   ],
   "source": [
    "Kx = np.fft.fftshift(Kx)\n",
    "Kx"
   ]
  },
  {
   "cell_type": "code",
   "execution_count": 394,
   "id": "48eb7816-cbaf-4176-9469-fa80bd9692f5",
   "metadata": {},
   "outputs": [
    {
     "data": {
      "text/plain": [
       "array([[-2, -1,  0,  1,  2],\n",
       "       [-2, -1,  0,  1,  2],\n",
       "       [-2, -1,  0,  1,  2],\n",
       "       [-2, -1,  0,  1,  2],\n",
       "       [-2, -1,  0,  1,  2]])"
      ]
     },
     "execution_count": 394,
     "metadata": {},
     "output_type": "execute_result"
    }
   ],
   "source": [
    "Ky = np.fft.fftshift(Ky)\n",
    "Ky"
   ]
  },
  {
   "cell_type": "code",
   "execution_count": 395,
   "id": "aeb50907-b085-4849-aebf-7cecd7cd0798",
   "metadata": {},
   "outputs": [],
   "source": [
    "gamma = np.pi/2\n",
    "\n",
    "R = np.array([[np.cos(gamma), -np.sin(gamma)],\n",
    "            [np.sin(gamma), np.cos(gamma)]])\n",
    "\n",
    "rc = []\n",
    "for x, y in zip(Kx.flatten(), Ky.flatten()):\n",
    "    xy2 = R @ np.array([x,y])\n",
    "    rc.append(list(xy2))\n",
    "\n",
    "rc = np.array(rc)  \n",
    "\n",
    "Kxr = rc[:,0].reshape(Kx.shape)\n",
    "Kyr = rc[:,1].reshape(Ky.shape)\n",
    "\n"
   ]
  },
  {
   "cell_type": "code",
   "execution_count": 396,
   "id": "c95eb231-fe40-4fa0-88ac-775c39545594",
   "metadata": {},
   "outputs": [],
   "source": [
    "#Kxr = np.fft.fftshift(Kxr)\n",
    "#Kyr = np.fft.fftshift(Kyr)"
   ]
  },
  {
   "cell_type": "code",
   "execution_count": 397,
   "id": "114670a9-4b2f-4906-8166-7b5adc4e605c",
   "metadata": {},
   "outputs": [
    {
     "data": {
      "text/plain": [
       "array([[ 2.0000000e+00,  1.0000000e+00, -1.2246468e-16, -1.0000000e+00,\n",
       "        -2.0000000e+00],\n",
       "       [ 2.0000000e+00,  1.0000000e+00, -6.1232340e-17, -1.0000000e+00,\n",
       "        -2.0000000e+00],\n",
       "       [ 2.0000000e+00,  1.0000000e+00,  0.0000000e+00, -1.0000000e+00,\n",
       "        -2.0000000e+00],\n",
       "       [ 2.0000000e+00,  1.0000000e+00,  6.1232340e-17, -1.0000000e+00,\n",
       "        -2.0000000e+00],\n",
       "       [ 2.0000000e+00,  1.0000000e+00,  1.2246468e-16, -1.0000000e+00,\n",
       "        -2.0000000e+00]])"
      ]
     },
     "execution_count": 397,
     "metadata": {},
     "output_type": "execute_result"
    }
   ],
   "source": [
    "Kxr"
   ]
  },
  {
   "cell_type": "code",
   "execution_count": 398,
   "id": "200ba40b-ad03-494f-9348-0571a06ff3ec",
   "metadata": {},
   "outputs": [
    {
     "data": {
      "text/plain": [
       "array([[-2.0000000e+00, -2.0000000e+00, -2.0000000e+00, -2.0000000e+00,\n",
       "        -2.0000000e+00],\n",
       "       [-1.0000000e+00, -1.0000000e+00, -1.0000000e+00, -1.0000000e+00,\n",
       "        -1.0000000e+00],\n",
       "       [-1.2246468e-16, -6.1232340e-17,  0.0000000e+00,  6.1232340e-17,\n",
       "         1.2246468e-16],\n",
       "       [ 1.0000000e+00,  1.0000000e+00,  1.0000000e+00,  1.0000000e+00,\n",
       "         1.0000000e+00],\n",
       "       [ 2.0000000e+00,  2.0000000e+00,  2.0000000e+00,  2.0000000e+00,\n",
       "         2.0000000e+00]])"
      ]
     },
     "execution_count": 398,
     "metadata": {},
     "output_type": "execute_result"
    }
   ],
   "source": [
    "Kyr"
   ]
  },
  {
   "cell_type": "code",
   "execution_count": 402,
   "id": "8d33328e-9107-49fa-b0c2-f39cc03b2f37",
   "metadata": {},
   "outputs": [
    {
     "data": {
      "text/plain": [
       "<matplotlib.image.AxesImage at 0x1312ecbe0>"
      ]
     },
     "execution_count": 402,
     "metadata": {},
     "output_type": "execute_result"
    },
    {
     "data": {
      "image/png": "[encoded data removed]",
      "text/plain": [
       "<Figure size 432x288 with 1 Axes>"
      ]
     },
     "metadata": {
      "needs_background": "light"
     },
     "output_type": "display_data"
    }
   ],
   "source": [
    "\n",
    "\n",
    "vr = np.zeros([5,5], dtype = np.complex128)\n",
    "for i in range(5):\n",
    "    for j in range(5):\n",
    "        vr[i,j] = 1/25 * np.sum(\n",
    "            np.exp(1j * 2 * np.pi/5* \n",
    "                # When fftshifted, the indices (3,2) become (0, 4)\n",
    "                #(i * Kx + j * Ky - 3 * Kxr - 2 * Kyr) \n",
    "                (i * Kx + j * Ky - 0 * Kxr - 4 * Kyr) \n",
    "\n",
    "            )\n",
    "        )\n",
    "\n",
    "plt.imshow(np.real(np.fft.ifftshift(vr)))\n",
    "#plt.imshow(np.real(vr))"
   ]
  },
  {
   "cell_type": "code",
   "execution_count": 389,
   "id": "7baec762-2590-47c7-a174-b366801c2cff",
   "metadata": {},
   "outputs": [
    {
     "data": {
      "text/plain": [
       "array([[-2, -2, -2, -2, -2],\n",
       "       [-1, -1, -1, -1, -1],\n",
       "       [ 0,  0,  0,  0,  0],\n",
       "       [ 1,  1,  1,  1,  1],\n",
       "       [ 2,  2,  2,  2,  2]])"
      ]
     },
     "execution_count": 389,
     "metadata": {},
     "output_type": "execute_result"
    }
   ],
   "source": [
    "Kx"
   ]
  },
  {
   "cell_type": "code",
   "execution_count": 379,
   "id": "fadb9d80-fc9b-4c17-a223-975216745153",
   "metadata": {},
   "outputs": [
    {
     "data": {
      "text/plain": [
       "array([[ 2.0000000e+00,  1.0000000e+00, -1.2246468e-16, -1.0000000e+00,\n",
       "        -2.0000000e+00],\n",
       "       [ 2.0000000e+00,  1.0000000e+00, -6.1232340e-17, -1.0000000e+00,\n",
       "        -2.0000000e+00],\n",
       "       [ 2.0000000e+00,  1.0000000e+00,  0.0000000e+00, -1.0000000e+00,\n",
       "        -2.0000000e+00],\n",
       "       [ 2.0000000e+00,  1.0000000e+00,  6.1232340e-17, -1.0000000e+00,\n",
       "        -2.0000000e+00],\n",
       "       [ 2.0000000e+00,  1.0000000e+00,  1.2246468e-16, -1.0000000e+00,\n",
       "        -2.0000000e+00]])"
      ]
     },
     "execution_count": 379,
     "metadata": {},
     "output_type": "execute_result"
    }
   ],
   "source": [
    "Kxr"
   ]
  },
  {
   "cell_type": "code",
   "execution_count": 380,
   "id": "09f140d2-26e7-4b77-ab67-a41045c3cdde",
   "metadata": {},
   "outputs": [
    {
     "data": {
      "text/plain": [
       "array([[-2, -1,  0,  1,  2],\n",
       "       [-2, -1,  0,  1,  2],\n",
       "       [-2, -1,  0,  1,  2],\n",
       "       [-2, -1,  0,  1,  2],\n",
       "       [-2, -1,  0,  1,  2]])"
      ]
     },
     "execution_count": 380,
     "metadata": {},
     "output_type": "execute_result"
    }
   ],
   "source": [
    "Ky"
   ]
  },
  {
   "cell_type": "code",
   "execution_count": 381,
   "id": "d0fd98dd-f36f-4dea-af85-ca1b789a440d",
   "metadata": {},
   "outputs": [
    {
     "data": {
      "text/plain": [
       "array([[-2.0000000e+00, -2.0000000e+00, -2.0000000e+00, -2.0000000e+00,\n",
       "        -2.0000000e+00],\n",
       "       [-1.0000000e+00, -1.0000000e+00, -1.0000000e+00, -1.0000000e+00,\n",
       "        -1.0000000e+00],\n",
       "       [-1.2246468e-16, -6.1232340e-17,  0.0000000e+00,  6.1232340e-17,\n",
       "         1.2246468e-16],\n",
       "       [ 1.0000000e+00,  1.0000000e+00,  1.0000000e+00,  1.0000000e+00,\n",
       "         1.0000000e+00],\n",
       "       [ 2.0000000e+00,  2.0000000e+00,  2.0000000e+00,  2.0000000e+00,\n",
       "         2.0000000e+00]])"
      ]
     },
     "execution_count": 381,
     "metadata": {},
     "output_type": "execute_result"
    }
   ],
   "source": [
    "Kyr"
   ]
  },
  {
   "cell_type": "raw",
   "id": "a4784a72-d928-4d88-8bcc-75104729a1e3",
   "metadata": {},
   "source": []
  }
 ],
 "metadata": {
  "kernelspec": {
   "display_name": "Python 3 (ipykernel)",
   "language": "python",
   "name": "python3"
  },
  "language_info": {
   "codemirror_mode": {
    "name": "ipython",
    "version": 3
   },
   "file_extension": ".py",
   "mimetype": "text/x-python",
   "name": "python",
   "nbconvert_exporter": "python",
   "pygments_lexer": "ipython3",
   "version": "3.9.7"
  }
 },
 "nbformat": 4,
 "nbformat_minor": 5
}
