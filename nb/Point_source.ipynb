{
 "cells": [
  {
   "cell_type": "markdown",
   "id": "b8f85bcc-8713-49d3-89e0-e057fa6d0dc7",
   "metadata": {},
   "source": [
    "# Point source - analytical calculations agree with numerical results. Calculating the wrong thing the right way?"
   ]
  },
  {
   "cell_type": "code",
   "execution_count": 132,
   "id": "0436bb4f-fe37-4a8d-8fd8-5a33bcaf6fc2",
   "metadata": {},
   "outputs": [
    {
     "name": "stdout",
     "output_type": "stream",
     "text": [
      "The autoreload extension is already loaded. To reload it, use:\n",
      "  %reload_ext autoreload\n"
     ]
    }
   ],
   "source": [
    "%load_ext autoreload\n",
    "%autoreload 2\n",
    "import site\n",
    "import sys\n",
    "site.addsitedir('..')"
   ]
  },
  {
   "cell_type": "code",
   "execution_count": 133,
   "id": "b05aab76-1ef7-44ac-9d04-9969e3015d8b",
   "metadata": {},
   "outputs": [],
   "source": [
    "import numpy as np\n",
    "from  matplotlib import pyplot as plt\n",
    "from src.utils import *\n",
    "from src.projection import project, rotate\n",
    "from src.interpolate import *"
   ]
  },
  {
   "cell_type": "code",
   "execution_count": 134,
   "id": "f5d64f21-2e37-44ec-8a61-e7b9a2648490",
   "metadata": {},
   "outputs": [
    {
     "data": {
      "text/plain": [
       "<matplotlib.colorbar.Colorbar at 0x12b1bed00>"
      ]
     },
     "execution_count": 134,
     "metadata": {},
     "output_type": "execute_result"
    },
    {
     "data": {
      "image/png": "[encoded data removed]",
      "text/plain": [
       "<Figure size 432x288 with 2 Axes>"
      ]
     },
     "metadata": {
      "needs_background": "light"
     },
     "output_type": "display_data"
    }
   ],
   "source": [
    "nx = 5\n",
    "shape = np.array([nx, nx, nx])\n",
    "dimensions = np.array([1, 1, 1])\n",
    "radius = 1/(2*nx)\n",
    "centre = np.array([0.2,0,0])\n",
    "intensity = 1\n",
    "\n",
    "angles = np.array([0,0,np.pi/2])\n",
    "\n",
    "v = spherical_volume(shape, dimensions, centre, radius, intensity, False)\n",
    "plt.imshow(v[:,:,2])\n",
    "plt.colorbar()"
   ]
  },
  {
   "cell_type": "code",
   "execution_count": 135,
   "id": "dfce72e7-81d3-47bc-8f57-cd2f98440f2c",
   "metadata": {},
   "outputs": [],
   "source": [
    "V, X, Y, Z, _, _, _ = volume_fourier(v, dimensions)\n",
    "#plt.imshow(np.real(v_f[:,:,0])); plt.colorbar()"
   ]
  },
  {
   "cell_type": "code",
   "execution_count": 136,
   "id": "5a681889-e6a9-4ff9-a9ca-60396b4af4cb",
   "metadata": {},
   "outputs": [
    {
     "data": {
      "text/plain": [
       "<matplotlib.colorbar.Colorbar at 0x12b26c850>"
      ]
     },
     "execution_count": 136,
     "metadata": {},
     "output_type": "execute_result"
    },
    {
     "data": {
      "image/png": "[encoded data removed]",
      "text/plain": [
       "<Figure size 432x288 with 2 Axes>"
      ]
     },
     "metadata": {
      "needs_background": "light"
     },
     "output_type": "display_data"
    }
   ],
   "source": [
    "Vs, slice_X, slice_Y, slice_Z = project(V, X, Y, Z, angles, \"nn\")\n",
    "\n",
    "Vsi = np.fft.ifftn(Vs)\n",
    "plt.imshow(np.real(Vsi))\n",
    "plt.colorbar()"
   ]
  },
  {
   "cell_type": "code",
   "execution_count": 137,
   "id": "e3bb783a",
   "metadata": {},
   "outputs": [
    {
     "data": {
      "text/plain": [
       "array([[0., 0., 0., 0., 0.],\n",
       "       [0., 0., 0., 0., 0.],\n",
       "       [0., 0., 0., 0., 0.],\n",
       "       [0., 0., 0., 0., 0.],\n",
       "       [0., 0., 0., 0., 0.]])"
      ]
     },
     "execution_count": 137,
     "metadata": {},
     "output_type": "execute_result"
    }
   ],
   "source": [
    "np.imag(Vsi)"
   ]
  },
  {
   "cell_type": "markdown",
   "id": "cc1c084c-82df-4873-af19-83dfd684a9de",
   "metadata": {},
   "source": [
    "### Step by step inside the project function"
   ]
  },
  {
   "cell_type": "code",
   "execution_count": 138,
   "id": "9c68dc46-9956-4c1d-b29f-390155aacda6",
   "metadata": {},
   "outputs": [],
   "source": [
    "# Rotate coordinates\n",
    "\n",
    "Xr, Yr, Zr = rotate(X, Y, Z, angles)\n",
    "slice_coords = np.array([Xr[:,:,0].flatten(),Yr[:,:,0].flatten(),Zr[:,:,0].flatten()])"
   ]
  },
  {
   "cell_type": "code",
   "execution_count": 139,
   "id": "8a9aec7c-06f5-46d7-a0b8-d5cf2f6d0ff8",
   "metadata": {},
   "outputs": [],
   "source": [
    "# Get x_freq, etc\n",
    "x_freq = X[0,:,0]\n",
    "y_freq = Y[:,0,0]\n",
    "z_freq = Z[0,0,:]"
   ]
  },
  {
   "cell_type": "code",
   "execution_count": 140,
   "id": "c8608132-3343-4f35-8e69-56781b877ff6",
   "metadata": {},
   "outputs": [],
   "source": [
    "# Interpolate and reshape\n",
    "Vr0_flat = interpolate(slice_coords, x_freq, y_freq, z_freq, V, \"tri\")\n",
    "Vr0 = Vr0_flat.reshape(5,5)"
   ]
  },
  {
   "cell_type": "code",
   "execution_count": 141,
   "id": "6955ef3e-dac7-4dfc-9b7a-1b1a1c48e969",
   "metadata": {},
   "outputs": [
    {
     "data": {
      "text/plain": [
       "<matplotlib.colorbar.Colorbar at 0x12b319bb0>"
      ]
     },
     "execution_count": 141,
     "metadata": {},
     "output_type": "execute_result"
    },
    {
     "data": {
      "image/png": "[encoded data removed]",
      "text/plain": [
       "<Figure size 432x288 with 2 Axes>"
      ]
     },
     "metadata": {
      "needs_background": "light"
     },
     "output_type": "display_data"
    }
   ],
   "source": [
    "# Inverse Fourier transform\n",
    "vr0 = np.fft.ifftn(Vr0)\n",
    "plt.imshow(np.real(vr0))\n",
    "plt.colorbar()"
   ]
  },
  {
   "cell_type": "markdown",
   "id": "0655e15a-7d52-454b-9c31-e19b6248a783",
   "metadata": {},
   "source": [
    "## The same, analytically"
   ]
  },
  {
   "cell_type": "code",
   "execution_count": 142,
   "id": "232b0d05-3c9f-4cf5-9407-1ca1fc1bef69",
   "metadata": {},
   "outputs": [],
   "source": [
    "# Fourier transform of a 5 x 5 x 5 cube v with v[3,2,2] = 1 and 0 otherwise.\n",
    "\n",
    "krange = np.arange(5)\n",
    "x, y, z = np.meshgrid(krange, krange, krange)\n",
    "V_a = np.exp(-1j * 2 * np.pi / 5 * (3*x + 2*y + 2*z))\n",
    "#plt.imshow(np.real(V_a[:,:,0])); plt.colorbar()"
   ]
  },
  {
   "cell_type": "code",
   "execution_count": 143,
   "id": "512cb702-e814-40ce-bffb-8073ea1d6b4e",
   "metadata": {},
   "outputs": [
    {
     "data": {
      "text/plain": [
       "1.355199909595506e-15"
      ]
     },
     "execution_count": 143,
     "metadata": {},
     "output_type": "execute_result"
    }
   ],
   "source": [
    "# And it's the same as the numerical V\n",
    "\n",
    "np.max(abs(V - V_a))"
   ]
  },
  {
   "cell_type": "markdown",
   "id": "421a635d-cd24-4c83-9ee3-2ef577300d69",
   "metadata": {},
   "source": [
    "Given X and Y above, the rotated coordinates of the plane z=0 are"
   ]
  },
  {
   "cell_type": "code",
   "execution_count": 144,
   "id": "2036e474-9d48-4074-ad9f-d7827ad7d06f",
   "metadata": {},
   "outputs": [
    {
     "data": {
      "text/plain": [
       "array([[ 0.,  0.,  0.,  0.,  0.],\n",
       "       [-1., -1., -1., -1., -1.],\n",
       "       [-2., -2., -2., -2., -2.],\n",
       "       [ 2.,  2.,  2.,  2.,  2.],\n",
       "       [ 1.,  1.,  1.,  1.,  1.]])"
      ]
     },
     "execution_count": 144,
     "metadata": {},
     "output_type": "execute_result"
    }
   ],
   "source": [
    "Xr0_a = np.array([np.zeros(5), -1*np.ones(5), -2*np.ones(5), 2*np.ones(5), 1*np.ones(5)])\n",
    "Xr0_a"
   ]
  },
  {
   "cell_type": "code",
   "execution_count": 145,
   "id": "c662378b-b716-40e4-9666-a42be6ac878b",
   "metadata": {},
   "outputs": [
    {
     "data": {
      "text/plain": [
       "array([[ 0.,  1.,  2., -2., -1.],\n",
       "       [ 0.,  1.,  2., -2., -1.],\n",
       "       [ 0.,  1.,  2., -2., -1.],\n",
       "       [ 0.,  1.,  2., -2., -1.],\n",
       "       [ 0.,  1.,  2., -2., -1.]])"
      ]
     },
     "execution_count": 145,
     "metadata": {},
     "output_type": "execute_result"
    }
   ],
   "source": [
    "Yr0_a = np.array([0, 1, 2, -2, -1])*np.ones([5,1])\n",
    "Yr0_a"
   ]
  },
  {
   "cell_type": "code",
   "execution_count": 146,
   "id": "cfdb62df-363a-423a-83e9-4647bf4c096e",
   "metadata": {},
   "outputs": [],
   "source": [
    "Zr0_a = np.zeros([5,5])"
   ]
  },
  {
   "cell_type": "code",
   "execution_count": 147,
   "id": "c79bce9a-8699-4e87-a86b-86e32c1cb90b",
   "metadata": {},
   "outputs": [
    {
     "name": "stdout",
     "output_type": "stream",
     "text": [
      "2.220446049250313e-16\n",
      "2.220446049250313e-16\n",
      "0.0\n"
     ]
    }
   ],
   "source": [
    "# And these are also the same as what the function rotate returns\n",
    "\n",
    "print(np.max(abs(Xr0_a - Xr[:,:,0])))\n",
    "print(np.max(abs(Yr0_a - Yr[:,:,0])))\n",
    "print(np.max(abs(Zr0_a - Zr[:,:,0])))"
   ]
  },
  {
   "cell_type": "code",
   "execution_count": 148,
   "id": "d4b5fd9c-41f7-476a-bb04-1eda3ed5678a",
   "metadata": {},
   "outputs": [],
   "source": [
    "# Evaluate V at points given by Xr0_a, Yr0_a, Zr0_a to obtain Vr0_a\n",
    "\n",
    "Vr0_a = np.exp(-1j * 2 * np.pi/5 * (3 * Xr0_a + 2 * Yr0_a + 2 * Zr0_a))"
   ]
  },
  {
   "cell_type": "code",
   "execution_count": 149,
   "id": "c50ecc24-602a-4f46-a2c2-2b84c1543675",
   "metadata": {},
   "outputs": [
    {
     "data": {
      "text/plain": [
       "6.61269254987238e-16"
      ]
     },
     "execution_count": 149,
     "metadata": {},
     "output_type": "execute_result"
    }
   ],
   "source": [
    "# And they're the same....WEIRD\n",
    "\n",
    "np.max(abs(Vr0 - Vr0_a))"
   ]
  },
  {
   "cell_type": "code",
   "execution_count": 170,
   "id": "ce6b36cb-0963-4e33-9e29-5ac0c2da6342",
   "metadata": {},
   "outputs": [],
   "source": [
    "# Calculate the IFFT \n",
    "k_freqs = np.arange(5)\n",
    "K1, K2 = np.meshgrid(k_freqs, k_freqs)\n",
    "K3 = np.zeros(K1.shape)\n",
    "\n",
    "K1r, K2r, K3r = rotate(K1, K2, K3, angles)\n",
    "\n",
    "vr0_a = np.ones([5,5])*0j\n",
    "for i in range(5):\n",
    "    for j in range(5):\n",
    "        vr0_a[i,j] = 1/25 * np.sum(np.exp(1j * 2 * np.pi / 5 * (i * K1 + j * K2)) * Vr0_a)\n",
    "\n",
    "        "
   ]
  },
  {
   "cell_type": "code",
   "execution_count": 171,
   "id": "28cf12e9-6410-4465-8994-2ae3736a4f65",
   "metadata": {},
   "outputs": [
    {
     "data": {
      "text/plain": [
       "5.380326543625889e-16"
      ]
     },
     "execution_count": 171,
     "metadata": {},
     "output_type": "execute_result"
    }
   ],
   "source": [
    "# Weirdly it's equal with the numerically calculated image\n",
    "np.max((abs(vr0-vr0_a)))"
   ]
  },
  {
   "cell_type": "code",
   "execution_count": 172,
   "id": "d8ae831f-7269-4405-8f39-f2b0290c2b0c",
   "metadata": {},
   "outputs": [
    {
     "data": {
      "text/plain": [
       "<matplotlib.colorbar.Colorbar at 0x12b856760>"
      ]
     },
     "execution_count": 172,
     "metadata": {},
     "output_type": "execute_result"
    },
    {
     "data": {
      "image/png": "[encoded data removed]",
      "text/plain": [
       "<Figure size 432x288 with 2 Axes>"
      ]
     },
     "metadata": {
      "needs_background": "light"
     },
     "output_type": "display_data"
    }
   ],
   "source": [
    "plt.imshow(np.real(vr0_a))\n",
    "plt.colorbar()"
   ]
  },
  {
   "cell_type": "code",
   "execution_count": 180,
   "id": "a8aaacbb-75b2-4772-a0fb-3b93723d6541",
   "metadata": {},
   "outputs": [],
   "source": [
    "# An even more direct calculation of vr0_a\n",
    "\n",
    "vr0_a2 = np.zeros([5,5], dtype=np.complex128)\n",
    "for i in range(5):\n",
    "    for j in range(5):\n",
    "        vr0_a2[i,j] = 1/25 * np.sum(np.exp( 1j * 2 * np.pi/5 * ( K1*(i-1) + K2*(j-2)   )))"
   ]
  },
  {
   "cell_type": "code",
   "execution_count": 181,
   "id": "6581cf27-368b-4c3e-8f27-c22406112477",
   "metadata": {},
   "outputs": [
    {
     "data": {
      "text/plain": [
       "array([[ 1.77635684e-17-1.33226763e-17j,  2.66453526e-17-4.44089210e-18j,\n",
       "        -2.66453526e-17-2.66453526e-17j,  1.33226763e-17+0.00000000e+00j,\n",
       "         1.55431223e-17-4.44089210e-18j],\n",
       "       [-1.77635684e-17-5.32907052e-17j, -3.55271368e-17-2.22044605e-17j,\n",
       "         1.00000000e+00+0.00000000e+00j, -3.55271368e-17+2.22044605e-17j,\n",
       "        -1.77635684e-17+5.32907052e-17j],\n",
       "       [ 1.55431223e-17+4.44089210e-18j,  1.33226763e-17+0.00000000e+00j,\n",
       "        -2.66453526e-17+2.66453526e-17j,  2.66453526e-17+4.44089210e-18j,\n",
       "         1.77635684e-17+1.33226763e-17j],\n",
       "       [ 0.00000000e+00-1.33226763e-17j,  1.77635684e-17-4.44089210e-18j,\n",
       "        -1.77635684e-17+4.44089210e-17j,  8.88178420e-18-4.44089210e-18j,\n",
       "         1.11022302e-17+3.10862447e-17j],\n",
       "       [ 1.77635684e-17+0.00000000e+00j,  8.88178420e-18+1.33226763e-17j,\n",
       "         4.44089210e-17+6.66133815e-17j, -2.22044605e-18-4.44089210e-18j,\n",
       "        -8.88178420e-18+7.79331314e-19j]])"
      ]
     },
     "execution_count": 181,
     "metadata": {},
     "output_type": "execute_result"
    }
   ],
   "source": [
    "np.imag(vr0_a2"
   ]
  },
  {
   "cell_type": "code",
   "execution_count": null,
   "id": "91d5cb7b-36e7-41c9-ac8d-f76549be11e8",
   "metadata": {},
   "outputs": [],
   "source": []
  }
 ],
 "metadata": {
  "kernelspec": {
   "display_name": "Python 3 (ipykernel)",
   "language": "python",
   "name": "python3"
  },
  "language_info": {
   "codemirror_mode": {
    "name": "ipython",
    "version": 3
   },
   "file_extension": ".py",
   "mimetype": "text/x-python",
   "name": "python",
   "nbconvert_exporter": "python",
   "pygments_lexer": "ipython3",
   "version": "3.9.7"
  }
 },
 "nbformat": 4,
 "nbformat_minor": 5
}
