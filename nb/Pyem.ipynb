{
 "cells": [
  {
   "cell_type": "markdown",
   "id": "5f35df22-f7e2-49af-96b0-73ca685a9d32",
   "metadata": {},
   "source": [
    "# Pyem prelim"
   ]
  },
  {
   "cell_type": "code",
   "execution_count": 1,
   "id": "017d2519-a167-4d91-a556-30086d6c13db",
   "metadata": {},
   "outputs": [],
   "source": [
    "%load_ext autoreload\n",
    "%autoreload 2\n",
    "import site\n",
    "import sys\n",
    "import time\n",
    "site.addsitedir('..')\n",
    "#from jax.config import config\n",
    "\n",
    "#config.update(\"jax_enable_x64\", True)"
   ]
  },
  {
   "cell_type": "code",
   "execution_count": 2,
   "id": "1d2acfa5-cf4b-4f4c-b76a-ca0ecbd04e75",
   "metadata": {},
   "outputs": [],
   "source": [
    "import numpy as np\n",
    "from  matplotlib import pyplot as plt\n",
    "plt.rcParams[\"figure.figsize\"]=10,10\n",
    "\n",
    "\n",
    "from src.utils import *\n",
    "from src.projection import project_spatial, project, rotate\n",
    "from src.interpolate import *"
   ]
  },
  {
   "cell_type": "code",
   "execution_count": 3,
   "id": "0ff0cf10-984f-44c4-97a3-5a5630cf69d5",
   "metadata": {},
   "outputs": [],
   "source": [
    "from external.pyem.project import project\n",
    "from external.pyem.pyem import star\n",
    "from external.pyem.pyem import vop\n",
    "from numpy.fft import fftshift\n",
    "from pyfftw.builders import irfft2"
   ]
  },
  {
   "cell_type": "code",
   "execution_count": 4,
   "id": "93326b98-0e37-4506-b8d6-c60782f6f792",
   "metadata": {},
   "outputs": [],
   "source": [
    "# Arguments for project:\n",
    "# p : dataframe of star file : df = star.parse_star(args.input, keep_index=False); star.augment_star_ucsf(df);\n",
    "#     Here, input is the STAR file with particle metadata\n",
    "\n"
   ]
  },
  {
   "cell_type": "markdown",
   "id": "05368d00-3ce5-4e58-996b-400e1408552b",
   "metadata": {},
   "source": [
    "### The volume"
   ]
  },
  {
   "cell_type": "code",
   "execution_count": 5,
   "id": "2701ebc0-134d-46c7-9e66-82d8fce507f6",
   "metadata": {},
   "outputs": [
    {
     "data": {
      "image/png": "[encoded data removed]",
      "text/plain": [
       "<Figure size 720x720 with 1 Axes>"
      ]
     },
     "metadata": {
      "needs_background": "light"
     },
     "output_type": "display_data"
    }
   ],
   "source": [
    "nx = 64\n",
    "dx = 0.2\n",
    "\n",
    "v = np.zeros([nx,nx,nx])\n",
    "v[32,32,49] = 1\n",
    "\n",
    "mip_x(v)"
   ]
  },
  {
   "cell_type": "code",
   "execution_count": 6,
   "id": "dcce9700-3d8f-4c3e-8413-aa9facce7491",
   "metadata": {},
   "outputs": [],
   "source": [
    "# f3d : Fourier volume (centred, Nyquist-limited, zero-padded (pfac=2), normalized (normfft=1) interpolation-ready 3D Fourier transform)\n",
    "\n",
    "pfac = 2\n",
    "f3d = vop.vol_ft(v, pfac=pfac, threads=1)"
   ]
  },
  {
   "cell_type": "code",
   "execution_count": 7,
   "id": "b578ab22-6111-4c17-8546-7dac43afd88f",
   "metadata": {},
   "outputs": [
    {
     "data": {
      "text/plain": [
       "<matplotlib.colorbar.Colorbar at 0x7f82f9cb3340>"
      ]
     },
     "execution_count": 7,
     "metadata": {},
     "output_type": "execute_result"
    },
    {
     "data": {
      "image/png": "[encoded data removed]",
      "text/plain": [
       "<Figure size 720x720 with 2 Axes>"
      ]
     },
     "metadata": {
      "needs_background": "light"
     },
     "output_type": "display_data"
    }
   ],
   "source": [
    "plt.imshow(np.real(f3d[f3d.shape[0]//2,:,:])); plt.colorbar()"
   ]
  },
  {
   "cell_type": "markdown",
   "id": "c9fbe406-0a95-477d-a80a-2a60d3f69936",
   "metadata": {},
   "source": [
    "### Parameters from the star file\n",
    "https://relion.readthedocs.io/en/release-3.1/Reference/Conventions.html?highlight=star#star-format"
   ]
  },
  {
   "cell_type": "code",
   "execution_count": 8,
   "id": "c5589e9f-cd9f-491d-ba22-ab45c8ad992e",
   "metadata": {},
   "outputs": [
    {
     "name": "stderr",
     "output_type": "stream",
     "text": [
      "/Users/bogdan/Work/3_PostdocYale/simple_cryoem/external/pyem/pyem/star.py:531: FutureWarning: Columnar iteration over characters will be deprecated in future releases.\n",
      "  df[UCSF.IMAGE_INDEX], df[UCSF.IMAGE_PATH] = \\\n",
      "/Users/bogdan/Work/3_PostdocYale/simple_cryoem/external/pyem/pyem/star.py:539: FutureWarning: Columnar iteration over characters will be deprecated in future releases.\n",
      "  df[UCSF.IMAGE_ORIGINAL_INDEX], df[UCSF.IMAGE_ORIGINAL_PATH] = \\\n"
     ]
    }
   ],
   "source": [
    "df = star.parse_star(\"../external/pyem/pyem.star\", keep_index = False)"
   ]
  },
  {
   "cell_type": "code",
   "execution_count": 9,
   "id": "cd9e69a7-36cb-455c-ba0e-2a16662bdc65",
   "metadata": {},
   "outputs": [
    {
     "data": {
      "text/plain": [
       "index                                                                             0\n",
       "rlnVoltage                                                                    200.0\n",
       "rlnSphericalAberration                                                            0\n",
       "rlnAmplitudeContrast                                                              0\n",
       "rlnOpticsGroup                                                                    1\n",
       "rlnOpticsGroupName                                                     opticsGroup1\n",
       "rlnImagePixelSize                                                              3.54\n",
       "rlnImageSize                                                                     64\n",
       "rlnImageDimensionality                                                            2\n",
       "rlnImageName                                                        000001@pyem.mrc\n",
       "rlnImageOriginalName              000233@Extract/job007/Movies/20170629_00021_fr...\n",
       "rlnMicrographName                 MotionCorr/job002/Movies/20170629_00021_frameI...\n",
       "rlnCoordinateX                                                           135.458824\n",
       "rlnCoordinateY                                                           2336.66472\n",
       "rlnAngleRot                                                                      90\n",
       "rlnAngleTilt                                                                      0\n",
       "rlnAnglePsi                                                                       0\n",
       "rlnOriginX                                                                        0\n",
       "rlnOriginY                                                                        0\n",
       "rlnOriginXAngst                                                                   0\n",
       "rlnOriginYAngst                                                                   0\n",
       "rlnMagnification                                                            10000.0\n",
       "rlnDetectorPixelSize                                                           3.54\n",
       "rlnDefocusU                                                                       0\n",
       "rlnDefocusV                                                                       0\n",
       "rlnDefocusAngle                                                                   0\n",
       "rlnPhaseShift                                                                   0.0\n",
       "rlnCtfScalefactor                                                               1.0\n",
       "rlnCtfBfactor                                                                   0.0\n",
       "rlnCtfMaxResolution                                                        4.874623\n",
       "rlnCtfFigureOfMerit                                                         0.13114\n",
       "level_0                                                                           0\n",
       "rlnMtfFileName                            ../PrecalculatedResults/mtf_k2_200kV.star\n",
       "rlnMicrographOriginalPixelSize                                                0.885\n",
       "rlnAutopickFigureOfMerit                                                   0.033098\n",
       "rlnClassNumber                                                                    1\n",
       "rlnGroupNumber                                                                    1\n",
       "rlnNormCorrection                                                          0.702323\n",
       "rlnLogLikeliContribution                                                6613.673071\n",
       "rlnMaxValueProbDistribution                                                     1.0\n",
       "rlnNrOfSignificantSamples                                                         1\n",
       "ucsfImageIndex                                                                    0\n",
       "ucsfImagePath                                                              pyem.mrc\n",
       "ucsfImageOriginalIndex                                                          232\n",
       "ucsfImageOriginalPath             Extract/job007/Movies/20170629_00021_frameImag...\n",
       "ucsfImageBasename                                                          pyem.mrc\n",
       "ucsfImageOriginalBasename                            20170629_00021_frameImage.mrcs\n",
       "ucsfMicrographBasename                                20170629_00021_frameImage.mrc\n",
       "Name: 0, dtype: object"
      ]
     },
     "execution_count": 9,
     "metadata": {},
     "output_type": "execute_result"
    }
   ],
   "source": [
    "dfiter = df.iterrows()\n",
    "i, p = next(dfiter)\n",
    "#i, p = next(dfiter)\n",
    "\n",
    "#p[\"rlnVoltage\"] = 0\n",
    "#p[\"rlnSphericalAberration\"]\n",
    "p[star.Relion.ORIGINX] = 0\n",
    "p[star.Relion.ORIGINY] = 0\n",
    "\n",
    "# These don't seem to make any difference here. These replaced rlnOriginX and rlnOriginY (pixels) in Relion 3.1\n",
    "p[star.Relion.ORIGINXANGST] = 0\n",
    "p[star.Relion.ORIGINYANGST] = 0\n",
    "\n",
    "p[star.Relion.ANGLEROT] = 90  # Around the z axis (first axis)\n",
    "p[star.Relion.ANGLETILT] = 0 # Around the new y axis \n",
    "p[star.Relion.ANGLEPSI] = 0 # Arond the new z axis\n",
    "\n",
    "\n",
    "p[\"rlnSphericalAberration\"] = 0\n",
    "p[\"rlnAmplitudeContrast\"] = 0\n",
    "\n",
    "p[star.Relion.DEFOCUSU] = 0\n",
    "p[star.Relion.DEFOCUSV] = 0\n",
    "p[star.Relion.DEFOCUSANGLE] = 0\n",
    "\n",
    "pzero = p.copy()\n",
    "pzero"
   ]
  },
  {
   "cell_type": "code",
   "execution_count": null,
   "id": "52e260d0-c822-45e8-9e47-f3983cb4950e",
   "metadata": {},
   "outputs": [],
   "source": []
  },
  {
   "cell_type": "code",
   "execution_count": 10,
   "id": "2223ed2a-4c50-435a-87b3-828b9cc17c2c",
   "metadata": {},
   "outputs": [
    {
     "name": "stdout",
     "output_type": "stream",
     "text": [
      "2\n",
      "(131, 131, 65)\n",
      "Bogdan2\n",
      "(64, 33)\n"
     ]
    },
    {
     "data": {
      "image/png": "[encoded data removed]",
      "text/plain": [
       "<Figure size 720x720 with 2 Axes>"
      ]
     },
     "metadata": {
      "needs_background": "light"
     },
     "output_type": "display_data"
    }
   ],
   "source": [
    "#pfac = 2\n",
    "\n",
    "size = (f3d.shape[0] - 3) // pfac\n",
    "#size = f3d.shape[0]\n",
    "\n",
    "sz = (f3d.shape[0] - 3) // pfac\n",
    "#sz = size\n",
    "apix = star.calculate_apix(df) * np.double(size) / sz\n",
    "sx, sy = np.meshgrid(np.fft.rfftfreq(sz), np.fft.fftfreq(sz))\n",
    "s = np.sqrt(sx ** 2 + sy ** 2)\n",
    "a = np.arctan2(sy, sx)\n",
    "\n",
    "f2d = project(f3d, p, s, sx, sy, a, pfac=pfac, apply_ctf=False, size=size, flip_phase=False)\n",
    "\n",
    "\n",
    "ift = irfft2(f2d.copy(), threads=1, planner_effort=\"FFTW_ESTIMATE\", auto_align_input=True, auto_contiguous=True)\n",
    "proj = fftshift(ift(f2d.copy(), np.zeros(ift.output_shape, dtype=ift.output_dtype)))\n",
    "\n",
    "#plt.imshow(proj); plt.colorbar()"
   ]
  },
  {
   "cell_type": "code",
   "execution_count": 11,
   "id": "43bc68d8-1a99-45e1-b160-a765d6ef4e0d",
   "metadata": {},
   "outputs": [
    {
     "name": "stdout",
     "output_type": "stream",
     "text": [
      "0.9921874999999997\n",
      "-0.007812500000000439\n",
      "(64, 33)\n"
     ]
    },
    {
     "data": {
      "image/png": "[encoded data removed]",
      "text/plain": [
       "<Figure size 720x720 with 2 Axes>"
      ]
     },
     "metadata": {
      "needs_background": "light"
     },
     "output_type": "display_data"
    }
   ],
   "source": [
    "plt.imshow(proj); plt.colorbar()\n",
    "#plt.imshow(np.log(np.abs(proj)+1e-15)); plt.colorbar()\n",
    "\n",
    "print(np.max(proj))\n",
    "print(np.min(proj))\n",
    "print(f2d.shape)"
   ]
  },
  {
   "cell_type": "code",
   "execution_count": 12,
   "id": "e91eca2a-f08d-4708-b947-616eaecc89b2",
   "metadata": {},
   "outputs": [
    {
     "data": {
      "text/plain": [
       "<matplotlib.colorbar.Colorbar at 0x7f82db1bf730>"
      ]
     },
     "execution_count": 12,
     "metadata": {},
     "output_type": "execute_result"
    },
    {
     "data": {
      "image/png": "[encoded data removed]",
      "text/plain": [
       "<Figure size 720x720 with 2 Axes>"
      ]
     },
     "metadata": {
      "needs_background": "light"
     },
     "output_type": "display_data"
    }
   ],
   "source": [
    "mip_x(v); plt.colorbar()"
   ]
  },
  {
   "cell_type": "code",
   "execution_count": null,
   "id": "2339b79e-0af0-4bbc-a7ba-1ad6e8e22eec",
   "metadata": {},
   "outputs": [],
   "source": []
  },
  {
   "cell_type": "code",
   "execution_count": 13,
   "id": "3bfc26da-0cac-4c03-9234-eadab788571c",
   "metadata": {},
   "outputs": [
    {
     "data": {
      "text/plain": [
       "1.0"
      ]
     },
     "execution_count": 13,
     "metadata": {},
     "output_type": "execute_result"
    }
   ],
   "source": [
    "np.max(v)"
   ]
  },
  {
   "cell_type": "code",
   "execution_count": 14,
   "id": "ed219854-422d-4b9e-981f-f82b2e0b459a",
   "metadata": {},
   "outputs": [
    {
     "data": {
      "text/plain": [
       "(64, 64)"
      ]
     },
     "execution_count": 14,
     "metadata": {},
     "output_type": "execute_result"
    }
   ],
   "source": [
    "proj.shape"
   ]
  },
  {
   "cell_type": "code",
   "execution_count": 15,
   "id": "5ce8c28d-a933-4941-8b4e-ea9ad2ee383d",
   "metadata": {},
   "outputs": [
    {
     "data": {
      "text/plain": [
       "(64, 64, 64)"
      ]
     },
     "execution_count": 15,
     "metadata": {},
     "output_type": "execute_result"
    }
   ],
   "source": [
    "v.shape"
   ]
  },
  {
   "cell_type": "markdown",
   "id": "e2b9c222-2b23-4716-b19a-dc636b8ea532",
   "metadata": {},
   "source": [
    "## Fourier point source"
   ]
  },
  {
   "cell_type": "code",
   "execution_count": 16,
   "id": "ddb8cf89-fc0c-4334-b4bf-a5e0a0d9d29f",
   "metadata": {},
   "outputs": [
    {
     "name": "stdout",
     "output_type": "stream",
     "text": [
      "1\n",
      "(67, 67, 33)\n",
      "Bogdan2\n",
      "(64, 33)\n"
     ]
    },
    {
     "data": {
      "image/png": "[encoded data removed]",
      "text/plain": [
       "<Figure size 720x720 with 2 Axes>"
      ]
     },
     "metadata": {
      "needs_background": "light"
     },
     "output_type": "display_data"
    }
   ],
   "source": [
    "vf = np.zeros([67,67,33])\n",
    "vf[33, 33, 0] = 0.5\n",
    "vf[33, 49, 0] = 0.5\n",
    "\n",
    "vf[33, 33:37, 0:4] = np.arange(1,17).reshape(4,4)\n",
    "\n",
    "#size = 64\n",
    "pfac = 1\n",
    "\n",
    "size = (vf.shape[0] - 3) // pfac\n",
    "\n",
    "sz = (vf.shape[0] - 3) // pfac\n",
    "sx, sy = np.meshgrid(np.fft.rfftfreq(sz), np.fft.fftfreq(sz))\n",
    "s = np.sqrt(sx ** 2 + sy ** 2)\n",
    "a = np.arctan2(sy, sx)\n",
    "\n",
    "p1 = pzero.copy()\n",
    "p1[star.Relion.ANGLEROT] = 90\n",
    "p1[star.Relion.ANGLETILT] = 0\n",
    "p1[star.Relion.ANGLEPSI] = 0\n",
    "\n",
    "p1[star.Relion.ORIGINX] = 0\n",
    "p1[star.Relion.ORIGINY] = 0\n",
    "\n",
    "f2d = project(vf, p1, s, sx, sy, a, pfac=pfac, apply_ctf=False, size=size, flip_phase=False)\n",
    "#plt.imshow(np.real(f2d)); plt.colorbar()"
   ]
  },
  {
   "cell_type": "code",
   "execution_count": 17,
   "id": "7243f557-5be1-47fe-94d5-53853b41bb9a",
   "metadata": {},
   "outputs": [
    {
     "data": {
      "text/plain": [
       "<matplotlib.colorbar.Colorbar at 0x7f82dbf38c70>"
      ]
     },
     "execution_count": 17,
     "metadata": {},
     "output_type": "execute_result"
    },
    {
     "data": {
      "image/png": "[encoded data removed]",
      "text/plain": [
       "<Figure size 720x720 with 2 Axes>"
      ]
     },
     "metadata": {
      "needs_background": "light"
     },
     "output_type": "display_data"
    }
   ],
   "source": [
    "mip_x(np.abs(vf)); plt.colorbar()"
   ]
  },
  {
   "cell_type": "code",
   "execution_count": 18,
   "id": "b0325f37-f711-4a62-9621-f7a3892a6a63",
   "metadata": {},
   "outputs": [
    {
     "data": {
      "text/plain": [
       "<matplotlib.colorbar.Colorbar at 0x7f82db282760>"
      ]
     },
     "execution_count": 18,
     "metadata": {},
     "output_type": "execute_result"
    },
    {
     "data": {
      "image/png": "[encoded data removed]",
      "text/plain": [
       "<Figure size 720x720 with 2 Axes>"
      ]
     },
     "metadata": {
      "needs_background": "light"
     },
     "output_type": "display_data"
    }
   ],
   "source": [
    "plt.imshow(np.real(f2d)); plt.colorbar()"
   ]
  },
  {
   "cell_type": "code",
   "execution_count": 19,
   "id": "0fe6ab99-8cf5-4bb4-acc0-572283551c44",
   "metadata": {},
   "outputs": [
    {
     "name": "stdout",
     "output_type": "stream",
     "text": [
      "1\n",
      "(19, 19, 9)\n",
      "Bogdan2\n",
      "(16, 9)\n"
     ]
    },
    {
     "data": {
      "image/png": "[encoded data removed]",
      "text/plain": [
       "<Figure size 720x720 with 2 Axes>"
      ]
     },
     "metadata": {
      "needs_background": "light"
     },
     "output_type": "display_data"
    }
   ],
   "source": [
    "vf = np.zeros([19,19,9], dtype=np.complex128)\n",
    "vf[9, 13, 0] = 1 + 1j\n",
    "\n",
    "size = 16\n",
    "pfac = 1\n",
    "\n",
    "size = (vf.shape[0] - 3) // pfac\n",
    "\n",
    "sz = (vf.shape[0] - 3) // pfac\n",
    "sx, sy = np.meshgrid(np.fft.rfftfreq(sz), np.fft.fftfreq(sz))\n",
    "s = np.sqrt(sx ** 2 + sy ** 2)\n",
    "a = np.arctan2(sy, sx)\n",
    "\n",
    "p1 = pzero.copy()\n",
    "p1[star.Relion.ANGLEROT] = 0\n",
    "\n",
    "p1[star.Relion.ANGLETILT] = 0\n",
    "p1[star.Relion.ANGLEPSI] = 0\n",
    "\n",
    "p1[star.Relion.ORIGINX] = 0\n",
    "p1[star.Relion.ORIGINY] = 0\n",
    "\n",
    "f2d = project(vf, p1, s, sx, sy, a, pfac=pfac, apply_ctf=False, size=size, flip_phase=False)\n"
   ]
  },
  {
   "cell_type": "code",
   "execution_count": 20,
   "id": "b8b7f5e7-8077-4216-80a3-b33d9a7627a6",
   "metadata": {},
   "outputs": [
    {
     "data": {
      "text/plain": [
       "<matplotlib.colorbar.Colorbar at 0x7f82db80abe0>"
      ]
     },
     "execution_count": 20,
     "metadata": {},
     "output_type": "execute_result"
    },
    {
     "data": {
      "image/png": "[encoded data removed]",
      "text/plain": [
       "<Figure size 720x720 with 2 Axes>"
      ]
     },
     "metadata": {
      "needs_background": "light"
     },
     "output_type": "display_data"
    }
   ],
   "source": [
    "plt.imshow(np.real(f2d)); plt.colorbar()"
   ]
  },
  {
   "cell_type": "code",
   "execution_count": 21,
   "id": "3470a2e8-efdf-428a-937f-32f594a372d0",
   "metadata": {},
   "outputs": [
    {
     "data": {
      "text/plain": [
       "1.4142135623730951"
      ]
     },
     "execution_count": 21,
     "metadata": {},
     "output_type": "execute_result"
    }
   ],
   "source": [
    "np.max(np.abs(f2d))"
   ]
  },
  {
   "cell_type": "code",
   "execution_count": null,
   "id": "ee3aebf0-f551-429f-b086-5f587610aa62",
   "metadata": {},
   "outputs": [],
   "source": []
  }
 ],
 "metadata": {
  "kernelspec": {
   "display_name": "Python 3 (ipykernel)",
   "language": "python",
   "name": "python3"
  },
  "language_info": {
   "codemirror_mode": {
    "name": "ipython",
    "version": 3
   },
   "file_extension": ".py",
   "mimetype": "text/x-python",
   "name": "python",
   "nbconvert_exporter": "python",
   "pygments_lexer": "ipython3",
   "version": "3.8.8"
  }
 },
 "nbformat": 4,
 "nbformat_minor": 5
}
