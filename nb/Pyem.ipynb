{
 "cells": [
  {
   "cell_type": "markdown",
   "id": "5f35df22-f7e2-49af-96b0-73ca685a9d32",
   "metadata": {},
   "source": [
    "# Pyem"
   ]
  },
  {
   "cell_type": "code",
   "execution_count": 1,
   "id": "017d2519-a167-4d91-a556-30086d6c13db",
   "metadata": {},
   "outputs": [],
   "source": [
    "%load_ext autoreload\n",
    "%autoreload 2\n",
    "import site\n",
    "import sys\n",
    "import time\n",
    "site.addsitedir('..')\n",
    "#from jax.config import config\n",
    "\n",
    "#config.update(\"jax_enable_x64\", True)"
   ]
  },
  {
   "cell_type": "code",
   "execution_count": 110,
   "id": "1d2acfa5-cf4b-4f4c-b76a-ca0ecbd04e75",
   "metadata": {},
   "outputs": [],
   "source": [
    "import numpy as np\n",
    "from  matplotlib import pyplot as plt\n",
    "from src.utils import *\n",
    "from src.projection import project_spatial, project, rotate\n",
    "from src.interpolate import *"
   ]
  },
  {
   "cell_type": "code",
   "execution_count": 111,
   "id": "0ff0cf10-984f-44c4-97a3-5a5630cf69d5",
   "metadata": {},
   "outputs": [],
   "source": [
    "from external.pyem.project import project\n",
    "from external.pyem.pyem import star\n",
    "from external.pyem.pyem import vop\n",
    "from numpy.fft import fftshift\n",
    "from pyfftw.builders import irfft2"
   ]
  },
  {
   "cell_type": "code",
   "execution_count": 323,
   "id": "93326b98-0e37-4506-b8d6-c60782f6f792",
   "metadata": {},
   "outputs": [],
   "source": [
    "# Arguments for project:\n",
    "# p : dataframe of star file : df = star.parse_star(args.input, keep_index=False); star.augment_star_ucsf(df);\n",
    "#     Here, input is the STAR file with particle metadata\n",
    "\n"
   ]
  },
  {
   "cell_type": "markdown",
   "id": "05368d00-3ce5-4e58-996b-400e1408552b",
   "metadata": {},
   "source": [
    "### The volume"
   ]
  },
  {
   "cell_type": "code",
   "execution_count": 324,
   "id": "2701ebc0-134d-46c7-9e66-82d8fce507f6",
   "metadata": {},
   "outputs": [
    {
     "data": {
      "image/png": "[encoded data removed]",
      "text/plain": [
       "<Figure size 432x288 with 1 Axes>"
      ]
     },
     "metadata": {
      "needs_background": "light"
     },
     "output_type": "display_data"
    }
   ],
   "source": [
    "nx = 64\n",
    "dx = 0.2\n",
    "\n",
    "v = np.zeros([nx,nx,nx])\n",
    "v[32,32,49] = 1\n",
    "\n",
    "mip_x(v)\n"
   ]
  },
  {
   "cell_type": "code",
   "execution_count": 325,
   "id": "dcce9700-3d8f-4c3e-8413-aa9facce7491",
   "metadata": {},
   "outputs": [],
   "source": [
    "# f3d : Fourier volume (centred, Nyquist-limited, zero-padded (pfac=2), normalized (normfft=1) interpolation-ready 3D Fourier transform)\n",
    "\n",
    "f3d = vop.vol_ft(v, pfac=1, threads=1)"
   ]
  },
  {
   "cell_type": "code",
   "execution_count": 326,
   "id": "37a347b7-3658-4f8f-9805-e08fd6a7f98b",
   "metadata": {},
   "outputs": [],
   "source": [
    "n = v.shape[0]\n",
    "nhalf = n // 2\n",
    "x, y, z = np.meshgrid(*[np.arange(-nhalf, nhalf)] * 3, indexing=\"xy\")"
   ]
  },
  {
   "cell_type": "code",
   "execution_count": 328,
   "id": "3d4f64dc-83f0-4f80-9c99-ed4802a25251",
   "metadata": {},
   "outputs": [
    {
     "data": {
      "text/plain": [
       "(64, 64, 33)"
      ]
     },
     "execution_count": 328,
     "metadata": {},
     "output_type": "execute_result"
    }
   ],
   "source": [
    "vf = np.fft.rfftn(v)\n",
    "vf.shape"
   ]
  },
  {
   "cell_type": "code",
   "execution_count": 329,
   "id": "5792e878-6a72-44e0-aba2-ace8c402e31d",
   "metadata": {},
   "outputs": [
    {
     "data": {
      "text/plain": [
       "array([0, 0, 0, 4, 5, 6, 0, 0, 0])"
      ]
     },
     "execution_count": 329,
     "metadata": {},
     "output_type": "execute_result"
    }
   ],
   "source": [
    "ar = np.arange(4,7)\n",
    "np.pad(ar, 3, \"constant\")"
   ]
  },
  {
   "cell_type": "markdown",
   "id": "c9fbe406-0a95-477d-a80a-2a60d3f69936",
   "metadata": {},
   "source": [
    "### Parameters from the star file\n",
    "https://relion.readthedocs.io/en/release-3.1/Reference/Conventions.html?highlight=star#star-format"
   ]
  },
  {
   "cell_type": "code",
   "execution_count": 330,
   "id": "c5589e9f-cd9f-491d-ba22-ab45c8ad992e",
   "metadata": {},
   "outputs": [
    {
     "name": "stderr",
     "output_type": "stream",
     "text": [
      "/Users/bogdan/Work/3_PostdocYale/simple_cryoem/external/pyem/pyem/star.py:531: FutureWarning: Columnar iteration over characters will be deprecated in future releases.\n",
      "  df[UCSF.IMAGE_INDEX], df[UCSF.IMAGE_PATH] = \\\n",
      "/Users/bogdan/Work/3_PostdocYale/simple_cryoem/external/pyem/pyem/star.py:539: FutureWarning: Columnar iteration over characters will be deprecated in future releases.\n",
      "  df[UCSF.IMAGE_ORIGINAL_INDEX], df[UCSF.IMAGE_ORIGINAL_PATH] = \\\n"
     ]
    }
   ],
   "source": [
    "df = star.parse_star(\"../external/pyem/pyem.star\", keep_index = False)"
   ]
  },
  {
   "cell_type": "code",
   "execution_count": 444,
   "id": "cd9e69a7-36cb-455c-ba0e-2a16662bdc65",
   "metadata": {},
   "outputs": [],
   "source": [
    "dfiter = df.iterrows()\n",
    "i, p = next(dfiter)\n",
    "#i, p = next(dfiter)\n",
    "\n",
    "#p[\"rlnVoltage\"] = 0\n",
    "#p[\"rlnSphericalAberration\"]\n",
    "p[star.Relion.ORIGINX] = 0\n",
    "p[star.Relion.ORIGINY] = 0\n",
    "\n",
    "# These don't seem to make any difference here. These replaced rlnOriginX and rlnOriginY (pixels) in Relion 3.1\n",
    "p[star.Relion.ORIGINXANGST] = 0\n",
    "p[star.Relion.ORIGINYANGST] = 0\n",
    "\n",
    "p[star.Relion.ANGLEROT] = 0  # Around the z axis (first axis)\n",
    "p[star.Relion.ANGLETILT] = 0 # Around the y axis (second axis)\n",
    "p[star.Relion.ANGLEPSI] = 0\n",
    "\n",
    "\n",
    "p[\"rlnSphericalAberration\"] = 0\n",
    "p[\"rlnAmplitudeContrast\"] = 0\n",
    "\n",
    "p[star.Relion.DEFOCUSU] = 0\n",
    "p[star.Relion.DEFOCUSV] = 0\n",
    "p[star.Relion.DEFOCUSANGLE] = 0\n",
    "\n",
    "pzero = p.copy()\n",
    "#pzero"
   ]
  },
  {
   "cell_type": "code",
   "execution_count": 445,
   "id": "2223ed2a-4c50-435a-87b3-828b9cc17c2c",
   "metadata": {},
   "outputs": [
    {
     "data": {
      "text/plain": [
       "<matplotlib.colorbar.Colorbar at 0x7f7f5e82c4f0>"
      ]
     },
     "execution_count": 445,
     "metadata": {},
     "output_type": "execute_result"
    },
    {
     "data": {
      "image/png": "[encoded data removed]",
      "text/plain": [
       "<Figure size 432x288 with 2 Axes>"
      ]
     },
     "metadata": {
      "needs_background": "light"
     },
     "output_type": "display_data"
    }
   ],
   "source": [
    "pfac = 1\n",
    "\n",
    "size = (f3d.shape[0] - 3) // pfac\n",
    "#size = f3d.shape[0]\n",
    "\n",
    "sz = (f3d.shape[0] - 3) // pfac\n",
    "apix = star.calculate_apix(df) * np.double(size) / sz\n",
    "sx, sy = np.meshgrid(np.fft.rfftfreq(sz), np.fft.fftfreq(sz))\n",
    "s = np.sqrt(sx ** 2 + sy ** 2)\n",
    "a = np.arctan2(sy, sx)\n",
    "\n",
    "f2d = project(f3d, p, s, sx, sy, a, pfac=pfac, apply_ctf=False, size=size, flip_phase=False)\n",
    "\n",
    "\n",
    "ift = irfft2(f2d.copy(), threads=1, planner_effort=\"FFTW_ESTIMATE\", auto_align_input=True, auto_contiguous=True)\n",
    "proj = fftshift(ift(f2d.copy(), np.zeros(ift.output_shape, dtype=ift.output_dtype)))\n",
    "\n",
    "plt.imshow(proj); plt.colorbar()"
   ]
  },
  {
   "cell_type": "code",
   "execution_count": 446,
   "id": "e91eca2a-f08d-4708-b947-616eaecc89b2",
   "metadata": {},
   "outputs": [
    {
     "data": {
      "text/plain": [
       "<matplotlib.colorbar.Colorbar at 0x7f7f5e950d30>"
      ]
     },
     "execution_count": 446,
     "metadata": {},
     "output_type": "execute_result"
    },
    {
     "data": {
      "image/png": "[encoded data removed]",
      "text/plain": [
       "<Figure size 432x288 with 2 Axes>"
      ]
     },
     "metadata": {
      "needs_background": "light"
     },
     "output_type": "display_data"
    }
   ],
   "source": [
    "mip_x(v); plt.colorbar()"
   ]
  },
  {
   "cell_type": "code",
   "execution_count": 447,
   "id": "2339b79e-0af0-4bbc-a7ba-1ad6e8e22eec",
   "metadata": {},
   "outputs": [
    {
     "data": {
      "text/plain": [
       "(64, 64)"
      ]
     },
     "execution_count": 447,
     "metadata": {},
     "output_type": "execute_result"
    }
   ],
   "source": [
    "\n",
    "proj.shape"
   ]
  },
  {
   "cell_type": "code",
   "execution_count": 443,
   "id": "5ce8c28d-a933-4941-8b4e-ea9ad2ee383d",
   "metadata": {},
   "outputs": [
    {
     "data": {
      "text/plain": [
       "(64, 64, 64)"
      ]
     },
     "execution_count": 443,
     "metadata": {},
     "output_type": "execute_result"
    }
   ],
   "source": [
    "v.shape"
   ]
  },
  {
   "cell_type": "markdown",
   "id": "e2b9c222-2b23-4716-b19a-dc636b8ea532",
   "metadata": {},
   "source": [
    "## Fourier point source"
   ]
  },
  {
   "cell_type": "code",
   "execution_count": 466,
   "id": "ddb8cf89-fc0c-4334-b4bf-a5e0a0d9d29f",
   "metadata": {},
   "outputs": [
    {
     "data": {
      "text/plain": [
       "<matplotlib.colorbar.Colorbar at 0x7f7f61039d90>"
      ]
     },
     "execution_count": 466,
     "metadata": {},
     "output_type": "execute_result"
    },
    {
     "data": {
      "image/png": "[encoded data removed]",
      "text/plain": [
       "<Figure size 432x288 with 2 Axes>"
      ]
     },
     "metadata": {
      "needs_background": "light"
     },
     "output_type": "display_data"
    }
   ],
   "source": [
    "vf = np.zeros([67,67,33])\n",
    "vf[33, 49, 0] = 0.5\n",
    "\n",
    "size = 64\n",
    "pfac = 1\n",
    "\n",
    "size = (vf.shape[0] - 3) // pfac\n",
    "\n",
    "sz = (vf.shape[0] - 3) // pfac\n",
    "sx, sy = np.meshgrid(np.fft.rfftfreq(sz), np.fft.fftfreq(sz))\n",
    "s = np.sqrt(sx ** 2 + sy ** 2)\n",
    "a = np.arctan2(sy, sx)\n",
    "\n",
    "p1 = pzero.copy()\n",
    "p1[star.Relion.ANGLEROT] = 0\n",
    "p1[star.Relion.ANGLETILT] = 0\n",
    "p1[star.Relion.ANGLEPSI] = 0\n",
    "\n",
    "p1[star.Relion.ORIGINX] = 0\n",
    "p1[star.Relion.ORIGINY] = 0\n",
    "\n",
    "f2d = project(vf, p1, s, sx, sy, a, pfac=pfac, apply_ctf=False, size=size, flip_phase=False)\n",
    "plt.imshow(np.real(f2d)); plt.colorbar()"
   ]
  },
  {
   "cell_type": "code",
   "execution_count": 317,
   "id": "c82818b9-6c68-4b28-b05b-9f13c15c0e69",
   "metadata": {},
   "outputs": [
    {
     "data": {
      "text/plain": [
       "0.5"
      ]
     },
     "execution_count": 317,
     "metadata": {},
     "output_type": "execute_result"
    }
   ],
   "source": [
    "np.sum(np.abs(f2d))"
   ]
  },
  {
   "cell_type": "code",
   "execution_count": 318,
   "id": "0abf700e-8802-4ef1-a897-8b3a7510d0a9",
   "metadata": {},
   "outputs": [
    {
     "data": {
      "text/plain": [
       "(64, 33)"
      ]
     },
     "execution_count": 318,
     "metadata": {},
     "output_type": "execute_result"
    }
   ],
   "source": [
    "f2d.shape"
   ]
  },
  {
   "cell_type": "code",
   "execution_count": 483,
   "id": "0fe6ab99-8cf5-4bb4-acc0-572283551c44",
   "metadata": {},
   "outputs": [
    {
     "data": {
      "text/plain": [
       "<matplotlib.colorbar.Colorbar at 0x7f7f62638160>"
      ]
     },
     "execution_count": 483,
     "metadata": {},
     "output_type": "execute_result"
    },
    {
     "data": {
      "image/png": "[encoded data removed]",
      "text/plain": [
       "<Figure size 432x288 with 2 Axes>"
      ]
     },
     "metadata": {
      "needs_background": "light"
     },
     "output_type": "display_data"
    }
   ],
   "source": [
    "vf = np.zeros([19,19,9])\n",
    "vf[9, 13, 0] = 1\n",
    "\n",
    "size = 16\n",
    "pfac = 1\n",
    "\n",
    "size = (vf.shape[0] - 3) // pfac\n",
    "\n",
    "sz = (vf.shape[0] - 3) // pfac\n",
    "sx, sy = np.meshgrid(np.fft.rfftfreq(sz), np.fft.fftfreq(sz))\n",
    "s = np.sqrt(sx ** 2 + sy ** 2)\n",
    "a = np.arctan2(sy, sx)\n",
    "\n",
    "p1 = pzero.copy()\n",
    "p1[star.Relion.ANGLEROT] = -90\n",
    "p1[star.Relion.ANGLETILT] = 0\n",
    "p1[star.Relion.ANGLEPSI] = 0\n",
    "\n",
    "p1[star.Relion.ORIGINX] = 0\n",
    "p1[star.Relion.ORIGINY] = 0\n",
    "\n",
    "f2d = project(vf, p1, s, sx, sy, a, pfac=pfac, apply_ctf=False, size=size, flip_phase=False)\n",
    "plt.imshow(np.abs(f2d)); plt.colorbar()"
   ]
  },
  {
   "cell_type": "code",
   "execution_count": 484,
   "id": "3470a2e8-efdf-428a-937f-32f594a372d0",
   "metadata": {},
   "outputs": [
    {
     "data": {
      "text/plain": [
       "2.220446049250313e-16"
      ]
     },
     "execution_count": 484,
     "metadata": {},
     "output_type": "execute_result"
    }
   ],
   "source": [
    "np.max(np.abs(f2d))"
   ]
  },
  {
   "cell_type": "code",
   "execution_count": null,
   "id": "ee3aebf0-f551-429f-b086-5f587610aa62",
   "metadata": {},
   "outputs": [],
   "source": []
  }
 ],
 "metadata": {
  "kernelspec": {
   "display_name": "Python 3 (ipykernel)",
   "language": "python",
   "name": "python3"
  },
  "language_info": {
   "codemirror_mode": {
    "name": "ipython",
    "version": 3
   },
   "file_extension": ".py",
   "mimetype": "text/x-python",
   "name": "python",
   "nbconvert_exporter": "python",
   "pygments_lexer": "ipython3",
   "version": "3.8.8"
  }
 },
 "nbformat": 4,
 "nbformat_minor": 5
}
