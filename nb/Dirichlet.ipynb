{
 "cells": [
  {
   "cell_type": "markdown",
   "id": "02bba85a-2401-4d87-aeb0-013d30d6717d",
   "metadata": {},
   "source": [
    "# Classification with Dirichlet prior"
   ]
  },
  {
   "cell_type": "code",
   "execution_count": 90,
   "id": "9c792c4c-80c8-4473-b3b4-d673e781b1aa",
   "metadata": {},
   "outputs": [
    {
     "name": "stdout",
     "output_type": "stream",
     "text": [
      "The autoreload extension is already loaded. To reload it, use:\n",
      "  %reload_ext autoreload\n"
     ]
    }
   ],
   "source": [
    "%load_ext autoreload\n",
    "%autoreload 2\n",
    "import site\n",
    "import time\n",
    "site.addsitedir('..')\n",
    "\n",
    "import jax\n",
    "from jax.config import config\n",
    "import jax.numpy as jnp\n",
    "import numpy as np\n",
    "from  matplotlib import pyplot as plt\n",
    "from tqdm import tqdm\n",
    "\n",
    "from jax.scipy.special import gammaln\n",
    "from jax import random\n",
    "\n",
    "from src.algorithm import mcmc\n",
    "\n",
    "plt.rcParams[\"figure.figsize\"]=6,6\n",
    "#config.update(\"jax_enable_x64\", True)"
   ]
  },
  {
   "cell_type": "markdown",
   "id": "f2159e7b-9a04-41ce-a244-81fce0acd002",
   "metadata": {},
   "source": [
    "### Setup"
   ]
  },
  {
   "cell_type": "markdown",
   "id": "d2d0adc1-276b-4529-b36a-3d5f30452aa1",
   "metadata": {},
   "source": [
    "The probability vector $\\pi$ is drawn from a Dirichlet distribution with parameter $\\alpha$.\n",
    "\n",
    "$\\pi \\sim \\text{Dirichlet}(\\alpha)$\n",
    "\n",
    "The $K$ classes $x_1, \\ldots, x_K$ are i.i.d. samples from a standard normal distribution and we have $N$ noisy observations $y_1, \\ldots, y_N$ of the $K$ classes such that:\n",
    "\n",
    "$y_i = x_{z_i} + \\sigma \\eta_i,$\n",
    "\n",
    "where $\\eta_i \\sim \\mathcal{N}(0,1)$ and $z_1, \\ldots, z_N$ are drawn from a multinomial distribution with\n",
    "probability vector $\\pi$."
   ]
  },
  {
   "cell_type": "code",
   "execution_count": 113,
   "id": "5924a50b-0fd6-4e71-96b9-c891291fb14c",
   "metadata": {},
   "outputs": [],
   "source": [
    "key = random.PRNGKey(int(jnp.floor(np.random.rand()*1000)))\n",
    "key, *subkeys = random.split(key, 5)"
   ]
  },
  {
   "cell_type": "code",
   "execution_count": 114,
   "id": "75556229-5c63-4d6f-a277-248980c4e5ac",
   "metadata": {},
   "outputs": [],
   "source": [
    "K = 3\n",
    "N = 1000\n",
    "sigma = 0.02\n",
    "alpha = 0.7 * jnp.ones(K,)\n",
    "alpha = jnp.array([10,10,1])"
   ]
  },
  {
   "cell_type": "code",
   "execution_count": 115,
   "id": "69825358-81e0-4d8c-8c1b-34f7a309f3a5",
   "metadata": {},
   "outputs": [
    {
     "name": "stdout",
     "output_type": "stream",
     "text": [
      "pi = [0.42265838 0.57392406 0.00341756]\n"
     ]
    }
   ],
   "source": [
    "pi = random.dirichlet(subkeys[0], alpha)\n",
    "z = random.categorical(subkeys[1], jnp.log(pi), shape = (N,))\n",
    "print(f\"pi = {pi}\")"
   ]
  },
  {
   "cell_type": "code",
   "execution_count": 116,
   "id": "4200539f-cb45-4eea-b7b2-7671a5f81655",
   "metadata": {},
   "outputs": [
    {
     "name": "stdout",
     "output_type": "stream",
     "text": [
      "x = [ 0.04658661 -0.062072   -0.3075281 ]\n"
     ]
    },
    {
     "data": {
      "image/png": "[encoded data removed]",
      "text/plain": [
       "<Figure size 432x432 with 1 Axes>"
      ]
     },
     "metadata": {
      "needs_background": "light"
     },
     "output_type": "display_data"
    }
   ],
   "source": [
    "x = random.normal(subkeys[2], shape = (K,))\n",
    "y = x[z] + sigma * random.normal(subkeys[3], shape = (N,))\n",
    "\n",
    "print(f\"x = {x}\")\n",
    "_ = plt.plot(y, '.')"
   ]
  },
  {
   "cell_type": "markdown",
   "id": "d2a3ea4f-cd5c-4561-9776-fa4abf7dd61a",
   "metadata": {},
   "source": [
    "### The posterior and proposal functions"
   ]
  },
  {
   "cell_type": "code",
   "execution_count": 117,
   "id": "c8215a51-910c-49ec-a85e-4b37a48a2162",
   "metadata": {},
   "outputs": [],
   "source": [
    "# This log posterior marginalizes over the classes k = 1,...,K.\n",
    "def logPi_marg(x, z, y, sigma, alpha):\n",
    "    n_ik = calc_nik_jit(z)\n",
    "    n_k = calc_nk_jit(z)\n",
    "    \n",
    "    log_arg = jnp.zeros(y.shape)\n",
    "    logPZalpha = -gammaln(jnp.sum(n_k) + jnp.sum(alpha))\n",
    "\n",
    "    Nk = jnp.sum(n_k)\n",
    "    Ak = jnp.sum(alpha)\n",
    "    \n",
    "    term_mat = []\n",
    "    for k in jnp.arange(K):\n",
    "        logarg_k = jnp.exp(-(y - x[k])**2/sigma) * (n_ik[:, k] + alpha[k])/(Nk+Ak-1)\n",
    "        log_arg += logarg_k\n",
    "        term_mat.append(logarg_k)\n",
    "        \n",
    "        logPZalpha += gammaln(n_k[k] + alpha[k])\n",
    "      \n",
    "    return jnp.sum(jnp.log(log_arg)) - jnp.sum(x**2) \n",
    "   \n",
    "# And this does not.\n",
    "def logPi(x, z, y, sigma, alpha):\n",
    "    n_ik = calc_nik_jit(z)\n",
    "    n_k = calc_nk_jit(z)\n",
    "    \n",
    "    log_arg = jnp.zeros(y.shape)\n",
    "\n",
    "    Nk = jnp.sum(n_k)\n",
    "    Ak = jnp.sum(alpha)\n",
    "    \n",
    "    n_ik_z = jax.vmap(lambda i : n_ik[i, z[i]])(jnp.arange(N))\n",
    "    \n",
    "    term1 = jnp.sum(-(y - x[z])**2/sigma)\n",
    "    term2 = jnp.sum(jnp.log(n_ik_z + alpha[z])) \n",
    "\n",
    "    logPZalpha = -gammaln(jnp.sum(n_k) + jnp.sum(alpha)) + jnp.sum(gammaln(n_k + alpha))\n",
    "\n",
    "    return term1 + term2 - jnp.sum(x**2) + 0.0001 * logPZalpha \n",
    "\n",
    "\n",
    "def calc_nik_ki(z,k,i): \n",
    "    z = z.at[i].set(jnp.inf)    \n",
    "    return jnp.sum(z == k)\n",
    "\n",
    "calc_nik_i = lambda z, i : jax.vmap(calc_nik_ki, in_axes = (None, 0, None))(z, jnp.arange(K), i)\n",
    "calc_nik = lambda z : jax.vmap(calc_nik_i, in_axes = (None, 0))(z, jnp.arange(N))\n",
    "calc_nik_jit = jax.jit(calc_nik)\n",
    "\n",
    "calc_nk_k = lambda z, k : jnp.sum(z == k)\n",
    "calc_nk = lambda z : jax.vmap(calc_nk_k, in_axes = (None, 0))(z, jnp.arange(K))\n",
    "calc_nk_jit = jax.jit(calc_nk)"
   ]
  },
  {
   "cell_type": "code",
   "execution_count": 118,
   "id": "e4cc3b56-a2a1-4948-b8e6-fb7116ae85cd",
   "metadata": {},
   "outputs": [],
   "source": [
    "@jax.jit\n",
    "def proposal_x_marg(key, x0, logPiX0, B, z, y, sigma, alpha):\n",
    "    \"\"\"Proposal function of a new vector [x_1,...,x_k] from the posterior\n",
    "    \n",
    "    p(x_1, ..., x_K | y_1, ..., y_N)\n",
    "    \n",
    "    with marginalization over z_1,...z_N.\"\"\"\n",
    "    \n",
    "    x1 = random.uniform(key, x0.shape) * 2*B-B\n",
    "    \n",
    "    logPiX0 = logPi_marg(x0, z, y, sigma, alpha)\n",
    "    logPiX1 = logPi_marg(x1, z, y, sigma, alpha)\n",
    "    \n",
    "    r = jnp.exp((logPiX1 - logPiX0))\n",
    "    \n",
    "    return x1, r, logPiX1, logPiX0\n",
    "\n",
    "@jax.jit\n",
    "def proposal_x(key, x0, logPiX0, B, z, y, sigma, alpha):\n",
    "    \"\"\"Proposal function of a new vector [x_1,...,x_K] from the posterior\n",
    "    \n",
    "    p(x_1, ..., x_K, z_1, ..., y_N | y_1, ..., y_N)\n",
    "\n",
    "    without marginalization over z_i variales (where we keep z_i fixed).\"\"\"\n",
    "    \n",
    "    x1 = random.uniform(key, x0.shape) * 2*B-B\n",
    "    \n",
    "    logPiX0 = logPi(x0, z, y, sigma, alpha)\n",
    "    logPiX1 = logPi(x1, z, y, sigma, alpha)\n",
    "    \n",
    "    r = jnp.exp((logPiX1 - logPiX0))\n",
    "    \n",
    "    return x1, r, logPiX1, logPiX0\n",
    "\n",
    "@jax.jit\n",
    "def proposal_x_idx(key, x0, logPiX0, B, z, y, sigma, alpha, idx):\n",
    "    \"\"\"Proposal function for a new state x_{idx} from the posterior\n",
    "    \n",
    "    p(x_1, ..., x_K, z_1, ..., y_N | y_1, ..., y_N)\n",
    "    \n",
    "    where all z_i and the other x_j are fixed and with no\n",
    "    marginalization over z.\n",
    "\n",
    "    The returned vector x1 is equal to x0, \n",
    "    with the entry at index idx given by the proposal.\"\"\"\n",
    "    \n",
    "    newval = random.uniform(key) * 2*B-B\n",
    "    x1 = x0.at[idx].set(newval)\n",
    "    \n",
    "    logPiX0 = logPi(x0, z, y, sigma, alpha)\n",
    "    logPiX1 = logPi(x1, z, y, sigma, alpha)\n",
    "    \n",
    "    r = jnp.exp(logPiX1 - logPiX0)\n",
    "    \n",
    "    return x1, r, logPiX1, logPiX0    \n",
    "               \n",
    "\n",
    "@jax.jit\n",
    "def proposal_z(key, z0, logPiX0, x, y, sigma, alpha, K):\n",
    "    \"\"\"Proposal function of a new vector [z_1,...,z_N] from the posterior\n",
    "    \n",
    "    p(x_1, ..., x_K, z_1, ..., y_N | y_1, ..., y_N)\n",
    "\n",
    "    where the x_i variables are fixed.\"\"\"\n",
    "    \n",
    "    z1 = random.randint(key, z0.shape, 0, K) \n",
    "\n",
    "    logPiX0 = logPi(x, z0, y, sigma, alpha)\n",
    "    logPiX1 = logPi(x, z1, y, sigma, alpha)\n",
    "    \n",
    "    r = jnp.exp(logPiX1 - logPiX0)\n",
    "    \n",
    "    return z1, r, logPiX1, logPiX0\n",
    "\n",
    "@jax.jit\n",
    "def proposal_z_idx(key, z0, logPiX0, x, y, sigma, alpha, K, idx):\n",
    "    \"\"\"Proposal function of a new state z_{idx} from the posterior\n",
    "    \n",
    "    p(x_1, ..., x_K, z_1, ..., y_N | y_1, ..., y_N)\n",
    "\n",
    "    where all x_i and the other z_j are fixed.\n",
    "    \n",
    "    The returned vector z1 is equal to z0, \n",
    "    with the entry at index idx given by the proposal.\"\"\"\n",
    "    \n",
    "    newval = random.randint(key, (), 0, K) \n",
    "    z1 = z0.at[idx].set(newval)\n",
    "   \n",
    "    logPiX0 = logPi(x, z0, y, sigma, alpha)\n",
    "    logPiX1 = logPi(x, z1, y, sigma, alpha)\n",
    "    \n",
    "    r = jnp.exp(logPiX1 - logPiX0)\n",
    "    \n",
    "    return z1, r, logPiX1, logPiX0"
   ]
  },
  {
   "cell_type": "markdown",
   "id": "4bd3c7f4-8f77-4eb7-8019-29ce719c006e",
   "metadata": {},
   "source": [
    "### Sample x"
   ]
  },
  {
   "cell_type": "code",
   "execution_count": 119,
   "id": "ce37d72e-aacd-4755-9670-86848f28b552",
   "metadata": {},
   "outputs": [
    {
     "name": "stdout",
     "output_type": "stream",
     "text": [
      "pi = [0.42265838 0.57392406 0.00341756]\n",
      "x = [ 0.04658661 -0.062072   -0.3075281 ]\n"
     ]
    }
   ],
   "source": [
    "print(f\"pi = {pi}\")\n",
    "print(f\"x = {x}\")"
   ]
  },
  {
   "cell_type": "code",
   "execution_count": 120,
   "id": "efae639d-adb8-4634-89a6-fb4bb4d1a007",
   "metadata": {},
   "outputs": [],
   "source": [
    "#z_rand = random.categorical(subkey, jnp.log(pi), shape = (N,))\n",
    "#z_rand = random.randint(subkey, (N,), 0, K)"
   ]
  },
  {
   "cell_type": "markdown",
   "id": "27a08477-3d80-4d7d-9796-56dbe1f9dadb",
   "metadata": {},
   "source": [
    "#### Sampling the marginalized posterior"
   ]
  },
  {
   "cell_type": "code",
   "execution_count": 121,
   "id": "dad4b0d6-5bb1-428b-8086-f6c7b0c2a02d",
   "metadata": {},
   "outputs": [
    {
     "name": "stdout",
     "output_type": "stream",
     "text": [
      "  MCMC sample 1000, loss = 391.64404296875, a = 0.0\n",
      "  MCMC sample 2000, loss = 391.64404296875, a = 0.0\n",
      "  MCMC sample 3000, loss = 212.0443115234375, a = 0.0\n",
      "  MCMC sample 4000, loss = 202.97059631347656, a = 0.0\n",
      "  MCMC sample 5000, loss = 202.97059631347656, a = 0.0\n",
      "  MCMC sample 6000, loss = 202.97059631347656, a = 0.0\n",
      "  MCMC sample 7000, loss = 202.97059631347656, a = 0.0\n",
      "  MCMC sample 8000, loss = 202.97059631347656, a = 0.0\n",
      "  MCMC sample 9000, loss = 202.97059631347656, a = 0.0\n",
      "18.27625608444214 sec\n",
      "x_samp = [-0.01353836  0.00935268 -0.1593461 ]\n",
      "x_true = [ 0.04658661 -0.062072   -0.3075281 ]\n"
     ]
    },
    {
     "data": {
      "image/png": "[encoded data removed]",
      "text/plain": [
       "<Figure size 432x432 with 1 Axes>"
      ]
     },
     "metadata": {
      "needs_background": "light"
     },
     "output_type": "display_data"
    }
   ],
   "source": [
    "N_samples_x = 10000\n",
    "x0 = jnp.array(np.random.randn(K))\n",
    "B = 3\n",
    "\n",
    "params_x = {\"B\" : B, \"z\" : z, \"y\" : y, \"sigma\" : sigma, \"alpha\" : alpha}\n",
    "\n",
    "key, subkey = random.split(key)\n",
    "t0 = time.time()\n",
    "x_mean, x_r, x_samples = mcmc(subkey, proposal_x_marg, x0, N_samples_x, params_x, 1, 1)\n",
    "\n",
    "print(f\"{time.time()-t0} sec\")\n",
    "plt.plot(x_r); plt.title(\"Acceptance ratio\")\n",
    "print(f\"x_samp = {x_samples[N_samples_x-2]}\")\n",
    "print(f\"x_true = {x}\")"
   ]
  },
  {
   "cell_type": "markdown",
   "id": "994ce326-9964-498f-9eb0-b4d3f54beaf3",
   "metadata": {},
   "source": [
    "#### And the non-marginalized posterior"
   ]
  },
  {
   "cell_type": "code",
   "execution_count": 122,
   "id": "307a7113-06df-48fe-9831-0262217173a3",
   "metadata": {},
   "outputs": [
    {
     "name": "stdout",
     "output_type": "stream",
     "text": [
      "  MCMC sample 1000, loss = 5831.1513671875, a = 0.0\n",
      "  MCMC sample 2000, loss = 5831.1513671875, a = 0.0\n",
      "  MCMC sample 3000, loss = 5975.107421875, a = 0.0\n",
      "  MCMC sample 4000, loss = 6063.99658203125, a = 0.0\n",
      "  MCMC sample 5000, loss = 6063.99658203125, a = 0.0\n",
      "  MCMC sample 6000, loss = 6063.99658203125, a = 0.0\n",
      "  MCMC sample 7000, loss = 6063.99658203125, a = 0.0\n",
      "  MCMC sample 8000, loss = 6096.9169921875, a = 0.0\n",
      "  MCMC sample 9000, loss = 6160.779296875, a = 0.0\n",
      "16.28319478034973 sec\n",
      "x_samp = [ 0.0066669  -0.04967308 -0.4052832 ]\n",
      "x_true = [ 0.04658661 -0.062072   -0.3075281 ]\n"
     ]
    },
    {
     "data": {
      "image/png": "[encoded data removed]",
      "text/plain": [
       "<Figure size 432x432 with 1 Axes>"
      ]
     },
     "metadata": {
      "needs_background": "light"
     },
     "output_type": "display_data"
    }
   ],
   "source": [
    "N_samples_x = 10000\n",
    "x0 = jnp.array(np.random.randn(K))\n",
    "B = 3\n",
    "\n",
    "params_x = {\"B\" : B, \"z\" : z, \"y\" : y, \"sigma\" : sigma, \"alpha\" : alpha}\n",
    "\n",
    "key, subkey = random.split(key)\n",
    "t0 = time.time()\n",
    "x_mean, x_r, x_samples = mcmc(subkey, proposal_x, x0, N_samples_x, params_x, 1, 1)\n",
    "\n",
    "print(f\"{time.time()-t0} sec\")\n",
    "plt.plot(x_r); plt.title(\"Acceptance ratio\")\n",
    "print(f\"x_samp = {x_samples[N_samples_x-2]}\")\n",
    "print(f\"x_true = {x}\")"
   ]
  },
  {
   "cell_type": "markdown",
   "id": "815b6fbd-f4b9-41a9-ac5b-5f137a620746",
   "metadata": {},
   "source": [
    "#### One $x_i$ at a time"
   ]
  },
  {
   "cell_type": "code",
   "execution_count": 123,
   "id": "41d4e4f8-38eb-441d-bacb-e89996b4cd31",
   "metadata": {},
   "outputs": [
    {
     "name": "stdout",
     "output_type": "stream",
     "text": [
      "  MCMC sample 1000, loss = 75434.6640625, a = 0.0\n",
      "  MCMC sample 2000, loss = 75435.0546875, a = 0.0\n",
      "  MCMC sample 3000, loss = 75434.890625, a = 0.0\n",
      "  MCMC sample 4000, loss = 75435.6484375, a = 1.0357944428378285e-13\n",
      "  MCMC sample 5000, loss = 75434.7578125, a = 0.0\n",
      "  MCMC sample 6000, loss = 75434.6015625, a = 0.0\n",
      "  MCMC sample 7000, loss = 75434.96875, a = 0.0\n",
      "  MCMC sample 8000, loss = 75435.6953125, a = 0.0\n",
      "  MCMC sample 9000, loss = 75434.71875, a = 0.0\n",
      "  MCMC sample 10000, loss = 75435.4453125, a = 0.0\n",
      "16.2345290184021 sec\n",
      "x_samp = [-0.48155826  1.5607467  -0.37675595]\n",
      "x_true = [ 0.04658661 -0.062072   -0.3075281 ]\n"
     ]
    },
    {
     "data": {
      "image/png": "[encoded data removed]",
      "text/plain": [
       "<Figure size 432x432 with 1 Axes>"
      ]
     },
     "metadata": {
      "needs_background": "light"
     },
     "output_type": "display_data"
    }
   ],
   "source": [
    "N_samples_x = 10001\n",
    "B = 3\n",
    "\n",
    "idx = 2\n",
    "x0 = jnp.array(np.random.randn(K))\n",
    "\n",
    "params_x = {\"B\" : B, \"z\" : z, \"y\" : y, \"sigma\" : sigma, \"alpha\" : alpha, \"idx\": idx}\n",
    "\n",
    "key, subkey = random.split(key)\n",
    "t0 = time.time()\n",
    "x_mean, x_r, x_samples = mcmc(subkey, proposal_x_idx, x0, N_samples_x, params_x, 1, 1)\n",
    "\n",
    "print(f\"{time.time()-t0} sec\")\n",
    "plt.plot(x_r); plt.title(\"Acceptance ratio\")\n",
    "print(f\"x_samp = {x_samples[N_samples_x-2]}\")\n",
    "print(f\"x_true = {x}\")"
   ]
  },
  {
   "cell_type": "code",
   "execution_count": 124,
   "id": "94be8177-0aa9-44e0-83ab-575807a32bc4",
   "metadata": {},
   "outputs": [
    {
     "data": {
      "image/png": "[encoded data removed]",
      "text/plain": [
       "<Figure size 432x432 with 1 Axes>"
      ]
     },
     "metadata": {
      "needs_background": "light"
     },
     "output_type": "display_data"
    }
   ],
   "source": [
    "nbins=100\n",
    "counts, bins = np.histogram(x_samples[:,idx], bins=nbins)\n",
    "_ = plt.hist(bins[:-1], bins, weights=counts)"
   ]
  },
  {
   "cell_type": "code",
   "execution_count": 125,
   "id": "e5733f1f-dbb7-424f-ba91-920b8f4ad8b5",
   "metadata": {},
   "outputs": [
    {
     "data": {
      "text/plain": [
       "[<matplotlib.lines.Line2D at 0x7f9a604906a0>]"
      ]
     },
     "execution_count": 125,
     "metadata": {},
     "output_type": "execute_result"
    },
    {
     "data": {
      "image/png": "[encoded data removed]",
      "text/plain": [
       "<Figure size 432x432 with 1 Axes>"
      ]
     },
     "metadata": {
      "needs_background": "light"
     },
     "output_type": "display_data"
    }
   ],
   "source": [
    "plt.plot(x_samples[:,idx],'.')"
   ]
  },
  {
   "cell_type": "markdown",
   "id": "e37199aa-3238-44ae-a8bb-158c5326aea1",
   "metadata": {},
   "source": [
    "### Sample z"
   ]
  },
  {
   "cell_type": "code",
   "execution_count": 126,
   "id": "5ee6d7c0-6e72-4a32-bdc4-4c7fe32738be",
   "metadata": {},
   "outputs": [
    {
     "name": "stdout",
     "output_type": "stream",
     "text": [
      "  MCMC sample 1000, loss = 4223.3125, a = 1.0\n",
      "4.257251977920532 sec\n",
      "z[idx]_samp = 0\n",
      "z[idx]_true = 1\n"
     ]
    },
    {
     "data": {
      "image/png": "[encoded data removed]",
      "text/plain": [
       "<Figure size 432x432 with 1 Axes>"
      ]
     },
     "metadata": {
      "needs_background": "light"
     },
     "output_type": "display_data"
    }
   ],
   "source": [
    "N_samples_z = 1023\n",
    "z0 = jnp.array(np.random.randint(0, K, (N,)))\n",
    "#z0 = z.at[idx].set(np.random.randint(0,K,())\n",
    "\n",
    "B = 3\n",
    "idx = 10\n",
    "params_z = {\"x\" : x, \"y\" : y, \"sigma\" : sigma, \"alpha\" : alpha, \"K\" : K, 'idx' : idx}\n",
    "\n",
    "key, subkey = random.split(key)\n",
    "\n",
    "t0 = time.time()\n",
    "z_mean, z_r, z_samples = mcmc(subkey, proposal_z_idx, z0, N_samples_z, params_z, 1, 1)\n",
    "\n",
    "z_samples = z_samples[:,idx]\n",
    "\n",
    "print(f\"{time.time()-t0} sec\")\n",
    "plt.plot(z_r); plt.title(\"Acceptance ratio\")\n",
    "print(f\"z[idx]_samp = {z_samples[N_samples_z-2]}\")\n",
    "print(f\"z[idx]_true = {z[idx]}\")\n"
   ]
  },
  {
   "cell_type": "code",
   "execution_count": 127,
   "id": "ee738ce4-ea81-45d8-8d11-d2e05a43e163",
   "metadata": {},
   "outputs": [
    {
     "data": {
      "text/plain": [
       "[<matplotlib.lines.Line2D at 0x7f9a92c116d0>]"
      ]
     },
     "execution_count": 127,
     "metadata": {},
     "output_type": "execute_result"
    },
    {
     "data": {
      "image/png": "[encoded data removed]",
      "text/plain": [
       "<Figure size 432x432 with 1 Axes>"
      ]
     },
     "metadata": {
      "needs_background": "light"
     },
     "output_type": "display_data"
    }
   ],
   "source": [
    "plt.plot(z_samples, '.')"
   ]
  },
  {
   "cell_type": "code",
   "execution_count": 128,
   "id": "e15b4da7-612a-4772-8f91-19d8301dbfeb",
   "metadata": {},
   "outputs": [
    {
     "data": {
      "image/png": "[encoded data removed]",
      "text/plain": [
       "<Figure size 432x432 with 1 Axes>"
      ]
     },
     "metadata": {
      "needs_background": "light"
     },
     "output_type": "display_data"
    }
   ],
   "source": [
    "nbins=100\n",
    "counts, bins = np.histogram(z_samples, bins=nbins)\n",
    "_ = plt.hist(bins[:-1], bins, weights=counts)"
   ]
  },
  {
   "cell_type": "markdown",
   "id": "1e8d77bb-5a2a-46d3-a9b2-899518ffa13e",
   "metadata": {},
   "source": [
    "### Sample $x$ and $z$"
   ]
  },
  {
   "cell_type": "code",
   "execution_count": 129,
   "id": "437124b9-9997-45ff-a022-692f0e07afb9",
   "metadata": {},
   "outputs": [],
   "source": [
    "x_true = x\n",
    "z_true = z"
   ]
  },
  {
   "cell_type": "code",
   "execution_count": 130,
   "id": "252897ed-d685-4ada-a9e2-4fd3ce128ee4",
   "metadata": {},
   "outputs": [
    {
     "name": "stdout",
     "output_type": "stream",
     "text": [
      "Iter = 0\n",
      "  Sampling x\n",
      "  MCMC sample 1000, loss = 68081.7890625, a = 0.0\n",
      "  MCMC sample 1000, loss = 39021.5546875, a = 0.0\n",
      "  MCMC sample 1000, loss = 5642.89111328125, a = 0.0\n",
      "  Sampling z\n"
     ]
    },
    {
     "name": "stderr",
     "output_type": "stream",
     "text": [
      "100%|█████████████████████████████████████████████████████████████████████████████████████████████████████████████████████████████████████████████████████████████████████████████████████████████████████████████████████████████████████████████████████████████████████████████████████| 1000/1000 [00:34<00:00, 29.09it/s]\n"
     ]
    },
    {
     "name": "stdout",
     "output_type": "stream",
     "text": [
      "Iter = 1\n",
      "  Sampling x\n",
      "  MCMC sample 1000, loss = 5643.35986328125, a = 0.0\n",
      "  MCMC sample 1000, loss = 5643.31982421875, a = 0.0\n",
      "  MCMC sample 1000, loss = 5644.443359375, a = 4.85130536387315e-35\n",
      "  Sampling z\n"
     ]
    },
    {
     "name": "stderr",
     "output_type": "stream",
     "text": [
      "100%|█████████████████████████████████████████████████████████████████████████████████████████████████████████████████████████████████████████████████████████████████████████████████████████████████████████████████████████████████████████████████████████████████████████████████████| 1000/1000 [00:32<00:00, 30.41it/s]\n"
     ]
    },
    {
     "name": "stdout",
     "output_type": "stream",
     "text": [
      "Iter = 2\n",
      "  Sampling x\n",
      "  MCMC sample 1000, loss = 5648.7294921875, a = 0.0\n",
      "  MCMC sample 1000, loss = 5648.73095703125, a = 0.0\n",
      "  MCMC sample 1000, loss = 5645.51904296875, a = 0.0\n",
      "  Sampling z\n"
     ]
    },
    {
     "name": "stderr",
     "output_type": "stream",
     "text": [
      "100%|█████████████████████████████████████████████████████████████████████████████████████████████████████████████████████████████████████████████████████████████████████████████████████████████████████████████████████████████████████████████████████████████████████████████████████| 1000/1000 [00:33<00:00, 30.21it/s]"
     ]
    },
    {
     "name": "stdout",
     "output_type": "stream",
     "text": [
      "115.03410983085632 sec\n",
      "115.03415274620056 sec\n",
      "x_samp = [-0.01870608 -0.01593804 -0.00713253]\n",
      "x_true = [ 0.04658661 -0.062072   -0.3075281 ]\n"
     ]
    },
    {
     "name": "stderr",
     "output_type": "stream",
     "text": [
      "\n"
     ]
    }
   ],
   "source": [
    "N_iters = 3\n",
    "N_samples_z = 13\n",
    "N_samples_x = 1001\n",
    "\n",
    "sample_x = True\n",
    "sample_z = True\n",
    "\n",
    "\n",
    "z = jnp.array(np.random.randint(0, K, (N,)))\n",
    "x = jnp.array(np.random.randn(K))\n",
    "\n",
    "B = 3\n",
    "\n",
    "\n",
    "t0 = time.time()\n",
    "\n",
    "for iter_i in jnp.arange(N_iters):\n",
    "    print(f\"Iter = {iter_i}\")\n",
    "\n",
    "    if sample_x:\n",
    "        print(\"  Sampling x\")\n",
    "        for idx_x in jnp.arange(K):\n",
    "\n",
    "            params_x = {\"B\" : B, \"z\" : z, \"y\" : y, \"sigma\" : sigma, \"alpha\" : alpha, \"idx\": idx_x}\n",
    "            #params_x = {\"B\" : B, \"z\" : z, \"y\" : y, \"sigma\" : sigma, \"alpha\" : alpha}\n",
    "\n",
    "            key, subkey = random.split(key)\n",
    "    \n",
    "            #t0 = time.time()\n",
    "            x_mean, x_r, x_samples = mcmc(subkey, proposal_x_idx, x, N_samples_x, params_x, 1, 1) \n",
    "            #x_mean, x_r, x_samples = mcmc(subkey, proposal_x_marg, x, N_samples_x, params_x, 1, 1) \n",
    "\n",
    "            x = x_samples[N_samples_x - 2]\n",
    "    \n",
    "    if sample_z:\n",
    "        print(\"  Sampling z\")\n",
    "        for idx_z in tqdm(jnp.arange(N)):\n",
    "            \n",
    "            params_z = {\"x\" : x, \"y\" : y, \"sigma\" : sigma, \"alpha\" : alpha, \"K\" : K, 'idx' : idx_z}\n",
    "\n",
    "            key, subkey = random.split(key)\n",
    "\n",
    "            z_mean, z_r, z_samples = mcmc(subkey, proposal_z_idx, z, N_samples_z, params_z, 1, 1)\n",
    "\n",
    "            z = z_samples[N_samples_z - 2]\n",
    "\n",
    "        \n",
    "        \n",
    "print(f\"{time.time()-t0} sec\")\n",
    "\n",
    "print(f\"{time.time()-t0} sec\")\n",
    "print(f\"x_samp = {x}\")\n",
    "print(f\"x_true = {x_true}\")\n",
    "\n",
    "\n",
    "#plt.plot(z_r); plt.title(\"Acceptance ratio\")\n",
    "#print(f\"z[idx]_samp = {z_samples[N_samples_z-2]}\")\n",
    "#print(f\"z[idx]_true = {z[idx]}\")\n",
    "\n",
    "\n",
    "\n",
    "\n",
    "\n",
    "\n",
    "\n"
   ]
  },
  {
   "cell_type": "code",
   "execution_count": 140,
   "id": "5d7a3cba-1bf6-4697-aa5d-91f0351996ad",
   "metadata": {},
   "outputs": [
    {
     "name": "stdout",
     "output_type": "stream",
     "text": [
      "[0.42265838 0.57392406 0.00341756]\n",
      "[ 0.04658661 -0.062072   -0.3075281 ]\n",
      "[-0.01870608 -0.01593804 -0.00713253]\n"
     ]
    }
   ],
   "source": [
    "print(pi)\n",
    "print(x_true)\n",
    "print(x)"
   ]
  },
  {
   "cell_type": "code",
   "execution_count": 143,
   "id": "e47b801e-2fd8-496a-9dbc-ff57302cc30c",
   "metadata": {},
   "outputs": [
    {
     "name": "stdout",
     "output_type": "stream",
     "text": [
      "324\n",
      "321\n",
      "355\n"
     ]
    },
    {
     "data": {
      "image/png": "[encoded data removed]",
      "text/plain": [
       "<Figure size 432x432 with 1 Axes>"
      ]
     },
     "metadata": {
      "needs_background": "light"
     },
     "output_type": "display_data"
    }
   ],
   "source": [
    "plt.plot(x[z], '.')\n",
    "\n",
    "print(jnp.sum(z==0))\n",
    "print(jnp.sum(z==1))\n",
    "print(jnp.sum(z==2))"
   ]
  },
  {
   "cell_type": "code",
   "execution_count": 144,
   "id": "9683f3e6-00bb-4bbc-8e0a-26585e256def",
   "metadata": {},
   "outputs": [
    {
     "data": {
      "text/plain": [
       "DeviceArray([0.42265838, 0.57392406, 0.00341756], dtype=float32)"
      ]
     },
     "execution_count": 144,
     "metadata": {},
     "output_type": "execute_result"
    }
   ],
   "source": [
    "pi"
   ]
  },
  {
   "cell_type": "code",
   "execution_count": 145,
   "id": "a7e07a0b-da25-419f-ab35-e17ee44f0f4e",
   "metadata": {},
   "outputs": [],
   "source": [
    "def loss_fun(x, z, y):\n",
    "    return (x[z] - y)**2 * pi[z]\n",
    "\n",
    "def loss_fun_vmap(x,z,y):\n",
    "    n_k = calc_nk_jit(z)\n",
    "    logPZalpha = -gammaln(jnp.sum(n_k) + jnp.sum(alpha)) + jnp.sum(gammaln(n_k + alpha))\n",
    "    \n",
    "    return jnp.sum(jax.vmap(loss_fun, in_axes = (None, 0, 0))(x,z,y)) + jnp.sum(x**2) - 0.0001*logPZalpha"
   ]
  },
  {
   "cell_type": "code",
   "execution_count": 146,
   "id": "94fa586e-4f87-4615-9f84-eeb3a853aaa2",
   "metadata": {},
   "outputs": [
    {
     "data": {
      "text/plain": [
       "DeviceArray(1.3772537, dtype=float32)"
      ]
     },
     "execution_count": 146,
     "metadata": {},
     "output_type": "execute_result"
    }
   ],
   "source": [
    "loss_fun_vmap(x, jnp.array(np.random.randint(0, K, (N,))), y)"
   ]
  },
  {
   "cell_type": "code",
   "execution_count": 147,
   "id": "284ced6a-ac3f-4b65-a56d-afee20b0f110",
   "metadata": {},
   "outputs": [
    {
     "data": {
      "text/plain": [
       "DeviceArray(1.240018, dtype=float32)"
      ]
     },
     "execution_count": 147,
     "metadata": {},
     "output_type": "execute_result"
    }
   ],
   "source": [
    "loss_fun_vmap(x, z, y)"
   ]
  },
  {
   "cell_type": "code",
   "execution_count": 148,
   "id": "c95a7969-5b1d-4285-a320-54331edfa793",
   "metadata": {},
   "outputs": [
    {
     "data": {
      "text/plain": [
       "DeviceArray(0.3779227, dtype=float32)"
      ]
     },
     "execution_count": 148,
     "metadata": {},
     "output_type": "execute_result"
    }
   ],
   "source": [
    "loss_fun_vmap(x_true, z_true, y)"
   ]
  },
  {
   "cell_type": "code",
   "execution_count": 149,
   "id": "ee3d7063-194e-4db1-8815-43c09c342c74",
   "metadata": {},
   "outputs": [
    {
     "name": "stdout",
     "output_type": "stream",
     "text": [
      "324\n",
      "321\n",
      "355\n"
     ]
    },
    {
     "data": {
      "image/png": "[encoded data removed]",
      "text/plain": [
       "<Figure size 432x432 with 1 Axes>"
      ]
     },
     "metadata": {
      "needs_background": "light"
     },
     "output_type": "display_data"
    }
   ],
   "source": [
    "plt.plot(x[z], '.')\n",
    "\n",
    "print(jnp.sum(z==0))\n",
    "print(jnp.sum(z==1))\n",
    "print(jnp.sum(z==2))"
   ]
  },
  {
   "cell_type": "code",
   "execution_count": 150,
   "id": "081e96ce-dbdc-49e4-8ee9-bd1f98b453ea",
   "metadata": {},
   "outputs": [
    {
     "name": "stdout",
     "output_type": "stream",
     "text": [
      "421\n",
      "575\n",
      "4\n"
     ]
    },
    {
     "data": {
      "image/png": "[encoded data removed]",
      "text/plain": [
       "<Figure size 432x432 with 1 Axes>"
      ]
     },
     "metadata": {
      "needs_background": "light"
     },
     "output_type": "display_data"
    }
   ],
   "source": [
    "plt.plot(x_true[z_true], '.')\n",
    "\n",
    "print(jnp.sum(z_true==0))\n",
    "print(jnp.sum(z_true==1))\n",
    "print(jnp.sum(z_true==2))"
   ]
  },
  {
   "cell_type": "markdown",
   "id": "e465cc82-4a27-4197-8d70-1b9695d63f7e",
   "metadata": {},
   "source": [
    "To explore next:\n",
    "\n",
    "* How well does each method estimate the classes $x$ when $z$ is random?\n",
    "* Is there any situation when the classes would collapse when not using the Dirichlet distribution and using it helps?\n",
    "* How well can we estimate z and x together?\n",
    "* What is preferable to use? Marginalized or non-marginalized posterior?"
   ]
  },
  {
   "cell_type": "markdown",
   "id": "569a330b-9287-4acd-9f08-e3c008125efb",
   "metadata": {},
   "source": [
    "### Some functions used for debugging - ignore"
   ]
  },
  {
   "cell_type": "code",
   "execution_count": null,
   "id": "0f633a92-f7cf-4bc9-96c7-06553e3af81d",
   "metadata": {},
   "outputs": [],
   "source": [
    "# Quick test of a proposal function\n",
    "key, subkey = random.split(key)\n",
    "idx = 11\n",
    "z1, _, _, _ = proposal_z_one(subkey, z, -1, x, y, sigma, alpha, K, idx)\n",
    "print(z1[idx])"
   ]
  },
  {
   "cell_type": "code",
   "execution_count": null,
   "id": "6890cd11-d5ee-40d4-baf1-200028668a8c",
   "metadata": {},
   "outputs": [],
   "source": [
    "key, subkey = random.split(key)\n",
    "#z0 = random.randint(subkey, z.shape, 0, K)\n",
    "z0 = jnp.ones(z.shape)\n",
    "z0 = z\n",
    "\n",
    "n_ik_z = calc_nik_jit(z0)\n",
    "n_k = calc_nk_jit(z0)\n",
    "Nk = jnp.sum(n_k)\n",
    "Ak = jnp.sum(alpha)"
   ]
  },
  {
   "cell_type": "code",
   "execution_count": null,
   "id": "0b2fa838-7c62-4dce-a60a-6c67aa2ec29e",
   "metadata": {},
   "outputs": [],
   "source": [
    "probs_d = []\n",
    "probs_dn = []\n",
    "for k in jnp.arange(K):\n",
    "    probs_d.append((n_ik_z[:, k] + alpha[k])/(Nk+Ak-1))\n",
    "    probs_dn.append((n_ik_z[:, k])/(Nk-1))\n",
    "\n",
    "probs_d = jnp.array(probs_d).transpose()   \n",
    "probs_dn = jnp.array(probs_dn).transpose()   \n",
    "\n",
    "print(probs_d)\n",
    "#print(jnp.sum(probs_d, axis=1))\n",
    "\n",
    "plt.imshow(jnp.repeat(probs_d, int(N/K), axis=1)); plt.colorbar()"
   ]
  },
  {
   "cell_type": "code",
   "execution_count": null,
   "id": "ae7ba8b7-ab85-4af2-b161-6e5c4d281220",
   "metadata": {},
   "outputs": [],
   "source": [
    "myf = lambda x0, x1 : logPi(jnp.array([x0, x1]), z, y, sigma, alpha)\n",
    "xx = jnp.linspace(-3,3,1000)    \n",
    "yy = jnp.linspace(-3,3,1000)"
   ]
  },
  {
   "cell_type": "code",
   "execution_count": null,
   "id": "c44cbf01-bdbb-4bcf-8e44-2f538dfa20af",
   "metadata": {},
   "outputs": [],
   "source": [
    "myf_x = jax.jit(lambda x : jax.vmap(myf, in_axes = (None, 0))(x, yy))\n",
    "myf_xy = jax.vmap(myf_x)(xx)"
   ]
  },
  {
   "cell_type": "code",
   "execution_count": null,
   "id": "ca3c27c4-1f80-4532-a339-0d91e3f01244",
   "metadata": {},
   "outputs": [],
   "source": [
    "plt.imshow((myf_xy)); plt.colorbar()"
   ]
  },
  {
   "cell_type": "code",
   "execution_count": null,
   "id": "d93b21d7-244b-4e97-93e1-3910f6c27632",
   "metadata": {},
   "outputs": [],
   "source": [
    "print(\"01\", myf(x[0], x[1]))\n",
    "print(\"00\", myf(x[0], x[0]))\n",
    "print(\"11\", myf(x[1], x[1]))\n",
    "print(\"10\", myf(x[1], x[0]))"
   ]
  },
  {
   "cell_type": "code",
   "execution_count": null,
   "id": "52e500a5-dcb2-4a2d-bb72-9fa58cfff1a6",
   "metadata": {},
   "outputs": [],
   "source": [
    "myf(x[0],x[1])"
   ]
  },
  {
   "cell_type": "code",
   "execution_count": null,
   "id": "2cfdcec9-5874-491c-b5ae-48b3a96c2979",
   "metadata": {},
   "outputs": [],
   "source": [
    "jnp.max(myf_xy)"
   ]
  }
 ],
 "metadata": {
  "kernelspec": {
   "display_name": "Python 3 (ipykernel)",
   "language": "python",
   "name": "python3"
  },
  "language_info": {
   "codemirror_mode": {
    "name": "ipython",
    "version": 3
   },
   "file_extension": ".py",
   "mimetype": "text/x-python",
   "name": "python",
   "nbconvert_exporter": "python",
   "pygments_lexer": "ipython3",
   "version": "3.9.7"
  }
 },
 "nbformat": 4,
 "nbformat_minor": 5
}
