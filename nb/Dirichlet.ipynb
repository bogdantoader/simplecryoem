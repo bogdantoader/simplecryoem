{
 "cells": [
  {
   "cell_type": "markdown",
   "id": "02bba85a-2401-4d87-aeb0-013d30d6717d",
   "metadata": {},
   "source": [
    "# Classification with Dirichlet prior"
   ]
  },
  {
   "cell_type": "code",
   "execution_count": 1,
   "id": "9c792c4c-80c8-4473-b3b4-d673e781b1aa",
   "metadata": {},
   "outputs": [],
   "source": [
    "%load_ext autoreload\n",
    "%autoreload 2\n",
    "import site\n",
    "import time\n",
    "site.addsitedir('..')\n",
    "\n",
    "import jax\n",
    "from jax.config import config\n",
    "import jax.numpy as jnp\n",
    "import numpy as np\n",
    "from  matplotlib import pyplot as plt\n",
    "from tqdm import tqdm\n",
    "\n",
    "from jax.scipy.special import gammaln\n",
    "from jax import random\n",
    "\n",
    "from src.algorithm import mcmc\n",
    "\n",
    "plt.rcParams[\"figure.figsize\"]=6,6\n",
    "#config.update(\"jax_enable_x64\", True)"
   ]
  },
  {
   "cell_type": "markdown",
   "id": "f2159e7b-9a04-41ce-a244-81fce0acd002",
   "metadata": {},
   "source": [
    "### Setup"
   ]
  },
  {
   "cell_type": "markdown",
   "id": "d2d0adc1-276b-4529-b36a-3d5f30452aa1",
   "metadata": {},
   "source": [
    "The probability vector $\\pi$ is drawn from a Dirichlet distribution with parameter $\\alpha$.\n",
    "\n",
    "$\\pi \\sim \\text{Dirichlet}(\\alpha)$\n",
    "\n",
    "The $K$ classes $x_1, \\ldots, x_K$ are i.i.d. samples from a standard normal distribution and we have $N$ noisy observations $y_1, \\ldots, y_N$ of the $K$ classes such that:\n",
    "\n",
    "$y_i = x_{z_i} + \\sigma \\eta_i,$\n",
    "\n",
    "where $\\eta_i \\sim \\mathcal{N}(0,1)$ and $z_1, \\ldots, z_N$ are drawn from a multinomial distribution with\n",
    "probability vector $\\pi$."
   ]
  },
  {
   "cell_type": "code",
   "execution_count": 740,
   "id": "5924a50b-0fd6-4e71-96b9-c891291fb14c",
   "metadata": {},
   "outputs": [],
   "source": [
    "key = random.PRNGKey(int(jnp.floor(np.random.rand()*1000)))\n",
    "key, *subkeys = random.split(key, 5)"
   ]
  },
  {
   "cell_type": "code",
   "execution_count": 747,
   "id": "75556229-5c63-4d6f-a277-248980c4e5ac",
   "metadata": {},
   "outputs": [],
   "source": [
    "K = 10\n",
    "N = 1000\n",
    "sigma = 0.03\n",
    "alpha = 0.7 * jnp.ones(K,)\n",
    "#alpha = jnp.array([10,10,2])"
   ]
  },
  {
   "cell_type": "code",
   "execution_count": 748,
   "id": "69825358-81e0-4d8c-8c1b-34f7a309f3a5",
   "metadata": {},
   "outputs": [
    {
     "name": "stdout",
     "output_type": "stream",
     "text": [
      "pi = [0.01207974 0.22626306 0.04141581 0.08789956 0.03968062 0.01636302\n",
      " 0.00174355 0.32687056 0.06601959 0.18166453]\n"
     ]
    }
   ],
   "source": [
    "pi = random.dirichlet(subkeys[0], alpha)\n",
    "z = random.categorical(subkeys[1], jnp.log(pi), shape = (N,))\n",
    "print(f\"pi = {pi}\")"
   ]
  },
  {
   "cell_type": "code",
   "execution_count": 749,
   "id": "4200539f-cb45-4eea-b7b2-7671a5f81655",
   "metadata": {},
   "outputs": [
    {
     "name": "stdout",
     "output_type": "stream",
     "text": [
      "x = [-0.04346443 -0.4092391   1.6317272   1.1915433   0.51219404 -0.7797925\n",
      "  0.46418872 -2.2547438   0.3551698   1.2771338 ]\n"
     ]
    },
    {
     "data": {
      "image/png": "[encoded data removed]",
      "text/plain": [
       "<Figure size 432x432 with 1 Axes>"
      ]
     },
     "metadata": {
      "needs_background": "light"
     },
     "output_type": "display_data"
    }
   ],
   "source": [
    "x = random.normal(subkeys[2], shape = (K,))\n",
    "y = x[z] + sigma * random.normal(subkeys[3], shape = (N,))\n",
    "\n",
    "print(f\"x = {x}\")\n",
    "_ = plt.plot(y, '.')"
   ]
  },
  {
   "cell_type": "markdown",
   "id": "d2a3ea4f-cd5c-4561-9776-fa4abf7dd61a",
   "metadata": {},
   "source": [
    "### The posterior and proposal functions"
   ]
  },
  {
   "cell_type": "code",
   "execution_count": 772,
   "id": "c8215a51-910c-49ec-a85e-4b37a48a2162",
   "metadata": {},
   "outputs": [],
   "source": [
    "# This log posterior marginalizes over the classes k = 1,...,K.\n",
    "def logPi_marg(x, z, y, sigma, alpha):\n",
    "    n_ik = calc_nik_jit(z)\n",
    "    n_k = calc_nk_jit(z)\n",
    "    \n",
    "    log_arg = jnp.zeros(y.shape)\n",
    "    logPZalpha = -gammaln(jnp.sum(n_k) + jnp.sum(alpha))\n",
    "\n",
    "    Nk = jnp.sum(n_k)\n",
    "    Ak = jnp.sum(alpha)\n",
    "    \n",
    "    term_mat = []\n",
    "    for k in jnp.arange(K):\n",
    "        logarg_k = jnp.exp(-(y - x[k])**2/sigma) *  (n_ik[:, k] + alpha[k])/(Nk+Ak-1)\n",
    "        log_arg += logarg_k\n",
    "        term_mat.append(logarg_k)\n",
    "        \n",
    "        logPZalpha += gammaln(n_k[k] + alpha[k])\n",
    "      \n",
    "    return jnp.sum(jnp.log(log_arg)) - jnp.sum(x**2) \n",
    "   \n",
    "# And this does not.\n",
    "def logPi(x, z, y, sigma, alpha):\n",
    "    n_ik = calc_nik_jit(z)\n",
    "    n_k = calc_nk_jit(z)\n",
    "    \n",
    "    Nk = jnp.sum(n_k)\n",
    "    Ak = jnp.sum(alpha)\n",
    "    \n",
    "    n_ik_z = jax.vmap(lambda i : n_ik[i, z[i]])(jnp.arange(N))\n",
    "    \n",
    "    term1 = jnp.sum(-(y - x[z])**2/sigma)\n",
    "    term2 = jnp.sum(jnp.log(n_ik_z + alpha[z])) \n",
    "\n",
    "    logPZalpha = -gammaln(jnp.sum(n_k) + jnp.sum(alpha)) + jnp.sum(gammaln(n_k + alpha))\n",
    "\n",
    "    return term1 + term2 - jnp.sum(x**2) #+ logPZalpha \n",
    "\n",
    "\n",
    "def calc_nik_ki(z,k,i): \n",
    "    z = z.at[i].set(jnp.inf)    \n",
    "    return jnp.sum(z == k)\n",
    "\n",
    "calc_nik_i = lambda z, i : jax.vmap(calc_nik_ki, in_axes = (None, 0, None))(z, jnp.arange(K), i)\n",
    "calc_nik = lambda z : jax.vmap(calc_nik_i, in_axes = (None, 0))(z, jnp.arange(N))\n",
    "calc_nik_jit = jax.jit(calc_nik)\n",
    "\n",
    "calc_nk_k = lambda z, k : jnp.sum(z == k)\n",
    "calc_nk = lambda z : jax.vmap(calc_nk_k, in_axes = (None, 0))(z, jnp.arange(K))\n",
    "calc_nk_jit = jax.jit(calc_nk)"
   ]
  },
  {
   "cell_type": "code",
   "execution_count": 773,
   "id": "ffc7bee9-013f-4f5b-a85d-d40ba98082b6",
   "metadata": {},
   "outputs": [
    {
     "name": "stdout",
     "output_type": "stream",
     "text": [
      "5062.7725\n",
      "4777.269\n"
     ]
    }
   ],
   "source": [
    "print(logPi(x, z, y, sigma, alpha))\n",
    "print(logPi(xi, zi, y, sigma, alpha))"
   ]
  },
  {
   "cell_type": "code",
   "execution_count": 774,
   "id": "e4cc3b56-a2a1-4948-b8e6-fb7116ae85cd",
   "metadata": {},
   "outputs": [],
   "source": [
    "@jax.jit\n",
    "def proposal_x_marg(key, x0, logPiX0, B, z, y, sigma, alpha):\n",
    "    \"\"\"Proposal function of a new vector [x_1,...,x_k] from the posterior\n",
    "    \n",
    "    p(x_1, ..., x_K | y_1, ..., y_N)\n",
    "    \n",
    "    with marginalization over z_1,...z_N.\"\"\"\n",
    "    \n",
    "    x1 = random.uniform(key, x0.shape) * 2*B-B\n",
    "    \n",
    "    logPiX0 = logPi_marg(x0, z, y, sigma, alpha)\n",
    "    logPiX1 = logPi_marg(x1, z, y, sigma, alpha)\n",
    "    \n",
    "    r = jnp.exp((logPiX1 - logPiX0))\n",
    "    \n",
    "    return x1, r, logPiX1, logPiX0\n",
    "\n",
    "@jax.jit\n",
    "def proposal_x(key, x0, logPiX0, B, z, y, sigma, alpha):\n",
    "    \"\"\"Proposal function of a new vector [x_1,...,x_K] from the posterior\n",
    "    \n",
    "    p(x_1, ..., x_K, z_1, ..., y_N | y_1, ..., y_N)\n",
    "\n",
    "    without marginalization over z_i variales (where we keep z_i fixed).\"\"\"\n",
    "    \n",
    "    x1 = random.uniform(key, x0.shape) * 2*B-B\n",
    "    \n",
    "    logPiX0 = logPi(x0, z, y, sigma, alpha)\n",
    "    logPiX1 = logPi(x1, z, y, sigma, alpha)\n",
    "    \n",
    "    r = jnp.exp((logPiX1 - logPiX0))\n",
    "    \n",
    "    return x1, r, logPiX1, logPiX0\n",
    "\n",
    "@jax.jit\n",
    "def proposal_x_idx(key, x0, logPiX0, B, z, y, sigma, alpha, idx):\n",
    "    \"\"\"Proposal function for a new state x_{idx} from the posterior\n",
    "    \n",
    "    p(x_1, ..., x_K, z_1, ..., y_N | y_1, ..., y_N)\n",
    "    \n",
    "    where all z_i and the other x_j are fixed and with no\n",
    "    marginalization over z.\n",
    "\n",
    "    The returned vector x1 is equal to x0, \n",
    "    with the entry at index idx given by the proposal.\"\"\"\n",
    "    \n",
    "    newval = random.uniform(key) * 2*B-B\n",
    "    x1 = x0.at[idx].set(newval)\n",
    "    \n",
    "    logPiX0 = logPi(x0, z, y, sigma, alpha)\n",
    "    logPiX1 = logPi(x1, z, y, sigma, alpha)\n",
    "    \n",
    "    r = jnp.exp(logPiX1 - logPiX0)\n",
    "    \n",
    "    return x1, r, logPiX1, logPiX0    \n",
    "               \n",
    "\n",
    "@jax.jit\n",
    "def proposal_z(key, z0, logPiX0, x, y, sigma, alpha, K):\n",
    "    \"\"\"Proposal function of a new vector [z_1,...,z_N] from the posterior\n",
    "    \n",
    "    p(x_1, ..., x_K, z_1, ..., y_N | y_1, ..., y_N)\n",
    "\n",
    "    where the x_i variables are fixed.\"\"\"\n",
    "    \n",
    "    z1 = random.randint(key, z0.shape, 0, K) \n",
    "\n",
    "    logPiX0 = logPi(x, z0, y, sigma, alpha)\n",
    "    logPiX1 = logPi(x, z1, y, sigma, alpha)\n",
    "    \n",
    "    r = jnp.exp(logPiX1 - logPiX0)\n",
    "    \n",
    "    return z1, r, logPiX1, logPiX0\n",
    "\n",
    "@jax.jit\n",
    "def proposal_z_idx(key, z0, logPiX0, x, y, sigma, alpha, K, idx):\n",
    "    \"\"\"Proposal function of a new state z_{idx} from the posterior\n",
    "    \n",
    "    p(x_1, ..., x_K, z_1, ..., y_N | y_1, ..., y_N)\n",
    "\n",
    "    where all x_i and the other z_j are fixed.\n",
    "    \n",
    "    The returned vector z1 is equal to z0, \n",
    "    with the entry at index idx given by the proposal.\"\"\"\n",
    "    \n",
    "    newval = random.randint(key, (), 0, K) \n",
    "    z1 = z0.at[idx].set(newval)\n",
    "    \n",
    "    logPiX0 = logPi(x, z0, y, sigma, alpha)\n",
    "    logPiX1 = logPi(x, z1, y, sigma, alpha)\n",
    "    \n",
    "    r = jnp.exp(logPiX1 - logPiX0)\n",
    "    \n",
    "    return z1, r, logPiX1, logPiX0"
   ]
  },
  {
   "cell_type": "markdown",
   "id": "4bd3c7f4-8f77-4eb7-8019-29ce719c006e",
   "metadata": {},
   "source": [
    "### Sample x"
   ]
  },
  {
   "cell_type": "code",
   "execution_count": 752,
   "id": "ce37d72e-aacd-4755-9670-86848f28b552",
   "metadata": {},
   "outputs": [
    {
     "name": "stdout",
     "output_type": "stream",
     "text": [
      "pi = [0.01207974 0.22626306 0.04141581 0.08789956 0.03968062 0.01636302\n",
      " 0.00174355 0.32687056 0.06601959 0.18166453]\n",
      "x = [-0.04346443 -0.4092391   1.6317272   1.1915433   0.51219404 -0.7797925\n",
      "  0.46418872 -2.2547438   0.3551698   1.2771338 ]\n"
     ]
    }
   ],
   "source": [
    "print(f\"pi = {pi}\")\n",
    "print(f\"x = {x}\")"
   ]
  },
  {
   "cell_type": "code",
   "execution_count": 697,
   "id": "efae639d-adb8-4634-89a6-fb4bb4d1a007",
   "metadata": {},
   "outputs": [],
   "source": [
    "#z_rand = random.categorical(subkey, jnp.log(pi), shape = (N,))\n",
    "#z_rand = random.randint(subkey, (N,), 0, K)"
   ]
  },
  {
   "cell_type": "markdown",
   "id": "27a08477-3d80-4d7d-9796-56dbe1f9dadb",
   "metadata": {},
   "source": [
    "#### Sampling the marginalized posterior"
   ]
  },
  {
   "cell_type": "code",
   "execution_count": 10,
   "id": "dad4b0d6-5bb1-428b-8086-f6c7b0c2a02d",
   "metadata": {},
   "outputs": [
    {
     "name": "stdout",
     "output_type": "stream",
     "text": [
      "  MCMC sample 1000, loss = 1659.691650390625, a = 0.0\n",
      "  MCMC sample 2000, loss = 1433.853515625, a = 0.0\n",
      "  MCMC sample 3000, loss = 1262.4512939453125, a = 0.0\n",
      "  MCMC sample 4000, loss = 1262.4512939453125, a = 0.0\n",
      "  MCMC sample 5000, loss = 1262.4512939453125, a = 0.0\n",
      "  MCMC sample 6000, loss = 1262.4512939453125, a = 0.0\n",
      "  MCMC sample 7000, loss = 1262.4512939453125, a = 0.0\n",
      "  MCMC sample 8000, loss = 1262.4512939453125, a = 0.0\n",
      "  MCMC sample 9000, loss = 1262.4512939453125, a = 0.0\n",
      "18.835962772369385 sec\n",
      "x_samp = [ 0.97928023  2.055068   -0.39224195]\n",
      "x_true = [-0.42080927  1.9656439   0.928362  ]\n"
     ]
    },
    {
     "data": {
      "image/png": "[encoded data removed]",
      "text/plain": [
       "<Figure size 432x432 with 1 Axes>"
      ]
     },
     "metadata": {
      "needs_background": "light"
     },
     "output_type": "display_data"
    }
   ],
   "source": [
    "N_samples_x = 10000\n",
    "x0 = jnp.array(np.random.randn(K))\n",
    "B = 3\n",
    "\n",
    "params_x = {\"B\" : B, \"z\" : z, \"y\" : y, \"sigma\" : sigma, \"alpha\" : alpha}\n",
    "\n",
    "key, subkey = random.split(key)\n",
    "t0 = time.time()\n",
    "x_mean, x_r, x_samples = mcmc(subkey, proposal_x_marg, x0, N_samples_x, params_x, 1, 1)\n",
    "\n",
    "print(f\"{time.time()-t0} sec\")\n",
    "plt.plot(x_r); plt.title(\"Acceptance ratio\")\n",
    "print(f\"x_samp = {x_samples[N_samples_x-2]}\")\n",
    "print(f\"x_true = {x}\")"
   ]
  },
  {
   "cell_type": "markdown",
   "id": "994ce326-9964-498f-9eb0-b4d3f54beaf3",
   "metadata": {},
   "source": [
    "#### And the non-marginalized posterior"
   ]
  },
  {
   "cell_type": "code",
   "execution_count": 11,
   "id": "307a7113-06df-48fe-9831-0262217173a3",
   "metadata": {},
   "outputs": [
    {
     "name": "stdout",
     "output_type": "stream",
     "text": [
      "  MCMC sample 1000, loss = 3832.76171875, a = 0.0\n",
      "  MCMC sample 2000, loss = 3832.76171875, a = 0.0\n",
      "  MCMC sample 3000, loss = 4530.708984375, a = 0.0\n",
      "  MCMC sample 4000, loss = 4530.708984375, a = 0.0\n",
      "  MCMC sample 5000, loss = 4530.708984375, a = 0.0\n",
      "  MCMC sample 6000, loss = 4530.708984375, a = 0.0\n",
      "  MCMC sample 7000, loss = 4530.708984375, a = 0.0\n",
      "  MCMC sample 8000, loss = 4530.708984375, a = 0.0\n",
      "  MCMC sample 9000, loss = 4530.708984375, a = 0.0\n",
      "16.108863830566406 sec\n",
      "x_samp = [-0.31087732  1.8224821   0.87926316]\n",
      "x_true = [-0.42080927  1.9656439   0.928362  ]\n"
     ]
    },
    {
     "data": {
      "image/png": "[encoded data removed]",
      "text/plain": [
       "<Figure size 432x432 with 1 Axes>"
      ]
     },
     "metadata": {
      "needs_background": "light"
     },
     "output_type": "display_data"
    }
   ],
   "source": [
    "N_samples_x = 10000\n",
    "x0 = jnp.array(np.random.randn(K))\n",
    "B = 3\n",
    "\n",
    "params_x = {\"B\" : B, \"z\" : z, \"y\" : y, \"sigma\" : sigma, \"alpha\" : alpha}\n",
    "\n",
    "key, subkey = random.split(key)\n",
    "t0 = time.time()\n",
    "x_mean, x_r, x_samples = mcmc(subkey, proposal_x, x0, N_samples_x, params_x, 1, 1)\n",
    "\n",
    "print(f\"{time.time()-t0} sec\")\n",
    "plt.plot(x_r); plt.title(\"Acceptance ratio\")\n",
    "print(f\"x_samp = {x_samples[N_samples_x-2]}\")\n",
    "print(f\"x_true = {x}\")"
   ]
  },
  {
   "cell_type": "markdown",
   "id": "815b6fbd-f4b9-41a9-ac5b-5f137a620746",
   "metadata": {},
   "source": [
    "#### One $x_i$ at a time"
   ]
  },
  {
   "cell_type": "code",
   "execution_count": 12,
   "id": "41d4e4f8-38eb-441d-bacb-e89996b4cd31",
   "metadata": {},
   "outputs": [
    {
     "name": "stdout",
     "output_type": "stream",
     "text": [
      "  MCMC sample 1000, loss = 654.5516357421875, a = 0.0\n",
      "  MCMC sample 2000, loss = 653.760498046875, a = 0.0\n",
      "  MCMC sample 3000, loss = 654.7591552734375, a = 0.0\n",
      "  MCMC sample 4000, loss = 654.7420654296875, a = 0.0\n",
      "  MCMC sample 5000, loss = 654.678955078125, a = 0.0\n",
      "  MCMC sample 6000, loss = 652.0994873046875, a = 0.0\n",
      "  MCMC sample 7000, loss = 654.67333984375, a = 0.0\n",
      "  MCMC sample 8000, loss = 653.2642822265625, a = 0.0\n",
      "  MCMC sample 9000, loss = 654.7830810546875, a = 0.0\n",
      "  MCMC sample 10000, loss = 652.9879150390625, a = 0.0\n",
      "16.228681087493896 sec\n",
      "x_samp = [-0.40595675  1.3225673   0.90517974]\n",
      "x_true = [-0.42080927  1.9656439   0.928362  ]\n"
     ]
    },
    {
     "data": {
      "image/png": "[encoded data removed]",
      "text/plain": [
       "<Figure size 432x432 with 1 Axes>"
      ]
     },
     "metadata": {
      "needs_background": "light"
     },
     "output_type": "display_data"
    }
   ],
   "source": [
    "N_samples_x = 10001\n",
    "B = 3\n",
    "\n",
    "idx = 2\n",
    "x0 = jnp.array(np.random.randn(K))\n",
    "\n",
    "params_x = {\"B\" : B, \"z\" : z, \"y\" : y, \"sigma\" : sigma, \"alpha\" : alpha, \"idx\": idx}\n",
    "\n",
    "key, subkey = random.split(key)\n",
    "t0 = time.time()\n",
    "x_mean, x_r, x_samples = mcmc(subkey, proposal_x_idx, x0, N_samples_x, params_x, 1, 1)\n",
    "\n",
    "print(f\"{time.time()-t0} sec\")\n",
    "plt.plot(x_r); plt.title(\"Acceptance ratio\")\n",
    "print(f\"x_samp = {x_samples[N_samples_x-2]}\")\n",
    "print(f\"x_true = {x}\")"
   ]
  },
  {
   "cell_type": "code",
   "execution_count": 13,
   "id": "94be8177-0aa9-44e0-83ab-575807a32bc4",
   "metadata": {},
   "outputs": [
    {
     "data": {
      "image/png": "[encoded data removed]",
      "text/plain": [
       "<Figure size 432x432 with 1 Axes>"
      ]
     },
     "metadata": {
      "needs_background": "light"
     },
     "output_type": "display_data"
    }
   ],
   "source": [
    "nbins=100\n",
    "counts, bins = np.histogram(x_samples[:,idx], bins=nbins)\n",
    "_ = plt.hist(bins[:-1], bins, weights=counts)"
   ]
  },
  {
   "cell_type": "code",
   "execution_count": 14,
   "id": "e5733f1f-dbb7-424f-ba91-920b8f4ad8b5",
   "metadata": {},
   "outputs": [
    {
     "data": {
      "text/plain": [
       "[<matplotlib.lines.Line2D at 0x7fbed8187d00>]"
      ]
     },
     "execution_count": 14,
     "metadata": {},
     "output_type": "execute_result"
    },
    {
     "data": {
      "image/png": "[encoded data removed]",
      "text/plain": [
       "<Figure size 432x432 with 1 Axes>"
      ]
     },
     "metadata": {
      "needs_background": "light"
     },
     "output_type": "display_data"
    }
   ],
   "source": [
    "plt.plot(x_samples[:,idx],'.')"
   ]
  },
  {
   "cell_type": "markdown",
   "id": "e37199aa-3238-44ae-a8bb-158c5326aea1",
   "metadata": {},
   "source": [
    "### Sample z"
   ]
  },
  {
   "cell_type": "code",
   "execution_count": 385,
   "id": "5ee6d7c0-6e72-4a32-bdc4-4c7fe32738be",
   "metadata": {},
   "outputs": [
    {
     "name": "stdout",
     "output_type": "stream",
     "text": [
      "  MCMC sample 1000, loss = 3257.5888671875, a = 0.011484041810035706\n",
      "4.277724981307983 sec\n",
      "z[idx]_samp = 0\n",
      "z[idx]_true = 2\n"
     ]
    },
    {
     "data": {
      "image/png": "[encoded data removed]",
      "text/plain": [
       "<Figure size 432x432 with 1 Axes>"
      ]
     },
     "metadata": {
      "needs_background": "light"
     },
     "output_type": "display_data"
    }
   ],
   "source": [
    "N_samples_z = 1023\n",
    "z0 = jnp.array(np.random.randint(0, K, (N,)))\n",
    "#z0 = z.at[idx].set(np.random.randint(0,K,())\n",
    "\n",
    "B = 2\n",
    "idx = 10\n",
    "params_z = {\"x\" : xi, \"y\" : y, \"sigma\" : sigma, \"alpha\" : alpha, \"K\" : K, 'idx' : idx}\n",
    "\n",
    "key, subkey = random.split(key)\n",
    "\n",
    "t0 = time.time()\n",
    "z_mean, z_r, z_samples = mcmc(subkey, proposal_z_idx, z0, N_samples_z, params_z, 1, 1)\n",
    "\n",
    "z_samples = z_samples[:,idx]\n",
    "\n",
    "print(f\"{time.time()-t0} sec\")\n",
    "plt.plot(z_r); plt.title(\"Acceptance ratio\")\n",
    "print(f\"z[idx]_samp = {z_samples[N_samples_z-2]}\")\n",
    "print(f\"z[idx]_true = {z[idx]}\")\n"
   ]
  },
  {
   "cell_type": "code",
   "execution_count": 95,
   "id": "ee738ce4-ea81-45d8-8d11-d2e05a43e163",
   "metadata": {},
   "outputs": [
    {
     "data": {
      "text/plain": [
       "[<matplotlib.lines.Line2D at 0x7fbf08403f10>]"
      ]
     },
     "execution_count": 95,
     "metadata": {},
     "output_type": "execute_result"
    },
    {
     "data": {
      "image/png": "[encoded data removed]",
      "text/plain": [
       "<Figure size 432x432 with 1 Axes>"
      ]
     },
     "metadata": {
      "needs_background": "light"
     },
     "output_type": "display_data"
    }
   ],
   "source": [
    "plt.plot(z_samples, '.')"
   ]
  },
  {
   "cell_type": "code",
   "execution_count": 96,
   "id": "e15b4da7-612a-4772-8f91-19d8301dbfeb",
   "metadata": {},
   "outputs": [
    {
     "data": {
      "image/png": "[encoded data removed]",
      "text/plain": [
       "<Figure size 432x432 with 1 Axes>"
      ]
     },
     "metadata": {
      "needs_background": "light"
     },
     "output_type": "display_data"
    }
   ],
   "source": [
    "nbins=100\n",
    "counts, bins = np.histogram(z_samples, bins=nbins)\n",
    "_ = plt.hist(bins[:-1], bins, weights=counts)"
   ]
  },
  {
   "cell_type": "markdown",
   "id": "1e8d77bb-5a2a-46d3-a9b2-899518ffa13e",
   "metadata": {},
   "source": [
    "### Sample $x$ and $z$"
   ]
  },
  {
   "cell_type": "code",
   "execution_count": 775,
   "id": "252897ed-d685-4ada-a9e2-4fd3ce128ee4",
   "metadata": {},
   "outputs": [
    {
     "name": "stdout",
     "output_type": "stream",
     "text": [
      "Iter = 0\n",
      "  Sampling x\n",
      "  MCMC sample 1000, loss = -111524.484375, a = 0.0\n",
      "  MCMC sample 2000, loss = -111524.046875, a = 0.0\n",
      "  MCMC sample 3000, loss = -111524.203125, a = 0.0\n",
      "  MCMC sample 1000, loss = -111327.703125, a = 0.0\n",
      "  MCMC sample 2000, loss = -111327.734375, a = 0.0\n",
      "  MCMC sample 3000, loss = -111327.8515625, a = 0.0\n",
      "  MCMC sample 1000, loss = -110059.453125, a = 0.0\n",
      "  MCMC sample 2000, loss = -110059.6796875, a = 0.0\n",
      "  MCMC sample 3000, loss = -110060.8828125, a = 0.0\n",
      "  MCMC sample 1000, loss = -106992.4140625, a = 0.0\n",
      "  MCMC sample 2000, loss = -106991.8515625, a = 0.0\n",
      "  MCMC sample 3000, loss = -106991.9609375, a = 0.0\n",
      "  MCMC sample 1000, loss = -87674.1875, a = 0.0\n",
      "  MCMC sample 2000, loss = -87674.09375, a = 0.0\n",
      "  MCMC sample 3000, loss = -87673.9765625, a = 0.0\n",
      "  MCMC sample 1000, loss = -86461.9765625, a = 0.0\n",
      "  MCMC sample 2000, loss = -86462.390625, a = 0.0\n",
      "  MCMC sample 3000, loss = -86461.7734375, a = 0.0\n",
      "  MCMC sample 1000, loss = -81551.640625, a = 0.0\n",
      "  MCMC sample 2000, loss = -81551.8203125, a = 0.0\n",
      "  MCMC sample 3000, loss = -81552.2109375, a = 0.0\n",
      "  MCMC sample 1000, loss = -73366.9609375, a = 0.0\n",
      "  MCMC sample 2000, loss = -73366.15625, a = 0.0\n",
      "  MCMC sample 3000, loss = -73366.203125, a = 0.0\n",
      "  MCMC sample 1000, loss = -65956.25, a = 0.0\n",
      "  MCMC sample 2000, loss = -65957.6015625, a = 0.0\n",
      "  MCMC sample 3000, loss = -65956.2890625, a = 0.0\n",
      "  MCMC sample 1000, loss = -65833.234375, a = 0.0\n",
      "  MCMC sample 2000, loss = -65833.1015625, a = 0.0\n",
      "  MCMC sample 3000, loss = -65833.09375, a = 0.0\n",
      "  Searching z\n"
     ]
    },
    {
     "name": "stderr",
     "output_type": "stream",
     "text": [
      "100%|█████████████████████████████████████████████████████████████████████████████████████████████████████████████████████████████████████████████████████████████████████████████████████████████████████████████████████████████████████████████████████████████████████████████████████| 1000/1000 [01:08<00:00, 14.67it/s]\n"
     ]
    },
    {
     "name": "stdout",
     "output_type": "stream",
     "text": [
      "Iter = 1\n",
      "  Sampling x\n",
      "  MCMC sample 1000, loss = -51003.07421875, a = 0.03290724381804466\n",
      "  MCMC sample 2000, loss = -51003.73828125, a = 0.001203337567858398\n",
      "  MCMC sample 3000, loss = -51004.87109375, a = 0.13428209722042084\n",
      "  MCMC sample 1000, loss = -51004.76171875, a = 0.2865048050880432\n",
      "  MCMC sample 2000, loss = -51004.9765625, a = 0.011328102089464664\n",
      "  MCMC sample 3000, loss = -51005.05859375, a = 0.7460454702377319\n",
      "  MCMC sample 1000, loss = -51005.015625, a = 0.026338625699281693\n",
      "  MCMC sample 2000, loss = -51005.27734375, a = 0.012637410312891006\n",
      "  MCMC sample 3000, loss = -51004.98828125, a = 0.056858617812395096\n",
      "  MCMC sample 1000, loss = -51000.9453125, a = 0.0\n",
      "  MCMC sample 2000, loss = -51001.2265625, a = 0.0\n",
      "  MCMC sample 3000, loss = -51000.796875, a = 0.0\n",
      "  MCMC sample 1000, loss = -23011.5859375, a = 0.0\n",
      "  MCMC sample 2000, loss = -23011.49609375, a = 0.0\n",
      "  MCMC sample 3000, loss = -23011.876953125, a = 0.0\n",
      "  MCMC sample 1000, loss = -3411.25146484375, a = 0.0\n",
      "  MCMC sample 2000, loss = -3409.790771484375, a = 0.0\n",
      "  MCMC sample 3000, loss = -3409.542236328125, a = 0.0\n",
      "  MCMC sample 1000, loss = -3409.546142578125, a = 0.006545007228851318\n",
      "  MCMC sample 2000, loss = -3409.54296875, a = 0.031584836542606354\n",
      "  MCMC sample 3000, loss = -3410.01708984375, a = 0.0011884474661201239\n",
      "  MCMC sample 1000, loss = -3411.435302734375, a = 1.0\n",
      "  MCMC sample 2000, loss = -3409.760498046875, a = 1.0\n",
      "  MCMC sample 3000, loss = -3409.90576171875, a = 0.000346788001479581\n",
      "  MCMC sample 1000, loss = -3410.52099609375, a = 1.0\n",
      "  MCMC sample 2000, loss = -3409.766357421875, a = 0.37094584107398987\n",
      "  MCMC sample 3000, loss = -3412.76611328125, a = 0.4884331226348877\n",
      "  MCMC sample 1000, loss = -3413.28125, a = 0.05886435508728027\n",
      "  MCMC sample 2000, loss = -3413.209228515625, a = 0.8688150644302368\n",
      "  MCMC sample 3000, loss = -3413.20751953125, a = 1.0\n",
      "  Searching z\n"
     ]
    },
    {
     "name": "stderr",
     "output_type": "stream",
     "text": [
      "100%|█████████████████████████████████████████████████████████████████████████████████████████████████████████████████████████████████████████████████████████████████████████████████████████████████████████████████████████████████████████████████████████████████████████████████████| 1000/1000 [01:07<00:00, 14.81it/s]\n"
     ]
    },
    {
     "name": "stdout",
     "output_type": "stream",
     "text": [
      "Iter = 2\n",
      "  Sampling x\n",
      "  MCMC sample 1000, loss = 2656.99951171875, a = 0.08699587732553482\n",
      "  MCMC sample 2000, loss = 2657.737548828125, a = 0.022933730855584145\n",
      "  MCMC sample 3000, loss = 2657.6455078125, a = 0.44439780712127686\n",
      "  MCMC sample 1000, loss = 2657.47021484375, a = 0.6353284120559692\n",
      "  MCMC sample 2000, loss = 2657.939697265625, a = 0.13800452649593353\n",
      "  MCMC sample 3000, loss = 2657.666748046875, a = 0.8464128375053406\n",
      "  MCMC sample 1000, loss = 2677.798828125, a = 0.0\n",
      "  MCMC sample 2000, loss = 2677.8701171875, a = 0.0\n",
      "  MCMC sample 3000, loss = 2677.849365234375, a = 0.0\n",
      "  MCMC sample 1000, loss = 2679.646240234375, a = 0.0\n",
      "  MCMC sample 2000, loss = 2679.43212890625, a = 0.0\n",
      "  MCMC sample 3000, loss = 2679.815185546875, a = 0.0\n",
      "  MCMC sample 1000, loss = 2974.0234375, a = 0.0\n",
      "  MCMC sample 2000, loss = 2974.022216796875, a = 7.26964827000498e-29\n",
      "  MCMC sample 3000, loss = 2973.267578125, a = 0.0\n",
      "  MCMC sample 1000, loss = 4535.59912109375, a = 0.0\n",
      "  MCMC sample 2000, loss = 4535.697265625, a = 0.0\n",
      "  MCMC sample 3000, loss = 4535.59814453125, a = 0.0\n",
      "  MCMC sample 1000, loss = 4536.14794921875, a = 1.0\n",
      "  MCMC sample 2000, loss = 4535.00830078125, a = 0.01109815388917923\n",
      "  MCMC sample 3000, loss = 4536.11279296875, a = 0.4549363851547241\n",
      "  MCMC sample 1000, loss = 4536.216796875, a = 0.040063679218292236\n",
      "  MCMC sample 2000, loss = 4536.1123046875, a = 1.0\n",
      "  MCMC sample 3000, loss = 4535.48583984375, a = 0.6677719354629517\n",
      "  MCMC sample 1000, loss = 4535.873046875, a = 0.01609261892735958\n",
      "  MCMC sample 2000, loss = 4538.47705078125, a = 0.015408259816467762\n",
      "  MCMC sample 3000, loss = 4538.1435546875, a = 0.0003650313301477581\n",
      "  MCMC sample 1000, loss = 4538.5224609375, a = 0.020482517778873444\n",
      "  MCMC sample 2000, loss = 4538.73046875, a = 1.0\n",
      "  MCMC sample 3000, loss = 4538.30419921875, a = 0.007831435650587082\n",
      "  Searching z\n"
     ]
    },
    {
     "name": "stderr",
     "output_type": "stream",
     "text": [
      "100%|█████████████████████████████████████████████████████████████████████████████████████████████████████████████████████████████████████████████████████████████████████████████████████████████████████████████████████████████████████████████████████████████████████████████████████| 1000/1000 [01:06<00:00, 14.93it/s]\n"
     ]
    },
    {
     "name": "stdout",
     "output_type": "stream",
     "text": [
      "Iter = 3\n",
      "  Sampling x\n",
      "  MCMC sample 1000, loss = 5141.88818359375, a = 0.0011337477480992675\n",
      "  MCMC sample 2000, loss = 5141.72705078125, a = 0.14448633790016174\n",
      "  MCMC sample 3000, loss = 5141.2109375, a = 0.0010983295505866408\n",
      "  MCMC sample 1000, loss = 5141.45947265625, a = 1.0\n",
      "  MCMC sample 2000, loss = 5141.4365234375, a = 0.060555242002010345\n",
      "  MCMC sample 3000, loss = 5141.466796875, a = 1.0\n",
      "  MCMC sample 1000, loss = 5142.01611328125, a = 0.0\n",
      "  MCMC sample 2000, loss = 5144.65087890625, a = 0.0\n",
      "  MCMC sample 3000, loss = 5144.85986328125, a = 0.0\n",
      "  MCMC sample 1000, loss = 5144.84716796875, a = 0.0\n",
      "  MCMC sample 2000, loss = 5145.0576171875, a = 0.0\n",
      "  MCMC sample 3000, loss = 5145.013671875, a = 0.0\n",
      "  MCMC sample 1000, loss = 5145.021484375, a = 0.0\n",
      "  MCMC sample 2000, loss = 5145.78955078125, a = 0.0\n",
      "  MCMC sample 3000, loss = 5145.787109375, a = 0.0\n",
      "  MCMC sample 1000, loss = 5215.85400390625, a = 0.0\n",
      "  MCMC sample 2000, loss = 5215.8564453125, a = 0.0\n",
      "  MCMC sample 3000, loss = 5215.5498046875, a = 0.0\n",
      "  MCMC sample 1000, loss = 5215.27392578125, a = 0.21084317564964294\n",
      "  MCMC sample 2000, loss = 5214.4521484375, a = 1.0\n",
      "  MCMC sample 3000, loss = 5215.48095703125, a = 0.00021522045426536351\n",
      "  MCMC sample 1000, loss = 5216.28857421875, a = 0.00018381835252512246\n",
      "  MCMC sample 2000, loss = 5216.12158203125, a = 0.06123913824558258\n",
      "  MCMC sample 3000, loss = 5216.26708984375, a = 1.0\n",
      "  MCMC sample 1000, loss = 5216.5869140625, a = 0.6759734153747559\n",
      "  MCMC sample 2000, loss = 5215.98828125, a = 0.007030344568192959\n",
      "  MCMC sample 3000, loss = 5216.611328125, a = 0.12202667444944382\n",
      "  MCMC sample 1000, loss = 5216.3486328125, a = 0.20910026133060455\n",
      "  MCMC sample 2000, loss = 5216.970703125, a = 0.10981211811304092\n",
      "  MCMC sample 3000, loss = 5217.01025390625, a = 1.0\n",
      "  Searching z\n"
     ]
    },
    {
     "name": "stderr",
     "output_type": "stream",
     "text": [
      "100%|█████████████████████████████████████████████████████████████████████████████████████████████████████████████████████████████████████████████████████████████████████████████████████████████████████████████████████████████████████████████████████████████████████████████████████| 1000/1000 [01:07<00:00, 14.87it/s]\n"
     ]
    },
    {
     "name": "stdout",
     "output_type": "stream",
     "text": [
      "Iter = 4\n",
      "  Sampling x\n",
      "  MCMC sample 1000, loss = 5217.71875, a = 1.0\n",
      "  MCMC sample 2000, loss = 5217.77099609375, a = 0.00040981502388603985\n",
      "  MCMC sample 3000, loss = 5217.47265625, a = 0.015430847182869911\n",
      "  MCMC sample 1000, loss = 5217.453125, a = 0.08180491626262665\n",
      "  MCMC sample 2000, loss = 5217.1044921875, a = 0.00043988204561173916\n",
      "  MCMC sample 3000, loss = 5217.41552734375, a = 1.0\n",
      "  MCMC sample 1000, loss = 5217.1640625, a = 0.0\n",
      "  MCMC sample 2000, loss = 5216.451171875, a = 0.0\n",
      "  MCMC sample 3000, loss = 5217.35888671875, a = 0.0\n",
      "  MCMC sample 1000, loss = 5217.08251953125, a = 2.5673341177752384e-36\n",
      "  MCMC sample 2000, loss = 5216.94384765625, a = 0.0\n",
      "  MCMC sample 3000, loss = 5217.341796875, a = 0.0\n",
      "  MCMC sample 1000, loss = 5217.181640625, a = 0.0\n",
      "  MCMC sample 2000, loss = 5216.9765625, a = 0.0\n",
      "  MCMC sample 3000, loss = 5216.486328125, a = 0.0\n",
      "  MCMC sample 1000, loss = 5216.43115234375, a = 0.0\n",
      "  MCMC sample 2000, loss = 5216.43115234375, a = 0.0\n",
      "  MCMC sample 3000, loss = 5216.6142578125, a = 0.0\n",
      "  MCMC sample 1000, loss = 5216.29736328125, a = 0.7875963449478149\n",
      "  MCMC sample 2000, loss = 5216.45947265625, a = 0.035755373537540436\n",
      "  MCMC sample 3000, loss = 5216.73095703125, a = 0.08636102825403214\n",
      "  MCMC sample 1000, loss = 5215.59765625, a = 0.33283859491348267\n",
      "  MCMC sample 2000, loss = 5216.638671875, a = 0.00020738012972287834\n",
      "  MCMC sample 3000, loss = 5216.20849609375, a = 0.023621322587132454\n",
      "  MCMC sample 1000, loss = 5216.1611328125, a = 1.0\n",
      "  MCMC sample 2000, loss = 5216.1533203125, a = 0.11740922182798386\n",
      "  MCMC sample 3000, loss = 5213.76904296875, a = 0.003500725142657757\n",
      "  MCMC sample 1000, loss = 5213.0263671875, a = 0.8173726797103882\n",
      "  MCMC sample 2000, loss = 5213.13623046875, a = 0.0005620685406029224\n",
      "  MCMC sample 3000, loss = 5213.8056640625, a = 0.000811837031506002\n",
      "  Searching z\n"
     ]
    },
    {
     "name": "stderr",
     "output_type": "stream",
     "text": [
      "100%|█████████████████████████████████████████████████████████████████████████████████████████████████████████████████████████████████████████████████████████████████████████████████████████████████████████████████████████████████████████████████████████████████████████████████████| 1000/1000 [01:07<00:00, 14.84it/s]\n"
     ]
    },
    {
     "name": "stdout",
     "output_type": "stream",
     "text": [
      "Iter = 5\n",
      "  Sampling x\n",
      "  MCMC sample 1000, loss = 5213.60009765625, a = 1.0\n",
      "  MCMC sample 2000, loss = 5212.845703125, a = 0.01532572228461504\n",
      "  MCMC sample 3000, loss = 5214.0869140625, a = 1.0\n",
      "  MCMC sample 1000, loss = 5213.48291015625, a = 0.7607598900794983\n",
      "  MCMC sample 2000, loss = 5213.54150390625, a = 0.4284178614616394\n",
      "  MCMC sample 3000, loss = 5213.666015625, a = 0.014781845733523369\n",
      "  MCMC sample 1000, loss = 5211.279296875, a = 0.16040104627609253\n",
      "  MCMC sample 2000, loss = 5212.77978515625, a = 0.0\n",
      "  MCMC sample 3000, loss = 5213.64306640625, a = 0.0\n",
      "  MCMC sample 1000, loss = 5213.6982421875, a = 0.0\n",
      "  MCMC sample 2000, loss = 5213.64697265625, a = 0.0\n",
      "  MCMC sample 3000, loss = 5213.548828125, a = 1.3400549505604431e-05\n",
      "  MCMC sample 1000, loss = 5214.34765625, a = 0.0\n",
      "  MCMC sample 2000, loss = 5214.2900390625, a = 0.0\n",
      "  MCMC sample 3000, loss = 5214.36181640625, a = 0.0\n",
      "  MCMC sample 1000, loss = 5214.43017578125, a = 0.0\n",
      "  MCMC sample 2000, loss = 5214.07080078125, a = 0.0\n",
      "  MCMC sample 3000, loss = 5212.84033203125, a = 0.0\n",
      "  MCMC sample 1000, loss = 5212.07666015625, a = 0.4684617817401886\n",
      "  MCMC sample 2000, loss = 5212.853515625, a = 1.0\n",
      "  MCMC sample 3000, loss = 5212.56201171875, a = 0.006186107639223337\n",
      "  MCMC sample 1000, loss = 5212.3388671875, a = 0.667120099067688\n",
      "  MCMC sample 2000, loss = 5213.09521484375, a = 0.09251624345779419\n",
      "  MCMC sample 3000, loss = 5211.41015625, a = 0.18327319622039795\n",
      "  MCMC sample 1000, loss = 5213.77783203125, a = 0.000505806936416775\n",
      "  MCMC sample 2000, loss = 5213.2841796875, a = 0.0003281719982624054\n",
      "  MCMC sample 3000, loss = 5213.59326171875, a = 0.015544280409812927\n",
      "  MCMC sample 1000, loss = 5212.5654296875, a = 1.0\n",
      "  MCMC sample 2000, loss = 5211.90966796875, a = 0.3956417739391327\n",
      "  MCMC sample 3000, loss = 5213.5927734375, a = 0.00047818743041716516\n",
      "  Searching z\n"
     ]
    },
    {
     "name": "stderr",
     "output_type": "stream",
     "text": [
      "  3%|███████▊                                                                                                                                                                                                                                                                               | 28/1000 [00:01<01:08, 14.12it/s]\n"
     ]
    },
    {
     "ename": "KeyboardInterrupt",
     "evalue": "",
     "output_type": "error",
     "traceback": [
      "\u001b[0;31m---------------------------------------------------------------------------\u001b[0m",
      "\u001b[0;31mKeyboardInterrupt\u001b[0m                         Traceback (most recent call last)",
      "\u001b[0;32m/var/folders/t3/hcx4r4_961g84bb7t1m8hjqc0000gn/T/ipykernel_12787/1448548106.py\u001b[0m in \u001b[0;36m<module>\u001b[0;34m\u001b[0m\n\u001b[1;32m     40\u001b[0m             \u001b[0;32mfor\u001b[0m \u001b[0mki\u001b[0m \u001b[0;32min\u001b[0m \u001b[0mjnp\u001b[0m\u001b[0;34m.\u001b[0m\u001b[0marange\u001b[0m\u001b[0;34m(\u001b[0m\u001b[0mK\u001b[0m\u001b[0;34m)\u001b[0m\u001b[0;34m:\u001b[0m\u001b[0;34m\u001b[0m\u001b[0;34m\u001b[0m\u001b[0m\n\u001b[1;32m     41\u001b[0m                 \u001b[0mzi_k\u001b[0m \u001b[0;34m=\u001b[0m \u001b[0mzi\u001b[0m\u001b[0;34m.\u001b[0m\u001b[0mat\u001b[0m\u001b[0;34m[\u001b[0m\u001b[0midx_z\u001b[0m\u001b[0;34m]\u001b[0m\u001b[0;34m.\u001b[0m\u001b[0mset\u001b[0m\u001b[0;34m(\u001b[0m\u001b[0mki\u001b[0m\u001b[0;34m)\u001b[0m\u001b[0;34m\u001b[0m\u001b[0;34m\u001b[0m\u001b[0m\n\u001b[0;32m---> 42\u001b[0;31m                 \u001b[0mlogPi_k\u001b[0m \u001b[0;34m=\u001b[0m \u001b[0mlogPi\u001b[0m\u001b[0;34m(\u001b[0m\u001b[0mxi\u001b[0m\u001b[0;34m,\u001b[0m \u001b[0mzi_k\u001b[0m\u001b[0;34m,\u001b[0m \u001b[0my\u001b[0m\u001b[0;34m,\u001b[0m \u001b[0msigma\u001b[0m\u001b[0;34m,\u001b[0m \u001b[0malpha\u001b[0m\u001b[0;34m)\u001b[0m\u001b[0;34m\u001b[0m\u001b[0;34m\u001b[0m\u001b[0m\n\u001b[0m\u001b[1;32m     43\u001b[0m                 \u001b[0;32mif\u001b[0m \u001b[0mlogPi_k\u001b[0m \u001b[0;34m>\u001b[0m \u001b[0mlogPi_max\u001b[0m\u001b[0;34m:\u001b[0m\u001b[0;34m\u001b[0m\u001b[0;34m\u001b[0m\u001b[0m\n\u001b[1;32m     44\u001b[0m                     \u001b[0mzi\u001b[0m \u001b[0;34m=\u001b[0m \u001b[0mzi_k\u001b[0m\u001b[0;34m\u001b[0m\u001b[0;34m\u001b[0m\u001b[0m\n",
      "\u001b[0;32m/var/folders/t3/hcx4r4_961g84bb7t1m8hjqc0000gn/T/ipykernel_12787/1639735584.py\u001b[0m in \u001b[0;36mlogPi\u001b[0;34m(x, z, y, sigma, alpha)\u001b[0m\n\u001b[1;32m     30\u001b[0m     \u001b[0mn_ik_z\u001b[0m \u001b[0;34m=\u001b[0m \u001b[0mjax\u001b[0m\u001b[0;34m.\u001b[0m\u001b[0mvmap\u001b[0m\u001b[0;34m(\u001b[0m\u001b[0;32mlambda\u001b[0m \u001b[0mi\u001b[0m \u001b[0;34m:\u001b[0m \u001b[0mn_ik\u001b[0m\u001b[0;34m[\u001b[0m\u001b[0mi\u001b[0m\u001b[0;34m,\u001b[0m \u001b[0mz\u001b[0m\u001b[0;34m[\u001b[0m\u001b[0mi\u001b[0m\u001b[0;34m]\u001b[0m\u001b[0;34m]\u001b[0m\u001b[0;34m)\u001b[0m\u001b[0;34m(\u001b[0m\u001b[0mjnp\u001b[0m\u001b[0;34m.\u001b[0m\u001b[0marange\u001b[0m\u001b[0;34m(\u001b[0m\u001b[0mN\u001b[0m\u001b[0;34m)\u001b[0m\u001b[0;34m)\u001b[0m\u001b[0;34m\u001b[0m\u001b[0;34m\u001b[0m\u001b[0m\n\u001b[1;32m     31\u001b[0m \u001b[0;34m\u001b[0m\u001b[0m\n\u001b[0;32m---> 32\u001b[0;31m     \u001b[0mterm1\u001b[0m \u001b[0;34m=\u001b[0m \u001b[0mjnp\u001b[0m\u001b[0;34m.\u001b[0m\u001b[0msum\u001b[0m\u001b[0;34m(\u001b[0m\u001b[0;34m-\u001b[0m\u001b[0;34m(\u001b[0m\u001b[0my\u001b[0m \u001b[0;34m-\u001b[0m \u001b[0mx\u001b[0m\u001b[0;34m[\u001b[0m\u001b[0mz\u001b[0m\u001b[0;34m]\u001b[0m\u001b[0;34m)\u001b[0m\u001b[0;34m**\u001b[0m\u001b[0;36m2\u001b[0m\u001b[0;34m/\u001b[0m\u001b[0msigma\u001b[0m\u001b[0;34m)\u001b[0m\u001b[0;34m\u001b[0m\u001b[0;34m\u001b[0m\u001b[0m\n\u001b[0m\u001b[1;32m     33\u001b[0m     \u001b[0mterm2\u001b[0m \u001b[0;34m=\u001b[0m \u001b[0mjnp\u001b[0m\u001b[0;34m.\u001b[0m\u001b[0msum\u001b[0m\u001b[0;34m(\u001b[0m\u001b[0mjnp\u001b[0m\u001b[0;34m.\u001b[0m\u001b[0mlog\u001b[0m\u001b[0;34m(\u001b[0m\u001b[0mn_ik_z\u001b[0m \u001b[0;34m+\u001b[0m \u001b[0malpha\u001b[0m\u001b[0;34m[\u001b[0m\u001b[0mz\u001b[0m\u001b[0;34m]\u001b[0m\u001b[0;34m)\u001b[0m\u001b[0;34m)\u001b[0m\u001b[0;34m\u001b[0m\u001b[0;34m\u001b[0m\u001b[0m\n\u001b[1;32m     34\u001b[0m \u001b[0;34m\u001b[0m\u001b[0m\n",
      "\u001b[0;32m/opt/anaconda3/lib/python3.9/site-packages/jax/_src/numpy/lax_numpy.py\u001b[0m in \u001b[0;36m_rewriting_take\u001b[0;34m(arr, idx, indices_are_sorted, unique_indices, mode, fill_value)\u001b[0m\n\u001b[1;32m   5751\u001b[0m   \u001b[0marr\u001b[0m \u001b[0;34m=\u001b[0m \u001b[0masarray\u001b[0m\u001b[0;34m(\u001b[0m\u001b[0marr\u001b[0m\u001b[0;34m)\u001b[0m\u001b[0;34m\u001b[0m\u001b[0;34m\u001b[0m\u001b[0m\n\u001b[1;32m   5752\u001b[0m   \u001b[0mtreedef\u001b[0m\u001b[0;34m,\u001b[0m \u001b[0mstatic_idx\u001b[0m\u001b[0;34m,\u001b[0m \u001b[0mdynamic_idx\u001b[0m \u001b[0;34m=\u001b[0m \u001b[0m_split_index_for_jit\u001b[0m\u001b[0;34m(\u001b[0m\u001b[0midx\u001b[0m\u001b[0;34m,\u001b[0m \u001b[0marr\u001b[0m\u001b[0;34m.\u001b[0m\u001b[0mshape\u001b[0m\u001b[0;34m)\u001b[0m\u001b[0;34m\u001b[0m\u001b[0;34m\u001b[0m\u001b[0m\n\u001b[0;32m-> 5753\u001b[0;31m   return _gather(arr, treedef, static_idx, dynamic_idx, indices_are_sorted,\n\u001b[0m\u001b[1;32m   5754\u001b[0m                  unique_indices, mode, fill_value)\n\u001b[1;32m   5755\u001b[0m \u001b[0;34m\u001b[0m\u001b[0m\n",
      "\u001b[0;32m/opt/anaconda3/lib/python3.9/site-packages/jax/_src/numpy/lax_numpy.py\u001b[0m in \u001b[0;36m_gather\u001b[0;34m(arr, treedef, static_idx, dynamic_idx, indices_are_sorted, unique_indices, mode, fill_value)\u001b[0m\n\u001b[1;32m   5760\u001b[0m             unique_indices, mode, fill_value):\n\u001b[1;32m   5761\u001b[0m   \u001b[0midx\u001b[0m \u001b[0;34m=\u001b[0m \u001b[0m_merge_static_and_dynamic_indices\u001b[0m\u001b[0;34m(\u001b[0m\u001b[0mtreedef\u001b[0m\u001b[0;34m,\u001b[0m \u001b[0mstatic_idx\u001b[0m\u001b[0;34m,\u001b[0m \u001b[0mdynamic_idx\u001b[0m\u001b[0;34m)\u001b[0m\u001b[0;34m\u001b[0m\u001b[0;34m\u001b[0m\u001b[0m\n\u001b[0;32m-> 5762\u001b[0;31m   \u001b[0mindexer\u001b[0m \u001b[0;34m=\u001b[0m \u001b[0m_index_to_gather\u001b[0m\u001b[0;34m(\u001b[0m\u001b[0mshape\u001b[0m\u001b[0;34m(\u001b[0m\u001b[0marr\u001b[0m\u001b[0;34m)\u001b[0m\u001b[0;34m,\u001b[0m \u001b[0midx\u001b[0m\u001b[0;34m)\u001b[0m  \u001b[0;31m# shared with _scatter_update\u001b[0m\u001b[0;34m\u001b[0m\u001b[0;34m\u001b[0m\u001b[0m\n\u001b[0m\u001b[1;32m   5763\u001b[0m   \u001b[0my\u001b[0m \u001b[0;34m=\u001b[0m \u001b[0marr\u001b[0m\u001b[0;34m\u001b[0m\u001b[0;34m\u001b[0m\u001b[0m\n\u001b[1;32m   5764\u001b[0m \u001b[0;34m\u001b[0m\u001b[0m\n",
      "\u001b[0;32m/opt/anaconda3/lib/python3.9/site-packages/jax/_src/numpy/lax_numpy.py\u001b[0m in \u001b[0;36m_index_to_gather\u001b[0;34m(x_shape, idx, normalize_indices)\u001b[0m\n\u001b[1;32m   5887\u001b[0m       advanced_pairs = ((_normalize_index(e, x_shape[j]), i, j)\n\u001b[1;32m   5888\u001b[0m                         for e, i, j in advanced_pairs)\n\u001b[0;32m-> 5889\u001b[0;31m     \u001b[0madvanced_indexes\u001b[0m\u001b[0;34m,\u001b[0m \u001b[0midx_advanced_axes\u001b[0m\u001b[0;34m,\u001b[0m \u001b[0mx_advanced_axes\u001b[0m \u001b[0;34m=\u001b[0m \u001b[0mzip\u001b[0m\u001b[0;34m(\u001b[0m\u001b[0;34m*\u001b[0m\u001b[0madvanced_pairs\u001b[0m\u001b[0;34m)\u001b[0m\u001b[0;34m\u001b[0m\u001b[0;34m\u001b[0m\u001b[0m\n\u001b[0m\u001b[1;32m   5890\u001b[0m     \u001b[0madvanced_axes_are_contiguous\u001b[0m \u001b[0;34m=\u001b[0m \u001b[0mnp\u001b[0m\u001b[0;34m.\u001b[0m\u001b[0mall\u001b[0m\u001b[0;34m(\u001b[0m\u001b[0mnp\u001b[0m\u001b[0;34m.\u001b[0m\u001b[0mdiff\u001b[0m\u001b[0;34m(\u001b[0m\u001b[0midx_advanced_axes\u001b[0m\u001b[0;34m)\u001b[0m \u001b[0;34m==\u001b[0m \u001b[0;36m1\u001b[0m\u001b[0;34m)\u001b[0m\u001b[0;34m\u001b[0m\u001b[0;34m\u001b[0m\u001b[0m\n\u001b[1;32m   5891\u001b[0m \u001b[0;34m\u001b[0m\u001b[0m\n",
      "\u001b[0;32m/opt/anaconda3/lib/python3.9/site-packages/jax/_src/numpy/lax_numpy.py\u001b[0m in \u001b[0;36m<genexpr>\u001b[0;34m(.0)\u001b[0m\n\u001b[1;32m   5885\u001b[0m       if isscalar(e) or isinstance(e, (Sequence, ndarray, np.ndarray)))\n\u001b[1;32m   5886\u001b[0m     \u001b[0;32mif\u001b[0m \u001b[0mnormalize_indices\u001b[0m\u001b[0;34m:\u001b[0m\u001b[0;34m\u001b[0m\u001b[0;34m\u001b[0m\u001b[0m\n\u001b[0;32m-> 5887\u001b[0;31m       advanced_pairs = ((_normalize_index(e, x_shape[j]), i, j)\n\u001b[0m\u001b[1;32m   5888\u001b[0m                         for e, i, j in advanced_pairs)\n\u001b[1;32m   5889\u001b[0m     \u001b[0madvanced_indexes\u001b[0m\u001b[0;34m,\u001b[0m \u001b[0midx_advanced_axes\u001b[0m\u001b[0;34m,\u001b[0m \u001b[0mx_advanced_axes\u001b[0m \u001b[0;34m=\u001b[0m \u001b[0mzip\u001b[0m\u001b[0;34m(\u001b[0m\u001b[0;34m*\u001b[0m\u001b[0madvanced_pairs\u001b[0m\u001b[0;34m)\u001b[0m\u001b[0;34m\u001b[0m\u001b[0;34m\u001b[0m\u001b[0m\n",
      "\u001b[0;32m/opt/anaconda3/lib/python3.9/site-packages/jax/_src/numpy/lax_numpy.py\u001b[0m in \u001b[0;36m_normalize_index\u001b[0;34m(index, axis_size)\u001b[0m\n\u001b[1;32m   5558\u001b[0m                                              _dtype(index))\n\u001b[1;32m   5559\u001b[0m   return lax.select(\n\u001b[0;32m-> 5560\u001b[0;31m     \u001b[0mlax\u001b[0m\u001b[0;34m.\u001b[0m\u001b[0mlt\u001b[0m\u001b[0;34m(\u001b[0m\u001b[0mindex\u001b[0m\u001b[0;34m,\u001b[0m \u001b[0m_constant_like\u001b[0m\u001b[0;34m(\u001b[0m\u001b[0mindex\u001b[0m\u001b[0;34m,\u001b[0m \u001b[0;36m0\u001b[0m\u001b[0;34m)\u001b[0m\u001b[0;34m)\u001b[0m\u001b[0;34m,\u001b[0m\u001b[0;34m\u001b[0m\u001b[0;34m\u001b[0m\u001b[0m\n\u001b[0m\u001b[1;32m   5561\u001b[0m     \u001b[0mlax\u001b[0m\u001b[0;34m.\u001b[0m\u001b[0madd\u001b[0m\u001b[0;34m(\u001b[0m\u001b[0mindex\u001b[0m\u001b[0;34m,\u001b[0m \u001b[0maxis_size_val\u001b[0m\u001b[0;34m)\u001b[0m\u001b[0;34m,\u001b[0m\u001b[0;34m\u001b[0m\u001b[0;34m\u001b[0m\u001b[0m\n\u001b[1;32m   5562\u001b[0m     index)\n",
      "\u001b[0;32m/opt/anaconda3/lib/python3.9/site-packages/jax/_src/lax/lax.py\u001b[0m in \u001b[0;36mlt\u001b[0;34m(x, y)\u001b[0m\n\u001b[1;32m    451\u001b[0m \u001b[0;32mdef\u001b[0m \u001b[0mlt\u001b[0m\u001b[0;34m(\u001b[0m\u001b[0mx\u001b[0m\u001b[0;34m:\u001b[0m \u001b[0mArray\u001b[0m\u001b[0;34m,\u001b[0m \u001b[0my\u001b[0m\u001b[0;34m:\u001b[0m \u001b[0mArray\u001b[0m\u001b[0;34m)\u001b[0m \u001b[0;34m->\u001b[0m \u001b[0mArray\u001b[0m\u001b[0;34m:\u001b[0m\u001b[0;34m\u001b[0m\u001b[0;34m\u001b[0m\u001b[0m\n\u001b[1;32m    452\u001b[0m   \u001b[0;34mr\"\"\"Elementwise less-than: :math:`x < y`.\"\"\"\u001b[0m\u001b[0;34m\u001b[0m\u001b[0;34m\u001b[0m\u001b[0m\n\u001b[0;32m--> 453\u001b[0;31m   \u001b[0;32mreturn\u001b[0m \u001b[0mlt_p\u001b[0m\u001b[0;34m.\u001b[0m\u001b[0mbind\u001b[0m\u001b[0;34m(\u001b[0m\u001b[0mx\u001b[0m\u001b[0;34m,\u001b[0m \u001b[0my\u001b[0m\u001b[0;34m)\u001b[0m\u001b[0;34m\u001b[0m\u001b[0;34m\u001b[0m\u001b[0m\n\u001b[0m\u001b[1;32m    454\u001b[0m \u001b[0;34m\u001b[0m\u001b[0m\n\u001b[1;32m    455\u001b[0m \u001b[0;32mdef\u001b[0m \u001b[0mconvert_element_type\u001b[0m\u001b[0;34m(\u001b[0m\u001b[0moperand\u001b[0m\u001b[0;34m:\u001b[0m \u001b[0mArray\u001b[0m\u001b[0;34m,\u001b[0m \u001b[0mnew_dtype\u001b[0m\u001b[0;34m:\u001b[0m \u001b[0mDType\u001b[0m\u001b[0;34m)\u001b[0m \u001b[0;34m->\u001b[0m \u001b[0mArray\u001b[0m\u001b[0;34m:\u001b[0m\u001b[0;34m\u001b[0m\u001b[0;34m\u001b[0m\u001b[0m\n",
      "\u001b[0;32m/opt/anaconda3/lib/python3.9/site-packages/jax/core.py\u001b[0m in \u001b[0;36mbind\u001b[0;34m(self, *args, **params)\u001b[0m\n\u001b[1;32m    270\u001b[0m     assert (not config.jax_enable_checks or\n\u001b[1;32m    271\u001b[0m             all(isinstance(arg, Tracer) or valid_jaxtype(arg) for arg in args)), args\n\u001b[0;32m--> 272\u001b[0;31m     \u001b[0;32mreturn\u001b[0m \u001b[0mself\u001b[0m\u001b[0;34m.\u001b[0m\u001b[0mbind_with_trace\u001b[0m\u001b[0;34m(\u001b[0m\u001b[0mfind_top_trace\u001b[0m\u001b[0;34m(\u001b[0m\u001b[0margs\u001b[0m\u001b[0;34m)\u001b[0m\u001b[0;34m,\u001b[0m \u001b[0margs\u001b[0m\u001b[0;34m,\u001b[0m \u001b[0mparams\u001b[0m\u001b[0;34m)\u001b[0m\u001b[0;34m\u001b[0m\u001b[0;34m\u001b[0m\u001b[0m\n\u001b[0m\u001b[1;32m    273\u001b[0m \u001b[0;34m\u001b[0m\u001b[0m\n\u001b[1;32m    274\u001b[0m   \u001b[0;32mdef\u001b[0m \u001b[0mbind_with_trace\u001b[0m\u001b[0;34m(\u001b[0m\u001b[0mself\u001b[0m\u001b[0;34m,\u001b[0m \u001b[0mtrace\u001b[0m\u001b[0;34m,\u001b[0m \u001b[0margs\u001b[0m\u001b[0;34m,\u001b[0m \u001b[0mparams\u001b[0m\u001b[0;34m)\u001b[0m\u001b[0;34m:\u001b[0m\u001b[0;34m\u001b[0m\u001b[0;34m\u001b[0m\u001b[0m\n",
      "\u001b[0;32m/opt/anaconda3/lib/python3.9/site-packages/jax/core.py\u001b[0m in \u001b[0;36mbind_with_trace\u001b[0;34m(self, trace, args, params)\u001b[0m\n\u001b[1;32m    273\u001b[0m \u001b[0;34m\u001b[0m\u001b[0m\n\u001b[1;32m    274\u001b[0m   \u001b[0;32mdef\u001b[0m \u001b[0mbind_with_trace\u001b[0m\u001b[0;34m(\u001b[0m\u001b[0mself\u001b[0m\u001b[0;34m,\u001b[0m \u001b[0mtrace\u001b[0m\u001b[0;34m,\u001b[0m \u001b[0margs\u001b[0m\u001b[0;34m,\u001b[0m \u001b[0mparams\u001b[0m\u001b[0;34m)\u001b[0m\u001b[0;34m:\u001b[0m\u001b[0;34m\u001b[0m\u001b[0;34m\u001b[0m\u001b[0m\n\u001b[0;32m--> 275\u001b[0;31m     \u001b[0mout\u001b[0m \u001b[0;34m=\u001b[0m \u001b[0mtrace\u001b[0m\u001b[0;34m.\u001b[0m\u001b[0mprocess_primitive\u001b[0m\u001b[0;34m(\u001b[0m\u001b[0mself\u001b[0m\u001b[0;34m,\u001b[0m \u001b[0mmap\u001b[0m\u001b[0;34m(\u001b[0m\u001b[0mtrace\u001b[0m\u001b[0;34m.\u001b[0m\u001b[0mfull_raise\u001b[0m\u001b[0;34m,\u001b[0m \u001b[0margs\u001b[0m\u001b[0;34m)\u001b[0m\u001b[0;34m,\u001b[0m \u001b[0mparams\u001b[0m\u001b[0;34m)\u001b[0m\u001b[0;34m\u001b[0m\u001b[0;34m\u001b[0m\u001b[0m\n\u001b[0m\u001b[1;32m    276\u001b[0m     \u001b[0;32mreturn\u001b[0m \u001b[0mmap\u001b[0m\u001b[0;34m(\u001b[0m\u001b[0mfull_lower\u001b[0m\u001b[0;34m,\u001b[0m \u001b[0mout\u001b[0m\u001b[0;34m)\u001b[0m \u001b[0;32mif\u001b[0m \u001b[0mself\u001b[0m\u001b[0;34m.\u001b[0m\u001b[0mmultiple_results\u001b[0m \u001b[0;32melse\u001b[0m \u001b[0mfull_lower\u001b[0m\u001b[0;34m(\u001b[0m\u001b[0mout\u001b[0m\u001b[0;34m)\u001b[0m\u001b[0;34m\u001b[0m\u001b[0;34m\u001b[0m\u001b[0m\n\u001b[1;32m    277\u001b[0m \u001b[0;34m\u001b[0m\u001b[0m\n",
      "\u001b[0;31mKeyboardInterrupt\u001b[0m: "
     ]
    }
   ],
   "source": [
    "N_iters = 10\n",
    "N_samples_z = 50 #300\n",
    "N_samples_x = 3001\n",
    "B = 3\n",
    "\n",
    "sample_x = True\n",
    "sample_z = False\n",
    "search_z = True\n",
    "\n",
    "zi = jnp.array(np.random.randint(0, K, (N,)))\n",
    "xi = jnp.array(np.random.randn(K))\n",
    "\n",
    "#xi = x\n",
    "#zi = z\n",
    "\n",
    "t0 = time.time()\n",
    "for iter_i in jnp.arange(N_iters):\n",
    "    print(f\"Iter = {iter_i}\")\n",
    "\n",
    "    if sample_x:\n",
    "        print(\"  Sampling x\")\n",
    "        for idx_x in jnp.arange(K):\n",
    "\n",
    "            params_x = {\"B\" : B, \"z\" : zi, \"y\" : y, \"sigma\" : sigma, \"alpha\" : alpha, \"idx\": idx_x}\n",
    "            #params_x = {\"B\" : B, \"z\" : zi, \"y\" : y, \"sigma\" : sigma, \"alpha\" : alpha}\n",
    "\n",
    "            key, subkey = random.split(key)\n",
    "    \n",
    "            #t0 = time.time()\n",
    "            x_mean, x_r, x_samples = mcmc(subkey, proposal_x_idx, xi, N_samples_x, params_x, 1, 1) \n",
    "            #x_mean, x_r, x_samples = mcmc(subkey, proposal_x_marg, xi, N_samples_x, params_x, 1, 1) \n",
    "\n",
    "            xi = x_samples[N_samples_x - 2]\n",
    "    \n",
    "    if search_z:\n",
    "        print(\"  Searching z\")\n",
    "        for idx_z in tqdm(jnp.arange(N)):\n",
    "            logPi_max = -jnp.inf\n",
    "\n",
    "            for ki in jnp.arange(K):\n",
    "                zi_k = zi.at[idx_z].set(ki)\n",
    "                logPi_k = logPi(xi, zi_k, y, sigma, alpha)\n",
    "                if logPi_k > logPi_max:\n",
    "                    zi = zi_k\n",
    "                    logPi_max = logPi_k\n",
    "            \n",
    "    if sample_z:\n",
    "        print(\"  Sampling z\")\n",
    "        for idx_z in tqdm(jnp.arange(N)):\n",
    "            \n",
    "            params_z = {\"x\" : xi, \"y\" : y, \"sigma\" : sigma, \"alpha\" : alpha, \"K\" : K, 'idx' : idx_z}\n",
    "\n",
    "            key, subkey = random.split(key)\n",
    "\n",
    "            z_mean, z_r, z_samples = mcmc(subkey, proposal_z_idx, zi, N_samples_z, params_z, 1, 1)\n",
    "\n",
    "            #zi = z_samples[N_samples_z - 2]\n",
    "            \n",
    "            new_zi = jnp.bincount(z_samples[:,idx_z]).argmax()\n",
    "            zi = zi.at[idx_z].set(new_zi)\n",
    "            \n",
    "            #if zi[idx_z] - z[idx_z] != 0:\n",
    "            #    break\n",
    "            \n",
    "\n",
    "print(f\"{time.time()-t0} sec\")\n",
    "print(f\"x_samp = {xi}\")\n",
    "print(f\"x_true = {x}\")"
   ]
  },
  {
   "cell_type": "code",
   "execution_count": 754,
   "id": "f9d8e31b-0b3f-4447-9974-18f19991fe6d",
   "metadata": {},
   "outputs": [
    {
     "name": "stdout",
     "output_type": "stream",
     "text": [
      "1.2771338\n",
      "1.2677736\n"
     ]
    }
   ],
   "source": [
    "print(x[z[idx_z]])\n",
    "print(xi[zi[idx_z]])"
   ]
  },
  {
   "cell_type": "code",
   "execution_count": 701,
   "id": "ee6a3644-cc45-4a46-9484-0312c2d8ea75",
   "metadata": {},
   "outputs": [
    {
     "data": {
      "text/plain": [
       "[<matplotlib.lines.Line2D at 0x7fbef2a5e280>]"
      ]
     },
     "execution_count": 701,
     "metadata": {},
     "output_type": "execute_result"
    },
    {
     "data": {
      "image/png": "[encoded data removed]",
      "text/plain": [
       "<Figure size 432x432 with 1 Axes>"
      ]
     },
     "metadata": {
      "needs_background": "light"
     },
     "output_type": "display_data"
    }
   ],
   "source": [
    "plt.plot(z_r)"
   ]
  },
  {
   "cell_type": "code",
   "execution_count": 702,
   "id": "b1d4b520-6c8c-4fc8-a84e-82ba4bd04043",
   "metadata": {},
   "outputs": [
    {
     "data": {
      "text/plain": [
       "[<matplotlib.lines.Line2D at 0x7fbed8d2b550>]"
      ]
     },
     "execution_count": 702,
     "metadata": {},
     "output_type": "execute_result"
    },
    {
     "data": {
      "image/png": "[encoded data removed]",
      "text/plain": [
       "<Figure size 432x432 with 1 Axes>"
      ]
     },
     "metadata": {
      "needs_background": "light"
     },
     "output_type": "display_data"
    }
   ],
   "source": [
    "plt.plot(z_samples[:,idx_z], '.')"
   ]
  },
  {
   "cell_type": "code",
   "execution_count": 703,
   "id": "37f022b6-131d-4089-8ff7-a940d4068051",
   "metadata": {},
   "outputs": [
    {
     "data": {
      "image/png": "[encoded data removed]",
      "text/plain": [
       "<Figure size 432x432 with 1 Axes>"
      ]
     },
     "metadata": {
      "needs_background": "light"
     },
     "output_type": "display_data"
    }
   ],
   "source": [
    "nbins=100\n",
    "counts, bins = np.histogram(z_samples[:,idx_z], bins=nbins)\n",
    "_ = plt.hist(bins[:-1], bins, weights=counts)"
   ]
  },
  {
   "cell_type": "code",
   "execution_count": 704,
   "id": "c0356fcc-b5c1-4bcc-81ec-e0a8dbfe1895",
   "metadata": {},
   "outputs": [
    {
     "data": {
      "text/plain": [
       "DeviceArray(2, dtype=int32)"
      ]
     },
     "execution_count": 704,
     "metadata": {},
     "output_type": "execute_result"
    }
   ],
   "source": [
    "zi[idx_z]"
   ]
  },
  {
   "cell_type": "code",
   "execution_count": 705,
   "id": "b3df00c3-5c25-42ef-8ded-18e799c1e5bf",
   "metadata": {},
   "outputs": [
    {
     "data": {
      "text/plain": [
       "DeviceArray(2, dtype=int32)"
      ]
     },
     "execution_count": 705,
     "metadata": {},
     "output_type": "execute_result"
    }
   ],
   "source": [
    "z_samples[1,idx_z]"
   ]
  },
  {
   "cell_type": "code",
   "execution_count": 706,
   "id": "20cd18b1-5b43-4ac6-b7fa-a66472a255a4",
   "metadata": {},
   "outputs": [
    {
     "data": {
      "text/plain": [
       "DeviceArray(0.00094636, dtype=float32)"
      ]
     },
     "execution_count": 706,
     "metadata": {},
     "output_type": "execute_result"
    }
   ],
   "source": [
    "z_r[1]"
   ]
  },
  {
   "cell_type": "code",
   "execution_count": 707,
   "id": "a77618c0-1bbd-4be1-a1ce-2f6ef94b5b44",
   "metadata": {},
   "outputs": [
    {
     "data": {
      "text/plain": [
       "DeviceArray(2, dtype=int32)"
      ]
     },
     "execution_count": 707,
     "metadata": {},
     "output_type": "execute_result"
    }
   ],
   "source": [
    "zi[2]"
   ]
  },
  {
   "cell_type": "code",
   "execution_count": 708,
   "id": "59d67cdb-3027-4c62-b820-5f73cef32dc7",
   "metadata": {},
   "outputs": [
    {
     "data": {
      "text/plain": [
       "(49, 1000)"
      ]
     },
     "execution_count": 708,
     "metadata": {},
     "output_type": "execute_result"
    }
   ],
   "source": [
    "z_samples.shape"
   ]
  },
  {
   "cell_type": "code",
   "execution_count": 709,
   "id": "7e698bf6-f25f-43a3-9638-4a4cdc32b02f",
   "metadata": {},
   "outputs": [
    {
     "data": {
      "text/plain": [
       "[<matplotlib.lines.Line2D at 0x7fbeea65a7c0>]"
      ]
     },
     "execution_count": 709,
     "metadata": {},
     "output_type": "execute_result"
    },
    {
     "data": {
      "image/png": "[encoded data removed]",
      "text/plain": [
       "<Figure size 432x432 with 1 Axes>"
      ]
     },
     "metadata": {
      "needs_background": "light"
     },
     "output_type": "display_data"
    }
   ],
   "source": [
    "plt.plot(z_samples[:,18])"
   ]
  },
  {
   "cell_type": "code",
   "execution_count": 777,
   "id": "d160ee3b-0c25-4d70-ad50-0bdc5191c695",
   "metadata": {},
   "outputs": [
    {
     "name": "stdout",
     "output_type": "stream",
     "text": [
      "0\n",
      "0\n",
      "118\n",
      "240\n",
      "340\n",
      "302\n",
      "0\n",
      "0\n",
      "0\n",
      "0\n",
      "0\n"
     ]
    },
    {
     "data": {
      "image/png": "[encoded data removed]",
      "text/plain": [
       "<Figure size 432x432 with 1 Axes>"
      ]
     },
     "metadata": {
      "needs_background": "light"
     },
     "output_type": "display_data"
    }
   ],
   "source": [
    "plt.plot(y, '.')\n",
    "plt.plot(xi[zi], '.')\n",
    "\n",
    "print(jnp.sum(zi==0))\n",
    "print(jnp.sum(zi==1))\n",
    "print(jnp.sum(zi==2))\n",
    "print(jnp.sum(zi==3))\n",
    "print(jnp.sum(zi==4))\n",
    "print(jnp.sum(zi==5))\n",
    "print(jnp.sum(zi==6))\n",
    "print(jnp.sum(zi==7))\n",
    "print(jnp.sum(zi==8))\n",
    "print(jnp.sum(zi==9))\n",
    "print(jnp.sum(zi==10))"
   ]
  },
  {
   "cell_type": "code",
   "execution_count": 778,
   "id": "910e459f-8d94-4b51-86a2-b9559cca03db",
   "metadata": {},
   "outputs": [
    {
     "data": {
      "text/plain": [
       "DeviceArray(4, dtype=int32)"
      ]
     },
     "execution_count": 778,
     "metadata": {},
     "output_type": "execute_result"
    }
   ],
   "source": [
    "zi[18]"
   ]
  },
  {
   "cell_type": "code",
   "execution_count": 779,
   "id": "53de19a6-b32b-4de0-84c3-ed2bc256edb3",
   "metadata": {},
   "outputs": [
    {
     "data": {
      "text/plain": [
       "DeviceArray(-2.2328756, dtype=float32)"
      ]
     },
     "execution_count": 779,
     "metadata": {},
     "output_type": "execute_result"
    }
   ],
   "source": [
    "y[18]"
   ]
  },
  {
   "cell_type": "code",
   "execution_count": 780,
   "id": "f8fdd921-9fcc-4fa7-97c7-5aa82e587904",
   "metadata": {},
   "outputs": [
    {
     "data": {
      "text/plain": [
       "DeviceArray(0., dtype=float32)"
      ]
     },
     "execution_count": 780,
     "metadata": {},
     "output_type": "execute_result"
    }
   ],
   "source": [
    "logPiZ0 = logPi(xi, zi, y, sigma, alpha)\n",
    "logPiZ1 = logPi(xi, zi.at[18].set(2), y, sigma, alpha)\n",
    "\n",
    "jnp.exp(logPiZ1-logPiZ0)"
   ]
  },
  {
   "cell_type": "code",
   "execution_count": 781,
   "id": "0d1a4644-c15d-47a5-8cb3-71dadc8bde56",
   "metadata": {},
   "outputs": [
    {
     "name": "stdout",
     "output_type": "stream",
     "text": [
      "5062.7725\n",
      "5213.593\n"
     ]
    }
   ],
   "source": [
    "print(logPi(x, z, y, sigma, alpha))\n",
    "print(logPi(xi, zi, y, sigma, alpha))"
   ]
  },
  {
   "cell_type": "code",
   "execution_count": 782,
   "id": "db9fa846-8279-44b2-bac1-09b7af1da1cd",
   "metadata": {},
   "outputs": [
    {
     "data": {
      "text/plain": [
       "DeviceArray(0., dtype=float32)"
      ]
     },
     "execution_count": 782,
     "metadata": {},
     "output_type": "execute_result"
    }
   ],
   "source": [
    "z1 = z.at[0].set(1)\n",
    "logPiZ0 = logPi(x, z, y, sigma, alpha)\n",
    "logPiZ1 = logPi(x, z1, y, sigma, alpha)\n",
    "r = jnp.exp(logPiZ1 - logPiZ0)\n",
    "r"
   ]
  },
  {
   "cell_type": "code",
   "execution_count": 784,
   "id": "e47b801e-2fd8-496a-9dbc-ff57302cc30c",
   "metadata": {},
   "outputs": [
    {
     "name": "stdout",
     "output_type": "stream",
     "text": [
      "11\n",
      "209\n",
      "37\n",
      "87\n",
      "41\n",
      "20\n",
      "2\n",
      "340\n",
      "75\n",
      "178\n",
      "0\n"
     ]
    },
    {
     "data": {
      "image/png": "[encoded data removed]",
      "text/plain": [
       "<Figure size 432x432 with 1 Axes>"
      ]
     },
     "metadata": {
      "needs_background": "light"
     },
     "output_type": "display_data"
    }
   ],
   "source": [
    "plt.plot(y, '.')\n",
    "plt.plot(x[z], '.')\n",
    "\n",
    "print(jnp.sum(z==0))\n",
    "print(jnp.sum(z==1))\n",
    "print(jnp.sum(z==2))\n",
    "print(jnp.sum(z==3))\n",
    "print(jnp.sum(z==4))\n",
    "print(jnp.sum(z==5))\n",
    "print(jnp.sum(z==6))\n",
    "print(jnp.sum(z==7))\n",
    "print(jnp.sum(z==8))\n",
    "print(jnp.sum(z==9))\n",
    "print(jnp.sum(z==10))"
   ]
  },
  {
   "cell_type": "code",
   "execution_count": 786,
   "id": "3ce9a3c3-c158-45ff-935c-e9b1996739dd",
   "metadata": {},
   "outputs": [
    {
     "data": {
      "text/plain": [
       "DeviceArray([0.01207974, 0.22626306, 0.04141581, 0.08789956, 0.03968062,\n",
       "             0.01636302, 0.00174355, 0.32687056, 0.06601959, 0.18166453],            dtype=float32)"
      ]
     },
     "execution_count": 786,
     "metadata": {},
     "output_type": "execute_result"
    }
   ],
   "source": [
    "pi"
   ]
  },
  {
   "cell_type": "code",
   "execution_count": 377,
   "id": "5d7a3cba-1bf6-4697-aa5d-91f0351996ad",
   "metadata": {},
   "outputs": [
    {
     "name": "stdout",
     "output_type": "stream",
     "text": [
      "[0.58926904 0.30704442 0.1036865 ]\n",
      "[-1.2071892  -0.88907737 -1.4734226 ]\n",
      "[-1.14765   -1.0816076 -0.9918773]\n"
     ]
    }
   ],
   "source": [
    "print(pi)\n",
    "print(x)\n",
    "print(xi)"
   ]
  },
  {
   "cell_type": "code",
   "execution_count": 378,
   "id": "a7e07a0b-da25-419f-ab35-e17ee44f0f4e",
   "metadata": {},
   "outputs": [],
   "source": [
    "# Loss functions roughly equivalent with the the estimation problem to see what's going on\n",
    "def loss_fun(x, z, y):\n",
    "    return (x[z] - y)**2 * pi[z]\n",
    "\n",
    "def loss_fun_vmap(x,z,y):\n",
    "    n_k = calc_nk_jit(z)\n",
    "    logPZalpha = -gammaln(jnp.sum(n_k) + jnp.sum(alpha)) + jnp.sum(gammaln(n_k + alpha))\n",
    "    print(f\"logPZalpha = {-logPZalpha}\")\n",
    "    return jnp.sum(jax.vmap(loss_fun, in_axes = (None, 0, 0))(x,z,y)) + jnp.sum(x**2) - logPZalpha"
   ]
  },
  {
   "cell_type": "code",
   "execution_count": 379,
   "id": "5b8a1e13-f990-4fa1-a8c7-e22f1fe790c0",
   "metadata": {},
   "outputs": [],
   "source": [
    "n_k = calc_nk_jit(z)\n",
    "logPZalpha = -gammaln(jnp.sum(n_k) + jnp.sum(alpha)) + jnp.sum(gammaln(n_k + alpha))"
   ]
  },
  {
   "cell_type": "code",
   "execution_count": 380,
   "id": "d40222f5-7a15-4283-a002-d399be0845aa",
   "metadata": {},
   "outputs": [
    {
     "data": {
      "text/plain": [
       "DeviceArray(5108.597, dtype=float32)"
      ]
     },
     "execution_count": 380,
     "metadata": {},
     "output_type": "execute_result"
    }
   ],
   "source": [
    "jnp.sum(gammaln(n_k+alpha))"
   ]
  },
  {
   "cell_type": "code",
   "execution_count": 381,
   "id": "0f4fcddb-84bd-455b-84d1-bbd4c8e3521d",
   "metadata": {},
   "outputs": [
    {
     "data": {
      "text/plain": [
       "DeviceArray(6057.421, dtype=float32)"
      ]
     },
     "execution_count": 381,
     "metadata": {},
     "output_type": "execute_result"
    }
   ],
   "source": [
    "gammaln(jnp.sum(n_k) + jnp.sum(alpha))"
   ]
  },
  {
   "cell_type": "code",
   "execution_count": 382,
   "id": "69da655d-2e0c-4f5f-983c-d87fc5153eaa",
   "metadata": {},
   "outputs": [
    {
     "data": {
      "text/plain": [
       "(3,)"
      ]
     },
     "execution_count": 382,
     "metadata": {},
     "output_type": "execute_result"
    }
   ],
   "source": [
    "alpha.shape"
   ]
  },
  {
   "cell_type": "code",
   "execution_count": 383,
   "id": "94fa586e-4f87-4615-9f84-eeb3a853aaa2",
   "metadata": {},
   "outputs": [
    {
     "name": "stdout",
     "output_type": "stream",
     "text": [
      "logPZalpha = 1125.63525390625\n",
      "1152.383\n",
      "logPZalpha = 70.2763671875\n",
      "94.29922\n",
      "logPZalpha = 948.82373046875\n",
      "953.63257\n"
     ]
    }
   ],
   "source": [
    "print(loss_fun_vmap(x, jnp.array(np.random.randint(0, K, (N,))), y))\n",
    "print(loss_fun_vmap(xi, zi, y))\n",
    "print(loss_fun_vmap(x, z, y))"
   ]
  },
  {
   "cell_type": "code",
   "execution_count": 88,
   "id": "cd6ef773-8136-4fb1-8c6b-ca64b7e27467",
   "metadata": {},
   "outputs": [
    {
     "data": {
      "text/plain": [
       "DeviceArray([10, 10,  2], dtype=int32)"
      ]
     },
     "execution_count": 88,
     "metadata": {},
     "output_type": "execute_result"
    }
   ],
   "source": [
    "alpha"
   ]
  },
  {
   "cell_type": "markdown",
   "id": "569a330b-9287-4acd-9f08-e3c008125efb",
   "metadata": {},
   "source": [
    "### Some functions used for debugging - ignore"
   ]
  },
  {
   "cell_type": "code",
   "execution_count": 236,
   "id": "0f633a92-f7cf-4bc9-96c7-06553e3af81d",
   "metadata": {},
   "outputs": [
    {
     "name": "stdout",
     "output_type": "stream",
     "text": [
      "1\n",
      "1.0\n"
     ]
    }
   ],
   "source": [
    "# Quick test of a proposal function\n",
    "key, subkey = random.split(key)\n",
    "idx = 1\n",
    "z1, rz, _, _ = proposal_z_idx(subkey, z, -1, x, y, sigma, alpha, K, idx)\n",
    "print(z1[idx])\n",
    "print(rz)"
   ]
  },
  {
   "cell_type": "code",
   "execution_count": null,
   "id": "6890cd11-d5ee-40d4-baf1-200028668a8c",
   "metadata": {},
   "outputs": [],
   "source": [
    "key, subkey = random.split(key)\n",
    "#z0 = random.randint(subkey, z.shape, 0, K)\n",
    "z0 = jnp.ones(z.shape)\n",
    "z0 = z\n",
    "\n",
    "n_ik_z = calc_nik_jit(z0)\n",
    "n_k = calc_nk_jit(z0)\n",
    "Nk = jnp.sum(n_k)\n",
    "Ak = jnp.sum(alpha)"
   ]
  },
  {
   "cell_type": "code",
   "execution_count": null,
   "id": "0b2fa838-7c62-4dce-a60a-6c67aa2ec29e",
   "metadata": {},
   "outputs": [],
   "source": [
    "probs_d = []\n",
    "probs_dn = []\n",
    "for k in jnp.arange(K):\n",
    "    probs_d.append((n_ik_z[:, k] + alpha[k])/(Nk+Ak-1))\n",
    "    probs_dn.append((n_ik_z[:, k])/(Nk-1))\n",
    "\n",
    "probs_d = jnp.array(probs_d).transpose()   \n",
    "probs_dn = jnp.array(probs_dn).transpose()   \n",
    "\n",
    "print(probs_d)\n",
    "#print(jnp.sum(probs_d, axis=1))\n",
    "\n",
    "plt.imshow(jnp.repeat(probs_d, int(N/K), axis=1)); plt.colorbar()"
   ]
  },
  {
   "cell_type": "code",
   "execution_count": null,
   "id": "ae7ba8b7-ab85-4af2-b161-6e5c4d281220",
   "metadata": {},
   "outputs": [],
   "source": [
    "myf = lambda x0, x1 : logPi(jnp.array([x0, x1]), z, y, sigma, alpha)\n",
    "xx = jnp.linspace(-3,3,1000)    \n",
    "yy = jnp.linspace(-3,3,1000)"
   ]
  },
  {
   "cell_type": "code",
   "execution_count": null,
   "id": "c44cbf01-bdbb-4bcf-8e44-2f538dfa20af",
   "metadata": {},
   "outputs": [],
   "source": [
    "myf_x = jax.jit(lambda x : jax.vmap(myf, in_axes = (None, 0))(x, yy))\n",
    "myf_xy = jax.vmap(myf_x)(xx)"
   ]
  },
  {
   "cell_type": "code",
   "execution_count": null,
   "id": "ca3c27c4-1f80-4532-a339-0d91e3f01244",
   "metadata": {},
   "outputs": [],
   "source": [
    "plt.imshow((myf_xy)); plt.colorbar()"
   ]
  },
  {
   "cell_type": "code",
   "execution_count": null,
   "id": "d93b21d7-244b-4e97-93e1-3910f6c27632",
   "metadata": {},
   "outputs": [],
   "source": [
    "print(\"01\", myf(x[0], x[1]))\n",
    "print(\"00\", myf(x[0], x[0]))\n",
    "print(\"11\", myf(x[1], x[1]))\n",
    "print(\"10\", myf(x[1], x[0]))"
   ]
  },
  {
   "cell_type": "code",
   "execution_count": null,
   "id": "52e500a5-dcb2-4a2d-bb72-9fa58cfff1a6",
   "metadata": {},
   "outputs": [],
   "source": [
    "myf(x[0],x[1])"
   ]
  },
  {
   "cell_type": "code",
   "execution_count": null,
   "id": "2cfdcec9-5874-491c-b5ae-48b3a96c2979",
   "metadata": {},
   "outputs": [],
   "source": [
    "jnp.max(myf_xy)"
   ]
  }
 ],
 "metadata": {
  "kernelspec": {
   "display_name": "Python 3 (ipykernel)",
   "language": "python",
   "name": "python3"
  },
  "language_info": {
   "codemirror_mode": {
    "name": "ipython",
    "version": 3
   },
   "file_extension": ".py",
   "mimetype": "text/x-python",
   "name": "python",
   "nbconvert_exporter": "python",
   "pygments_lexer": "ipython3",
   "version": "3.9.7"
  }
 },
 "nbformat": 4,
 "nbformat_minor": 5
}
