{
 "cells": [
  {
   "cell_type": "markdown",
   "id": "02bba85a-2401-4d87-aeb0-013d30d6717d",
   "metadata": {},
   "source": [
    "# Classification with Dirichlet prior"
   ]
  },
  {
   "cell_type": "code",
   "execution_count": 8,
   "id": "9c792c4c-80c8-4473-b3b4-d673e781b1aa",
   "metadata": {},
   "outputs": [
    {
     "name": "stdout",
     "output_type": "stream",
     "text": [
      "The autoreload extension is already loaded. To reload it, use:\n",
      "  %reload_ext autoreload\n"
     ]
    }
   ],
   "source": [
    "%load_ext autoreload\n",
    "%autoreload 2\n",
    "import site\n",
    "import time\n",
    "site.addsitedir('..')\n",
    "\n",
    "import jax\n",
    "from jax.config import config\n",
    "import jax.numpy as jnp\n",
    "import numpy as np\n",
    "from  matplotlib import pyplot as plt\n",
    "from tqdm import tqdm\n",
    "\n",
    "from jax.scipy.special import gammaln\n",
    "from jax import random\n",
    "\n",
    "from src.algorithm import mcmc\n",
    "\n",
    "plt.rcParams[\"figure.figsize\"]=6,6\n",
    "#config.update(\"jax_enable_x64\", True)"
   ]
  },
  {
   "cell_type": "markdown",
   "id": "f2159e7b-9a04-41ce-a244-81fce0acd002",
   "metadata": {},
   "source": [
    "### Setup"
   ]
  },
  {
   "cell_type": "markdown",
   "id": "d2d0adc1-276b-4529-b36a-3d5f30452aa1",
   "metadata": {},
   "source": [
    "The probability vector $\\pi$ is drawn from a Dirichlet distribution with parameter $\\alpha$.\n",
    "\n",
    "$\\pi \\sim \\text{Dirichlet}(\\alpha)$\n",
    "\n",
    "The $K$ classes $x_1, \\ldots, x_K$ are i.i.d. samples from a standard normal distribution and we have $N$ noisy observations $y_1, \\ldots, y_N$ of the $K$ classes such that:\n",
    "\n",
    "$y_i = x_{z_i} + \\sigma \\eta_i,$\n",
    "\n",
    "where $\\eta_i \\sim \\mathcal{N}(0,1)$ and $z_1, \\ldots, z_N$ are drawn from a multinomial distribution with\n",
    "probability vector $\\pi$."
   ]
  },
  {
   "cell_type": "code",
   "execution_count": 9,
   "id": "5924a50b-0fd6-4e71-96b9-c891291fb14c",
   "metadata": {},
   "outputs": [],
   "source": [
    "key = random.PRNGKey(int(jnp.floor(np.random.rand()*1000)))\n",
    "key, *subkeys = random.split(key, 5)"
   ]
  },
  {
   "cell_type": "code",
   "execution_count": 10,
   "id": "75556229-5c63-4d6f-a277-248980c4e5ac",
   "metadata": {},
   "outputs": [],
   "source": [
    "K = 10\n",
    "N = 1000\n",
    "sigma = 0.03\n",
    "alpha = 0.7 * jnp.ones(K,)\n",
    "#alpha = jnp.array([10,10,2])"
   ]
  },
  {
   "cell_type": "code",
   "execution_count": 11,
   "id": "69825358-81e0-4d8c-8c1b-34f7a309f3a5",
   "metadata": {},
   "outputs": [
    {
     "name": "stdout",
     "output_type": "stream",
     "text": [
      "pi = [0.02057965 0.15362625 0.00132189 0.06220891 0.05961445 0.11808077\n",
      " 0.37918943 0.1267799  0.07598194 0.00261679]\n"
     ]
    }
   ],
   "source": [
    "pi = random.dirichlet(subkeys[0], alpha)\n",
    "z = random.categorical(subkeys[1], jnp.log(pi), shape = (N,))\n",
    "print(f\"pi = {pi}\")"
   ]
  },
  {
   "cell_type": "code",
   "execution_count": 12,
   "id": "4200539f-cb45-4eea-b7b2-7671a5f81655",
   "metadata": {},
   "outputs": [
    {
     "name": "stdout",
     "output_type": "stream",
     "text": [
      "x = [-0.62295336  1.115157   -1.7955936  -1.7312781   0.02410522 -1.5064275\n",
      " -1.2588354   0.28980458  1.2364852   0.23111346]\n"
     ]
    },
    {
     "data": {
      "image/png": "[encoded data removed]",
      "text/plain": [
       "<Figure size 432x432 with 1 Axes>"
      ]
     },
     "metadata": {
      "needs_background": "light"
     },
     "output_type": "display_data"
    }
   ],
   "source": [
    "x = random.normal(subkeys[2], shape = (K,))\n",
    "y = x[z] + sigma * random.normal(subkeys[3], shape = (N,))\n",
    "\n",
    "print(f\"x = {x}\")\n",
    "_ = plt.plot(y, '.')"
   ]
  },
  {
   "cell_type": "markdown",
   "id": "d2a3ea4f-cd5c-4561-9776-fa4abf7dd61a",
   "metadata": {},
   "source": [
    "### The posterior and proposal functions"
   ]
  },
  {
   "cell_type": "code",
   "execution_count": 261,
   "id": "c8215a51-910c-49ec-a85e-4b37a48a2162",
   "metadata": {},
   "outputs": [],
   "source": [
    "# This log posterior marginalizes over the classes k = 1,...,K.\n",
    "def logPi_marg(x, z, y, sigma, alpha):\n",
    "    n_ik = calc_nik_jit(z)\n",
    "    n_k = calc_nk_jit(z)\n",
    "    \n",
    "    log_arg = jnp.zeros(y.shape)\n",
    "    #logPZalpha = -gammaln(jnp.sum(n_k) + jnp.sum(alpha))\n",
    "\n",
    "    Nk = jnp.sum(n_k)\n",
    "    Ak = jnp.sum(alpha)\n",
    "    \n",
    "    term_mat = []\n",
    "    for k in jnp.arange(K):\n",
    "        logarg_k = jnp.exp(-(y - x[k])**2/sigma) *  (n_ik[:, k] + alpha[k])/(Nk+Ak-1)\n",
    "        log_arg += logarg_k\n",
    "        term_mat.append(logarg_k)\n",
    "        \n",
    "        #logPZalpha += gammaln(n_k[k] + alpha[k])\n",
    "      \n",
    "    return jnp.sum(jnp.log(log_arg)) - jnp.sum(x**2) \n",
    "   \n",
    "# And this does not.\n",
    "def logPi(x, z, y, sigma, alpha):\n",
    "    #n_ik = calc_nik_jit(z)\n",
    "    #n_k = calc_nk_jit(z)\n",
    "    \n",
    "    #Nk = jnp.sum(n_k)\n",
    "    #Ak = jnp.sum(alpha)\n",
    "    \n",
    "    #n_ik_z = jax.vmap(lambda i : n_ik[i, z[i]])(jnp.arange(N))\n",
    "    \n",
    "    term1 = jnp.sum(-(y - x[z])**2/sigma)\n",
    "    #term2 = jnp.sum(jnp.log(n_ik_z + alpha[z])) \n",
    "\n",
    "    #logPZalpha = -gammaln(jnp.sum(n_k) + jnp.sum(alpha)) + jnp.sum(gammaln(n_k + alpha))\n",
    "\n",
    "    #return term1 + term2 - jnp.sum(x**2) #+ logPZalpha \n",
    "    return term1 - jnp.sum(x**2) #+ logPZalpha \n",
    "\n",
    "\n",
    "def calc_nik_ki(z,k,i): \n",
    "    z = z.at[i].set(jnp.inf)    \n",
    "    return jnp.sum(z == k)\n",
    "\n",
    "calc_nik_i = lambda z, i : jax.vmap(calc_nik_ki, in_axes = (None, 0, None))(z, jnp.arange(K), i)\n",
    "calc_nik = lambda z : jax.vmap(calc_nik_i, in_axes = (None, 0))(z, jnp.arange(N))\n",
    "calc_nik_jit = jax.jit(calc_nik)\n",
    "\n",
    "calc_nk_k = lambda z, k : jnp.sum(z == k)\n",
    "calc_nk = lambda z : jax.vmap(calc_nk_k, in_axes = (None, 0))(z, jnp.arange(K))\n",
    "calc_nk_jit = jax.jit(calc_nk)"
   ]
  },
  {
   "cell_type": "code",
   "execution_count": 262,
   "id": "ffc7bee9-013f-4f5b-a85d-d40ba98082b6",
   "metadata": {},
   "outputs": [
    {
     "name": "stdout",
     "output_type": "stream",
     "text": [
      "-1625.2325\n",
      "-1673.1879\n"
     ]
    }
   ],
   "source": [
    "print(logPi_marg(x, z, y, sigma, alpha))\n",
    "print(logPi_marg(xi, zi, y, sigma, alpha))"
   ]
  },
  {
   "cell_type": "code",
   "execution_count": 263,
   "id": "8871ef42-2fed-4f22-8a52-247de0fc5086",
   "metadata": {},
   "outputs": [
    {
     "name": "stdout",
     "output_type": "stream",
     "text": [
      "-45.212353\n",
      "-453.0128\n"
     ]
    }
   ],
   "source": [
    "print(logPi(x, z, y, sigma, alpha))\n",
    "print(logPi(xi, zi, y, sigma, alpha))"
   ]
  },
  {
   "cell_type": "code",
   "execution_count": 264,
   "id": "e4cc3b56-a2a1-4948-b8e6-fb7116ae85cd",
   "metadata": {},
   "outputs": [],
   "source": [
    "@jax.jit\n",
    "def proposal_x_marg(key, x0, logPiX0, B, z, y, sigma, alpha):\n",
    "    \"\"\"Proposal function of a new vector [x_1,...,x_k] from the posterior\n",
    "    \n",
    "    p(x_1, ..., x_K | y_1, ..., y_N)\n",
    "    \n",
    "    with marginalization over z_1,...z_N.\"\"\"\n",
    "    \n",
    "    x1 = random.uniform(key, x0.shape) * 2*B-B\n",
    "    \n",
    "    logPiX0 = logPi_marg(x0, z, y, sigma, alpha)\n",
    "    logPiX1 = logPi_marg(x1, z, y, sigma, alpha)\n",
    "    \n",
    "    r = jnp.exp((logPiX1 - logPiX0))\n",
    "    \n",
    "    return x1, r, logPiX1, logPiX0\n",
    "\n",
    "@jax.jit\n",
    "def proposal_x(key, x0, logPiX0, B, z, y, sigma, alpha):\n",
    "    \"\"\"Proposal function of a new vector [x_1,...,x_K] from the posterior\n",
    "    \n",
    "    p(x_1, ..., x_K, z_1, ..., y_N | y_1, ..., y_N)\n",
    "\n",
    "    without marginalization over z_i variales (where we keep z_i fixed).\"\"\"\n",
    "    \n",
    "    x1 = random.uniform(key, x0.shape) * 2*B-B\n",
    "    \n",
    "    logPiX0 = logPi(x0, z, y, sigma, alpha)\n",
    "    logPiX1 = logPi(x1, z, y, sigma, alpha)\n",
    "    \n",
    "    r = jnp.exp((logPiX1 - logPiX0))\n",
    "    \n",
    "    return x1, r, logPiX1, logPiX0\n",
    "\n",
    "@jax.jit\n",
    "def proposal_x_idx(key, x0, logPiX0, B, z, y, sigma, alpha, idx):\n",
    "    \"\"\"Proposal function for a new state x_{idx} from the posterior\n",
    "    \n",
    "    p(x_1, ..., x_K, z_1, ..., y_N | y_1, ..., y_N)\n",
    "    \n",
    "    where all z_i and the other x_j are fixed and with no\n",
    "    marginalization over z.\n",
    "\n",
    "    The returned vector x1 is equal to x0, \n",
    "    with the entry at index idx given by the proposal.\"\"\"\n",
    "    \n",
    "    newval = random.uniform(key) * 2*B-B\n",
    "    x1 = x0.at[idx].set(newval)\n",
    "    \n",
    "    logPiX0 = logPi(x0, z, y, sigma, alpha)\n",
    "    logPiX1 = logPi(x1, z, y, sigma, alpha)\n",
    "    \n",
    "    r = jnp.exp(logPiX1 - logPiX0)\n",
    "    \n",
    "    return x1, r, logPiX1, logPiX0    \n",
    "               \n",
    "\n",
    "@jax.jit\n",
    "def proposal_z(key, z0, logPiX0, x, y, sigma, alpha, K):\n",
    "    \"\"\"Proposal function of a new vector [z_1,...,z_N] from the posterior\n",
    "    \n",
    "    p(x_1, ..., x_K, z_1, ..., y_N | y_1, ..., y_N)\n",
    "\n",
    "    where the x_i variables are fixed.\"\"\"\n",
    "    \n",
    "    z1 = random.randint(key, z0.shape, 0, K) \n",
    "\n",
    "    logPiX0 = logPi(x, z0, y, sigma, alpha)\n",
    "    logPiX1 = logPi(x, z1, y, sigma, alpha)\n",
    "    \n",
    "    r = jnp.exp(logPiX1 - logPiX0)\n",
    "    \n",
    "    return z1, r, logPiX1, logPiX0\n",
    "\n",
    "@jax.jit\n",
    "def proposal_z_idx(key, z0, logPiX0, x, y, sigma, alpha, K, idx):\n",
    "    \"\"\"Proposal function of a new state z_{idx} from the posterior\n",
    "    \n",
    "    p(x_1, ..., x_K, z_1, ..., y_N | y_1, ..., y_N)\n",
    "\n",
    "    where all x_i and the other z_j are fixed.\n",
    "    \n",
    "    The returned vector z1 is equal to z0, \n",
    "    with the entry at index idx given by the proposal.\"\"\"\n",
    "    \n",
    "    newval = random.randint(key, (), 0, K) \n",
    "    z1 = z0.at[idx].set(newval)\n",
    "    \n",
    "    logPiX0 = logPi(x, z0, y, sigma, alpha)\n",
    "    logPiX1 = logPi(x, z1, y, sigma, alpha)\n",
    "    \n",
    "    r = jnp.exp(logPiX1 - logPiX0)\n",
    "    \n",
    "    return z1, r, logPiX1, logPiX0"
   ]
  },
  {
   "cell_type": "markdown",
   "id": "4bd3c7f4-8f77-4eb7-8019-29ce719c006e",
   "metadata": {},
   "source": [
    "### Sample x"
   ]
  },
  {
   "cell_type": "code",
   "execution_count": 230,
   "id": "ce37d72e-aacd-4755-9670-86848f28b552",
   "metadata": {},
   "outputs": [
    {
     "name": "stdout",
     "output_type": "stream",
     "text": [
      "pi = [0.02057965 0.15362625 0.00132189 0.06220891 0.05961445 0.11808077\n",
      " 0.37918943 0.1267799  0.07598194 0.00261679]\n",
      "x = [-0.62295336  1.115157   -1.7955936  -1.7312781   0.02410522 -1.5064275\n",
      " -1.2588354   0.28980458  1.2364852   0.23111346]\n"
     ]
    }
   ],
   "source": [
    "print(f\"pi = {pi}\")\n",
    "print(f\"x = {x}\")"
   ]
  },
  {
   "cell_type": "code",
   "execution_count": 231,
   "id": "efae639d-adb8-4634-89a6-fb4bb4d1a007",
   "metadata": {},
   "outputs": [],
   "source": [
    "#z_rand = random.categorical(subkey, jnp.log(pi), shape = (N,))\n",
    "#z_rand = random.randint(subkey, (N,), 0, K)"
   ]
  },
  {
   "cell_type": "markdown",
   "id": "27a08477-3d80-4d7d-9796-56dbe1f9dadb",
   "metadata": {},
   "source": [
    "#### Sampling the marginalized posterior"
   ]
  },
  {
   "cell_type": "code",
   "execution_count": 232,
   "id": "dad4b0d6-5bb1-428b-8086-f6c7b0c2a02d",
   "metadata": {},
   "outputs": [
    {
     "name": "stdout",
     "output_type": "stream",
     "text": [
      "  MCMC sample 1000, loss = -2083.704833984375, a = 0.0\n",
      "  MCMC sample 2000, loss = -2058.4375, a = 0.0\n",
      "  MCMC sample 3000, loss = -2058.4375, a = 0.0\n",
      "  MCMC sample 4000, loss = -2058.4375, a = 0.0\n",
      "  MCMC sample 5000, loss = -2058.4375, a = 0.0\n",
      "  MCMC sample 6000, loss = -2058.4375, a = 0.0\n",
      "  MCMC sample 7000, loss = -2058.4375, a = 0.0\n",
      "  MCMC sample 8000, loss = -1973.4517822265625, a = 0.0\n",
      "  MCMC sample 9000, loss = -1973.4517822265625, a = 0.0\n",
      "26.80777096748352 sec\n",
      "x_samp = [ 2.343645    0.0444417   2.5398283  -0.8179114   1.1403437  -0.02741504\n",
      " -1.3150091   0.18550229 -1.8715103  -2.2783449 ]\n",
      "x_true = [-0.62295336  1.115157   -1.7955936  -1.7312781   0.02410522 -1.5064275\n",
      " -1.2588354   0.28980458  1.2364852   0.23111346]\n"
     ]
    },
    {
     "data": {
      "image/png": "[encoded data removed]",
      "text/plain": [
       "<Figure size 432x432 with 1 Axes>"
      ]
     },
     "metadata": {
      "needs_background": "light"
     },
     "output_type": "display_data"
    }
   ],
   "source": [
    "N_samples_x = 10000\n",
    "x0 = jnp.array(np.random.randn(K))\n",
    "B = 3\n",
    "\n",
    "params_x = {\"B\" : B, \"z\" : z, \"y\" : y, \"sigma\" : sigma, \"alpha\" : alpha}\n",
    "\n",
    "key, subkey = random.split(key)\n",
    "t0 = time.time()\n",
    "x_mean, x_r, x_samples = mcmc(subkey, proposal_x_marg, x0, N_samples_x, params_x, 1, 1)\n",
    "\n",
    "print(f\"{time.time()-t0} sec\")\n",
    "plt.plot(x_r); plt.title(\"Acceptance ratio\")\n",
    "print(f\"x_samp = {x_samples[N_samples_x-2]}\")\n",
    "print(f\"x_true = {x}\")"
   ]
  },
  {
   "cell_type": "markdown",
   "id": "994ce326-9964-498f-9eb0-b4d3f54beaf3",
   "metadata": {},
   "source": [
    "#### And the non-marginalized posterior"
   ]
  },
  {
   "cell_type": "code",
   "execution_count": 234,
   "id": "307a7113-06df-48fe-9831-0262217173a3",
   "metadata": {},
   "outputs": [
    {
     "name": "stdout",
     "output_type": "stream",
     "text": [
      "  MCMC sample 1000, loss = -25948.99609375, a = 0.0\n",
      "  MCMC sample 2000, loss = -20544.392578125, a = 0.0\n",
      "  MCMC sample 3000, loss = -6341.39013671875, a = 0.0\n",
      "  MCMC sample 4000, loss = -6341.39013671875, a = 0.0\n",
      "  MCMC sample 5000, loss = -6341.39013671875, a = 0.0\n",
      "  MCMC sample 6000, loss = -6341.39013671875, a = 0.0\n",
      "  MCMC sample 7000, loss = -6341.39013671875, a = 0.0\n",
      "  MCMC sample 8000, loss = -6341.39013671875, a = 0.0\n",
      "  MCMC sample 9000, loss = -6341.39013671875, a = 0.0\n",
      "2.8736140727996826 sec\n",
      "x_samp = [-1.4944489   1.453989   -2.473541   -1.6175301   0.6145556  -1.2561808\n",
      " -1.5834897   0.34944963  1.7676287  -0.40471816]\n",
      "x_true = [-0.62295336  1.115157   -1.7955936  -1.7312781   0.02410522 -1.5064275\n",
      " -1.2588354   0.28980458  1.2364852   0.23111346]\n"
     ]
    },
    {
     "data": {
      "image/png": "[encoded data removed]",
      "text/plain": [
       "<Figure size 432x432 with 1 Axes>"
      ]
     },
     "metadata": {
      "needs_background": "light"
     },
     "output_type": "display_data"
    }
   ],
   "source": [
    "N_samples_x = 10000\n",
    "x0 = jnp.array(np.random.randn(K))\n",
    "B = 3\n",
    "\n",
    "params_x = {\"B\" : B, \"z\" : z, \"y\" : y, \"sigma\" : sigma, \"alpha\" : alpha}\n",
    "\n",
    "key, subkey = random.split(key)\n",
    "t0 = time.time()\n",
    "x_mean, x_r, x_samples = mcmc(subkey, proposal_x, x0, N_samples_x, params_x, 1, 1)\n",
    "\n",
    "print(f\"{time.time()-t0} sec\")\n",
    "plt.plot(x_r); plt.title(\"Acceptance ratio\")\n",
    "print(f\"x_samp = {x_samples[N_samples_x-2]}\")\n",
    "print(f\"x_true = {x}\")"
   ]
  },
  {
   "cell_type": "markdown",
   "id": "815b6fbd-f4b9-41a9-ac5b-5f137a620746",
   "metadata": {},
   "source": [
    "#### One $x_i$ at a time"
   ]
  },
  {
   "cell_type": "code",
   "execution_count": 235,
   "id": "41d4e4f8-38eb-441d-bacb-e89996b4cd31",
   "metadata": {},
   "outputs": [
    {
     "name": "stdout",
     "output_type": "stream",
     "text": [
      "  MCMC sample 1000, loss = -95341.7265625, a = 2.3014721621934754e-16\n",
      "  MCMC sample 2000, loss = -95342.1796875, a = 0.0\n",
      "  MCMC sample 3000, loss = -95342.421875, a = 0.0\n",
      "  MCMC sample 4000, loss = -95341.7890625, a = 0.0\n",
      "  MCMC sample 5000, loss = -95341.75, a = 5.2903204549297617e-14\n",
      "  MCMC sample 6000, loss = -95342.140625, a = 0.0\n",
      "  MCMC sample 7000, loss = -95341.78125, a = 1.109573752322568e-10\n",
      "  MCMC sample 8000, loss = -95341.9921875, a = 0.0\n",
      "  MCMC sample 9000, loss = -95341.7734375, a = 0.0\n",
      "  MCMC sample 10000, loss = -95341.78125, a = 0.0\n",
      "3.4865100383758545 sec\n",
      "x_samp = [ 0.7929072   0.74618524 -1.8609095   0.8959445   1.6639999   0.60163486\n",
      "  0.76820886  0.28752977  0.47081533 -3.548173  ]\n",
      "x_true = [-0.62295336  1.115157   -1.7955936  -1.7312781   0.02410522 -1.5064275\n",
      " -1.2588354   0.28980458  1.2364852   0.23111346]\n"
     ]
    },
    {
     "data": {
      "image/png": "[encoded data removed]",
      "text/plain": [
       "<Figure size 432x432 with 1 Axes>"
      ]
     },
     "metadata": {
      "needs_background": "light"
     },
     "output_type": "display_data"
    }
   ],
   "source": [
    "N_samples_x = 10001\n",
    "B = 3\n",
    "\n",
    "idx = 2\n",
    "x0 = jnp.array(np.random.randn(K))\n",
    "\n",
    "params_x = {\"B\" : B, \"z\" : z, \"y\" : y, \"sigma\" : sigma, \"alpha\" : alpha, \"idx\": idx}\n",
    "\n",
    "key, subkey = random.split(key)\n",
    "t0 = time.time()\n",
    "x_mean, x_r, x_samples = mcmc(subkey, proposal_x_idx, x0, N_samples_x, params_x, 1, 1)\n",
    "\n",
    "print(f\"{time.time()-t0} sec\")\n",
    "plt.plot(x_r); plt.title(\"Acceptance ratio\")\n",
    "print(f\"x_samp = {x_samples[N_samples_x-2]}\")\n",
    "print(f\"x_true = {x}\")"
   ]
  },
  {
   "cell_type": "code",
   "execution_count": 236,
   "id": "94be8177-0aa9-44e0-83ab-575807a32bc4",
   "metadata": {},
   "outputs": [
    {
     "data": {
      "image/png": "[encoded data removed]",
      "text/plain": [
       "<Figure size 432x432 with 1 Axes>"
      ]
     },
     "metadata": {
      "needs_background": "light"
     },
     "output_type": "display_data"
    }
   ],
   "source": [
    "nbins=100\n",
    "counts, bins = np.histogram(x_samples[:,idx], bins=nbins)\n",
    "_ = plt.hist(bins[:-1], bins, weights=counts)"
   ]
  },
  {
   "cell_type": "code",
   "execution_count": 237,
   "id": "e5733f1f-dbb7-424f-ba91-920b8f4ad8b5",
   "metadata": {},
   "outputs": [
    {
     "data": {
      "text/plain": [
       "[<matplotlib.lines.Line2D at 0x7fcdf2a62b80>]"
      ]
     },
     "execution_count": 237,
     "metadata": {},
     "output_type": "execute_result"
    },
    {
     "data": {
      "image/png": "[encoded data removed]",
      "text/plain": [
       "<Figure size 432x432 with 1 Axes>"
      ]
     },
     "metadata": {
      "needs_background": "light"
     },
     "output_type": "display_data"
    }
   ],
   "source": [
    "plt.plot(x_samples[:,idx],'.')"
   ]
  },
  {
   "cell_type": "markdown",
   "id": "e37199aa-3238-44ae-a8bb-158c5326aea1",
   "metadata": {},
   "source": [
    "### Sample z"
   ]
  },
  {
   "cell_type": "code",
   "execution_count": 249,
   "id": "5ee6d7c0-6e72-4a32-bdc4-4c7fe32738be",
   "metadata": {},
   "outputs": [
    {
     "name": "stdout",
     "output_type": "stream",
     "text": [
      "  MCMC sample 1000, loss = -80211.6796875, a = 1.2138925345224891e-23\n",
      "0.3079371452331543 sec\n",
      "z[idx]_samp = 8\n",
      "z[idx]_true = 8\n"
     ]
    },
    {
     "data": {
      "image/png": "[encoded data removed]",
      "text/plain": [
       "<Figure size 432x432 with 1 Axes>"
      ]
     },
     "metadata": {
      "needs_background": "light"
     },
     "output_type": "display_data"
    }
   ],
   "source": [
    "N_samples_z = 1023\n",
    "z0 = jnp.array(np.random.randint(0, K, (N,)))\n",
    "#z0 = z.at[idx].set(np.random.randint(0,K,()))\n",
    "\n",
    "B = 2\n",
    "idx = 10\n",
    "params_z = {\"x\" : x, \"y\" : y, \"sigma\" : sigma, \"alpha\" : alpha, \"K\" : K, 'idx' : idx}\n",
    "\n",
    "key, subkey = random.split(key)\n",
    "\n",
    "t0 = time.time()\n",
    "z_mean, z_r, z_samples = mcmc(subkey, proposal_z_idx, z0, N_samples_z, params_z, 1, 1)\n",
    "\n",
    "z_samples = z_samples[:,idx]\n",
    "\n",
    "print(f\"{time.time()-t0} sec\")\n",
    "plt.plot(z_r); plt.title(\"Acceptance ratio\")\n",
    "print(f\"z[idx]_samp = {z_samples[N_samples_z-2]}\")\n",
    "print(f\"z[idx]_true = {z[idx]}\")\n"
   ]
  },
  {
   "cell_type": "code",
   "execution_count": 250,
   "id": "ee738ce4-ea81-45d8-8d11-d2e05a43e163",
   "metadata": {},
   "outputs": [
    {
     "data": {
      "text/plain": [
       "[<matplotlib.lines.Line2D at 0x7fcdc08d66d0>]"
      ]
     },
     "execution_count": 250,
     "metadata": {},
     "output_type": "execute_result"
    },
    {
     "data": {
      "image/png": "[encoded data removed]",
      "text/plain": [
       "<Figure size 432x432 with 1 Axes>"
      ]
     },
     "metadata": {
      "needs_background": "light"
     },
     "output_type": "display_data"
    }
   ],
   "source": [
    "plt.plot(z_samples, '.')"
   ]
  },
  {
   "cell_type": "code",
   "execution_count": 248,
   "id": "e15b4da7-612a-4772-8f91-19d8301dbfeb",
   "metadata": {},
   "outputs": [
    {
     "data": {
      "image/png": "[encoded data removed]",
      "text/plain": [
       "<Figure size 432x432 with 1 Axes>"
      ]
     },
     "metadata": {
      "needs_background": "light"
     },
     "output_type": "display_data"
    }
   ],
   "source": [
    "nbins=100\n",
    "counts, bins = np.histogram(z_samples, bins=nbins)\n",
    "_ = plt.hist(bins[:-1], bins, weights=counts)"
   ]
  },
  {
   "cell_type": "markdown",
   "id": "1e8d77bb-5a2a-46d3-a9b2-899518ffa13e",
   "metadata": {},
   "source": [
    "### Sample $x$ and $z$"
   ]
  },
  {
   "cell_type": "code",
   "execution_count": 265,
   "id": "252897ed-d685-4ada-a9e2-4fd3ce128ee4",
   "metadata": {},
   "outputs": [
    {
     "name": "stdout",
     "output_type": "stream",
     "text": [
      "Iter = 0\n",
      "  Sampling x\n",
      "  MCMC sample 1000, loss = -81944.484375, a = 0.0\n",
      "  MCMC sample 2000, loss = -81944.28125, a = 0.0\n",
      "  MCMC sample 3000, loss = -81943.828125, a = 0.0\n",
      "  MCMC sample 1000, loss = -66264.625, a = 0.0\n",
      "  MCMC sample 2000, loss = -66264.3984375, a = 0.0\n",
      "  MCMC sample 3000, loss = -66264.5390625, a = 0.0\n",
      "  MCMC sample 1000, loss = -63258.140625, a = 0.0\n",
      "  MCMC sample 2000, loss = -63256.73828125, a = 0.0\n",
      "  MCMC sample 3000, loss = -63256.69921875, a = 0.0\n",
      "  MCMC sample 1000, loss = -54705.71875, a = 0.0\n",
      "  MCMC sample 2000, loss = -54705.75390625, a = 0.0\n",
      "  MCMC sample 3000, loss = -54705.96875, a = 0.0\n",
      "  MCMC sample 1000, loss = -48637.9765625, a = 0.0\n",
      "  MCMC sample 2000, loss = -48637.98828125, a = 0.0\n",
      "  MCMC sample 3000, loss = -48639.0625, a = 2.8181744213705002e-33\n",
      "  MCMC sample 1000, loss = -46228.09765625, a = 0.0\n",
      "  MCMC sample 2000, loss = -46229.59375, a = 0.0\n",
      "  MCMC sample 3000, loss = -46228.58203125, a = 0.0\n",
      "  MCMC sample 1000, loss = -46162.69921875, a = 2.0347344538157313e-30\n",
      "  MCMC sample 2000, loss = -46163.84765625, a = 0.0\n",
      "  MCMC sample 3000, loss = -46162.01171875, a = 0.0\n",
      "  MCMC sample 1000, loss = -45836.265625, a = 0.0\n",
      "  MCMC sample 2000, loss = -45836.3671875, a = 0.0\n",
      "  MCMC sample 3000, loss = -45836.26171875, a = 0.0\n",
      "  MCMC sample 1000, loss = -41238.58203125, a = 0.0\n",
      "  MCMC sample 2000, loss = -41238.625, a = 0.0\n",
      "  MCMC sample 3000, loss = -41238.58984375, a = 0.0\n",
      "  MCMC sample 1000, loss = -37829.7578125, a = 0.0\n",
      "  MCMC sample 2000, loss = -37826.7421875, a = 0.0\n",
      "  MCMC sample 3000, loss = -37826.06640625, a = 0.0\n",
      "  Sampling z\n"
     ]
    },
    {
     "name": "stderr",
     "output_type": "stream",
     "text": [
      "100%|█████████████████████████████████████████████████████████████████████████████████████████████████████████████████████████████████████████████████████████████████████████████████████████████████████████████████████████████████████████████████████████████████████████████████████| 1000/1000 [00:15<00:00, 65.84it/s]\n"
     ]
    },
    {
     "name": "stdout",
     "output_type": "stream",
     "text": [
      "Iter = 1\n",
      "  Sampling x\n",
      "  MCMC sample 1000, loss = -29698.20703125, a = 0.0\n",
      "  MCMC sample 2000, loss = -29698.373046875, a = 0.0\n",
      "  MCMC sample 3000, loss = -29697.919921875, a = 0.0\n",
      "  MCMC sample 1000, loss = -25603.271484375, a = 0.0\n",
      "  MCMC sample 2000, loss = -25603.466796875, a = 0.0\n",
      "  MCMC sample 3000, loss = -25603.607421875, a = 0.0\n",
      "  MCMC sample 1000, loss = -25604.095703125, a = 0.08144620805978775\n",
      "  MCMC sample 2000, loss = -25603.21875, a = 0.0\n",
      "  MCMC sample 3000, loss = -25603.37109375, a = 0.7941612601280212\n",
      "  MCMC sample 1000, loss = -25603.451171875, a = 0.0\n",
      "  MCMC sample 2000, loss = -25603.13671875, a = 2.563265229745671e-27\n",
      "  MCMC sample 3000, loss = -25603.498046875, a = 0.0\n",
      "  MCMC sample 1000, loss = -23358.580078125, a = 0.0\n",
      "  MCMC sample 2000, loss = -23358.4140625, a = 0.0\n",
      "  MCMC sample 3000, loss = -23359.037109375, a = 0.0\n",
      "  MCMC sample 1000, loss = -9196.0234375, a = 0.0\n",
      "  MCMC sample 2000, loss = -9196.08984375, a = 0.0\n",
      "  MCMC sample 3000, loss = -9195.9453125, a = 0.0\n",
      "  MCMC sample 1000, loss = -9154.76953125, a = 0.0\n",
      "  MCMC sample 2000, loss = -9154.7734375, a = 6.22565461022613e-29\n",
      "  MCMC sample 3000, loss = -9154.1025390625, a = 1.8604299416129233e-15\n",
      "  MCMC sample 1000, loss = -9140.8173828125, a = 0.0\n",
      "  MCMC sample 2000, loss = -9140.25390625, a = 1.3406344724989897e-25\n",
      "  MCMC sample 3000, loss = -9140.2529296875, a = 0.0\n",
      "  MCMC sample 1000, loss = -4072.968017578125, a = 0.0\n",
      "  MCMC sample 2000, loss = -4073.140625, a = 0.0\n",
      "  MCMC sample 3000, loss = -4074.696044921875, a = 0.0\n",
      "  MCMC sample 1000, loss = -4074.370849609375, a = 0.0\n",
      "  MCMC sample 2000, loss = -4074.564208984375, a = 2.376623254614482e-15\n",
      "  MCMC sample 3000, loss = -4074.448486328125, a = 0.0\n",
      "  Sampling z\n"
     ]
    },
    {
     "name": "stderr",
     "output_type": "stream",
     "text": [
      "100%|█████████████████████████████████████████████████████████████████████████████████████████████████████████████████████████████████████████████████████████████████████████████████████████████████████████████████████████████████████████████████████████████████████████████████████| 1000/1000 [00:14<00:00, 69.69it/s]\n"
     ]
    },
    {
     "name": "stdout",
     "output_type": "stream",
     "text": [
      "Iter = 2\n",
      "  Sampling x\n",
      "  MCMC sample 1000, loss = -2244.83642578125, a = 0.0\n",
      "  MCMC sample 2000, loss = -2250.019287109375, a = 0.0\n",
      "  MCMC sample 3000, loss = -2244.4296875, a = 0.0\n",
      "  MCMC sample 1000, loss = -2229.53564453125, a = 0.00025973221636377275\n",
      "  MCMC sample 2000, loss = -2229.081787109375, a = 0.0\n",
      "  MCMC sample 3000, loss = -2229.091064453125, a = 0.0\n",
      "  MCMC sample 1000, loss = -2228.37744140625, a = 0.0\n",
      "  MCMC sample 2000, loss = -2228.373779296875, a = 0.0\n",
      "  MCMC sample 3000, loss = -2228.34912109375, a = 0.0\n",
      "  MCMC sample 1000, loss = -2226.865478515625, a = 0.0\n",
      "  MCMC sample 2000, loss = -2226.85546875, a = 0.004201086238026619\n",
      "  MCMC sample 3000, loss = -2226.95947265625, a = 0.9572399854660034\n",
      "  MCMC sample 1000, loss = -2226.32421875, a = 0.0\n",
      "  MCMC sample 2000, loss = -2225.93212890625, a = 0.0\n",
      "  MCMC sample 3000, loss = -2229.009521484375, a = 0.0\n",
      "  MCMC sample 1000, loss = -940.613525390625, a = 0.0\n",
      "  MCMC sample 2000, loss = -939.525634765625, a = 0.0\n",
      "  MCMC sample 3000, loss = -939.5083618164062, a = 0.0\n",
      "  MCMC sample 1000, loss = -748.9602661132812, a = 0.0\n",
      "  MCMC sample 2000, loss = -749.3306274414062, a = 0.0\n",
      "  MCMC sample 3000, loss = -748.8787231445312, a = 0.0\n",
      "  MCMC sample 1000, loss = -745.5506591796875, a = 0.00021009378542657942\n",
      "  MCMC sample 2000, loss = -745.4039306640625, a = 0.0\n",
      "  MCMC sample 3000, loss = -746.0807495117188, a = 0.0\n",
      "  MCMC sample 1000, loss = -741.8873291015625, a = 0.0\n",
      "  MCMC sample 2000, loss = -740.7958984375, a = 0.0\n",
      "  MCMC sample 3000, loss = -740.735107421875, a = 0.0\n",
      "  MCMC sample 1000, loss = -737.3438110351562, a = 0.0\n",
      "  MCMC sample 2000, loss = -737.6989135742188, a = 0.0\n",
      "  MCMC sample 3000, loss = -738.6912231445312, a = 0.0002865863498300314\n",
      "  Sampling z\n"
     ]
    },
    {
     "name": "stderr",
     "output_type": "stream",
     "text": [
      "100%|█████████████████████████████████████████████████████████████████████████████████████████████████████████████████████████████████████████████████████████████████████████████████████████████████████████████████████████████████████████████████████████████████████████████████████| 1000/1000 [00:14<00:00, 70.09it/s]\n"
     ]
    },
    {
     "name": "stdout",
     "output_type": "stream",
     "text": [
      "Iter = 3\n",
      "  Sampling x\n",
      "  MCMC sample 1000, loss = -596.9835815429688, a = 0.0\n",
      "  MCMC sample 2000, loss = -596.5261840820312, a = 0.0\n",
      "  MCMC sample 3000, loss = -599.163818359375, a = 0.0\n",
      "  MCMC sample 1000, loss = -595.1318359375, a = 0.0\n",
      "  MCMC sample 2000, loss = -593.5750122070312, a = 0.0\n",
      "  MCMC sample 3000, loss = -595.0625, a = 0.0\n",
      "  MCMC sample 1000, loss = -595.1483154296875, a = 1.0\n",
      "  MCMC sample 2000, loss = -595.0620727539062, a = 3.540157108052238e-31\n",
      "  MCMC sample 3000, loss = -595.8050537109375, a = 0.0\n",
      "  MCMC sample 1000, loss = -594.8942260742188, a = 0.0\n",
      "  MCMC sample 2000, loss = -593.4362182617188, a = 0.0\n",
      "  MCMC sample 3000, loss = -593.4962768554688, a = 0.0\n",
      "  MCMC sample 1000, loss = -593.95654296875, a = 0.0\n",
      "  MCMC sample 2000, loss = -593.4094848632812, a = 0.0\n",
      "  MCMC sample 3000, loss = -594.1592407226562, a = 0.0\n",
      "  MCMC sample 1000, loss = -591.9979858398438, a = 0.0\n",
      "  MCMC sample 2000, loss = -591.6719360351562, a = 0.0\n",
      "  MCMC sample 3000, loss = -591.76708984375, a = 0.0\n",
      "  MCMC sample 1000, loss = -591.7576904296875, a = 0.0\n",
      "  MCMC sample 2000, loss = -591.76318359375, a = 0.0\n",
      "  MCMC sample 3000, loss = -591.76318359375, a = 0.0\n",
      "  MCMC sample 1000, loss = -591.2919921875, a = 0.0\n",
      "  MCMC sample 2000, loss = -591.2942504882812, a = 0.0\n",
      "  MCMC sample 3000, loss = -591.5431518554688, a = 1.9527413542247599e-32\n",
      "  MCMC sample 1000, loss = -590.635498046875, a = 0.0\n",
      "  MCMC sample 2000, loss = -592.2832641601562, a = 1.473426700116058e-33\n",
      "  MCMC sample 3000, loss = -590.7938842773438, a = 0.0\n",
      "  MCMC sample 1000, loss = -590.1211547851562, a = 0.0\n",
      "  MCMC sample 2000, loss = -590.2034912109375, a = 0.0\n",
      "  MCMC sample 3000, loss = -591.6703491210938, a = 5.0909338824567385e-06\n",
      "  Sampling z\n"
     ]
    },
    {
     "name": "stderr",
     "output_type": "stream",
     "text": [
      "100%|█████████████████████████████████████████████████████████████████████████████████████████████████████████████████████████████████████████████████████████████████████████████████████████████████████████████████████████████████████████████████████████████████████████████████████| 1000/1000 [00:14<00:00, 69.92it/s]\n"
     ]
    },
    {
     "name": "stdout",
     "output_type": "stream",
     "text": [
      "Iter = 4\n",
      "  Sampling x\n",
      "  MCMC sample 1000, loss = -523.953857421875, a = 0.0\n",
      "  MCMC sample 2000, loss = -524.0838623046875, a = 0.0\n",
      "  MCMC sample 3000, loss = -524.2635498046875, a = 0.0\n",
      "  MCMC sample 1000, loss = -501.65374755859375, a = 0.0\n",
      "  MCMC sample 2000, loss = -501.7372131347656, a = 0.0\n",
      "  MCMC sample 3000, loss = -502.3566589355469, a = 0.0\n",
      "  MCMC sample 1000, loss = -500.16009521484375, a = 2.8923386707901955e-07\n",
      "  MCMC sample 2000, loss = -500.24920654296875, a = 0.0\n",
      "  MCMC sample 3000, loss = -500.2808837890625, a = 0.0\n",
      "  MCMC sample 1000, loss = -501.6613464355469, a = 0.3823823630809784\n",
      "  MCMC sample 2000, loss = -500.6864318847656, a = 0.0\n",
      "  MCMC sample 3000, loss = -500.4615173339844, a = 0.0\n",
      "  MCMC sample 1000, loss = -485.44891357421875, a = 0.0\n",
      "  MCMC sample 2000, loss = -485.38287353515625, a = 2.9239694049233e-20\n",
      "  MCMC sample 3000, loss = -485.37042236328125, a = 0.0\n",
      "  MCMC sample 1000, loss = -485.31768798828125, a = 0.0\n",
      "  MCMC sample 2000, loss = -485.294677734375, a = 0.0\n",
      "  MCMC sample 3000, loss = -485.6563720703125, a = 0.0\n",
      "  MCMC sample 1000, loss = -485.5970458984375, a = 0.0\n",
      "  MCMC sample 2000, loss = -485.6166076660156, a = 0.0\n",
      "  MCMC sample 3000, loss = -485.7099304199219, a = 0.0\n",
      "  MCMC sample 1000, loss = -485.49676513671875, a = 0.0\n",
      "  MCMC sample 2000, loss = -485.491455078125, a = 0.0053374795243144035\n",
      "  MCMC sample 3000, loss = -485.57391357421875, a = 0.0\n",
      "  MCMC sample 1000, loss = -479.139892578125, a = 0.0\n",
      "  MCMC sample 2000, loss = -479.3546447753906, a = 0.0\n",
      "  MCMC sample 3000, loss = -479.5698547363281, a = 0.0\n",
      "  MCMC sample 1000, loss = -477.8954772949219, a = 0.0\n",
      "  MCMC sample 2000, loss = -477.92144775390625, a = 0.0\n",
      "  MCMC sample 3000, loss = -479.1645812988281, a = 6.533180011423444e-19\n",
      "  Sampling z\n"
     ]
    },
    {
     "name": "stderr",
     "output_type": "stream",
     "text": [
      "100%|█████████████████████████████████████████████████████████████████████████████████████████████████████████████████████████████████████████████████████████████████████████████████████████████████████████████████████████████████████████████████████████████████████████████████████| 1000/1000 [00:14<00:00, 69.69it/s]\n"
     ]
    },
    {
     "name": "stdout",
     "output_type": "stream",
     "text": [
      "Iter = 5\n",
      "  Sampling x\n",
      "  MCMC sample 1000, loss = -358.1984558105469, a = 0.0\n",
      "  MCMC sample 2000, loss = -358.5600280761719, a = 0.0\n",
      "  MCMC sample 3000, loss = -358.3044738769531, a = 0.0\n",
      "  MCMC sample 1000, loss = -339.355712890625, a = 0.0\n",
      "  MCMC sample 2000, loss = -340.4490051269531, a = 0.0\n",
      "  MCMC sample 3000, loss = -339.598388671875, a = 0.0\n",
      "  MCMC sample 1000, loss = -339.5984802246094, a = 1.719299871183466e-05\n",
      "  MCMC sample 2000, loss = -339.8990478515625, a = 0.0\n",
      "  MCMC sample 3000, loss = -339.7532958984375, a = 0.0\n",
      "  MCMC sample 1000, loss = -338.5280456542969, a = 0.0\n",
      "  MCMC sample 2000, loss = -340.0050354003906, a = 0.0\n",
      "  MCMC sample 3000, loss = -338.51739501953125, a = 0.0\n",
      "  MCMC sample 1000, loss = -334.87799072265625, a = 0.0\n",
      "  MCMC sample 2000, loss = -334.8990173339844, a = 0.0\n",
      "  MCMC sample 3000, loss = -334.7533874511719, a = 0.0\n",
      "  MCMC sample 1000, loss = -334.9631652832031, a = 0.0\n",
      "  MCMC sample 2000, loss = -335.90380859375, a = 0.0\n",
      "  MCMC sample 3000, loss = -335.75091552734375, a = 0.0\n",
      "  MCMC sample 1000, loss = -336.00994873046875, a = 0.0\n",
      "  MCMC sample 2000, loss = -335.63311767578125, a = 0.0\n",
      "  MCMC sample 3000, loss = -336.31427001953125, a = 0.0\n",
      "  MCMC sample 1000, loss = -336.119873046875, a = 0.0\n",
      "  MCMC sample 2000, loss = -336.1144714355469, a = 0.0\n",
      "  MCMC sample 3000, loss = -337.8670959472656, a = 0.0\n",
      "  MCMC sample 1000, loss = -336.88720703125, a = 0.0\n",
      "  MCMC sample 2000, loss = -339.4052429199219, a = 0.0\n",
      "  MCMC sample 3000, loss = -334.3355712890625, a = 0.0\n",
      "  MCMC sample 1000, loss = -333.9925231933594, a = 0.0\n",
      "  MCMC sample 2000, loss = -333.72900390625, a = 0.0\n",
      "  MCMC sample 3000, loss = -333.7121276855469, a = 0.0\n",
      "  Sampling z\n"
     ]
    },
    {
     "name": "stderr",
     "output_type": "stream",
     "text": [
      "100%|█████████████████████████████████████████████████████████████████████████████████████████████████████████████████████████████████████████████████████████████████████████████████████████████████████████████████████████████████████████████████████████████████████████████████████| 1000/1000 [00:14<00:00, 69.85it/s]\n"
     ]
    },
    {
     "name": "stdout",
     "output_type": "stream",
     "text": [
      "Iter = 6\n",
      "  Sampling x\n",
      "  MCMC sample 1000, loss = -317.12554931640625, a = 0.0\n",
      "  MCMC sample 2000, loss = -317.1289367675781, a = 0.0\n",
      "  MCMC sample 3000, loss = -317.2940673828125, a = 0.0\n",
      "  MCMC sample 1000, loss = -315.8383483886719, a = 0.5581657290458679\n",
      "  MCMC sample 2000, loss = -315.5100402832031, a = 0.0\n",
      "  MCMC sample 3000, loss = -315.6418151855469, a = 0.0\n",
      "  MCMC sample 1000, loss = -315.61865234375, a = 0.0\n",
      "  MCMC sample 2000, loss = -316.0836181640625, a = 0.0004090278525836766\n",
      "  MCMC sample 3000, loss = -315.79742431640625, a = 0.0\n",
      "  MCMC sample 1000, loss = -315.7696228027344, a = 3.456480772001669e-05\n",
      "  MCMC sample 2000, loss = -315.77813720703125, a = 0.0\n",
      "  MCMC sample 3000, loss = -315.7479553222656, a = 0.0\n",
      "  MCMC sample 1000, loss = -314.5334777832031, a = 0.0\n",
      "  MCMC sample 2000, loss = -314.497802734375, a = 2.3277503657936904e-07\n",
      "  MCMC sample 3000, loss = -315.0364685058594, a = 0.0\n",
      "  MCMC sample 1000, loss = -313.9044494628906, a = 0.0\n",
      "  MCMC sample 2000, loss = -315.52264404296875, a = 0.0\n",
      "  MCMC sample 3000, loss = -313.8880920410156, a = 0.0\n",
      "  MCMC sample 1000, loss = -313.2900390625, a = 0.0\n",
      "  MCMC sample 2000, loss = -313.8151550292969, a = 0.0\n",
      "  MCMC sample 3000, loss = -313.5050354003906, a = 0.0\n",
      "  MCMC sample 1000, loss = -310.24420166015625, a = 0.0\n",
      "  MCMC sample 2000, loss = -310.2215576171875, a = 0.0\n",
      "  MCMC sample 3000, loss = -310.2347412109375, a = 0.0\n",
      "  MCMC sample 1000, loss = -308.0042724609375, a = 0.0\n",
      "  MCMC sample 2000, loss = -308.1382141113281, a = 0.0\n",
      "  MCMC sample 3000, loss = -308.73394775390625, a = 9.86642719803361e-32\n",
      "  MCMC sample 1000, loss = -308.8795166015625, a = 0.0\n",
      "  MCMC sample 2000, loss = -308.7575378417969, a = 0.0\n",
      "  MCMC sample 3000, loss = -308.52984619140625, a = 0.0\n",
      "  Sampling z\n"
     ]
    },
    {
     "name": "stderr",
     "output_type": "stream",
     "text": [
      "100%|█████████████████████████████████████████████████████████████████████████████████████████████████████████████████████████████████████████████████████████████████████████████████████████████████████████████████████████████████████████████████████████████████████████████████████| 1000/1000 [00:14<00:00, 69.88it/s]\n"
     ]
    },
    {
     "name": "stdout",
     "output_type": "stream",
     "text": [
      "Iter = 7\n",
      "  Sampling x\n",
      "  MCMC sample 1000, loss = -306.1079406738281, a = 0.0\n",
      "  MCMC sample 2000, loss = -307.0122375488281, a = 0.0\n",
      "  MCMC sample 3000, loss = -306.1150207519531, a = 0.0\n",
      "  MCMC sample 1000, loss = -306.2450256347656, a = 0.0\n",
      "  MCMC sample 2000, loss = -306.4588928222656, a = 0.0\n",
      "  MCMC sample 3000, loss = -306.1199035644531, a = 0.0\n",
      "  MCMC sample 1000, loss = -306.0982666015625, a = 0.0\n",
      "  MCMC sample 2000, loss = -305.9222412109375, a = 8.587874094044522e-25\n",
      "  MCMC sample 3000, loss = -306.46966552734375, a = 0.0\n",
      "  MCMC sample 1000, loss = -307.81103515625, a = 0.0\n",
      "  MCMC sample 2000, loss = -306.3252868652344, a = 0.0\n",
      "  MCMC sample 3000, loss = -307.6121520996094, a = 0.0\n",
      "  MCMC sample 1000, loss = -307.6333923339844, a = 0.0\n",
      "  MCMC sample 2000, loss = -307.3760070800781, a = 0.0\n",
      "  MCMC sample 3000, loss = -307.3824157714844, a = 0.0\n",
      "  MCMC sample 1000, loss = -307.5091247558594, a = 0.0\n",
      "  MCMC sample 2000, loss = -307.8675537109375, a = 0.0\n",
      "  MCMC sample 3000, loss = -307.13897705078125, a = 0.0\n",
      "  MCMC sample 1000, loss = -306.838623046875, a = 0.0\n",
      "  MCMC sample 2000, loss = -307.50262451171875, a = 0.0\n",
      "  MCMC sample 3000, loss = -306.843017578125, a = 0.0\n",
      "  MCMC sample 1000, loss = -307.16534423828125, a = 0.0\n",
      "  MCMC sample 2000, loss = -306.8412780761719, a = 1.0\n",
      "  MCMC sample 3000, loss = -307.1716003417969, a = 0.0\n",
      "  MCMC sample 1000, loss = -307.2496643066406, a = 0.0\n",
      "  MCMC sample 2000, loss = -307.1328430175781, a = 0.0\n",
      "  MCMC sample 3000, loss = -308.3400573730469, a = 0.0\n",
      "  MCMC sample 1000, loss = -309.0071716308594, a = 0.0\n",
      "  MCMC sample 2000, loss = -308.5191955566406, a = 4.2393196592049875e-11\n",
      "  MCMC sample 3000, loss = -308.4599609375, a = 0.0\n",
      "  Sampling z\n"
     ]
    },
    {
     "name": "stderr",
     "output_type": "stream",
     "text": [
      "100%|█████████████████████████████████████████████████████████████████████████████████████████████████████████████████████████████████████████████████████████████████████████████████████████████████████████████████████████████████████████████████████████████████████████████████████| 1000/1000 [00:14<00:00, 69.72it/s]\n"
     ]
    },
    {
     "name": "stdout",
     "output_type": "stream",
     "text": [
      "Iter = 8\n",
      "  Sampling x\n",
      "  MCMC sample 1000, loss = -312.0456848144531, a = 0.0\n",
      "  MCMC sample 2000, loss = -310.6102600097656, a = 0.0\n",
      "  MCMC sample 3000, loss = -310.6037292480469, a = 0.0\n",
      "  MCMC sample 1000, loss = -310.94378662109375, a = 0.0\n",
      "  MCMC sample 2000, loss = -310.656494140625, a = 0.0\n",
      "  MCMC sample 3000, loss = -310.6034240722656, a = 0.0\n",
      "  MCMC sample 1000, loss = -310.0519714355469, a = 0.0\n",
      "  MCMC sample 2000, loss = -310.8788146972656, a = 1.1896746118909462e-29\n",
      "  MCMC sample 3000, loss = -309.9927062988281, a = 0.0\n",
      "  MCMC sample 1000, loss = -309.3190612792969, a = 3.4173697258665925e-06\n",
      "  MCMC sample 2000, loss = -308.96685791015625, a = 1.0\n",
      "  MCMC sample 3000, loss = -311.166748046875, a = 0.0\n",
      "  MCMC sample 1000, loss = -312.5806579589844, a = 0.0\n",
      "  MCMC sample 2000, loss = -311.5661926269531, a = 0.0\n",
      "  MCMC sample 3000, loss = -311.0108337402344, a = 0.0\n",
      "  MCMC sample 1000, loss = -311.36865234375, a = 0.0\n",
      "  MCMC sample 2000, loss = -311.68194580078125, a = 0.0\n",
      "  MCMC sample 3000, loss = -311.1966552734375, a = 0.0\n",
      "  MCMC sample 1000, loss = -311.2021484375, a = 0.0\n",
      "  MCMC sample 2000, loss = -311.6981201171875, a = 0.0\n",
      "  MCMC sample 3000, loss = -311.39544677734375, a = 0.0\n",
      "  MCMC sample 1000, loss = -310.9551696777344, a = 0.0\n",
      "  MCMC sample 2000, loss = -310.7802734375, a = 3.461250849397745e-16\n",
      "  MCMC sample 3000, loss = -310.8370056152344, a = 0.0\n",
      "  MCMC sample 1000, loss = -311.59564208984375, a = 0.0\n",
      "  MCMC sample 2000, loss = -310.4582214355469, a = 0.0\n",
      "  MCMC sample 3000, loss = -310.6240234375, a = 0.0\n",
      "  MCMC sample 1000, loss = -310.52117919921875, a = 8.668659865450346e-14\n",
      "  MCMC sample 2000, loss = -310.4820861816406, a = 2.9167914116715998e-15\n",
      "  MCMC sample 3000, loss = -311.244384765625, a = 7.866505624829422e-16\n",
      "  Sampling z\n"
     ]
    },
    {
     "name": "stderr",
     "output_type": "stream",
     "text": [
      "100%|█████████████████████████████████████████████████████████████████████████████████████████████████████████████████████████████████████████████████████████████████████████████████████████████████████████████████████████████████████████████████████████████████████████████████████| 1000/1000 [00:14<00:00, 69.91it/s]\n"
     ]
    },
    {
     "name": "stdout",
     "output_type": "stream",
     "text": [
      "Iter = 9\n",
      "  Sampling x\n",
      "  MCMC sample 1000, loss = -319.3101501464844, a = 0.0\n",
      "  MCMC sample 2000, loss = -321.70330810546875, a = 0.0\n",
      "  MCMC sample 3000, loss = -320.4195556640625, a = 0.0\n",
      "  MCMC sample 1000, loss = -321.6682434082031, a = 0.0\n",
      "  MCMC sample 2000, loss = -320.18499755859375, a = 0.0\n",
      "  MCMC sample 3000, loss = -320.5242614746094, a = 0.0\n",
      "  MCMC sample 1000, loss = -320.99920654296875, a = 0.0\n",
      "  MCMC sample 2000, loss = -320.9148254394531, a = 0.0\n",
      "  MCMC sample 3000, loss = -321.73736572265625, a = 0.0\n",
      "  MCMC sample 1000, loss = -318.8197326660156, a = 0.0\n",
      "  MCMC sample 2000, loss = -318.77764892578125, a = 0.0\n",
      "  MCMC sample 3000, loss = -319.7479248046875, a = 0.0\n",
      "  MCMC sample 1000, loss = -319.7867126464844, a = 0.0\n",
      "  MCMC sample 2000, loss = -320.5010986328125, a = 0.0\n",
      "  MCMC sample 3000, loss = -319.68743896484375, a = 0.0\n",
      "  MCMC sample 1000, loss = -319.57342529296875, a = 0.0\n",
      "  MCMC sample 2000, loss = -319.986572265625, a = 0.0\n",
      "  MCMC sample 3000, loss = -319.5069274902344, a = 0.0\n",
      "  MCMC sample 1000, loss = -319.51666259765625, a = 0.0\n",
      "  MCMC sample 2000, loss = -319.3191833496094, a = 0.0\n",
      "  MCMC sample 3000, loss = -319.3091125488281, a = 0.0\n",
      "  MCMC sample 1000, loss = -319.3085021972656, a = 0.0\n",
      "  MCMC sample 2000, loss = -319.2764892578125, a = 0.0\n",
      "  MCMC sample 3000, loss = -319.27813720703125, a = 0.0\n",
      "  MCMC sample 1000, loss = -319.0567932128906, a = 0.0\n",
      "  MCMC sample 2000, loss = -319.5956726074219, a = 0.0\n",
      "  MCMC sample 3000, loss = -319.1223449707031, a = 0.0\n",
      "  MCMC sample 1000, loss = -319.051513671875, a = 0.0\n",
      "  MCMC sample 2000, loss = -319.19525146484375, a = 0.0\n",
      "  MCMC sample 3000, loss = -318.9169921875, a = 0.0\n",
      "  Sampling z\n"
     ]
    },
    {
     "name": "stderr",
     "output_type": "stream",
     "text": [
      "100%|█████████████████████████████████████████████████████████████████████████████████████████████████████████████████████████████████████████████████████████████████████████████████████████████████████████████████████████████████████████████████████████████████████████████████████| 1000/1000 [00:14<00:00, 69.95it/s]"
     ]
    },
    {
     "name": "stdout",
     "output_type": "stream",
     "text": [
      "225.43588995933533 sec\n",
      "x_samp = [-1.2957838  -1.6020019  -0.55089927 -0.6688907  -1.2890997   1.1552796\n",
      "  0.19181657 -0.62851095 -1.2819464  -0.6419227 ]\n",
      "x_true = [-0.62295336  1.115157   -1.7955936  -1.7312781   0.02410522 -1.5064275\n",
      " -1.2588354   0.28980458  1.2364852   0.23111346]\n"
     ]
    },
    {
     "name": "stderr",
     "output_type": "stream",
     "text": [
      "\n"
     ]
    }
   ],
   "source": [
    "N_iters = 10\n",
    "N_samples_z = 50 #300\n",
    "N_samples_x = 3001\n",
    "B = 3\n",
    "\n",
    "sample_x = True\n",
    "sample_z = True\n",
    "search_z = False\n",
    "\n",
    "zi = jnp.array(np.random.randint(0, K, (N,)))\n",
    "xi = jnp.array(np.random.randn(K))\n",
    "\n",
    "#xi = x\n",
    "#zi = z\n",
    "\n",
    "t0 = time.time()\n",
    "for iter_i in jnp.arange(N_iters):\n",
    "    print(f\"Iter = {iter_i}\")\n",
    "\n",
    "    if sample_x:\n",
    "        print(\"  Sampling x\")\n",
    "        for idx_x in jnp.arange(K):\n",
    "\n",
    "            params_x = {\"B\" : B, \"z\" : zi, \"y\" : y, \"sigma\" : sigma, \"alpha\" : alpha, \"idx\": idx_x}\n",
    "            #params_x = {\"B\" : B, \"z\" : zi, \"y\" : y, \"sigma\" : sigma, \"alpha\" : alpha}\n",
    "\n",
    "            key, subkey = random.split(key)\n",
    "    \n",
    "            #t0 = time.time()\n",
    "            x_mean, x_r, x_samples = mcmc(subkey, proposal_x_idx, xi, N_samples_x, params_x, 1, 1) \n",
    "            #x_mean, x_r, x_samples = mcmc(subkey, proposal_x_marg, xi, N_samples_x, params_x, 1, 1) \n",
    "\n",
    "            xi = x_samples[N_samples_x - 2]\n",
    "    \n",
    "    if search_z:\n",
    "        print(\"  Searching z\")\n",
    "        for idx_z in tqdm(jnp.arange(N)):\n",
    "            logPi_max = -jnp.inf\n",
    "\n",
    "            for ki in jnp.arange(K):\n",
    "                zi_k = zi.at[idx_z].set(ki)\n",
    "                logPi_k = logPi(xi, zi_k, y, sigma, alpha)\n",
    "                if logPi_k > logPi_max:\n",
    "                    zi = zi_k\n",
    "                    logPi_max = logPi_k\n",
    "            \n",
    "    if sample_z:\n",
    "        print(\"  Sampling z\")\n",
    "        for idx_z in tqdm(jnp.arange(N)):\n",
    "            \n",
    "            params_z = {\"x\" : xi, \"y\" : y, \"sigma\" : sigma, \"alpha\" : alpha, \"K\" : K, 'idx' : idx_z}\n",
    "\n",
    "            key, subkey = random.split(key)\n",
    "\n",
    "            z_mean, z_r, z_samples = mcmc(subkey, proposal_z_idx, zi, N_samples_z, params_z, 1, 1)\n",
    "\n",
    "            zi = z_samples[N_samples_z - 2]\n",
    "            \n",
    "            #new_zi = jnp.bincount(z_samples[:,idx_z]).argmax()\n",
    "            #zi = zi.at[idx_z].set(new_zi)\n",
    "            \n",
    "            #if zi[idx_z] - z[idx_z] != 0:\n",
    "            #    break\n",
    "            \n",
    "\n",
    "print(f\"{time.time()-t0} sec\")\n",
    "print(f\"x_samp = {xi}\")\n",
    "print(f\"x_true = {x}\")"
   ]
  },
  {
   "cell_type": "code",
   "execution_count": 266,
   "id": "d160ee3b-0c25-4d70-ad50-0bdc5191c695",
   "metadata": {},
   "outputs": [
    {
     "name": "stdout",
     "output_type": "stream",
     "text": [
      "152\n",
      "117\n",
      "2\n",
      "7\n",
      "147\n",
      "229\n",
      "190\n",
      "7\n",
      "141\n",
      "8\n",
      "0\n"
     ]
    },
    {
     "data": {
      "image/png": "[encoded data removed]",
      "text/plain": [
       "<Figure size 432x432 with 1 Axes>"
      ]
     },
     "metadata": {
      "needs_background": "light"
     },
     "output_type": "display_data"
    }
   ],
   "source": [
    "plt.plot(y, '.')\n",
    "plt.plot(xi[zi], '.')\n",
    "\n",
    "print(jnp.sum(zi==0))\n",
    "print(jnp.sum(zi==1))\n",
    "print(jnp.sum(zi==2))\n",
    "print(jnp.sum(zi==3))\n",
    "print(jnp.sum(zi==4))\n",
    "print(jnp.sum(zi==5))\n",
    "print(jnp.sum(zi==6))\n",
    "print(jnp.sum(zi==7))\n",
    "print(jnp.sum(zi==8))\n",
    "print(jnp.sum(zi==9))\n",
    "print(jnp.sum(zi==10))"
   ]
  },
  {
   "cell_type": "code",
   "execution_count": 267,
   "id": "f8fdd921-9fcc-4fa7-97c7-5aa82e587904",
   "metadata": {},
   "outputs": [
    {
     "data": {
      "text/plain": [
       "DeviceArray(0., dtype=float32)"
      ]
     },
     "execution_count": 267,
     "metadata": {},
     "output_type": "execute_result"
    }
   ],
   "source": [
    "logPiZ0 = logPi(xi, zi, y, sigma, alpha)\n",
    "logPiZ1 = logPi(xi, zi.at[18].set(2), y, sigma, alpha)\n",
    "\n",
    "jnp.exp(logPiZ1-logPiZ0)"
   ]
  },
  {
   "cell_type": "code",
   "execution_count": 268,
   "id": "0d1a4644-c15d-47a5-8cb3-71dadc8bde56",
   "metadata": {},
   "outputs": [
    {
     "name": "stdout",
     "output_type": "stream",
     "text": [
      "-45.212353\n",
      "-326.29855\n"
     ]
    }
   ],
   "source": [
    "print(logPi(x, z, y, sigma, alpha))\n",
    "print(logPi(xi, zi, y, sigma, alpha))"
   ]
  },
  {
   "cell_type": "code",
   "execution_count": 64,
   "id": "db9fa846-8279-44b2-bac1-09b7af1da1cd",
   "metadata": {},
   "outputs": [
    {
     "data": {
      "text/plain": [
       "DeviceArray(0., dtype=float32)"
      ]
     },
     "execution_count": 64,
     "metadata": {},
     "output_type": "execute_result"
    }
   ],
   "source": [
    "z1 = z.at[0].set(1)\n",
    "logPiZ0 = logPi(x, z, y, sigma, alpha)\n",
    "logPiZ1 = logPi(x, z1, y, sigma, alpha)\n",
    "r = jnp.exp(logPiZ1 - logPiZ0)\n",
    "r"
   ]
  },
  {
   "cell_type": "code",
   "execution_count": 184,
   "id": "e47b801e-2fd8-496a-9dbc-ff57302cc30c",
   "metadata": {},
   "outputs": [
    {
     "name": "stdout",
     "output_type": "stream",
     "text": [
      "24\n",
      "154\n",
      "2\n",
      "55\n",
      "69\n",
      "108\n",
      "392\n",
      "118\n",
      "75\n",
      "3\n",
      "0\n"
     ]
    },
    {
     "data": {
      "image/png": "[encoded data removed]",
      "text/plain": [
       "<Figure size 432x432 with 1 Axes>"
      ]
     },
     "metadata": {
      "needs_background": "light"
     },
     "output_type": "display_data"
    }
   ],
   "source": [
    "plt.plot(y, '.')\n",
    "plt.plot(x[z], '.')\n",
    "\n",
    "print(jnp.sum(z==0))\n",
    "print(jnp.sum(z==1))\n",
    "print(jnp.sum(z==2))\n",
    "print(jnp.sum(z==3))\n",
    "print(jnp.sum(z==4))\n",
    "print(jnp.sum(z==5))\n",
    "print(jnp.sum(z==6))\n",
    "print(jnp.sum(z==7))\n",
    "print(jnp.sum(z==8))\n",
    "print(jnp.sum(z==9))\n",
    "print(jnp.sum(z==10))"
   ]
  },
  {
   "cell_type": "code",
   "execution_count": null,
   "id": "5d7a3cba-1bf6-4697-aa5d-91f0351996ad",
   "metadata": {},
   "outputs": [],
   "source": [
    "print(pi)\n",
    "print(x)\n",
    "print(xi)"
   ]
  },
  {
   "cell_type": "code",
   "execution_count": null,
   "id": "a7e07a0b-da25-419f-ab35-e17ee44f0f4e",
   "metadata": {},
   "outputs": [],
   "source": [
    "# Loss functions roughly equivalent with the the estimation problem to see what's going on\n",
    "def loss_fun(x, z, y):\n",
    "    return (x[z] - y)**2 * pi[z]\n",
    "\n",
    "def loss_fun_vmap(x,z,y):\n",
    "    n_k = calc_nk_jit(z)\n",
    "    logPZalpha = -gammaln(jnp.sum(n_k) + jnp.sum(alpha)) + jnp.sum(gammaln(n_k + alpha))\n",
    "    print(f\"logPZalpha = {-logPZalpha}\")\n",
    "    return jnp.sum(jax.vmap(loss_fun, in_axes = (None, 0, 0))(x,z,y)) + jnp.sum(x**2) - logPZalpha"
   ]
  },
  {
   "cell_type": "code",
   "execution_count": null,
   "id": "5b8a1e13-f990-4fa1-a8c7-e22f1fe790c0",
   "metadata": {},
   "outputs": [],
   "source": [
    "n_k = calc_nk_jit(z)\n",
    "logPZalpha = -gammaln(jnp.sum(n_k) + jnp.sum(alpha)) + jnp.sum(gammaln(n_k + alpha))"
   ]
  },
  {
   "cell_type": "code",
   "execution_count": null,
   "id": "d40222f5-7a15-4283-a002-d399be0845aa",
   "metadata": {},
   "outputs": [],
   "source": [
    "jnp.sum(gammaln(n_k+alpha))"
   ]
  },
  {
   "cell_type": "code",
   "execution_count": null,
   "id": "0f4fcddb-84bd-455b-84d1-bbd4c8e3521d",
   "metadata": {},
   "outputs": [],
   "source": [
    "gammaln(jnp.sum(n_k) + jnp.sum(alpha))"
   ]
  },
  {
   "cell_type": "code",
   "execution_count": null,
   "id": "69da655d-2e0c-4f5f-983c-d87fc5153eaa",
   "metadata": {},
   "outputs": [],
   "source": [
    "alpha.shape"
   ]
  },
  {
   "cell_type": "code",
   "execution_count": null,
   "id": "94fa586e-4f87-4615-9f84-eeb3a853aaa2",
   "metadata": {},
   "outputs": [],
   "source": [
    "print(loss_fun_vmap(x, jnp.array(np.random.randint(0, K, (N,))), y))\n",
    "print(loss_fun_vmap(xi, zi, y))\n",
    "print(loss_fun_vmap(x, z, y))"
   ]
  },
  {
   "cell_type": "code",
   "execution_count": null,
   "id": "cd6ef773-8136-4fb1-8c6b-ca64b7e27467",
   "metadata": {},
   "outputs": [],
   "source": [
    "alpha"
   ]
  },
  {
   "cell_type": "markdown",
   "id": "569a330b-9287-4acd-9f08-e3c008125efb",
   "metadata": {},
   "source": [
    "### Some functions used for debugging - ignore"
   ]
  },
  {
   "cell_type": "code",
   "execution_count": null,
   "id": "0f633a92-f7cf-4bc9-96c7-06553e3af81d",
   "metadata": {},
   "outputs": [],
   "source": [
    "# Quick test of a proposal function\n",
    "key, subkey = random.split(key)\n",
    "idx = 1\n",
    "z1, rz, _, _ = proposal_z_idx(subkey, z, -1, x, y, sigma, alpha, K, idx)\n",
    "print(z1[idx])\n",
    "print(rz)"
   ]
  },
  {
   "cell_type": "code",
   "execution_count": null,
   "id": "6890cd11-d5ee-40d4-baf1-200028668a8c",
   "metadata": {},
   "outputs": [],
   "source": [
    "key, subkey = random.split(key)\n",
    "#z0 = random.randint(subkey, z.shape, 0, K)\n",
    "z0 = jnp.ones(z.shape)\n",
    "z0 = z\n",
    "\n",
    "n_ik_z = calc_nik_jit(z0)\n",
    "n_k = calc_nk_jit(z0)\n",
    "Nk = jnp.sum(n_k)\n",
    "Ak = jnp.sum(alpha)"
   ]
  },
  {
   "cell_type": "code",
   "execution_count": null,
   "id": "0b2fa838-7c62-4dce-a60a-6c67aa2ec29e",
   "metadata": {},
   "outputs": [],
   "source": [
    "probs_d = []\n",
    "probs_dn = []\n",
    "for k in jnp.arange(K):\n",
    "    probs_d.append((n_ik_z[:, k] + alpha[k])/(Nk+Ak-1))\n",
    "    probs_dn.append((n_ik_z[:, k])/(Nk-1))\n",
    "\n",
    "probs_d = jnp.array(probs_d).transpose()   \n",
    "probs_dn = jnp.array(probs_dn).transpose()   \n",
    "\n",
    "print(probs_d)\n",
    "#print(jnp.sum(probs_d, axis=1))\n",
    "\n",
    "plt.imshow(jnp.repeat(probs_d, int(N/K), axis=1)); plt.colorbar()"
   ]
  },
  {
   "cell_type": "code",
   "execution_count": null,
   "id": "ae7ba8b7-ab85-4af2-b161-6e5c4d281220",
   "metadata": {},
   "outputs": [],
   "source": [
    "myf = lambda x0, x1 : logPi(jnp.array([x0, x1]), z, y, sigma, alpha)\n",
    "xx = jnp.linspace(-3,3,1000)    \n",
    "yy = jnp.linspace(-3,3,1000)"
   ]
  },
  {
   "cell_type": "code",
   "execution_count": null,
   "id": "c44cbf01-bdbb-4bcf-8e44-2f538dfa20af",
   "metadata": {},
   "outputs": [],
   "source": [
    "myf_x = jax.jit(lambda x : jax.vmap(myf, in_axes = (None, 0))(x, yy))\n",
    "myf_xy = jax.vmap(myf_x)(xx)"
   ]
  },
  {
   "cell_type": "code",
   "execution_count": null,
   "id": "ca3c27c4-1f80-4532-a339-0d91e3f01244",
   "metadata": {},
   "outputs": [],
   "source": [
    "plt.imshow((myf_xy)); plt.colorbar()"
   ]
  },
  {
   "cell_type": "code",
   "execution_count": null,
   "id": "d93b21d7-244b-4e97-93e1-3910f6c27632",
   "metadata": {},
   "outputs": [],
   "source": [
    "print(\"01\", myf(x[0], x[1]))\n",
    "print(\"00\", myf(x[0], x[0]))\n",
    "print(\"11\", myf(x[1], x[1]))\n",
    "print(\"10\", myf(x[1], x[0]))"
   ]
  },
  {
   "cell_type": "code",
   "execution_count": null,
   "id": "52e500a5-dcb2-4a2d-bb72-9fa58cfff1a6",
   "metadata": {},
   "outputs": [],
   "source": [
    "myf(x[0],x[1])"
   ]
  },
  {
   "cell_type": "code",
   "execution_count": null,
   "id": "2cfdcec9-5874-491c-b5ae-48b3a96c2979",
   "metadata": {},
   "outputs": [],
   "source": [
    "jnp.max(myf_xy)"
   ]
  }
 ],
 "metadata": {
  "kernelspec": {
   "display_name": "Python 3 (ipykernel)",
   "language": "python",
   "name": "python3"
  },
  "language_info": {
   "codemirror_mode": {
    "name": "ipython",
    "version": 3
   },
   "file_extension": ".py",
   "mimetype": "text/x-python",
   "name": "python",
   "nbconvert_exporter": "python",
   "pygments_lexer": "ipython3",
   "version": "3.9.7"
  }
 },
 "nbformat": 4,
 "nbformat_minor": 5
}
