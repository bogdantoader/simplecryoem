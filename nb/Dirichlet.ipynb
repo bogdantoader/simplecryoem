{
 "cells": [
  {
   "cell_type": "markdown",
   "id": "02bba85a-2401-4d87-aeb0-013d30d6717d",
   "metadata": {},
   "source": [
    "# Classification with Dirichlet prior"
   ]
  },
  {
   "cell_type": "code",
   "execution_count": 3,
   "id": "9c792c4c-80c8-4473-b3b4-d673e781b1aa",
   "metadata": {},
   "outputs": [],
   "source": [
    "%load_ext autoreload\n",
    "%autoreload 2\n",
    "import site\n",
    "import time\n",
    "site.addsitedir('..')\n",
    "\n",
    "import jax\n",
    "from jax.config import config\n",
    "import jax.numpy as jnp\n",
    "import numpy as np\n",
    "from  matplotlib import pyplot as plt\n",
    "from tqdm import tqdm\n",
    "\n",
    "from jax.scipy.special import gammaln\n",
    "from jax import random\n",
    "\n",
    "from src.algorithm import *\n",
    "\n",
    "plt.rcParams[\"figure.figsize\"]=6,6\n",
    "#config.update(\"jax_enable_x64\", True)"
   ]
  },
  {
   "cell_type": "markdown",
   "id": "f2159e7b-9a04-41ce-a244-81fce0acd002",
   "metadata": {},
   "source": [
    "### Setup"
   ]
  },
  {
   "cell_type": "markdown",
   "id": "d2d0adc1-276b-4529-b36a-3d5f30452aa1",
   "metadata": {},
   "source": [
    "The probability vector $\\pi$ is drawn from a Dirichlet distribution with parameter $\\alpha$.\n",
    "\n",
    "$\\pi \\sim \\text{Dirichlet}(\\alpha)$\n",
    "\n",
    "The $K$ classes $x_1, \\ldots, x_K$ are i.i.d. samples from a standard normal distribution and we have $N$ noisy observations $y_1, \\ldots, y_N$ of the $K$ classes such that:\n",
    "\n",
    "$y_i = x_{z_i} + \\sigma \\eta_i,$\n",
    "\n",
    "where $\\eta_i \\sim \\mathcal{N}(0,1)$ and $z_1, \\ldots, z_N$ are drawn from a multinomial distribution with\n",
    "probability vector $\\pi$."
   ]
  },
  {
   "cell_type": "code",
   "execution_count": 68,
   "id": "5924a50b-0fd6-4e71-96b9-c891291fb14c",
   "metadata": {},
   "outputs": [],
   "source": [
    "key = random.PRNGKey(int(jnp.floor(np.random.rand()*1000)))\n",
    "key, *subkeys = random.split(key, 5)"
   ]
  },
  {
   "cell_type": "code",
   "execution_count": 1,
   "id": "75556229-5c63-4d6f-a277-248980c4e5ac",
   "metadata": {},
   "outputs": [
    {
     "ename": "NameError",
     "evalue": "name 'jnp' is not defined",
     "output_type": "error",
     "traceback": [
      "\u001b[0;31m---------------------------------------------------------------------------\u001b[0m",
      "\u001b[0;31mNameError\u001b[0m                                 Traceback (most recent call last)",
      "Input \u001b[0;32mIn [1]\u001b[0m, in \u001b[0;36m<module>\u001b[0;34m\u001b[0m\n\u001b[1;32m      2\u001b[0m N \u001b[38;5;241m=\u001b[39m \u001b[38;5;241m1000\u001b[39m\n\u001b[1;32m      3\u001b[0m sigma \u001b[38;5;241m=\u001b[39m \u001b[38;5;241m0.01\u001b[39m\n\u001b[0;32m----> 4\u001b[0m alpha \u001b[38;5;241m=\u001b[39m \u001b[43mjnp\u001b[49m\u001b[38;5;241m.\u001b[39mones(K,)\n",
      "\u001b[0;31mNameError\u001b[0m: name 'jnp' is not defined"
     ]
    }
   ],
   "source": [
    "K = 10\n",
    "N = 1000\n",
    "sigma = 0.01\n",
    "alpha = jnp.ones(K,)\n",
    "#alpha = jnp.array([10,10,2])"
   ]
  },
  {
   "cell_type": "code",
   "execution_count": 2,
   "id": "69825358-81e0-4d8c-8c1b-34f7a309f3a5",
   "metadata": {},
   "outputs": [
    {
     "ename": "NameError",
     "evalue": "name 'random' is not defined",
     "output_type": "error",
     "traceback": [
      "\u001b[0;31m---------------------------------------------------------------------------\u001b[0m",
      "\u001b[0;31mNameError\u001b[0m                                 Traceback (most recent call last)",
      "Input \u001b[0;32mIn [2]\u001b[0m, in \u001b[0;36m<module>\u001b[0;34m\u001b[0m\n\u001b[0;32m----> 1\u001b[0m pi \u001b[38;5;241m=\u001b[39m \u001b[43mrandom\u001b[49m\u001b[38;5;241m.\u001b[39mdirichlet(subkeys[\u001b[38;5;241m0\u001b[39m], alpha)\n\u001b[1;32m      2\u001b[0m z \u001b[38;5;241m=\u001b[39m random\u001b[38;5;241m.\u001b[39mcategorical(subkeys[\u001b[38;5;241m1\u001b[39m], jnp\u001b[38;5;241m.\u001b[39mlog(pi), shape \u001b[38;5;241m=\u001b[39m (N,))\n\u001b[1;32m      3\u001b[0m \u001b[38;5;28mprint\u001b[39m(\u001b[38;5;124mf\u001b[39m\u001b[38;5;124m\"\u001b[39m\u001b[38;5;124mpi = \u001b[39m\u001b[38;5;132;01m{\u001b[39;00mpi\u001b[38;5;132;01m}\u001b[39;00m\u001b[38;5;124m\"\u001b[39m)\n",
      "\u001b[0;31mNameError\u001b[0m: name 'random' is not defined"
     ]
    }
   ],
   "source": [
    "pi = random.dirichlet(subkeys[0], alpha)\n",
    "z = random.categorical(subkeys[1], jnp.log(pi), shape = (N,))\n",
    "print(f\"pi = {pi}\")"
   ]
  },
  {
   "cell_type": "code",
   "execution_count": 71,
   "id": "4200539f-cb45-4eea-b7b2-7671a5f81655",
   "metadata": {},
   "outputs": [
    {
     "name": "stdout",
     "output_type": "stream",
     "text": [
      "x = [ 0.18469754 -0.22319399  1.3663408 ]\n"
     ]
    },
    {
     "data": {
      "image/png": "[encoded data removed]",
      "text/plain": [
       "<Figure size 432x432 with 1 Axes>"
      ]
     },
     "metadata": {
      "needs_background": "light"
     },
     "output_type": "display_data"
    }
   ],
   "source": [
    "x = random.normal(subkeys[2], shape = (K,))\n",
    "y = x[z] + sigma * random.normal(subkeys[3], shape = (N,))\n",
    "\n",
    "print(f\"x = {x}\")\n",
    "_ = plt.plot(y, '.')"
   ]
  },
  {
   "cell_type": "markdown",
   "id": "d2a3ea4f-cd5c-4561-9776-fa4abf7dd61a",
   "metadata": {},
   "source": [
    "### The posterior and proposal functions"
   ]
  },
  {
   "cell_type": "code",
   "execution_count": 72,
   "id": "c8215a51-910c-49ec-a85e-4b37a48a2162",
   "metadata": {},
   "outputs": [],
   "source": [
    "# This log posterior marginalizes over the classes k = 1,...,K.\n",
    "def logPi_marg(x, z, y, sigma, alpha):\n",
    "    n_ik = calc_nik_jit(z)\n",
    "    n_k = calc_nk_jit(z)\n",
    "    \n",
    "    log_arg = jnp.zeros(y.shape)\n",
    "\n",
    "    Nk = jnp.sum(n_k)\n",
    "    Ak = jnp.sum(alpha)\n",
    "    \n",
    "    term_mat = []\n",
    "    for k in jnp.arange(K):\n",
    "        logarg_k = jnp.exp(-(y - x[k])**2/sigma) *  (n_ik[:, k] + alpha[k])/(Nk+Ak-1)\n",
    "        log_arg += logarg_k\n",
    "        term_mat.append(logarg_k)\n",
    "              \n",
    "    return jnp.sum(jnp.log(log_arg)) - jnp.sum(x**2) \n",
    "   \n",
    "# And this does not.\n",
    "def logPi(x, z, y, sigma, alpha):\n",
    "    n_k = calc_nk_jit(z)\n",
    "    \n",
    "    term1 = jnp.sum(-(y - x[z])**2/sigma)\n",
    "\n",
    "    logPZalpha =  jnp.sum(gammaln(n_k + alpha))\n",
    "\n",
    "    return term1 - jnp.sum(x**2) + logPZalpha \n",
    "\n",
    "\n",
    "def calc_nik_ki(z,k,i): \n",
    "    z = z.at[i].set(jnp.inf)    \n",
    "    return jnp.sum(z == k)\n",
    "\n",
    "calc_nik_i = lambda z, i : jax.vmap(calc_nik_ki, in_axes = (None, 0, None))(z, jnp.arange(K), i)\n",
    "calc_nik = lambda z : jax.vmap(calc_nik_i, in_axes = (None, 0))(z, jnp.arange(N))\n",
    "calc_nik_jit = jax.jit(calc_nik)\n",
    "\n",
    "calc_nk_k = lambda z, k : jnp.sum(z == k)\n",
    "calc_nk = lambda z : jax.vmap(calc_nk_k, in_axes = (None, 0))(z, jnp.arange(K))\n",
    "calc_nk_jit = jax.jit(calc_nk)"
   ]
  },
  {
   "cell_type": "code",
   "execution_count": 73,
   "id": "ffc7bee9-013f-4f5b-a85d-d40ba98082b6",
   "metadata": {},
   "outputs": [],
   "source": [
    "#print(logPi_marg(x, z, y, sigma, alpha))\n",
    "#print(logPi_marg(xi, zi, y, sigma, alpha))"
   ]
  },
  {
   "cell_type": "code",
   "execution_count": 74,
   "id": "8871ef42-2fed-4f22-8a52-247de0fc5086",
   "metadata": {},
   "outputs": [],
   "source": [
    "#print(logPi(x, z, y, sigma, alpha))\n",
    "#print(logPi(xi, zi, y, sigma, alpha))"
   ]
  },
  {
   "cell_type": "code",
   "execution_count": 75,
   "id": "e4cc3b56-a2a1-4948-b8e6-fb7116ae85cd",
   "metadata": {},
   "outputs": [],
   "source": [
    "@jax.jit\n",
    "def proposal_x_marg(key, x0, logPiX0, B, z, y, sigma, alpha):\n",
    "    \"\"\"Proposal function of a new vector [x_1,...,x_k] from the posterior\n",
    "    \n",
    "    p(x_1, ..., x_K | y_1, ..., y_N)\n",
    "    \n",
    "    with marginalization over z_1,...z_N.\"\"\"\n",
    "    \n",
    "    x1 = random.uniform(key, x0.shape) * 2*B-B\n",
    "    \n",
    "    logPiX0 = logPi_marg(x0, z, y, sigma, alpha)\n",
    "    logPiX1 = logPi_marg(x1, z, y, sigma, alpha)\n",
    "    \n",
    "    r = jnp.exp((logPiX1 - logPiX0))\n",
    "    \n",
    "    return x1, r, logPiX1, logPiX0\n",
    "\n",
    "@jax.jit\n",
    "def proposal_x(key, x0, logPiX0, B, z, y, sigma, alpha):\n",
    "    \"\"\"Proposal function of a new vector [x_1,...,x_K] from the posterior\n",
    "    \n",
    "    p(x_1, ..., x_K, z_1, ..., y_N | y_1, ..., y_N)\n",
    "\n",
    "    without marginalization over z_i variales (where we keep z_i fixed).\"\"\"\n",
    "    \n",
    "    x1 = random.uniform(key, x0.shape) * 2*B-B\n",
    "    \n",
    "    logPiX0 = logPi(x0, z, y, sigma, alpha)\n",
    "    logPiX1 = logPi(x1, z, y, sigma, alpha)\n",
    "    \n",
    "    r = jnp.exp((logPiX1 - logPiX0))\n",
    "    \n",
    "    return x1, r, logPiX1, logPiX0\n",
    "\n",
    "@jax.jit\n",
    "def proposal_x_idx(key, x0, logPiX0, B, z, y, sigma, alpha, idx):\n",
    "    \"\"\"Proposal function for a new state x_{idx} from the posterior\n",
    "    \n",
    "    p(x_1, ..., x_K, z_1, ..., y_N | y_1, ..., y_N)\n",
    "    \n",
    "    where all z_i and the other x_j are fixed and with no\n",
    "    marginalization over z.\n",
    "\n",
    "    The returned vector x1 is equal to x0, \n",
    "    with the entry at index idx given by the proposal.\"\"\"\n",
    "    \n",
    "    newval = random.uniform(key) * 2*B-B\n",
    "    x1 = x0.at[idx].set(newval)\n",
    "    \n",
    "    logPiX0 = logPi(x0, z, y, sigma, alpha)\n",
    "    logPiX1 = logPi(x1, z, y, sigma, alpha)\n",
    "    \n",
    "    r = jnp.exp(logPiX1 - logPiX0)\n",
    "    \n",
    "    return x1, r, logPiX1, logPiX0    \n",
    "               \n",
    "@jax.jit\n",
    "def proposal_x_batch(key, x0, logPiX0, B, z, y, sigma, alpha):\n",
    "    \"\"\"Proposal function for a new state x_j for all j = 1,..., K \n",
    "    from the posterior\n",
    "    \n",
    "    p(x_1, ..., x_K, z_1, ..., y_N | y_1, ..., y_N)\n",
    "    \n",
    "    where all z_i and the other x_i (i !=j) are fixed and with no\n",
    "    marginalization over z.\n",
    "    \n",
    "    This function returns a new proposal for each x_j i.e.\n",
    "    it samples x_j \"one variable at a time\", but for all j \n",
    "    in parallel. \n",
    "\n",
    "    The returned vector x1 is the same dimensions as x0 and contains\n",
    "    the proposal states corresponding to each entry. Similarly,\n",
    "    r, logPiX1 and logPiX0 are arrays of length K, each entry corresponding\n",
    "    to the proposal x_j with the other x_i fixed, so that this proposal function\n",
    "    can be used in the \"batch\" mode of the mcmc function.\"\"\"\n",
    "        \n",
    "    keys = random.split(key, K)\n",
    "    \n",
    "    x1, r, logPiX1, logPiX0 = jax.vmap(proposal_x_idx, in_axes = (0, None, None, None, None, None, None, None, 0))(keys, x0, logPiX0, B, z, y, sigma, alpha, jnp.arange(K))\n",
    "    x1 = jnp.diag(x1)\n",
    "    \n",
    "    return x1, r, logPiX1, logPiX0\n",
    "\n",
    "@jax.jit\n",
    "def proposal_z(key, z0, logPiX0, x, y, sigma, alpha, K):\n",
    "    \"\"\"Proposal function of a new vector [z_1,...,z_N] from the posterior\n",
    "    \n",
    "    p(x_1, ..., x_K, z_1, ..., y_N | y_1, ..., y_N)\n",
    "\n",
    "    where the x_i variables are fixed.\"\"\"\n",
    "    \n",
    "    z1 = random.randint(key, z0.shape, 0, K) \n",
    "\n",
    "    logPiX0 = logPi(x, z0, y, sigma, alpha)\n",
    "    logPiX1 = logPi(x, z1, y, sigma, alpha)\n",
    "    \n",
    "    r = jnp.exp(logPiX1 - logPiX0)\n",
    "    \n",
    "    return z1, r, logPiX1, logPiX0\n",
    "\n",
    "@jax.jit\n",
    "def proposal_z_idx(key, z0, logPiX0, x, y, sigma, alpha, K, idx):\n",
    "    \"\"\"Proposal function of a new state z_{idx} from the posterior\n",
    "    \n",
    "    p(x_1, ..., x_K, z_1, ..., y_N | y_1, ..., y_N)\n",
    "\n",
    "    where all x_i and the other z_j are fixed.\n",
    "    \n",
    "    The returned vector z1 is equal to z0, \n",
    "    with the entry at index idx given by the proposal.\"\"\"\n",
    "    \n",
    "    newval = random.randint(key, (), 0, K) \n",
    "    z1 = z0.at[idx].set(newval)\n",
    "    \n",
    "    logPiX0 = logPi(x, z0, y, sigma, alpha)\n",
    "    logPiX1 = logPi(x, z1, y, sigma, alpha)\n",
    "    \n",
    "    r = jnp.exp(logPiX1 - logPiX0)\n",
    "    \n",
    "    return z1, r, logPiX1, logPiX0\n",
    "\n",
    "@jax.jit\n",
    "def proposal_z_batch(key, z0, logPiX0, x, y, sigma, alpha, K):\n",
    "    \"\"\"Batch mode proposal function for z, operating in the same\n",
    "    way as proposal_x_batch. \n",
    "    \n",
    "    If the posterior depends on the states z_1,...,z_N (e.g. due to \n",
    "    the Dirichlet prior), then running MCMC with this proposal function\n",
    "    is NOT correct. However, this function is used in the\n",
    "    proposal_z_batch_correct\" function, which takes advantage of these\n",
    "    parallel proposals in a proper MCMC way.\"\"\"\n",
    "    \n",
    "    keys = random.split(key, N)\n",
    "    \n",
    "    # TODO: change both batch functions (this and proposal_x_batch)\n",
    "    # so we don't have to do diag on an N x N (or K x K) matrix - potentially\n",
    "    # problematic for large N.\n",
    "    z1, r, logPiX1, logPiX0 = jax.vmap(proposal_z_idx, in_axes = (0, None, None, None, None, None, None, None, 0))(keys, z0, logPiX0, x, y, sigma, alpha, K, jnp.arange(N))\n",
    "    z1 = jnp.diag(z1)\n",
    "    \n",
    "    return z1, r, logPiX1, logPiX0\n",
    "    \n",
    "@jax.jit\n",
    "def proposal_z_batch_correct(key, z0, logPiX0, x, y, sigma, alpha, K):\n",
    "    \"\"\"If using the Dirichlet posterior, then the proposal_z_batch is not \n",
    "    proper MCMC sampling. Here, we run a number of \"incorect\" MCMC steps to \n",
    "    sample all the entries of z in parallel, and then use the latest \n",
    "    proposed z as a proposal for a \"correct\" MCMC proposal. The acceptance rate\n",
    "    is pretty good in this toy example and the convergence great.\"\"\"\n",
    "    \n",
    "    N_samples_z_local = 10   \n",
    "    keys = random.split(key, 2*N_samples_z_local)\n",
    "    params_z = {\"x\" : x, \"y\" : y, \"sigma\" : sigma, \"alpha\" : alpha, \"K\" : K}\n",
    "    \n",
    "    logPiZ0 = logPi(x, z0, y, sigma, alpha)\n",
    "    \n",
    "    for i in jnp.arange(N_samples_z_local):\n",
    "        z1, r, logPiX1, logPiX0 = proposal_z_batch(keys[2*i], z0, logPiZ0, **params_z)\n",
    "        a = jnp.minimum(1, r)\n",
    "        unif_var = random.uniform(keys[2*i+1], (N,))\n",
    "        z1, logPiX1 = accept_reject_vmap(unif_var, a, z0, z1, logPiX0, logPiX1)\n",
    "        \n",
    "    logPiZ1 = logPi(x, z1, y, sigma, alpha)\n",
    "    \n",
    "    r = jnp.exp(logPiZ1 - logPiZ0)   \n",
    "    \n",
    "    return z1, r, logPiZ1, logPiZ0"
   ]
  },
  {
   "cell_type": "markdown",
   "id": "4bd3c7f4-8f77-4eb7-8019-29ce719c006e",
   "metadata": {},
   "source": [
    "### Sample x"
   ]
  },
  {
   "cell_type": "code",
   "execution_count": 10,
   "id": "ce37d72e-aacd-4755-9670-86848f28b552",
   "metadata": {},
   "outputs": [
    {
     "name": "stdout",
     "output_type": "stream",
     "text": [
      "pi = [0.00829576 0.00063145 0.0532119  0.00551278 0.01030265 0.23252127\n",
      " 0.1210525  0.28218544 0.05140835 0.23487788]\n",
      "x = [ 0.18672438 -0.8060988   0.2081677  -1.0280588  -0.09057209 -1.247128\n",
      " -1.1854856   1.2729331  -0.6668058   0.04472725]\n"
     ]
    }
   ],
   "source": [
    "print(f\"pi = {pi}\")\n",
    "print(f\"x = {x}\")"
   ]
  },
  {
   "cell_type": "code",
   "execution_count": 11,
   "id": "efae639d-adb8-4634-89a6-fb4bb4d1a007",
   "metadata": {},
   "outputs": [],
   "source": [
    "#z_rand = random.categorical(subkey, jnp.log(pi), shape = (N,))\n",
    "#z_rand = random.randint(subkey, (N,), 0, K)"
   ]
  },
  {
   "cell_type": "markdown",
   "id": "27a08477-3d80-4d7d-9796-56dbe1f9dadb",
   "metadata": {},
   "source": [
    "#### Sampling the marginalized posterior"
   ]
  },
  {
   "cell_type": "code",
   "execution_count": 12,
   "id": "dad4b0d6-5bb1-428b-8086-f6c7b0c2a02d",
   "metadata": {},
   "outputs": [
    {
     "name": "stdout",
     "output_type": "stream",
     "text": [
      "  MCMC sample 1000, posterior val = -2566.964111328125, a = 0.0\n",
      "  MCMC sample 2000, posterior val = -2132.70947265625, a = 0.0\n",
      "  MCMC sample 3000, posterior val = -2132.70947265625, a = 0.0\n",
      "  MCMC sample 4000, posterior val = -2132.70947265625, a = 0.0\n",
      "  MCMC sample 5000, posterior val = -2132.70947265625, a = 0.0\n",
      "  MCMC sample 6000, posterior val = -2132.70947265625, a = 0.0\n",
      "  MCMC sample 7000, posterior val = -2132.70947265625, a = 0.0\n",
      "  MCMC sample 8000, posterior val = -2132.70947265625, a = 0.0\n",
      "  MCMC sample 9000, posterior val = -2132.70947265625, a = 0.0\n",
      "27.372939825057983 sec\n",
      "x_samp = [-0.4849298   2.4636936  -2.0792112  -2.0686455  -0.6531744   1.488595\n",
      " -0.6822839  -1.2127833   1.2489777   0.04369068]\n",
      "x_true = [ 0.18672438 -0.8060988   0.2081677  -1.0280588  -0.09057209 -1.247128\n",
      " -1.1854856   1.2729331  -0.6668058   0.04472725]\n"
     ]
    },
    {
     "data": {
      "image/png": "[encoded data removed]",
      "text/plain": [
       "<Figure size 432x432 with 1 Axes>"
      ]
     },
     "metadata": {
      "needs_background": "light"
     },
     "output_type": "display_data"
    }
   ],
   "source": [
    "N_samples_x = 10000\n",
    "x0 = jnp.array(np.random.randn(K))\n",
    "B = 3\n",
    "\n",
    "params_x = {\"B\" : B, \"z\" : z, \"y\" : y, \"sigma\" : sigma, \"alpha\" : alpha}\n",
    "\n",
    "key, subkey = random.split(key)\n",
    "t0 = time.time()\n",
    "x_mean, x_r, x_samples = mcmc(subkey, proposal_x_marg, x0, N_samples_x, params_x, 1, 1)\n",
    "\n",
    "print(f\"{time.time()-t0} sec\")\n",
    "plt.plot(x_r); plt.title(\"Acceptance ratio\")\n",
    "print(f\"x_samp = {x_samples[N_samples_x-2]}\")\n",
    "print(f\"x_true = {x}\")"
   ]
  },
  {
   "cell_type": "markdown",
   "id": "994ce326-9964-498f-9eb0-b4d3f54beaf3",
   "metadata": {},
   "source": [
    "#### And the non-marginalized posterior"
   ]
  },
  {
   "cell_type": "code",
   "execution_count": 13,
   "id": "307a7113-06df-48fe-9831-0262217173a3",
   "metadata": {},
   "outputs": [
    {
     "name": "stdout",
     "output_type": "stream",
     "text": [
      "  MCMC sample 1000 , posterior val = 4217.203\n",
      "  MCMC sample 2000 , posterior val = 4214.2246\n",
      "  MCMC sample 3000 , posterior val = 4215.409\n",
      "  MCMC sample 4000 , posterior val = 4215.9243\n",
      "  MCMC sample 5000 , posterior val = 4217.595\n",
      "  MCMC sample 6000 , posterior val = 4215.233\n",
      "  MCMC sample 7000 , posterior val = 4212.5396\n",
      "  MCMC sample 8000 , posterior val = 4217.8413\n",
      "  MCMC sample 9000 , posterior val = 4219.2866\n",
      "3.7753212451934814 sec\n",
      "x_samp = [ 0.18890476  0.5445256   0.19866014 -1.0360394  -0.13163066 -1.2442439\n",
      " -1.1854148   1.272008   -0.6727288   0.04340672]\n",
      "x_true = [ 0.18672438 -0.8060988   0.2081677  -1.0280588  -0.09057209 -1.247128\n",
      " -1.1854856   1.2729331  -0.6668058   0.04472725]\n"
     ]
    },
    {
     "data": {
      "image/png": "[encoded data removed]",
      "text/plain": [
       "<Figure size 432x432 with 1 Axes>"
      ]
     },
     "metadata": {
      "needs_background": "light"
     },
     "output_type": "display_data"
    }
   ],
   "source": [
    "N_samples_x = 10000\n",
    "x0 = jnp.array(np.random.randn(K))\n",
    "B = 3\n",
    "\n",
    "params_x = {\"B\" : B, \"z\" : z, \"y\" : y, \"sigma\" : sigma, \"alpha\" : alpha}\n",
    "\n",
    "key, subkey = random.split(key)\n",
    "t0 = time.time()\n",
    "x_mean, x_r, x_samples = mcmc(subkey, proposal_x_batch, x0, N_samples_x, params_x, K, 1)\n",
    "\n",
    "print(f\"{time.time()-t0} sec\")\n",
    "plt.plot(x_r); plt.title(\"Acceptance ratio\")\n",
    "print(f\"x_samp = {x_samples[N_samples_x-2]}\")\n",
    "print(f\"x_true = {x}\")"
   ]
  },
  {
   "cell_type": "code",
   "execution_count": 14,
   "id": "22be2078-f372-44f2-a242-f432f2b73ade",
   "metadata": {},
   "outputs": [
    {
     "data": {
      "image/png": "[encoded data removed]",
      "text/plain": [
       "<Figure size 432x432 with 1 Axes>"
      ]
     },
     "metadata": {
      "needs_background": "light"
     },
     "output_type": "display_data"
    }
   ],
   "source": [
    "nbins=100\n",
    "counts, bins = np.histogram(x_samples[:,:], bins=nbins)\n",
    "_ = plt.hist(bins[:-1], bins, weights=counts)"
   ]
  },
  {
   "cell_type": "code",
   "execution_count": 15,
   "id": "17cfe76f-648a-4d67-b3ca-0e9edcef40e7",
   "metadata": {},
   "outputs": [
    {
     "data": {
      "image/png": "[encoded data removed]",
      "text/plain": [
       "<Figure size 432x432 with 1 Axes>"
      ]
     },
     "metadata": {
      "needs_background": "light"
     },
     "output_type": "display_data"
    }
   ],
   "source": [
    "nbins=100\n",
    "counts, bins = np.histogram(x, bins=nbins)\n",
    "_ = plt.hist(bins[:-1], bins, weights=counts)"
   ]
  },
  {
   "cell_type": "markdown",
   "id": "815b6fbd-f4b9-41a9-ac5b-5f137a620746",
   "metadata": {},
   "source": [
    "#### One $x_i$ at a time"
   ]
  },
  {
   "cell_type": "code",
   "execution_count": 16,
   "id": "41d4e4f8-38eb-441d-bacb-e89996b4cd31",
   "metadata": {},
   "outputs": [
    {
     "name": "stdout",
     "output_type": "stream",
     "text": [
      "  MCMC sample 1000, posterior val = -99031.421875, a = 0.7259221076965332\n",
      "  MCMC sample 2000, posterior val = -99031.6171875, a = 0.011461634188890457\n",
      "  MCMC sample 3000, posterior val = -99031.84375, a = 0.6558160185813904\n",
      "  MCMC sample 4000, posterior val = -99031.9765625, a = 0.5742517113685608\n",
      "  MCMC sample 5000, posterior val = -99031.578125, a = 0.041924916207790375\n",
      "  MCMC sample 6000, posterior val = -99031.4609375, a = 1.0\n",
      "  MCMC sample 7000, posterior val = -99031.5, a = 0.03558121249079704\n",
      "  MCMC sample 8000, posterior val = -99031.6640625, a = 0.00023419065109919757\n",
      "  MCMC sample 9000, posterior val = -99031.578125, a = 1.0\n",
      "  MCMC sample 10000, posterior val = -99031.546875, a = 0.0005887552397325635\n",
      "3.527191162109375 sec\n",
      "x_samp = [-0.02695777 -0.35848475  1.0462278   0.5506475   0.20208128  0.6483636\n",
      " -0.51367897  0.8306493  -0.19076464 -0.17589898]\n",
      "x_true = [ 0.18672438 -0.8060988   0.2081677  -1.0280588  -0.09057209 -1.247128\n",
      " -1.1854856   1.2729331  -0.6668058   0.04472725]\n"
     ]
    },
    {
     "data": {
      "image/png": "[encoded data removed]",
      "text/plain": [
       "<Figure size 432x432 with 1 Axes>"
      ]
     },
     "metadata": {
      "needs_background": "light"
     },
     "output_type": "display_data"
    }
   ],
   "source": [
    "N_samples_x = 10001\n",
    "B = 3\n",
    "\n",
    "idx = 1\n",
    "x0 = jnp.array(np.random.randn(K))\n",
    "\n",
    "params_x = {\"B\" : B, \"z\" : z, \"y\" : y, \"sigma\" : sigma, \"alpha\" : alpha, \"idx\": idx}\n",
    "\n",
    "key, subkey = random.split(key)\n",
    "t0 = time.time()\n",
    "x_mean, x_r, x_samples = mcmc(subkey, proposal_x_idx, x0, N_samples_x, params_x, 1, 1)\n",
    "\n",
    "print(f\"{time.time()-t0} sec\")\n",
    "plt.plot(x_r); plt.title(\"Acceptance ratio\")\n",
    "print(f\"x_samp = {x_samples[N_samples_x-2]}\")\n",
    "print(f\"x_true = {x}\")"
   ]
  },
  {
   "cell_type": "code",
   "execution_count": 17,
   "id": "94be8177-0aa9-44e0-83ab-575807a32bc4",
   "metadata": {},
   "outputs": [
    {
     "data": {
      "image/png": "[encoded data removed]",
      "text/plain": [
       "<Figure size 432x432 with 1 Axes>"
      ]
     },
     "metadata": {
      "needs_background": "light"
     },
     "output_type": "display_data"
    }
   ],
   "source": [
    "nbins=100\n",
    "counts, bins = np.histogram(x_samples[:,idx], bins=nbins)\n",
    "_ = plt.hist(bins[:-1], bins, weights=counts)"
   ]
  },
  {
   "cell_type": "code",
   "execution_count": 18,
   "id": "e5733f1f-dbb7-424f-ba91-920b8f4ad8b5",
   "metadata": {},
   "outputs": [
    {
     "data": {
      "text/plain": [
       "[<matplotlib.lines.Line2D at 0x7fd2f9f0ee50>]"
      ]
     },
     "execution_count": 18,
     "metadata": {},
     "output_type": "execute_result"
    },
    {
     "data": {
      "image/png": "[encoded data removed]",
      "text/plain": [
       "<Figure size 432x432 with 1 Axes>"
      ]
     },
     "metadata": {
      "needs_background": "light"
     },
     "output_type": "display_data"
    }
   ],
   "source": [
    "plt.plot(x_samples[:,idx],'.')"
   ]
  },
  {
   "cell_type": "markdown",
   "id": "e37199aa-3238-44ae-a8bb-158c5326aea1",
   "metadata": {},
   "source": [
    "### Sample z"
   ]
  },
  {
   "cell_type": "code",
   "execution_count": 1,
   "id": "5ee6d7c0-6e72-4a32-bdc4-4c7fe32738be",
   "metadata": {},
   "outputs": [
    {
     "ename": "NameError",
     "evalue": "name 'jnp' is not defined",
     "output_type": "error",
     "traceback": [
      "\u001b[0;31m---------------------------------------------------------------------------\u001b[0m",
      "\u001b[0;31mNameError\u001b[0m                                 Traceback (most recent call last)",
      "Input \u001b[0;32mIn [1]\u001b[0m, in \u001b[0;36m<module>\u001b[0;34m\u001b[0m\n\u001b[1;32m      1\u001b[0m N_samples_z \u001b[38;5;241m=\u001b[39m \u001b[38;5;241m10000\u001b[39m\n\u001b[0;32m----> 2\u001b[0m z0 \u001b[38;5;241m=\u001b[39m \u001b[43mjnp\u001b[49m\u001b[38;5;241m.\u001b[39marray(np\u001b[38;5;241m.\u001b[39mrandom\u001b[38;5;241m.\u001b[39mrandint(\u001b[38;5;241m0\u001b[39m, K, (N,)))\n\u001b[1;32m      3\u001b[0m \u001b[38;5;66;03m#z0 = z.at[idx].set(np.random.randint(0,K,()))\u001b[39;00m\n\u001b[1;32m      5\u001b[0m B \u001b[38;5;241m=\u001b[39m \u001b[38;5;241m2\u001b[39m\n",
      "\u001b[0;31mNameError\u001b[0m: name 'jnp' is not defined"
     ]
    }
   ],
   "source": [
    "N_samples_z = 10000\n",
    "z0 = jnp.array(np.random.randint(0, K, (N,)))\n",
    "#z0 = z.at[idx].set(np.random.randint(0,K,()))\n",
    "\n",
    "B = 2\n",
    "idx = 10\n",
    "#params_z = {\"x\" : x, \"y\" : y, \"sigma\" : sigma, \"alpha\" : alpha, \"K\" : K, 'idx' : idx}\n",
    "params_z = {\"x\" : x, \"y\" : y, \"sigma\" : sigma, \"alpha\" : alpha, \"K\" : K}\n",
    "\n",
    "key, subkey = random.split(key)\n",
    "\n",
    "t0 = time.time()\n",
    "#z_mean, z_r, z_samples = mcmc(subkey, proposal_z_idx, z0, N_samples_z, params_z, 1, 1)\n",
    "z_mean, z_r, z_samples = mcmc(subkey, proposal_z_batch_correct, z0, N_samples_z, params_z, 1, 1)\n",
    "\n",
    "z_rec = z_samples[N_samples_z-2]\n",
    "print(f\"{time.time()-t0} sec\")\n",
    "#plt.plot(z_r); plt.title(\"Acceptance ratio\")"
   ]
  },
  {
   "cell_type": "code",
   "execution_count": 20,
   "id": "a83be4ee-2c9b-4bdb-b081-ddfbef959899",
   "metadata": {},
   "outputs": [
    {
     "data": {
      "text/plain": [
       "DeviceArray(228, dtype=int32)"
      ]
     },
     "execution_count": 20,
     "metadata": {},
     "output_type": "execute_result"
    }
   ],
   "source": [
    "jnp.sum(jnp.abs(z_rec-z))"
   ]
  },
  {
   "cell_type": "code",
   "execution_count": 21,
   "id": "e764bd3b-6130-4dae-9c23-76617a7bc02e",
   "metadata": {},
   "outputs": [
    {
     "data": {
      "text/plain": [
       "DeviceArray(3326, dtype=int32)"
      ]
     },
     "execution_count": 21,
     "metadata": {},
     "output_type": "execute_result"
    }
   ],
   "source": [
    "jnp.sum(jnp.abs(z0-z))"
   ]
  },
  {
   "cell_type": "code",
   "execution_count": 22,
   "id": "e39f2357-ebae-48f0-9346-3fa76bddf355",
   "metadata": {},
   "outputs": [
    {
     "name": "stdout",
     "output_type": "stream",
     "text": [
      "3326\n",
      "228\n"
     ]
    }
   ],
   "source": [
    "print(jnp.sum(jnp.abs(z0-z)))\n",
    "print(jnp.sum(jnp.abs(z_samples[N_samples_z-2,:]-z)))"
   ]
  },
  {
   "cell_type": "code",
   "execution_count": 23,
   "id": "e15b4da7-612a-4772-8f91-19d8301dbfeb",
   "metadata": {},
   "outputs": [
    {
     "data": {
      "image/png": "[encoded data removed]",
      "text/plain": [
       "<Figure size 432x432 with 1 Axes>"
      ]
     },
     "metadata": {
      "needs_background": "light"
     },
     "output_type": "display_data"
    }
   ],
   "source": [
    "nbins=100\n",
    "counts, bins = np.histogram(z_samples[:,:], bins=nbins)\n",
    "_ = plt.hist(bins[:-1], bins, weights=counts)"
   ]
  },
  {
   "cell_type": "code",
   "execution_count": 24,
   "id": "be46a4c2-b3ab-4218-afd5-ffc84c8fc8c8",
   "metadata": {},
   "outputs": [
    {
     "data": {
      "image/png": "[encoded data removed]",
      "text/plain": [
       "<Figure size 432x432 with 1 Axes>"
      ]
     },
     "metadata": {
      "needs_background": "light"
     },
     "output_type": "display_data"
    }
   ],
   "source": [
    "nbins=100\n",
    "counts, bins = np.histogram(z, bins=nbins)\n",
    "_ = plt.hist(bins[:-1], bins, weights=counts)"
   ]
  },
  {
   "cell_type": "markdown",
   "id": "1e8d77bb-5a2a-46d3-a9b2-899518ffa13e",
   "metadata": {},
   "source": [
    "### Sample $x$ and $z$"
   ]
  },
  {
   "cell_type": "code",
   "execution_count": 76,
   "id": "252897ed-d685-4ada-a9e2-4fd3ce128ee4",
   "metadata": {},
   "outputs": [
    {
     "name": "stdout",
     "output_type": "stream",
     "text": [
      "Iter = 0\n",
      "  Sampling x\n",
      "  MCMC sample 1000 , posterior val = -56263.37\n",
      "  MCMC sample 2000 , posterior val = -56259.21\n",
      "  MCMC sample 3000 , posterior val = -56260.21\n",
      "  MCMC sample 4000 , posterior val = -56259.977\n",
      "  MCMC sample 5000 , posterior val = -56259.367\n",
      "  MCMC sample 6000 , posterior val = -56259.465\n",
      "  MCMC sample 7000 , posterior val = -56261.273\n",
      "  MCMC sample 8000 , posterior val = -56261.043\n",
      "  MCMC sample 9000 , posterior val = -56261.996\n",
      "  MCMC sample 10000 , posterior val = -56260.902\n",
      "  Sampling z\n",
      "  MCMC sample 1000, posterior val = -52205.703125, a = 0.018315639346837997\n",
      "Iter = 1\n",
      "  Sampling x\n",
      "  MCMC sample 1000 , posterior val = 4548.4814\n",
      "  MCMC sample 2000 , posterior val = 4549.7812\n",
      "  MCMC sample 3000 , posterior val = 4549.722\n",
      "  MCMC sample 4000 , posterior val = 4550.146\n",
      "  MCMC sample 5000 , posterior val = 4549.327\n",
      "  MCMC sample 6000 , posterior val = 4549.4414\n",
      "  MCMC sample 7000 , posterior val = 4550.16\n",
      "  MCMC sample 8000 , posterior val = 4548.9336\n",
      "  MCMC sample 9000 , posterior val = 4548.5425\n",
      "  MCMC sample 10000 , posterior val = 4549.724\n",
      "  Sampling z\n",
      "  MCMC sample 1000, posterior val = 4549.72412109375, a = 1.0\n",
      "Iter = 2\n",
      "  Sampling x\n",
      "  MCMC sample 1000 , posterior val = 4549.051\n",
      "  MCMC sample 2000 , posterior val = 4550.568\n",
      "  MCMC sample 3000 , posterior val = 4550.46\n",
      "  MCMC sample 4000 , posterior val = 4549.5986\n",
      "  MCMC sample 5000 , posterior val = 4548.205\n",
      "  MCMC sample 6000 , posterior val = 4546.9917\n",
      "  MCMC sample 7000 , posterior val = 4548.9805\n",
      "  MCMC sample 8000 , posterior val = 4550.5625\n",
      "  MCMC sample 9000 , posterior val = 4549.6353\n",
      "  MCMC sample 10000 , posterior val = 4548.9287\n",
      "  Sampling z\n",
      "  MCMC sample 1000, posterior val = 4548.92822265625, a = 1.0\n",
      "Iter = 3\n",
      "  Sampling x\n",
      "  MCMC sample 1000 , posterior val = 4550.141\n",
      "  MCMC sample 2000 , posterior val = 4548.724\n",
      "  MCMC sample 3000 , posterior val = 4550.0234\n",
      "  MCMC sample 4000 , posterior val = 4549.779\n",
      "  MCMC sample 5000 , posterior val = 4550.0547\n",
      "  MCMC sample 6000 , posterior val = 4549.5967\n",
      "  MCMC sample 7000 , posterior val = 4548.164\n",
      "  MCMC sample 8000 , posterior val = 4546.5703\n",
      "  MCMC sample 9000 , posterior val = 4548.841\n",
      "  MCMC sample 10000 , posterior val = 4547.4004\n",
      "  Sampling z\n",
      "  MCMC sample 1000, posterior val = 4547.939453125, a = 1.0\n",
      "Iter = 4\n",
      "  Sampling x\n",
      "  MCMC sample 1000 , posterior val = 4548.794\n",
      "  MCMC sample 2000 , posterior val = 4547.3037\n",
      "  MCMC sample 3000 , posterior val = 4550.3003\n",
      "  MCMC sample 4000 , posterior val = 4550.41\n",
      "  MCMC sample 5000 , posterior val = 4548.6167\n",
      "  MCMC sample 6000 , posterior val = 4550.0225\n",
      "  MCMC sample 7000 , posterior val = 4549.669\n",
      "  MCMC sample 8000 , posterior val = 4550.296\n",
      "  MCMC sample 9000 , posterior val = 4549.8594\n",
      "  MCMC sample 10000 , posterior val = 4548.159\n",
      "  Sampling z\n",
      "  MCMC sample 1000, posterior val = 4548.15869140625, a = 1.0\n",
      "Iter = 5\n",
      "  Sampling x\n",
      "  MCMC sample 1000 , posterior val = 4548.659\n",
      "  MCMC sample 2000 , posterior val = 4549.2754\n",
      "  MCMC sample 3000 , posterior val = 4550.3394\n",
      "  MCMC sample 4000 , posterior val = 4549.5273\n",
      "  MCMC sample 5000 , posterior val = 4550.169\n",
      "  MCMC sample 6000 , posterior val = 4550.5254\n",
      "  MCMC sample 7000 , posterior val = 4549.04\n",
      "  MCMC sample 8000 , posterior val = 4549.643\n",
      "  MCMC sample 9000 , posterior val = 4548.994\n",
      "  MCMC sample 10000 , posterior val = 4549.9062\n",
      "  Sampling z\n",
      "  MCMC sample 1000, posterior val = 4928.4853515625, a = 1.0\n",
      "Iter = 6\n",
      "  Sampling x\n",
      "  MCMC sample 1000 , posterior val = 5061.9023\n",
      "  MCMC sample 2000 , posterior val = 5059.706\n",
      "  MCMC sample 3000 , posterior val = 5061.7783\n",
      "  MCMC sample 4000 , posterior val = 5062.1084\n",
      "  MCMC sample 5000 , posterior val = 5060.3413\n",
      "  MCMC sample 6000 , posterior val = 5061.4214\n",
      "  MCMC sample 7000 , posterior val = 5061.5107\n",
      "  MCMC sample 8000 , posterior val = 5061.2744\n",
      "  MCMC sample 9000 , posterior val = 5062.0576\n",
      "  MCMC sample 10000 , posterior val = 5061.329\n",
      "  Sampling z\n",
      "  MCMC sample 1000, posterior val = 5061.3291015625, a = 1.0\n",
      "Iter = 7\n",
      "  Sampling x\n",
      "  MCMC sample 1000 , posterior val = 5061.786\n",
      "  MCMC sample 2000 , posterior val = 5061.1714\n",
      "  MCMC sample 3000 , posterior val = 5061.3535\n",
      "  MCMC sample 4000 , posterior val = 5061.374\n",
      "  MCMC sample 5000 , posterior val = 5061.4336\n",
      "  MCMC sample 6000 , posterior val = 5059.2334\n",
      "  MCMC sample 7000 , posterior val = 5061.509\n",
      "  MCMC sample 8000 , posterior val = 5060.298\n",
      "  MCMC sample 9000 , posterior val = 5060.1846\n",
      "  MCMC sample 10000 , posterior val = 5059.6772\n",
      "  Sampling z\n",
      "  MCMC sample 1000, posterior val = 5059.67724609375, a = 1.0\n",
      "Iter = 8\n",
      "  Sampling x\n",
      "  MCMC sample 1000 , posterior val = 5060.1064\n",
      "  MCMC sample 2000 , posterior val = 5061.2666\n",
      "  MCMC sample 3000 , posterior val = 5061.081\n",
      "  MCMC sample 4000 , posterior val = 5059.213\n",
      "  MCMC sample 5000 , posterior val = 5061.386\n",
      "  MCMC sample 6000 , posterior val = 5059.6343\n",
      "  MCMC sample 7000 , posterior val = 5059.4756\n",
      "  MCMC sample 8000 , posterior val = 5058.7\n",
      "  MCMC sample 9000 , posterior val = 5061.622\n",
      "  MCMC sample 10000 , posterior val = 5061.1396\n",
      "  Sampling z\n",
      "  MCMC sample 1000, posterior val = 5061.13916015625, a = 1.0\n",
      "Iter = 9\n",
      "  Sampling x\n",
      "  MCMC sample 1000 , posterior val = 5061.913\n",
      "  MCMC sample 2000 , posterior val = 5060.169\n",
      "  MCMC sample 3000 , posterior val = 5056.6924\n",
      "  MCMC sample 4000 , posterior val = 5061.1006\n",
      "  MCMC sample 5000 , posterior val = 5060.9834\n",
      "  MCMC sample 6000 , posterior val = 5061.088\n",
      "  MCMC sample 7000 , posterior val = 5060.042\n",
      "  MCMC sample 8000 , posterior val = 5061.775\n",
      "  MCMC sample 9000 , posterior val = 5061.7227\n",
      "  MCMC sample 10000 , posterior val = 5061.5986\n",
      "  Sampling z\n",
      "  MCMC sample 1000, posterior val = 5061.59814453125, a = 1.0\n",
      "64.76602697372437 sec\n",
      "x_samp = [ 1.3628206   0.18374133 -0.22451091]\n",
      "x_true = [ 0.18469754 -0.22319399  1.3663408 ]\n"
     ]
    }
   ],
   "source": [
    "N_iters = 10\n",
    "N_samples_z = 1001 #300\n",
    "N_samples_x = 10001\n",
    "B = 3\n",
    "\n",
    "sample_x = True\n",
    "sample_z = True\n",
    "search_z = False\n",
    "\n",
    "zi = jnp.array(np.random.randint(0, K, (N,)))\n",
    "xi = jnp.array(np.random.randn(K))\n",
    "\n",
    "#xi = x\n",
    "#zi = z\n",
    "\n",
    "t0 = time.time()\n",
    "for iter_i in jnp.arange(N_iters):\n",
    "    print(f\"Iter = {iter_i}\")\n",
    "\n",
    "    if sample_x:\n",
    "        print(\"  Sampling x\")\n",
    "\n",
    "        params_x = {\"B\" : B, \"z\" : zi, \"y\" : y, \"sigma\" : sigma, \"alpha\" : alpha}\n",
    "\n",
    "        key, subkey = random.split(key)\n",
    "    \n",
    "        #t0 = time.time()\n",
    "        x_mean, x_r, x_samples = mcmc(subkey, proposal_x_batch, xi, N_samples_x, params_x, K, 1) \n",
    "        #x_mean, x_r, x_samples = mcmc(subkey, proposal_x_marg, xi, N_samples_x, params_x, 1, 1) \n",
    "\n",
    "        xi = x_samples[N_samples_x - 2]\n",
    "    \n",
    "    if search_z:\n",
    "        print(\"  Searching z\")\n",
    "        for idx_z in tqdm(jnp.arange(N)):\n",
    "            logPi_max = -jnp.inf\n",
    "\n",
    "            for ki in jnp.arange(K):\n",
    "                zi_k = zi.at[idx_z].set(ki)\n",
    "                logPi_k = logPi(xi, zi_k, y, sigma, alpha)\n",
    "                if logPi_k > logPi_max:\n",
    "                    zi = zi_k\n",
    "                    logPi_max = logPi_k\n",
    "            \n",
    "    if sample_z:\n",
    "        print(\"  Sampling z\")\n",
    "        #for idx_z in tqdm(jnp.arange(N)):\n",
    "            \n",
    "        #params_z = {\"x\" : xi, \"y\" : y, \"sigma\" : sigma, \"alpha\" : alpha, \"K\" : K, 'idx' : idx_z}\n",
    "        params_z = {\"x\" : xi, \"y\" : y, \"sigma\" : sigma, \"alpha\" : alpha, \"K\" : K}\n",
    "\n",
    "        key, subkey = random.split(key)\n",
    "\n",
    "        #z_mean, z_r, z_samples = mcmc(subkey, proposal_z_idx, zi, N_samples_z, params_z, 1, 1)\n",
    "        #z_mean, z_r, z_samples = mcmc(subkey, proposal_z_batch, zi, N_samples_z, params_z, N, 1)\n",
    "        z_mean, z_r, z_samples = mcmc(subkey, proposal_z_batch_correct, zi, N_samples_z, params_z, 1, 1)\n",
    "\n",
    "        zi = z_samples[N_samples_z - 2]\n",
    "            \n",
    "print(f\"{time.time()-t0} sec\")\n",
    "print(f\"x_samp = {xi}\")\n",
    "print(f\"x_true = {x}\")"
   ]
  },
  {
   "cell_type": "code",
   "execution_count": 77,
   "id": "d160ee3b-0c25-4d70-ad50-0bdc5191c695",
   "metadata": {},
   "outputs": [
    {
     "name": "stdout",
     "output_type": "stream",
     "text": [
      "504\n",
      "43\n",
      "453\n"
     ]
    },
    {
     "data": {
      "image/png": "[encoded data removed]",
      "text/plain": [
       "<Figure size 432x432 with 1 Axes>"
      ]
     },
     "metadata": {
      "needs_background": "light"
     },
     "output_type": "display_data"
    }
   ],
   "source": [
    "plt.plot(y, '.')\n",
    "plt.plot(xi[zi], '.')\n",
    "\n",
    "for k in jnp.arange(K):\n",
    "    print(jnp.sum(zi==k))"
   ]
  },
  {
   "cell_type": "code",
   "execution_count": 78,
   "id": "0d1a4644-c15d-47a5-8cb3-71dadc8bde56",
   "metadata": {},
   "outputs": [
    {
     "name": "stdout",
     "output_type": "stream",
     "text": [
      "5062.181\n",
      "5061.598\n"
     ]
    }
   ],
   "source": [
    "print(logPi(x, z, y, sigma, alpha))\n",
    "print(logPi(xi, zi, y, sigma, alpha))"
   ]
  },
  {
   "cell_type": "code",
   "execution_count": 79,
   "id": "db9fa846-8279-44b2-bac1-09b7af1da1cd",
   "metadata": {},
   "outputs": [
    {
     "data": {
      "text/plain": [
       "DeviceArray(0., dtype=float32)"
      ]
     },
     "execution_count": 79,
     "metadata": {},
     "output_type": "execute_result"
    }
   ],
   "source": [
    "z1 = z.at[0].set(1)\n",
    "logPiZ0 = logPi(x, z, y, sigma, alpha)\n",
    "logPiZ1 = logPi(x, z1, y, sigma, alpha)\n",
    "r = jnp.exp(logPiZ1 - logPiZ0)\n",
    "r"
   ]
  },
  {
   "cell_type": "code",
   "execution_count": 80,
   "id": "e47b801e-2fd8-496a-9dbc-ff57302cc30c",
   "metadata": {},
   "outputs": [
    {
     "name": "stdout",
     "output_type": "stream",
     "text": [
      "43\n",
      "453\n",
      "504\n"
     ]
    },
    {
     "data": {
      "image/png": "[encoded data removed]",
      "text/plain": [
       "<Figure size 432x432 with 1 Axes>"
      ]
     },
     "metadata": {
      "needs_background": "light"
     },
     "output_type": "display_data"
    }
   ],
   "source": [
    "plt.plot(y, '.')\n",
    "plt.plot(x[z], '.')\n",
    "\n",
    "for k in jnp.arange(K):\n",
    "    print(jnp.sum(z==k))"
   ]
  },
  {
   "cell_type": "code",
   "execution_count": 81,
   "id": "5d7a3cba-1bf6-4697-aa5d-91f0351996ad",
   "metadata": {},
   "outputs": [
    {
     "name": "stdout",
     "output_type": "stream",
     "text": [
      "[0.04362263 0.42586297 0.5305144 ]\n",
      "[ 0.18469754 -0.22319399  1.3663408 ]\n",
      "[ 1.3628206   0.18374133 -0.22451091]\n"
     ]
    }
   ],
   "source": [
    "print(pi)\n",
    "print(x)\n",
    "print(xi)"
   ]
  },
  {
   "cell_type": "code",
   "execution_count": 61,
   "id": "a7e07a0b-da25-419f-ab35-e17ee44f0f4e",
   "metadata": {},
   "outputs": [],
   "source": [
    "# Loss functions roughly equivalent with the the estimation problem to see what's going on\n",
    "def loss_fun(x, z, y):\n",
    "    return (x[z] - y)**2 * pi[z]\n",
    "\n",
    "def loss_fun_vmap(x,z,y):\n",
    "    n_k = calc_nk_jit(z)\n",
    "    logPZalpha = jnp.sum(gammaln(n_k + alpha))\n",
    "    print(f\"logPZalpha = {-logPZalpha}\")\n",
    "    return jnp.sum(jax.vmap(loss_fun, in_axes = (None, 0, 0))(x,z,y)) + jnp.sum(x**2) - logPZalpha"
   ]
  },
  {
   "cell_type": "code",
   "execution_count": 62,
   "id": "5b8a1e13-f990-4fa1-a8c7-e22f1fe790c0",
   "metadata": {},
   "outputs": [],
   "source": [
    "n_k = calc_nk_jit(z)\n",
    "logPZalpha =  jnp.sum(gammaln(n_k + alpha))"
   ]
  },
  {
   "cell_type": "code",
   "execution_count": 63,
   "id": "94fa586e-4f87-4615-9f84-eeb3a853aaa2",
   "metadata": {},
   "outputs": [
    {
     "name": "stdout",
     "output_type": "stream",
     "text": [
      "logPZalpha = -3625.775634765625\n",
      "-3484.5742\n",
      "logPZalpha = -4603.2333984375\n",
      "-4597.9097\n",
      "logPZalpha = -4226.7861328125\n",
      "-4218.4053\n"
     ]
    }
   ],
   "source": [
    "print(loss_fun_vmap(x, jnp.array(np.random.randint(0, K, (N,))), y))\n",
    "print(loss_fun_vmap(xi, zi, y))\n",
    "print(loss_fun_vmap(x, z, y))"
   ]
  },
  {
   "cell_type": "markdown",
   "id": "569a330b-9287-4acd-9f08-e3c008125efb",
   "metadata": {},
   "source": [
    "### Some functions used for debugging - ignore"
   ]
  },
  {
   "cell_type": "code",
   "execution_count": 34,
   "id": "0f633a92-f7cf-4bc9-96c7-06553e3af81d",
   "metadata": {},
   "outputs": [
    {
     "name": "stdout",
     "output_type": "stream",
     "text": [
      "4\n",
      "0.0\n"
     ]
    }
   ],
   "source": [
    "# Quick test of a proposal function\n",
    "key, subkey = random.split(key)\n",
    "idx = 1\n",
    "z1, rz, _, _ = proposal_z_idx(subkey, z, -1, x, y, sigma, alpha, K, idx)\n",
    "print(z1[idx])\n",
    "print(rz)"
   ]
  },
  {
   "cell_type": "code",
   "execution_count": 35,
   "id": "6890cd11-d5ee-40d4-baf1-200028668a8c",
   "metadata": {},
   "outputs": [],
   "source": [
    "key, subkey = random.split(key)\n",
    "#z0 = random.randint(subkey, z.shape, 0, K)\n",
    "z0 = jnp.ones(z.shape)\n",
    "z0 = z\n",
    "\n",
    "n_ik_z = calc_nik_jit(z0)\n",
    "n_k = calc_nk_jit(z0)\n",
    "Nk = jnp.sum(n_k)\n",
    "Ak = jnp.sum(alpha)"
   ]
  },
  {
   "cell_type": "code",
   "execution_count": 36,
   "id": "0b2fa838-7c62-4dce-a60a-6c67aa2ec29e",
   "metadata": {},
   "outputs": [
    {
     "name": "stdout",
     "output_type": "stream",
     "text": [
      "[[0.005666   0.00069583 0.05735587 ... 0.28200796 0.04542744 0.24821073]\n",
      " [0.005666   0.00069583 0.05735587 ... 0.28200796 0.04542744 0.24920477]\n",
      " [0.005666   0.00069583 0.05735587 ... 0.28200796 0.04542744 0.24821073]\n",
      " ...\n",
      " [0.005666   0.00069583 0.05735587 ... 0.28200796 0.04542744 0.24920477]\n",
      " [0.005666   0.00069583 0.05735587 ... 0.28200796 0.04542744 0.24821073]\n",
      " [0.005666   0.00069583 0.05735587 ... 0.28101394 0.04542744 0.24920477]]\n"
     ]
    },
    {
     "data": {
      "text/plain": [
       "<matplotlib.colorbar.Colorbar at 0x7fd2ea75d850>"
      ]
     },
     "execution_count": 36,
     "metadata": {},
     "output_type": "execute_result"
    },
    {
     "data": {
      "image/png": "[encoded data removed]",
      "text/plain": [
       "<Figure size 432x432 with 2 Axes>"
      ]
     },
     "metadata": {
      "needs_background": "light"
     },
     "output_type": "display_data"
    }
   ],
   "source": [
    "probs_d = []\n",
    "probs_dn = []\n",
    "for k in jnp.arange(K):\n",
    "    probs_d.append((n_ik_z[:, k] + alpha[k])/(Nk+Ak-1))\n",
    "    probs_dn.append((n_ik_z[:, k])/(Nk-1))\n",
    "\n",
    "probs_d = jnp.array(probs_d).transpose()   \n",
    "probs_dn = jnp.array(probs_dn).transpose()   \n",
    "\n",
    "print(probs_d)\n",
    "#print(jnp.sum(probs_d, axis=1))\n",
    "\n",
    "plt.imshow(jnp.repeat(probs_d, int(N/K), axis=1)); plt.colorbar()"
   ]
  },
  {
   "cell_type": "code",
   "execution_count": 37,
   "id": "ae7ba8b7-ab85-4af2-b161-6e5c4d281220",
   "metadata": {},
   "outputs": [],
   "source": [
    "myf = lambda x0, x1 : logPi(jnp.array([x0, x1]), z, y, sigma, alpha)\n",
    "xx = jnp.linspace(-3,3,1000)    \n",
    "yy = jnp.linspace(-3,3,1000)"
   ]
  },
  {
   "cell_type": "code",
   "execution_count": 38,
   "id": "c44cbf01-bdbb-4bcf-8e44-2f538dfa20af",
   "metadata": {},
   "outputs": [],
   "source": [
    "myf_x = jax.jit(lambda x : jax.vmap(myf, in_axes = (None, 0))(x, yy))\n",
    "myf_xy = jax.vmap(myf_x)(xx)"
   ]
  },
  {
   "cell_type": "code",
   "execution_count": 39,
   "id": "ca3c27c4-1f80-4532-a339-0d91e3f01244",
   "metadata": {},
   "outputs": [
    {
     "data": {
      "text/plain": [
       "<matplotlib.colorbar.Colorbar at 0x7fd2fa2516a0>"
      ]
     },
     "execution_count": 39,
     "metadata": {},
     "output_type": "execute_result"
    },
    {
     "data": {
      "image/png": "[encoded data removed]",
      "text/plain": [
       "<Figure size 432x432 with 2 Axes>"
      ]
     },
     "metadata": {
      "needs_background": "light"
     },
     "output_type": "display_data"
    }
   ],
   "source": [
    "plt.imshow((myf_xy)); plt.colorbar()"
   ]
  },
  {
   "cell_type": "code",
   "execution_count": 40,
   "id": "d93b21d7-244b-4e97-93e1-3910f6c27632",
   "metadata": {},
   "outputs": [
    {
     "name": "stdout",
     "output_type": "stream",
     "text": [
      "01 -148657.67\n",
      "00 -103394.42\n",
      "11 -149146.5\n",
      "10 -103883.27\n"
     ]
    }
   ],
   "source": [
    "print(\"01\", myf(x[0], x[1]))\n",
    "print(\"00\", myf(x[0], x[0]))\n",
    "print(\"11\", myf(x[1], x[1]))\n",
    "print(\"10\", myf(x[1], x[0]))"
   ]
  },
  {
   "cell_type": "code",
   "execution_count": 41,
   "id": "52e500a5-dcb2-4a2d-bb72-9fa58cfff1a6",
   "metadata": {},
   "outputs": [
    {
     "data": {
      "text/plain": [
       "DeviceArray(-148657.67, dtype=float32)"
      ]
     },
     "execution_count": 41,
     "metadata": {},
     "output_type": "execute_result"
    }
   ],
   "source": [
    "myf(x[0],x[1])"
   ]
  },
  {
   "cell_type": "code",
   "execution_count": 42,
   "id": "2cfdcec9-5874-491c-b5ae-48b3a96c2979",
   "metadata": {},
   "outputs": [
    {
     "data": {
      "text/plain": [
       "DeviceArray(-96284.305, dtype=float32)"
      ]
     },
     "execution_count": 42,
     "metadata": {},
     "output_type": "execute_result"
    }
   ],
   "source": [
    "jnp.max(myf_xy)"
   ]
  }
 ],
 "metadata": {
  "kernelspec": {
   "display_name": "Python 3 (ipykernel)",
   "language": "python",
   "name": "python3"
  },
  "language_info": {
   "codemirror_mode": {
    "name": "ipython",
    "version": 3
   },
   "file_extension": ".py",
   "mimetype": "text/x-python",
   "name": "python",
   "nbconvert_exporter": "python",
   "pygments_lexer": "ipython3",
   "version": "3.10.2"
  }
 },
 "nbformat": 4,
 "nbformat_minor": 5
}
