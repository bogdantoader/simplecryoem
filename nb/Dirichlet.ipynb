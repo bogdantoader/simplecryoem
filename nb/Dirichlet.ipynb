{
 "cells": [
  {
   "cell_type": "code",
   "execution_count": 1,
   "id": "9c792c4c-80c8-4473-b3b4-d673e781b1aa",
   "metadata": {},
   "outputs": [],
   "source": [
    "%load_ext autoreload\n",
    "%autoreload 2\n",
    "import site\n",
    "import sys\n",
    "import time\n",
    "import pickle\n",
    "site.addsitedir('..')\n",
    "from jax.config import config\n",
    "\n",
    "#config.update(\"jax_enable_x64\", True)"
   ]
  },
  {
   "cell_type": "code",
   "execution_count": 2,
   "id": "e979d57e-f612-4760-b769-f22eb16ddc15",
   "metadata": {},
   "outputs": [
    {
     "name": "stderr",
     "output_type": "stream",
     "text": [
      "WARNING:absl:No GPU/TPU found, falling back to CPU. (Set TF_CPP_MIN_LOG_LEVEL=0 and rerun for more info.)\n"
     ]
    }
   ],
   "source": [
    "import numpy as np\n",
    "import jax.numpy as jnp\n",
    "from  matplotlib import pyplot as plt\n",
    "from src.utils import *\n",
    "from src.projection import *\n",
    "from src.interpolate import *\n",
    "from src.jaxops import *\n",
    "from src.fsc import *\n",
    "from src.algorithm import *\n",
    "from src.ab_initio import ab_initio, ab_initio_mcmc\n",
    "from src.residual import get_volume_residual\n",
    "import jax\n",
    "\n",
    "from jax.scipy.special import gammaln\n",
    "\n",
    "import mrcfile\n",
    "\n",
    "plt.rcParams[\"figure.figsize\"]=6,6"
   ]
  },
  {
   "cell_type": "code",
   "execution_count": 3,
   "id": "dd7e2a3f-b064-44d8-bb9d-d6d86310fd6e",
   "metadata": {},
   "outputs": [],
   "source": [
    "key = random.PRNGKey(int(jnp.floor(np.random.rand()*1000)))\n"
   ]
  },
  {
   "cell_type": "code",
   "execution_count": 4,
   "id": "75556229-5c63-4d6f-a277-248980c4e5ac",
   "metadata": {},
   "outputs": [],
   "source": [
    "K = 2\n",
    "N = 100\n",
    "sigma = 0.01\n",
    "\n",
    "alpha = 0.5 * jnp.ones(K,)"
   ]
  },
  {
   "cell_type": "code",
   "execution_count": 5,
   "id": "69825358-81e0-4d8c-8c1b-34f7a309f3a5",
   "metadata": {},
   "outputs": [
    {
     "name": "stdout",
     "output_type": "stream",
     "text": [
      "[0.12797161 0.87202839]\n",
      "1.0\n"
     ]
    }
   ],
   "source": [
    "key, subkey = random.split(key)\n",
    "pi = random.dirichlet(subkey, alpha)\n",
    "print(pi)\n",
    "print(jnp.sum(pi))"
   ]
  },
  {
   "cell_type": "code",
   "execution_count": 6,
   "id": "bfb7ad9e-5cb9-46a7-858e-02dc958ad95f",
   "metadata": {},
   "outputs": [],
   "source": [
    "#pi = jnp.array([0.68387323, 0.31612677])"
   ]
  },
  {
   "cell_type": "code",
   "execution_count": 8,
   "id": "6b682411-9fe1-49d8-b4e9-6b84e5e22d5c",
   "metadata": {},
   "outputs": [
    {
     "name": "stdout",
     "output_type": "stream",
     "text": [
      "0.12\n",
      "0.88\n"
     ]
    }
   ],
   "source": [
    "key, subkey = random.split(key)\n",
    "z = random.categorical(subkey, jnp.log(pi), shape = (N,))\n",
    "print(jnp.sum(z==0)/N)\n",
    "print(jnp.sum(z==1)/N)"
   ]
  },
  {
   "cell_type": "code",
   "execution_count": 9,
   "id": "5f097f88-2bdc-431c-a089-efc61740a580",
   "metadata": {},
   "outputs": [
    {
     "data": {
      "text/plain": [
       "DeviceArray([1, 1, 1, 1, 1, 1, 1, 1, 1, 1, 1, 0, 0, 1, 1, 1, 1, 1, 1, 1,\n",
       "             1, 1, 1, 1, 1, 0, 1, 1, 1, 1, 1, 1, 1, 1, 1, 1, 1, 1, 1, 1,\n",
       "             1, 1, 1, 1, 1, 1, 0, 1, 1, 0, 0, 1, 1, 1, 1, 0, 1, 1, 1, 1,\n",
       "             1, 0, 1, 1, 1, 1, 1, 1, 1, 0, 1, 1, 1, 1, 1, 1, 1, 1, 1, 1,\n",
       "             1, 1, 1, 1, 0, 1, 1, 1, 1, 1, 1, 0, 0, 1, 1, 1, 1, 1, 1, 1],            dtype=int64)"
      ]
     },
     "execution_count": 9,
     "metadata": {},
     "output_type": "execute_result"
    }
   ],
   "source": [
    "z"
   ]
  },
  {
   "cell_type": "code",
   "execution_count": 10,
   "id": "7782e1e2-15bc-4db8-807d-afd08d2592b8",
   "metadata": {},
   "outputs": [
    {
     "name": "stdout",
     "output_type": "stream",
     "text": [
      "[ 0.67011936 -1.74377578]\n"
     ]
    }
   ],
   "source": [
    "key, subkey = random.split(key)\n",
    "x = random.normal(subkey, shape = (K,))\n",
    "print(x)\n",
    "#print(y.shape)"
   ]
  },
  {
   "cell_type": "code",
   "execution_count": 11,
   "id": "4200539f-cb45-4eea-b7b2-7671a5f81655",
   "metadata": {},
   "outputs": [
    {
     "data": {
      "text/plain": [
       "[<matplotlib.lines.Line2D at 0x7fba82bc58e0>]"
      ]
     },
     "execution_count": 11,
     "metadata": {},
     "output_type": "execute_result"
    },
    {
     "data": {
      "image/png": "[encoded data removed]",
      "text/plain": [
       "<Figure size 432x432 with 1 Axes>"
      ]
     },
     "metadata": {
      "needs_background": "light"
     },
     "output_type": "display_data"
    }
   ],
   "source": [
    "key, subkey = random.split(key)\n",
    "y = x[z] + sigma * random.normal(subkey, shape = (N,))\n",
    "plt.plot(y, '.')"
   ]
  },
  {
   "cell_type": "code",
   "execution_count": 12,
   "id": "518e26ca-cbe8-452d-8153-d6fdc60bcf3e",
   "metadata": {},
   "outputs": [
    {
     "data": {
      "text/plain": [
       "[<matplotlib.lines.Line2D at 0x7fba82d11bb0>]"
      ]
     },
     "execution_count": 12,
     "metadata": {},
     "output_type": "execute_result"
    },
    {
     "data": {
      "image/png": "[encoded data removed]",
      "text/plain": [
       "<Figure size 432x432 with 1 Axes>"
      ]
     },
     "metadata": {
      "needs_background": "light"
     },
     "output_type": "display_data"
    }
   ],
   "source": [
    "plt.plot(x[z], y, '.')"
   ]
  },
  {
   "cell_type": "code",
   "execution_count": 13,
   "id": "8835a6eb-823e-4002-98b7-4ee0fcbe3fa3",
   "metadata": {},
   "outputs": [],
   "source": [
    "def calc_nik_ki(z,k,i): \n",
    "    z = z.at[i].set(jnp.inf)    \n",
    "    return jnp.sum(z == k)\n",
    "\n",
    "calc_nik_i = lambda z, i : jax.vmap(calc_nik_ki, in_axes = (None, 0, None))(z, jnp.arange(K), i)\n",
    "calc_nik = lambda z : jax.vmap(calc_nik_i, in_axes = (None, 0))(z, jnp.arange(N))\n",
    "calc_nik_jit = jax.jit(calc_nik)\n",
    "\n",
    "calc_nk_k = lambda z, k : jnp.sum(z == k)\n",
    "calc_nk = lambda z : jax.vmap(calc_nk_k, in_axes = (None, 0))(z, jnp.arange(K))\n",
    "calc_nk_jit = jax.jit(calc_nk)"
   ]
  },
  {
   "cell_type": "code",
   "execution_count": 14,
   "id": "d0cf984b-cc3b-4eed-983b-776e1e78f2e0",
   "metadata": {},
   "outputs": [
    {
     "data": {
      "text/plain": [
       "(100, 2)"
      ]
     },
     "execution_count": 14,
     "metadata": {},
     "output_type": "execute_result"
    }
   ],
   "source": [
    "calc_nik_jit(z).shape"
   ]
  },
  {
   "cell_type": "code",
   "execution_count": 15,
   "id": "489a8982-f538-4f29-b89a-87176595a79a",
   "metadata": {},
   "outputs": [
    {
     "name": "stdout",
     "output_type": "stream",
     "text": [
      "12\n",
      "87\n",
      "0\n"
     ]
    }
   ],
   "source": [
    "print(calc_nik_ki(z, 0, 13))\n",
    "print(calc_nik_ki(z, 1, 13))\n",
    "print(calc_nik_ki(z, 2, 13))"
   ]
  },
  {
   "cell_type": "code",
   "execution_count": 16,
   "id": "993d1bd5-9244-4f1a-a660-123eac15f523",
   "metadata": {},
   "outputs": [
    {
     "data": {
      "text/plain": [
       "(100, 2)"
      ]
     },
     "execution_count": 16,
     "metadata": {},
     "output_type": "execute_result"
    }
   ],
   "source": [
    "calc_nik_jit(z).shape"
   ]
  },
  {
   "cell_type": "code",
   "execution_count": 17,
   "id": "20cd822c-479d-4aee-849e-b70b2a7bff54",
   "metadata": {},
   "outputs": [
    {
     "data": {
      "text/plain": [
       "DeviceArray([0.12797161, 0.87202839], dtype=float64)"
      ]
     },
     "execution_count": 17,
     "metadata": {},
     "output_type": "execute_result"
    }
   ],
   "source": [
    "pi"
   ]
  },
  {
   "cell_type": "code",
   "execution_count": null,
   "id": "06197f8f-1fe1-48c5-b1c8-94ae44b8024a",
   "metadata": {},
   "outputs": [],
   "source": [
    "\n"
   ]
  },
  {
   "cell_type": "code",
   "execution_count": 18,
   "id": "6890cd11-d5ee-40d4-baf1-200028668a8c",
   "metadata": {},
   "outputs": [],
   "source": [
    "key, subkey = random.split(key)\n",
    "#z0 = random.randint(subkey, z.shape, 0, K)\n",
    "z0 = jnp.ones(z.shape)\n",
    "z0 = z\n",
    "\n",
    "n_ik_z = calc_nik_jit(z0)\n",
    "n_k = calc_nk_jit(z0)\n",
    "Nk = jnp.sum(n_k)\n",
    "Ak = jnp.sum(alpha)"
   ]
  },
  {
   "cell_type": "code",
   "execution_count": 19,
   "id": "0b2fa838-7c62-4dce-a60a-6c67aa2ec29e",
   "metadata": {},
   "outputs": [],
   "source": [
    "probs_d = []\n",
    "probs_dn = []\n",
    "for k in jnp.arange(K):\n",
    "    probs_d.append((n_ik_z[:, k] + alpha[k])/(Nk+Ak-1))\n",
    "    probs_dn.append((n_ik_z[:, k])/(Nk-1))\n",
    "\n",
    "probs_d = jnp.array(probs_d).transpose()   \n",
    "probs_dn = jnp.array(probs_dn).transpose()   \n"
   ]
  },
  {
   "cell_type": "code",
   "execution_count": 20,
   "id": "646b7bfc-2f71-452f-ba25-b83ea2d75b36",
   "metadata": {},
   "outputs": [
    {
     "data": {
      "text/plain": [
       "DeviceArray([[0.125, 0.875],\n",
       "             [0.125, 0.875],\n",
       "             [0.125, 0.875],\n",
       "             [0.125, 0.875],\n",
       "             [0.125, 0.875],\n",
       "             [0.125, 0.875],\n",
       "             [0.125, 0.875],\n",
       "             [0.125, 0.875],\n",
       "             [0.125, 0.875],\n",
       "             [0.125, 0.875],\n",
       "             [0.125, 0.875],\n",
       "             [0.115, 0.885],\n",
       "             [0.115, 0.885],\n",
       "             [0.125, 0.875],\n",
       "             [0.125, 0.875],\n",
       "             [0.125, 0.875],\n",
       "             [0.125, 0.875],\n",
       "             [0.125, 0.875],\n",
       "             [0.125, 0.875],\n",
       "             [0.125, 0.875],\n",
       "             [0.125, 0.875],\n",
       "             [0.125, 0.875],\n",
       "             [0.125, 0.875],\n",
       "             [0.125, 0.875],\n",
       "             [0.125, 0.875],\n",
       "             [0.115, 0.885],\n",
       "             [0.125, 0.875],\n",
       "             [0.125, 0.875],\n",
       "             [0.125, 0.875],\n",
       "             [0.125, 0.875],\n",
       "             [0.125, 0.875],\n",
       "             [0.125, 0.875],\n",
       "             [0.125, 0.875],\n",
       "             [0.125, 0.875],\n",
       "             [0.125, 0.875],\n",
       "             [0.125, 0.875],\n",
       "             [0.125, 0.875],\n",
       "             [0.125, 0.875],\n",
       "             [0.125, 0.875],\n",
       "             [0.125, 0.875],\n",
       "             [0.125, 0.875],\n",
       "             [0.125, 0.875],\n",
       "             [0.125, 0.875],\n",
       "             [0.125, 0.875],\n",
       "             [0.125, 0.875],\n",
       "             [0.125, 0.875],\n",
       "             [0.115, 0.885],\n",
       "             [0.125, 0.875],\n",
       "             [0.125, 0.875],\n",
       "             [0.115, 0.885],\n",
       "             [0.115, 0.885],\n",
       "             [0.125, 0.875],\n",
       "             [0.125, 0.875],\n",
       "             [0.125, 0.875],\n",
       "             [0.125, 0.875],\n",
       "             [0.115, 0.885],\n",
       "             [0.125, 0.875],\n",
       "             [0.125, 0.875],\n",
       "             [0.125, 0.875],\n",
       "             [0.125, 0.875],\n",
       "             [0.125, 0.875],\n",
       "             [0.115, 0.885],\n",
       "             [0.125, 0.875],\n",
       "             [0.125, 0.875],\n",
       "             [0.125, 0.875],\n",
       "             [0.125, 0.875],\n",
       "             [0.125, 0.875],\n",
       "             [0.125, 0.875],\n",
       "             [0.125, 0.875],\n",
       "             [0.115, 0.885],\n",
       "             [0.125, 0.875],\n",
       "             [0.125, 0.875],\n",
       "             [0.125, 0.875],\n",
       "             [0.125, 0.875],\n",
       "             [0.125, 0.875],\n",
       "             [0.125, 0.875],\n",
       "             [0.125, 0.875],\n",
       "             [0.125, 0.875],\n",
       "             [0.125, 0.875],\n",
       "             [0.125, 0.875],\n",
       "             [0.125, 0.875],\n",
       "             [0.125, 0.875],\n",
       "             [0.125, 0.875],\n",
       "             [0.125, 0.875],\n",
       "             [0.115, 0.885],\n",
       "             [0.125, 0.875],\n",
       "             [0.125, 0.875],\n",
       "             [0.125, 0.875],\n",
       "             [0.125, 0.875],\n",
       "             [0.125, 0.875],\n",
       "             [0.125, 0.875],\n",
       "             [0.115, 0.885],\n",
       "             [0.115, 0.885],\n",
       "             [0.125, 0.875],\n",
       "             [0.125, 0.875],\n",
       "             [0.125, 0.875],\n",
       "             [0.125, 0.875],\n",
       "             [0.125, 0.875],\n",
       "             [0.125, 0.875],\n",
       "             [0.125, 0.875]], dtype=float64)"
      ]
     },
     "execution_count": 20,
     "metadata": {},
     "output_type": "execute_result"
    }
   ],
   "source": [
    "probs_d"
   ]
  },
  {
   "cell_type": "code",
   "execution_count": 21,
   "id": "0f51d782-4ee7-4cd7-89cf-4becebcd161a",
   "metadata": {},
   "outputs": [
    {
     "data": {
      "text/plain": [
       "DeviceArray([1., 1., 1., 1., 1., 1., 1., 1., 1., 1., 1., 1., 1., 1., 1.,\n",
       "             1., 1., 1., 1., 1., 1., 1., 1., 1., 1., 1., 1., 1., 1., 1.,\n",
       "             1., 1., 1., 1., 1., 1., 1., 1., 1., 1., 1., 1., 1., 1., 1.,\n",
       "             1., 1., 1., 1., 1., 1., 1., 1., 1., 1., 1., 1., 1., 1., 1.,\n",
       "             1., 1., 1., 1., 1., 1., 1., 1., 1., 1., 1., 1., 1., 1., 1.,\n",
       "             1., 1., 1., 1., 1., 1., 1., 1., 1., 1., 1., 1., 1., 1., 1.,\n",
       "             1., 1., 1., 1., 1., 1., 1., 1., 1., 1.], dtype=float64)"
      ]
     },
     "execution_count": 21,
     "metadata": {},
     "output_type": "execute_result"
    }
   ],
   "source": [
    "jnp.sum(probs_d, axis=1)"
   ]
  },
  {
   "cell_type": "code",
   "execution_count": 22,
   "id": "5d95213f-c179-479d-81e9-e9f0ad1ba787",
   "metadata": {},
   "outputs": [
    {
     "data": {
      "text/plain": [
       "<matplotlib.colorbar.Colorbar at 0x7fbaa4492fd0>"
      ]
     },
     "execution_count": 22,
     "metadata": {},
     "output_type": "execute_result"
    },
    {
     "data": {
      "image/png": "[encoded data removed]",
      "text/plain": [
       "<Figure size 432x432 with 2 Axes>"
      ]
     },
     "metadata": {
      "needs_background": "light"
     },
     "output_type": "display_data"
    }
   ],
   "source": [
    "plt.imshow(jnp.repeat(probs_d, int(N/K), axis=1)); plt.colorbar()"
   ]
  },
  {
   "cell_type": "code",
   "execution_count": 23,
   "id": "df993a90-0c94-471b-a1bf-7fee6e96e6c2",
   "metadata": {},
   "outputs": [
    {
     "name": "stdout",
     "output_type": "stream",
     "text": [
      "[0.12797161 0.87202839]\n",
      "[1 1 1 1 1 1 1 1 1 1 1 0 0 1 1 1 1 1 1 1 1 1 1 1 1 0 1 1 1 1 1 1 1 1 1 1 1\n",
      " 1 1 1 1 1 1 1 1 1 0 1 1 0 0 1 1 1 1 0 1 1 1 1 1 0 1 1 1 1 1 1 1 0 1 1 1 1\n",
      " 1 1 1 1 1 1 1 1 1 1 0 1 1 1 1 1 1 0 0 1 1 1 1 1 1 1]\n"
     ]
    }
   ],
   "source": [
    "print(pi)\n",
    "print(z)"
   ]
  },
  {
   "cell_type": "code",
   "execution_count": 24,
   "id": "e2cac8f9-b430-475e-849a-2002c175d099",
   "metadata": {},
   "outputs": [
    {
     "data": {
      "text/plain": [
       "DeviceArray([1, 1, 1, 1, 1, 1, 1, 1, 1, 1, 1, 0, 0, 1, 1, 1, 1, 1, 1, 1,\n",
       "             1, 1, 1, 1, 1, 0, 1, 1, 1, 1, 1, 1, 1, 1, 1, 1, 1, 1, 1, 1,\n",
       "             1, 1, 1, 1, 1, 1, 0, 1, 1, 0, 0, 1, 1, 1, 1, 0, 1, 1, 1, 1,\n",
       "             1, 0, 1, 1, 1, 1, 1, 1, 1, 0, 1, 1, 1, 1, 1, 1, 1, 1, 1, 1,\n",
       "             1, 1, 1, 1, 0, 1, 1, 1, 1, 1, 1, 0, 0, 1, 1, 1, 1, 1, 1, 1],            dtype=int64)"
      ]
     },
     "execution_count": 24,
     "metadata": {},
     "output_type": "execute_result"
    }
   ],
   "source": [
    "z"
   ]
  },
  {
   "cell_type": "code",
   "execution_count": 25,
   "id": "1dfe0409-c96a-464a-963f-315265bc1899",
   "metadata": {},
   "outputs": [
    {
     "data": {
      "text/plain": [
       "(100, 2)"
      ]
     },
     "execution_count": 25,
     "metadata": {},
     "output_type": "execute_result"
    }
   ],
   "source": [
    "n_ik_z.shape"
   ]
  },
  {
   "cell_type": "code",
   "execution_count": 26,
   "id": "0a2e8693-4ea3-4eed-a93e-0ddb58228241",
   "metadata": {},
   "outputs": [
    {
     "data": {
      "text/plain": [
       "[<matplotlib.lines.Line2D at 0x7fba82ad49a0>]"
      ]
     },
     "execution_count": 26,
     "metadata": {},
     "output_type": "execute_result"
    },
    {
     "data": {
      "image/png": "[encoded data removed]",
      "text/plain": [
       "<Figure size 432x432 with 1 Axes>"
      ]
     },
     "metadata": {
      "needs_background": "light"
     },
     "output_type": "display_data"
    }
   ],
   "source": [
    "plt.plot(n_ik_z[:,4]/N,'.')"
   ]
  },
  {
   "cell_type": "code",
   "execution_count": 32,
   "id": "08786f8c-7db3-4ba0-9c09-3ed27bd6f382",
   "metadata": {},
   "outputs": [
    {
     "data": {
      "text/plain": [
       "DeviceArray(-80.1826701, dtype=float64)"
      ]
     },
     "execution_count": 32,
     "metadata": {},
     "output_type": "execute_result"
    }
   ],
   "source": [
    "logPi(x, z, y, sigma, alpha)"
   ]
  },
  {
   "cell_type": "code",
   "execution_count": 33,
   "id": "8c1edba7-627c-4312-90e2-b0c0f455594e",
   "metadata": {},
   "outputs": [
    {
     "data": {
      "text/plain": [
       "DeviceArray([0.12797161, 0.87202839], dtype=float64)"
      ]
     },
     "execution_count": 33,
     "metadata": {},
     "output_type": "execute_result"
    }
   ],
   "source": [
    "pi"
   ]
  },
  {
   "cell_type": "code",
   "execution_count": 34,
   "id": "748ce656-9502-4dd7-b10d-509e6a6d7b7f",
   "metadata": {},
   "outputs": [
    {
     "data": {
      "text/plain": [
       "DeviceArray([1, 1, 1, 1, 1, 1, 1, 1, 1, 1, 1, 0, 0, 1, 1, 1, 1, 1, 1, 1,\n",
       "             1, 1, 1, 1, 1, 0, 1, 1, 1, 1, 1, 1, 1, 1, 1, 1, 1, 1, 1, 1,\n",
       "             1, 1, 1, 1, 1, 1, 0, 1, 1, 0, 0, 1, 1, 1, 1, 0, 1, 1, 1, 1,\n",
       "             1, 0, 1, 1, 1, 1, 1, 1, 1, 0, 1, 1, 1, 1, 1, 1, 1, 1, 1, 1,\n",
       "             1, 1, 1, 1, 0, 1, 1, 1, 1, 1, 1, 0, 0, 1, 1, 1, 1, 1, 1, 1],            dtype=int64)"
      ]
     },
     "execution_count": 34,
     "metadata": {},
     "output_type": "execute_result"
    }
   ],
   "source": [
    "z"
   ]
  },
  {
   "cell_type": "code",
   "execution_count": 104,
   "id": "c8215a51-910c-49ec-a85e-4b37a48a2162",
   "metadata": {},
   "outputs": [],
   "source": [
    "def logPi(x, z, y, sigma, alpha):\n",
    "    n_ik = calc_nik_jit(z)\n",
    "    n_k = calc_nk_jit(z)\n",
    "    \n",
    "    log_arg = jnp.zeros(y.shape)\n",
    "    logPZalpha = -gammaln(jnp.sum(n_k) + jnp.sum(alpha))\n",
    "\n",
    "    Nk = jnp.sum(n_k)\n",
    "    Ak = jnp.sum(alpha)\n",
    "    \n",
    "    # TODO: vectorize\n",
    "    term_mat = []\n",
    "    for k in jnp.arange(K):\n",
    "        logarg_k = jnp.exp(-(y - x[k])**2/sigma) * (n_ik[:, k] + alpha[k])/(Nk+Ak-1)\n",
    "        log_arg += logarg_k\n",
    "        term_mat.append(logarg_k)\n",
    "        #log_arg += jnp.exp(jnp.exp(-(y - x[k])**2/sigma))*pi[k]\n",
    "        \n",
    "        logPZalpha += gammaln(n_k[k] + alpha[k])\n",
    "    \n",
    "    #print(logPZalpha)\n",
    "    #print(\"term A \", jnp.sum(jnp.log(log_arg)) )\n",
    "    #print(\"term B \", - jnp.sum(x**2))\n",
    "    \n",
    "    return jnp.sum(jnp.log(log_arg)) - jnp.sum(x**2) + logPZalpha #, jnp.array(term_mat).transpose()\n",
    "    #return logPZalpha #, jnp.array(term_mat).transpose()\n"
   ]
  },
  {
   "cell_type": "code",
   "execution_count": 105,
   "id": "9ab18cfa-e0bd-4174-8037-dd3820a426b7",
   "metadata": {},
   "outputs": [
    {
     "ename": "TypeError",
     "evalue": "iteration over a 0-d array",
     "output_type": "error",
     "traceback": [
      "\u001b[0;31m---------------------------------------------------------------------------\u001b[0m",
      "\u001b[0;31mTypeError\u001b[0m                                 Traceback (most recent call last)",
      "\u001b[0;32m/var/folders/t3/hcx4r4_961g84bb7t1m8hjqc0000gn/T/ipykernel_8984/1232023147.py\u001b[0m in \u001b[0;36m<module>\u001b[0;34m\u001b[0m\n\u001b[1;32m      3\u001b[0m \u001b[0;31m#z0 = jnp.ones(z.shape)\u001b[0m\u001b[0;34m\u001b[0m\u001b[0;34m\u001b[0m\u001b[0m\n\u001b[1;32m      4\u001b[0m \u001b[0mz0\u001b[0m \u001b[0;34m=\u001b[0m \u001b[0mz\u001b[0m\u001b[0;34m\u001b[0m\u001b[0;34m\u001b[0m\u001b[0m\n\u001b[0;32m----> 5\u001b[0;31m \u001b[0m_\u001b[0m\u001b[0;34m,\u001b[0m \u001b[0mterms_01\u001b[0m \u001b[0;34m=\u001b[0m \u001b[0mlogPi\u001b[0m\u001b[0;34m(\u001b[0m\u001b[0mjnp\u001b[0m\u001b[0;34m.\u001b[0m\u001b[0marray\u001b[0m\u001b[0;34m(\u001b[0m\u001b[0;34m[\u001b[0m\u001b[0mx\u001b[0m\u001b[0;34m[\u001b[0m\u001b[0;36m0\u001b[0m\u001b[0;34m]\u001b[0m\u001b[0;34m,\u001b[0m \u001b[0mx\u001b[0m\u001b[0;34m[\u001b[0m\u001b[0;36m1\u001b[0m\u001b[0;34m]\u001b[0m\u001b[0;34m]\u001b[0m\u001b[0;34m)\u001b[0m\u001b[0;34m,\u001b[0m \u001b[0mz\u001b[0m\u001b[0;34m,\u001b[0m \u001b[0my\u001b[0m\u001b[0;34m,\u001b[0m \u001b[0msigma\u001b[0m\u001b[0;34m,\u001b[0m \u001b[0malpha\u001b[0m\u001b[0;34m)\u001b[0m\u001b[0;34m\u001b[0m\u001b[0;34m\u001b[0m\u001b[0m\n\u001b[0m\u001b[1;32m      6\u001b[0m \u001b[0m_\u001b[0m\u001b[0;34m,\u001b[0m \u001b[0mterms_11\u001b[0m \u001b[0;34m=\u001b[0m \u001b[0mlogPi\u001b[0m\u001b[0;34m(\u001b[0m\u001b[0mjnp\u001b[0m\u001b[0;34m.\u001b[0m\u001b[0marray\u001b[0m\u001b[0;34m(\u001b[0m\u001b[0;34m[\u001b[0m\u001b[0mx\u001b[0m\u001b[0;34m[\u001b[0m\u001b[0;36m1\u001b[0m\u001b[0;34m]\u001b[0m\u001b[0;34m,\u001b[0m \u001b[0mx\u001b[0m\u001b[0;34m[\u001b[0m\u001b[0;36m1\u001b[0m\u001b[0;34m]\u001b[0m\u001b[0;34m]\u001b[0m\u001b[0;34m)\u001b[0m\u001b[0;34m,\u001b[0m \u001b[0mz\u001b[0m\u001b[0;34m,\u001b[0m \u001b[0my\u001b[0m\u001b[0;34m,\u001b[0m \u001b[0msigma\u001b[0m\u001b[0;34m,\u001b[0m \u001b[0malpha\u001b[0m\u001b[0;34m)\u001b[0m\u001b[0;34m\u001b[0m\u001b[0;34m\u001b[0m\u001b[0m\n\u001b[1;32m      7\u001b[0m \u001b[0m_\u001b[0m\u001b[0;34m,\u001b[0m \u001b[0mterms_00\u001b[0m \u001b[0;34m=\u001b[0m \u001b[0mlogPi\u001b[0m\u001b[0;34m(\u001b[0m\u001b[0mjnp\u001b[0m\u001b[0;34m.\u001b[0m\u001b[0marray\u001b[0m\u001b[0;34m(\u001b[0m\u001b[0;34m[\u001b[0m\u001b[0mx\u001b[0m\u001b[0;34m[\u001b[0m\u001b[0;36m0\u001b[0m\u001b[0;34m]\u001b[0m\u001b[0;34m,\u001b[0m \u001b[0mx\u001b[0m\u001b[0;34m[\u001b[0m\u001b[0;36m0\u001b[0m\u001b[0;34m]\u001b[0m\u001b[0;34m]\u001b[0m\u001b[0;34m)\u001b[0m\u001b[0;34m,\u001b[0m \u001b[0mz\u001b[0m\u001b[0;34m,\u001b[0m \u001b[0my\u001b[0m\u001b[0;34m,\u001b[0m \u001b[0msigma\u001b[0m\u001b[0;34m,\u001b[0m \u001b[0malpha\u001b[0m\u001b[0;34m)\u001b[0m\u001b[0;34m\u001b[0m\u001b[0;34m\u001b[0m\u001b[0m\n",
      "\u001b[0;32m/opt/anaconda3/lib/python3.9/site-packages/jax/_src/device_array.py\u001b[0m in \u001b[0;36m__iter__\u001b[0;34m(self)\u001b[0m\n\u001b[1;32m    243\u001b[0m   \u001b[0;32mdef\u001b[0m \u001b[0m__iter__\u001b[0m\u001b[0;34m(\u001b[0m\u001b[0mself\u001b[0m\u001b[0;34m)\u001b[0m\u001b[0;34m:\u001b[0m\u001b[0;34m\u001b[0m\u001b[0;34m\u001b[0m\u001b[0m\n\u001b[1;32m    244\u001b[0m     \u001b[0;32mif\u001b[0m \u001b[0mself\u001b[0m\u001b[0;34m.\u001b[0m\u001b[0mndim\u001b[0m \u001b[0;34m==\u001b[0m \u001b[0;36m0\u001b[0m\u001b[0;34m:\u001b[0m\u001b[0;34m\u001b[0m\u001b[0;34m\u001b[0m\u001b[0m\n\u001b[0;32m--> 245\u001b[0;31m       \u001b[0;32mraise\u001b[0m \u001b[0mTypeError\u001b[0m\u001b[0;34m(\u001b[0m\u001b[0;34m\"iteration over a 0-d array\"\u001b[0m\u001b[0;34m)\u001b[0m  \u001b[0;31m# same as numpy error\u001b[0m\u001b[0;34m\u001b[0m\u001b[0;34m\u001b[0m\u001b[0m\n\u001b[0m\u001b[1;32m    246\u001b[0m     \u001b[0;32melse\u001b[0m\u001b[0;34m:\u001b[0m\u001b[0;34m\u001b[0m\u001b[0;34m\u001b[0m\u001b[0m\n\u001b[1;32m    247\u001b[0m       \u001b[0;32mreturn\u001b[0m \u001b[0;34m(\u001b[0m\u001b[0msl\u001b[0m \u001b[0;32mfor\u001b[0m \u001b[0mchunk\u001b[0m \u001b[0;32min\u001b[0m \u001b[0mself\u001b[0m\u001b[0;34m.\u001b[0m\u001b[0m_chunk_iter\u001b[0m\u001b[0;34m(\u001b[0m\u001b[0;36m100\u001b[0m\u001b[0;34m)\u001b[0m \u001b[0;32mfor\u001b[0m \u001b[0msl\u001b[0m \u001b[0;32min\u001b[0m \u001b[0mchunk\u001b[0m\u001b[0;34m.\u001b[0m\u001b[0m_unstack\u001b[0m\u001b[0;34m(\u001b[0m\u001b[0;34m)\u001b[0m\u001b[0;34m)\u001b[0m\u001b[0;34m\u001b[0m\u001b[0;34m\u001b[0m\u001b[0m\n",
      "\u001b[0;31mTypeError\u001b[0m: iteration over a 0-d array"
     ]
    }
   ],
   "source": [
    "key, subkey = random.split(key)\n",
    "z0 = random.randint(subkey, z.shape, 0, K)\n",
    "#z0 = jnp.ones(z.shape)\n",
    "z0 = z\n",
    "_, terms_01 = logPi(jnp.array([x[0], x[1]]), z, y, sigma, alpha)\n",
    "_, terms_11 = logPi(jnp.array([x[1], x[1]]), z, y, sigma, alpha)\n",
    "_, terms_00 = logPi(jnp.array([x[0], x[0]]), z, y, sigma, alpha)\n",
    "_, terms_10 = logPi(jnp.array([x[1], x[0]]), z, y, sigma, alpha)"
   ]
  },
  {
   "cell_type": "code",
   "execution_count": 36,
   "id": "63de079e-dbe3-4b37-aa16-9aa7a5f0b800",
   "metadata": {},
   "outputs": [],
   "source": [
    "z0 = jnp.array([0,1,1])"
   ]
  },
  {
   "cell_type": "code",
   "execution_count": 37,
   "id": "94b6f520-a67e-42fb-8b00-745425e5c68d",
   "metadata": {},
   "outputs": [
    {
     "data": {
      "text/plain": [
       "DeviceArray(-226.93489702, dtype=float64)"
      ]
     },
     "execution_count": 37,
     "metadata": {},
     "output_type": "execute_result"
    }
   ],
   "source": [
    "logPi(jnp.array([x[0], x[1]]), z, y, sigma, alpha)\n",
    "logPi(jnp.array([x[1], x[1]]), z, y, sigma, alpha)\n",
    "logPi(jnp.array([x[0], x[0]]), z, y, sigma, alpha)\n",
    "logPi(jnp.array([x[1], x[0]]), z, y, sigma, alpha)"
   ]
  },
  {
   "cell_type": "code",
   "execution_count": 38,
   "id": "0dfc693b-030b-48c4-b7a5-4cce361c109a",
   "metadata": {},
   "outputs": [
    {
     "data": {
      "text/plain": [
       "DeviceArray(1.35312233e-250, dtype=float64)"
      ]
     },
     "execution_count": 38,
     "metadata": {},
     "output_type": "execute_result"
    }
   ],
   "source": [
    "jnp.exp(-(x[0]-y[0])**2/sigma)"
   ]
  },
  {
   "cell_type": "code",
   "execution_count": 39,
   "id": "76864857-fed7-4ec5-b443-0f7d0c7d5d29",
   "metadata": {},
   "outputs": [
    {
     "ename": "NameError",
     "evalue": "name 'terms_01' is not defined",
     "output_type": "error",
     "traceback": [
      "\u001b[0;31m---------------------------------------------------------------------------\u001b[0m",
      "\u001b[0;31mNameError\u001b[0m                                 Traceback (most recent call last)",
      "\u001b[0;32m/var/folders/t3/hcx4r4_961g84bb7t1m8hjqc0000gn/T/ipykernel_8984/1461708528.py\u001b[0m in \u001b[0;36m<module>\u001b[0;34m\u001b[0m\n\u001b[0;32m----> 1\u001b[0;31m \u001b[0mprint\u001b[0m\u001b[0;34m(\u001b[0m\u001b[0mterms_01\u001b[0m\u001b[0;34m)\u001b[0m\u001b[0;34m\u001b[0m\u001b[0;34m\u001b[0m\u001b[0m\n\u001b[0m\u001b[1;32m      2\u001b[0m \u001b[0mprint\u001b[0m\u001b[0;34m(\u001b[0m\u001b[0mterms_11\u001b[0m\u001b[0;34m)\u001b[0m\u001b[0;34m\u001b[0m\u001b[0;34m\u001b[0m\u001b[0m\n\u001b[1;32m      3\u001b[0m \u001b[0mprint\u001b[0m\u001b[0;34m(\u001b[0m\u001b[0mterms_00\u001b[0m\u001b[0;34m)\u001b[0m\u001b[0;34m\u001b[0m\u001b[0;34m\u001b[0m\u001b[0m\n\u001b[1;32m      4\u001b[0m \u001b[0mprint\u001b[0m\u001b[0;34m(\u001b[0m\u001b[0mterms_10\u001b[0m\u001b[0;34m)\u001b[0m\u001b[0;34m\u001b[0m\u001b[0;34m\u001b[0m\u001b[0m\n",
      "\u001b[0;31mNameError\u001b[0m: name 'terms_01' is not defined"
     ]
    }
   ],
   "source": [
    "print(terms_01)\n",
    "print(terms_11)\n",
    "print(terms_00)\n",
    "print(terms_10)"
   ]
  },
  {
   "cell_type": "code",
   "execution_count": 40,
   "id": "4ff06764-b818-4c65-b311-dd5a8d8ea270",
   "metadata": {},
   "outputs": [
    {
     "data": {
      "text/plain": [
       "DeviceArray([1, 1, 1, 1, 1, 1, 1, 1, 1, 1, 1, 0, 0, 1, 1, 1, 1, 1, 1, 1,\n",
       "             1, 1, 1, 1, 1, 0, 1, 1, 1, 1, 1, 1, 1, 1, 1, 1, 1, 1, 1, 1,\n",
       "             1, 1, 1, 1, 1, 1, 0, 1, 1, 0, 0, 1, 1, 1, 1, 0, 1, 1, 1, 1,\n",
       "             1, 0, 1, 1, 1, 1, 1, 1, 1, 0, 1, 1, 1, 1, 1, 1, 1, 1, 1, 1,\n",
       "             1, 1, 1, 1, 0, 1, 1, 1, 1, 1, 1, 0, 0, 1, 1, 1, 1, 1, 1, 1],            dtype=int64)"
      ]
     },
     "execution_count": 40,
     "metadata": {},
     "output_type": "execute_result"
    }
   ],
   "source": [
    "z"
   ]
  },
  {
   "cell_type": "code",
   "execution_count": 41,
   "id": "5533a1a9-16dd-4ed5-b4c3-0c3cc4489be6",
   "metadata": {},
   "outputs": [
    {
     "data": {
      "text/plain": [
       "DeviceArray([0.12797161, 0.87202839], dtype=float64)"
      ]
     },
     "execution_count": 41,
     "metadata": {},
     "output_type": "execute_result"
    }
   ],
   "source": [
    "pi"
   ]
  },
  {
   "cell_type": "code",
   "execution_count": 42,
   "id": "2646d324-96f3-4f9e-b8d8-028452fbbd6d",
   "metadata": {},
   "outputs": [
    {
     "name": "stdout",
     "output_type": "stream",
     "text": [
      "0.9769748658009433\n",
      "1.3531223287019976e-250\n"
     ]
    }
   ],
   "source": [
    "xk = jnp.array([x[1],x[0]])\n",
    "print(jnp.exp(-(y[0]-xk[0])**2/sigma))\n",
    "print(jnp.exp(-(y[0]-xk[1])**2/sigma))"
   ]
  },
  {
   "cell_type": "code",
   "execution_count": null,
   "id": "4ab76a2e-d0de-4059-b82f-e9aa1234a857",
   "metadata": {},
   "outputs": [],
   "source": []
  },
  {
   "cell_type": "code",
   "execution_count": 43,
   "id": "1e507226-4989-4132-ac19-0c91f62e6d1f",
   "metadata": {},
   "outputs": [
    {
     "name": "stdout",
     "output_type": "stream",
     "text": [
      "[ 0.67011936 -1.74377578]\n",
      "-1.7285132926527111\n"
     ]
    }
   ],
   "source": [
    "print(x)\n",
    "print(y[0])"
   ]
  },
  {
   "cell_type": "code",
   "execution_count": 44,
   "id": "0131753d-02bc-4835-b15f-8988d2512755",
   "metadata": {},
   "outputs": [
    {
     "ename": "NameError",
     "evalue": "name 'terms_10' is not defined",
     "output_type": "error",
     "traceback": [
      "\u001b[0;31m---------------------------------------------------------------------------\u001b[0m",
      "\u001b[0;31mNameError\u001b[0m                                 Traceback (most recent call last)",
      "\u001b[0;32m/var/folders/t3/hcx4r4_961g84bb7t1m8hjqc0000gn/T/ipykernel_8984/2717853402.py\u001b[0m in \u001b[0;36m<module>\u001b[0;34m\u001b[0m\n\u001b[0;32m----> 1\u001b[0;31m \u001b[0mprint\u001b[0m\u001b[0;34m(\u001b[0m\u001b[0mterms_10\u001b[0m\u001b[0;34m)\u001b[0m\u001b[0;34m\u001b[0m\u001b[0;34m\u001b[0m\u001b[0m\n\u001b[0m",
      "\u001b[0;31mNameError\u001b[0m: name 'terms_10' is not defined"
     ]
    }
   ],
   "source": [
    "print(terms_10)"
   ]
  },
  {
   "cell_type": "code",
   "execution_count": 45,
   "id": "5837e0e0-5599-4ef9-8b04-569c4304e6d6",
   "metadata": {},
   "outputs": [
    {
     "ename": "NameError",
     "evalue": "name 'terms_01' is not defined",
     "output_type": "error",
     "traceback": [
      "\u001b[0;31m---------------------------------------------------------------------------\u001b[0m",
      "\u001b[0;31mNameError\u001b[0m                                 Traceback (most recent call last)",
      "\u001b[0;32m/var/folders/t3/hcx4r4_961g84bb7t1m8hjqc0000gn/T/ipykernel_8984/3886987104.py\u001b[0m in \u001b[0;36m<module>\u001b[0;34m\u001b[0m\n\u001b[0;32m----> 1\u001b[0;31m \u001b[0mjnp\u001b[0m\u001b[0;34m.\u001b[0m\u001b[0msum\u001b[0m\u001b[0;34m(\u001b[0m\u001b[0mjnp\u001b[0m\u001b[0;34m.\u001b[0m\u001b[0mlog\u001b[0m\u001b[0;34m(\u001b[0m\u001b[0mjnp\u001b[0m\u001b[0;34m.\u001b[0m\u001b[0msum\u001b[0m\u001b[0;34m(\u001b[0m\u001b[0mterms_01\u001b[0m\u001b[0;34m,\u001b[0m \u001b[0maxis\u001b[0m\u001b[0;34m=\u001b[0m\u001b[0;36m1\u001b[0m\u001b[0;34m)\u001b[0m\u001b[0;34m)\u001b[0m\u001b[0;34m)\u001b[0m\u001b[0;34m\u001b[0m\u001b[0;34m\u001b[0m\u001b[0m\n\u001b[0m",
      "\u001b[0;31mNameError\u001b[0m: name 'terms_01' is not defined"
     ]
    }
   ],
   "source": [
    "jnp.sum(jnp.log(jnp.sum(terms_01, axis=1)))"
   ]
  },
  {
   "cell_type": "code",
   "execution_count": 46,
   "id": "3b9b72da-6fe2-4d7b-b73b-26c676ddeec6",
   "metadata": {},
   "outputs": [],
   "source": [
    "z_correct = z"
   ]
  },
  {
   "cell_type": "code",
   "execution_count": 47,
   "id": "e4cc3b56-a2a1-4948-b8e6-fb7116ae85cd",
   "metadata": {},
   "outputs": [],
   "source": [
    "@jax.jit\n",
    "def proposal_x(key, x0, logPiX0, B, z, y, sigma, alpha):\n",
    "    #print(\"z\", z[:10])\n",
    "    #print(\"z_correct\", z_correct[:10])\n",
    "    #print(jnp.sum(jnp.abs(z-z_correct)))\n",
    "    \n",
    "    x1 = random.uniform(key, x0.shape) * 2*B-B\n",
    "    \n",
    "    logPiX0 = logPi(x0, z, y, sigma, alpha)\n",
    "    logPiX1 = logPi(x1, z, y, sigma, alpha)\n",
    "    \n",
    "    r = jnp.exp((logPiX1 - logPiX0))\n",
    "    \n",
    "    return x1, r, logPiX1, logPiX0\n",
    "\n",
    "@jax.jit\n",
    "def proposal_x0(key, x00, logPiX0, B, x1, z, y, sigma, alpha):\n",
    "    x01 = random.uniform(key) * 2*B-B\n",
    "    \n",
    "    logPiX0 = logPi(jnp.array([x00, x1]), z, y, sigma, alpha)\n",
    "    logPiX1 = logPi(jnp.array([x01, x1]), z, y, sigma, alpha)\n",
    "    \n",
    "    r = jnp.exp(logPiX1 - logPiX0)\n",
    "    \n",
    "    return x01, r, logPiX1, logPiX0    \n",
    "\n",
    "@jax.jit\n",
    "def proposal_x1(key, x10, logPiX0, B, x0, z, y, sigma, alpha):\n",
    "    x11 = random.uniform(key) * 2*B-B\n",
    "    \n",
    "    logPiX0 = logPi(jnp.array([x0, x10]), z, y, sigma, alpha)\n",
    "    logPiX1 = logPi(jnp.array([x0, x11]), z, y, sigma, alpha)\n",
    "    \n",
    "    r = jnp.exp(logPiX1 - logPiX0)\n",
    "    \n",
    "    return x11, r, logPiX1, logPiX0    \n",
    "\n",
    "@jax.jit\n",
    "def proposal_z(key, z0, logPiX0, x, y, sigma, alpha, K):\n",
    "    z1 = random.randint(key, z0.shape, 0, K) \n",
    "    \n",
    "    logPiX0 = logPi(x, z0, y, sigma, alpha)\n",
    "    logPiX1 = logPi(x, z1, y, sigma, alpha)\n",
    "    \n",
    "    r = jnp.exp(logPiX1 - logPiX0)\n",
    "    \n",
    "    return z1, r, logPiX1, logPiX0\n",
    "\n",
    "@jax.jit\n",
    "def proposal_z_one(key, z0, logPiX0, x, y, sigma, alpha, K, idx):\n",
    "    newval = random.randint(key, (), 0, K) \n",
    "    z1 = z0.at[idx].set(newval)\n",
    "   \n",
    "    logPiX0 = logPi(x, z0, y, sigma, alpha)\n",
    "    logPiX1 = logPi(x, z1, y, sigma, alpha)\n",
    "    \n",
    "    r = jnp.exp(logPiX1 - logPiX0)\n",
    "    \n",
    "    return z1, r, logPiX1, logPiX0\n",
    "\n"
   ]
  },
  {
   "cell_type": "markdown",
   "id": "4bd3c7f4-8f77-4eb7-8019-29ce719c006e",
   "metadata": {},
   "source": [
    "### First, sample x"
   ]
  },
  {
   "cell_type": "code",
   "execution_count": 48,
   "id": "ce37d72e-aacd-4755-9670-86848f28b552",
   "metadata": {},
   "outputs": [
    {
     "name": "stdout",
     "output_type": "stream",
     "text": [
      "[0.12797161 0.87202839]\n",
      "[ 0.67011936 -1.74377578]\n"
     ]
    }
   ],
   "source": [
    "print(pi)\n",
    "print(x)"
   ]
  },
  {
   "cell_type": "code",
   "execution_count": 49,
   "id": "dad4b0d6-5bb1-428b-8086-f6c7b0c2a02d",
   "metadata": {},
   "outputs": [
    {
     "name": "stdout",
     "output_type": "stream",
     "text": [
      "  MCMC sample 1000, loss = 194.50528181358308, a = 0.0\n",
      "  MCMC sample 2000, loss = 121.63383058284056, a = 0.0\n",
      "  MCMC sample 3000, loss = 84.13618765790528, a = 0.0\n",
      "  MCMC sample 4000, loss = 84.13618765790528, a = 0.0\n",
      "  MCMC sample 5000, loss = 84.13618765790528, a = 0.0\n",
      "  MCMC sample 6000, loss = 84.13618765790528, a = 0.0\n",
      "  MCMC sample 7000, loss = 84.13618765790528, a = 0.0\n",
      "  MCMC sample 8000, loss = 84.13618765790528, a = 0.0\n",
      "  MCMC sample 9000, loss = 84.13618765790528, a = 0.0\n",
      "[0.27450365 0.03632733]\n",
      "[ 0.70507376 -1.72620063]\n",
      "[ 0.67011936 -1.74377578]\n"
     ]
    },
    {
     "data": {
      "image/png": "[encoded data removed]",
      "text/plain": [
       "<Figure size 432x432 with 1 Axes>"
      ]
     },
     "metadata": {
      "needs_background": "light"
     },
     "output_type": "display_data"
    }
   ],
   "source": [
    "N_samples_x = 10000\n",
    "x0 = jnp.array(np.random.randn(K))\n",
    "B = 3\n",
    "\n",
    "params_x = {\"B\" : B, \"z\" : z, \"y\" : y, \"sigma\" : sigma, \"alpha\" : alpha}\n",
    "\n",
    "key, subkey = random.split(key)\n",
    "x_mean, x_r, x_sample = mcmc(subkey, proposal_x, x0, N_samples_x, params_x, 1, 1)\n",
    "\n",
    "plt.plot(x_r)\n",
    "print(x0)\n",
    "print(x_sample[N_samples_x-2])\n",
    "#print(x_mean)\n",
    "print(x)\n"
   ]
  },
  {
   "cell_type": "code",
   "execution_count": 50,
   "id": "41d4e4f8-38eb-441d-bacb-e89996b4cd31",
   "metadata": {},
   "outputs": [
    {
     "name": "stdout",
     "output_type": "stream",
     "text": [
      "  MCMC sample 1000, loss = 80.64253494204173, a = 0.0\n",
      "  MCMC sample 2000, loss = 80.8583841390859, a = 0.0\n",
      "  MCMC sample 3000, loss = 81.43674394903374, a = 0.28495209754759404\n",
      "  MCMC sample 4000, loss = 80.61631863261552, a = 3.4803980882461472e-227\n",
      "  MCMC sample 5000, loss = 81.59603969794023, a = 0.0\n",
      "  MCMC sample 6000, loss = 80.2484458835118, a = 0.0\n",
      "  MCMC sample 7000, loss = 80.84275374505776, a = 0.0\n",
      "  MCMC sample 8000, loss = 80.27826233431095, a = 4.7143911585625324e-94\n",
      "  MCMC sample 9000, loss = 80.36628721035812, a = 0.0\n",
      "  MCMC sample 10000, loss = 81.84961794527607, a = 0.0\n",
      "0.6829971687566574\n",
      "0.7054983126662555\n",
      "[ 0.67011936 -1.74377578]\n"
     ]
    },
    {
     "data": {
      "image/png": "[encoded data removed]",
      "text/plain": [
       "<Figure size 432x432 with 1 Axes>"
      ]
     },
     "metadata": {
      "needs_background": "light"
     },
     "output_type": "display_data"
    }
   ],
   "source": [
    "N_samples_x = 10001\n",
    "#x0 = jnp.array(np.random.randn(K))\n",
    "x0 = jnp.array(np.random.rand())\n",
    "B = 3\n",
    "\n",
    "#params_x = {\"B\" : B, \"z\" : z, \"y\" : y, \"sigma\" : sigma, \"alpha\" : alpha}\n",
    "params_x = {\"B\" : B, \"z\" : z, \"y\" : y, \"sigma\" : sigma, \"alpha\" : alpha, \"x1\" : x[1]}\n",
    "\n",
    "key, subkey = random.split(key)\n",
    "x_mean, x_r, x_sample = mcmc(subkey, proposal_x0, x0, N_samples_x, params_x, 1, 1)\n",
    "\n",
    "plt.plot(x_r)\n",
    "\n",
    "print(x0)\n",
    "print(x_sample[N_samples_x-2])\n",
    "#print(x_mean)\n",
    "print(x)"
   ]
  },
  {
   "cell_type": "code",
   "execution_count": 51,
   "id": "a7195e0e-73c6-44b7-a872-97af589fcf73",
   "metadata": {},
   "outputs": [
    {
     "name": "stdout",
     "output_type": "stream",
     "text": [
      "  MCMC sample 1000, loss = 80.33592558825418, a = 0.0\n",
      "  MCMC sample 2000, loss = 81.45389600204778, a = 0.0\n",
      "  MCMC sample 3000, loss = 80.23381795107895, a = 0.0\n",
      "  MCMC sample 4000, loss = 80.49344641764225, a = 0.0\n",
      "  MCMC sample 5000, loss = 81.93791708346481, a = 0.0\n",
      "  MCMC sample 6000, loss = 82.94834532897016, a = 0.0\n",
      "  MCMC sample 7000, loss = 80.24162418696082, a = 0.0\n",
      "  MCMC sample 8000, loss = 80.5225955440996, a = 0.0\n",
      "  MCMC sample 9000, loss = 80.44691096540627, a = 0.0\n",
      "  MCMC sample 10000, loss = 80.53214919644796, a = 0.0\n",
      "0.31741375273289363\n",
      "-1.7489308214463724\n",
      "[ 0.67011936 -1.74377578]\n"
     ]
    },
    {
     "data": {
      "image/png": "[encoded data removed]",
      "text/plain": [
       "<Figure size 432x432 with 1 Axes>"
      ]
     },
     "metadata": {
      "needs_background": "light"
     },
     "output_type": "display_data"
    }
   ],
   "source": [
    "N_samples_x = 10001\n",
    "#x0 = jnp.array(np.random.randn(K))\n",
    "x0 = jnp.array(np.random.rand())\n",
    "B = 3\n",
    "\n",
    "#params_x = {\"B\" : B, \"z\" : z, \"y\" : y, \"sigma\" : sigma, \"alpha\" : alpha}\n",
    "params_x = {\"B\" : B, \"z\" : z, \"y\" : y, \"sigma\" : sigma, \"alpha\" : alpha, \"x0\" : x[0]}\n",
    "\n",
    "key, subkey = random.split(key)\n",
    "x_mean, x_r, x_sample = mcmc(subkey, proposal_x1, x0, N_samples_x, params_x, 1, 1)\n",
    "\n",
    "plt.plot(x_r)\n",
    "print(x0)\n",
    "print(x_sample[N_samples_x-2])\n",
    "#print(x_mean)\n",
    "print(x)\n"
   ]
  },
  {
   "cell_type": "code",
   "execution_count": 52,
   "id": "3ec73ad2-303a-41d0-a68e-04a587362f15",
   "metadata": {},
   "outputs": [
    {
     "data": {
      "text/plain": [
       "DeviceArray(-80.1826701, dtype=float64)"
      ]
     },
     "execution_count": 52,
     "metadata": {},
     "output_type": "execute_result"
    }
   ],
   "source": [
    "logPi(x, z, y, sigma, alpha)\n"
   ]
  },
  {
   "cell_type": "code",
   "execution_count": 53,
   "id": "16b91d48-15c6-4006-aa8a-7142b807db85",
   "metadata": {},
   "outputs": [
    {
     "data": {
      "text/plain": [
       "DeviceArray(-80.1826701, dtype=float64)"
      ]
     },
     "execution_count": 53,
     "metadata": {},
     "output_type": "execute_result"
    }
   ],
   "source": [
    "logPi(jnp.array([x[0],x[1]]), z, y, sigma, alpha)"
   ]
  },
  {
   "cell_type": "code",
   "execution_count": 54,
   "id": "36aa8568-0b7d-4acb-b03d-1b1ea8443796",
   "metadata": {},
   "outputs": [
    {
     "data": {
      "text/plain": [
       "DeviceArray(-7029.40397599, dtype=float64)"
      ]
     },
     "execution_count": 54,
     "metadata": {},
     "output_type": "execute_result"
    }
   ],
   "source": [
    "logPi(jnp.array([x[1],x[1]]), z, y, sigma, alpha)"
   ]
  },
  {
   "cell_type": "code",
   "execution_count": 55,
   "id": "34078527-2026-42b8-bbc2-bdc485c422ae",
   "metadata": {},
   "outputs": [
    {
     "data": {
      "text/plain": [
       "DeviceArray([ 0.67011936, -1.74377578], dtype=float64)"
      ]
     },
     "execution_count": 55,
     "metadata": {},
     "output_type": "execute_result"
    }
   ],
   "source": [
    "x"
   ]
  },
  {
   "cell_type": "code",
   "execution_count": 56,
   "id": "ae7ba8b7-ab85-4af2-b161-6e5c4d281220",
   "metadata": {},
   "outputs": [],
   "source": [
    "myf = lambda x0, x1 : logPi(jnp.array([x0, x1]), z0, y, sigma, alpha)\n",
    "xx = jnp.linspace(-3,3,1000)    \n",
    "yy = jnp.linspace(-3,3,1000)"
   ]
  },
  {
   "cell_type": "code",
   "execution_count": 57,
   "id": "c44cbf01-bdbb-4bcf-8e44-2f538dfa20af",
   "metadata": {},
   "outputs": [],
   "source": [
    "myf_x = jax.jit(lambda x : jax.vmap(myf, in_axes = (None, 0))(x, yy))\n",
    "myf_xy = jax.vmap(myf_x)(xx)"
   ]
  },
  {
   "cell_type": "code",
   "execution_count": 58,
   "id": "ca3c27c4-1f80-4532-a339-0d91e3f01244",
   "metadata": {},
   "outputs": [
    {
     "data": {
      "text/plain": [
       "<matplotlib.colorbar.Colorbar at 0x7fba822ab610>"
      ]
     },
     "execution_count": 58,
     "metadata": {},
     "output_type": "execute_result"
    },
    {
     "data": {
      "image/png": "[encoded data removed]",
      "text/plain": [
       "<Figure size 432x432 with 2 Axes>"
      ]
     },
     "metadata": {
      "needs_background": "light"
     },
     "output_type": "display_data"
    }
   ],
   "source": [
    "plt.imshow((myf_xy)); plt.colorbar()"
   ]
  },
  {
   "cell_type": "code",
   "execution_count": 59,
   "id": "88d77ccf-f121-489a-a6c3-12ae9a50dc20",
   "metadata": {},
   "outputs": [
    {
     "data": {
      "text/plain": [
       "<matplotlib.colorbar.Colorbar at 0x7fba82145220>"
      ]
     },
     "execution_count": 59,
     "metadata": {},
     "output_type": "execute_result"
    },
    {
     "data": {
      "image/png": "[encoded data removed]",
      "text/plain": [
       "<Figure size 432x432 with 2 Axes>"
      ]
     },
     "metadata": {
      "needs_background": "light"
     },
     "output_type": "display_data"
    }
   ],
   "source": [
    "plt.imshow((myf_xy)); plt.colorbar()"
   ]
  },
  {
   "cell_type": "code",
   "execution_count": 60,
   "id": "6b78cc1b-fc72-4d1f-b77d-4e49a53fd51e",
   "metadata": {},
   "outputs": [
    {
     "data": {
      "text/plain": [
       "DeviceArray(3.4657359, dtype=float64)"
      ]
     },
     "execution_count": 60,
     "metadata": {},
     "output_type": "execute_result"
    }
   ],
   "source": [
    "jnp.log(8) + jnp.log(4)"
   ]
  },
  {
   "cell_type": "code",
   "execution_count": 61,
   "id": "317d07cf-ac72-48dd-bb11-63d835066a23",
   "metadata": {},
   "outputs": [],
   "source": [
    "#plt.imshow(jnp.abs(myf_xy0-myf_xy2)); plt.colorbar()"
   ]
  },
  {
   "cell_type": "code",
   "execution_count": 62,
   "id": "d93b21d7-244b-4e97-93e1-3910f6c27632",
   "metadata": {},
   "outputs": [
    {
     "name": "stdout",
     "output_type": "stream",
     "text": [
      "01 -31.408679673460664\n",
      "00 -51206.44679988842\n",
      "11 -6965.045750477374\n",
      "10 -70.3083881208121\n"
     ]
    }
   ],
   "source": [
    "print(\"01\", myf(x[0], x[1]))\n",
    "print(\"00\", myf(x[0], x[0]))\n",
    "print(\"11\", myf(x[1], x[1]))\n",
    "print(\"10\", myf(x[1], x[0]))"
   ]
  },
  {
   "cell_type": "code",
   "execution_count": 63,
   "id": "52e500a5-dcb2-4a2d-bb72-9fa58cfff1a6",
   "metadata": {},
   "outputs": [
    {
     "data": {
      "text/plain": [
       "DeviceArray(-31.40867967, dtype=float64)"
      ]
     },
     "execution_count": 63,
     "metadata": {},
     "output_type": "execute_result"
    }
   ],
   "source": [
    "myf(x[0],x[1])"
   ]
  },
  {
   "cell_type": "code",
   "execution_count": 64,
   "id": "2cfdcec9-5874-491c-b5ae-48b3a96c2979",
   "metadata": {},
   "outputs": [
    {
     "data": {
      "text/plain": [
       "DeviceArray(-31.43683331, dtype=float64)"
      ]
     },
     "execution_count": 64,
     "metadata": {},
     "output_type": "execute_result"
    }
   ],
   "source": [
    "jnp.max(myf_xy)"
   ]
  },
  {
   "cell_type": "markdown",
   "id": "e37199aa-3238-44ae-a8bb-158c5326aea1",
   "metadata": {},
   "source": [
    "### Now sample z"
   ]
  },
  {
   "cell_type": "code",
   "execution_count": 65,
   "id": "175ab893-0767-4a2f-a52e-39be146b0a0c",
   "metadata": {},
   "outputs": [
    {
     "data": {
      "text/plain": [
       "(100,)"
      ]
     },
     "execution_count": 65,
     "metadata": {},
     "output_type": "execute_result"
    }
   ],
   "source": [
    "z.shape"
   ]
  },
  {
   "cell_type": "code",
   "execution_count": 66,
   "id": "0c94f690-8c7a-4f79-a2f7-232effbb0d2d",
   "metadata": {},
   "outputs": [
    {
     "data": {
      "text/plain": [
       "DeviceArray([ 0.67011936, -1.74377578], dtype=float64)"
      ]
     },
     "execution_count": 66,
     "metadata": {},
     "output_type": "execute_result"
    }
   ],
   "source": [
    "x"
   ]
  },
  {
   "cell_type": "code",
   "execution_count": 92,
   "id": "5ee6d7c0-6e72-4a32-bdc4-4c7fe32738be",
   "metadata": {},
   "outputs": [
    {
     "name": "stdout",
     "output_type": "stream",
     "text": [
      "  MCMC sample 1000, loss = 77.0184070171493, a = 6.3989974156551915e-34\n",
      "  MCMC sample 2000, loss = 77.0184070171493, a = 1.4534169544642837e-34\n",
      "  MCMC sample 3000, loss = 77.0184070171493, a = 1.0794979040109545e-28\n",
      "  MCMC sample 4000, loss = 77.0184070171493, a = 2.386432947717629e-27\n",
      "  MCMC sample 5000, loss = 77.0184070171493, a = 5.272226960601329e-28\n",
      "  MCMC sample 6000, loss = 77.0184070171493, a = 5.478114326796023e-32\n",
      "  MCMC sample 7000, loss = 77.0184070171493, a = 4.865459108953964e-28\n",
      "  MCMC sample 8000, loss = 77.0184070171493, a = 1.1236265868525033e-28\n",
      "  MCMC sample 9000, loss = 77.0184070171493, a = 5.936102102643737e-32\n",
      "  MCMC sample 10000, loss = 77.0184070171493, a = 2.0811055970805743e-23\n",
      "  MCMC sample 11000, loss = 77.0184070171493, a = 2.888268850232273e-31\n",
      "  MCMC sample 12000, loss = 77.0184070171493, a = 1.215860405383357e-32\n",
      "  MCMC sample 13000, loss = 77.0184070171493, a = 4.944460381519943e-30\n",
      "  MCMC sample 14000, loss = 77.0184070171493, a = 1.215860405383357e-32\n",
      "  MCMC sample 15000, loss = 77.0184070171493, a = 4.969460628019529e-26\n",
      "  MCMC sample 16000, loss = 77.0184070171493, a = 2.500372681552382e-29\n",
      "  MCMC sample 17000, loss = 77.0184070171493, a = 2.7052555754119897e-37\n",
      "  MCMC sample 18000, loss = 77.0184070171493, a = 2.2922657208174487e-27\n",
      "  MCMC sample 19000, loss = 77.0184070171493, a = 4.673999822817104e-28\n",
      "  MCMC sample 20000, loss = 77.0184070171493, a = 2.198873092014279e-25\n",
      "  MCMC sample 21000, loss = 77.0184070171493, a = 5.478114326796023e-32\n",
      "  MCMC sample 22000, loss = 77.0184070171493, a = 5.175299320284875e-26\n",
      "  MCMC sample 23000, loss = 77.0184070171493, a = 5.272226960601179e-28\n",
      "  MCMC sample 24000, loss = 77.0184070171493, a = 4.7718088182144945e-26\n",
      "  MCMC sample 25000, loss = 77.0184070171493, a = 4.944460381519943e-30\n",
      "  MCMC sample 26000, loss = 77.0184070171493, a = 2.385830643391107e-25\n",
      "  MCMC sample 27000, loss = 77.0184070171493, a = 2.500372681552382e-29\n",
      "  MCMC sample 28000, loss = 77.0184070171493, a = 1.130485672019886e-26\n",
      "  MCMC sample 29000, loss = 77.0184070171493, a = 1.0599938994473768e-30\n",
      "  MCMC sample 30000, loss = 77.0184070171493, a = 2.114931992985307e-27\n",
      "  MCMC sample 31000, loss = 77.0184070171493, a = 4.865459108954102e-28\n",
      "  MCMC sample 32000, loss = 77.0184070171493, a = 2.5865316044327594e-27\n",
      "  MCMC sample 33000, loss = 77.0184070171493, a = 1.1236265868525033e-28\n",
      "  MCMC sample 34000, loss = 77.0184070171493, a = 6.432379112763166e-32\n",
      "  MCMC sample 35000, loss = 77.0184070171493, a = 2.026565837008446e-25\n",
      "  MCMC sample 36000, loss = 77.0184070171493, a = 2.5611617455078223e-31\n",
      "  MCMC sample 37000, loss = 77.0184070171493, a = 1.1032722050285875e-30\n",
      "  MCMC sample 38000, loss = 77.0184070171493, a = 5.702512251088532e-32\n",
      "  MCMC sample 39000, loss = 77.0184070171493, a = 2.198873092014279e-25\n",
      "  MCMC sample 40000, loss = 77.0184070171493, a = 1.1236265868525033e-28\n",
      "  MCMC sample 41000, loss = 77.0184070171493, a = 5.48819119861859e-28\n",
      "  MCMC sample 42000, loss = 77.0184070171493, a = 1.1032722050285875e-30\n",
      "  MCMC sample 43000, loss = 77.0184070171493, a = 2.4605761099453753e-31\n",
      "  MCMC sample 44000, loss = 77.0184070171493, a = 5.272226960601179e-28\n",
      "  MCMC sample 45000, loss = 77.0184070171493, a = 9.61775248686026e-27\n",
      "  MCMC sample 46000, loss = 77.0184070171493, a = 5.936102102643737e-32\n",
      "  MCMC sample 47000, loss = 77.0184070171493, a = 1.0211728494347053e-24\n",
      "  MCMC sample 48000, loss = 77.0184070171493, a = 1.3178083918553869e-32\n",
      "  MCMC sample 49000, loss = 77.0184070171493, a = 3.032645922093288e-33\n",
      "  MCMC sample 50000, loss = 77.0184070171493, a = 1.1952019679360018e-30\n",
      "  MCMC sample 51000, loss = 77.0184070171493, a = 2.66585921083266e-31\n",
      "  MCMC sample 52000, loss = 77.0184070171493, a = 4.673999822817237e-28\n",
      "  MCMC sample 53000, loss = 77.0184070171493, a = 1.0794979040109545e-28\n",
      "  MCMC sample 54000, loss = 77.0184070171493, a = 3.0144442074825304e-35\n",
      "  MCMC sample 55000, loss = 77.0184070171493, a = 3.0144442074825304e-35\n",
      "  MCMC sample 56000, loss = 77.0184070171493, a = 1.0794979040109545e-28\n",
      "  MCMC sample 57000, loss = 77.0184070171493, a = 9.80100034977791e-25\n",
      "  MCMC sample 58000, loss = 77.0184070171493, a = 1.1952019679359678e-30\n",
      "  MCMC sample 59000, loss = 77.0184070171493, a = 1.3953093300978774e-34\n",
      "  MCMC sample 60000, loss = 77.0184070171493, a = 1.4534169544642837e-34\n",
      "  MCMC sample 61000, loss = 77.0184070171493, a = 1.1483175129811537e-30\n",
      "  MCMC sample 62000, loss = 77.0184070171493, a = 5.702512251088695e-32\n",
      "  MCMC sample 63000, loss = 77.0184070171493, a = 5.689398060224198e-36\n",
      "  MCMC sample 64000, loss = 77.0184070171493, a = 1.1304856720198538e-26\n",
      "  MCMC sample 65000, loss = 77.0184070171493, a = 1.1236265868525033e-28\n",
      "  MCMC sample 66000, loss = 77.0184070171493, a = 2.6024599605787526e-29\n",
      "  MCMC sample 67000, loss = 77.0184070171493, a = 1.130485672019886e-26\n",
      "  MCMC sample 68000, loss = 77.0184070171493, a = 1.265808455311814e-32\n",
      "  MCMC sample 69000, loss = 77.0184070171493, a = 6.1444882214360254e-34\n",
      "  MCMC sample 70000, loss = 77.0184070171493, a = 2.385830643391107e-25\n",
      "  MCMC sample 71000, loss = 77.0184070171493, a = 4.313386958322869e-28\n",
      "  MCMC sample 72000, loss = 77.0184070171493, a = 2.4022900030566148e-29\n",
      "  MCMC sample 73000, loss = 77.0184070171493, a = 2.665859210832584e-31\n",
      "  MCMC sample 74000, loss = 77.0184070171493, a = 1.0857183946405933e-26\n",
      "  MCMC sample 75000, loss = 77.0184070171493, a = 2.3080548357307005e-29\n",
      "  MCMC sample 76000, loss = 77.0184070171493, a = 2.774836592982146e-31\n",
      "  MCMC sample 77000, loss = 77.0184070171493, a = 9.525686734117055e-23\n",
      "  MCMC sample 78000, loss = 77.0184070171493, a = 4.944460381519943e-30\n",
      "  MCMC sample 79000, loss = 77.0184070171493, a = 2.4605761099454453e-31\n",
      "  MCMC sample 80000, loss = 77.0184070171493, a = 1.0014319953589858e-26\n",
      "  MCMC sample 81000, loss = 77.0184070171493, a = 5.195805107705139e-24\n",
      "  MCMC sample 82000, loss = 77.0184070171493, a = 4.490074596144556e-28\n",
      "  MCMC sample 83000, loss = 77.0184070171493, a = 2.217516252393249e-29\n",
      "  MCMC sample 84000, loss = 77.0184070171493, a = 4.5643000300289344e-30\n",
      "  MCMC sample 85000, loss = 77.0184070171493, a = 1.1952019679360018e-30\n",
      "  MCMC sample 86000, loss = 77.0184070171493, a = 4.944460381519943e-30\n",
      "  MCMC sample 87000, loss = 77.0184070171493, a = 1.0371023064062175e-28\n",
      "  MCMC sample 88000, loss = 77.0184070171493, a = 9.23688910751724e-27\n",
      "  MCMC sample 89000, loss = 77.0184070171493, a = 1.548065652078376e-32\n",
      "  MCMC sample 90000, loss = 77.0184070171493, a = 2.665859210832584e-31\n",
      "  MCMC sample 91000, loss = 77.0184070171493, a = 1.3953093300978774e-34\n",
      "  MCMC sample 92000, loss = 77.0184070171493, a = 2.4022900030566148e-29\n",
      "  MCMC sample 93000, loss = 77.0184070171493, a = 2.888268850232273e-31\n",
      "  MCMC sample 94000, loss = 77.0184070171493, a = 2.386432947717629e-27\n",
      "  MCMC sample 95000, loss = 77.0184070171493, a = 2.557948705084208e-35\n",
      "  MCMC sample 96000, loss = 77.0184070171493, a = 5.146254499733133e-30\n",
      "  MCMC sample 97000, loss = 77.0184070171493, a = 5.936102102643737e-32\n",
      "  MCMC sample 98000, loss = 77.0184070171493, a = 4.673999822817104e-28\n",
      "  MCMC sample 99000, loss = 77.0184070171493, a = 3.032645922093288e-33\n",
      "  MCMC sample 100000, loss = 77.0184070171493, a = 2.66585921083266e-31\n",
      "0.23\n",
      "0.23\n"
     ]
    },
    {
     "data": {
      "image/png": "[encoded data removed]",
      "text/plain": [
       "<Figure size 432x432 with 1 Axes>"
      ]
     },
     "metadata": {
      "needs_background": "light"
     },
     "output_type": "display_data"
    }
   ],
   "source": [
    "N_samples_z = 100001\n",
    "#z0 = jnp.array(np.random.randint(0, K, (N,)))\n",
    "z0 = random.categorical(subkey, jnp.log(pi), shape = (N,))\n",
    "\n",
    "#z0 = z0.at[0].set(0)\n",
    "#z0 = z0.at[1].set(0)\n",
    "B = 3\n",
    "\n",
    "#params_z = {\"x\" : x, \"y\" : y, \"sigma\" : sigma, \"alpha\" : alpha, \"K\" : K, 'idx' : 11}\n",
    "params_z = {\"x\" : x, \"y\" : y, \"sigma\" : sigma, \"alpha\" : alpha, \"K\" : K}\n",
    "\n",
    "key, subkey = random.split(key)\n",
    "z_mean, z_r, z_samples = mcmc(subkey, proposal_z, z0, N_samples_z, params_z, 1, 1)\n",
    "z_rec = z_samples[N_samples_z-2]\n",
    "z_rec_m = jnp.mean(z_samples, axis=0)\n",
    "\n",
    "plt.plot(z_r)\n",
    "print(jnp.sum(jnp.abs(z0-z))/N)\n",
    "print(jnp.sum(jnp.abs(z_rec-z))/N)\n"
   ]
  },
  {
   "cell_type": "code",
   "execution_count": 93,
   "id": "c5003b22-b1ad-4dee-8ddb-ff95381ec48e",
   "metadata": {},
   "outputs": [
    {
     "name": "stdout",
     "output_type": "stream",
     "text": [
      "0.23\n",
      "0.23\n"
     ]
    }
   ],
   "source": [
    "print(jnp.sum(jnp.abs(z0-z))/N)\n",
    "print(jnp.sum(jnp.abs(z_rec_m-z))/N)"
   ]
  },
  {
   "cell_type": "code",
   "execution_count": 94,
   "id": "6a5935c5-748b-4e62-861d-fc76c08148eb",
   "metadata": {},
   "outputs": [
    {
     "name": "stdout",
     "output_type": "stream",
     "text": [
      "[1 1 1 0 1 1 1 1 1 1 1 1 1 1 1 1 1 1 1 1 1 1 1 1 1 1 1 1 1 1 1 1 1 1 1 1 1\n",
      " 0 1 1 1 0 0 1 1 1 1 1 1 1 1 1 1 1 1 1 1 1 0 0 1 1 1 1 1 0 1 1 1 1 1 0 1 1\n",
      " 1 1 1 1 1 1 0 1 1 1 1 1 1 1 1 1 1 1 1 0 1 0 1 1 1 1]\n",
      "[1. 1. 1. 0. 1. 1. 1. 1. 1. 1. 1. 1. 1. 1. 1. 1. 1. 1. 1. 1. 1. 1. 1. 1.\n",
      " 1. 1. 1. 1. 1. 1. 1. 1. 1. 1. 1. 1. 1. 0. 1. 1. 1. 0. 0. 1. 1. 1. 1. 1.\n",
      " 1. 1. 1. 1. 1. 1. 1. 1. 1. 1. 0. 0. 1. 1. 1. 1. 1. 0. 1. 1. 1. 1. 1. 0.\n",
      " 1. 1. 1. 1. 1. 1. 1. 1. 0. 1. 1. 1. 1. 1. 1. 1. 1. 1. 1. 1. 1. 0. 1. 0.\n",
      " 1. 1. 1. 1.]\n",
      "[1 1 1 1 1 1 1 1 1 1 1 0 0 1 1 1 1 1 1 1 1 1 1 1 1 0 1 1 1 1 1 1 1 1 1 1 1\n",
      " 1 1 1 1 1 1 1 1 1 0 1 1 0 0 1 1 1 1 0 1 1 1 1 1 0 1 1 1 1 1 1 1 0 1 1 1 1\n",
      " 1 1 1 1 1 1 1 1 1 1 0 1 1 1 1 1 1 0 0 1 1 1 1 1 1 1]\n"
     ]
    }
   ],
   "source": [
    "print(z0)\n",
    "print(jnp.mean(z_samples, axis=0))\n",
    "print(z)\n"
   ]
  },
  {
   "cell_type": "code",
   "execution_count": 103,
   "id": "2283c0e6-f279-4302-b33f-79523b9edd14",
   "metadata": {},
   "outputs": [
    {
     "data": {
      "text/plain": [
       "DeviceArray([1, 1, 1, 0, 1, 1, 1, 1, 1, 1, 1, 1, 1, 1, 1, 1, 1, 1, 1, 1,\n",
       "             1, 1, 1, 1, 1, 1, 1, 1, 1, 1, 1, 1, 1, 1, 1, 1, 1, 0, 1, 1,\n",
       "             1, 0, 0, 1, 1, 1, 1, 1, 1, 1, 1, 1, 1, 1, 1, 1, 1, 1, 0, 0,\n",
       "             1, 1, 1, 1, 1, 0, 1, 1, 1, 1, 1, 0, 1, 1, 1, 1, 1, 1, 1, 1,\n",
       "             0, 1, 1, 1, 1, 1, 1, 1, 1, 1, 1, 1, 1, 0, 1, 0, 1, 1, 1, 1],            dtype=int64)"
      ]
     },
     "execution_count": 103,
     "metadata": {},
     "output_type": "execute_result"
    }
   ],
   "source": [
    "z_rec"
   ]
  },
  {
   "cell_type": "code",
   "execution_count": null,
   "id": "e15b4da7-612a-4772-8f91-19d8301dbfeb",
   "metadata": {},
   "outputs": [],
   "source": [
    "nbins=100\n",
    "counts, bins = np.histogram(z_samples[:,9], bins=nbins)\n",
    "_ = plt.hist(bins[:-1], bins, weights=counts)"
   ]
  },
  {
   "cell_type": "code",
   "execution_count": 2012,
   "id": "6e561038-db08-42f6-8199-d27780cbe79d",
   "metadata": {},
   "outputs": [
    {
     "data": {
      "text/plain": [
       "(DeviceArray([ 9, 10, 76, 96], dtype=int64),)"
      ]
     },
     "execution_count": 2012,
     "metadata": {},
     "output_type": "execute_result"
    }
   ],
   "source": [
    "jnp.where(z ==1)"
   ]
  },
  {
   "cell_type": "code",
   "execution_count": 2013,
   "id": "32f5e6f4-e664-447e-8860-ea202abcb8fd",
   "metadata": {},
   "outputs": [
    {
     "data": {
      "text/plain": [
       "(DeviceArray([ 1,  2,  3,  5,  7,  8,  9, 11, 12, 13, 15, 16, 21, 22, 23,\n",
       "              24, 25, 26, 27, 28, 31, 35, 36, 37, 38, 40, 46, 47, 49, 50,\n",
       "              52, 56, 57, 58, 59, 61, 62, 63, 65, 66, 67, 71, 73, 74, 75,\n",
       "              76, 77, 78, 79, 80, 85, 88, 89, 91, 94, 97, 99], dtype=int64),)"
      ]
     },
     "execution_count": 2013,
     "metadata": {},
     "output_type": "execute_result"
    }
   ],
   "source": [
    "jnp.where(z_rec_m > 0.5)"
   ]
  },
  {
   "cell_type": "code",
   "execution_count": 2004,
   "id": "108a75d9-32e3-4161-aa62-8f2a39060b59",
   "metadata": {},
   "outputs": [
    {
     "data": {
      "text/plain": [
       "DeviceArray([0.91638382, 0.08361618], dtype=float64)"
      ]
     },
     "execution_count": 2004,
     "metadata": {},
     "output_type": "execute_result"
    }
   ],
   "source": [
    "pi"
   ]
  },
  {
   "cell_type": "code",
   "execution_count": 31,
   "id": "10e28305-f53d-4477-8f57-b13ff68bbbae",
   "metadata": {},
   "outputs": [],
   "source": [
    "\n"
   ]
  },
  {
   "cell_type": "code",
   "execution_count": 1822,
   "id": "41aa2854-8dfe-4131-b253-c5349119e307",
   "metadata": {},
   "outputs": [
    {
     "data": {
      "text/plain": [
       "DeviceArray([1, 0, 0], dtype=int64)"
      ]
     },
     "execution_count": 1822,
     "metadata": {},
     "output_type": "execute_result"
    }
   ],
   "source": [
    "z"
   ]
  },
  {
   "cell_type": "code",
   "execution_count": 1823,
   "id": "1b282b02-8e3a-4f02-9916-4237c243314a",
   "metadata": {},
   "outputs": [
    {
     "name": "stdout",
     "output_type": "stream",
     "text": [
      "-2.770355754395285\n",
      "-3.7920070019272667\n",
      "-3.792007001927267\n",
      "-3.792007001927267\n",
      "-5.401444914361368 <-- true\n",
      "-5.401444914361368\n",
      "-5.401444914361368\n",
      "-4.379793666829385\n"
     ]
    }
   ],
   "source": [
    "print(logPi(x, jnp.array([0,0,0]), y, sigma, alpha))\n",
    "print(logPi(x, jnp.array([0,0,1]), y, sigma, alpha))\n",
    "print(logPi(x, jnp.array([0,1,0]), y, sigma, alpha))\n",
    "print(logPi(x, jnp.array([0,1,1]), y, sigma, alpha))\n",
    "print(logPi(x, jnp.array([1,0,0]), y, sigma, alpha), \"<-- true\")\n",
    "print(logPi(x, jnp.array([1,0,1]), y, sigma, alpha))\n",
    "print(logPi(x, jnp.array([1,1,0]), y, sigma, alpha))\n",
    "print(logPi(x, jnp.array([1,1,1]), y, sigma, alpha))\n",
    "\n"
   ]
  },
  {
   "cell_type": "code",
   "execution_count": 1815,
   "id": "7cc0ce79-5706-4c83-b728-affd177ecdc8",
   "metadata": {},
   "outputs": [
    {
     "data": {
      "text/plain": [
       "DeviceArray([0.63249074, 0.36750926], dtype=float64)"
      ]
     },
     "execution_count": 1815,
     "metadata": {},
     "output_type": "execute_result"
    }
   ],
   "source": [
    "pi"
   ]
  },
  {
   "cell_type": "code",
   "execution_count": 1816,
   "id": "e91dee86-7501-4d9d-a8a0-6692ddef1a67",
   "metadata": {},
   "outputs": [
    {
     "data": {
      "text/plain": [
       "DeviceArray([0.5, 0.5], dtype=float64)"
      ]
     },
     "execution_count": 1816,
     "metadata": {},
     "output_type": "execute_result"
    }
   ],
   "source": [
    "alpha"
   ]
  },
  {
   "cell_type": "code",
   "execution_count": 1820,
   "id": "298127dd-e594-4734-882f-caf302e3dfc6",
   "metadata": {},
   "outputs": [
    {
     "data": {
      "text/plain": [
       "DeviceArray([-0.64361755,  0.40652684], dtype=float64)"
      ]
     },
     "execution_count": 1820,
     "metadata": {},
     "output_type": "execute_result"
    }
   ],
   "source": [
    "x"
   ]
  },
  {
   "cell_type": "code",
   "execution_count": null,
   "id": "ed5f921a-ae3c-4aa9-97b0-a92728d5d9ee",
   "metadata": {},
   "outputs": [],
   "source": []
  }
 ],
 "metadata": {
  "kernelspec": {
   "display_name": "Python 3 (ipykernel)",
   "language": "python",
   "name": "python3"
  },
  "language_info": {
   "codemirror_mode": {
    "name": "ipython",
    "version": 3
   },
   "file_extension": ".py",
   "mimetype": "text/x-python",
   "name": "python",
   "nbconvert_exporter": "python",
   "pygments_lexer": "ipython3",
   "version": "3.9.7"
  }
 },
 "nbformat": 4,
 "nbformat_minor": 5
}
