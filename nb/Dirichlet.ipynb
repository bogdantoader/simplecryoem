{
 "cells": [
  {
   "cell_type": "code",
   "execution_count": 561,
   "id": "9c792c4c-80c8-4473-b3b4-d673e781b1aa",
   "metadata": {},
   "outputs": [
    {
     "name": "stdout",
     "output_type": "stream",
     "text": [
      "The autoreload extension is already loaded. To reload it, use:\n",
      "  %reload_ext autoreload\n"
     ]
    }
   ],
   "source": [
    "%load_ext autoreload\n",
    "%autoreload 2\n",
    "import site\n",
    "import sys\n",
    "import time\n",
    "import pickle\n",
    "site.addsitedir('..')\n",
    "from jax.config import config\n",
    "\n",
    "#config.update(\"jax_enable_x64\", True)"
   ]
  },
  {
   "cell_type": "code",
   "execution_count": 562,
   "id": "e979d57e-f612-4760-b769-f22eb16ddc15",
   "metadata": {},
   "outputs": [],
   "source": [
    "import numpy as np\n",
    "import jax.numpy as jnp\n",
    "from  matplotlib import pyplot as plt\n",
    "from src.utils import *\n",
    "from src.projection import *\n",
    "from src.interpolate import *\n",
    "from src.jaxops import *\n",
    "from src.fsc import *\n",
    "from src.algorithm import *\n",
    "from src.ab_initio import ab_initio, ab_initio_mcmc\n",
    "from src.residual import get_volume_residual\n",
    "import jax\n",
    "\n",
    "from jax.scipy.special import gammaln\n",
    "\n",
    "import mrcfile\n",
    "\n",
    "plt.rcParams[\"figure.figsize\"]=6,6"
   ]
  },
  {
   "cell_type": "code",
   "execution_count": 563,
   "id": "dd7e2a3f-b064-44d8-bb9d-d6d86310fd6e",
   "metadata": {},
   "outputs": [],
   "source": [
    "key = random.PRNGKey(int(jnp.floor(np.random.rand()*1000)))\n"
   ]
  },
  {
   "cell_type": "code",
   "execution_count": 835,
   "id": "75556229-5c63-4d6f-a277-248980c4e5ac",
   "metadata": {},
   "outputs": [],
   "source": [
    "K = 2\n",
    "N = 100\n",
    "sigma = 0.01\n",
    "\n",
    "alpha = jnp.array([10,10])"
   ]
  },
  {
   "cell_type": "code",
   "execution_count": 836,
   "id": "69825358-81e0-4d8c-8c1b-34f7a309f3a5",
   "metadata": {},
   "outputs": [
    {
     "name": "stdout",
     "output_type": "stream",
     "text": [
      "[0.46062138 0.53937862]\n",
      "0.9999999999999999\n"
     ]
    }
   ],
   "source": [
    "key, subkey = random.split(key)\n",
    "pi = random.dirichlet(subkey, alpha)\n",
    "print(pi)\n",
    "print(jnp.sum(pi))"
   ]
  },
  {
   "cell_type": "code",
   "execution_count": 837,
   "id": "6b682411-9fe1-49d8-b4e9-6b84e5e22d5c",
   "metadata": {},
   "outputs": [
    {
     "name": "stdout",
     "output_type": "stream",
     "text": [
      "0.51\n",
      "0.49\n"
     ]
    }
   ],
   "source": [
    "key, subkey = random.split(key)\n",
    "z = random.categorical(subkey, jnp.log(pi), shape = (N,))\n",
    "print(jnp.sum(z==0)/N)\n",
    "print(jnp.sum(z==1)/N)"
   ]
  },
  {
   "cell_type": "code",
   "execution_count": 838,
   "id": "7782e1e2-15bc-4db8-807d-afd08d2592b8",
   "metadata": {},
   "outputs": [
    {
     "name": "stdout",
     "output_type": "stream",
     "text": [
      "[-1.04175224  1.39043824]\n"
     ]
    }
   ],
   "source": [
    "key, subkey = random.split(key)\n",
    "x = random.normal(subkey, shape = (K,))\n",
    "print(x)\n",
    "#print(y.shape)"
   ]
  },
  {
   "cell_type": "code",
   "execution_count": 839,
   "id": "4200539f-cb45-4eea-b7b2-7671a5f81655",
   "metadata": {},
   "outputs": [
    {
     "data": {
      "text/plain": [
       "[<matplotlib.lines.Line2D at 0x7fbe98950100>]"
      ]
     },
     "execution_count": 839,
     "metadata": {},
     "output_type": "execute_result"
    },
    {
     "data": {
      "image/png": "[encoded data removed]",
      "text/plain": [
       "<Figure size 432x432 with 1 Axes>"
      ]
     },
     "metadata": {
      "needs_background": "light"
     },
     "output_type": "display_data"
    }
   ],
   "source": [
    "key, subkey = random.split(key)\n",
    "y = x[z] + sigma * random.normal(subkey, shape = (N,))\n",
    "plt.plot(y, '.')"
   ]
  },
  {
   "cell_type": "code",
   "execution_count": 840,
   "id": "518e26ca-cbe8-452d-8153-d6fdc60bcf3e",
   "metadata": {},
   "outputs": [
    {
     "data": {
      "text/plain": [
       "[<matplotlib.lines.Line2D at 0x7fbffa39d8b0>]"
      ]
     },
     "execution_count": 840,
     "metadata": {},
     "output_type": "execute_result"
    },
    {
     "data": {
      "image/png": "[encoded data removed]",
      "text/plain": [
       "<Figure size 432x432 with 1 Axes>"
      ]
     },
     "metadata": {
      "needs_background": "light"
     },
     "output_type": "display_data"
    }
   ],
   "source": [
    "plt.plot(x[z], y, '.')"
   ]
  },
  {
   "cell_type": "code",
   "execution_count": 841,
   "id": "8835a6eb-823e-4002-98b7-4ee0fcbe3fa3",
   "metadata": {},
   "outputs": [],
   "source": [
    "def calc_nik_ki(z,k,i): \n",
    "    z = z.at[i].set(jnp.inf)    \n",
    "    return jnp.sum(z == k)\n",
    "\n",
    "calc_nik_i = lambda z, i : jax.vmap(calc_nik_ki, in_axes = (None, 0, None))(z, jnp.arange(K), i)\n",
    "calc_nik = lambda z : jax.vmap(calc_ik_i, in_axes = (None, 0))(z, jnp.arange(N))\n",
    "calc_nik_jit = jax.jit(calc_nki)\n",
    "\n",
    "calc_nk_k = lambda z, k : jnp.sum(z == k)\n",
    "calc_nk = lambda z : jax.vmap(calc_nk_k, in_axes = (None, 0))(z, jnp.arange(K))\n",
    "calc_nk_jit = jax.jit(calc_nk)"
   ]
  },
  {
   "cell_type": "code",
   "execution_count": 842,
   "id": "d0cf984b-cc3b-4eed-983b-776e1e78f2e0",
   "metadata": {},
   "outputs": [
    {
     "data": {
      "text/plain": [
       "(100, 2)"
      ]
     },
     "execution_count": 842,
     "metadata": {},
     "output_type": "execute_result"
    }
   ],
   "source": [
    "nki_jit(z).shape"
   ]
  },
  {
   "cell_type": "code",
   "execution_count": 843,
   "id": "489a8982-f538-4f29-b89a-87176595a79a",
   "metadata": {},
   "outputs": [
    {
     "name": "stdout",
     "output_type": "stream",
     "text": [
      "51\n",
      "48\n",
      "0\n"
     ]
    }
   ],
   "source": [
    "print(calc_nik_ki(z, 0, 13))\n",
    "print(calc_nik_ki(z, 1, 13))\n",
    "print(calc_nik_ki(z, 2, 13))"
   ]
  },
  {
   "cell_type": "code",
   "execution_count": 844,
   "id": "993d1bd5-9244-4f1a-a660-123eac15f523",
   "metadata": {},
   "outputs": [
    {
     "data": {
      "text/plain": [
       "(100, 2)"
      ]
     },
     "execution_count": 844,
     "metadata": {},
     "output_type": "execute_result"
    }
   ],
   "source": [
    "calc_nik_jit(z).shape"
   ]
  },
  {
   "cell_type": "code",
   "execution_count": 845,
   "id": "b1e2929c-5a43-4616-8449-1a08ad0481bc",
   "metadata": {},
   "outputs": [
    {
     "data": {
      "text/plain": [
       "DeviceArray([51, 49], dtype=int64)"
      ]
     },
     "execution_count": 845,
     "metadata": {},
     "output_type": "execute_result"
    }
   ],
   "source": [
    "calc_nk_jit(z)"
   ]
  },
  {
   "cell_type": "code",
   "execution_count": 846,
   "id": "06197f8f-1fe1-48c5-b1c8-94ae44b8024a",
   "metadata": {},
   "outputs": [],
   "source": [
    "def logPi(x, z, y, sigma, alpha):\n",
    "    n_ik = calc_nki_jit(z)\n",
    "    n_k = calc_nk_jit(z)\n",
    "    \n",
    "    log_arg = jnp.zeros(y.shape)\n",
    "    logPZalpha = -gammaln(jnp.sum(n_k) + jnp.sum(alpha))\n",
    "\n",
    "    # TODO: vectorize\n",
    "    for k in jnp.arange(K):\n",
    "        log_arg += jnp.exp(jnp.exp(-(y - x[k])**2/sigma))*(n_ik[:, k] + alpha[k])\n",
    "        logPZalpha += gammaln(n_k[k] + alpha[k])\n",
    "    \n",
    "    return jnp.sum(jnp.log(log_arg)) - jnp.sum(x**2) + logPZalpha"
   ]
  },
  {
   "cell_type": "code",
   "execution_count": 847,
   "id": "e4cc3b56-a2a1-4948-b8e6-fb7116ae85cd",
   "metadata": {},
   "outputs": [],
   "source": [
    "@jax.jit\n",
    "def proposal_x(key, x0, logPiX0, B, z, y, sigma, alpha):\n",
    "    x1 = random.uniform(key, x0.shape) * 2*B-B\n",
    "    \n",
    "    logPiX0 = logPi(x0, z, y, sigma, alpha)\n",
    "    logPiX1 = logPi(x1, z, y, sigma, alpha)\n",
    "    \n",
    "    r = jnp.exp(logPiX1 - logPiX0)\n",
    "    \n",
    "    return x1, r, logPiX1, logPiX0\n",
    "\n",
    "@jax.jit\n",
    "def proposal_x0(key, x00, logPiX0, B, x1, z, y, sigma, alpha):\n",
    "    x01 = random.uniform(key) * 2*B-B\n",
    "    \n",
    "    logPiX0 = logPi(jnp.array([x00, x1]), z, y, sigma, alpha)\n",
    "    logPiX1 = logPi(jnp.array([x01, x1]), z, y, sigma, alpha)\n",
    "    \n",
    "    r = jnp.exp(logPiX1 - logPiX0)\n",
    "    \n",
    "    return x01, r, logPiX1, logPiX0    \n",
    "\n",
    "@jax.jit\n",
    "def proposal_x1(key, x10, logPiX0, B, x0, z, y, sigma, alpha):\n",
    "    x11 = random.uniform(key) * 2*B-B\n",
    "    \n",
    "    logPiX0 = logPi(jnp.array([x0, x10]), z, y, sigma, alpha)\n",
    "    logPiX1 = logPi(jnp.array([x0, x11]), z, y, sigma, alpha)\n",
    "    \n",
    "    r = jnp.exp(logPiX1 - logPiX0)\n",
    "    \n",
    "    return x11, r, logPiX1, logPiX0    \n",
    "\n",
    "@jax.jit\n",
    "def proposal_z(key, z0, logPiX0, x, y, sigma, alpha, K):\n",
    "    z1 = random.randint(key, z0.shape, 0, K) \n",
    "    \n",
    "    logPiX0 = logPi(x, z0, y, sigma, alpha)\n",
    "    logPiX1 = logPi(x, z1, y, sigma, alpha)\n",
    "    \n",
    "    r = jnp.exp(logPiX1 - logPiX0)\n",
    "    \n",
    "    return z1, r, logPiX1, logPiX0\n",
    "     "
   ]
  },
  {
   "cell_type": "markdown",
   "id": "4bd3c7f4-8f77-4eb7-8019-29ce719c006e",
   "metadata": {},
   "source": [
    "### First, sample x"
   ]
  },
  {
   "cell_type": "code",
   "execution_count": 848,
   "id": "732ba7ec-46f7-4898-8619-673088e508c5",
   "metadata": {},
   "outputs": [
    {
     "data": {
      "text/plain": [
       "DeviceArray([-1.04175224,  1.39043824], dtype=float64)"
      ]
     },
     "execution_count": 848,
     "metadata": {},
     "output_type": "execute_result"
    }
   ],
   "source": [
    "x"
   ]
  },
  {
   "cell_type": "code",
   "execution_count": 849,
   "id": "41d4e4f8-38eb-441d-bacb-e89996b4cd31",
   "metadata": {},
   "outputs": [
    {
     "name": "stdout",
     "output_type": "stream",
     "text": [
      "  MCMC sample 1000, loss = 449.8853198116319, a = 4.1204628587548056e-13\n",
      "  MCMC sample 2000, loss = 451.451422460294, a = 5.903112654677594e-14\n",
      "  MCMC sample 3000, loss = 448.67462324861947, a = 1.5698768378626377e-15\n",
      "  MCMC sample 4000, loss = 451.6466347824877, a = 2.6600804926828965e-15\n",
      "  MCMC sample 5000, loss = 451.75488871080404, a = 4.7166811714908984e-14\n",
      "  MCMC sample 6000, loss = 451.75537413549705, a = 1.625805309370686e-16\n",
      "  MCMC sample 7000, loss = 451.7275890402369, a = 0.0007684851716919817\n",
      "  MCMC sample 8000, loss = 451.76659266703473, a = 1.2424204052268001e-17\n",
      "  MCMC sample 9000, loss = 451.37634535319125, a = 8.442560831514964e-14\n",
      "  MCMC sample 10000, loss = 450.4320929564112, a = 1.4753654418724556e-14\n",
      "0.18909278385048278\n",
      "-1.058753711227347\n",
      "[-1.04175224  1.39043824]\n"
     ]
    },
    {
     "data": {
      "image/png": "[encoded data removed]",
      "text/plain": [
       "<Figure size 432x432 with 1 Axes>"
      ]
     },
     "metadata": {
      "needs_background": "light"
     },
     "output_type": "display_data"
    }
   ],
   "source": [
    "N_samples_x = 10001\n",
    "#x0 = jnp.array(np.random.randn(K))\n",
    "x0 = jnp.array(np.random.rand())\n",
    "B = 3\n",
    "\n",
    "#params_x = {\"B\" : B, \"z\" : z, \"y\" : y, \"sigma\" : sigma, \"alpha\" : alpha}\n",
    "params_x = {\"B\" : B, \"z\" : z, \"y\" : y, \"sigma\" : sigma, \"alpha\" : alpha, \"x1\" : x[1]}\n",
    "\n",
    "key, subkey = random.split(key)\n",
    "x_mean, x_r, x_sample = mcmc(subkey, proposal_x0, x0, N_samples_x, params_x, 1, 1)\n",
    "\n",
    "plt.plot(x_r)\n",
    "\n",
    "print(x0)\n",
    "print(x_sample[N_samples_x-2])\n",
    "#print(x_mean)\n",
    "print(x)"
   ]
  },
  {
   "cell_type": "code",
   "execution_count": 850,
   "id": "a7195e0e-73c6-44b7-a872-97af589fcf73",
   "metadata": {},
   "outputs": [
    {
     "name": "stdout",
     "output_type": "stream",
     "text": [
      "  MCMC sample 1000, loss = 451.4982912926115, a = 1.284448445445355e-08\n",
      "  MCMC sample 2000, loss = 451.64416735626673, a = 1.3075687374523254e-12\n",
      "  MCMC sample 3000, loss = 451.5865113939626, a = 3.582640303276263e-14\n",
      "  MCMC sample 4000, loss = 451.58909324303454, a = 3.022603105406367e-14\n",
      "  MCMC sample 5000, loss = 451.71517095499405, a = 2.5593768974573016e-16\n",
      "  MCMC sample 6000, loss = 451.75550675029945, a = 1.7366703021813483e-15\n",
      "  MCMC sample 7000, loss = 451.70019459422485, a = 1.1962467068355325e-10\n",
      "  MCMC sample 8000, loss = 450.40278074205673, a = 4.368984730692972e-13\n",
      "  MCMC sample 9000, loss = 449.5286029188727, a = 3.011509929911639e-13\n",
      "  MCMC sample 10000, loss = 450.12225622110327, a = 1.5036481307703185e-12\n",
      "0.3346307492610884\n",
      "1.410558616507263\n",
      "[-1.04175224  1.39043824]\n"
     ]
    },
    {
     "data": {
      "image/png": "[encoded data removed]",
      "text/plain": [
       "<Figure size 432x432 with 1 Axes>"
      ]
     },
     "metadata": {
      "needs_background": "light"
     },
     "output_type": "display_data"
    }
   ],
   "source": [
    "N_samples_x = 10001\n",
    "#x0 = jnp.array(np.random.randn(K))\n",
    "x0 = jnp.array(np.random.rand())\n",
    "B = 3\n",
    "\n",
    "#params_x = {\"B\" : B, \"z\" : z, \"y\" : y, \"sigma\" : sigma, \"alpha\" : alpha}\n",
    "params_x = {\"B\" : B, \"z\" : z, \"y\" : y, \"sigma\" : sigma, \"alpha\" : alpha, \"x0\" : x[0]}\n",
    "\n",
    "key, subkey = random.split(key)\n",
    "x_mean, x_r, x_sample = mcmc(subkey, proposal_x1, x0, N_samples_x, params_x, 1, 1)\n",
    "\n",
    "plt.plot(x_r)\n",
    "print(x0)\n",
    "print(x_sample[N_samples_x-2])\n",
    "#print(x_mean)\n",
    "print(x)\n"
   ]
  },
  {
   "cell_type": "code",
   "execution_count": 851,
   "id": "dad4b0d6-5bb1-428b-8086-f6c7b0c2a02d",
   "metadata": {},
   "outputs": [
    {
     "name": "stdout",
     "output_type": "stream",
     "text": [
      "  MCMC sample 1000, loss = 448.1899018673356, a = 3.44565468060232e-21\n",
      "  MCMC sample 2000, loss = 449.3531834171687, a = 1.186459075423566e-21\n",
      "  MCMC sample 3000, loss = 449.3531834171687, a = 4.564436777532618e-26\n",
      "  MCMC sample 4000, loss = 449.65252121474384, a = 9.259534370371626e-15\n",
      "  MCMC sample 5000, loss = 449.65252121474384, a = 7.281707665385865e-26\n",
      "  MCMC sample 6000, loss = 449.65252121474384, a = 6.108358379359448e-26\n",
      "  MCMC sample 7000, loss = 449.65252121474384, a = 4.5608167958083653e-29\n",
      "  MCMC sample 8000, loss = 450.5398356811887, a = 4.401223773776535e-17\n",
      "  MCMC sample 9000, loss = 450.5398356811887, a = 1.8902521546898202e-25\n",
      "  MCMC sample 10000, loss = 450.5398356811887, a = 3.3348185975726455e-27\n",
      "[1.65527326 1.15431917]\n",
      "[ 1.39791404 -1.06111783]\n",
      "[-1.04175224  1.39043824]\n"
     ]
    },
    {
     "data": {
      "image/png": "[encoded data removed]",
      "text/plain": [
       "<Figure size 432x432 with 1 Axes>"
      ]
     },
     "metadata": {
      "needs_background": "light"
     },
     "output_type": "display_data"
    }
   ],
   "source": [
    "N_samples_x = 10001\n",
    "x0 = jnp.array(np.random.randn(K))\n",
    "B = 3\n",
    "\n",
    "params_x = {\"B\" : B, \"z\" : z, \"y\" : y, \"sigma\" : sigma, \"alpha\" : alpha}\n",
    "\n",
    "key, subkey = random.split(key)\n",
    "x_mean, x_r, x_sample = mcmc(subkey, proposal_x, x0, N_samples_x, params_x, 1, 1)\n",
    "\n",
    "plt.plot(x_r)\n",
    "print(x0)\n",
    "print(x_sample[N_samples_x-2])\n",
    "#print(x_mean)\n",
    "print(x)\n"
   ]
  },
  {
   "cell_type": "code",
   "execution_count": 852,
   "id": "3ec73ad2-303a-41d0-a68e-04a587362f15",
   "metadata": {},
   "outputs": [
    {
     "data": {
      "text/plain": [
       "DeviceArray(451.7538912, dtype=float64)"
      ]
     },
     "execution_count": 852,
     "metadata": {},
     "output_type": "execute_result"
    }
   ],
   "source": [
    "logPi(x, z, y, sigma, alpha)\n"
   ]
  },
  {
   "cell_type": "code",
   "execution_count": 853,
   "id": "16b91d48-15c6-4006-aa8a-7142b807db85",
   "metadata": {},
   "outputs": [
    {
     "data": {
      "text/plain": [
       "DeviceArray(451.7538912, dtype=float64)"
      ]
     },
     "execution_count": 853,
     "metadata": {},
     "output_type": "execute_result"
    }
   ],
   "source": [
    "logPi(jnp.array([x[0],x[1]]), z, y, sigma, alpha)"
   ]
  },
  {
   "cell_type": "code",
   "execution_count": 854,
   "id": "36aa8568-0b7d-4acb-b03d-1b1ea8443796",
   "metadata": {},
   "outputs": [
    {
     "data": {
      "text/plain": [
       "DeviceArray(438.5384653, dtype=float64)"
      ]
     },
     "execution_count": 854,
     "metadata": {},
     "output_type": "execute_result"
    }
   ],
   "source": [
    "logPi(jnp.array([x[1],x[1]]), z, y, sigma, alpha)"
   ]
  },
  {
   "cell_type": "code",
   "execution_count": null,
   "id": "9609c318-ee57-4fd8-81af-a32eae0c3fc9",
   "metadata": {},
   "outputs": [],
   "source": []
  },
  {
   "cell_type": "code",
   "execution_count": 855,
   "id": "5ee35e6c-f6cc-4104-a82e-b07711a03b95",
   "metadata": {},
   "outputs": [
    {
     "data": {
      "text/plain": [
       "DeviceArray([1, 0, 0, 1, 1, 2, 1, 2, 0, 0, 1, 2, 1, 1, 2, 1, 0, 2, 2, 2,\n",
       "             1, 0, 2, 1, 0, 1, 0, 2, 0, 1, 0, 1, 2, 1, 1, 2, 2, 2, 2, 2,\n",
       "             1, 0, 0, 1, 1, 1, 2, 1, 0, 1, 2, 1, 2, 2, 1, 0, 1, 2, 2, 0,\n",
       "             0, 1, 2, 1, 2, 0, 0, 1, 2, 0, 2, 1, 1, 0, 1, 1, 1, 1, 0, 1,\n",
       "             2, 0, 0, 1, 2, 0, 1, 1, 1, 1, 1, 0, 2, 1, 0, 1, 1, 1, 2, 0,\n",
       "             0, 1, 2, 1, 0, 2, 0, 0, 1, 1, 1, 1, 0, 1, 0, 1, 2, 0, 1, 0,\n",
       "             1, 2, 1, 1, 2, 2, 1, 0, 1, 1, 1, 0, 0, 2, 2, 1, 1, 0, 1, 1,\n",
       "             1, 1, 1, 0, 2, 2, 1, 0, 2, 1, 2, 0, 1, 2, 0, 1, 1, 2, 2, 2,\n",
       "             1, 2, 1, 2, 0, 1, 2, 0, 1, 0, 0, 2, 0, 2, 1, 2, 1, 1, 0, 0,\n",
       "             0, 1, 1, 1, 1, 2, 1, 1, 2, 0, 0, 1, 1, 2, 0, 1, 2, 1, 2, 1,\n",
       "             2, 0, 2, 2, 0, 1, 0, 1, 2, 1, 2, 0, 1, 0, 1, 1, 1, 0, 0, 2,\n",
       "             0, 2, 0, 1, 0, 1, 2, 0, 2, 2, 2, 0, 1, 2, 1, 1, 0, 1, 1, 1,\n",
       "             0, 0, 0, 0, 2, 1, 2, 2, 2, 1, 1, 2, 2, 1, 2, 1, 2, 2, 2, 1,\n",
       "             0, 1, 0, 1, 1, 0, 0, 1, 0, 1, 2, 2, 0, 2, 0, 1, 1, 1, 2, 2,\n",
       "             0, 0, 2, 2, 1, 1, 2, 0, 1, 1, 2, 2, 1, 2, 0, 1, 0, 0, 1, 2,\n",
       "             1, 0, 0, 0, 1, 2, 1, 0, 1, 0, 1, 0, 1, 0, 2, 1, 1, 0, 2, 0,\n",
       "             1, 0, 1, 0, 0, 0, 2, 1, 1, 1, 1, 1, 0, 0, 1, 0, 2, 2, 2, 2,\n",
       "             2, 1, 1, 1, 2, 0, 1, 0, 0, 1, 2, 0, 1, 2, 1, 0, 0, 1, 2, 0,\n",
       "             1, 2, 2, 1, 1, 1, 2, 2, 0, 1, 0, 0, 1, 0, 0, 1, 1, 1, 0, 2,\n",
       "             2, 1, 1, 2, 1, 1, 0, 0, 1, 1, 1, 0, 1, 1, 1, 1, 2, 1, 1, 1,\n",
       "             1, 0, 2, 0, 0, 1, 1, 0, 0, 2, 1, 2, 0, 1, 1, 2, 0, 2, 1, 1,\n",
       "             2, 1, 2, 1, 2, 0, 0, 1, 1, 2, 1, 1, 0, 0, 0, 1, 0, 0, 1, 1,\n",
       "             1, 1, 1, 0, 2, 2, 1, 0, 0, 1, 2, 1, 0, 2, 1, 1, 2, 1, 1, 0,\n",
       "             0, 2, 1, 1, 2, 2, 2, 0, 0, 1, 0, 2, 1, 2, 1, 1, 0, 2, 1, 0,\n",
       "             1, 1, 2, 2, 0, 0, 1, 1, 0, 0, 2, 2, 0, 2, 1, 1, 1, 0, 1, 0,\n",
       "             2, 2, 0, 0, 2, 2, 1, 1, 1, 1, 1, 2, 2, 0, 1, 0, 1, 2, 1, 0,\n",
       "             0, 1, 1, 2, 2, 2, 0, 1, 1, 0, 1, 2, 0, 0, 1, 0, 1, 2, 1, 0,\n",
       "             1, 2, 2, 2, 1, 1, 1, 1, 2, 1, 2, 1, 0, 0, 0, 1, 0, 2, 0, 1,\n",
       "             2, 2, 2, 2, 1, 1, 2, 2, 2, 2, 1, 1, 0, 1, 2, 2, 2, 1, 1, 0,\n",
       "             2, 1, 0, 1, 0, 0, 1, 2, 1, 2, 1, 2, 2, 2, 2, 1, 2, 0, 1, 1,\n",
       "             2, 0, 2, 0, 1, 0, 1, 2, 2, 0, 2, 1, 2, 0, 2, 2, 1, 1, 0, 1,\n",
       "             1, 2, 2, 0, 2, 2, 0, 1, 1, 0, 0, 1, 1, 1, 1, 0, 2, 1, 1, 2,\n",
       "             2, 0, 2, 1, 0, 2, 1, 1, 0, 0, 2, 2, 1, 2, 0, 1, 1, 0, 1, 0,\n",
       "             2, 0, 1, 2, 2, 1, 1, 1, 2, 0, 2, 0, 2, 0, 1, 2, 2, 2, 1, 2,\n",
       "             1, 1, 0, 2, 1, 2, 2, 1, 0, 2, 0, 1, 2, 1, 0, 2, 1, 2, 0, 1,\n",
       "             0, 1, 0, 0, 2, 0, 0, 0, 1, 1, 0, 1, 1, 1, 0, 0, 2, 0, 2, 1,\n",
       "             1, 1, 1, 2, 2, 2, 2, 1, 2, 2, 2, 0, 1, 1, 1, 0, 0, 1, 0, 1,\n",
       "             1, 1, 2, 1, 0, 0, 0, 1, 2, 0, 0, 0, 1, 2, 1, 0, 1, 1, 1, 0,\n",
       "             2, 1, 2, 2, 1, 1, 2, 1, 0, 1, 2, 2, 2, 0, 1, 0, 0, 1, 2, 1,\n",
       "             0, 0, 1, 0, 2, 0, 2, 1, 2, 0, 0, 0, 0, 1, 0, 0, 0, 0, 0, 0,\n",
       "             1, 1, 2, 2, 0, 2, 1, 0, 1, 2, 0, 1, 2, 0, 0, 0, 1, 1, 1, 2,\n",
       "             1, 1, 1, 1, 1, 1, 0, 0, 1, 0, 0, 1, 2, 0, 2, 1, 0, 1, 1, 0,\n",
       "             2, 0, 1, 0, 2, 2, 0, 0, 0, 1, 1, 1, 2, 0, 0, 0, 1, 1, 0, 1,\n",
       "             1, 1, 1, 2, 2, 0, 1, 2, 0, 0, 1, 1, 2, 0, 1, 1, 1, 2, 2, 0,\n",
       "             0, 1, 0, 2, 1, 1, 1, 0, 0, 1, 0, 0, 0, 0, 0, 0, 1, 1, 1, 2,\n",
       "             0, 2, 0, 1, 2, 2, 0, 0, 2, 2, 2, 2, 0, 2, 0, 1, 0, 0, 2, 1,\n",
       "             0, 2, 0, 2, 2, 1, 1, 2, 1, 2, 0, 1, 2, 0, 2, 0, 0, 2, 1, 1,\n",
       "             2, 1, 1, 1, 2, 2, 0, 1, 0, 0, 0, 1, 2, 1, 2, 2, 2, 0, 1, 0,\n",
       "             2, 0, 2, 0, 0, 2, 0, 0, 1, 1, 2, 2, 2, 1, 2, 0, 1, 0, 2, 1,\n",
       "             1, 1, 1, 1, 1, 2, 0, 1, 2, 2, 0, 1, 2, 2, 2, 0, 2, 0, 1, 2],            dtype=int64)"
      ]
     },
     "execution_count": 855,
     "metadata": {},
     "output_type": "execute_result"
    }
   ],
   "source": [
    "z_rec"
   ]
  },
  {
   "cell_type": "code",
   "execution_count": 856,
   "id": "ae7ba8b7-ab85-4af2-b161-6e5c4d281220",
   "metadata": {},
   "outputs": [],
   "source": [
    "myf = lambda x0, x1 : logPi(jnp.array([x0, x1]), z0, y, sigma, alpha)\n",
    "xx = jnp.linspace(-3,3,1000)    \n",
    "yy = jnp.linspace(-3,3,1000)"
   ]
  },
  {
   "cell_type": "code",
   "execution_count": 863,
   "id": "c44cbf01-bdbb-4bcf-8e44-2f538dfa20af",
   "metadata": {},
   "outputs": [
    {
     "ename": "TypeError",
     "evalue": "mul got incompatible shapes for broadcasting: (1000, 1000, 100), (1000, 1000, 1000).",
     "output_type": "error",
     "traceback": [
      "\u001b[0;31m---------------------------------------------------------------------------\u001b[0m",
      "\u001b[0;31mTypeError\u001b[0m                                 Traceback (most recent call last)",
      "\u001b[0;32m/var/folders/t3/hcx4r4_961g84bb7t1m8hjqc0000gn/T/ipykernel_5601/882717811.py\u001b[0m in \u001b[0;36m<module>\u001b[0;34m\u001b[0m\n\u001b[1;32m      1\u001b[0m \u001b[0mmyf_x\u001b[0m \u001b[0;34m=\u001b[0m \u001b[0;32mlambda\u001b[0m \u001b[0mx\u001b[0m \u001b[0;34m:\u001b[0m \u001b[0mjax\u001b[0m\u001b[0;34m.\u001b[0m\u001b[0mvmap\u001b[0m\u001b[0;34m(\u001b[0m\u001b[0mmyf\u001b[0m\u001b[0;34m,\u001b[0m \u001b[0min_axes\u001b[0m \u001b[0;34m=\u001b[0m \u001b[0;34m(\u001b[0m\u001b[0;32mNone\u001b[0m\u001b[0;34m,\u001b[0m \u001b[0;36m0\u001b[0m\u001b[0;34m)\u001b[0m\u001b[0;34m)\u001b[0m\u001b[0;34m(\u001b[0m\u001b[0mx\u001b[0m\u001b[0;34m,\u001b[0m \u001b[0myy\u001b[0m\u001b[0;34m)\u001b[0m\u001b[0;34m\u001b[0m\u001b[0;34m\u001b[0m\u001b[0m\n\u001b[0;32m----> 2\u001b[0;31m \u001b[0mmyf_xy0\u001b[0m \u001b[0;34m=\u001b[0m \u001b[0mjax\u001b[0m\u001b[0;34m.\u001b[0m\u001b[0mvmap\u001b[0m\u001b[0;34m(\u001b[0m\u001b[0mmyf_x\u001b[0m\u001b[0;34m)\u001b[0m\u001b[0;34m(\u001b[0m\u001b[0mxx\u001b[0m\u001b[0;34m)\u001b[0m\u001b[0;34m\u001b[0m\u001b[0;34m\u001b[0m\u001b[0m\n\u001b[0m",
      "    \u001b[0;31m[... skipping hidden 3 frame]\u001b[0m\n",
      "\u001b[0;32m/var/folders/t3/hcx4r4_961g84bb7t1m8hjqc0000gn/T/ipykernel_5601/882717811.py\u001b[0m in \u001b[0;36m<lambda>\u001b[0;34m(x)\u001b[0m\n\u001b[0;32m----> 1\u001b[0;31m \u001b[0mmyf_x\u001b[0m \u001b[0;34m=\u001b[0m \u001b[0;32mlambda\u001b[0m \u001b[0mx\u001b[0m \u001b[0;34m:\u001b[0m \u001b[0mjax\u001b[0m\u001b[0;34m.\u001b[0m\u001b[0mvmap\u001b[0m\u001b[0;34m(\u001b[0m\u001b[0mmyf\u001b[0m\u001b[0;34m,\u001b[0m \u001b[0min_axes\u001b[0m \u001b[0;34m=\u001b[0m \u001b[0;34m(\u001b[0m\u001b[0;32mNone\u001b[0m\u001b[0;34m,\u001b[0m \u001b[0;36m0\u001b[0m\u001b[0;34m)\u001b[0m\u001b[0;34m)\u001b[0m\u001b[0;34m(\u001b[0m\u001b[0mx\u001b[0m\u001b[0;34m,\u001b[0m \u001b[0myy\u001b[0m\u001b[0;34m)\u001b[0m\u001b[0;34m\u001b[0m\u001b[0;34m\u001b[0m\u001b[0m\n\u001b[0m\u001b[1;32m      2\u001b[0m \u001b[0mmyf_xy0\u001b[0m \u001b[0;34m=\u001b[0m \u001b[0mjax\u001b[0m\u001b[0;34m.\u001b[0m\u001b[0mvmap\u001b[0m\u001b[0;34m(\u001b[0m\u001b[0mmyf_x\u001b[0m\u001b[0;34m)\u001b[0m\u001b[0;34m(\u001b[0m\u001b[0mxx\u001b[0m\u001b[0;34m)\u001b[0m\u001b[0;34m\u001b[0m\u001b[0;34m\u001b[0m\u001b[0m\n",
      "    \u001b[0;31m[... skipping hidden 3 frame]\u001b[0m\n",
      "\u001b[0;32m/var/folders/t3/hcx4r4_961g84bb7t1m8hjqc0000gn/T/ipykernel_5601/176496262.py\u001b[0m in \u001b[0;36m<lambda>\u001b[0;34m(x0, x1)\u001b[0m\n\u001b[0;32m----> 1\u001b[0;31m \u001b[0mmyf\u001b[0m \u001b[0;34m=\u001b[0m \u001b[0;32mlambda\u001b[0m \u001b[0mx0\u001b[0m\u001b[0;34m,\u001b[0m \u001b[0mx1\u001b[0m \u001b[0;34m:\u001b[0m \u001b[0mlogPi\u001b[0m\u001b[0;34m(\u001b[0m\u001b[0mjnp\u001b[0m\u001b[0;34m.\u001b[0m\u001b[0marray\u001b[0m\u001b[0;34m(\u001b[0m\u001b[0;34m[\u001b[0m\u001b[0mx0\u001b[0m\u001b[0;34m,\u001b[0m \u001b[0mx1\u001b[0m\u001b[0;34m]\u001b[0m\u001b[0;34m)\u001b[0m\u001b[0;34m,\u001b[0m \u001b[0mz0\u001b[0m\u001b[0;34m,\u001b[0m \u001b[0my\u001b[0m\u001b[0;34m,\u001b[0m \u001b[0msigma\u001b[0m\u001b[0;34m,\u001b[0m \u001b[0malpha\u001b[0m\u001b[0;34m)\u001b[0m\u001b[0;34m\u001b[0m\u001b[0;34m\u001b[0m\u001b[0m\n\u001b[0m\u001b[1;32m      2\u001b[0m \u001b[0mxx\u001b[0m \u001b[0;34m=\u001b[0m \u001b[0mjnp\u001b[0m\u001b[0;34m.\u001b[0m\u001b[0mlinspace\u001b[0m\u001b[0;34m(\u001b[0m\u001b[0;34m-\u001b[0m\u001b[0;36m3\u001b[0m\u001b[0;34m,\u001b[0m\u001b[0;36m3\u001b[0m\u001b[0;34m,\u001b[0m\u001b[0;36m1000\u001b[0m\u001b[0;34m)\u001b[0m\u001b[0;34m\u001b[0m\u001b[0;34m\u001b[0m\u001b[0m\n\u001b[1;32m      3\u001b[0m \u001b[0myy\u001b[0m \u001b[0;34m=\u001b[0m \u001b[0mjnp\u001b[0m\u001b[0;34m.\u001b[0m\u001b[0mlinspace\u001b[0m\u001b[0;34m(\u001b[0m\u001b[0;34m-\u001b[0m\u001b[0;36m3\u001b[0m\u001b[0;34m,\u001b[0m\u001b[0;36m3\u001b[0m\u001b[0;34m,\u001b[0m\u001b[0;36m1000\u001b[0m\u001b[0;34m)\u001b[0m\u001b[0;34m\u001b[0m\u001b[0;34m\u001b[0m\u001b[0m\n",
      "\u001b[0;32m/var/folders/t3/hcx4r4_961g84bb7t1m8hjqc0000gn/T/ipykernel_5601/1036751692.py\u001b[0m in \u001b[0;36mlogPi\u001b[0;34m(x, z, y, sigma, alpha)\u001b[0m\n\u001b[1;32m      8\u001b[0m     \u001b[0;31m# TODO: vectorize\u001b[0m\u001b[0;34m\u001b[0m\u001b[0;34m\u001b[0m\u001b[0m\n\u001b[1;32m      9\u001b[0m     \u001b[0;32mfor\u001b[0m \u001b[0mk\u001b[0m \u001b[0;32min\u001b[0m \u001b[0mjnp\u001b[0m\u001b[0;34m.\u001b[0m\u001b[0marange\u001b[0m\u001b[0;34m(\u001b[0m\u001b[0mK\u001b[0m\u001b[0;34m)\u001b[0m\u001b[0;34m:\u001b[0m\u001b[0;34m\u001b[0m\u001b[0;34m\u001b[0m\u001b[0m\n\u001b[0;32m---> 10\u001b[0;31m         \u001b[0mlog_arg\u001b[0m \u001b[0;34m+=\u001b[0m \u001b[0mjnp\u001b[0m\u001b[0;34m.\u001b[0m\u001b[0mexp\u001b[0m\u001b[0;34m(\u001b[0m\u001b[0mjnp\u001b[0m\u001b[0;34m.\u001b[0m\u001b[0mexp\u001b[0m\u001b[0;34m(\u001b[0m\u001b[0;34m-\u001b[0m\u001b[0;34m(\u001b[0m\u001b[0my\u001b[0m \u001b[0;34m-\u001b[0m \u001b[0mx\u001b[0m\u001b[0;34m[\u001b[0m\u001b[0mk\u001b[0m\u001b[0;34m]\u001b[0m\u001b[0;34m)\u001b[0m\u001b[0;34m**\u001b[0m\u001b[0;36m2\u001b[0m\u001b[0;34m/\u001b[0m\u001b[0msigma\u001b[0m\u001b[0;34m)\u001b[0m\u001b[0;34m)\u001b[0m\u001b[0;34m*\u001b[0m\u001b[0;34m(\u001b[0m\u001b[0mn_ik\u001b[0m\u001b[0;34m[\u001b[0m\u001b[0;34m:\u001b[0m\u001b[0;34m,\u001b[0m \u001b[0mk\u001b[0m\u001b[0;34m]\u001b[0m \u001b[0;34m+\u001b[0m \u001b[0malpha\u001b[0m\u001b[0;34m[\u001b[0m\u001b[0mk\u001b[0m\u001b[0;34m]\u001b[0m\u001b[0;34m)\u001b[0m\u001b[0;34m\u001b[0m\u001b[0;34m\u001b[0m\u001b[0m\n\u001b[0m\u001b[1;32m     11\u001b[0m         \u001b[0mlogPZalpha\u001b[0m \u001b[0;34m+=\u001b[0m \u001b[0mgammaln\u001b[0m\u001b[0;34m(\u001b[0m\u001b[0mn_k\u001b[0m\u001b[0;34m[\u001b[0m\u001b[0mk\u001b[0m\u001b[0;34m]\u001b[0m \u001b[0;34m+\u001b[0m \u001b[0malpha\u001b[0m\u001b[0;34m[\u001b[0m\u001b[0mk\u001b[0m\u001b[0;34m]\u001b[0m\u001b[0;34m)\u001b[0m\u001b[0;34m\u001b[0m\u001b[0;34m\u001b[0m\u001b[0m\n\u001b[1;32m     12\u001b[0m \u001b[0;34m\u001b[0m\u001b[0m\n",
      "    \u001b[0;31m[... skipping hidden 1 frame]\u001b[0m\n",
      "\u001b[0;32m/opt/anaconda3/lib/python3.9/site-packages/jax/_src/numpy/lax_numpy.py\u001b[0m in \u001b[0;36mdeferring_binary_op\u001b[0;34m(self, other)\u001b[0m\n\u001b[1;32m   6745\u001b[0m     \u001b[0;32mif\u001b[0m \u001b[0;32mnot\u001b[0m \u001b[0misinstance\u001b[0m\u001b[0;34m(\u001b[0m\u001b[0mother\u001b[0m\u001b[0;34m,\u001b[0m \u001b[0m_accepted_binop_types\u001b[0m\u001b[0;34m)\u001b[0m\u001b[0;34m:\u001b[0m\u001b[0;34m\u001b[0m\u001b[0;34m\u001b[0m\u001b[0m\n\u001b[1;32m   6746\u001b[0m       \u001b[0;32mreturn\u001b[0m \u001b[0mNotImplemented\u001b[0m\u001b[0;34m\u001b[0m\u001b[0;34m\u001b[0m\u001b[0m\n\u001b[0;32m-> 6747\u001b[0;31m     \u001b[0;32mreturn\u001b[0m \u001b[0mbinary_op\u001b[0m\u001b[0;34m(\u001b[0m\u001b[0mself\u001b[0m\u001b[0;34m,\u001b[0m \u001b[0mother\u001b[0m\u001b[0;34m)\u001b[0m\u001b[0;34m\u001b[0m\u001b[0;34m\u001b[0m\u001b[0m\n\u001b[0m\u001b[1;32m   6748\u001b[0m   \u001b[0;32mreturn\u001b[0m \u001b[0mdeferring_binary_op\u001b[0m\u001b[0;34m\u001b[0m\u001b[0;34m\u001b[0m\u001b[0m\n\u001b[1;32m   6749\u001b[0m \u001b[0;34m\u001b[0m\u001b[0m\n",
      "    \u001b[0;31m[... skipping hidden 20 frame]\u001b[0m\n",
      "\u001b[0;32m/opt/anaconda3/lib/python3.9/site-packages/jax/_src/numpy/lax_numpy.py\u001b[0m in \u001b[0;36mfn\u001b[0;34m(x1, x2)\u001b[0m\n\u001b[1;32m    707\u001b[0m   \u001b[0;32mdef\u001b[0m \u001b[0mfn\u001b[0m\u001b[0;34m(\u001b[0m\u001b[0mx1\u001b[0m\u001b[0;34m,\u001b[0m \u001b[0mx2\u001b[0m\u001b[0;34m)\u001b[0m\u001b[0;34m:\u001b[0m\u001b[0;34m\u001b[0m\u001b[0;34m\u001b[0m\u001b[0m\n\u001b[1;32m    708\u001b[0m     \u001b[0mx1\u001b[0m\u001b[0;34m,\u001b[0m \u001b[0mx2\u001b[0m \u001b[0;34m=\u001b[0m \u001b[0m_promote_args\u001b[0m\u001b[0;34m(\u001b[0m\u001b[0mnumpy_fn\u001b[0m\u001b[0;34m.\u001b[0m\u001b[0m__name__\u001b[0m\u001b[0;34m,\u001b[0m \u001b[0mx1\u001b[0m\u001b[0;34m,\u001b[0m \u001b[0mx2\u001b[0m\u001b[0;34m)\u001b[0m\u001b[0;34m\u001b[0m\u001b[0;34m\u001b[0m\u001b[0m\n\u001b[0;32m--> 709\u001b[0;31m     \u001b[0;32mreturn\u001b[0m \u001b[0mlax_fn\u001b[0m\u001b[0;34m(\u001b[0m\u001b[0mx1\u001b[0m\u001b[0;34m,\u001b[0m \u001b[0mx2\u001b[0m\u001b[0;34m)\u001b[0m \u001b[0;32mif\u001b[0m \u001b[0mx1\u001b[0m\u001b[0;34m.\u001b[0m\u001b[0mdtype\u001b[0m \u001b[0;34m!=\u001b[0m \u001b[0mbool_\u001b[0m \u001b[0;32melse\u001b[0m \u001b[0mbool_lax_fn\u001b[0m\u001b[0;34m(\u001b[0m\u001b[0mx1\u001b[0m\u001b[0;34m,\u001b[0m \u001b[0mx2\u001b[0m\u001b[0;34m)\u001b[0m\u001b[0;34m\u001b[0m\u001b[0;34m\u001b[0m\u001b[0m\n\u001b[0m\u001b[1;32m    710\u001b[0m   \u001b[0mfn\u001b[0m \u001b[0;34m=\u001b[0m \u001b[0mjit\u001b[0m\u001b[0;34m(\u001b[0m\u001b[0mfn\u001b[0m\u001b[0;34m,\u001b[0m \u001b[0minline\u001b[0m\u001b[0;34m=\u001b[0m\u001b[0;32mTrue\u001b[0m\u001b[0;34m)\u001b[0m\u001b[0;34m\u001b[0m\u001b[0;34m\u001b[0m\u001b[0m\n\u001b[1;32m    711\u001b[0m   \u001b[0;32mif\u001b[0m \u001b[0mlax_doc\u001b[0m\u001b[0;34m:\u001b[0m\u001b[0;34m\u001b[0m\u001b[0;34m\u001b[0m\u001b[0m\n",
      "    \u001b[0;31m[... skipping hidden 14 frame]\u001b[0m\n",
      "\u001b[0;32m/opt/anaconda3/lib/python3.9/site-packages/jax/_src/lax/lax.py\u001b[0m in \u001b[0;36m_broadcasting_shape_rule\u001b[0;34m(name, *avals)\u001b[0m\n\u001b[1;32m   1420\u001b[0m       \u001b[0mnon_1s\u001b[0m \u001b[0;34m=\u001b[0m \u001b[0;34m{\u001b[0m\u001b[0md\u001b[0m \u001b[0;32mfor\u001b[0m \u001b[0md\u001b[0m \u001b[0;32min\u001b[0m \u001b[0mds\u001b[0m \u001b[0;32mif\u001b[0m \u001b[0;32mnot\u001b[0m \u001b[0mcore\u001b[0m\u001b[0;34m.\u001b[0m\u001b[0msymbolic_equal_dim\u001b[0m\u001b[0;34m(\u001b[0m\u001b[0md\u001b[0m\u001b[0;34m,\u001b[0m \u001b[0;36m1\u001b[0m\u001b[0;34m)\u001b[0m\u001b[0;34m}\u001b[0m\u001b[0;34m\u001b[0m\u001b[0;34m\u001b[0m\u001b[0m\n\u001b[1;32m   1421\u001b[0m       \u001b[0;32mif\u001b[0m \u001b[0mlen\u001b[0m\u001b[0;34m(\u001b[0m\u001b[0mnon_1s\u001b[0m\u001b[0;34m)\u001b[0m \u001b[0;34m>\u001b[0m \u001b[0;36m1\u001b[0m\u001b[0;34m:\u001b[0m\u001b[0;34m\u001b[0m\u001b[0;34m\u001b[0m\u001b[0m\n\u001b[0;32m-> 1422\u001b[0;31m         raise TypeError(f'{name} got incompatible shapes for broadcasting: '\n\u001b[0m\u001b[1;32m   1423\u001b[0m                         f'{\", \".join(map(str, map(tuple, shapes)))}.')\n\u001b[1;32m   1424\u001b[0m       \u001b[0mresult_shape\u001b[0m\u001b[0;34m.\u001b[0m\u001b[0mappend\u001b[0m\u001b[0;34m(\u001b[0m\u001b[0mnon_1s\u001b[0m\u001b[0;34m.\u001b[0m\u001b[0mpop\u001b[0m\u001b[0;34m(\u001b[0m\u001b[0;34m)\u001b[0m \u001b[0;32mif\u001b[0m \u001b[0mnon_1s\u001b[0m \u001b[0;32melse\u001b[0m \u001b[0;36m1\u001b[0m\u001b[0;34m)\u001b[0m\u001b[0;34m\u001b[0m\u001b[0;34m\u001b[0m\u001b[0m\n",
      "\u001b[0;31mTypeError\u001b[0m: mul got incompatible shapes for broadcasting: (1000, 1000, 100), (1000, 1000, 1000)."
     ]
    }
   ],
   "source": [
    "myf_x = lambda x : jax.vmap(myf, in_axes = (None, 0))(x, yy)\n",
    "myf_xy0 = jax.vmap(myf_x)(xx)"
   ]
  },
  {
   "cell_type": "code",
   "execution_count": null,
   "id": "b26b80bd-e04b-4c30-8d56-25fa87ac9488",
   "metadata": {},
   "outputs": [],
   "source": [
    "plt.imshow((myf_xy1)); plt.colorbar()"
   ]
  },
  {
   "cell_type": "code",
   "execution_count": null,
   "id": "d7a96f98-5b80-4463-a722-9e83df8b1119",
   "metadata": {},
   "outputs": [
    {
     "data": {
      "text/plain": [
       "<matplotlib.colorbar.Colorbar at 0x7fbf2a88d1f0>"
      ]
     },
     "execution_count": 861,
     "metadata": {},
     "output_type": "execute_result"
    },
    {
     "data": {
      "image/png": "[encoded data removed]",
      "text/plain": [
       "<Figure size 432x432 with 2 Axes>"
      ]
     },
     "metadata": {
      "needs_background": "light"
     },
     "output_type": "display_data"
    }
   ],
   "source": [
    "plt.imshow((myf_xy0)); plt.colorbar()"
   ]
  },
  {
   "cell_type": "code",
   "execution_count": null,
   "id": "317d07cf-ac72-48dd-bb11-63d835066a23",
   "metadata": {},
   "outputs": [
    {
     "data": {
      "text/plain": [
       "<matplotlib.colorbar.Colorbar at 0x7fbfd9e084c0>"
      ]
     },
     "execution_count": 862,
     "metadata": {},
     "output_type": "execute_result"
    },
    {
     "data": {
      "image/png": "[encoded data removed]",
      "text/plain": [
       "<Figure size 432x432 with 2 Axes>"
      ]
     },
     "metadata": {
      "needs_background": "light"
     },
     "output_type": "display_data"
    }
   ],
   "source": [
    "plt.imshow(jnp.abs(myf_xy0-myf_xy2)); plt.colorbar()"
   ]
  },
  {
   "cell_type": "code",
   "execution_count": null,
   "id": "8ebe35da-5507-4ae9-89fd-d22061a4f976",
   "metadata": {},
   "outputs": [],
   "source": [
    "print(myf(x[0], x[1]))\n",
    "print(myf(x[0], x[0]))\n",
    "print(myf(x[1], x[1]))\n",
    "print(myf(x[1], x[0]))"
   ]
  },
  {
   "cell_type": "markdown",
   "id": "e37199aa-3238-44ae-a8bb-158c5326aea1",
   "metadata": {},
   "source": [
    "### Now sample z"
   ]
  },
  {
   "cell_type": "code",
   "execution_count": null,
   "id": "5ee6d7c0-6e72-4a32-bdc4-4c7fe32738be",
   "metadata": {},
   "outputs": [
    {
     "name": "stdout",
     "output_type": "stream",
     "text": [
      "  MCMC sample 1000, loss = 450.2117896034937, a = 0.9513309924854216\n",
      "  MCMC sample 2000, loss = 450.2103177797578, a = 0.719135935871051\n",
      "  MCMC sample 3000, loss = 452.62943592013437, a = 0.15899757835680953\n",
      "  MCMC sample 4000, loss = 454.36821304883, a = 0.015317575013905996\n",
      "  MCMC sample 5000, loss = 450.85048950213513, a = 0.35091889295690665\n",
      "  MCMC sample 6000, loss = 450.2266886792023, a = 1.0\n",
      "  MCMC sample 7000, loss = 450.223275332105, a = 0.7562855466090286\n",
      "  MCMC sample 8000, loss = 451.4951666434448, a = 0.2731047812113359\n",
      "  MCMC sample 9000, loss = 450.31321557488684, a = 0.34853772964818286\n",
      "  MCMC sample 10000, loss = 450.4897152551872, a = 0.05650441486719958\n",
      "  MCMC sample 11000, loss = 450.32393325440967, a = 0.9841278694721944\n",
      "  MCMC sample 12000, loss = 450.26978598461295, a = 0.6039901869116622\n",
      "  MCMC sample 13000, loss = 450.82128588613125, a = 1.0\n",
      "  MCMC sample 14000, loss = 450.3142280417344, a = 1.0\n",
      "  MCMC sample 15000, loss = 450.149718428488, a = 0.597202131360794\n",
      "  MCMC sample 16000, loss = 450.88019284345273, a = 1.0\n",
      "  MCMC sample 17000, loss = 450.1596041598875, a = 0.9939675910806052\n",
      "  MCMC sample 18000, loss = 451.0719088264961, a = 1.0\n",
      "  MCMC sample 19000, loss = 453.8360569237045, a = 0.02946492137752098\n",
      "  MCMC sample 20000, loss = 450.6502495428807, a = 0.5880830854183804\n",
      "  MCMC sample 21000, loss = 450.3687797030718, a = 1.0\n",
      "  MCMC sample 22000, loss = 452.4912523330507, a = 0.09708850015839694\n",
      "  MCMC sample 23000, loss = 451.0550870388786, a = 0.4167264078609911\n",
      "  MCMC sample 24000, loss = 450.1650476505728, a = 0.24891400273859787\n",
      "  MCMC sample 25000, loss = 450.14545746441377, a = 0.8064573367275147\n",
      "  MCMC sample 26000, loss = 452.9819942458349, a = 0.059639758270051794\n",
      "  MCMC sample 27000, loss = 451.60282509722765, a = 0.2333832886324252\n",
      "  MCMC sample 28000, loss = 451.08139808464955, a = 0.40459700728803255\n",
      "  MCMC sample 29000, loss = 451.23129777948475, a = 1.0\n",
      "  MCMC sample 30000, loss = 450.3134478907358, a = 1.0\n",
      "  MCMC sample 31000, loss = 450.34384429906595, a = 1.0\n",
      "  MCMC sample 32000, loss = 453.86470455332494, a = 0.02801193340346194\n",
      "  MCMC sample 33000, loss = 451.55640095080764, a = 0.970039976364673\n",
      "  MCMC sample 34000, loss = 450.6472649846735, a = 0.7186449026911418\n",
      "  MCMC sample 35000, loss = 450.47498478242244, a = 0.8289742776318068\n",
      "  MCMC sample 36000, loss = 450.1408380562125, a = 0.9028861908507598\n",
      "  MCMC sample 37000, loss = 450.67740809678287, a = 0.8391567502641429\n",
      "  MCMC sample 38000, loss = 450.6379801876143, a = 0.8314979953434067\n",
      "  MCMC sample 39000, loss = 450.1911521893852, a = 0.5830958924937719\n",
      "  MCMC sample 40000, loss = 451.03960278807835, a = 0.5619272563773022\n",
      "  MCMC sample 41000, loss = 451.0212379800804, a = 1.0\n",
      "  MCMC sample 42000, loss = 452.523982356993, a = 0.10538867375634033\n",
      "  MCMC sample 43000, loss = 450.50206357750847, a = 0.9967582607644645\n",
      "  MCMC sample 44000, loss = 456.59740180841834, a = 0.0032834509290487323\n",
      "  MCMC sample 45000, loss = 450.1557960277139, a = 0.9635682858705349\n",
      "  MCMC sample 46000, loss = 451.03791948849414, a = 0.4175517190449096\n",
      "  MCMC sample 47000, loss = 450.83225885517777, a = 1.0\n",
      "  MCMC sample 48000, loss = 450.85227296444305, a = 1.0\n"
     ]
    }
   ],
   "source": [
    "N_samples_z = 100001\n",
    "z0 = jnp.array(np.random.randint(0, K, (N,)))\n",
    "B = 3\n",
    "\n",
    "params_z = {\"x\" : x_sample[N_samples_x-2], \"y\" : y, \"sigma\" : sigma, \"alpha\" : alpha, \"K\" : K}\n",
    "\n",
    "key, subkey = random.split(key)\n",
    "z_mean, z_r, z_samples = mcmc(subkey, proposal_z, z0, N_samples_z, params_z, 1, 1)\n",
    "z_rec = z_samples[N_samples_z-2]\n",
    "\n",
    "plt.plot(z_r)\n",
    "print(jnp.sum(jnp.abs(z0-z))/N)\n",
    "print(jnp.sum(jnp.abs(z_rec-z))/N)\n"
   ]
  },
  {
   "cell_type": "code",
   "execution_count": null,
   "id": "1693fdc2-783f-4088-932a-d45201c47de3",
   "metadata": {},
   "outputs": [],
   "source": [
    "plt.plot(jnp.abs(z0-z), '.')\n"
   ]
  },
  {
   "cell_type": "code",
   "execution_count": null,
   "id": "832fac03-0575-4826-81c9-d70df93059c1",
   "metadata": {},
   "outputs": [],
   "source": [
    "plt.plot(jnp.abs(z_rec-z), '.')"
   ]
  },
  {
   "cell_type": "code",
   "execution_count": 868,
   "id": "73f517a2-f8c4-4c6f-8082-e2f31f45698d",
   "metadata": {},
   "outputs": [
    {
     "data": {
      "text/plain": [
       "DeviceArray([0, 1, 0, 1, 1, 0, 0, 0, 0, 0, 0, 0, 1, 1, 1, 1, 1, 1, 0, 0,\n",
       "             0, 0, 1, 0, 0, 1, 1, 1, 1, 0, 0, 0, 1, 1, 1, 0, 0, 1, 0, 1,\n",
       "             1, 0, 0, 1, 1, 1, 1, 1, 1, 0, 1, 1, 0, 1, 0, 0, 1, 0, 0, 1,\n",
       "             1, 1, 0, 1, 0, 0, 0, 0, 1, 1, 0, 1, 1, 1, 0, 1, 0, 1, 1, 0,\n",
       "             1, 1, 0, 0, 1, 1, 0, 1, 0, 0, 1, 0, 0, 0, 0, 0, 1, 0, 0, 0],            dtype=int64)"
      ]
     },
     "execution_count": 868,
     "metadata": {},
     "output_type": "execute_result"
    }
   ],
   "source": [
    "z"
   ]
  },
  {
   "cell_type": "code",
   "execution_count": 869,
   "id": "a056e510-e48d-41f0-af60-8023056c2e80",
   "metadata": {},
   "outputs": [
    {
     "data": {
      "text/plain": [
       "DeviceArray([0, 0, 1, 0, 0, 1, 1, 0, 0, 0, 0, 0, 0, 0, 1, 0, 0, 0, 0, 0,\n",
       "             0, 1, 0, 1, 0, 0, 0, 0, 0, 0, 1, 0, 0, 0, 0, 0, 0, 0, 0, 0,\n",
       "             0, 0, 0, 0, 1, 0, 1, 1, 1, 0, 0, 0, 1, 1, 1, 0, 0, 0, 1, 1,\n",
       "             0, 1, 1, 1, 0, 0, 0, 0, 0, 0, 1, 0, 0, 0, 0, 1, 1, 1, 0, 0,\n",
       "             1, 0, 0, 0, 0, 0, 1, 1, 1, 0, 0, 1, 0, 0, 1, 0, 1, 1, 0, 1],            dtype=int64)"
      ]
     },
     "execution_count": 869,
     "metadata": {},
     "output_type": "execute_result"
    }
   ],
   "source": [
    "z_rec"
   ]
  },
  {
   "cell_type": "code",
   "execution_count": null,
   "id": "a9e154bb-8a67-4930-b92c-2efa0f06f9e6",
   "metadata": {},
   "outputs": [],
   "source": [
    "n_samples_z"
   ]
  },
  {
   "cell_type": "code",
   "execution_count": null,
   "id": "70df2fd2-0740-447a-9afd-0bb93165dbd9",
   "metadata": {},
   "outputs": [],
   "source": [
    "z_est = jnp.mean(z_samples, axis=0)"
   ]
  },
  {
   "cell_type": "code",
   "execution_count": null,
   "id": "ae4be357-9c68-4941-b691-b7fefaffb6d9",
   "metadata": {},
   "outputs": [],
   "source": [
    "plt.plot(jnp.abs(z_est-z), '.')"
   ]
  },
  {
   "cell_type": "code",
   "execution_count": null,
   "id": "982de399-147d-417b-bfbd-95244c56088d",
   "metadata": {},
   "outputs": [],
   "source": [
    "logPi(x, z, y, sigma, alpha)"
   ]
  },
  {
   "cell_type": "code",
   "execution_count": null,
   "id": "1e84f104-7b0d-454d-97f5-0154cce44a6b",
   "metadata": {},
   "outputs": [],
   "source": [
    "logPi(x, z0, y, sigma, alpha)"
   ]
  },
  {
   "cell_type": "code",
   "execution_count": null,
   "id": "33f2b57b-424b-47bd-9ea7-73337c615b0c",
   "metadata": {},
   "outputs": [],
   "source": []
  },
  {
   "cell_type": "code",
   "execution_count": null,
   "id": "4f6997e4-eaf9-4302-a4a5-be47fa0143f1",
   "metadata": {},
   "outputs": [],
   "source": []
  }
 ],
 "metadata": {
  "kernelspec": {
   "display_name": "Python 3 (ipykernel)",
   "language": "python",
   "name": "python3"
  },
  "language_info": {
   "codemirror_mode": {
    "name": "ipython",
    "version": 3
   },
   "file_extension": ".py",
   "mimetype": "text/x-python",
   "name": "python",
   "nbconvert_exporter": "python",
   "pygments_lexer": "ipython3",
   "version": "3.9.7"
  }
 },
 "nbformat": 4,
 "nbformat_minor": 5
}
