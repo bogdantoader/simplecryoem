{
 "cells": [
  {
   "cell_type": "markdown",
   "id": "02bba85a-2401-4d87-aeb0-013d30d6717d",
   "metadata": {},
   "source": [
    "# Classification with Dirichlet prior"
   ]
  },
  {
   "cell_type": "code",
   "execution_count": 1,
   "id": "9c792c4c-80c8-4473-b3b4-d673e781b1aa",
   "metadata": {},
   "outputs": [],
   "source": [
    "%load_ext autoreload\n",
    "%autoreload 2\n",
    "import site\n",
    "import time\n",
    "site.addsitedir('..')\n",
    "\n",
    "import jax\n",
    "from jax.config import config\n",
    "import jax.numpy as jnp\n",
    "import numpy as np\n",
    "from  matplotlib import pyplot as plt\n",
    "from tqdm import tqdm\n",
    "\n",
    "from jax.scipy.special import gammaln\n",
    "from jax import random\n",
    "\n",
    "from src.algorithm import mcmc\n",
    "\n",
    "plt.rcParams[\"figure.figsize\"]=6,6\n",
    "#config.update(\"jax_enable_x64\", True)"
   ]
  },
  {
   "cell_type": "markdown",
   "id": "f2159e7b-9a04-41ce-a244-81fce0acd002",
   "metadata": {},
   "source": [
    "### Setup"
   ]
  },
  {
   "cell_type": "markdown",
   "id": "d2d0adc1-276b-4529-b36a-3d5f30452aa1",
   "metadata": {},
   "source": [
    "The probability vector $\\pi$ is drawn from a Dirichlet distribution with parameter $\\alpha$.\n",
    "\n",
    "$\\pi \\sim \\text{Dirichlet}(\\alpha)$\n",
    "\n",
    "The $K$ classes $x_1, \\ldots, x_K$ are i.i.d. samples from a standard normal distribution and we have $N$ noisy observations $y_1, \\ldots, y_N$ of the $K$ classes such that:\n",
    "\n",
    "$y_i = x_{z_i} + \\sigma \\eta_i,$\n",
    "\n",
    "where $\\eta_i \\sim \\mathcal{N}(0,1)$ and $z_1, \\ldots, z_N$ are drawn from a multinomial distribution with\n",
    "probability vector $\\pi$."
   ]
  },
  {
   "cell_type": "code",
   "execution_count": 41,
   "id": "5924a50b-0fd6-4e71-96b9-c891291fb14c",
   "metadata": {},
   "outputs": [],
   "source": [
    "key = random.PRNGKey(int(jnp.floor(np.random.rand()*1000)))\n",
    "key, *subkeys = random.split(key, 5)"
   ]
  },
  {
   "cell_type": "code",
   "execution_count": 42,
   "id": "75556229-5c63-4d6f-a277-248980c4e5ac",
   "metadata": {},
   "outputs": [],
   "source": [
    "K = 3\n",
    "N = 1000\n",
    "sigma = 0.01\n",
    "alpha = 0.7 * jnp.ones(K,)\n",
    "#alpha = jnp.array([10,10,2])"
   ]
  },
  {
   "cell_type": "code",
   "execution_count": 43,
   "id": "69825358-81e0-4d8c-8c1b-34f7a309f3a5",
   "metadata": {},
   "outputs": [
    {
     "name": "stdout",
     "output_type": "stream",
     "text": [
      "pi = [0.02563246 0.9466571  0.0277105 ]\n"
     ]
    }
   ],
   "source": [
    "pi = random.dirichlet(subkeys[0], alpha)\n",
    "z = random.categorical(subkeys[1], jnp.log(pi), shape = (N,))\n",
    "print(f\"pi = {pi}\")"
   ]
  },
  {
   "cell_type": "code",
   "execution_count": 44,
   "id": "4200539f-cb45-4eea-b7b2-7671a5f81655",
   "metadata": {},
   "outputs": [
    {
     "name": "stdout",
     "output_type": "stream",
     "text": [
      "x = [1.4466679  0.82188    0.35398227]\n"
     ]
    },
    {
     "data": {
      "image/png": "[encoded data removed]",
      "text/plain": [
       "<Figure size 432x432 with 1 Axes>"
      ]
     },
     "metadata": {
      "needs_background": "light"
     },
     "output_type": "display_data"
    }
   ],
   "source": [
    "x = random.normal(subkeys[2], shape = (K,))\n",
    "y = x[z] + sigma * random.normal(subkeys[3], shape = (N,))\n",
    "\n",
    "print(f\"x = {x}\")\n",
    "_ = plt.plot(y, '.')"
   ]
  },
  {
   "cell_type": "markdown",
   "id": "d2a3ea4f-cd5c-4561-9776-fa4abf7dd61a",
   "metadata": {},
   "source": [
    "### The posterior and proposal functions"
   ]
  },
  {
   "cell_type": "code",
   "execution_count": 56,
   "id": "c8215a51-910c-49ec-a85e-4b37a48a2162",
   "metadata": {},
   "outputs": [],
   "source": [
    "# This log posterior marginalizes over the classes k = 1,...,K.\n",
    "def logPi_marg(x, z, y, sigma, alpha):\n",
    "    n_ik = calc_nik_jit(z)\n",
    "    n_k = calc_nk_jit(z)\n",
    "    \n",
    "    log_arg = jnp.zeros(y.shape)\n",
    "    #logPZalpha = -gammaln(jnp.sum(n_k) + jnp.sum(alpha))\n",
    "\n",
    "    Nk = jnp.sum(n_k)\n",
    "    Ak = jnp.sum(alpha)\n",
    "    \n",
    "    term_mat = []\n",
    "    for k in jnp.arange(K):\n",
    "        logarg_k = jnp.exp(-(y - x[k])**2/sigma) *  (n_ik[:, k] + alpha[k])/(Nk+Ak-1)\n",
    "        log_arg += logarg_k\n",
    "        term_mat.append(logarg_k)\n",
    "        \n",
    "        #logPZalpha += gammaln(n_k[k] + alpha[k])\n",
    "      \n",
    "    return jnp.sum(jnp.log(log_arg)) - jnp.sum(x**2) \n",
    "   \n",
    "# And this does not.\n",
    "def logPi(x, z, y, sigma, alpha):\n",
    "    #n_ik = calc_nik_jit(z)\n",
    "    n_k = calc_nk_jit(z)\n",
    "    \n",
    "    #Nk = jnp.sum(n_k)\n",
    "    #Ak = jnp.sum(alpha)\n",
    "    \n",
    "    #n_ik_z = jax.vmap(lambda i : n_ik[i, z[i]])(jnp.arange(N))\n",
    "    \n",
    "    term1 = jnp.sum(-(y - x[z])**2/sigma)\n",
    "    #term2 = jnp.sum(jnp.log(n_ik_z + alpha[z])) \n",
    "\n",
    "    logPZalpha = -gammaln(jnp.sum(n_k) + jnp.sum(alpha)) + jnp.sum(gammaln(n_k + alpha))\n",
    "\n",
    "    #return term1 + term2 - jnp.sum(x**2) #+ logPZalpha \n",
    "    return term1 - jnp.sum(x**2) #+ logPZalpha \n",
    "\n",
    "\n",
    "def calc_nik_ki(z,k,i): \n",
    "    z = z.at[i].set(jnp.inf)    \n",
    "    return jnp.sum(z == k)\n",
    "\n",
    "calc_nik_i = lambda z, i : jax.vmap(calc_nik_ki, in_axes = (None, 0, None))(z, jnp.arange(K), i)\n",
    "calc_nik = lambda z : jax.vmap(calc_nik_i, in_axes = (None, 0))(z, jnp.arange(N))\n",
    "calc_nik_jit = jax.jit(calc_nik)\n",
    "\n",
    "calc_nk_k = lambda z, k : jnp.sum(z == k)\n",
    "calc_nk = lambda z : jax.vmap(calc_nk_k, in_axes = (None, 0))(z, jnp.arange(K))\n",
    "calc_nk_jit = jax.jit(calc_nk)"
   ]
  },
  {
   "cell_type": "code",
   "execution_count": 57,
   "id": "ffc7bee9-013f-4f5b-a85d-d40ba98082b6",
   "metadata": {},
   "outputs": [
    {
     "name": "stdout",
     "output_type": "stream",
     "text": [
      "-256.8144\n",
      "-257.44403\n"
     ]
    }
   ],
   "source": [
    "print(logPi_marg(x, z, y, sigma, alpha))\n",
    "print(logPi_marg(xi, zi, y, sigma, alpha))"
   ]
  },
  {
   "cell_type": "code",
   "execution_count": 59,
   "id": "8871ef42-2fed-4f22-8a52-247de0fc5086",
   "metadata": {},
   "outputs": [
    {
     "name": "stdout",
     "output_type": "stream",
     "text": [
      "-12.429692\n",
      "-13.059307\n"
     ]
    }
   ],
   "source": [
    "print(logPi(x, z, y, sigma, alpha))\n",
    "print(logPi(xi, zi, y, sigma, alpha))"
   ]
  },
  {
   "cell_type": "code",
   "execution_count": 61,
   "id": "e4cc3b56-a2a1-4948-b8e6-fb7116ae85cd",
   "metadata": {},
   "outputs": [],
   "source": [
    "@jax.jit\n",
    "def proposal_x_marg(key, x0, logPiX0, B, z, y, sigma, alpha):\n",
    "    \"\"\"Proposal function of a new vector [x_1,...,x_k] from the posterior\n",
    "    \n",
    "    p(x_1, ..., x_K | y_1, ..., y_N)\n",
    "    \n",
    "    with marginalization over z_1,...z_N.\"\"\"\n",
    "    \n",
    "    x1 = random.uniform(key, x0.shape) * 2*B-B\n",
    "    \n",
    "    logPiX0 = logPi_marg(x0, z, y, sigma, alpha)\n",
    "    logPiX1 = logPi_marg(x1, z, y, sigma, alpha)\n",
    "    \n",
    "    r = jnp.exp((logPiX1 - logPiX0))\n",
    "    \n",
    "    return x1, r, logPiX1, logPiX0\n",
    "\n",
    "@jax.jit\n",
    "def proposal_x(key, x0, logPiX0, B, z, y, sigma, alpha):\n",
    "    \"\"\"Proposal function of a new vector [x_1,...,x_K] from the posterior\n",
    "    \n",
    "    p(x_1, ..., x_K, z_1, ..., y_N | y_1, ..., y_N)\n",
    "\n",
    "    without marginalization over z_i variales (where we keep z_i fixed).\"\"\"\n",
    "    \n",
    "    x1 = random.uniform(key, x0.shape) * 2*B-B\n",
    "    \n",
    "    logPiX0 = logPi(x0, z, y, sigma, alpha)\n",
    "    logPiX1 = logPi(x1, z, y, sigma, alpha)\n",
    "    \n",
    "    r = jnp.exp((logPiX1 - logPiX0))\n",
    "    \n",
    "    return x1, r, logPiX1, logPiX0\n",
    "\n",
    "@jax.jit\n",
    "def proposal_x_idx(key, x0, logPiX0, B, z, y, sigma, alpha, idx):\n",
    "    \"\"\"Proposal function for a new state x_{idx} from the posterior\n",
    "    \n",
    "    p(x_1, ..., x_K, z_1, ..., y_N | y_1, ..., y_N)\n",
    "    \n",
    "    where all z_i and the other x_j are fixed and with no\n",
    "    marginalization over z.\n",
    "\n",
    "    The returned vector x1 is equal to x0, \n",
    "    with the entry at index idx given by the proposal.\"\"\"\n",
    "    \n",
    "    newval = random.uniform(key) * 2*B-B\n",
    "    x1 = x0.at[idx].set(newval)\n",
    "    \n",
    "    logPiX0 = logPi(x0, z, y, sigma, alpha)\n",
    "    logPiX1 = logPi(x1, z, y, sigma, alpha)\n",
    "    \n",
    "    r = jnp.exp(logPiX1 - logPiX0)\n",
    "    \n",
    "    return x1, r, logPiX1, logPiX0    \n",
    "               \n",
    "@jax.jit\n",
    "def proposal_x_batch(key, x0, logPiX0, B, z, y, sigma, alpha):\n",
    "    keys = random.split(key, K)\n",
    "    \n",
    "    x1, r, logPiX1, logPiX0 = jax.vmap(proposal_x_idx, in_axes = (0, None, None, None, None, None, None, None, 0))(keys, x0, logPiX0, B, z, y, sigma, alpha, jnp.arange(K))\n",
    "    x1 = jnp.diag(x1)\n",
    "    \n",
    "    return x1, r, logPiX1, logPiX0\n",
    "\n",
    "@jax.jit\n",
    "def proposal_z(key, z0, logPiX0, x, y, sigma, alpha, K):\n",
    "    \"\"\"Proposal function of a new vector [z_1,...,z_N] from the posterior\n",
    "    \n",
    "    p(x_1, ..., x_K, z_1, ..., y_N | y_1, ..., y_N)\n",
    "\n",
    "    where the x_i variables are fixed.\"\"\"\n",
    "    \n",
    "    z1 = random.randint(key, z0.shape, 0, K) \n",
    "\n",
    "    logPiX0 = logPi(x, z0, y, sigma, alpha)\n",
    "    logPiX1 = logPi(x, z1, y, sigma, alpha)\n",
    "    \n",
    "    r = jnp.exp(logPiX1 - logPiX0)\n",
    "    \n",
    "    return z1, r, logPiX1, logPiX0\n",
    "\n",
    "@jax.jit\n",
    "def proposal_z_idx(key, z0, logPiX0, x, y, sigma, alpha, K, idx):\n",
    "    \"\"\"Proposal function of a new state z_{idx} from the posterior\n",
    "    \n",
    "    p(x_1, ..., x_K, z_1, ..., y_N | y_1, ..., y_N)\n",
    "\n",
    "    where all x_i and the other z_j are fixed.\n",
    "    \n",
    "    The returned vector z1 is equal to z0, \n",
    "    with the entry at index idx given by the proposal.\"\"\"\n",
    "    \n",
    "    newval = random.randint(key, (), 0, K) \n",
    "    z1 = z0.at[idx].set(newval)\n",
    "    \n",
    "    logPiX0 = logPi(x, z0, y, sigma, alpha)\n",
    "    logPiX1 = logPi(x, z1, y, sigma, alpha)\n",
    "    \n",
    "    r = jnp.exp(logPiX1 - logPiX0)\n",
    "    \n",
    "    return z1, r, logPiX1, logPiX0\n",
    "\n",
    "@jax.jit\n",
    "def proposal_z_batch(key, z0, logPiX0, x, y, sigma, alpha, K):\n",
    "    keys = random.split(key, N)\n",
    "    \n",
    "    # TODO: change both batch functions so we don't have to do diag on an N x N (or K x K) matrix\n",
    "    z1, r, logPiX1, logPiX0 = jax.vmap(proposal_z_idx, in_axes = (0, None, None, None, None, None, None, None, 0))(keys, z0, logPiX0, x, y, sigma, alpha, K, jnp.arange(N))\n",
    "    z1 = jnp.diag(z1)\n",
    "    \n",
    "    return z1, r, logPiX1, logPiX0\n",
    "    \n"
   ]
  },
  {
   "cell_type": "markdown",
   "id": "4bd3c7f4-8f77-4eb7-8019-29ce719c006e",
   "metadata": {},
   "source": [
    "### Sample x"
   ]
  },
  {
   "cell_type": "code",
   "execution_count": 9,
   "id": "ce37d72e-aacd-4755-9670-86848f28b552",
   "metadata": {},
   "outputs": [
    {
     "name": "stdout",
     "output_type": "stream",
     "text": [
      "pi = [0.10677198 0.0045143  0.8887137 ]\n",
      "x = [ 1.1151052  -0.93441594 -1.1421528 ]\n"
     ]
    }
   ],
   "source": [
    "print(f\"pi = {pi}\")\n",
    "print(f\"x = {x}\")"
   ]
  },
  {
   "cell_type": "code",
   "execution_count": 309,
   "id": "efae639d-adb8-4634-89a6-fb4bb4d1a007",
   "metadata": {},
   "outputs": [],
   "source": [
    "#z_rand = random.categorical(subkey, jnp.log(pi), shape = (N,))\n",
    "#z_rand = random.randint(subkey, (N,), 0, K)"
   ]
  },
  {
   "cell_type": "markdown",
   "id": "27a08477-3d80-4d7d-9796-56dbe1f9dadb",
   "metadata": {},
   "source": [
    "#### Sampling the marginalized posterior"
   ]
  },
  {
   "cell_type": "code",
   "execution_count": 310,
   "id": "dad4b0d6-5bb1-428b-8086-f6c7b0c2a02d",
   "metadata": {},
   "outputs": [
    {
     "name": "stdout",
     "output_type": "stream",
     "text": [
      "  MCMC sample 1000, loss = -1335.57177734375, a = 0.0\n",
      "  MCMC sample 2000, loss = -1231.68701171875, a = 0.0\n",
      "  MCMC sample 3000, loss = -1029.581787109375, a = 0.0\n",
      "  MCMC sample 4000, loss = -1029.581787109375, a = 0.0\n",
      "  MCMC sample 5000, loss = -1029.581787109375, a = 0.0\n",
      "  MCMC sample 6000, loss = -1029.581787109375, a = 0.0\n",
      "  MCMC sample 7000, loss = -1029.581787109375, a = 0.0\n",
      "  MCMC sample 8000, loss = -1029.581787109375, a = 0.0\n",
      "  MCMC sample 9000, loss = -1029.581787109375, a = 0.0\n",
      "18.01808214187622 sec\n",
      "x_samp = [ 0.85332584  0.88558745 -0.7734983 ]\n",
      "x_true = [ 0.8836729   0.64198554 -0.8476923 ]\n"
     ]
    },
    {
     "data": {
      "image/png": "[encoded data removed]",
      "text/plain": [
       "<Figure size 432x432 with 1 Axes>"
      ]
     },
     "metadata": {
      "needs_background": "light"
     },
     "output_type": "display_data"
    }
   ],
   "source": [
    "N_samples_x = 10000\n",
    "x0 = jnp.array(np.random.randn(K))\n",
    "B = 3\n",
    "\n",
    "params_x = {\"B\" : B, \"z\" : z, \"y\" : y, \"sigma\" : sigma, \"alpha\" : alpha}\n",
    "\n",
    "key, subkey = random.split(key)\n",
    "t0 = time.time()\n",
    "x_mean, x_r, x_samples = mcmc(subkey, proposal_x_marg, x0, N_samples_x, params_x, 1, 1)\n",
    "\n",
    "print(f\"{time.time()-t0} sec\")\n",
    "plt.plot(x_r); plt.title(\"Acceptance ratio\")\n",
    "print(f\"x_samp = {x_samples[N_samples_x-2]}\")\n",
    "print(f\"x_true = {x}\")"
   ]
  },
  {
   "cell_type": "markdown",
   "id": "994ce326-9964-498f-9eb0-b4d3f54beaf3",
   "metadata": {},
   "source": [
    "#### And the non-marginalized posterior"
   ]
  },
  {
   "cell_type": "code",
   "execution_count": 321,
   "id": "307a7113-06df-48fe-9831-0262217173a3",
   "metadata": {},
   "outputs": [
    {
     "name": "stdout",
     "output_type": "stream",
     "text": [
      "  MCMC sample 1000 , loss = -34.81849\n",
      "  MCMC sample 2000 , loss = -35.11338\n",
      "  MCMC sample 3000 , loss = -34.963554\n",
      "  MCMC sample 4000 , loss = -33.955776\n",
      "  MCMC sample 5000 , loss = -34.979713\n",
      "  MCMC sample 6000 , loss = -34.18979\n",
      "  MCMC sample 7000 , loss = -34.896736\n",
      "  MCMC sample 8000 , loss = -34.33084\n",
      "  MCMC sample 9000 , loss = -34.594704\n",
      "2.9339189529418945 sec\n",
      "x_samp = [ 0.8789027   0.64016104 -0.8497381 ]\n",
      "x_true = [ 0.8836729   0.64198554 -0.8476923 ]\n"
     ]
    },
    {
     "data": {
      "image/png": "[encoded data removed]",
      "text/plain": [
       "<Figure size 432x432 with 1 Axes>"
      ]
     },
     "metadata": {
      "needs_background": "light"
     },
     "output_type": "display_data"
    }
   ],
   "source": [
    "N_samples_x = 10000\n",
    "x0 = jnp.array(np.random.randn(K))\n",
    "B = 3\n",
    "\n",
    "params_x = {\"B\" : B, \"z\" : z, \"y\" : y, \"sigma\" : sigma, \"alpha\" : alpha}\n",
    "\n",
    "key, subkey = random.split(key)\n",
    "t0 = time.time()\n",
    "x_mean, x_r, x_samples = mcmc(subkey, proposal_x_batch, x0, N_samples_x, params_x, K, 1)\n",
    "\n",
    "print(f\"{time.time()-t0} sec\")\n",
    "plt.plot(x_r); plt.title(\"Acceptance ratio\")\n",
    "print(f\"x_samp = {x_samples[N_samples_x-2]}\")\n",
    "print(f\"x_true = {x}\")"
   ]
  },
  {
   "cell_type": "code",
   "execution_count": 324,
   "id": "22be2078-f372-44f2-a242-f432f2b73ade",
   "metadata": {},
   "outputs": [
    {
     "data": {
      "image/png": "[encoded data removed]",
      "text/plain": [
       "<Figure size 432x432 with 1 Axes>"
      ]
     },
     "metadata": {
      "needs_background": "light"
     },
     "output_type": "display_data"
    }
   ],
   "source": [
    "nbins=100\n",
    "counts, bins = np.histogram(x_samples[:,:], bins=nbins)\n",
    "_ = plt.hist(bins[:-1], bins, weights=counts)"
   ]
  },
  {
   "cell_type": "markdown",
   "id": "815b6fbd-f4b9-41a9-ac5b-5f137a620746",
   "metadata": {},
   "source": [
    "#### One $x_i$ at a time"
   ]
  },
  {
   "cell_type": "code",
   "execution_count": 320,
   "id": "41d4e4f8-38eb-441d-bacb-e89996b4cd31",
   "metadata": {},
   "outputs": [
    {
     "name": "stdout",
     "output_type": "stream",
     "text": [
      "  MCMC sample 1000, loss = -14264.7412109375, a = 0.0\n",
      "  MCMC sample 2000, loss = -14265.80859375, a = 0.0\n",
      "  MCMC sample 3000, loss = -14265.287109375, a = 0.0\n",
      "  MCMC sample 4000, loss = -14264.7353515625, a = 1.3010454140147634e-23\n",
      "  MCMC sample 5000, loss = -14264.921875, a = 0.0\n",
      "  MCMC sample 6000, loss = -14265.1005859375, a = 0.0\n",
      "  MCMC sample 7000, loss = -14265.1435546875, a = 0.0\n",
      "  MCMC sample 8000, loss = -14264.7333984375, a = 0.0\n",
      "  MCMC sample 9000, loss = -14264.978515625, a = 0.0\n",
      "  MCMC sample 10000, loss = -14265.0205078125, a = 0.0\n",
      "2.8189492225646973 sec\n",
      "x_samp = [ 1.5001683 -0.2680899 -0.8500142]\n",
      "x_true = [ 0.8836729   0.64198554 -0.8476923 ]\n"
     ]
    },
    {
     "data": {
      "image/png": "[encoded data removed]",
      "text/plain": [
       "<Figure size 432x432 with 1 Axes>"
      ]
     },
     "metadata": {
      "needs_background": "light"
     },
     "output_type": "display_data"
    }
   ],
   "source": [
    "N_samples_x = 10001\n",
    "B = 3\n",
    "\n",
    "idx = 2\n",
    "x0 = jnp.array(np.random.randn(K))\n",
    "\n",
    "params_x = {\"B\" : B, \"z\" : z, \"y\" : y, \"sigma\" : sigma, \"alpha\" : alpha, \"idx\": idx}\n",
    "\n",
    "key, subkey = random.split(key)\n",
    "t0 = time.time()\n",
    "x_mean, x_r, x_samples = mcmc(subkey, proposal_x_idx, x0, N_samples_x, params_x, 1, 1)\n",
    "\n",
    "print(f\"{time.time()-t0} sec\")\n",
    "plt.plot(x_r); plt.title(\"Acceptance ratio\")\n",
    "print(f\"x_samp = {x_samples[N_samples_x-2]}\")\n",
    "print(f\"x_true = {x}\")"
   ]
  },
  {
   "cell_type": "code",
   "execution_count": 319,
   "id": "77dbc390-55bc-42a1-ac5e-292da609b114",
   "metadata": {},
   "outputs": [
    {
     "data": {
      "text/plain": [
       "(9999, 3)"
      ]
     },
     "execution_count": 319,
     "metadata": {},
     "output_type": "execute_result"
    }
   ],
   "source": [
    "x_samples.shape"
   ]
  },
  {
   "cell_type": "code",
   "execution_count": 236,
   "id": "94be8177-0aa9-44e0-83ab-575807a32bc4",
   "metadata": {},
   "outputs": [
    {
     "data": {
      "image/png": "[encoded data removed]",
      "text/plain": [
       "<Figure size 432x432 with 1 Axes>"
      ]
     },
     "metadata": {
      "needs_background": "light"
     },
     "output_type": "display_data"
    }
   ],
   "source": [
    "nbins=100\n",
    "counts, bins = np.histogram(x_samples[:,idx], bins=nbins)\n",
    "_ = plt.hist(bins[:-1], bins, weights=counts)"
   ]
  },
  {
   "cell_type": "code",
   "execution_count": 237,
   "id": "e5733f1f-dbb7-424f-ba91-920b8f4ad8b5",
   "metadata": {},
   "outputs": [
    {
     "data": {
      "text/plain": [
       "[<matplotlib.lines.Line2D at 0x7fcdf2a62b80>]"
      ]
     },
     "execution_count": 237,
     "metadata": {},
     "output_type": "execute_result"
    },
    {
     "data": {
      "image/png": "[encoded data removed]",
      "text/plain": [
       "<Figure size 432x432 with 1 Axes>"
      ]
     },
     "metadata": {
      "needs_background": "light"
     },
     "output_type": "display_data"
    }
   ],
   "source": [
    "plt.plot(x_samples[:,idx],'.')"
   ]
  },
  {
   "cell_type": "markdown",
   "id": "e37199aa-3238-44ae-a8bb-158c5326aea1",
   "metadata": {},
   "source": [
    "### Sample z"
   ]
  },
  {
   "cell_type": "code",
   "execution_count": 408,
   "id": "5ee6d7c0-6e72-4a32-bdc4-4c7fe32738be",
   "metadata": {},
   "outputs": [
    {
     "name": "stdout",
     "output_type": "stream",
     "text": [
      "3.7437188625335693 sec\n",
      "z[idx]_samp = [2 0 0 1 1 0 0 0 1 2 1 1 0 0 1 1 2 0 2 0 0 2 1 0 0 0 0 1 0 0 0 0 0 0 0 0 0\n",
      " 0 0 0 2 1 1 2 1 2 1 0 1 1 0 1 1 2 1 0 0 2 0 0 0 2 0 2 0 2 1 0 0 1 2 0 0 2\n",
      " 2 0 0 0 0 1 1 1 2 0 1 2 0 1 0 0 0 0 0 0 0 2 0 0 0 1 2 0 0 2 0 1 0 2 0 1 2\n",
      " 2 0 1 1 0 2 1 0 0 2 2 0 0 2 0 0 0 2 0 0 1 0 1 2 2 2 2 2 0 2 2 0 2 0 0 1 1\n",
      " 0 2 1 0 0 1 2 0 0 1 0 0 0 1 0 0 2 1 1 1 1 1 2 1 0 0 0 0 1 1 2 1 0 0 0 0 2\n",
      " 2 1 0 0 1 2 0 1 2 2 0 2 0 0 2 0 1 0 0 2 0 0 0 2 0 0 0 1 0 0 0 0 0 1 0 0 0\n",
      " 1 0 2 0 2 0 0 0 0 0 1 0 0 2 2 2 2 0 2 0 2 2 1 0 0 1 0 0 0 0 0 0 2 2 2 2 0\n",
      " 0 0 0 0 0 0 0 0 1 0 0 1 1 1 1 0 0 0 0 0 0 2 2 0 0 0 2 2 1 1 2 1 0 2 0 1 0\n",
      " 0 0 0 2 1 0 0 2 0 2 2 1 0 1 2 0 0 1 2 0 0 0 0 1 0 1 0 2 2 1 0 1 0 0 0 0 0\n",
      " 1 1 2 2 0 0 0 1 0 0 0 0 0 1 2 2 0 0 0 0 1 0 0 0 2 0 1 0 0 0 2 1 1 0 1 0 1\n",
      " 2 1 2 0 0 0 0 0 0 0 0 0 0 1 1 0 1 2 0 1 1 0 0 0 1 0 1 2 2 1 0 0 0 2 0 0 0\n",
      " 1 0 0 1 0 0 0 2 0 1 2 2 0 0 2 1 2 0 0 0 2 1 1 0 0 0 0 1 2 1 2 0 0 2 2 0 2\n",
      " 2 0 0 0 0 1 2 0 2 1 0 2 2 0 0 0 2 0 1 0 0 0 0 0 1 0 0 0 1 0 2 0 0 0 0 2 0\n",
      " 1 0 0 0 0 2 1 0 1 2 0 0 0 0 0 0 0 2 2 1 2 2 0 0 0 2 0 2 2 0 0 2 0 0 0 0 1\n",
      " 0 0 0 2 0 0 1 2 0 0 1 1 0 2 0 1 0 0 0 1 0 0 0 0 0 0 0 2 1 0 0 1 2 0 0 2 2\n",
      " 0 2 0 0 0 0 0 0 0 2 2 0 1 0 1 1 1 0 1 0 0 0 1 0 2 2 0 1 0 2 0 0 2 1 1 0 0\n",
      " 0 1 0 0 0 0 1 1 0 2 1 0 1 0 0 0 0 0 1 0 2 2 0 1 0 0 0 0 1 1 2 0 1 1 0 0 1\n",
      " 0 0 0 0 2 0 1 0 0 0 0 1 2 1 0 0 0 0 0 0 1 0 0 0 0 0 0 0 1 2 2 1 1 1 1 0 2\n",
      " 1 2 2 0 1 2 0 2 2 0 1 0 0 0 0 0 0 0 1 0 2 0 0 0 1 0 1 1 0 2 0 0 0 2 0 2 0\n",
      " 0 1 0 0 0 1 0 0 0 1 0 0 0 0 1 2 0 2 0 2 2 0 2 1 1 2 0 1 0 0 1 2 0 0 0 2 0\n",
      " 0 0 0 0 0 1 1 0 1 0 2 0 0 0 1 1 1 0 1 0 2 0 0 0 0 0 0 1 1 2 0 2 2 2 2 2 1\n",
      " 0 1 2 1 0 0 1 0 1 0 0 1 1 0 2 0 0 1 0 2 0 1 0 2 2 0 0 0 0 0 0 2 0 0 0 1 2\n",
      " 1 0 0 0 1 0 0 0 0 1 1 2 0 0 0 0 1 0 1 0 0 0 1 0 1 1 0 0 1 0 1 0 0 0 0 2 0\n",
      " 0 1 0 1 0 2 0 1 0 0 1 1 1 1 1 1 0 0 0 2 1 1 0 1 0 0 1 0 0 0 1 0 0 2 2 2 0\n",
      " 1 2 0 0 2 0 2 0 0 2 2 0 0 0 0 1 0 0 0 0 1 2 1 1 0 2 2 0 1 0 1 0 0 2 1 0 0\n",
      " 0 1 0 0 2 0 2 0 0 1 1 0 2 0 2 0 0 0 1 2 1 0 0 1 0 0 2 2 0 1 0 0 1 2 0 0 2\n",
      " 0 0 2 0 2 0 2 0 0 0 0 0 1 0 2 0 0 1 1 0 2 0 1 2 0 1 0 1 2 1 0 0 0 0 0 1 0\n",
      " 2]\n",
      "z[idx]_true = 1\n"
     ]
    }
   ],
   "source": [
    "N_samples_z = 1000\n",
    "z0 = jnp.array(np.random.randint(0, K, (N,)))\n",
    "#z0 = z.at[idx].set(np.random.randint(0,K,()))\n",
    "\n",
    "B = 2\n",
    "idx = 10\n",
    "#params_z = {\"x\" : x, \"y\" : y, \"sigma\" : sigma, \"alpha\" : alpha, \"K\" : K, 'idx' : idx}\n",
    "params_z = {\"x\" : x, \"y\" : y, \"sigma\" : sigma, \"alpha\" : alpha, \"K\" : K}\n",
    "\n",
    "key, subkey = random.split(key)\n",
    "\n",
    "t0 = time.time()\n",
    "#z_mean, z_r, z_samples = mcmc(subkey, proposal_z_idx, z0, N_samples_z, params_z, 1, 1)\n",
    "z_mean, z_r, z_samples = mcmc(subkey, proposal_z_batch, z0, N_samples_z, params_z, N, 1)\n",
    "\n",
    "#z_samples = z_samples[:,idx]\n",
    "\n",
    "print(f\"{time.time()-t0} sec\")\n",
    "#plt.plot(z_r); plt.title(\"Acceptance ratio\")\n",
    "print(f\"z[idx]_samp = {z_samples[N_samples_z-2]}\")\n",
    "print(f\"z[idx]_true = {z[idx]}\")\n"
   ]
  },
  {
   "cell_type": "code",
   "execution_count": 409,
   "id": "909c8ce6-6e88-47e7-811a-ed3ce535a179",
   "metadata": {},
   "outputs": [
    {
     "data": {
      "text/plain": [
       "(999, 1000)"
      ]
     },
     "execution_count": 409,
     "metadata": {},
     "output_type": "execute_result"
    }
   ],
   "source": [
    "z_samples.shape"
   ]
  },
  {
   "cell_type": "code",
   "execution_count": 410,
   "id": "e39f2357-ebae-48f0-9346-3fa76bddf355",
   "metadata": {},
   "outputs": [
    {
     "name": "stdout",
     "output_type": "stream",
     "text": [
      "939\n",
      "107\n"
     ]
    }
   ],
   "source": [
    "print(jnp.sum(jnp.abs(z0-z)))\n",
    "print(jnp.sum(jnp.abs(z_samples[N_samples_z-2,:]-z)))"
   ]
  },
  {
   "cell_type": "code",
   "execution_count": 411,
   "id": "e15b4da7-612a-4772-8f91-19d8301dbfeb",
   "metadata": {},
   "outputs": [
    {
     "data": {
      "image/png": "[encoded data removed]",
      "text/plain": [
       "<Figure size 432x432 with 1 Axes>"
      ]
     },
     "metadata": {
      "needs_background": "light"
     },
     "output_type": "display_data"
    }
   ],
   "source": [
    "nbins=100\n",
    "counts, bins = np.histogram(z_samples[N_samples_z-2,:], bins=nbins)\n",
    "_ = plt.hist(bins[:-1], bins, weights=counts)"
   ]
  },
  {
   "cell_type": "code",
   "execution_count": 412,
   "id": "ead06aa3-e04a-49af-81cf-96a0161b7da2",
   "metadata": {},
   "outputs": [
    {
     "data": {
      "text/plain": [
       "(999, 1000)"
      ]
     },
     "execution_count": 412,
     "metadata": {},
     "output_type": "execute_result"
    }
   ],
   "source": [
    "z_samples.shape"
   ]
  },
  {
   "cell_type": "code",
   "execution_count": 413,
   "id": "be46a4c2-b3ab-4218-afd5-ffc84c8fc8c8",
   "metadata": {},
   "outputs": [
    {
     "data": {
      "image/png": "[encoded data removed]",
      "text/plain": [
       "<Figure size 432x432 with 1 Axes>"
      ]
     },
     "metadata": {
      "needs_background": "light"
     },
     "output_type": "display_data"
    }
   ],
   "source": [
    "nbins=100\n",
    "counts, bins = np.histogram(z, bins=nbins)\n",
    "_ = plt.hist(bins[:-1], bins, weights=counts)"
   ]
  },
  {
   "cell_type": "markdown",
   "id": "1e8d77bb-5a2a-46d3-a9b2-899518ffa13e",
   "metadata": {},
   "source": [
    "### Sample $x$ and $z$"
   ]
  },
  {
   "cell_type": "code",
   "execution_count": 414,
   "id": "183a70b0-fb17-452d-8ede-bacbb7162ce5",
   "metadata": {},
   "outputs": [
    {
     "data": {
      "text/plain": [
       "3"
      ]
     },
     "execution_count": 414,
     "metadata": {},
     "output_type": "execute_result"
    }
   ],
   "source": [
    "K"
   ]
  },
  {
   "cell_type": "code",
   "execution_count": 62,
   "id": "252897ed-d685-4ada-a9e2-4fd3ce128ee4",
   "metadata": {},
   "outputs": [
    {
     "name": "stdout",
     "output_type": "stream",
     "text": [
      "Iter = 0\n",
      "  Sampling x\n",
      "  MCMC sample 1000 , loss = -1522.4392\n",
      "  MCMC sample 2000 , loss = -1521.3827\n",
      "  MCMC sample 3000 , loss = -1522.0432\n",
      "  MCMC sample 4000 , loss = -1521.6874\n",
      "  MCMC sample 5000 , loss = -1524.7123\n",
      "  MCMC sample 6000 , loss = -1521.9691\n",
      "  MCMC sample 7000 , loss = -1522.043\n",
      "  MCMC sample 8000 , loss = -1523.9803\n",
      "  MCMC sample 9000 , loss = -1521.6361\n",
      "  MCMC sample 10000 , loss = -1521.5718\n",
      "  Sampling z\n",
      "  MCMC sample 1000 , loss = -1504.8768\n",
      "Iter = 1\n",
      "  Sampling x\n",
      "  MCMC sample 1000 , loss = -1489.4656\n",
      "  MCMC sample 2000 , loss = -1480.1255\n",
      "  MCMC sample 3000 , loss = -1479.9417\n",
      "  MCMC sample 4000 , loss = -1480.3479\n",
      "  MCMC sample 5000 , loss = -1480.5261\n",
      "  MCMC sample 6000 , loss = -1483.7842\n",
      "  MCMC sample 7000 , loss = -1480.5726\n",
      "  MCMC sample 8000 , loss = -1480.1746\n",
      "  MCMC sample 9000 , loss = -1481.8367\n",
      "  MCMC sample 10000 , loss = -1481.2468\n",
      "  Sampling z\n",
      "  MCMC sample 1000 , loss = -1434.2347\n",
      "Iter = 2\n",
      "  Sampling x\n",
      "  MCMC sample 1000 , loss = -1428.017\n",
      "  MCMC sample 2000 , loss = -1428.9404\n",
      "  MCMC sample 3000 , loss = -1428.2781\n",
      "  MCMC sample 4000 , loss = -1427.9231\n",
      "  MCMC sample 5000 , loss = -1428.2124\n",
      "  MCMC sample 6000 , loss = -1428.1771\n",
      "  MCMC sample 7000 , loss = -1430.0073\n",
      "  MCMC sample 8000 , loss = -1428.1947\n",
      "  MCMC sample 9000 , loss = -1428.7185\n",
      "  MCMC sample 10000 , loss = -1430.2883\n",
      "  Sampling z\n",
      "  MCMC sample 1000 , loss = -1403.1447\n",
      "Iter = 3\n",
      "  Sampling x\n",
      "  MCMC sample 1000 , loss = -1396.5134\n",
      "  MCMC sample 2000 , loss = -1396.3796\n",
      "  MCMC sample 3000 , loss = -1394.6946\n",
      "  MCMC sample 4000 , loss = -1394.6018\n",
      "  MCMC sample 5000 , loss = -1398.577\n",
      "  MCMC sample 6000 , loss = -1397.1606\n",
      "  MCMC sample 7000 , loss = -1396.6284\n",
      "  MCMC sample 8000 , loss = -1395.892\n",
      "  MCMC sample 9000 , loss = -1395.1191\n",
      "  MCMC sample 10000 , loss = -1394.6543\n",
      "  Sampling z\n",
      "  MCMC sample 1000 , loss = -1403.2275\n",
      "Iter = 4\n",
      "  Sampling x\n",
      "  MCMC sample 1000 , loss = -1404.6312\n",
      "  MCMC sample 2000 , loss = -1405.2292\n",
      "  MCMC sample 3000 , loss = -1405.0101\n",
      "  MCMC sample 4000 , loss = -1406.1205\n",
      "  MCMC sample 5000 , loss = -1405.1693\n",
      "  MCMC sample 6000 , loss = -1403.8899\n",
      "  MCMC sample 7000 , loss = -1406.533\n",
      "  MCMC sample 8000 , loss = -1404.3909\n",
      "  MCMC sample 9000 , loss = -1403.7733\n",
      "  MCMC sample 10000 , loss = -1403.7542\n",
      "  Sampling z\n",
      "  MCMC sample 1000 , loss = -1395.947\n",
      "Iter = 5\n",
      "  Sampling x\n",
      "  MCMC sample 1000 , loss = -1398.5879\n",
      "  MCMC sample 2000 , loss = -1398.5757\n",
      "  MCMC sample 3000 , loss = -1398.1005\n",
      "  MCMC sample 4000 , loss = -1398.5927\n",
      "  MCMC sample 5000 , loss = -1398.4896\n",
      "  MCMC sample 6000 , loss = -1399.1357\n",
      "  MCMC sample 7000 , loss = -1400.7224\n",
      "  MCMC sample 8000 , loss = -1399.51\n",
      "  MCMC sample 9000 , loss = -1402.1254\n",
      "  MCMC sample 10000 , loss = -1398.5808\n",
      "  Sampling z\n",
      "  MCMC sample 1000 , loss = -1403.6162\n",
      "Iter = 6\n",
      "  Sampling x\n",
      "  MCMC sample 1000 , loss = -1406.4144\n",
      "  MCMC sample 2000 , loss = -1406.1182\n",
      "  MCMC sample 3000 , loss = -1404.5471\n",
      "  MCMC sample 4000 , loss = -1405.0249\n",
      "  MCMC sample 5000 , loss = -1409.6609\n",
      "  MCMC sample 6000 , loss = -1404.9237\n",
      "  MCMC sample 7000 , loss = -1408.5254\n",
      "  MCMC sample 8000 , loss = -1405.2295\n",
      "  MCMC sample 9000 , loss = -1404.9335\n",
      "  MCMC sample 10000 , loss = -1406.2523\n",
      "  Sampling z\n",
      "  MCMC sample 1000 , loss = -1395.0383\n",
      "Iter = 7\n",
      "  Sampling x\n",
      "  MCMC sample 1000 , loss = -1406.4905\n",
      "  MCMC sample 2000 , loss = -1406.3335\n",
      "  MCMC sample 3000 , loss = -1406.2766\n",
      "  MCMC sample 4000 , loss = -1405.3856\n",
      "  MCMC sample 5000 , loss = -1408.956\n",
      "  MCMC sample 6000 , loss = -1407.8445\n",
      "  MCMC sample 7000 , loss = -1404.6682\n",
      "  MCMC sample 8000 , loss = -1405.1863\n",
      "  MCMC sample 9000 , loss = -1406.3676\n",
      "  MCMC sample 10000 , loss = -1406.2859\n",
      "  Sampling z\n",
      "  MCMC sample 1000 , loss = -1408.2203\n",
      "Iter = 8\n",
      "  Sampling x\n",
      "  MCMC sample 1000 , loss = -1412.9105\n",
      "  MCMC sample 2000 , loss = -1414.8232\n",
      "  MCMC sample 3000 , loss = -1413.4027\n",
      "  MCMC sample 4000 , loss = -1413.1299\n",
      "  MCMC sample 5000 , loss = -1414.139\n",
      "  MCMC sample 6000 , loss = -1415.4834\n",
      "  MCMC sample 7000 , loss = -1412.8167\n",
      "  MCMC sample 8000 , loss = -1413.2356\n",
      "  MCMC sample 9000 , loss = -1416.6208\n",
      "  MCMC sample 10000 , loss = -1414.6127\n",
      "  Sampling z\n",
      "  MCMC sample 1000 , loss = -1403.997\n",
      "Iter = 9\n",
      "  Sampling x\n",
      "  MCMC sample 1000 , loss = -1413.5405\n",
      "  MCMC sample 2000 , loss = -1413.7727\n",
      "  MCMC sample 3000 , loss = -1414.9799\n",
      "  MCMC sample 4000 , loss = -1414.722\n",
      "  MCMC sample 5000 , loss = -1414.1678\n",
      "  MCMC sample 6000 , loss = -1416.781\n",
      "  MCMC sample 7000 , loss = -1413.321\n",
      "  MCMC sample 8000 , loss = -1413.4012\n",
      "  MCMC sample 9000 , loss = -1413.9917\n",
      "  MCMC sample 10000 , loss = -1415.5428\n",
      "  Sampling z\n",
      "  MCMC sample 1000 , loss = -1397.7158\n",
      "46.10570287704468 sec\n",
      "x_samp = [0.7726786  0.8537421  0.82399964]\n",
      "x_true = [1.4466679  0.82188    0.35398227]\n"
     ]
    }
   ],
   "source": [
    "N_iters = 10\n",
    "N_samples_z = 1001 #300\n",
    "N_samples_x = 10001\n",
    "B = 3\n",
    "\n",
    "sample_x = True\n",
    "sample_z = True\n",
    "search_z = False\n",
    "\n",
    "zi = jnp.array(np.random.randint(0, K, (N,)))\n",
    "xi = jnp.array(np.random.randn(K))\n",
    "\n",
    "#xi = x\n",
    "#zi = z\n",
    "\n",
    "t0 = time.time()\n",
    "for iter_i in jnp.arange(N_iters):\n",
    "    print(f\"Iter = {iter_i}\")\n",
    "\n",
    "    if sample_x:\n",
    "        print(\"  Sampling x\")\n",
    "        #for idx_x in jnp.arange(K):\n",
    "\n",
    "        #params_x = {\"B\" : B, \"z\" : zi, \"y\" : y, \"sigma\" : sigma, \"alpha\" : alpha, \"idx\": idx_x}\n",
    "        params_x = {\"B\" : B, \"z\" : zi, \"y\" : y, \"sigma\" : sigma, \"alpha\" : alpha}\n",
    "\n",
    "        key, subkey = random.split(key)\n",
    "    \n",
    "        #t0 = time.time()\n",
    "        x_mean, x_r, x_samples = mcmc(subkey, proposal_x_batch, xi, N_samples_x, params_x, K, 1) \n",
    "        #x_mean, x_r, x_samples = mcmc(subkey, proposal_x_marg, xi, N_samples_x, params_x, 1, 1) \n",
    "\n",
    "        xi = x_samples[N_samples_x - 2]\n",
    "    \n",
    "    if search_z:\n",
    "        print(\"  Searching z\")\n",
    "        for idx_z in tqdm(jnp.arange(N)):\n",
    "            logPi_max = -jnp.inf\n",
    "\n",
    "            for ki in jnp.arange(K):\n",
    "                zi_k = zi.at[idx_z].set(ki)\n",
    "                logPi_k = logPi(xi, zi_k, y, sigma, alpha)\n",
    "                if logPi_k > logPi_max:\n",
    "                    zi = zi_k\n",
    "                    logPi_max = logPi_k\n",
    "            \n",
    "    if sample_z:\n",
    "        print(\"  Sampling z\")\n",
    "        #for idx_z in tqdm(jnp.arange(N)):\n",
    "            \n",
    "        #params_z = {\"x\" : xi, \"y\" : y, \"sigma\" : sigma, \"alpha\" : alpha, \"K\" : K, 'idx' : idx_z}\n",
    "        params_z = {\"x\" : xi, \"y\" : y, \"sigma\" : sigma, \"alpha\" : alpha, \"K\" : K}\n",
    "\n",
    "        key, subkey = random.split(key)\n",
    "\n",
    "        #z_mean, z_r, z_samples = mcmc(subkey, proposal_z_idx, zi, N_samples_z, params_z, 1, 1)\n",
    "        z_mean, z_r, z_samples = mcmc(subkey, proposal_z_batch, zi, N_samples_z, params_z, N, 1)\n",
    "\n",
    "        zi = z_samples[N_samples_z - 2]\n",
    "            \n",
    "            #new_zi = jnp.bincount(z_samples[:,idx_z]).argmax()\n",
    "            #zi = zi.at[idx_z].set(new_zi)\n",
    "            \n",
    "            #if zi[idx_z] - z[idx_z] != 0:\n",
    "            #    break\n",
    "            \n",
    "\n",
    "print(f\"{time.time()-t0} sec\")\n",
    "print(f\"x_samp = {xi}\")\n",
    "print(f\"x_true = {x}\")"
   ]
  },
  {
   "cell_type": "code",
   "execution_count": 63,
   "id": "d160ee3b-0c25-4d70-ad50-0bdc5191c695",
   "metadata": {},
   "outputs": [
    {
     "name": "stdout",
     "output_type": "stream",
     "text": [
      "335\n",
      "329\n",
      "336\n"
     ]
    },
    {
     "data": {
      "image/png": "[encoded data removed]",
      "text/plain": [
       "<Figure size 432x432 with 1 Axes>"
      ]
     },
     "metadata": {
      "needs_background": "light"
     },
     "output_type": "display_data"
    }
   ],
   "source": [
    "plt.plot(y, '.')\n",
    "plt.plot(xi[zi], '.')\n",
    "\n",
    "for k in jnp.arange(K):\n",
    "    print(jnp.sum(zi==k))"
   ]
  },
  {
   "cell_type": "code",
   "execution_count": 64,
   "id": "f8fdd921-9fcc-4fa7-97c7-5aa82e587904",
   "metadata": {},
   "outputs": [
    {
     "data": {
      "text/plain": [
       "DeviceArray(0.9694699, dtype=float32)"
      ]
     },
     "execution_count": 64,
     "metadata": {},
     "output_type": "execute_result"
    }
   ],
   "source": [
    "logPiZ0 = logPi(xi, zi, y, sigma, alpha)\n",
    "logPiZ1 = logPi(xi, zi.at[18].set(2), y, sigma, alpha)\n",
    "\n",
    "jnp.exp(logPiZ1-logPiZ0)"
   ]
  },
  {
   "cell_type": "code",
   "execution_count": 65,
   "id": "0d1a4644-c15d-47a5-8cb3-71dadc8bde56",
   "metadata": {},
   "outputs": [
    {
     "name": "stdout",
     "output_type": "stream",
     "text": [
      "-12.429692\n",
      "-1402.4031\n"
     ]
    }
   ],
   "source": [
    "print(logPi(x, z, y, sigma, alpha))\n",
    "print(logPi(xi, zi, y, sigma, alpha))"
   ]
  },
  {
   "cell_type": "code",
   "execution_count": 66,
   "id": "db9fa846-8279-44b2-bac1-09b7af1da1cd",
   "metadata": {},
   "outputs": [
    {
     "data": {
      "text/plain": [
       "DeviceArray(1., dtype=float32)"
      ]
     },
     "execution_count": 66,
     "metadata": {},
     "output_type": "execute_result"
    }
   ],
   "source": [
    "z1 = z.at[0].set(1)\n",
    "logPiZ0 = logPi(x, z, y, sigma, alpha)\n",
    "logPiZ1 = logPi(x, z1, y, sigma, alpha)\n",
    "r = jnp.exp(logPiZ1 - logPiZ0)\n",
    "r"
   ]
  },
  {
   "cell_type": "code",
   "execution_count": 67,
   "id": "e47b801e-2fd8-496a-9dbc-ff57302cc30c",
   "metadata": {},
   "outputs": [
    {
     "name": "stdout",
     "output_type": "stream",
     "text": [
      "335\n",
      "329\n",
      "336\n"
     ]
    },
    {
     "data": {
      "image/png": "[encoded data removed]",
      "text/plain": [
       "<Figure size 432x432 with 1 Axes>"
      ]
     },
     "metadata": {
      "needs_background": "light"
     },
     "output_type": "display_data"
    }
   ],
   "source": [
    "plt.plot(y, '.')\n",
    "plt.plot(x[z], '.')\n",
    "\n",
    "for k in jnp.arange(K):\n",
    "    print(jnp.sum(zi==k))"
   ]
  },
  {
   "cell_type": "code",
   "execution_count": 68,
   "id": "5d7a3cba-1bf6-4697-aa5d-91f0351996ad",
   "metadata": {},
   "outputs": [
    {
     "name": "stdout",
     "output_type": "stream",
     "text": [
      "[0.02563246 0.9466571  0.0277105 ]\n",
      "[1.4466679  0.82188    0.35398227]\n",
      "[0.7726786  0.8537421  0.82399964]\n"
     ]
    }
   ],
   "source": [
    "print(pi)\n",
    "print(x)\n",
    "print(xi)"
   ]
  },
  {
   "cell_type": "code",
   "execution_count": null,
   "id": "a7e07a0b-da25-419f-ab35-e17ee44f0f4e",
   "metadata": {},
   "outputs": [],
   "source": [
    "# Loss functions roughly equivalent with the the estimation problem to see what's going on\n",
    "def loss_fun(x, z, y):\n",
    "    return (x[z] - y)**2 * pi[z]\n",
    "\n",
    "def loss_fun_vmap(x,z,y):\n",
    "    n_k = calc_nk_jit(z)\n",
    "    logPZalpha = -gammaln(jnp.sum(n_k) + jnp.sum(alpha)) + jnp.sum(gammaln(n_k + alpha))\n",
    "    print(f\"logPZalpha = {-logPZalpha}\")\n",
    "    return jnp.sum(jax.vmap(loss_fun, in_axes = (None, 0, 0))(x,z,y)) + jnp.sum(x**2) - logPZalpha"
   ]
  },
  {
   "cell_type": "code",
   "execution_count": null,
   "id": "5b8a1e13-f990-4fa1-a8c7-e22f1fe790c0",
   "metadata": {},
   "outputs": [],
   "source": [
    "n_k = calc_nk_jit(z)\n",
    "logPZalpha = -gammaln(jnp.sum(n_k) + jnp.sum(alpha)) + jnp.sum(gammaln(n_k + alpha))"
   ]
  },
  {
   "cell_type": "code",
   "execution_count": null,
   "id": "d40222f5-7a15-4283-a002-d399be0845aa",
   "metadata": {},
   "outputs": [],
   "source": [
    "jnp.sum(gammaln(n_k+alpha))"
   ]
  },
  {
   "cell_type": "code",
   "execution_count": null,
   "id": "0f4fcddb-84bd-455b-84d1-bbd4c8e3521d",
   "metadata": {},
   "outputs": [],
   "source": [
    "gammaln(jnp.sum(n_k) + jnp.sum(alpha))"
   ]
  },
  {
   "cell_type": "code",
   "execution_count": null,
   "id": "69da655d-2e0c-4f5f-983c-d87fc5153eaa",
   "metadata": {},
   "outputs": [],
   "source": [
    "alpha.shape"
   ]
  },
  {
   "cell_type": "code",
   "execution_count": null,
   "id": "94fa586e-4f87-4615-9f84-eeb3a853aaa2",
   "metadata": {},
   "outputs": [],
   "source": [
    "print(loss_fun_vmap(x, jnp.array(np.random.randint(0, K, (N,))), y))\n",
    "print(loss_fun_vmap(xi, zi, y))\n",
    "print(loss_fun_vmap(x, z, y))"
   ]
  },
  {
   "cell_type": "code",
   "execution_count": null,
   "id": "cd6ef773-8136-4fb1-8c6b-ca64b7e27467",
   "metadata": {},
   "outputs": [],
   "source": [
    "alpha"
   ]
  },
  {
   "cell_type": "markdown",
   "id": "569a330b-9287-4acd-9f08-e3c008125efb",
   "metadata": {},
   "source": [
    "### Some functions used for debugging - ignore"
   ]
  },
  {
   "cell_type": "code",
   "execution_count": null,
   "id": "0f633a92-f7cf-4bc9-96c7-06553e3af81d",
   "metadata": {},
   "outputs": [],
   "source": [
    "# Quick test of a proposal function\n",
    "key, subkey = random.split(key)\n",
    "idx = 1\n",
    "z1, rz, _, _ = proposal_z_idx(subkey, z, -1, x, y, sigma, alpha, K, idx)\n",
    "print(z1[idx])\n",
    "print(rz)"
   ]
  },
  {
   "cell_type": "code",
   "execution_count": null,
   "id": "6890cd11-d5ee-40d4-baf1-200028668a8c",
   "metadata": {},
   "outputs": [],
   "source": [
    "key, subkey = random.split(key)\n",
    "#z0 = random.randint(subkey, z.shape, 0, K)\n",
    "z0 = jnp.ones(z.shape)\n",
    "z0 = z\n",
    "\n",
    "n_ik_z = calc_nik_jit(z0)\n",
    "n_k = calc_nk_jit(z0)\n",
    "Nk = jnp.sum(n_k)\n",
    "Ak = jnp.sum(alpha)"
   ]
  },
  {
   "cell_type": "code",
   "execution_count": null,
   "id": "0b2fa838-7c62-4dce-a60a-6c67aa2ec29e",
   "metadata": {},
   "outputs": [],
   "source": [
    "probs_d = []\n",
    "probs_dn = []\n",
    "for k in jnp.arange(K):\n",
    "    probs_d.append((n_ik_z[:, k] + alpha[k])/(Nk+Ak-1))\n",
    "    probs_dn.append((n_ik_z[:, k])/(Nk-1))\n",
    "\n",
    "probs_d = jnp.array(probs_d).transpose()   \n",
    "probs_dn = jnp.array(probs_dn).transpose()   \n",
    "\n",
    "print(probs_d)\n",
    "#print(jnp.sum(probs_d, axis=1))\n",
    "\n",
    "plt.imshow(jnp.repeat(probs_d, int(N/K), axis=1)); plt.colorbar()"
   ]
  },
  {
   "cell_type": "code",
   "execution_count": null,
   "id": "ae7ba8b7-ab85-4af2-b161-6e5c4d281220",
   "metadata": {},
   "outputs": [],
   "source": [
    "myf = lambda x0, x1 : logPi(jnp.array([x0, x1]), z, y, sigma, alpha)\n",
    "xx = jnp.linspace(-3,3,1000)    \n",
    "yy = jnp.linspace(-3,3,1000)"
   ]
  },
  {
   "cell_type": "code",
   "execution_count": null,
   "id": "c44cbf01-bdbb-4bcf-8e44-2f538dfa20af",
   "metadata": {},
   "outputs": [],
   "source": [
    "myf_x = jax.jit(lambda x : jax.vmap(myf, in_axes = (None, 0))(x, yy))\n",
    "myf_xy = jax.vmap(myf_x)(xx)"
   ]
  },
  {
   "cell_type": "code",
   "execution_count": null,
   "id": "ca3c27c4-1f80-4532-a339-0d91e3f01244",
   "metadata": {},
   "outputs": [],
   "source": [
    "plt.imshow((myf_xy)); plt.colorbar()"
   ]
  },
  {
   "cell_type": "code",
   "execution_count": null,
   "id": "d93b21d7-244b-4e97-93e1-3910f6c27632",
   "metadata": {},
   "outputs": [],
   "source": [
    "print(\"01\", myf(x[0], x[1]))\n",
    "print(\"00\", myf(x[0], x[0]))\n",
    "print(\"11\", myf(x[1], x[1]))\n",
    "print(\"10\", myf(x[1], x[0]))"
   ]
  },
  {
   "cell_type": "code",
   "execution_count": null,
   "id": "52e500a5-dcb2-4a2d-bb72-9fa58cfff1a6",
   "metadata": {},
   "outputs": [],
   "source": [
    "myf(x[0],x[1])"
   ]
  },
  {
   "cell_type": "code",
   "execution_count": null,
   "id": "2cfdcec9-5874-491c-b5ae-48b3a96c2979",
   "metadata": {},
   "outputs": [],
   "source": [
    "jnp.max(myf_xy)"
   ]
  }
 ],
 "metadata": {
  "kernelspec": {
   "display_name": "Python 3 (ipykernel)",
   "language": "python",
   "name": "python3"
  },
  "language_info": {
   "codemirror_mode": {
    "name": "ipython",
    "version": 3
   },
   "file_extension": ".py",
   "mimetype": "text/x-python",
   "name": "python",
   "nbconvert_exporter": "python",
   "pygments_lexer": "ipython3",
   "version": "3.9.7"
  }
 },
 "nbformat": 4,
 "nbformat_minor": 5
}
