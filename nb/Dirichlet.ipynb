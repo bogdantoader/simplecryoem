{
 "cells": [
  {
   "cell_type": "code",
   "execution_count": 1,
   "id": "9c792c4c-80c8-4473-b3b4-d673e781b1aa",
   "metadata": {},
   "outputs": [],
   "source": [
    "%load_ext autoreload\n",
    "%autoreload 2\n",
    "import site\n",
    "import sys\n",
    "import time\n",
    "import pickle\n",
    "site.addsitedir('..')\n",
    "from jax.config import config\n",
    "\n",
    "#config.update(\"jax_enable_x64\", True)"
   ]
  },
  {
   "cell_type": "code",
   "execution_count": 2,
   "id": "e979d57e-f612-4760-b769-f22eb16ddc15",
   "metadata": {},
   "outputs": [
    {
     "name": "stderr",
     "output_type": "stream",
     "text": [
      "WARNING:absl:No GPU/TPU found, falling back to CPU. (Set TF_CPP_MIN_LOG_LEVEL=0 and rerun for more info.)\n"
     ]
    }
   ],
   "source": [
    "import numpy as np\n",
    "import jax.numpy as jnp\n",
    "from  matplotlib import pyplot as plt\n",
    "from src.utils import *\n",
    "from src.projection import *\n",
    "from src.interpolate import *\n",
    "from src.jaxops import *\n",
    "from src.fsc import *\n",
    "from src.algorithm import *\n",
    "from src.ab_initio import ab_initio, ab_initio_mcmc\n",
    "from src.residual import get_volume_residual\n",
    "import jax\n",
    "\n",
    "from jax.scipy.special import gammaln\n",
    "\n",
    "import mrcfile\n",
    "\n",
    "plt.rcParams[\"figure.figsize\"]=6,6"
   ]
  },
  {
   "cell_type": "code",
   "execution_count": 3,
   "id": "dd7e2a3f-b064-44d8-bb9d-d6d86310fd6e",
   "metadata": {},
   "outputs": [],
   "source": [
    "key = random.PRNGKey(int(jnp.floor(np.random.rand()*1000)))\n"
   ]
  },
  {
   "cell_type": "code",
   "execution_count": 992,
   "id": "75556229-5c63-4d6f-a277-248980c4e5ac",
   "metadata": {},
   "outputs": [],
   "source": [
    "K = 2\n",
    "N = 100\n",
    "sigma = 0.01\n",
    "\n",
    "alpha = 0.5 * jnp.ones(K,)"
   ]
  },
  {
   "cell_type": "code",
   "execution_count": 1014,
   "id": "69825358-81e0-4d8c-8c1b-34f7a309f3a5",
   "metadata": {},
   "outputs": [
    {
     "name": "stdout",
     "output_type": "stream",
     "text": [
      "[0.68387323 0.31612677]\n",
      "1.0\n"
     ]
    }
   ],
   "source": [
    "key, subkey = random.split(key)\n",
    "pi = random.dirichlet(subkey, alpha)\n",
    "print(pi)\n",
    "print(jnp.sum(pi))"
   ]
  },
  {
   "cell_type": "code",
   "execution_count": 1016,
   "id": "bfb7ad9e-5cb9-46a7-858e-02dc958ad95f",
   "metadata": {},
   "outputs": [],
   "source": [
    "pi = jnp.array([0.68387323, 0.31612677])"
   ]
  },
  {
   "cell_type": "code",
   "execution_count": 1080,
   "id": "6b682411-9fe1-49d8-b4e9-6b84e5e22d5c",
   "metadata": {},
   "outputs": [
    {
     "name": "stdout",
     "output_type": "stream",
     "text": [
      "0.64\n",
      "0.36\n"
     ]
    }
   ],
   "source": [
    "key, subkey = random.split(key)\n",
    "z = random.categorical(subkey, jnp.log(pi), shape = (N,))\n",
    "print(jnp.sum(z==0)/N)\n",
    "print(jnp.sum(z==1)/N)"
   ]
  },
  {
   "cell_type": "code",
   "execution_count": 1081,
   "id": "7782e1e2-15bc-4db8-807d-afd08d2592b8",
   "metadata": {},
   "outputs": [
    {
     "name": "stdout",
     "output_type": "stream",
     "text": [
      "[ 0.83237467 -0.31148312]\n"
     ]
    }
   ],
   "source": [
    "key, subkey = random.split(key)\n",
    "x = random.normal(subkey, shape = (K,))\n",
    "print(x)\n",
    "#print(y.shape)"
   ]
  },
  {
   "cell_type": "code",
   "execution_count": 1082,
   "id": "4200539f-cb45-4eea-b7b2-7671a5f81655",
   "metadata": {},
   "outputs": [
    {
     "data": {
      "text/plain": [
       "[<matplotlib.lines.Line2D at 0x7fcc310d3fd0>]"
      ]
     },
     "execution_count": 1082,
     "metadata": {},
     "output_type": "execute_result"
    },
    {
     "data": {
      "image/png": "[encoded data removed]",
      "text/plain": [
       "<Figure size 432x432 with 1 Axes>"
      ]
     },
     "metadata": {
      "needs_background": "light"
     },
     "output_type": "display_data"
    }
   ],
   "source": [
    "key, subkey = random.split(key)\n",
    "y = x[z] + sigma * random.normal(subkey, shape = (N,))\n",
    "plt.plot(y, '.')"
   ]
  },
  {
   "cell_type": "code",
   "execution_count": 1083,
   "id": "518e26ca-cbe8-452d-8153-d6fdc60bcf3e",
   "metadata": {},
   "outputs": [
    {
     "data": {
      "text/plain": [
       "[<matplotlib.lines.Line2D at 0x7fcc310ef6d0>]"
      ]
     },
     "execution_count": 1083,
     "metadata": {},
     "output_type": "execute_result"
    },
    {
     "data": {
      "image/png": "[encoded data removed]",
      "text/plain": [
       "<Figure size 432x432 with 1 Axes>"
      ]
     },
     "metadata": {
      "needs_background": "light"
     },
     "output_type": "display_data"
    }
   ],
   "source": [
    "plt.plot(x[z], y, '.')"
   ]
  },
  {
   "cell_type": "code",
   "execution_count": 1084,
   "id": "8835a6eb-823e-4002-98b7-4ee0fcbe3fa3",
   "metadata": {},
   "outputs": [],
   "source": [
    "def calc_nik_ki(z,k,i): \n",
    "    z = z.at[i].set(jnp.inf)    \n",
    "    return jnp.sum(z == k)\n",
    "\n",
    "calc_nik_i = lambda z, i : jax.vmap(calc_nik_ki, in_axes = (None, 0, None))(z, jnp.arange(K), i)\n",
    "calc_nik = lambda z : jax.vmap(calc_nik_i, in_axes = (None, 0))(z, jnp.arange(N))\n",
    "calc_nik_jit = jax.jit(calc_nik)\n",
    "\n",
    "calc_nk_k = lambda z, k : jnp.sum(z == k)\n",
    "calc_nk = lambda z : jax.vmap(calc_nk_k, in_axes = (None, 0))(z, jnp.arange(K))\n",
    "calc_nk_jit = jax.jit(calc_nk)"
   ]
  },
  {
   "cell_type": "code",
   "execution_count": 1085,
   "id": "d0cf984b-cc3b-4eed-983b-776e1e78f2e0",
   "metadata": {},
   "outputs": [
    {
     "data": {
      "text/plain": [
       "(100, 2)"
      ]
     },
     "execution_count": 1085,
     "metadata": {},
     "output_type": "execute_result"
    }
   ],
   "source": [
    "calc_nik_jit(z).shape"
   ]
  },
  {
   "cell_type": "code",
   "execution_count": 1086,
   "id": "489a8982-f538-4f29-b89a-87176595a79a",
   "metadata": {},
   "outputs": [
    {
     "name": "stdout",
     "output_type": "stream",
     "text": [
      "63\n",
      "36\n",
      "0\n"
     ]
    }
   ],
   "source": [
    "print(calc_nik_ki(z, 0, 13))\n",
    "print(calc_nik_ki(z, 1, 13))\n",
    "print(calc_nik_ki(z, 2, 13))"
   ]
  },
  {
   "cell_type": "code",
   "execution_count": 1087,
   "id": "993d1bd5-9244-4f1a-a660-123eac15f523",
   "metadata": {},
   "outputs": [
    {
     "data": {
      "text/plain": [
       "(100, 2)"
      ]
     },
     "execution_count": 1087,
     "metadata": {},
     "output_type": "execute_result"
    }
   ],
   "source": [
    "calc_nik_jit(z).shape"
   ]
  },
  {
   "cell_type": "code",
   "execution_count": 1088,
   "id": "20cd822c-479d-4aee-849e-b70b2a7bff54",
   "metadata": {},
   "outputs": [
    {
     "data": {
      "text/plain": [
       "DeviceArray([0.68387323, 0.31612677], dtype=float64)"
      ]
     },
     "execution_count": 1088,
     "metadata": {},
     "output_type": "execute_result"
    }
   ],
   "source": [
    "pi"
   ]
  },
  {
   "cell_type": "code",
   "execution_count": 1333,
   "id": "06197f8f-1fe1-48c5-b1c8-94ae44b8024a",
   "metadata": {},
   "outputs": [],
   "source": [
    "def logPi(x, z, y, sigma, alpha):\n",
    "    n_ik = calc_nik_jit(z)\n",
    "    n_k = calc_nk_jit(z)\n",
    "    \n",
    "    log_arg = jnp.zeros(y.shape)\n",
    "    logPZalpha = -gammaln(jnp.sum(n_k) + jnp.sum(alpha))\n",
    "\n",
    "    Nk = jnp.sum(n_k)\n",
    "    Ak = jnp.sum(alpha)\n",
    "    \n",
    "    # TODO: vectorize\n",
    "    for k in jnp.arange(K):\n",
    "        log_arg += jnp.exp(jnp.exp(-(y - x[k])**2/sigma))*(n_ik[:, k] + alpha[k])/(Nk+Ak-1)\n",
    "        #log_arg += jnp.exp(jnp.exp(-(y - x[k])**2/sigma))*pi[k]\n",
    "        \n",
    "        logPZalpha += gammaln(n_k[k] + alpha[k])\n",
    "    \n",
    "    #print(logPZalpha)\n",
    "    print(\"term A \", jnp.sum(jnp.log(log_arg)) )\n",
    "    #print(\"term B \", - jnp.sum(x**2))\n",
    "    return jnp.sum(jnp.log(log_arg)) - jnp.sum(x**2) + logPZalpha"
   ]
  },
  {
   "cell_type": "code",
   "execution_count": null,
   "id": "c8a4c5d7-99b9-4346-8ae9-79441ab31aa4",
   "metadata": {},
   "outputs": [],
   "source": []
  },
  {
   "cell_type": "code",
   "execution_count": 1334,
   "id": "6890cd11-d5ee-40d4-baf1-200028668a8c",
   "metadata": {},
   "outputs": [],
   "source": [
    "key, subkey = random.split(key)\n",
    "#z0 = random.randint(subkey, z.shape, 0, K)\n",
    "z0 = jnp.ones(z.shape)\n",
    "z0 = z\n",
    "\n",
    "n_ik_z = calc_nik_jit(z0)\n",
    "n_k = calc_nk_jit(z0)\n",
    "Nk = jnp.sum(n_k)\n",
    "Ak = jnp.sum(alpha)"
   ]
  },
  {
   "cell_type": "code",
   "execution_count": 1335,
   "id": "0b2fa838-7c62-4dce-a60a-6c67aa2ec29e",
   "metadata": {},
   "outputs": [],
   "source": [
    "probs_d = []\n",
    "for k in jnp.arange(K):\n",
    "    probs_d.append((n_ik_z[:, k] + alpha[k])/(Nk+Ak-1))\n",
    "probs_d = jnp.array(probs_d).transpose()   \n"
   ]
  },
  {
   "cell_type": "code",
   "execution_count": 1336,
   "id": "f09127dd-7847-42b1-8ff2-267a4ec588c2",
   "metadata": {},
   "outputs": [
    {
     "data": {
      "text/plain": [
       "DeviceArray([0.68387323, 0.31612677], dtype=float64)"
      ]
     },
     "execution_count": 1336,
     "metadata": {},
     "output_type": "execute_result"
    }
   ],
   "source": [
    "pi"
   ]
  },
  {
   "cell_type": "code",
   "execution_count": 1337,
   "id": "2bdef802-b270-46a8-9fa7-506b9d453991",
   "metadata": {},
   "outputs": [
    {
     "data": {
      "text/plain": [
       "DeviceArray([[0.635, 0.365],\n",
       "             [0.635, 0.365],\n",
       "             [0.645, 0.355],\n",
       "             [0.635, 0.365],\n",
       "             [0.645, 0.355],\n",
       "             [0.635, 0.365],\n",
       "             [0.635, 0.365],\n",
       "             [0.635, 0.365],\n",
       "             [0.645, 0.355],\n",
       "             [0.635, 0.365],\n",
       "             [0.635, 0.365],\n",
       "             [0.635, 0.365],\n",
       "             [0.635, 0.365],\n",
       "             [0.635, 0.365],\n",
       "             [0.635, 0.365],\n",
       "             [0.635, 0.365],\n",
       "             [0.635, 0.365],\n",
       "             [0.635, 0.365],\n",
       "             [0.635, 0.365],\n",
       "             [0.645, 0.355],\n",
       "             [0.645, 0.355],\n",
       "             [0.635, 0.365],\n",
       "             [0.645, 0.355],\n",
       "             [0.635, 0.365],\n",
       "             [0.645, 0.355],\n",
       "             [0.635, 0.365],\n",
       "             [0.645, 0.355],\n",
       "             [0.635, 0.365],\n",
       "             [0.645, 0.355],\n",
       "             [0.635, 0.365],\n",
       "             [0.635, 0.365],\n",
       "             [0.635, 0.365],\n",
       "             [0.635, 0.365],\n",
       "             [0.635, 0.365],\n",
       "             [0.635, 0.365],\n",
       "             [0.635, 0.365],\n",
       "             [0.635, 0.365],\n",
       "             [0.635, 0.365],\n",
       "             [0.635, 0.365],\n",
       "             [0.645, 0.355],\n",
       "             [0.645, 0.355],\n",
       "             [0.645, 0.355],\n",
       "             [0.645, 0.355],\n",
       "             [0.635, 0.365],\n",
       "             [0.635, 0.365],\n",
       "             [0.635, 0.365],\n",
       "             [0.635, 0.365],\n",
       "             [0.635, 0.365],\n",
       "             [0.635, 0.365],\n",
       "             [0.635, 0.365],\n",
       "             [0.635, 0.365],\n",
       "             [0.645, 0.355],\n",
       "             [0.635, 0.365],\n",
       "             [0.635, 0.365],\n",
       "             [0.645, 0.355],\n",
       "             [0.635, 0.365],\n",
       "             [0.635, 0.365],\n",
       "             [0.645, 0.355],\n",
       "             [0.635, 0.365],\n",
       "             [0.645, 0.355],\n",
       "             [0.635, 0.365],\n",
       "             [0.645, 0.355],\n",
       "             [0.635, 0.365],\n",
       "             [0.635, 0.365],\n",
       "             [0.635, 0.365],\n",
       "             [0.635, 0.365],\n",
       "             [0.645, 0.355],\n",
       "             [0.635, 0.365],\n",
       "             [0.645, 0.355],\n",
       "             [0.635, 0.365],\n",
       "             [0.635, 0.365],\n",
       "             [0.645, 0.355],\n",
       "             [0.645, 0.355],\n",
       "             [0.635, 0.365],\n",
       "             [0.635, 0.365],\n",
       "             [0.635, 0.365],\n",
       "             [0.645, 0.355],\n",
       "             [0.645, 0.355],\n",
       "             [0.645, 0.355],\n",
       "             [0.645, 0.355],\n",
       "             [0.635, 0.365],\n",
       "             [0.645, 0.355],\n",
       "             [0.635, 0.365],\n",
       "             [0.645, 0.355],\n",
       "             [0.635, 0.365],\n",
       "             [0.645, 0.355],\n",
       "             [0.635, 0.365],\n",
       "             [0.645, 0.355],\n",
       "             [0.635, 0.365],\n",
       "             [0.635, 0.365],\n",
       "             [0.645, 0.355],\n",
       "             [0.645, 0.355],\n",
       "             [0.645, 0.355],\n",
       "             [0.645, 0.355],\n",
       "             [0.645, 0.355],\n",
       "             [0.635, 0.365],\n",
       "             [0.635, 0.365],\n",
       "             [0.635, 0.365],\n",
       "             [0.645, 0.355],\n",
       "             [0.635, 0.365]], dtype=float64)"
      ]
     },
     "execution_count": 1337,
     "metadata": {},
     "output_type": "execute_result"
    }
   ],
   "source": [
    "probs_d"
   ]
  },
  {
   "cell_type": "code",
   "execution_count": 1338,
   "id": "0f51d782-4ee7-4cd7-89cf-4becebcd161a",
   "metadata": {},
   "outputs": [
    {
     "data": {
      "text/plain": [
       "DeviceArray([1., 1., 1., 1., 1., 1., 1., 1., 1., 1., 1., 1., 1., 1., 1.,\n",
       "             1., 1., 1., 1., 1., 1., 1., 1., 1., 1., 1., 1., 1., 1., 1.,\n",
       "             1., 1., 1., 1., 1., 1., 1., 1., 1., 1., 1., 1., 1., 1., 1.,\n",
       "             1., 1., 1., 1., 1., 1., 1., 1., 1., 1., 1., 1., 1., 1., 1.,\n",
       "             1., 1., 1., 1., 1., 1., 1., 1., 1., 1., 1., 1., 1., 1., 1.,\n",
       "             1., 1., 1., 1., 1., 1., 1., 1., 1., 1., 1., 1., 1., 1., 1.,\n",
       "             1., 1., 1., 1., 1., 1., 1., 1., 1., 1.], dtype=float64)"
      ]
     },
     "execution_count": 1338,
     "metadata": {},
     "output_type": "execute_result"
    }
   ],
   "source": [
    "jnp.sum(probs_d, axis=1)"
   ]
  },
  {
   "cell_type": "code",
   "execution_count": 1339,
   "id": "5d95213f-c179-479d-81e9-e9f0ad1ba787",
   "metadata": {},
   "outputs": [
    {
     "data": {
      "text/plain": [
       "<matplotlib.colorbar.Colorbar at 0x7fcc30f5d100>"
      ]
     },
     "execution_count": 1339,
     "metadata": {},
     "output_type": "execute_result"
    },
    {
     "data": {
      "image/png": "[encoded data removed]",
      "text/plain": [
       "<Figure size 432x432 with 2 Axes>"
      ]
     },
     "metadata": {
      "needs_background": "light"
     },
     "output_type": "display_data"
    }
   ],
   "source": [
    "plt.imshow(jnp.repeat(probs_d, int(N/K), axis=1)); plt.colorbar()"
   ]
  },
  {
   "cell_type": "code",
   "execution_count": 1340,
   "id": "1dfe0409-c96a-464a-963f-315265bc1899",
   "metadata": {},
   "outputs": [
    {
     "data": {
      "text/plain": [
       "(100, 2)"
      ]
     },
     "execution_count": 1340,
     "metadata": {},
     "output_type": "execute_result"
    }
   ],
   "source": [
    "n_ik_z.shape"
   ]
  },
  {
   "cell_type": "code",
   "execution_count": 1341,
   "id": "0a2e8693-4ea3-4eed-a93e-0ddb58228241",
   "metadata": {},
   "outputs": [
    {
     "data": {
      "text/plain": [
       "[<matplotlib.lines.Line2D at 0x7fcc30f65070>]"
      ]
     },
     "execution_count": 1341,
     "metadata": {},
     "output_type": "execute_result"
    },
    {
     "data": {
      "image/png": "[encoded data removed]",
      "text/plain": [
       "<Figure size 432x432 with 1 Axes>"
      ]
     },
     "metadata": {
      "needs_background": "light"
     },
     "output_type": "display_data"
    }
   ],
   "source": [
    "plt.plot(n_ik_z[:,4]/N,'.')"
   ]
  },
  {
   "cell_type": "code",
   "execution_count": 1342,
   "id": "08786f8c-7db3-4ba0-9c09-3ed27bd6f382",
   "metadata": {},
   "outputs": [
    {
     "name": "stdout",
     "output_type": "stream",
     "text": [
      "term A  63.610495663401224\n"
     ]
    },
    {
     "data": {
      "text/plain": [
       "DeviceArray(-3.90748142, dtype=float64)"
      ]
     },
     "execution_count": 1342,
     "metadata": {},
     "output_type": "execute_result"
    }
   ],
   "source": [
    "logPi(x, z, y, sigma, alpha)"
   ]
  },
  {
   "cell_type": "code",
   "execution_count": 1343,
   "id": "8c1edba7-627c-4312-90e2-b0c0f455594e",
   "metadata": {},
   "outputs": [
    {
     "data": {
      "text/plain": [
       "DeviceArray([0.68387323, 0.31612677], dtype=float64)"
      ]
     },
     "execution_count": 1343,
     "metadata": {},
     "output_type": "execute_result"
    }
   ],
   "source": [
    "pi"
   ]
  },
  {
   "cell_type": "code",
   "execution_count": 1345,
   "id": "9ab18cfa-e0bd-4174-8037-dd3820a426b7",
   "metadata": {},
   "outputs": [
    {
     "name": "stdout",
     "output_type": "stream",
     "text": [
      "term A  63.610495663401224\n",
      "term A  35.57620348512157\n",
      "term A  63.40059983667809\n",
      "term A  57.29448984534504\n"
     ]
    },
    {
     "data": {
      "text/plain": [
       "DeviceArray(-10.22348723, dtype=float64)"
      ]
     },
     "execution_count": 1345,
     "metadata": {},
     "output_type": "execute_result"
    }
   ],
   "source": [
    "key, subkey = random.split(key)\n",
    "z0 = random.randint(subkey, z.shape, 0, K)\n",
    "#z0 = jnp.ones(z.shape)\n",
    "z0 = z\n",
    "(logPi(jnp.array([x[0], x[1]]), z0, y, sigma, alpha))\n",
    "(logPi(jnp.array([x[1], x[1]]), z0, y, sigma, alpha))\n",
    "(logPi(jnp.array([x[0], x[0]]), z0, y, sigma, alpha))\n",
    "(logPi(jnp.array([x[1], x[0]]), z0, y, sigma, alpha))\n"
   ]
  },
  {
   "cell_type": "code",
   "execution_count": 1197,
   "id": "3b9b72da-6fe2-4d7b-b73b-26c676ddeec6",
   "metadata": {},
   "outputs": [],
   "source": [
    "z_correct = z"
   ]
  },
  {
   "cell_type": "code",
   "execution_count": 1161,
   "id": "e4cc3b56-a2a1-4948-b8e6-fb7116ae85cd",
   "metadata": {},
   "outputs": [],
   "source": [
    "@jax.jit\n",
    "def proposal_x(key, x0, logPiX0, B, z, y, sigma, alpha):\n",
    "    #print(\"z\", z[:10])\n",
    "    #print(\"z_correct\", z_correct[:10])\n",
    "    #print(jnp.sum(jnp.abs(z-z_correct)))\n",
    "    \n",
    "    x1 = random.uniform(key, x0.shape) * 2*B-B\n",
    "    \n",
    "    logPiX0 = logPi(x0, z, y, sigma, alpha)\n",
    "    logPiX1 = logPi(x1, z, y, sigma, alpha)\n",
    "    \n",
    "    r = jnp.exp((logPiX1 - logPiX0))\n",
    "    \n",
    "    return x1, r, logPiX1, logPiX0\n",
    "\n",
    "@jax.jit\n",
    "def proposal_x0(key, x00, logPiX0, B, x1, z, y, sigma, alpha):\n",
    "    x01 = random.uniform(key) * 2*B-B\n",
    "    \n",
    "    logPiX0 = logPi(jnp.array([x00, x1]), z, y, sigma, alpha)\n",
    "    logPiX1 = logPi(jnp.array([x01, x1]), z, y, sigma, alpha)\n",
    "    \n",
    "    r = jnp.exp(logPiX1 - logPiX0)\n",
    "    \n",
    "    return x01, r, logPiX1, logPiX0    \n",
    "\n",
    "@jax.jit\n",
    "def proposal_x1(key, x10, logPiX0, B, x0, z, y, sigma, alpha):\n",
    "    x11 = random.uniform(key) * 2*B-B\n",
    "    \n",
    "    logPiX0 = logPi(jnp.array([x0, x10]), z, y, sigma, alpha)\n",
    "    logPiX1 = logPi(jnp.array([x0, x11]), z, y, sigma, alpha)\n",
    "    \n",
    "    r = jnp.exp(logPiX1 - logPiX0)\n",
    "    \n",
    "    return x11, r, logPiX1, logPiX0    \n",
    "\n",
    "@jax.jit\n",
    "def proposal_z(key, z0, logPiX0, x, y, sigma, alpha, K):\n",
    "    z1 = random.randint(key, z0.shape, 0, K) \n",
    "    \n",
    "    logPiX0 = logPi(x, z0, y, sigma, alpha)\n",
    "    logPiX1 = logPi(x, z1, y, sigma, alpha)\n",
    "    \n",
    "    r = jnp.exp(logPiX1 - logPiX0)\n",
    "    \n",
    "    return z1, r, logPiX1, logPiX0\n",
    "     "
   ]
  },
  {
   "cell_type": "markdown",
   "id": "4bd3c7f4-8f77-4eb7-8019-29ce719c006e",
   "metadata": {},
   "source": [
    "### First, sample x"
   ]
  },
  {
   "cell_type": "code",
   "execution_count": 1100,
   "id": "ce37d72e-aacd-4755-9670-86848f28b552",
   "metadata": {},
   "outputs": [
    {
     "name": "stdout",
     "output_type": "stream",
     "text": [
      "[0.68387323 0.31612677]\n",
      "[ 0.83237467 -0.31148312]\n"
     ]
    }
   ],
   "source": [
    "print(pi)\n",
    "print(x)"
   ]
  },
  {
   "cell_type": "code",
   "execution_count": 1101,
   "id": "1bc11635-dd78-4a2d-a8a9-1585638bd5fc",
   "metadata": {},
   "outputs": [
    {
     "data": {
      "text/plain": [
       "DeviceArray([0.69284759, 0.09702174], dtype=float64)"
      ]
     },
     "execution_count": 1101,
     "metadata": {},
     "output_type": "execute_result"
    }
   ],
   "source": [
    "x**2"
   ]
  },
  {
   "cell_type": "code",
   "execution_count": 1103,
   "id": "dad4b0d6-5bb1-428b-8086-f6c7b0c2a02d",
   "metadata": {},
   "outputs": [
    {
     "name": "stdout",
     "output_type": "stream",
     "text": [
      "  MCMC sample 1000, loss = 11.363832913635626, a = 1.0223177471654394e-27\n",
      "  MCMC sample 2000, loss = 11.363832913635626, a = 2.564281653675782e-24\n",
      "  MCMC sample 3000, loss = 11.363832913635626, a = 2.65735178613941e-29\n",
      "  MCMC sample 4000, loss = 5.511798136941508, a = 1.6955366534411326e-28\n",
      "  MCMC sample 5000, loss = 5.511798136941508, a = 2.6305161979083666e-29\n",
      "  MCMC sample 6000, loss = 5.511798136941508, a = 9.739549071415232e-30\n",
      "  MCMC sample 7000, loss = 5.511798136941508, a = 7.141652311292632e-29\n",
      "  MCMC sample 8000, loss = 5.511798136941508, a = 4.205622662248149e-27\n",
      "  MCMC sample 9000, loss = 5.511798136941508, a = 5.8552383627474455e-31\n",
      "[-1.29905883 -0.06564757]\n",
      "[ 0.84725509 -0.32253892]\n",
      "[ 0.83237467 -0.31148312]\n"
     ]
    },
    {
     "data": {
      "image/png": "[encoded data removed]",
      "text/plain": [
       "<Figure size 432x432 with 1 Axes>"
      ]
     },
     "metadata": {
      "needs_background": "light"
     },
     "output_type": "display_data"
    }
   ],
   "source": [
    "N_samples_x = 10000\n",
    "x0 = jnp.array(np.random.randn(K))\n",
    "B = 3\n",
    "\n",
    "params_x = {\"B\" : B, \"z\" : z, \"y\" : y, \"sigma\" : sigma, \"alpha\" : alpha}\n",
    "\n",
    "key, subkey = random.split(key)\n",
    "x_mean, x_r, x_sample = mcmc(subkey, proposal_x, x0, N_samples_x, params_x, 1, 1)\n",
    "\n",
    "plt.plot(x_r)\n",
    "print(x0)\n",
    "print(x_sample[N_samples_x-2])\n",
    "#print(x_mean)\n",
    "print(x)\n"
   ]
  },
  {
   "cell_type": "code",
   "execution_count": 1106,
   "id": "41d4e4f8-38eb-441d-bacb-e89996b4cd31",
   "metadata": {},
   "outputs": [
    {
     "name": "stdout",
     "output_type": "stream",
     "text": [
      "  MCMC sample 1000, loss = 4.1793302071812235, a = 2.1774088721039157e-23\n",
      "  MCMC sample 2000, loss = 4.017059718265479, a = 9.784371553050716e-21\n",
      "  MCMC sample 3000, loss = 4.072765915623556, a = 3.7300342426544335e-24\n",
      "  MCMC sample 4000, loss = 3.951993225689087, a = 6.013750318609666e-24\n",
      "  MCMC sample 5000, loss = 3.952113075867757, a = 5.558944413184357e-22\n",
      "  MCMC sample 6000, loss = 3.935899149597958, a = 2.3616323502732026e-23\n",
      "  MCMC sample 7000, loss = 4.4461359865132835, a = 1.7829346201942118e-20\n",
      "  MCMC sample 8000, loss = 4.928465803638673, a = 1.71726297285567e-20\n",
      "  MCMC sample 9000, loss = 3.9740643920014804, a = 1.0138085292650128e-21\n",
      "  MCMC sample 10000, loss = 4.962471746908605, a = 2.844927425254973e-20\n",
      "0.24609013664283474\n",
      "0.846589173483991\n",
      "[ 0.83237467 -0.31148312]\n"
     ]
    },
    {
     "data": {
      "image/png": "[encoded data removed]",
      "text/plain": [
       "<Figure size 432x432 with 1 Axes>"
      ]
     },
     "metadata": {
      "needs_background": "light"
     },
     "output_type": "display_data"
    }
   ],
   "source": [
    "N_samples_x = 10001\n",
    "#x0 = jnp.array(np.random.randn(K))\n",
    "x0 = jnp.array(np.random.rand())\n",
    "B = 3\n",
    "\n",
    "#params_x = {\"B\" : B, \"z\" : z, \"y\" : y, \"sigma\" : sigma, \"alpha\" : alpha}\n",
    "params_x = {\"B\" : B, \"z\" : z, \"y\" : y, \"sigma\" : sigma, \"alpha\" : alpha, \"x1\" : x[1]}\n",
    "\n",
    "key, subkey = random.split(key)\n",
    "x_mean, x_r, x_sample = mcmc(subkey, proposal_x0, x0, N_samples_x, params_x, 1, 1)\n",
    "\n",
    "plt.plot(x_r)\n",
    "\n",
    "print(x0)\n",
    "print(x_sample[N_samples_x-2])\n",
    "#print(x_mean)\n",
    "print(x)"
   ]
  },
  {
   "cell_type": "code",
   "execution_count": 1111,
   "id": "a7195e0e-73c6-44b7-a872-97af589fcf73",
   "metadata": {},
   "outputs": [
    {
     "name": "stdout",
     "output_type": "stream",
     "text": [
      "  MCMC sample 1000, loss = 3.8979487302045683, a = 1.0\n",
      "  MCMC sample 2000, loss = 6.369009954314862, a = 6.319941953064741e-08\n",
      "  MCMC sample 3000, loss = 3.8997058420986477, a = 1.6326199056891663e-11\n",
      "  MCMC sample 4000, loss = 4.905371193625889, a = 3.96727399913411e-11\n",
      "  MCMC sample 5000, loss = 5.3621789406683575, a = 6.511055324208658e-08\n",
      "  MCMC sample 6000, loss = 4.253959898908292, a = 0.029179163781378095\n",
      "  MCMC sample 7000, loss = 4.002859105667788, a = 7.724189192215492e-08\n",
      "  MCMC sample 8000, loss = 6.274949649559076, a = 2.2600917339783188e-07\n",
      "  MCMC sample 9000, loss = 4.715978833290691, a = 1.7949987405388905e-09\n",
      "  MCMC sample 10000, loss = 6.091428149426882, a = 0.26413078504989995\n",
      "0.69580036893882\n",
      "0.806477676219028\n",
      "[ 0.83237467 -0.31148312]\n"
     ]
    },
    {
     "data": {
      "image/png": "[encoded data removed]",
      "text/plain": [
       "<Figure size 432x432 with 1 Axes>"
      ]
     },
     "metadata": {
      "needs_background": "light"
     },
     "output_type": "display_data"
    }
   ],
   "source": [
    "N_samples_x = 10001\n",
    "#x0 = jnp.array(np.random.randn(K))\n",
    "x0 = jnp.array(np.random.rand())\n",
    "B = 3\n",
    "\n",
    "#params_x = {\"B\" : B, \"z\" : z, \"y\" : y, \"sigma\" : sigma, \"alpha\" : alpha}\n",
    "params_x = {\"B\" : B, \"z\" : z, \"y\" : y, \"sigma\" : sigma, \"alpha\" : alpha, \"x0\" : x[0]}\n",
    "\n",
    "key, subkey = random.split(key)\n",
    "x_mean, x_r, x_sample = mcmc(subkey, proposal_x1, x0, N_samples_x, params_x, 1, 1)\n",
    "\n",
    "plt.plot(x_r)\n",
    "print(x0)\n",
    "print(x_sample[N_samples_x-2])\n",
    "#print(x_mean)\n",
    "print(x)\n"
   ]
  },
  {
   "cell_type": "code",
   "execution_count": 1112,
   "id": "3ec73ad2-303a-41d0-a68e-04a587362f15",
   "metadata": {},
   "outputs": [
    {
     "name": "stdout",
     "output_type": "stream",
     "text": [
      "term A  63.610495663401224\n",
      "term B  -0.7898693217929046\n"
     ]
    },
    {
     "data": {
      "text/plain": [
       "DeviceArray(-3.90748142, dtype=float64)"
      ]
     },
     "execution_count": 1112,
     "metadata": {},
     "output_type": "execute_result"
    }
   ],
   "source": [
    "logPi(x, z, y, sigma, alpha)\n"
   ]
  },
  {
   "cell_type": "code",
   "execution_count": 1113,
   "id": "16b91d48-15c6-4006-aa8a-7142b807db85",
   "metadata": {},
   "outputs": [
    {
     "name": "stdout",
     "output_type": "stream",
     "text": [
      "term A  63.610495663401224\n",
      "term B  -0.7898693217929046\n"
     ]
    },
    {
     "data": {
      "text/plain": [
       "DeviceArray(-3.90748142, dtype=float64)"
      ]
     },
     "execution_count": 1113,
     "metadata": {},
     "output_type": "execute_result"
    }
   ],
   "source": [
    "logPi(jnp.array([x[0],x[1]]), z, y, sigma, alpha)"
   ]
  },
  {
   "cell_type": "code",
   "execution_count": 1114,
   "id": "36aa8568-0b7d-4acb-b03d-1b1ea8443796",
   "metadata": {},
   "outputs": [
    {
     "name": "stdout",
     "output_type": "stream",
     "text": [
      "term A  35.57620348512157\n",
      "term B  -0.19404347235115288\n"
     ]
    },
    {
     "data": {
      "text/plain": [
       "DeviceArray(-31.34594774, dtype=float64)"
      ]
     },
     "execution_count": 1114,
     "metadata": {},
     "output_type": "execute_result"
    }
   ],
   "source": [
    "logPi(jnp.array([x[1],x[1]]), z, y, sigma, alpha)"
   ]
  },
  {
   "cell_type": "code",
   "execution_count": 1115,
   "id": "34078527-2026-42b8-bbc2-bdc485c422ae",
   "metadata": {},
   "outputs": [
    {
     "data": {
      "text/plain": [
       "DeviceArray([ 0.83237467, -0.31148312], dtype=float64)"
      ]
     },
     "execution_count": 1115,
     "metadata": {},
     "output_type": "execute_result"
    }
   ],
   "source": [
    "x"
   ]
  },
  {
   "cell_type": "code",
   "execution_count": 1125,
   "id": "ae7ba8b7-ab85-4af2-b161-6e5c4d281220",
   "metadata": {},
   "outputs": [],
   "source": [
    "myf = lambda x0, x1 : logPi(jnp.array([x0, x1]), z, y, sigma, alpha)\n",
    "xx = jnp.linspace(-3,3,1000)    \n",
    "yy = jnp.linspace(-3,3,1000)"
   ]
  },
  {
   "cell_type": "code",
   "execution_count": 1126,
   "id": "c44cbf01-bdbb-4bcf-8e44-2f538dfa20af",
   "metadata": {},
   "outputs": [
    {
     "name": "stdout",
     "output_type": "stream",
     "text": [
      "term A  Traced<ShapedArray(float64[])>with<BatchTrace(level=2/1)> with\n",
      "  val = Traced<ShapedArray(float64[1000])>with<BatchTrace(level=1/1)> with\n",
      "    val = Traced<ShapedArray(float64[1000,1000])>with<DynamicJaxprTrace(level=0/1)>\n",
      "    batch_dim = 0\n",
      "  batch_dim = 0\n",
      "term B  Traced<ShapedArray(float64[])>with<BatchTrace(level=2/1)> with\n",
      "  val = Traced<ShapedArray(float64[1000])>with<BatchTrace(level=1/1)> with\n",
      "    val = Traced<ShapedArray(float64[1000,1000])>with<DynamicJaxprTrace(level=0/1)>\n",
      "    batch_dim = 0\n",
      "  batch_dim = 0\n"
     ]
    }
   ],
   "source": [
    "myf_x = jax.jit(lambda x : jax.vmap(myf, in_axes = (None, 0))(x, yy))\n",
    "myf_xy = jax.vmap(myf_x)(xx)"
   ]
  },
  {
   "cell_type": "code",
   "execution_count": 1127,
   "id": "ca3c27c4-1f80-4532-a339-0d91e3f01244",
   "metadata": {},
   "outputs": [
    {
     "data": {
      "text/plain": [
       "<matplotlib.colorbar.Colorbar at 0x7fcc59111b50>"
      ]
     },
     "execution_count": 1127,
     "metadata": {},
     "output_type": "execute_result"
    },
    {
     "data": {
      "image/png": "[encoded data removed]",
      "text/plain": [
       "<Figure size 432x432 with 2 Axes>"
      ]
     },
     "metadata": {
      "needs_background": "light"
     },
     "output_type": "display_data"
    }
   ],
   "source": [
    "plt.imshow((myf_xy)); plt.colorbar()"
   ]
  },
  {
   "cell_type": "code",
   "execution_count": 1128,
   "id": "88d77ccf-f121-489a-a6c3-12ae9a50dc20",
   "metadata": {},
   "outputs": [
    {
     "data": {
      "text/plain": [
       "<matplotlib.colorbar.Colorbar at 0x7fcbb45bd220>"
      ]
     },
     "execution_count": 1128,
     "metadata": {},
     "output_type": "execute_result"
    },
    {
     "data": {
      "image/png": "[encoded data removed]",
      "text/plain": [
       "<Figure size 432x432 with 2 Axes>"
      ]
     },
     "metadata": {
      "needs_background": "light"
     },
     "output_type": "display_data"
    }
   ],
   "source": [
    "plt.imshow((myf_xy)); plt.colorbar()"
   ]
  },
  {
   "cell_type": "code",
   "execution_count": 1129,
   "id": "6b78cc1b-fc72-4d1f-b77d-4e49a53fd51e",
   "metadata": {},
   "outputs": [
    {
     "data": {
      "text/plain": [
       "DeviceArray(3.4657359, dtype=float64)"
      ]
     },
     "execution_count": 1129,
     "metadata": {},
     "output_type": "execute_result"
    }
   ],
   "source": [
    "jnp.log(8) + jnp.log(4)"
   ]
  },
  {
   "cell_type": "code",
   "execution_count": 1130,
   "id": "317d07cf-ac72-48dd-bb11-63d835066a23",
   "metadata": {},
   "outputs": [],
   "source": [
    "#plt.imshow(jnp.abs(myf_xy0-myf_xy2)); plt.colorbar()"
   ]
  },
  {
   "cell_type": "code",
   "execution_count": 1131,
   "id": "d93b21d7-244b-4e97-93e1-3910f6c27632",
   "metadata": {},
   "outputs": [
    {
     "name": "stdout",
     "output_type": "stream",
     "text": [
      "term A  63.610495663401224\n",
      "term B  -0.7898693217929046\n",
      "01 -3.9074814158273057\n",
      "term A  63.40059983667809\n",
      "term B  -1.3856951712346564\n",
      "00 -4.713203091992192\n",
      "term A  35.57620348512157\n",
      "term B  -0.19404347235115288\n",
      "11 -31.34594774466521\n",
      "term A  57.29448984534504\n",
      "term B  -0.7898693217929046\n",
      "10 -10.223487233883489\n"
     ]
    }
   ],
   "source": [
    "print(\"01\", myf(x[0], x[1]))\n",
    "print(\"00\", myf(x[0], x[0]))\n",
    "print(\"11\", myf(x[1], x[1]))\n",
    "print(\"10\", myf(x[1], x[0]))"
   ]
  },
  {
   "cell_type": "code",
   "execution_count": 1132,
   "id": "52e500a5-dcb2-4a2d-bb72-9fa58cfff1a6",
   "metadata": {},
   "outputs": [
    {
     "name": "stdout",
     "output_type": "stream",
     "text": [
      "term A  63.610495663401224\n",
      "term B  -0.7898693217929046\n"
     ]
    },
    {
     "data": {
      "text/plain": [
       "DeviceArray(-3.90748142, dtype=float64)"
      ]
     },
     "execution_count": 1132,
     "metadata": {},
     "output_type": "execute_result"
    }
   ],
   "source": [
    "myf(x[0],x[1])"
   ]
  },
  {
   "cell_type": "code",
   "execution_count": 1133,
   "id": "2cfdcec9-5874-491c-b5ae-48b3a96c2979",
   "metadata": {},
   "outputs": [
    {
     "data": {
      "text/plain": [
       "DeviceArray(-3.89811366, dtype=float64)"
      ]
     },
     "execution_count": 1133,
     "metadata": {},
     "output_type": "execute_result"
    }
   ],
   "source": [
    "jnp.max(myf_xy)"
   ]
  },
  {
   "cell_type": "markdown",
   "id": "e37199aa-3238-44ae-a8bb-158c5326aea1",
   "metadata": {},
   "source": [
    "### Now sample z"
   ]
  },
  {
   "cell_type": "code",
   "execution_count": 323,
   "id": "175ab893-0767-4a2f-a52e-39be146b0a0c",
   "metadata": {},
   "outputs": [
    {
     "data": {
      "text/plain": [
       "(100,)"
      ]
     },
     "execution_count": 323,
     "metadata": {},
     "output_type": "execute_result"
    }
   ],
   "source": [
    "z.shape"
   ]
  },
  {
   "cell_type": "code",
   "execution_count": 1134,
   "id": "5ee6d7c0-6e72-4a32-bdc4-4c7fe32738be",
   "metadata": {},
   "outputs": [
    {
     "name": "stdout",
     "output_type": "stream",
     "text": [
      "term A  Traced<ShapedArray(float64[])>with<DynamicJaxprTrace(level=0/1)>\n",
      "term B  Traced<ShapedArray(float64[])>with<DynamicJaxprTrace(level=0/1)>\n",
      "term A  Traced<ShapedArray(float64[])>with<DynamicJaxprTrace(level=0/1)>\n",
      "term B  Traced<ShapedArray(float64[])>with<DynamicJaxprTrace(level=0/1)>\n",
      "term A  Traced<ShapedArray(float64[])>with<DynamicJaxprTrace(level=0/1)>\n",
      "term B  Traced<ShapedArray(float64[])>with<DynamicJaxprTrace(level=0/1)>\n",
      "term A  Traced<ShapedArray(float64[])>with<DynamicJaxprTrace(level=0/1)>\n",
      "term B  Traced<ShapedArray(float64[])>with<DynamicJaxprTrace(level=0/1)>\n",
      "  MCMC sample 1000, loss = 2.787741280247289, a = 0.0013792301707712304\n",
      "  MCMC sample 2000, loss = 1.9303071443641926, a = 9.755266655874516e-05\n",
      "  MCMC sample 3000, loss = 9.35649551384158, a = 0.3026813968527841\n",
      "  MCMC sample 4000, loss = 4.868105862543999, a = 0.006604839635675252\n",
      "  MCMC sample 5000, loss = 1.9123865154714537, a = 0.0006415190361425648\n",
      "  MCMC sample 6000, loss = 2.713275935719693, a = 0.0004329230782132406\n",
      "  MCMC sample 7000, loss = 1.1484806019454368, a = 8.723354817345117e-05\n",
      "  MCMC sample 8000, loss = 0.3484432612550279, a = 4.070899954644628e-05\n",
      "  MCMC sample 9000, loss = 0.3484432612550279, a = 2.1522576855936396e-05\n",
      "  MCMC sample 10000, loss = 1.9489159690398736, a = 0.00042937417190264853\n",
      "  MCMC sample 11000, loss = 2.7329284951158286, a = 0.0030896953915075147\n",
      "  MCMC sample 12000, loss = 4.86822831797997, a = 0.0025354960287477493\n",
      "  MCMC sample 13000, loss = 7.685992807670054, a = 0.10084227984620095\n",
      "  MCMC sample 14000, loss = 1.185398825790088, a = 4.4027741192922295e-05\n",
      "  MCMC sample 15000, loss = 7.159734538229031, a = 0.054406903209291944\n",
      "  MCMC sample 16000, loss = 2.73249657702182, a = 0.07088870120686093\n",
      "  MCMC sample 17000, loss = 6.099374087224234, a = 0.007303823103201341\n",
      "  MCMC sample 18000, loss = 4.811988372115458, a = 0.008243563187539375\n",
      "  MCMC sample 19000, loss = 0.32952121423123515, a = 0.0004432209813667361\n",
      "  MCMC sample 20000, loss = 4.793371127508145, a = 0.0016327585311404654\n",
      "  MCMC sample 21000, loss = 0.4891416775006405, a = 1.2403653473430002e-05\n",
      "  MCMC sample 22000, loss = 0.4891416775006405, a = 8.631010846968861e-05\n",
      "  MCMC sample 23000, loss = 4.867760730365113, a = 0.0019175534468290378\n",
      "  MCMC sample 24000, loss = 1.9872255631182583, a = 0.0001745739933155711\n",
      "  MCMC sample 25000, loss = 3.4983420800764407, a = 0.000820826727577809\n",
      "  MCMC sample 26000, loss = 1.9677177692339427, a = 0.00011029175436738572\n",
      "  MCMC sample 27000, loss = 1.2047847466297128, a = 4.656186931751564e-05\n",
      "  MCMC sample 28000, loss = 1.5364414248853535, a = 2.870027220344854e-05\n",
      "  MCMC sample 29000, loss = 1.5364414248853535, a = 4.271414480404154e-06\n",
      "  MCMC sample 30000, loss = 1.5364414248853535, a = 1.4693900771914029e-05\n",
      "  MCMC sample 31000, loss = 1.5364414248853535, a = 1.3398785339445205e-05\n",
      "  MCMC sample 32000, loss = 1.5364414248853535, a = 4.2659563587963336e-06\n",
      "  MCMC sample 33000, loss = 1.5364414248853535, a = 7.80017982319022e-06\n",
      "  MCMC sample 34000, loss = 1.5364414248853535, a = 4.540559890970471e-06\n",
      "  MCMC sample 35000, loss = 1.5364414248853535, a = 1.033666970120469e-05\n",
      "  MCMC sample 36000, loss = 1.5364414248853535, a = 4.271281722527858e-06\n",
      "  MCMC sample 37000, loss = 1.5364414248853535, a = 2.776389435678872e-06\n",
      "  MCMC sample 38000, loss = 1.5364414248853535, a = 3.3948876809867486e-06\n",
      "  MCMC sample 39000, loss = 1.5364414248853535, a = 2.762474004116201e-05\n",
      "  MCMC sample 40000, loss = 1.5364414248853535, a = 1.3653726775193241e-05\n",
      "  MCMC sample 41000, loss = 1.5364414248853535, a = 1.964114325884317e-05\n",
      "  MCMC sample 42000, loss = 1.5364414248853535, a = 7.517809073950021e-06\n",
      "  MCMC sample 43000, loss = 1.5364414248853535, a = 6.373929310343635e-05\n",
      "  MCMC sample 44000, loss = 1.5364414248853535, a = 2.9875891624061174e-06\n",
      "  MCMC sample 45000, loss = 2.006309591827531, a = 0.0003201278614178475\n",
      "  MCMC sample 46000, loss = 7.141342261558641, a = 0.0433014635560448\n",
      "  MCMC sample 47000, loss = 10.476656846174755, a = 0.20374184595191966\n",
      "  MCMC sample 48000, loss = 0.4891510330076585, a = 9.860960281332142e-06\n",
      "  MCMC sample 49000, loss = 1.4802290215635878, a = 0.00011035252296245594\n",
      "  MCMC sample 50000, loss = 1.4802290215635878, a = 3.5450250265991304e-06\n",
      "  MCMC sample 51000, loss = 1.4802290215635878, a = 2.0777716509427803e-05\n",
      "  MCMC sample 52000, loss = 0.3468152773723716, a = 3.32423039169747e-05\n",
      "  MCMC sample 53000, loss = 0.253888159736519, a = 3.8381841646613464e-05\n",
      "  MCMC sample 54000, loss = 1.0550298575839179, a = 0.0001924529543565188\n",
      "  MCMC sample 55000, loss = 8.977586105839507, a = 0.23176138100082666\n",
      "  MCMC sample 56000, loss = 0.3108694366530216, a = 5.039326502298758e-05\n",
      "  MCMC sample 57000, loss = 0.3108694366530216, a = 3.151508358999595e-05\n",
      "  MCMC sample 58000, loss = 3.497871331579148, a = 0.0011750207689202956\n",
      "  MCMC sample 59000, loss = 2.005123911675966, a = 0.0003316201422773083\n",
      "  MCMC sample 60000, loss = 9.337738907239697, a = 0.16161984195902862\n",
      "  MCMC sample 61000, loss = 1.1855750684320157, a = 6.618331533825499e-05\n",
      "  MCMC sample 62000, loss = 4.154003733162078, a = 0.0018825672287888827\n",
      "  MCMC sample 63000, loss = 4.264257140734877, a = 0.020676418360912024\n",
      "  MCMC sample 64000, loss = 2.6564156925559956, a = 0.0019343770661173067\n",
      "  MCMC sample 65000, loss = 2.042222860419514, a = 0.00010324608725167226\n",
      "  MCMC sample 66000, loss = 4.7752489622138725, a = 0.0025896847671682513\n",
      "  MCMC sample 67000, loss = 1.5174335636153273, a = 2.87040013558167e-05\n",
      "  MCMC sample 68000, loss = 1.5174335636153273, a = 4.597928930841984e-06\n",
      "  MCMC sample 69000, loss = 1.5174335636153273, a = 0.00010650484765588554\n",
      "  MCMC sample 70000, loss = 1.5174335636153273, a = 3.2901920446026853e-06\n",
      "  MCMC sample 71000, loss = 1.5174335636153273, a = 9.714579666921205e-05\n",
      "  MCMC sample 72000, loss = 1.5174335636153273, a = 6.537638994654724e-06\n",
      "  MCMC sample 73000, loss = 1.5174335636153273, a = 1.4695611642242135e-05\n",
      "  MCMC sample 74000, loss = 1.5174335636153273, a = 2.8287222968800174e-06\n",
      "  MCMC sample 75000, loss = 1.5174335636153273, a = 3.721247767674985e-06\n",
      "  MCMC sample 76000, loss = 1.5174335636153273, a = 4.331088535806399e-05\n",
      "  MCMC sample 77000, loss = 1.5174335636153273, a = 1.4966633712138915e-05\n",
      "  MCMC sample 78000, loss = 1.5174335636153273, a = 3.29220261636867e-06\n",
      "  MCMC sample 79000, loss = 1.5174335636153273, a = 8.390177067557466e-06\n",
      "  MCMC sample 80000, loss = 1.5174335636153273, a = 5.250368371719229e-06\n",
      "  MCMC sample 81000, loss = 1.9864873933280904, a = 0.00020183684601389368\n",
      "  MCMC sample 82000, loss = 1.9864873933280904, a = 0.0054609043874285996\n",
      "  MCMC sample 83000, loss = 9.665740618312732, a = 0.21996867272568138\n",
      "  MCMC sample 84000, loss = 1.9494798534585271, a = 0.00021304110789147648\n",
      "  MCMC sample 85000, loss = 1.1849432201784964, a = 9.741324011978309e-05\n",
      "  MCMC sample 86000, loss = 1.1849432201784964, a = 7.271246998296428e-05\n",
      "  MCMC sample 87000, loss = 1.1849432201784964, a = 5.2579425862909694e-05\n",
      "  MCMC sample 88000, loss = 2.005592230690482, a = 0.0009727506866678927\n",
      "  MCMC sample 89000, loss = 5.472027289705352, a = 0.004120125983592422\n",
      "  MCMC sample 90000, loss = 1.147978034816333, a = 0.0014749108125283476\n",
      "  MCMC sample 91000, loss = 1.147978034816333, a = 6.0323406434907056e-05\n",
      "  MCMC sample 92000, loss = 4.134811674301737, a = 0.004035352270713733\n",
      "  MCMC sample 93000, loss = 3.4795254047650843, a = 0.002960480310115916\n",
      "  MCMC sample 94000, loss = 4.847282902472003, a = 0.0059063275026036725\n",
      "  MCMC sample 95000, loss = 9.979878736213635, a = 1.0\n",
      "  MCMC sample 96000, loss = 7.630575753397757, a = 0.9471744455216667\n",
      "  MCMC sample 97000, loss = 6.0807731664421425, a = 0.007708563738282823\n",
      "  MCMC sample 98000, loss = 1.4795345707774175, a = 3.051988575465343e-06\n",
      "  MCMC sample 99000, loss = 1.4795345707774175, a = 5.356931142091109e-06\n",
      "  MCMC sample 100000, loss = 1.4795345707774175, a = 6.187695113349277e-06\n",
      "0.5\n",
      "0.44\n"
     ]
    },
    {
     "data": {
      "image/png": "[encoded data removed]",
      "text/plain": [
       "<Figure size 432x432 with 1 Axes>"
      ]
     },
     "metadata": {
      "needs_background": "light"
     },
     "output_type": "display_data"
    }
   ],
   "source": [
    "N_samples_z = 100001\n",
    "z0 = jnp.array(np.random.randint(0, K, (N,)))\n",
    "B = 3\n",
    "\n",
    "params_z = {\"x\" : x, \"y\" : y, \"sigma\" : sigma, \"alpha\" : alpha, \"K\" : K}\n",
    "\n",
    "key, subkey = random.split(key)\n",
    "z_mean, z_r, z_samples = mcmc(subkey, proposal_z, z0, N_samples_z, params_z, 1, 1)\n",
    "z_rec = z_samples[N_samples_z-2]\n",
    "\n",
    "plt.plot(z_r)\n",
    "print(jnp.sum(jnp.abs(z0-z))/N)\n",
    "print(jnp.sum(jnp.abs(z_rec-z))/N)\n"
   ]
  },
  {
   "cell_type": "code",
   "execution_count": 1135,
   "id": "1693fdc2-783f-4088-932a-d45201c47de3",
   "metadata": {},
   "outputs": [
    {
     "data": {
      "text/plain": [
       "[<matplotlib.lines.Line2D at 0x7fbc331e67f0>]"
      ]
     },
     "execution_count": 1135,
     "metadata": {},
     "output_type": "execute_result"
    },
    {
     "data": {
      "image/png": "[encoded data removed]",
      "text/plain": [
       "<Figure size 432x432 with 1 Axes>"
      ]
     },
     "metadata": {
      "needs_background": "light"
     },
     "output_type": "display_data"
    }
   ],
   "source": [
    "plt.plot(jnp.abs(z0-z), '.')\n"
   ]
  },
  {
   "cell_type": "code",
   "execution_count": 1136,
   "id": "832fac03-0575-4826-81c9-d70df93059c1",
   "metadata": {},
   "outputs": [
    {
     "data": {
      "text/plain": [
       "[<matplotlib.lines.Line2D at 0x7fbc40e1cdf0>]"
      ]
     },
     "execution_count": 1136,
     "metadata": {},
     "output_type": "execute_result"
    },
    {
     "data": {
      "image/png": "[encoded data removed]",
      "text/plain": [
       "<Figure size 432x432 with 1 Axes>"
      ]
     },
     "metadata": {
      "needs_background": "light"
     },
     "output_type": "display_data"
    }
   ],
   "source": [
    "plt.plot(jnp.abs(z_rec-z), '.')"
   ]
  },
  {
   "cell_type": "code",
   "execution_count": 1137,
   "id": "73f517a2-f8c4-4c6f-8082-e2f31f45698d",
   "metadata": {},
   "outputs": [
    {
     "data": {
      "text/plain": [
       "DeviceArray([0, 0, 1, 0, 1, 0, 0, 0, 1, 0, 0, 0, 0, 0, 0, 0, 0, 0, 0, 1,\n",
       "             1, 0, 1, 0, 1, 0, 1, 0, 1, 0, 0, 0, 0, 0, 0, 0, 0, 0, 0, 1,\n",
       "             1, 1, 1, 0, 0, 0, 0, 0, 0, 0, 0, 1, 0, 0, 1, 0, 0, 1, 0, 1,\n",
       "             0, 1, 0, 0, 0, 0, 1, 0, 1, 0, 0, 1, 1, 0, 0, 0, 1, 1, 1, 1,\n",
       "             0, 1, 0, 1, 0, 1, 0, 1, 0, 0, 1, 1, 1, 1, 1, 0, 0, 0, 1, 0],            dtype=int64)"
      ]
     },
     "execution_count": 1137,
     "metadata": {},
     "output_type": "execute_result"
    }
   ],
   "source": [
    "z"
   ]
  },
  {
   "cell_type": "code",
   "execution_count": 1138,
   "id": "a056e510-e48d-41f0-af60-8023056c2e80",
   "metadata": {},
   "outputs": [
    {
     "data": {
      "text/plain": [
       "DeviceArray([0, 0, 1, 1, 0, 0, 0, 0, 0, 1, 0, 1, 0, 0, 0, 0, 0, 0, 0, 0,\n",
       "             1, 0, 0, 0, 1, 0, 0, 0, 0, 1, 0, 0, 1, 0, 1, 1, 1, 0, 0, 0,\n",
       "             0, 0, 0, 1, 0, 0, 0, 1, 0, 0, 0, 1, 1, 0, 1, 0, 1, 1, 0, 0,\n",
       "             0, 0, 1, 0, 1, 0, 0, 0, 0, 1, 1, 0, 1, 0, 0, 0, 0, 0, 1, 1,\n",
       "             0, 0, 1, 0, 1, 0, 0, 1, 0, 0, 0, 0, 0, 0, 0, 0, 0, 0, 1, 1],            dtype=int64)"
      ]
     },
     "execution_count": 1138,
     "metadata": {},
     "output_type": "execute_result"
    }
   ],
   "source": [
    "z_rec"
   ]
  },
  {
   "cell_type": "code",
   "execution_count": 1139,
   "id": "f35c87d1-9f48-47ea-9906-ada5f28d52eb",
   "metadata": {},
   "outputs": [
    {
     "data": {
      "text/plain": [
       "DeviceArray([0.68387323, 0.31612677], dtype=float64)"
      ]
     },
     "execution_count": 1139,
     "metadata": {},
     "output_type": "execute_result"
    }
   ],
   "source": [
    "pi"
   ]
  },
  {
   "cell_type": "code",
   "execution_count": 1140,
   "id": "93324f5f-b800-415c-831a-40816b4a981b",
   "metadata": {},
   "outputs": [
    {
     "data": {
      "text/plain": [
       "DeviceArray([ 0.83237467, -0.31148312], dtype=float64)"
      ]
     },
     "execution_count": 1140,
     "metadata": {},
     "output_type": "execute_result"
    }
   ],
   "source": [
    "x"
   ]
  },
  {
   "cell_type": "code",
   "execution_count": null,
   "id": "7da60817-fd18-40c8-b91f-cb5a310c0713",
   "metadata": {},
   "outputs": [],
   "source": []
  }
 ],
 "metadata": {
  "kernelspec": {
   "display_name": "Python 3 (ipykernel)",
   "language": "python",
   "name": "python3"
  },
  "language_info": {
   "codemirror_mode": {
    "name": "ipython",
    "version": 3
   },
   "file_extension": ".py",
   "mimetype": "text/x-python",
   "name": "python",
   "nbconvert_exporter": "python",
   "pygments_lexer": "ipython3",
   "version": "3.9.7"
  }
 },
 "nbformat": 4,
 "nbformat_minor": 5
}
