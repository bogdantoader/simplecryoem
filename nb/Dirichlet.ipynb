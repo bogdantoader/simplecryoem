{
 "cells": [
  {
   "cell_type": "markdown",
   "id": "02bba85a-2401-4d87-aeb0-013d30d6717d",
   "metadata": {},
   "source": [
    "# Classification with Dirichlet prior"
   ]
  },
  {
   "cell_type": "code",
   "execution_count": 1,
   "id": "9c792c4c-80c8-4473-b3b4-d673e781b1aa",
   "metadata": {},
   "outputs": [],
   "source": [
    "%load_ext autoreload\n",
    "%autoreload 2\n",
    "import site\n",
    "import sys\n",
    "import time\n",
    "import pickle\n",
    "site.addsitedir('..')\n",
    "from jax.config import config\n",
    "\n",
    "#config.update(\"jax_enable_x64\", True)"
   ]
  },
  {
   "cell_type": "code",
   "execution_count": 2,
   "id": "e979d57e-f612-4760-b769-f22eb16ddc15",
   "metadata": {},
   "outputs": [
    {
     "name": "stderr",
     "output_type": "stream",
     "text": [
      "WARNING:absl:No GPU/TPU found, falling back to CPU. (Set TF_CPP_MIN_LOG_LEVEL=0 and rerun for more info.)\n"
     ]
    }
   ],
   "source": [
    "import numpy as np\n",
    "import jax.numpy as jnp\n",
    "from  matplotlib import pyplot as plt\n",
    "from src.utils import *\n",
    "from src.projection import *\n",
    "from src.interpolate import *\n",
    "from src.jaxops import *\n",
    "from src.fsc import *\n",
    "from src.algorithm import *\n",
    "from src.ab_initio import ab_initio, ab_initio_mcmc\n",
    "from src.residual import get_volume_residual\n",
    "import jax\n",
    "\n",
    "from jax.scipy.special import gammaln\n",
    "\n",
    "import mrcfile\n",
    "\n",
    "plt.rcParams[\"figure.figsize\"]=6,6"
   ]
  },
  {
   "cell_type": "code",
   "execution_count": 3,
   "id": "dd7e2a3f-b064-44d8-bb9d-d6d86310fd6e",
   "metadata": {},
   "outputs": [],
   "source": [
    "key = random.PRNGKey(int(jnp.floor(np.random.rand()*1000)))\n"
   ]
  },
  {
   "cell_type": "code",
   "execution_count": 184,
   "id": "75556229-5c63-4d6f-a277-248980c4e5ac",
   "metadata": {},
   "outputs": [],
   "source": [
    "K = 8\n",
    "N = 1000\n",
    "sigma = 0.01\n",
    "\n",
    "alpha = 0.5 * jnp.ones(K,)"
   ]
  },
  {
   "cell_type": "code",
   "execution_count": 185,
   "id": "69825358-81e0-4d8c-8c1b-34f7a309f3a5",
   "metadata": {},
   "outputs": [
    {
     "name": "stdout",
     "output_type": "stream",
     "text": [
      "[0.0059662  0.012452   0.15099157 0.00819745 0.31422796 0.05604924\n",
      " 0.45137008 0.00074548]\n",
      "0.9999999999999999\n"
     ]
    }
   ],
   "source": [
    "key, subkey = random.split(key)\n",
    "pi = random.dirichlet(subkey, alpha)\n",
    "print(pi)\n",
    "print(jnp.sum(pi))"
   ]
  },
  {
   "cell_type": "code",
   "execution_count": 186,
   "id": "bfb7ad9e-5cb9-46a7-858e-02dc958ad95f",
   "metadata": {},
   "outputs": [],
   "source": [
    "#pi = jnp.array([0.68387323, 0.31612677])"
   ]
  },
  {
   "cell_type": "code",
   "execution_count": 187,
   "id": "6b682411-9fe1-49d8-b4e9-6b84e5e22d5c",
   "metadata": {},
   "outputs": [
    {
     "name": "stdout",
     "output_type": "stream",
     "text": [
      "0.003\n",
      "0.014\n"
     ]
    }
   ],
   "source": [
    "key, subkey = random.split(key)\n",
    "z = random.categorical(subkey, jnp.log(pi), shape = (N,))\n",
    "print(jnp.sum(z==0)/N)\n",
    "print(jnp.sum(z==1)/N)"
   ]
  },
  {
   "cell_type": "code",
   "execution_count": 188,
   "id": "7782e1e2-15bc-4db8-807d-afd08d2592b8",
   "metadata": {},
   "outputs": [
    {
     "name": "stdout",
     "output_type": "stream",
     "text": [
      "[-1.68081365 -0.84632231 -0.52572157  0.03072467 -1.41259404  0.5589802\n",
      "  0.50923895 -1.04863258]\n"
     ]
    }
   ],
   "source": [
    "key, subkey = random.split(key)\n",
    "x = random.normal(subkey, shape = (K,))\n",
    "print(x)\n",
    "#print(y.shape)"
   ]
  },
  {
   "cell_type": "code",
   "execution_count": 189,
   "id": "4200539f-cb45-4eea-b7b2-7671a5f81655",
   "metadata": {},
   "outputs": [
    {
     "data": {
      "text/plain": [
       "[<matplotlib.lines.Line2D at 0x7fb7705c2d00>]"
      ]
     },
     "execution_count": 189,
     "metadata": {},
     "output_type": "execute_result"
    },
    {
     "data": {
      "image/png": "[encoded data removed]",
      "text/plain": [
       "<Figure size 432x432 with 1 Axes>"
      ]
     },
     "metadata": {
      "needs_background": "light"
     },
     "output_type": "display_data"
    }
   ],
   "source": [
    "key, subkey = random.split(key)\n",
    "y = x[z] + sigma * random.normal(subkey, shape = (N,))\n",
    "plt.plot(y, '.')"
   ]
  },
  {
   "cell_type": "code",
   "execution_count": 190,
   "id": "518e26ca-cbe8-452d-8153-d6fdc60bcf3e",
   "metadata": {},
   "outputs": [
    {
     "data": {
      "text/plain": [
       "[<matplotlib.lines.Line2D at 0x7fb7904af7f0>]"
      ]
     },
     "execution_count": 190,
     "metadata": {},
     "output_type": "execute_result"
    },
    {
     "data": {
      "image/png": "[encoded data removed]",
      "text/plain": [
       "<Figure size 432x432 with 1 Axes>"
      ]
     },
     "metadata": {
      "needs_background": "light"
     },
     "output_type": "display_data"
    }
   ],
   "source": [
    "plt.plot(x[z], y, '.')"
   ]
  },
  {
   "cell_type": "code",
   "execution_count": 191,
   "id": "8835a6eb-823e-4002-98b7-4ee0fcbe3fa3",
   "metadata": {},
   "outputs": [],
   "source": [
    "def calc_nik_ki(z,k,i): \n",
    "    z = z.at[i].set(jnp.inf)    \n",
    "    return jnp.sum(z == k)\n",
    "\n",
    "calc_nik_i = lambda z, i : jax.vmap(calc_nik_ki, in_axes = (None, 0, None))(z, jnp.arange(K), i)\n",
    "calc_nik = lambda z : jax.vmap(calc_nik_i, in_axes = (None, 0))(z, jnp.arange(N))\n",
    "calc_nik_jit = jax.jit(calc_nik)\n",
    "\n",
    "calc_nk_k = lambda z, k : jnp.sum(z == k)\n",
    "calc_nk = lambda z : jax.vmap(calc_nk_k, in_axes = (None, 0))(z, jnp.arange(K))\n",
    "calc_nk_jit = jax.jit(calc_nk)"
   ]
  },
  {
   "cell_type": "code",
   "execution_count": 192,
   "id": "d0cf984b-cc3b-4eed-983b-776e1e78f2e0",
   "metadata": {},
   "outputs": [
    {
     "data": {
      "text/plain": [
       "(1000, 8)"
      ]
     },
     "execution_count": 192,
     "metadata": {},
     "output_type": "execute_result"
    }
   ],
   "source": [
    "calc_nik_jit(z).shape"
   ]
  },
  {
   "cell_type": "code",
   "execution_count": 193,
   "id": "489a8982-f538-4f29-b89a-87176595a79a",
   "metadata": {},
   "outputs": [
    {
     "name": "stdout",
     "output_type": "stream",
     "text": [
      "3\n",
      "14\n",
      "158\n"
     ]
    }
   ],
   "source": [
    "print(calc_nik_ki(z, 0, 13))\n",
    "print(calc_nik_ki(z, 1, 13))\n",
    "print(calc_nik_ki(z, 2, 13))"
   ]
  },
  {
   "cell_type": "code",
   "execution_count": 195,
   "id": "20cd822c-479d-4aee-849e-b70b2a7bff54",
   "metadata": {},
   "outputs": [
    {
     "data": {
      "text/plain": [
       "DeviceArray([0.0059662 , 0.012452  , 0.15099157, 0.00819745, 0.31422796,\n",
       "             0.05604924, 0.45137008, 0.00074548], dtype=float64)"
      ]
     },
     "execution_count": 195,
     "metadata": {},
     "output_type": "execute_result"
    }
   ],
   "source": [
    "pi"
   ]
  },
  {
   "cell_type": "code",
   "execution_count": 196,
   "id": "6890cd11-d5ee-40d4-baf1-200028668a8c",
   "metadata": {},
   "outputs": [],
   "source": [
    "key, subkey = random.split(key)\n",
    "#z0 = random.randint(subkey, z.shape, 0, K)\n",
    "z0 = jnp.ones(z.shape)\n",
    "z0 = z\n",
    "\n",
    "n_ik_z = calc_nik_jit(z0)\n",
    "n_k = calc_nk_jit(z0)\n",
    "Nk = jnp.sum(n_k)\n",
    "Ak = jnp.sum(alpha)"
   ]
  },
  {
   "cell_type": "code",
   "execution_count": 197,
   "id": "0b2fa838-7c62-4dce-a60a-6c67aa2ec29e",
   "metadata": {},
   "outputs": [
    {
     "name": "stdout",
     "output_type": "stream",
     "text": [
      "[[0.00348953 0.01445663 0.15802592 ... 0.04835494 0.45214357 0.00149551]\n",
      " [0.00348953 0.01445663 0.15802592 ... 0.04835494 0.45214357 0.00149551]\n",
      " [0.00348953 0.01445663 0.15802592 ... 0.04835494 0.45114656 0.00149551]\n",
      " ...\n",
      " [0.00348953 0.01445663 0.15802592 ... 0.04835494 0.45114656 0.00149551]\n",
      " [0.00348953 0.01445663 0.15802592 ... 0.04835494 0.45114656 0.00149551]\n",
      " [0.00348953 0.01445663 0.15802592 ... 0.04835494 0.45114656 0.00149551]]\n"
     ]
    },
    {
     "data": {
      "text/plain": [
       "<matplotlib.colorbar.Colorbar at 0x7fb7c66863d0>"
      ]
     },
     "execution_count": 197,
     "metadata": {},
     "output_type": "execute_result"
    },
    {
     "data": {
      "image/png": "[encoded data removed]",
      "text/plain": [
       "<Figure size 432x432 with 2 Axes>"
      ]
     },
     "metadata": {
      "needs_background": "light"
     },
     "output_type": "display_data"
    }
   ],
   "source": [
    "probs_d = []\n",
    "probs_dn = []\n",
    "for k in jnp.arange(K):\n",
    "    probs_d.append((n_ik_z[:, k] + alpha[k])/(Nk+Ak-1))\n",
    "    probs_dn.append((n_ik_z[:, k])/(Nk-1))\n",
    "\n",
    "probs_d = jnp.array(probs_d).transpose()   \n",
    "probs_dn = jnp.array(probs_dn).transpose()   \n",
    "\n",
    "print(probs_d)\n",
    "#print(jnp.sum(probs_d, axis=1))\n",
    "\n",
    "plt.imshow(jnp.repeat(probs_d, int(N/K), axis=1)); plt.colorbar()"
   ]
  },
  {
   "cell_type": "code",
   "execution_count": 199,
   "id": "0a2e8693-4ea3-4eed-a93e-0ddb58228241",
   "metadata": {},
   "outputs": [
    {
     "data": {
      "text/plain": [
       "[<matplotlib.lines.Line2D at 0x7fb790473460>]"
      ]
     },
     "execution_count": 199,
     "metadata": {},
     "output_type": "execute_result"
    },
    {
     "data": {
      "image/png": "[encoded data removed]",
      "text/plain": [
       "<Figure size 432x432 with 1 Axes>"
      ]
     },
     "metadata": {
      "needs_background": "light"
     },
     "output_type": "display_data"
    }
   ],
   "source": [
    "plt.plot(n_ik_z[:,4]/N,'.')"
   ]
  },
  {
   "cell_type": "code",
   "execution_count": 206,
   "id": "c8215a51-910c-49ec-a85e-4b37a48a2162",
   "metadata": {},
   "outputs": [],
   "source": [
    "# This log posterior marginalizes over the classes k.\n",
    "def logPi_marg(x, z, y, sigma, alpha):\n",
    "    n_ik = calc_nik_jit(z)\n",
    "    n_k = calc_nk_jit(z)\n",
    "    \n",
    "    log_arg = jnp.zeros(y.shape)\n",
    "    logPZalpha = -gammaln(jnp.sum(n_k) + jnp.sum(alpha))\n",
    "\n",
    "    Nk = jnp.sum(n_k)\n",
    "    Ak = jnp.sum(alpha)\n",
    "    \n",
    "    # TODO: vectorize\n",
    "    term_mat = []\n",
    "    for k in jnp.arange(K):\n",
    "        logarg_k = jnp.exp(-(y - x[k])**2/sigma) * (n_ik[:, k] + alpha[k])/(Nk+Ak-1)\n",
    "        log_arg += logarg_k\n",
    "        term_mat.append(logarg_k)\n",
    "        #log_arg += jnp.exp(jnp.exp(-(y - x[k])**2/sigma))*pi[k]\n",
    "        \n",
    "        logPZalpha += gammaln(n_k[k] + alpha[k])\n",
    "    \n",
    "    #print(logPZalpha)\n",
    "    #print(\"term A \", jnp.sum(jnp.log(log_arg)) )\n",
    "    #print(\"term B \", - jnp.sum(x**2))\n",
    "    \n",
    "    return jnp.sum(jnp.log(log_arg)) - jnp.sum(x**2) #, jnp.array(term_mat).transpose()\n",
    "    #return logPZalpha #, jnp.array(term_mat).transpose()\n",
    "\n",
    "    \n",
    "# And this does not.\n",
    "def logPi(x, z, y, sigma, alpha):\n",
    "    n_ik = calc_nik_jit(z)\n",
    "    n_k = calc_nk_jit(z)\n",
    "    \n",
    "    log_arg = jnp.zeros(y.shape)\n",
    "\n",
    "    Nk = jnp.sum(n_k)\n",
    "    Ak = jnp.sum(alpha)\n",
    "    \n",
    "    n_ik_z = jax.vmap(lambda i : n_ik[i, z[i]])(jnp.arange(N))\n",
    "    \n",
    "    term1 = jnp.sum(-(y - x[z])**2/sigma)\n",
    "    term2 = jnp.sum(jnp.log(n_ik_z + alpha[z])) \n",
    "\n",
    "    logPZalpha = -gammaln(jnp.sum(n_k) + jnp.sum(alpha)) + jnp.sum(gammaln(n_k + alpha))\n",
    "\n",
    "    return term1 + term2 - jnp.sum(x**2) + logPZalpha "
   ]
  },
  {
   "cell_type": "code",
   "execution_count": 207,
   "id": "94b6f520-a67e-42fb-8b00-745425e5c68d",
   "metadata": {},
   "outputs": [
    {
     "name": "stdout",
     "output_type": "stream",
     "text": [
      "-99468.78971191283\n",
      "-105608.09245249642\n",
      "-270221.1958953286\n",
      "-101616.48433104459\n"
     ]
    }
   ],
   "source": [
    "print(logPi_marg(jnp.array([x[0], x[1]]), z, y, sigma, alpha))\n",
    "print(logPi_marg(jnp.array([x[1], x[1]]), z, y, sigma, alpha))\n",
    "print(logPi_marg(jnp.array([x[0], x[0]]), z, y, sigma, alpha))\n",
    "print(logPi_marg(jnp.array([x[1], x[0]]), z, y, sigma, alpha))"
   ]
  },
  {
   "cell_type": "code",
   "execution_count": 208,
   "id": "e4cc3b56-a2a1-4948-b8e6-fb7116ae85cd",
   "metadata": {},
   "outputs": [],
   "source": [
    "@jax.jit\n",
    "def proposal_x_marg(key, x0, logPiX0, B, z, y, sigma, alpha):\n",
    "    #print(\"z\", z[:10])\n",
    "    #print(\"z_correct\", z_correct[:10])\n",
    "    #print(jnp.sum(jnp.abs(z-z_correct)))\n",
    "    \n",
    "    x1 = random.uniform(key, x0.shape) * 2*B-B\n",
    "    \n",
    "    logPiX0 = logPi_marg(x0, z, y, sigma, alpha)\n",
    "    logPiX1 = logPi_marg(x1, z, y, sigma, alpha)\n",
    "    \n",
    "    r = jnp.exp((logPiX1 - logPiX0))\n",
    "    \n",
    "    return x1, r, logPiX1, logPiX0\n",
    "\n",
    "@jax.jit\n",
    "def proposal_x(key, x0, logPiX0, B, z, y, sigma, alpha):\n",
    "    #print(\"z\", z[:10])\n",
    "    #print(\"z_correct\", z_correct[:10])\n",
    "    #print(jnp.sum(jnp.abs(z-z_correct)))\n",
    "    \n",
    "    x1 = random.uniform(key, x0.shape) * 2*B-B\n",
    "    \n",
    "    logPiX0 = logPi(x0, z, y, sigma, alpha)\n",
    "    logPiX1 = logPi(x1, z, y, sigma, alpha)\n",
    "    \n",
    "    r = jnp.exp((logPiX1 - logPiX0))\n",
    "    \n",
    "    return x1, r, logPiX1, logPiX0\n",
    "\n",
    "\n",
    "@jax.jit\n",
    "def proposal_x0(key, x00, logPiX0, B, x1, z, y, sigma, alpha):\n",
    "    x01 = random.uniform(key) * 2*B-B\n",
    "    \n",
    "    logPiX0 = logPi(jnp.array([x00, x1]), z, y, sigma, alpha)\n",
    "    logPiX1 = logPi(jnp.array([x01, x1]), z, y, sigma, alpha)\n",
    "    \n",
    "    r = jnp.exp(logPiX1 - logPiX0)\n",
    "    \n",
    "    return x01, r, logPiX1, logPiX0    \n",
    "\n",
    "@jax.jit\n",
    "def proposal_x1(key, x10, logPiX0, B, x0, z, y, sigma, alpha):\n",
    "    x11 = random.uniform(key) * 2*B-B\n",
    "    \n",
    "    logPiX0 = logPi(jnp.array([x0, x10]), z, y, sigma, alpha)\n",
    "    logPiX1 = logPi(jnp.array([x0, x11]), z, y, sigma, alpha)\n",
    "    \n",
    "    r = jnp.exp(logPiX1 - logPiX0)\n",
    "    \n",
    "    return x11, r, logPiX1, logPiX0    \n",
    "\n",
    "@jax.jit\n",
    "def proposal_z(key, z0, logPiX0, x, y, sigma, alpha, K):\n",
    "    z1 = random.randint(key, z0.shape, 0, K) \n",
    "\n",
    "    logPiX0 = logPi(x, z0, y, sigma, alpha)\n",
    "    logPiX1 = logPi(x, z1, y, sigma, alpha)\n",
    "    \n",
    "    r = jnp.exp(logPiX1 - logPiX0)\n",
    "    \n",
    "    return z1, r, logPiX1, logPiX0\n",
    "\n",
    "def proposal_z_one(key, z0, logPiX0, x, y, sigma, alpha, K, idx):\n",
    "    newval = random.randint(key, (), 0, K) \n",
    "    z1 = z0.at[idx].set(newval)\n",
    "   \n",
    "    logPiX0 = logPi(x, z0, y, sigma, alpha)\n",
    "    logPiX1 = logPi(x, z1, y, sigma, alpha)\n",
    "    \n",
    "    r = jnp.exp(logPiX1 - logPiX0)\n",
    "    \n",
    "    return z1, r, logPiX1, logPiX0\n",
    "\n"
   ]
  },
  {
   "cell_type": "code",
   "execution_count": 209,
   "id": "0f633a92-f7cf-4bc9-96c7-06553e3af81d",
   "metadata": {},
   "outputs": [],
   "source": [
    "key, subkey = random.split(key)\n",
    "_, _, _, _ = proposal_z_one(subkey, z, -1, x, y, sigma, alpha, K, 11)"
   ]
  },
  {
   "cell_type": "markdown",
   "id": "4bd3c7f4-8f77-4eb7-8019-29ce719c006e",
   "metadata": {},
   "source": [
    "### First, sample x"
   ]
  },
  {
   "cell_type": "code",
   "execution_count": 210,
   "id": "ce37d72e-aacd-4755-9670-86848f28b552",
   "metadata": {},
   "outputs": [
    {
     "name": "stdout",
     "output_type": "stream",
     "text": [
      "[0.0059662  0.012452   0.15099157 0.00819745 0.31422796 0.05604924\n",
      " 0.45137008 0.00074548]\n",
      "[-1.68081365 -0.84632231 -0.52572157  0.03072467 -1.41259404  0.5589802\n",
      "  0.50923895 -1.04863258]\n"
     ]
    }
   ],
   "source": [
    "print(pi)\n",
    "print(x)"
   ]
  },
  {
   "cell_type": "code",
   "execution_count": 211,
   "id": "efae639d-adb8-4634-89a6-fb4bb4d1a007",
   "metadata": {},
   "outputs": [],
   "source": [
    "z_rand = random.categorical(subkey, jnp.log(pi), shape = (N,))\n",
    "z_rand = random.randint(subkey, (N,), 0, K)"
   ]
  },
  {
   "cell_type": "markdown",
   "id": "27a08477-3d80-4d7d-9796-56dbe1f9dadb",
   "metadata": {},
   "source": [
    "#### Sampling the marginalized posterior"
   ]
  },
  {
   "cell_type": "code",
   "execution_count": 212,
   "id": "dad4b0d6-5bb1-428b-8086-f6c7b0c2a02d",
   "metadata": {},
   "outputs": [
    {
     "name": "stdout",
     "output_type": "stream",
     "text": [
      "  MCMC sample 1000, loss = 1737.4743330686551, a = 0.0\n",
      "  MCMC sample 2000, loss = 1670.6584886703426, a = 0.0\n",
      "  MCMC sample 3000, loss = 1670.6584886703426, a = 0.0\n",
      "  MCMC sample 4000, loss = 1670.6584886703426, a = 0.0\n",
      "  MCMC sample 5000, loss = 1670.6584886703426, a = 0.0\n",
      "  MCMC sample 6000, loss = 1670.6584886703426, a = 0.0\n",
      "  MCMC sample 7000, loss = 1670.6584886703426, a = 0.0\n",
      "  MCMC sample 8000, loss = 1670.6584886703426, a = 0.0\n",
      "  MCMC sample 9000, loss = 1670.6584886703426, a = 0.0\n",
      "[-0.48351546 -1.14234764 -0.76453288  0.87036113 -0.4444752  -1.5047174\n",
      "  2.09669485  0.83045075]\n",
      "[-1.42930433  0.04465143 -0.5304795   0.43943932 -1.49809579 -2.8903585\n",
      "  0.56153407  0.11465009]\n",
      "[-1.68081365 -0.84632231 -0.52572157  0.03072467 -1.41259404  0.5589802\n",
      "  0.50923895 -1.04863258]\n"
     ]
    },
    {
     "data": {
      "image/png": "[encoded data removed]",
      "text/plain": [
       "<Figure size 432x432 with 1 Axes>"
      ]
     },
     "metadata": {
      "needs_background": "light"
     },
     "output_type": "display_data"
    }
   ],
   "source": [
    "N_samples_x = 10000\n",
    "x0 = jnp.array(np.random.randn(K))\n",
    "B = 3\n",
    "\n",
    "params_x = {\"B\" : B, \"z\" : z, \"y\" : y, \"sigma\" : sigma, \"alpha\" : alpha}\n",
    "\n",
    "key, subkey = random.split(key)\n",
    "x_mean, x_r, x_sample = mcmc(subkey, proposal_x_marg, x0, N_samples_x, params_x, 1, 1)\n",
    "\n",
    "plt.plot(x_r)\n",
    "print(x0)\n",
    "print(x_sample[N_samples_x-2])\n",
    "#print(x_mean)\n",
    "print(x)\n"
   ]
  },
  {
   "cell_type": "markdown",
   "id": "994ce326-9964-498f-9eb0-b4d3f54beaf3",
   "metadata": {},
   "source": [
    "#### And the non-marginalized posterior"
   ]
  },
  {
   "cell_type": "code",
   "execution_count": 213,
   "id": "307a7113-06df-48fe-9831-0262217173a3",
   "metadata": {},
   "outputs": [
    {
     "name": "stdout",
     "output_type": "stream",
     "text": [
      "  MCMC sample 1000, loss = 11827.53133511863, a = 0.0\n",
      "  MCMC sample 2000, loss = 9273.158570689226, a = 0.0\n",
      "  MCMC sample 3000, loss = 9273.158570689226, a = 0.0\n",
      "  MCMC sample 4000, loss = 9273.158570689226, a = 0.0\n",
      "  MCMC sample 5000, loss = 9273.158570689226, a = 0.0\n",
      "  MCMC sample 6000, loss = 9273.158570689226, a = 0.0\n",
      "  MCMC sample 7000, loss = 9273.158570689226, a = 0.0\n",
      "  MCMC sample 8000, loss = 9273.158570689226, a = 0.0\n",
      "  MCMC sample 9000, loss = 9273.158570689226, a = 0.0\n",
      "[-0.92214078  1.85485796  1.88344912  1.2161744  -1.35785072  0.1299865\n",
      " -0.64206012  1.95079198]\n",
      "[-1.28681348  0.72584723 -0.32199637  1.69978685 -1.2703417  -0.36227872\n",
      "  0.57115037 -0.74568932]\n",
      "[-1.68081365 -0.84632231 -0.52572157  0.03072467 -1.41259404  0.5589802\n",
      "  0.50923895 -1.04863258]\n"
     ]
    },
    {
     "data": {
      "image/png": "[encoded data removed]",
      "text/plain": [
       "<Figure size 432x432 with 1 Axes>"
      ]
     },
     "metadata": {
      "needs_background": "light"
     },
     "output_type": "display_data"
    }
   ],
   "source": [
    "N_samples_x = 10000\n",
    "x0 = jnp.array(np.random.randn(K))\n",
    "B = 3\n",
    "\n",
    "params_x = {\"B\" : B, \"z\" : z, \"y\" : y, \"sigma\" : sigma, \"alpha\" : alpha}\n",
    "\n",
    "key, subkey = random.split(key)\n",
    "x_mean, x_r, x_sample = mcmc(subkey, proposal_x, x0, N_samples_x, params_x, 1, 1)\n",
    "\n",
    "plt.plot(x_r)\n",
    "print(x0)\n",
    "print(x_sample[N_samples_x-2])\n",
    "#print(x_mean)\n",
    "print(x)\n"
   ]
  },
  {
   "cell_type": "markdown",
   "id": "815b6fbd-f4b9-41a9-ac5b-5f137a620746",
   "metadata": {},
   "source": [
    "#### And each $x$ at a time"
   ]
  },
  {
   "cell_type": "code",
   "execution_count": 214,
   "id": "41d4e4f8-38eb-441d-bacb-e89996b4cd31",
   "metadata": {},
   "outputs": [
    {
     "name": "stdout",
     "output_type": "stream",
     "text": [
      "  MCMC sample 1000, loss = 101130.77752018465, a = 7.061835696076768e-205\n",
      "  MCMC sample 2000, loss = 101132.28760114351, a = 1.3888436811912823e-146\n",
      "  MCMC sample 3000, loss = 101131.36816444085, a = 0.0\n",
      "  MCMC sample 4000, loss = 101131.18769796801, a = 6.11363299395787e-113\n",
      "  MCMC sample 5000, loss = 101130.80940204774, a = 0.0\n",
      "  MCMC sample 6000, loss = 101131.03760125366, a = 0.0\n",
      "  MCMC sample 7000, loss = 101130.98066603063, a = 2.0165578026429297e-110\n",
      "  MCMC sample 8000, loss = 101130.79936035044, a = 0.0\n",
      "  MCMC sample 9000, loss = 101131.00216454474, a = 0.0\n",
      "  MCMC sample 10000, loss = 101130.79923971475, a = 0.0\n",
      "0.08803568773775272\n",
      "-1.6888745287535878\n",
      "[-1.68081365 -0.84632231 -0.52572157  0.03072467 -1.41259404  0.5589802\n",
      "  0.50923895 -1.04863258]\n"
     ]
    },
    {
     "data": {
      "image/png": "[encoded data removed]",
      "text/plain": [
       "<Figure size 432x432 with 1 Axes>"
      ]
     },
     "metadata": {
      "needs_background": "light"
     },
     "output_type": "display_data"
    }
   ],
   "source": [
    "N_samples_x = 10001\n",
    "#x0 = jnp.array(np.random.randn(K))\n",
    "x0 = jnp.array(np.random.rand())\n",
    "B = 3\n",
    "\n",
    "#params_x = {\"B\" : B, \"z\" : z, \"y\" : y, \"sigma\" : sigma, \"alpha\" : alpha}\n",
    "params_x = {\"B\" : B, \"z\" : z, \"y\" : y, \"sigma\" : sigma, \"alpha\" : alpha, \"x1\" : x[1]}\n",
    "\n",
    "key, subkey = random.split(key)\n",
    "x_mean, x_r, x_sample = mcmc(subkey, proposal_x0, x0, N_samples_x, params_x, 1, 1)\n",
    "\n",
    "plt.plot(x_r)\n",
    "\n",
    "print(x0)\n",
    "print(x_sample[N_samples_x-2])\n",
    "#print(x_mean)\n",
    "print(x)"
   ]
  },
  {
   "cell_type": "code",
   "execution_count": 215,
   "id": "a7195e0e-73c6-44b7-a872-97af589fcf73",
   "metadata": {},
   "outputs": [
    {
     "name": "stdout",
     "output_type": "stream",
     "text": [
      "  MCMC sample 1000, loss = 68369.67577979855, a = 0.0\n",
      "  MCMC sample 2000, loss = 68364.36431706323, a = 1.2048063571669934e-188\n",
      "  MCMC sample 3000, loss = 68364.36431706323, a = 0.0\n",
      "  MCMC sample 4000, loss = 68364.36431706323, a = 0.0\n",
      "  MCMC sample 5000, loss = 68364.36431706323, a = 0.0\n",
      "  MCMC sample 6000, loss = 68364.36431706323, a = 0.0\n",
      "  MCMC sample 7000, loss = 68365.4763791598, a = 0.0\n",
      "  MCMC sample 8000, loss = 68364.94765372499, a = 0.0\n",
      "  MCMC sample 9000, loss = 68364.94765372499, a = 0.0\n",
      "  MCMC sample 10000, loss = 68366.70088063597, a = 0.0\n",
      "0.5423501923190159\n",
      "-0.26814617840873467\n",
      "[-1.68081365 -0.84632231 -0.52572157  0.03072467 -1.41259404  0.5589802\n",
      "  0.50923895 -1.04863258]\n"
     ]
    },
    {
     "data": {
      "image/png": "[encoded data removed]",
      "text/plain": [
       "<Figure size 432x432 with 1 Axes>"
      ]
     },
     "metadata": {
      "needs_background": "light"
     },
     "output_type": "display_data"
    }
   ],
   "source": [
    "N_samples_x = 10001\n",
    "#x0 = jnp.array(np.random.randn(K))\n",
    "x0 = jnp.array(np.random.rand())\n",
    "B = 3\n",
    "\n",
    "#params_x = {\"B\" : B, \"z\" : z, \"y\" : y, \"sigma\" : sigma, \"alpha\" : alpha}\n",
    "params_x = {\"B\" : B, \"z\" : z, \"y\" : y, \"sigma\" : sigma, \"alpha\" : alpha, \"x0\" : x[0]}\n",
    "\n",
    "key, subkey = random.split(key)\n",
    "x_mean, x_r, x_sample = mcmc(subkey, proposal_x1, x0, N_samples_x, params_x, 1, 1)\n",
    "\n",
    "plt.plot(x_r)\n",
    "print(x0)\n",
    "print(x_sample[N_samples_x-2])\n",
    "#print(x_mean)\n",
    "print(x)\n"
   ]
  },
  {
   "cell_type": "code",
   "execution_count": 216,
   "id": "3ec73ad2-303a-41d0-a68e-04a587362f15",
   "metadata": {},
   "outputs": [
    {
     "data": {
      "text/plain": [
       "DeviceArray(4251.24441905, dtype=float64)"
      ]
     },
     "execution_count": 216,
     "metadata": {},
     "output_type": "execute_result"
    }
   ],
   "source": [
    "logPi(x, z, y, sigma, alpha)"
   ]
  },
  {
   "cell_type": "code",
   "execution_count": 217,
   "id": "16b91d48-15c6-4006-aa8a-7142b807db85",
   "metadata": {},
   "outputs": [
    {
     "data": {
      "text/plain": [
       "DeviceArray(-101130.77609517, dtype=float64)"
      ]
     },
     "execution_count": 217,
     "metadata": {},
     "output_type": "execute_result"
    }
   ],
   "source": [
    "logPi(jnp.array([x[0],x[1]]), z, y, sigma, alpha)"
   ]
  },
  {
   "cell_type": "code",
   "execution_count": 218,
   "id": "36aa8568-0b7d-4acb-b03d-1b1ea8443796",
   "metadata": {},
   "outputs": [
    {
     "data": {
      "text/plain": [
       "DeviceArray(-101340.0139512, dtype=float64)"
      ]
     },
     "execution_count": 218,
     "metadata": {},
     "output_type": "execute_result"
    }
   ],
   "source": [
    "logPi(jnp.array([x[1],x[1]]), z, y, sigma, alpha)"
   ]
  },
  {
   "cell_type": "code",
   "execution_count": 251,
   "id": "ae7ba8b7-ab85-4af2-b161-6e5c4d281220",
   "metadata": {},
   "outputs": [],
   "source": [
    "myf = lambda x0, x1 : logPi(jnp.array([x0, x1]), z, y, sigma, alpha)\n",
    "xx = jnp.linspace(-3,3,1000)    \n",
    "yy = jnp.linspace(-3,3,1000)"
   ]
  },
  {
   "cell_type": "code",
   "execution_count": 252,
   "id": "c44cbf01-bdbb-4bcf-8e44-2f538dfa20af",
   "metadata": {},
   "outputs": [],
   "source": [
    "myf_x = jax.jit(lambda x : jax.vmap(myf, in_axes = (None, 0))(x, yy))\n",
    "myf_xy = jax.vmap(myf_x)(xx)"
   ]
  },
  {
   "cell_type": "code",
   "execution_count": 253,
   "id": "ca3c27c4-1f80-4532-a339-0d91e3f01244",
   "metadata": {},
   "outputs": [
    {
     "data": {
      "text/plain": [
       "<matplotlib.colorbar.Colorbar at 0x7fb7821aa7f0>"
      ]
     },
     "execution_count": 253,
     "metadata": {},
     "output_type": "execute_result"
    },
    {
     "data": {
      "image/png": "[encoded data removed]",
      "text/plain": [
       "<Figure size 432x432 with 2 Axes>"
      ]
     },
     "metadata": {
      "needs_background": "light"
     },
     "output_type": "display_data"
    }
   ],
   "source": [
    "plt.imshow((myf_xy)); plt.colorbar()"
   ]
  },
  {
   "cell_type": "code",
   "execution_count": 254,
   "id": "88d77ccf-f121-489a-a6c3-12ae9a50dc20",
   "metadata": {},
   "outputs": [
    {
     "data": {
      "text/plain": [
       "<matplotlib.colorbar.Colorbar at 0x7fb7a0918bb0>"
      ]
     },
     "execution_count": 254,
     "metadata": {},
     "output_type": "execute_result"
    },
    {
     "data": {
      "image/png": "[encoded data removed]",
      "text/plain": [
       "<Figure size 432x432 with 2 Axes>"
      ]
     },
     "metadata": {
      "needs_background": "light"
     },
     "output_type": "display_data"
    }
   ],
   "source": [
    "plt.imshow((myf_xy)); plt.colorbar()"
   ]
  },
  {
   "cell_type": "code",
   "execution_count": 255,
   "id": "d93b21d7-244b-4e97-93e1-3910f6c27632",
   "metadata": {},
   "outputs": [
    {
     "name": "stdout",
     "output_type": "stream",
     "text": [
      "01 -101130.77609516573\n",
      "00 -265953.11739403097\n",
      "11 -101340.01395119875\n",
      "10 -266162.35525006405\n"
     ]
    }
   ],
   "source": [
    "print(\"01\", myf(x[0], x[1]))\n",
    "print(\"00\", myf(x[0], x[0]))\n",
    "print(\"11\", myf(x[1], x[1]))\n",
    "print(\"10\", myf(x[1], x[0]))"
   ]
  },
  {
   "cell_type": "code",
   "execution_count": 256,
   "id": "52e500a5-dcb2-4a2d-bb72-9fa58cfff1a6",
   "metadata": {},
   "outputs": [
    {
     "data": {
      "text/plain": [
       "DeviceArray(-101130.77609517, dtype=float64)"
      ]
     },
     "execution_count": 256,
     "metadata": {},
     "output_type": "execute_result"
    }
   ],
   "source": [
    "myf(x[0],x[1])"
   ]
  },
  {
   "cell_type": "code",
   "execution_count": 257,
   "id": "2cfdcec9-5874-491c-b5ae-48b3a96c2979",
   "metadata": {},
   "outputs": [
    {
     "data": {
      "text/plain": [
       "DeviceArray(-68364.31423939, dtype=float64)"
      ]
     },
     "execution_count": 257,
     "metadata": {},
     "output_type": "execute_result"
    }
   ],
   "source": [
    "jnp.max(myf_xy)"
   ]
  },
  {
   "cell_type": "markdown",
   "id": "e37199aa-3238-44ae-a8bb-158c5326aea1",
   "metadata": {},
   "source": [
    "### Now sample z"
   ]
  },
  {
   "cell_type": "code",
   "execution_count": 230,
   "id": "0c94f690-8c7a-4f79-a2f7-232effbb0d2d",
   "metadata": {},
   "outputs": [
    {
     "data": {
      "text/plain": [
       "DeviceArray([-1.68081365, -0.84632231, -0.52572157,  0.03072467,\n",
       "             -1.41259404,  0.5589802 ,  0.50923895, -1.04863258],            dtype=float64)"
      ]
     },
     "execution_count": 230,
     "metadata": {},
     "output_type": "execute_result"
    }
   ],
   "source": [
    "x"
   ]
  },
  {
   "cell_type": "code",
   "execution_count": 232,
   "id": "5ee6d7c0-6e72-4a32-bdc4-4c7fe32738be",
   "metadata": {},
   "outputs": [
    {
     "name": "stdout",
     "output_type": "stream",
     "text": [
      "  MCMC sample 1000, loss = 125786.54452422951, a = 0.0\n",
      "  MCMC sample 2000, loss = 125786.54452422951, a = 0.0\n",
      "  MCMC sample 3000, loss = 125786.54452422951, a = 0.0\n",
      "  MCMC sample 4000, loss = 125786.54452422951, a = 0.0\n",
      "  MCMC sample 5000, loss = 125786.54452422951, a = 0.0\n",
      "  MCMC sample 6000, loss = 125786.54452422951, a = 0.0\n",
      "  MCMC sample 7000, loss = 125786.54452422951, a = 0.0\n",
      "  MCMC sample 8000, loss = 125786.54452422951, a = 0.0\n",
      "  MCMC sample 9000, loss = 123991.71973743061, a = 0.0\n",
      "  MCMC sample 10000, loss = 123991.71973743061, a = 0.0\n",
      "2.403\n",
      "2.389\n"
     ]
    },
    {
     "data": {
      "image/png": "[encoded data removed]",
      "text/plain": [
       "<Figure size 432x432 with 1 Axes>"
      ]
     },
     "metadata": {
      "needs_background": "light"
     },
     "output_type": "display_data"
    }
   ],
   "source": [
    "N_samples_z = 10001\n",
    "z0 = jnp.array(np.random.randint(0, K, (N,)))\n",
    "#z0 = random.categorical(subkey, jnp.log(pi), shape = (N,))\n",
    "#z0 = z.at[3].set(1)\n",
    "\n",
    "#z0 = z0.at[0].set(0)\n",
    "#z0 = z0.at[1].set(0)\n",
    "B = 3\n",
    "\n",
    "#params_z = {\"x\" : x, \"y\" : y, \"sigma\" : sigma, \"alpha\" : alpha, \"K\" : K, 'idx' : 3}\n",
    "params_z = {\"x\" : x, \"y\" : y, \"sigma\" : sigma, \"alpha\" : alpha, \"K\" : K}\n",
    "\n",
    "key, subkey = random.split(key)\n",
    "z_mean, z_r, z_samples = mcmc(subkey, proposal_z, z0, N_samples_z, params_z, 1, 1)\n",
    "z_rec = z_samples[N_samples_z-2]\n",
    "z_rec_m = jnp.mean(z_samples, axis=0)\n",
    "\n",
    "plt.plot(z_r)\n",
    "print(jnp.sum(jnp.abs(z0-z))/N)\n",
    "print(jnp.sum(jnp.abs(z_rec-z))/N)\n"
   ]
  },
  {
   "cell_type": "code",
   "execution_count": 233,
   "id": "c5003b22-b1ad-4dee-8ddb-ff95381ec48e",
   "metadata": {},
   "outputs": [
    {
     "name": "stdout",
     "output_type": "stream",
     "text": [
      "2.403\n",
      "2.2355373000000003\n"
     ]
    }
   ],
   "source": [
    "print(jnp.sum(jnp.abs(z0-z))/N)\n",
    "print(jnp.sum(jnp.abs(z_rec_m-z))/N)"
   ]
  },
  {
   "cell_type": "code",
   "execution_count": 237,
   "id": "ee738ce4-ea81-45d8-8d11-d2e05a43e163",
   "metadata": {},
   "outputs": [
    {
     "data": {
      "text/plain": [
       "[<matplotlib.lines.Line2D at 0x7fb7c659a1c0>]"
      ]
     },
     "execution_count": 237,
     "metadata": {},
     "output_type": "execute_result"
    },
    {
     "data": {
      "image/png": "[encoded data removed]",
      "text/plain": [
       "<Figure size 432x432 with 1 Axes>"
      ]
     },
     "metadata": {
      "needs_background": "light"
     },
     "output_type": "display_data"
    }
   ],
   "source": [
    "plt.plot(z_samples[:,3], '.')"
   ]
  },
  {
   "cell_type": "code",
   "execution_count": 241,
   "id": "e15b4da7-612a-4772-8f91-19d8301dbfeb",
   "metadata": {},
   "outputs": [
    {
     "data": {
      "image/png": "[encoded data removed]",
      "text/plain": [
       "<Figure size 432x432 with 1 Axes>"
      ]
     },
     "metadata": {
      "needs_background": "light"
     },
     "output_type": "display_data"
    }
   ],
   "source": [
    "nbins=100\n",
    "counts, bins = np.histogram(z_samples[:,3], bins=nbins)\n",
    "_ = plt.hist(bins[:-1], bins, weights=counts)"
   ]
  },
  {
   "cell_type": "markdown",
   "id": "e465cc82-4a27-4197-8d70-1b9695d63f7e",
   "metadata": {},
   "source": [
    "To explore next:\n",
    "\n",
    "* How well does each method estimate the classes $x$ when $z$ is random?\n",
    "* Is there any situation when the classes would collapse when not using the Dirichlet distribution and using it helps?\n",
    "* How well can we estimate z and x together?\n",
    "* What is preferable to use? Marginalized or non-marginalized posterior?"
   ]
  }
 ],
 "metadata": {
  "kernelspec": {
   "display_name": "Python 3 (ipykernel)",
   "language": "python",
   "name": "python3"
  },
  "language_info": {
   "codemirror_mode": {
    "name": "ipython",
    "version": 3
   },
   "file_extension": ".py",
   "mimetype": "text/x-python",
   "name": "python",
   "nbconvert_exporter": "python",
   "pygments_lexer": "ipython3",
   "version": "3.9.7"
  }
 },
 "nbformat": 4,
 "nbformat_minor": 5
}
