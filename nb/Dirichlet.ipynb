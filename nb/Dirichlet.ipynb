{
 "cells": [
  {
   "cell_type": "markdown",
   "id": "02bba85a-2401-4d87-aeb0-013d30d6717d",
   "metadata": {},
   "source": [
    "# Classification with Dirichlet prior"
   ]
  },
  {
   "cell_type": "code",
   "execution_count": 1,
   "id": "9c792c4c-80c8-4473-b3b4-d673e781b1aa",
   "metadata": {},
   "outputs": [],
   "source": [
    "%load_ext autoreload\n",
    "%autoreload 2\n",
    "import site\n",
    "import time\n",
    "site.addsitedir('..')\n",
    "\n",
    "import jax\n",
    "from jax.config import config\n",
    "import jax.numpy as jnp\n",
    "import numpy as np\n",
    "from  matplotlib import pyplot as plt\n",
    "from tqdm import tqdm\n",
    "\n",
    "from jax.scipy.special import gammaln\n",
    "from jax import random\n",
    "\n",
    "from src.algorithm import *\n",
    "\n",
    "plt.rcParams[\"figure.figsize\"]=6,6\n",
    "#config.update(\"jax_enable_x64\", True)"
   ]
  },
  {
   "cell_type": "markdown",
   "id": "f2159e7b-9a04-41ce-a244-81fce0acd002",
   "metadata": {},
   "source": [
    "### Setup"
   ]
  },
  {
   "cell_type": "markdown",
   "id": "d2d0adc1-276b-4529-b36a-3d5f30452aa1",
   "metadata": {},
   "source": [
    "The probability vector $\\pi$ is drawn from a Dirichlet distribution with parameter $\\alpha$.\n",
    "\n",
    "$\\pi \\sim \\text{Dirichlet}(\\alpha)$\n",
    "\n",
    "The $K$ classes $x_1, \\ldots, x_K$ are i.i.d. samples from a standard normal distribution and we have $N$ noisy observations $y_1, \\ldots, y_N$ of the $K$ classes such that:\n",
    "\n",
    "$y_i = x_{z_i} + \\sigma \\eta_i,$\n",
    "\n",
    "where $\\eta_i \\sim \\mathcal{N}(0,1)$ and $z_1, \\ldots, z_N$ are drawn from a multinomial distribution with\n",
    "probability vector $\\pi$."
   ]
  },
  {
   "cell_type": "code",
   "execution_count": 6,
   "id": "5924a50b-0fd6-4e71-96b9-c891291fb14c",
   "metadata": {},
   "outputs": [],
   "source": [
    "key = random.PRNGKey(int(jnp.floor(np.random.rand()*1000)))\n",
    "key, *subkeys = random.split(key, 5)"
   ]
  },
  {
   "cell_type": "code",
   "execution_count": 7,
   "id": "75556229-5c63-4d6f-a277-248980c4e5ac",
   "metadata": {},
   "outputs": [],
   "source": [
    "K = 10\n",
    "N = 1000\n",
    "sigma = 0.01\n",
    "alpha = 0.7 * jnp.ones(K,)\n",
    "#alpha = jnp.array([10,10,2])"
   ]
  },
  {
   "cell_type": "code",
   "execution_count": 8,
   "id": "69825358-81e0-4d8c-8c1b-34f7a309f3a5",
   "metadata": {},
   "outputs": [
    {
     "name": "stdout",
     "output_type": "stream",
     "text": [
      "pi = [0.14755723 0.23883411 0.00259012 0.03930138 0.15887733 0.11050232\n",
      " 0.01476201 0.14792879 0.12903827 0.01060837]\n"
     ]
    }
   ],
   "source": [
    "pi = random.dirichlet(subkeys[0], alpha)\n",
    "z = random.categorical(subkeys[1], jnp.log(pi), shape = (N,))\n",
    "print(f\"pi = {pi}\")"
   ]
  },
  {
   "cell_type": "code",
   "execution_count": 9,
   "id": "4200539f-cb45-4eea-b7b2-7671a5f81655",
   "metadata": {},
   "outputs": [
    {
     "name": "stdout",
     "output_type": "stream",
     "text": [
      "x = [-0.42248565  0.47037852 -0.27125207  0.5280313  -2.1492865   2.2546678\n",
      "  0.49364355  1.0142431  -1.0508072  -1.6258022 ]\n"
     ]
    },
    {
     "data": {
      "image/png": "[encoded data removed]",
      "text/plain": [
       "<Figure size 432x432 with 1 Axes>"
      ]
     },
     "metadata": {
      "needs_background": "light"
     },
     "output_type": "display_data"
    }
   ],
   "source": [
    "x = random.normal(subkeys[2], shape = (K,))\n",
    "y = x[z] + sigma * random.normal(subkeys[3], shape = (N,))\n",
    "\n",
    "print(f\"x = {x}\")\n",
    "_ = plt.plot(y, '.')"
   ]
  },
  {
   "cell_type": "markdown",
   "id": "d2a3ea4f-cd5c-4561-9776-fa4abf7dd61a",
   "metadata": {},
   "source": [
    "### The posterior and proposal functions"
   ]
  },
  {
   "cell_type": "code",
   "execution_count": 10,
   "id": "c8215a51-910c-49ec-a85e-4b37a48a2162",
   "metadata": {},
   "outputs": [],
   "source": [
    "# This log posterior marginalizes over the classes k = 1,...,K.\n",
    "def logPi_marg(x, z, y, sigma, alpha):\n",
    "    n_ik = calc_nik_jit(z)\n",
    "    n_k = calc_nk_jit(z)\n",
    "    \n",
    "    log_arg = jnp.zeros(y.shape)\n",
    "\n",
    "    Nk = jnp.sum(n_k)\n",
    "    Ak = jnp.sum(alpha)\n",
    "    \n",
    "    term_mat = []\n",
    "    for k in jnp.arange(K):\n",
    "        logarg_k = jnp.exp(-(y - x[k])**2/sigma) *  (n_ik[:, k] + alpha[k])/(Nk+Ak-1)\n",
    "        log_arg += logarg_k\n",
    "        term_mat.append(logarg_k)\n",
    "              \n",
    "    return jnp.sum(jnp.log(log_arg)) - jnp.sum(x**2) \n",
    "   \n",
    "# And this does not.\n",
    "def logPi(x, z, y, sigma, alpha):\n",
    "    n_k = calc_nk_jit(z)\n",
    "    \n",
    "    term1 = jnp.sum(-(y - x[z])**2/sigma)\n",
    "\n",
    "    logPZalpha =  jnp.sum(gammaln(n_k + alpha))\n",
    "\n",
    "    return term1 - jnp.sum(x**2) + logPZalpha \n",
    "\n",
    "\n",
    "def calc_nik_ki(z,k,i): \n",
    "    z = z.at[i].set(jnp.inf)    \n",
    "    return jnp.sum(z == k)\n",
    "\n",
    "calc_nik_i = lambda z, i : jax.vmap(calc_nik_ki, in_axes = (None, 0, None))(z, jnp.arange(K), i)\n",
    "calc_nik = lambda z : jax.vmap(calc_nik_i, in_axes = (None, 0))(z, jnp.arange(N))\n",
    "calc_nik_jit = jax.jit(calc_nik)\n",
    "\n",
    "calc_nk_k = lambda z, k : jnp.sum(z == k)\n",
    "calc_nk = lambda z : jax.vmap(calc_nk_k, in_axes = (None, 0))(z, jnp.arange(K))\n",
    "calc_nk_jit = jax.jit(calc_nk)"
   ]
  },
  {
   "cell_type": "code",
   "execution_count": 75,
   "id": "ffc7bee9-013f-4f5b-a85d-d40ba98082b6",
   "metadata": {},
   "outputs": [
    {
     "name": "stdout",
     "output_type": "stream",
     "text": [
      "-1811.4465\n",
      "-2001.7443\n"
     ]
    }
   ],
   "source": [
    "print(logPi_marg(x, z, y, sigma, alpha))\n",
    "print(logPi_marg(xi, zi, y, sigma, alpha))"
   ]
  },
  {
   "cell_type": "code",
   "execution_count": 76,
   "id": "8871ef42-2fed-4f22-8a52-247de0fc5086",
   "metadata": {},
   "outputs": [
    {
     "name": "stdout",
     "output_type": "stream",
     "text": [
      "3952.9385\n",
      "3925.5513\n"
     ]
    }
   ],
   "source": [
    "print(logPi(x, z, y, sigma, alpha))\n",
    "print(logPi(xi, zi, y, sigma, alpha))"
   ]
  },
  {
   "cell_type": "code",
   "execution_count": 12,
   "id": "e4cc3b56-a2a1-4948-b8e6-fb7116ae85cd",
   "metadata": {},
   "outputs": [],
   "source": [
    "@jax.jit\n",
    "def proposal_x_marg(key, x0, logPiX0, B, z, y, sigma, alpha):\n",
    "    \"\"\"Proposal function of a new vector [x_1,...,x_k] from the posterior\n",
    "    \n",
    "    p(x_1, ..., x_K | y_1, ..., y_N)\n",
    "    \n",
    "    with marginalization over z_1,...z_N.\"\"\"\n",
    "    \n",
    "    x1 = random.uniform(key, x0.shape) * 2*B-B\n",
    "    \n",
    "    logPiX0 = logPi_marg(x0, z, y, sigma, alpha)\n",
    "    logPiX1 = logPi_marg(x1, z, y, sigma, alpha)\n",
    "    \n",
    "    r = jnp.exp((logPiX1 - logPiX0))\n",
    "    \n",
    "    return x1, r, logPiX1, logPiX0\n",
    "\n",
    "@jax.jit\n",
    "def proposal_x(key, x0, logPiX0, B, z, y, sigma, alpha):\n",
    "    \"\"\"Proposal function of a new vector [x_1,...,x_K] from the posterior\n",
    "    \n",
    "    p(x_1, ..., x_K, z_1, ..., y_N | y_1, ..., y_N)\n",
    "\n",
    "    without marginalization over z_i variales (where we keep z_i fixed).\"\"\"\n",
    "    \n",
    "    x1 = random.uniform(key, x0.shape) * 2*B-B\n",
    "    \n",
    "    logPiX0 = logPi(x0, z, y, sigma, alpha)\n",
    "    logPiX1 = logPi(x1, z, y, sigma, alpha)\n",
    "    \n",
    "    r = jnp.exp((logPiX1 - logPiX0))\n",
    "    \n",
    "    return x1, r, logPiX1, logPiX0\n",
    "\n",
    "@jax.jit\n",
    "def proposal_x_idx(key, x0, logPiX0, B, z, y, sigma, alpha, idx):\n",
    "    \"\"\"Proposal function for a new state x_{idx} from the posterior\n",
    "    \n",
    "    p(x_1, ..., x_K, z_1, ..., y_N | y_1, ..., y_N)\n",
    "    \n",
    "    where all z_i and the other x_j are fixed and with no\n",
    "    marginalization over z.\n",
    "\n",
    "    The returned vector x1 is equal to x0, \n",
    "    with the entry at index idx given by the proposal.\"\"\"\n",
    "    \n",
    "    newval = random.uniform(key) * 2*B-B\n",
    "    x1 = x0.at[idx].set(newval)\n",
    "    \n",
    "    logPiX0 = logPi(x0, z, y, sigma, alpha)\n",
    "    logPiX1 = logPi(x1, z, y, sigma, alpha)\n",
    "    \n",
    "    r = jnp.exp(logPiX1 - logPiX0)\n",
    "    \n",
    "    return x1, r, logPiX1, logPiX0    \n",
    "               \n",
    "@jax.jit\n",
    "def proposal_x_batch(key, x0, logPiX0, B, z, y, sigma, alpha):\n",
    "    \"\"\"Proposal function for a new state x_j for all j = 1,..., K \n",
    "    from the posterior\n",
    "    \n",
    "    p(x_1, ..., x_K, z_1, ..., y_N | y_1, ..., y_N)\n",
    "    \n",
    "    where all z_i and the other x_i (i !=j) are fixed and with no\n",
    "    marginalization over z.\n",
    "    \n",
    "    This function returns a new proposal for each x_j i.e.\n",
    "    it samples x_j \"one variable at a time\", but for all j \n",
    "    in parallel. \n",
    "\n",
    "    The returned vector x1 is the same dimensions as x0 and contains\n",
    "    the proposal states corresponding to each entry. Similarly,\n",
    "    r, logPiX1 and logPiX0 are arrays of length K, each entry corresponding\n",
    "    to the proposal x_j with the other x_i fixed, so that this proposal function\n",
    "    can be used in the \"batch\" mode of the mcmc function.\"\"\"\n",
    "        \n",
    "    keys = random.split(key, K)\n",
    "    \n",
    "    x1, r, logPiX1, logPiX0 = jax.vmap(proposal_x_idx, in_axes = (0, None, None, None, None, None, None, None, 0))(keys, x0, logPiX0, B, z, y, sigma, alpha, jnp.arange(K))\n",
    "    x1 = jnp.diag(x1)\n",
    "    \n",
    "    return x1, r, logPiX1, logPiX0\n",
    "\n",
    "@jax.jit\n",
    "def proposal_z(key, z0, logPiX0, x, y, sigma, alpha, K):\n",
    "    \"\"\"Proposal function of a new vector [z_1,...,z_N] from the posterior\n",
    "    \n",
    "    p(x_1, ..., x_K, z_1, ..., y_N | y_1, ..., y_N)\n",
    "\n",
    "    where the x_i variables are fixed.\"\"\"\n",
    "    \n",
    "    z1 = random.randint(key, z0.shape, 0, K) \n",
    "\n",
    "    logPiX0 = logPi(x, z0, y, sigma, alpha)\n",
    "    logPiX1 = logPi(x, z1, y, sigma, alpha)\n",
    "    \n",
    "    r = jnp.exp(logPiX1 - logPiX0)\n",
    "    \n",
    "    return z1, r, logPiX1, logPiX0\n",
    "\n",
    "@jax.jit\n",
    "def proposal_z_idx(key, z0, logPiX0, x, y, sigma, alpha, K, idx):\n",
    "    \"\"\"Proposal function of a new state z_{idx} from the posterior\n",
    "    \n",
    "    p(x_1, ..., x_K, z_1, ..., y_N | y_1, ..., y_N)\n",
    "\n",
    "    where all x_i and the other z_j are fixed.\n",
    "    \n",
    "    The returned vector z1 is equal to z0, \n",
    "    with the entry at index idx given by the proposal.\"\"\"\n",
    "    \n",
    "    newval = random.randint(key, (), 0, K) \n",
    "    z1 = z0.at[idx].set(newval)\n",
    "    \n",
    "    logPiX0 = logPi(x, z0, y, sigma, alpha)\n",
    "    logPiX1 = logPi(x, z1, y, sigma, alpha)\n",
    "    \n",
    "    r = jnp.exp(logPiX1 - logPiX0)\n",
    "    \n",
    "    return z1, r, logPiX1, logPiX0\n",
    "\n",
    "@jax.jit\n",
    "def proposal_z_batch(key, z0, logPiX0, x, y, sigma, alpha, K):\n",
    "    \"\"\"Batch mode proposal function for z, operating in the same\n",
    "    way as proposal_x_batch. \n",
    "    \n",
    "    If the posterior depends on the states z_1,...,z_N (e.g. due to \n",
    "    the Dirichlet prior), then running MCMC with this proposal function\n",
    "    is NOT correct. However, this function is used in the\n",
    "    proposal_z_batch_correct\" function, which takes advantage of these\n",
    "    parallel proposals in a proper MCMC way.\"\"\"\n",
    "    \n",
    "    keys = random.split(key, N)\n",
    "    \n",
    "    # TODO: change both batch functions so we don't have to do diag on an N x N (or K x K) matrix\n",
    "    z1, r, logPiX1, logPiX0 = jax.vmap(proposal_z_idx, in_axes = (0, None, None, None, None, None, None, None, 0))(keys, z0, logPiX0, x, y, sigma, alpha, K, jnp.arange(N))\n",
    "    z1 = jnp.diag(z1)\n",
    "    \n",
    "    return z1, r, logPiX1, logPiX0\n",
    "    \n",
    "@jax.jit\n",
    "def proposal_z_batch_correct(key, z0, logPiX0, x, y, sigma, alpha, K):\n",
    "    \"\"\"If using the Dirichlet posterior, then the proposal_z_batch is not \n",
    "    proper MCMC sampling. Here, we run a number of \"incorect\" MCMC steps to \n",
    "    sample all the entries of z in parallel, and then use the latest \n",
    "    proposed z as a proposal for a \"correct\" MCMC proposal. The acceptance rate\n",
    "    is pretty good in this toy example and the convergence great.\"\"\"\n",
    "    \n",
    "    N_samples_z_local = 10   \n",
    "    keys = random.split(key, 2*N_samples_z_local)\n",
    "    params_z = {\"x\" : x, \"y\" : y, \"sigma\" : sigma, \"alpha\" : alpha, \"K\" : K}\n",
    "    \n",
    "    logPiZ0 = logPi(x, z0, y, sigma, alpha)\n",
    "    \n",
    "    for i in jnp.arange(N_samples_z_local):\n",
    "        z1, r, logPiX1, logPiX0 = proposal_z_batch(keys[2*i], z0, logPiZ0, **params_z)\n",
    "        a = jnp.minimum(1, r)\n",
    "        unif_var = random.uniform(keys[2*i+1], (N,))\n",
    "        z1, logPiX1 = accept_reject_vmap(unif_var, a, z0, z1, logPiX0, logPiX1)\n",
    "        \n",
    "    logPiZ1 = logPi(x, z1, y, sigma, alpha)\n",
    "    \n",
    "    r = jnp.exp(logPiZ1 - logPiZ0)   \n",
    "    \n",
    "    return z1, r, logPiZ1, logPiZ0"
   ]
  },
  {
   "cell_type": "markdown",
   "id": "4bd3c7f4-8f77-4eb7-8019-29ce719c006e",
   "metadata": {},
   "source": [
    "### Sample x"
   ]
  },
  {
   "cell_type": "code",
   "execution_count": 13,
   "id": "ce37d72e-aacd-4755-9670-86848f28b552",
   "metadata": {},
   "outputs": [
    {
     "name": "stdout",
     "output_type": "stream",
     "text": [
      "pi = [0.14755723 0.23883411 0.00259012 0.03930138 0.15887733 0.11050232\n",
      " 0.01476201 0.14792879 0.12903827 0.01060837]\n",
      "x = [-0.42248565  0.47037852 -0.27125207  0.5280313  -2.1492865   2.2546678\n",
      "  0.49364355  1.0142431  -1.0508072  -1.6258022 ]\n"
     ]
    }
   ],
   "source": [
    "print(f\"pi = {pi}\")\n",
    "print(f\"x = {x}\")"
   ]
  },
  {
   "cell_type": "code",
   "execution_count": 14,
   "id": "efae639d-adb8-4634-89a6-fb4bb4d1a007",
   "metadata": {},
   "outputs": [],
   "source": [
    "#z_rand = random.categorical(subkey, jnp.log(pi), shape = (N,))\n",
    "#z_rand = random.randint(subkey, (N,), 0, K)"
   ]
  },
  {
   "cell_type": "markdown",
   "id": "27a08477-3d80-4d7d-9796-56dbe1f9dadb",
   "metadata": {},
   "source": [
    "#### Sampling the marginalized posterior"
   ]
  },
  {
   "cell_type": "code",
   "execution_count": 15,
   "id": "dad4b0d6-5bb1-428b-8086-f6c7b0c2a02d",
   "metadata": {},
   "outputs": [
    {
     "name": "stdout",
     "output_type": "stream",
     "text": [
      "  MCMC sample 1000, posterior val = -2833.0986328125, a = 0.0\n",
      "  MCMC sample 2000, posterior val = -2833.0986328125, a = 0.0\n",
      "  MCMC sample 3000, posterior val = -2833.0986328125, a = 0.0\n",
      "  MCMC sample 4000, posterior val = -2833.0986328125, a = 0.0\n",
      "  MCMC sample 5000, posterior val = -2833.0986328125, a = 0.0\n",
      "  MCMC sample 6000, posterior val = -2833.0986328125, a = 0.0\n",
      "  MCMC sample 7000, posterior val = -2833.0986328125, a = 0.0\n",
      "  MCMC sample 8000, posterior val = -2833.0986328125, a = 0.0\n",
      "  MCMC sample 9000, posterior val = -2833.0986328125, a = 0.0\n",
      "27.81392002105713 sec\n",
      "x_samp = [-0.430403    1.0950613   0.51477814 -0.9561074  -2.9725492   0.41366816\n",
      "  2.3115149   0.5774975  -2.0656571   0.32674313]\n",
      "x_true = [-0.42248565  0.47037852 -0.27125207  0.5280313  -2.1492865   2.2546678\n",
      "  0.49364355  1.0142431  -1.0508072  -1.6258022 ]\n"
     ]
    },
    {
     "data": {
      "image/png": "[encoded data removed]",
      "text/plain": [
       "<Figure size 432x432 with 1 Axes>"
      ]
     },
     "metadata": {
      "needs_background": "light"
     },
     "output_type": "display_data"
    }
   ],
   "source": [
    "N_samples_x = 10000\n",
    "x0 = jnp.array(np.random.randn(K))\n",
    "B = 3\n",
    "\n",
    "params_x = {\"B\" : B, \"z\" : z, \"y\" : y, \"sigma\" : sigma, \"alpha\" : alpha}\n",
    "\n",
    "key, subkey = random.split(key)\n",
    "t0 = time.time()\n",
    "x_mean, x_r, x_samples = mcmc(subkey, proposal_x_marg, x0, N_samples_x, params_x, 1, 1)\n",
    "\n",
    "print(f\"{time.time()-t0} sec\")\n",
    "plt.plot(x_r); plt.title(\"Acceptance ratio\")\n",
    "print(f\"x_samp = {x_samples[N_samples_x-2]}\")\n",
    "print(f\"x_true = {x}\")"
   ]
  },
  {
   "cell_type": "markdown",
   "id": "994ce326-9964-498f-9eb0-b4d3f54beaf3",
   "metadata": {},
   "source": [
    "#### And the non-marginalized posterior"
   ]
  },
  {
   "cell_type": "code",
   "execution_count": 34,
   "id": "307a7113-06df-48fe-9831-0262217173a3",
   "metadata": {},
   "outputs": [
    {
     "name": "stdout",
     "output_type": "stream",
     "text": [
      "  MCMC sample 1000 , posterior val = 3950.783\n",
      "  MCMC sample 2000 , posterior val = 3948.3364\n",
      "  MCMC sample 3000 , posterior val = 3948.0767\n",
      "  MCMC sample 4000 , posterior val = 3950.8164\n",
      "  MCMC sample 5000 , posterior val = 3951.3828\n",
      "  MCMC sample 6000 , posterior val = 3947.9314\n",
      "  MCMC sample 7000 , posterior val = 3947.4263\n",
      "  MCMC sample 8000 , posterior val = 3942.3235\n",
      "  MCMC sample 9000 , posterior val = 3951.074\n",
      "3.031219959259033 sec\n",
      "x_samp = [-0.42369318  0.46736884  0.7824404   0.53253865 -2.1426187   2.2475538\n",
      "  0.4912119   1.0139236  -1.0549958  -1.6068614 ]\n",
      "x_true = [-0.42248565  0.47037852 -0.27125207  0.5280313  -2.1492865   2.2546678\n",
      "  0.49364355  1.0142431  -1.0508072  -1.6258022 ]\n"
     ]
    },
    {
     "data": {
      "image/png": "[encoded data removed]",
      "text/plain": [
       "<Figure size 432x432 with 1 Axes>"
      ]
     },
     "metadata": {
      "needs_background": "light"
     },
     "output_type": "display_data"
    }
   ],
   "source": [
    "N_samples_x = 10000\n",
    "x0 = jnp.array(np.random.randn(K))\n",
    "B = 3\n",
    "\n",
    "params_x = {\"B\" : B, \"z\" : z, \"y\" : y, \"sigma\" : sigma, \"alpha\" : alpha}\n",
    "\n",
    "key, subkey = random.split(key)\n",
    "t0 = time.time()\n",
    "x_mean, x_r, x_samples = mcmc(subkey, proposal_x_batch, x0, N_samples_x, params_x, K, 1)\n",
    "\n",
    "print(f\"{time.time()-t0} sec\")\n",
    "plt.plot(x_r); plt.title(\"Acceptance ratio\")\n",
    "print(f\"x_samp = {x_samples[N_samples_x-2]}\")\n",
    "print(f\"x_true = {x}\")"
   ]
  },
  {
   "cell_type": "code",
   "execution_count": 35,
   "id": "22be2078-f372-44f2-a242-f432f2b73ade",
   "metadata": {},
   "outputs": [
    {
     "data": {
      "image/png": "[encoded data removed]",
      "text/plain": [
       "<Figure size 432x432 with 1 Axes>"
      ]
     },
     "metadata": {
      "needs_background": "light"
     },
     "output_type": "display_data"
    }
   ],
   "source": [
    "nbins=100\n",
    "counts, bins = np.histogram(x_samples[:,:], bins=nbins)\n",
    "_ = plt.hist(bins[:-1], bins, weights=counts)"
   ]
  },
  {
   "cell_type": "code",
   "execution_count": 36,
   "id": "17cfe76f-648a-4d67-b3ca-0e9edcef40e7",
   "metadata": {},
   "outputs": [
    {
     "data": {
      "image/png": "[encoded data removed]",
      "text/plain": [
       "<Figure size 432x432 with 1 Axes>"
      ]
     },
     "metadata": {
      "needs_background": "light"
     },
     "output_type": "display_data"
    }
   ],
   "source": [
    "nbins=100\n",
    "counts, bins = np.histogram(x, bins=nbins)\n",
    "_ = plt.hist(bins[:-1], bins, weights=counts)"
   ]
  },
  {
   "cell_type": "markdown",
   "id": "815b6fbd-f4b9-41a9-ac5b-5f137a620746",
   "metadata": {},
   "source": [
    "#### One $x_i$ at a time"
   ]
  },
  {
   "cell_type": "code",
   "execution_count": 46,
   "id": "41d4e4f8-38eb-441d-bacb-e89996b4cd31",
   "metadata": {},
   "outputs": [
    {
     "name": "stdout",
     "output_type": "stream",
     "text": [
      "  MCMC sample 1000, posterior val = -176852.375, a = 0.0\n",
      "  MCMC sample 2000, posterior val = -176856.875, a = 0.0\n",
      "  MCMC sample 3000, posterior val = -176853.015625, a = 0.0\n",
      "  MCMC sample 4000, posterior val = -176852.65625, a = 0.0\n",
      "  MCMC sample 5000, posterior val = -176852.859375, a = 0.0\n",
      "  MCMC sample 6000, posterior val = -176853.75, a = 0.0\n",
      "  MCMC sample 7000, posterior val = -176852.53125, a = 0.0\n",
      "  MCMC sample 8000, posterior val = -176852.3125, a = 0.0\n",
      "  MCMC sample 9000, posterior val = -176853.125, a = 0.0\n",
      "  MCMC sample 10000, posterior val = -176852.296875, a = 0.0\n",
      "2.8723931312561035 sec\n",
      "x_samp = [ 0.10012483  0.47058392  0.3045936  -1.8647149  -2.2371473  -1.256801\n",
      "  0.23737057  0.7715947  -0.5368072   0.17483206]\n",
      "x_true = [-0.42248565  0.47037852 -0.27125207  0.5280313  -2.1492865   2.2546678\n",
      "  0.49364355  1.0142431  -1.0508072  -1.6258022 ]\n"
     ]
    },
    {
     "data": {
      "image/png": "[encoded data removed]",
      "text/plain": [
       "<Figure size 432x432 with 1 Axes>"
      ]
     },
     "metadata": {
      "needs_background": "light"
     },
     "output_type": "display_data"
    }
   ],
   "source": [
    "N_samples_x = 10001\n",
    "B = 3\n",
    "\n",
    "idx = 1\n",
    "x0 = jnp.array(np.random.randn(K))\n",
    "\n",
    "params_x = {\"B\" : B, \"z\" : z, \"y\" : y, \"sigma\" : sigma, \"alpha\" : alpha, \"idx\": idx}\n",
    "\n",
    "key, subkey = random.split(key)\n",
    "t0 = time.time()\n",
    "x_mean, x_r, x_samples = mcmc(subkey, proposal_x_idx, x0, N_samples_x, params_x, 1, 1)\n",
    "\n",
    "print(f\"{time.time()-t0} sec\")\n",
    "plt.plot(x_r); plt.title(\"Acceptance ratio\")\n",
    "print(f\"x_samp = {x_samples[N_samples_x-2]}\")\n",
    "print(f\"x_true = {x}\")"
   ]
  },
  {
   "cell_type": "code",
   "execution_count": 47,
   "id": "94be8177-0aa9-44e0-83ab-575807a32bc4",
   "metadata": {},
   "outputs": [
    {
     "data": {
      "image/png": "[encoded data removed]",
      "text/plain": [
       "<Figure size 432x432 with 1 Axes>"
      ]
     },
     "metadata": {
      "needs_background": "light"
     },
     "output_type": "display_data"
    }
   ],
   "source": [
    "nbins=100\n",
    "counts, bins = np.histogram(x_samples[:,idx], bins=nbins)\n",
    "_ = plt.hist(bins[:-1], bins, weights=counts)"
   ]
  },
  {
   "cell_type": "code",
   "execution_count": 48,
   "id": "e5733f1f-dbb7-424f-ba91-920b8f4ad8b5",
   "metadata": {},
   "outputs": [
    {
     "data": {
      "text/plain": [
       "[<matplotlib.lines.Line2D at 0x7f93d271da60>]"
      ]
     },
     "execution_count": 48,
     "metadata": {},
     "output_type": "execute_result"
    },
    {
     "data": {
      "image/png": "[encoded data removed]",
      "text/plain": [
       "<Figure size 432x432 with 1 Axes>"
      ]
     },
     "metadata": {
      "needs_background": "light"
     },
     "output_type": "display_data"
    }
   ],
   "source": [
    "plt.plot(x_samples[:,idx],'.')"
   ]
  },
  {
   "cell_type": "markdown",
   "id": "e37199aa-3238-44ae-a8bb-158c5326aea1",
   "metadata": {},
   "source": [
    "### Sample z"
   ]
  },
  {
   "cell_type": "code",
   "execution_count": 49,
   "id": "5ee6d7c0-6e72-4a32-bdc4-4c7fe32738be",
   "metadata": {},
   "outputs": [
    {
     "name": "stdout",
     "output_type": "stream",
     "text": [
      "  MCMC sample 1000, posterior val = 4124.33837890625, a = 1.0\n",
      "  MCMC sample 2000, posterior val = 4124.33837890625, a = 1.0\n",
      "  MCMC sample 3000, posterior val = 4124.33837890625, a = 1.0\n",
      "  MCMC sample 4000, posterior val = 4124.33837890625, a = 1.0\n",
      "  MCMC sample 5000, posterior val = 4124.33837890625, a = 1.0\n",
      "  MCMC sample 6000, posterior val = 4124.33837890625, a = 1.0\n",
      "  MCMC sample 7000, posterior val = 4124.33837890625, a = 1.0\n",
      "  MCMC sample 8000, posterior val = 4124.33837890625, a = 1.0\n",
      "  MCMC sample 9000, posterior val = 4124.33837890625, a = 1.0\n",
      "33.45013093948364 sec\n"
     ]
    }
   ],
   "source": [
    "N_samples_z = 10000\n",
    "z0 = jnp.array(np.random.randint(0, K, (N,)))\n",
    "#z0 = z.at[idx].set(np.random.randint(0,K,()))\n",
    "\n",
    "B = 2\n",
    "idx = 10\n",
    "#params_z = {\"x\" : x, \"y\" : y, \"sigma\" : sigma, \"alpha\" : alpha, \"K\" : K, 'idx' : idx}\n",
    "params_z = {\"x\" : x, \"y\" : y, \"sigma\" : sigma, \"alpha\" : alpha, \"K\" : K}\n",
    "\n",
    "key, subkey = random.split(key)\n",
    "\n",
    "t0 = time.time()\n",
    "#z_mean, z_r, z_samples = mcmc(subkey, proposal_z_idx, z0, N_samples_z, params_z, 1, 1)\n",
    "z_mean, z_r, z_samples = mcmc(subkey, proposal_z_batch_correct, z0, N_samples_z, params_z, 1, 1)\n",
    "\n",
    "z_rec = z_samples[N_samples_z-2]\n",
    "print(f\"{time.time()-t0} sec\")\n",
    "#plt.plot(z_r); plt.title(\"Acceptance ratio\")"
   ]
  },
  {
   "cell_type": "code",
   "execution_count": 50,
   "id": "a83be4ee-2c9b-4bdb-b081-ddfbef959899",
   "metadata": {},
   "outputs": [
    {
     "data": {
      "text/plain": [
       "DeviceArray(175, dtype=int32)"
      ]
     },
     "execution_count": 50,
     "metadata": {},
     "output_type": "execute_result"
    }
   ],
   "source": [
    "jnp.sum(jnp.abs(z_rec-z))"
   ]
  },
  {
   "cell_type": "code",
   "execution_count": 51,
   "id": "e764bd3b-6130-4dae-9c23-76617a7bc02e",
   "metadata": {},
   "outputs": [
    {
     "data": {
      "text/plain": [
       "DeviceArray(3337, dtype=int32)"
      ]
     },
     "execution_count": 51,
     "metadata": {},
     "output_type": "execute_result"
    }
   ],
   "source": [
    "jnp.sum(jnp.abs(z0-z))"
   ]
  },
  {
   "cell_type": "code",
   "execution_count": 56,
   "id": "e39f2357-ebae-48f0-9346-3fa76bddf355",
   "metadata": {},
   "outputs": [
    {
     "name": "stdout",
     "output_type": "stream",
     "text": [
      "3337\n",
      "175\n"
     ]
    }
   ],
   "source": [
    "print(jnp.sum(jnp.abs(z0-z)))\n",
    "print(jnp.sum(jnp.abs(z_samples[N_samples_z-2,:]-z)))"
   ]
  },
  {
   "cell_type": "code",
   "execution_count": 57,
   "id": "e15b4da7-612a-4772-8f91-19d8301dbfeb",
   "metadata": {},
   "outputs": [
    {
     "data": {
      "image/png": "[encoded data removed]",
      "text/plain": [
       "<Figure size 432x432 with 1 Axes>"
      ]
     },
     "metadata": {
      "needs_background": "light"
     },
     "output_type": "display_data"
    }
   ],
   "source": [
    "nbins=100\n",
    "counts, bins = np.histogram(z_samples[:,:], bins=nbins)\n",
    "_ = plt.hist(bins[:-1], bins, weights=counts)"
   ]
  },
  {
   "cell_type": "code",
   "execution_count": 58,
   "id": "be46a4c2-b3ab-4218-afd5-ffc84c8fc8c8",
   "metadata": {},
   "outputs": [
    {
     "data": {
      "image/png": "[encoded data removed]",
      "text/plain": [
       "<Figure size 432x432 with 1 Axes>"
      ]
     },
     "metadata": {
      "needs_background": "light"
     },
     "output_type": "display_data"
    }
   ],
   "source": [
    "nbins=100\n",
    "counts, bins = np.histogram(z, bins=nbins)\n",
    "_ = plt.hist(bins[:-1], bins, weights=counts)"
   ]
  },
  {
   "cell_type": "markdown",
   "id": "1e8d77bb-5a2a-46d3-a9b2-899518ffa13e",
   "metadata": {},
   "source": [
    "### Sample $x$ and $z$"
   ]
  },
  {
   "cell_type": "code",
   "execution_count": 59,
   "id": "252897ed-d685-4ada-a9e2-4fd3ce128ee4",
   "metadata": {},
   "outputs": [
    {
     "name": "stdout",
     "output_type": "stream",
     "text": [
      "Iter = 0\n",
      "  Sampling x\n",
      "  MCMC sample 1000 , posterior val = -167387.02\n",
      "  MCMC sample 2000 , posterior val = -167391.31\n",
      "  MCMC sample 3000 , posterior val = -167390.39\n",
      "  MCMC sample 4000 , posterior val = -167385.8\n",
      "  MCMC sample 5000 , posterior val = -167388.52\n",
      "  MCMC sample 6000 , posterior val = -167385.48\n",
      "  MCMC sample 7000 , posterior val = -167387.6\n",
      "  MCMC sample 8000 , posterior val = -167385.25\n",
      "  MCMC sample 9000 , posterior val = -167389.8\n",
      "  MCMC sample 10000 , posterior val = -167385.2\n",
      "  Sampling z\n",
      "  MCMC sample 1000, posterior val = -147253.1875, a = 1.0\n",
      "Iter = 1\n",
      "  Sampling x\n",
      "  MCMC sample 1000 , posterior val = -45351.367\n",
      "  MCMC sample 2000 , posterior val = -45350.49\n",
      "  MCMC sample 3000 , posterior val = -45351.605\n",
      "  MCMC sample 4000 , posterior val = -45349.918\n",
      "  MCMC sample 5000 , posterior val = -45351.598\n",
      "  MCMC sample 6000 , posterior val = -45353.06\n",
      "  MCMC sample 7000 , posterior val = -45358.53\n",
      "  MCMC sample 8000 , posterior val = -45349.957\n",
      "  MCMC sample 9000 , posterior val = -45354.465\n",
      "  MCMC sample 10000 , posterior val = -45350.793\n",
      "  Sampling z\n",
      "  MCMC sample 1000, posterior val = -22273.36328125, a = 1.0\n",
      "Iter = 2\n",
      "  Sampling x\n",
      "  MCMC sample 1000 , posterior val = -5748.3125\n",
      "  MCMC sample 2000 , posterior val = -5742.99\n",
      "  MCMC sample 3000 , posterior val = -5738.6245\n",
      "  MCMC sample 4000 , posterior val = -5743.2397\n",
      "  MCMC sample 5000 , posterior val = -5740.7144\n",
      "  MCMC sample 6000 , posterior val = -5745.4795\n",
      "  MCMC sample 7000 , posterior val = -5737.4077\n",
      "  MCMC sample 8000 , posterior val = -5741.8594\n",
      "  MCMC sample 9000 , posterior val = -5742.0957\n",
      "  MCMC sample 10000 , posterior val = -5739.68\n",
      "  Sampling z\n",
      "  MCMC sample 1000, posterior val = -2955.5693359375, a = 0.05189690738916397\n",
      "Iter = 3\n",
      "  Sampling x\n",
      "  MCMC sample 1000 , posterior val = 3929.5408\n",
      "  MCMC sample 2000 , posterior val = 3929.6648\n",
      "  MCMC sample 3000 , posterior val = 3933.2864\n",
      "  MCMC sample 4000 , posterior val = 3926.493\n",
      "  MCMC sample 5000 , posterior val = 3923.1172\n",
      "  MCMC sample 6000 , posterior val = 3931.6262\n",
      "  MCMC sample 7000 , posterior val = 3925.4458\n",
      "  MCMC sample 8000 , posterior val = 3925.662\n",
      "  MCMC sample 9000 , posterior val = 3929.0435\n",
      "  MCMC sample 10000 , posterior val = 3922.4102\n",
      "  Sampling z\n",
      "  MCMC sample 1000, posterior val = 3925.7509765625, a = 1.0\n",
      "Iter = 4\n",
      "  Sampling x\n",
      "  MCMC sample 1000 , posterior val = 3928.2244\n",
      "  MCMC sample 2000 , posterior val = 3930.8704\n",
      "  MCMC sample 3000 , posterior val = 3932.1638\n",
      "  MCMC sample 4000 , posterior val = 3932.045\n",
      "  MCMC sample 5000 , posterior val = 3930.9211\n",
      "  MCMC sample 6000 , posterior val = 3930.0715\n",
      "  MCMC sample 7000 , posterior val = 3928.9607\n",
      "  MCMC sample 8000 , posterior val = 3929.9927\n",
      "  MCMC sample 9000 , posterior val = 3929.7317\n",
      "  MCMC sample 10000 , posterior val = 3931.97\n",
      "  Sampling z\n",
      "  MCMC sample 1000, posterior val = 3931.186767578125, a = 1.0\n",
      "Iter = 5\n",
      "  Sampling x\n",
      "  MCMC sample 1000 , posterior val = 3928.2864\n",
      "  MCMC sample 2000 , posterior val = 3931.5398\n",
      "  MCMC sample 3000 , posterior val = 3932.2134\n",
      "  MCMC sample 4000 , posterior val = 3931.2988\n",
      "  MCMC sample 5000 , posterior val = 3928.0544\n",
      "  MCMC sample 6000 , posterior val = 3930.4148\n",
      "  MCMC sample 7000 , posterior val = 3930.746\n",
      "  MCMC sample 8000 , posterior val = 3932.0989\n",
      "  MCMC sample 9000 , posterior val = 3926.7869\n",
      "  MCMC sample 10000 , posterior val = 3931.2493\n",
      "  Sampling z\n",
      "  MCMC sample 1000, posterior val = 3931.47412109375, a = 1.0\n",
      "Iter = 6\n",
      "  Sampling x\n",
      "  MCMC sample 1000 , posterior val = 3929.8965\n",
      "  MCMC sample 2000 , posterior val = 3931.743\n",
      "  MCMC sample 3000 , posterior val = 3931.2317\n",
      "  MCMC sample 4000 , posterior val = 3928.1055\n",
      "  MCMC sample 5000 , posterior val = 3933.205\n",
      "  MCMC sample 6000 , posterior val = 3932.47\n",
      "  MCMC sample 7000 , posterior val = 3930.949\n",
      "  MCMC sample 8000 , posterior val = 3930.2566\n",
      "  MCMC sample 9000 , posterior val = 3930.2844\n",
      "  MCMC sample 10000 , posterior val = 3928.3723\n",
      "  Sampling z\n",
      "  MCMC sample 1000, posterior val = 3928.016845703125, a = 1.0\n",
      "Iter = 7\n",
      "  Sampling x\n",
      "  MCMC sample 1000 , posterior val = 3932.656\n",
      "  MCMC sample 2000 , posterior val = 3928.7751\n",
      "  MCMC sample 3000 , posterior val = 3928.1157\n",
      "  MCMC sample 4000 , posterior val = 3931.365\n",
      "  MCMC sample 5000 , posterior val = 3933.1465\n",
      "  MCMC sample 6000 , posterior val = 3930.9036\n",
      "  MCMC sample 7000 , posterior val = 3931.054\n",
      "  MCMC sample 8000 , posterior val = 3930.509\n",
      "  MCMC sample 9000 , posterior val = 3931.2363\n",
      "  MCMC sample 10000 , posterior val = 3929.3157\n",
      "  Sampling z\n",
      "  MCMC sample 1000, posterior val = 3929.10205078125, a = 1.0\n",
      "Iter = 8\n",
      "  Sampling x\n",
      "  MCMC sample 1000 , posterior val = 3932.3774\n",
      "  MCMC sample 2000 , posterior val = 3929.7695\n",
      "  MCMC sample 3000 , posterior val = 3931.9949\n",
      "  MCMC sample 4000 , posterior val = 3928.923\n",
      "  MCMC sample 5000 , posterior val = 3932.2883\n",
      "  MCMC sample 6000 , posterior val = 3931.436\n",
      "  MCMC sample 7000 , posterior val = 3928.5234\n",
      "  MCMC sample 8000 , posterior val = 3929.7095\n",
      "  MCMC sample 9000 , posterior val = 3929.7427\n",
      "  MCMC sample 10000 , posterior val = 3932.33\n",
      "  Sampling z\n",
      "  MCMC sample 1000, posterior val = 3931.5703125, a = 1.0\n",
      "Iter = 9\n",
      "  Sampling x\n",
      "  MCMC sample 1000 , posterior val = 3929.0337\n",
      "  MCMC sample 2000 , posterior val = 3931.1306\n",
      "  MCMC sample 3000 , posterior val = 3928.9128\n",
      "  MCMC sample 4000 , posterior val = 3930.9255\n",
      "  MCMC sample 5000 , posterior val = 3930.4849\n",
      "  MCMC sample 6000 , posterior val = 3932.7349\n",
      "  MCMC sample 7000 , posterior val = 3933.084\n",
      "  MCMC sample 8000 , posterior val = 3932.067\n",
      "  MCMC sample 9000 , posterior val = 3932.781\n",
      "  MCMC sample 10000 , posterior val = 3927.2878\n",
      "  Sampling z\n",
      "  MCMC sample 1000, posterior val = 3925.55126953125, a = 1.0\n",
      "63.63749670982361 sec\n",
      "x_samp = [ 2.2585936   0.16520548  1.016038   -2.109493   -0.4353912   0.47812414\n",
      "  1.9868565  -0.4777193  -1.0559864  -0.50882506]\n",
      "x_true = [-0.42248565  0.47037852 -0.27125207  0.5280313  -2.1492865   2.2546678\n",
      "  0.49364355  1.0142431  -1.0508072  -1.6258022 ]\n"
     ]
    }
   ],
   "source": [
    "N_iters = 10\n",
    "N_samples_z = 1001 #300\n",
    "N_samples_x = 10001\n",
    "B = 3\n",
    "\n",
    "sample_x = True\n",
    "sample_z = True\n",
    "search_z = False\n",
    "\n",
    "zi = jnp.array(np.random.randint(0, K, (N,)))\n",
    "xi = jnp.array(np.random.randn(K))\n",
    "\n",
    "#xi = x\n",
    "#zi = z\n",
    "\n",
    "t0 = time.time()\n",
    "for iter_i in jnp.arange(N_iters):\n",
    "    print(f\"Iter = {iter_i}\")\n",
    "\n",
    "    if sample_x:\n",
    "        print(\"  Sampling x\")\n",
    "\n",
    "        params_x = {\"B\" : B, \"z\" : zi, \"y\" : y, \"sigma\" : sigma, \"alpha\" : alpha}\n",
    "\n",
    "        key, subkey = random.split(key)\n",
    "    \n",
    "        #t0 = time.time()\n",
    "        x_mean, x_r, x_samples = mcmc(subkey, proposal_x_batch, xi, N_samples_x, params_x, K, 1) \n",
    "        #x_mean, x_r, x_samples = mcmc(subkey, proposal_x_marg, xi, N_samples_x, params_x, 1, 1) \n",
    "\n",
    "        xi = x_samples[N_samples_x - 2]\n",
    "    \n",
    "    if search_z:\n",
    "        print(\"  Searching z\")\n",
    "        for idx_z in tqdm(jnp.arange(N)):\n",
    "            logPi_max = -jnp.inf\n",
    "\n",
    "            for ki in jnp.arange(K):\n",
    "                zi_k = zi.at[idx_z].set(ki)\n",
    "                logPi_k = logPi(xi, zi_k, y, sigma, alpha)\n",
    "                if logPi_k > logPi_max:\n",
    "                    zi = zi_k\n",
    "                    logPi_max = logPi_k\n",
    "            \n",
    "    if sample_z:\n",
    "        print(\"  Sampling z\")\n",
    "        #for idx_z in tqdm(jnp.arange(N)):\n",
    "            \n",
    "        #params_z = {\"x\" : xi, \"y\" : y, \"sigma\" : sigma, \"alpha\" : alpha, \"K\" : K, 'idx' : idx_z}\n",
    "        params_z = {\"x\" : xi, \"y\" : y, \"sigma\" : sigma, \"alpha\" : alpha, \"K\" : K}\n",
    "\n",
    "        key, subkey = random.split(key)\n",
    "\n",
    "        #z_mean, z_r, z_samples = mcmc(subkey, proposal_z_idx, zi, N_samples_z, params_z, 1, 1)\n",
    "        #z_mean, z_r, z_samples = mcmc(subkey, proposal_z_batch, zi, N_samples_z, params_z, N, 1)\n",
    "        z_mean, z_r, z_samples = mcmc(subkey, proposal_z_batch_correct, zi, N_samples_z, params_z, 1, 1)\n",
    "\n",
    "        zi = z_samples[N_samples_z - 2]\n",
    "            \n",
    "print(f\"{time.time()-t0} sec\")\n",
    "print(f\"x_samp = {xi}\")\n",
    "print(f\"x_true = {x}\")"
   ]
  },
  {
   "cell_type": "code",
   "execution_count": 60,
   "id": "d160ee3b-0c25-4d70-ad50-0bdc5191c695",
   "metadata": {},
   "outputs": [
    {
     "name": "stdout",
     "output_type": "stream",
     "text": [
      "119\n",
      "0\n",
      "139\n",
      "164\n",
      "151\n",
      "310\n",
      "0\n",
      "0\n",
      "117\n",
      "0\n"
     ]
    },
    {
     "data": {
      "image/png": "[encoded data removed]",
      "text/plain": [
       "<Figure size 432x432 with 1 Axes>"
      ]
     },
     "metadata": {
      "needs_background": "light"
     },
     "output_type": "display_data"
    }
   ],
   "source": [
    "plt.plot(y, '.')\n",
    "plt.plot(xi[zi], '.')\n",
    "\n",
    "for k in jnp.arange(K):\n",
    "    print(jnp.sum(zi==k))"
   ]
  },
  {
   "cell_type": "code",
   "execution_count": 68,
   "id": "0d1a4644-c15d-47a5-8cb3-71dadc8bde56",
   "metadata": {},
   "outputs": [
    {
     "name": "stdout",
     "output_type": "stream",
     "text": [
      "3952.9385\n",
      "3925.5513\n"
     ]
    }
   ],
   "source": [
    "print(logPi(x, z, y, sigma, alpha))\n",
    "print(logPi(xi, zi, y, sigma, alpha))"
   ]
  },
  {
   "cell_type": "code",
   "execution_count": 69,
   "id": "db9fa846-8279-44b2-bac1-09b7af1da1cd",
   "metadata": {},
   "outputs": [
    {
     "data": {
      "text/plain": [
       "DeviceArray(7.6797477e-13, dtype=float32)"
      ]
     },
     "execution_count": 69,
     "metadata": {},
     "output_type": "execute_result"
    }
   ],
   "source": [
    "z1 = z.at[0].set(1)\n",
    "logPiZ0 = logPi(x, z, y, sigma, alpha)\n",
    "logPiZ1 = logPi(x, z1, y, sigma, alpha)\n",
    "r = jnp.exp(logPiZ1 - logPiZ0)\n",
    "r"
   ]
  },
  {
   "cell_type": "code",
   "execution_count": 70,
   "id": "e47b801e-2fd8-496a-9dbc-ff57302cc30c",
   "metadata": {},
   "outputs": [
    {
     "name": "stdout",
     "output_type": "stream",
     "text": [
      "151\n",
      "251\n",
      "0\n",
      "40\n",
      "155\n",
      "119\n",
      "19\n",
      "139\n",
      "117\n",
      "9\n"
     ]
    },
    {
     "data": {
      "image/png": "[encoded data removed]",
      "text/plain": [
       "<Figure size 432x432 with 1 Axes>"
      ]
     },
     "metadata": {
      "needs_background": "light"
     },
     "output_type": "display_data"
    }
   ],
   "source": [
    "plt.plot(y, '.')\n",
    "plt.plot(x[z], '.')\n",
    "\n",
    "for k in jnp.arange(K):\n",
    "    print(jnp.sum(z==k))"
   ]
  },
  {
   "cell_type": "code",
   "execution_count": 71,
   "id": "5d7a3cba-1bf6-4697-aa5d-91f0351996ad",
   "metadata": {},
   "outputs": [
    {
     "name": "stdout",
     "output_type": "stream",
     "text": [
      "[0.14755723 0.23883411 0.00259012 0.03930138 0.15887733 0.11050232\n",
      " 0.01476201 0.14792879 0.12903827 0.01060837]\n",
      "[-0.42248565  0.47037852 -0.27125207  0.5280313  -2.1492865   2.2546678\n",
      "  0.49364355  1.0142431  -1.0508072  -1.6258022 ]\n",
      "[ 2.2585936   0.16520548  1.016038   -2.109493   -0.4353912   0.47812414\n",
      "  1.9868565  -0.4777193  -1.0559864  -0.50882506]\n"
     ]
    }
   ],
   "source": [
    "print(pi)\n",
    "print(x)\n",
    "print(xi)"
   ]
  },
  {
   "cell_type": "code",
   "execution_count": 72,
   "id": "a7e07a0b-da25-419f-ab35-e17ee44f0f4e",
   "metadata": {},
   "outputs": [],
   "source": [
    "# Loss functions roughly equivalent with the the estimation problem to see what's going on\n",
    "def loss_fun(x, z, y):\n",
    "    return (x[z] - y)**2 * pi[z]\n",
    "\n",
    "def loss_fun_vmap(x,z,y):\n",
    "    n_k = calc_nk_jit(z)\n",
    "    logPZalpha = jnp.sum(gammaln(n_k + alpha))\n",
    "    print(f\"logPZalpha = {-logPZalpha}\")\n",
    "    return jnp.sum(jax.vmap(loss_fun, in_axes = (None, 0, 0))(x,z,y)) + jnp.sum(x**2) - logPZalpha"
   ]
  },
  {
   "cell_type": "code",
   "execution_count": 73,
   "id": "5b8a1e13-f990-4fa1-a8c7-e22f1fe790c0",
   "metadata": {},
   "outputs": [],
   "source": [
    "n_k = calc_nk_jit(z)\n",
    "logPZalpha =  jnp.sum(gammaln(n_k + alpha))"
   ]
  },
  {
   "cell_type": "code",
   "execution_count": 74,
   "id": "94fa586e-4f87-4615-9f84-eeb3a853aaa2",
   "metadata": {},
   "outputs": [
    {
     "name": "stdout",
     "output_type": "stream",
     "text": [
      "logPZalpha = -3629.240966796875\n",
      "-3290.352\n",
      "logPZalpha = -4196.72900390625\n",
      "-4180.0327\n",
      "logPZalpha = -3977.590087890625\n",
      "-3962.1008\n"
     ]
    }
   ],
   "source": [
    "print(loss_fun_vmap(x, jnp.array(np.random.randint(0, K, (N,))), y))\n",
    "print(loss_fun_vmap(xi, zi, y))\n",
    "print(loss_fun_vmap(x, z, y))"
   ]
  },
  {
   "cell_type": "markdown",
   "id": "569a330b-9287-4acd-9f08-e3c008125efb",
   "metadata": {},
   "source": [
    "### Some functions used for debugging - ignore"
   ]
  },
  {
   "cell_type": "code",
   "execution_count": null,
   "id": "0f633a92-f7cf-4bc9-96c7-06553e3af81d",
   "metadata": {},
   "outputs": [],
   "source": [
    "# Quick test of a proposal function\n",
    "key, subkey = random.split(key)\n",
    "idx = 1\n",
    "z1, rz, _, _ = proposal_z_idx(subkey, z, -1, x, y, sigma, alpha, K, idx)\n",
    "print(z1[idx])\n",
    "print(rz)"
   ]
  },
  {
   "cell_type": "code",
   "execution_count": null,
   "id": "6890cd11-d5ee-40d4-baf1-200028668a8c",
   "metadata": {},
   "outputs": [],
   "source": [
    "key, subkey = random.split(key)\n",
    "#z0 = random.randint(subkey, z.shape, 0, K)\n",
    "z0 = jnp.ones(z.shape)\n",
    "z0 = z\n",
    "\n",
    "n_ik_z = calc_nik_jit(z0)\n",
    "n_k = calc_nk_jit(z0)\n",
    "Nk = jnp.sum(n_k)\n",
    "Ak = jnp.sum(alpha)"
   ]
  },
  {
   "cell_type": "code",
   "execution_count": null,
   "id": "0b2fa838-7c62-4dce-a60a-6c67aa2ec29e",
   "metadata": {},
   "outputs": [],
   "source": [
    "probs_d = []\n",
    "probs_dn = []\n",
    "for k in jnp.arange(K):\n",
    "    probs_d.append((n_ik_z[:, k] + alpha[k])/(Nk+Ak-1))\n",
    "    probs_dn.append((n_ik_z[:, k])/(Nk-1))\n",
    "\n",
    "probs_d = jnp.array(probs_d).transpose()   \n",
    "probs_dn = jnp.array(probs_dn).transpose()   \n",
    "\n",
    "print(probs_d)\n",
    "#print(jnp.sum(probs_d, axis=1))\n",
    "\n",
    "plt.imshow(jnp.repeat(probs_d, int(N/K), axis=1)); plt.colorbar()"
   ]
  },
  {
   "cell_type": "code",
   "execution_count": null,
   "id": "ae7ba8b7-ab85-4af2-b161-6e5c4d281220",
   "metadata": {},
   "outputs": [],
   "source": [
    "myf = lambda x0, x1 : logPi(jnp.array([x0, x1]), z, y, sigma, alpha)\n",
    "xx = jnp.linspace(-3,3,1000)    \n",
    "yy = jnp.linspace(-3,3,1000)"
   ]
  },
  {
   "cell_type": "code",
   "execution_count": null,
   "id": "c44cbf01-bdbb-4bcf-8e44-2f538dfa20af",
   "metadata": {},
   "outputs": [],
   "source": [
    "myf_x = jax.jit(lambda x : jax.vmap(myf, in_axes = (None, 0))(x, yy))\n",
    "myf_xy = jax.vmap(myf_x)(xx)"
   ]
  },
  {
   "cell_type": "code",
   "execution_count": null,
   "id": "ca3c27c4-1f80-4532-a339-0d91e3f01244",
   "metadata": {},
   "outputs": [],
   "source": [
    "plt.imshow((myf_xy)); plt.colorbar()"
   ]
  },
  {
   "cell_type": "code",
   "execution_count": null,
   "id": "d93b21d7-244b-4e97-93e1-3910f6c27632",
   "metadata": {},
   "outputs": [],
   "source": [
    "print(\"01\", myf(x[0], x[1]))\n",
    "print(\"00\", myf(x[0], x[0]))\n",
    "print(\"11\", myf(x[1], x[1]))\n",
    "print(\"10\", myf(x[1], x[0]))"
   ]
  },
  {
   "cell_type": "code",
   "execution_count": null,
   "id": "52e500a5-dcb2-4a2d-bb72-9fa58cfff1a6",
   "metadata": {},
   "outputs": [],
   "source": [
    "myf(x[0],x[1])"
   ]
  },
  {
   "cell_type": "code",
   "execution_count": null,
   "id": "2cfdcec9-5874-491c-b5ae-48b3a96c2979",
   "metadata": {},
   "outputs": [],
   "source": [
    "jnp.max(myf_xy)"
   ]
  }
 ],
 "metadata": {
  "kernelspec": {
   "display_name": "Python 3 (ipykernel)",
   "language": "python",
   "name": "python3"
  },
  "language_info": {
   "codemirror_mode": {
    "name": "ipython",
    "version": 3
   },
   "file_extension": ".py",
   "mimetype": "text/x-python",
   "name": "python",
   "nbconvert_exporter": "python",
   "pygments_lexer": "ipython3",
   "version": "3.9.7"
  }
 },
 "nbformat": 4,
 "nbformat_minor": 5
}
