{
 "cells": [
  {
   "cell_type": "markdown",
   "id": "ec3c75f8-d661-4ffe-81cd-5a0f6b9ff8c0",
   "metadata": {},
   "source": [
    "# Run tests"
   ]
  },
  {
   "cell_type": "code",
   "execution_count": 55,
   "id": "51f736ca-0419-4ae2-bea4-ce547c30fdb2",
   "metadata": {},
   "outputs": [
    {
     "name": "stdout",
     "output_type": "stream",
     "text": [
      "The autoreload extension is already loaded. To reload it, use:\n",
      "  %reload_ext autoreload\n"
     ]
    }
   ],
   "source": [
    "%load_ext autoreload\n",
    "%autoreload 2\n",
    "import site\n",
    "import sys\n",
    "import time\n",
    "from jax.config import config\n",
    "\n",
    "config.update(\"jax_enable_x64\", True)\n",
    "sys.path.append(\"/gpfs/loomis/project/lederman/bt387/simple_cryoem/tests/\")\n",
    "site.addsitedir('..')"
   ]
  },
  {
   "cell_type": "code",
   "execution_count": 37,
   "id": "aef49a93-4658-4683-bbeb-d90669f0cf1d",
   "metadata": {},
   "outputs": [],
   "source": [
    "#import unittest\n",
    "from test_interpolate import *\n",
    "from test_projection import *"
   ]
  },
  {
   "cell_type": "code",
   "execution_count": 52,
   "id": "cf20288a-bfbb-4b44-b33c-1404a894a768",
   "metadata": {},
   "outputs": [],
   "source": [
    "interpolate_test = TestInterpolate()\n",
    "\n",
    "interpolate_test.test_find_adjacent_grid_points_idx()\n",
    "interpolate_test.test_find_nearest_eight_grid_points_idx()\n",
    "interpolate_test.test_find_nearest_grid_point_idx()\n",
    "interpolate_test.test_find_nearest_one_grid_point_idx()\n",
    "interpolate_test.test_find_nearest_one_grid_point_idx_bug()\n",
    "interpolate_test.test_interpolate_nn()\n",
    "interpolate_test.test_interpolate_tri()\n",
    "interpolate_test.test_tri_interp_point()"
   ]
  },
  {
   "cell_type": "code",
   "execution_count": 54,
   "id": "f01b3822-2491-415c-b425-575c8afbfec0",
   "metadata": {},
   "outputs": [
    {
     "ename": "AssertionError",
     "evalue": "\nArrays are not almost equal to 15 decimals\n\nMismatched elements: 1 / 25 (4%)\nMax absolute difference: 2.23517418e-08\nMax relative difference: 1.\n x: array([[0.               , 0.               , 0.               ,\n        0.               , 0.               ],\n       [0.               , 0.               , 0.               ,...\n y: array([[-6.661338147750939e-18, -8.881784197001253e-18,\n         7.549516567451065e-17, -8.881784197001253e-18,\n        -1.776356839400251e-17],...",
     "output_type": "error",
     "traceback": [
      "\u001b[0;31m---------------------------------------------------------------------------\u001b[0m",
      "\u001b[0;31mAssertionError\u001b[0m                            Traceback (most recent call last)",
      "\u001b[0;32m<ipython-input-54-89ae118d4ab4>\u001b[0m in \u001b[0;36m<module>\u001b[0;34m\u001b[0m\n\u001b[1;32m      2\u001b[0m \u001b[0;34m\u001b[0m\u001b[0m\n\u001b[1;32m      3\u001b[0m \u001b[0mprojection_test\u001b[0m\u001b[0;34m.\u001b[0m\u001b[0mtest_project_odd_dims_xy_fourier\u001b[0m\u001b[0;34m(\u001b[0m\u001b[0;34m)\u001b[0m\u001b[0;34m\u001b[0m\u001b[0;34m\u001b[0m\u001b[0m\n\u001b[0;32m----> 4\u001b[0;31m \u001b[0mprojection_test\u001b[0m\u001b[0;34m.\u001b[0m\u001b[0mtest_project_odd_dims_xy_spatial_pi2_p4\u001b[0m\u001b[0;34m(\u001b[0m\u001b[0;34m)\u001b[0m\u001b[0;34m\u001b[0m\u001b[0;34m\u001b[0m\u001b[0m\n\u001b[0m\u001b[1;32m      5\u001b[0m \u001b[0mprojection_test\u001b[0m\u001b[0;34m.\u001b[0m\u001b[0mtest_project_odd_dims_xz_fourier\u001b[0m\u001b[0;34m(\u001b[0m\u001b[0;34m)\u001b[0m\u001b[0;34m\u001b[0m\u001b[0;34m\u001b[0m\u001b[0m\n\u001b[1;32m      6\u001b[0m \u001b[0mprojection_test\u001b[0m\u001b[0;34m.\u001b[0m\u001b[0mtest_project_odd_dims_yz_fourier\u001b[0m\u001b[0;34m(\u001b[0m\u001b[0;34m)\u001b[0m\u001b[0;34m\u001b[0m\u001b[0;34m\u001b[0m\u001b[0m\n",
      "\u001b[0;32m/gpfs/loomis/project/lederman/bt387/simple_cryoem/tests/test_projection.py\u001b[0m in \u001b[0;36mtest_project_odd_dims_xy_spatial_pi2_p4\u001b[0;34m(self)\u001b[0m\n\u001b[1;32m    163\u001b[0m \u001b[0;34m\u001b[0m\u001b[0m\n\u001b[1;32m    164\u001b[0m             \u001b[0;31m# And check that all's good\u001b[0m\u001b[0;34m\u001b[0m\u001b[0;34m\u001b[0m\u001b[0;34m\u001b[0m\u001b[0m\n\u001b[0;32m--> 165\u001b[0;31m             \u001b[0massert_array_almost_equal\u001b[0m\u001b[0;34m(\u001b[0m\u001b[0mv_proj2_nn\u001b[0m\u001b[0;34m,\u001b[0m \u001b[0mv_proj2_true\u001b[0m\u001b[0;34m,\u001b[0m \u001b[0mdecimal\u001b[0m \u001b[0;34m=\u001b[0m \u001b[0;36m15\u001b[0m\u001b[0;34m)\u001b[0m\u001b[0;34m\u001b[0m\u001b[0;34m\u001b[0m\u001b[0m\n\u001b[0m\u001b[1;32m    166\u001b[0m             \u001b[0massert_array_almost_equal\u001b[0m\u001b[0;34m(\u001b[0m\u001b[0mv_proj2_tri\u001b[0m\u001b[0;34m,\u001b[0m \u001b[0mv_proj2_true\u001b[0m\u001b[0;34m,\u001b[0m \u001b[0mdecimal\u001b[0m \u001b[0;34m=\u001b[0m \u001b[0;36m15\u001b[0m\u001b[0;34m)\u001b[0m\u001b[0;34m\u001b[0m\u001b[0;34m\u001b[0m\u001b[0m\n\u001b[1;32m    167\u001b[0m             \u001b[0massert_array_almost_equal\u001b[0m\u001b[0;34m(\u001b[0m\u001b[0mv_proj4_nn\u001b[0m\u001b[0;34m,\u001b[0m \u001b[0mv_proj4_true\u001b[0m\u001b[0;34m,\u001b[0m \u001b[0mdecimal\u001b[0m \u001b[0;34m=\u001b[0m \u001b[0;36m15\u001b[0m\u001b[0;34m)\u001b[0m\u001b[0;34m\u001b[0m\u001b[0;34m\u001b[0m\u001b[0m\n",
      "    \u001b[0;31m[... skipping hidden 2 frame]\u001b[0m\n",
      "\u001b[0;31mAssertionError\u001b[0m: \nArrays are not almost equal to 15 decimals\n\nMismatched elements: 1 / 25 (4%)\nMax absolute difference: 2.23517418e-08\nMax relative difference: 1.\n x: array([[0.               , 0.               , 0.               ,\n        0.               , 0.               ],\n       [0.               , 0.               , 0.               ,...\n y: array([[-6.661338147750939e-18, -8.881784197001253e-18,\n         7.549516567451065e-17, -8.881784197001253e-18,\n        -1.776356839400251e-17],..."
     ]
    }
   ],
   "source": [
    "projection_test = TestProjection()\n",
    "\n",
    "projection_test.test_project_odd_dims_xy_fourier()\n",
    "projection_test.test_project_odd_dims_xz_fourier()\n",
    "projection_test.test_project_odd_dims_yz_fourier()\n",
    "projection_test.test_project_odd_dims_xy_spatial_pi2_p4()\n",
    "\n"
   ]
  },
  {
   "cell_type": "code",
   "execution_count": 63,
   "id": "8519f1e0-ad42-4e68-bf6f-1b693445de3a",
   "metadata": {},
   "outputs": [
    {
     "ename": "AssertionError",
     "evalue": "\nArrays are not almost equal to 15 decimals\n\nMismatched elements: 1 / 25 (4%)\nMax absolute difference: 2.23517418e-08\nMax relative difference: 1.\n x: array([[0.               , 0.               , 0.               ,\n        0.               , 0.               ],\n       [0.               , 0.               , 0.               ,...\n y: array([[ 1.998401444325282e-17,  4.440892098500626e-18,\n         8.881784197001253e-17,  4.440892098500626e-18,\n         0.000000000000000e+00],...",
     "output_type": "error",
     "traceback": [
      "\u001b[0;31m---------------------------------------------------------------------------\u001b[0m",
      "\u001b[0;31mAssertionError\u001b[0m                            Traceback (most recent call last)",
      "\u001b[0;32m<ipython-input-63-c53e37c8f6df>\u001b[0m in \u001b[0;36m<module>\u001b[0;34m\u001b[0m\n\u001b[0;32m----> 1\u001b[0;31m \u001b[0mprojection_test\u001b[0m\u001b[0;34m.\u001b[0m\u001b[0mtest_project_odd_dims_xy_spatial_pi2_p4\u001b[0m\u001b[0;34m(\u001b[0m\u001b[0;34m)\u001b[0m\u001b[0;34m\u001b[0m\u001b[0;34m\u001b[0m\u001b[0m\n\u001b[0m\u001b[1;32m      2\u001b[0m \u001b[0;34m\u001b[0m\u001b[0m\n",
      "\u001b[0;32m/gpfs/loomis/project/lederman/bt387/simple_cryoem/tests/test_projection.py\u001b[0m in \u001b[0;36mtest_project_odd_dims_xy_spatial_pi2_p4\u001b[0;34m(self)\u001b[0m\n\u001b[1;32m    163\u001b[0m \u001b[0;34m\u001b[0m\u001b[0m\n\u001b[1;32m    164\u001b[0m             \u001b[0;31m# And check that all's good\u001b[0m\u001b[0;34m\u001b[0m\u001b[0;34m\u001b[0m\u001b[0;34m\u001b[0m\u001b[0m\n\u001b[0;32m--> 165\u001b[0;31m             \u001b[0massert_array_almost_equal\u001b[0m\u001b[0;34m(\u001b[0m\u001b[0mv_proj2_nn\u001b[0m\u001b[0;34m,\u001b[0m \u001b[0mv_proj2_true\u001b[0m\u001b[0;34m,\u001b[0m \u001b[0mdecimal\u001b[0m \u001b[0;34m=\u001b[0m \u001b[0;36m15\u001b[0m\u001b[0;34m)\u001b[0m\u001b[0;34m\u001b[0m\u001b[0;34m\u001b[0m\u001b[0m\n\u001b[0m\u001b[1;32m    166\u001b[0m             \u001b[0massert_array_almost_equal\u001b[0m\u001b[0;34m(\u001b[0m\u001b[0mv_proj2_tri\u001b[0m\u001b[0;34m,\u001b[0m \u001b[0mv_proj2_true\u001b[0m\u001b[0;34m,\u001b[0m \u001b[0mdecimal\u001b[0m \u001b[0;34m=\u001b[0m \u001b[0;36m15\u001b[0m\u001b[0;34m)\u001b[0m\u001b[0;34m\u001b[0m\u001b[0;34m\u001b[0m\u001b[0m\n\u001b[1;32m    167\u001b[0m             \u001b[0massert_array_almost_equal\u001b[0m\u001b[0;34m(\u001b[0m\u001b[0mv_proj4_nn\u001b[0m\u001b[0;34m,\u001b[0m \u001b[0mv_proj4_true\u001b[0m\u001b[0;34m,\u001b[0m \u001b[0mdecimal\u001b[0m \u001b[0;34m=\u001b[0m \u001b[0;36m15\u001b[0m\u001b[0;34m)\u001b[0m\u001b[0;34m\u001b[0m\u001b[0;34m\u001b[0m\u001b[0m\n",
      "    \u001b[0;31m[... skipping hidden 2 frame]\u001b[0m\n",
      "\u001b[0;31mAssertionError\u001b[0m: \nArrays are not almost equal to 15 decimals\n\nMismatched elements: 1 / 25 (4%)\nMax absolute difference: 2.23517418e-08\nMax relative difference: 1.\n x: array([[0.               , 0.               , 0.               ,\n        0.               , 0.               ],\n       [0.               , 0.               , 0.               ,...\n y: array([[ 1.998401444325282e-17,  4.440892098500626e-18,\n         8.881784197001253e-17,  4.440892098500626e-18,\n         0.000000000000000e+00],..."
     ]
    }
   ],
   "source": [
    "projection_test.test_project_odd_dims_xy_spatial_pi2_p4()\n",
    "\n"
   ]
  },
  {
   "cell_type": "code",
   "execution_count": null,
   "id": "a24c5e61-c149-4570-b1ef-947012c4b4fc",
   "metadata": {},
   "outputs": [],
   "source": []
  },
  {
   "cell_type": "code",
   "execution_count": null,
   "id": "d68fccd0-09dc-47b5-aba3-10e107c368ce",
   "metadata": {},
   "outputs": [],
   "source": []
  }
 ],
 "metadata": {
  "kernelspec": {
   "display_name": "Python 3",
   "language": "python",
   "name": "python3"
  },
  "language_info": {
   "codemirror_mode": {
    "name": "ipython",
    "version": 3
   },
   "file_extension": ".py",
   "mimetype": "text/x-python",
   "name": "python",
   "nbconvert_exporter": "python",
   "pygments_lexer": "ipython3",
   "version": "3.6.9"
  }
 },
 "nbformat": 4,
 "nbformat_minor": 5
}
