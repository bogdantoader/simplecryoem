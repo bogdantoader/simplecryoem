{
 "cells": [
  {
   "cell_type": "markdown",
   "id": "a23647ff-ecf3-4e72-a3f3-0433e88e2e7c",
   "metadata": {},
   "source": [
    "# Gradient descent on point mass"
   ]
  },
  {
   "cell_type": "code",
   "execution_count": 86,
   "id": "90ae6b40-99cd-4257-9c96-8fc09c06afa0",
   "metadata": {},
   "outputs": [
    {
     "name": "stdout",
     "output_type": "stream",
     "text": [
      "The autoreload extension is already loaded. To reload it, use:\n",
      "  %reload_ext autoreload\n"
     ]
    }
   ],
   "source": [
    "%load_ext autoreload\n",
    "%autoreload 2\n",
    "import site\n",
    "import sys\n",
    "site.addsitedir('..')"
   ]
  },
  {
   "cell_type": "code",
   "execution_count": 169,
   "id": "871c1cc0-25cb-475d-b157-9d0b73b1c056",
   "metadata": {},
   "outputs": [],
   "source": [
    "import numpy as np\n",
    "from  matplotlib import pyplot as plt\n",
    "from src.utils import *\n",
    "from src.projection import project_spatial, project, rotate\n",
    "from src.interpolate import *\n",
    "import jax\n",
    "import jax.numpy as jnp"
   ]
  },
  {
   "cell_type": "code",
   "execution_count": null,
   "id": "9441fe79-ae97-4056-ad85-e8d3297fd094",
   "metadata": {},
   "outputs": [],
   "source": []
  },
  {
   "cell_type": "code",
   "execution_count": 220,
   "id": "06d83e96-6f27-46aa-a826-5e5231527559",
   "metadata": {},
   "outputs": [
    {
     "data": {
      "image/png": "[encoded data removed]",
      "text/plain": [
       "<Figure size 432x288 with 2 Axes>"
      ]
     },
     "metadata": {
      "needs_background": "light"
     },
     "output_type": "display_data"
    }
   ],
   "source": [
    "nx = 5\n",
    "shape = np.array([nx, nx, nx])\n",
    "dimensions = np.array([1, 1, 1])\n",
    "radius = 1/(2*nx)\n",
    "centre = np.array([0.2,0,0])\n",
    "intensity = 1\n",
    "\n",
    "v = jnp.array(spherical_volume(shape, dimensions, centre, radius, intensity, False))\n",
    "plt.imshow(v[:,:,2]); plt.colorbar()\n",
    "\n",
    "angles = np.array([0,0,0])"
   ]
  },
  {
   "cell_type": "code",
   "execution_count": 199,
   "id": "342cbfd2-7ec4-4e72-907c-29330a742124",
   "metadata": {},
   "outputs": [],
   "source": [
    "#v_proj = project_spatial(v, [0,0,np.pi/2], dimensions, \"tri\")\n",
    "#plt.imshow(v_proj); plt.colorbar()"
   ]
  },
  {
   "cell_type": "markdown",
   "id": "0ef5d075-62e4-44ed-9921-9a5eaf360fda",
   "metadata": {},
   "source": [
    "## Define the functions"
   ]
  },
  {
   "cell_type": "code",
   "execution_count": 316,
   "id": "9ffd0fd0-62a4-4d5b-8146-d028e49e0c62",
   "metadata": {},
   "outputs": [],
   "source": [
    "v_func = lambda a: project_spatial(v, a, dimensions, \"tri\")\n",
    "a_true = jnp.array([np.pi, np.pi/4*3, np.pi/3*5])\n",
    "img1 = v_func(a_true)\n",
    "loss_func = jax.jit(lambda a: 1/(2*25) * jnp.sum((v_func(a) - img1)**2))\n",
    "dloss = jax.grad(loss_func)"
   ]
  },
  {
   "cell_type": "markdown",
   "id": "45e5261f-4bc7-46c4-a98a-7f210535ff68",
   "metadata": {},
   "source": [
    "## Run gradient descent"
   ]
  },
  {
   "cell_type": "code",
   "execution_count": 427,
   "id": "fd34f745-babd-4f7d-820f-b102bb9a28ef",
   "metadata": {},
   "outputs": [
    {
     "name": "stdout",
     "output_type": "stream",
     "text": [
      "0: loss = 0.036889907\n",
      "100: loss = 0.03270166\n",
      "200: loss = 0.03269508\n",
      "300: loss = 0.03269508\n",
      "400: loss = 0.03269508\n",
      "500: loss = 0.03269508\n",
      "600: loss = 0.032695077\n",
      "700: loss = 0.03269508\n",
      "800: loss = 0.03269508\n",
      "900: loss = 0.03269508\n",
      "1000: loss = 0.03269508\n",
      "1100: loss = 0.03269508\n",
      "1200: loss = 0.03269508\n",
      "1300: loss = 0.03269508\n",
      "1400: loss = 0.03269508\n",
      "1500: loss = 0.03269508\n",
      "1600: loss = 0.03269508\n",
      "1700: loss = 0.032695077\n",
      "1800: loss = 0.03269508\n",
      "1900: loss = 0.03269508\n",
      "2000: loss = 0.03269508\n",
      "2100: loss = 0.032695085\n",
      "2200: loss = 0.03269508\n",
      "2300: loss = 0.03269508\n",
      "2400: loss = 0.03269508\n",
      "2500: loss = 0.03269508\n",
      "2600: loss = 0.03269508\n",
      "2700: loss = 0.03269508\n",
      "2800: loss = 0.03269508\n",
      "2900: loss = 0.03269508\n"
     ]
    }
   ],
   "source": [
    "a0 = np.random.rand()*2*np.pi * jnp.ones(3)\n",
    "#a0 = np.pi/2 + 0.1\n",
    "alpha = 1/beta\n",
    "a = a0\n",
    "iters = 3000\n",
    "l1 = 0\n",
    "y1 = a\n",
    "for i in range(iters):\n",
    "    if np.mod(i,100) == 0:\n",
    "        print(str(i) + \": loss = \" + str(loss_func(a)))\n",
    "        \n",
    "    l0 = l1    \n",
    "    l1 = (1 + jnp.sqrt(1 + 4 * l0**2))/2 \n",
    "    g = (1-l0)/l1\n",
    "    \n",
    "    y0 = y1\n",
    "    y1 = a - alpha * dloss(a)\n",
    "    a = (1-g)*y1 + g*y0\n",
    "    \n"
   ]
  },
  {
   "cell_type": "code",
   "execution_count": 418,
   "id": "bc643442-9dc7-40d7-8a37-2dd25623a288",
   "metadata": {},
   "outputs": [
    {
     "name": "stdout",
     "output_type": "stream",
     "text": [
      "[3.1415927 2.3561945 5.2359877]\n",
      "[4.056056  5.356936  4.0832605]\n",
      "-0.9997001\n"
     ]
    }
   ],
   "source": [
    "print(a_true)\n",
    "print(a)\n",
    "print(g)"
   ]
  },
  {
   "cell_type": "code",
   "execution_count": 404,
   "id": "41de962a-963e-499d-9273-bfddf7b2dd5e",
   "metadata": {},
   "outputs": [
    {
     "data": {
      "text/plain": [
       "<matplotlib.colorbar.Colorbar at 0x7fcbbae1d3d0>"
      ]
     },
     "execution_count": 404,
     "metadata": {},
     "output_type": "execute_result"
    },
    {
     "data": {
      "image/png": "[encoded data removed]",
      "text/plain": [
       "<Figure size 432x288 with 2 Axes>"
      ]
     },
     "metadata": {
      "needs_background": "light"
     },
     "output_type": "display_data"
    }
   ],
   "source": [
    "plt.imshow(v_func(a_true)); plt.colorbar()"
   ]
  },
  {
   "cell_type": "code",
   "execution_count": 405,
   "id": "d9a298eb-72b2-4c9d-84f1-b0d9e9e8aab7",
   "metadata": {},
   "outputs": [
    {
     "data": {
      "text/plain": [
       "<matplotlib.colorbar.Colorbar at 0x7fcbb3fdb850>"
      ]
     },
     "execution_count": 405,
     "metadata": {},
     "output_type": "execute_result"
    },
    {
     "data": {
      "image/png": "[encoded data removed]",
      "text/plain": [
       "<Figure size 432x288 with 2 Axes>"
      ]
     },
     "metadata": {
      "needs_background": "light"
     },
     "output_type": "display_data"
    }
   ],
   "source": [
    "plt.imshow(v_func(a)); plt.colorbar()"
   ]
  },
  {
   "cell_type": "code",
   "execution_count": 406,
   "id": "b3398ae9-92d4-4b28-ab63-e58e9f547f3b",
   "metadata": {},
   "outputs": [
    {
     "data": {
      "text/plain": [
       "<matplotlib.colorbar.Colorbar at 0x7fcbbaed5f10>"
      ]
     },
     "execution_count": 406,
     "metadata": {},
     "output_type": "execute_result"
    },
    {
     "data": {
      "image/png": "[encoded data removed]",
      "text/plain": [
       "<Figure size 432x288 with 2 Axes>"
      ]
     },
     "metadata": {
      "needs_background": "light"
     },
     "output_type": "display_data"
    }
   ],
   "source": [
    "plt.imshow(abs(v_func(a) - v_func(a_true))); plt.colorbar()"
   ]
  }
 ],
 "metadata": {
  "kernelspec": {
   "display_name": "Python 3 (ipykernel)",
   "language": "python",
   "name": "python3"
  },
  "language_info": {
   "codemirror_mode": {
    "name": "ipython",
    "version": 3
   },
   "file_extension": ".py",
   "mimetype": "text/x-python",
   "name": "python",
   "nbconvert_exporter": "python",
   "pygments_lexer": "ipython3",
   "version": "3.8.8"
  }
 },
 "nbformat": 4,
 "nbformat_minor": 5
}
