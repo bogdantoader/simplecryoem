{
 "cells": [
  {
   "cell_type": "markdown",
   "id": "397f3a79-07e6-4c35-93f6-e17557e2084d",
   "metadata": {},
   "source": [
    "# Shrink or enlarge the domain in Fourier space"
   ]
  },
  {
   "cell_type": "code",
   "execution_count": 1,
   "id": "1cbc93e3-22d0-49f8-800e-08730f54770a",
   "metadata": {},
   "outputs": [],
   "source": [
    "%load_ext autoreload\n",
    "%autoreload 2\n",
    "import site\n",
    "import sys\n",
    "import time\n",
    "site.addsitedir('..')\n",
    "from jax.config import config\n",
    "\n",
    "config.update(\"jax_enable_x64\", True)"
   ]
  },
  {
   "cell_type": "code",
   "execution_count": 2,
   "id": "152718b7-ede0-42fe-a291-c4dfd892933f",
   "metadata": {},
   "outputs": [],
   "source": [
    "import numpy as np\n",
    "import jax.numpy as jnp\n",
    "from  matplotlib import pyplot as plt\n",
    "from src.utils import *\n",
    "from src.projection import project_spatial, project, rotate\n",
    "from src.interpolate import *\n",
    "import jax"
   ]
  },
  {
   "cell_type": "code",
   "execution_count": 3,
   "id": "3a50c193-6688-46b2-807f-27f56a14b00d",
   "metadata": {},
   "outputs": [
    {
     "name": "stderr",
     "output_type": "stream",
     "text": [
      "WARNING:absl:No GPU/TPU found, falling back to CPU. (Set TF_CPP_MIN_LOG_LEVEL=0 and rerun for more info.)\n"
     ]
    },
    {
     "data": {
      "text/plain": [
       "Text(0.5, 1.0, 'Volume_comp MIP')"
      ]
     },
     "execution_count": 3,
     "metadata": {},
     "output_type": "execute_result"
    },
    {
     "data": {
      "image/png": "[encoded data removed]",
      "text/plain": [
       "<Figure size 432x288 with 2 Axes>"
      ]
     },
     "metadata": {
      "needs_background": "light"
     },
     "output_type": "display_data"
    }
   ],
   "source": [
    "nx = 128\n",
    "shape = np.array([nx,nx,nx])\n",
    "dimensions = np.array([20,20,20])\n",
    "\n",
    "# A volume with components\n",
    "centres = np.array([[0,0,0], [2, 2, 0], [2, -2, 0]])\n",
    "radii = np.array([2, 1, 1])\n",
    "intensities = np.array([10,7,20])\n",
    "\n",
    "vol = jnp.array(volume_comp(shape, dimensions, centres, radii, intensities, False, 10))\n",
    "vol_fourier, X, Y, Z, _, _, _ = volume_fourier(jnp.fft.ifftshift(vol), dimensions)\n",
    "\n",
    "mip_z(vol)\n",
    "#plt.imshow(v[:,:,int(np.floor(v.shape[2]/2))])\n",
    "plt.colorbar()\n",
    "plt.title('Volume_comp MIP')"
   ]
  },
  {
   "cell_type": "markdown",
   "id": "ef80d902-323f-458a-94ee-657216e82f2e",
   "metadata": {},
   "source": [
    "Assume vol is already in the Fourier domain, but use the Fourier grids from ```volume_fourier```."
   ]
  },
  {
   "cell_type": "code",
   "execution_count": 4,
   "id": "92fece9c-c51b-4e5e-aa5c-12162073b99e",
   "metadata": {},
   "outputs": [],
   "source": [
    "x_freq = X[0,:,0]\n",
    "y_freq = Y[:,0,0]\n",
    "z_freq = Z[0,0,:]\n",
    "\n",
    "x_grid = jnp.array([x_freq[1], len(x_freq)])\n",
    "y_grid = jnp.array([y_freq[1], len(y_freq)])\n",
    "z_grid = jnp.array([z_freq[1], len(z_freq)])"
   ]
  },
  {
   "cell_type": "code",
   "execution_count": 5,
   "id": "799a0128-8fcf-406c-8efa-e2da711e49f7",
   "metadata": {},
   "outputs": [
    {
     "data": {
      "image/png": "[encoded data removed]",
      "text/plain": [
       "<Figure size 432x288 with 1 Axes>"
      ]
     },
     "metadata": {
      "needs_background": "light"
     },
     "output_type": "display_data"
    }
   ],
   "source": [
    "radius = 1.6\n",
    "\n",
    "vc, x_grid_small, y_grid_small, z_grid_small = rescale_smaller_grid(jnp.fft.ifftshift(vol), x_grid, y_grid, z_grid, radius)\n",
    "mip_z(jnp.fft.fftshift(vc))"
   ]
  },
  {
   "cell_type": "code",
   "execution_count": 6,
   "id": "ca252879-a533-420c-b136-9518cd2e9467",
   "metadata": {},
   "outputs": [
    {
     "name": "stdout",
     "output_type": "stream",
     "text": [
      "(128, 128, 128)\n",
      "(65, 65, 65)\n"
     ]
    }
   ],
   "source": [
    "print(vol.shape)\n",
    "print(vc.shape)"
   ]
  },
  {
   "cell_type": "code",
   "execution_count": 7,
   "id": "f8e7d1f9-9af7-4649-9086-7cdb0119d8c9",
   "metadata": {},
   "outputs": [
    {
     "data": {
      "image/png": "[encoded data removed]",
      "text/plain": [
       "<Figure size 432x288 with 1 Axes>"
      ]
     },
     "metadata": {
      "needs_background": "light"
     },
     "output_type": "display_data"
    }
   ],
   "source": [
    "vcc, x_grid_large, y_grid_large, z_grid_large = rescale_larger_grid(vc, x_grid_small, y_grid_small, z_grid_small, vol.shape)\n",
    "mip_z(jnp.fft.fftshift(vcc))"
   ]
  },
  {
   "cell_type": "code",
   "execution_count": 8,
   "id": "4b3ed161-d551-4c8b-8498-af659d281d3c",
   "metadata": {},
   "outputs": [
    {
     "data": {
      "text/plain": [
       "DeviceArray(0., dtype=float64)"
      ]
     },
     "execution_count": 8,
     "metadata": {},
     "output_type": "execute_result"
    }
   ],
   "source": [
    "jnp.sum(jnp.abs(vol - jnp.fft.fftshift(vcc)))"
   ]
  },
  {
   "cell_type": "code",
   "execution_count": 9,
   "id": "1036e1fd-3c1e-4520-a1c6-a21d98b1cd59",
   "metadata": {},
   "outputs": [
    {
     "name": "stdout",
     "output_type": "stream",
     "text": [
      "[5.00e-02 1.28e+02]\n",
      "[DeviceArray(0.05, dtype=float64), 65]\n",
      "[DeviceArray(0.05, dtype=float64), 128]\n"
     ]
    }
   ],
   "source": [
    "print(x_grid)\n",
    "print(x_grid_small)\n",
    "print(x_grid_large)"
   ]
  }
 ],
 "metadata": {
  "kernelspec": {
   "display_name": "Python 3 (ipykernel)",
   "language": "python",
   "name": "python3"
  },
  "language_info": {
   "codemirror_mode": {
    "name": "ipython",
    "version": 3
   },
   "file_extension": ".py",
   "mimetype": "text/x-python",
   "name": "python",
   "nbconvert_exporter": "python",
   "pygments_lexer": "ipython3",
   "version": "3.8.8"
  }
 },
 "nbformat": 4,
 "nbformat_minor": 5
}
