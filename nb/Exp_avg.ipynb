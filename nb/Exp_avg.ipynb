{
 "cells": [
  {
   "cell_type": "code",
   "execution_count": 1,
   "id": "b8dd3e6b-44c9-4d9c-ab01-3050599c0067",
   "metadata": {},
   "outputs": [],
   "source": [
    "%load_ext autoreload\n",
    "%autoreload 2\n",
    "import site\n",
    "import sys\n",
    "import time\n",
    "import pickle\n",
    "site.addsitedir('..')\n",
    "from jax.config import config\n",
    "\n",
    "config.update(\"jax_enable_x64\", True)"
   ]
  },
  {
   "cell_type": "code",
   "execution_count": 58,
   "id": "56d4cf96-c099-48f1-b97a-1dcaea21151e",
   "metadata": {},
   "outputs": [],
   "source": [
    "import jax\n",
    "from jax.scipy.special import gammaln\n",
    "from jax import random\n",
    "from tqdm import tqdm \n",
    "\n",
    "import numpy as np\n",
    "import jax.numpy as jnp\n",
    "from  matplotlib import pyplot as plt\n",
    "from src.utils import *\n",
    "from src.projection import *\n",
    "from src.interpolate import *\n",
    "from src.jaxops import *\n",
    "from src.algorithm import sgd, get_sgd_vol_ops, get_cg_vol_ops\n",
    "from src.algorithm import conjugate_gradient as cg\n",
    "from src.algorithm import oasis, oasis_adaptive\n",
    "from src.noise import estimate_noise, average_radially, estimate_noise_radial\n",
    "from src.preprocess import *\n",
    "\n",
    "plt.rcParams[\"figure.figsize\"]=6,6"
   ]
  },
  {
   "cell_type": "code",
   "execution_count": 80,
   "id": "f71aba60-ef62-427f-954c-cd80bdddab6d",
   "metadata": {},
   "outputs": [],
   "source": [
    "key = random.PRNGKey(12)"
   ]
  },
  {
   "cell_type": "code",
   "execution_count": 539,
   "id": "bd27390b-1c15-4623-b822-6e42d171e2b4",
   "metadata": {},
   "outputs": [],
   "source": [
    "key, subkey = random.split(key)\n",
    "\n",
    "\n",
    "\n",
    "# Number of 'batches'\n",
    "B = 10000\n",
    "\n",
    "# Number of images\n",
    "N = 1000000\n",
    "\n",
    "# Number of epochs\n",
    "n_epoch = 10\n",
    "\n",
    "# Averaging weight\n",
    "beta = 0.9\n",
    "\n",
    "# Regularization parameter\n",
    "alpha = 0.01\n",
    "\n",
    "# Update at the 'good' image\n",
    "hx = 1\n",
    "\n",
    "# Correct value\n",
    "h_sol = 1/N + alpha\n",
    "\n",
    "# Starting value\n",
    "#h0 = jnp.abs(random.normal(subkey))\n",
    "h0 = h_sol"
   ]
  },
  {
   "cell_type": "markdown",
   "id": "ff4903e2-932e-4634-9800-d5a4cb05131e",
   "metadata": {},
   "source": [
    "### Exponential average"
   ]
  },
  {
   "cell_type": "code",
   "execution_count": 540,
   "id": "816ac4ab-89a5-43fc-8097-7af6d0306aeb",
   "metadata": {},
   "outputs": [
    {
     "data": {
      "text/plain": [
       "0.010001"
      ]
     },
     "execution_count": 540,
     "metadata": {},
     "output_type": "execute_result"
    }
   ],
   "source": [
    "h_sol"
   ]
  },
  {
   "cell_type": "code",
   "execution_count": 552,
   "id": "040afa04-aab0-4fcb-b990-91d5e39028f5",
   "metadata": {},
   "outputs": [
    {
     "name": "stderr",
     "output_type": "stream",
     "text": [
      "100%|█████████████████████████████████████████████████████████████████████████████████| 10/10 [00:41<00:00,  4.11s/it]\n"
     ]
    }
   ],
   "source": [
    "h = h0\n",
    "h_all = [h]\n",
    "\n",
    "for i in tqdm(range(n_epoch)):\n",
    "    key, subkey = random.split(key)\n",
    "    p = random.permutation(subkey, B)\n",
    "    \n",
    "    for i in range(B):\n",
    "        if p[i] == 0:\n",
    "            hi = hx * B/N + alpha\n",
    "        else:\n",
    "            hi = alpha \n",
    "            \n",
    "        h = beta*h + (1-beta)*hi\n",
    "        \n",
    "        h_all.append(h)\n",
    "        \n",
    "h_all = jnp.array(h_all)"
   ]
  },
  {
   "cell_type": "code",
   "execution_count": 553,
   "id": "23237095-5eb5-4a36-b703-c777d48aee96",
   "metadata": {},
   "outputs": [
    {
     "name": "stdout",
     "output_type": "stream",
     "text": [
      "gt = 0.010001\n",
      "sol = 0.010000000000000002\n",
      "alpha = 0.01\n"
     ]
    },
    {
     "data": {
      "image/png": "[encoded data removed]",
      "text/plain": [
       "<Figure size 432x432 with 1 Axes>"
      ]
     },
     "metadata": {
      "needs_background": "light"
     },
     "output_type": "display_data"
    }
   ],
   "source": [
    "plt.semilogy(h_all)\n",
    "\n",
    "print(f\"gt = {h_sol}\")\n",
    "print(f\"sol = {h_all[-1]}\")\n",
    "print(f\"alpha = {alpha}\")"
   ]
  },
  {
   "cell_type": "code",
   "execution_count": 554,
   "id": "c2361c87-6270-4331-9fe3-06c5e92922ef",
   "metadata": {},
   "outputs": [
    {
     "data": {
      "text/plain": [
       "DeviceArray(0.011, dtype=float64)"
      ]
     },
     "execution_count": 554,
     "metadata": {},
     "output_type": "execute_result"
    }
   ],
   "source": [
    "jnp.max(h_all[2000:10000])"
   ]
  },
  {
   "cell_type": "code",
   "execution_count": 555,
   "id": "5ef32b8f-2627-4ae6-b5fa-733d4f980af0",
   "metadata": {},
   "outputs": [
    {
     "data": {
      "text/plain": [
       "[<matplotlib.lines.Line2D at 0x1a9bc19d0>]"
      ]
     },
     "execution_count": 555,
     "metadata": {},
     "output_type": "execute_result"
    },
    {
     "data": {
      "image/png": "[encoded data removed]",
      "text/plain": [
       "<Figure size 432x432 with 1 Axes>"
      ]
     },
     "metadata": {
      "needs_background": "light"
     },
     "output_type": "display_data"
    }
   ],
   "source": [
    "plt.plot(h_all[2000:10000])"
   ]
  },
  {
   "cell_type": "code",
   "execution_count": null,
   "id": "54bfe313-70fe-4e4d-955c-72d17a53e788",
   "metadata": {},
   "outputs": [],
   "source": []
  },
  {
   "cell_type": "markdown",
   "id": "b87720f1-6adc-4e1f-a757-f093a9c0d4bf",
   "metadata": {},
   "source": [
    "### Arithmetic mean"
   ]
  },
  {
   "cell_type": "code",
   "execution_count": 556,
   "id": "3dc19470-8d8f-4521-967a-9cc58ab93f57",
   "metadata": {},
   "outputs": [
    {
     "name": "stderr",
     "output_type": "stream",
     "text": [
      "100%|█████████████████████████████████████████████████████████████████████████████████| 10/10 [01:01<00:00,  6.18s/it]\n"
     ]
    }
   ],
   "source": [
    "h = h0\n",
    "h_all = [h]\n",
    "\n",
    "h_terms = [h]\n",
    "n = 1\n",
    "for i in tqdm(range(n_epoch)):\n",
    "    key, subkey = random.split(key)\n",
    "    p = random.permutation(subkey, B)\n",
    "    \n",
    "    for i in range(B):\n",
    "        if p[i] == 0:\n",
    "            hi = hx * B/N + alpha \n",
    "        else:\n",
    "            hi = alpha \n",
    "            \n",
    "        h_terms.append(hi)\n",
    "        n += 1\n",
    "        h = sum(h_terms)/n\n",
    "        \n",
    "        h_all.append(h)\n",
    "        \n",
    "h_all = jnp.array(h_all)"
   ]
  },
  {
   "cell_type": "code",
   "execution_count": 558,
   "id": "821a9833-f9be-4cec-a41f-1f83aecad0c7",
   "metadata": {},
   "outputs": [
    {
     "name": "stdout",
     "output_type": "stream",
     "text": [
      "gt = 0.010001\n",
      "sol = 0.010000999999992355\n"
     ]
    },
    {
     "data": {
      "image/png": "[encoded data removed]",
      "text/plain": [
       "<Figure size 432x432 with 1 Axes>"
      ]
     },
     "metadata": {
      "needs_background": "light"
     },
     "output_type": "display_data"
    }
   ],
   "source": [
    "plt.semilogy(h_all)\n",
    "\n",
    "print(f\"gt = {h_sol}\")\n",
    "print(f\"sol = {h_all[-1]}\")\n",
    "#print(f\"alpha*B/N = {alpha*B/N}\")\n",
    "#print(f\"(hx+alpha)*B/N = {(hx+alpha)*B/N}\")"
   ]
  },
  {
   "cell_type": "code",
   "execution_count": null,
   "id": "849fd316-29e9-4833-a297-2bccdbd39776",
   "metadata": {},
   "outputs": [],
   "source": []
  },
  {
   "cell_type": "code",
   "execution_count": null,
   "id": "da5959e4-02a9-4939-a93a-c47d8e81fa04",
   "metadata": {},
   "outputs": [],
   "source": []
  },
  {
   "cell_type": "code",
   "execution_count": null,
   "id": "5d9a162c-d0ae-4d70-a5c2-afd6c7a3bfc2",
   "metadata": {},
   "outputs": [],
   "source": []
  },
  {
   "cell_type": "code",
   "execution_count": null,
   "id": "b3e7baa6-f785-4aff-a35f-759cb872d57f",
   "metadata": {},
   "outputs": [],
   "source": []
  }
 ],
 "metadata": {
  "kernelspec": {
   "display_name": "Python 3 (ipykernel)",
   "language": "python",
   "name": "python3"
  },
  "language_info": {
   "codemirror_mode": {
    "name": "ipython",
    "version": 3
   },
   "file_extension": ".py",
   "mimetype": "text/x-python",
   "name": "python",
   "nbconvert_exporter": "python",
   "pygments_lexer": "ipython3",
   "version": "3.9.13"
  }
 },
 "nbformat": 4,
 "nbformat_minor": 5
}
