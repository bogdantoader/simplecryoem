{
 "cells": [
  {
   "cell_type": "code",
   "execution_count": 1,
   "id": "d615177c-ed5e-419a-b125-38614e3130ab",
   "metadata": {},
   "outputs": [],
   "source": [
    "%load_ext autoreload\n",
    "%autoreload 2\n",
    "import site, sys, os, time\n",
    "site.addsitedir('..')\n",
    "from jax.config import config\n",
    "\n",
    "config.update(\"jax_enable_x64\", True)"
   ]
  },
  {
   "cell_type": "code",
   "execution_count": null,
   "id": "0aea442d-e48f-4745-a583-b9e679c25e02",
   "metadata": {},
   "outputs": [],
   "source": [
    "import numpy as np\n",
    "import jax.numpy as jnp\n",
    "from  matplotlib import pyplot as plt\n",
    "import jax\n",
    "from jax import random\n",
    "from src.utils import create_2d_mask\n",
    "from src.interpolate import *\n",
    "\n",
    "from skimage.data import shepp_logan_phantom\n",
    "from skimage.transform import radon, rescale, iradon, iradon_sart\n",
    "from tqdm import tqdm\n"
   ]
  },
  {
   "cell_type": "code",
   "execution_count": null,
   "id": "1a675921-379a-45c1-9add-88b7f1f8ecab",
   "metadata": {},
   "outputs": [],
   "source": [
    "def get_fwd_model(pts, rotate_and_project, args = {}):\n",
    "    \n",
    "    @jax.jit\n",
    "    def fwd_model(amp, theta):\n",
    "        proj, _, _ = rotate_and_project(amp, theta, pts, **args)\n",
    "        return proj\n",
    "    \n",
    "    fwd_model_vmap = jax.jit(jax.vmap(fwd_model, in_axes = (None, 0)))\n",
    "    \n",
    "    return fwd_model, fwd_model_vmap\n",
    "\n",
    "def get_loss_function(fwd_model_vmap, thetas, data):\n",
    "    \n",
    "    @jax.jit\n",
    "    def loss_func(amp): \n",
    "        err = fwd_model_vmap(amp, thetas) - data\n",
    "        return 1/2 * jnp.sum(jnp.real(jnp.conj(err)*err)) / jnp.prod(jnp.array(err.shape))\n",
    "    \n",
    "    grad_loss_func = jax.jit(jax.grad(loss_func))\n",
    "    \n",
    "    return loss_func, grad_loss_func"
   ]
  },
  {
   "cell_type": "code",
   "execution_count": null,
   "id": "099255c6-57da-4c3c-b450-65603dd3dfd9",
   "metadata": {},
   "outputs": [],
   "source": [
    "image = shepp_logan_phantom()\n",
    "image = rescale(image, scale=0.2, mode='reflect')\n",
    "\n",
    "plt.imshow(image); plt.colorbar()"
   ]
  },
  {
   "cell_type": "code",
   "execution_count": null,
   "id": "aec32304-825f-4c82-b942-de6477267273",
   "metadata": {},
   "outputs": [],
   "source": [
    "thetas_deg = jnp.linspace(0, 360, max(image.shape)+2)\n",
    "thetas = thetas_deg * jnp.pi/180\n",
    "\n",
    "sinogram = radon(image, theta = thetas_deg)\n",
    "print(sinogram.shape)\n",
    "plt.imshow(sinogram)"
   ]
  },
  {
   "cell_type": "markdown",
   "id": "44097098-5c54-42f3-8f93-6c24a3c68b23",
   "metadata": {},
   "source": [
    "### FBP"
   ]
  },
  {
   "cell_type": "code",
   "execution_count": null,
   "id": "d4e1bd3a-3183-4d9a-984d-3a7dabbcc990",
   "metadata": {},
   "outputs": [],
   "source": [
    "# The filter doesn't make a huge difference\n",
    "\n",
    "rec_fbp = iradon(sinogram, theta=thetas_deg, filter_name='hann')\n",
    "err_fbp = jnp.abs(rec_fbp - image)\n",
    "print(f\"Error = {jnp.max(err_fbp)}\")\n",
    "\n",
    "plt.rcParams[\"figure.figsize\"]=12,6\n",
    "\n",
    "plt.subplot(1,2,1)\n",
    "plt.imshow(rec_fbp); plt.colorbar()\n",
    "\n",
    "plt.subplot(1,2,2)\n",
    "plt.imshow(err_fbp); plt.colorbar()\n",
    "\n",
    "plt.rcParams[\"figure.figsize\"]=6,6"
   ]
  },
  {
   "cell_type": "markdown",
   "id": "27c2c9a9-4cab-4e37-af2f-c1bc95c1631b",
   "metadata": {},
   "source": [
    "### SART"
   ]
  },
  {
   "cell_type": "code",
   "execution_count": null,
   "id": "f4d09a28-efe0-498f-8279-7fc83d9c67f8",
   "metadata": {},
   "outputs": [],
   "source": [
    "N_iter = 2\n",
    "\n",
    "rec_sart = np.zeros(image.shape)\n",
    "\n",
    "for i in tqdm(range(N_iter)):\n",
    "    rec_sart = iradon_sart(sinogram, theta=thetas_deg, image=rec_sart)\n",
    "\n",
    "err_sart = jnp.abs(rec_sart - image)\n",
    "print(f\"Error = {jnp.max(err_sart)}\")"
   ]
  },
  {
   "cell_type": "code",
   "execution_count": null,
   "id": "81a29c88-37b4-455c-a4c7-52408f652011",
   "metadata": {},
   "outputs": [],
   "source": [
    "plt.rcParams[\"figure.figsize\"]=12,6\n",
    "\n",
    "plt.subplot(1,2,1)\n",
    "plt.imshow(rec_sart); plt.colorbar()\n",
    "\n",
    "plt.subplot(1,2,2)\n",
    "plt.imshow(err_sart); plt.colorbar()\n",
    "\n",
    "plt.rcParams[\"figure.figsize\"]=6,6"
   ]
  },
  {
   "cell_type": "markdown",
   "id": "d4d96cdc-2411-4226-87ec-325a98001da6",
   "metadata": {},
   "source": [
    "### GMM"
   ]
  },
  {
   "cell_type": "code",
   "execution_count": null,
   "id": "a9cf8b4b-d5e8-4b19-ac82-042ac1d4e653",
   "metadata": {},
   "outputs": [],
   "source": [
    "def gen_gauss_x(amp, centre, x, sig):\n",
    "    return amp * jnp.exp(-(x-centre)**2/(2*sig**2))\n",
    "\n",
    "gen_gauss_x_vmap = jax.vmap(gen_gauss_x, in_axes=(0, 0, None,None))\n",
    "\n",
    "def pts2img(amp, pts, x_grid, sig):\n",
    "    p_x = gen_gauss_x_vmap(amp, pts[:,0], x_grid, sig)\n",
    "    p_y = gen_gauss_x_vmap(jnp.ones(amp.shape), pts[:,1], x_grid, sig) \n",
    "    return jnp.matmul(p_x.transpose(), p_y).transpose() \n",
    "\n",
    "#pts2img_vmap = jax.vmap(pts2img_one, in_axes=0)\n",
    "\n",
    "def rotate_and_project_gmm(amp, theta, pts, x_grid, sig):\n",
    "    R = jnp.array([[jnp.cos(theta), -jnp.sin(theta)], [jnp.sin(theta), jnp.cos(theta)]])\n",
    "    pts = (R @ pts.transpose()).transpose()\n",
    "    img = pts2img(amp, pts, x_grid, sig)\n",
    "    proj = jnp.sum(img, axis=0)\n",
    "    \n",
    "    return proj, img, pts"
   ]
  },
  {
   "cell_type": "code",
   "execution_count": null,
   "id": "32c0524f-ce86-4da4-8924-0e0c3c28d6c3",
   "metadata": {},
   "outputs": [],
   "source": [
    "nx = image.shape[0]\n",
    "x_grid = jnp.fft.fftshift(jnp.fft.fftfreq(nx))\n",
    "sigma = 0.005\n",
    "amp = 10 + jnp.array(np.random.randn(nx*nx))\n",
    "\n",
    "rotate_and_project_args = {\"x_grid\" : x_grid, \"sig\" : sigma }"
   ]
  },
  {
   "cell_type": "code",
   "execution_count": null,
   "id": "bacc0dda-d863-45f8-91ba-1a2606810bb9",
   "metadata": {},
   "outputs": [],
   "source": [
    "X, Y = jnp.meshgrid(x_grid, x_grid)\n",
    "pts = jnp.array([X.ravel(), Y.ravel()]).transpose()"
   ]
  },
  {
   "cell_type": "code",
   "execution_count": null,
   "id": "08c7b849-8205-42bf-8301-88f7fb50c116",
   "metadata": {},
   "outputs": [],
   "source": [
    "grid_obj = np.array([x_grid[1]-x_grid[0], nx])\n",
    "mask = jnp.fft.fftshift(create_2d_mask(grid_obj, (0,0), 0.45))"
   ]
  },
  {
   "cell_type": "code",
   "execution_count": null,
   "id": "aeffa1dd-1b2d-4fa5-91e9-8ff1af2fbacf",
   "metadata": {},
   "outputs": [],
   "source": [
    "img = pts2img(amp, pts, x_grid, sigma)"
   ]
  },
  {
   "cell_type": "code",
   "execution_count": null,
   "id": "8050a367-0074-4744-bcfa-7d11a2e7c67e",
   "metadata": {},
   "outputs": [],
   "source": [
    "plt.imshow(img*mask); plt.colorbar()"
   ]
  },
  {
   "cell_type": "code",
   "execution_count": null,
   "id": "39d60a88-c67f-4e5a-ba11-6e68a85cb777",
   "metadata": {},
   "outputs": [],
   "source": [
    "theta = jnp.pi/4\n",
    "proj, img_rot, pts_rot = rotate_and_project_gmm(amp, theta, pts, x_grid, sigma)\n",
    "plt.imshow(mask*img_rot); plt.colorbar()"
   ]
  },
  {
   "cell_type": "code",
   "execution_count": null,
   "id": "b843009a-d770-4439-a436-ffe2eb3c09a6",
   "metadata": {},
   "outputs": [],
   "source": [
    "fwd_model, fwd_model_vmap = get_fwd_model(pts, rotate_and_project_gmm, rotate_and_project_args)\n",
    "\n",
    "N = sinogram.shape[1]\n",
    "sig_noise = 1000\n",
    "\n",
    "#thetas = jnp.linspace(0., 2*jnp.pi, N)\n",
    "\n",
    "data = sinogram.transpose() #fwd_model_vmap(amp, thetas) \n",
    "data_noisy = data + np.random.randn(N, nx) * sig_noise\n",
    "\n",
    "SNR = jnp.sum(data**2)/jnp.sum(data_noisy**2)\n",
    "print(f\"max(data) = {jnp.max(data)}\")\n",
    "print(f\"SNR = {SNR}\")"
   ]
  },
  {
   "cell_type": "code",
   "execution_count": null,
   "id": "57017fa1-612a-434d-a161-52980ba6ea86",
   "metadata": {},
   "outputs": [],
   "source": [
    "plt.imshow(data)"
   ]
  },
  {
   "cell_type": "code",
   "execution_count": null,
   "id": "e3a1e136-01b5-4567-add1-8a34a1c704e1",
   "metadata": {},
   "outputs": [],
   "source": [
    "loss_func, grad_loss_func = get_loss_function(fwd_model_vmap, thetas, data)"
   ]
  },
  {
   "cell_type": "code",
   "execution_count": null,
   "id": "ac9b7121-de23-4957-b09f-73efb763d39e",
   "metadata": {},
   "outputs": [],
   "source": [
    "from src.algorithm import conjugate_gradient"
   ]
  },
  {
   "cell_type": "code",
   "execution_count": null,
   "id": "96e92e50-fa49-4372-b9fc-74eda63e9a48",
   "metadata": {},
   "outputs": [],
   "source": [
    "zero = jnp.zeros(nx**2)\n",
    "Ab = - grad_loss_func(zero)\n",
    "AA = lambda v : grad_loss_func(v) + Ab\n",
    "\n",
    "x0 = jnp.zeros(amp.shape)\n",
    "\n",
    "x0_cg = conjugate_gradient(AA, Ab, x0, 10, verbose=True)"
   ]
  },
  {
   "cell_type": "code",
   "execution_count": null,
   "id": "c2f43d57-e7f0-439a-aec5-c356a9ad6917",
   "metadata": {},
   "outputs": [],
   "source": [
    "N_iters = 200\n",
    "alpha = 2\n",
    "\n",
    "x0 = jnp.zeros(amp.shape)\n",
    "\n",
    "for i in range(N_iters):\n",
    "    grad = grad_loss_func(x0)\n",
    "    if jnp.mod(i, 10) == 0:\n",
    "        #err = jnp.abs(amp-x0).reshape([nx,nx]) * mask\n",
    "        err = jnp.abs(grad)\n",
    "        \n",
    "        print(jnp.sqrt(jnp.sum(err**2)))\n",
    "        \n",
    "    x0 = x0 - alpha * grad\n",
    "    \n",
    "rec_gmm = pts2img(x0, pts, x_grid, sigma)\n",
    "err_gmm = jnp.abs(rec_gmm - image)\n",
    "print(f\"Error = {jnp.max(err_gmm)}\")"
   ]
  },
  {
   "cell_type": "code",
   "execution_count": null,
   "id": "921e478a-8cd7-4a52-94d1-86a00599e0d0",
   "metadata": {},
   "outputs": [],
   "source": [
    "plt.rcParams[\"figure.figsize\"]=12,6\n",
    "\n",
    "plt.subplot(1,2,1)\n",
    "plt.imshow(rec_gmm); plt.colorbar()\n",
    "\n",
    "plt.subplot(1,2,2)\n",
    "plt.imshow(err_gmm); plt.colorbar()\n",
    "\n",
    "plt.rcParams[\"figure.figsize\"]=6,6"
   ]
  },
  {
   "cell_type": "markdown",
   "id": "b1979ace-8fc2-4e98-8a80-b11ae8e19e05",
   "metadata": {},
   "source": [
    "### Fourier"
   ]
  },
  {
   "cell_type": "code",
   "execution_count": null,
   "id": "995b190e-1532-48e4-98e4-222e79a90b6a",
   "metadata": {},
   "outputs": [],
   "source": [
    "img_f = jnp.fft.fft2(jnp.fft.ifftshift(image)) #*jnp.fft.fftshift(mask)\n",
    "#img_f = img_f.at[0,0].set(0) #\n",
    "\n",
    "plt.imshow(jnp.fft.fftshift(jnp.abs(img_f))); plt.colorbar() "
   ]
  },
  {
   "cell_type": "code",
   "execution_count": null,
   "id": "2e711928-f63a-40ea-a5a7-0787728f30bb",
   "metadata": {},
   "outputs": [],
   "source": [
    "def rotate_and_project_f(img_f, theta, pts):\n",
    "    \"\"\"pts are the Fourier grid points, img_f is the image in Fourier, flattened\"\"\"\n",
    "    \n",
    "    nx = img_f.shape[0]\n",
    "\n",
    "    R = jnp.array([[jnp.cos(theta), -jnp.sin(theta)], [jnp.sin(theta), jnp.cos(theta)]])\n",
    "    pts_rot = R @ pts.transpose()\n",
    "    pts_rot = jnp.vstack([pts_rot, jnp.zeros((1,nx*nx))])\n",
    "    x_grid = np.array([1.0, nx])\n",
    "    \n",
    "    idx0 = nx*int(nx/2)\n",
    "    vol = jnp.zeros([nx,nx,nx], dtype=jnp.complex128)\n",
    "\n",
    "    vol = vol.at[:,:,int(nx/2)].set(jnp.fft.fftshift(img_f))\n",
    "    vol = jnp.fft.ifftshift(vol)\n",
    "    img = interpolate(pts_rot, x_grid, vol, 'tri')\n",
    "    \n",
    "    #print(pts[idx0:idx0+nx,:])\n",
    "\n",
    "    proj = img[idx0:idx0+nx]\n",
    "    \n",
    "    return proj, img, pts"
   ]
  },
  {
   "cell_type": "code",
   "execution_count": null,
   "id": "99f31763-2217-4e14-bf39-c862d909de4f",
   "metadata": {},
   "outputs": [],
   "source": [
    "# Get the Fourier grid\n",
    "x_grid_f = jnp.arange(-nx/2, nx/2)\n",
    "X, Y = jnp.meshgrid(x_grid_f, x_grid_f)\n",
    "pts = jnp.array([X.ravel(), Y.ravel()]).transpose()"
   ]
  },
  {
   "cell_type": "code",
   "execution_count": null,
   "id": "73e7b925-ccf1-448e-bcce-89b25c91ac2d",
   "metadata": {},
   "outputs": [],
   "source": [
    "theta = jnp.pi/4\n",
    "proj, img_rot, pts_rot = rotate_and_project_f(img_f, theta, pts)\n",
    "\n",
    "plt.imshow((jnp.abs(img_rot.reshape([nx,nx])))); plt.colorbar()"
   ]
  },
  {
   "cell_type": "code",
   "execution_count": null,
   "id": "3b9f6372-6d05-42cf-a7b7-0a606cf62558",
   "metadata": {},
   "outputs": [],
   "source": [
    "plt.imshow(jnp.fft.fftshift(jnp.abs(img_f))); plt.colorbar()"
   ]
  },
  {
   "cell_type": "code",
   "execution_count": null,
   "id": "d8fd586d-86cb-4614-bbd1-cb5a400089ae",
   "metadata": {},
   "outputs": [],
   "source": [
    "img_rot_r = jnp.real(jnp.fft.fftshift(jnp.fft.ifftn(jnp.fft.ifftshift(img_rot.reshape([nx,nx])))))\n",
    "plt.imshow(img_rot_r); plt.colorbar()"
   ]
  },
  {
   "cell_type": "code",
   "execution_count": null,
   "id": "9a70fed0-20e3-4468-bb17-d5cbd44c829e",
   "metadata": {},
   "outputs": [],
   "source": [
    "fwd_model, fwd_model_vmap = get_fwd_model(pts, rotate_and_project_f)\n",
    "\n",
    "N = sinogram.shape[1]\n",
    "sig_noise = 10000\n",
    "\n",
    "#thetas = 2 * jnp.pi * jnp.array(np.random.rand(N)) \n",
    "\n",
    "data = sinogram.transpose() #fwd_model_vmap(img_f, thetas) \n",
    "data_noisy = data + (np.random.randn(N, nx) + 1j*np.random.randn(N, nx))* sig_noise\n",
    "\n",
    "SNR = jnp.real(jnp.sum(jnp.conj(data)*data)/jnp.sum(jnp.conj(data_noisy)*data_noisy))\n",
    "print(f\"max(data) = {jnp.max(jnp.abs(data))}\")\n",
    "print(f\"SNR = {SNR}\")"
   ]
  },
  {
   "cell_type": "code",
   "execution_count": null,
   "id": "1401fef7-fcb3-4112-8b57-e26a589d8400",
   "metadata": {},
   "outputs": [],
   "source": [
    "loss_func, grad_loss_func = get_loss_function(fwd_model_vmap, thetas, data)"
   ]
  },
  {
   "cell_type": "code",
   "execution_count": null,
   "id": "e6a45b82-f9fa-4c7a-8977-15da921ce3b8",
   "metadata": {},
   "outputs": [],
   "source": [
    "N_iters = 1000\n",
    "alpha = 1e-1\n",
    "\n",
    "x0 = jnp.zeros(img_f.shape, dtype = jnp.complex128)\n",
    "#x0 = img_f + 1\n",
    "\n",
    "for i in range(N_iters):\n",
    "    if jnp.mod(i, 100) == 0:\n",
    "        err = jnp.abs(img_f-x0).reshape([nx,nx]) * mask\n",
    "\n",
    "        print(jnp.sqrt(jnp.sum(err**2)))\n",
    "        \n",
    "    x0 = x0 - alpha * grad_loss_func(x0)"
   ]
  },
  {
   "cell_type": "code",
   "execution_count": null,
   "id": "684f1628-c823-485b-b82e-976a4ebdeb49",
   "metadata": {},
   "outputs": [],
   "source": [
    "plt.imshow(jnp.fft.fftshift(jnp.abs(x0))); plt.colorbar()"
   ]
  },
  {
   "cell_type": "code",
   "execution_count": null,
   "id": "aeeb2e60-ed0e-4d90-b749-aa904e39ca1f",
   "metadata": {},
   "outputs": [],
   "source": [
    "plt.imshow(jnp.fft.fftshift(jnp.real(jnp.fft.ifftn(x0)))); plt.colorbar()"
   ]
  },
  {
   "cell_type": "code",
   "execution_count": null,
   "id": "62ed575e-bdda-48b0-b5fb-ac256f321873",
   "metadata": {},
   "outputs": [],
   "source": []
  }
 ],
 "metadata": {
  "kernelspec": {
   "display_name": "Python 3 (ipykernel)",
   "language": "python",
   "name": "python3"
  },
  "language_info": {
   "codemirror_mode": {
    "name": "ipython",
    "version": 3
   },
   "file_extension": ".py",
   "mimetype": "text/x-python",
   "name": "python",
   "nbconvert_exporter": "python",
   "pygments_lexer": "ipython3",
   "version": "3.10.2"
  }
 },
 "nbformat": 4,
 "nbformat_minor": 5
}
