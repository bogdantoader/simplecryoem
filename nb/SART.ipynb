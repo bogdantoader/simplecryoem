{
 "cells": [
  {
   "cell_type": "code",
   "execution_count": 1,
   "id": "d615177c-ed5e-419a-b125-38614e3130ab",
   "metadata": {},
   "outputs": [],
   "source": [
    "%load_ext autoreload\n",
    "%autoreload 2\n",
    "import site, sys, os, time\n",
    "site.addsitedir('..')\n",
    "from jax.config import config\n",
    "\n",
    "#config.update(\"jax_enable_x64\", True)"
   ]
  },
  {
   "cell_type": "code",
   "execution_count": 226,
   "id": "0aea442d-e48f-4745-a583-b9e679c25e02",
   "metadata": {},
   "outputs": [],
   "source": [
    "import numpy as np\n",
    "import jax.numpy as jnp\n",
    "from  matplotlib import pyplot as plt\n",
    "import jax\n",
    "from jax import random\n",
    "from src.utils import create_2d_mask"
   ]
  },
  {
   "cell_type": "markdown",
   "id": "d4d96cdc-2411-4226-87ec-325a98001da6",
   "metadata": {},
   "source": [
    "### GMM"
   ]
  },
  {
   "cell_type": "code",
   "execution_count": 209,
   "id": "a9cf8b4b-d5e8-4b19-ac82-042ac1d4e653",
   "metadata": {},
   "outputs": [],
   "source": [
    "def gen_gauss_x(amp, centre, x, sig):\n",
    "    return amp * jnp.exp(-(x-centre)**2/(2*sig**2))\n",
    "\n",
    "gen_gauss_x_vmap = jax.vmap(gen_gauss_x, in_axes=(0, 0, None,None))\n",
    "\n",
    "def pts2img(amp, pts, x_grid, sig):\n",
    "    p_x = gen_gauss_x_vmap(amp, pts[:,0], x_grid, sig)\n",
    "    p_y = gen_gauss_x_vmap(jnp.ones(amp.shape), pts[:,1], x_grid, sig) \n",
    "    return jnp.matmul(p_x.transpose(), p_y).transpose() \n",
    "\n",
    "#pts2img_vmap = jax.vmap(pts2img_one, in_axes=0)\n",
    "\n",
    "\n",
    "def rotate_and_project(amp, theta, pts, x_grid, sig):\n",
    "    R = jnp.array([[jnp.cos(theta), -jnp.sin(theta)], [jnp.sin(theta), jnp.cos(theta)]])\n",
    "    pts = (R @ pts.transpose()).transpose()\n",
    "    img = pts2img(amp, pts, x_grid, sig)\n",
    "    proj = jnp.sum(img, axis=0)\n",
    "    \n",
    "    return proj, img, pts"
   ]
  },
  {
   "cell_type": "code",
   "execution_count": 323,
   "id": "1a675921-379a-45c1-9add-88b7f1f8ecab",
   "metadata": {},
   "outputs": [],
   "source": [
    "def get_fwd_model(pts, x_grid, sig):\n",
    "    \n",
    "    @jax.jit\n",
    "    def fwd_model(amp, theta):\n",
    "        proj, _, _ = rotate_and_project(amp, theta, pts, x_grid, sig)\n",
    "        return proj\n",
    "    \n",
    "    fwd_model_vmap = jax.jit(jax.vmap(fwd_model, in_axes = (None, 0)))\n",
    "    \n",
    "    return fwd_model, fwd_model_vmap\n",
    "\n",
    "def get_loss_function(fwd_model_vmap, thetas, data):\n",
    "    \n",
    "    @jax.jit\n",
    "    def loss_func(amp): \n",
    "        err = fwd_model_vmap(amp, thetas) - data\n",
    "        return 1/2 * jnp.sum(err**2) / jnp.prod(jnp.array(err.shape))\n",
    "    \n",
    "    grad_loss_func = jax.jit(jax.grad(loss_func))\n",
    "    \n",
    "    return loss_func, grad_loss_func"
   ]
  },
  {
   "cell_type": "code",
   "execution_count": 264,
   "id": "32c0524f-ce86-4da4-8924-0e0c3c28d6c3",
   "metadata": {},
   "outputs": [],
   "source": [
    "nx = 32\n",
    "x_grid = jnp.fft.fftshift(jnp.fft.fftfreq(nx))\n",
    "sigma = 0.05\n",
    "amp = 10 + jnp.array(np.random.randn(nx*nx))\n"
   ]
  },
  {
   "cell_type": "code",
   "execution_count": 265,
   "id": "bacc0dda-d863-45f8-91ba-1a2606810bb9",
   "metadata": {},
   "outputs": [],
   "source": [
    "X, Y = jnp.meshgrid(x_grid, x_grid)\n",
    "pts = jnp.array([X.ravel(), Y.ravel()]).transpose()"
   ]
  },
  {
   "cell_type": "code",
   "execution_count": 266,
   "id": "08c7b849-8205-42bf-8301-88f7fb50c116",
   "metadata": {},
   "outputs": [],
   "source": [
    "grid_obj = np.array([x_grid[1]-x_grid[0], nx])\n",
    "mask = jnp.fft.fftshift(create_2d_mask(grid_obj, (0,0), 0.45))"
   ]
  },
  {
   "cell_type": "code",
   "execution_count": 267,
   "id": "aeffa1dd-1b2d-4fa5-91e9-8ff1af2fbacf",
   "metadata": {},
   "outputs": [],
   "source": [
    "img = pts2img(amp, pts, x_grid, sigma)"
   ]
  },
  {
   "cell_type": "code",
   "execution_count": 268,
   "id": "8050a367-0074-4744-bcfa-7d11a2e7c67e",
   "metadata": {},
   "outputs": [
    {
     "data": {
      "text/plain": [
       "<matplotlib.colorbar.Colorbar at 0x7fd5bb2b6e80>"
      ]
     },
     "execution_count": 268,
     "metadata": {},
     "output_type": "execute_result"
    },
    {
     "data": {
      "image/png": "[encoded data removed]",
      "text/plain": [
       "<Figure size 432x288 with 2 Axes>"
      ]
     },
     "metadata": {
      "needs_background": "light"
     },
     "output_type": "display_data"
    }
   ],
   "source": [
    "plt.imshow(img*mask); plt.colorbar()"
   ]
  },
  {
   "cell_type": "code",
   "execution_count": 270,
   "id": "39d60a88-c67f-4e5a-ba11-6e68a85cb777",
   "metadata": {},
   "outputs": [
    {
     "data": {
      "text/plain": [
       "<matplotlib.colorbar.Colorbar at 0x7fd5a82dcbe0>"
      ]
     },
     "execution_count": 270,
     "metadata": {},
     "output_type": "execute_result"
    },
    {
     "data": {
      "image/png": "[encoded data removed]",
      "text/plain": [
       "<Figure size 432x288 with 2 Axes>"
      ]
     },
     "metadata": {
      "needs_background": "light"
     },
     "output_type": "display_data"
    }
   ],
   "source": [
    "theta = jnp.pi/4\n",
    "proj, img_rot, pts_rot = rotate_and_project(amp, theta, pts, x_grid, sigma)\n",
    "plt.imshow(mask*img_rot); plt.colorbar()"
   ]
  },
  {
   "cell_type": "code",
   "execution_count": 392,
   "id": "b843009a-d770-4439-a436-ffe2eb3c09a6",
   "metadata": {},
   "outputs": [
    {
     "name": "stdout",
     "output_type": "stream",
     "text": [
      "0.16916986\n"
     ]
    }
   ],
   "source": [
    "N = 1000\n",
    "sig_noise = 10000\n",
    "\n",
    "thetas = 2 * jnp.pi * jnp.array(np.random.rand(N)) \n",
    "\n",
    "data = fwd_model_vmap(amp, thetas) \n",
    "data_noisy = data + np.random.randn(N, nx) * sig_noise\n",
    "#TODO: add noise\n",
    "\n",
    "SNR = jnp.sum(data**2)/jnp.sum(data_noisy**2)\n",
    "print(SNR)"
   ]
  },
  {
   "cell_type": "code",
   "execution_count": null,
   "id": "4028e9a3-77dc-4c1a-9ec4-e69595f0a334",
   "metadata": {},
   "outputs": [
    {
     "data": {
      "text/plain": [
       "DeviceArray(5190.147, dtype=float32)"
      ]
     },
     "execution_count": 394,
     "metadata": {},
     "output_type": "execute_result"
    }
   ],
   "source": [
    "jnp.max(data)"
   ]
  },
  {
   "cell_type": "code",
   "execution_count": 433,
   "id": "8a5189f7-90fc-43cb-8109-5ceb4c86d69d",
   "metadata": {},
   "outputs": [],
   "source": [
    "fwd_model, fwd_model_vmap = get_fwd_model(pts, x_grid, sigma)\n",
    "loss_func, grad_loss_func = get_loss_function(fwd_model_vmap, thetas, data)"
   ]
  },
  {
   "cell_type": "code",
   "execution_count": 434,
   "id": "c2f43d57-e7f0-439a-aec5-c356a9ad6917",
   "metadata": {},
   "outputs": [
    {
     "name": "stdout",
     "output_type": "stream",
     "text": [
      "258.17288\n",
      "203.83888\n",
      "160.65953\n",
      "126.4526\n",
      "99.4868\n",
      "78.395836\n",
      "62.10833\n",
      "49.786236\n",
      "40.76288\n",
      "34.473896\n",
      "30.389496\n",
      "27.979956\n",
      "26.739166\n",
      "26.239716\n",
      "26.167189\n",
      "26.315804\n",
      "26.562489\n",
      "26.838955\n",
      "27.110184\n",
      "27.360233\n"
     ]
    }
   ],
   "source": [
    "N_iters = 200\n",
    "alpha = 1e-4\n",
    "\n",
    "x0 = jnp.zeros(amp.shape)\n",
    "\n",
    "for i in range(N_iters):\n",
    "    if jnp.mod(i, 10) == 0:\n",
    "        err = jnp.abs(amp-x0).reshape([nx,nx]) * mask\n",
    "\n",
    "        print(jnp.sqrt(jnp.sum(err**2)))\n",
    "        \n",
    "    x0 = x0 - alpha * grad_loss_func(x0)"
   ]
  },
  {
   "cell_type": "code",
   "execution_count": 435,
   "id": "fdc13e85-80dc-4c6e-b6f9-927edf7f8e21",
   "metadata": {},
   "outputs": [
    {
     "name": "stdout",
     "output_type": "stream",
     "text": [
      "27.58354\n"
     ]
    },
    {
     "data": {
      "image/png": "[encoded data removed]",
      "text/plain": [
       "<Figure size 432x288 with 2 Axes>"
      ]
     },
     "metadata": {
      "needs_background": "light"
     },
     "output_type": "display_data"
    }
   ],
   "source": [
    "err = jnp.abs(amp-x0).reshape([nx,nx]) * mask\n",
    "plt.imshow(err); plt.colorbar()\n",
    "print(jnp.sqrt(jnp.sum(err**2)))"
   ]
  },
  {
   "cell_type": "code",
   "execution_count": 436,
   "id": "6eb6ead0-a954-422e-8f7d-855ec3b5b496",
   "metadata": {},
   "outputs": [],
   "source": [
    "img_rec = pts2img(x0, pts, x_grid, sigma)"
   ]
  },
  {
   "cell_type": "code",
   "execution_count": 437,
   "id": "d6a8a9dd-cf5b-4073-98e4-b0c430ec0f5a",
   "metadata": {},
   "outputs": [
    {
     "data": {
      "text/plain": [
       "<matplotlib.colorbar.Colorbar at 0x7fd5ca0d4280>"
      ]
     },
     "execution_count": 437,
     "metadata": {},
     "output_type": "execute_result"
    },
    {
     "data": {
      "image/png": "[encoded data removed]",
      "text/plain": [
       "<Figure size 432x288 with 2 Axes>"
      ]
     },
     "metadata": {
      "needs_background": "light"
     },
     "output_type": "display_data"
    }
   ],
   "source": [
    "plt.imshow(jnp.abs(img_rec-img)*mask); plt.colorbar()"
   ]
  },
  {
   "cell_type": "code",
   "execution_count": 438,
   "id": "0ec3c581-deef-4ce0-bd92-0d9cfea798a1",
   "metadata": {},
   "outputs": [
    {
     "data": {
      "text/plain": [
       "<matplotlib.image.AxesImage at 0x7fd5a4a7ed30>"
      ]
     },
     "execution_count": 438,
     "metadata": {},
     "output_type": "execute_result"
    },
    {
     "data": {
      "image/png": "[encoded data removed]",
      "text/plain": [
       "<Figure size 432x288 with 1 Axes>"
      ]
     },
     "metadata": {
      "needs_background": "light"
     },
     "output_type": "display_data"
    }
   ],
   "source": [
    "plt.imshow(img*mask)"
   ]
  },
  {
   "cell_type": "code",
   "execution_count": 439,
   "id": "921e478a-8cd7-4a52-94d1-86a00599e0d0",
   "metadata": {},
   "outputs": [
    {
     "data": {
      "text/plain": [
       "<matplotlib.image.AxesImage at 0x7fd5a4a6d160>"
      ]
     },
     "execution_count": 439,
     "metadata": {},
     "output_type": "execute_result"
    },
    {
     "data": {
      "image/png": "[encoded data removed]",
      "text/plain": [
       "<Figure size 432x288 with 1 Axes>"
      ]
     },
     "metadata": {
      "needs_background": "light"
     },
     "output_type": "display_data"
    }
   ],
   "source": [
    "plt.imshow(img_rec*mask)"
   ]
  },
  {
   "cell_type": "markdown",
   "id": "b1979ace-8fc2-4e98-8a80-b11ae8e19e05",
   "metadata": {},
   "source": [
    "### Fourier - in progress. should use my own code to do 2d bilinear interpolation"
   ]
  },
  {
   "cell_type": "code",
   "execution_count": 523,
   "id": "995b190e-1532-48e4-98e4-222e79a90b6a",
   "metadata": {},
   "outputs": [],
   "source": [
    "img_f = jnp.fft.fft2(jnp.fft.ifftshift(img))\n",
    "img_f = img_f.at[0,0].set(0)"
   ]
  },
  {
   "cell_type": "code",
   "execution_count": 525,
   "id": "a1464792-1500-49e5-b463-03da1b44df7e",
   "metadata": {},
   "outputs": [
    {
     "data": {
      "text/plain": [
       "<matplotlib.colorbar.Colorbar at 0x7fd5a51c3640>"
      ]
     },
     "execution_count": 525,
     "metadata": {},
     "output_type": "execute_result"
    },
    {
     "data": {
      "image/png": "[encoded data removed]",
      "text/plain": [
       "<Figure size 432x288 with 2 Axes>"
      ]
     },
     "metadata": {
      "needs_background": "light"
     },
     "output_type": "display_data"
    }
   ],
   "source": [
    "plt.imshow(jnp.abs(img_f)); plt.colorbar()"
   ]
  },
  {
   "cell_type": "code",
   "execution_count": 570,
   "id": "ab823aa0-9a7b-4f65-9fbd-466c80413fc3",
   "metadata": {},
   "outputs": [
    {
     "data": {
      "text/plain": [
       "DeviceArray(11, dtype=int32)"
      ]
     },
     "execution_count": 570,
     "metadata": {},
     "output_type": "execute_result"
    }
   ],
   "source": [
    "jax.scipy.ndimage.map_coordinates([[10,20,30],[11,21,31]],[0.5,0], order=1, mode='wrap')"
   ]
  },
  {
   "cell_type": "code",
   "execution_count": 579,
   "id": "72d372ca-435d-409a-900e-6e7d280a22c0",
   "metadata": {},
   "outputs": [
    {
     "name": "stdout",
     "output_type": "stream",
     "text": [
      "[[10, 20, 30], [11, 21, 31]]\n"
     ]
    },
    {
     "data": {
      "text/plain": [
       "array([20])"
      ]
     },
     "execution_count": 579,
     "metadata": {},
     "output_type": "execute_result"
    }
   ],
   "source": [
    "from scipy import ndimage\n",
    "a = [[10,20,30],[11,21,31]]\n",
    "print(a)\n",
    "ndimage.map_coordinates(a, [[0.4], [-1]], mode='wrap')"
   ]
  },
  {
   "cell_type": "code",
   "execution_count": null,
   "id": "2e711928-f63a-40ea-a5a7-0787728f30bb",
   "metadata": {},
   "outputs": [],
   "source": [
    "#\n",
    "\n",
    "def rotate_and_project_f(vol_f, theta, pts):\n",
    "    \"\"\"pts are the Fourier grid points, vol_f is the volume in Fourier, flattened\"\"\"\n",
    "    \n",
    "    R = jnp.array([[jnp.cos(theta), -jnp.sin(theta)], [jnp.sin(theta), jnp.cos(theta)]])\n",
    "    pts = (R @ pts.transpose()).transpose()\n",
    "    \n",
    "    \n",
    "    img = pts2img(amp, pts, x_grid, sig)\n",
    "    proj = jnp.sum(img, axis=0)\n",
    "    \n",
    "    return proj, img, pts"
   ]
  }
 ],
 "metadata": {
  "kernelspec": {
   "display_name": "Python 3 (ipykernel)",
   "language": "python",
   "name": "python3"
  },
  "language_info": {
   "codemirror_mode": {
    "name": "ipython",
    "version": 3
   },
   "file_extension": ".py",
   "mimetype": "text/x-python",
   "name": "python",
   "nbconvert_exporter": "python",
   "pygments_lexer": "ipython3",
   "version": "3.9.7"
  }
 },
 "nbformat": 4,
 "nbformat_minor": 5
}
