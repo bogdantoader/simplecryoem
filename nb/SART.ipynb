{
 "cells": [
  {
   "cell_type": "code",
   "execution_count": 1,
   "id": "d615177c-ed5e-419a-b125-38614e3130ab",
   "metadata": {},
   "outputs": [],
   "source": [
    "%load_ext autoreload\n",
    "%autoreload 2\n",
    "import site, sys, os, time\n",
    "site.addsitedir('..')\n",
    "from jax.config import config\n",
    "\n",
    "config.update(\"jax_enable_x64\", True)"
   ]
  },
  {
   "cell_type": "code",
   "execution_count": 2,
   "id": "0aea442d-e48f-4745-a583-b9e679c25e02",
   "metadata": {},
   "outputs": [],
   "source": [
    "import numpy as np\n",
    "import jax.numpy as jnp\n",
    "from  matplotlib import pyplot as plt\n",
    "import jax\n",
    "from jax import random\n",
    "from src.utils import create_2d_mask\n",
    "from src.interpolate import *"
   ]
  },
  {
   "cell_type": "code",
   "execution_count": 127,
   "id": "1a675921-379a-45c1-9add-88b7f1f8ecab",
   "metadata": {},
   "outputs": [],
   "source": [
    "def get_fwd_model(pts, rotate_and_project, args = {}):\n",
    "    \n",
    "    @jax.jit\n",
    "    def fwd_model(amp, theta):\n",
    "        proj, _, _ = rotate_and_project(amp, theta, pts, **args)\n",
    "        return proj\n",
    "    \n",
    "    fwd_model_vmap = jax.jit(jax.vmap(fwd_model, in_axes = (None, 0)))\n",
    "    \n",
    "    return fwd_model, fwd_model_vmap\n",
    "\n",
    "def get_loss_function(fwd_model_vmap, thetas, data):\n",
    "    \n",
    "    @jax.jit\n",
    "    def loss_func(amp): \n",
    "        err = fwd_model_vmap(amp, thetas) - data\n",
    "        return 1/2 * jnp.sum(jnp.real(jnp.conj(err)*err)) / jnp.prod(jnp.array(err.shape))\n",
    "    \n",
    "    grad_loss_func = jax.jit(jax.grad(loss_func))\n",
    "    \n",
    "    return loss_func, grad_loss_func"
   ]
  },
  {
   "cell_type": "markdown",
   "id": "d4d96cdc-2411-4226-87ec-325a98001da6",
   "metadata": {},
   "source": [
    "### GMM"
   ]
  },
  {
   "cell_type": "code",
   "execution_count": 4,
   "id": "a9cf8b4b-d5e8-4b19-ac82-042ac1d4e653",
   "metadata": {},
   "outputs": [],
   "source": [
    "def gen_gauss_x(amp, centre, x, sig):\n",
    "    return amp * jnp.exp(-(x-centre)**2/(2*sig**2))\n",
    "\n",
    "gen_gauss_x_vmap = jax.vmap(gen_gauss_x, in_axes=(0, 0, None,None))\n",
    "\n",
    "def pts2img(amp, pts, x_grid, sig):\n",
    "    p_x = gen_gauss_x_vmap(amp, pts[:,0], x_grid, sig)\n",
    "    p_y = gen_gauss_x_vmap(jnp.ones(amp.shape), pts[:,1], x_grid, sig) \n",
    "    return jnp.matmul(p_x.transpose(), p_y).transpose() \n",
    "\n",
    "#pts2img_vmap = jax.vmap(pts2img_one, in_axes=0)\n",
    "\n",
    "\n",
    "def rotate_and_project_gmm(amp, theta, pts, x_grid, sig):\n",
    "    R = jnp.array([[jnp.cos(theta), -jnp.sin(theta)], [jnp.sin(theta), jnp.cos(theta)]])\n",
    "    pts = (R @ pts.transpose()).transpose()\n",
    "    img = pts2img(amp, pts, x_grid, sig)\n",
    "    proj = jnp.sum(img, axis=0)\n",
    "    \n",
    "    return proj, img, pts"
   ]
  },
  {
   "cell_type": "code",
   "execution_count": 5,
   "id": "32c0524f-ce86-4da4-8924-0e0c3c28d6c3",
   "metadata": {},
   "outputs": [
    {
     "name": "stderr",
     "output_type": "stream",
     "text": [
      "WARNING:absl:No GPU/TPU found, falling back to CPU. (Set TF_CPP_MIN_LOG_LEVEL=0 and rerun for more info.)\n"
     ]
    }
   ],
   "source": [
    "nx = 32\n",
    "x_grid = jnp.fft.fftshift(jnp.fft.fftfreq(nx))\n",
    "sigma = 0.02\n",
    "amp = 10 + jnp.array(np.random.randn(nx*nx))\n",
    "\n",
    "rotate_and_project_args = {\"x_grid\" : x_grid, \"sig\" : sigma }"
   ]
  },
  {
   "cell_type": "code",
   "execution_count": 6,
   "id": "bacc0dda-d863-45f8-91ba-1a2606810bb9",
   "metadata": {},
   "outputs": [],
   "source": [
    "X, Y = jnp.meshgrid(x_grid, x_grid)\n",
    "pts = jnp.array([X.ravel(), Y.ravel()]).transpose()"
   ]
  },
  {
   "cell_type": "code",
   "execution_count": 7,
   "id": "08c7b849-8205-42bf-8301-88f7fb50c116",
   "metadata": {},
   "outputs": [],
   "source": [
    "grid_obj = np.array([x_grid[1]-x_grid[0], nx])\n",
    "mask = jnp.fft.fftshift(create_2d_mask(grid_obj, (0,0), 0.45))"
   ]
  },
  {
   "cell_type": "code",
   "execution_count": 8,
   "id": "aeffa1dd-1b2d-4fa5-91e9-8ff1af2fbacf",
   "metadata": {},
   "outputs": [],
   "source": [
    "img = pts2img(amp, pts, x_grid, sigma)"
   ]
  },
  {
   "cell_type": "code",
   "execution_count": 9,
   "id": "8050a367-0074-4744-bcfa-7d11a2e7c67e",
   "metadata": {},
   "outputs": [
    {
     "data": {
      "text/plain": [
       "<matplotlib.colorbar.Colorbar at 0x7fdafb43fdc0>"
      ]
     },
     "execution_count": 9,
     "metadata": {},
     "output_type": "execute_result"
    },
    {
     "data": {
      "image/png": "[encoded data removed]",
      "text/plain": [
       "<Figure size 432x288 with 2 Axes>"
      ]
     },
     "metadata": {
      "needs_background": "light"
     },
     "output_type": "display_data"
    }
   ],
   "source": [
    "plt.imshow(img*mask); plt.colorbar()"
   ]
  },
  {
   "cell_type": "code",
   "execution_count": 10,
   "id": "39d60a88-c67f-4e5a-ba11-6e68a85cb777",
   "metadata": {},
   "outputs": [
    {
     "data": {
      "text/plain": [
       "<matplotlib.colorbar.Colorbar at 0x7fdae85ac4c0>"
      ]
     },
     "execution_count": 10,
     "metadata": {},
     "output_type": "execute_result"
    },
    {
     "data": {
      "image/png": "[encoded data removed]",
      "text/plain": [
       "<Figure size 432x288 with 2 Axes>"
      ]
     },
     "metadata": {
      "needs_background": "light"
     },
     "output_type": "display_data"
    }
   ],
   "source": [
    "theta = jnp.pi/4\n",
    "proj, img_rot, pts_rot = rotate_and_project_gmm(amp, theta, pts, x_grid, sigma)\n",
    "plt.imshow(mask*img_rot); plt.colorbar()"
   ]
  },
  {
   "cell_type": "code",
   "execution_count": 12,
   "id": "b843009a-d770-4439-a436-ffe2eb3c09a6",
   "metadata": {},
   "outputs": [
    {
     "name": "stdout",
     "output_type": "stream",
     "text": [
      "max(data) = 846.3469189157887\n",
      "SNR = 0.34546888977882\n"
     ]
    }
   ],
   "source": [
    "fwd_model, fwd_model_vmap = get_fwd_model(pts, rotate_and_project_gmm, rotate_and_project_args)\n",
    "\n",
    "N = 1000\n",
    "sig_noise = 1000\n",
    "\n",
    "thetas = 2 * jnp.pi * jnp.array(np.random.rand(N)) \n",
    "\n",
    "data = fwd_model_vmap(amp, thetas) \n",
    "data_noisy = data + np.random.randn(N, nx) * sig_noise\n",
    "\n",
    "SNR = jnp.sum(data**2)/jnp.sum(data_noisy**2)\n",
    "print(f\"max(data) = {jnp.max(data)}\")\n",
    "print(f\"SNR = {SNR}\")"
   ]
  },
  {
   "cell_type": "code",
   "execution_count": 13,
   "id": "c2f43d57-e7f0-439a-aec5-c356a9ad6917",
   "metadata": {},
   "outputs": [
    {
     "name": "stdout",
     "output_type": "stream",
     "text": [
      "257.97995496570996\n",
      "26.37560670290118\n",
      "23.792052234971475\n",
      "22.481004628571814\n",
      "21.69404562045643\n",
      "21.13082236843061\n",
      "20.68049718499093\n",
      "20.29765469952216\n",
      "19.96058257975615\n",
      "19.657227534176233\n"
     ]
    }
   ],
   "source": [
    "loss_func, grad_loss_func = get_loss_function(fwd_model_vmap, thetas, data)\n",
    "\n",
    "N_iters = 100\n",
    "alpha = 2e-1\n",
    "\n",
    "x0 = jnp.zeros(amp.shape)\n",
    "\n",
    "for i in range(N_iters):\n",
    "    if jnp.mod(i, 10) == 0:\n",
    "        err = jnp.abs(amp-x0).reshape([nx,nx]) * mask\n",
    "\n",
    "        print(jnp.sqrt(jnp.sum(err**2)))\n",
    "        \n",
    "    x0 = x0 - alpha * grad_loss_func(x0)"
   ]
  },
  {
   "cell_type": "code",
   "execution_count": 14,
   "id": "fdc13e85-80dc-4c6e-b6f9-927edf7f8e21",
   "metadata": {},
   "outputs": [
    {
     "name": "stdout",
     "output_type": "stream",
     "text": [
      "19.38007636843135\n"
     ]
    },
    {
     "data": {
      "image/png": "[encoded data removed]",
      "text/plain": [
       "<Figure size 432x288 with 2 Axes>"
      ]
     },
     "metadata": {
      "needs_background": "light"
     },
     "output_type": "display_data"
    }
   ],
   "source": [
    "err = jnp.abs(amp-x0).reshape([nx,nx]) * mask\n",
    "plt.imshow(err); plt.colorbar()\n",
    "print(jnp.sqrt(jnp.sum(err**2)))"
   ]
  },
  {
   "cell_type": "code",
   "execution_count": 15,
   "id": "6eb6ead0-a954-422e-8f7d-855ec3b5b496",
   "metadata": {},
   "outputs": [],
   "source": [
    "img_rec = pts2img(x0, pts, x_grid, sigma)"
   ]
  },
  {
   "cell_type": "code",
   "execution_count": 16,
   "id": "d6a8a9dd-cf5b-4073-98e4-b0c430ec0f5a",
   "metadata": {},
   "outputs": [
    {
     "data": {
      "text/plain": [
       "<matplotlib.colorbar.Colorbar at 0x7fdb184f23a0>"
      ]
     },
     "execution_count": 16,
     "metadata": {},
     "output_type": "execute_result"
    },
    {
     "data": {
      "image/png": "[encoded data removed]",
      "text/plain": [
       "<Figure size 432x288 with 2 Axes>"
      ]
     },
     "metadata": {
      "needs_background": "light"
     },
     "output_type": "display_data"
    }
   ],
   "source": [
    "plt.imshow(jnp.abs(img_rec-img)*mask); plt.colorbar()"
   ]
  },
  {
   "cell_type": "code",
   "execution_count": 17,
   "id": "0ec3c581-deef-4ce0-bd92-0d9cfea798a1",
   "metadata": {},
   "outputs": [
    {
     "data": {
      "text/plain": [
       "<matplotlib.colorbar.Colorbar at 0x7fdb18610040>"
      ]
     },
     "execution_count": 17,
     "metadata": {},
     "output_type": "execute_result"
    },
    {
     "data": {
      "image/png": "[encoded data removed]",
      "text/plain": [
       "<Figure size 432x288 with 2 Axes>"
      ]
     },
     "metadata": {
      "needs_background": "light"
     },
     "output_type": "display_data"
    }
   ],
   "source": [
    "plt.imshow(img*mask); plt.colorbar()"
   ]
  },
  {
   "cell_type": "code",
   "execution_count": 18,
   "id": "921e478a-8cd7-4a52-94d1-86a00599e0d0",
   "metadata": {},
   "outputs": [
    {
     "data": {
      "text/plain": [
       "<matplotlib.colorbar.Colorbar at 0x7fdb18670430>"
      ]
     },
     "execution_count": 18,
     "metadata": {},
     "output_type": "execute_result"
    },
    {
     "data": {
      "image/png": "[encoded data removed]",
      "text/plain": [
       "<Figure size 432x288 with 2 Axes>"
      ]
     },
     "metadata": {
      "needs_background": "light"
     },
     "output_type": "display_data"
    }
   ],
   "source": [
    "plt.imshow(img_rec*mask); plt.colorbar()"
   ]
  },
  {
   "cell_type": "markdown",
   "id": "b1979ace-8fc2-4e98-8a80-b11ae8e19e05",
   "metadata": {},
   "source": [
    "### Fourier"
   ]
  },
  {
   "cell_type": "code",
   "execution_count": 19,
   "id": "995b190e-1532-48e4-98e4-222e79a90b6a",
   "metadata": {},
   "outputs": [],
   "source": [
    "img_f = jnp.fft.fft2(jnp.fft.ifftshift(img)) #*jnp.fft.fftshift(mask)\n",
    "#img_f = img_f.at[0,0].set(0) # "
   ]
  },
  {
   "cell_type": "code",
   "execution_count": 20,
   "id": "a1464792-1500-49e5-b463-03da1b44df7e",
   "metadata": {},
   "outputs": [
    {
     "data": {
      "text/plain": [
       "<matplotlib.colorbar.Colorbar at 0x7fdafb70ce80>"
      ]
     },
     "execution_count": 20,
     "metadata": {},
     "output_type": "execute_result"
    },
    {
     "data": {
      "image/png": "[encoded data removed]",
      "text/plain": [
       "<Figure size 432x288 with 2 Axes>"
      ]
     },
     "metadata": {
      "needs_background": "light"
     },
     "output_type": "display_data"
    }
   ],
   "source": [
    "plt.imshow(jnp.fft.fftshift(jnp.abs(img_f))); plt.colorbar()"
   ]
  },
  {
   "cell_type": "code",
   "execution_count": 135,
   "id": "2e711928-f63a-40ea-a5a7-0787728f30bb",
   "metadata": {},
   "outputs": [],
   "source": [
    "def rotate_and_project_f(img_f, theta, pts):\n",
    "    \"\"\"pts are the Fourier grid points, img_f is the image in Fourier, flattened\"\"\"\n",
    "    \n",
    "    nx = img_f.shape[0]\n",
    "\n",
    "    R = jnp.array([[jnp.cos(theta), -jnp.sin(theta)], [jnp.sin(theta), jnp.cos(theta)]])\n",
    "    pts_rot = R @ pts.transpose()\n",
    "    pts_rot = jnp.vstack([pts_rot, jnp.zeros((1,nx*nx))])\n",
    "    x_grid = np.array([1.0, nx])\n",
    "    \n",
    "    idx0 = nx*int(nx/2)\n",
    "    vol = jnp.zeros([nx,nx,nx], dtype=jnp.complex128)\n",
    "\n",
    "    vol = vol.at[:,:,int(nx/2)].set(jnp.fft.fftshift(img_f))\n",
    "    vol = jnp.fft.ifftshift(vol)\n",
    "    img = interpolate(pts_rot, x_grid, vol, 'tri')\n",
    "    \n",
    "    #print(pts[idx0:idx0+nx,:])\n",
    "\n",
    "    proj = img[idx0:idx0+nx]\n",
    "    \n",
    "    return proj, img, pts"
   ]
  },
  {
   "cell_type": "code",
   "execution_count": 103,
   "id": "99f31763-2217-4e14-bf39-c862d909de4f",
   "metadata": {},
   "outputs": [],
   "source": [
    "# Get the Fourier grid\n",
    "x_grid_f = jnp.arange(-nx/2, nx/2)\n",
    "X, Y = jnp.meshgrid(x_grid_f, x_grid_f)\n",
    "pts = jnp.array([X.ravel(), Y.ravel()]).transpose()"
   ]
  },
  {
   "cell_type": "code",
   "execution_count": 115,
   "id": "73e7b925-ccf1-448e-bcce-89b25c91ac2d",
   "metadata": {},
   "outputs": [
    {
     "name": "stdout",
     "output_type": "stream",
     "text": [
      "32\n"
     ]
    },
    {
     "data": {
      "text/plain": [
       "<matplotlib.colorbar.Colorbar at 0x7fdafca305b0>"
      ]
     },
     "execution_count": 115,
     "metadata": {},
     "output_type": "execute_result"
    },
    {
     "data": {
      "image/png": "[encoded data removed]",
      "text/plain": [
       "<Figure size 432x288 with 2 Axes>"
      ]
     },
     "metadata": {
      "needs_background": "light"
     },
     "output_type": "display_data"
    }
   ],
   "source": [
    "theta = jnp.pi/32\n",
    "proj, img_rot, pts_rot = rotate_and_project_f(img_f, theta, pts)\n",
    "\n",
    "plt.imshow((jnp.abs(img_rot.reshape([nx,nx])))); plt.colorbar()"
   ]
  },
  {
   "cell_type": "code",
   "execution_count": 116,
   "id": "3b9f6372-6d05-42cf-a7b7-0a606cf62558",
   "metadata": {},
   "outputs": [
    {
     "data": {
      "text/plain": [
       "<matplotlib.colorbar.Colorbar at 0x7fdae96ccc10>"
      ]
     },
     "execution_count": 116,
     "metadata": {},
     "output_type": "execute_result"
    },
    {
     "data": {
      "image/png": "[encoded data removed]",
      "text/plain": [
       "<Figure size 432x288 with 2 Axes>"
      ]
     },
     "metadata": {
      "needs_background": "light"
     },
     "output_type": "display_data"
    }
   ],
   "source": [
    "plt.imshow(jnp.fft.fftshift(jnp.abs(img_f))); plt.colorbar()"
   ]
  },
  {
   "cell_type": "code",
   "execution_count": 117,
   "id": "d8fd586d-86cb-4614-bbd1-cb5a400089ae",
   "metadata": {},
   "outputs": [
    {
     "data": {
      "text/plain": [
       "<matplotlib.colorbar.Colorbar at 0x7fdafcbe1940>"
      ]
     },
     "execution_count": 117,
     "metadata": {},
     "output_type": "execute_result"
    },
    {
     "data": {
      "image/png": "[encoded data removed]",
      "text/plain": [
       "<Figure size 432x288 with 2 Axes>"
      ]
     },
     "metadata": {
      "needs_background": "light"
     },
     "output_type": "display_data"
    }
   ],
   "source": [
    "img_rot_r = jnp.real(jnp.fft.fftshift(jnp.fft.ifftn(jnp.fft.ifftshift(img_rot.reshape([nx,nx])))))\n",
    "plt.imshow(img_rot_r*mask); plt.colorbar()"
   ]
  },
  {
   "cell_type": "code",
   "execution_count": 118,
   "id": "4343af99-d2f5-411e-8d7e-c6504393247f",
   "metadata": {},
   "outputs": [
    {
     "data": {
      "text/plain": [
       "<matplotlib.colorbar.Colorbar at 0x7fdb19866fa0>"
      ]
     },
     "execution_count": 118,
     "metadata": {},
     "output_type": "execute_result"
    },
    {
     "data": {
      "image/png": "[encoded data removed]",
      "text/plain": [
       "<Figure size 432x288 with 2 Axes>"
      ]
     },
     "metadata": {
      "needs_background": "light"
     },
     "output_type": "display_data"
    }
   ],
   "source": [
    "plt.imshow(img*mask); plt.colorbar()"
   ]
  },
  {
   "cell_type": "code",
   "execution_count": 128,
   "id": "9a70fed0-20e3-4468-bb17-d5cbd44c829e",
   "metadata": {},
   "outputs": [
    {
     "name": "stdout",
     "output_type": "stream",
     "text": [
      "32\n",
      "max(data) = 25743.85697818961\n",
      "SNR = 0.09309517405445825\n"
     ]
    }
   ],
   "source": [
    "fwd_model, fwd_model_vmap = get_fwd_model(pts, rotate_and_project_f)\n",
    "\n",
    "N = 1000\n",
    "sig_noise = 10000\n",
    "\n",
    "thetas = 2 * jnp.pi * jnp.array(np.random.rand(N)) \n",
    "\n",
    "data = fwd_model_vmap(img_f, thetas) \n",
    "data_noisy = data + (np.random.randn(N, nx) + 1j*np.random.randn(N, nx))* sig_noise\n",
    "\n",
    "SNR = jnp.real(jnp.sum(jnp.conj(data)*data)/jnp.sum(jnp.conj(data_noisy)*data_noisy))\n",
    "print(f\"max(data) = {jnp.max(jnp.abs(data))}\")\n",
    "print(f\"SNR = {SNR}\")"
   ]
  },
  {
   "cell_type": "code",
   "execution_count": 132,
   "id": "1401fef7-fcb3-4112-8b57-e26a589d8400",
   "metadata": {},
   "outputs": [],
   "source": [
    "loss_func, grad_loss_func = get_loss_function(fwd_model_vmap, thetas, data)"
   ]
  },
  {
   "cell_type": "code",
   "execution_count": null,
   "id": "e6a45b82-f9fa-4c7a-8977-15da921ce3b8",
   "metadata": {},
   "outputs": [
    {
     "name": "stdout",
     "output_type": "stream",
     "text": [
      "611.4840182325424\n",
      "611.4838962313074\n",
      "611.4837760037583\n",
      "611.4836575498819\n"
     ]
    }
   ],
   "source": [
    "N_iters = 100\n",
    "alpha = 1e-2\n",
    "\n",
    "x0 = jnp.zeros(img_f.shape, dtype = jnp.complex128)\n",
    "\n",
    "for i in range(N_iters):\n",
    "    if jnp.mod(i, 10) == 0:\n",
    "        err = jnp.abs(img_f-x0).reshape([nx,nx]) * mask\n",
    "\n",
    "        print(jnp.sqrt(jnp.sum(err**2)))\n",
    "        \n",
    "    x0 = x0 - alpha * grad_loss_func(x0)"
   ]
  },
  {
   "cell_type": "code",
   "execution_count": null,
   "id": "aeeb2e60-ed0e-4d90-b749-aa904e39ca1f",
   "metadata": {},
   "outputs": [],
   "source": []
  },
  {
   "cell_type": "code",
   "execution_count": null,
   "id": "f9e9e7e3-5786-4ff5-a92d-c560220f3fff",
   "metadata": {},
   "outputs": [],
   "source": []
  },
  {
   "cell_type": "code",
   "execution_count": null,
   "id": "91bd607b-326c-4437-a14b-659e491cc4c0",
   "metadata": {},
   "outputs": [],
   "source": []
  }
 ],
 "metadata": {
  "kernelspec": {
   "display_name": "Python 3 (ipykernel)",
   "language": "python",
   "name": "python3"
  },
  "language_info": {
   "codemirror_mode": {
    "name": "ipython",
    "version": 3
   },
   "file_extension": ".py",
   "mimetype": "text/x-python",
   "name": "python",
   "nbconvert_exporter": "python",
   "pygments_lexer": "ipython3",
   "version": "3.9.7"
  }
 },
 "nbformat": 4,
 "nbformat_minor": 5
}
