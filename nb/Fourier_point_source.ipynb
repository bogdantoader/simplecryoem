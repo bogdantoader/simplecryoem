{
 "cells": [
  {
   "cell_type": "markdown",
   "id": "f8e8e3c9-ab66-4ff9-b347-7d2c15542d95",
   "metadata": {},
   "source": [
    "# Fourier point source"
   ]
  },
  {
   "cell_type": "code",
   "execution_count": 42,
   "id": "b9a22671-7a44-440a-bd79-b55622f569cd",
   "metadata": {},
   "outputs": [
    {
     "name": "stdout",
     "output_type": "stream",
     "text": [
      "The autoreload extension is already loaded. To reload it, use:\n",
      "  %reload_ext autoreload\n"
     ]
    }
   ],
   "source": [
    "%load_ext autoreload\n",
    "%autoreload 2\n",
    "import site\n",
    "import sys\n",
    "site.addsitedir('..')"
   ]
  },
  {
   "cell_type": "code",
   "execution_count": 43,
   "id": "129d36b0-1635-4348-a116-87a8bc872f82",
   "metadata": {},
   "outputs": [],
   "source": [
    "import numpy as np\n",
    "from  matplotlib import pyplot as plt\n",
    "from src.utils import *\n",
    "from src.projection import project, rotate\n",
    "from src.interpolate import *"
   ]
  },
  {
   "cell_type": "markdown",
   "id": "f2abb380",
   "metadata": {},
   "source": [
    "## Important: in Fourier domain, the point is rotated in the fftshifted coordinates (i.e. 0 in the centre) - working now\n",
    "Now it's working, no need to do it step by step from the next header"
   ]
  },
  {
   "cell_type": "code",
   "execution_count": 44,
   "id": "157b064e-f7ea-4d9d-937d-7a3ddacdbb59",
   "metadata": {},
   "outputs": [
    {
     "data": {
      "text/plain": [
       "<matplotlib.image.AxesImage at 0x7f9d173e43d0>"
      ]
     },
     "execution_count": 44,
     "metadata": {},
     "output_type": "execute_result"
    },
    {
     "data": {
      "image/png": "[encoded data removed]",
      "text/plain": [
       "<Figure size 432x288 with 1 Axes>"
      ]
     },
     "metadata": {
      "needs_background": "light"
     },
     "output_type": "display_data"
    }
   ],
   "source": [
    "nx = 5\n",
    "dx = 0.2\n",
    "\n",
    "v = np.zeros([nx,nx,nx])\n",
    "v[2,2,1] = 1\n",
    "#v[1,1,0] = 1\n",
    "\n",
    "plt.imshow(v[:,:,1])"
   ]
  },
  {
   "cell_type": "code",
   "execution_count": 45,
   "id": "e5ba4557-72bb-45f3-a2d5-892a7258fb71",
   "metadata": {},
   "outputs": [],
   "source": [
    "x_freq = np.fft.fftfreq(nx, dx)\n",
    "y_freq = np.fft.fftfreq(nx, dx)\n",
    "z_freq = np.fft.fftfreq(nx, dx)\n",
    "\n",
    "X, Y, Z = np.meshgrid(x_freq, y_freq, z_freq, indexing = 'xy')"
   ]
  },
  {
   "cell_type": "markdown",
   "id": "dbad344e-b9f2-492d-819f-66b6548025f3",
   "metadata": {},
   "source": [
    "### Do the steps in project"
   ]
  },
  {
   "cell_type": "code",
   "execution_count": 50,
   "id": "e78a4815-4939-4661-8b2f-323ee6b7865b",
   "metadata": {},
   "outputs": [
    {
     "data": {
      "text/plain": [
       "<matplotlib.image.AxesImage at 0x7f9d17722490>"
      ]
     },
     "execution_count": 50,
     "metadata": {},
     "output_type": "execute_result"
    },
    {
     "data": {
      "image/png": "[encoded data removed]",
      "text/plain": [
       "<Figure size 432x288 with 1 Axes>"
      ]
     },
     "metadata": {
      "needs_background": "light"
     },
     "output_type": "display_data"
    }
   ],
   "source": [
    "nx = 5\n",
    "dx = 0.2\n",
    "\n",
    "v = np.zeros([nx,nx,nx])\n",
    "v[0,2,2] = 1\n",
    "\n",
    "x_freq = np.fft.fftfreq(nx, dx)\n",
    "y_freq = np.fft.fftfreq(nx, dx)\n",
    "z_freq = np.fft.fftfreq(nx, dx)\n",
    "\n",
    "X, Y, Z = np.meshgrid(x_freq, y_freq, z_freq, indexing = 'xy')\n",
    "\n",
    "plt.imshow(v[:,:,2])"
   ]
  },
  {
   "cell_type": "code",
   "execution_count": 51,
   "id": "3afd899f-d480-4057-9a77-6500553ba9a3",
   "metadata": {},
   "outputs": [],
   "source": [
    "angles = np.array([0,0,np.pi/4])\n",
    "X_r, Y_r,Z_r = rotate(X, Y, Z, angles)\n",
    "slice_coords = np.array([X_r[:,:,0].flatten(), Y_r[:,:,0].flatten(), Z_r[:,:,0].flatten()])"
   ]
  },
  {
   "cell_type": "code",
   "execution_count": 52,
   "id": "5e204c41-4bca-4dae-92d9-f396a71db9db",
   "metadata": {},
   "outputs": [],
   "source": [
    "slice_interp = interpolate(slice_coords, x_freq, y_freq, z_freq, np.fft.ifftshift(v),\"tri\")\n",
    "slice_interp_2d = np.fft.fftshift(slice_interp.reshape(X_r.shape[0], X_r.shape[1]))"
   ]
  },
  {
   "cell_type": "code",
   "execution_count": 53,
   "id": "54e89916-8c7c-4652-a58a-e48bb99b9f57",
   "metadata": {},
   "outputs": [
    {
     "data": {
      "text/plain": [
       "<matplotlib.colorbar.Colorbar at 0x7f9d17a22d00>"
      ]
     },
     "execution_count": 53,
     "metadata": {},
     "output_type": "execute_result"
    },
    {
     "data": {
      "image/png": "[encoded data removed]",
      "text/plain": [
       "<Figure size 432x288 with 2 Axes>"
      ]
     },
     "metadata": {
      "needs_background": "light"
     },
     "output_type": "display_data"
    }
   ],
   "source": [
    "plt.imshow(slice_interp_2d); plt.colorbar()"
   ]
  },
  {
   "cell_type": "code",
   "execution_count": 54,
   "id": "83a81859-2d89-48db-a005-b8acd704efbf",
   "metadata": {},
   "outputs": [
    {
     "data": {
      "text/plain": [
       "array([[ 1.20710678,  0.3017767 ,  0.        ,  0.        ,  0.        ],\n",
       "       [ 0.3017767 ,  0.41421356,  0.        ,  0.        ,  0.        ],\n",
       "       [ 0.        ,  0.        ,  0.        ,  0.        ,  0.        ],\n",
       "       [ 0.        ,  0.        ,  0.        ,  0.        , -0.00888348],\n",
       "       [ 0.        ,  0.        ,  0.        , -0.00888348, -0.20710678]])"
      ]
     },
     "execution_count": 54,
     "metadata": {},
     "output_type": "execute_result"
    }
   ],
   "source": [
    "slice_interp_2d"
   ]
  },
  {
   "cell_type": "code",
   "execution_count": null,
   "id": "b37d6d67-65e1-4aff-92ef-eea703da3466",
   "metadata": {},
   "outputs": [],
   "source": []
  }
 ],
 "metadata": {
  "kernelspec": {
   "display_name": "Python 3 (ipykernel)",
   "language": "python",
   "name": "python3"
  },
  "language_info": {
   "codemirror_mode": {
    "name": "ipython",
    "version": 3
   },
   "file_extension": ".py",
   "mimetype": "text/x-python",
   "name": "python",
   "nbconvert_exporter": "python",
   "pygments_lexer": "ipython3",
   "version": "3.8.8"
  }
 },
 "nbformat": 4,
 "nbformat_minor": 5
}
