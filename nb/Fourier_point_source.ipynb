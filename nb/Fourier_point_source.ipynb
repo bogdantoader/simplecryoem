{
 "cells": [
  {
   "cell_type": "markdown",
   "id": "f8e8e3c9-ab66-4ff9-b347-7d2c15542d95",
   "metadata": {},
   "source": [
    "# Fourier point source"
   ]
  },
  {
   "cell_type": "code",
   "execution_count": 1,
   "id": "b9a22671-7a44-440a-bd79-b55622f569cd",
   "metadata": {},
   "outputs": [],
   "source": [
    "%load_ext autoreload\n",
    "%autoreload 2\n",
    "import site\n",
    "import sys\n",
    "site.addsitedir('..')"
   ]
  },
  {
   "cell_type": "code",
   "execution_count": 2,
   "id": "129d36b0-1635-4348-a116-87a8bc872f82",
   "metadata": {},
   "outputs": [],
   "source": [
    "import numpy as np\n",
    "from  matplotlib import pyplot as plt\n",
    "from src.utils import *\n",
    "from src.projection import project, rotate\n",
    "from src.interpolate import *"
   ]
  },
  {
   "cell_type": "markdown",
   "id": "f2abb380",
   "metadata": {},
   "source": [
    "## Important: in Fourier domain, the point is rotated in the fftshifted coordinates (i.e. 0 in the centre) - working now\n",
    "Now it's working, no need to do it step by step from the next header"
   ]
  },
  {
   "cell_type": "code",
   "execution_count": 3,
   "id": "157b064e-f7ea-4d9d-937d-7a3ddacdbb59",
   "metadata": {},
   "outputs": [
    {
     "data": {
      "text/plain": [
       "<matplotlib.image.AxesImage at 0x124dc5c70>"
      ]
     },
     "execution_count": 3,
     "metadata": {},
     "output_type": "execute_result"
    },
    {
     "data": {
      "image/png": "[encoded data removed]",
      "text/plain": [
       "<Figure size 432x288 with 1 Axes>"
      ]
     },
     "metadata": {
      "needs_background": "light"
     },
     "output_type": "display_data"
    }
   ],
   "source": [
    "nx = 5\n",
    "\n",
    "v = np.zeros([nx,nx,nx])\n",
    "v[3,2,2] = 1\n",
    "#v[1,1,0] = 1\n",
    "\n",
    "plt.imshow(v[:,:,2])"
   ]
  },
  {
   "cell_type": "code",
   "execution_count": 4,
   "id": "e5ba4557-72bb-45f3-a2d5-892a7258fb71",
   "metadata": {},
   "outputs": [],
   "source": [
    "x_freq = np.fft.fftfreq(nx)\n",
    "y_freq = np.fft.fftfreq(nx)\n",
    "z_freq = np.fft.fftfreq(nx)\n",
    "\n",
    "X, Y, Z = np.meshgrid(x_freq, y_freq, z_freq, indexing = 'xy')\n"
   ]
  },
  {
   "cell_type": "code",
   "execution_count": 7,
   "id": "cbf8ba59-32ca-4fdb-b4bd-848a61e5b645",
   "metadata": {},
   "outputs": [
    {
     "data": {
      "text/plain": [
       "<matplotlib.colorbar.Colorbar at 0x125075070>"
      ]
     },
     "execution_count": 7,
     "metadata": {},
     "output_type": "execute_result"
    },
    {
     "data": {
      "image/png": "[encoded data removed]",
      "text/plain": [
       "<Figure size 432x288 with 2 Axes>"
      ]
     },
     "metadata": {
      "needs_background": "light"
     },
     "output_type": "display_data"
    }
   ],
   "source": [
    "angles = np.array([0,0,np.pi/4])\n",
    "\n",
    "vp, Xp, Yp, Zp = project(np.fft.ifftshift(v), X, Y, Z, angles, \"tri\")\n",
    "plt.imshow(np.fft.fftshift(vp))\n",
    "plt.colorbar()"
   ]
  },
  {
   "cell_type": "markdown",
   "id": "dbad344e-b9f2-492d-819f-66b6548025f3",
   "metadata": {},
   "source": [
    "### Do the steps in project"
   ]
  },
  {
   "cell_type": "markdown",
   "id": "655e93a9-cb4c-407f-bb8e-32907aa1ce1c",
   "metadata": {},
   "source": [
    "So far: angles = 0 is OK"
   ]
  },
  {
   "cell_type": "code",
   "execution_count": 119,
   "id": "3afd899f-d480-4057-9a77-6500553ba9a3",
   "metadata": {},
   "outputs": [],
   "source": [
    "angles = np.array([0,0,0])\n",
    "\n",
    "\n",
    "X_r, Y_r,Z_r = rotate(X, Y, Z, angles)"
   ]
  },
  {
   "cell_type": "code",
   "execution_count": 120,
   "id": "57737622-25a0-4d54-9abf-df99c55da0f7",
   "metadata": {},
   "outputs": [
    {
     "data": {
      "text/plain": [
       "<matplotlib.colorbar.Colorbar at 0x11cdc0be0>"
      ]
     },
     "execution_count": 120,
     "metadata": {},
     "output_type": "execute_result"
    },
    {
     "data": {
      "image/png": "[encoded data removed]",
      "text/plain": [
       "<Figure size 432x288 with 2 Axes>"
      ]
     },
     "metadata": {
      "needs_background": "light"
     },
     "output_type": "display_data"
    }
   ],
   "source": [
    "plt.imshow((X_r[:,:,0])); plt.colorbar()"
   ]
  },
  {
   "cell_type": "code",
   "execution_count": 121,
   "id": "9dd695cb-4d91-4718-abc4-61d4dac42c5e",
   "metadata": {},
   "outputs": [
    {
     "data": {
      "text/plain": [
       "<matplotlib.colorbar.Colorbar at 0x11ce301c0>"
      ]
     },
     "execution_count": 121,
     "metadata": {},
     "output_type": "execute_result"
    },
    {
     "data": {
      "image/png": "[encoded data removed]",
      "text/plain": [
       "<Figure size 432x288 with 2 Axes>"
      ]
     },
     "metadata": {
      "needs_background": "light"
     },
     "output_type": "display_data"
    }
   ],
   "source": [
    "plt.imshow((Y_r[:,:,0])); plt.colorbar()"
   ]
  },
  {
   "cell_type": "code",
   "execution_count": 122,
   "id": "c6ddbcc7-1cf1-4b3d-81f6-b1923e4d4804",
   "metadata": {},
   "outputs": [
    {
     "data": {
      "text/plain": [
       "array([[ 0. ,  0. ,  0. ],\n",
       "       [ 0.2,  0. ,  0. ],\n",
       "       [ 0.4,  0. ,  0. ],\n",
       "       [-0.4,  0. ,  0. ],\n",
       "       [-0.2,  0. ,  0. ],\n",
       "       [ 0. ,  0.2,  0. ],\n",
       "       [ 0.2,  0.2,  0. ],\n",
       "       [ 0.4,  0.2,  0. ],\n",
       "       [-0.4,  0.2,  0. ],\n",
       "       [-0.2,  0.2,  0. ],\n",
       "       [ 0. ,  0.4,  0. ],\n",
       "       [ 0.2,  0.4,  0. ],\n",
       "       [ 0.4,  0.4,  0. ],\n",
       "       [-0.4,  0.4,  0. ],\n",
       "       [-0.2,  0.4,  0. ],\n",
       "       [ 0. , -0.4,  0. ],\n",
       "       [ 0.2, -0.4,  0. ],\n",
       "       [ 0.4, -0.4,  0. ],\n",
       "       [-0.4, -0.4,  0. ],\n",
       "       [-0.2, -0.4,  0. ],\n",
       "       [ 0. , -0.2,  0. ],\n",
       "       [ 0.2, -0.2,  0. ],\n",
       "       [ 0.4, -0.2,  0. ],\n",
       "       [-0.4, -0.2,  0. ],\n",
       "       [-0.2, -0.2,  0. ]])"
      ]
     },
     "execution_count": 122,
     "metadata": {},
     "output_type": "execute_result"
    }
   ],
   "source": [
    "slice_coords = np.array([X_r[:,:,0].flatten(), Y_r[:,:,0].flatten(), Z_r[:,:,0].flatten()])\n",
    "slice_coords.T"
   ]
  },
  {
   "cell_type": "code",
   "execution_count": 123,
   "id": "49ed7130-6203-4838-ba88-11412782dfa4",
   "metadata": {},
   "outputs": [
    {
     "data": {
      "text/plain": [
       "array([[ 0. ,  0.2,  0.4, -0.4, -0.2],\n",
       "       [ 0. ,  0.2,  0.4, -0.4, -0.2],\n",
       "       [ 0. ,  0.2,  0.4, -0.4, -0.2],\n",
       "       [ 0. ,  0.2,  0.4, -0.4, -0.2],\n",
       "       [ 0. ,  0.2,  0.4, -0.4, -0.2]])"
      ]
     },
     "execution_count": 123,
     "metadata": {},
     "output_type": "execute_result"
    }
   ],
   "source": [
    "X_r[:,:,0]"
   ]
  },
  {
   "cell_type": "code",
   "execution_count": 124,
   "id": "26fcf660-e3fc-42a2-9390-f3bb02ca9e49",
   "metadata": {},
   "outputs": [
    {
     "data": {
      "text/plain": [
       "array([[ 0. ,  0. ,  0. ,  0. ,  0. ],\n",
       "       [ 0.2,  0.2,  0.2,  0.2,  0.2],\n",
       "       [ 0.4,  0.4,  0.4,  0.4,  0.4],\n",
       "       [-0.4, -0.4, -0.4, -0.4, -0.4],\n",
       "       [-0.2, -0.2, -0.2, -0.2, -0.2]])"
      ]
     },
     "execution_count": 124,
     "metadata": {},
     "output_type": "execute_result"
    }
   ],
   "source": [
    "Y_r[:,:,0]"
   ]
  },
  {
   "cell_type": "code",
   "execution_count": 125,
   "id": "1061838d-649f-41b6-bc6c-7a7b71d3669f",
   "metadata": {},
   "outputs": [
    {
     "data": {
      "text/plain": [
       "array([[ 0. ,  0.2,  0.4, -0.4, -0.2],\n",
       "       [ 0. ,  0.2,  0.4, -0.4, -0.2],\n",
       "       [ 0. ,  0.2,  0.4, -0.4, -0.2],\n",
       "       [ 0. ,  0.2,  0.4, -0.4, -0.2],\n",
       "       [ 0. ,  0.2,  0.4, -0.4, -0.2]])"
      ]
     },
     "execution_count": 125,
     "metadata": {},
     "output_type": "execute_result"
    }
   ],
   "source": [
    "X[:,:,0]"
   ]
  },
  {
   "cell_type": "code",
   "execution_count": 100,
   "id": "3a74ba95-5154-4195-a98e-d4f098c5232c",
   "metadata": {},
   "outputs": [
    {
     "data": {
      "text/plain": [
       "array([[ 0. ,  0. ,  0. ,  0. ,  0. ],\n",
       "       [ 0.2,  0.2,  0.2,  0.2,  0.2],\n",
       "       [ 0.4,  0.4,  0.4,  0.4,  0.4],\n",
       "       [-0.4, -0.4, -0.4, -0.4, -0.4],\n",
       "       [-0.2, -0.2, -0.2, -0.2, -0.2]])"
      ]
     },
     "execution_count": 100,
     "metadata": {},
     "output_type": "execute_result"
    }
   ],
   "source": [
    "Y[:,:,0]"
   ]
  },
  {
   "cell_type": "code",
   "execution_count": 101,
   "id": "41c80a90-e058-48b4-9126-3a916a3bce89",
   "metadata": {},
   "outputs": [
    {
     "data": {
      "text/plain": [
       "array([[0., 0., 0., 0., 0.],\n",
       "       [0., 0., 0., 0., 0.],\n",
       "       [0., 0., 0., 1., 0.],\n",
       "       [0., 0., 0., 0., 0.],\n",
       "       [0., 0., 0., 0., 0.]])"
      ]
     },
     "execution_count": 101,
     "metadata": {},
     "output_type": "execute_result"
    }
   ],
   "source": [
    "v[:,:,0]"
   ]
  },
  {
   "cell_type": "code",
   "execution_count": 102,
   "id": "5e204c41-4bca-4dae-92d9-f396a71db9db",
   "metadata": {},
   "outputs": [],
   "source": [
    "slice_interp = interpolate(slice_coords, x_freq, y_freq, z_freq, v,\"nn\")\n",
    "slice_interp_2d = slice_interp.reshape(X_r.shape[0], X_r.shape[1])"
   ]
  },
  {
   "cell_type": "code",
   "execution_count": 103,
   "id": "6f173efd-0754-455a-86df-8d3b0c4279fe",
   "metadata": {},
   "outputs": [
    {
     "data": {
      "text/plain": [
       "array([0., 0., 0., 0., 0., 0., 0., 0., 0., 0., 0., 0., 1., 0., 0., 0., 0.,\n",
       "       0., 0., 0., 0., 0., 0., 0., 0.])"
      ]
     },
     "execution_count": 103,
     "metadata": {},
     "output_type": "execute_result"
    }
   ],
   "source": [
    "slice_interp"
   ]
  },
  {
   "cell_type": "code",
   "execution_count": 104,
   "id": "54e89916-8c7c-4652-a58a-e48bb99b9f57",
   "metadata": {},
   "outputs": [
    {
     "data": {
      "text/plain": [
       "<matplotlib.image.AxesImage at 0x11cb2a340>"
      ]
     },
     "execution_count": 104,
     "metadata": {},
     "output_type": "execute_result"
    },
    {
     "data": {
      "image/png": "[encoded data removed]",
      "text/plain": [
       "<Figure size 432x288 with 1 Axes>"
      ]
     },
     "metadata": {
      "needs_background": "light"
     },
     "output_type": "display_data"
    }
   ],
   "source": [
    "plt.imshow(slice_interp_2d)"
   ]
  },
  {
   "cell_type": "code",
   "execution_count": 105,
   "id": "0ab44f80-8e8d-434d-b060-df9486c77fb3",
   "metadata": {},
   "outputs": [
    {
     "data": {
      "text/plain": [
       "array([[0., 0., 0., 0., 0.],\n",
       "       [0., 0., 0., 0., 0.],\n",
       "       [0., 0., 1., 0., 0.],\n",
       "       [0., 0., 0., 0., 0.],\n",
       "       [0., 0., 0., 0., 0.]])"
      ]
     },
     "execution_count": 105,
     "metadata": {},
     "output_type": "execute_result"
    }
   ],
   "source": [
    "slice_interp_2d"
   ]
  }
 ],
 "metadata": {
  "kernelspec": {
   "display_name": "Python 3 (ipykernel)",
   "language": "python",
   "name": "python3"
  },
  "language_info": {
   "codemirror_mode": {
    "name": "ipython",
    "version": 3
   },
   "file_extension": ".py",
   "mimetype": "text/x-python",
   "name": "python",
   "nbconvert_exporter": "python",
   "pygments_lexer": "ipython3",
   "version": "3.9.7"
  }
 },
 "nbformat": 4,
 "nbformat_minor": 5
}
