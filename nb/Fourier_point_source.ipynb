{
 "cells": [
  {
   "cell_type": "markdown",
   "id": "f8e8e3c9-ab66-4ff9-b347-7d2c15542d95",
   "metadata": {},
   "source": [
    "# Fourier point source"
   ]
  },
  {
   "cell_type": "code",
   "execution_count": 1,
   "id": "b9a22671-7a44-440a-bd79-b55622f569cd",
   "metadata": {},
   "outputs": [],
   "source": [
    "%load_ext autoreload\n",
    "%autoreload 2\n",
    "import site\n",
    "import sys\n",
    "site.addsitedir('..')"
   ]
  },
  {
   "cell_type": "code",
   "execution_count": 2,
   "id": "129d36b0-1635-4348-a116-87a8bc872f82",
   "metadata": {},
   "outputs": [],
   "source": [
    "import numpy as np\n",
    "import jax.numpy as jnp\n",
    "from  matplotlib import pyplot as plt\n",
    "from src.utils import *\n",
    "from src.projection import project, rotate\n",
    "from src.interpolate import *"
   ]
  },
  {
   "cell_type": "markdown",
   "id": "f2abb380",
   "metadata": {},
   "source": [
    "### Important: in the Fourier domain, the point is rotated in the fftshifted coordinates (i.e. 0 in the centre) - working now"
   ]
  },
  {
   "cell_type": "code",
   "execution_count": 3,
   "id": "157b064e-f7ea-4d9d-937d-7a3ddacdbb59",
   "metadata": {},
   "outputs": [
    {
     "data": {
      "text/plain": [
       "<matplotlib.image.AxesImage at 0x2abc410f6ba8>"
      ]
     },
     "execution_count": 3,
     "metadata": {},
     "output_type": "execute_result"
    },
    {
     "data": {
      "image/png": "[encoded data removed]",
      "text/plain": [
       "<Figure size 432x288 with 1 Axes>"
      ]
     },
     "metadata": {
      "needs_background": "light"
     },
     "output_type": "display_data"
    }
   ],
   "source": [
    "nx = 5\n",
    "dx = 0.2\n",
    "\n",
    "v = np.zeros([nx,nx,nx])\n",
    "v[1,2,2] = 1\n",
    "v = jnp.array(v)\n",
    "\n",
    "plt.imshow(v[:,:,2])"
   ]
  },
  {
   "cell_type": "code",
   "execution_count": 8,
   "id": "e5ba4557-72bb-45f3-a2d5-892a7258fb71",
   "metadata": {},
   "outputs": [
    {
     "data": {
      "text/plain": [
       "<matplotlib.colorbar.Colorbar at 0x2abcb2ea1588>"
      ]
     },
     "execution_count": 8,
     "metadata": {},
     "output_type": "execute_result"
    },
    {
     "data": {
      "image/png": "[encoded data removed]",
      "text/plain": [
       "<Figure size 432x288 with 2 Axes>"
      ]
     },
     "metadata": {
      "needs_background": "light"
     },
     "output_type": "display_data"
    }
   ],
   "source": [
    "x_freq = jnp.fft.fftfreq(nx, dx)\n",
    "y_freq = jnp.fft.fftfreq(nx, dx)\n",
    "z_freq = jnp.fft.fftfreq(nx, dx)\n",
    "\n",
    "x_grid = jnp.array([x_freq[1], len(x_freq)])\n",
    "y_grid = jnp.array([y_freq[1], len(y_freq)])\n",
    "z_grid = jnp.array([z_freq[1], len(z_freq)])\n",
    "\n",
    "angles = jnp.array([0,0,jnp.pi/4])\n",
    "shifts = jnp.array([0,0])\n",
    "ctf_params = None\n",
    "\n",
    "vr = project(jnp.fft.ifftshift(v), angles, shifts, ctf_params, x_grid, y_grid, z_grid, interpolation_method = \"tri\")\n",
    "vr = jnp.fft.fftshift(vr.reshape(v.shape[0], v.shape[1]))\n",
    "plt.imshow(jnp.real(vr))\n",
    "plt.colorbar()"
   ]
  },
  {
   "cell_type": "markdown",
   "id": "dbad344e-b9f2-492d-819f-66b6548025f3",
   "metadata": {},
   "source": [
    "### Do the steps in the project function\n",
    "\n",
    "#### Note:\n",
    "For the point on the edge of the square as below and rotation by $\\pi/4$, after rotation _of the coordinates_, the point appears in a corner, probably unexpectedly. However, this is the intended behaviour when one rotates the coordinates and the object is periodic.\n",
    "\n",
    "This becomes clear when we track multiple points after the rotation, see ```Fourier_slice_rotation.ipynb```."
   ]
  },
  {
   "cell_type": "code",
   "execution_count": 9,
   "id": "e78a4815-4939-4661-8b2f-323ee6b7865b",
   "metadata": {},
   "outputs": [
    {
     "data": {
      "text/plain": [
       "<matplotlib.colorbar.Colorbar at 0x2abcb2f39c18>"
      ]
     },
     "execution_count": 9,
     "metadata": {},
     "output_type": "execute_result"
    },
    {
     "data": {
      "image/png": "[encoded data removed]",
      "text/plain": [
       "<Figure size 432x288 with 2 Axes>"
      ]
     },
     "metadata": {
      "needs_background": "light"
     },
     "output_type": "display_data"
    }
   ],
   "source": [
    "nx = 5\n",
    "dx = 0.2\n",
    "\n",
    "v = np.zeros([nx,nx,nx])\n",
    "v[0,2,2] = 1\n",
    "\n",
    "v = jnp.array(v)\n",
    "\n",
    "plt.imshow(v[:,:,2]); plt.colorbar()"
   ]
  },
  {
   "cell_type": "code",
   "execution_count": 13,
   "id": "3afd899f-d480-4057-9a77-6500553ba9a3",
   "metadata": {},
   "outputs": [],
   "source": [
    "angles = jnp.array([0,0,jnp.pi/4])\n",
    "\n",
    "slice_coords = rotate(x_grid, y_grid, angles)"
   ]
  },
  {
   "cell_type": "code",
   "execution_count": 14,
   "id": "5e204c41-4bca-4dae-92d9-f396a71db9db",
   "metadata": {},
   "outputs": [],
   "source": [
    "slice_interp = interpolate(slice_coords, x_grid, y_grid, z_grid, jnp.fft.ifftshift(v), \"nn\")\n",
    "slice_interp_2d = (jnp.fft.fftshift(slice_interp.reshape(v.shape[0], v.shape[1])))"
   ]
  },
  {
   "cell_type": "code",
   "execution_count": 15,
   "id": "54e89916-8c7c-4652-a58a-e48bb99b9f57",
   "metadata": {},
   "outputs": [
    {
     "data": {
      "text/plain": [
       "<matplotlib.colorbar.Colorbar at 0x2abcb30549b0>"
      ]
     },
     "execution_count": 15,
     "metadata": {},
     "output_type": "execute_result"
    },
    {
     "data": {
      "image/png": "[encoded data removed]",
      "text/plain": [
       "<Figure size 432x288 with 2 Axes>"
      ]
     },
     "metadata": {
      "needs_background": "light"
     },
     "output_type": "display_data"
    }
   ],
   "source": [
    "plt.imshow(slice_interp_2d); plt.colorbar()"
   ]
  },
  {
   "cell_type": "code",
   "execution_count": null,
   "id": "199d578c-1dcf-42b3-a2c6-4fb278ea5ebd",
   "metadata": {},
   "outputs": [],
   "source": []
  }
 ],
 "metadata": {
  "kernelspec": {
   "display_name": "Python 3",
   "language": "python",
   "name": "python3"
  },
  "language_info": {
   "codemirror_mode": {
    "name": "ipython",
    "version": 3
   },
   "file_extension": ".py",
   "mimetype": "text/x-python",
   "name": "python",
   "nbconvert_exporter": "python",
   "pygments_lexer": "ipython3",
   "version": "3.6.9"
  }
 },
 "nbformat": 4,
 "nbformat_minor": 5
}
