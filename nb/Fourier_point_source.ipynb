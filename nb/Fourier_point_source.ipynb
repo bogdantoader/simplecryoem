{
 "cells": [
  {
   "cell_type": "markdown",
   "id": "f8e8e3c9-ab66-4ff9-b347-7d2c15542d95",
   "metadata": {},
   "source": [
    "# Fourier point source"
   ]
  },
  {
   "cell_type": "code",
   "execution_count": 55,
   "id": "b9a22671-7a44-440a-bd79-b55622f569cd",
   "metadata": {},
   "outputs": [
    {
     "name": "stdout",
     "output_type": "stream",
     "text": [
      "The autoreload extension is already loaded. To reload it, use:\n",
      "  %reload_ext autoreload\n"
     ]
    }
   ],
   "source": [
    "%load_ext autoreload\n",
    "%autoreload 2\n",
    "import site\n",
    "import sys\n",
    "site.addsitedir('..')"
   ]
  },
  {
   "cell_type": "code",
   "execution_count": 56,
   "id": "129d36b0-1635-4348-a116-87a8bc872f82",
   "metadata": {},
   "outputs": [],
   "source": [
    "import numpy as np\n",
    "from  matplotlib import pyplot as plt\n",
    "from src.utils import *\n",
    "from src.projection import project, rotate\n",
    "from src.interpolate import *"
   ]
  },
  {
   "cell_type": "code",
   "execution_count": 162,
   "id": "157b064e-f7ea-4d9d-937d-7a3ddacdbb59",
   "metadata": {},
   "outputs": [
    {
     "data": {
      "text/plain": [
       "<matplotlib.image.AxesImage at 0x123f8b820>"
      ]
     },
     "execution_count": 162,
     "metadata": {},
     "output_type": "execute_result"
    },
    {
     "data": {
      "image/png": "[encoded data removed]",
      "text/plain": [
       "<Figure size 432x288 with 1 Axes>"
      ]
     },
     "metadata": {
      "needs_background": "light"
     },
     "output_type": "display_data"
    }
   ],
   "source": [
    "nx = 5\n",
    "\n",
    "v = np.zeros([nx,nx,nx])\n",
    "v[2,3,0] = 1\n",
    "#v[1,1,0] = 1\n",
    "\n",
    "plt.imshow(v[:,:,0])"
   ]
  },
  {
   "cell_type": "code",
   "execution_count": 163,
   "id": "e5ba4557-72bb-45f3-a2d5-892a7258fb71",
   "metadata": {},
   "outputs": [],
   "source": [
    "x_freq = np.fft.fftfreq(nx)\n",
    "y_freq = np.fft.fftfreq(nx)\n",
    "z_freq = np.fft.fftfreq(nx)\n",
    "\n",
    "X, Y, Z = np.meshgrid(x_freq, y_freq, z_freq, indexing = 'xy')\n"
   ]
  },
  {
   "cell_type": "code",
   "execution_count": 164,
   "id": "cbf8ba59-32ca-4fdb-b4bd-848a61e5b645",
   "metadata": {},
   "outputs": [],
   "source": [
    "angles = np.array([0,0,0])\n",
    "\n",
    "vp, Xp, Yp, Zp = project(v, X, Y, Z, angles, \"nn\")"
   ]
  },
  {
   "cell_type": "code",
   "execution_count": 273,
   "id": "f9d0313d-aed9-4c78-a544-ef9f5e231b3c",
   "metadata": {},
   "outputs": [
    {
     "data": {
      "text/plain": [
       "array([[ 0. ,  0.2,  0.4, -0.4, -0.2],\n",
       "       [ 0. ,  0.2,  0.4, -0.4, -0.2],\n",
       "       [ 0. ,  0.2,  0.4, -0.4, -0.2],\n",
       "       [ 0. ,  0.2,  0.4, -0.4, -0.2],\n",
       "       [ 0. ,  0.2,  0.4, -0.4, -0.2]])"
      ]
     },
     "execution_count": 273,
     "metadata": {},
     "output_type": "execute_result"
    }
   ],
   "source": [
    "(X[:,:,0])"
   ]
  },
  {
   "cell_type": "code",
   "execution_count": 274,
   "id": "85506956-38be-4a3b-a233-7998579000fa",
   "metadata": {},
   "outputs": [
    {
     "data": {
      "text/plain": [
       "array([[ 0. ,  0. ,  0. ,  0. ,  0. ],\n",
       "       [ 0.2,  0.2,  0.2,  0.2,  0.2],\n",
       "       [ 0.4,  0.4,  0.4,  0.4,  0.4],\n",
       "       [-0.4, -0.4, -0.4, -0.4, -0.4],\n",
       "       [-0.2, -0.2, -0.2, -0.2, -0.2]])"
      ]
     },
     "execution_count": 274,
     "metadata": {},
     "output_type": "execute_result"
    }
   ],
   "source": [
    "(Y[:,:,0])"
   ]
  },
  {
   "cell_type": "code",
   "execution_count": 275,
   "id": "57406d72-f345-4389-91a7-dd3870feae42",
   "metadata": {},
   "outputs": [
    {
     "data": {
      "text/plain": [
       "array([[0., 0., 0., 0., 0.],\n",
       "       [0., 0., 0., 0., 0.],\n",
       "       [0., 0., 0., 1., 0.],\n",
       "       [0., 0., 0., 0., 0.],\n",
       "       [0., 0., 0., 0., 0.]])"
      ]
     },
     "execution_count": 275,
     "metadata": {},
     "output_type": "execute_result"
    }
   ],
   "source": [
    "v[:,:,0]"
   ]
  },
  {
   "cell_type": "markdown",
   "id": "dbad344e-b9f2-492d-819f-66b6548025f3",
   "metadata": {},
   "source": [
    "### Do the steps in project"
   ]
  },
  {
   "cell_type": "markdown",
   "id": "655e93a9-cb4c-407f-bb8e-32907aa1ce1c",
   "metadata": {},
   "source": [
    "So far: angles = 0 is OK"
   ]
  },
  {
   "cell_type": "code",
   "execution_count": 306,
   "id": "3afd899f-d480-4057-9a77-6500553ba9a3",
   "metadata": {},
   "outputs": [],
   "source": [
    "angles = np.array([0,0,np.pi/2])\n",
    "\n",
    "\n",
    "X_r, Y_r,Z_r = rotate(X, Y, Z, angles)"
   ]
  },
  {
   "cell_type": "code",
   "execution_count": 307,
   "id": "e2bbdac6-6e8d-44af-bfb9-e265bb932a1c",
   "metadata": {},
   "outputs": [
    {
     "data": {
      "text/plain": [
       "array([[ 4.0000000e-01,  4.0000000e-01,  4.0000000e-01,  4.0000000e-01,\n",
       "         4.0000000e-01],\n",
       "       [ 2.0000000e-01,  2.0000000e-01,  2.0000000e-01,  2.0000000e-01,\n",
       "         2.0000000e-01],\n",
       "       [-2.4492936e-17, -1.2246468e-17,  0.0000000e+00,  1.2246468e-17,\n",
       "         2.4492936e-17],\n",
       "       [-2.0000000e-01, -2.0000000e-01, -2.0000000e-01, -2.0000000e-01,\n",
       "        -2.0000000e-01],\n",
       "       [-4.0000000e-01, -4.0000000e-01, -4.0000000e-01, -4.0000000e-01,\n",
       "        -4.0000000e-01]])"
      ]
     },
     "execution_count": 307,
     "metadata": {},
     "output_type": "execute_result"
    }
   ],
   "source": [
    "np.fft.fftshift(X_r[:,:,0])"
   ]
  },
  {
   "cell_type": "code",
   "execution_count": 308,
   "id": "57737622-25a0-4d54-9abf-df99c55da0f7",
   "metadata": {},
   "outputs": [
    {
     "data": {
      "text/plain": [
       "<matplotlib.colorbar.Colorbar at 0x126055fd0>"
      ]
     },
     "execution_count": 308,
     "metadata": {},
     "output_type": "execute_result"
    },
    {
     "data": {
      "image/png": "[encoded data removed]",
      "text/plain": [
       "<Figure size 432x288 with 2 Axes>"
      ]
     },
     "metadata": {
      "needs_background": "light"
     },
     "output_type": "display_data"
    }
   ],
   "source": [
    "plt.imshow(np.fft.fftshift(X_r[:,:,0])); plt.colorbar()"
   ]
  },
  {
   "cell_type": "code",
   "execution_count": 309,
   "id": "9dd695cb-4d91-4718-abc4-61d4dac42c5e",
   "metadata": {},
   "outputs": [
    {
     "data": {
      "text/plain": [
       "<matplotlib.colorbar.Colorbar at 0x1261450a0>"
      ]
     },
     "execution_count": 309,
     "metadata": {},
     "output_type": "execute_result"
    },
    {
     "data": {
      "image/png": "[encoded data removed]",
      "text/plain": [
       "<Figure size 432x288 with 2 Axes>"
      ]
     },
     "metadata": {
      "needs_background": "light"
     },
     "output_type": "display_data"
    }
   ],
   "source": [
    "plt.imshow(np.fft.fftshift(Y_r[:,:,0])); plt.colorbar()"
   ]
  },
  {
   "cell_type": "code",
   "execution_count": 310,
   "id": "c6ddbcc7-1cf1-4b3d-81f6-b1923e4d4804",
   "metadata": {},
   "outputs": [
    {
     "data": {
      "text/plain": [
       "array([[ 0.0000000e+00,  0.0000000e+00,  0.0000000e+00],\n",
       "       [ 1.2246468e-17,  2.0000000e-01,  0.0000000e+00],\n",
       "       [ 2.4492936e-17,  4.0000000e-01,  0.0000000e+00],\n",
       "       [-2.4492936e-17, -4.0000000e-01,  0.0000000e+00],\n",
       "       [-1.2246468e-17, -2.0000000e-01,  0.0000000e+00],\n",
       "       [-2.0000000e-01,  1.2246468e-17,  0.0000000e+00],\n",
       "       [-2.0000000e-01,  2.0000000e-01,  0.0000000e+00],\n",
       "       [-2.0000000e-01,  4.0000000e-01,  0.0000000e+00],\n",
       "       [-2.0000000e-01, -4.0000000e-01,  0.0000000e+00],\n",
       "       [-2.0000000e-01, -2.0000000e-01,  0.0000000e+00],\n",
       "       [-4.0000000e-01,  2.4492936e-17,  0.0000000e+00],\n",
       "       [-4.0000000e-01,  2.0000000e-01,  0.0000000e+00],\n",
       "       [-4.0000000e-01,  4.0000000e-01,  0.0000000e+00],\n",
       "       [-4.0000000e-01, -4.0000000e-01,  0.0000000e+00],\n",
       "       [-4.0000000e-01, -2.0000000e-01,  0.0000000e+00],\n",
       "       [ 4.0000000e-01, -2.4492936e-17,  0.0000000e+00],\n",
       "       [ 4.0000000e-01,  2.0000000e-01,  0.0000000e+00],\n",
       "       [ 4.0000000e-01,  4.0000000e-01,  0.0000000e+00],\n",
       "       [ 4.0000000e-01, -4.0000000e-01,  0.0000000e+00],\n",
       "       [ 4.0000000e-01, -2.0000000e-01,  0.0000000e+00],\n",
       "       [ 2.0000000e-01, -1.2246468e-17,  0.0000000e+00],\n",
       "       [ 2.0000000e-01,  2.0000000e-01,  0.0000000e+00],\n",
       "       [ 2.0000000e-01,  4.0000000e-01,  0.0000000e+00],\n",
       "       [ 2.0000000e-01, -4.0000000e-01,  0.0000000e+00],\n",
       "       [ 2.0000000e-01, -2.0000000e-01,  0.0000000e+00]])"
      ]
     },
     "execution_count": 310,
     "metadata": {},
     "output_type": "execute_result"
    }
   ],
   "source": [
    "slice_coords = np.array([X_r[:,:,0].flatten(), Y_r[:,:,0].flatten(), Z_r[:,:,0].flatten()])\n",
    "slice_coords.T"
   ]
  },
  {
   "cell_type": "code",
   "execution_count": 311,
   "id": "49ed7130-6203-4838-ba88-11412782dfa4",
   "metadata": {},
   "outputs": [
    {
     "data": {
      "text/plain": [
       "array([[ 0.0000000e+00,  1.2246468e-17,  2.4492936e-17, -2.4492936e-17,\n",
       "        -1.2246468e-17],\n",
       "       [-2.0000000e-01, -2.0000000e-01, -2.0000000e-01, -2.0000000e-01,\n",
       "        -2.0000000e-01],\n",
       "       [-4.0000000e-01, -4.0000000e-01, -4.0000000e-01, -4.0000000e-01,\n",
       "        -4.0000000e-01],\n",
       "       [ 4.0000000e-01,  4.0000000e-01,  4.0000000e-01,  4.0000000e-01,\n",
       "         4.0000000e-01],\n",
       "       [ 2.0000000e-01,  2.0000000e-01,  2.0000000e-01,  2.0000000e-01,\n",
       "         2.0000000e-01]])"
      ]
     },
     "execution_count": 311,
     "metadata": {},
     "output_type": "execute_result"
    }
   ],
   "source": [
    "X_r[:,:,0]"
   ]
  },
  {
   "cell_type": "code",
   "execution_count": 312,
   "id": "26fcf660-e3fc-42a2-9390-f3bb02ca9e49",
   "metadata": {},
   "outputs": [
    {
     "data": {
      "text/plain": [
       "array([[ 0.0000000e+00,  2.0000000e-01,  4.0000000e-01, -4.0000000e-01,\n",
       "        -2.0000000e-01],\n",
       "       [ 1.2246468e-17,  2.0000000e-01,  4.0000000e-01, -4.0000000e-01,\n",
       "        -2.0000000e-01],\n",
       "       [ 2.4492936e-17,  2.0000000e-01,  4.0000000e-01, -4.0000000e-01,\n",
       "        -2.0000000e-01],\n",
       "       [-2.4492936e-17,  2.0000000e-01,  4.0000000e-01, -4.0000000e-01,\n",
       "        -2.0000000e-01],\n",
       "       [-1.2246468e-17,  2.0000000e-01,  4.0000000e-01, -4.0000000e-01,\n",
       "        -2.0000000e-01]])"
      ]
     },
     "execution_count": 312,
     "metadata": {},
     "output_type": "execute_result"
    }
   ],
   "source": [
    "Y_r[:,:,0]"
   ]
  },
  {
   "cell_type": "code",
   "execution_count": 318,
   "id": "1061838d-649f-41b6-bc6c-7a7b71d3669f",
   "metadata": {},
   "outputs": [
    {
     "data": {
      "text/plain": [
       "array([[ 0. ,  0.2,  0.4, -0.4, -0.2],\n",
       "       [ 0. ,  0.2,  0.4, -0.4, -0.2],\n",
       "       [ 0. ,  0.2,  0.4, -0.4, -0.2],\n",
       "       [ 0. ,  0.2,  0.4, -0.4, -0.2],\n",
       "       [ 0. ,  0.2,  0.4, -0.4, -0.2]])"
      ]
     },
     "execution_count": 318,
     "metadata": {},
     "output_type": "execute_result"
    }
   ],
   "source": [
    "X[:,:,0]"
   ]
  },
  {
   "cell_type": "code",
   "execution_count": 319,
   "id": "3a74ba95-5154-4195-a98e-d4f098c5232c",
   "metadata": {},
   "outputs": [
    {
     "data": {
      "text/plain": [
       "array([[ 0. ,  0. ,  0. ,  0. ,  0. ],\n",
       "       [ 0.2,  0.2,  0.2,  0.2,  0.2],\n",
       "       [ 0.4,  0.4,  0.4,  0.4,  0.4],\n",
       "       [-0.4, -0.4, -0.4, -0.4, -0.4],\n",
       "       [-0.2, -0.2, -0.2, -0.2, -0.2]])"
      ]
     },
     "execution_count": 319,
     "metadata": {},
     "output_type": "execute_result"
    }
   ],
   "source": [
    "Y[:,:,0]"
   ]
  },
  {
   "cell_type": "code",
   "execution_count": 313,
   "id": "41c80a90-e058-48b4-9126-3a916a3bce89",
   "metadata": {},
   "outputs": [
    {
     "data": {
      "text/plain": [
       "array([[0., 0., 0., 0., 0.],\n",
       "       [0., 0., 0., 0., 0.],\n",
       "       [0., 0., 0., 1., 0.],\n",
       "       [0., 0., 0., 0., 0.],\n",
       "       [0., 0., 0., 0., 0.]])"
      ]
     },
     "execution_count": 313,
     "metadata": {},
     "output_type": "execute_result"
    }
   ],
   "source": [
    "v[:,:,0]"
   ]
  },
  {
   "cell_type": "code",
   "execution_count": 314,
   "id": "5e204c41-4bca-4dae-92d9-f396a71db9db",
   "metadata": {},
   "outputs": [],
   "source": [
    "slice_interp = interpolate(slice_coords, x_freq, y_freq, z_freq, v,\"nn\")\n",
    "slice_interp_2d = slice_interp.reshape(X_r.shape[0], X_r.shape[1])"
   ]
  },
  {
   "cell_type": "code",
   "execution_count": 315,
   "id": "6f173efd-0754-455a-86df-8d3b0c4279fe",
   "metadata": {},
   "outputs": [
    {
     "data": {
      "text/plain": [
       "array([0., 0., 0., 0., 0., 0., 0., 0., 0., 0., 0., 0., 1., 0., 0., 0., 0.,\n",
       "       0., 0., 0., 0., 0., 0., 0., 0.])"
      ]
     },
     "execution_count": 315,
     "metadata": {},
     "output_type": "execute_result"
    }
   ],
   "source": [
    "slice_interp"
   ]
  },
  {
   "cell_type": "code",
   "execution_count": 316,
   "id": "54e89916-8c7c-4652-a58a-e48bb99b9f57",
   "metadata": {},
   "outputs": [
    {
     "data": {
      "text/plain": [
       "<matplotlib.image.AxesImage at 0x1261c63d0>"
      ]
     },
     "execution_count": 316,
     "metadata": {},
     "output_type": "execute_result"
    },
    {
     "data": {
      "image/png": "[encoded data removed]",
      "text/plain": [
       "<Figure size 432x288 with 1 Axes>"
      ]
     },
     "metadata": {
      "needs_background": "light"
     },
     "output_type": "display_data"
    }
   ],
   "source": [
    "plt.imshow(slice_interp_2d)"
   ]
  },
  {
   "cell_type": "code",
   "execution_count": 317,
   "id": "0ab44f80-8e8d-434d-b060-df9486c77fb3",
   "metadata": {},
   "outputs": [
    {
     "data": {
      "text/plain": [
       "array([[0., 0., 0., 0., 0.],\n",
       "       [0., 0., 0., 0., 0.],\n",
       "       [0., 0., 1., 0., 0.],\n",
       "       [0., 0., 0., 0., 0.],\n",
       "       [0., 0., 0., 0., 0.]])"
      ]
     },
     "execution_count": 317,
     "metadata": {},
     "output_type": "execute_result"
    }
   ],
   "source": [
    "slice_interp_2d"
   ]
  },
  {
   "cell_type": "code",
   "execution_count": null,
   "id": "d6f5e2fe-3e17-4e67-a944-4b5522e89b8b",
   "metadata": {},
   "outputs": [],
   "source": []
  }
 ],
 "metadata": {
  "kernelspec": {
   "display_name": "Python 3 (ipykernel)",
   "language": "python",
   "name": "python3"
  },
  "language_info": {
   "codemirror_mode": {
    "name": "ipython",
    "version": 3
   },
   "file_extension": ".py",
   "mimetype": "text/x-python",
   "name": "python",
   "nbconvert_exporter": "python",
   "pygments_lexer": "ipython3",
   "version": "3.9.7"
  }
 },
 "nbformat": 4,
 "nbformat_minor": 5
}
