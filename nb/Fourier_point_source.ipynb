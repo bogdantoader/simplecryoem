{
 "cells": [
  {
   "cell_type": "markdown",
   "id": "f8e8e3c9-ab66-4ff9-b347-7d2c15542d95",
   "metadata": {},
   "source": [
    "# Fourier point source"
   ]
  },
  {
   "cell_type": "code",
   "execution_count": 13,
   "id": "b9a22671-7a44-440a-bd79-b55622f569cd",
   "metadata": {},
   "outputs": [
    {
     "name": "stdout",
     "output_type": "stream",
     "text": [
      "The autoreload extension is already loaded. To reload it, use:\n",
      "  %reload_ext autoreload\n"
     ]
    }
   ],
   "source": [
    "%load_ext autoreload\n",
    "%autoreload 2\n",
    "import site\n",
    "import sys\n",
    "site.addsitedir('..')"
   ]
  },
  {
   "cell_type": "code",
   "execution_count": 14,
   "id": "129d36b0-1635-4348-a116-87a8bc872f82",
   "metadata": {},
   "outputs": [],
   "source": [
    "import numpy as np\n",
    "import jax.numpy as jnp\n",
    "from  matplotlib import pyplot as plt\n",
    "from src.utils import *\n",
    "from src.projection import project, rotate\n",
    "from src.interpolate import *"
   ]
  },
  {
   "cell_type": "markdown",
   "id": "f2abb380",
   "metadata": {},
   "source": [
    "## Important: in Fourier domain, the point is rotated in the fftshifted coordinates (i.e. 0 in the centre) - working now"
   ]
  },
  {
   "cell_type": "code",
   "execution_count": 15,
   "id": "157b064e-f7ea-4d9d-937d-7a3ddacdbb59",
   "metadata": {},
   "outputs": [
    {
     "data": {
      "text/plain": [
       "<matplotlib.image.AxesImage at 0x7fb988828c10>"
      ]
     },
     "execution_count": 15,
     "metadata": {},
     "output_type": "execute_result"
    },
    {
     "data": {
      "image/png": "[encoded data removed]",
      "text/plain": [
       "<Figure size 432x288 with 1 Axes>"
      ]
     },
     "metadata": {
      "needs_background": "light"
     },
     "output_type": "display_data"
    }
   ],
   "source": [
    "nx = 5\n",
    "dx = 0.2\n",
    "\n",
    "v = np.zeros([nx,nx,nx])\n",
    "v[0,2,2] = 1\n",
    "#v[1,1,0] = 1\n",
    "v = jnp.array(v)\n",
    "\n",
    "plt.imshow(v[:,:,2])"
   ]
  },
  {
   "cell_type": "code",
   "execution_count": 26,
   "id": "e5ba4557-72bb-45f3-a2d5-892a7258fb71",
   "metadata": {},
   "outputs": [
    {
     "data": {
      "text/plain": [
       "<matplotlib.colorbar.Colorbar at 0x7fb98a408430>"
      ]
     },
     "execution_count": 26,
     "metadata": {},
     "output_type": "execute_result"
    },
    {
     "data": {
      "image/png": "[encoded data removed]",
      "text/plain": [
       "<Figure size 432x288 with 2 Axes>"
      ]
     },
     "metadata": {
      "needs_background": "light"
     },
     "output_type": "display_data"
    }
   ],
   "source": [
    "x_freq = jnp.fft.fftfreq(nx, dx)\n",
    "y_freq = jnp.fft.fftfreq(nx, dx)\n",
    "z_freq = jnp.fft.fftfreq(nx, dx)\n",
    "\n",
    "x_grid = jnp.array([x_freq[1], len(x_freq)])\n",
    "y_grid = jnp.array([y_freq[1], len(y_freq)])\n",
    "z_grid = jnp.array([z_freq[1], len(z_freq)])\n",
    "\n",
    "\n",
    "X, Y, Z = jnp.meshgrid(x_freq, y_freq, z_freq, indexing = 'xy')\n",
    "\n",
    "angles = jnp.array([0,0,jnp.pi/4])\n",
    "\n",
    "vr, _ = project(jnp.fft.ifftshift(v), x_grid, y_grid, z_grid, angles, \"tri\")\n",
    "vr = vr.reshape(v.shape[0], v.shape[1])\n",
    "plt.imshow(jnp.fft.fftshift(vr))\n",
    "plt.colorbar()"
   ]
  },
  {
   "cell_type": "markdown",
   "id": "dbad344e-b9f2-492d-819f-66b6548025f3",
   "metadata": {},
   "source": [
    "### Do the steps in project"
   ]
  },
  {
   "cell_type": "code",
   "execution_count": 17,
   "id": "e78a4815-4939-4661-8b2f-323ee6b7865b",
   "metadata": {},
   "outputs": [
    {
     "data": {
      "text/plain": [
       "<matplotlib.image.AxesImage at 0x7fb989c13cd0>"
      ]
     },
     "execution_count": 17,
     "metadata": {},
     "output_type": "execute_result"
    },
    {
     "data": {
      "image/png": "[encoded data removed]",
      "text/plain": [
       "<Figure size 432x288 with 1 Axes>"
      ]
     },
     "metadata": {
      "needs_background": "light"
     },
     "output_type": "display_data"
    }
   ],
   "source": [
    "nx = 5\n",
    "dx = 0.2\n",
    "\n",
    "v = np.zeros([nx,nx,nx])\n",
    "v[0,2,2] = 1\n",
    "\n",
    "v = jnp.array(v)\n",
    "\n",
    "x_freq = jnp.fft.fftfreq(nx, dx)\n",
    "y_freq = jnp.fft.fftfreq(nx, dx)\n",
    "z_freq = jnp.fft.fftfreq(nx, dx)\n",
    "\n",
    "X, Y, Z = jnp.meshgrid(x_freq, y_freq, z_freq, indexing = 'xy')\n",
    "\n",
    "plt.imshow(v[:,:,2])"
   ]
  },
  {
   "cell_type": "code",
   "execution_count": 39,
   "id": "3afd899f-d480-4057-9a77-6500553ba9a3",
   "metadata": {},
   "outputs": [],
   "source": [
    "angles = jnp.array([0,0,jnp.pi/4])\n",
    "slice_coords = rotate(x_grid, y_grid, angles)"
   ]
  },
  {
   "cell_type": "code",
   "execution_count": 40,
   "id": "5e204c41-4bca-4dae-92d9-f396a71db9db",
   "metadata": {},
   "outputs": [],
   "source": [
    "slice_interp = interpolate(slice_coords, x_grid, y_grid, z_grid, jnp.fft.ifftshift(v),\"nn\")\n",
    "slice_interp_2d = jnp.fft.fftshift(slice_interp.reshape(v.shape[0], v.shape[1]))"
   ]
  },
  {
   "cell_type": "code",
   "execution_count": 41,
   "id": "54e89916-8c7c-4652-a58a-e48bb99b9f57",
   "metadata": {},
   "outputs": [
    {
     "data": {
      "text/plain": [
       "<matplotlib.colorbar.Colorbar at 0x7fb98a93bc70>"
      ]
     },
     "execution_count": 41,
     "metadata": {},
     "output_type": "execute_result"
    },
    {
     "data": {
      "image/png": "[encoded data removed]",
      "text/plain": [
       "<Figure size 432x288 with 2 Axes>"
      ]
     },
     "metadata": {
      "needs_background": "light"
     },
     "output_type": "display_data"
    }
   ],
   "source": [
    "plt.imshow(slice_interp_2d); plt.colorbar()"
   ]
  },
  {
   "cell_type": "code",
   "execution_count": null,
   "id": "d2144c84-13bc-4987-8830-78d8164a708a",
   "metadata": {},
   "outputs": [],
   "source": []
  }
 ],
 "metadata": {
  "kernelspec": {
   "display_name": "Python 3 (ipykernel)",
   "language": "python",
   "name": "python3"
  },
  "language_info": {
   "codemirror_mode": {
    "name": "ipython",
    "version": 3
   },
   "file_extension": ".py",
   "mimetype": "text/x-python",
   "name": "python",
   "nbconvert_exporter": "python",
   "pygments_lexer": "ipython3",
   "version": "3.8.8"
  }
 },
 "nbformat": 4,
 "nbformat_minor": 5
}
