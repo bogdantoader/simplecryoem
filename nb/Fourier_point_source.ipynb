{
 "cells": [
  {
   "cell_type": "markdown",
   "id": "f8e8e3c9-ab66-4ff9-b347-7d2c15542d95",
   "metadata": {},
   "source": [
    "# Fourier point source"
   ]
  },
  {
   "cell_type": "code",
   "execution_count": 2,
   "id": "b9a22671-7a44-440a-bd79-b55622f569cd",
   "metadata": {},
   "outputs": [],
   "source": [
    "%load_ext autoreload\n",
    "%autoreload 2\n",
    "import site\n",
    "import sys\n",
    "site.addsitedir('..')"
   ]
  },
  {
   "cell_type": "code",
   "execution_count": 3,
   "id": "129d36b0-1635-4348-a116-87a8bc872f82",
   "metadata": {},
   "outputs": [],
   "source": [
    "import numpy as np\n",
    "from  matplotlib import pyplot as plt\n",
    "from src.utils import *\n",
    "from src.projection import project, rotate\n",
    "from src.interpolate import *"
   ]
  },
  {
   "cell_type": "markdown",
   "id": "f2abb380",
   "metadata": {},
   "source": [
    "## Important: in Fourier domain, the point is rotated in the fftshifted coordinates (i.e. 0 in the centre) - working now\n",
    "Now it's working, no need to do it step by step from the next header"
   ]
  },
  {
   "cell_type": "code",
   "execution_count": 45,
   "id": "157b064e-f7ea-4d9d-937d-7a3ddacdbb59",
   "metadata": {},
   "outputs": [
    {
     "data": {
      "text/plain": [
       "<matplotlib.image.AxesImage at 0x11e975e80>"
      ]
     },
     "execution_count": 45,
     "metadata": {},
     "output_type": "execute_result"
    },
    {
     "data": {
      "image/png": "[encoded data removed]",
      "text/plain": [
       "<Figure size 432x288 with 1 Axes>"
      ]
     },
     "metadata": {
      "needs_background": "light"
     },
     "output_type": "display_data"
    }
   ],
   "source": [
    "nx = 5\n",
    "dx = 0.2\n",
    "\n",
    "v = np.zeros([nx,nx,nx])\n",
    "v[2,3,2] = 1\n",
    "#v[1,1,0] = 1\n",
    "\n",
    "plt.imshow(v[:,:,2])"
   ]
  },
  {
   "cell_type": "code",
   "execution_count": 41,
   "id": "e5ba4557-72bb-45f3-a2d5-892a7258fb71",
   "metadata": {},
   "outputs": [],
   "source": [
    "x_freq = np.fft.fftfreq(nx, dx)\n",
    "y_freq = np.fft.fftfreq(nx, dx)\n",
    "z_freq = np.fft.fftfreq(nx, dx)\n",
    "\n",
    "X, Y, Z = np.meshgrid(x_freq, y_freq, z_freq, indexing = 'xy')"
   ]
  },
  {
   "cell_type": "code",
   "execution_count": 42,
   "id": "cbf8ba59-32ca-4fdb-b4bd-848a61e5b645",
   "metadata": {},
   "outputs": [
    {
     "data": {
      "text/plain": [
       "<matplotlib.colorbar.Colorbar at 0x11e830130>"
      ]
     },
     "execution_count": 42,
     "metadata": {},
     "output_type": "execute_result"
    },
    {
     "data": {
      "image/png": "[encoded data removed]",
      "text/plain": [
       "<Figure size 432x288 with 2 Axes>"
      ]
     },
     "metadata": {
      "needs_background": "light"
     },
     "output_type": "display_data"
    }
   ],
   "source": [
    "angles = np.array([0,0,np.pi/4])\n",
    "\n",
    "vp, Xp, Yp, Zp = project(np.fft.ifftshift(v), X, Y, Z, angles, \"nn\")\n",
    "plt.imshow(np.fft.fftshift(vp))\n",
    "plt.colorbar()"
   ]
  },
  {
   "cell_type": "markdown",
   "id": "dbad344e-b9f2-492d-819f-66b6548025f3",
   "metadata": {},
   "source": [
    "### Do the steps in project"
   ]
  },
  {
   "cell_type": "markdown",
   "id": "655e93a9-cb4c-407f-bb8e-32907aa1ce1c",
   "metadata": {},
   "source": [
    "So far: angles = 0 is OK"
   ]
  },
  {
   "cell_type": "code",
   "execution_count": 280,
   "id": "e78a4815-4939-4661-8b2f-323ee6b7865b",
   "metadata": {},
   "outputs": [
    {
     "data": {
      "text/plain": [
       "<matplotlib.image.AxesImage at 0x12a49e8e0>"
      ]
     },
     "execution_count": 280,
     "metadata": {},
     "output_type": "execute_result"
    },
    {
     "data": {
      "image/png": "[encoded data removed]",
      "text/plain": [
       "<Figure size 432x288 with 1 Axes>"
      ]
     },
     "metadata": {
      "needs_background": "light"
     },
     "output_type": "display_data"
    }
   ],
   "source": [
    "nx = 5\n",
    "dx = 0.2\n",
    "\n",
    "v = np.zeros([nx,nx,nx])\n",
    "v[4,0,2] = 1\n",
    "\n",
    "x_freq = np.fft.fftfreq(nx, dx)\n",
    "y_freq = np.fft.fftfreq(nx, dx)\n",
    "z_freq = np.fft.fftfreq(nx, dx)\n",
    "\n",
    "X, Y, Z = np.meshgrid(x_freq, y_freq, z_freq, indexing = 'xy')\n",
    "\n",
    "plt.imshow(v[:,:,2])"
   ]
  },
  {
   "cell_type": "code",
   "execution_count": 281,
   "id": "3afd899f-d480-4057-9a77-6500553ba9a3",
   "metadata": {},
   "outputs": [],
   "source": [
    "angles = np.array([0,0,np.pi/2])\n",
    "X_r, Y_r,Z_r = rotate(X, Y, Z, angles)"
   ]
  },
  {
   "cell_type": "code",
   "execution_count": 282,
   "id": "c6ddbcc7-1cf1-4b3d-81f6-b1923e4d4804",
   "metadata": {},
   "outputs": [
    {
     "data": {
      "text/plain": [
       "array([[ 0.0000000e+00,  0.0000000e+00,  0.0000000e+00],\n",
       "       [ 6.1232340e-17,  1.0000000e+00,  0.0000000e+00],\n",
       "       [ 1.2246468e-16,  2.0000000e+00,  0.0000000e+00],\n",
       "       [-1.2246468e-16, -2.0000000e+00,  0.0000000e+00],\n",
       "       [-6.1232340e-17, -1.0000000e+00,  0.0000000e+00],\n",
       "       [-1.0000000e+00,  6.1232340e-17,  0.0000000e+00],\n",
       "       [-1.0000000e+00,  1.0000000e+00,  0.0000000e+00],\n",
       "       [-1.0000000e+00,  2.0000000e+00,  0.0000000e+00],\n",
       "       [-1.0000000e+00, -2.0000000e+00,  0.0000000e+00],\n",
       "       [-1.0000000e+00, -1.0000000e+00,  0.0000000e+00],\n",
       "       [-2.0000000e+00,  1.2246468e-16,  0.0000000e+00],\n",
       "       [-2.0000000e+00,  1.0000000e+00,  0.0000000e+00],\n",
       "       [-2.0000000e+00,  2.0000000e+00,  0.0000000e+00],\n",
       "       [-2.0000000e+00, -2.0000000e+00,  0.0000000e+00],\n",
       "       [-2.0000000e+00, -1.0000000e+00,  0.0000000e+00],\n",
       "       [ 2.0000000e+00, -1.2246468e-16,  0.0000000e+00],\n",
       "       [ 2.0000000e+00,  1.0000000e+00,  0.0000000e+00],\n",
       "       [ 2.0000000e+00,  2.0000000e+00,  0.0000000e+00],\n",
       "       [ 2.0000000e+00, -2.0000000e+00,  0.0000000e+00],\n",
       "       [ 2.0000000e+00, -1.0000000e+00,  0.0000000e+00],\n",
       "       [ 1.0000000e+00, -6.1232340e-17,  0.0000000e+00],\n",
       "       [ 1.0000000e+00,  1.0000000e+00,  0.0000000e+00],\n",
       "       [ 1.0000000e+00,  2.0000000e+00,  0.0000000e+00],\n",
       "       [ 1.0000000e+00, -2.0000000e+00,  0.0000000e+00],\n",
       "       [ 1.0000000e+00, -1.0000000e+00,  0.0000000e+00]])"
      ]
     },
     "execution_count": 282,
     "metadata": {},
     "output_type": "execute_result"
    }
   ],
   "source": [
    "slice_coords = np.array([X_r[:,:,0].flatten(), Y_r[:,:,0].flatten(), Z_r[:,:,0].flatten()])\n",
    "slice_coords.T"
   ]
  },
  {
   "cell_type": "code",
   "execution_count": 283,
   "id": "49ed7130-6203-4838-ba88-11412782dfa4",
   "metadata": {},
   "outputs": [
    {
     "name": "stdout",
     "output_type": "stream",
     "text": [
      "[[ 0.  1.  2. -2. -1.]\n",
      " [ 0.  1.  2. -2. -1.]\n",
      " [ 0.  1.  2. -2. -1.]\n",
      " [ 0.  1.  2. -2. -1.]\n",
      " [ 0.  1.  2. -2. -1.]]\n",
      "[[ 0.0000000e+00  6.1232340e-17  1.2246468e-16 -1.2246468e-16\n",
      "  -6.1232340e-17]\n",
      " [-1.0000000e+00 -1.0000000e+00 -1.0000000e+00 -1.0000000e+00\n",
      "  -1.0000000e+00]\n",
      " [-2.0000000e+00 -2.0000000e+00 -2.0000000e+00 -2.0000000e+00\n",
      "  -2.0000000e+00]\n",
      " [ 2.0000000e+00  2.0000000e+00  2.0000000e+00  2.0000000e+00\n",
      "   2.0000000e+00]\n",
      " [ 1.0000000e+00  1.0000000e+00  1.0000000e+00  1.0000000e+00\n",
      "   1.0000000e+00]]\n"
     ]
    }
   ],
   "source": [
    "print(X[:,:,0])\n",
    "print(X_r[:,:,0])"
   ]
  },
  {
   "cell_type": "code",
   "execution_count": 284,
   "id": "1061838d-649f-41b6-bc6c-7a7b71d3669f",
   "metadata": {},
   "outputs": [
    {
     "name": "stdout",
     "output_type": "stream",
     "text": [
      "[[ 0.  0.  0.  0.  0.]\n",
      " [ 1.  1.  1.  1.  1.]\n",
      " [ 2.  2.  2.  2.  2.]\n",
      " [-2. -2. -2. -2. -2.]\n",
      " [-1. -1. -1. -1. -1.]]\n",
      "[[ 0.0000000e+00  1.0000000e+00  2.0000000e+00 -2.0000000e+00\n",
      "  -1.0000000e+00]\n",
      " [ 6.1232340e-17  1.0000000e+00  2.0000000e+00 -2.0000000e+00\n",
      "  -1.0000000e+00]\n",
      " [ 1.2246468e-16  1.0000000e+00  2.0000000e+00 -2.0000000e+00\n",
      "  -1.0000000e+00]\n",
      " [-1.2246468e-16  1.0000000e+00  2.0000000e+00 -2.0000000e+00\n",
      "  -1.0000000e+00]\n",
      " [-6.1232340e-17  1.0000000e+00  2.0000000e+00 -2.0000000e+00\n",
      "  -1.0000000e+00]]\n"
     ]
    }
   ],
   "source": [
    "print(Y[:,:,0])\n",
    "print(Y_r[:,:,0])"
   ]
  },
  {
   "cell_type": "code",
   "execution_count": 286,
   "id": "b4f3be6f-9a67-47a9-ac16-a5e437d0c5ec",
   "metadata": {},
   "outputs": [
    {
     "name": "stdout",
     "output_type": "stream",
     "text": [
      "[ 0.  1.  2. -2. -1.]\n",
      "[ 0.  1.  2. -2. -1.]\n",
      "[ 0.  1.  2. -2. -1.]\n"
     ]
    }
   ],
   "source": [
    "print(x_freq)\n",
    "print(y_freq)\n",
    "print(z_freq)"
   ]
  },
  {
   "cell_type": "code",
   "execution_count": 285,
   "id": "5e204c41-4bca-4dae-92d9-f396a71db9db",
   "metadata": {},
   "outputs": [],
   "source": [
    "slice_interp = interpolate(slice_coords, x_freq, y_freq, z_freq, np.fft.ifftshift(v),\"nn\")\n",
    "slice_interp_2d = np.fft.fftshift(slice_interp.reshape(X_r.shape[0], X_r.shape[1]))"
   ]
  },
  {
   "cell_type": "code",
   "execution_count": 278,
   "id": "54e89916-8c7c-4652-a58a-e48bb99b9f57",
   "metadata": {},
   "outputs": [
    {
     "data": {
      "text/plain": [
       "<matplotlib.image.AxesImage at 0x12a43c5b0>"
      ]
     },
     "execution_count": 278,
     "metadata": {},
     "output_type": "execute_result"
    },
    {
     "data": {
      "image/png": "[encoded data removed]",
      "text/plain": [
       "<Figure size 432x288 with 1 Axes>"
      ]
     },
     "metadata": {
      "needs_background": "light"
     },
     "output_type": "display_data"
    }
   ],
   "source": [
    "plt.imshow(slice_interp_2d)"
   ]
  },
  {
   "cell_type": "code",
   "execution_count": 16,
   "id": "3de45c63-4b5f-4cbc-8887-b102e6a131f4",
   "metadata": {},
   "outputs": [
    {
     "data": {
      "text/plain": [
       "1.0"
      ]
     },
     "execution_count": 16,
     "metadata": {},
     "output_type": "execute_result"
    }
   ],
   "source": [
    "idx = (2,3,2)\n",
    "v[idx]"
   ]
  },
  {
   "cell_type": "code",
   "execution_count": 13,
   "id": "aa270677-3b0e-498a-b0f3-10a3f56ea0e1",
   "metadata": {},
   "outputs": [
    {
     "data": {
      "text/plain": [
       "(5, 5, 5)"
      ]
     },
     "execution_count": 13,
     "metadata": {},
     "output_type": "execute_result"
    }
   ],
   "source": [
    "v.shape"
   ]
  },
  {
   "cell_type": "code",
   "execution_count": 49,
   "id": "b1fc9d09-63eb-4867-bdc8-ec59e31ab42c",
   "metadata": {},
   "outputs": [
    {
     "data": {
      "text/plain": [
       "2.0"
      ]
     },
     "execution_count": 49,
     "metadata": {},
     "output_type": "execute_result"
    }
   ],
   "source": [
    "0.4/0.2"
   ]
  },
  {
   "cell_type": "code",
   "execution_count": 52,
   "id": "bc483022-d4fd-4716-a643-0bc1ab6af251",
   "metadata": {},
   "outputs": [
    {
     "data": {
      "text/plain": [
       "30.0"
      ]
     },
     "execution_count": 52,
     "metadata": {},
     "output_type": "execute_result"
    }
   ],
   "source": [
    "6/0.2"
   ]
  },
  {
   "cell_type": "code",
   "execution_count": null,
   "id": "83a81859-2d89-48db-a005-b8acd704efbf",
   "metadata": {},
   "outputs": [],
   "source": []
  }
 ],
 "metadata": {
  "kernelspec": {
   "display_name": "Python 3",
   "language": "python",
   "name": "python3"
  },
  "language_info": {
   "codemirror_mode": {
    "name": "ipython",
    "version": 3
   },
   "file_extension": ".py",
   "mimetype": "text/x-python",
   "name": "python",
   "nbconvert_exporter": "python",
   "pygments_lexer": "ipython3",
   "version": "3.8.8"
  }
 },
 "nbformat": 4,
 "nbformat_minor": 5
}
