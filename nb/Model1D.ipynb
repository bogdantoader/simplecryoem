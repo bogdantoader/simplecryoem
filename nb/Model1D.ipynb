{
 "cells": [
  {
   "cell_type": "markdown",
   "id": "062da2f5-687c-4627-9189-81eba0c57b5d",
   "metadata": {},
   "source": [
    "# 1D model"
   ]
  },
  {
   "cell_type": "markdown",
   "id": "fcc52435-c90e-4673-9443-1204068b837a",
   "metadata": {},
   "source": [
    "## TODO \n",
    "* Then, start with a known signal in the real domain, take the DFT of that and then those are my point sources. This way we know what the actual signal is when we inverse Fourier transform the interpolated signal at the end (before dividing by sinc^2)"
   ]
  },
  {
   "cell_type": "code",
   "execution_count": 1,
   "id": "32775c2b-995c-4318-b6c2-4d7d2000a51b",
   "metadata": {},
   "outputs": [],
   "source": [
    "%load_ext autoreload\n",
    "%autoreload 2\n",
    "import site\n",
    "import sys\n",
    "import time\n",
    "site.addsitedir('..')\n",
    "from jax.config import config\n",
    "\n",
    "config.update(\"jax_enable_x64\", True)"
   ]
  },
  {
   "cell_type": "code",
   "execution_count": 3,
   "id": "2739aa1b-8f03-4a1f-b70e-5a4c25e0cd06",
   "metadata": {},
   "outputs": [],
   "source": [
    "import numpy as np\n",
    "from  matplotlib import pyplot as plt"
   ]
  },
  {
   "cell_type": "code",
   "execution_count": 4,
   "id": "ed18e0c4-be27-46cf-a7b6-9105013a9eb7",
   "metadata": {},
   "outputs": [],
   "source": [
    "# Locations of point sources in Fourier, and their weights\n",
    "# Although I should start with a known signal in the real domain, \n",
    "# Take the DFT and then those are my point sources in Fourier.\n",
    "\n",
    "N = 7\n",
    "t = np.fft.fftfreq(N, 1/N)\n",
    "a = np.random.randn(N) \n",
    "\n",
    "t = np.fft.fftshift(t)\n",
    "a = np.fft.fftshift(a)"
   ]
  },
  {
   "cell_type": "code",
   "execution_count": 5,
   "id": "c004c1fa-9e44-4019-b6bf-16df4cfad8c3",
   "metadata": {},
   "outputs": [],
   "source": [
    "def lin_interp(x, x0, x1, y0, y1):\n",
    "    return (x-x0)*(y1-y0)/(x1-x0) + y0"
   ]
  },
  {
   "cell_type": "code",
   "execution_count": 6,
   "id": "aff5a2af-3f53-4ee6-a560-5b09113a13b8",
   "metadata": {},
   "outputs": [],
   "source": [
    "tf = np.arange(-N/2, N/2, 0.1)\n",
    "Ff = np.zeros(tf.shape)\n",
    "\n",
    "eps = 1e-14\n",
    "for i in range(N):\n",
    "\n",
    "    \n",
    "    i0 = np.mod(i, N)\n",
    "    i1 = np.mod(i+1, N)\n",
    "    x0 = t[i0]\n",
    "    x1 = t[i1]\n",
    "    y0 = a[i0]\n",
    "    y1 = a[i1]\n",
    "    \n",
    "    for j in range(len(tf)):\n",
    "        pt = tf[j]\n",
    "        \n",
    "        if i == N-1:\n",
    "            x1 = t[i1] + N\n",
    "            if pt < t[0]:\n",
    "                pt = tf[j] + N\n",
    "        \n",
    "        if np.abs(pt - x0) < 1e-15:\n",
    "            Ff[j] = y0\n",
    "        elif np.abs(pt - x1) < 1e-15:\n",
    "            Ff[j] = y1\n",
    "        elif pt > x0 and pt < x1:\n",
    "            Ff[j] = lin_interp(pt, x0, x1, y0, y1)  "
   ]
  },
  {
   "cell_type": "code",
   "execution_count": 11,
   "id": "bda0e644-5bcd-42cd-8a3c-da23fc3a2dec",
   "metadata": {},
   "outputs": [
    {
     "data": {
      "text/plain": [
       "[<matplotlib.lines.Line2D at 0x12f67a7c0>]"
      ]
     },
     "execution_count": 11,
     "metadata": {},
     "output_type": "execute_result"
    },
    {
     "data": {
      "image/png": "[encoded data removed]",
      "text/plain": [
       "<Figure size 432x288 with 1 Axes>"
      ]
     },
     "metadata": {
      "needs_background": "light"
     },
     "output_type": "display_data"
    }
   ],
   "source": [
    "plt.plot(np.fft.fftshift(t), np.fft.fftshift(a), 'or')\n",
    "plt.plot(tf, Ff)"
   ]
  }
 ],
 "metadata": {
  "kernelspec": {
   "display_name": "Python 3 (ipykernel)",
   "language": "python",
   "name": "python3"
  },
  "language_info": {
   "codemirror_mode": {
    "name": "ipython",
    "version": 3
   },
   "file_extension": ".py",
   "mimetype": "text/x-python",
   "name": "python",
   "nbconvert_exporter": "python",
   "pygments_lexer": "ipython3",
   "version": "3.9.6"
  }
 },
 "nbformat": 4,
 "nbformat_minor": 5
}
