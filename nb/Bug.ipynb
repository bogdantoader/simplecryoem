{
 "cells": [
  {
   "cell_type": "code",
   "execution_count": null,
   "id": "bd76791c-6978-4f30-93ea-1fee9b394ec9",
   "metadata": {},
   "outputs": [],
   "source": [
    "import numpy as np\n",
    "import jax.numpy as jnp\n",
    "import jax\n",
    "import copy\n",
    "from jax.config import config\n",
    "from  matplotlib import pyplot as plt\n",
    "\n",
    "\n",
    "config.update(\"jax_enable_x64\", True)"
   ]
  },
  {
   "cell_type": "code",
   "execution_count": null,
   "id": "c1a46f63-4402-46ce-8835-a19d87abede7",
   "metadata": {},
   "outputs": [],
   "source": [
    "x0=np.random.randn(4,4)\n",
    "#x = jnp.array(np.array([[1.0,2.0],[3.0,4.0]]),dtype=jnp.float64)*(0.5+1j)\n",
    "#x = jnp.array(np.random.randn(2,2))*(0.5+1j)\n",
    "x = jnp.array(x0)*1j\n",
    "print(x)\n",
    "#x=x*2\n",
    "#print(x)"
   ]
  },
  {
   "cell_type": "code",
   "execution_count": null,
   "id": "49a4abdc-8c3d-47e9-a309-2f93bbd512f3",
   "metadata": {},
   "outputs": [],
   "source": [
    "y=jnp.fft.irfft2(x)\n",
    "print(x)"
   ]
  },
  {
   "cell_type": "code",
   "execution_count": null,
   "id": "3cee3cb1-6621-424d-bdfb-d0012f76fb21",
   "metadata": {},
   "outputs": [],
   "source": [
    "#img_cpx2 = pts2img2_one(pts00, idxft[:,0,:,:])\n",
    "img_cpx2 = jnp.array(np.random.randn(4,4))*1j\n",
    "\n",
    "#img_cpx2 = img_cpx2*1.0\n",
    "plt.imshow(jnp.real(img_cpx2));plt.colorbar()"
   ]
  },
  {
   "cell_type": "code",
   "execution_count": null,
   "id": "090fbc8c-611f-4c79-9763-8db78c75a8a7",
   "metadata": {},
   "outputs": [],
   "source": [
    "y=jnp.fft.irfft2(img_cpx2)\n",
    "y2=jnp.real(img_cpx2)\n",
    "plt.imshow(y2);plt.colorbar()"
   ]
  },
  {
   "cell_type": "code",
   "execution_count": null,
   "id": "24318465-b490-4691-80ba-2796680f7448",
   "metadata": {},
   "outputs": [],
   "source": []
  }
 ],
 "metadata": {
  "kernelspec": {
   "display_name": "Python 3 (ipykernel)",
   "language": "python",
   "name": "python3"
  },
  "language_info": {
   "codemirror_mode": {
    "name": "ipython",
    "version": 3
   },
   "file_extension": ".py",
   "mimetype": "text/x-python",
   "name": "python",
   "nbconvert_exporter": "python",
   "pygments_lexer": "ipython3",
   "version": "3.10.2"
  }
 },
 "nbformat": 4,
 "nbformat_minor": 5
}
