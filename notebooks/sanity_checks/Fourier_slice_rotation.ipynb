{
 "cells": [
  {
   "cell_type": "markdown",
   "id": "c8a379fd-99ed-49ce-b4d3-9a3cedd75878",
   "metadata": {},
   "source": [
    "# Rotation of a slice in the Fourier domain"
   ]
  },
  {
   "cell_type": "markdown",
   "id": "4b1e576a-2ec0-486d-82c0-1305ac92c3a4",
   "metadata": {},
   "source": [
    "**Sanity check**: Here we show more clearly what may seem confusing in ```Fourier_point_source.ipynb```. Note that we are interested in the rotation of the coordinates and the approximate locations of the initial points on the rotated grid, so we use the ```tab10``` color map to be able to track each point, and this is useful only with nearest neighbour interpolation. This doesn't tell us much when doing linear interpolation (since there is no link between the colours and the intermediate values)."
   ]
  },
  {
   "cell_type": "code",
   "execution_count": 1,
   "id": "7806f387-152e-4ee9-a37b-4b4a3350a930",
   "metadata": {},
   "outputs": [
    {
     "name": "stderr",
     "output_type": "stream",
     "text": [
      "2024-10-11 00:24:15.241336: W external/xla/xla/service/gpu/nvptx_compiler.cc:930] The NVIDIA driver's CUDA version is 12.5 which is older than the PTX compiler version 12.6.77. Because the driver is older than the PTX compiler version, XLA is disabling parallel compilation, which may slow down compilation. You should update your NVIDIA driver or use the NVIDIA-provided CUDA forward compatibility packages.\n"
     ]
    }
   ],
   "source": [
    "import numpy as np\n",
    "import jax.numpy as jnp\n",
    "from matplotlib import pyplot as plt\n",
    "\n",
    "from simplecryoem.forwardmodel import interpolate\n",
    "from simplecryoem.forwardmodel.projection import rotate_z0"
   ]
  },
  {
   "cell_type": "code",
   "execution_count": 2,
   "id": "27e99b62-4621-4b41-ac00-595bef99b2b1",
   "metadata": {},
   "outputs": [
    {
     "name": "stdout",
     "output_type": "stream",
     "text": [
      "The autoreload extension is already loaded. To reload it, use:\n",
      "  %reload_ext autoreload\n"
     ]
    }
   ],
   "source": [
    "%load_ext autoreload\n",
    "%autoreload 2"
   ]
  },
  {
   "cell_type": "code",
   "execution_count": 3,
   "id": "0c65ed58-c15e-4966-aaeb-637d8a454db0",
   "metadata": {},
   "outputs": [
    {
     "data": {
      "image/png": "[encoded data removed]",
      "text/plain": [
       "<Figure size 640x480 with 2 Axes>"
      ]
     },
     "metadata": {},
     "output_type": "display_data"
    }
   ],
   "source": [
    "nx = 5\n",
    "dx = 0.2\n",
    "\n",
    "v = np.zeros([nx, nx, nx])\n",
    "v[0:3, 0:3, 2] = np.arange(1, 10).reshape(3, 3)\n",
    "\n",
    "plt.imshow(v[:, :, 2])\n",
    "plt.colorbar()\n",
    "\n",
    "plt.set_cmap(\"tab10\")"
   ]
  },
  {
   "cell_type": "code",
   "execution_count": 4,
   "id": "02085e01-041b-4ac8-8cee-29034a911425",
   "metadata": {},
   "outputs": [],
   "source": [
    "x_freq = jnp.fft.fftfreq(nx, dx)\n",
    "y_freq = jnp.fft.fftfreq(nx, dx)\n",
    "z_freq = jnp.fft.fftfreq(nx, dx)\n",
    "\n",
    "x_grid = jnp.array([x_freq[1], len(x_freq)])\n",
    "y_grid = jnp.array([y_freq[1], len(y_freq)])\n",
    "z_grid = jnp.array([z_freq[1], len(z_freq)])"
   ]
  },
  {
   "cell_type": "code",
   "execution_count": 5,
   "id": "c7a7a988-d7ef-4896-936d-edd61363b46d",
   "metadata": {},
   "outputs": [],
   "source": [
    "angles = jnp.array([0, 0, jnp.pi / 4])\n",
    "slice_coords = rotate_z0(x_grid, angles)"
   ]
  },
  {
   "cell_type": "code",
   "execution_count": 6,
   "id": "1ef0271d-2817-44ad-9f74-8d0e5fca8991",
   "metadata": {},
   "outputs": [],
   "source": [
    "Xr = slice_coords[0, :].reshape(nx, nx)\n",
    "Yr = slice_coords[1, :].reshape(nx, nx)"
   ]
  },
  {
   "cell_type": "code",
   "execution_count": 7,
   "id": "7b00fec2-8e45-40aa-b969-3385c2e942db",
   "metadata": {},
   "outputs": [
    {
     "data": {
      "text/plain": [
       "<matplotlib.colorbar.Colorbar at 0x7f2c43792a10>"
      ]
     },
     "execution_count": 7,
     "metadata": {},
     "output_type": "execute_result"
    },
    {
     "data": {
      "image/png": "[encoded data removed]",
      "text/plain": [
       "<Figure size 640x480 with 2 Axes>"
      ]
     },
     "metadata": {},
     "output_type": "display_data"
    }
   ],
   "source": [
    "slice_interp = interpolate(slice_coords, x_grid, jnp.fft.ifftshift(v), \"nn\")\n",
    "slice_interp_2d = jnp.fft.fftshift(slice_interp.reshape(v.shape[0], v.shape[1]))\n",
    "plt.imshow(slice_interp_2d)\n",
    "plt.colorbar()"
   ]
  }
 ],
 "metadata": {
  "kernelspec": {
   "display_name": "Python 3 (ipykernel)",
   "language": "python",
   "name": "python3"
  },
  "language_info": {
   "codemirror_mode": {
    "name": "ipython",
    "version": 3
   },
   "file_extension": ".py",
   "mimetype": "text/x-python",
   "name": "python",
   "nbconvert_exporter": "python",
   "pygments_lexer": "ipython3",
   "version": "3.11.10"
  }
 },
 "nbformat": 4,
 "nbformat_minor": 5
}
