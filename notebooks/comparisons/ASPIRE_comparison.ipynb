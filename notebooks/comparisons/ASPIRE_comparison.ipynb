{
 "cells": [
  {
   "cell_type": "markdown",
   "id": "099f5ebe-3a20-4ab8-83ea-b7032d06a3c4",
   "metadata": {},
   "source": [
    "# ASPIRE ab initio pipeline on simulated data -- comparison with simplecryoem "
   ]
  },
  {
   "cell_type": "markdown",
   "id": "0888f1ac-5c56-41aa-911f-4c4d6ce17cee",
   "metadata": {},
   "source": [
    "This does not currently run, as it requires a local installation of [ASPIRE](https://github.com/ComputationalCryoEM/ASPIRE-Python) for the comparison.\n",
    "\n",
    "Will be fixed when ASPIRE replaces pyem as a dependency."
   ]
  },
  {
   "cell_type": "code",
   "execution_count": null,
   "id": "75b7877d-74c9-4b8a-87f1-8d9ee887e116",
   "metadata": {},
   "outputs": [],
   "source": [
    "import jax\n",
    "import numpy as np\n",
    "import jax.numpy as jnp\n",
    "import mrcfile\n",
    "import logging\n",
    "from matplotlib import pyplot as plt\n",
    "from jax.config import config\n",
    "\n",
    "from simplecryoem.projection import project_spatial\n",
    "from simplecryoem.jaxops import Slice\n",
    "from simplecryoem.utils import volume_comp, mip_z, volume_fourier\n",
    "from simplecryoem.aspire_interface import get_params_from_aspire\n",
    "\n",
    "from aspire.abinitio import CLSyncVoting\n",
    "from aspire.basis import FFBBasis3D\n",
    "from aspire.classification import RIRClass2D\n",
    "from aspire.noise import AnisotropicNoiseEstimator\n",
    "from aspire.operators import FunctionFilter, RadialCTFFilter\n",
    "from aspire.reconstruction import MeanEstimator\n",
    "from aspire.source import Simulation\n",
    "from aspire.utils.coor_trans import (\n",
    "    get_aligned_rotations,\n",
    "    get_rots_mse,\n",
    "    register_rotations,\n",
    ")\n",
    "from aspire.volume import Volume"
   ]
  },
  {
   "cell_type": "code",
   "execution_count": null,
   "id": "63d6142c-9e53-4004-909d-9078d41ebeb9",
   "metadata": {},
   "outputs": [],
   "source": [
    "%load_ext autoreload\n",
    "%autoreload 2\n",
    "\n",
    "config.update(\"jax_enable_x64\", True)\n",
    "plt.rcParams[\"figure.figsize\"] = 6, 6\n",
    "logger = logging.getLogger(__name__)"
   ]
  },
  {
   "cell_type": "markdown",
   "id": "6a8eba4e-5d2f-48da-8b70-f19f3617bed8",
   "metadata": {},
   "source": [
    "### Parameters"
   ]
  },
  {
   "cell_type": "code",
   "execution_count": null,
   "id": "290897ad-c7e7-460b-aa7d-8e772a6f62e0",
   "metadata": {},
   "outputs": [],
   "source": [
    "interactive = True  # Draw blocking interactive plots?\n",
    "do_cov2d = False  # Use CWF coefficients\n",
    "img_size = 32  # Downsample the volume to a desired resolution\n",
    "num_imgs = 1000  # How many images in our source.\n",
    "n_classes = 100  # How many class averages to compute.\n",
    "n_nbor = 10  # How many neighbors to stack\n",
    "# noise_variance = 5e-7  # Set a target noise variance\n",
    "noise_variance = 1e-5\n",
    "out_dir = \"../data/out_dev\"  # Directory to print volumes to\n",
    "save_to_file = True"
   ]
  },
  {
   "cell_type": "markdown",
   "id": "6779c409-d936-4107-9652-c2b9279abac8",
   "metadata": {},
   "source": [
    "### Simulation data"
   ]
  },
  {
   "cell_type": "code",
   "execution_count": null,
   "id": "4541c3ab-3004-4689-922e-7d18e8e05767",
   "metadata": {},
   "outputs": [],
   "source": [
    "vol_file = \"/home/bt387/project/simple_cryoem/data/emdb/emd_2660.map\"\n",
    "\n",
    "og_v = Volume.load(vol_file, dtype=np.float64)\n",
    "logger.info(\"Original volume map data\" f\" shape: {og_v.shape} dtype:{og_v.dtype}\")"
   ]
  },
  {
   "cell_type": "code",
   "execution_count": null,
   "id": "f80d5cf8-7a69-4df6-8c7a-8c04088e64cf",
   "metadata": {},
   "outputs": [],
   "source": [
    "plt.imshow(og_v[0, 180])\n",
    "plt.colorbar()"
   ]
  },
  {
   "cell_type": "code",
   "execution_count": null,
   "id": "fb3aa74b-fcf3-402c-a8d0-b1a189a8de4c",
   "metadata": {},
   "outputs": [],
   "source": [
    "logger.info(f\"Downsampling to {(img_size,)*3}\")\n",
    "v = og_v.downsample(img_size)\n",
    "L = v.resolution"
   ]
  },
  {
   "cell_type": "code",
   "execution_count": null,
   "id": "3250208a-c66c-4a0a-a1e2-5b528f553226",
   "metadata": {},
   "outputs": [],
   "source": [
    "plt.imshow(v[0, 16])\n",
    "plt.colorbar()"
   ]
  },
  {
   "cell_type": "code",
   "execution_count": null,
   "id": "c2abec8e-a092-40a9-852e-08827e730e75",
   "metadata": {},
   "outputs": [],
   "source": [
    "if save_to_file:\n",
    "    with mrcfile.new(out_dir + \"/og_v.mrc\", overwrite=True) as mrc:\n",
    "        mrc.set_data(og_v._data.astype(np.float32))"
   ]
  },
  {
   "cell_type": "code",
   "execution_count": null,
   "id": "3478fc33-2fa0-48ed-996a-d8dcfd696bf7",
   "metadata": {},
   "outputs": [],
   "source": [
    "if save_to_file:\n",
    "    with mrcfile.new(out_dir + \"/og_v_downsampled.mrc\", overwrite=True) as mrc:\n",
    "        mrc.set_data(v._data.astype(np.float32))"
   ]
  },
  {
   "cell_type": "code",
   "execution_count": null,
   "id": "3046a022-3761-402b-a9cb-653c8878ebda",
   "metadata": {},
   "outputs": [],
   "source": [
    "# Then create a filter based on that variance\n",
    "# This is an example of a custom noise profile\n",
    "def noise_function(x, y):\n",
    "    alpha = 1\n",
    "    beta = 1\n",
    "    # White\n",
    "    f1 = noise_variance\n",
    "    # Violet-ish\n",
    "    f2 = noise_variance * (x * x + y * y) / L * L\n",
    "    return (alpha * f1 + beta * f2) / 2.0\n",
    "\n",
    "\n",
    "custom_noise_filter = FunctionFilter(noise_function)"
   ]
  },
  {
   "cell_type": "code",
   "execution_count": null,
   "id": "51c6c0d0-b397-4df0-af2d-d7f1519be674",
   "metadata": {},
   "outputs": [],
   "source": [
    "logger.info(\"Initialize CTF filters.\")\n",
    "# Create some CTF effects\n",
    "pixel_size = 5 * 65 / img_size  # Pixel size of the images (in angstroms)\n",
    "voltage = 200  # Voltage (in KV)\n",
    "defocus_min = 1.5e4  # Minimum defocus value (in angstroms)\n",
    "defocus_max = 2.5e4  # Maximum defocus value (in angstroms)\n",
    "defocus_ct = 7  # Number of defocus groups.\n",
    "Cs = 2.0  # Spherical aberration\n",
    "alpha = 0.1  # Amplitude contrast\n",
    "\n",
    "# Create filters\n",
    "ctf_filters = [\n",
    "    RadialCTFFilter(pixel_size, voltage, defocus=d, Cs=2.0, alpha=0.1)\n",
    "    for d in np.linspace(defocus_min, defocus_max, defocus_ct)\n",
    "]"
   ]
  },
  {
   "cell_type": "code",
   "execution_count": null,
   "id": "41a7e3f1-1bd4-4678-9afe-7146a658c6ea",
   "metadata": {},
   "outputs": [],
   "source": [
    "# Finally create the Simulation\n",
    "src = Simulation(\n",
    "    L=v.resolution,\n",
    "    n=num_imgs,\n",
    "    vols=v,\n",
    "    noise_filter=None,  # custom_noise_filter,\n",
    "    unique_filters=None,  # ctf_filters,\n",
    ")\n",
    "\n",
    "angles = src.angles\n",
    "shifts = src.offsets\n",
    "\n",
    "angles[0] = [0, 0, 0]\n",
    "shifts[0] = [0, 0]\n",
    "\n",
    "# Finally create the Simulation\n",
    "src = Simulation(\n",
    "    L=v.resolution,\n",
    "    n=num_imgs,\n",
    "    vols=v,\n",
    "    angles=angles,\n",
    "    offsets=shifts,\n",
    "    noise_filter=custom_noise_filter,\n",
    "    unique_filters=ctf_filters,\n",
    ")\n",
    "# Peek\n",
    "if interactive:\n",
    "    src.images(0, 10).show()"
   ]
  },
  {
   "cell_type": "code",
   "execution_count": null,
   "id": "e17907fe-6e46-4f59-8b2a-5a0433b2ad33",
   "metadata": {},
   "outputs": [],
   "source": [
    "# Use phase_flip to attempt correcting for CTF.\n",
    "logger.info(\"Perform phase flip to input images.\")\n",
    "# src.phase_flip()"
   ]
  },
  {
   "cell_type": "code",
   "execution_count": null,
   "id": "8fdc112c-1196-4e3a-826e-a87472cfab56",
   "metadata": {},
   "outputs": [],
   "source": [
    "# Estimate the noise and `Whiten` based on the estimated noise\n",
    "aiso_noise_estimator = AnisotropicNoiseEstimator(src)\n",
    "# src.whiten(aiso_noise_estimator.filter)"
   ]
  },
  {
   "cell_type": "code",
   "execution_count": null,
   "id": "52cabfec-70b4-4531-9bb1-ba8a42034314",
   "metadata": {},
   "outputs": [],
   "source": [
    "# Plot the noise profile for inspection\n",
    "if interactive:\n",
    "    plt.imshow(aiso_noise_estimator.filter.evaluate_grid(L))\n",
    "    plt.colorbar()\n",
    "    plt.show()\n",
    "\n",
    "# Peek, what do the whitened images look like...\n",
    "if interactive:\n",
    "    src.images(0, 10).show()"
   ]
  },
  {
   "cell_type": "code",
   "execution_count": null,
   "id": "39723db2-d971-482b-b0b4-e085599c0cf1",
   "metadata": {},
   "outputs": [],
   "source": [
    "# Cache to memory for some speedup\n",
    "src.cache()"
   ]
  },
  {
   "cell_type": "markdown",
   "id": "4c36882e-39dc-4e88-9e25-e1ca8ef8e677",
   "metadata": {},
   "source": [
    "### Class Averaging"
   ]
  },
  {
   "cell_type": "code",
   "execution_count": null,
   "id": "5624b0f3-939f-4e5b-9220-9482df18a06d",
   "metadata": {},
   "outputs": [],
   "source": [
    "logging.disable(logging.INFO)"
   ]
  },
  {
   "cell_type": "code",
   "execution_count": null,
   "id": "e7404250-367b-4605-8211-e17d7616cc1f",
   "metadata": {},
   "outputs": [],
   "source": [
    "logger.info(\"Begin Class Averaging\")\n",
    "\n",
    "rir = RIRClass2D(\n",
    "    src,  # Source used for classification\n",
    "    fspca_components=400,\n",
    "    bispectrum_components=300,  # Compressed Features after last PCA stage.\n",
    "    n_nbor=n_nbor,\n",
    "    n_classes=n_classes,\n",
    "    large_pca_implementation=\"legacy\",\n",
    "    nn_implementation=\"sklearn\",\n",
    "    bispectrum_implementation=\"legacy\",\n",
    "    averager=None,\n",
    ")\n",
    "\n",
    "classes, reflections, distances = rir.classify()\n",
    "avgs = rir.averages(classes, reflections, distances)\n",
    "if interactive:\n",
    "    avgs.images(0, 10).show()"
   ]
  },
  {
   "cell_type": "markdown",
   "id": "092883ef-fd43-475a-bafd-825c382ffe4b",
   "metadata": {},
   "source": [
    "### Common Line Estimation"
   ]
  },
  {
   "cell_type": "code",
   "execution_count": null,
   "id": "618c24ff-8421-47a9-8f80-ec4167795782",
   "metadata": {},
   "outputs": [],
   "source": [
    "logger.info(\"Begin Orientation Estimation\")\n",
    "\n",
    "# Stash true rotations for later comparison,\n",
    "#   note this line only works with naive class selection...\n",
    "true_rotations = src.rots[:n_classes]\n",
    "\n",
    "orient_est = CLSyncVoting(avgs, n_theta=36)\n",
    "# Get the estimated rotations\n",
    "orient_est.estimate_rotations()\n",
    "rots_est = orient_est.rotations\n",
    "\n",
    "logger.info(\"Compare with known rotations\")\n",
    "# Compare with known true rotations\n",
    "Q_mat, flag = register_rotations(rots_est, true_rotations)\n",
    "regrot = get_aligned_rotations(rots_est, Q_mat, flag)\n",
    "mse_reg = get_rots_mse(regrot, true_rotations)\n",
    "logger.info(\n",
    "    f\"MSE deviation of the estimated rotations using register_rotations : {mse_reg}\\n\"\n",
    ")"
   ]
  },
  {
   "cell_type": "markdown",
   "id": "ccbbbc6b-a287-4474-803c-c9791fc1c47e",
   "metadata": {},
   "source": [
    "### Volume reconstruction"
   ]
  },
  {
   "cell_type": "code",
   "execution_count": null,
   "id": "537c5408-a223-4a64-8841-75783279cde8",
   "metadata": {},
   "outputs": [],
   "source": [
    "logger.info(\"Begin Volume reconstruction\")\n",
    "\n",
    "# Assign the estimated rotations to the class averages\n",
    "avgs.rots = rots_est\n",
    "\n",
    "# Create a reasonable Basis for the 3d Volume\n",
    "basis = FFBBasis3D((v.resolution,) * 3, dtype=v.dtype)\n",
    "\n",
    "# Setup an estimator to perform the back projection.\n",
    "estimator = MeanEstimator(avgs, basis)\n",
    "\n",
    "# Perform the estimation and save the volume.\n",
    "estimated_volume = estimator.estimate()\n",
    "fn = f\"{out_dir}/estimated_volume_n{num_imgs}_c{n_classes}_m{n_nbor}_{img_size}.mrc\"\n",
    "estimated_volume.save(fn, overwrite=True)\n",
    "\n",
    "# Peek at result\n",
    "if interactive:\n",
    "    plt.imshow(np.sum(estimated_volume[0], axis=-1))\n",
    "    plt.show()"
   ]
  },
  {
   "cell_type": "code",
   "execution_count": null,
   "id": "f8b64e76-45fd-4758-abba-04ebd4eee451",
   "metadata": {},
   "outputs": [],
   "source": [
    "if save_to_file:\n",
    "    with mrcfile.new(out_dir + \"/rec_aspire.mrc\", overwrite=True) as mrc:\n",
    "        mrc.set_data(estimated_volume._data.astype(np.float32))"
   ]
  },
  {
   "cell_type": "markdown",
   "id": "dad1d1b4-8107-4b79-8961-1d40d03b06de",
   "metadata": {},
   "source": [
    "### Aspire vs JaxEM"
   ]
  },
  {
   "cell_type": "code",
   "execution_count": null,
   "id": "49455b36-4e71-449f-a214-b63516f8b469",
   "metadata": {},
   "outputs": [],
   "source": [
    "nx = img_size\n",
    "shape = np.array([nx, nx, nx])\n",
    "dimensions = pixel_size * shape\n",
    "\n",
    "# A volume with components\n",
    "centres = np.array([[0, 0, 0], [0.1, 0.1, 0], [0.1, -0.1, 0]]) * 500\n",
    "radii = np.array([0.1, 0.05, 0.05]) * 500\n",
    "intensities = np.array([10, 7, 20])\n",
    "\n",
    "myv = jnp.array(\n",
    "    volume_comp(shape, dimensions, centres, radii, intensities, False, sigma=0.1)\n",
    ")\n",
    "mip_z(myv)\n",
    "# plt.imshow(v[:,:,int(np.floor(v.shape[2]/2))])\n",
    "plt.colorbar()\n",
    "plt.title(\"Volume_comp MIP\")"
   ]
  },
  {
   "cell_type": "markdown",
   "id": "fd3b6dd0-26b8-4ea6-98ed-43f0ff48d0f0",
   "metadata": {},
   "source": [
    "### Compare for specific angles/shifts/ctf_params "
   ]
  },
  {
   "cell_type": "code",
   "execution_count": null,
   "id": "7a67ad8e-bdd2-4a52-b512-e19a4a05b426",
   "metadata": {},
   "outputs": [],
   "source": [
    "angles = np.array(angles)\n",
    "shifts = np.array(shifts)\n",
    "\n",
    "angles[0] = [jnp.pi / 6, jnp.pi / 4, jnp.pi / 2]\n",
    "shifts[0] = [-5.4, 6.8]\n",
    "\n",
    "v._data = np.array([myv])\n",
    "\n",
    "# Finally create the Simulation\n",
    "src = Simulation(\n",
    "    L=v.resolution,\n",
    "    n=num_imgs,\n",
    "    vols=v,\n",
    "    angles=angles,\n",
    "    offsets=shifts,\n",
    "    noise_filter=None,  # custom_noise_filter,\n",
    "    unique_filters=ctf_filters,\n",
    ")\n",
    "src.phase_flip()\n",
    "\n",
    "N = 1\n",
    "nx = img_size\n",
    "\n",
    "vol = jnp.array(v._data[0])\n",
    "vol_f, x_grid, _ = volume_fourier(v._data[0], pixel_size)\n",
    "imgs = jnp.array(src.images(0, N).data)\n",
    "imgs_f = np.array([np.fft.fft2(np.fft.ifftshift(img)) for img in imgs])\n",
    "angles = (\n",
    "    src.angles\n",
    ")  # \"_rlnAngleRot\", \"_rlnAngleTilt\", \"_rlnAnglePsi\" in radians -> I store psi, tilt,rot\n",
    "shifts = src.offsets\n",
    "\n",
    "print(f\"x_grid = {x_grid}\")"
   ]
  },
  {
   "cell_type": "code",
   "execution_count": null,
   "id": "a3397815-679a-41fd-830a-ba381b8bfea2",
   "metadata": {},
   "outputs": [],
   "source": [
    "angles[0]"
   ]
  },
  {
   "cell_type": "code",
   "execution_count": null,
   "id": "3e929e78-e63c-4a99-9ee5-7542073968bf",
   "metadata": {},
   "outputs": [],
   "source": [
    "myshifts = jnp.array([shifts[0, 1], shifts[0, 0]]) * pixel_size  # This seems correct\n",
    "myangles = -jnp.array([angles[0, 2], angles[0, 1], angles[0, 0]])\n",
    "myctf_params = jnp.array(\n",
    "    [\n",
    "        jnp.array(\n",
    "            [\n",
    "                f.defocus_u,\n",
    "                f.defocus_v,\n",
    "                f.defocus_ang,\n",
    "                0,\n",
    "                f.voltage,\n",
    "                f.alpha,\n",
    "                f.Cs,\n",
    "                0,\n",
    "                2 * pixel_size,\n",
    "            ]\n",
    "        )\n",
    "        for f in ctf_filters\n",
    "    ]\n",
    ")[0]"
   ]
  },
  {
   "cell_type": "code",
   "execution_count": null,
   "id": "92a1665a-b9f7-495c-8bae-df65ceb0acb1",
   "metadata": {},
   "outputs": [],
   "source": [
    "pr = project_spatial(vol, myangles, pixel_size, myshifts, ctf_params=myctf_params)\n",
    "pr = pr / jnp.max(pr)\n",
    "plt.imshow(pr)\n",
    "plt.colorbar()\n",
    "plt.title(\"my projection\")"
   ]
  },
  {
   "cell_type": "code",
   "execution_count": null,
   "id": "56880e0a-58f5-4e3d-8a5d-66afee051480",
   "metadata": {},
   "outputs": [],
   "source": [
    "pr_a = imgs[0] / jnp.max(imgs[0])\n",
    "plt.imshow(pr_a)\n",
    "plt.colorbar()\n",
    "plt.title(\"aspire\")"
   ]
  },
  {
   "cell_type": "code",
   "execution_count": null,
   "id": "d23e94be-f141-4dba-a7ba-c9a51231b707",
   "metadata": {},
   "outputs": [],
   "source": [
    "plt.imshow(pr - pr_a)\n",
    "plt.colorbar()"
   ]
  },
  {
   "cell_type": "markdown",
   "id": "09ae8f7f-8e92-4446-94df-b6b3bf0db687",
   "metadata": {},
   "source": [
    "### Compare for many images"
   ]
  },
  {
   "cell_type": "code",
   "execution_count": null,
   "id": "7a367fd0-dac8-41d8-9ecd-5fc162b9b9fb",
   "metadata": {},
   "outputs": [],
   "source": [
    "@jax.jit\n",
    "def calc_img_err(img1, img2, mask):\n",
    "    img1 = jnp.fft.fftshift(img1 * mask)\n",
    "    img1 = img1 / jnp.max(jnp.abs(img1))\n",
    "\n",
    "    img2 = jnp.fft.fftshift(img2 * mask)\n",
    "    img2 = img2 / jnp.max(jnp.abs(img2))\n",
    "\n",
    "    return jnp.mean(jnp.abs(img1 - img2))\n",
    "\n",
    "\n",
    "calc_img_err_vmap = jax.vmap(calc_img_err, in_axes=(0, 0, None))"
   ]
  },
  {
   "cell_type": "code",
   "execution_count": null,
   "id": "db48917c-a9fa-4be6-8af8-7d95e736323b",
   "metadata": {},
   "outputs": [],
   "source": [
    "src = Simulation(\n",
    "    L=v.resolution,\n",
    "    n=num_imgs,\n",
    "    vols=v,\n",
    "    noise_filter=None,  # custom_noise_filter,\n",
    "    unique_filters=ctf_filters,\n",
    ")\n",
    "src.phase_flip()\n",
    "\n",
    "vol = jnp.array(v._data[0])\n",
    "vol_f, _, _ = volume_fourier(v._data[0], pixel_size)"
   ]
  },
  {
   "cell_type": "code",
   "execution_count": null,
   "id": "0adcef7b-d9fc-4e67-88de-7f505fd04c84",
   "metadata": {},
   "outputs": [],
   "source": [
    "(\n",
    "    imgs_aspire,\n",
    "    imgs_f_aspire,\n",
    "    angles,\n",
    "    shifts,\n",
    "    ctf_params,\n",
    "    x_grid,\n",
    "    mask,\n",
    ") = get_params_from_aspire(src, pixel_size)\n",
    "slice_obj = Slice(x_grid, mask)\n",
    "imgs_f = slice_obj.slice_array(vol_f, angles, shifts, ctf_params).reshape([-1, nx, nx])"
   ]
  },
  {
   "cell_type": "code",
   "execution_count": null,
   "id": "f6bf7588-f766-4c1b-8ebc-952c95721df8",
   "metadata": {},
   "outputs": [],
   "source": [
    "errs = calc_img_err_vmap(imgs_f, imgs_f_aspire, mask)\n",
    "print(f\"errs.shape = {errs.shape}\")\n",
    "print(f\"jnp.max(errs) = {jnp.max(errs)}\")"
   ]
  },
  {
   "cell_type": "code",
   "execution_count": null,
   "id": "cbe84ad2-47de-486d-ab03-37a02cafe2e5",
   "metadata": {},
   "outputs": [],
   "source": [
    "imgidx = 13\n",
    "\n",
    "img1 = jnp.fft.fftshift(imgs_f_aspire[imgidx] * mask)\n",
    "img1 = img1 / jnp.max(jnp.abs(img1))\n",
    "\n",
    "img2 = jnp.fft.fftshift(imgs_f[imgidx] * mask)\n",
    "img2 = img2 / jnp.max(jnp.abs(img2))\n",
    "\n",
    "err_f = jnp.abs(img1 - img2)\n",
    "\n",
    "plt.rcParams[\"figure.figsize\"] = 18, 6\n",
    "\n",
    "plt.subplot(1, 3, 1)\n",
    "plt.imshow(jnp.abs(img1))\n",
    "plt.colorbar()\n",
    "plt.title(\"Aspire\")\n",
    "\n",
    "plt.subplot(1, 3, 2)\n",
    "plt.imshow(jnp.abs(img2))\n",
    "plt.colorbar()\n",
    "plt.title(\"JaxEM\")\n",
    "\n",
    "plt.subplot(1, 3, 3)\n",
    "plt.imshow(err_f)\n",
    "plt.colorbar()\n",
    "plt.title(\"Error\")\n",
    "\n",
    "plt.rcParams[\"figure.figsize\"] = 6, 6"
   ]
  },
  {
   "cell_type": "code",
   "execution_count": null,
   "id": "e88671c8-3ff5-483c-9f26-cfa2508951a4",
   "metadata": {},
   "outputs": [],
   "source": [
    "img1 = jnp.real(jnp.fft.fftshift(jnp.fft.ifft2(imgs_f_aspire[imgidx] * mask)))\n",
    "img1 = img1 / jnp.max(img1)\n",
    "\n",
    "img2 = jnp.real(jnp.fft.fftshift(jnp.fft.ifft2(imgs_f[imgidx] * mask)))\n",
    "img2 = img2 / jnp.max(img2)\n",
    "\n",
    "plt.rcParams[\"figure.figsize\"] = 18, 6\n",
    "\n",
    "plt.subplot(1, 3, 1)\n",
    "plt.imshow(img1)\n",
    "plt.colorbar()\n",
    "plt.title(\"Aspire\")\n",
    "\n",
    "plt.subplot(1, 3, 2)\n",
    "plt.imshow(img2)\n",
    "plt.colorbar()\n",
    "plt.title(\"JaxEM\")\n",
    "\n",
    "plt.subplot(1, 3, 3)\n",
    "plt.imshow(img1 - img2)\n",
    "plt.colorbar()\n",
    "plt.title(\"Error\")\n",
    "\n",
    "plt.rcParams[\"figure.figsize\"] = 6, 6"
   ]
  }
 ],
 "metadata": {
  "kernelspec": {
   "display_name": "Python 3 (ipykernel)",
   "language": "python",
   "name": "python3"
  },
  "language_info": {
   "codemirror_mode": {
    "name": "ipython",
    "version": 3
   },
   "file_extension": ".py",
   "mimetype": "text/x-python",
   "name": "python",
   "nbconvert_exporter": "python",
   "pygments_lexer": "ipython3",
   "version": "3.11.4"
  }
 },
 "nbformat": 4,
 "nbformat_minor": 5
}
