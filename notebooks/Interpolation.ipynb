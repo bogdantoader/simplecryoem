{
 "cells": [
  {
   "cell_type": "code",
   "execution_count": 1,
   "id": "6015ea72-a740-4f53-9735-817cfcb14221",
   "metadata": {},
   "outputs": [],
   "source": [
    "from matplotlib import pyplot as plt\n",
    "import jax.numpy as jnp\n",
    "from jax import random\n",
    "\n",
    "from simplecryoem.emfiles import load_data\n",
    "\n",
    "from simplecryoem.preprocess import preprocess\n",
    "from simplecryoem.forwardmodel import Slice\n",
    "from simplecryoem.optimization import Loss, GradV, sgd, get_sgd_vol_ops, precon_sgd\n",
    "from simplecryoem.utils import mip_x"
   ]
  },
  {
   "cell_type": "code",
   "execution_count": 2,
   "id": "53eeaa7a-60d8-4f35-892a-de6394ad65da",
   "metadata": {},
   "outputs": [
    {
     "name": "stdout",
     "output_type": "stream",
     "text": [
      "The autoreload extension is already loaded. To reload it, use:\n",
      "  %reload_ext autoreload\n"
     ]
    }
   ],
   "source": [
    "%load_ext autoreload\n",
    "%autoreload 2\n",
    "\n",
    "plt.rcParams[\"figure.figsize\"] = 6, 6"
   ]
  },
  {
   "cell_type": "code",
   "execution_count": 3,
   "id": "1ba3edd8-0dea-421b-b087-091370b33c8d",
   "metadata": {},
   "outputs": [
    {
     "data": {
      "text/plain": [
       "'/ceph.groups/scheres_grp/btoader/Code/simplecryoem/notebooks'"
      ]
     },
     "execution_count": 3,
     "metadata": {},
     "output_type": "execute_result"
    }
   ],
   "source": [
    "pwd"
   ]
  },
  {
   "cell_type": "code",
   "execution_count": 4,
   "id": "f74baf30-b084-4632-99e4-6c33d06f8a65",
   "metadata": {},
   "outputs": [],
   "source": [
    "#data_dir = \"../../../RELION_TUTORIAL_SET/\"\n",
    "#star_file = \"particles.star\"\n",
    "\n",
    "data_dir = \"../../../Relion5_SPA_tutorial/\"\n",
    "star_file = \"Refine3D/job029/run_data.star\""
   ]
  },
  {
   "cell_type": "code",
   "execution_count": 5,
   "id": "392c80d0-dbe9-4a53-af41-ad917ee67d45",
   "metadata": {},
   "outputs": [
    {
     "name": "stdout",
     "output_type": "stream",
     "text": [
      "load_data: number of partcles: 4452\n",
      "load_data: data loaded, time:  1.49 sec.\n",
      "params0 keys: dict_keys(['ctf_params', 'pixel_size', 'angles', 'shifts'])\n",
      "imgs0.shape = (4452, 256, 256)\n"
     ]
    }
   ],
   "source": [
    "params0, imgs0 = load_data(data_dir, star_file, load_imgs=True, fourier=False)\n",
    "\n",
    "print(f\"params0 keys: {params0.keys()}\")\n",
    "print(f\"imgs0.shape = {imgs0.shape}\")"
   ]
  },
  {
   "cell_type": "code",
   "execution_count": 6,
   "id": "b82bd19e-020b-4f38-bfdf-7404ff340f3b",
   "metadata": {},
   "outputs": [
    {
     "name": "stdout",
     "output_type": "stream",
     "text": [
      "imgs0.shape = (4452, 256, 256)\n",
      "pixel_size0.shape = (4452,)\n",
      "angles0.shape = (4452, 3)\n",
      "shifts0.shape = (4452, 2)\n",
      "ctf_params0.shape = (4452, 9)\n",
      "N0 = 4452\n",
      "idx not provided\n",
      "N = 4452\n",
      "Taking FFT of the images:\n",
      "Batch 1/10  0.46 sec.\n",
      "Batch 2/10  0.46 sec.\n",
      "Batch 3/10  0.46 sec.\n",
      "Batch 4/10  0.46 sec.\n",
      "Batch 5/10  0.46 sec.\n",
      "Batch 6/10  0.46 sec.\n",
      "Batch 7/10  0.46 sec.\n",
      "Batch 8/10  0.46 sec.\n",
      "Batch 9/10  0.46 sec.\n",
      "Batch 10/10  0.46 sec.\n",
      "FFT done. Time:  5.06 sec.\n",
      "x_grid = [3.13873258e-03 2.56000000e+02]\n",
      "Vectorised imgs_f.shape = (4452, 65536)\n",
      "Mask radius = 0.39861903801512377\n",
      "Noise free, setting sigma_noise = 1\n"
     ]
    }
   ],
   "source": [
    "processed_data = preprocess(imgs0, params0)"
   ]
  },
  {
   "cell_type": "code",
   "execution_count": 7,
   "id": "da5765bc-78c9-4234-a1e2-3ae8f66f2578",
   "metadata": {},
   "outputs": [],
   "source": [
    "key = random.PRNGKey(20)"
   ]
  },
  {
   "cell_type": "code",
   "execution_count": 8,
   "id": "7270fe57-5c85-4c96-8172-d8397c61019f",
   "metadata": {},
   "outputs": [],
   "source": [
    "N = 4000\n",
    "\n",
    "key, subkey = random.split(key)\n",
    "idx_shuffle = random.permutation(subkey, N)"
   ]
  },
  {
   "cell_type": "code",
   "execution_count": 9,
   "id": "60967793-6510-4423-80ea-cc109cd09669",
   "metadata": {},
   "outputs": [],
   "source": [
    "# Images and image-specific parameters\n",
    "# (orientation angles, in-plane shifts, ctf parameters)\n",
    "\n",
    "imgs_f = processed_data[\"imgs_f\"][idx_shuffle]\n",
    "angles = processed_data[\"angles\"][idx_shuffle]\n",
    "shifts = processed_data[\"shifts\"][idx_shuffle]\n",
    "ctf_params = processed_data[\"ctf_params\"][idx_shuffle]\n",
    "\n",
    "# These parameters are the same for all images\n",
    "pixel_size = processed_data[\"pixel_size\"]\n",
    "nx = processed_data[\"nx\"]\n",
    "mask = processed_data[\"mask\"]\n",
    "sigma_noise = processed_data[\"sigma_noise\"]\n",
    "x_grid = processed_data[\"x_grid\"]\n",
    "N = imgs_f.shape[0]"
   ]
  },
  {
   "cell_type": "code",
   "execution_count": 10,
   "id": "ad0ab756-68d7-4136-b7e9-cabe4114a0be",
   "metadata": {},
   "outputs": [],
   "source": [
    "# Use the x=0 slice of the 3D mask output by the preprocess function\n",
    "mask2d = mask[0].reshape(-1)\n",
    "imgs_f = imgs_f * mask2d"
   ]
  },
  {
   "cell_type": "code",
   "execution_count": 12,
   "id": "8a3051fb-dd25-4cc5-b50c-f43c365834fd",
   "metadata": {},
   "outputs": [],
   "source": [
    "# Regularization parameter\n",
    "alpha = 1e-8\n",
    "\n",
    "slice_obj_tri = Slice(x_grid, mask=mask, interp_method=\"tri\")\n",
    "loss_obj_tri = Loss(slice_obj_tri, alpha=alpha)\n",
    "gradv_obj_tri = GradV(loss_obj_tri)\n",
    "\n",
    "slice_obj_nn = Slice(x_grid, mask=mask, interp_method=\"nn\")\n",
    "loss_obj_nn = Loss(slice_obj_nn, alpha=alpha)\n",
    "gradv_obj_nn = GradV(loss_obj_nn)"
   ]
  },
  {
   "cell_type": "code",
   "execution_count": 13,
   "id": "3039ca98-4182-4fdb-ad75-c2e6edf69e16",
   "metadata": {},
   "outputs": [],
   "source": [
    "grad_func_tri1, loss_func_tri1, hvp_func_tri1, _ = get_sgd_vol_ops(\n",
    "    gradv_obj_tri, loss_obj_tri, angles[:N//2], shifts[:N//2], ctf_params[:N//2], imgs_f[:N//2], sigma_noise\n",
    ")\n",
    "\n",
    "grad_func_tri2, loss_func_tri2, hvp_func_tri2, _ = get_sgd_vol_ops(\n",
    "    gradv_obj_tri, loss_obj_tri, angles[N//2:], shifts[N//2:], ctf_params[N//2:], imgs_f[N//2:], sigma_noise\n",
    ")"
   ]
  },
  {
   "cell_type": "code",
   "execution_count": 14,
   "id": "7de5b7ec-6408-4557-9f62-65226071ce69",
   "metadata": {},
   "outputs": [],
   "source": [
    "grad_func_nn1, loss_func_nn1, hvp_func_nn1, _ = get_sgd_vol_ops(\n",
    "    gradv_obj_nn, loss_obj_nn, angles[:N//2], shifts[:N//2], ctf_params[:N//2], imgs_f[:N//2], sigma_noise\n",
    ")\n",
    "\n",
    "grad_func_nn2, loss_func_nn2, hvp_func_nn2, _ = get_sgd_vol_ops(\n",
    "    gradv_obj_nn, loss_obj_nn, angles[N//2:], shifts[N//2:], ctf_params[N//2:], imgs_f[N//2:], sigma_noise\n",
    ")"
   ]
  },
  {
   "cell_type": "markdown",
   "id": "25d5a8c1-4be6-4ee9-b5fc-086332c7ff83",
   "metadata": {},
   "source": [
    "### SGD"
   ]
  },
  {
   "cell_type": "code",
   "execution_count": 15,
   "id": "71b5f0fd-de1f-47c5-9fa1-8c401ce8e1a8",
   "metadata": {},
   "outputs": [],
   "source": [
    "# Initialization\n",
    "v0 = jnp.zeros((nx, nx, nx))\n",
    "D0 = jnp.ones(v0.shape)\n",
    "\n",
    "N_epochs = 100\n",
    "batch_size = 200\n",
    "step_size = 1\n",
    "c = 0.9\n",
    "\n",
    "# Parameters specific to preconditioned SGD,\n",
    "# see the documentation of precon_sgd for details.\n",
    "beta = 0.5\n",
    "thresh = 1e-6"
   ]
  },
  {
   "cell_type": "code",
   "execution_count": 16,
   "id": "c1c09394-cb50-49b7-a86e-c36f822b207e",
   "metadata": {},
   "outputs": [],
   "source": [
    "N_epochs = 100\n"
   ]
  },
  {
   "cell_type": "code",
   "execution_count": 17,
   "id": "80a3393e-dfac-4603-8b8d-335837706af7",
   "metadata": {},
   "outputs": [
    {
     "name": "stdout",
     "output_type": "stream",
     "text": [
      "Epoch 1/20\n"
     ]
    },
    {
     "name": "stderr",
     "output_type": "stream",
     "text": [
      "100%|█████████████████████████████████████████████████████████████████████████████████████████████████████████████████████████████████████████████████████████████████████████████████████| 10/10 [00:11<00:00,  1.12s/it, eta=9.675e-02, loss=1.717e+09]\n"
     ]
    },
    {
     "name": "stdout",
     "output_type": "stream",
     "text": [
      "  Loss =  1.74314334e+09\n",
      "  eta = 0.09674588159999999\n",
      "  alpha= 1e-06\n",
      "Epoch 2/20\n"
     ]
    },
    {
     "name": "stderr",
     "output_type": "stream",
     "text": [
      "100%|█████████████████████████████████████████████████████████████████████████████████████████████████████████████████████████████████████████████████████████████████████████████████████| 10/10 [00:02<00:00,  3.74it/s, eta=3.023e-03, loss=1.744e+09]\n"
     ]
    },
    {
     "name": "stdout",
     "output_type": "stream",
     "text": [
      "  Loss =  1.74085642e+09\n",
      "  eta = 0.0030233087999999996\n",
      "  alpha= 1e-06\n",
      "Epoch 3/20\n"
     ]
    },
    {
     "name": "stderr",
     "output_type": "stream",
     "text": [
      "100%|█████████████████████████████████████████████████████████████████████████████████████████████████████████████████████████████████████████████████████████████████████████████████████| 10/10 [00:02<00:00,  3.72it/s, eta=3.023e-03, loss=1.738e+09]\n"
     ]
    },
    {
     "name": "stdout",
     "output_type": "stream",
     "text": [
      "  Loss =  1.73851066e+09\n",
      "  eta = 0.0030233087999999996\n",
      "  alpha= 1e-06\n",
      "Epoch 4/20\n"
     ]
    },
    {
     "name": "stderr",
     "output_type": "stream",
     "text": [
      "100%|█████████████████████████████████████████████████████████████████████████████████████████████████████████████████████████████████████████████████████████████████████████████████████| 10/10 [00:02<00:00,  3.91it/s, eta=6.047e-03, loss=1.739e+09]\n"
     ]
    },
    {
     "name": "stdout",
     "output_type": "stream",
     "text": [
      "  Loss =  1.73564431e+09\n",
      "  eta = 0.006046617599999999\n",
      "  alpha= 1e-06\n",
      "Epoch 5/20\n"
     ]
    },
    {
     "name": "stderr",
     "output_type": "stream",
     "text": [
      "100%|█████████████████████████████████████████████████████████████████████████████████████████████████████████████████████████████████████████████████████████████████████████████████████| 10/10 [00:02<00:00,  3.93it/s, eta=6.047e-03, loss=1.728e+09]\n"
     ]
    },
    {
     "name": "stdout",
     "output_type": "stream",
     "text": [
      "  Loss =  1.73333268e+09\n",
      "  eta = 0.006046617599999999\n",
      "  alpha= 1e-06\n",
      "Epoch 6/20\n"
     ]
    },
    {
     "name": "stderr",
     "output_type": "stream",
     "text": [
      "100%|█████████████████████████████████████████████████████████████████████████████████████████████████████████████████████████████████████████████████████████████████████████████████████| 10/10 [00:02<00:00,  3.86it/s, eta=6.047e-03, loss=1.732e+09]\n"
     ]
    },
    {
     "name": "stdout",
     "output_type": "stream",
     "text": [
      "  Loss =  1.73009078e+09\n",
      "  eta = 0.006046617599999999\n",
      "  alpha= 1e-06\n",
      "Epoch 7/20\n"
     ]
    },
    {
     "name": "stderr",
     "output_type": "stream",
     "text": [
      "100%|█████████████████████████████████████████████████████████████████████████████████████████████████████████████████████████████████████████████████████████████████████████████████████| 10/10 [00:02<00:00,  3.81it/s, eta=6.047e-03, loss=1.731e+09]\n"
     ]
    },
    {
     "name": "stdout",
     "output_type": "stream",
     "text": [
      "  Loss =  1.72712881e+09\n",
      "  eta = 0.006046617599999999\n",
      "  alpha= 1e-06\n",
      "Epoch 8/20\n"
     ]
    },
    {
     "name": "stderr",
     "output_type": "stream",
     "text": [
      "100%|█████████████████████████████████████████████████████████████████████████████████████████████████████████████████████████████████████████████████████████████████████████████████████| 10/10 [00:02<00:00,  3.90it/s, eta=6.047e-03, loss=1.723e+09]\n"
     ]
    },
    {
     "name": "stdout",
     "output_type": "stream",
     "text": [
      "  Loss =  1.72467121e+09\n",
      "  eta = 0.006046617599999999\n",
      "  alpha= 1e-06\n",
      "Epoch 9/20\n"
     ]
    },
    {
     "name": "stderr",
     "output_type": "stream",
     "text": [
      "100%|█████████████████████████████████████████████████████████████████████████████████████████████████████████████████████████████████████████████████████████████████████████████████████| 10/10 [00:02<00:00,  3.94it/s, eta=1.209e-02, loss=1.716e+09]\n"
     ]
    },
    {
     "name": "stdout",
     "output_type": "stream",
     "text": [
      "  Loss =  1.72239385e+09\n",
      "  eta = 0.012093235199999998\n",
      "  alpha= 1e-06\n",
      "Epoch 10/20\n"
     ]
    },
    {
     "name": "stderr",
     "output_type": "stream",
     "text": [
      "100%|█████████████████████████████████████████████████████████████████████████████████████████████████████████████████████████████████████████████████████████████████████████████████████| 10/10 [00:02<00:00,  3.99it/s, eta=1.209e-02, loss=1.717e+09]\n"
     ]
    },
    {
     "name": "stdout",
     "output_type": "stream",
     "text": [
      "  Loss =  1.71991366e+09\n",
      "  eta = 0.012093235199999998\n",
      "  alpha= 1e-06\n",
      "Epoch 11/20\n"
     ]
    },
    {
     "name": "stderr",
     "output_type": "stream",
     "text": [
      "100%|█████████████████████████████████████████████████████████████████████████████████████████████████████████████████████████████████████████████████████████████████████████████████████| 10/10 [00:02<00:00,  3.87it/s, eta=6.047e-03, loss=1.719e+09]\n"
     ]
    },
    {
     "name": "stdout",
     "output_type": "stream",
     "text": [
      "  Loss =  1.71837155e+09\n",
      "  eta = 0.006046617599999999\n",
      "  alpha= 1e-06\n",
      "Epoch 12/20\n"
     ]
    },
    {
     "name": "stderr",
     "output_type": "stream",
     "text": [
      "100%|█████████████████████████████████████████████████████████████████████████████████████████████████████████████████████████████████████████████████████████████████████████████████████| 10/10 [00:02<00:00,  4.01it/s, eta=1.209e-02, loss=1.716e+09]\n"
     ]
    },
    {
     "name": "stdout",
     "output_type": "stream",
     "text": [
      "  Loss =  1.71650220e+09\n",
      "  eta = 0.012093235199999998\n",
      "  alpha= 1e-06\n",
      "Epoch 13/20\n"
     ]
    },
    {
     "name": "stderr",
     "output_type": "stream",
     "text": [
      "100%|█████████████████████████████████████████████████████████████████████████████████████████████████████████████████████████████████████████████████████████████████████████████████████| 10/10 [00:02<00:00,  3.89it/s, eta=6.047e-03, loss=1.718e+09]\n"
     ]
    },
    {
     "name": "stdout",
     "output_type": "stream",
     "text": [
      "  Loss =  1.71491488e+09\n",
      "  eta = 0.006046617599999999\n",
      "  alpha= 1e-06\n",
      "Epoch 14/20\n"
     ]
    },
    {
     "name": "stderr",
     "output_type": "stream",
     "text": [
      "100%|█████████████████████████████████████████████████████████████████████████████████████████████████████████████████████████████████████████████████████████████████████████████████████| 10/10 [00:02<00:00,  3.94it/s, eta=1.209e-02, loss=1.711e+09]\n"
     ]
    },
    {
     "name": "stdout",
     "output_type": "stream",
     "text": [
      "  Loss =  1.71368587e+09\n",
      "  eta = 0.012093235199999998\n",
      "  alpha= 1e-06\n",
      "Epoch 15/20\n"
     ]
    },
    {
     "name": "stderr",
     "output_type": "stream",
     "text": [
      "100%|█████████████████████████████████████████████████████████████████████████████████████████████████████████████████████████████████████████████████████████████████████████████████████| 10/10 [00:02<00:00,  3.89it/s, eta=6.047e-03, loss=1.713e+09]\n"
     ]
    },
    {
     "name": "stdout",
     "output_type": "stream",
     "text": [
      "  Loss =  1.71259331e+09\n",
      "  eta = 0.006046617599999999\n",
      "  alpha= 1e-06\n",
      "Epoch 16/20\n"
     ]
    },
    {
     "name": "stderr",
     "output_type": "stream",
     "text": [
      "100%|█████████████████████████████████████████████████████████████████████████████████████████████████████████████████████████████████████████████████████████████████████████████████████| 10/10 [00:02<00:00,  3.99it/s, eta=1.209e-02, loss=1.717e+09]\n"
     ]
    },
    {
     "name": "stdout",
     "output_type": "stream",
     "text": [
      "  Loss =  1.71218590e+09\n",
      "  eta = 0.012093235199999998\n",
      "  alpha= 1e-06\n",
      "Epoch 17/20\n"
     ]
    },
    {
     "name": "stderr",
     "output_type": "stream",
     "text": [
      "100%|█████████████████████████████████████████████████████████████████████████████████████████████████████████████████████████████████████████████████████████████████████████████████████| 10/10 [00:02<00:00,  3.88it/s, eta=1.209e-02, loss=1.708e+09]\n"
     ]
    },
    {
     "name": "stdout",
     "output_type": "stream",
     "text": [
      "  Loss =  1.71138360e+09\n",
      "  eta = 0.012093235199999998\n",
      "  alpha= 1e-06\n",
      "Epoch 18/20\n"
     ]
    },
    {
     "name": "stderr",
     "output_type": "stream",
     "text": [
      "100%|█████████████████████████████████████████████████████████████████████████████████████████████████████████████████████████████████████████████████████████████████████████████████████| 10/10 [00:02<00:00,  4.07it/s, eta=2.419e-02, loss=1.700e+09]\n"
     ]
    },
    {
     "name": "stdout",
     "output_type": "stream",
     "text": [
      "  Loss =  1.71061468e+09\n",
      "  eta = 0.024186470399999997\n",
      "  alpha= 1e-06\n",
      "Epoch 19/20\n"
     ]
    },
    {
     "name": "stderr",
     "output_type": "stream",
     "text": [
      "100%|█████████████████████████████████████████████████████████████████████████████████████████████████████████████████████████████████████████████████████████████████████████████████████| 10/10 [00:02<00:00,  4.00it/s, eta=1.209e-02, loss=1.712e+09]\n"
     ]
    },
    {
     "name": "stdout",
     "output_type": "stream",
     "text": [
      "  Loss =  1.70932364e+09\n",
      "  eta = 0.012093235199999998\n",
      "  alpha= 1e-06\n",
      "Epoch 20/20\n"
     ]
    },
    {
     "name": "stderr",
     "output_type": "stream",
     "text": [
      "100%|█████████████████████████████████████████████████████████████████████████████████████████████████████████████████████████████████████████████████████████████████████████████████████| 10/10 [00:02<00:00,  3.91it/s, eta=6.047e-03, loss=1.720e+09]\n"
     ]
    },
    {
     "name": "stdout",
     "output_type": "stream",
     "text": [
      "  Loss =  1.70839012e+09\n",
      "  eta = 0.006046617599999999\n",
      "  alpha= 1e-06\n"
     ]
    }
   ],
   "source": [
    "key, key_alg = random.split(key)\n",
    "\n",
    "v_sgdp_tri1, loss_sgdp_tri1, _, _ = precon_sgd(\n",
    "    key_alg,\n",
    "    loss_func_tri1,\n",
    "    grad_func_tri1,\n",
    "    hvp_func_tri1,\n",
    "    v0,\n",
    "    step_size,\n",
    "    D0,\n",
    "    beta,\n",
    "    thresh,\n",
    "    N_epochs,\n",
    "    batch_size,\n",
    "    N//2,\n",
    "    c=c,\n",
    "    adaptive_step_size=True,\n",
    "    iter_display=1,\n",
    ")"
   ]
  },
  {
   "cell_type": "code",
   "execution_count": 18,
   "id": "95e7d24d-6f49-4a07-81d8-0230612234ee",
   "metadata": {},
   "outputs": [
    {
     "name": "stdout",
     "output_type": "stream",
     "text": [
      "Epoch 1/20\n"
     ]
    },
    {
     "name": "stderr",
     "output_type": "stream",
     "text": [
      "100%|█████████████████████████████████████████████████████████████████████████████████████████████████████████████████████████████████████████████████████████████████████████████████████| 10/10 [00:03<00:00,  2.58it/s, eta=9.675e-02, loss=1.720e+09]\n"
     ]
    },
    {
     "name": "stdout",
     "output_type": "stream",
     "text": [
      "  Loss =  1.74189077e+09\n",
      "  eta = 0.09674588159999999\n",
      "  alpha= 1e-06\n",
      "Epoch 2/20\n"
     ]
    },
    {
     "name": "stderr",
     "output_type": "stream",
     "text": [
      "100%|█████████████████████████████████████████████████████████████████████████████████████████████████████████████████████████████████████████████████████████████████████████████████████| 10/10 [00:02<00:00,  3.66it/s, eta=3.023e-03, loss=1.740e+09]\n"
     ]
    },
    {
     "name": "stdout",
     "output_type": "stream",
     "text": [
      "  Loss =  1.73914933e+09\n",
      "  eta = 0.0030233087999999996\n",
      "  alpha= 1e-06\n",
      "Epoch 3/20\n"
     ]
    },
    {
     "name": "stderr",
     "output_type": "stream",
     "text": [
      "100%|█████████████████████████████████████████████████████████████████████████████████████████████████████████████████████████████████████████████████████████████████████████████████████| 10/10 [00:02<00:00,  3.81it/s, eta=3.023e-03, loss=1.739e+09]\n"
     ]
    },
    {
     "name": "stdout",
     "output_type": "stream",
     "text": [
      "  Loss =  1.73685823e+09\n",
      "  eta = 0.0030233087999999996\n",
      "  alpha= 1e-06\n",
      "Epoch 4/20\n"
     ]
    },
    {
     "name": "stderr",
     "output_type": "stream",
     "text": [
      "100%|█████████████████████████████████████████████████████████████████████████████████████████████████████████████████████████████████████████████████████████████████████████████████████| 10/10 [00:02<00:00,  3.94it/s, eta=6.047e-03, loss=1.730e+09]\n"
     ]
    },
    {
     "name": "stdout",
     "output_type": "stream",
     "text": [
      "  Loss =  1.73401532e+09\n",
      "  eta = 0.006046617599999999\n",
      "  alpha= 1e-06\n",
      "Epoch 5/20\n"
     ]
    },
    {
     "name": "stderr",
     "output_type": "stream",
     "text": [
      "100%|█████████████████████████████████████████████████████████████████████████████████████████████████████████████████████████████████████████████████████████████████████████████████████| 10/10 [00:02<00:00,  3.91it/s, eta=6.047e-03, loss=1.730e+09]\n"
     ]
    },
    {
     "name": "stdout",
     "output_type": "stream",
     "text": [
      "  Loss =  1.73088964e+09\n",
      "  eta = 0.006046617599999999\n",
      "  alpha= 1e-06\n",
      "Epoch 6/20\n"
     ]
    },
    {
     "name": "stderr",
     "output_type": "stream",
     "text": [
      "100%|█████████████████████████████████████████████████████████████████████████████████████████████████████████████████████████████████████████████████████████████████████████████████████| 10/10 [00:02<00:00,  3.92it/s, eta=6.047e-03, loss=1.728e+09]\n"
     ]
    },
    {
     "name": "stdout",
     "output_type": "stream",
     "text": [
      "  Loss =  1.72777117e+09\n",
      "  eta = 0.006046617599999999\n",
      "  alpha= 1e-06\n",
      "Epoch 7/20\n"
     ]
    },
    {
     "name": "stderr",
     "output_type": "stream",
     "text": [
      "100%|█████████████████████████████████████████████████████████████████████████████████████████████████████████████████████████████████████████████████████████████████████████████████████| 10/10 [00:02<00:00,  3.92it/s, eta=6.047e-03, loss=1.726e+09]\n"
     ]
    },
    {
     "name": "stdout",
     "output_type": "stream",
     "text": [
      "  Loss =  1.72505016e+09\n",
      "  eta = 0.006046617599999999\n",
      "  alpha= 1e-06\n",
      "Epoch 8/20\n"
     ]
    },
    {
     "name": "stderr",
     "output_type": "stream",
     "text": [
      "100%|█████████████████████████████████████████████████████████████████████████████████████████████████████████████████████████████████████████████████████████████████████████████████████| 10/10 [00:02<00:00,  3.91it/s, eta=6.047e-03, loss=1.722e+09]\n"
     ]
    },
    {
     "name": "stdout",
     "output_type": "stream",
     "text": [
      "  Loss =  1.72250741e+09\n",
      "  eta = 0.006046617599999999\n",
      "  alpha= 1e-06\n",
      "Epoch 9/20\n"
     ]
    },
    {
     "name": "stderr",
     "output_type": "stream",
     "text": [
      "100%|█████████████████████████████████████████████████████████████████████████████████████████████████████████████████████████████████████████████████████████████████████████████████████| 10/10 [00:02<00:00,  3.68it/s, eta=1.512e-03, loss=1.722e+09]\n"
     ]
    },
    {
     "name": "stdout",
     "output_type": "stream",
     "text": [
      "  Loss =  1.72112791e+09\n",
      "  eta = 0.0015116543999999998\n",
      "  alpha= 1e-06\n",
      "Epoch 10/20\n"
     ]
    },
    {
     "name": "stderr",
     "output_type": "stream",
     "text": [
      "100%|█████████████████████████████████████████████████████████████████████████████████████████████████████████████████████████████████████████████████████████████████████████████████████| 10/10 [00:02<00:00,  3.81it/s, eta=3.023e-03, loss=1.726e+09]\n"
     ]
    },
    {
     "name": "stdout",
     "output_type": "stream",
     "text": [
      "  Loss =  1.71884394e+09\n",
      "  eta = 0.0030233087999999996\n",
      "  alpha= 1e-06\n",
      "Epoch 11/20\n"
     ]
    },
    {
     "name": "stderr",
     "output_type": "stream",
     "text": [
      "100%|█████████████████████████████████████████████████████████████████████████████████████████████████████████████████████████████████████████████████████████████████████████████████████| 10/10 [00:02<00:00,  3.93it/s, eta=6.047e-03, loss=1.717e+09]\n"
     ]
    },
    {
     "name": "stdout",
     "output_type": "stream",
     "text": [
      "  Loss =  1.71775845e+09\n",
      "  eta = 0.006046617599999999\n",
      "  alpha= 1e-06\n",
      "Epoch 12/20\n"
     ]
    },
    {
     "name": "stderr",
     "output_type": "stream",
     "text": [
      "100%|█████████████████████████████████████████████████████████████████████████████████████████████████████████████████████████████████████████████████████████████████████████████████████| 10/10 [00:02<00:00,  4.04it/s, eta=1.209e-02, loss=1.714e+09]\n"
     ]
    },
    {
     "name": "stdout",
     "output_type": "stream",
     "text": [
      "  Loss =  1.71584422e+09\n",
      "  eta = 0.012093235199999998\n",
      "  alpha= 1e-06\n",
      "Epoch 13/20\n"
     ]
    },
    {
     "name": "stderr",
     "output_type": "stream",
     "text": [
      "100%|█████████████████████████████████████████████████████████████████████████████████████████████████████████████████████████████████████████████████████████████████████████████████████| 10/10 [00:02<00:00,  4.00it/s, eta=1.209e-02, loss=1.714e+09]\n"
     ]
    },
    {
     "name": "stdout",
     "output_type": "stream",
     "text": [
      "  Loss =  1.71459568e+09\n",
      "  eta = 0.012093235199999998\n",
      "  alpha= 1e-06\n",
      "Epoch 14/20\n"
     ]
    },
    {
     "name": "stderr",
     "output_type": "stream",
     "text": [
      "100%|█████████████████████████████████████████████████████████████████████████████████████████████████████████████████████████████████████████████████████████████████████████████████████| 10/10 [00:02<00:00,  3.99it/s, eta=1.209e-02, loss=1.713e+09]\n"
     ]
    },
    {
     "name": "stdout",
     "output_type": "stream",
     "text": [
      "  Loss =  1.71293691e+09\n",
      "  eta = 0.012093235199999998\n",
      "  alpha= 1e-06\n",
      "Epoch 15/20\n"
     ]
    },
    {
     "name": "stderr",
     "output_type": "stream",
     "text": [
      "100%|█████████████████████████████████████████████████████████████████████████████████████████████████████████████████████████████████████████████████████████████████████████████████████| 10/10 [00:02<00:00,  4.08it/s, eta=1.209e-02, loss=1.710e+09]\n"
     ]
    },
    {
     "name": "stdout",
     "output_type": "stream",
     "text": [
      "  Loss =  1.71151432e+09\n",
      "  eta = 0.012093235199999998\n",
      "  alpha= 1e-06\n",
      "Epoch 16/20\n"
     ]
    },
    {
     "name": "stderr",
     "output_type": "stream",
     "text": [
      "100%|█████████████████████████████████████████████████████████████████████████████████████████████████████████████████████████████████████████████████████████████████████████████████████| 10/10 [00:02<00:00,  3.94it/s, eta=6.047e-03, loss=1.713e+09]\n"
     ]
    },
    {
     "name": "stdout",
     "output_type": "stream",
     "text": [
      "  Loss =  1.71082224e+09\n",
      "  eta = 0.006046617599999999\n",
      "  alpha= 1e-06\n",
      "Epoch 17/20\n"
     ]
    },
    {
     "name": "stderr",
     "output_type": "stream",
     "text": [
      "100%|█████████████████████████████████████████████████████████████████████████████████████████████████████████████████████████████████████████████████████████████████████████████████████| 10/10 [00:02<00:00,  3.99it/s, eta=1.209e-02, loss=1.709e+09]\n"
     ]
    },
    {
     "name": "stdout",
     "output_type": "stream",
     "text": [
      "  Loss =  1.71023389e+09\n",
      "  eta = 0.012093235199999998\n",
      "  alpha= 1e-06\n",
      "Epoch 18/20\n"
     ]
    },
    {
     "name": "stderr",
     "output_type": "stream",
     "text": [
      "100%|█████████████████████████████████████████████████████████████████████████████████████████████████████████████████████████████████████████████████████████████████████████████████████| 10/10 [00:02<00:00,  3.99it/s, eta=1.209e-02, loss=1.708e+09]\n"
     ]
    },
    {
     "name": "stdout",
     "output_type": "stream",
     "text": [
      "  Loss =  1.70933435e+09\n",
      "  eta = 0.012093235199999998\n",
      "  alpha= 1e-06\n",
      "Epoch 19/20\n"
     ]
    },
    {
     "name": "stderr",
     "output_type": "stream",
     "text": [
      "100%|█████████████████████████████████████████████████████████████████████████████████████████████████████████████████████████████████████████████████████████████████████████████████████| 10/10 [00:02<00:00,  3.87it/s, eta=6.047e-03, loss=1.722e+09]\n"
     ]
    },
    {
     "name": "stdout",
     "output_type": "stream",
     "text": [
      "  Loss =  1.70829866e+09\n",
      "  eta = 0.006046617599999999\n",
      "  alpha= 1e-06\n",
      "Epoch 20/20\n"
     ]
    },
    {
     "name": "stderr",
     "output_type": "stream",
     "text": [
      "100%|█████████████████████████████████████████████████████████████████████████████████████████████████████████████████████████████████████████████████████████████████████████████████████| 10/10 [00:02<00:00,  3.76it/s, eta=3.023e-03, loss=1.712e+09]\n"
     ]
    },
    {
     "name": "stdout",
     "output_type": "stream",
     "text": [
      "  Loss =  1.70773640e+09\n",
      "  eta = 0.0030233087999999996\n",
      "  alpha= 1e-06\n"
     ]
    }
   ],
   "source": [
    "key, key_alg = random.split(key)\n",
    "\n",
    "v_sgdp_tri2, loss_sgdp_tri2, _, _ = precon_sgd(\n",
    "    key_alg,\n",
    "    loss_func_tri2,\n",
    "    grad_func_tri2,\n",
    "    hvp_func_tri2,\n",
    "    v0,\n",
    "    step_size,\n",
    "    D0,\n",
    "    beta,\n",
    "    thresh,\n",
    "    N_epochs,\n",
    "    batch_size,\n",
    "    N//2,\n",
    "    c=c,\n",
    "    adaptive_step_size=True,\n",
    "    iter_display=1,\n",
    ")"
   ]
  },
  {
   "cell_type": "code",
   "execution_count": 19,
   "id": "c8a70e9d-48be-4a55-b981-684edb7620c7",
   "metadata": {},
   "outputs": [
    {
     "data": {
      "text/plain": [
       "[<matplotlib.lines.Line2D at 0x7fdd08656f00>]"
      ]
     },
     "execution_count": 19,
     "metadata": {},
     "output_type": "execute_result"
    },
    {
     "data": {
      "image/png": "[encoded data removed]",
      "text/plain": [
       "<Figure size 600x600 with 1 Axes>"
      ]
     },
     "metadata": {},
     "output_type": "display_data"
    }
   ],
   "source": [
    "plt.plot(loss_sgdp_tri1)\n",
    "plt.plot(loss_sgdp_tri2)"
   ]
  },
  {
   "cell_type": "code",
   "execution_count": 20,
   "id": "3b0e14da-e90e-42c0-b4d7-fcecf7eaccfa",
   "metadata": {},
   "outputs": [],
   "source": [
    "from simplecryoem.fsc import calc_fsc"
   ]
  },
  {
   "cell_type": "code",
   "execution_count": 21,
   "id": "24ecff04-e92c-4a44-be41-009bdacb7315",
   "metadata": {},
   "outputs": [],
   "source": [
    "res, fsc, shell_pts = calc_fsc(v_sgdp_tri1, v_sgdp_tri2, [1, nx])"
   ]
  },
  {
   "cell_type": "code",
   "execution_count": 22,
   "id": "7293d962-c4cf-445d-8429-3b6d63271aaf",
   "metadata": {},
   "outputs": [
    {
     "data": {
      "image/png": "[encoded data removed]",
      "text/plain": [
       "<Figure size 600x600 with 1 Axes>"
      ]
     },
     "metadata": {},
     "output_type": "display_data"
    }
   ],
   "source": [
    "res_angs = nx * pixel_size[0] / res\n",
    "plt.plot(res_angs[1:], fsc[1:])\n",
    "plt.gca().invert_xaxis()"
   ]
  },
  {
   "cell_type": "code",
   "execution_count": 23,
   "id": "948f04b8-8795-48b1-8286-7f49cdf44e07",
   "metadata": {},
   "outputs": [],
   "source": [
    "N_epochs = 20\n"
   ]
  },
  {
   "cell_type": "code",
   "execution_count": 24,
   "id": "6029f9a6-14bd-4fea-b33f-2d98097ebc62",
   "metadata": {},
   "outputs": [
    {
     "name": "stdout",
     "output_type": "stream",
     "text": [
      "Epoch 1/20\n"
     ]
    },
    {
     "name": "stderr",
     "output_type": "stream",
     "text": [
      "100%|█████████████████████████████████████████████████████████████████████████████████████████████████████████████████████████████████████████████████████████████████████████████████████| 10/10 [00:07<00:00,  1.30it/s, eta=9.675e-02, loss=1.706e+09]\n"
     ]
    },
    {
     "name": "stdout",
     "output_type": "stream",
     "text": [
      "  Loss =  1.73361492e+09\n",
      "  eta = 0.09674588159999999\n",
      "  alpha= 1e-06\n",
      "Epoch 2/20\n"
     ]
    },
    {
     "name": "stderr",
     "output_type": "stream",
     "text": [
      "100%|█████████████████████████████████████████████████████████████████████████████████████████████████████████████████████████████████████████████████████████████████████████████████████| 10/10 [00:02<00:00,  3.37it/s, eta=4.837e-02, loss=1.707e+09]\n"
     ]
    },
    {
     "name": "stdout",
     "output_type": "stream",
     "text": [
      "  Loss =  1.71428981e+09\n",
      "  eta = 0.04837294079999999\n",
      "  alpha= 1e-06\n",
      "Epoch 3/20\n"
     ]
    },
    {
     "name": "stderr",
     "output_type": "stream",
     "text": [
      "100%|█████████████████████████████████████████████████████████████████████████████████████████████████████████████████████████████████████████████████████████████████████████████████████| 10/10 [00:02<00:00,  3.35it/s, eta=4.837e-02, loss=1.698e+09]\n"
     ]
    },
    {
     "name": "stdout",
     "output_type": "stream",
     "text": [
      "  Loss =  1.70755189e+09\n",
      "  eta = 0.04837294079999999\n",
      "  alpha= 1e-06\n",
      "Epoch 4/20\n"
     ]
    },
    {
     "name": "stderr",
     "output_type": "stream",
     "text": [
      "100%|█████████████████████████████████████████████████████████████████████████████████████████████████████████████████████████████████████████████████████████████████████████████████████| 10/10 [00:03<00:00,  3.30it/s, eta=4.837e-02, loss=1.699e+09]\n"
     ]
    },
    {
     "name": "stdout",
     "output_type": "stream",
     "text": [
      "  Loss =  1.70538278e+09\n",
      "  eta = 0.04837294079999999\n",
      "  alpha= 1e-06\n",
      "Epoch 5/20\n"
     ]
    },
    {
     "name": "stderr",
     "output_type": "stream",
     "text": [
      "100%|█████████████████████████████████████████████████████████████████████████████████████████████████████████████████████████████████████████████████████████████████████████████████████| 10/10 [00:03<00:00,  3.33it/s, eta=4.837e-02, loss=1.700e+09]\n"
     ]
    },
    {
     "name": "stdout",
     "output_type": "stream",
     "text": [
      "  Loss =  1.70464185e+09\n",
      "  eta = 0.04837294079999999\n",
      "  alpha= 1e-06\n",
      "Epoch 6/20\n"
     ]
    },
    {
     "name": "stderr",
     "output_type": "stream",
     "text": [
      "100%|█████████████████████████████████████████████████████████████████████████████████████████████████████████████████████████████████████████████████████████████████████████████████████| 10/10 [00:02<00:00,  3.35it/s, eta=4.837e-02, loss=1.708e+09]\n"
     ]
    },
    {
     "name": "stdout",
     "output_type": "stream",
     "text": [
      "  Loss =  1.70446664e+09\n",
      "  eta = 0.04837294079999999\n",
      "  alpha= 1e-06\n",
      "Epoch 7/20\n"
     ]
    },
    {
     "name": "stderr",
     "output_type": "stream",
     "text": [
      "100%|█████████████████████████████████████████████████████████████████████████████████████████████████████████████████████████████████████████████████████████████████████████████████████| 10/10 [00:03<00:00,  3.31it/s, eta=4.837e-02, loss=1.704e+09]\n"
     ]
    },
    {
     "name": "stdout",
     "output_type": "stream",
     "text": [
      "  Loss =  1.70452052e+09\n",
      "  eta = 0.04837294079999999\n",
      "  alpha= 1e-06\n",
      "Epoch 8/20\n"
     ]
    },
    {
     "name": "stderr",
     "output_type": "stream",
     "text": [
      "100%|█████████████████████████████████████████████████████████████████████████████████████████████████████████████████████████████████████████████████████████████████████████████████████| 10/10 [00:03<00:00,  3.33it/s, eta=4.837e-02, loss=1.709e+09]\n"
     ]
    },
    {
     "name": "stdout",
     "output_type": "stream",
     "text": [
      "  Loss =  1.70480174e+09\n",
      "  eta = 0.04837294079999999\n",
      "  alpha= 1e-06\n",
      "Epoch 9/20\n"
     ]
    },
    {
     "name": "stderr",
     "output_type": "stream",
     "text": [
      "100%|█████████████████████████████████████████████████████████████████████████████████████████████████████████████████████████████████████████████████████████████████████████████████████| 10/10 [00:02<00:00,  3.34it/s, eta=4.837e-02, loss=1.699e+09]\n"
     ]
    },
    {
     "name": "stdout",
     "output_type": "stream",
     "text": [
      "  Loss =  1.70452041e+09\n",
      "  eta = 0.04837294079999999\n",
      "  alpha= 1e-06\n",
      "Epoch 10/20\n"
     ]
    },
    {
     "name": "stderr",
     "output_type": "stream",
     "text": [
      "100%|█████████████████████████████████████████████████████████████████████████████████████████████████████████████████████████████████████████████████████████████████████████████████████| 10/10 [00:02<00:00,  3.35it/s, eta=4.837e-02, loss=1.701e+09]\n"
     ]
    },
    {
     "name": "stdout",
     "output_type": "stream",
     "text": [
      "  Loss =  1.70453377e+09\n",
      "  eta = 0.04837294079999999\n",
      "  alpha= 1e-06\n",
      "Epoch 11/20\n"
     ]
    },
    {
     "name": "stderr",
     "output_type": "stream",
     "text": [
      "100%|█████████████████████████████████████████████████████████████████████████████████████████████████████████████████████████████████████████████████████████████████████████████████████| 10/10 [00:02<00:00,  3.39it/s, eta=4.837e-02, loss=1.703e+09]\n"
     ]
    },
    {
     "name": "stdout",
     "output_type": "stream",
     "text": [
      "  Loss =  1.70457069e+09\n",
      "  eta = 0.04837294079999999\n",
      "  alpha= 1e-06\n",
      "Epoch 12/20\n"
     ]
    },
    {
     "name": "stderr",
     "output_type": "stream",
     "text": [
      "100%|█████████████████████████████████████████████████████████████████████████████████████████████████████████████████████████████████████████████████████████████████████████████████████| 10/10 [00:02<00:00,  3.35it/s, eta=4.837e-02, loss=1.702e+09]\n"
     ]
    },
    {
     "name": "stdout",
     "output_type": "stream",
     "text": [
      "  Loss =  1.70503918e+09\n",
      "  eta = 0.04837294079999999\n",
      "  alpha= 1e-06\n",
      "Epoch 13/20\n"
     ]
    },
    {
     "name": "stderr",
     "output_type": "stream",
     "text": [
      "100%|█████████████████████████████████████████████████████████████████████████████████████████████████████████████████████████████████████████████████████████████████████████████████████| 10/10 [00:02<00:00,  3.36it/s, eta=4.837e-02, loss=1.701e+09]\n"
     ]
    },
    {
     "name": "stdout",
     "output_type": "stream",
     "text": [
      "  Loss =  1.70513629e+09\n",
      "  eta = 0.04837294079999999\n",
      "  alpha= 1e-06\n",
      "Epoch 14/20\n"
     ]
    },
    {
     "name": "stderr",
     "output_type": "stream",
     "text": [
      "100%|█████████████████████████████████████████████████████████████████████████████████████████████████████████████████████████████████████████████████████████████████████████████████████| 10/10 [00:03<00:00,  3.32it/s, eta=4.837e-02, loss=1.705e+09]\n"
     ]
    },
    {
     "name": "stdout",
     "output_type": "stream",
     "text": [
      "  Loss =  1.70475404e+09\n",
      "  eta = 0.04837294079999999\n",
      "  alpha= 1e-06\n",
      "Epoch 15/20\n"
     ]
    },
    {
     "name": "stderr",
     "output_type": "stream",
     "text": [
      "100%|█████████████████████████████████████████████████████████████████████████████████████████████████████████████████████████████████████████████████████████████████████████████████████| 10/10 [00:02<00:00,  3.35it/s, eta=4.837e-02, loss=1.705e+09]\n"
     ]
    },
    {
     "name": "stdout",
     "output_type": "stream",
     "text": [
      "  Loss =  1.70509690e+09\n",
      "  eta = 0.04837294079999999\n",
      "  alpha= 1e-06\n",
      "Epoch 16/20\n"
     ]
    },
    {
     "name": "stderr",
     "output_type": "stream",
     "text": [
      "100%|█████████████████████████████████████████████████████████████████████████████████████████████████████████████████████████████████████████████████████████████████████████████████████| 10/10 [00:02<00:00,  3.37it/s, eta=4.837e-02, loss=1.703e+09]\n"
     ]
    },
    {
     "name": "stdout",
     "output_type": "stream",
     "text": [
      "  Loss =  1.70515451e+09\n",
      "  eta = 0.04837294079999999\n",
      "  alpha= 1e-06\n",
      "Epoch 17/20\n"
     ]
    },
    {
     "name": "stderr",
     "output_type": "stream",
     "text": [
      "100%|█████████████████████████████████████████████████████████████████████████████████████████████████████████████████████████████████████████████████████████████████████████████████████| 10/10 [00:02<00:00,  3.37it/s, eta=4.837e-02, loss=1.700e+09]\n"
     ]
    },
    {
     "name": "stdout",
     "output_type": "stream",
     "text": [
      "  Loss =  1.70519744e+09\n",
      "  eta = 0.04837294079999999\n",
      "  alpha= 1e-06\n",
      "Epoch 18/20\n"
     ]
    },
    {
     "name": "stderr",
     "output_type": "stream",
     "text": [
      "100%|█████████████████████████████████████████████████████████████████████████████████████████████████████████████████████████████████████████████████████████████████████████████████████| 10/10 [00:02<00:00,  3.35it/s, eta=4.837e-02, loss=1.707e+09]\n"
     ]
    },
    {
     "name": "stdout",
     "output_type": "stream",
     "text": [
      "  Loss =  1.70519464e+09\n",
      "  eta = 0.04837294079999999\n",
      "  alpha= 1e-06\n",
      "Epoch 19/20\n"
     ]
    },
    {
     "name": "stderr",
     "output_type": "stream",
     "text": [
      "100%|█████████████████████████████████████████████████████████████████████████████████████████████████████████████████████████████████████████████████████████████████████████████████████| 10/10 [00:02<00:00,  3.33it/s, eta=4.837e-02, loss=1.704e+09]\n"
     ]
    },
    {
     "name": "stdout",
     "output_type": "stream",
     "text": [
      "  Loss =  1.70516740e+09\n",
      "  eta = 0.04837294079999999\n",
      "  alpha= 1e-06\n",
      "Epoch 20/20\n"
     ]
    },
    {
     "name": "stderr",
     "output_type": "stream",
     "text": [
      "100%|█████████████████████████████████████████████████████████████████████████████████████████████████████████████████████████████████████████████████████████████████████████████████████| 10/10 [00:02<00:00,  3.35it/s, eta=4.837e-02, loss=1.706e+09]\n"
     ]
    },
    {
     "name": "stdout",
     "output_type": "stream",
     "text": [
      "  Loss =  1.70520117e+09\n",
      "  eta = 0.04837294079999999\n",
      "  alpha= 1e-06\n"
     ]
    }
   ],
   "source": [
    "key, key_alg = random.split(key)\n",
    "\n",
    "v_sgdp_nn1, loss_sgdp_nn1, _, _ = precon_sgd(\n",
    "    key_alg,\n",
    "    loss_func_nn1,\n",
    "    grad_func_nn1,\n",
    "    hvp_func_nn1,\n",
    "    v0,\n",
    "    step_size,\n",
    "    D0,\n",
    "    beta,\n",
    "    thresh,\n",
    "    N_epochs,\n",
    "    batch_size,\n",
    "    N//2,\n",
    "    c=c,\n",
    "    adaptive_step_size=True,\n",
    "    iter_display=1,\n",
    ")"
   ]
  },
  {
   "cell_type": "code",
   "execution_count": 25,
   "id": "c9115aa9-b99d-4649-a014-f8d1aa75fd05",
   "metadata": {},
   "outputs": [
    {
     "name": "stdout",
     "output_type": "stream",
     "text": [
      "Epoch 1/20\n"
     ]
    },
    {
     "name": "stderr",
     "output_type": "stream",
     "text": [
      "100%|█████████████████████████████████████████████████████████████████████████████████████████████████████████████████████████████████████████████████████████████████████████████████████| 10/10 [00:04<00:00,  2.29it/s, eta=9.675e-02, loss=1.694e+09]\n"
     ]
    },
    {
     "name": "stdout",
     "output_type": "stream",
     "text": [
      "  Loss =  1.73217213e+09\n",
      "  eta = 0.09674588159999999\n",
      "  alpha= 1e-06\n",
      "Epoch 2/20\n"
     ]
    },
    {
     "name": "stderr",
     "output_type": "stream",
     "text": [
      "100%|█████████████████████████████████████████████████████████████████████████████████████████████████████████████████████████████████████████████████████████████████████████████████████| 10/10 [00:03<00:00,  3.29it/s, eta=4.837e-02, loss=1.702e+09]\n"
     ]
    },
    {
     "name": "stdout",
     "output_type": "stream",
     "text": [
      "  Loss =  1.71288162e+09\n",
      "  eta = 0.04837294079999999\n",
      "  alpha= 1e-06\n",
      "Epoch 3/20\n"
     ]
    },
    {
     "name": "stderr",
     "output_type": "stream",
     "text": [
      "100%|█████████████████████████████████████████████████████████████████████████████████████████████████████████████████████████████████████████████████████████████████████████████████████| 10/10 [00:03<00:00,  3.28it/s, eta=4.837e-02, loss=1.705e+09]\n"
     ]
    },
    {
     "name": "stdout",
     "output_type": "stream",
     "text": [
      "  Loss =  1.70611054e+09\n",
      "  eta = 0.04837294079999999\n",
      "  alpha= 1e-06\n",
      "Epoch 4/20\n"
     ]
    },
    {
     "name": "stderr",
     "output_type": "stream",
     "text": [
      "100%|█████████████████████████████████████████████████████████████████████████████████████████████████████████████████████████████████████████████████████████████████████████████████████| 10/10 [00:03<00:00,  3.33it/s, eta=4.837e-02, loss=1.703e+09]\n"
     ]
    },
    {
     "name": "stdout",
     "output_type": "stream",
     "text": [
      "  Loss =  1.70408177e+09\n",
      "  eta = 0.04837294079999999\n",
      "  alpha= 1e-06\n",
      "Epoch 5/20\n"
     ]
    },
    {
     "name": "stderr",
     "output_type": "stream",
     "text": [
      "100%|█████████████████████████████████████████████████████████████████████████████████████████████████████████████████████████████████████████████████████████████████████████████████████| 10/10 [00:02<00:00,  3.35it/s, eta=4.837e-02, loss=1.706e+09]\n"
     ]
    },
    {
     "name": "stdout",
     "output_type": "stream",
     "text": [
      "  Loss =  1.70340982e+09\n",
      "  eta = 0.04837294079999999\n",
      "  alpha= 1e-06\n",
      "Epoch 6/20\n"
     ]
    },
    {
     "name": "stderr",
     "output_type": "stream",
     "text": [
      "100%|█████████████████████████████████████████████████████████████████████████████████████████████████████████████████████████████████████████████████████████████████████████████████████| 10/10 [00:03<00:00,  3.27it/s, eta=4.837e-02, loss=1.701e+09]\n"
     ]
    },
    {
     "name": "stdout",
     "output_type": "stream",
     "text": [
      "  Loss =  1.70333148e+09\n",
      "  eta = 0.04837294079999999\n",
      "  alpha= 1e-06\n",
      "Epoch 7/20\n"
     ]
    },
    {
     "name": "stderr",
     "output_type": "stream",
     "text": [
      "100%|█████████████████████████████████████████████████████████████████████████████████████████████████████████████████████████████████████████████████████████████████████████████████████| 10/10 [00:03<00:00,  3.32it/s, eta=4.837e-02, loss=1.703e+09]\n"
     ]
    },
    {
     "name": "stdout",
     "output_type": "stream",
     "text": [
      "  Loss =  1.70334836e+09\n",
      "  eta = 0.04837294079999999\n",
      "  alpha= 1e-06\n",
      "Epoch 8/20\n"
     ]
    },
    {
     "name": "stderr",
     "output_type": "stream",
     "text": [
      "100%|█████████████████████████████████████████████████████████████████████████████████████████████████████████████████████████████████████████████████████████████████████████████████████| 10/10 [00:02<00:00,  3.35it/s, eta=4.837e-02, loss=1.704e+09]\n"
     ]
    },
    {
     "name": "stdout",
     "output_type": "stream",
     "text": [
      "  Loss =  1.70382144e+09\n",
      "  eta = 0.04837294079999999\n",
      "  alpha= 1e-06\n",
      "Epoch 9/20\n"
     ]
    },
    {
     "name": "stderr",
     "output_type": "stream",
     "text": [
      "100%|█████████████████████████████████████████████████████████████████████████████████████████████████████████████████████████████████████████████████████████████████████████████████████| 10/10 [00:02<00:00,  3.34it/s, eta=4.837e-02, loss=1.704e+09]\n"
     ]
    },
    {
     "name": "stdout",
     "output_type": "stream",
     "text": [
      "  Loss =  1.70385753e+09\n",
      "  eta = 0.04837294079999999\n",
      "  alpha= 1e-06\n",
      "Epoch 10/20\n"
     ]
    },
    {
     "name": "stderr",
     "output_type": "stream",
     "text": [
      "100%|█████████████████████████████████████████████████████████████████████████████████████████████████████████████████████████████████████████████████████████████████████████████████████| 10/10 [00:03<00:00,  3.26it/s, eta=4.837e-02, loss=1.701e+09]\n"
     ]
    },
    {
     "name": "stdout",
     "output_type": "stream",
     "text": [
      "  Loss =  1.70385938e+09\n",
      "  eta = 0.04837294079999999\n",
      "  alpha= 1e-06\n",
      "Epoch 11/20\n"
     ]
    },
    {
     "name": "stderr",
     "output_type": "stream",
     "text": [
      "100%|█████████████████████████████████████████████████████████████████████████████████████████████████████████████████████████████████████████████████████████████████████████████████████| 10/10 [00:02<00:00,  3.34it/s, eta=4.837e-02, loss=1.702e+09]\n"
     ]
    },
    {
     "name": "stdout",
     "output_type": "stream",
     "text": [
      "  Loss =  1.70344117e+09\n",
      "  eta = 0.04837294079999999\n",
      "  alpha= 1e-06\n",
      "Epoch 12/20\n"
     ]
    },
    {
     "name": "stderr",
     "output_type": "stream",
     "text": [
      "100%|█████████████████████████████████████████████████████████████████████████████████████████████████████████████████████████████████████████████████████████████████████████████████████| 10/10 [00:03<00:00,  3.26it/s, eta=4.837e-02, loss=1.704e+09]\n"
     ]
    },
    {
     "name": "stdout",
     "output_type": "stream",
     "text": [
      "  Loss =  1.70338184e+09\n",
      "  eta = 0.04837294079999999\n",
      "  alpha= 1e-06\n",
      "Epoch 13/20\n"
     ]
    },
    {
     "name": "stderr",
     "output_type": "stream",
     "text": [
      "100%|█████████████████████████████████████████████████████████████████████████████████████████████████████████████████████████████████████████████████████████████████████████████████████| 10/10 [00:03<00:00,  3.29it/s, eta=4.837e-02, loss=1.705e+09]\n"
     ]
    },
    {
     "name": "stdout",
     "output_type": "stream",
     "text": [
      "  Loss =  1.70382061e+09\n",
      "  eta = 0.04837294079999999\n",
      "  alpha= 1e-06\n",
      "Epoch 14/20\n"
     ]
    },
    {
     "name": "stderr",
     "output_type": "stream",
     "text": [
      "100%|█████████████████████████████████████████████████████████████████████████████████████████████████████████████████████████████████████████████████████████████████████████████████████| 10/10 [00:03<00:00,  3.31it/s, eta=4.837e-02, loss=1.699e+09]\n"
     ]
    },
    {
     "name": "stdout",
     "output_type": "stream",
     "text": [
      "  Loss =  1.70346943e+09\n",
      "  eta = 0.04837294079999999\n",
      "  alpha= 1e-06\n",
      "Epoch 15/20\n"
     ]
    },
    {
     "name": "stderr",
     "output_type": "stream",
     "text": [
      "100%|█████████████████████████████████████████████████████████████████████████████████████████████████████████████████████████████████████████████████████████████████████████████████████| 10/10 [00:03<00:00,  3.33it/s, eta=4.837e-02, loss=1.702e+09]\n"
     ]
    },
    {
     "name": "stdout",
     "output_type": "stream",
     "text": [
      "  Loss =  1.70326678e+09\n",
      "  eta = 0.04837294079999999\n",
      "  alpha= 1e-06\n",
      "Epoch 16/20\n"
     ]
    },
    {
     "name": "stderr",
     "output_type": "stream",
     "text": [
      "100%|█████████████████████████████████████████████████████████████████████████████████████████████████████████████████████████████████████████████████████████████████████████████████████| 10/10 [00:03<00:00,  3.31it/s, eta=4.837e-02, loss=1.702e+09]\n"
     ]
    },
    {
     "name": "stdout",
     "output_type": "stream",
     "text": [
      "  Loss =  1.70376322e+09\n",
      "  eta = 0.04837294079999999\n",
      "  alpha= 1e-06\n",
      "Epoch 17/20\n"
     ]
    },
    {
     "name": "stderr",
     "output_type": "stream",
     "text": [
      "100%|█████████████████████████████████████████████████████████████████████████████████████████████████████████████████████████████████████████████████████████████████████████████████████| 10/10 [00:03<00:00,  3.32it/s, eta=4.837e-02, loss=1.704e+09]\n"
     ]
    },
    {
     "name": "stdout",
     "output_type": "stream",
     "text": [
      "  Loss =  1.70391172e+09\n",
      "  eta = 0.04837294079999999\n",
      "  alpha= 1e-06\n",
      "Epoch 18/20\n"
     ]
    },
    {
     "name": "stderr",
     "output_type": "stream",
     "text": [
      "100%|█████████████████████████████████████████████████████████████████████████████████████████████████████████████████████████████████████████████████████████████████████████████████████| 10/10 [00:03<00:00,  3.31it/s, eta=4.837e-02, loss=1.698e+09]\n"
     ]
    },
    {
     "name": "stdout",
     "output_type": "stream",
     "text": [
      "  Loss =  1.70396174e+09\n",
      "  eta = 0.04837294079999999\n",
      "  alpha= 1e-06\n",
      "Epoch 19/20\n"
     ]
    },
    {
     "name": "stderr",
     "output_type": "stream",
     "text": [
      "100%|█████████████████████████████████████████████████████████████████████████████████████████████████████████████████████████████████████████████████████████████████████████████████████| 10/10 [00:03<00:00,  3.32it/s, eta=4.837e-02, loss=1.697e+09]\n"
     ]
    },
    {
     "name": "stdout",
     "output_type": "stream",
     "text": [
      "  Loss =  1.70350651e+09\n",
      "  eta = 0.04837294079999999\n",
      "  alpha= 1e-06\n",
      "Epoch 20/20\n"
     ]
    },
    {
     "name": "stderr",
     "output_type": "stream",
     "text": [
      "100%|█████████████████████████████████████████████████████████████████████████████████████████████████████████████████████████████████████████████████████████████████████████████████████| 10/10 [00:03<00:00,  3.31it/s, eta=4.837e-02, loss=1.703e+09]\n"
     ]
    },
    {
     "name": "stdout",
     "output_type": "stream",
     "text": [
      "  Loss =  1.70385654e+09\n",
      "  eta = 0.04837294079999999\n",
      "  alpha= 1e-06\n"
     ]
    }
   ],
   "source": [
    "key, key_alg = random.split(key)\n",
    "\n",
    "v_sgdp_nn2, loss_sgdp_nn2, _, _ = precon_sgd(\n",
    "    key_alg,\n",
    "    loss_func_nn2,\n",
    "    grad_func_nn2,\n",
    "    hvp_func_nn2,\n",
    "    v0,\n",
    "    step_size,\n",
    "    D0,\n",
    "    beta,\n",
    "    thresh,\n",
    "    N_epochs,\n",
    "    batch_size,\n",
    "    N//2,\n",
    "    c=c,\n",
    "    adaptive_step_size=True,\n",
    "    iter_display=1,\n",
    ")"
   ]
  },
  {
   "cell_type": "code",
   "execution_count": 26,
   "id": "c43811b0-24d4-4446-b15d-d087901f70cb",
   "metadata": {},
   "outputs": [
    {
     "data": {
      "text/plain": [
       "[<matplotlib.lines.Line2D at 0x7fdc606bddf0>]"
      ]
     },
     "execution_count": 26,
     "metadata": {},
     "output_type": "execute_result"
    },
    {
     "data": {
      "image/png": "[encoded data removed]",
      "text/plain": [
       "<Figure size 600x600 with 1 Axes>"
      ]
     },
     "metadata": {},
     "output_type": "display_data"
    }
   ],
   "source": [
    "plt.plot(loss_sgdp_nn1)\n",
    "plt.plot(loss_sgdp_nn2)\n"
   ]
  },
  {
   "cell_type": "code",
   "execution_count": 27,
   "id": "5569da62-bd7c-40ab-9f27-8580d9c55a04",
   "metadata": {},
   "outputs": [],
   "source": [
    "res_nn, fsc_nn, shell_pts = calc_fsc(v_sgdp_nn1, v_sgdp_nn2, [1, nx])"
   ]
  },
  {
   "cell_type": "code",
   "execution_count": 28,
   "id": "1792fb9b-721f-4713-9e9d-ba0b2a316981",
   "metadata": {},
   "outputs": [
    {
     "data": {
      "image/png": "[encoded data removed]",
      "text/plain": [
       "<Figure size 600x600 with 1 Axes>"
      ]
     },
     "metadata": {},
     "output_type": "display_data"
    }
   ],
   "source": [
    "res_angs = nx * pixel_size[0] / res\n",
    "\n",
    "plt.plot(res_angs, fsc)\n",
    "plt.plot(res_angs, fsc_nn)\n",
    "plt.legend(['tri', 'nn'])\n",
    "plt.gca().invert_xaxis()"
   ]
  },
  {
   "cell_type": "code",
   "execution_count": 29,
   "id": "1b8fa8f2-c4ac-49fd-b375-6c561c8d3ce6",
   "metadata": {},
   "outputs": [
    {
     "data": {
      "text/plain": [
       "[<matplotlib.lines.Line2D at 0x7fdc60594320>]"
      ]
     },
     "execution_count": 29,
     "metadata": {},
     "output_type": "execute_result"
    },
    {
     "data": {
      "image/png": "[encoded data removed]",
      "text/plain": [
       "<Figure size 600x600 with 1 Axes>"
      ]
     },
     "metadata": {},
     "output_type": "display_data"
    }
   ],
   "source": [
    "plt.plot(loss_sgdp_nn1, 'r-')\n",
    "plt.plot(loss_sgdp_nn2, 'r-.')\n",
    "\n",
    "plt.plot(loss_sgdp_tri1, 'k-')\n",
    "plt.plot(loss_sgdp_tri2, 'k-.')\n",
    "\n"
   ]
  },
  {
   "cell_type": "code",
   "execution_count": 30,
   "id": "1b2a9331-41af-4f55-905a-7cc249d510cd",
   "metadata": {},
   "outputs": [
    {
     "data": {
      "text/plain": [
       "<matplotlib.colorbar.Colorbar at 0x7fdcb86b1790>"
      ]
     },
     "execution_count": 30,
     "metadata": {},
     "output_type": "execute_result"
    },
    {
     "data": {
      "image/png": "[encoded data removed]",
      "text/plain": [
       "<Figure size 600x600 with 2 Axes>"
      ]
     },
     "metadata": {},
     "output_type": "display_data"
    }
   ],
   "source": [
    "plt.imshow(jnp.abs(jnp.fft.fftshift(v_sgdp_nn1[0]))>1)\n",
    "plt.colorbar()"
   ]
  }
 ],
 "metadata": {
  "kernelspec": {
   "display_name": "Python 3 (ipykernel)",
   "language": "python",
   "name": "python3"
  },
  "language_info": {
   "codemirror_mode": {
    "name": "ipython",
    "version": 3
   },
   "file_extension": ".py",
   "mimetype": "text/x-python",
   "name": "python",
   "nbconvert_exporter": "python",
   "pygments_lexer": "ipython3",
   "version": "3.12.3"
  }
 },
 "nbformat": 4,
 "nbformat_minor": 5
}
