{
 "cells": [
  {
   "cell_type": "code",
   "execution_count": 1,
   "id": "6015ea72-a740-4f53-9735-817cfcb14221",
   "metadata": {},
   "outputs": [],
   "source": [
    "from matplotlib import pyplot as plt\n",
    "import jax.numpy as jnp\n",
    "from jax import random\n",
    "\n",
    "from simplecryoem.emfiles import load_data\n",
    "from simplecryoem.preprocess import preprocess\n",
    "from simplecryoem.forwardmodel import Slice\n",
    "from simplecryoem.optimization import Loss, GradV, sgd, get_sgd_vol_ops, precon_sgd\n",
    "from simplecryoem.utils import mip_x"
   ]
  },
  {
   "cell_type": "code",
   "execution_count": 2,
   "id": "53eeaa7a-60d8-4f35-892a-de6394ad65da",
   "metadata": {},
   "outputs": [],
   "source": [
    "%load_ext autoreload\n",
    "%autoreload 2\n",
    "\n",
    "plt.rcParams[\"figure.figsize\"] = 6, 6"
   ]
  },
  {
   "cell_type": "code",
   "execution_count": 3,
   "id": "f74baf30-b084-4632-99e4-6c33d06f8a65",
   "metadata": {},
   "outputs": [],
   "source": [
    "#data_dir = \"../../../RELION_TUTORIAL_SET/\"\n",
    "#star_file = \"particles.star\"\n",
    "\n",
    "data_dir = \"/gpfs/gibbs/pi/lederman/dge5/RELION_TUTORIAL_SET/PrecalculatedResults/\"\n",
    "star_file = \"/Extract/job018/particles.star\""
   ]
  },
  {
   "cell_type": "code",
   "execution_count": 4,
   "id": "392c80d0-dbe9-4a53-af41-ad917ee67d45",
   "metadata": {},
   "outputs": [
    {
     "name": "stderr",
     "output_type": "stream",
     "text": [
      "/home/bt387/project/2021_CryoEMSolver7/external/pyem/pyem/star.py:531: FutureWarning: Columnar iteration over characters will be deprecated in future releases.\n",
      "  df[UCSF.IMAGE_INDEX], df[UCSF.IMAGE_PATH] = \\\n",
      "/home/bt387/project/2021_CryoEMSolver7/external/pyem/pyem/star.py:539: FutureWarning: Columnar iteration over characters will be deprecated in future releases.\n",
      "  df[UCSF.IMAGE_ORIGINAL_INDEX], df[UCSF.IMAGE_ORIGINAL_PATH] = \\\n"
     ]
    },
    {
     "name": "stdout",
     "output_type": "stream",
     "text": [
      "load_data: number of partcles: 4501\n",
      "load_data: data loaded, time:  2.68 sec.\n",
      "params0 keys: dict_keys(['ctf_params', 'pixel_size', 'angles', 'shifts'])\n",
      "imgs0.shape = (4501, 256, 256)\n"
     ]
    }
   ],
   "source": [
    "params0, imgs0 = load_data(data_dir, star_file, load_imgs=True, fourier=False)\n",
    "\n",
    "print(f\"params0 keys: {params0.keys()}\")\n",
    "print(f\"imgs0.shape = {imgs0.shape}\")"
   ]
  },
  {
   "cell_type": "code",
   "execution_count": 5,
   "id": "b82bd19e-020b-4f38-bfdf-7404ff340f3b",
   "metadata": {},
   "outputs": [
    {
     "name": "stdout",
     "output_type": "stream",
     "text": [
      "imgs0.shape = (4501, 256, 256)\n",
      "pixel_size0.shape = (4501,)\n",
      "angles0.shape = (4501, 3)\n",
      "shifts0.shape = (4501, 2)\n",
      "ctf_params0.shape = (4501, 9)\n",
      "N0 = 4501\n",
      "idx not provided\n",
      "N = 4501\n",
      "Taking FFT of the images:\n",
      "Batch 1/10  0.89 sec.\n",
      "Batch 2/10  0.89 sec.\n",
      "Batch 3/10  0.89 sec.\n",
      "Batch 4/10  0.89 sec.\n",
      "Batch 5/10  0.89 sec.\n",
      "Batch 6/10  0.89 sec.\n",
      "Batch 7/10  0.89 sec.\n",
      "Batch 8/10  0.89 sec.\n",
      "Batch 9/10  0.89 sec.\n",
      "Batch 10/10  0.89 sec.\n",
      "FFT done. Time:  10.57 sec.\n",
      "x_grid = [3.13873258e-03 2.56000000e+02]\n",
      "Vectorised imgs_f.shape = (4501, 65536)\n",
      "Mask radius = 0.39861903801512377\n",
      "Noise free, setting sigma_noise = 1\n"
     ]
    }
   ],
   "source": [
    "processed_data = preprocess(imgs0, params0)"
   ]
  },
  {
   "cell_type": "code",
   "execution_count": 6,
   "id": "da5765bc-78c9-4234-a1e2-3ae8f66f2578",
   "metadata": {},
   "outputs": [],
   "source": [
    "key = random.PRNGKey(20)"
   ]
  },
  {
   "cell_type": "code",
   "execution_count": 7,
   "id": "7270fe57-5c85-4c96-8172-d8397c61019f",
   "metadata": {},
   "outputs": [],
   "source": [
    "N = 4000\n",
    "\n",
    "key, subkey = random.split(key)\n",
    "idx_shuffle = random.permutation(subkey, N)"
   ]
  },
  {
   "cell_type": "code",
   "execution_count": 8,
   "id": "60967793-6510-4423-80ea-cc109cd09669",
   "metadata": {},
   "outputs": [],
   "source": [
    "# Images and image-specific parameters\n",
    "# (orientation angles, in-plane shifts, ctf parameters)\n",
    "\n",
    "imgs_f = processed_data[\"imgs_f\"][idx_shuffle]\n",
    "angles = processed_data[\"angles\"][idx_shuffle]\n",
    "shifts = processed_data[\"shifts\"][idx_shuffle]\n",
    "ctf_params = processed_data[\"ctf_params\"][idx_shuffle]\n",
    "\n",
    "# These parameters are the same for all images\n",
    "pixel_size = processed_data[\"pixel_size\"]\n",
    "nx = processed_data[\"nx\"]\n",
    "mask = processed_data[\"mask\"]\n",
    "sigma_noise = processed_data[\"sigma_noise\"]\n",
    "x_grid = processed_data[\"x_grid\"]\n",
    "N = imgs_f.shape[0]"
   ]
  },
  {
   "cell_type": "code",
   "execution_count": 9,
   "id": "ad0ab756-68d7-4136-b7e9-cabe4114a0be",
   "metadata": {},
   "outputs": [],
   "source": [
    "# Use the x=0 slice of the 3D mask output by the preprocess function\n",
    "mask2d = mask[0].reshape(-1)\n",
    "imgs_f = imgs_f * mask2d"
   ]
  },
  {
   "cell_type": "code",
   "execution_count": 10,
   "id": "8a3051fb-dd25-4cc5-b50c-f43c365834fd",
   "metadata": {},
   "outputs": [],
   "source": [
    "# Regularization parameter\n",
    "alpha = 1e-8\n",
    "\n",
    "slice_obj_tri = Slice(x_grid, mask=mask, interp_method=\"tri\")\n",
    "loss_obj_tri = Loss(slice_obj_tri, alpha=alpha)\n",
    "gradv_obj_tri = GradV(loss_obj_tri)\n",
    "\n",
    "slice_obj_nn = Slice(x_grid, mask=mask, interp_method=\"nn\")\n",
    "loss_obj_nn = Loss(slice_obj_nn, alpha=alpha)\n",
    "gradv_obj_nn = GradV(loss_obj_nn)"
   ]
  },
  {
   "cell_type": "code",
   "execution_count": 11,
   "id": "3039ca98-4182-4fdb-ad75-c2e6edf69e16",
   "metadata": {},
   "outputs": [],
   "source": [
    "grad_func_tri1, loss_func_tri1, hvp_func_tri1, _ = get_sgd_vol_ops(\n",
    "    gradv_obj_tri, loss_obj_tri, angles[:N//2], shifts[:N//2], ctf_params[:N//2], imgs_f[:N//2], sigma_noise\n",
    ")\n",
    "\n",
    "grad_func_tri2, loss_func_tri2, hvp_func_tri2, _ = get_sgd_vol_ops(\n",
    "    gradv_obj_tri, loss_obj_tri, angles[N//2:], shifts[N//2:], ctf_params[N//2:], imgs_f[N//2:], sigma_noise\n",
    ")"
   ]
  },
  {
   "cell_type": "code",
   "execution_count": 12,
   "id": "7de5b7ec-6408-4557-9f62-65226071ce69",
   "metadata": {},
   "outputs": [],
   "source": [
    "grad_func_nn1, loss_func_nn1, hvp_func_nn1, _ = get_sgd_vol_ops(\n",
    "    gradv_obj_nn, loss_obj_nn, angles[:N//2], shifts[:N//2], ctf_params[:N//2], imgs_f[:N//2], sigma_noise\n",
    ")\n",
    "\n",
    "grad_func_nn2, loss_func_nn2, hvp_func_nn2, _ = get_sgd_vol_ops(\n",
    "    gradv_obj_nn, loss_obj_nn, angles[N//2:], shifts[N//2:], ctf_params[N//2:], imgs_f[N//2:], sigma_noise\n",
    ")"
   ]
  },
  {
   "cell_type": "markdown",
   "id": "25d5a8c1-4be6-4ee9-b5fc-086332c7ff83",
   "metadata": {},
   "source": [
    "### SGD"
   ]
  },
  {
   "cell_type": "code",
   "execution_count": 13,
   "id": "71b5f0fd-de1f-47c5-9fa1-8c401ce8e1a8",
   "metadata": {},
   "outputs": [],
   "source": [
    "# Initialization\n",
    "v0 = jnp.zeros((nx, nx, nx))\n",
    "D0 = jnp.ones(v0.shape)\n",
    "\n",
    "N_epochs = 100\n",
    "batch_size = 200\n",
    "step_size = 1\n",
    "c = 0.9\n",
    "\n",
    "# Parameters specific to preconditioned SGD,\n",
    "# see the documentation of precon_sgd for details.\n",
    "beta = 0.5\n",
    "thresh = 1e-6"
   ]
  },
  {
   "cell_type": "code",
   "execution_count": 14,
   "id": "c1c09394-cb50-49b7-a86e-c36f822b207e",
   "metadata": {},
   "outputs": [],
   "source": [
    "N_epochs = 100\n"
   ]
  },
  {
   "cell_type": "code",
   "execution_count": 15,
   "id": "80a3393e-dfac-4603-8b8d-335837706af7",
   "metadata": {},
   "outputs": [
    {
     "name": "stdout",
     "output_type": "stream",
     "text": [
      "Epoch 1/100\n"
     ]
    },
    {
     "name": "stderr",
     "output_type": "stream",
     "text": [
      "100%|██████████| 10/10 [00:27<00:00,  2.76s/it, eta=9.675e-02, loss=1.711e+09]\n"
     ]
    },
    {
     "name": "stdout",
     "output_type": "stream",
     "text": [
      "  Loss =  1.73864329e+09\n",
      "  eta = 0.09674588159999999\n",
      "  alpha= 1e-06\n",
      "Epoch 2/100\n"
     ]
    },
    {
     "name": "stderr",
     "output_type": "stream",
     "text": [
      "100%|██████████| 10/10 [00:11<00:00,  1.18s/it, eta=1.512e-03, loss=1.741e+09]\n"
     ]
    },
    {
     "name": "stdout",
     "output_type": "stream",
     "text": [
      "  Loss =  1.73604750e+09\n",
      "  eta = 0.0015116543999999998\n",
      "  alpha= 1e-06\n",
      "Epoch 3/100\n"
     ]
    },
    {
     "name": "stderr",
     "output_type": "stream",
     "text": [
      "100%|██████████| 10/10 [00:11<00:00,  1.16s/it, eta=3.023e-03, loss=1.733e+09]\n"
     ]
    },
    {
     "name": "stdout",
     "output_type": "stream",
     "text": [
      "  Loss =  1.73386397e+09\n",
      "  eta = 0.0030233087999999996\n",
      "  alpha= 1e-06\n",
      "Epoch 4/100\n"
     ]
    },
    {
     "name": "stderr",
     "output_type": "stream",
     "text": [
      "100%|██████████| 10/10 [00:11<00:00,  1.14s/it, eta=6.047e-03, loss=1.729e+09]\n"
     ]
    },
    {
     "name": "stdout",
     "output_type": "stream",
     "text": [
      "  Loss =  1.73081013e+09\n",
      "  eta = 0.006046617599999999\n",
      "  alpha= 1e-06\n",
      "Epoch 5/100\n"
     ]
    },
    {
     "name": "stderr",
     "output_type": "stream",
     "text": [
      "100%|██████████| 10/10 [00:11<00:00,  1.14s/it, eta=6.047e-03, loss=1.729e+09]\n"
     ]
    },
    {
     "name": "stdout",
     "output_type": "stream",
     "text": [
      "  Loss =  1.72753403e+09\n",
      "  eta = 0.006046617599999999\n",
      "  alpha= 1e-06\n",
      "Epoch 6/100\n"
     ]
    },
    {
     "name": "stderr",
     "output_type": "stream",
     "text": [
      "100%|██████████| 10/10 [00:11<00:00,  1.16s/it, eta=3.023e-03, loss=1.726e+09]\n"
     ]
    },
    {
     "name": "stdout",
     "output_type": "stream",
     "text": [
      "  Loss =  1.72636796e+09\n",
      "  eta = 0.0030233087999999996\n",
      "  alpha= 1e-06\n",
      "Epoch 7/100\n"
     ]
    },
    {
     "name": "stderr",
     "output_type": "stream",
     "text": [
      "100%|██████████| 10/10 [00:11<00:00,  1.14s/it, eta=6.047e-03, loss=1.723e+09]\n"
     ]
    },
    {
     "name": "stdout",
     "output_type": "stream",
     "text": [
      "  Loss =  1.72377300e+09\n",
      "  eta = 0.006046617599999999\n",
      "  alpha= 1e-06\n",
      "Epoch 8/100\n"
     ]
    },
    {
     "name": "stderr",
     "output_type": "stream",
     "text": [
      "100%|██████████| 10/10 [00:11<00:00,  1.14s/it, eta=6.047e-03, loss=1.723e+09]\n"
     ]
    },
    {
     "name": "stdout",
     "output_type": "stream",
     "text": [
      "  Loss =  1.72084921e+09\n",
      "  eta = 0.006046617599999999\n",
      "  alpha= 1e-06\n",
      "Epoch 9/100\n"
     ]
    },
    {
     "name": "stderr",
     "output_type": "stream",
     "text": [
      "100%|██████████| 10/10 [00:11<00:00,  1.12s/it, eta=1.209e-02, loss=1.715e+09]\n"
     ]
    },
    {
     "name": "stdout",
     "output_type": "stream",
     "text": [
      "  Loss =  1.71832607e+09\n",
      "  eta = 0.012093235199999998\n",
      "  alpha= 1e-06\n",
      "Epoch 10/100\n"
     ]
    },
    {
     "name": "stderr",
     "output_type": "stream",
     "text": [
      "100%|██████████| 10/10 [00:11<00:00,  1.12s/it, eta=1.209e-02, loss=1.711e+09]\n"
     ]
    },
    {
     "name": "stdout",
     "output_type": "stream",
     "text": [
      "  Loss =  1.71585991e+09\n",
      "  eta = 0.012093235199999998\n",
      "  alpha= 1e-06\n",
      "Epoch 11/100\n"
     ]
    },
    {
     "name": "stderr",
     "output_type": "stream",
     "text": [
      "100%|██████████| 10/10 [00:11<00:00,  1.16s/it, eta=3.023e-03, loss=1.726e+09]\n"
     ]
    },
    {
     "name": "stdout",
     "output_type": "stream",
     "text": [
      "  Loss =  1.71405470e+09\n",
      "  eta = 0.0030233087999999996\n",
      "  alpha= 1e-06\n",
      "Epoch 12/100\n"
     ]
    },
    {
     "name": "stderr",
     "output_type": "stream",
     "text": [
      "100%|██████████| 10/10 [00:11<00:00,  1.14s/it, eta=6.047e-03, loss=1.719e+09]\n"
     ]
    },
    {
     "name": "stdout",
     "output_type": "stream",
     "text": [
      "  Loss =  1.71232431e+09\n",
      "  eta = 0.006046617599999999\n",
      "  alpha= 1e-06\n",
      "Epoch 13/100\n"
     ]
    },
    {
     "name": "stderr",
     "output_type": "stream",
     "text": [
      "100%|██████████| 10/10 [00:11<00:00,  1.12s/it, eta=1.209e-02, loss=1.708e+09]\n"
     ]
    },
    {
     "name": "stdout",
     "output_type": "stream",
     "text": [
      "  Loss =  1.71101857e+09\n",
      "  eta = 0.012093235199999998\n",
      "  alpha= 1e-06\n",
      "Epoch 14/100\n"
     ]
    },
    {
     "name": "stderr",
     "output_type": "stream",
     "text": [
      "100%|██████████| 10/10 [00:11<00:00,  1.14s/it, eta=6.047e-03, loss=1.710e+09]\n"
     ]
    },
    {
     "name": "stdout",
     "output_type": "stream",
     "text": [
      "  Loss =  1.70980006e+09\n",
      "  eta = 0.006046617599999999\n",
      "  alpha= 1e-06\n",
      "Epoch 15/100\n"
     ]
    },
    {
     "name": "stderr",
     "output_type": "stream",
     "text": [
      "100%|██████████| 10/10 [00:11<00:00,  1.12s/it, eta=1.209e-02, loss=1.707e+09]\n"
     ]
    },
    {
     "name": "stdout",
     "output_type": "stream",
     "text": [
      "  Loss =  1.70830670e+09\n",
      "  eta = 0.012093235199999998\n",
      "  alpha= 1e-06\n",
      "Epoch 16/100\n"
     ]
    },
    {
     "name": "stderr",
     "output_type": "stream",
     "text": [
      "100%|██████████| 10/10 [00:11<00:00,  1.12s/it, eta=2.419e-02, loss=1.693e+09]\n"
     ]
    },
    {
     "name": "stdout",
     "output_type": "stream",
     "text": [
      "  Loss =  1.70735891e+09\n",
      "  eta = 0.024186470399999997\n",
      "  alpha= 1e-06\n",
      "Epoch 17/100\n"
     ]
    },
    {
     "name": "stderr",
     "output_type": "stream",
     "text": [
      "100%|██████████| 10/10 [00:11<00:00,  1.14s/it, eta=6.047e-03, loss=1.700e+09]\n"
     ]
    },
    {
     "name": "stdout",
     "output_type": "stream",
     "text": [
      "  Loss =  1.70669124e+09\n",
      "  eta = 0.006046617599999999\n",
      "  alpha= 1e-06\n",
      "Epoch 18/100\n"
     ]
    },
    {
     "name": "stderr",
     "output_type": "stream",
     "text": [
      "100%|██████████| 10/10 [00:10<00:00,  1.10s/it, eta=2.419e-02, loss=1.695e+09]\n"
     ]
    },
    {
     "name": "stdout",
     "output_type": "stream",
     "text": [
      "  Loss =  1.70550305e+09\n",
      "  eta = 0.024186470399999997\n",
      "  alpha= 1e-06\n",
      "Epoch 19/100\n"
     ]
    },
    {
     "name": "stderr",
     "output_type": "stream",
     "text": [
      "100%|██████████| 10/10 [00:11<00:00,  1.12s/it, eta=1.209e-02, loss=1.697e+09]\n"
     ]
    },
    {
     "name": "stdout",
     "output_type": "stream",
     "text": [
      "  Loss =  1.70446365e+09\n",
      "  eta = 0.012093235199999998\n",
      "  alpha= 1e-06\n",
      "Epoch 20/100\n"
     ]
    },
    {
     "name": "stderr",
     "output_type": "stream",
     "text": [
      "100%|██████████| 10/10 [00:11<00:00,  1.14s/it, eta=6.047e-03, loss=1.704e+09]\n"
     ]
    },
    {
     "name": "stdout",
     "output_type": "stream",
     "text": [
      "  Loss =  1.70423784e+09\n",
      "  eta = 0.006046617599999999\n",
      "  alpha= 1e-06\n",
      "Epoch 21/100\n"
     ]
    },
    {
     "name": "stderr",
     "output_type": "stream",
     "text": [
      "100%|██████████| 10/10 [00:11<00:00,  1.14s/it, eta=6.047e-03, loss=1.714e+09]\n"
     ]
    },
    {
     "name": "stdout",
     "output_type": "stream",
     "text": [
      "  Loss =  1.70361683e+09\n",
      "  eta = 0.006046617599999999\n",
      "  alpha= 1e-06\n",
      "Epoch 22/100\n"
     ]
    },
    {
     "name": "stderr",
     "output_type": "stream",
     "text": [
      "100%|██████████| 10/10 [00:11<00:00,  1.12s/it, eta=1.209e-02, loss=1.707e+09]\n"
     ]
    },
    {
     "name": "stdout",
     "output_type": "stream",
     "text": [
      "  Loss =  1.70270057e+09\n",
      "  eta = 0.012093235199999998\n",
      "  alpha= 1e-06\n",
      "Epoch 23/100\n"
     ]
    },
    {
     "name": "stderr",
     "output_type": "stream",
     "text": [
      "100%|██████████| 10/10 [00:11<00:00,  1.14s/it, eta=6.047e-03, loss=1.705e+09]\n"
     ]
    },
    {
     "name": "stdout",
     "output_type": "stream",
     "text": [
      "  Loss =  1.70258788e+09\n",
      "  eta = 0.006046617599999999\n",
      "  alpha= 1e-06\n",
      "Epoch 24/100\n"
     ]
    },
    {
     "name": "stderr",
     "output_type": "stream",
     "text": [
      "100%|██████████| 10/10 [00:11<00:00,  1.12s/it, eta=1.209e-02, loss=1.703e+09]\n"
     ]
    },
    {
     "name": "stdout",
     "output_type": "stream",
     "text": [
      "  Loss =  1.70179030e+09\n",
      "  eta = 0.012093235199999998\n",
      "  alpha= 1e-06\n",
      "Epoch 25/100\n"
     ]
    },
    {
     "name": "stderr",
     "output_type": "stream",
     "text": [
      "100%|██████████| 10/10 [00:11<00:00,  1.12s/it, eta=1.209e-02, loss=1.706e+09]\n"
     ]
    },
    {
     "name": "stdout",
     "output_type": "stream",
     "text": [
      "  Loss =  1.70106441e+09\n",
      "  eta = 0.012093235199999998\n",
      "  alpha= 1e-06\n",
      "Epoch 26/100\n"
     ]
    },
    {
     "name": "stderr",
     "output_type": "stream",
     "text": [
      "100%|██████████| 10/10 [00:11<00:00,  1.12s/it, eta=1.209e-02, loss=1.705e+09]\n"
     ]
    },
    {
     "name": "stdout",
     "output_type": "stream",
     "text": [
      "  Loss =  1.70057357e+09\n",
      "  eta = 0.012093235199999998\n",
      "  alpha= 1e-06\n",
      "Epoch 27/100\n"
     ]
    },
    {
     "name": "stderr",
     "output_type": "stream",
     "text": [
      "100%|██████████| 10/10 [00:10<00:00,  1.10s/it, eta=2.419e-02, loss=1.693e+09]\n"
     ]
    },
    {
     "name": "stdout",
     "output_type": "stream",
     "text": [
      "  Loss =  1.70006854e+09\n",
      "  eta = 0.024186470399999997\n",
      "  alpha= 1e-06\n",
      "Epoch 28/100\n"
     ]
    },
    {
     "name": "stderr",
     "output_type": "stream",
     "text": [
      "100%|██████████| 10/10 [00:10<00:00,  1.10s/it, eta=2.419e-02, loss=1.691e+09]\n"
     ]
    },
    {
     "name": "stdout",
     "output_type": "stream",
     "text": [
      "  Loss =  1.69967441e+09\n",
      "  eta = 0.024186470399999997\n",
      "  alpha= 1e-06\n",
      "Epoch 29/100\n"
     ]
    },
    {
     "name": "stderr",
     "output_type": "stream",
     "text": [
      "100%|██████████| 10/10 [00:10<00:00,  1.10s/it, eta=2.419e-02, loss=1.690e+09]\n"
     ]
    },
    {
     "name": "stdout",
     "output_type": "stream",
     "text": [
      "  Loss =  1.69905978e+09\n",
      "  eta = 0.024186470399999997\n",
      "  alpha= 1e-06\n",
      "Epoch 30/100\n"
     ]
    },
    {
     "name": "stderr",
     "output_type": "stream",
     "text": [
      "100%|██████████| 10/10 [00:11<00:00,  1.10s/it, eta=2.419e-02, loss=1.690e+09]\n"
     ]
    },
    {
     "name": "stdout",
     "output_type": "stream",
     "text": [
      "  Loss =  1.69879392e+09\n",
      "  eta = 0.024186470399999997\n",
      "  alpha= 1e-06\n",
      "Epoch 31/100\n"
     ]
    },
    {
     "name": "stderr",
     "output_type": "stream",
     "text": [
      "100%|██████████| 10/10 [00:11<00:00,  1.12s/it, eta=1.209e-02, loss=1.699e+09]\n"
     ]
    },
    {
     "name": "stdout",
     "output_type": "stream",
     "text": [
      "  Loss =  1.69831343e+09\n",
      "  eta = 0.012093235199999998\n",
      "  alpha= 1e-06\n",
      "Epoch 32/100\n"
     ]
    },
    {
     "name": "stderr",
     "output_type": "stream",
     "text": [
      "100%|██████████| 10/10 [00:11<00:00,  1.12s/it, eta=1.209e-02, loss=1.699e+09]\n"
     ]
    },
    {
     "name": "stdout",
     "output_type": "stream",
     "text": [
      "  Loss =  1.69821838e+09\n",
      "  eta = 0.012093235199999998\n",
      "  alpha= 1e-06\n",
      "Epoch 33/100\n"
     ]
    },
    {
     "name": "stderr",
     "output_type": "stream",
     "text": [
      "100%|██████████| 10/10 [00:11<00:00,  1.14s/it, eta=6.047e-03, loss=1.713e+09]\n"
     ]
    },
    {
     "name": "stdout",
     "output_type": "stream",
     "text": [
      "  Loss =  1.69813433e+09\n",
      "  eta = 0.006046617599999999\n",
      "  alpha= 1e-06\n",
      "Epoch 34/100\n"
     ]
    },
    {
     "name": "stderr",
     "output_type": "stream",
     "text": [
      "100%|██████████| 10/10 [00:10<00:00,  1.10s/it, eta=2.419e-02, loss=1.683e+09]\n"
     ]
    },
    {
     "name": "stdout",
     "output_type": "stream",
     "text": [
      "  Loss =  1.69772036e+09\n",
      "  eta = 0.024186470399999997\n",
      "  alpha= 1e-06\n",
      "Epoch 35/100\n"
     ]
    },
    {
     "name": "stderr",
     "output_type": "stream",
     "text": [
      "100%|██████████| 10/10 [00:10<00:00,  1.10s/it, eta=2.419e-02, loss=1.689e+09]\n"
     ]
    },
    {
     "name": "stdout",
     "output_type": "stream",
     "text": [
      "  Loss =  1.69750338e+09\n",
      "  eta = 0.024186470399999997\n",
      "  alpha= 1e-06\n",
      "Epoch 36/100\n"
     ]
    },
    {
     "name": "stderr",
     "output_type": "stream",
     "text": [
      "100%|██████████| 10/10 [00:11<00:00,  1.14s/it, eta=6.047e-03, loss=1.703e+09]\n"
     ]
    },
    {
     "name": "stdout",
     "output_type": "stream",
     "text": [
      "  Loss =  1.69774692e+09\n",
      "  eta = 0.006046617599999999\n",
      "  alpha= 1e-06\n",
      "Epoch 37/100\n"
     ]
    },
    {
     "name": "stderr",
     "output_type": "stream",
     "text": [
      "100%|██████████| 10/10 [00:10<00:00,  1.10s/it, eta=2.419e-02, loss=1.693e+09]\n"
     ]
    },
    {
     "name": "stdout",
     "output_type": "stream",
     "text": [
      "  Loss =  1.69726870e+09\n",
      "  eta = 0.024186470399999997\n",
      "  alpha= 1e-06\n",
      "Epoch 38/100\n"
     ]
    },
    {
     "name": "stderr",
     "output_type": "stream",
     "text": [
      "100%|██████████| 10/10 [00:11<00:00,  1.16s/it, eta=3.023e-03, loss=1.708e+09]\n"
     ]
    },
    {
     "name": "stdout",
     "output_type": "stream",
     "text": [
      "  Loss =  1.69768596e+09\n",
      "  eta = 0.0030233087999999996\n",
      "  alpha= 1e-06\n",
      "Epoch 39/100\n"
     ]
    },
    {
     "name": "stderr",
     "output_type": "stream",
     "text": [
      "100%|██████████| 10/10 [00:11<00:00,  1.15s/it, eta=6.047e-03, loss=1.708e+09]\n"
     ]
    },
    {
     "name": "stdout",
     "output_type": "stream",
     "text": [
      "  Loss =  1.69728149e+09\n",
      "  eta = 0.006046617599999999\n",
      "  alpha= 1e-06\n",
      "Epoch 40/100\n"
     ]
    },
    {
     "name": "stderr",
     "output_type": "stream",
     "text": [
      "100%|██████████| 10/10 [00:11<00:00,  1.12s/it, eta=1.209e-02, loss=1.697e+09]\n"
     ]
    },
    {
     "name": "stdout",
     "output_type": "stream",
     "text": [
      "  Loss =  1.69674703e+09\n",
      "  eta = 0.012093235199999998\n",
      "  alpha= 1e-06\n",
      "Epoch 41/100\n"
     ]
    },
    {
     "name": "stderr",
     "output_type": "stream",
     "text": [
      "100%|██████████| 10/10 [00:10<00:00,  1.10s/it, eta=2.419e-02, loss=1.697e+09]\n"
     ]
    },
    {
     "name": "stdout",
     "output_type": "stream",
     "text": [
      "  Loss =  1.69681548e+09\n",
      "  eta = 0.024186470399999997\n",
      "  alpha= 1e-06\n",
      "Epoch 42/100\n"
     ]
    },
    {
     "name": "stderr",
     "output_type": "stream",
     "text": [
      "100%|██████████| 10/10 [00:11<00:00,  1.12s/it, eta=1.209e-02, loss=1.694e+09]\n"
     ]
    },
    {
     "name": "stdout",
     "output_type": "stream",
     "text": [
      "  Loss =  1.69682760e+09\n",
      "  eta = 0.012093235199999998\n",
      "  alpha= 1e-06\n",
      "Epoch 43/100\n"
     ]
    },
    {
     "name": "stderr",
     "output_type": "stream",
     "text": [
      "100%|██████████| 10/10 [00:11<00:00,  1.12s/it, eta=1.209e-02, loss=1.701e+09]\n"
     ]
    },
    {
     "name": "stdout",
     "output_type": "stream",
     "text": [
      "  Loss =  1.69661659e+09\n",
      "  eta = 0.012093235199999998\n",
      "  alpha= 1e-06\n",
      "Epoch 44/100\n"
     ]
    },
    {
     "name": "stderr",
     "output_type": "stream",
     "text": [
      "100%|██████████| 10/10 [00:11<00:00,  1.16s/it, eta=3.023e-03, loss=1.716e+09]\n"
     ]
    },
    {
     "name": "stdout",
     "output_type": "stream",
     "text": [
      "  Loss =  1.69704561e+09\n",
      "  eta = 0.0030233087999999996\n",
      "  alpha= 1e-06\n",
      "Epoch 45/100\n"
     ]
    },
    {
     "name": "stderr",
     "output_type": "stream",
     "text": [
      "100%|██████████| 10/10 [00:10<00:00,  1.10s/it, eta=2.419e-02, loss=1.696e+09]\n"
     ]
    },
    {
     "name": "stdout",
     "output_type": "stream",
     "text": [
      "  Loss =  1.69695696e+09\n",
      "  eta = 0.024186470399999997\n",
      "  alpha= 1e-06\n",
      "Epoch 46/100\n"
     ]
    },
    {
     "name": "stderr",
     "output_type": "stream",
     "text": [
      "100%|██████████| 10/10 [00:11<00:00,  1.12s/it, eta=1.209e-02, loss=1.702e+09]\n"
     ]
    },
    {
     "name": "stdout",
     "output_type": "stream",
     "text": [
      "  Loss =  1.69634980e+09\n",
      "  eta = 0.012093235199999998\n",
      "  alpha= 1e-06\n",
      "Epoch 47/100\n"
     ]
    },
    {
     "name": "stderr",
     "output_type": "stream",
     "text": [
      "100%|██████████| 10/10 [00:11<00:00,  1.12s/it, eta=1.209e-02, loss=1.691e+09]\n"
     ]
    },
    {
     "name": "stdout",
     "output_type": "stream",
     "text": [
      "  Loss =  1.69615132e+09\n",
      "  eta = 0.012093235199999998\n",
      "  alpha= 1e-06\n",
      "Epoch 48/100\n"
     ]
    },
    {
     "name": "stderr",
     "output_type": "stream",
     "text": [
      "100%|██████████| 10/10 [00:11<00:00,  1.10s/it, eta=2.419e-02, loss=1.687e+09]\n"
     ]
    },
    {
     "name": "stdout",
     "output_type": "stream",
     "text": [
      "  Loss =  1.69591868e+09\n",
      "  eta = 0.024186470399999997\n",
      "  alpha= 1e-06\n",
      "Epoch 49/100\n"
     ]
    },
    {
     "name": "stderr",
     "output_type": "stream",
     "text": [
      "100%|██████████| 10/10 [00:11<00:00,  1.16s/it, eta=3.023e-03, loss=1.713e+09]\n"
     ]
    },
    {
     "name": "stdout",
     "output_type": "stream",
     "text": [
      "  Loss =  1.69688698e+09\n",
      "  eta = 0.0030233087999999996\n",
      "  alpha= 1e-06\n",
      "Epoch 50/100\n"
     ]
    },
    {
     "name": "stderr",
     "output_type": "stream",
     "text": [
      "100%|██████████| 10/10 [00:11<00:00,  1.14s/it, eta=6.047e-03, loss=1.707e+09]\n"
     ]
    },
    {
     "name": "stdout",
     "output_type": "stream",
     "text": [
      "  Loss =  1.69664688e+09\n",
      "  eta = 0.006046617599999999\n",
      "  alpha= 1e-06\n",
      "Epoch 51/100\n"
     ]
    },
    {
     "name": "stderr",
     "output_type": "stream",
     "text": [
      "100%|██████████| 10/10 [00:11<00:00,  1.15s/it, eta=6.047e-03, loss=1.701e+09]\n"
     ]
    },
    {
     "name": "stdout",
     "output_type": "stream",
     "text": [
      "  Loss =  1.69670123e+09\n",
      "  eta = 0.006046617599999999\n",
      "  alpha= 1e-06\n",
      "Epoch 52/100\n"
     ]
    },
    {
     "name": "stderr",
     "output_type": "stream",
     "text": [
      "100%|██████████| 10/10 [00:11<00:00,  1.10s/it, eta=2.419e-02, loss=1.694e+09]\n"
     ]
    },
    {
     "name": "stdout",
     "output_type": "stream",
     "text": [
      "  Loss =  1.69579798e+09\n",
      "  eta = 0.024186470399999997\n",
      "  alpha= 1e-06\n",
      "Epoch 53/100\n"
     ]
    },
    {
     "name": "stderr",
     "output_type": "stream",
     "text": [
      "100%|██████████| 10/10 [00:11<00:00,  1.12s/it, eta=1.209e-02, loss=1.686e+09]\n"
     ]
    },
    {
     "name": "stdout",
     "output_type": "stream",
     "text": [
      "  Loss =  1.69559944e+09\n",
      "  eta = 0.012093235199999998\n",
      "  alpha= 1e-06\n",
      "Epoch 54/100\n"
     ]
    },
    {
     "name": "stderr",
     "output_type": "stream",
     "text": [
      "100%|██████████| 10/10 [00:10<00:00,  1.08s/it, eta=4.837e-02, loss=1.674e+09]\n"
     ]
    },
    {
     "name": "stdout",
     "output_type": "stream",
     "text": [
      "  Loss =  1.69642874e+09\n",
      "  eta = 0.04837294079999999\n",
      "  alpha= 1e-06\n",
      "Epoch 55/100\n"
     ]
    },
    {
     "name": "stderr",
     "output_type": "stream",
     "text": [
      "100%|██████████| 10/10 [00:11<00:00,  1.12s/it, eta=1.209e-02, loss=1.699e+09]\n"
     ]
    },
    {
     "name": "stdout",
     "output_type": "stream",
     "text": [
      "  Loss =  1.69624044e+09\n",
      "  eta = 0.012093235199999998\n",
      "  alpha= 1e-06\n",
      "Epoch 56/100\n"
     ]
    },
    {
     "name": "stderr",
     "output_type": "stream",
     "text": [
      "100%|██████████| 10/10 [00:11<00:00,  1.12s/it, eta=1.209e-02, loss=1.707e+09]\n"
     ]
    },
    {
     "name": "stdout",
     "output_type": "stream",
     "text": [
      "  Loss =  1.69603506e+09\n",
      "  eta = 0.012093235199999998\n",
      "  alpha= 1e-06\n",
      "Epoch 57/100\n"
     ]
    },
    {
     "name": "stderr",
     "output_type": "stream",
     "text": [
      "100%|██████████| 10/10 [00:11<00:00,  1.12s/it, eta=1.209e-02, loss=1.705e+09]\n"
     ]
    },
    {
     "name": "stdout",
     "output_type": "stream",
     "text": [
      "  Loss =  1.69568379e+09\n",
      "  eta = 0.012093235199999998\n",
      "  alpha= 1e-06\n",
      "Epoch 58/100\n"
     ]
    },
    {
     "name": "stderr",
     "output_type": "stream",
     "text": [
      "100%|██████████| 10/10 [00:11<00:00,  1.12s/it, eta=1.209e-02, loss=1.695e+09]\n"
     ]
    },
    {
     "name": "stdout",
     "output_type": "stream",
     "text": [
      "  Loss =  1.69535441e+09\n",
      "  eta = 0.012093235199999998\n",
      "  alpha= 1e-06\n",
      "Epoch 59/100\n"
     ]
    },
    {
     "name": "stderr",
     "output_type": "stream",
     "text": [
      "100%|██████████| 10/10 [00:10<00:00,  1.10s/it, eta=2.419e-02, loss=1.686e+09]\n"
     ]
    },
    {
     "name": "stdout",
     "output_type": "stream",
     "text": [
      "  Loss =  1.69532793e+09\n",
      "  eta = 0.024186470399999997\n",
      "  alpha= 1e-06\n",
      "Epoch 60/100\n"
     ]
    },
    {
     "name": "stderr",
     "output_type": "stream",
     "text": [
      "100%|██████████| 10/10 [00:10<00:00,  1.10s/it, eta=2.419e-02, loss=1.693e+09]\n"
     ]
    },
    {
     "name": "stdout",
     "output_type": "stream",
     "text": [
      "  Loss =  1.69537494e+09\n",
      "  eta = 0.024186470399999997\n",
      "  alpha= 1e-06\n",
      "Epoch 61/100\n"
     ]
    },
    {
     "name": "stderr",
     "output_type": "stream",
     "text": [
      "100%|██████████| 10/10 [00:11<00:00,  1.14s/it, eta=6.047e-03, loss=1.701e+09]\n"
     ]
    },
    {
     "name": "stdout",
     "output_type": "stream",
     "text": [
      "  Loss =  1.69594222e+09\n",
      "  eta = 0.006046617599999999\n",
      "  alpha= 1e-06\n",
      "Epoch 62/100\n"
     ]
    },
    {
     "name": "stderr",
     "output_type": "stream",
     "text": [
      "100%|██████████| 10/10 [00:11<00:00,  1.12s/it, eta=1.209e-02, loss=1.706e+09]\n"
     ]
    },
    {
     "name": "stdout",
     "output_type": "stream",
     "text": [
      "  Loss =  1.69531350e+09\n",
      "  eta = 0.012093235199999998\n",
      "  alpha= 1e-06\n",
      "Epoch 63/100\n"
     ]
    },
    {
     "name": "stderr",
     "output_type": "stream",
     "text": [
      "100%|██████████| 10/10 [00:11<00:00,  1.14s/it, eta=6.047e-03, loss=1.697e+09]\n"
     ]
    },
    {
     "name": "stdout",
     "output_type": "stream",
     "text": [
      "  Loss =  1.69493159e+09\n",
      "  eta = 0.006046617599999999\n",
      "  alpha= 1e-06\n",
      "Epoch 64/100\n"
     ]
    },
    {
     "name": "stderr",
     "output_type": "stream",
     "text": [
      "100%|██████████| 10/10 [00:10<00:00,  1.10s/it, eta=2.419e-02, loss=1.699e+09]\n"
     ]
    },
    {
     "name": "stdout",
     "output_type": "stream",
     "text": [
      "  Loss =  1.69491833e+09\n",
      "  eta = 0.024186470399999997\n",
      "  alpha= 1e-06\n",
      "Epoch 65/100\n"
     ]
    },
    {
     "name": "stderr",
     "output_type": "stream",
     "text": [
      "100%|██████████| 10/10 [00:10<00:00,  1.08s/it, eta=4.837e-02, loss=1.668e+09]\n"
     ]
    },
    {
     "name": "stdout",
     "output_type": "stream",
     "text": [
      "  Loss =  1.69575732e+09\n",
      "  eta = 0.04837294079999999\n",
      "  alpha= 1e-06\n",
      "Epoch 66/100\n"
     ]
    },
    {
     "name": "stderr",
     "output_type": "stream",
     "text": [
      "100%|██████████| 10/10 [00:11<00:00,  1.10s/it, eta=2.419e-02, loss=1.695e+09]\n"
     ]
    },
    {
     "name": "stdout",
     "output_type": "stream",
     "text": [
      "  Loss =  1.69547521e+09\n",
      "  eta = 0.024186470399999997\n",
      "  alpha= 1e-06\n",
      "Epoch 67/100\n"
     ]
    },
    {
     "name": "stderr",
     "output_type": "stream",
     "text": [
      "100%|██████████| 10/10 [00:10<00:00,  1.10s/it, eta=2.419e-02, loss=1.694e+09]\n"
     ]
    },
    {
     "name": "stdout",
     "output_type": "stream",
     "text": [
      "  Loss =  1.69503164e+09\n",
      "  eta = 0.024186470399999997\n",
      "  alpha= 1e-06\n",
      "Epoch 68/100\n"
     ]
    },
    {
     "name": "stderr",
     "output_type": "stream",
     "text": [
      "100%|██████████| 10/10 [00:11<00:00,  1.15s/it, eta=6.047e-03, loss=1.715e+09]\n"
     ]
    },
    {
     "name": "stdout",
     "output_type": "stream",
     "text": [
      "  Loss =  1.69510899e+09\n",
      "  eta = 0.006046617599999999\n",
      "  alpha= 1e-06\n",
      "Epoch 69/100\n"
     ]
    },
    {
     "name": "stderr",
     "output_type": "stream",
     "text": [
      "100%|██████████| 10/10 [00:10<00:00,  1.08s/it, eta=4.837e-02, loss=1.671e+09]\n"
     ]
    },
    {
     "name": "stdout",
     "output_type": "stream",
     "text": [
      "  Loss =  1.69591575e+09\n",
      "  eta = 0.04837294079999999\n",
      "  alpha= 1e-06\n",
      "Epoch 70/100\n"
     ]
    },
    {
     "name": "stderr",
     "output_type": "stream",
     "text": [
      "100%|██████████| 10/10 [00:11<00:00,  1.12s/it, eta=1.209e-02, loss=1.689e+09]\n"
     ]
    },
    {
     "name": "stdout",
     "output_type": "stream",
     "text": [
      "  Loss =  1.69576487e+09\n",
      "  eta = 0.012093235199999998\n",
      "  alpha= 1e-06\n",
      "Epoch 71/100\n"
     ]
    },
    {
     "name": "stderr",
     "output_type": "stream",
     "text": [
      "100%|██████████| 10/10 [00:11<00:00,  1.10s/it, eta=2.419e-02, loss=1.696e+09]\n"
     ]
    },
    {
     "name": "stdout",
     "output_type": "stream",
     "text": [
      "  Loss =  1.69491167e+09\n",
      "  eta = 0.024186470399999997\n",
      "  alpha= 1e-06\n",
      "Epoch 72/100\n"
     ]
    },
    {
     "name": "stderr",
     "output_type": "stream",
     "text": [
      "100%|██████████| 10/10 [00:10<00:00,  1.10s/it, eta=2.419e-02, loss=1.687e+09]\n"
     ]
    },
    {
     "name": "stdout",
     "output_type": "stream",
     "text": [
      "  Loss =  1.69464956e+09\n",
      "  eta = 0.024186470399999997\n",
      "  alpha= 1e-06\n",
      "Epoch 73/100\n"
     ]
    },
    {
     "name": "stderr",
     "output_type": "stream",
     "text": [
      "100%|██████████| 10/10 [00:11<00:00,  1.12s/it, eta=1.209e-02, loss=1.699e+09]\n"
     ]
    },
    {
     "name": "stdout",
     "output_type": "stream",
     "text": [
      "  Loss =  1.69452173e+09\n",
      "  eta = 0.012093235199999998\n",
      "  alpha= 1e-06\n",
      "Epoch 74/100\n"
     ]
    },
    {
     "name": "stderr",
     "output_type": "stream",
     "text": [
      "100%|██████████| 10/10 [00:11<00:00,  1.12s/it, eta=1.209e-02, loss=1.689e+09]\n"
     ]
    },
    {
     "name": "stdout",
     "output_type": "stream",
     "text": [
      "  Loss =  1.69443218e+09\n",
      "  eta = 0.012093235199999998\n",
      "  alpha= 1e-06\n",
      "Epoch 75/100\n"
     ]
    },
    {
     "name": "stderr",
     "output_type": "stream",
     "text": [
      "100%|██████████| 10/10 [00:10<00:00,  1.08s/it, eta=4.837e-02, loss=1.671e+09]\n"
     ]
    },
    {
     "name": "stdout",
     "output_type": "stream",
     "text": [
      "  Loss =  1.69538884e+09\n",
      "  eta = 0.04837294079999999\n",
      "  alpha= 1e-06\n",
      "Epoch 76/100\n"
     ]
    },
    {
     "name": "stderr",
     "output_type": "stream",
     "text": [
      "100%|██████████| 10/10 [00:11<00:00,  1.12s/it, eta=1.209e-02, loss=1.686e+09]\n"
     ]
    },
    {
     "name": "stdout",
     "output_type": "stream",
     "text": [
      "  Loss =  1.69474110e+09\n",
      "  eta = 0.012093235199999998\n",
      "  alpha= 1e-06\n",
      "Epoch 77/100\n"
     ]
    },
    {
     "name": "stderr",
     "output_type": "stream",
     "text": [
      "100%|██████████| 10/10 [00:11<00:00,  1.10s/it, eta=2.419e-02, loss=1.686e+09]\n"
     ]
    },
    {
     "name": "stdout",
     "output_type": "stream",
     "text": [
      "  Loss =  1.69457263e+09\n",
      "  eta = 0.024186470399999997\n",
      "  alpha= 1e-06\n",
      "Epoch 78/100\n"
     ]
    },
    {
     "name": "stderr",
     "output_type": "stream",
     "text": [
      "100%|██████████| 10/10 [00:10<00:00,  1.08s/it, eta=4.837e-02, loss=1.660e+09]\n"
     ]
    },
    {
     "name": "stdout",
     "output_type": "stream",
     "text": [
      "  Loss =  1.69592777e+09\n",
      "  eta = 0.04837294079999999\n",
      "  alpha= 1e-06\n",
      "Epoch 79/100\n"
     ]
    },
    {
     "name": "stderr",
     "output_type": "stream",
     "text": [
      "100%|██████████| 10/10 [00:11<00:00,  1.10s/it, eta=2.419e-02, loss=1.687e+09]\n"
     ]
    },
    {
     "name": "stdout",
     "output_type": "stream",
     "text": [
      "  Loss =  1.69557445e+09\n",
      "  eta = 0.024186470399999997\n",
      "  alpha= 1e-06\n",
      "Epoch 80/100\n"
     ]
    },
    {
     "name": "stderr",
     "output_type": "stream",
     "text": [
      "100%|██████████| 10/10 [00:11<00:00,  1.12s/it, eta=1.209e-02, loss=1.691e+09]\n"
     ]
    },
    {
     "name": "stdout",
     "output_type": "stream",
     "text": [
      "  Loss =  1.69542498e+09\n",
      "  eta = 0.012093235199999998\n",
      "  alpha= 1e-06\n",
      "Epoch 81/100\n"
     ]
    },
    {
     "name": "stderr",
     "output_type": "stream",
     "text": [
      "100%|██████████| 10/10 [00:10<00:00,  1.08s/it, eta=4.837e-02, loss=1.673e+09]\n"
     ]
    },
    {
     "name": "stdout",
     "output_type": "stream",
     "text": [
      "  Loss =  1.69513797e+09\n",
      "  eta = 0.04837294079999999\n",
      "  alpha= 1e-06\n",
      "Epoch 82/100\n"
     ]
    },
    {
     "name": "stderr",
     "output_type": "stream",
     "text": [
      " 80%|████████  | 8/10 [00:10<00:02,  1.26s/it, eta=1.680e-02, loss=1.690e+09]\n"
     ]
    }
   ],
   "source": [
    "key, key_alg = random.split(key)\n",
    "\n",
    "v_sgdp_tri1, loss_sgdp_tri1, _, _ = precon_sgd(\n",
    "    key_alg,\n",
    "    loss_func_tri1,\n",
    "    grad_func_tri1,\n",
    "    hvp_func_tri1,\n",
    "    v0,\n",
    "    step_size,\n",
    "    D0,\n",
    "    beta,\n",
    "    thresh,\n",
    "    N_epochs,\n",
    "    batch_size,\n",
    "    N//2,\n",
    "    c=c,\n",
    "    adaptive_step_size=True,\n",
    "    iter_display=1,\n",
    ")"
   ]
  },
  {
   "cell_type": "code",
   "execution_count": 16,
   "id": "95e7d24d-6f49-4a07-81d8-0230612234ee",
   "metadata": {},
   "outputs": [
    {
     "name": "stdout",
     "output_type": "stream",
     "text": [
      "Epoch 1/100\n"
     ]
    },
    {
     "name": "stderr",
     "output_type": "stream",
     "text": [
      "100%|██████████| 10/10 [00:13<00:00,  1.39s/it, eta=4.837e-02, loss=1.745e+09]\n"
     ]
    },
    {
     "name": "stdout",
     "output_type": "stream",
     "text": [
      "  Loss =  1.74030049e+09\n",
      "  eta = 0.04837294079999999\n",
      "  alpha= 1e-06\n",
      "Epoch 2/100\n"
     ]
    },
    {
     "name": "stderr",
     "output_type": "stream",
     "text": [
      "100%|██████████| 10/10 [00:11<00:00,  1.18s/it, eta=1.512e-03, loss=1.738e+09]\n"
     ]
    },
    {
     "name": "stdout",
     "output_type": "stream",
     "text": [
      "  Loss =  1.73644299e+09\n",
      "  eta = 0.0015116543999999998\n",
      "  alpha= 1e-06\n",
      "Epoch 3/100\n"
     ]
    },
    {
     "name": "stderr",
     "output_type": "stream",
     "text": [
      "100%|██████████| 10/10 [00:11<00:00,  1.17s/it, eta=3.023e-03, loss=1.736e+09]\n"
     ]
    },
    {
     "name": "stdout",
     "output_type": "stream",
     "text": [
      "  Loss =  1.73389168e+09\n",
      "  eta = 0.0030233087999999996\n",
      "  alpha= 1e-06\n",
      "Epoch 4/100\n"
     ]
    },
    {
     "name": "stderr",
     "output_type": "stream",
     "text": [
      "100%|██████████| 10/10 [00:11<00:00,  1.14s/it, eta=6.047e-03, loss=1.731e+09]\n"
     ]
    },
    {
     "name": "stdout",
     "output_type": "stream",
     "text": [
      "  Loss =  1.73094468e+09\n",
      "  eta = 0.006046617599999999\n",
      "  alpha= 1e-06\n",
      "Epoch 5/100\n"
     ]
    },
    {
     "name": "stderr",
     "output_type": "stream",
     "text": [
      "100%|██████████| 10/10 [00:11<00:00,  1.14s/it, eta=6.047e-03, loss=1.729e+09]\n"
     ]
    },
    {
     "name": "stdout",
     "output_type": "stream",
     "text": [
      "  Loss =  1.72757342e+09\n",
      "  eta = 0.006046617599999999\n",
      "  alpha= 1e-06\n",
      "Epoch 6/100\n"
     ]
    },
    {
     "name": "stderr",
     "output_type": "stream",
     "text": [
      "100%|██████████| 10/10 [00:11<00:00,  1.14s/it, eta=6.047e-03, loss=1.722e+09]\n"
     ]
    },
    {
     "name": "stdout",
     "output_type": "stream",
     "text": [
      "  Loss =  1.72452539e+09\n",
      "  eta = 0.006046617599999999\n",
      "  alpha= 1e-06\n",
      "Epoch 7/100\n"
     ]
    },
    {
     "name": "stderr",
     "output_type": "stream",
     "text": [
      "100%|██████████| 10/10 [00:11<00:00,  1.12s/it, eta=1.209e-02, loss=1.715e+09]\n"
     ]
    },
    {
     "name": "stdout",
     "output_type": "stream",
     "text": [
      "  Loss =  1.72131133e+09\n",
      "  eta = 0.012093235199999998\n",
      "  alpha= 1e-06\n",
      "Epoch 8/100\n"
     ]
    },
    {
     "name": "stderr",
     "output_type": "stream",
     "text": [
      "100%|██████████| 10/10 [00:11<00:00,  1.13s/it, eta=6.047e-03, loss=1.718e+09]\n"
     ]
    },
    {
     "name": "stdout",
     "output_type": "stream",
     "text": [
      "  Loss =  1.71864774e+09\n",
      "  eta = 0.006046617599999999\n",
      "  alpha= 1e-06\n",
      "Epoch 9/100\n"
     ]
    },
    {
     "name": "stderr",
     "output_type": "stream",
     "text": [
      "100%|██████████| 10/10 [00:11<00:00,  1.16s/it, eta=3.023e-03, loss=1.718e+09]\n"
     ]
    },
    {
     "name": "stdout",
     "output_type": "stream",
     "text": [
      "  Loss =  1.71721777e+09\n",
      "  eta = 0.0030233087999999996\n",
      "  alpha= 1e-06\n",
      "Epoch 10/100\n"
     ]
    },
    {
     "name": "stderr",
     "output_type": "stream",
     "text": [
      "100%|██████████| 10/10 [00:11<00:00,  1.16s/it, eta=3.023e-03, loss=1.720e+09]\n"
     ]
    },
    {
     "name": "stdout",
     "output_type": "stream",
     "text": [
      "  Loss =  1.71555381e+09\n",
      "  eta = 0.0030233087999999996\n",
      "  alpha= 1e-06\n",
      "Epoch 11/100\n"
     ]
    },
    {
     "name": "stderr",
     "output_type": "stream",
     "text": [
      "100%|██████████| 10/10 [00:11<00:00,  1.14s/it, eta=6.047e-03, loss=1.715e+09]\n"
     ]
    },
    {
     "name": "stdout",
     "output_type": "stream",
     "text": [
      "  Loss =  1.71335958e+09\n",
      "  eta = 0.006046617599999999\n",
      "  alpha= 1e-06\n",
      "Epoch 12/100\n"
     ]
    },
    {
     "name": "stderr",
     "output_type": "stream",
     "text": [
      "100%|██████████| 10/10 [00:11<00:00,  1.12s/it, eta=1.209e-02, loss=1.709e+09]\n"
     ]
    },
    {
     "name": "stdout",
     "output_type": "stream",
     "text": [
      "  Loss =  1.71167400e+09\n",
      "  eta = 0.012093235199999998\n",
      "  alpha= 1e-06\n",
      "Epoch 13/100\n"
     ]
    },
    {
     "name": "stderr",
     "output_type": "stream",
     "text": [
      "100%|██████████| 10/10 [00:11<00:00,  1.12s/it, eta=1.209e-02, loss=1.709e+09]\n"
     ]
    },
    {
     "name": "stdout",
     "output_type": "stream",
     "text": [
      "  Loss =  1.71025721e+09\n",
      "  eta = 0.012093235199999998\n",
      "  alpha= 1e-06\n",
      "Epoch 14/100\n"
     ]
    },
    {
     "name": "stderr",
     "output_type": "stream",
     "text": [
      "100%|██████████| 10/10 [00:11<00:00,  1.12s/it, eta=1.209e-02, loss=1.704e+09]\n"
     ]
    },
    {
     "name": "stdout",
     "output_type": "stream",
     "text": [
      "  Loss =  1.70895542e+09\n",
      "  eta = 0.012093235199999998\n",
      "  alpha= 1e-06\n",
      "Epoch 15/100\n"
     ]
    },
    {
     "name": "stderr",
     "output_type": "stream",
     "text": [
      "100%|██████████| 10/10 [00:11<00:00,  1.11s/it, eta=1.209e-02, loss=1.707e+09]\n"
     ]
    },
    {
     "name": "stdout",
     "output_type": "stream",
     "text": [
      "  Loss =  1.70769482e+09\n",
      "  eta = 0.012093235199999998\n",
      "  alpha= 1e-06\n",
      "Epoch 16/100\n"
     ]
    },
    {
     "name": "stderr",
     "output_type": "stream",
     "text": [
      "100%|██████████| 10/10 [00:11<00:00,  1.12s/it, eta=1.209e-02, loss=1.702e+09]\n"
     ]
    },
    {
     "name": "stdout",
     "output_type": "stream",
     "text": [
      "  Loss =  1.70645198e+09\n",
      "  eta = 0.012093235199999998\n",
      "  alpha= 1e-06\n",
      "Epoch 17/100\n"
     ]
    },
    {
     "name": "stderr",
     "output_type": "stream",
     "text": [
      "100%|██████████| 10/10 [00:11<00:00,  1.12s/it, eta=1.209e-02, loss=1.703e+09]\n"
     ]
    },
    {
     "name": "stdout",
     "output_type": "stream",
     "text": [
      "  Loss =  1.70536015e+09\n",
      "  eta = 0.012093235199999998\n",
      "  alpha= 1e-06\n",
      "Epoch 18/100\n"
     ]
    },
    {
     "name": "stderr",
     "output_type": "stream",
     "text": [
      "100%|██████████| 10/10 [00:11<00:00,  1.12s/it, eta=1.209e-02, loss=1.700e+09]\n"
     ]
    },
    {
     "name": "stdout",
     "output_type": "stream",
     "text": [
      "  Loss =  1.70443710e+09\n",
      "  eta = 0.012093235199999998\n",
      "  alpha= 1e-06\n",
      "Epoch 19/100\n"
     ]
    },
    {
     "name": "stderr",
     "output_type": "stream",
     "text": [
      "100%|██████████| 10/10 [00:11<00:00,  1.12s/it, eta=1.209e-02, loss=1.706e+09]\n"
     ]
    },
    {
     "name": "stdout",
     "output_type": "stream",
     "text": [
      "  Loss =  1.70411167e+09\n",
      "  eta = 0.012093235199999998\n",
      "  alpha= 1e-06\n",
      "Epoch 20/100\n"
     ]
    },
    {
     "name": "stderr",
     "output_type": "stream",
     "text": [
      "100%|██████████| 10/10 [00:11<00:00,  1.12s/it, eta=1.209e-02, loss=1.700e+09]\n"
     ]
    },
    {
     "name": "stdout",
     "output_type": "stream",
     "text": [
      "  Loss =  1.70323597e+09\n",
      "  eta = 0.012093235199999998\n",
      "  alpha= 1e-06\n",
      "Epoch 21/100\n"
     ]
    },
    {
     "name": "stderr",
     "output_type": "stream",
     "text": [
      "100%|██████████| 10/10 [00:10<00:00,  1.10s/it, eta=2.419e-02, loss=1.690e+09]\n"
     ]
    },
    {
     "name": "stdout",
     "output_type": "stream",
     "text": [
      "  Loss =  1.70301218e+09\n",
      "  eta = 0.024186470399999997\n",
      "  alpha= 1e-06\n",
      "Epoch 22/100\n"
     ]
    },
    {
     "name": "stderr",
     "output_type": "stream",
     "text": [
      "100%|██████████| 10/10 [00:11<00:00,  1.14s/it, eta=6.047e-03, loss=1.710e+09]\n"
     ]
    },
    {
     "name": "stdout",
     "output_type": "stream",
     "text": [
      "  Loss =  1.70214309e+09\n",
      "  eta = 0.006046617599999999\n",
      "  alpha= 1e-06\n",
      "Epoch 23/100\n"
     ]
    },
    {
     "name": "stderr",
     "output_type": "stream",
     "text": [
      "100%|██████████| 10/10 [00:11<00:00,  1.12s/it, eta=1.209e-02, loss=1.694e+09]\n"
     ]
    },
    {
     "name": "stdout",
     "output_type": "stream",
     "text": [
      "  Loss =  1.70169717e+09\n",
      "  eta = 0.012093235199999998\n",
      "  alpha= 1e-06\n",
      "Epoch 24/100\n"
     ]
    },
    {
     "name": "stderr",
     "output_type": "stream",
     "text": [
      "100%|██████████| 10/10 [00:10<00:00,  1.10s/it, eta=2.419e-02, loss=1.698e+09]\n"
     ]
    },
    {
     "name": "stdout",
     "output_type": "stream",
     "text": [
      "  Loss =  1.70094762e+09\n",
      "  eta = 0.024186470399999997\n",
      "  alpha= 1e-06\n",
      "Epoch 25/100\n"
     ]
    },
    {
     "name": "stderr",
     "output_type": "stream",
     "text": [
      "100%|██████████| 10/10 [00:11<00:00,  1.13s/it, eta=1.209e-02, loss=1.697e+09]\n"
     ]
    },
    {
     "name": "stdout",
     "output_type": "stream",
     "text": [
      "  Loss =  1.70016125e+09\n",
      "  eta = 0.012093235199999998\n",
      "  alpha= 1e-06\n",
      "Epoch 26/100\n"
     ]
    },
    {
     "name": "stderr",
     "output_type": "stream",
     "text": [
      "100%|██████████| 10/10 [00:11<00:00,  1.14s/it, eta=6.047e-03, loss=1.711e+09]\n"
     ]
    },
    {
     "name": "stdout",
     "output_type": "stream",
     "text": [
      "  Loss =  1.69983519e+09\n",
      "  eta = 0.006046617599999999\n",
      "  alpha= 1e-06\n",
      "Epoch 27/100\n"
     ]
    },
    {
     "name": "stderr",
     "output_type": "stream",
     "text": [
      "100%|██████████| 10/10 [00:11<00:00,  1.11s/it, eta=1.209e-02, loss=1.701e+09]\n"
     ]
    },
    {
     "name": "stdout",
     "output_type": "stream",
     "text": [
      "  Loss =  1.69936698e+09\n",
      "  eta = 0.012093235199999998\n",
      "  alpha= 1e-06\n",
      "Epoch 28/100\n"
     ]
    },
    {
     "name": "stderr",
     "output_type": "stream",
     "text": [
      "100%|██████████| 10/10 [00:11<00:00,  1.12s/it, eta=1.209e-02, loss=1.694e+09]\n"
     ]
    },
    {
     "name": "stdout",
     "output_type": "stream",
     "text": [
      "  Loss =  1.69926125e+09\n",
      "  eta = 0.012093235199999998\n",
      "  alpha= 1e-06\n",
      "Epoch 29/100\n"
     ]
    },
    {
     "name": "stderr",
     "output_type": "stream",
     "text": [
      "100%|██████████| 10/10 [00:10<00:00,  1.10s/it, eta=2.419e-02, loss=1.689e+09]\n"
     ]
    },
    {
     "name": "stdout",
     "output_type": "stream",
     "text": [
      "  Loss =  1.69915288e+09\n",
      "  eta = 0.024186470399999997\n",
      "  alpha= 1e-06\n",
      "Epoch 30/100\n"
     ]
    },
    {
     "name": "stderr",
     "output_type": "stream",
     "text": [
      "100%|██████████| 10/10 [00:10<00:00,  1.10s/it, eta=2.419e-02, loss=1.696e+09]\n"
     ]
    },
    {
     "name": "stdout",
     "output_type": "stream",
     "text": [
      "  Loss =  1.69858689e+09\n",
      "  eta = 0.024186470399999997\n",
      "  alpha= 1e-06\n",
      "Epoch 31/100\n"
     ]
    },
    {
     "name": "stderr",
     "output_type": "stream",
     "text": [
      "100%|██████████| 10/10 [00:11<00:00,  1.12s/it, eta=1.209e-02, loss=1.691e+09]\n"
     ]
    },
    {
     "name": "stdout",
     "output_type": "stream",
     "text": [
      "  Loss =  1.69824349e+09\n",
      "  eta = 0.012093235199999998\n",
      "  alpha= 1e-06\n",
      "Epoch 32/100\n"
     ]
    },
    {
     "name": "stderr",
     "output_type": "stream",
     "text": [
      "100%|██████████| 10/10 [00:11<00:00,  1.12s/it, eta=1.209e-02, loss=1.701e+09]\n"
     ]
    },
    {
     "name": "stdout",
     "output_type": "stream",
     "text": [
      "  Loss =  1.69812600e+09\n",
      "  eta = 0.012093235199999998\n",
      "  alpha= 1e-06\n",
      "Epoch 33/100\n"
     ]
    },
    {
     "name": "stderr",
     "output_type": "stream",
     "text": [
      "100%|██████████| 10/10 [00:11<00:00,  1.12s/it, eta=1.209e-02, loss=1.698e+09]\n"
     ]
    },
    {
     "name": "stdout",
     "output_type": "stream",
     "text": [
      "  Loss =  1.69776482e+09\n",
      "  eta = 0.012093235199999998\n",
      "  alpha= 1e-06\n",
      "Epoch 34/100\n"
     ]
    },
    {
     "name": "stderr",
     "output_type": "stream",
     "text": [
      "100%|██████████| 10/10 [00:11<00:00,  1.14s/it, eta=6.047e-03, loss=1.709e+09]\n"
     ]
    },
    {
     "name": "stdout",
     "output_type": "stream",
     "text": [
      "  Loss =  1.69844116e+09\n",
      "  eta = 0.006046617599999999\n",
      "  alpha= 1e-06\n",
      "Epoch 35/100\n"
     ]
    },
    {
     "name": "stderr",
     "output_type": "stream",
     "text": [
      "100%|██████████| 10/10 [00:10<00:00,  1.10s/it, eta=2.419e-02, loss=1.693e+09]\n"
     ]
    },
    {
     "name": "stdout",
     "output_type": "stream",
     "text": [
      "  Loss =  1.69768638e+09\n",
      "  eta = 0.024186470399999997\n",
      "  alpha= 1e-06\n",
      "Epoch 36/100\n"
     ]
    },
    {
     "name": "stderr",
     "output_type": "stream",
     "text": [
      "100%|██████████| 10/10 [00:11<00:00,  1.12s/it, eta=1.209e-02, loss=1.702e+09]\n"
     ]
    },
    {
     "name": "stdout",
     "output_type": "stream",
     "text": [
      "  Loss =  1.69759002e+09\n",
      "  eta = 0.012093235199999998\n",
      "  alpha= 1e-06\n",
      "Epoch 37/100\n"
     ]
    },
    {
     "name": "stderr",
     "output_type": "stream",
     "text": [
      "100%|██████████| 10/10 [00:10<00:00,  1.09s/it, eta=2.419e-02, loss=1.688e+09]\n"
     ]
    },
    {
     "name": "stdout",
     "output_type": "stream",
     "text": [
      "  Loss =  1.69699828e+09\n",
      "  eta = 0.024186470399999997\n",
      "  alpha= 1e-06\n",
      "Epoch 38/100\n"
     ]
    },
    {
     "name": "stderr",
     "output_type": "stream",
     "text": [
      "100%|██████████| 10/10 [00:10<00:00,  1.10s/it, eta=2.419e-02, loss=1.694e+09]\n"
     ]
    },
    {
     "name": "stdout",
     "output_type": "stream",
     "text": [
      "  Loss =  1.69726204e+09\n",
      "  eta = 0.024186470399999997\n",
      "  alpha= 1e-06\n",
      "Epoch 39/100\n"
     ]
    },
    {
     "name": "stderr",
     "output_type": "stream",
     "text": [
      "100%|██████████| 10/10 [00:11<00:00,  1.12s/it, eta=1.209e-02, loss=1.697e+09]\n"
     ]
    },
    {
     "name": "stdout",
     "output_type": "stream",
     "text": [
      "  Loss =  1.69660485e+09\n",
      "  eta = 0.012093235199999998\n",
      "  alpha= 1e-06\n",
      "Epoch 40/100\n"
     ]
    },
    {
     "name": "stderr",
     "output_type": "stream",
     "text": [
      "100%|██████████| 10/10 [00:11<00:00,  1.12s/it, eta=1.209e-02, loss=1.695e+09]\n"
     ]
    },
    {
     "name": "stdout",
     "output_type": "stream",
     "text": [
      "  Loss =  1.69630897e+09\n",
      "  eta = 0.012093235199999998\n",
      "  alpha= 1e-06\n",
      "Epoch 41/100\n"
     ]
    },
    {
     "name": "stderr",
     "output_type": "stream",
     "text": [
      "100%|██████████| 10/10 [00:10<00:00,  1.10s/it, eta=2.419e-02, loss=1.682e+09]\n"
     ]
    },
    {
     "name": "stdout",
     "output_type": "stream",
     "text": [
      "  Loss =  1.69613212e+09\n",
      "  eta = 0.024186470399999997\n",
      "  alpha= 1e-06\n",
      "Epoch 42/100\n"
     ]
    },
    {
     "name": "stderr",
     "output_type": "stream",
     "text": [
      "100%|██████████| 10/10 [00:11<00:00,  1.12s/it, eta=1.209e-02, loss=1.699e+09]\n"
     ]
    },
    {
     "name": "stdout",
     "output_type": "stream",
     "text": [
      "  Loss =  1.69617782e+09\n",
      "  eta = 0.012093235199999998\n",
      "  alpha= 1e-06\n",
      "Epoch 43/100\n"
     ]
    },
    {
     "name": "stderr",
     "output_type": "stream",
     "text": [
      "100%|██████████| 10/10 [00:11<00:00,  1.12s/it, eta=1.209e-02, loss=1.701e+09]\n"
     ]
    },
    {
     "name": "stdout",
     "output_type": "stream",
     "text": [
      "  Loss =  1.69601002e+09\n",
      "  eta = 0.012093235199999998\n",
      "  alpha= 1e-06\n",
      "Epoch 44/100\n"
     ]
    },
    {
     "name": "stderr",
     "output_type": "stream",
     "text": [
      "100%|██████████| 10/10 [00:10<00:00,  1.09s/it, eta=2.419e-02, loss=1.693e+09]\n"
     ]
    },
    {
     "name": "stdout",
     "output_type": "stream",
     "text": [
      "  Loss =  1.69587320e+09\n",
      "  eta = 0.024186470399999997\n",
      "  alpha= 1e-06\n",
      "Epoch 45/100\n"
     ]
    },
    {
     "name": "stderr",
     "output_type": "stream",
     "text": [
      "100%|██████████| 10/10 [00:10<00:00,  1.09s/it, eta=2.419e-02, loss=1.682e+09]\n"
     ]
    },
    {
     "name": "stdout",
     "output_type": "stream",
     "text": [
      "  Loss =  1.69563056e+09\n",
      "  eta = 0.024186470399999997\n",
      "  alpha= 1e-06\n",
      "Epoch 46/100\n"
     ]
    },
    {
     "name": "stderr",
     "output_type": "stream",
     "text": [
      "100%|██████████| 10/10 [00:10<00:00,  1.09s/it, eta=2.419e-02, loss=1.695e+09]\n"
     ]
    },
    {
     "name": "stdout",
     "output_type": "stream",
     "text": [
      "  Loss =  1.69567518e+09\n",
      "  eta = 0.024186470399999997\n",
      "  alpha= 1e-06\n",
      "Epoch 47/100\n"
     ]
    },
    {
     "name": "stderr",
     "output_type": "stream",
     "text": [
      "100%|██████████| 10/10 [00:11<00:00,  1.12s/it, eta=1.209e-02, loss=1.699e+09]\n"
     ]
    },
    {
     "name": "stdout",
     "output_type": "stream",
     "text": [
      "  Loss =  1.69526377e+09\n",
      "  eta = 0.012093235199999998\n",
      "  alpha= 1e-06\n",
      "Epoch 48/100\n"
     ]
    },
    {
     "name": "stderr",
     "output_type": "stream",
     "text": [
      "100%|██████████| 10/10 [00:10<00:00,  1.10s/it, eta=2.419e-02, loss=1.686e+09]\n"
     ]
    },
    {
     "name": "stdout",
     "output_type": "stream",
     "text": [
      "  Loss =  1.69562918e+09\n",
      "  eta = 0.024186470399999997\n",
      "  alpha= 1e-06\n",
      "Epoch 49/100\n"
     ]
    },
    {
     "name": "stderr",
     "output_type": "stream",
     "text": [
      "100%|██████████| 10/10 [00:11<00:00,  1.12s/it, eta=1.209e-02, loss=1.696e+09]\n"
     ]
    },
    {
     "name": "stdout",
     "output_type": "stream",
     "text": [
      "  Loss =  1.69540995e+09\n",
      "  eta = 0.012093235199999998\n",
      "  alpha= 1e-06\n",
      "Epoch 50/100\n"
     ]
    },
    {
     "name": "stderr",
     "output_type": "stream",
     "text": [
      "100%|██████████| 10/10 [00:10<00:00,  1.09s/it, eta=2.419e-02, loss=1.685e+09]\n"
     ]
    },
    {
     "name": "stdout",
     "output_type": "stream",
     "text": [
      "  Loss =  1.69545980e+09\n",
      "  eta = 0.024186470399999997\n",
      "  alpha= 1e-06\n",
      "Epoch 51/100\n"
     ]
    },
    {
     "name": "stderr",
     "output_type": "stream",
     "text": [
      "100%|██████████| 10/10 [00:11<00:00,  1.12s/it, eta=1.209e-02, loss=1.702e+09]\n"
     ]
    },
    {
     "name": "stdout",
     "output_type": "stream",
     "text": [
      "  Loss =  1.69509661e+09\n",
      "  eta = 0.012093235199999998\n",
      "  alpha= 1e-06\n",
      "Epoch 52/100\n"
     ]
    },
    {
     "name": "stderr",
     "output_type": "stream",
     "text": [
      "100%|██████████| 10/10 [00:11<00:00,  1.12s/it, eta=1.209e-02, loss=1.688e+09]\n"
     ]
    },
    {
     "name": "stdout",
     "output_type": "stream",
     "text": [
      "  Loss =  1.69477678e+09\n",
      "  eta = 0.012093235199999998\n",
      "  alpha= 1e-06\n",
      "Epoch 53/100\n"
     ]
    },
    {
     "name": "stderr",
     "output_type": "stream",
     "text": [
      "100%|██████████| 10/10 [00:10<00:00,  1.10s/it, eta=2.419e-02, loss=1.697e+09]\n"
     ]
    },
    {
     "name": "stdout",
     "output_type": "stream",
     "text": [
      "  Loss =  1.69509067e+09\n",
      "  eta = 0.024186470399999997\n",
      "  alpha= 1e-06\n",
      "Epoch 54/100\n"
     ]
    },
    {
     "name": "stderr",
     "output_type": "stream",
     "text": [
      "100%|██████████| 10/10 [00:11<00:00,  1.12s/it, eta=1.209e-02, loss=1.699e+09]\n"
     ]
    },
    {
     "name": "stdout",
     "output_type": "stream",
     "text": [
      "  Loss =  1.69539102e+09\n",
      "  eta = 0.012093235199999998\n",
      "  alpha= 1e-06\n",
      "Epoch 55/100\n"
     ]
    },
    {
     "name": "stderr",
     "output_type": "stream",
     "text": [
      "100%|██████████| 10/10 [00:10<00:00,  1.10s/it, eta=2.419e-02, loss=1.699e+09]\n"
     ]
    },
    {
     "name": "stdout",
     "output_type": "stream",
     "text": [
      "  Loss =  1.69528632e+09\n",
      "  eta = 0.024186470399999997\n",
      "  alpha= 1e-06\n",
      "Epoch 56/100\n"
     ]
    },
    {
     "name": "stderr",
     "output_type": "stream",
     "text": [
      "100%|██████████| 10/10 [00:10<00:00,  1.07s/it, eta=4.837e-02, loss=1.668e+09]\n"
     ]
    },
    {
     "name": "stdout",
     "output_type": "stream",
     "text": [
      "  Loss =  1.69585581e+09\n",
      "  eta = 0.04837294079999999\n",
      "  alpha= 1e-06\n",
      "Epoch 57/100\n"
     ]
    },
    {
     "name": "stderr",
     "output_type": "stream",
     "text": [
      "100%|██████████| 10/10 [00:10<00:00,  1.10s/it, eta=2.419e-02, loss=1.687e+09]\n"
     ]
    },
    {
     "name": "stdout",
     "output_type": "stream",
     "text": [
      "  Loss =  1.69473097e+09\n",
      "  eta = 0.024186470399999997\n",
      "  alpha= 1e-06\n",
      "Epoch 58/100\n"
     ]
    },
    {
     "name": "stderr",
     "output_type": "stream",
     "text": [
      "100%|██████████| 10/10 [00:10<00:00,  1.10s/it, eta=2.419e-02, loss=1.693e+09]\n"
     ]
    },
    {
     "name": "stdout",
     "output_type": "stream",
     "text": [
      "  Loss =  1.69445074e+09\n",
      "  eta = 0.024186470399999997\n",
      "  alpha= 1e-06\n",
      "Epoch 59/100\n"
     ]
    },
    {
     "name": "stderr",
     "output_type": "stream",
     "text": [
      "100%|██████████| 10/10 [00:10<00:00,  1.09s/it, eta=2.419e-02, loss=1.691e+09]\n"
     ]
    },
    {
     "name": "stdout",
     "output_type": "stream",
     "text": [
      "  Loss =  1.69425090e+09\n",
      "  eta = 0.024186470399999997\n",
      "  alpha= 1e-06\n",
      "Epoch 60/100\n"
     ]
    },
    {
     "name": "stderr",
     "output_type": "stream",
     "text": [
      "100%|██████████| 10/10 [00:11<00:00,  1.14s/it, eta=6.047e-03, loss=1.708e+09]\n"
     ]
    },
    {
     "name": "stdout",
     "output_type": "stream",
     "text": [
      "  Loss =  1.69444116e+09\n",
      "  eta = 0.006046617599999999\n",
      "  alpha= 1e-06\n",
      "Epoch 61/100\n"
     ]
    },
    {
     "name": "stderr",
     "output_type": "stream",
     "text": [
      "100%|██████████| 10/10 [00:10<00:00,  1.10s/it, eta=2.419e-02, loss=1.692e+09]\n"
     ]
    },
    {
     "name": "stdout",
     "output_type": "stream",
     "text": [
      "  Loss =  1.69418553e+09\n",
      "  eta = 0.024186470399999997\n",
      "  alpha= 1e-06\n",
      "Epoch 62/100\n"
     ]
    },
    {
     "name": "stderr",
     "output_type": "stream",
     "text": [
      "100%|██████████| 10/10 [00:11<00:00,  1.12s/it, eta=1.209e-02, loss=1.699e+09]\n"
     ]
    },
    {
     "name": "stdout",
     "output_type": "stream",
     "text": [
      "  Loss =  1.69472090e+09\n",
      "  eta = 0.012093235199999998\n",
      "  alpha= 1e-06\n",
      "Epoch 63/100\n"
     ]
    },
    {
     "name": "stderr",
     "output_type": "stream",
     "text": [
      "100%|██████████| 10/10 [00:10<00:00,  1.10s/it, eta=2.419e-02, loss=1.699e+09]\n"
     ]
    },
    {
     "name": "stdout",
     "output_type": "stream",
     "text": [
      "  Loss =  1.69434339e+09\n",
      "  eta = 0.024186470399999997\n",
      "  alpha= 1e-06\n",
      "Epoch 64/100\n"
     ]
    },
    {
     "name": "stderr",
     "output_type": "stream",
     "text": [
      "100%|██████████| 10/10 [00:10<00:00,  1.10s/it, eta=2.419e-02, loss=1.686e+09]\n"
     ]
    },
    {
     "name": "stdout",
     "output_type": "stream",
     "text": [
      "  Loss =  1.69410368e+09\n",
      "  eta = 0.024186470399999997\n",
      "  alpha= 1e-06\n",
      "Epoch 65/100\n"
     ]
    },
    {
     "name": "stderr",
     "output_type": "stream",
     "text": [
      "100%|██████████| 10/10 [00:10<00:00,  1.10s/it, eta=2.419e-02, loss=1.687e+09]\n"
     ]
    },
    {
     "name": "stdout",
     "output_type": "stream",
     "text": [
      "  Loss =  1.69409811e+09\n",
      "  eta = 0.024186470399999997\n",
      "  alpha= 1e-06\n",
      "Epoch 66/100\n"
     ]
    },
    {
     "name": "stderr",
     "output_type": "stream",
     "text": [
      "100%|██████████| 10/10 [00:11<00:00,  1.12s/it, eta=1.209e-02, loss=1.694e+09]\n"
     ]
    },
    {
     "name": "stdout",
     "output_type": "stream",
     "text": [
      "  Loss =  1.69378014e+09\n",
      "  eta = 0.012093235199999998\n",
      "  alpha= 1e-06\n",
      "Epoch 67/100\n"
     ]
    },
    {
     "name": "stderr",
     "output_type": "stream",
     "text": [
      "100%|██████████| 10/10 [00:10<00:00,  1.08s/it, eta=4.837e-02, loss=1.669e+09]\n"
     ]
    },
    {
     "name": "stdout",
     "output_type": "stream",
     "text": [
      "  Loss =  1.69484470e+09\n",
      "  eta = 0.04837294079999999\n",
      "  alpha= 1e-06\n",
      "Epoch 68/100\n"
     ]
    },
    {
     "name": "stderr",
     "output_type": "stream",
     "text": [
      "100%|██████████| 10/10 [00:11<00:00,  1.12s/it, eta=1.209e-02, loss=1.698e+09]\n"
     ]
    },
    {
     "name": "stdout",
     "output_type": "stream",
     "text": [
      "  Loss =  1.69454866e+09\n",
      "  eta = 0.012093235199999998\n",
      "  alpha= 1e-06\n",
      "Epoch 69/100\n"
     ]
    },
    {
     "name": "stderr",
     "output_type": "stream",
     "text": [
      "100%|██████████| 10/10 [00:10<00:00,  1.10s/it, eta=2.419e-02, loss=1.690e+09]\n"
     ]
    },
    {
     "name": "stdout",
     "output_type": "stream",
     "text": [
      "  Loss =  1.69446217e+09\n",
      "  eta = 0.024186470399999997\n",
      "  alpha= 1e-06\n",
      "Epoch 70/100\n"
     ]
    },
    {
     "name": "stderr",
     "output_type": "stream",
     "text": [
      "100%|██████████| 10/10 [00:10<00:00,  1.10s/it, eta=2.419e-02, loss=1.686e+09]\n"
     ]
    },
    {
     "name": "stdout",
     "output_type": "stream",
     "text": [
      "  Loss =  1.69407404e+09\n",
      "  eta = 0.024186470399999997\n",
      "  alpha= 1e-06\n",
      "Epoch 71/100\n"
     ]
    },
    {
     "name": "stderr",
     "output_type": "stream",
     "text": [
      "100%|██████████| 10/10 [00:11<00:00,  1.13s/it, eta=1.209e-02, loss=1.700e+09]\n"
     ]
    },
    {
     "name": "stdout",
     "output_type": "stream",
     "text": [
      "  Loss =  1.69431364e+09\n",
      "  eta = 0.012093235199999998\n",
      "  alpha= 1e-06\n",
      "Epoch 72/100\n"
     ]
    },
    {
     "name": "stderr",
     "output_type": "stream",
     "text": [
      "100%|██████████| 10/10 [00:10<00:00,  1.10s/it, eta=2.419e-02, loss=1.700e+09]\n"
     ]
    },
    {
     "name": "stdout",
     "output_type": "stream",
     "text": [
      "  Loss =  1.69420667e+09\n",
      "  eta = 0.024186470399999997\n",
      "  alpha= 1e-06\n",
      "Epoch 73/100\n"
     ]
    },
    {
     "name": "stderr",
     "output_type": "stream",
     "text": [
      "100%|██████████| 10/10 [00:11<00:00,  1.14s/it, eta=6.047e-03, loss=1.700e+09]\n"
     ]
    },
    {
     "name": "stdout",
     "output_type": "stream",
     "text": [
      "  Loss =  1.69529066e+09\n",
      "  eta = 0.006046617599999999\n",
      "  alpha= 1e-06\n",
      "Epoch 74/100\n"
     ]
    },
    {
     "name": "stderr",
     "output_type": "stream",
     "text": [
      "100%|██████████| 10/10 [00:10<00:00,  1.10s/it, eta=2.419e-02, loss=1.694e+09]\n"
     ]
    },
    {
     "name": "stdout",
     "output_type": "stream",
     "text": [
      "  Loss =  1.69495416e+09\n",
      "  eta = 0.024186470399999997\n",
      "  alpha= 1e-06\n",
      "Epoch 75/100\n"
     ]
    },
    {
     "name": "stderr",
     "output_type": "stream",
     "text": [
      "100%|██████████| 10/10 [00:10<00:00,  1.10s/it, eta=2.419e-02, loss=1.684e+09]\n"
     ]
    },
    {
     "name": "stdout",
     "output_type": "stream",
     "text": [
      "  Loss =  1.69423114e+09\n",
      "  eta = 0.024186470399999997\n",
      "  alpha= 1e-06\n",
      "Epoch 76/100\n"
     ]
    },
    {
     "name": "stderr",
     "output_type": "stream",
     "text": [
      "100%|██████████| 10/10 [00:10<00:00,  1.08s/it, eta=4.837e-02, loss=1.667e+09]\n"
     ]
    },
    {
     "name": "stdout",
     "output_type": "stream",
     "text": [
      "  Loss =  1.69485987e+09\n",
      "  eta = 0.04837294079999999\n",
      "  alpha= 1e-06\n",
      "Epoch 77/100\n"
     ]
    },
    {
     "name": "stderr",
     "output_type": "stream",
     "text": [
      "100%|██████████| 10/10 [00:11<00:00,  1.12s/it, eta=1.209e-02, loss=1.704e+09]\n"
     ]
    },
    {
     "name": "stdout",
     "output_type": "stream",
     "text": [
      "  Loss =  1.69445005e+09\n",
      "  eta = 0.012093235199999998\n",
      "  alpha= 1e-06\n",
      "Epoch 78/100\n"
     ]
    },
    {
     "name": "stderr",
     "output_type": "stream",
     "text": [
      "100%|██████████| 10/10 [00:10<00:00,  1.10s/it, eta=2.419e-02, loss=1.694e+09]\n"
     ]
    },
    {
     "name": "stdout",
     "output_type": "stream",
     "text": [
      "  Loss =  1.69384555e+09\n",
      "  eta = 0.024186470399999997\n",
      "  alpha= 1e-06\n",
      "Epoch 79/100\n"
     ]
    },
    {
     "name": "stderr",
     "output_type": "stream",
     "text": [
      "100%|██████████| 10/10 [00:10<00:00,  1.10s/it, eta=2.419e-02, loss=1.688e+09]\n"
     ]
    },
    {
     "name": "stdout",
     "output_type": "stream",
     "text": [
      "  Loss =  1.69413400e+09\n",
      "  eta = 0.024186470399999997\n",
      "  alpha= 1e-06\n",
      "Epoch 80/100\n"
     ]
    },
    {
     "name": "stderr",
     "output_type": "stream",
     "text": [
      "100%|██████████| 10/10 [00:10<00:00,  1.10s/it, eta=2.419e-02, loss=1.677e+09]\n"
     ]
    },
    {
     "name": "stdout",
     "output_type": "stream",
     "text": [
      "  Loss =  1.69398467e+09\n",
      "  eta = 0.024186470399999997\n",
      "  alpha= 1e-06\n",
      "Epoch 81/100\n"
     ]
    },
    {
     "name": "stderr",
     "output_type": "stream",
     "text": [
      "100%|██████████| 10/10 [00:10<00:00,  1.10s/it, eta=2.419e-02, loss=1.686e+09]\n"
     ]
    },
    {
     "name": "stdout",
     "output_type": "stream",
     "text": [
      "  Loss =  1.69404159e+09\n",
      "  eta = 0.024186470399999997\n",
      "  alpha= 1e-06\n",
      "Epoch 82/100\n"
     ]
    },
    {
     "name": "stderr",
     "output_type": "stream",
     "text": [
      "100%|██████████| 10/10 [00:10<00:00,  1.10s/it, eta=2.419e-02, loss=1.685e+09]\n"
     ]
    },
    {
     "name": "stdout",
     "output_type": "stream",
     "text": [
      "  Loss =  1.69425056e+09\n",
      "  eta = 0.024186470399999997\n",
      "  alpha= 1e-06\n",
      "Epoch 83/100\n"
     ]
    },
    {
     "name": "stderr",
     "output_type": "stream",
     "text": [
      "100%|██████████| 10/10 [00:11<00:00,  1.12s/it, eta=1.209e-02, loss=1.706e+09]\n"
     ]
    },
    {
     "name": "stdout",
     "output_type": "stream",
     "text": [
      "  Loss =  1.69402066e+09\n",
      "  eta = 0.012093235199999998\n",
      "  alpha= 1e-06\n",
      "Epoch 84/100\n"
     ]
    },
    {
     "name": "stderr",
     "output_type": "stream",
     "text": [
      "100%|██████████| 10/10 [00:11<00:00,  1.12s/it, eta=1.209e-02, loss=1.700e+09]\n"
     ]
    },
    {
     "name": "stdout",
     "output_type": "stream",
     "text": [
      "  Loss =  1.69451219e+09\n",
      "  eta = 0.012093235199999998\n",
      "  alpha= 1e-06\n",
      "Epoch 85/100\n"
     ]
    },
    {
     "name": "stderr",
     "output_type": "stream",
     "text": [
      "100%|██████████| 10/10 [00:10<00:00,  1.10s/it, eta=2.419e-02, loss=1.695e+09]\n"
     ]
    },
    {
     "name": "stdout",
     "output_type": "stream",
     "text": [
      "  Loss =  1.69378349e+09\n",
      "  eta = 0.024186470399999997\n",
      "  alpha= 1e-06\n",
      "Epoch 86/100\n"
     ]
    },
    {
     "name": "stderr",
     "output_type": "stream",
     "text": [
      "100%|██████████| 10/10 [00:10<00:00,  1.10s/it, eta=2.419e-02, loss=1.682e+09]\n"
     ]
    },
    {
     "name": "stdout",
     "output_type": "stream",
     "text": [
      "  Loss =  1.69366310e+09\n",
      "  eta = 0.024186470399999997\n",
      "  alpha= 1e-06\n",
      "Epoch 87/100\n"
     ]
    },
    {
     "name": "stderr",
     "output_type": "stream",
     "text": [
      "100%|██████████| 10/10 [00:10<00:00,  1.10s/it, eta=2.419e-02, loss=1.689e+09]\n"
     ]
    },
    {
     "name": "stdout",
     "output_type": "stream",
     "text": [
      "  Loss =  1.69377939e+09\n",
      "  eta = 0.024186470399999997\n",
      "  alpha= 1e-06\n",
      "Epoch 88/100\n"
     ]
    },
    {
     "name": "stderr",
     "output_type": "stream",
     "text": [
      "100%|██████████| 10/10 [00:10<00:00,  1.08s/it, eta=4.837e-02, loss=1.672e+09]\n"
     ]
    },
    {
     "name": "stdout",
     "output_type": "stream",
     "text": [
      "  Loss =  1.69398157e+09\n",
      "  eta = 0.04837294079999999\n",
      "  alpha= 1e-06\n",
      "Epoch 89/100\n"
     ]
    },
    {
     "name": "stderr",
     "output_type": "stream",
     "text": [
      "100%|██████████| 10/10 [00:11<00:00,  1.12s/it, eta=1.209e-02, loss=1.704e+09]\n"
     ]
    },
    {
     "name": "stdout",
     "output_type": "stream",
     "text": [
      "  Loss =  1.69385370e+09\n",
      "  eta = 0.012093235199999998\n",
      "  alpha= 1e-06\n",
      "Epoch 90/100\n"
     ]
    },
    {
     "name": "stderr",
     "output_type": "stream",
     "text": [
      "100%|██████████| 10/10 [00:10<00:00,  1.08s/it, eta=4.837e-02, loss=1.668e+09]\n"
     ]
    },
    {
     "name": "stdout",
     "output_type": "stream",
     "text": [
      "  Loss =  1.69444467e+09\n",
      "  eta = 0.04837294079999999\n",
      "  alpha= 1e-06\n",
      "Epoch 91/100\n"
     ]
    },
    {
     "name": "stderr",
     "output_type": "stream",
     "text": [
      "100%|██████████| 10/10 [00:11<00:00,  1.16s/it, eta=3.023e-03, loss=1.707e+09]\n"
     ]
    },
    {
     "name": "stdout",
     "output_type": "stream",
     "text": [
      "  Loss =  1.69408020e+09\n",
      "  eta = 0.0030233087999999996\n",
      "  alpha= 1e-06\n",
      "Epoch 92/100\n"
     ]
    },
    {
     "name": "stderr",
     "output_type": "stream",
     "text": [
      "100%|██████████| 10/10 [00:11<00:00,  1.12s/it, eta=1.209e-02, loss=1.704e+09]\n"
     ]
    },
    {
     "name": "stdout",
     "output_type": "stream",
     "text": [
      "  Loss =  1.69415302e+09\n",
      "  eta = 0.012093235199999998\n",
      "  alpha= 1e-06\n",
      "Epoch 93/100\n"
     ]
    },
    {
     "name": "stderr",
     "output_type": "stream",
     "text": [
      "100%|██████████| 10/10 [00:11<00:00,  1.14s/it, eta=6.047e-03, loss=1.713e+09]\n"
     ]
    },
    {
     "name": "stdout",
     "output_type": "stream",
     "text": [
      "  Loss =  1.69416183e+09\n",
      "  eta = 0.006046617599999999\n",
      "  alpha= 1e-06\n",
      "Epoch 94/100\n"
     ]
    },
    {
     "name": "stderr",
     "output_type": "stream",
     "text": [
      "100%|██████████| 10/10 [00:11<00:00,  1.10s/it, eta=2.419e-02, loss=1.684e+09]\n"
     ]
    },
    {
     "name": "stdout",
     "output_type": "stream",
     "text": [
      "  Loss =  1.69366770e+09\n",
      "  eta = 0.024186470399999997\n",
      "  alpha= 1e-06\n",
      "Epoch 95/100\n"
     ]
    },
    {
     "name": "stderr",
     "output_type": "stream",
     "text": [
      "100%|██████████| 10/10 [00:11<00:00,  1.12s/it, eta=1.209e-02, loss=1.697e+09]\n"
     ]
    },
    {
     "name": "stdout",
     "output_type": "stream",
     "text": [
      "  Loss =  1.69397489e+09\n",
      "  eta = 0.012093235199999998\n",
      "  alpha= 1e-06\n",
      "Epoch 96/100\n"
     ]
    },
    {
     "name": "stderr",
     "output_type": "stream",
     "text": [
      "100%|██████████| 10/10 [00:10<00:00,  1.08s/it, eta=4.837e-02, loss=1.672e+09]\n"
     ]
    },
    {
     "name": "stdout",
     "output_type": "stream",
     "text": [
      "  Loss =  1.69466554e+09\n",
      "  eta = 0.04837294079999999\n",
      "  alpha= 1e-06\n",
      "Epoch 97/100\n"
     ]
    },
    {
     "name": "stderr",
     "output_type": "stream",
     "text": [
      "100%|██████████| 10/10 [00:10<00:00,  1.10s/it, eta=2.419e-02, loss=1.693e+09]\n"
     ]
    },
    {
     "name": "stdout",
     "output_type": "stream",
     "text": [
      "  Loss =  1.69410745e+09\n",
      "  eta = 0.024186470399999997\n",
      "  alpha= 1e-06\n",
      "Epoch 98/100\n"
     ]
    },
    {
     "name": "stderr",
     "output_type": "stream",
     "text": [
      "100%|██████████| 10/10 [00:11<00:00,  1.10s/it, eta=2.419e-02, loss=1.687e+09]\n"
     ]
    },
    {
     "name": "stdout",
     "output_type": "stream",
     "text": [
      "  Loss =  1.69368964e+09\n",
      "  eta = 0.024186470399999997\n",
      "  alpha= 1e-06\n",
      "Epoch 99/100\n"
     ]
    },
    {
     "name": "stderr",
     "output_type": "stream",
     "text": [
      "100%|██████████| 10/10 [00:10<00:00,  1.10s/it, eta=2.419e-02, loss=1.696e+09]\n"
     ]
    },
    {
     "name": "stdout",
     "output_type": "stream",
     "text": [
      "  Loss =  1.69355599e+09\n",
      "  eta = 0.024186470399999997\n",
      "  alpha= 1e-06\n",
      "Epoch 100/100\n"
     ]
    },
    {
     "name": "stderr",
     "output_type": "stream",
     "text": [
      "100%|██████████| 10/10 [00:11<00:00,  1.12s/it, eta=1.209e-02, loss=1.698e+09]\n"
     ]
    },
    {
     "name": "stdout",
     "output_type": "stream",
     "text": [
      "  Loss =  1.69386703e+09\n",
      "  eta = 0.012093235199999998\n",
      "  alpha= 1e-06\n"
     ]
    }
   ],
   "source": [
    "key, key_alg = random.split(key)\n",
    "\n",
    "v_sgdp_tri2, loss_sgdp_tri2, _, _ = precon_sgd(\n",
    "    key_alg,\n",
    "    loss_func_tri2,\n",
    "    grad_func_tri2,\n",
    "    hvp_func_tri2,\n",
    "    v0,\n",
    "    step_size,\n",
    "    D0,\n",
    "    beta,\n",
    "    thresh,\n",
    "    N_epochs,\n",
    "    batch_size,\n",
    "    N//2,\n",
    "    c=c,\n",
    "    adaptive_step_size=True,\n",
    "    iter_display=1,\n",
    ")"
   ]
  },
  {
   "cell_type": "code",
   "execution_count": 26,
   "id": "c8a70e9d-48be-4a55-b981-684edb7620c7",
   "metadata": {},
   "outputs": [
    {
     "data": {
      "text/plain": [
       "[<matplotlib.lines.Line2D at 0x1531b072fd60>]"
      ]
     },
     "execution_count": 26,
     "metadata": {},
     "output_type": "execute_result"
    },
    {
     "data": {
      "image/png": "[encoded data removed]",
      "text/plain": [
       "<Figure size 432x288 with 1 Axes>"
      ]
     },
     "metadata": {
      "needs_background": "light"
     },
     "output_type": "display_data"
    }
   ],
   "source": [
    "plt.plot(loss_sgdp_tri1)\n",
    "plt.plot(loss_sgdp_tri2)"
   ]
  },
  {
   "cell_type": "code",
   "execution_count": 27,
   "id": "3b0e14da-e90e-42c0-b4d7-fcecf7eaccfa",
   "metadata": {},
   "outputs": [],
   "source": [
    "from simplecryoem.fsc import calc_fsc"
   ]
  },
  {
   "cell_type": "code",
   "execution_count": 59,
   "id": "24ecff04-e92c-4a44-be41-009bdacb7315",
   "metadata": {},
   "outputs": [],
   "source": [
    "res, fsc, shell_pts = calc_fsc(v_sgdp_tri1, v_sgdp_tri2, [1, nx])"
   ]
  },
  {
   "cell_type": "code",
   "execution_count": 62,
   "id": "7293d962-c4cf-445d-8429-3b6d63271aaf",
   "metadata": {},
   "outputs": [
    {
     "data": {
      "image/png": "[encoded data removed]",
      "text/plain": [
       "<Figure size 432x288 with 1 Axes>"
      ]
     },
     "metadata": {
      "needs_background": "light"
     },
     "output_type": "display_data"
    }
   ],
   "source": [
    "res_angs = nx * pixel_size[0] / res\n",
    "plt.plot(res_angs[1:], fsc[1:])\n",
    "plt.gca().invert_xaxis()"
   ]
  },
  {
   "cell_type": "code",
   "execution_count": 31,
   "id": "948f04b8-8795-48b1-8286-7f49cdf44e07",
   "metadata": {},
   "outputs": [],
   "source": [
    "N_epochs = 20\n"
   ]
  },
  {
   "cell_type": "code",
   "execution_count": 32,
   "id": "6029f9a6-14bd-4fea-b33f-2d98097ebc62",
   "metadata": {},
   "outputs": [
    {
     "name": "stdout",
     "output_type": "stream",
     "text": [
      "Epoch 1/20\n"
     ]
    },
    {
     "name": "stderr",
     "output_type": "stream",
     "text": [
      "100%|██████████| 10/10 [00:11<00:00,  1.16s/it, eta=9.675e-02, loss=1.692e+09]\n"
     ]
    },
    {
     "name": "stdout",
     "output_type": "stream",
     "text": [
      "  Loss =  1.72903857e+09\n",
      "  eta = 0.09674588159999999\n",
      "  alpha= 1e-06\n",
      "Epoch 2/20\n"
     ]
    },
    {
     "name": "stderr",
     "output_type": "stream",
     "text": [
      "100%|██████████| 10/10 [00:11<00:00,  1.19s/it, eta=4.837e-02, loss=1.699e+09]\n"
     ]
    },
    {
     "name": "stdout",
     "output_type": "stream",
     "text": [
      "  Loss =  1.70972743e+09\n",
      "  eta = 0.04837294079999999\n",
      "  alpha= 1e-06\n",
      "Epoch 3/20\n"
     ]
    },
    {
     "name": "stderr",
     "output_type": "stream",
     "text": [
      "100%|██████████| 10/10 [00:11<00:00,  1.19s/it, eta=4.837e-02, loss=1.699e+09]\n"
     ]
    },
    {
     "name": "stdout",
     "output_type": "stream",
     "text": [
      "  Loss =  1.70290657e+09\n",
      "  eta = 0.04837294079999999\n",
      "  alpha= 1e-06\n",
      "Epoch 4/20\n"
     ]
    },
    {
     "name": "stderr",
     "output_type": "stream",
     "text": [
      "100%|██████████| 10/10 [00:11<00:00,  1.19s/it, eta=4.837e-02, loss=1.696e+09]\n"
     ]
    },
    {
     "name": "stdout",
     "output_type": "stream",
     "text": [
      "  Loss =  1.70079718e+09\n",
      "  eta = 0.04837294079999999\n",
      "  alpha= 1e-06\n",
      "Epoch 5/20\n"
     ]
    },
    {
     "name": "stderr",
     "output_type": "stream",
     "text": [
      "100%|██████████| 10/10 [00:11<00:00,  1.19s/it, eta=4.837e-02, loss=1.697e+09]\n"
     ]
    },
    {
     "name": "stdout",
     "output_type": "stream",
     "text": [
      "  Loss =  1.70008758e+09\n",
      "  eta = 0.04837294079999999\n",
      "  alpha= 1e-06\n",
      "Epoch 6/20\n"
     ]
    },
    {
     "name": "stderr",
     "output_type": "stream",
     "text": [
      "100%|██████████| 10/10 [00:11<00:00,  1.19s/it, eta=4.837e-02, loss=1.698e+09]\n"
     ]
    },
    {
     "name": "stdout",
     "output_type": "stream",
     "text": [
      "  Loss =  1.70004853e+09\n",
      "  eta = 0.04837294079999999\n",
      "  alpha= 1e-06\n",
      "Epoch 7/20\n"
     ]
    },
    {
     "name": "stderr",
     "output_type": "stream",
     "text": [
      "100%|██████████| 10/10 [00:11<00:00,  1.19s/it, eta=4.837e-02, loss=1.697e+09]\n"
     ]
    },
    {
     "name": "stdout",
     "output_type": "stream",
     "text": [
      "  Loss =  1.70003555e+09\n",
      "  eta = 0.04837294079999999\n",
      "  alpha= 1e-06\n",
      "Epoch 8/20\n"
     ]
    },
    {
     "name": "stderr",
     "output_type": "stream",
     "text": [
      "100%|██████████| 10/10 [00:11<00:00,  1.19s/it, eta=4.837e-02, loss=1.696e+09]\n"
     ]
    },
    {
     "name": "stdout",
     "output_type": "stream",
     "text": [
      "  Loss =  1.70001777e+09\n",
      "  eta = 0.04837294079999999\n",
      "  alpha= 1e-06\n",
      "Epoch 9/20\n"
     ]
    },
    {
     "name": "stderr",
     "output_type": "stream",
     "text": [
      "100%|██████████| 10/10 [00:11<00:00,  1.19s/it, eta=4.837e-02, loss=1.700e+09]\n"
     ]
    },
    {
     "name": "stdout",
     "output_type": "stream",
     "text": [
      "  Loss =  1.70047912e+09\n",
      "  eta = 0.04837294079999999\n",
      "  alpha= 1e-06\n",
      "Epoch 10/20\n"
     ]
    },
    {
     "name": "stderr",
     "output_type": "stream",
     "text": [
      "100%|██████████| 10/10 [00:11<00:00,  1.19s/it, eta=4.837e-02, loss=1.695e+09]\n"
     ]
    },
    {
     "name": "stdout",
     "output_type": "stream",
     "text": [
      "  Loss =  1.70015520e+09\n",
      "  eta = 0.04837294079999999\n",
      "  alpha= 1e-06\n",
      "Epoch 11/20\n"
     ]
    },
    {
     "name": "stderr",
     "output_type": "stream",
     "text": [
      "100%|██████████| 10/10 [00:11<00:00,  1.19s/it, eta=4.837e-02, loss=1.696e+09]\n"
     ]
    },
    {
     "name": "stdout",
     "output_type": "stream",
     "text": [
      "  Loss =  1.70051616e+09\n",
      "  eta = 0.04837294079999999\n",
      "  alpha= 1e-06\n",
      "Epoch 12/20\n"
     ]
    },
    {
     "name": "stderr",
     "output_type": "stream",
     "text": [
      "100%|██████████| 10/10 [00:12<00:00,  1.21s/it, eta=4.837e-02, loss=1.700e+09]\n"
     ]
    },
    {
     "name": "stdout",
     "output_type": "stream",
     "text": [
      "  Loss =  1.70037631e+09\n",
      "  eta = 0.04837294079999999\n",
      "  alpha= 1e-06\n",
      "Epoch 13/20\n"
     ]
    },
    {
     "name": "stderr",
     "output_type": "stream",
     "text": [
      "100%|██████████| 10/10 [00:11<00:00,  1.19s/it, eta=4.837e-02, loss=1.694e+09]\n"
     ]
    },
    {
     "name": "stdout",
     "output_type": "stream",
     "text": [
      "  Loss =  1.70009059e+09\n",
      "  eta = 0.04837294079999999\n",
      "  alpha= 1e-06\n",
      "Epoch 14/20\n"
     ]
    },
    {
     "name": "stderr",
     "output_type": "stream",
     "text": [
      "100%|██████████| 10/10 [00:11<00:00,  1.19s/it, eta=4.837e-02, loss=1.696e+09]\n"
     ]
    },
    {
     "name": "stdout",
     "output_type": "stream",
     "text": [
      "  Loss =  1.70049027e+09\n",
      "  eta = 0.04837294079999999\n",
      "  alpha= 1e-06\n",
      "Epoch 15/20\n"
     ]
    },
    {
     "name": "stderr",
     "output_type": "stream",
     "text": [
      "100%|██████████| 10/10 [00:11<00:00,  1.19s/it, eta=4.837e-02, loss=1.695e+09]\n"
     ]
    },
    {
     "name": "stdout",
     "output_type": "stream",
     "text": [
      "  Loss =  1.70015585e+09\n",
      "  eta = 0.04837294079999999\n",
      "  alpha= 1e-06\n",
      "Epoch 16/20\n"
     ]
    },
    {
     "name": "stderr",
     "output_type": "stream",
     "text": [
      "100%|██████████| 10/10 [00:11<00:00,  1.19s/it, eta=4.837e-02, loss=1.696e+09]\n"
     ]
    },
    {
     "name": "stdout",
     "output_type": "stream",
     "text": [
      "  Loss =  1.70055930e+09\n",
      "  eta = 0.04837294079999999\n",
      "  alpha= 1e-06\n",
      "Epoch 17/20\n"
     ]
    },
    {
     "name": "stderr",
     "output_type": "stream",
     "text": [
      "100%|██████████| 10/10 [00:11<00:00,  1.19s/it, eta=4.837e-02, loss=1.694e+09]\n"
     ]
    },
    {
     "name": "stdout",
     "output_type": "stream",
     "text": [
      "  Loss =  1.70019887e+09\n",
      "  eta = 0.04837294079999999\n",
      "  alpha= 1e-06\n",
      "Epoch 18/20\n"
     ]
    },
    {
     "name": "stderr",
     "output_type": "stream",
     "text": [
      "100%|██████████| 10/10 [00:11<00:00,  1.19s/it, eta=4.837e-02, loss=1.695e+09]\n"
     ]
    },
    {
     "name": "stdout",
     "output_type": "stream",
     "text": [
      "  Loss =  1.70056293e+09\n",
      "  eta = 0.04837294079999999\n",
      "  alpha= 1e-06\n",
      "Epoch 19/20\n"
     ]
    },
    {
     "name": "stderr",
     "output_type": "stream",
     "text": [
      "100%|██████████| 10/10 [00:11<00:00,  1.19s/it, eta=4.837e-02, loss=1.703e+09]\n"
     ]
    },
    {
     "name": "stdout",
     "output_type": "stream",
     "text": [
      "  Loss =  1.70057398e+09\n",
      "  eta = 0.04837294079999999\n",
      "  alpha= 1e-06\n",
      "Epoch 20/20\n"
     ]
    },
    {
     "name": "stderr",
     "output_type": "stream",
     "text": [
      "100%|██████████| 10/10 [00:11<00:00,  1.19s/it, eta=4.837e-02, loss=1.700e+09]\n"
     ]
    },
    {
     "name": "stdout",
     "output_type": "stream",
     "text": [
      "  Loss =  1.70065338e+09\n",
      "  eta = 0.04837294079999999\n",
      "  alpha= 1e-06\n"
     ]
    }
   ],
   "source": [
    "key, key_alg = random.split(key)\n",
    "\n",
    "v_sgdp_nn1, loss_sgdp_nn1, _, _ = precon_sgd(\n",
    "    key_alg,\n",
    "    loss_func_nn1,\n",
    "    grad_func_nn1,\n",
    "    hvp_func_nn1,\n",
    "    v0,\n",
    "    step_size,\n",
    "    D0,\n",
    "    beta,\n",
    "    thresh,\n",
    "    N_epochs,\n",
    "    batch_size,\n",
    "    N//2,\n",
    "    c=c,\n",
    "    adaptive_step_size=True,\n",
    "    iter_display=1,\n",
    ")"
   ]
  },
  {
   "cell_type": "code",
   "execution_count": 33,
   "id": "c9115aa9-b99d-4649-a014-f8d1aa75fd05",
   "metadata": {},
   "outputs": [
    {
     "name": "stdout",
     "output_type": "stream",
     "text": [
      "Epoch 1/20\n"
     ]
    },
    {
     "name": "stderr",
     "output_type": "stream",
     "text": [
      "100%|██████████| 10/10 [00:11<00:00,  1.16s/it, eta=9.675e-02, loss=1.691e+09]\n"
     ]
    },
    {
     "name": "stdout",
     "output_type": "stream",
     "text": [
      "  Loss =  1.72816509e+09\n",
      "  eta = 0.09674588159999999\n",
      "  alpha= 1e-06\n",
      "Epoch 2/20\n"
     ]
    },
    {
     "name": "stderr",
     "output_type": "stream",
     "text": [
      "100%|██████████| 10/10 [00:11<00:00,  1.19s/it, eta=4.837e-02, loss=1.703e+09]\n"
     ]
    },
    {
     "name": "stdout",
     "output_type": "stream",
     "text": [
      "  Loss =  1.70882651e+09\n",
      "  eta = 0.04837294079999999\n",
      "  alpha= 1e-06\n",
      "Epoch 3/20\n"
     ]
    },
    {
     "name": "stderr",
     "output_type": "stream",
     "text": [
      "100%|██████████| 10/10 [00:11<00:00,  1.19s/it, eta=4.837e-02, loss=1.698e+09]\n"
     ]
    },
    {
     "name": "stdout",
     "output_type": "stream",
     "text": [
      "  Loss =  1.70194982e+09\n",
      "  eta = 0.04837294079999999\n",
      "  alpha= 1e-06\n",
      "Epoch 4/20\n"
     ]
    },
    {
     "name": "stderr",
     "output_type": "stream",
     "text": [
      "100%|██████████| 10/10 [00:11<00:00,  1.19s/it, eta=4.837e-02, loss=1.698e+09]\n"
     ]
    },
    {
     "name": "stdout",
     "output_type": "stream",
     "text": [
      "  Loss =  1.69985815e+09\n",
      "  eta = 0.04837294079999999\n",
      "  alpha= 1e-06\n",
      "Epoch 5/20\n"
     ]
    },
    {
     "name": "stderr",
     "output_type": "stream",
     "text": [
      "100%|██████████| 10/10 [00:11<00:00,  1.19s/it, eta=4.837e-02, loss=1.697e+09]\n"
     ]
    },
    {
     "name": "stdout",
     "output_type": "stream",
     "text": [
      "  Loss =  1.69928793e+09\n",
      "  eta = 0.04837294079999999\n",
      "  alpha= 1e-06\n",
      "Epoch 6/20\n"
     ]
    },
    {
     "name": "stderr",
     "output_type": "stream",
     "text": [
      "100%|██████████| 10/10 [00:11<00:00,  1.19s/it, eta=4.837e-02, loss=1.694e+09]\n"
     ]
    },
    {
     "name": "stdout",
     "output_type": "stream",
     "text": [
      "  Loss =  1.69907357e+09\n",
      "  eta = 0.04837294079999999\n",
      "  alpha= 1e-06\n",
      "Epoch 7/20\n"
     ]
    },
    {
     "name": "stderr",
     "output_type": "stream",
     "text": [
      "100%|██████████| 10/10 [00:11<00:00,  1.19s/it, eta=4.837e-02, loss=1.698e+09]\n"
     ]
    },
    {
     "name": "stdout",
     "output_type": "stream",
     "text": [
      "  Loss =  1.69896324e+09\n",
      "  eta = 0.04837294079999999\n",
      "  alpha= 1e-06\n",
      "Epoch 8/20\n"
     ]
    },
    {
     "name": "stderr",
     "output_type": "stream",
     "text": [
      "100%|██████████| 10/10 [00:11<00:00,  1.19s/it, eta=4.837e-02, loss=1.697e+09]\n"
     ]
    },
    {
     "name": "stdout",
     "output_type": "stream",
     "text": [
      "  Loss =  1.69952109e+09\n",
      "  eta = 0.04837294079999999\n",
      "  alpha= 1e-06\n",
      "Epoch 9/20\n"
     ]
    },
    {
     "name": "stderr",
     "output_type": "stream",
     "text": [
      "100%|██████████| 10/10 [00:11<00:00,  1.19s/it, eta=4.837e-02, loss=1.700e+09]\n"
     ]
    },
    {
     "name": "stdout",
     "output_type": "stream",
     "text": [
      "  Loss =  1.69972682e+09\n",
      "  eta = 0.04837294079999999\n",
      "  alpha= 1e-06\n",
      "Epoch 10/20\n"
     ]
    },
    {
     "name": "stderr",
     "output_type": "stream",
     "text": [
      "100%|██████████| 10/10 [00:11<00:00,  1.19s/it, eta=4.837e-02, loss=1.695e+09]\n"
     ]
    },
    {
     "name": "stdout",
     "output_type": "stream",
     "text": [
      "  Loss =  1.69924892e+09\n",
      "  eta = 0.04837294079999999\n",
      "  alpha= 1e-06\n",
      "Epoch 11/20\n"
     ]
    },
    {
     "name": "stderr",
     "output_type": "stream",
     "text": [
      "100%|██████████| 10/10 [00:11<00:00,  1.19s/it, eta=4.837e-02, loss=1.694e+09]\n"
     ]
    },
    {
     "name": "stdout",
     "output_type": "stream",
     "text": [
      "  Loss =  1.69914535e+09\n",
      "  eta = 0.04837294079999999\n",
      "  alpha= 1e-06\n",
      "Epoch 12/20\n"
     ]
    },
    {
     "name": "stderr",
     "output_type": "stream",
     "text": [
      "100%|██████████| 10/10 [00:11<00:00,  1.19s/it, eta=4.837e-02, loss=1.699e+09]\n"
     ]
    },
    {
     "name": "stdout",
     "output_type": "stream",
     "text": [
      "  Loss =  1.69896425e+09\n",
      "  eta = 0.04837294079999999\n",
      "  alpha= 1e-06\n",
      "Epoch 13/20\n"
     ]
    },
    {
     "name": "stderr",
     "output_type": "stream",
     "text": [
      "100%|██████████| 10/10 [00:11<00:00,  1.19s/it, eta=4.837e-02, loss=1.694e+09]\n"
     ]
    },
    {
     "name": "stdout",
     "output_type": "stream",
     "text": [
      "  Loss =  1.69906891e+09\n",
      "  eta = 0.04837294079999999\n",
      "  alpha= 1e-06\n",
      "Epoch 14/20\n"
     ]
    },
    {
     "name": "stderr",
     "output_type": "stream",
     "text": [
      "100%|██████████| 10/10 [00:11<00:00,  1.19s/it, eta=4.837e-02, loss=1.695e+09]\n"
     ]
    },
    {
     "name": "stdout",
     "output_type": "stream",
     "text": [
      "  Loss =  1.69910070e+09\n",
      "  eta = 0.04837294079999999\n",
      "  alpha= 1e-06\n",
      "Epoch 15/20\n"
     ]
    },
    {
     "name": "stderr",
     "output_type": "stream",
     "text": [
      "100%|██████████| 10/10 [00:11<00:00,  1.19s/it, eta=4.837e-02, loss=1.698e+09]\n"
     ]
    },
    {
     "name": "stdout",
     "output_type": "stream",
     "text": [
      "  Loss =  1.69956889e+09\n",
      "  eta = 0.04837294079999999\n",
      "  alpha= 1e-06\n",
      "Epoch 16/20\n"
     ]
    },
    {
     "name": "stderr",
     "output_type": "stream",
     "text": [
      "100%|██████████| 10/10 [00:11<00:00,  1.19s/it, eta=4.837e-02, loss=1.691e+09]\n"
     ]
    },
    {
     "name": "stdout",
     "output_type": "stream",
     "text": [
      "  Loss =  1.69920241e+09\n",
      "  eta = 0.04837294079999999\n",
      "  alpha= 1e-06\n",
      "Epoch 17/20\n"
     ]
    },
    {
     "name": "stderr",
     "output_type": "stream",
     "text": [
      "100%|██████████| 10/10 [00:11<00:00,  1.19s/it, eta=4.837e-02, loss=1.695e+09]\n"
     ]
    },
    {
     "name": "stdout",
     "output_type": "stream",
     "text": [
      "  Loss =  1.69911546e+09\n",
      "  eta = 0.04837294079999999\n",
      "  alpha= 1e-06\n",
      "Epoch 18/20\n"
     ]
    },
    {
     "name": "stderr",
     "output_type": "stream",
     "text": [
      "100%|██████████| 10/10 [00:11<00:00,  1.19s/it, eta=4.837e-02, loss=1.695e+09]\n"
     ]
    },
    {
     "name": "stdout",
     "output_type": "stream",
     "text": [
      "  Loss =  1.69959250e+09\n",
      "  eta = 0.04837294079999999\n",
      "  alpha= 1e-06\n",
      "Epoch 19/20\n"
     ]
    },
    {
     "name": "stderr",
     "output_type": "stream",
     "text": [
      "100%|██████████| 10/10 [00:11<00:00,  1.19s/it, eta=4.837e-02, loss=1.698e+09]\n"
     ]
    },
    {
     "name": "stdout",
     "output_type": "stream",
     "text": [
      "  Loss =  1.69925306e+09\n",
      "  eta = 0.04837294079999999\n",
      "  alpha= 1e-06\n",
      "Epoch 20/20\n"
     ]
    },
    {
     "name": "stderr",
     "output_type": "stream",
     "text": [
      "100%|██████████| 10/10 [00:11<00:00,  1.19s/it, eta=4.837e-02, loss=1.696e+09]\n"
     ]
    },
    {
     "name": "stdout",
     "output_type": "stream",
     "text": [
      "  Loss =  1.69913542e+09\n",
      "  eta = 0.04837294079999999\n",
      "  alpha= 1e-06\n"
     ]
    }
   ],
   "source": [
    "key, key_alg = random.split(key)\n",
    "\n",
    "v_sgdp_nn2, loss_sgdp_nn2, _, _ = precon_sgd(\n",
    "    key_alg,\n",
    "    loss_func_nn2,\n",
    "    grad_func_nn2,\n",
    "    hvp_func_nn2,\n",
    "    v0,\n",
    "    step_size,\n",
    "    D0,\n",
    "    beta,\n",
    "    thresh,\n",
    "    N_epochs,\n",
    "    batch_size,\n",
    "    N//2,\n",
    "    c=c,\n",
    "    adaptive_step_size=True,\n",
    "    iter_display=1,\n",
    ")"
   ]
  },
  {
   "cell_type": "code",
   "execution_count": 34,
   "id": "c43811b0-24d4-4446-b15d-d087901f70cb",
   "metadata": {},
   "outputs": [
    {
     "data": {
      "text/plain": [
       "[<matplotlib.lines.Line2D at 0x1531b063dca0>]"
      ]
     },
     "execution_count": 34,
     "metadata": {},
     "output_type": "execute_result"
    },
    {
     "data": {
      "image/png": "[encoded data removed]",
      "text/plain": [
       "<Figure size 432x288 with 1 Axes>"
      ]
     },
     "metadata": {
      "needs_background": "light"
     },
     "output_type": "display_data"
    }
   ],
   "source": [
    "plt.plot(loss_sgdp_nn1)\n",
    "plt.plot(loss_sgdp_nn2)\n"
   ]
  },
  {
   "cell_type": "code",
   "execution_count": 64,
   "id": "5569da62-bd7c-40ab-9f27-8580d9c55a04",
   "metadata": {},
   "outputs": [],
   "source": [
    "res_nn, fsc_nn, shell_pts = calc_fsc(v_sgdp_nn1, v_sgdp_nn2, [1, nx])"
   ]
  },
  {
   "cell_type": "code",
   "execution_count": 68,
   "id": "1792fb9b-721f-4713-9e9d-ba0b2a316981",
   "metadata": {},
   "outputs": [
    {
     "data": {
      "image/png": "[encoded data removed]",
      "text/plain": [
       "<Figure size 432x288 with 1 Axes>"
      ]
     },
     "metadata": {
      "needs_background": "light"
     },
     "output_type": "display_data"
    }
   ],
   "source": [
    "res_angs = nx * pixel_size[0] / res\n",
    "\n",
    "plt.plot(res_angs, fsc)\n",
    "plt.plot(res_angs, fsc_nn)\n",
    "plt.legend(['tri', 'nn'])\n",
    "plt.gca().invert_xaxis()"
   ]
  },
  {
   "cell_type": "code",
   "execution_count": 69,
   "id": "1b8fa8f2-c4ac-49fd-b375-6c561c8d3ce6",
   "metadata": {},
   "outputs": [
    {
     "data": {
      "text/plain": [
       "[<matplotlib.lines.Line2D at 0x153195da6ca0>]"
      ]
     },
     "execution_count": 69,
     "metadata": {},
     "output_type": "execute_result"
    },
    {
     "data": {
      "image/png": "[encoded data removed]",
      "text/plain": [
       "<Figure size 432x288 with 1 Axes>"
      ]
     },
     "metadata": {
      "needs_background": "light"
     },
     "output_type": "display_data"
    }
   ],
   "source": [
    "plt.plot(loss_sgdp_nn1, 'r-')\n",
    "plt.plot(loss_sgdp_nn2, 'r-.')\n",
    "\n",
    "plt.plot(loss_sgdp_tri1, 'k-')\n",
    "plt.plot(loss_sgdp_tri2, 'k-.')\n",
    "\n"
   ]
  },
  {
   "cell_type": "code",
   "execution_count": 70,
   "id": "1b2a9331-41af-4f55-905a-7cc249d510cd",
   "metadata": {},
   "outputs": [
    {
     "data": {
      "text/plain": [
       "<matplotlib.colorbar.Colorbar at 0x153195d76b50>"
      ]
     },
     "execution_count": 70,
     "metadata": {},
     "output_type": "execute_result"
    },
    {
     "data": {
      "image/png": "[encoded data removed]",
      "text/plain": [
       "<Figure size 432x288 with 2 Axes>"
      ]
     },
     "metadata": {
      "needs_background": "light"
     },
     "output_type": "display_data"
    }
   ],
   "source": [
    "plt.imshow(jnp.abs(jnp.fft.fftshift(v_sgdp_nn1[0]))>1)\n",
    "plt.colorbar()"
   ]
  },
  {
   "cell_type": "code",
   "execution_count": null,
   "id": "693b11ec-752e-4185-992e-3aa529ebc2c5",
   "metadata": {},
   "outputs": [],
   "source": []
  }
 ],
 "metadata": {
  "kernelspec": {
   "display_name": "Python 3",
   "language": "python",
   "name": "python3"
  },
  "language_info": {
   "codemirror_mode": {
    "name": "ipython",
    "version": 3
   },
   "file_extension": ".py",
   "mimetype": "text/x-python",
   "name": "python",
   "nbconvert_exporter": "python",
   "pygments_lexer": "ipython3",
   "version": "3.9.13"
  }
 },
 "nbformat": 4,
 "nbformat_minor": 5
}
