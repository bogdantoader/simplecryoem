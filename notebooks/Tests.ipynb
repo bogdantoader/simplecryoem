{
 "cells": [
  {
   "cell_type": "markdown",
   "id": "ec3c75f8-d661-4ffe-81cd-5a0f6b9ff8c0",
   "metadata": {},
   "source": [
    "# Run tests"
   ]
  },
  {
   "cell_type": "code",
   "execution_count": 1,
   "id": "51f736ca-0419-4ae2-bea4-ce547c30fdb2",
   "metadata": {},
   "outputs": [],
   "source": [
    "%load_ext autoreload\n",
    "%autoreload 2\n",
    "import site\n",
    "import sys\n",
    "import time\n",
    "from jax.config import config\n",
    "\n",
    "config.update(\"jax_enable_x64\", True)\n",
    "site.addsitedir('../tests/')"
   ]
  },
  {
   "cell_type": "code",
   "execution_count": 2,
   "id": "aef49a93-4658-4683-bbeb-d90669f0cf1d",
   "metadata": {},
   "outputs": [],
   "source": [
    "#import unittest\n",
    "from test_interpolate import *\n",
    "from test_projection import *"
   ]
  },
  {
   "cell_type": "code",
   "execution_count": 3,
   "id": "cf20288a-bfbb-4b44-b33c-1404a894a768",
   "metadata": {},
   "outputs": [
    {
     "name": "stderr",
     "output_type": "stream",
     "text": [
      "WARNING:absl:No GPU/TPU found, falling back to CPU. (Set TF_CPP_MIN_LOG_LEVEL=0 and rerun for more info.)\n"
     ]
    }
   ],
   "source": [
    "interpolate_test = TestInterpolate()\n",
    "\n",
    "interpolate_test.test_find_adjacent_grid_points_idx()\n",
    "interpolate_test.test_find_nearest_eight_grid_points_idx()\n",
    "interpolate_test.test_find_nearest_grid_point_idx()\n",
    "interpolate_test.test_find_nearest_one_grid_point_idx()\n",
    "interpolate_test.test_find_nearest_one_grid_point_idx_bug()\n",
    "interpolate_test.test_interpolate_nn()\n",
    "interpolate_test.test_interpolate_tri()\n",
    "interpolate_test.test_tri_interp_point()"
   ]
  },
  {
   "cell_type": "code",
   "execution_count": 4,
   "id": "f01b3822-2491-415c-b425-575c8afbfec0",
   "metadata": {},
   "outputs": [],
   "source": [
    "projection_test = TestProjection()\n",
    "\n",
    "projection_test.test_project_odd_dims_xy_fourier()\n",
    "projection_test.test_project_odd_dims_xz_fourier()\n",
    "projection_test.test_project_odd_dims_yz_fourier()\n",
    "projection_test.test_project_odd_dims_xy_spatial_pi2_p4()"
   ]
  }
 ],
 "metadata": {
  "kernelspec": {
   "display_name": "Python 3 (ipykernel)",
   "language": "python",
   "name": "python3"
  },
  "language_info": {
   "codemirror_mode": {
    "name": "ipython",
    "version": 3
   },
   "file_extension": ".py",
   "mimetype": "text/x-python",
   "name": "python",
   "nbconvert_exporter": "python",
   "pygments_lexer": "ipython3",
   "version": "3.8.8"
  }
 },
 "nbformat": 4,
 "nbformat_minor": 5
}
