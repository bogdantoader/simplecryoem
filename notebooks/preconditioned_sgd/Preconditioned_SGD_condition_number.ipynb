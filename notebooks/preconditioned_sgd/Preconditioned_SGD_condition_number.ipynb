{
 "cells": [
  {
   "cell_type": "markdown",
   "id": "77d91950-321e-48ba-8828-a178c75b4181",
   "metadata": {},
   "source": [
    "# Compute the condition number given the data, as well as the theoretical one"
   ]
  },
  {
   "cell_type": "code",
   "execution_count": 9,
   "id": "94e145a5-f689-4efc-9ebb-893777d5cdae",
   "metadata": {},
   "outputs": [],
   "source": [
    "import numpy as np\n",
    "from matplotlib import pyplot as plt\n",
    "import jax\n",
    "import jax.numpy as jnp\n",
    "from jax import random\n",
    "from jax.config import config\n",
    "from tqdm import tqdm\n",
    "\n",
    "from simplecryoem.emfiles import load_data\n",
    "from simplecryoem.preprocess import preprocess\n",
    "from simplecryoem.forwardmodel import Slice\n",
    "from simplecryoem.optimization import Loss, GradV, get_sgd_vol_ops\n",
    "from simplecryoem.utils import create_3d_mask, generate_uniform_orientations_jax"
   ]
  },
  {
   "cell_type": "code",
   "execution_count": 10,
   "id": "9a87667f-a105-4049-a80c-09af56b7549d",
   "metadata": {},
   "outputs": [
    {
     "name": "stdout",
     "output_type": "stream",
     "text": [
      "The autoreload extension is already loaded. To reload it, use:\n",
      "  %reload_ext autoreload\n"
     ]
    }
   ],
   "source": [
    "%load_ext autoreload\n",
    "%autoreload 2\n",
    "\n",
    "plt.rcParams[\"figure.figsize\"] = 6, 6\n",
    "config.update(\"jax_enable_x64\", True)"
   ]
  },
  {
   "cell_type": "markdown",
   "id": "61bc044a-4bcc-42b4-8e9c-f93619893867",
   "metadata": {},
   "source": [
    "### Loading the files, basic preprocessing etc. Identical to the main Higher_stochastic notebook"
   ]
  },
  {
   "cell_type": "code",
   "execution_count": null,
   "id": "23ab420b-0cf3-4672-8703-db9cb57edadb",
   "metadata": {},
   "outputs": [],
   "source": [
    "#data_dir = \"../../../daniel/CrossValidationCryodrgnSet/\"\n",
    "data_dir = \"/gpfs/gibbs/pi/lederman/dge5/CrossValidationCryodrgnSet/\"\n",
    "star_file = \"particles_crossvalidation_train_1.star\"\n",
    "\n",
    "params0, imgs0 = load_data(data_dir, star_file, load_imgs=True, fourier=False)"
   ]
  },
  {
   "cell_type": "code",
   "execution_count": null,
   "id": "c60c3507-5b82-41e7-8e20-9c956f6c264f",
   "metadata": {},
   "outputs": [],
   "source": [
    "# Extract a subset with fixed seed key so that we always get the same subset.\n",
    "# Larger sets must be supersets of the smaller sets respectively.\n",
    "\n",
    "N0 = imgs0.shape[0]\n",
    "nx0 = imgs0.shape[1]\n",
    "\n",
    "subset_seed = 60\n",
    "subset_key = random.PRNGKey(subset_seed)\n",
    "idx_full = random.permutation(subset_key, N0)\n",
    "\n",
    "print(subset_key)\n",
    "print(idx_full[:10])"
   ]
  },
  {
   "cell_type": "code",
   "execution_count": null,
   "id": "4aa67676-d0a9-4d50-9a5d-ccc3eee29c31",
   "metadata": {},
   "outputs": [],
   "source": [
    "out_dir = \"../../simplecryoem_output/out_dev/\"\n",
    "\n",
    "nx_crop = 192  # 64 #8 #192 # 128 # 64\n",
    "N = 50000  # 10000 #200 #104000 #80000 # 20000\n",
    "\n",
    "idx = idx_full[:N]"
   ]
  },
  {
   "cell_type": "code",
   "execution_count": null,
   "id": "afb40619-bed5-4ae7-8ae1-355eb1a9eda4",
   "metadata": {},
   "outputs": [],
   "source": [
    "len(imgs0)"
   ]
  },
  {
   "cell_type": "code",
   "execution_count": null,
   "id": "eb868370-1fb1-42c6-868f-9d08e2c663a0",
   "metadata": {},
   "outputs": [],
   "source": [
    "processed_data = preprocess(imgs0, params0, nx_crop=nx_crop, idx=idx)\n",
    "\n",
    "imgs_f = processed_data[\"imgs_f\"]\n",
    "angles = processed_data[\"angles\"]\n",
    "shifts = processed_data[\"shifts\"]\n",
    "ctf_params = processed_data[\"ctf_params\"]"
   ]
  },
  {
   "cell_type": "code",
   "execution_count": null,
   "id": "b8cf60d0-1f68-4baf-8d79-7c7bdefa852a",
   "metadata": {},
   "outputs": [],
   "source": [
    "# Assuming these variables are the same for all images\n",
    "\n",
    "pixel_size = processed_data[\"pixel_size\"]\n",
    "nx = processed_data[\"nx\"]\n",
    "mask = processed_data[\"mask\"]\n",
    "sigma_noise = processed_data[\"sigma_noise\"]\n",
    "x_grid = processed_data[\"x_grid\"]\n",
    "N = imgs_f.shape[0]"
   ]
  },
  {
   "cell_type": "code",
   "execution_count": null,
   "id": "c64d5da1-6167-48fa-b8b7-6aae758b58ea",
   "metadata": {},
   "outputs": [],
   "source": [
    "plt.imshow(jnp.fft.fftshift(jnp.abs(imgs_f[15].reshape([nx_crop, nx_crop]))))\n",
    "plt.colorbar()"
   ]
  },
  {
   "cell_type": "code",
   "execution_count": null,
   "id": "579ddcf2-e191-4c1f-b1c7-91eb2e54ac3b",
   "metadata": {},
   "outputs": [],
   "source": [
    "del imgs0"
   ]
  },
  {
   "cell_type": "code",
   "execution_count": null,
   "id": "82362136-521a-4c5c-b935-efefaefb10a1",
   "metadata": {},
   "outputs": [],
   "source": [
    "# Apply mask to images\n",
    "\n",
    "apply_mask = True\n",
    "\n",
    "if apply_mask:\n",
    "    # mask2d = mask[0].reshape(-1)\n",
    "    mask2d = mask[0].reshape(-1)\n",
    "    imgs_f = imgs_f * mask2d\n",
    "else:\n",
    "    mask = jnp.ones(mask.shape)"
   ]
  },
  {
   "cell_type": "code",
   "execution_count": null,
   "id": "1b28b1ee-8db5-415f-9cb7-2766ce57b0a0",
   "metadata": {},
   "outputs": [],
   "source": [
    "plt.rcParams[\"figure.figsize\"] = 12, 6\n",
    "\n",
    "plt.subplot(1, 2, 1)\n",
    "plt.imshow(mask[0])\n",
    "\n",
    "plt.subplot(1, 2, 2)\n",
    "plt.imshow(jnp.fft.fftshift(jnp.abs(imgs_f[123].reshape([nx_crop, nx_crop]))))\n",
    "plt.colorbar()\n",
    "\n",
    "plt.rcParams[\"figure.figsize\"] = 6, 6"
   ]
  },
  {
   "cell_type": "markdown",
   "id": "50197293-7c47-448f-8f19-088d2b26a3e8",
   "metadata": {},
   "source": [
    "### Some functions to compute the x-axis $p = P_x(r)/P_v(r)$"
   ]
  },
  {
   "cell_type": "code",
   "execution_count": 26,
   "id": "253ec1c0-f779-4745-87a3-5444904f5009",
   "metadata": {},
   "outputs": [],
   "source": [
    "# Compute number of points in a disk/ball of a given radius.\n",
    "# The code is similar to the one in the src.fsc.average_shells and src.fsc.average_shells_2d functions\n",
    "# but counts the points in the full 2D disk/3D ball rather than shells, and res represents\n",
    "# the upper bounds of the shells, not the midpoints.\n",
    "\n",
    "\n",
    "def compute_n_pts_2d(grid, dr):\n",
    "    nx = int(grid[1])\n",
    "    img = np.zeros((nx, nx))\n",
    "\n",
    "    # Calculate the radius in the Fourier domain.\n",
    "    x_freq = np.fft.fftfreq(int(grid[1]), 1 / (grid[0] * grid[1]))\n",
    "    X, Y = np.meshgrid(x_freq, x_freq)\n",
    "    r = np.sqrt(X**2 + Y**2)\n",
    "\n",
    "    # Max radius so that the shells are not outside the\n",
    "    # rectangular domain.\n",
    "    max_rad = np.max(r[:, 0])\n",
    "\n",
    "    # Calculate the shells.\n",
    "    shell_n_pts = []\n",
    "    res = []\n",
    "    R = -dr / 2\n",
    "    while R + dr <= max_rad:\n",
    "        cond = r <= R + dr\n",
    "        shell_n_pts.append(np.sum(cond))\n",
    "        res.append(R + dr)\n",
    "        R += dr\n",
    "    #res[0] = 0\n",
    "\n",
    "    res = np.array(res)\n",
    "    shell_n_pts = np.array(shell_n_pts)\n",
    "\n",
    "    return res, shell_n_pts\n",
    "\n",
    "\n",
    "def compute_n_pts_3d(grid, dr):\n",
    "    nx = int(grid[1])\n",
    "    v = np.zeros((nx, nx, nx))\n",
    "\n",
    "    # Calculate the radius in the Fourier domain.\n",
    "    x_freq = np.fft.fftfreq(int(grid[1]), 1 / (grid[0] * grid[1]))\n",
    "    X, Y, Z = np.meshgrid(x_freq, x_freq, x_freq)\n",
    "    r = np.sqrt(X**2 + Y**2 + Z**2)\n",
    "\n",
    "    # Max radius so that the shells are not outside the\n",
    "    # rectangular domain.\n",
    "    max_rad = np.max(r[:, 0, 0])\n",
    "\n",
    "    # Calculate the shells.\n",
    "    shell_n_pts = []\n",
    "    res = []\n",
    "    R = -dr / 2\n",
    "    while R + dr <= max_rad:\n",
    "        cond = r <= R + dr\n",
    "        shell_n_pts.append(np.sum(cond))\n",
    "        res.append(R + dr)\n",
    "        R += dr\n",
    "    #res[0] = 0\n",
    "\n",
    "    res = np.array(res)\n",
    "    shell_n_pts = np.array(shell_n_pts)\n",
    "\n",
    "    return res, shell_n_pts"
   ]
  },
  {
   "cell_type": "markdown",
   "id": "0c2b975b-39e5-48e2-be94-d38bb08b756a",
   "metadata": {},
   "source": [
    "### Compute the condition number"
   ]
  },
  {
   "cell_type": "code",
   "execution_count": null,
   "id": "e2b15d36-8a0c-45c1-a129-b4e9586bde15",
   "metadata": {},
   "outputs": [],
   "source": [
    "alpha = 1e-8  # 1e-9 #1e-5 #1e-9 #1e-9 # 1e-5\n",
    "interp_method = \"nn\"\n",
    "\n",
    "# Use ctf_params0 to compute the condition number without CTF\n",
    "ctf_params0 = jnp.array(N * [None]).reshape((N,1))\n",
    "\n",
    "# slice_obj = Slice(x_grid, mask = mask, interp_method = interp_method)\n",
    "\n",
    "slice_obj = Slice(x_grid, mask=mask, interp_method=interp_method)\n",
    "loss_obj = Loss(slice_obj, alpha=alpha)\n",
    "gradv_obj = GradV(loss_obj)\n",
    "\n",
    "_, _, hvp_func, _ = get_sgd_vol_ops(\n",
    "    gradv_obj, loss_obj, angles, shifts, ctf_params, imgs_f, sigma_noise\n",
    ")\n",
    "\n",
    "# The same as above but without CTF\n",
    "_, _, hvp_func0, loss_px_func = get_sgd_vol_ops(\n",
    "    gradv_obj, loss_obj, angles, shifts, ctf_params0, imgs_f, sigma_noise\n",
    ")\n"
   ]
  },
  {
   "cell_type": "code",
   "execution_count": null,
   "id": "e64d3fb2-691b-4b42-b6cf-ebffe90933d1",
   "metadata": {},
   "outputs": [],
   "source": [
    "# Compute the Hessian diagonals exactly (valid for NN interpolation) -\n",
    "# In batches\n",
    "# Full diagonal\n",
    "\n",
    "compute_hess_diag = True\n",
    "\n",
    "key = random.PRNGKey(62)\n",
    "key, subkey = random.split(key)\n",
    "x0 = random.normal(subkey, [nx, nx, nx], dtype=jnp.complex128)\n",
    "\n",
    "if compute_hess_diag:\n",
    "    batch_sz = 100\n",
    "    n_batch = N // batch_sz\n",
    "    idx_batches = np.array_split(np.arange(N), n_batch)\n",
    "    ones = jnp.ones(x0.shape, dtype=jnp.complex128)\n",
    "\n",
    "    D = np.zeros([nx, nx, nx], dtype=np.complex128)\n",
    "    D0 = np.zeros([nx, nx, nx], dtype=np.complex128)\n",
    "    for idx in tqdm(idx_batches):\n",
    "        D += hvp_func(x0, ones, idx)\n",
    "        D0 += hvp_func0(x0, ones, idx)\n",
    "\n",
    "    D = jnp.array(D / n_batch)\n",
    "    D0 = jnp.array(D0 / n_batch)\n",
    "\n",
    "assert jnp.max(jnp.abs(jnp.imag(D))) < 1e-16\n",
    "assert jnp.max(jnp.abs(jnp.imag(D0))) < 1e-16\n",
    "\n",
    "D = jnp.real(D)\n",
    "D0 = jnp.real(D0)"
   ]
  },
  {
   "cell_type": "code",
   "execution_count": null,
   "id": "0ccf5781-bdfc-4342-a940-01f1bd00b0bd",
   "metadata": {},
   "outputs": [],
   "source": [
    "plt.subplot(121)\n",
    "plt.imshow(jnp.fft.fftshift(jnp.log(D[0])))\n",
    "plt.colorbar()\n",
    "plt.subplot(122)\n",
    "plt.imshow(jnp.fft.fftshift(jnp.log(D0[0])))\n",
    "plt.colorbar()\n",
    "print(f\"kappa(H) = {jnp.max(D)/jnp.min(D)}\")\n",
    "print(f\"kappa(H_noCTF) = {jnp.max(D0)/jnp.min(D0)}\")"
   ]
  },
  {
   "cell_type": "code",
   "execution_count": null,
   "id": "9738f5c9-b829-4048-9161-e5c48c2b30c1",
   "metadata": {},
   "outputs": [],
   "source": [
    "# The ratio (# pixels in the disk) / (# pixels in the ball),\n",
    "# and the x-axis for the plots below.\n",
    "\n",
    "dr = x_grid[0]\n",
    "\n",
    "# With a bigger grid\n",
    "res, pts_2d = compute_n_pts_2d(x_grid, dr)\n",
    "res2, pts_3d = compute_n_pts_3d(x_grid, dr)\n",
    "\n",
    "assert (\n",
    "    jnp.max(jnp.abs(res - res2)) == 0\n",
    "), \"Use the same step size dr in the calculations above!!!\"\n",
    "\n",
    "p = pts_2d / pts_3d"
   ]
  },
  {
   "cell_type": "code",
   "execution_count": null,
   "id": "fc8aa0ec",
   "metadata": {},
   "outputs": [],
   "source": [
    "plt.imshow(create_3d_mask(x_grid, [0, 0, 0], res[-1])[0])"
   ]
  },
  {
   "cell_type": "code",
   "execution_count": null,
   "id": "6cac1fbc-8af1-423a-9785-8af510a934d2",
   "metadata": {},
   "outputs": [],
   "source": [
    "cond = []\n",
    "cond0 = []\n",
    "\n",
    "D_maxs = []\n",
    "D_maxs0 = []\n",
    "\n",
    "D_mins = []\n",
    "D_mins0 = []\n",
    "\n",
    "for r in tqdm(res):\n",
    "    mask_3d = create_3d_mask(x_grid, [0, 0, 0], r)\n",
    "\n",
    "    D_masked = D * mask_3d\n",
    "    D_masked0 = D0 * mask_3d\n",
    "\n",
    "    D_max = jnp.max(jnp.abs(D_masked))\n",
    "    D_max0 = jnp.max(jnp.abs(D_masked0))\n",
    "\n",
    "    D_min = jnp.min(jnp.abs(D_masked[D_masked > 0]))\n",
    "    D_min0 = jnp.min(jnp.abs(D_masked0[D_masked0 > 0]))\n",
    "\n",
    "    D_maxs.append(D_max)\n",
    "    D_maxs0.append(D_max0)\n",
    "\n",
    "    D_mins.append(D_min)\n",
    "    D_mins0.append(D_min0)\n",
    "\n",
    "    cond.append(D_max / D_min)\n",
    "    cond0.append(D_max0 / D_min0)"
   ]
  },
  {
   "cell_type": "code",
   "execution_count": null,
   "id": "e2ec9a6e-87b0-4e10-8329-c2cc7a9785d1",
   "metadata": {},
   "outputs": [],
   "source": [
    "plt.subplot(121)\n",
    "plt.plot(D_mins)\n",
    "plt.plot(D_maxs)\n",
    "plt.legend([\"D_mins\", \"D_maxs\"])\n",
    "\n",
    "plt.subplot(122)\n",
    "plt.plot(D_mins0)\n",
    "plt.plot(D_maxs0)\n",
    "plt.legend([\"D_mins0\", \"D_maxs0\"])"
   ]
  },
  {
   "cell_type": "code",
   "execution_count": null,
   "id": "186f2104-b6d4-4605-afa1-873adcfac0a0",
   "metadata": {},
   "outputs": [],
   "source": [
    "savefig = False"
   ]
  },
  {
   "cell_type": "code",
   "execution_count": null,
   "id": "8c72d560-025c-495e-8b2a-8f5c8a098c4a",
   "metadata": {},
   "outputs": [],
   "source": [
    "plot_range = 50\n",
    "plt.semilogy(cond0[:plot_range], \"r\", linewidth=3)\n",
    "plt.semilogy(cond[:plot_range], \"g--\", linewidth=3)\n",
    "plt.semilogy(\n",
    "    1 / alpha * jnp.ones((plot_range,)), \"b-.\", linewidth=3\n",
    ")\n",
    "\n",
    "plt.xticks(fontsize='13')\n",
    "plt.yticks(fontsize=\"13\")\n",
    "plt.locator_params(axis=\"x\", nbins=6)\n",
    "plt.xlabel(\"Radius (number of voxels)\", fontsize=\"15\")\n",
    "plt.ylabel(\"$\\kappa(H)$\", fontsize=\"18\")\n",
    "plt.legend(\n",
    "    [\"$\\kappa(H)$, no CTF\", \"$\\kappa(H)$, with CTF\", \"$1/\\lambda$\"], fontsize=\"15\"\n",
    ")\n",
    "\n",
    "\n",
    "if savefig:\n",
    "    plt.savefig(f\"cond_number_empirical.eps\", bbox_inches=\"tight\")"
   ]
  },
  {
   "cell_type": "code",
   "execution_count": null,
   "id": "85d9efa0-9e25-41e4-a37e-d94508155bec",
   "metadata": {},
   "outputs": [],
   "source": [
    "plot_range = 50\n",
    "\n",
    "plt.semilogy(cond0[:plot_range], \"r\", linewidth=3)\n",
    "plt.semilogy(cond[:plot_range], \"g--\", linewidth=3)\n",
    "\n",
    "plt.xticks(fontsize='13')\n",
    "plt.yticks(fontsize=\"13\")\n",
    "plt.locator_params(axis=\"x\", nbins=6)\n",
    "plt.xlabel(\"Radius (number of voxels)\", fontsize=\"15\")\n",
    "plt.ylabel(\"$\\kappa(H)$\", fontsize=\"18\")\n",
    "plt.legend(\n",
    "    [\"$\\kappa(H)$, no CTF\", \"$\\kappa(H)$, with CTF\", \"Theoretical\"], fontsize=\"15\"\n",
    ")\n",
    "\n",
    "\n",
    "if savefig:\n",
    "    plt.savefig(f\"cond_number_empirical.eps\", bbox_inches=\"tight\")"
   ]
  },
  {
   "cell_type": "code",
   "execution_count": null,
   "id": "efbb2191-3ca3-40b3-b7b2-61a03ff9031f",
   "metadata": {},
   "outputs": [],
   "source": [
    "savefig = False"
   ]
  },
  {
   "cell_type": "code",
   "execution_count": null,
   "id": "c5bcd2b0-5506-4113-8a89-d230a57c70eb",
   "metadata": {},
   "outputs": [],
   "source": [
    "kr = (N + alpha) / (N*p + alpha)\n",
    "\n",
    "plt.semilogy(kr[:plot_range], \"b\", linewidth=3)\n",
    "plt.semilogy(cond0[:plot_range], \"r--\", linewidth=3)\n",
    "plt.semilogy(cond[:plot_range], \"g-.\", linewidth=3)\n",
    "plt.semilogy(1 / alpha * jnp.ones((plot_range,)), \"k.\", linewidth=3)\n",
    "\n",
    "plt.xticks(fontsize=\"14\")\n",
    "plt.yticks(fontsize=\"14\")\n",
    "plt.xlabel(\"Radius (number of voxels)\", fontsize=\"20\")\n",
    "plt.ylabel(\"$\\kappa(H)$\", fontsize=\"20\")\n",
    "plt.legend(\n",
    "    [\n",
    "        \"$\\kappa(H)$, bound\",\n",
    "        \"$\\kappa(H)$, no CTF\",\n",
    "        \"$\\kappa(H)$, with CTF\",\n",
    "        \"$1/\\lambda$\",\n",
    "    ],\n",
    "    fontsize=\"15\",\n",
    ")\n",
    "\n",
    "if savefig:\n",
    "    plt.savefig(f\"cond_number_empirical_vs_theoretical.eps\")\n",
    "    plt.savefig(f\"cond_number_empirical_vs_theoretical_tight.eps\", bbox_inches=\"tight\")"
   ]
  },
  {
   "cell_type": "code",
   "execution_count": null,
   "id": "9e2a12c5",
   "metadata": {},
   "outputs": [],
   "source": [
    "# A closer look at the plot above\n",
    "\n",
    "upto = 10\n",
    "\n",
    "plt.plot(jnp.array(cond0[:upto]), 'r')\n",
    "plt.plot(jnp.array(cond[:upto]), 'g')\n",
    "plt.plot(kr[:upto], 'b')\n",
    "plt.legend(['k no ctf', 'k w ctf', 'bound'])"
   ]
  },
  {
   "cell_type": "markdown",
   "id": "d5e01d19-2441-42d4-a0d7-aef33a985391",
   "metadata": {},
   "source": [
    "### Histogram of angles in the dataset"
   ]
  },
  {
   "cell_type": "code",
   "execution_count": null,
   "id": "ad608fcf-b9e0-41e4-9ef6-8fd3bd276124",
   "metadata": {},
   "outputs": [],
   "source": [
    "n_bins = 10\n",
    "\n",
    "fig, ax = plt.subplots()\n",
    "bins1, bin_edges1, _ = plt.hist(\n",
    "    angles[:, 0], n_bins, density=True, histtype=\"step\", color=\"r\", alpha=1, linewidth=4\n",
    ")\n",
    "bins2, bin_edges2, _ = plt.hist(\n",
    "    angles[:, 1], n_bins, density=True, histtype=\"step\", color=\"g\", alpha=1, linewidth=4\n",
    ")\n",
    "bins3, bin_edges3, _ = plt.hist(\n",
    "    angles[:, 2], n_bins, density=True, histtype=\"step\", alpha=1, linewidth=4\n",
    ")"
   ]
  },
  {
   "cell_type": "code",
   "execution_count": null,
   "id": "eef2a703-29e3-4680-9806-a0b4f522ffa9",
   "metadata": {},
   "outputs": [],
   "source": [
    "counts, bins = np.histogram(angles[:, 0], bins=n_bins)\n",
    "_ = plt.hist(bins[:-1], bins, weights=counts)"
   ]
  },
  {
   "cell_type": "code",
   "execution_count": null,
   "id": "30953185-1ae6-4c57-b79a-0b61180fcc66",
   "metadata": {},
   "outputs": [],
   "source": [
    "counts, bins = np.histogram(angles[:, 1], bins=n_bins)\n",
    "_ = plt.hist(bins[:-1], bins, weights=counts)"
   ]
  },
  {
   "cell_type": "code",
   "execution_count": null,
   "id": "4a431e65-a123-49cd-99e7-95a958c342ff",
   "metadata": {},
   "outputs": [],
   "source": [
    "counts, bins = np.histogram(angles[:, 2], bins=n_bins)\n",
    "_ = plt.hist(bins[:-1], bins, weights=counts)"
   ]
  },
  {
   "cell_type": "markdown",
   "id": "4d673cac",
   "metadata": {},
   "source": [
    "### And on uniformly distributed angles"
   ]
  },
  {
   "cell_type": "code",
   "execution_count": 11,
   "id": "7ad62231",
   "metadata": {},
   "outputs": [],
   "source": [
    "key = random.PRNGKey(20)\n",
    "alpha = 1e-8"
   ]
  },
  {
   "cell_type": "code",
   "execution_count": 40,
   "id": "bfce22e3",
   "metadata": {},
   "outputs": [],
   "source": [
    "def get_hvp_func(x_grid, angles, imgs, shifts, ctf_params):\n",
    "    \n",
    "    mask = create_3d_mask(x_grid)\n",
    "\n",
    "    slice_obj = Slice(x_grid, mask=mask, interp_method=\"nn\")\n",
    "    loss_obj = Loss(slice_obj, alpha=alpha)\n",
    "    gradv_obj = GradV(loss_obj)\n",
    "\n",
    "    _, _, hvp_func, _ = get_sgd_vol_ops(\n",
    "        gradv_obj, loss_obj, angles, shifts, ctf_params, imgs\n",
    "    )\n",
    "\n",
    "    return hvp_func\n",
    "\n",
    "\n",
    "def compute_diagonal_batch(hvp_func, x0, ones, n, batch_sz = 1000):\n",
    "    \"\"\"Compute the diagonal of the _diagonal_ Hessian in batches.\"\"\"\n",
    "\n",
    "    assert n % batch_sz == 0, \"Make sure n is divisible by batch_sz\"\n",
    "\n",
    "    n_batch = n // batch_sz\n",
    "    idx_batches = np.array_split(np.arange(n), n_batch)\n",
    "\n",
    "    nx = x0.shape[0]\n",
    "    D = np.zeros([nx, nx, nx], dtype=np.complex128)\n",
    "\n",
    "    #for idx in tqdm(idx_batches):\n",
    "    for idx in idx_batches:\n",
    "        D += hvp_func(x0, ones, idx)\n",
    "\n",
    "    D = jnp.array(D / n_batch)\n",
    "\n",
    "    assert jnp.max(jnp.abs(jnp.imag(D))) < 1e-16\n",
    "\n",
    "    return  jnp.real(D)\n",
    "\n",
    "\n",
    "def compute_condition_number_diag(d, x_grid):\n",
    "    \"\"\"Compute the condition number of the diagonal matrix whose diagonal is d.\"\"\"\n",
    "    \n",
    "    mask = create_3d_mask(x_grid)\n",
    "    d = jnp.abs(d * mask)\n",
    "\n",
    "    d_max = jnp.max(d)\n",
    "    d_min = jnp.min(d[d > 0])\n",
    "\n",
    "    return d_max / d_min\n",
    "\n",
    "def compute_cond_lower_bound(x_grid, n, alpha):\n",
    "    \"\"\"Compute the theoretical lower bound on the condition number for the diagonal\n",
    "    Hessian matrix whose diagonal is d.\"\"\"\n",
    "\n",
    "    mask = create_3d_mask(x_grid)\n",
    "    \n",
    "    pts_3d = jnp.sum(mask > 0)\n",
    "    pts_2d = jnp.sum(mask[0] > 0)\n",
    "\n",
    "    p = pts_2d / pts_3d\n",
    "\n",
    "    return (n + alpha) / (n * p + alpha)"
   ]
  },
  {
   "cell_type": "code",
   "execution_count": 41,
   "id": "b3f1f788",
   "metadata": {},
   "outputs": [
    {
     "name": "stdout",
     "output_type": "stream",
     "text": [
      "[  8  16  24  32  40  48  56  64  72  80  88  96 104 112 120 128]\n"
     ]
    }
   ],
   "source": [
    "nx_range = np.arange(0, 129, 8)[1:]\n",
    "print(nx_range)\n",
    "\n",
    "key, *sk= random.split(key, len(nx_range) + 1)\n"
   ]
  },
  {
   "cell_type": "code",
   "execution_count": 43,
   "id": "6f78aa22",
   "metadata": {},
   "outputs": [
    {
     "name": "stderr",
     "output_type": "stream",
     "text": [
      "  0%|          | 0/16 [00:00<?, ?it/s]"
     ]
    },
    {
     "name": "stderr",
     "output_type": "stream",
     "text": [
      "100%|██████████| 16/16 [00:26<00:00,  1.67s/it]\n"
     ]
    }
   ],
   "source": [
    "n = 1000\n",
    "#nx = 32\n",
    "\n",
    "ks = []\n",
    "ks_bound = []\n",
    "\n",
    "for i, nx in enumerate(tqdm(nx_range)):\n",
    "\n",
    "    x_grid0 = np.array([1, nx])\n",
    "\n",
    "    angles0 = np.zeros((n, 3), dtype = np.float64)\n",
    "    imgs0 = np.zeros((n, nx**2), dtype = np.complex128)\n",
    "    shifts0 = np.zeros((n, 2), dtype = np.float64)\n",
    "    sigma_noise0 = np.ones((nx**2,), dtype = np.float64)\n",
    "    ctf_params0 = jnp.array(n * [None]).reshape((n,1))\n",
    "    x0 = np.zeros((nx, nx, nx), dtype = jnp.complex128)\n",
    "    ones = np.ones((nx, nx, nx), dtype = jnp.complex128)\n",
    "\n",
    "    # The theoretical bound\n",
    "    dr = x_grid0[0]\n",
    "    res, pts_2d = compute_n_pts_2d(x_grid0, dr)\n",
    "    _ , pts_3d = compute_n_pts_3d(x_grid0, dr)\n",
    "\n",
    "    p = pts_2d / pts_3d\n",
    "\n",
    "    # The condition number for uniform orientations\n",
    "\n",
    "    angles = generate_uniform_orientations_jax(sk[i], angles0)\n",
    "    hvp_func = get_hvp_func(x_grid0, angles, imgs0, shifts0, ctf_params0)\n",
    "\n",
    "    d = compute_diagonal_batch(hvp_func, x0, ones, n)\n",
    "    cond = compute_condition_number_diag(d, x_grid0)\n",
    "    cond_bound = compute_cond_lower_bound(x_grid0, n, alpha)\n",
    "\n",
    "    ks.append(cond)\n",
    "    ks_bound.append(cond_bound)\n",
    "\n",
    "ks = np.array(ks)\n",
    "ks_bound = np.array(ks_bound)"
   ]
  },
  {
   "cell_type": "code",
   "execution_count": 45,
   "id": "3990d477",
   "metadata": {},
   "outputs": [
    {
     "data": {
      "text/plain": [
       "[<matplotlib.lines.Line2D at 0x14d66802d730>]"
      ]
     },
     "execution_count": 45,
     "metadata": {},
     "output_type": "execute_result"
    },
    {
     "data": {
      "image/png": "[encoded data removed]",
      "text/plain": [
       "<Figure size 432x288 with 1 Axes>"
      ]
     },
     "metadata": {
      "needs_background": "light"
     },
     "output_type": "display_data"
    }
   ],
   "source": [
    "plt.semilogy(ks)\n",
    "plt.semilogy(ks_bound)"
   ]
  }
 ],
 "metadata": {
  "kernelspec": {
   "display_name": "Python 3",
   "language": "python",
   "name": "python3"
  },
  "language_info": {
   "codemirror_mode": {
    "name": "ipython",
    "version": 3
   },
   "file_extension": ".py",
   "mimetype": "text/x-python",
   "name": "python",
   "nbconvert_exporter": "python",
   "pygments_lexer": "ipython3",
   "version": "3.9.13"
  }
 },
 "nbformat": 4,
 "nbformat_minor": 5
}
