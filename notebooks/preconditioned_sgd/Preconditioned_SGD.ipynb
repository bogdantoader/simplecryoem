{
 "cells": [
  {
   "cell_type": "markdown",
   "id": "9adcce94-7192-441e-9683-bbb65e31c27a",
   "metadata": {},
   "source": [
    "# Second order stochastic methods for CryoEM "
   ]
  },
  {
   "cell_type": "code",
   "execution_count": 37,
   "id": "70edf6b0-fad6-4d1e-82ac-54d478732b02",
   "metadata": {},
   "outputs": [],
   "source": [
    "import numpy as np\n",
    "from matplotlib import pyplot as plt\n",
    "import jax\n",
    "import jax.numpy as jnp\n",
    "from jax import random, config\n",
    "from tqdm import tqdm\n",
    "import time\n",
    "import mrcfile\n",
    "from jaxopt import LBFGS\n",
    "\n",
    "from simplecryoem.emfiles import load_data\n",
    "from simplecryoem.preprocess import preprocess\n",
    "from simplecryoem.forwardmodel import Slice\n",
    "from simplecryoem.optimization import (\n",
    "    Loss,\n",
    "    GradV,\n",
    "    sgd,\n",
    "    precon_sgd,\n",
    "    get_sgd_vol_ops,\n",
    "    oasis,\n",
    "    oasis_adaptive,\n",
    ")\n",
    "from simplecryoem.utils import rescale_larger_grid, mip_x, mip_y, mip_z\n",
    "from simplecryoem.fsc import calc_fsc, average_shells, average_shells_2D\n",
    "from simplecryoem.ctf import eval_ctf"
   ]
  },
  {
   "cell_type": "code",
   "execution_count": 2,
   "id": "0f671c79-9c09-4b67-a03b-38e25c6ac1d2",
   "metadata": {},
   "outputs": [
    {
     "name": "stdout",
     "output_type": "stream",
     "text": [
      "The autoreload extension is already loaded. To reload it, use:\n",
      "  %reload_ext autoreload\n"
     ]
    }
   ],
   "source": [
    "%load_ext autoreload\n",
    "%autoreload 2\n",
    "\n",
    "plt.rcParams[\"figure.figsize\"] = 6, 6\n",
    "config.update(\"jax_enable_x64\", True)"
   ]
  },
  {
   "cell_type": "code",
   "execution_count": 4,
   "id": "6568c2d1-797d-41f5-8922-979ce9151f8a",
   "metadata": {},
   "outputs": [
    {
     "name": "stdout",
     "output_type": "stream",
     "text": [
      "Index(['index', 'rlnVoltage_optics', 'rlnImagePixelSize',\n",
      "       'rlnSphericalAberration_optics', 'rlnAmplitudeContrast_optics',\n",
      "       'rlnOpticsGroup', 'rlnImageSize', 'rlnImageDimensionality',\n",
      "       'rlnImageName', 'rlnMicrographName', 'rlnDefocusU_file1',\n",
      "       'rlnDefocusV_file1', 'rlnDefocusAngle_file1', 'rlnVoltage',\n",
      "       'rlnSphericalAberration', 'rlnAmplitudeContrast', 'rlnMagnification',\n",
      "       'rlnDetectorPixelSize', 'rlnAngleRot', 'rlnAngleTilt', 'rlnAnglePsi',\n",
      "       'rlnOriginXAngst', 'rlnOriginYAngst', 'rlnDefocusU', 'rlnDefocusV',\n",
      "       'rlnDefocusAngle', 'rlnPhaseShift', 'rlnCtfMaxResolution',\n",
      "       'rlnCtfFigureOfMerit', 'rlnRandomSubset', 'rlnClassNumber',\n",
      "       'rlnGroupNumber', 'rlnNormCorrection', 'rlnLogLikeliContribution',\n",
      "       'rlnMaxValueProbDistribution', 'rlnNrOfSignificantSamples',\n",
      "       'rlnOriginX', 'rlnOriginY', 'rlnOpticsGroupName', 'ucsfImageIndex',\n",
      "       'ucsfImagePath', 'rlnImageOriginalName', 'ucsfImageOriginalIndex',\n",
      "       'ucsfImageOriginalPath', 'ucsfImageBasename',\n",
      "       'ucsfImageOriginalBasename', 'ucsfMicrographBasename'],\n",
      "      dtype='object')\n",
      "load_data: number of partcles: 76186\n",
      "load_data: data loaded, time:  47.15 sec.\n"
     ]
    }
   ],
   "source": [
    "data_dir = \"../../../../Relion_10076/\"\n",
    "star_file = \"my_particles.star\"\n",
    "\n",
    "params0, imgs0 = load_data(data_dir, star_file, load_imgs=True, fourier=False)"
   ]
  },
  {
   "cell_type": "code",
   "execution_count": 44,
   "id": "1b256e90-6bbd-4163-8877-2078fd9f3618",
   "metadata": {},
   "outputs": [
    {
     "data": {
      "text/plain": [
       "{'ctf_params': array([[ 1.14207002e+04,  1.18242002e+04, -8.53800000e+01, ...,\n",
       "          2.70000000e+00,  0.00000000e+00,  2.62000000e+00],\n",
       "        [ 5.10479980e+03,  5.87679980e+03, -5.53100000e+01, ...,\n",
       "          2.70000000e+00,  0.00000000e+00,  2.62000000e+00],\n",
       "        [ 1.84025000e+04,  1.88770000e+04, -9.93000000e+00, ...,\n",
       "          2.70000000e+00,  0.00000000e+00,  2.62000000e+00],\n",
       "        ...,\n",
       "        [ 5.23800000e+03,  6.00989990e+03, -5.53100000e+01, ...,\n",
       "          2.70000000e+00,  0.00000000e+00,  2.62000000e+00],\n",
       "        [ 5.81270020e+03,  6.58470020e+03, -5.53100000e+01, ...,\n",
       "          2.70000000e+00,  0.00000000e+00,  2.62000000e+00],\n",
       "        [ 6.01270020e+03,  6.78460010e+03, -5.53100000e+01, ...,\n",
       "          2.70000000e+00,  0.00000000e+00,  2.62000000e+00]]),\n",
       " 'pixel_size': array([1.31, 1.31, 1.31, ..., 1.31, 1.31, 1.31]),\n",
       " 'angles': array([[ 0.23991806,  1.8575437 ,  2.94270434],\n",
       "        [ 0.41284446,  0.8237953 ,  2.09623466],\n",
       "        [ 1.82007591,  2.28950867, -0.97865184],\n",
       "        ...,\n",
       "        [ 0.49307227,  2.12602935, -0.83943303],\n",
       "        [-2.79103769,  1.64342159,  2.30459373],\n",
       "        [ 3.10155501,  1.71187576, -0.75614802]]),\n",
       " 'shifts': array([[-17.68253 ,   8.152639],\n",
       "        [-21.97736 , -21.50478 ],\n",
       "        [-10.65994 , -10.18736 ],\n",
       "        ...,\n",
       "        [  1.602639,  -4.94736 ],\n",
       "        [ -4.94736 ,  -4.94736 ],\n",
       "        [ 12.920057,  14.230057]])}"
      ]
     },
     "execution_count": 44,
     "metadata": {},
     "output_type": "execute_result"
    }
   ],
   "source": [
    "params0"
   ]
  },
  {
   "cell_type": "code",
   "execution_count": 6,
   "id": "f624fcec-d52d-4f71-97c0-c99ca2b16376",
   "metadata": {},
   "outputs": [
    {
     "name": "stdout",
     "output_type": "stream",
     "text": [
      "[ 0 60]\n",
      "[43308 36879 60295 45796 33465  5621 40298 10802 19736 63364]\n"
     ]
    }
   ],
   "source": [
    "# Extract a subset with fixed seed key so that we always get the same subset.\n",
    "# Larger sets must be supersets of the smaller sets respectively.\n",
    "\n",
    "N0 = imgs0.shape[0]\n",
    "nx0 = imgs0.shape[1]\n",
    "\n",
    "subset_seed = 60\n",
    "subset_key = random.PRNGKey(subset_seed)\n",
    "idx_full = random.permutation(subset_key, N0)\n",
    "\n",
    "print(subset_key)\n",
    "print(idx_full[:10])"
   ]
  },
  {
   "cell_type": "code",
   "execution_count": 9,
   "id": "83b0531f-868d-424a-bd2b-363dd66b597c",
   "metadata": {},
   "outputs": [],
   "source": [
    "out_dir =  \"../../../simplecryoem_output/empiar_10076/\"\n",
    "\n",
    "nx_crop = 64 # 192  # 64 #8 #192 # 128 # 64\n",
    "N = 4400  # 10000 #200 #104000 #80000 # 20000\n",
    "\n",
    "idx = idx_full[:N]"
   ]
  },
  {
   "cell_type": "code",
   "execution_count": 8,
   "id": "a109c7d5-532c-41ec-9cf4-40423c457931",
   "metadata": {},
   "outputs": [
    {
     "name": "stdout",
     "output_type": "stream",
     "text": [
      "imgs0.shape = (76186, 320, 320)\n",
      "pixel_size0.shape = (76186,)\n",
      "angles0.shape = (76186, 3)\n",
      "shifts0.shape = (76186, 2)\n",
      "ctf_params0.shape = (76186, 9)\n",
      "N0 = 76186\n",
      "idx provided\n",
      "N = 4400\n",
      "Taking FFT of the images:\n",
      "Batch 1/10  0.68 sec.\n",
      "Batch 2/10  0.67 sec.\n",
      "Batch 3/10  0.67 sec.\n",
      "Batch 4/10  0.67 sec.\n",
      "Batch 5/10  0.67 sec.\n",
      "Batch 6/10  0.68 sec.\n",
      "Batch 7/10  0.68 sec.\n",
      "Batch 8/10  0.68 sec.\n",
      "Batch 9/10  0.68 sec.\n",
      "Batch 10/10  0.68 sec.\n",
      "FFT done. Time:  7.51 sec.\n",
      "x_grid = [2.38549618e-03 3.20000000e+02]\n",
      "new x_grid = [2.38549618e-03 6.40000000e+01]\n",
      "Vectorised imgs_f.shape = (4400, 4096)\n",
      "Mask radius = 0.0739503816793893\n",
      "Noise free, setting sigma_noise = 1\n"
     ]
    }
   ],
   "source": [
    "processed_data = preprocess(imgs0, params0, nx_crop=nx_crop, idx=idx)\n",
    "\n",
    "imgs_f = processed_data[\"imgs_f\"]\n",
    "angles = processed_data[\"angles\"]\n",
    "shifts = processed_data[\"shifts\"]\n",
    "ctf_params = processed_data[\"ctf_params\"]"
   ]
  },
  {
   "cell_type": "code",
   "execution_count": 10,
   "id": "41cf3d6f-c675-4c75-b099-4567314bebeb",
   "metadata": {},
   "outputs": [],
   "source": [
    "# Assuming these variables are the same for all images\n",
    "\n",
    "pixel_size = processed_data[\"pixel_size\"]\n",
    "nx = processed_data[\"nx\"]\n",
    "mask = processed_data[\"mask\"]\n",
    "sigma_noise = processed_data[\"sigma_noise\"]\n",
    "x_grid = processed_data[\"x_grid\"]\n",
    "N = imgs_f.shape[0]"
   ]
  },
  {
   "cell_type": "code",
   "execution_count": 11,
   "id": "8f712166-e8f4-4f94-8523-b5adf8addb30",
   "metadata": {},
   "outputs": [
    {
     "data": {
      "text/plain": [
       "<matplotlib.colorbar.Colorbar at 0x7fd74da68790>"
      ]
     },
     "execution_count": 11,
     "metadata": {},
     "output_type": "execute_result"
    },
    {
     "data": {
      "image/png": "[encoded data removed]",
      "text/plain": [
       "<Figure size 600x600 with 2 Axes>"
      ]
     },
     "metadata": {},
     "output_type": "display_data"
    }
   ],
   "source": [
    "plt.imshow(jnp.fft.fftshift(jnp.abs(imgs_f[15].reshape([nx_crop, nx_crop]))))\n",
    "plt.colorbar()"
   ]
  },
  {
   "cell_type": "code",
   "execution_count": 12,
   "id": "2c7d5aa0-4f24-49b1-b4ec-a343c065dabe",
   "metadata": {},
   "outputs": [],
   "source": [
    "del imgs0"
   ]
  },
  {
   "cell_type": "markdown",
   "id": "3cdc7bca-a144-4276-9f46-8707eadf2acd",
   "metadata": {},
   "source": [
    "### Only volume reconstruction for now - SGD vs OASIS"
   ]
  },
  {
   "cell_type": "code",
   "execution_count": 13,
   "id": "25674ba2-f439-42aa-84b6-9337cd115c3a",
   "metadata": {},
   "outputs": [],
   "source": [
    "# Apply mask to images\n",
    "\n",
    "apply_mask = True\n",
    "\n",
    "if apply_mask:\n",
    "    # mask2d = mask[0].reshape(-1)\n",
    "    mask2d = mask[0].reshape(-1)\n",
    "    imgs_f = imgs_f * mask2d\n",
    "else:\n",
    "    mask = jnp.ones(mask.shape)"
   ]
  },
  {
   "cell_type": "code",
   "execution_count": 14,
   "id": "166a133f-95cf-4b16-9ae3-c31ee86f625a",
   "metadata": {},
   "outputs": [
    {
     "data": {
      "image/png": "[encoded data removed]",
      "text/plain": [
       "<Figure size 1200x600 with 3 Axes>"
      ]
     },
     "metadata": {},
     "output_type": "display_data"
    }
   ],
   "source": [
    "plt.rcParams[\"figure.figsize\"] = 12, 6\n",
    "\n",
    "plt.subplot(1, 2, 1)\n",
    "plt.imshow(mask[0])\n",
    "\n",
    "plt.subplot(1, 2, 2)\n",
    "plt.imshow(jnp.fft.fftshift(jnp.abs(imgs_f[123].reshape([nx_crop, nx_crop]))))\n",
    "plt.colorbar()\n",
    "\n",
    "plt.rcParams[\"figure.figsize\"] = 6, 6"
   ]
  },
  {
   "cell_type": "markdown",
   "id": "6e4f7f86-6725-4690-8133-ef4703766f9b",
   "metadata": {},
   "source": [
    "Use the same datasets, loss, grad, hvp, x0, D0 for SGD, OASIS (and CG)"
   ]
  },
  {
   "cell_type": "code",
   "execution_count": null,
   "id": "bb8e50e2-21b6-4f0f-a180-ce20b336bb05",
   "metadata": {},
   "outputs": [],
   "source": [
    "jnp.save(f\"{out_dir}/mask.npy\", mask)"
   ]
  },
  {
   "cell_type": "code",
   "execution_count": 15,
   "id": "7814ad4e-ec4a-497d-8b87-f6610582fb55",
   "metadata": {},
   "outputs": [],
   "source": [
    "alpha = 1e-8  # 1e-9 #1e-5 #1e-9 #1e-9 # 1e-5\n",
    "interp_method = \"tri\" # \"tri\" or \"nn\"\n",
    "\n",
    "# slice_obj = Slice(x_grid, mask = mask, interp_method = interp_method)\n",
    "\n",
    "slice_obj = Slice(x_grid, mask=mask, interp_method=interp_method)\n",
    "loss_obj = Loss(slice_obj, alpha=alpha)\n",
    "gradv_obj = GradV(loss_obj)\n",
    "\n",
    "grad_func, loss_func, hvp_func, loss_px_func = get_sgd_vol_ops(\n",
    "    gradv_obj, loss_obj, angles, shifts, ctf_params, imgs_f, sigma_noise\n",
    ")"
   ]
  },
  {
   "cell_type": "markdown",
   "id": "961b6ce4-54e2-4d03-8a7e-db60392d815f",
   "metadata": {},
   "source": [
    "### Load a precomputed preconditioner"
   ]
  },
  {
   "cell_type": "code",
   "execution_count": 17,
   "id": "bef5ce0c-0dab-4f41-ae4c-96d99ca1a5d1",
   "metadata": {},
   "outputs": [],
   "source": [
    "load_precon = False\n",
    "\n",
    "if load_precon:\n",
    "    n_epochs = 1000\n",
    "    precon_filename = f\"{out_dir}/D0_{interp_method}_nx{nx}_N{N}_{n_epochs}epochs.npy\"\n",
    "    D0_loaded = jnp.load(precon_filename)"
   ]
  },
  {
   "cell_type": "markdown",
   "id": "603cea42-ab49-415f-b0d6-d246a395e305",
   "metadata": {},
   "source": [
    "### Or compute a new preconditioner "
   ]
  },
  {
   "cell_type": "code",
   "execution_count": 18,
   "id": "6028284e-0a58-4769-ab19-516dac7a38bc",
   "metadata": {},
   "outputs": [
    {
     "name": "stdout",
     "output_type": "stream",
     "text": [
      "Epoch 0\n"
     ]
    },
    {
     "name": "stderr",
     "output_type": "stream",
     "text": [
      "100%|███████████████████████████████████████████████████████████████████████████████████| 4/4 [00:00<00:00, 92.13it/s]\n"
     ]
    },
    {
     "name": "stdout",
     "output_type": "stream",
     "text": [
      "Epoch 1\n"
     ]
    },
    {
     "name": "stderr",
     "output_type": "stream",
     "text": [
      "100%|███████████████████████████████████████████████████████████████████████████████████| 4/4 [00:00<00:00, 58.31it/s]\n"
     ]
    },
    {
     "name": "stdout",
     "output_type": "stream",
     "text": [
      "Epoch 2\n"
     ]
    },
    {
     "name": "stderr",
     "output_type": "stream",
     "text": [
      "100%|███████████████████████████████████████████████████████████████████████████████████| 4/4 [00:00<00:00, 57.99it/s]\n"
     ]
    },
    {
     "name": "stdout",
     "output_type": "stream",
     "text": [
      "Epoch 3\n"
     ]
    },
    {
     "name": "stderr",
     "output_type": "stream",
     "text": [
      "100%|███████████████████████████████████████████████████████████████████████████████████| 4/4 [00:00<00:00, 57.98it/s]\n"
     ]
    },
    {
     "name": "stdout",
     "output_type": "stream",
     "text": [
      "Epoch 4\n"
     ]
    },
    {
     "name": "stderr",
     "output_type": "stream",
     "text": [
      "100%|███████████████████████████████████████████████████████████████████████████████████| 4/4 [00:00<00:00, 58.35it/s]\n"
     ]
    },
    {
     "name": "stdout",
     "output_type": "stream",
     "text": [
      "Epoch 5\n"
     ]
    },
    {
     "name": "stderr",
     "output_type": "stream",
     "text": [
      "100%|███████████████████████████████████████████████████████████████████████████████████| 4/4 [00:00<00:00, 58.57it/s]\n"
     ]
    },
    {
     "name": "stdout",
     "output_type": "stream",
     "text": [
      "Epoch 6\n"
     ]
    },
    {
     "name": "stderr",
     "output_type": "stream",
     "text": [
      "100%|███████████████████████████████████████████████████████████████████████████████████| 4/4 [00:00<00:00, 58.02it/s]\n"
     ]
    },
    {
     "name": "stdout",
     "output_type": "stream",
     "text": [
      "Epoch 7\n"
     ]
    },
    {
     "name": "stderr",
     "output_type": "stream",
     "text": [
      "100%|███████████████████████████████████████████████████████████████████████████████████| 4/4 [00:00<00:00, 58.17it/s]\n"
     ]
    },
    {
     "name": "stdout",
     "output_type": "stream",
     "text": [
      "Epoch 8\n"
     ]
    },
    {
     "name": "stderr",
     "output_type": "stream",
     "text": [
      "100%|███████████████████████████████████████████████████████████████████████████████████| 4/4 [00:00<00:00, 58.34it/s]\n"
     ]
    },
    {
     "name": "stdout",
     "output_type": "stream",
     "text": [
      "Epoch 9\n"
     ]
    },
    {
     "name": "stderr",
     "output_type": "stream",
     "text": [
      "100%|███████████████████████████████████████████████████████████████████████████████████| 4/4 [00:00<00:00, 58.10it/s]\n"
     ]
    },
    {
     "name": "stdout",
     "output_type": "stream",
     "text": [
      "1.0000000000000007e-08\n",
      "0.017532389800610833\n",
      "1753238.9800610822\n"
     ]
    },
    {
     "data": {
      "image/png": "[encoded data removed]",
      "text/plain": [
       "<Figure size 600x600 with 2 Axes>"
      ]
     },
     "metadata": {},
     "output_type": "display_data"
    }
   ],
   "source": [
    "# Exp avg convergence\n",
    "beta = 0.5\n",
    "DD0 = jnp.ones([nx, nx, nx])\n",
    "\n",
    "n_epochs = 10\n",
    "batch_sz = 1000  # 100\n",
    "n_batch = N // batch_sz\n",
    "\n",
    "zD0z = np.zeros([nx, nx, nx])\n",
    "\n",
    "# zD0z = []\n",
    "\n",
    "key = random.PRNGKey(62)\n",
    "key, subkey = random.split(key)\n",
    "x0 = random.normal(subkey, [nx, nx, nx], dtype=jnp.complex128)\n",
    "\n",
    "count = 0\n",
    "D0err = []\n",
    "DDerr = []\n",
    "DD0 = jnp.ones([nx, nx, nx])\n",
    "\n",
    "for i in range(n_epochs):\n",
    "    print(f\"Epoch {i}\")\n",
    "    key, subkey = random.split(key)\n",
    "    idx_batches = np.array_split(random.permutation(subkey, N), n_batch)\n",
    "\n",
    "    for idx in tqdm(idx_batches):\n",
    "        key, subkey = random.split(key)\n",
    "\n",
    "        z = random.rademacher(subkey, [nx, nx, nx], dtype=x0.dtype)\n",
    "        zD0z += z * hvp_func(x0, z, np.array(idx))\n",
    "        count = count + 1\n",
    "\n",
    "        Davg = zD0z / count\n",
    "        DD1 = beta * DD0 + (1 - beta) * Davg\n",
    "        DD0 = DD1\n",
    "\n",
    "    # Computing convergence of the Hutchinson's estimator to the true preconditioner\n",
    "    D0_current = zD0z / count\n",
    "\n",
    "    if load_precon:\n",
    "        err_current = D0_loaded - D0_current\n",
    "        err_current = jnp.sum(jnp.real(jnp.conj(err_current) * err_current))\n",
    "    \n",
    "        D0err.append(err_current)\n",
    "    \n",
    "        dd_err_current = D0_loaded - DD1\n",
    "        dd_err_current = jnp.sum(jnp.real(jnp.conj(dd_err_current) * dd_err_current))\n",
    "    \n",
    "        DDerr.append(dd_err_current)\n",
    "\n",
    "\n",
    "zD0z = np.array(zD0z)\n",
    "D0 = zD0z / (n_epochs * n_batch)\n",
    "\n",
    "plt.imshow(jnp.fft.fftshift(jnp.abs(D0[0, :, :])))\n",
    "plt.colorbar()\n",
    "print(jnp.min(jnp.abs(D0)))\n",
    "print(jnp.max(jnp.abs(D0)))\n",
    "print(jnp.max(jnp.abs(D0)) / jnp.min(jnp.abs(D0)))"
   ]
  },
  {
   "cell_type": "code",
   "execution_count": 19,
   "id": "6a9c97de-65a4-4e2f-b9e2-e5dc5d9aabc2",
   "metadata": {},
   "outputs": [],
   "source": [
    "# Save the preconditioner\n",
    "save_precon = False\n",
    "\n",
    "if save_precon:\n",
    "    precon_filename = f\"{out_dir}/D0_{interp_method}_nx{nx}_N{N}_{n_epochs}epochs.npy\"\n",
    "    jnp.save(precon_filename, D0)"
   ]
  },
  {
   "cell_type": "code",
   "execution_count": 20,
   "id": "1934d261-cea4-4055-be64-4f52308b8966",
   "metadata": {},
   "outputs": [
    {
     "data": {
      "text/plain": [
       "Array(3.46944695e-18, dtype=float64)"
      ]
     },
     "execution_count": 20,
     "metadata": {},
     "output_type": "execute_result"
    }
   ],
   "source": [
    "jnp.max(jnp.abs(D0 - Davg))"
   ]
  },
  {
   "cell_type": "code",
   "execution_count": 21,
   "id": "8a538be6-cb3c-4997-a649-4d9b429b2848",
   "metadata": {},
   "outputs": [
    {
     "ename": "NameError",
     "evalue": "name 'D0_loaded' is not defined",
     "output_type": "error",
     "traceback": [
      "\u001b[0;31m---------------------------------------------------------------------------\u001b[0m",
      "\u001b[0;31mNameError\u001b[0m                                 Traceback (most recent call last)",
      "Cell \u001b[0;32mIn[21], line 1\u001b[0m\n\u001b[0;32m----> 1\u001b[0m \u001b[38;5;28mprint\u001b[39m(jnp\u001b[38;5;241m.\u001b[39mmax(jnp\u001b[38;5;241m.\u001b[39mabs(D0 \u001b[38;5;241m-\u001b[39m D0_loaded)))\n\u001b[1;32m      2\u001b[0m \u001b[38;5;28mprint\u001b[39m(jnp\u001b[38;5;241m.\u001b[39mmax(jnp\u001b[38;5;241m.\u001b[39mabs(DD1 \u001b[38;5;241m-\u001b[39m D0_loaded)))\n",
      "\u001b[0;31mNameError\u001b[0m: name 'D0_loaded' is not defined"
     ]
    }
   ],
   "source": [
    "print(jnp.max(jnp.abs(D0 - D0_loaded)))\n",
    "print(jnp.max(jnp.abs(DD1 - D0_loaded)))"
   ]
  },
  {
   "cell_type": "code",
   "execution_count": 22,
   "id": "3dbcfdbf-ca00-4968-8861-74a757ef3735",
   "metadata": {},
   "outputs": [
    {
     "ename": "NameError",
     "evalue": "name 'D0_loaded' is not defined",
     "output_type": "error",
     "traceback": [
      "\u001b[0;31m---------------------------------------------------------------------------\u001b[0m",
      "\u001b[0;31mNameError\u001b[0m                                 Traceback (most recent call last)",
      "Cell \u001b[0;32mIn[22], line 1\u001b[0m\n\u001b[0;32m----> 1\u001b[0m D0_loaded_norm \u001b[38;5;241m=\u001b[39m jnp\u001b[38;5;241m.\u001b[39msum(jnp\u001b[38;5;241m.\u001b[39mreal(jnp\u001b[38;5;241m.\u001b[39mconj(D0_loaded) \u001b[38;5;241m*\u001b[39m D0_loaded))\n",
      "\u001b[0;31mNameError\u001b[0m: name 'D0_loaded' is not defined"
     ]
    }
   ],
   "source": [
    "D0_loaded_norm = jnp.sum(jnp.real(jnp.conj(D0_loaded) * D0_loaded))"
   ]
  },
  {
   "cell_type": "code",
   "execution_count": null,
   "id": "ec85d70b-50a8-4440-b05e-00567cd6828d",
   "metadata": {},
   "outputs": [],
   "source": [
    "startidx = 0\n",
    "plt.semilogy(\n",
    "    jnp.sqrt(jnp.array(D0err[startidx:])) / jnp.sqrt(D0_loaded_norm),\n",
    "    linewidth=2,\n",
    "    color=\"r\",\n",
    ")\n",
    "plt.semilogy(\n",
    "    jnp.sqrt(jnp.array(DDerr[startidx:])) / jnp.sqrt(D0_loaded_norm),\n",
    "    linewidth=4,\n",
    "    linestyle=\"dotted\",\n",
    "    color=\"b\",\n",
    ")\n",
    "\n",
    "# plt.title(\"$||D-diag(H)||_2 / ||H||_2$\", fontsize=22)\n",
    "\n",
    "plt.xlabel(\"Epoch number\", fontsize=16)\n",
    "plt.ylabel(\"Relative error\", fontsize=16)\n",
    "plt.xticks(fontsize=14)\n",
    "plt.yticks(fontsize=14)\n",
    "plt.tight_layout()\n",
    "plt.legend([\"Hutchinson\", \"Exponential average (proposed)\"], fontsize=16)\n",
    "\n",
    "# plt.savefig(f\"Hutch_est_error.eps\")"
   ]
  },
  {
   "cell_type": "code",
   "execution_count": null,
   "id": "6e3b9ad8-ebd8-43a4-868a-7eab0a6609ca",
   "metadata": {},
   "outputs": [],
   "source": [
    "# When plotting the entries, only show a random subset,\n",
    "# otherwise the eps image becomes huge.\n",
    "idxs = random.permutation(key, nx**3)[:100000]\n",
    "\n",
    "mind = jnp.min(D0_loaded)\n",
    "maxd = jnp.max(D0_loaded)\n",
    "xy = jnp.linspace(mind, maxd, 1000)\n",
    "\n",
    "fig = plt.figure()\n",
    "ax = plt.gca()\n",
    "\n",
    "ax.plot(xy, xy, linewidth=3, linestyle=\"dashed\", c=\"r\")\n",
    "ax.scatter(\n",
    "    jnp.abs(D0_loaded).reshape(-1)[idxs],\n",
    "    jnp.abs(DD1).reshape(-1)[idxs],\n",
    "    s=5,\n",
    "    c=\"b\",\n",
    "    marker=\"o\",\n",
    ")\n",
    "\n",
    "ax.set_xscale(\"log\")\n",
    "ax.set_yscale(\"log\")\n",
    "\n",
    "plt.xlabel(\"Diagonal(H)\", fontsize=16)\n",
    "plt.ylabel(\"Estimated diagonal\", fontsize=16)\n",
    "\n",
    "plt.legend([\"$x=y$ line\", \"Diagonal elements\"], fontsize=16)\n",
    "plt.tight_layout()\n",
    "\n",
    "# plt.xticks(fontsize=14)\n",
    "# plt.yticks(fontsize=14)\n",
    "\n",
    "# plt.savefig(f\"Hutch_est_gt_vs_est.pdf\")"
   ]
  },
  {
   "cell_type": "markdown",
   "id": "7b38da1a-a50e-4a52-8b0c-a23b75b1b91e",
   "metadata": {},
   "source": [
    "### Compute the Hessian diagonals exactly (valid for NN interpolation)"
   ]
  },
  {
   "cell_type": "code",
   "execution_count": null,
   "id": "7c82ed2e-cace-499d-b589-8714d166f151",
   "metadata": {},
   "outputs": [],
   "source": [
    "compute_hess_diag = False\n",
    "\n",
    "if compute_hess_diag:\n",
    "    batch_sz = 100\n",
    "    n_batch = N // batch_sz\n",
    "    idx_batches = np.array_split(np.arange(N), n_batch)\n",
    "    ones = jnp.ones(x0.shape, dtype=jnp.complex128)\n",
    "\n",
    "    D = np.zeros([nx, nx, nx], dtype=np.complex128)\n",
    "    for idx in idx_batches:\n",
    "        D += hvp_func(x0, ones, idx)\n",
    "\n",
    "    D = jnp.array(D / n_batch)"
   ]
  },
  {
   "cell_type": "code",
   "execution_count": null,
   "id": "98e2de26-2e9b-4e07-bd8d-313bc427a6c8",
   "metadata": {},
   "outputs": [],
   "source": [
    "if compute_hess_diag:\n",
    "    plt.imshow(jnp.fft.fftshift(jnp.abs(D0[0, :, :])))\n",
    "    plt.colorbar()\n",
    "    print(jnp.min(jnp.abs(D)))\n",
    "    print(jnp.max(jnp.abs(D)))\n",
    "    print(jnp.max(jnp.abs(D)) / jnp.min(jnp.abs(D)))"
   ]
  },
  {
   "cell_type": "code",
   "execution_count": null,
   "id": "4162f6ba-b215-415b-9f06-48bd1a08e970",
   "metadata": {},
   "outputs": [],
   "source": [
    "if compute_hess_diag:\n",
    "    err1 = jnp.max(jnp.abs(D - D0) / jnp.max(jnp.abs(D)))\n",
    "    print(f\"Error D = {err1}\")"
   ]
  },
  {
   "cell_type": "markdown",
   "id": "a298b250-f953-4497-beb9-cc6906e3cb81",
   "metadata": {},
   "source": [
    "#### Sanity check that the Hessian is indeed diagonal for NN interpolation and that I'm computing it correctly"
   ]
  },
  {
   "cell_type": "code",
   "execution_count": null,
   "id": "660db5c2-2800-4fbd-acc9-c82230ed07df",
   "metadata": {},
   "outputs": [],
   "source": [
    "if interp_method == \"nn\":\n",
    "    ei = jnp.zeros([nx, nx, nx], dtype=jnp.complex128)\n",
    "    ei = ei.at[0, 2, 1].set(1)\n",
    "    hvp = hvp_func(x0, ei, np.array([23, 1, 0, 6]))\n",
    "    plt.imshow(jnp.fft.fftshift(jnp.abs(hvp[0, :, :])))\n",
    "    plt.colorbar()\n",
    "\n",
    "    print(\"Checking\")\n",
    "    assert jnp.abs(hvp[0, 2, 1] - jnp.sum(hvp)) == 0"
   ]
  },
  {
   "cell_type": "code",
   "execution_count": null,
   "id": "db7393d3-a05e-4e50-8b79-574874843351",
   "metadata": {},
   "outputs": [],
   "source": [
    "if interp_method == \"nn\":\n",
    "    ones = jnp.ones(x0.shape, dtype=jnp.complex128)\n",
    "    hvp_diag = hvp_func(x0, ones, np.array([23, 1, 0, 6]))  # , 2345, 10000]))\n",
    "    plt.imshow(jnp.fft.fftshift(jnp.abs(hvp_diag[0, :, :])))\n",
    "    plt.colorbar()\n",
    "    print(\"Checking\")\n",
    "    assert jnp.abs(hvp[0, 2, 1] - hvp_diag[0, 2, 1]) == 0"
   ]
  },
  {
   "cell_type": "markdown",
   "id": "2f896627-88fe-4735-8d8a-c9b6283d150e",
   "metadata": {},
   "source": [
    "### Some plots for the slides/writeup"
   ]
  },
  {
   "cell_type": "code",
   "execution_count": null,
   "id": "31e04816-e746-40fa-9a41-e4036d8edbf6",
   "metadata": {},
   "outputs": [],
   "source": [
    "how_many = 5\n",
    "if interp_method == \"nn\":\n",
    "    ones = jnp.ones(x0.shape, dtype=jnp.complex128)\n",
    "    hvp_diag = hvp_func(x0, ones, np.random.randint(N, size=how_many))"
   ]
  },
  {
   "cell_type": "code",
   "execution_count": null,
   "id": "08c7ddfa-9371-4672-a3e3-3b45a333406f",
   "metadata": {},
   "outputs": [],
   "source": [
    "savefig = False"
   ]
  },
  {
   "cell_type": "code",
   "execution_count": null,
   "id": "7f243266-ddf3-4077-bfca-6bc11f0ff6a6",
   "metadata": {},
   "outputs": [],
   "source": [
    "if interp_method == \"nn\":\n",
    "    plt.rcParams[\"figure.figsize\"] = 6, 6\n",
    "\n",
    "    fig = plt.figure()\n",
    "    ax = fig.add_subplot(111)\n",
    "    im = ax.imshow(jnp.fft.fftshift(jnp.abs(hvp_diag[0, :, :])))\n",
    "    # plt.title(\"Diagonal of $H$ for $N=5$\", fontsize=22)\n",
    "    fig.subplots_adjust(right=0.8)\n",
    "    cbar_ax = fig.add_axes([0.85, 0.15, 0.05, 0.7])\n",
    "    fig.colorbar(im, cax=cbar_ax)\n",
    "    plt.xticks(fontsize=14)\n",
    "    plt.yticks(fontsize=14)\n",
    "\n",
    "    if savefig:\n",
    "        plt.savefig(\n",
    "            f\"preconditioner_{interp_method}_N{how_many}.eps\", bbox_inches=\"tight\"\n",
    "        )"
   ]
  },
  {
   "cell_type": "code",
   "execution_count": null,
   "id": "09774d4d-1738-4d22-89be-be4264d0249e",
   "metadata": {},
   "outputs": [],
   "source": [
    "if interp_method == \"nn\":\n",
    "    plt.rcParams[\"figure.figsize\"] = 6, 6\n",
    "\n",
    "    fig = plt.figure()\n",
    "    ax = fig.add_subplot(111)\n",
    "    im = ax.imshow(jnp.fft.fftshift(jnp.abs(D[0, :, :])))\n",
    "    # plt.title(\"Diagonal of $H$ for $N=5$\", fontsize=22)\n",
    "    fig.subplots_adjust(right=0.8)\n",
    "    cbar_ax = fig.add_axes([0.85, 0.15, 0.05, 0.7])\n",
    "    fig.colorbar(im, cax=cbar_ax)\n",
    "    plt.xticks(fontsize=14)\n",
    "    plt.yticks(fontsize=14)\n",
    "\n",
    "    if savefig:\n",
    "        plt.savefig(f\"preconditioner_{interp_method}_N{N}.eps\", bbox_inches=\"tight\")"
   ]
  },
  {
   "cell_type": "code",
   "execution_count": null,
   "id": "d7e8878a-2d38-4045-bbe5-c532f967f97e",
   "metadata": {},
   "outputs": [],
   "source": [
    "plt.imshow(jnp.fft.fftshift(jnp.abs(v_lbfgs[0])))\n",
    "plt.clim([0, 4000])\n",
    "plt.colorbar()\n",
    "# plt.colorbar()"
   ]
  },
  {
   "cell_type": "code",
   "execution_count": null,
   "id": "53051a51-1849-4fe8-af45-fdfd058a0e68",
   "metadata": {},
   "outputs": [],
   "source": [
    "v_lbfgs_slice = jnp.fft.fftshift(jnp.abs(v_lbfgs[0]))\n",
    "hvp_diag_slice = jnp.fft.fftshift(jnp.abs(hvp_diag[0, :, :]))"
   ]
  },
  {
   "cell_type": "code",
   "execution_count": null,
   "id": "bf02ee1c-98ed-46aa-aec5-4f9c69031a45",
   "metadata": {},
   "outputs": [],
   "source": [
    "plt.imshow(v_lbfgs_slice)\n",
    "plt.colorbar()\n",
    "plt.clim([0, 4000])\n",
    "plt.title(\"$v$\", fontsize=22)\n",
    "plt.xticks(fontsize=14)\n",
    "plt.yticks(fontsize=14)\n",
    "if savefig:\n",
    "    plt.savefig(\"v_fft.eps\")"
   ]
  },
  {
   "cell_type": "code",
   "execution_count": null,
   "id": "c6845633-1ab6-4629-bb5c-0bbbc0060078",
   "metadata": {},
   "outputs": [],
   "source": [
    "plt.imshow(v_lbfgs_slice * hvp_diag_slice)\n",
    "plt.colorbar()\n",
    "plt.clim(0, 40)\n",
    "plt.title(\"$x_i$\", fontsize=22)\n",
    "plt.xticks(fontsize=14)\n",
    "plt.yticks(fontsize=14)\n",
    "if savefig:\n",
    "    plt.savefig(\"xi_fft.eps\")"
   ]
  },
  {
   "cell_type": "code",
   "execution_count": null,
   "id": "8df8c673-320b-4a0c-8051-58f349f4583c",
   "metadata": {},
   "outputs": [],
   "source": [
    "savefig = False"
   ]
  },
  {
   "cell_type": "markdown",
   "id": "228fae66-46dc-413b-86e0-54fa3d755fcb",
   "metadata": {},
   "source": [
    "### Compute full Hessian (only for small operators)"
   ]
  },
  {
   "cell_type": "code",
   "execution_count": null,
   "id": "915f87e5-5b81-4701-bfdc-9944c81cb8de",
   "metadata": {},
   "outputs": [],
   "source": [
    "compute_full_hessian = False"
   ]
  },
  {
   "cell_type": "code",
   "execution_count": null,
   "id": "4dcfbcbe-7732-4a11-8c2d-dc6e6675c40f",
   "metadata": {},
   "outputs": [],
   "source": [
    "if compute_full_hessian:\n",
    "    print(\"Computing Hessian...\", end=\"\")\n",
    "    H = jax.hessian(lambda x: loss_func(x, np.arange(10)))(jnp.real(x0))\n",
    "    print(\"done.\")\n",
    "    H = H.reshape([nx**3, nx**3])\n",
    "\n",
    "    print(\"Computing Hessian inverse...\", end=\"\")\n",
    "    Hinv = jnp.linalg.inv(H)\n",
    "    print(\"done.\")"
   ]
  },
  {
   "cell_type": "code",
   "execution_count": null,
   "id": "e6a4f304-b9db-4cb6-8822-ee57b6d2bc35",
   "metadata": {},
   "outputs": [],
   "source": [
    "if compute_full_hessian:\n",
    "    plt.rcParams[\"figure.figsize\"] = 24, 24\n",
    "\n",
    "    plt.imshow((jnp.abs(Hinv)))\n",
    "    plt.colorbar()"
   ]
  },
  {
   "cell_type": "code",
   "execution_count": null,
   "id": "d8b92824-de21-4f1f-a65e-1338e5bac6c9",
   "metadata": {},
   "outputs": [],
   "source": [
    "if compute_full_hessian:\n",
    "    plt.imshow((H[: nx * 3, : nx * 3]))\n",
    "    plt.colorbar()"
   ]
  },
  {
   "cell_type": "code",
   "execution_count": null,
   "id": "efa78ab6-f093-407f-a98a-9952296954cb",
   "metadata": {},
   "outputs": [],
   "source": [
    "if compute_full_hessian:\n",
    "    plt.rcParams[\"figure.figsize\"] = 12, 12\n",
    "\n",
    "    plt.imshow((Hlog[nx**2 : 2 * nx**2, nx**2 : 2 * nx**2]))\n",
    "    plt.colorbar()\n",
    "\n",
    "    plt.rcParams[\"figure.figsize\"] = 6, 6"
   ]
  },
  {
   "cell_type": "code",
   "execution_count": null,
   "id": "eacf4cd1-4dce-4647-ace5-3391242b4a8d",
   "metadata": {},
   "outputs": [],
   "source": [
    "if compute_full_hessian:\n",
    "    plt.rcParams[\"figure.figsize\"] = 12, 12\n",
    "\n",
    "    plt.imshow((Hlog[: 2 * nx, : nx * 2]))\n",
    "    plt.colorbar()\n",
    "    # plt.imshow((Hki)); #plt.colorbar()\n",
    "\n",
    "    plt.rcParams[\"figure.figsize\"] = 6, 6"
   ]
  },
  {
   "cell_type": "markdown",
   "id": "3b176399-55c1-4bda-a79b-13d509477c4d",
   "metadata": {},
   "source": [
    "### A full dataset loss and grad function, and pixel-wise versions too"
   ]
  },
  {
   "cell_type": "code",
   "execution_count": 23,
   "id": "850e728c-aab7-44b9-b365-2e9892707b49",
   "metadata": {},
   "outputs": [],
   "source": [
    "def loss_full_func(x, idx_arg):\n",
    "    idx_batches = np.array_split(idx_arg, 20)\n",
    "\n",
    "    loss = 0\n",
    "    n = 0\n",
    "    for idx in idx_batches:\n",
    "        loss += loss_func(x, idx)\n",
    "        n += 1\n",
    "    loss = loss / n\n",
    "    return loss\n",
    "\n",
    "\n",
    "def grad_full_func(x, idx_arg):\n",
    "    idx_batches = np.array_split(idx_arg, 20)\n",
    "\n",
    "    grad = np.zeros(x0.shape)\n",
    "    n = 0\n",
    "    for idx in idx_batches:\n",
    "        grad += grad_func(x, idx)\n",
    "        n += 1\n",
    "    grad = grad / n\n",
    "    return grad\n",
    "\n",
    "\n",
    "def loss_full_px_func(x, idx_arg):\n",
    "    idx_batches = np.array_split(idx_arg, 20)\n",
    "\n",
    "    loss = np.zeros((nx * nx,))\n",
    "    n = 0\n",
    "    for idx in idx_batches:\n",
    "        loss += loss_px_func(x, idx)\n",
    "        n += 1\n",
    "    loss = loss / n\n",
    "    return loss"
   ]
  },
  {
   "cell_type": "markdown",
   "id": "ca55fc2c-5d62-490b-af7a-df17faab3744",
   "metadata": {},
   "source": [
    "### Inititial points"
   ]
  },
  {
   "cell_type": "code",
   "execution_count": 24,
   "id": "b1f37217-ff9f-4a09-952f-1faea3fe29ed",
   "metadata": {},
   "outputs": [
    {
     "name": "stdout",
     "output_type": "stream",
     "text": [
      "[[[-0.37767704-0.82574715j  0.56289944-1.94969685j]\n",
      "  [-0.7794795 -1.39959255j -0.18751101-0.50461654j]]\n",
      "\n",
      " [[-0.28829522+0.87826051j  0.22657018-0.1993285j ]\n",
      "  [ 0.459454  +0.70868103j -0.38079872+0.73749644j]]]\n",
      "PRNGKey = [  0 101]\n"
     ]
    }
   ],
   "source": [
    "# Use a fixed seed and the same size (e.g. 320) every time we generate x01 and x02\n",
    "# and only then crop to the intended size, to ensure that we always generate the same starting\n",
    "# points no matter the dimensions.\n",
    "\n",
    "key = random.PRNGKey(64)\n",
    "key, subkey = random.split(key)\n",
    "\n",
    "x0 = random.normal(subkey, [320, 320, 320], dtype=jnp.complex128)\n",
    "\n",
    "x0 = x0[:nx, :nx, :nx]\n",
    "\n",
    "key_alg = random.PRNGKey(101)\n",
    "\n",
    "print(x0[:2, :2, :2])\n",
    "print(f\"PRNGKey = {key_alg}\")"
   ]
  },
  {
   "cell_type": "markdown",
   "id": "d2c7d253-4b79-4ec4-a196-a7221cac9229",
   "metadata": {},
   "source": [
    "### Common parameters for all runs"
   ]
  },
  {
   "cell_type": "code",
   "execution_count": 27,
   "id": "c27169e1-2f1f-4eb1-9a84-da0637843109",
   "metadata": {},
   "outputs": [
    {
     "name": "stdout",
     "output_type": "stream",
     "text": [
      "5.2323147760569277e-05\n"
     ]
    }
   ],
   "source": [
    "N_epochs = 50\n",
    "batch_size = 200\n",
    "iter_display = 5\n",
    "\n",
    "\n",
    "# Step size for the `sgd` function\n",
    "eta_sgd = 1\n",
    "\n",
    "# Initial step size for the `precon_sgd` function\n",
    "eta_precon_sgd = 10\n",
    "\n",
    "# Constant that determines the strength of the Armijo condition\n",
    "c = 0.99\n",
    "\n",
    "# Preconditioner\n",
    "if load_precon:\n",
    "    D0 = D0_loaded\n",
    "\n",
    "# Weight used in the exponential average when estimating the preconditioner\n",
    "beta = 0.9 * np.ones(x0.shape)\n",
    "\n",
    "# Thershold for the preconditioner\n",
    "# We take this to be the 1/(N points in the largest Fourier shell)\n",
    "_, _, shell_pts = calc_fsc(D0, D0, [1, D0.shape[0]])\n",
    "alpha = 1 / jnp.max(shell_pts)\n",
    "print(alpha)\n",
    "D0hat = jnp.maximum(jnp.abs(D0), alpha)\n",
    "\n",
    "# Directory to save all the iterates for further analysis\n",
    "iterates_file_root = f\"{out_dir}/iterates_{interp_method}/\""
   ]
  },
  {
   "cell_type": "markdown",
   "id": "bb04967e-8e55-453b-b1c8-56d78c801047",
   "metadata": {},
   "source": [
    "## Comparison of algorithms"
   ]
  },
  {
   "cell_type": "markdown",
   "id": "88047d6f-804d-43c7-9377-2a9f6816c606",
   "metadata": {},
   "source": [
    "### 1. SGD: no preconditioning"
   ]
  },
  {
   "cell_type": "code",
   "execution_count": 28,
   "id": "c6070e22-f729-431f-966d-bec1fe905820",
   "metadata": {},
   "outputs": [
    {
     "name": "stdout",
     "output_type": "stream",
     "text": [
      "Epoch 1/50 "
     ]
    },
    {
     "name": "stderr",
     "output_type": "stream",
     "text": [
      "100%|██████████████████████████████████| 22/22 [00:03<00:00,  6.73it/s, eta=1.000e+00, grad=2.142e+01, loss=3.163e+08]\n"
     ]
    },
    {
     "name": "stdout",
     "output_type": "stream",
     "text": [
      "  |Grad| = 2.594e+01\n",
      "  Loss = 3.15953567e+08\n",
      "  eta = 1.0\n",
      "  alpha = 1e-10\n",
      "Epoch 6/50 "
     ]
    },
    {
     "name": "stderr",
     "output_type": "stream",
     "text": [
      "100%|██████████████████████████████████| 22/22 [00:00<00:00, 63.73it/s, eta=1.000e+00, grad=1.883e+01, loss=3.093e+08]\n"
     ]
    },
    {
     "name": "stdout",
     "output_type": "stream",
     "text": [
      "  |Grad| = 1.562e+01\n",
      "  Loss = 3.06749880e+08\n",
      "  eta = 1.0\n",
      "  alpha = 1e-10\n",
      "Epoch 11/50 "
     ]
    },
    {
     "name": "stderr",
     "output_type": "stream",
     "text": [
      "100%|██████████████████████████████████| 22/22 [00:00<00:00, 63.17it/s, eta=1.000e+00, grad=1.746e+01, loss=3.029e+08]\n"
     ]
    },
    {
     "name": "stdout",
     "output_type": "stream",
     "text": [
      "  |Grad| = 1.553e+01\n",
      "  Loss = 3.04983707e+08\n",
      "  eta = 1.0\n",
      "  alpha = 1e-10\n",
      "Epoch 16/50 "
     ]
    },
    {
     "name": "stderr",
     "output_type": "stream",
     "text": [
      "100%|██████████████████████████████████| 22/22 [00:00<00:00, 67.00it/s, eta=1.000e+00, grad=1.671e+01, loss=3.044e+08]\n"
     ]
    },
    {
     "name": "stdout",
     "output_type": "stream",
     "text": [
      "  |Grad| = 1.617e+01\n",
      "  Loss = 3.04162452e+08\n",
      "  eta = 1.0\n",
      "  alpha = 1e-10\n",
      "Epoch 21/50 "
     ]
    },
    {
     "name": "stderr",
     "output_type": "stream",
     "text": [
      "100%|██████████████████████████████████| 22/22 [00:00<00:00, 65.63it/s, eta=1.000e+00, grad=1.492e+01, loss=2.970e+08]\n"
     ]
    },
    {
     "name": "stdout",
     "output_type": "stream",
     "text": [
      "  |Grad| = 1.575e+01\n",
      "  Loss = 3.03700837e+08\n",
      "  eta = 1.0\n",
      "  alpha = 1e-10\n",
      "Epoch 26/50 "
     ]
    },
    {
     "name": "stderr",
     "output_type": "stream",
     "text": [
      "100%|██████████████████████████████████| 22/22 [00:00<00:00, 67.09it/s, eta=1.000e+00, grad=1.364e+01, loss=3.075e+08]\n"
     ]
    },
    {
     "name": "stdout",
     "output_type": "stream",
     "text": [
      "  |Grad| = 1.535e+01\n",
      "  Loss = 3.03420482e+08\n",
      "  eta = 1.0\n",
      "  alpha = 1e-10\n",
      "Epoch 31/50 "
     ]
    },
    {
     "name": "stderr",
     "output_type": "stream",
     "text": [
      "100%|██████████████████████████████████| 22/22 [00:00<00:00, 64.38it/s, eta=1.000e+00, grad=1.541e+01, loss=3.064e+08]\n"
     ]
    },
    {
     "name": "stdout",
     "output_type": "stream",
     "text": [
      "  |Grad| = 1.519e+01\n",
      "  Loss = 3.03241884e+08\n",
      "  eta = 1.0\n",
      "  alpha = 1e-10\n",
      "Epoch 36/50 "
     ]
    },
    {
     "name": "stderr",
     "output_type": "stream",
     "text": [
      "100%|██████████████████████████████████| 22/22 [00:00<00:00, 69.32it/s, eta=1.000e+00, grad=1.891e+01, loss=3.031e+08]\n"
     ]
    },
    {
     "name": "stdout",
     "output_type": "stream",
     "text": [
      "  |Grad| = 1.553e+01\n",
      "  Loss = 3.03124130e+08\n",
      "  eta = 1.0\n",
      "  alpha = 1e-10\n",
      "Epoch 41/50 "
     ]
    },
    {
     "name": "stderr",
     "output_type": "stream",
     "text": [
      "100%|██████████████████████████████████| 22/22 [00:00<00:00, 65.21it/s, eta=1.000e+00, grad=1.788e+01, loss=3.014e+08]\n"
     ]
    },
    {
     "name": "stdout",
     "output_type": "stream",
     "text": [
      "  |Grad| = 1.556e+01\n",
      "  Loss = 3.03044090e+08\n",
      "  eta = 1.0\n",
      "  alpha = 1e-10\n",
      "Epoch 46/50 "
     ]
    },
    {
     "name": "stderr",
     "output_type": "stream",
     "text": [
      "100%|██████████████████████████████████| 22/22 [00:00<00:00, 68.80it/s, eta=1.000e+00, grad=1.364e+01, loss=2.973e+08]\n"
     ]
    },
    {
     "name": "stdout",
     "output_type": "stream",
     "text": [
      "  |Grad| = 1.545e+01\n",
      "  Loss = 3.02988294e+08\n",
      "  eta = 1.0\n",
      "  alpha = 1e-10\n",
      "Total time:  21.95 seconds\n"
     ]
    }
   ],
   "source": [
    "t0 = time.time()\n",
    "\n",
    "v_np, loss_np, grad_np, iterates_np, step_sizes_np = sgd(\n",
    "    key_alg,\n",
    "    grad_func,\n",
    "    loss_func,\n",
    "    N,\n",
    "    x0,\n",
    "    eta_sgd,\n",
    "    N_epochs,\n",
    "    batch_size,\n",
    "    adaptive_step_size=True,\n",
    "    c=c,\n",
    "    verbose=True,\n",
    "    iter_display=iter_display,\n",
    ")\n",
    "\n",
    "print(f\"Total time: {time.time()-t0 : .2f} seconds\")"
   ]
  },
  {
   "cell_type": "code",
   "execution_count": 42,
   "id": "d0d7877c-3a1a-424e-bc9d-0f23b9101cbc",
   "metadata": {},
   "outputs": [
    {
     "data": {
      "text/plain": [
       "<matplotlib.colorbar.Colorbar at 0x7fd688201110>"
      ]
     },
     "execution_count": 42,
     "metadata": {},
     "output_type": "execute_result"
    },
    {
     "data": {
      "image/png": "[encoded data removed]",
      "text/plain": [
       "<Figure size 600x600 with 2 Axes>"
      ]
     },
     "metadata": {},
     "output_type": "display_data"
    }
   ],
   "source": [
    "v_np_l, _ = rescale_larger_grid(v_np, x_grid, nx0)\n",
    "vr_np = jnp.real(jnp.fft.fftshift(jnp.fft.ifftn(v_np_l)))\n",
    "\n",
    "mip_z(vr_np)\n",
    "plt.colorbar()"
   ]
  },
  {
   "cell_type": "code",
   "execution_count": 43,
   "id": "a0325d33-3bad-4dd6-b232-5a09b31ae225",
   "metadata": {},
   "outputs": [
    {
     "data": {
      "text/plain": [
       "<matplotlib.colorbar.Colorbar at 0x7fd6882b7350>"
      ]
     },
     "execution_count": 43,
     "metadata": {},
     "output_type": "execute_result"
    },
    {
     "data": {
      "image/png": "[encoded data removed]",
      "text/plain": [
       "<Figure size 600x600 with 2 Axes>"
      ]
     },
     "metadata": {},
     "output_type": "display_data"
    }
   ],
   "source": [
    "vr_np = jnp.real(jnp.fft.fftshift(jnp.fft.ifftn(v_np)))\n",
    "\n",
    "mip_x(vr_np)\n",
    "plt.colorbar()"
   ]
  },
  {
   "cell_type": "code",
   "execution_count": null,
   "id": "b799a8fe-ff5c-4821-b2a3-805e002cb15a",
   "metadata": {},
   "outputs": [],
   "source": [
    "with mrcfile.new(f\"{out_dir}/v_np_sgd_nx0.mrc\", overwrite=True) as mrc:\n",
    "    mrc.set_data(vr_np.astype(np.float32))\n",
    "\n",
    "vr_np_nx = jnp.real(jnp.fft.fftshift(jnp.fft.ifftn(v_np)))\n",
    "\n",
    "with mrcfile.new(f\"{out_dir}/v_np_sgd_nx.mrc\", overwrite=True) as mrc:\n",
    "    mrc.set_data(vr_np_nx.astype(np.float32))"
   ]
  },
  {
   "cell_type": "code",
   "execution_count": null,
   "id": "4d41ab91-f201-413e-afb7-740995905a05",
   "metadata": {},
   "outputs": [],
   "source": [
    "# or load\n",
    "load_rec = False\n",
    "\n",
    "if load_rec:\n",
    "    with mrcfile.open(f\"{out_dir}/v_np_nx.mrc\") as mrc:\n",
    "        vr_sgd_loaded = mrc.data\n",
    "\n",
    "    v_np_loaded = jnp.fft.fftn(jnp.fft.fftshift((vr_np_loaded)))"
   ]
  },
  {
   "cell_type": "code",
   "execution_count": null,
   "id": "ce5d41c3-633e-46f8-bc68-fedffd243a15",
   "metadata": {},
   "outputs": [],
   "source": [
    "plt.rcParams[\"figure.figsize\"] = 6, 6\n",
    "\n",
    "# mip_z(np.fft.fftshift(np.abs(v_rec)))\n",
    "plt.imshow(jnp.max(np.fft.fftshift(np.abs(v_np)), axis=2))\n",
    "\n",
    "plt.colorbar()"
   ]
  },
  {
   "cell_type": "code",
   "execution_count": null,
   "id": "b8158fe5-f912-4045-b6c2-7d86bae0782e",
   "metadata": {},
   "outputs": [],
   "source": [
    "save_iterates = False\n",
    "\n",
    "if save_iterates:\n",
    "    jnp.save(f\"{iterates_file_root}/iterates_np.npy\", iterates_np)\n",
    "    jnp.save(f\"{iterates_file_root}/iterates_np_loss.npy\", loss_np)\n",
    "    jnp.save(f\"{iterates_file_root}/step_sizes_np.npy\", step_sizes_np)"
   ]
  },
  {
   "cell_type": "code",
   "execution_count": null,
   "id": "d61d7265-831b-441e-b17f-6f1750dc12de",
   "metadata": {},
   "outputs": [],
   "source": [
    "load_iterates = True\n",
    "\n",
    "if load_iterates:\n",
    "    #iterates_np = np.load(f\"{iterates_file_root}/iterates_np.npy\")\n",
    "    loss_np = jnp.load(f\"{iterates_file_root}/iterates_np_loss.npy\")\n",
    "    step_sizes_np = jnp.load(f\"{iterates_file_root}/step_sizes_np.npy\")"
   ]
  },
  {
   "cell_type": "code",
   "execution_count": null,
   "id": "0e35293a-5ac4-4838-a3ee-e6966b91e5a2",
   "metadata": {},
   "outputs": [],
   "source": [
    "plt.semilogy(loss_np, \"r\")"
   ]
  },
  {
   "cell_type": "code",
   "execution_count": null,
   "id": "ad968f84-571a-4a17-8cf0-c2cb6f079060",
   "metadata": {},
   "outputs": [],
   "source": [
    "plt.semilogy(step_sizes_np)"
   ]
  },
  {
   "cell_type": "markdown",
   "id": "92994eb8-42eb-4953-bb5b-ba4aedf3519b",
   "metadata": {},
   "source": [
    "### 2a. SGD: precomputed preconditioner (no thresholding) + adaptive line search"
   ]
  },
  {
   "cell_type": "code",
   "execution_count": null,
   "id": "995a4168-67ef-4bd9-9166-252d53898f34",
   "metadata": {},
   "outputs": [],
   "source": [
    "t0 = time.time()\n",
    "\n",
    "(\n",
    "    v_pp_nothresh,\n",
    "    loss_pp_nothresh,\n",
    "    grad_pp_nothresh,\n",
    "    iterates_pp_nothresh,\n",
    "    step_sizes_nothresh,\n",
    ") = sgd(\n",
    "    key_alg,\n",
    "    grad_func,\n",
    "    loss_func,\n",
    "    N,\n",
    "    x0,\n",
    "    eta_sgd,\n",
    "    N_epochs,\n",
    "    batch_size,\n",
    "    D0=D0,\n",
    "    adaptive_step_size=True,\n",
    "    c=c,\n",
    "    verbose=True,\n",
    "    iter_display=iter_display,\n",
    ")  \n",
    "\n",
    "print(f\"Total time: {time.time()-t0 : .2f} seconds\")"
   ]
  },
  {
   "cell_type": "code",
   "execution_count": null,
   "id": "50cd7c9c-f7b8-4f29-a968-519046b89028",
   "metadata": {},
   "outputs": [],
   "source": [
    "save_iterates = False\n",
    "\n",
    "if save_iterates:\n",
    "    jnp.save(f\"{iterates_file_root}/iterates_pp_nothresh.npy\", iterates_pp_nothresh)\n",
    "    jnp.save(f\"{iterates_file_root}/iterates_pp_nothresh_loss.npy\", loss_pp_nothresh)\n",
    "    jnp.save(f\"{iterates_file_root}/step_sizes_pp_nothresh.npy\", step_sizes_nothresh)"
   ]
  },
  {
   "cell_type": "code",
   "execution_count": null,
   "id": "516f82a4-b495-4794-b065-34e397bd8053",
   "metadata": {},
   "outputs": [],
   "source": [
    "load_iterates = True\n",
    "\n",
    "if load_iterates:\n",
    "    #iterates_pp_nothresh = np.load(f\"{iterates_file_root}/iterates_pp_nothresh.npy\")\n",
    "    loss_pp_nothresh = jnp.load(f\"{iterates_file_root}/iterates_pp_nothresh_loss.npy\")\n",
    "    step_sizes_pp_nothresh = jnp.load(f\"{iterates_file_root}/step_sizes_pp_nothresh.npy\")"
   ]
  },
  {
   "cell_type": "code",
   "execution_count": null,
   "id": "43b42876-26ab-40a5-b908-e85d167e0c45",
   "metadata": {},
   "outputs": [],
   "source": [
    "plt.semilogy(loss_np)\n",
    "plt.semilogy(loss_pp_nothresh)"
   ]
  },
  {
   "cell_type": "code",
   "execution_count": null,
   "id": "65a28f04-2a7d-4c45-b14b-3def75a1e050",
   "metadata": {},
   "outputs": [],
   "source": [
    "plt.semilogy(step_sizes_pp_nothresh)"
   ]
  },
  {
   "cell_type": "markdown",
   "id": "403fbcd2-4bbe-4c64-a4ac-9f20fdc8de25",
   "metadata": {},
   "source": [
    "### 2b. SGD: precomputed preconditioner (with thresholding) + adaptive line search"
   ]
  },
  {
   "cell_type": "code",
   "execution_count": null,
   "id": "5390e614-6933-44d7-ab9f-bede4342de53",
   "metadata": {},
   "outputs": [],
   "source": [
    "print(jnp.min(jnp.abs(1 / D0)))\n",
    "print(jnp.min(jnp.abs(1 / D0hat)))\n",
    "\n",
    "print(jnp.max(jnp.abs(1 / D0)))\n",
    "print(jnp.max(jnp.abs(1 / D0hat)))"
   ]
  },
  {
   "cell_type": "code",
   "execution_count": null,
   "id": "ea716aef-ddef-483b-89c8-e85cf46f1a5c",
   "metadata": {},
   "outputs": [],
   "source": [
    "print(jnp.min(jnp.abs(D0)))\n",
    "print(jnp.max(jnp.abs(D0)))"
   ]
  },
  {
   "cell_type": "code",
   "execution_count": null,
   "id": "abf1d497-cd61-44f2-ba3b-8d9b22fe5b7c",
   "metadata": {},
   "outputs": [],
   "source": [
    "t0 = time.time()\n",
    "\n",
    "(\n",
    "    v_pp,\n",
    "    loss_pp,\n",
    "    grad_pp,\n",
    "    iterates_pp,\n",
    "    step_sizes_pp,\n",
    ") = sgd(\n",
    "    key_alg,\n",
    "    grad_func,\n",
    "    loss_func,\n",
    "    N,\n",
    "    x0,\n",
    "    eta_sgd,\n",
    "    N_epochs,\n",
    "    batch_size,\n",
    "    D0=D0,\n",
    "    adaptive_step_size=True,\n",
    "    c=c,\n",
    "    verbose=True,\n",
    "    iter_display=iter_display,\n",
    "    alpha=alpha,\n",
    ")\n",
    "\n",
    "print(f\"Total time: {time.time()-t0 : .2f} seconds\")"
   ]
  },
  {
   "cell_type": "code",
   "execution_count": null,
   "id": "438d3e9a-17e9-407d-9b70-9e99af924e1b",
   "metadata": {},
   "outputs": [],
   "source": [
    "v_pp_l, _ = rescale_larger_grid(v_pp, x_grid, nx0)\n",
    "vr_pp = jnp.real(jnp.fft.fftshift(jnp.fft.ifftn(v_pp_l)))\n",
    "\n",
    "mip_z(vr_pp)\n",
    "plt.colorbar()"
   ]
  },
  {
   "cell_type": "code",
   "execution_count": null,
   "id": "dfd7cc2d-69f5-4eb9-a388-28d4cec6b1b8",
   "metadata": {},
   "outputs": [],
   "source": [
    "with mrcfile.new(f\"{out_dir}/v_rec_pp_nx0.mrc\", overwrite=True) as mrc:\n",
    "    mrc.set_data(vr_pp.astype(np.float32))\n",
    "\n",
    "vr_pp_nx = jnp.real(jnp.fft.fftshift(jnp.fft.ifftn(v_pp)))\n",
    "\n",
    "with mrcfile.new(f\"{out_dir}/v_pp_nx.mrc\", overwrite=True) as mrc:\n",
    "    mrc.set_data(vr_pp_nx.astype(np.float32))"
   ]
  },
  {
   "cell_type": "code",
   "execution_count": null,
   "id": "e9617145-6e1e-4c18-9108-51a0d8e0775e",
   "metadata": {},
   "outputs": [],
   "source": [
    "# or load\n",
    "load_rec = False\n",
    "\n",
    "if load_rec:\n",
    "    with mrcfile.open(f\"{out_dir}/v_pp_nx.mrc\") as mrc:\n",
    "        vr_pp_loaded = mrc.data\n",
    "\n",
    "    v_pp_loaded = jnp.fft.fftn(jnp.fft.fftshift((vr_pp_loaded)))\n",
    "\n",
    "    vrerr = jnp.abs(v_pp_ - v_pp_loaded)\n",
    "    print(jnp.max(vrerr) / jnp.max(jnp.abs(v_pp)))\n",
    "    print(jnp.mean(vrerr) / jnp.max(jnp.abs(v_pp)))"
   ]
  },
  {
   "cell_type": "code",
   "execution_count": null,
   "id": "1a915297-3363-4fed-8aff-b88efe053a10",
   "metadata": {},
   "outputs": [],
   "source": [
    "save_iterates = False\n",
    "\n",
    "if save_iterates:\n",
    "    jnp.save(f\"{iterates_file_root}/iterates_pp.npy\", iterates_pp)\n",
    "    jnp.save(f\"{iterates_file_root}/iterates_pp_loss.npy\", loss_pp)\n",
    "    jnp.save(f\"{iterates_file_root}/step_sizes_pp.npy\", step_sizes_pp)"
   ]
  },
  {
   "cell_type": "code",
   "execution_count": null,
   "id": "cb3cf21d-66ae-4e27-bbf6-1c3f274bc646",
   "metadata": {},
   "outputs": [],
   "source": [
    "load_iterates = True\n",
    "\n",
    "if load_iterates:\n",
    "    #iterates_pp = np.load(f\"{iterates_file_root}/iterates_pp.npy\")\n",
    "    loss_pp = jnp.load(f\"{iterates_file_root}/iterates_pp_loss.npy\")\n",
    "    step_sizes_pp = jnp.load(f\"{iterates_file_root}/step_sizes_pp.npy\")"
   ]
  },
  {
   "cell_type": "code",
   "execution_count": null,
   "id": "13422057-2b4a-433f-ac43-4b701c68e542",
   "metadata": {},
   "outputs": [],
   "source": [
    "plt.semilogy(step_sizes_pp)"
   ]
  },
  {
   "cell_type": "code",
   "execution_count": null,
   "id": "a94836fc-39b2-4dd8-ac26-e3053e504504",
   "metadata": {},
   "outputs": [],
   "source": [
    "plt.semilogy(loss_np)\n",
    "plt.semilogy(loss_pp_nothresh)\n",
    "plt.semilogy(loss_pp)"
   ]
  },
  {
   "cell_type": "markdown",
   "id": "d3551b74-7e5a-4bb8-9ee6-fc7d8d3d9ef4",
   "metadata": {},
   "source": [
    "### 3a. SGD: estimated preconditioner (Algorithm 1)"
   ]
  },
  {
   "cell_type": "code",
   "execution_count": null,
   "id": "6055f427-df06-4576-8e1b-e765965c5c69",
   "metadata": {},
   "outputs": [],
   "source": [
    "t0 = time.time()\n",
    "\n",
    "v_ep, loss_ep, iterates_ep, step_sizes_ep = precon_sgd(\n",
    "    key_alg,\n",
    "    loss_func,\n",
    "    grad_func,\n",
    "    hvp_func,\n",
    "    x0,\n",
    "    eta_precon_sgd,\n",
    "    jnp.ones(x0.shape),\n",
    "    beta,\n",
    "    alpha,\n",
    "    N_epochs,\n",
    "    batch_size=batch_size,\n",
    "    N=N,\n",
    "    adaptive_step_size=True,\n",
    "    c=c,\n",
    "    iter_display=iter_display,\n",
    ")\n",
    "\n",
    "print(f\"Total time: {time.time()-t0 : .2f} seconds\")"
   ]
  },
  {
   "cell_type": "code",
   "execution_count": null,
   "id": "58f6e9d9-0a4a-4be8-95f0-d043923365fe",
   "metadata": {},
   "outputs": [],
   "source": [
    "plt.imshow(jnp.max(np.fft.fftshift(np.abs(v_ep)), axis=1))\n",
    "plt.colorbar()"
   ]
  },
  {
   "cell_type": "code",
   "execution_count": null,
   "id": "53f8a282-f99b-4dba-baed-1123ad61ee4f",
   "metadata": {},
   "outputs": [],
   "source": [
    "v_ep_l, _ = rescale_larger_grid(v_ep, x_grid, nx0)\n",
    "vr_ep = jnp.real(jnp.fft.fftshift(jnp.fft.ifftn(v_ep_l)))\n",
    "\n",
    "mip_z(vr_ep)\n",
    "plt.colorbar()"
   ]
  },
  {
   "cell_type": "code",
   "execution_count": null,
   "id": "40c97134-50ef-454a-89f2-17819da65dd1",
   "metadata": {},
   "outputs": [],
   "source": [
    "with mrcfile.new(f\"{out_dir}/v_ep_nx0.mrc\", overwrite=True) as mrc:\n",
    "    mrc.set_data(vr_ep.astype(np.float32))\n",
    "\n",
    "vr_ep_nx = jnp.real(jnp.fft.fftshift(jnp.fft.ifftn(v_ep)))\n",
    "\n",
    "with mrcfile.new(f\"{out_dir}/v_ep_nx.mrc\", overwrite=True) as mrc:\n",
    "    mrc.set_data(vr_ep_nx.astype(np.float32))"
   ]
  },
  {
   "cell_type": "code",
   "execution_count": null,
   "id": "64a23b88-ba6d-4404-a32a-decf592c9c46",
   "metadata": {},
   "outputs": [],
   "source": [
    "# or load\n",
    "load_rec = False\n",
    "\n",
    "if load_rec:\n",
    "    with mrcfile.open(f\"{out_dir}/v_ep_nx.mrc\") as mrc:\n",
    "        vr_ep_loaded = mrc.data\n",
    "\n",
    "    v_ep_loaded = jnp.fft.fftn(jnp.fft.fftshift((vr_ep_loaded)))"
   ]
  },
  {
   "cell_type": "code",
   "execution_count": null,
   "id": "b4938231-696d-4252-94ba-4e89367a5623",
   "metadata": {},
   "outputs": [],
   "source": [
    "save_iterates = False\n",
    "\n",
    "if save_iterates:\n",
    "    jnp.save(f\"{iterates_file_root}/iterates_ep.npy\", iterates_ep)\n",
    "    jnp.save(f\"{iterates_file_root}/iterates_ep_loss.npy\", loss_ep)\n",
    "    jnp.save(f\"{iterates_file_root}/step_sizes_ep.npy\", step_sizes_ep)"
   ]
  },
  {
   "cell_type": "code",
   "execution_count": null,
   "id": "5c3063ea-ab8b-497c-8521-8cab3b644965",
   "metadata": {},
   "outputs": [],
   "source": [
    "load_iterates = True\n",
    "\n",
    "if load_iterates:\n",
    "    #iterates_ep = np.load(f\"{iterates_file_root}/iterates_ep.npy\")\n",
    "    loss_ep = jnp.load(f\"{iterates_file_root}/iterates_ep_loss.npy\")\n",
    "    step_sizes_ep = jnp.load(f\"{iterates_file_root}/step_sizes_ep.npy\")"
   ]
  },
  {
   "cell_type": "code",
   "execution_count": null,
   "id": "0d0404e8-3e3c-467c-8de8-ea0ebd217839",
   "metadata": {},
   "outputs": [],
   "source": [
    "plt.semilogy(step_sizes_ep)"
   ]
  },
  {
   "cell_type": "code",
   "execution_count": null,
   "id": "2fdaa9d1-deda-4359-8bed-6d7cac2d767e",
   "metadata": {},
   "outputs": [],
   "source": [
    "plt.semilogy(loss_ep)"
   ]
  },
  {
   "cell_type": "code",
   "execution_count": null,
   "id": "8e48d7b6-2ef7-4847-9966-55012a91cd0f",
   "metadata": {},
   "outputs": [],
   "source": [
    "plt.semilogy(step_sizes_ep)"
   ]
  },
  {
   "cell_type": "code",
   "execution_count": null,
   "id": "0b904572-3ecf-4acb-880f-af1942ef50db",
   "metadata": {},
   "outputs": [],
   "source": [
    "plt.semilogy(loss_np)\n",
    "plt.semilogy(loss_pp)\n",
    "plt.semilogy(loss_ep)\n",
    "\n",
    "plt.legend([\"SGD\", \"SGD precomputed precon\", \"SGD estimated precon\"])"
   ]
  },
  {
   "cell_type": "markdown",
   "id": "4b21dcea-aaca-4897-91ea-afc615d4b8e0",
   "metadata": {},
   "source": [
    "### 3b. SGD: estimated preconditioner, no thresholding"
   ]
  },
  {
   "cell_type": "code",
   "execution_count": null,
   "id": "bc40b657-310a-4ec6-8470-0af9ddb062c5",
   "metadata": {},
   "outputs": [],
   "source": [
    "t0 = time.time()\n",
    "\n",
    "alpha_nothresh = 1e-10\n",
    "\n",
    "v_ep_nothresh, loss_ep_nothresh, iterates_ep_nothresh, step_sizes_ep_nothresh = precon_sgd(\n",
    "    key_alg,\n",
    "    loss_func,\n",
    "    grad_func,\n",
    "    hvp_func,\n",
    "    x0,\n",
    "    eta_precon_sgd,\n",
    "    jnp.ones(x0.shape),\n",
    "    beta,\n",
    "    alpha_nothresh,\n",
    "    N_epochs,\n",
    "    batch_size=batch_size,\n",
    "    N=N,\n",
    "    adaptive_step_size=True,\n",
    "    c=c,\n",
    "    iter_display=iter_display,\n",
    ")\n",
    "\n",
    "print(f\"Total time: {time.time()-t0 : .2f} seconds\")"
   ]
  },
  {
   "cell_type": "code",
   "execution_count": null,
   "id": "5fb1815b-9a36-428f-a9fb-ec39c6fa531a",
   "metadata": {},
   "outputs": [],
   "source": [
    "save_iterates = False\n",
    "\n",
    "if save_iterates:\n",
    "    jnp.save(f\"{iterates_file_root}/iterates_ep_nothresh.npy\", iterates_ep_nothresh)\n",
    "    jnp.save(f\"{iterates_file_root}/iterates_ep_nothresh_loss.npy\", loss_ep_nothresh)\n",
    "    jnp.save(f\"{iterates_file_root}/step_sizes_ep_nothresh.npy\", step_sizes_ep_nothresh)"
   ]
  },
  {
   "cell_type": "code",
   "execution_count": null,
   "id": "8aae3737-087c-4822-8454-51466e146728",
   "metadata": {},
   "outputs": [],
   "source": [
    "load_iterates = True\n",
    "\n",
    "if load_iterates:\n",
    "    #iterates_ep_nothresh = np.load(f\"{iterates_file_root}/iterates_ep_nothresh.npy\")\n",
    "    loss_ep_nothresh = jnp.load(f\"{iterates_file_root}/iterates_ep_nothresh_loss.npy\")\n",
    "    step_sizes_ep_nothresh = jnp.load(f\"{iterates_file_root}/step_sizes_ep_nothresh.npy\")"
   ]
  },
  {
   "cell_type": "code",
   "execution_count": null,
   "id": "9453a4fc-03e7-4292-8ed0-ae1c3f86cb06",
   "metadata": {},
   "outputs": [],
   "source": [
    "plt.semilogy(loss_np)\n",
    "plt.semilogy(loss_pp)\n",
    "plt.semilogy(loss_ep)\n",
    "plt.semilogy(loss_ep_nothresh)\n",
    "\n",
    "plt.legend([\"SGD\", \"SGD precomputed precon\", \"SGD estimated precon\", \"SGD estimated precon (no thresh)\"])"
   ]
  },
  {
   "cell_type": "markdown",
   "id": "e864d786-1b11-4440-b530-214627454ff1",
   "metadata": {},
   "source": [
    "### OASIS adaptive as in the original paper"
   ]
  },
  {
   "cell_type": "code",
   "execution_count": null,
   "id": "e7aecba3-d6c8-497a-ad7a-0f2f4d1806bd",
   "metadata": {},
   "outputs": [],
   "source": [
    "t0 = time.time()\n",
    "\n",
    "v_oa, loss_oa = oasis_adaptive(\n",
    "    key_alg,\n",
    "    loss_func,\n",
    "    grad_func,\n",
    "    hvp_func,\n",
    "    x0,\n",
    "    eta_precon_sgd,\n",
    "    jnp.ones(x0.shape),\n",
    "    beta,\n",
    "    alpha,\n",
    "    N_epochs,\n",
    "    batch_size=batch_size,\n",
    "    N=N,\n",
    "    iter_display=iter_display,\n",
    ")\n",
    "\n",
    "print(f\"Total time: {time.time()-t0 : .2f} seconds\")"
   ]
  },
  {
   "cell_type": "code",
   "execution_count": null,
   "id": "3ddc7354-0934-4350-aafb-ed4ca5bdf4c7",
   "metadata": {},
   "outputs": [],
   "source": [
    "plt.semilogy(loss_np)\n",
    "plt.semilogy(loss_pp)\n",
    "plt.semilogy(loss_ep)\n",
    "plt.semilogy(loss_oa)\n",
    "plt.semilogy(loss_lbfgs * jnp.ones(loss_rec.shape))\n",
    "#plt.legend([\"sgd\", \"sgd+pp\", \"sgd+ep\", \"oasis original\", \"l-bfgs\"])\n",
    "plt.title(\"Loss\")"
   ]
  },
  {
   "cell_type": "code",
   "execution_count": null,
   "id": "94a89013-01ce-42d4-a23b-5e7a24e3e008",
   "metadata": {},
   "outputs": [],
   "source": [
    "v_oal, _ = rescale_larger_grid(v_oa, x_grid, nx0)\n",
    "vr_oa = jnp.real(jnp.fft.fftshift(jnp.fft.ifftn(v_oal)))\n",
    "\n",
    "mip_z(vr_oa)\n",
    "plt.colorbar()"
   ]
  },
  {
   "cell_type": "markdown",
   "id": "ff39ed53-e392-4fef-8dde-e11b6108050a",
   "metadata": {},
   "source": [
    "### L-BFGS"
   ]
  },
  {
   "cell_type": "code",
   "execution_count": null,
   "id": "b0695c79-0ebc-4382-a03b-fd8ff311bfd5",
   "metadata": {},
   "outputs": [],
   "source": [
    "batch_size = 1000\n",
    "N_batch = N / batch_size\n",
    "idx_batches = np.array_split(np.arange(N), N_batch)\n",
    "\n",
    "\n",
    "# @jax.jit\n",
    "def loss_full_func_lbfgs(x):\n",
    "    t0 = time.time()\n",
    "    print(\"loss_full_func_lbfgs called \", end=\"\")\n",
    "    loss = 0\n",
    "    grad = np.zeros(x0.shape)\n",
    "    n = 0\n",
    "    for idx in idx_batches:\n",
    "        loss += loss_func(x, idx)\n",
    "        grad += grad_func(x, idx)\n",
    "        n += 1\n",
    "\n",
    "    loss = loss / n\n",
    "    grad = grad / n\n",
    "\n",
    "    # loss_full = jnp.mean(jnp.array(loss_b), axis = 0)\n",
    "    # grad_full = jnp.mean(jnp.array(grad_b), axis = 0)\n",
    "\n",
    "    tt = time.time() - t0\n",
    "    print(f\"{tt} seconds\")\n",
    "    return loss, jnp.conj(grad)"
   ]
  },
  {
   "cell_type": "code",
   "execution_count": null,
   "id": "ea69d2cc-0b5e-42f5-9cc1-bbb70a255bdb",
   "metadata": {},
   "outputs": [],
   "source": [
    "cpu_device = jax.devices('cpu')[0]\n",
    "\n",
    "loss_full_func_lbfgs_cpu = jax.jit(loss_full_func_lbfgs, device=cpu_device)"
   ]
  },
  {
   "cell_type": "code",
   "execution_count": null,
   "id": "d2e0ad6c-32ae-4b3a-b34f-3b4b7be738f6",
   "metadata": {},
   "outputs": [],
   "source": [
    "t0 = time.time()\n",
    "r1, r2 = loss_full_func_lbfgs_cpu(x0)\n",
    "t1 = time.time() - t0\n",
    "\n",
    "print(t1)"
   ]
  },
  {
   "cell_type": "code",
   "execution_count": null,
   "id": "4ecc4862",
   "metadata": {},
   "outputs": [],
   "source": [
    "N_iters = 250"
   ]
  },
  {
   "cell_type": "markdown",
   "id": "7382c235-aab2-4050-bcbd-626a509419e7",
   "metadata": {},
   "source": [
    "So this is working with fixed stepsize, but with linesearch it doesn't (zoom hangs and backtracking returns an errour about mixing float with complex). \n",
    "\n",
    "To run this, need to use the CPU to not run out of memory."
   ]
  },
  {
   "cell_type": "code",
   "execution_count": null,
   "id": "ac0b56be-0056-4544-ba18-e532e3eb5c88",
   "metadata": {},
   "outputs": [],
   "source": [
    "with jax.default_device(jax.devices('cpu')[0]):\n",
    "\n",
    "    lbfgs = LBFGS(\n",
    "        loss_full_func_lbfgs_cpu,\n",
    "        value_and_grad=True,\n",
    "        stepsize=0.5,\n",
    "        maxiter=N_iters,\n",
    "        verbose=True,\n",
    "    )\n",
    "    # lbfgs = LBFGS(loss_full_func, value_and_grad = True, linesearch = 'backtracking', maxiter = N_iters, unroll = False, jit = False, verbose = True)\n",
    "    # lbfgs = LBFGS(loss_full_func, value_and_grad = True, maxls = 4, linesearch = 'zoom', condition='wolfe', maxiter = N_iters, verbose = True)\n",
    "\n",
    "t0 = time.time()\n",
    "sol = lbfgs.run(x0)\n",
    "t1 = time.time() - t0\n",
    "print(t1)"
   ]
  },
  {
   "cell_type": "code",
   "execution_count": null,
   "id": "50372472-f8c5-4df6-aec4-e332caee8603",
   "metadata": {},
   "outputs": [],
   "source": [
    "v_lbfgs = sol.params\n",
    "# loss_bfgs = loss_func(v_lbfgs, jnp.arange(N))\n",
    "#loss_bfgs, _ = loss_full_func(v_lbfgs, jnp.arange(N))\n",
    "loss_lbfgs, _ = loss_full_func_lbfgs(v_lbfgs)\n",
    "print(loss_bfgs)"
   ]
  },
  {
   "cell_type": "code",
   "execution_count": null,
   "id": "5486d73a-bbac-4ec5-87fb-6f5f47e42ae1",
   "metadata": {},
   "outputs": [],
   "source": [
    "mip_z(np.fft.fftshift(np.abs(v_lbfgs)))\n",
    "plt.colorbar()"
   ]
  },
  {
   "cell_type": "code",
   "execution_count": null,
   "id": "ca748548-522c-443e-a778-0fe00ab1d2df",
   "metadata": {},
   "outputs": [],
   "source": [
    "v_lbfgs_l, _ = rescale_larger_grid(v_lbfgs, x_grid, nx0)\n",
    "vr_lbfgs = jnp.real(jnp.fft.fftshift(jnp.fft.ifftn(v_lbfgs_l)))\n",
    "\n",
    "mip_z(vr_lbfgs)\n",
    "plt.colorbar()"
   ]
  },
  {
   "cell_type": "code",
   "execution_count": null,
   "id": "27d7cb24-e4ba-40b0-ae05-3a2499e144ad",
   "metadata": {},
   "outputs": [],
   "source": [
    "nnstring = \"\"\n"
   ]
  },
  {
   "cell_type": "code",
   "execution_count": null,
   "id": "2e3d9003-9c8d-4b5d-9b6e-99f7159d528b",
   "metadata": {},
   "outputs": [],
   "source": [
    "# Save two: at the original nx0 (=320) and at the actual computed nx so no accuracy is lost\n",
    "with mrcfile.new(\n",
    "    f\"{out_dir}/v_rec_lbfgs_{nnstring}{N_iters}_nx0.mrc\", overwrite=True\n",
    ") as mrc:\n",
    "    mrc.set_data(vr_lbfgs.astype(np.float32))\n",
    "\n",
    "vr_lbfgs_nx = jnp.real(jnp.fft.fftshift(jnp.fft.ifftn(v_lbfgs)))\n",
    "# vr_lbfgs_nx = jnp.fft.ifftn(v_lbfgs)\n",
    "\n",
    "with mrcfile.new(f\"{out_dir}/v_rec_lbfgs_{nnstring}{N_iters}_nx.mrc\", overwrite=True) as mrc:\n",
    "    mrc.set_data(vr_lbfgs_nx.astype(np.float32))"
   ]
  },
  {
   "cell_type": "code",
   "execution_count": null,
   "id": "d1499675-9507-46ce-b920-25f3ec9206e4",
   "metadata": {},
   "outputs": [],
   "source": [
    "v_lbfgs_nx = jnp.fft.fftn(jnp.fft.ifftshift(vr_lbfgs_nx))"
   ]
  },
  {
   "cell_type": "code",
   "execution_count": null,
   "id": "56ffb41d-e30a-490c-94dc-7689c10b0eff",
   "metadata": {},
   "outputs": [],
   "source": [
    "# Load\n",
    "# nnstring = \"nn_\"\n",
    "nnstring = \"\"\n",
    "N_iters = 750\n",
    "\n",
    "with mrcfile.open(f\"{out_dir}//v_rec_lbfgs_{nnstring}{N_iters}_nx.mrc\") as mrc:\n",
    "    vr_lbfgs_loaded = mrc.data\n",
    "\n",
    "v_lbfgs_loaded = jnp.fft.fftn(jnp.fft.fftshift((vr_lbfgs_loaded)))\n",
    "\n",
    "vr_lbfgs = vr_lbfgs_loaded\n",
    "v_lbfgs = v_lbfgs_loaded"
   ]
  },
  {
   "cell_type": "code",
   "execution_count": null,
   "id": "cbad7df3-55e7-4587-88b6-3f4b3b358f8f",
   "metadata": {},
   "outputs": [],
   "source": [
    "mip_z(vr_lbfgs_loaded)\n",
    "plt.colorbar()"
   ]
  },
  {
   "cell_type": "code",
   "execution_count": null,
   "id": "8da00051-bd07-4204-add8-b43cca01f10f",
   "metadata": {},
   "outputs": [],
   "source": [
    "vrerr = jnp.abs(v_lbfgs - v_lbfgs_loaded)\n",
    "print(jnp.max(vrerr) / jnp.max(jnp.abs(v_lbfgs)))\n",
    "print(jnp.mean(vrerr) / jnp.max(jnp.abs(v_lbfgs)))"
   ]
  },
  {
   "cell_type": "code",
   "execution_count": null,
   "id": "ecc1cdfb-3c62-45fb-97ea-c81af8d82c2d",
   "metadata": {},
   "outputs": [],
   "source": [
    "loss_lbfgs = loss_full_func(v_lbfgs, jnp.arange(N))\n",
    "# loss_bfgs_loaded = loss_full_func(v_lbfgs_loaded, jnp.arange(N))\n",
    "\n",
    "print(loss_lbfgs)\n",
    "# print(loss_lbfgs_loaded)"
   ]
  },
  {
   "cell_type": "markdown",
   "id": "e9b1853c-fbef-47ec-b939-1c78dd7c3afd",
   "metadata": {},
   "source": [
    "## TODO: rerun LBFGS with better params. Check after a few iterations if good"
   ]
  },
  {
   "cell_type": "code",
   "execution_count": null,
   "id": "a8efb9ca-2f57-4980-a92f-19c14a73eb9e",
   "metadata": {},
   "outputs": [],
   "source": [
    "plt.semilogy(loss_np)\n",
    "plt.semilogy(loss_pp)\n",
    "plt.semilogy(loss_ep)\n",
    "plt.semilogy(loss_ep_nothresh)\n",
    "plt.semilogy(loss_bfgs * jnp.ones(loss_np.shape))\n",
    "plt.legend([\"sgd\", \"sgd+pp\", \"sgd+ep\", \"sgd+ep (no thresh)\", \"l-bfgs\"])\n",
    "plt.title(\"Loss\")"
   ]
  },
  {
   "cell_type": "markdown",
   "id": "4a38ed8b-c8f2-4666-8dcd-a00c523fae1b",
   "metadata": {},
   "source": [
    "## Diagnostics\n"
   ]
  },
  {
   "cell_type": "markdown",
   "id": "75601825-8c8c-4e91-8848-f70a724dac10",
   "metadata": {},
   "source": [
    "#### First: the loss and the step size"
   ]
  },
  {
   "cell_type": "code",
   "execution_count": null,
   "id": "9f37cb2e-7e75-4286-91c6-b5381a189585",
   "metadata": {},
   "outputs": [],
   "source": [
    "plt.rcParams[\"figure.figsize\"] = 12, 6\n",
    "\n",
    "plt.subplot(121)\n",
    "plt.semilogy(loss_rec)\n",
    "plt.semilogy(loss_p_rec1000)\n",
    "plt.semilogy(loss_o)\n",
    "plt.semilogy(loss_o_nothresh)\n",
    "plt.semilogy(loss_lbfgs * jnp.ones(loss_rec.shape))\n",
    "plt.legend([\"sgd\", \"sgd+p\", \"oasis\", \"oasis no thresh\", \"l-bfgs\"])\n",
    "plt.title(\"Loss\")\n",
    "\n",
    "plt.subplot(122)\n",
    "plt.semilogy(step_sizes_rec)\n",
    "plt.semilogy(step_sizes1000)\n",
    "plt.semilogy(step_sizes_o)\n",
    "plt.semilogy(step_sizes_o_nothresh)\n",
    "plt.legend([\"sgd\", \"sgd+p\", \"oasis\", \"oasis no threshold\"])\n",
    "plt.title(\"Step size\")\n",
    "\n",
    "plt.rcParams[\"figure.figsize\"] = 6, 6"
   ]
  },
  {
   "cell_type": "markdown",
   "id": "276de827-d051-438a-bdc2-dd398f3e2732",
   "metadata": {},
   "source": [
    "#### Sanity check: recompute the losses using the individual iterates to make sure they agree with what the algorithm outputs"
   ]
  },
  {
   "cell_type": "code",
   "execution_count": null,
   "id": "9aa3cfa0-82f1-4652-b9a4-09eba8d9682a",
   "metadata": {},
   "outputs": [],
   "source": [
    "loss_rec_post = []\n",
    "for i, vv in enumerate(iterates_rec):\n",
    "    print(f\"Iter {i}  \", end=\"\")\n",
    "    t0 = time.time()\n",
    "    loss_rec_post.append(loss_full_func(vv, jnp.arange(N)))\n",
    "    t1 = time.time() - t0\n",
    "    print(t1)"
   ]
  },
  {
   "cell_type": "code",
   "execution_count": null,
   "id": "6ceb2f88-f2d2-484f-bdfa-58f097d82fdf",
   "metadata": {},
   "outputs": [],
   "source": [
    "plt.plot(loss_rec_post[1:])"
   ]
  },
  {
   "cell_type": "code",
   "execution_count": null,
   "id": "fcfb3710-5956-43a0-b11e-30c1160cfc00",
   "metadata": {},
   "outputs": [],
   "source": [
    "loss_p_rec1000_post = []\n",
    "for i, vv in enumerate(iterates_p_rec1000):\n",
    "    print(f\"Iter {i}  \", end=\"\")\n",
    "    t0 = time.time()\n",
    "    loss_p_rec1000_post.append(loss_full_func(vv, jnp.arange(N)))\n",
    "    t1 = time.time() - t0\n",
    "    print(t1)"
   ]
  },
  {
   "cell_type": "code",
   "execution_count": null,
   "id": "84c44916-f11e-4eb2-96b1-69f57845cf69",
   "metadata": {},
   "outputs": [],
   "source": [
    "loss_p_rec5000_post = []\n",
    "for i, vv in enumerate(iterates_p_rec5000):\n",
    "    print(f\"Iter {i}  \", end=\"\")\n",
    "    t0 = time.time()\n",
    "    loss_p_rec5000_post.append(loss_full_func(vv, jnp.arange(N)))\n",
    "    t1 = time.time() - t0\n",
    "    print(t1)"
   ]
  },
  {
   "cell_type": "code",
   "execution_count": null,
   "id": "eeb6aaf7-84c0-470d-9b39-bd8e76c9f2c1",
   "metadata": {},
   "outputs": [],
   "source": [
    "plt.plot(loss_rec_post[1:])\n",
    "plt.plot(loss_p_rec1000_post[1:])\n",
    "plt.plot(loss_p_rec2000_post[1:])\n",
    "plt.plot(loss_p_rec5000_post[1:])\n",
    "plt.legend([\"sgd\", \"sgd+p 1000\", \"sgd+p 2000\", \"sgd+p 5000\"])"
   ]
  },
  {
   "cell_type": "markdown",
   "id": "b79e770a-c44f-428d-a204-6437e7314ed8",
   "metadata": {},
   "source": [
    "### The pixel-wise data loss doesn't seem to tell us much. "
   ]
  },
  {
   "cell_type": "code",
   "execution_count": null,
   "id": "b4f09cca-2050-4fb1-a89c-e2f9c21ad975",
   "metadata": {},
   "outputs": [],
   "source": [
    "loss_rec_px = []\n",
    "for i, vv in enumerate(iterates_rec):\n",
    "    print(f\"Iter {i}  \", end=\"\")\n",
    "    t0 = time.time()\n",
    "    loss_rec_px.append(loss_full_px_func(vv, jnp.arange(N)).reshape((nx, nx)))\n",
    "    t1 = time.time() - t0\n",
    "    print(t1)"
   ]
  },
  {
   "cell_type": "code",
   "execution_count": null,
   "id": "7cea29bb-b816-4deb-b9f3-1b2927da6d96",
   "metadata": {},
   "outputs": [],
   "source": [
    "plt.imshow(jnp.sqrt(jnp.fft.fftshift(loss_rec_px[-1])))\n",
    "plt.colorbar()"
   ]
  },
  {
   "cell_type": "code",
   "execution_count": null,
   "id": "9fe20b5d-c696-424b-bbe0-ccce4b3ce07b",
   "metadata": {},
   "outputs": [],
   "source": [
    "loss_p_rec1000_px = []\n",
    "for i, vv in enumerate(iterates_p_rec1000):\n",
    "    print(f\"Iter {i}  \", end=\"\")\n",
    "    t0 = time.time()\n",
    "    loss_p_rec1000_px.append(loss_full_px_func(vv, jnp.arange(N)).reshape((nx, nx)))\n",
    "    t1 = time.time() - t0\n",
    "    print(t1)"
   ]
  },
  {
   "cell_type": "code",
   "execution_count": null,
   "id": "2fc4ce94-51bb-4f70-be4c-00f04409fde5",
   "metadata": {},
   "outputs": [],
   "source": [
    "loss_p_rec2000_px = []\n",
    "for i, vv in enumerate(iterates_p_rec2000):\n",
    "    print(f\"Iter {i}  \", end=\"\")\n",
    "    t0 = time.time()\n",
    "    loss_p_rec2000_px.append(loss_full_px_func(vv, jnp.arange(N)).reshape((nx, nx)))\n",
    "    t1 = time.time() - t0\n",
    "    print(t1)"
   ]
  },
  {
   "cell_type": "code",
   "execution_count": null,
   "id": "1477aa96-dbe2-49c4-84f6-2136c37ccd78",
   "metadata": {},
   "outputs": [],
   "source": [
    "loss_p_rec5000_px = []\n",
    "for i, vv in enumerate(iterates_p_rec5000):\n",
    "    print(f\"Iter {i}  \", end=\"\")\n",
    "    t0 = time.time()\n",
    "    loss_p_rec5000_px.append(loss_full_px_func(vv, jnp.arange(N)).reshape((nx, nx)))\n",
    "    t1 = time.time() - t0\n",
    "    print(t1)"
   ]
  },
  {
   "cell_type": "code",
   "execution_count": null,
   "id": "f7c00816-cf40-40c2-b682-00d745d45205",
   "metadata": {},
   "outputs": [],
   "source": [
    "loss_lbfgs_px = loss_full_px_func(v_lbfgs, jnp.arange(N)).reshape((nx, nx))"
   ]
  },
  {
   "cell_type": "code",
   "execution_count": null,
   "id": "28304bc4-b655-4cf0-8eed-ea693aefa2d3",
   "metadata": {},
   "outputs": [],
   "source": [
    "plt.imshow(jnp.sqrt(jnp.fft.fftshift(loss_lbfgs_px)))\n",
    "plt.colorbar()"
   ]
  },
  {
   "cell_type": "markdown",
   "id": "cab81f62-b563-40c3-9bb8-8f0f3f802831",
   "metadata": {},
   "source": [
    "### The full mean of these losses agrees with the overall loss"
   ]
  },
  {
   "cell_type": "code",
   "execution_count": null,
   "id": "54527130-76e3-4cf3-8f94-88c84374f005",
   "metadata": {},
   "outputs": [],
   "source": [
    "llrec = [jnp.mean(li) for li in loss_rec_px]\n",
    "llrec_p_1000 = [jnp.mean(li) for li in loss_p_rec1000_px]\n",
    "llrec_p_2000 = [jnp.mean(li) for li in loss_p_rec2000_px]\n",
    "llrec_p_5000 = [jnp.mean(li) for li in loss_p_rec5000_px]\n",
    "llbfgs = jnp.mean(loss_lbfgs_px)"
   ]
  },
  {
   "cell_type": "code",
   "execution_count": null,
   "id": "edba58b4-18ff-4c12-953e-6264288312e7",
   "metadata": {},
   "outputs": [],
   "source": [
    "plt.subplot(121)\n",
    "plt.semilogy(loss_rec)\n",
    "plt.semilogy(loss_p_rec1000)\n",
    "plt.semilogy(loss_p_rec2000)\n",
    "plt.semilogy(loss_p_rec5000)\n",
    "plt.semilogy([loss_lbfgs] * 10)\n",
    "plt.legend([\"sgd\", \"sgd+p 1000\", \"sgd+p 2000\", \"sgd+p 5000\", \"lbfgs final\"])\n",
    "plt.title(\"Full loss\")\n",
    "\n",
    "plt.subplot(122)\n",
    "plt.semilogy(llrec[1:])\n",
    "plt.semilogy(llrec_p_1000[1:])\n",
    "plt.semilogy(llrec_p_2000[1:])\n",
    "plt.semilogy(llrec_p_5000[1:])\n",
    "plt.semilogy([llbfgs] * 10)\n",
    "plt.legend([\"sgd\", \"sgd+p 1000\", \"sgd+p 2000\", \"sgd+p 5000\", \"lbfgs final\"])\n",
    "plt.title(\"Averaged pixel-wise loss (it excludes the regularization term)\")"
   ]
  },
  {
   "cell_type": "markdown",
   "id": "bb542e2d-85e4-4d86-871d-bb6063e7f052",
   "metadata": {},
   "source": [
    "### But the shell-averaged data losses are useless"
   ]
  },
  {
   "cell_type": "code",
   "execution_count": null,
   "id": "740214e7-30f4-4bac-889c-b9e2f08d67b9",
   "metadata": {},
   "outputs": [],
   "source": [
    "avloss_rec = [average_shells_2D(loss_rec_px[ii], x_grid) for ii in range(11)]\n",
    "avloss_rec_p_1000 = [\n",
    "    average_shells_2D(loss_p_rec1000_px[ii], x_grid) for ii in range(11)\n",
    "]\n",
    "avloss_rec_p_2000 = [\n",
    "    average_shells_2D(loss_p_rec2000_px[ii], x_grid) for ii in range(11)\n",
    "]\n",
    "avloss_rec_p_5000 = [\n",
    "    average_shells_2D(loss_p_rec5000_px[ii], x_grid) for ii in range(11)\n",
    "]"
   ]
  },
  {
   "cell_type": "code",
   "execution_count": null,
   "id": "a0440593-0472-49f4-99e6-d2e9e69d829c",
   "metadata": {},
   "outputs": [],
   "source": [
    "# The radially averaged losses are useless though\n",
    "\n",
    "idx = 10\n",
    "plt.semilogy(avloss_rec[idx])\n",
    "plt.semilogy(avloss_rec_p_1000[idx])\n",
    "plt.semilogy(avloss_rec_p_2000[idx])\n",
    "plt.semilogy(avloss_rec_p_5000[idx])\n",
    "\n",
    "plt.legend([\"sgd\", \"sgd+p 1000\", \"sgd+p 2000\", \"sgd+p 5000\"])"
   ]
  },
  {
   "cell_type": "markdown",
   "id": "e6145a60-86b2-4f76-b1bc-c5dad6ddede5",
   "metadata": {},
   "source": [
    "### Error and FSC (with the L-BFGS solution) in shells"
   ]
  },
  {
   "cell_type": "code",
   "execution_count": null,
   "id": "e440dd2c-a7f1-4945-88ee-3e5398870a3c",
   "metadata": {},
   "outputs": [],
   "source": [
    "def err_px(v1, v2):\n",
    "    err = 1 / 2 * jnp.real(jnp.conj(v1 - v2) * (v1 - v2))\n",
    "    res, avg_err, n_pts, max_err, median_err = average_shells(err, x_grid)\n",
    "\n",
    "    return jnp.array([avg_err, max_err, median_err])\n",
    "\n",
    "\n",
    "err_px_iterates = jax.vmap(lambda vv: err_px(v_lbfgs, vv), in_axes=0, out_axes=1)\n",
    "fsc_iterates = jax.vmap(\n",
    "    lambda vv: calc_fsc(v_lbfgs, vv, [1, nx_crop]), in_axes=0, out_axes=1\n",
    ")"
   ]
  },
  {
   "cell_type": "code",
   "execution_count": null,
   "id": "9c2f203b-241e-46e6-a992-24c10b0842b8",
   "metadata": {},
   "outputs": [],
   "source": [
    "averr_rec, maxerr_rec, mederr_rec = err_px_iterates(jnp.array(iterates_rec))\n",
    "averr_rec_p_1000, maxerr_rec_p_1000, mederr_rec_p_1000 = err_px_iterates(\n",
    "    jnp.array(iterates_p_rec1000)\n",
    ")\n",
    "averr_rec_o, maxerr_rec_o, mederr_rec_o = err_px_iterates(jnp.array(iterates_o))\n",
    "averr_rec_o_nothresh, maxerr_rec_o_nothresh, mederr_rec_o_nothresh = err_px_iterates(\n",
    "    jnp.array(iterates_o_nothresh)\n",
    ")\n",
    "\n",
    "print(averr_rec.shape)\n",
    "print(maxerr_rec.shape)\n",
    "print(mederr_rec.shape)"
   ]
  },
  {
   "cell_type": "code",
   "execution_count": null,
   "id": "33594f27-e33d-4eb7-a332-7841060cc3ef",
   "metadata": {},
   "outputs": [],
   "source": [
    "averr_rec_p_1000_tmp0, maxerr_rec_p_1000_tmp0, mederr_rec_p_1000_tmp0 = err_px_iterates(\n",
    "    jnp.array(iterates_p_rec1000_tmp0)\n",
    ")\n",
    "# averr_rec_o_tmp, maxerr_rec_o_tmp, mederr_rec_o_tmp = err_px_iterates(jnp.array(iterates_o_tmp))"
   ]
  },
  {
   "cell_type": "code",
   "execution_count": null,
   "id": "c183f503-98fa-4269-8092-c0b2dd1dc2be",
   "metadata": {},
   "outputs": [],
   "source": [
    "res, fsc_sgd, shell_pts = fsc_iterates(jnp.array(iterates_rec))\n",
    "res, fsc_sgd_p, shell_pts = fsc_iterates(jnp.array(iterates_p_rec1000))\n",
    "res, fsc_o, shell_pts = fsc_iterates(jnp.array(iterates_o))\n",
    "res, fsc_o_nothresh, shell_pts = fsc_iterates(jnp.array(iterates_o_nothresh))\n",
    "\n",
    "print(fsc_sgd.shape)\n",
    "print(fsc_sgd_p.shape)\n",
    "print(fsc_o.shape)"
   ]
  },
  {
   "cell_type": "code",
   "execution_count": null,
   "id": "885732d7-d36e-47b3-98b5-1e183f0fe4dc",
   "metadata": {},
   "outputs": [],
   "source": [
    "res, fsc_sgd_p_tmp0, shell_pts = fsc_iterates(jnp.array(iterates_p_rec1000_tmp0))\n",
    "# res, fsc_o_tmp, shell_pts = fsc_iterates(jnp.array(iterates_o_tmp))"
   ]
  },
  {
   "cell_type": "code",
   "execution_count": null,
   "id": "79c9825c-a704-4005-97ec-49fe5a9ff04a",
   "metadata": {},
   "outputs": [],
   "source": [
    "idx = 10\n",
    "\n",
    "plt.rcParams[\"figure.figsize\"] = 12, 6\n",
    "\n",
    "plt.subplot(141)\n",
    "plt.semilogy((averr_rec[idx]))\n",
    "plt.semilogy((maxerr_rec[idx]))\n",
    "plt.semilogy((mederr_rec[idx]))\n",
    "plt.legend([\"mean\", \"max\", \"median\"])\n",
    "plt.title(\"sgd no precon\")\n",
    "plt.tight_layout()\n",
    "\n",
    "plt.subplot(142)\n",
    "plt.semilogy((averr_rec_p_1000[idx]))\n",
    "plt.semilogy((maxerr_rec_p_1000[idx]))\n",
    "plt.semilogy((mederr_rec_p_1000[idx]))\n",
    "plt.legend([\"mean\", \"max\", \"median\"])\n",
    "plt.title(\"sgd+p batch 1000\")\n",
    "\n",
    "plt.subplot(143)\n",
    "plt.semilogy((averr_rec_o[idx]))\n",
    "plt.semilogy((maxerr_rec_o[idx]))\n",
    "plt.semilogy((mederr_rec_o[idx]))\n",
    "plt.legend([\"mean\", \"max\", \"median\"])\n",
    "plt.title(\"oasis\")\n",
    "plt.tight_layout()\n",
    "\n",
    "plt.subplot(144)\n",
    "plt.semilogy((averr_rec_o_nothresh[idx]))\n",
    "plt.semilogy((maxerr_rec_o_nothresh[idx]))\n",
    "plt.semilogy((mederr_rec_o_nothresh[idx]))\n",
    "plt.legend([\"mean\", \"max\", \"median\"])\n",
    "plt.title(\"oasis, nothresh\")\n",
    "plt.tight_layout()\n",
    "\n",
    "\n",
    "plt.rcParams[\"figure.figsize\"] = 6, 6"
   ]
  },
  {
   "cell_type": "code",
   "execution_count": null,
   "id": "ac9c6531-89b1-423b-9282-90ba1728de07",
   "metadata": {},
   "outputs": [],
   "source": [
    "averr_rec_p_1000_tmp.shape"
   ]
  },
  {
   "cell_type": "code",
   "execution_count": null,
   "id": "3a565e35-b04a-4bca-8629-7c2306d654f9",
   "metadata": {},
   "outputs": [],
   "source": [
    "plt.rcParams[\"figure.figsize\"] = 12, 6\n",
    "\n",
    "plt.subplot(121)\n",
    "\n",
    "idx = 4\n",
    "plt.semilogy(averr_rec[idx])\n",
    "plt.semilogy(averr_rec_p_1000[idx])\n",
    "plt.semilogy(averr_rec_p_1000_tmp0[idx])\n",
    "plt.semilogy(averr_rec_o[idx])\n",
    "plt.semilogy(averr_rec_o_tmp[idx])\n",
    "plt.semilogy(averr_rec_o_nothresh[idx])\n",
    "plt.semilogy(averr_rec[0])\n",
    "\n",
    "plt.legend(\n",
    "    [\n",
    "        \"sgd\",\n",
    "        \"sgd+p 1000\",\n",
    "        \"sgd+p adap thresh\",\n",
    "        \"oasis\",\n",
    "        \"oasis adap thresh\",\n",
    "        \"oasis nothresh\",\n",
    "        \"random\",\n",
    "    ]\n",
    ")\n",
    "plt.xlabel(\"Frequency shell\")\n",
    "plt.ylabel(\"Error\")\n",
    "plt.title(f\"Error accross shells at epoch {idx+1}/{fsc_sgd.shape[0]}\")\n",
    "\n",
    "plt.subplot(122)\n",
    "\n",
    "idx_shell = 54\n",
    "plt.semilogy(averr_rec[1:, idx_shell])\n",
    "plt.semilogy(averr_rec_p_1000[1:, idx_shell])\n",
    "plt.semilogy(averr_rec_p_1000_tmp0[1:, idx_shell])\n",
    "plt.semilogy(averr_rec_o[1:, idx_shell])\n",
    "plt.semilogy(averr_rec_o_tmp[1:, idx_shell])\n",
    "plt.semilogy(averr_rec_o_nothresh[1:, idx_shell])\n",
    "\n",
    "plt.legend(\n",
    "    [\n",
    "        \"sgd\",\n",
    "        \"sgd+p 1000\",\n",
    "        \"sgd+p adap thresh\",\n",
    "        \"oasis\",\n",
    "        \"oasis adap thresh\",\n",
    "        \"oasis no thresh\",\n",
    "    ]\n",
    ")\n",
    "plt.xlabel(\"Epoch\")\n",
    "plt.ylabel(\"Error\")\n",
    "plt.title(f\"Error accross epochs at frequency shell {idx_shell+1}/{fsc_sgd.shape[1]}\")\n",
    "\n",
    "plt.rcParams[\"figure.figsize\"] = 6, 6"
   ]
  },
  {
   "cell_type": "markdown",
   "id": "90677ab7-b531-483d-b95b-ff2c3f15b70d",
   "metadata": {},
   "source": [
    "#### The resolution in Angs\n",
    "If ``res``, the radius in the Fourier domain, goes from 0 to R, where $R \\approx \\frac{Npixels}{2}$, \n",
    "then ``res_angs(res)``$=\\frac{N0 pixels \\times px0}{res}$,\n",
    "where ``N0pixels``= number of pixels in the original images (here 320) \n",
    "and ``px0`` = pixel size (here 1.33 Angs), \n",
    "so ``res_angs`` goes from ``N0pixels x px0`` to ``N0pixels x px0 x 2 / Npixels``"
   ]
  },
  {
   "cell_type": "code",
   "execution_count": null,
   "id": "c3125107-ac38-48df-bb62-0dac49d30427",
   "metadata": {},
   "outputs": [],
   "source": [
    "res_angs = nx0 * pixel_size[0] / res[0]\n",
    "\n",
    "plt.rcParams[\"figure.figsize\"] = 12, 6\n",
    "\n",
    "plt.subplot(121)\n",
    "\n",
    "idx = 10\n",
    "plt.semilogx(res_angs[1:], fsc_sgd[idx, 1:])\n",
    "plt.semilogx(res_angs[1:], fsc_sgd_p[idx, 1:])\n",
    "plt.semilogx(res_angs[1:], fsc_sgd_p_tmp0[idx, 1:])\n",
    "plt.semilogx(res_angs[1:], fsc_o[idx, 1:])\n",
    "plt.semilogx(res_angs[1:], fsc_o_tmp[idx, 1:])\n",
    "plt.semilogx(res_angs[1:], fsc_o_nothresh[idx, 1:])\n",
    "\n",
    "plt.gca().invert_xaxis()\n",
    "plt.legend(\n",
    "    [\n",
    "        \"sgd\",\n",
    "        \"sgd+p 1000\",\n",
    "        \"sgd+p adap thresh\",\n",
    "        \"oasis\",\n",
    "        \"oasis adap thresh\",\n",
    "        \"oasis nothresh\",\n",
    "    ]\n",
    ")\n",
    "plt.xlabel(\"Resolution (Angs)\")\n",
    "plt.ylabel(\"FSC\")\n",
    "plt.title(f\"FSC accross shells at epoch {idx+1}/{fsc_sgd.shape[0]}\")\n",
    "\n",
    "plt.subplot(122)\n",
    "\n",
    "idx_shell = 54\n",
    "plt.plot(fsc_sgd[1:, idx_shell])\n",
    "plt.plot(fsc_sgd_p[1:, idx_shell])\n",
    "plt.plot(fsc_sgd_p_tmp0[1:, idx_shell])\n",
    "plt.plot(fsc_o[1:, idx_shell])\n",
    "plt.plot(fsc_o_tmp[1:, idx_shell])\n",
    "plt.plot(fsc_o_nothresh[1:, idx_shell])\n",
    "\n",
    "\n",
    "plt.legend(\n",
    "    [\n",
    "        \"sgd\",\n",
    "        \"sgd+p 1000\",\n",
    "        \"sgd+p adap thresh\",\n",
    "        \"oasis\",\n",
    "        \"oasis adap thresh\",\n",
    "        \"oasis nothresh\",\n",
    "    ]\n",
    ")\n",
    "plt.xlabel(\"Epoch\")\n",
    "plt.ylabel(\"FSC\")\n",
    "plt.title(f\"FSC accross epochs at frequency shell {idx_shell+1}/{fsc_sgd.shape[1]}\")\n",
    "\n",
    "plt.rcParams[\"figure.figsize\"] = 6, 6"
   ]
  },
  {
   "cell_type": "markdown",
   "id": "3159d412-5f6f-446b-a837-e072cf551c0b",
   "metadata": {},
   "source": [
    "### FSC heatmap for Fourier shell vs epoch"
   ]
  },
  {
   "cell_type": "code",
   "execution_count": null,
   "id": "8e13585b-91e3-4d21-aada-755789da2ab6",
   "metadata": {},
   "outputs": [],
   "source": [
    "def forceAspect(ax, aspect=1):\n",
    "    im = ax.get_images()\n",
    "    extent = im[0].get_extent()\n",
    "    ax.set_aspect(abs((extent[1] - extent[0]) / (extent[3] - extent[2])) / aspect)\n",
    "\n",
    "\n",
    "plt.rcParams[\"figure.figsize\"] = 18, 6\n",
    "\n",
    "fig = plt.figure()\n",
    "ax = fig.add_subplot(131)\n",
    "ax.imshow(fsc_sgd[1:, 1:], vmin=0, vmax=1)\n",
    "forceAspect(ax)\n",
    "plt.xlabel(\"Fourier shell\")\n",
    "plt.ylabel(\"Epoch\")\n",
    "plt.title(\"SGD\")\n",
    "\n",
    "ax = fig.add_subplot(132)\n",
    "ax.imshow(fsc_sgd_p[1:, 1:], vmin=0, vmax=1)\n",
    "forceAspect(ax)\n",
    "plt.xlabel(\"Fourier shell\")\n",
    "plt.ylabel(\"Epoch\")\n",
    "plt.title(\"SGD+p\")\n",
    "\n",
    "ax = fig.add_subplot(133)\n",
    "im = ax.imshow(fsc_o[1:, 1:], vmin=0, vmax=1)\n",
    "forceAspect(ax)\n",
    "plt.xlabel(\"Fourier shell\")\n",
    "plt.ylabel(\"Epoch\")\n",
    "plt.title(\"OASIS\")\n",
    "\n",
    "fig.subplots_adjust(right=0.8)\n",
    "cbar_ax = fig.add_axes([0.85, 0.15, 0.05, 0.7])\n",
    "fig.colorbar(im, cax=cbar_ax)"
   ]
  },
  {
   "cell_type": "markdown",
   "id": "c3a595c8-e6ad-41f6-b6a6-03d3e036e5a6",
   "metadata": {},
   "source": [
    "#### Also look at the preconditioner"
   ]
  },
  {
   "cell_type": "code",
   "execution_count": null,
   "id": "374948d4-037e-403d-877f-ef2793b5aa56",
   "metadata": {},
   "outputs": [],
   "source": [
    "_, precon_radial_mean, _, precon_radial_max, precon_radial_median = average_shells(\n",
    "    (1 / D0hat), x_grid\n",
    ")\n",
    "_, D0_radial_mean, _, D0_radial_max, D0_radial_median = average_shells(D0hat, x_grid)"
   ]
  },
  {
   "cell_type": "code",
   "execution_count": null,
   "id": "a1339620-9d84-46c4-b633-2a68c3ea899f",
   "metadata": {},
   "outputs": [],
   "source": [
    "plt.rcParams[\"figure.figsize\"] = 12, 6\n",
    "\n",
    "plt.subplot(121)\n",
    "plt.semilogy(D0_radial_mean)\n",
    "plt.semilogy(D0_radial_max)\n",
    "plt.semilogy(D0_radial_median)\n",
    "plt.legend([\"radial mean\", \"radial max\", \"radial median\"])\n",
    "plt.title(\"D0\")\n",
    "\n",
    "plt.subplot(122)\n",
    "plt.semilogy(precon_radial_mean)\n",
    "plt.semilogy(precon_radial_max)\n",
    "plt.semilogy(precon_radial_median)\n",
    "plt.legend([\"radial mean\", \"radial max\", \"radial median\"])\n",
    "plt.title(\"1/D0\")\n",
    "\n",
    "plt.rcParams[\"figure.figsize\"] = 6, 6"
   ]
  },
  {
   "cell_type": "markdown",
   "id": "77ebeb0a-f215-4489-a595-bf2966ff4adb",
   "metadata": {},
   "source": [
    "### The variance of the gradients"
   ]
  },
  {
   "cell_type": "code",
   "execution_count": null,
   "id": "344e45e7-a6a7-4814-86b4-c9c78395da20",
   "metadata": {},
   "outputs": [],
   "source": [
    "key = random.PRNGKey(45)\n",
    "vol = iterates_rec[5]"
   ]
  },
  {
   "cell_type": "code",
   "execution_count": null,
   "id": "2ab15b66-68c5-46cc-a4c4-39295f2d5537",
   "metadata": {},
   "outputs": [],
   "source": [
    "def compute_grad_variance(key, v, batch_size, P=None):\n",
    "    idxs_rand = random.permutation(key, jnp.arange(N))\n",
    "    N_batch = int(N / batch_size)\n",
    "\n",
    "    if P is None:\n",
    "        P = jnp.ones(v.shape)\n",
    "\n",
    "    # Doing this on GPU with JAX takes _extremely_ long to compile.\n",
    "    # DO NOT ATTEMPT !!!\n",
    "    idx_batches = jnp.array(np.array_split(np.array(idxs_rand), N_batch))\n",
    "\n",
    "    grads = []\n",
    "    for idx in tqdm(idx_batches):\n",
    "        grads.append(grad_full_func(v, idx))\n",
    "\n",
    "    grads = P * jnp.array(grads)\n",
    "\n",
    "    mean_grad = jnp.mean(grads, axis=0)\n",
    "    var_grad = jnp.var(grads, axis=0)\n",
    "\n",
    "    return mean_grad, var_grad"
   ]
  },
  {
   "cell_type": "code",
   "execution_count": null,
   "id": "4a92a546-c60f-4099-8f55-43b3fc0a50f5",
   "metadata": {},
   "outputs": [],
   "source": [
    "grad_full = grad_full_func(vol, jnp.arange(N))"
   ]
  },
  {
   "cell_type": "code",
   "execution_count": null,
   "id": "92680c0d-98e1-4475-ad80-022e257611f0",
   "metadata": {},
   "outputs": [],
   "source": [
    "vol = iterates_rec[5]\n",
    "\n",
    "mean_grad_1000, var_grad_1000 = compute_grad_variance(key, vol, 1000)\n",
    "# mean_grad_2000, var_grad_2000 = compute_grad_variance(key, vol, 2000)\n",
    "# mean_grad_5000, var_grad_5000 = compute_grad_variance(key, vol, 5000)\n",
    "\n",
    "# Sanity checks\n",
    "assert jnp.max(jnp.abs(mean_grad_1000 - grad_full)) < 1e-14\n",
    "# assert(jnp.max(jnp.abs(mean_grad_2000 - grad_full)) < 1e-14)\n",
    "# assert(jnp.max(jnp.abs(mean_grad_5000 - grad_full)) < 1e-14)"
   ]
  },
  {
   "cell_type": "code",
   "execution_count": null,
   "id": "d1fbd61d-b8c3-448b-b97b-03fd2363a613",
   "metadata": {},
   "outputs": [],
   "source": [
    "assert jnp.max(jnp.abs(mean_grad_1000 - grad_full)) < 1e-14"
   ]
  },
  {
   "cell_type": "code",
   "execution_count": null,
   "id": "817be7ae-4f01-445d-acd0-010b5a208834",
   "metadata": {},
   "outputs": [],
   "source": [
    "jnp.save(f\"{out_dir}/grad_full.npy\", grad_full)\n",
    "jnp.save(f\"{out_dir}/var_grad_1000.npy\", var_grad_1000)"
   ]
  },
  {
   "cell_type": "code",
   "execution_count": null,
   "id": "5f10b76f-9ae2-4640-b193-1145586fbd34",
   "metadata": {},
   "outputs": [],
   "source": [
    "_, avgrad_full, _, _, _ = average_shells(\n",
    "    jnp.abs(grad_full), x_grid\n",
    ")  # The median computation doesn't like complex numbers\n",
    "_, av_var_grad_1000, _, _, _ = average_shells(var_grad_1000, x_grid)\n",
    "# _, av_var_grad_2000, _, _, _ = average_shells(var_grad_2000, x_grid)\n",
    "# _, av_var_grad_5000, _ = average_shells(var_grad_5000, x_grid)"
   ]
  },
  {
   "cell_type": "code",
   "execution_count": null,
   "id": "8c8e57ae-6c83-4ca4-90aa-80646d30e654",
   "metadata": {},
   "outputs": [],
   "source": [
    "plt.semilogy(jnp.abs(avgrad_full[:45]))\n",
    "plt.semilogy(jnp.abs(av_var_grad_1000[:45]))\n",
    "# plt.semilogy(jnp.abs(av_var_grad_2000[:45]))\n",
    "# plt.semilogy(jnp.abs(av_var_grad_5000))\n",
    "\n",
    "plt.title(\"Variance of the non-preconditioned gradients\")\n",
    "\n",
    "plt.legend([\"mean grad\", \"var grad 1000\", \"var grad 2000\", \"var grad 5000\"])\n",
    "# plt.legend([ 'var grad 1000', 'var grad 2000', 'var grad 5000'])"
   ]
  },
  {
   "cell_type": "markdown",
   "id": "ab84d065-7abe-4d53-bf72-170706a9cf99",
   "metadata": {},
   "source": [
    "#### Without thresholding"
   ]
  },
  {
   "cell_type": "code",
   "execution_count": null,
   "id": "81ffcee3-bd3e-44bd-ad98-248361fd49f4",
   "metadata": {},
   "outputs": [],
   "source": [
    "grad_full_p_d0 = 1 / D0 * grad_full\n",
    "\n",
    "mean_grad_1000_p_d0, var_grad_1000_p_d0 = compute_grad_variance(key, vol, 1000, 1 / D0)\n",
    "# mean_grad_2000_p, var_grad_2000_p = compute_grad_variance(key, vol, 2000, 1/D0hat)\n",
    "# mean_grad_5000_p, var_grad_5000_p = compute_grad_variance(key, vol, 5000, 1/D0)"
   ]
  },
  {
   "cell_type": "code",
   "execution_count": null,
   "id": "0501879b-68f7-440b-8595-f5d156bf400d",
   "metadata": {},
   "outputs": [],
   "source": [
    "assert jnp.max(jnp.abs(mean_grad_1000_p_d0 - grad_full_p_d0)) < 1e-10"
   ]
  },
  {
   "cell_type": "code",
   "execution_count": null,
   "id": "c2fe7e79-283a-4c21-a192-0eec7f2998be",
   "metadata": {},
   "outputs": [],
   "source": [
    "jnp.save(f\"{out_dir}/grad_full_p_d0.npy\", grad_full_p_d0)\n",
    "jnp.save(f\"{out_dir}/var_grad_1000_p_d0.npy\", var_grad_1000_p_d0)"
   ]
  },
  {
   "cell_type": "code",
   "execution_count": null,
   "id": "fd34a251-347c-405d-bf4f-415e64c43f21",
   "metadata": {},
   "outputs": [],
   "source": [
    "_, avgrad_full_p_d0, _, _, _ = average_shells(\n",
    "    jnp.abs(grad_full_p_d0), x_grid\n",
    ")  # The median computation doesn't like complex numbers\n",
    "_, av_var_grad_1000_p_d0, _, _, _ = average_shells(var_grad_1000_p_d0, x_grid)"
   ]
  },
  {
   "cell_type": "code",
   "execution_count": null,
   "id": "f50b1c1e-1595-4050-a0de-8a6ecc2a84c8",
   "metadata": {},
   "outputs": [],
   "source": [
    "plt.semilogy(jnp.abs(avgrad_full_p_d0[:]))\n",
    "plt.semilogy(jnp.abs(av_var_grad_1000_p_d0[:]))\n",
    "\n",
    "plt.title(\"Variance of the preconditioned gradients, no thresholding\")\n",
    "plt.legend([\"mean grad\", \"var grad 1000\"])"
   ]
  },
  {
   "cell_type": "markdown",
   "id": "0ecadab7-bd26-40ca-b3ac-2780f71caed6",
   "metadata": {},
   "source": [
    "#### With thresholding"
   ]
  },
  {
   "cell_type": "code",
   "execution_count": null,
   "id": "3f12c6a7-9741-4378-a00c-d053988c1aa0",
   "metadata": {},
   "outputs": [],
   "source": [
    "grad_full_p = 1 / D0hat * grad_full\n",
    "\n",
    "mean_grad_1000_p, var_grad_1000_p = compute_grad_variance(key, vol, 1000, 1 / D0hat)\n",
    "# mean_grad_2000_p, var_grad_2000_p = compute_grad_variance(key, vol, 2000, 1/D0hat)\n",
    "# mean_grad_5000_p, var_grad_5000_p = compute_grad_variance(key, vol, 5000, 1/D0)"
   ]
  },
  {
   "cell_type": "code",
   "execution_count": null,
   "id": "b53546e8-fdc6-4c47-8d22-32c5fe34a452",
   "metadata": {},
   "outputs": [],
   "source": [
    "# Sanity checks\n",
    "assert jnp.max(jnp.abs(mean_grad_1000_p - grad_full_p)) < 1e-11\n",
    "# assert(jnp.max(jnp.abs(mean_grad_2000_p - grad_full_p)) < 1e-9)\n",
    "# assert(jnp.max(jnp.abs(mean_grad_5000_p - grad_full_p)) < 1e-10)"
   ]
  },
  {
   "cell_type": "code",
   "execution_count": null,
   "id": "d89d4d9f-6ce0-4014-bbff-c0e6e71cba46",
   "metadata": {},
   "outputs": [],
   "source": [
    "jnp.max(jnp.abs(mean_grad_1000_p - grad_full_p))"
   ]
  },
  {
   "cell_type": "code",
   "execution_count": null,
   "id": "491ab29e-2afb-4df1-bab7-2a4cfe35a579",
   "metadata": {},
   "outputs": [],
   "source": [
    "jnp.save(f\"{out_dir}/grad_full_p_dhat.npy\", grad_full_p)\n",
    "jnp.save(f\"{out_dir}/var_grad_1000_p_dhat.npy\", var_grad_1000_p)"
   ]
  },
  {
   "cell_type": "code",
   "execution_count": null,
   "id": "17cae7bf-0917-48be-98f5-78445ed39577",
   "metadata": {},
   "outputs": [],
   "source": [
    "_, avgrad_full_p, _, _, _ = average_shells(\n",
    "    jnp.abs(grad_full_p), x_grid\n",
    ")  # The median computation doesn't like complex numbers\n",
    "_, av_var_grad_1000_p, _, _, _ = average_shells(var_grad_1000_p, x_grid)\n",
    "# _, av_var_grad_2000_p, _, _, _= average_shells(var_grad_2000_p, x_grid)\n",
    "# _, av_var_grad_5000_p, _ = average_shells(var_grad_5000_p, x_grid)"
   ]
  },
  {
   "cell_type": "code",
   "execution_count": null,
   "id": "411fdea2-c050-4765-b162-063a8b3e525b",
   "metadata": {},
   "outputs": [],
   "source": [
    "plt.semilogy(jnp.abs(avgrad_full_p[:45]))\n",
    "plt.semilogy(jnp.abs(av_var_grad_1000_p[:45]))\n",
    "\n",
    "\n",
    "plt.title(\"Variance of the preconditioned gradients, with thresholding\")\n",
    "plt.legend([\"mean grad\", \"var grad 1000\"])"
   ]
  },
  {
   "cell_type": "markdown",
   "id": "e0eb0f63-657e-4ab4-8044-cdb0012636a0",
   "metadata": {},
   "source": [
    "#### The error and the variance of the _preconditioned_ gradient go up at the same time, so they are related, so maybe their common thing is the problem: the preconditioner"
   ]
  },
  {
   "cell_type": "code",
   "execution_count": null,
   "id": "ac9261d1-4f7a-4de2-8f83-1148f19a2403",
   "metadata": {},
   "outputs": [],
   "source": [
    "plt.semilogy(averr_rec_p_1000[10][:45])\n",
    "plt.semilogy(jnp.abs(av_var_grad_1000_p[:50][:45]))"
   ]
  },
  {
   "cell_type": "markdown",
   "id": "092ab529-ed8a-429d-b38a-b5e233bf70cf",
   "metadata": {},
   "source": [
    "#### Random plots of the (intermediate) reconstructions and errors"
   ]
  },
  {
   "cell_type": "code",
   "execution_count": null,
   "id": "eddd73ce-437a-4571-80f4-361e2768a82e",
   "metadata": {},
   "outputs": [],
   "source": [
    "slice_idx = 0\n",
    "\n",
    "err_rec = jnp.max(jnp.abs(jnp.fft.fftshift(iterates_rec[-1] - v_lbfgs)), axis=2)\n",
    "# plt.imshow(err_rec)\n",
    "plt.imshow(\n",
    "    jnp.max(jnp.abs(jnp.fft.fftshift(iterates_rec[-1])), axis=2), vmin=0, vmax=8000\n",
    ")\n",
    "plt.colorbar()\n",
    "\n",
    "print(jnp.sum(jnp.abs(iterates_rec[-1]) > 6000))\n",
    "print(jnp.sum(err_rec > 8000))"
   ]
  },
  {
   "cell_type": "code",
   "execution_count": null,
   "id": "9478c064-783d-47bd-bde8-1e7da477ea2b",
   "metadata": {},
   "outputs": [],
   "source": [
    "err_rec_p = jnp.max(jnp.abs(jnp.fft.fftshift(iterates_p_rec5000[-1] - v_lbfgs)), axis=2)\n",
    "\n",
    "# plt.imshow(err_rec_p)\n",
    "plt.imshow(\n",
    "    jnp.max(jnp.abs(jnp.fft.fftshift(iterates_p_rec5000[-9])), axis=2),\n",
    "    vmin=0,\n",
    "    vmax=8000,\n",
    ")\n",
    "plt.colorbar()\n",
    "\n",
    "print(jnp.sum(jnp.abs(iterates_p_rec1000[10]) > 8000))\n",
    "# print(jnp.sum(err_rec_p > 8000))"
   ]
  },
  {
   "cell_type": "code",
   "execution_count": null,
   "id": "65b64496-935a-45b8-a712-d411296973bf",
   "metadata": {},
   "outputs": [],
   "source": [
    "plt.imshow(jnp.max(jnp.abs(jnp.fft.fftshift(v_lbfgs[:, :, :])), axis=2), vmax=8000)\n",
    "plt.colorbar()\n",
    "\n",
    "print(jnp.sum(jnp.abs(v_lbfgs) > 6000))"
   ]
  },
  {
   "cell_type": "code",
   "execution_count": null,
   "id": "2de3833d-1094-4b27-9019-6e085b640053",
   "metadata": {},
   "outputs": [],
   "source": [
    "plt.imshow(jnp.max(jnp.fft.fftshift(jnp.abs(vvv)), axis=2), vmax=8000)\n",
    "plt.colorbar()"
   ]
  },
  {
   "cell_type": "markdown",
   "id": "650bb4e7-0808-4117-a4d7-5e01838042c3",
   "metadata": {},
   "source": [
    "### FSC with the ground truth"
   ]
  },
  {
   "cell_type": "code",
   "execution_count": null,
   "id": "96ae50c8-05df-4c7e-9348-0392847a0664",
   "metadata": {},
   "outputs": [],
   "source": [
    "res_sgd, fsc_sgd, shell_points = calc_fsc(v_lbfgs, v_rec, [1, nx_crop])\n",
    "res_sgd_p, fsc_sgd_p, shell_points = calc_fsc(v_lbfgs, v_p_rec, [1, nx_crop])\n",
    "res_oasis, fsc_oasis, shell_points = calc_fsc(v_lbfgs, v_rec_o, [1, nx_crop])"
   ]
  },
  {
   "cell_type": "code",
   "execution_count": null,
   "id": "3ca0fec4-198e-4fd0-9a6e-960de38fe0fa",
   "metadata": {},
   "outputs": [],
   "source": [
    "res_angs = nx0 * pixel_size[0] / res_sgd\n",
    "print(f\"Max resolution = {res_angs[-1]:0.02f} angs\")\n",
    "plt.semilogx(res_angs, fsc_sgd)\n",
    "plt.semilogx(res_angs, fsc_sgd_p)\n",
    "plt.semilogx(res_angs, fsc_oasis)\n",
    "\n",
    "plt.gca().invert_xaxis()\n",
    "plt.title(\"FSC\")\n",
    "plt.legend([\"SGD\", \"SGD+p\", \"OASIS\"])\n",
    "# plt.legend([\"SGD\", \"SGD+p\"])"
   ]
  },
  {
   "cell_type": "markdown",
   "id": "39f6034e-de7b-4987-a5dc-358dfb0a75b2",
   "metadata": {},
   "source": [
    "### CTF"
   ]
  },
  {
   "cell_type": "code",
   "execution_count": null,
   "id": "8eff14d8-08ca-462e-891e-b43a32d60067",
   "metadata": {},
   "outputs": [],
   "source": [
    "print(ctf_params.shape)\n",
    "\n",
    "x_freq = jnp.fft.fftfreq(int(x_grid[1]), 1 / (x_grid[0] * x_grid[1]))\n",
    "X, Y = jnp.meshgrid(x_freq, x_freq)\n",
    "r = jnp.sqrt(X**2 + Y**2)\n",
    "theta = jnp.arctan2(Y, X)\n",
    "\n",
    "# ctf = [eval_ctf(r, theta, ctf_params[i]) for i in range(N)]"
   ]
  },
  {
   "cell_type": "code",
   "execution_count": null,
   "id": "84f5e2fe-c278-4439-a3b7-bb01fc876ae3",
   "metadata": {},
   "outputs": [],
   "source": [
    "def compute_ctfs(ctf_params):\n",
    "    idx_batches = np.array_split(jnp.arange(N), 500)\n",
    "\n",
    "    ctfs = []\n",
    "    for idx in tqdm(idx_batches):\n",
    "        ctf = jax.vmap(eval_ctf, in_axes=(None, None, 0))(r, theta, ctf_params[idx])\n",
    "        ctfs.append(np.array(ctf))\n",
    "\n",
    "    ctfs = np.concatenate(ctfs, axis=0)\n",
    "    return ctfs"
   ]
  },
  {
   "cell_type": "code",
   "execution_count": null,
   "id": "e44917c0-e115-4094-bb89-a19edfbc081a",
   "metadata": {},
   "outputs": [],
   "source": [
    "ctfs = compute_ctfs(ctf_params)"
   ]
  },
  {
   "cell_type": "code",
   "execution_count": null,
   "id": "dd3a4584-9b35-4d7e-a73b-85b424c666f1",
   "metadata": {},
   "outputs": [],
   "source": [
    "c = np.concatenate(ctfs, axis=0)"
   ]
  },
  {
   "cell_type": "code",
   "execution_count": null,
   "id": "886623b5-9543-466b-a2a4-b362d008c508",
   "metadata": {},
   "outputs": [],
   "source": [
    "ctfs.shape"
   ]
  },
  {
   "cell_type": "code",
   "execution_count": null,
   "id": "da0d9c84-0e55-4bec-86b0-a3683c7c530f",
   "metadata": {},
   "outputs": [],
   "source": [
    "for i in range(1):\n",
    "    plt.plot((ctfs[i, 0, : int(192 / 2)]))"
   ]
  },
  {
   "cell_type": "code",
   "execution_count": null,
   "id": "0f81f225-27a7-4c9f-8f99-e9a312fcc5ff",
   "metadata": {},
   "outputs": [],
   "source": [
    "ctf"
   ]
  },
  {
   "cell_type": "code",
   "execution_count": null,
   "id": "b872780d-b157-4ea4-897c-f4a5176b08aa",
   "metadata": {},
   "outputs": [],
   "source": [
    "ctfs_sq = ctfs**2"
   ]
  },
  {
   "cell_type": "code",
   "execution_count": null,
   "id": "4080e417-4a61-4fba-9a21-975256b7e843",
   "metadata": {},
   "outputs": [],
   "source": [
    "plt.imshow(jnp.fft.fftshift(ctfs_sq[0]))\n",
    "plt.colorbar()"
   ]
  },
  {
   "cell_type": "code",
   "execution_count": null,
   "id": "566e322e-2c98-42f6-9a6d-79c78a849c47",
   "metadata": {},
   "outputs": [],
   "source": [
    "ctf_mean = np.mean(ctfs, axis=0)\n",
    "\n",
    "plt.imshow(jnp.fft.fftshift(ctf_mean))\n",
    "plt.colorbar()"
   ]
  },
  {
   "cell_type": "code",
   "execution_count": null,
   "id": "4b94e4e3-7054-4a16-bb47-cd182737c35d",
   "metadata": {},
   "outputs": [],
   "source": [
    "ctf_sq_mean = np.mean(ctfs_sq, axis=0)\n",
    "\n",
    "plt.imshow(jnp.fft.fftshift(ctf_sq_mean))\n",
    "plt.colorbar()"
   ]
  },
  {
   "cell_type": "code",
   "execution_count": null,
   "id": "dc8f2e95-1f53-4661-a281-ca1c45a1d396",
   "metadata": {},
   "outputs": [],
   "source": [
    "_, ctf_avg, _ = average_shells_2D(ctf_mean**2, x_grid)\n",
    "plt.semilogy(ctf_avg)"
   ]
  },
  {
   "cell_type": "code",
   "execution_count": null,
   "id": "3bb3f0c9-c192-485d-a221-ce67d459cf1a",
   "metadata": {},
   "outputs": [],
   "source": [
    "_, ctf_sq_avg, _ = average_shells_2D(ctf_sq_mean, x_grid)\n",
    "plt.plot(ctf_sq_avg)"
   ]
  },
  {
   "cell_type": "code",
   "execution_count": null,
   "id": "7811fc53-edec-4d80-add0-928e2bba7ff0",
   "metadata": {},
   "outputs": [],
   "source": [
    "ctf_mean_sq = ctf_mean**2\n",
    "plt.semilogy(N * ctf_mean_sq[0, : int(192 / 2)])\n",
    "print(jnp.min(N * ctf_mean_sq[0, : int(192 / 2)]))"
   ]
  },
  {
   "cell_type": "code",
   "execution_count": null,
   "id": "04bbd1cc-2a88-4355-b667-c517c890c416",
   "metadata": {},
   "outputs": [],
   "source": [
    "plt.plot(ctf_mean[0, : int(192 / 2)])"
   ]
  },
  {
   "cell_type": "code",
   "execution_count": null,
   "id": "c2f28f03-e4e8-412c-99b4-c15b9cca26ac",
   "metadata": {},
   "outputs": [],
   "source": [
    "plt.semilogy(np.abs(ctf_avg))"
   ]
  },
  {
   "cell_type": "code",
   "execution_count": null,
   "id": "22afdc20-fe1e-4bfc-8b3d-eab0fdb974da",
   "metadata": {},
   "outputs": [],
   "source": [
    "ctf_avg[67]"
   ]
  },
  {
   "cell_type": "code",
   "execution_count": null,
   "id": "0f476c42-4ce3-4562-92dc-5cb19808245f",
   "metadata": {},
   "outputs": [],
   "source": []
  },
  {
   "cell_type": "markdown",
   "id": "d91368d1-8091-42f6-8609-0e6a61755889",
   "metadata": {},
   "source": [
    "### Bonus: CG"
   ]
  },
  {
   "cell_type": "code",
   "execution_count": null,
   "id": "7ab03bae-e4db-4d49-a5ca-4c3e45618f17",
   "metadata": {},
   "outputs": [],
   "source": [
    "with jax.default_device(jax.devices(\"cpu\")[0]):\n",
    "    AA, Ab = get_cg_vol_ops(\n",
    "        gradv_obj.grad_loss_volume_sum,\n",
    "        angles,\n",
    "        shifts,\n",
    "        ctf_params,\n",
    "        imgs_f,\n",
    "        v_rec.shape,\n",
    "        sigma_noise,\n",
    "    )"
   ]
  },
  {
   "cell_type": "code",
   "execution_count": null,
   "id": "d2594de7-5267-49e1-aefe-d9a840791592",
   "metadata": {},
   "outputs": [],
   "source": [
    "N_iter = 1"
   ]
  },
  {
   "cell_type": "code",
   "execution_count": null,
   "id": "40cfcec5-5920-48e6-87e6-019feb04a55f",
   "metadata": {},
   "outputs": [],
   "source": [
    "t0 = time.time()\n",
    "v_rec_cg, k, v_rec_cg_all = cg(AA, Ab, x0, N_iter, verbose=True)\n",
    "t1 = time.time() - t0"
   ]
  },
  {
   "cell_type": "code",
   "execution_count": null,
   "id": "10047cb0-5f0d-43a6-ae78-4acc4fd34b82",
   "metadata": {},
   "outputs": [],
   "source": [
    "print(t1)"
   ]
  },
  {
   "cell_type": "code",
   "execution_count": null,
   "id": "be434625-4251-41b9-a077-d9bf9599c241",
   "metadata": {},
   "outputs": [],
   "source": [
    "loss_cg = jax.vmap(loss_func, in_axes=(0, None))(jnp.array(v_rec_cg_all), jnp.arange(N))"
   ]
  },
  {
   "cell_type": "code",
   "execution_count": null,
   "id": "a0e18a92-f020-45ba-b95a-b837f80b2a6c",
   "metadata": {},
   "outputs": [],
   "source": [
    "mip_z(np.fft.fftshift(np.abs(v_rec_cg)))\n",
    "plt.colorbar()"
   ]
  },
  {
   "cell_type": "code",
   "execution_count": null,
   "id": "6e064187-10b9-43cc-bedc-bcb3c2284f9f",
   "metadata": {},
   "outputs": [],
   "source": [
    "v_rec_cgl, _ = rescale_larger_grid(v_rec_cg, x_grid, nx0)\n",
    "vr_cg = jnp.real(jnp.fft.fftshift(jnp.fft.ifftn(v_rec_cgl)))\n",
    "\n",
    "mip_z(vr_cg)\n",
    "plt.colorbar()"
   ]
  },
  {
   "cell_type": "code",
   "execution_count": null,
   "id": "75c69e1c-7a68-4f51-a349-788611743471",
   "metadata": {},
   "outputs": [],
   "source": [
    "with mrcfile.new(f\"{out_dir}/v_rec_cg.mrc\", overwrite=True) as mrc:\n",
    "    mrc.set_data(vr_cg.astype(np.float32))"
   ]
  },
  {
   "cell_type": "code",
   "execution_count": null,
   "id": "6ed72754-1a9a-401c-8a19-a9ad730d986f",
   "metadata": {},
   "outputs": [],
   "source": [
    "plt.plot(loss_rec)\n",
    "plt.plot(loss_p_rec)\n",
    "plt.plot(loss_o)\n",
    "plt.plot(loss_cg)\n",
    "\n",
    "plt.plot(loss_bfgs * jnp.ones(loss_rec.shape))\n",
    "\n",
    "plt.legend([\"SGD\", \"SGD+p\", \"OASIS\", \"CG\", \"BFGS\"])"
   ]
  },
  {
   "cell_type": "code",
   "execution_count": null,
   "id": "68c74836-8c1f-4eef-8212-91d7ec0929f5",
   "metadata": {},
   "outputs": [],
   "source": [
    "# res, fsc_cg, shell_points = calc_fsc(v_rec_cg1, v_rec_cg2, [1, nx_crop])\n",
    "#\n",
    "# res_angs = nx0 * pixel_size[0]/res\n",
    "# plt.semilogx(res_angs, fsc_cg)\n",
    "# plt.gca().invert_xaxis()\n",
    "# plt.title(\"FSC\")"
   ]
  },
  {
   "cell_type": "code",
   "execution_count": null,
   "id": "504973c1-7aed-4842-ada7-bb4eefb9bf4b",
   "metadata": {},
   "outputs": [],
   "source": [
    "loss_x0 = loss_func(x0, jnp.arange(N)) * jnp.ones((N_iter,))"
   ]
  },
  {
   "cell_type": "code",
   "execution_count": null,
   "id": "3e98c8f0-daee-4f5f-ab34-dd690b103e1a",
   "metadata": {},
   "outputs": [],
   "source": [
    "print(loss_func(v_rec, jnp.arange(N)))\n",
    "print(loss_func(v_p_rec, jnp.arange(N)))\n",
    "print(loss_func(v_lbfgs, jnp.arange(N)))\n",
    "print(loss_func(v_rec_o, jnp.arange(N)))\n",
    "print(loss_func(v_rec_cg, jnp.arange(N)))"
   ]
  },
  {
   "cell_type": "markdown",
   "id": "3d0eaf79-ad75-4c01-b524-dd628542c993",
   "metadata": {},
   "source": [
    "### Notes:\n",
    "\n",
    "* It's important to use a large batch size for both SGD and OASIS: 1000 for 64-128px is good.\n",
    "* The Armijo line search works well with c=0.99."
   ]
  }
 ],
 "metadata": {
  "kernelspec": {
   "display_name": "Python 3 (ipykernel)",
   "language": "python",
   "name": "python3"
  },
  "language_info": {
   "codemirror_mode": {
    "name": "ipython",
    "version": 3
   },
   "file_extension": ".py",
   "mimetype": "text/x-python",
   "name": "python",
   "nbconvert_exporter": "python",
   "pygments_lexer": "ipython3",
   "version": "3.11.10"
  },
  "vscode": {
   "interpreter": {
    "hash": "b0fa6594d8f4cbf19f97940f81e996739fb7646882a419484c72d19e05852a7e"
   }
  }
 },
 "nbformat": 4,
 "nbformat_minor": 5
}
