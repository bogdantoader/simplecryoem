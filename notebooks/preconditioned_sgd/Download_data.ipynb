{
 "cells": [
  {
   "cell_type": "code",
   "execution_count": 1,
   "id": "da2f9ebf-0d09-46ad-88c9-8bcc97ef3d73",
   "metadata": {},
   "outputs": [],
   "source": [
    "import os\n",
    "import numpy as np"
   ]
  },
  {
   "cell_type": "markdown",
   "id": "d5452d3f",
   "metadata": {},
   "source": [
    "### Some notes\n",
    "* First need to install `empiarreader` using the \"For Developers\" route with poetry to have access to the CLI"
   ]
  },
  {
   "cell_type": "code",
   "execution_count": 2,
   "id": "6b371165",
   "metadata": {},
   "outputs": [],
   "source": [
    "empiar_id = \"10076\""
   ]
  },
  {
   "cell_type": "code",
   "execution_count": 3,
   "id": "787437f5",
   "metadata": {},
   "outputs": [
    {
     "name": "stdout",
     "output_type": "stream",
     "text": [
      "/Users/bogdan/Work/Projects/cryoem/simplecryoem\n"
     ]
    }
   ],
   "source": [
    "# set PROJECT_ROOT to the root directory of the project relaetive to current notebook\n",
    "ROOT_DIR = os.path.abspath(os.path.join(os.getcwd(), os.pardir, os.pardir))\n",
    "print(ROOT_DIR)"
   ]
  },
  {
   "cell_type": "code",
   "execution_count": 4,
   "id": "53842f22",
   "metadata": {},
   "outputs": [
    {
     "name": "stdout",
     "output_type": "stream",
     "text": [
      "Created data directory: /Users/bogdan/Work/Projects/cryoem/simplecryoem/data/10076\n"
     ]
    }
   ],
   "source": [
    "# Check that empiar_id directory exists in the ROOT_DIR/data directory\n",
    "data_dir = os.path.join(ROOT_DIR, \"data\", empiar_id)\n",
    "\n",
    "if os.path.isdir(data_dir):\n",
    "    print(\"Found data directory: {}\".format(data_dir))\n",
    "else:\n",
    "    # create data directory\n",
    "    os.mkdir(data_dir)\n",
    "    print(\"Created data directory: {}\".format(data_dir))"
   ]
  },
  {
   "cell_type": "code",
   "execution_count": 5,
   "id": "c495dbe1",
   "metadata": {},
   "outputs": [
    {
     "name": "stdout",
     "output_type": "stream",
     "text": [
      "https://ftp.ebi.ac.uk/empiar/world_availability/10076/data/Parameters.star\n"
     ]
    },
    {
     "name": "stderr",
     "output_type": "stream",
     "text": [
      "sh: wget: command not found\n",
      "  % Total    % Received % Xferd  Average Speed   Time    Time     Time  Current\n",
      "                                 Dload  Upload   Total   Spent    Left  Speed\n",
      "100 10.6M  100 10.6M    0     0   233k      0  0:00:46  0:00:46 --:--:--  286k\n"
     ]
    }
   ],
   "source": [
    "saved_search_path = os.path.join(data_dir, \"saved_search.txt\")\n",
    "search_cmd = f'empiarreader search --entry {empiar_id} --dir \"data\" --select \"*.mrc\" --save_search {saved_search_path}'\n",
    "os.system(search_cmd)\n",
    "\n",
    "save_cmd = f\"empiarreader download --download {data_dir}/saved_search.txt --save_dir {data_dir}\"\n",
    "os.system(save_cmd)\n",
    "\n",
    "os.remove(saved_search_path)"
   ]
  }
 ],
 "metadata": {
  "kernelspec": {
   "display_name": "Python 3 (ipykernel)",
   "language": "python",
   "name": "python3"
  },
  "language_info": {
   "codemirror_mode": {
    "name": "ipython",
    "version": 3
   },
   "file_extension": ".py",
   "mimetype": "text/x-python",
   "name": "python",
   "nbconvert_exporter": "python",
   "pygments_lexer": "ipython3",
   "version": "3.11.6"
  }
 },
 "nbformat": 4,
 "nbformat_minor": 5
}
